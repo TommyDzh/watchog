{
 "cells": [
  {
   "cell_type": "code",
   "execution_count": 2,
   "metadata": {},
   "outputs": [
    {
     "name": "stderr",
     "output_type": "stream",
     "text": [
      "[nltk_data] Downloading package punkt to /home/zhihao/nltk_data...\n",
      "[nltk_data]   Package punkt is already up-to-date!\n",
      "[nltk_data] Downloading package stopwords to /home/zhihao/nltk_data...\n",
      "[nltk_data]   Package stopwords is already up-to-date!\n"
     ]
    }
   ],
   "source": [
    "import argparse\n",
    "import json\n",
    "import math\n",
    "import os\n",
    "import random\n",
    "from time import time\n",
    "import mlflow\n",
    "import numpy as np\n",
    "import pandas as pd\n",
    "from sklearn.metrics import confusion_matrix, f1_score\n",
    "from collections import defaultdict\n",
    "\n",
    "# import pytrec_eval\n",
    "import torch\n",
    "from torch.nn import CrossEntropyLoss, BCEWithLogitsLoss\n",
    "import torch.nn.functional as F\n",
    "from torch.utils.data import DataLoader, RandomSampler\n",
    "from transformers import BertTokenizer, BertForSequenceClassification, BertConfig, AutoTokenizer\n",
    "from transformers import AdamW, get_linear_schedule_with_warmup\n",
    "from accelerate import Accelerator\n",
    "from copy import deepcopy\n",
    "\n",
    "torch.backends.cuda.matmul.allow_tf32 = True\n",
    "\n",
    "from watchog.dataset import (\n",
    "    # collate_fn,\n",
    "    TURLColTypeTablewiseDataset,\n",
    "    TURLRelExtTablewiseDataset,\n",
    "    SatoCVTablewiseDataset,\n",
    "    ColPoplTablewiseDataset\n",
    ")\n",
    "\n",
    "from watchog.dataset import TableDataset, SupCLTableDataset, SemtableCVTablewiseDataset, GittablesColwiseDataset, GittablesTablewiseDataset\n",
    "from watchog.model import BertMultiPairPooler, BertForMultiOutputClassification, BertForMultiOutputClassificationColPopl\n",
    "from watchog.model import SupCLforTable, UnsupCLforTable, lm_mp\n",
    "from watchog.utils import load_checkpoint, f1_score_multilabel, collate_fn, get_col_pred, ColPoplEvaluator\n",
    "from watchog.utils import task_num_class_dict\n",
    "from accelerate import DistributedDataParallelKwargs\n",
    "import wandb"
   ]
  },
  {
   "cell_type": "code",
   "execution_count": 3,
   "metadata": {},
   "outputs": [],
   "source": [
    "from argparse import Namespace\n",
    "import torch\n",
    "import random\n",
    "import pandas as pd\n",
    "import numpy as np\n",
    "import os\n",
    "import pickle\n",
    "import json\n",
    "import re\n",
    "import transformers\n",
    "from torch.utils import data\n",
    "from torch.nn.utils import rnn\n",
    "from transformers import AutoTokenizer\n",
    "\n",
    "from typing import List\n",
    "from functools import reduce\n",
    "import operator\n",
    "\n",
    "from itertools import chain\n",
    "import copy\n",
    "class SingleColDataset(data.Dataset):\n",
    "    def __init__(\n",
    "            self,\n",
    "            group_df,\n",
    "            target_col_idx: int,\n",
    "            tokenizer: AutoTokenizer,\n",
    "            max_length: int = 64,\n",
    "            device: torch.device = None,\n",
    "            max_num_col=8,\n",
    "            random_sample=False, # TODO\n",
    "            train_only=True,\n",
    "            context_encoding_type=\"v1\",\n",
    "            adaptive_max_length=False,\n",
    "            ): # TODO: not used\n",
    "        if device is None:\n",
    "            device = torch.device('cpu')\n",
    "        assert max_num_col >= 1, \"max_num_col must be greater than 1\"\n",
    "        assert 512//max_num_col >= max_length  , \"max_length cannot be smaller than 512//max_num_col\"\n",
    "\n",
    "\n",
    "\n",
    "        \n",
    "        data_list = []\n",
    "        \n",
    "\n",
    "\n",
    " \n",
    "        \n",
    "        # df.drop(df[(df['data'] == '') & (df['class_id'] == -1)].index, inplace=True)\n",
    "        group_df.sort_values(by=['col_idx'], inplace=True)\n",
    "        labeled_columns = group_df[group_df['class_id'] > -1]\n",
    "        # if len(labeled_columns) > 1:\n",
    "        #     print(\"Here\")\n",
    "        unlabeled_columns = group_df[group_df['class_id'] == -1]\n",
    "        for idx in [target_col_idx]:\n",
    "            token_ids_list = []\n",
    "            target_column = labeled_columns.loc[idx]\n",
    "            rest_columns = labeled_columns[labeled_columns.index != idx] # the rest of labeled columns\n",
    "            # tokenize target column\n",
    "            token_ids_list.append(tokenizer.encode(\n",
    "            tokenizer.cls_token + \" \" + target_column[\"data\"], add_special_tokens=False, max_length=max_length, truncation=True))\n",
    "            # tokenize context\n",
    "            unlabeled_columns = unlabeled_columns\n",
    "\n",
    "            group_df = pd.concat([rest_columns, unlabeled_columns])\n",
    "            group_df = group_df[: max_num_col-1] if not random_sample  else group_df.sample(min(max_num_col-1, len(group_df))) # TODO\n",
    "            group_df.sort_values(by=['col_idx'], inplace=True)\n",
    "            \n",
    "            if adaptive_max_length and (len(group_df)+1) < max_num_col:\n",
    "                cur_maxlen = 512 // (len(group_df)+1)\n",
    "            else:\n",
    "                cur_maxlen = max_length\n",
    "                \n",
    "            if context_encoding_type == \"v0\":\n",
    "                token_ids_list += group_df[\"data\"].apply(lambda x: tokenizer.encode(\n",
    "                tokenizer.cls_token + \" \" + x, add_special_tokens=False, max_length=cur_maxlen, truncation=True)).tolist(\n",
    "                )\n",
    "            elif context_encoding_type == \"v0.1\": # only one cls token to separate context and target\n",
    "                token_ids_list.append([tokenizer.cls_token_id])\n",
    "                token_ids_list += group_df[\"data\"].apply(lambda x: tokenizer.encode(\n",
    "                \" \" + x, add_special_tokens=False, max_length=cur_maxlen-1, truncation=True)).tolist(\n",
    "                )                    \n",
    "            elif context_encoding_type == \"v1\":\n",
    "                token_ids_list += group_df[\"data\"].apply(lambda x: tokenizer.encode(\n",
    "                tokenizer.sep_token + \" \" + x, add_special_tokens=False, max_length=cur_maxlen, truncation=True)).tolist(\n",
    "                )                    \n",
    "            elif context_encoding_type == \"v1.1\": # only one cls token to separate context and target\n",
    "                token_ids_list.append([tokenizer.sep_token_id])\n",
    "                token_ids_list += group_df[\"data\"].apply(lambda x: tokenizer.encode(\n",
    "                \" \" + x, add_special_tokens=False, max_length=cur_maxlen-1, truncation=True)).tolist(\n",
    "                )   \n",
    "            else:\n",
    "                raise ValueError(\"context_encoding_type {} is not supported\".format(context_encoding_type))\n",
    "            token_ids = torch.LongTensor(reduce(operator.add,\n",
    "                                                token_ids_list)).to(device)\n",
    "            cls_index_list = [0] \n",
    "            for cls_index in cls_index_list:\n",
    "                assert token_ids[\n",
    "                    cls_index] == tokenizer.cls_token_id, \"cls_indexes validation\"\n",
    "            cls_indexes = torch.LongTensor(cls_index_list).to(device)\n",
    "            class_ids = torch.LongTensor([target_column[\"class_id\"]]\n",
    "                ).to(device)\n",
    "            data_list.append(\n",
    "                [0,\n",
    "                len(group_df), token_ids, class_ids, cls_indexes])\n",
    "        self.table_df = pd.DataFrame(data_list,\n",
    "                                     columns=[\n",
    "                                         \"table_id\", \"num_col\", \"data_tensor\",\n",
    "                                         \"label_tensor\", \"cls_indexes\"\n",
    "                                     ])\n",
    "        \"\"\"\n",
    "        # NOTE: msato contains a small portion of single-col tables. keep it to be consistent.  \n",
    "        if multicol_only:\n",
    "            # Check\n",
    "            num_all_tables = len(self.table_df)\n",
    "            self.table_df = self.table_df[self.table_df[\"num_col\"] > 1]\n",
    "            assert len(self.table_df) == num_all_tables\n",
    "        \"\"\"\n",
    "\n",
    "    def __len__(self):\n",
    "        return len(self.table_df)\n",
    "\n",
    "    def __getitem__(self, idx):\n",
    "        return {\n",
    "            \"data\": self.table_df.iloc[idx][\"data_tensor\"],\n",
    "            \"label\": self.table_df.iloc[idx][\"label_tensor\"]\n",
    "        }\n",
    "        #\"idx\": torch.LongTensor([idx])}\n",
    "        #\"cls_indexes\": self.table_df.iloc[idx][\"cls_indexes\"]}"
   ]
  },
  {
   "cell_type": "code",
   "execution_count": 4,
   "metadata": {},
   "outputs": [
    {
     "name": "stderr",
     "output_type": "stream",
     "text": [
      "Detected kernel version 5.4.0, which is below the recommended minimum of 5.5.0; this can cause the process to hang. It is recommended to upgrade the kernel to the minimum version or higher.\n"
     ]
    },
    {
     "name": "stdout",
     "output_type": "stream",
     "text": [
      "args={\"wandb\": false, \"model\": \"Watchog\", \"unlabeled_train_only\": false, \"context_encoding_type\": \"v0\", \"pool_version\": \"v0.2\", \"random_sample\": false, \"comment\": \"debug\", \"shortcut_name\": \"bert-base-uncased\", \"max_length\": 64, \"adaptive_max_length\": false, \"max_num_col\": 8, \"batch_size\": 16, \"epoch\": 1, \"random_seed\": 4649, \"train_n_seed_cols\": -1, \"num_classes\": 101, \"multi_gpu\": false, \"fp16\": false, \"warmup\": 0.0, \"lr\": 5e-05, \"task\": \"gt-semtab22-dbpedia-all0\", \"colpair\": false, \"metadata\": false, \"from_scratch\": false, \"cl_tag\": \"wikitables/simclr/bert_100000_10_32_256_5e-05_sample_row4,sample_row4_tfidf_entity_column_0.05_0_last.pt\", \"dropout_prob\": 0.5, \"eval_test\": true, \"small_tag\": \"semi1\", \"data_path\": \"/data/zhihao/TU/\", \"pretrained_ckpt_path\": \"/data/zhihao/TU/Watchog/model/\"}\n",
      "gt-semtab22-dbpedia-all0/wikitables-simclr-bert_100000_10_32_256_5e-05_sample_row4,sample_row4_tfidf_entity_column_0.05_0_last.pt_bert-base-uncased-poolsemi1-max_colsv0.2-rand8-bsFalse-ml16-ne64-do10.5\n"
     ]
    },
    {
     "name": "stderr",
     "output_type": "stream",
     "text": [
      "/tmp/ipykernel_3443309/2077486939.py:214: FutureWarning: You are using `torch.load` with `weights_only=False` (the current default value), which uses the default pickle module implicitly. It is possible to construct malicious pickle data which will execute arbitrary code during unpickling (See https://github.com/pytorch/pytorch/blob/main/SECURITY.md#untrusted-models for more details). In a future release, the default value for `weights_only` will be flipped to `True`. This limits the functions that could be executed during unpickling. Arbitrary objects will no longer be allowed to be loaded via this mode unless they are explicitly allowlisted by the user via `torch.serialization.add_safe_globals`. We recommend you start setting `weights_only=True` for any use case where you don't have full control of the loaded file. Please open an issue on GitHub for any issues related to this experimental feature.\n",
      "  ckpt = torch.load(ckpt_path, map_location=device)\n"
     ]
    },
    {
     "name": "stdout",
     "output_type": "stream",
     "text": [
      "Namespace(augment_op='sample_row4,sample_row4', batch_size=32, data_path='/data/zhihao/TU/TURL/', fp16=True, gpus='0', lm='bert', logdir='/data/zhihao/TU/Watchog/model/', lr=5e-05, max_len=256, mode='simclr', model='Watchog', n_epochs=10, pretrain_data='wikitables', pretrained_model_path='', projector=768, run_id=0, sample_meth='tfidf_entity', save_model=10, single_column=False, size=100000, table_order='column', temperature=0.05)\n"
     ]
    },
    {
     "name": "stderr",
     "output_type": "stream",
     "text": [
      "A parameter name that contains `beta` will be renamed internally to `bias`. Please use a different name to suppress this warning.\n",
      "A parameter name that contains `gamma` will be renamed internally to `weight`. Please use a different name to suppress this warning.\n",
      "A parameter name that contains `beta` will be renamed internally to `bias`. Please use a different name to suppress this warning.\n",
      "A parameter name that contains `gamma` will be renamed internally to `weight`. Please use a different name to suppress this warning.\n",
      "A parameter name that contains `beta` will be renamed internally to `bias`. Please use a different name to suppress this warning.\n",
      "A parameter name that contains `gamma` will be renamed internally to `weight`. Please use a different name to suppress this warning.\n",
      "A parameter name that contains `beta` will be renamed internally to `bias`. Please use a different name to suppress this warning.\n",
      "A parameter name that contains `gamma` will be renamed internally to `weight`. Please use a different name to suppress this warning.\n",
      "A parameter name that contains `beta` will be renamed internally to `bias`. Please use a different name to suppress this warning.\n",
      "A parameter name that contains `gamma` will be renamed internally to `weight`. Please use a different name to suppress this warning.\n",
      "A parameter name that contains `beta` will be renamed internally to `bias`. Please use a different name to suppress this warning.\n",
      "A parameter name that contains `gamma` will be renamed internally to `weight`. Please use a different name to suppress this warning.\n",
      "A parameter name that contains `beta` will be renamed internally to `bias`. Please use a different name to suppress this warning.\n",
      "A parameter name that contains `gamma` will be renamed internally to `weight`. Please use a different name to suppress this warning.\n",
      "A parameter name that contains `beta` will be renamed internally to `bias`. Please use a different name to suppress this warning.\n",
      "A parameter name that contains `gamma` will be renamed internally to `weight`. Please use a different name to suppress this warning.\n",
      "A parameter name that contains `beta` will be renamed internally to `bias`. Please use a different name to suppress this warning.\n",
      "A parameter name that contains `gamma` will be renamed internally to `weight`. Please use a different name to suppress this warning.\n",
      "A parameter name that contains `beta` will be renamed internally to `bias`. Please use a different name to suppress this warning.\n",
      "A parameter name that contains `gamma` will be renamed internally to `weight`. Please use a different name to suppress this warning.\n",
      "A parameter name that contains `beta` will be renamed internally to `bias`. Please use a different name to suppress this warning.\n",
      "A parameter name that contains `gamma` will be renamed internally to `weight`. Please use a different name to suppress this warning.\n",
      "A parameter name that contains `beta` will be renamed internally to `bias`. Please use a different name to suppress this warning.\n",
      "A parameter name that contains `gamma` will be renamed internally to `weight`. Please use a different name to suppress this warning.\n",
      "A parameter name that contains `beta` will be renamed internally to `bias`. Please use a different name to suppress this warning.\n",
      "A parameter name that contains `gamma` will be renamed internally to `weight`. Please use a different name to suppress this warning.\n",
      "A parameter name that contains `beta` will be renamed internally to `bias`. Please use a different name to suppress this warning.\n",
      "A parameter name that contains `gamma` will be renamed internally to `weight`. Please use a different name to suppress this warning.\n",
      "A parameter name that contains `beta` will be renamed internally to `bias`. Please use a different name to suppress this warning.\n",
      "A parameter name that contains `gamma` will be renamed internally to `weight`. Please use a different name to suppress this warning.\n",
      "A parameter name that contains `beta` will be renamed internally to `bias`. Please use a different name to suppress this warning.\n",
      "A parameter name that contains `gamma` will be renamed internally to `weight`. Please use a different name to suppress this warning.\n",
      "A parameter name that contains `beta` will be renamed internally to `bias`. Please use a different name to suppress this warning.\n",
      "A parameter name that contains `gamma` will be renamed internally to `weight`. Please use a different name to suppress this warning.\n",
      "A parameter name that contains `beta` will be renamed internally to `bias`. Please use a different name to suppress this warning.\n",
      "A parameter name that contains `gamma` will be renamed internally to `weight`. Please use a different name to suppress this warning.\n",
      "A parameter name that contains `beta` will be renamed internally to `bias`. Please use a different name to suppress this warning.\n",
      "A parameter name that contains `gamma` will be renamed internally to `weight`. Please use a different name to suppress this warning.\n",
      "A parameter name that contains `beta` will be renamed internally to `bias`. Please use a different name to suppress this warning.\n",
      "A parameter name that contains `gamma` will be renamed internally to `weight`. Please use a different name to suppress this warning.\n",
      "A parameter name that contains `beta` will be renamed internally to `bias`. Please use a different name to suppress this warning.\n",
      "A parameter name that contains `gamma` will be renamed internally to `weight`. Please use a different name to suppress this warning.\n",
      "A parameter name that contains `beta` will be renamed internally to `bias`. Please use a different name to suppress this warning.\n",
      "A parameter name that contains `gamma` will be renamed internally to `weight`. Please use a different name to suppress this warning.\n",
      "A parameter name that contains `beta` will be renamed internally to `bias`. Please use a different name to suppress this warning.\n",
      "A parameter name that contains `gamma` will be renamed internally to `weight`. Please use a different name to suppress this warning.\n",
      "A parameter name that contains `beta` will be renamed internally to `bias`. Please use a different name to suppress this warning.\n",
      "A parameter name that contains `gamma` will be renamed internally to `weight`. Please use a different name to suppress this warning.\n",
      "A parameter name that contains `beta` will be renamed internally to `bias`. Please use a different name to suppress this warning.\n",
      "A parameter name that contains `gamma` will be renamed internally to `weight`. Please use a different name to suppress this warning.\n",
      "A parameter name that contains `beta` will be renamed internally to `bias`. Please use a different name to suppress this warning.\n",
      "A parameter name that contains `gamma` will be renamed internally to `weight`. Please use a different name to suppress this warning.\n"
     ]
    }
   ],
   "source": [
    "    device = torch.device(2)\n",
    "\n",
    "    parser = argparse.ArgumentParser()\n",
    "    parser.add_argument(\"--wandb\", type=bool, default=False)\n",
    "    parser.add_argument(\"--model\", type=str, default=\"Watchog\")\n",
    "    parser.add_argument(\"--unlabeled_train_only\", type=bool, default=False)\n",
    "    parser.add_argument(\"--context_encoding_type\", type=str, default=\"v0\")\n",
    "    parser.add_argument(\"--pool_version\", type=str, default=\"v0.2\")\n",
    "    parser.add_argument(\"--random_sample\", type=bool, default=False)\n",
    "    parser.add_argument(\"--comment\", type=str, default=\"debug\", help=\"to distinguish the runs\")\n",
    "    parser.add_argument(\n",
    "        \"--shortcut_name\",\n",
    "        default=\"bert-base-uncased\",\n",
    "        type=str,\n",
    "        help=\"Huggingface model shortcut name \",\n",
    "    )\n",
    "    parser.add_argument(\n",
    "        \"--max_length\",\n",
    "        default=64,\n",
    "        type=int,\n",
    "        help=\n",
    "        \"The maximum total input sequence length after tokenization. Sequences longer \"\n",
    "        \"than this will be truncated, sequences shorter will be padded.\",\n",
    "    )\n",
    "    parser.add_argument(\n",
    "        \"--adaptive_max_length\",\n",
    "        default=False,\n",
    "        type=bool,\n",
    "    )    \n",
    "    parser.add_argument(\n",
    "        \"--max_num_col\",\n",
    "        default=8,\n",
    "        type=int,\n",
    "    )   \n",
    "\n",
    "    parser.add_argument(\n",
    "        \"--batch_size\",\n",
    "        default=16,\n",
    "        type=int,\n",
    "        help=\"Batch size\",\n",
    "    )\n",
    "    parser.add_argument(\n",
    "        \"--epoch\",\n",
    "        default=1,\n",
    "        type=int,\n",
    "        help=\"Number of epochs for training\",\n",
    "    )\n",
    "    parser.add_argument(\n",
    "        \"--random_seed\",\n",
    "        default=4649,\n",
    "        type=int,\n",
    "        help=\"Random seed\",\n",
    "    )\n",
    "    \n",
    "    parser.add_argument(\n",
    "        \"--train_n_seed_cols\",\n",
    "        default=-1,\n",
    "        type=int,\n",
    "        help=\"number of seeding columns in training\",\n",
    "    )\n",
    "\n",
    "    parser.add_argument(\n",
    "        \"--num_classes\",\n",
    "        default=78,\n",
    "        type=int,\n",
    "        help=\"Number of classes\",\n",
    "    )\n",
    "    parser.add_argument(\"--multi_gpu\",\n",
    "                        action=\"store_true\",\n",
    "                        default=False,\n",
    "                        help=\"Use multiple GPU\")\n",
    "    parser.add_argument(\"--fp16\",\n",
    "                        action=\"store_true\",\n",
    "                        default=False,\n",
    "                        help=\"Use FP16\")\n",
    "    parser.add_argument(\"--warmup\",\n",
    "                        type=float,\n",
    "                        default=0.,\n",
    "                        help=\"Warmup ratio\")\n",
    "    parser.add_argument(\"--lr\", type=float, default=5e-5, help=\"Learning rate\")\n",
    "    parser.add_argument(\"--task\",\n",
    "                        type=str,\n",
    "                        default='gt-semtab22-dbpedia-all0',\n",
    "                        choices=[\n",
    "                            \"sato0\", \"sato1\", \"sato2\", \"sato3\", \"sato4\",\n",
    "                            \"msato0\", \"msato1\", \"msato2\", \"msato3\", \"msato4\",\n",
    "                            \"gt-dbpedia0\", \"gt-dbpedia1\", \"gt-dbpedia2\", \"gt-dbpedia3\", \"gt-dbpedia4\",\n",
    "                            \"gt-dbpedia-all0\", \"gt-dbpedia-all1\", \"gt-dbpedia-all2\", \"gt-dbpedia-all3\", \"gt-dbpedia-all4\",\n",
    "                            \"gt-schema-all0\", \"gt-schema-all1\", \"gt-schema-all2\", \"gt-schema-all3\", \"gt-schema-all4\",\n",
    "                            \"gt-semtab22-dbpedia\", \"gt-semtab22-dbpedia0\", \"gt-semtab22-dbpedia1\", \"gt-semtab22-dbpedia2\", \"gt-semtab22-dbpedia3\", \"gt-semtab22-dbpedia4\",\n",
    "                            \"gt-semtab22-dbpedia-all\", \"gt-semtab22-dbpedia-all0\", \"gt-semtab22-dbpedia-all1\", \"gt-semtab22-dbpedia-all2\", \"gt-semtab22-dbpedia-all3\", \"gt-semtab22-dbpedia-all4\",\n",
    "                            \"gt-semtab22-schema-class-all\", \"gt-semtab22-schema-property-all\",\n",
    "                            \"turl\", \"turl-re\", \"col-popl-1\", \"col-popl-2\", \"col-popl-3\", \"row-popl\",\n",
    "                            \"col-popl-turl-0\", \"col-popl-turl-1\", \"col-popl-turl-2\",\n",
    "                            \"col-popl-turl-mdonly-0\", \"col-popl-turl-mdonly-1\", \"col-popl-turl-mdonly-2\"\n",
    "                        ],\n",
    "                        help=\"Task names}\")\n",
    "    parser.add_argument(\"--colpair\",\n",
    "                        action=\"store_true\",\n",
    "                        help=\"Use column pair embedding\")\n",
    "    parser.add_argument(\"--metadata\",\n",
    "                        action=\"store_true\",\n",
    "                        help=\"Use column header metadata\")\n",
    "    parser.add_argument(\"--from_scratch\",\n",
    "                        action=\"store_true\",\n",
    "                        help=\"Training from scratch\")\n",
    "    parser.add_argument(\"--cl_tag\",\n",
    "                        type=str,\n",
    "                        default=\"wikitables/simclr/bert_100000_10_32_256_5e-05_sample_row4,sample_row4_tfidf_entity_column_0.05_0_last.pt\",\n",
    "                        help=\"path to the pre-trained file\")\n",
    "    parser.add_argument(\"--dropout_prob\",\n",
    "                        type=float,\n",
    "                        default=0.5)\n",
    "    parser.add_argument(\"--eval_test\",\n",
    "                        action=\"store_true\",\n",
    "                        help=\"evaluate on testset and do not save the model file\")\n",
    "    parser.add_argument(\"--small_tag\",\n",
    "                        type=str,\n",
    "                        default=\"semi1\",\n",
    "                        help=\"e.g., by_table_t5_v1\")\n",
    "    parser.add_argument(\"--data_path\",\n",
    "                        type=str,\n",
    "                        default=\"/data/zhihao/TU/\")\n",
    "    parser.add_argument(\"--pretrained_ckpt_path\",\n",
    "                        type=str,\n",
    "                        default=\"/data/zhihao/TU/Watchog/model/\")    \n",
    "\n",
    "    args = parser.parse_args([])\n",
    "    task = args.task\n",
    "    if args.small_tag != \"\":\n",
    "        args.eval_test = True\n",
    "    \n",
    "    args.num_classes = task_num_class_dict[task]\n",
    "    if args.colpair:\n",
    "        assert \"turl-re\" == task, \"colpair can be only used for Relation Extraction\"\n",
    "    if args.metadata:\n",
    "        assert \"turl-re\" == task or \"turl\" == task, \"metadata can be only used for TURL datasets\"\n",
    "    if \"col-popl\":\n",
    "        # metrics = {\n",
    "        #     \"accuracy\": CategoricalAccuracy(tie_break=True),\n",
    "        # }\n",
    "        if args.train_n_seed_cols != -1:\n",
    "            if \"col-popl\" in task:\n",
    "                assert args.train_n_seed_cols == int(task[-1]),  \"# of seed columns must match\"\n",
    "\n",
    "    print(\"args={}\".format(json.dumps(vars(args))))\n",
    "\n",
    "    max_length = args.max_length\n",
    "    batch_size = args.batch_size\n",
    "    num_train_epochs = args.epoch\n",
    "\n",
    "    shortcut_name = args.shortcut_name\n",
    "\n",
    "    if args.colpair and args.metadata:\n",
    "        taskname = \"{}-colpair-metadata\".format(task)\n",
    "    elif args.colpair:\n",
    "        taskname = \"{}-colpair\".format(task)\n",
    "    elif args.metadata:\n",
    "        taskname = \"{}-metadata\".format(task)\n",
    "    elif args.train_n_seed_cols == -1 and 'popl' in task:\n",
    "        taskname = \"{}-mix\".format(task)\n",
    "    else:\n",
    "        taskname = \"\".join(task)\n",
    "    cv = int(task[-1])\n",
    "\n",
    "    if args.from_scratch:\n",
    "        if \"gt\" in task:\n",
    "            tag_name = \"{}/{}-{}-{}-pool{}-max_cols{}-rand{}-bs{}-ml{}-ne{}-do{}{}\".format(\n",
    "                taskname,  \"{}-fromscratch\".format(shortcut_name), args.small_tag, args.comment, args.pool_version, args.max_num_col, args.random_sample,\n",
    "                batch_size, max_length, num_train_epochs, args.dropout_prob, \n",
    "                '-rs{}'.format(args.random_seed) if args.random_seed != 4649 else '')\n",
    "        else:\n",
    "            tag_name = \"{}/{}-{}-{}-bs{}-ml{}-ne{}-do{}{}\".format(\n",
    "                taskname,  \"{}-fromscratch\".format(shortcut_name), args.small_tag, args.comment, \n",
    "                batch_size, max_length, num_train_epochs, args.dropout_prob, \n",
    "                '-rs{}'.format(args.random_seed) if args.random_seed != 4649 else '')\n",
    "        \n",
    "    else:\n",
    "        if \"gt\" in task:\n",
    "            tag_name = \"{}/{}_{}-pool{}-max_cols{}-rand{}-bs{}-ml{}-ne{}-do{}{}\".format(\n",
    "                taskname, args.cl_tag.replace('/', '-'),  shortcut_name, args.small_tag, args.pool_version, args.max_num_col, args.random_sample,\n",
    "                batch_size, max_length, num_train_epochs, args.dropout_prob,\n",
    "                '-rs{}'.format(args.random_seed) if args.random_seed != 4649 else '')\n",
    "        else:\n",
    "            tag_name = \"{}/{}_{}-{}-bs{}-ml{}-ne{}-do{}{}\".format(\n",
    "                taskname, args.cl_tag.replace('/', '-'),  shortcut_name, args.small_tag,\n",
    "                batch_size, max_length, num_train_epochs, args.dropout_prob,\n",
    "                '-rs{}'.format(args.random_seed) if args.random_seed != 4649 else '')\n",
    "\n",
    "    # if args.eval_test:\n",
    "    #     if args.small_tag != '':\n",
    "    #         tag_name = tag_name.replace('outputs', 'small_outputs')\n",
    "    #         tag_name += '-' + args.small_tag\n",
    "    print(tag_name)\n",
    "    file_path = os.path.join(args.data_path, \"Watchog\", \"outputs\", tag_name)\n",
    "\n",
    "    dirpath = os.path.dirname(file_path)\n",
    "    if not os.path.exists(dirpath):\n",
    "        print(\"{} not exists. Created\".format(dirpath))\n",
    "        os.makedirs(dirpath)\n",
    "    \n",
    "    if args.fp16:\n",
    "        torch.backends.cuda.matmul.allow_fp16_reduced_precision_reduction = True\n",
    "        \n",
    "      \n",
    "        \n",
    "    # accelerator = Accelerator(mixed_precision=\"no\" if not args.fp16 else \"fp16\")   \n",
    "    ddp_kwargs = DistributedDataParallelKwargs(find_unused_parameters=True)\n",
    "    accelerator = Accelerator(mixed_precision=\"no\" if not args.fp16 else \"fp16\", kwargs_handlers=[ddp_kwargs])\n",
    "\n",
    "    device = torch.device(1)\n",
    "    ckpt_path = os.path.join(args.pretrained_ckpt_path, args.cl_tag)\n",
    "    # ckpt_path = '/efs/checkpoints/{}.pt'.format(args.cl_tag)\n",
    "    ckpt = torch.load(ckpt_path, map_location=device)\n",
    "    ckpt_hp = ckpt['hp']\n",
    "    print(ckpt_hp)\n",
    " \n",
    "    setattr(ckpt_hp, 'batch_size', args.batch_size)\n",
    "    setattr(ckpt_hp, 'hidden_dropout_prob', args.dropout_prob)\n",
    "    setattr(ckpt_hp, 'shortcut_name', args.shortcut_name)\n",
    "    setattr(ckpt_hp, 'num_labels', args.num_classes)\n",
    "    \n",
    "    \n",
    "    \n",
    "    tokenizer = BertTokenizer.from_pretrained(shortcut_name)\n",
    "    padder = collate_fn(tokenizer.pad_token_id)\n",
    "    if task == \"turl-re\" and args.colpair:\n",
    "        model = BertForMultiOutputClassification(ckpt_hp, device=device, lm=ckpt['hp'].lm, col_pair='Pair')\n",
    "    elif \"col-popl\" in task:\n",
    "        model = BertForMultiOutputClassificationColPopl(ckpt_hp, device=device, lm=ckpt['hp'].lm, n_seed_cols=int(task[i][-1]), cls_for_md=\"md\" in task)\n",
    "    else:\n",
    "        model = BertForMultiOutputClassification(ckpt_hp, device=device, lm=ckpt['hp'].lm, version=\"v0\", use_attention_mask=True)\n",
    "        \n"
   ]
  },
  {
   "cell_type": "code",
   "execution_count": 4,
   "metadata": {},
   "outputs": [
    {
     "data": {
      "text/plain": [
       "['bert', 'is', 'a', 'powerful', 'language', 'model', '.']"
      ]
     },
     "execution_count": 4,
     "metadata": {},
     "output_type": "execute_result"
    }
   ],
   "source": [
    "text = \"BERT is a powerful language model.\"\n",
    "tokenizer.tokenize(text)"
   ]
  },
  {
   "cell_type": "code",
   "execution_count": 5,
   "metadata": {},
   "outputs": [
    {
     "name": "stdout",
     "output_type": "stream",
     "text": [
      "test\n",
      "test 750\n"
     ]
    }
   ],
   "source": [
    "dataset_cls = GittablesTablewiseDataset\n",
    "cv = 0\n",
    "src = None\n",
    "# train_dataset = dataset_cls(cv=cv,\n",
    "#                             split=\"train\",\n",
    "#                             src=src,\n",
    "#                             tokenizer=tokenizer,\n",
    "#                             max_length=max_length,\n",
    "#                             gt_only='all' not in task,\n",
    "#                             device=device,\n",
    "#                             base_dirpath=os.path.join(args.data_path, \"GitTables/semtab_gittables/2022\"),\n",
    "#                             small_tag=\"semi1\")\n",
    "# valid_dataset = dataset_cls(cv=cv,\n",
    "#                             split=\"valid\", src=src,\n",
    "#                             tokenizer=tokenizer,\n",
    "#                             max_length=max_length,\n",
    "#                             gt_only='all' not in task,\n",
    "#                             device=device,\n",
    "#                             base_dirpath=os.path.join(args.data_path, \"GitTables/semtab_gittables/2022\"),\n",
    "#                             small_tag=\"semi1\")\n",
    "test_dataset = dataset_cls(cv=cv,\n",
    "                            split=\"test\", src=src,\n",
    "                            tokenizer=tokenizer,\n",
    "                            max_length=max_length,\n",
    "                            gt_only='all' not in task,\n",
    "                            device=device,\n",
    "                            base_dirpath=os.path.join(args.data_path, \"GitTables/semtab_gittables/2022\"),\n",
    "                            small_tag=\"semi1\")\n"
   ]
  },
  {
   "cell_type": "code",
   "execution_count": 279,
   "metadata": {},
   "outputs": [],
   "source": [
    "# train_dataloader = DataLoader(train_dataset,\n",
    "#                                 batch_size=batch_size,\n",
    "#                             #   collate_fn=collate_fn)\n",
    "#                             collate_fn=padder)\n",
    "# valid_dataloader = DataLoader(valid_dataset,\n",
    "#                                 batch_size=batch_size,\n",
    "#                             #   collate_fn=collate_fn)\n",
    "#                             collate_fn=padder)\n",
    "test_dataloader = DataLoader(test_dataset,\n",
    "                                batch_size=1,\n",
    "                            #   collate_fn=collate_fn)\n",
    "                            collate_fn=padder)"
   ]
  },
  {
   "cell_type": "code",
   "execution_count": 4,
   "metadata": {},
   "outputs": [],
   "source": [
    "def extract_cls_tokens(hidden_states, cls_indexes, head=False):\n",
    "    cls_embeddings = []\n",
    "    for i, j in cls_indexes:\n",
    "        sub_sentence_cls_embeddings = hidden_states[i, 0, :] if head else hidden_states[i, j, :]\n",
    "        cls_embeddings.append(sub_sentence_cls_embeddings)\n",
    "    cls_embeddings = torch.stack(cls_embeddings)\n",
    "    return cls_embeddings\n",
    "#pooled_outputs = extract_cls_tokens(hidden_states, cls_indexes)"
   ]
  },
  {
   "cell_type": "code",
   "execution_count": 28,
   "metadata": {},
   "outputs": [
    {
     "data": {
      "text/plain": [
       "torch.Size([7])"
      ]
     },
     "execution_count": 28,
     "metadata": {},
     "output_type": "execute_result"
    }
   ],
   "source": [
    "batch[\"label\"].cpu().shape"
   ]
  },
  {
   "cell_type": "code",
   "execution_count": 30,
   "metadata": {},
   "outputs": [
    {
     "data": {
      "text/plain": [
       "torch.Size([7, 768])"
      ]
     },
     "execution_count": 30,
     "metadata": {},
     "output_type": "execute_result"
    }
   ],
   "source": [
    "embs.detach().cpu().shape"
   ]
  },
  {
   "cell_type": "code",
   "execution_count": 274,
   "metadata": {},
   "outputs": [
    {
     "ename": "NameError",
     "evalue": "name 'train_dataloader' is not defined",
     "output_type": "error",
     "traceback": [
      "\u001b[0;31m---------------------------------------------------------------------------\u001b[0m",
      "\u001b[0;31mNameError\u001b[0m                                 Traceback (most recent call last)",
      "Input \u001b[0;32mIn [274]\u001b[0m, in \u001b[0;36m<cell line: 5>\u001b[0;34m()\u001b[0m\n\u001b[1;32m      3\u001b[0m plm_embs_train \u001b[38;5;241m=\u001b[39m []\n\u001b[1;32m      4\u001b[0m labels_train \u001b[38;5;241m=\u001b[39m []\n\u001b[0;32m----> 5\u001b[0m \u001b[38;5;28;01mfor\u001b[39;00m batch_idx, batch \u001b[38;5;129;01min\u001b[39;00m \u001b[38;5;28menumerate\u001b[39m(\u001b[43mtrain_dataloader\u001b[49m):\n\u001b[1;32m      6\u001b[0m     cls_indexes \u001b[38;5;241m=\u001b[39m torch\u001b[38;5;241m.\u001b[39mnonzero(\n\u001b[1;32m      7\u001b[0m                     batch[\u001b[38;5;124m\"\u001b[39m\u001b[38;5;124mdata\u001b[39m\u001b[38;5;124m\"\u001b[39m]\u001b[38;5;241m.\u001b[39mT \u001b[38;5;241m==\u001b[39m tokenizer\u001b[38;5;241m.\u001b[39mcls_token_id)\n\u001b[1;32m      8\u001b[0m     embs \u001b[38;5;241m=\u001b[39m model\u001b[38;5;241m.\u001b[39mbert(batch[\u001b[38;5;124m\"\u001b[39m\u001b[38;5;124mdata\u001b[39m\u001b[38;5;124m\"\u001b[39m]\u001b[38;5;241m.\u001b[39mT)\n",
      "\u001b[0;31mNameError\u001b[0m: name 'train_dataloader' is not defined"
     ]
    }
   ],
   "source": [
    "model.eval()\n",
    "model = model.to(device)\n",
    "plm_embs_train = []\n",
    "labels_train = []\n",
    "for batch_idx, batch in enumerate(train_dataloader):\n",
    "    cls_indexes = torch.nonzero(\n",
    "                    batch[\"data\"].T == tokenizer.cls_token_id)\n",
    "    embs = model.bert(batch[\"data\"].T)\n",
    "    embs = extract_cls_tokens(embs[0], cls_indexes)\n",
    "    label = batch[\"label\"].cpu()\n",
    "    plm_embs_train.append(embs.detach().cpu()[label>-1])\n",
    "    labels_train.append(label[label>-1])\n",
    "plm_embs_train = torch.cat(plm_embs_train, dim=0)\n",
    "labels_train = torch.cat(labels_train, dim=0)"
   ]
  },
  {
   "cell_type": "code",
   "execution_count": 32,
   "metadata": {},
   "outputs": [
    {
     "data": {
      "text/plain": [
       "torch.Size([3463, 768])"
      ]
     },
     "execution_count": 32,
     "metadata": {},
     "output_type": "execute_result"
    }
   ],
   "source": [
    "plm_embs_train.shape"
   ]
  },
  {
   "cell_type": "code",
   "execution_count": 15,
   "metadata": {},
   "outputs": [],
   "source": [
    "from sklearn.metrics import silhouette_samples\n",
    "from sklearn.metrics import silhouette_score\n",
    "def silhouette_score_per_cluster(embeddings, labels, metric=\"cosine\"):\n",
    "    sample_silhouette_values = silhouette_samples(embeddings, labels, metric=metric)\n",
    "    unique_labels = np.unique(labels)\n",
    "    silhouette_per_cluster = []\n",
    "    for label in unique_labels:\n",
    "        cluster_silhouettes = sample_silhouette_values[labels == label]\n",
    "        silhouette_per_cluster.append(np.mean(cluster_silhouettes))\n",
    "    return np.array(silhouette_per_cluster).reshape(-1)"
   ]
  },
  {
   "cell_type": "code",
   "execution_count": 34,
   "metadata": {},
   "outputs": [],
   "source": [
    "plm_embs_train_silhouette_values = silhouette_samples(plm_embs_train, labels_train)"
   ]
  },
  {
   "cell_type": "code",
   "execution_count": 35,
   "metadata": {},
   "outputs": [
    {
     "data": {
      "text/plain": [
       "-0.21431549"
      ]
     },
     "execution_count": 35,
     "metadata": {},
     "output_type": "execute_result"
    }
   ],
   "source": [
    "np.mean(plm_embs_train_silhouette_values)"
   ]
  },
  {
   "cell_type": "code",
   "execution_count": 36,
   "metadata": {},
   "outputs": [
    {
     "data": {
      "image/png": "[encoded data removed]",
      "text/plain": [
       "<Figure size 432x288 with 1 Axes>"
      ]
     },
     "metadata": {
      "needs_background": "light"
     },
     "output_type": "display_data"
    }
   ],
   "source": [
    "import seaborn as sns\n",
    "import matplotlib.pyplot as plt\n",
    "\n",
    "# Assuming plm_embs_train_silhouette_values is your data\n",
    "sns.histplot(plm_embs_train_silhouette_values)\n",
    "\n",
    "# Add a red vertical line at x = 0\n",
    "plt.axvline(x=0, color='red', linestyle='--', linewidth=2)\n",
    "\n",
    "# Display the plot\n",
    "plt.show()"
   ]
  },
  {
   "cell_type": "code",
   "execution_count": 22,
   "metadata": {},
   "outputs": [
    {
     "data": {
      "text/plain": [
       "0"
      ]
     },
     "execution_count": 22,
     "metadata": {},
     "output_type": "execute_result"
    }
   ],
   "source": [
    "cv"
   ]
  },
  {
   "cell_type": "code",
   "execution_count": 23,
   "metadata": {},
   "outputs": [
    {
     "name": "stdout",
     "output_type": "stream",
     "text": [
      "semi1_cv_{}.csv 1 64 None v0 False\n",
      "train 3463\n"
     ]
    }
   ],
   "source": [
    "dataset_col = GittablesColwiseDataset\n",
    "train_dataset_col = dataset_col(cv=cv,\n",
    "                            split=\"train\",\n",
    "                            tokenizer=tokenizer,\n",
    "                            max_length=max_length,\n",
    "                            train_ratio=1.0,\n",
    "                            device=device,\n",
    "                            small_tag=\"semi1\",\n",
    "                            base_dirpath=os.path.join(args.data_path, \"GitTables/semtab_gittables/2022\"),\n",
    "                            max_num_col=1,\n",
    "                            sampling_method=None,\n",
    "                            random_seed=0,\n",
    "                            context_encoding_type=args.context_encoding_type,\n",
    "                            adaptive_max_length=False                                       \n",
    "                            )\n",
    "# dataset_cls(cv=cv,\n",
    "#                                             split=\"train\",\n",
    "#                                             tokenizer=tokenizer,\n",
    "#                                             max_length=max_length,\n",
    "#                                             gt_only='all' not in task,\n",
    "#                                             device=device,\n",
    "#                                             base_dirpath=os.path.join(args.data_path, \"GitTables/semtab_gittables/2022\"),\n",
    "#                                             small_tag=args.small_tag,\n",
    "#                                             max_num_col=args.max_num_col,\n",
    "#                                             sampling_method=args.sampling_method,\n",
    "#                                             random_seed=args.random_seed,\n",
    "#                                             context_encoding_type=args.context_encoding_type,\n",
    "#                                             adaptive_max_length=args.adaptive_max_length)"
   ]
  },
  {
   "cell_type": "code",
   "execution_count": 24,
   "metadata": {},
   "outputs": [],
   "source": [
    "train_dataloader_col = DataLoader(train_dataset_col,\n",
    "                                batch_size=batch_size,\n",
    "                            #   collate_fn=collate_fn)\n",
    "                            collate_fn=padder)"
   ]
  },
  {
   "cell_type": "code",
   "execution_count": 25,
   "metadata": {},
   "outputs": [],
   "source": [
    "model.eval()\n",
    "model = model.to(device)\n",
    "plm_embs_train_col = []\n",
    "labels_train_col = []\n",
    "for batch_idx, batch in enumerate(train_dataloader_col):\n",
    "    cls_indexes = torch.nonzero(\n",
    "                    batch[\"data\"].T == tokenizer.cls_token_id)\n",
    "    embs = model.bert(batch[\"data\"].T)\n",
    "    embs = extract_cls_tokens(embs[0], cls_indexes)\n",
    "    plm_embs_train_col.append(embs.detach().cpu())\n",
    "    labels_train_col.append(batch[\"label\"].cpu())\n",
    "plm_embs_train_col = torch.cat(plm_embs_train_col, dim=0)\n",
    "labels_train_col = torch.cat(labels_train_col, dim=0)"
   ]
  },
  {
   "cell_type": "code",
   "execution_count": 26,
   "metadata": {},
   "outputs": [
    {
     "data": {
      "text/plain": [
       "torch.Size([3463, 768])"
      ]
     },
     "execution_count": 26,
     "metadata": {},
     "output_type": "execute_result"
    }
   ],
   "source": [
    "plm_embs_train_col.shape"
   ]
  },
  {
   "cell_type": "code",
   "execution_count": 33,
   "metadata": {},
   "outputs": [
    {
     "data": {
      "text/plain": [
       "torch.Size([3463, 768])"
      ]
     },
     "execution_count": 33,
     "metadata": {},
     "output_type": "execute_result"
    }
   ],
   "source": [
    "plm_embs_train.shape"
   ]
  },
  {
   "cell_type": "code",
   "execution_count": 37,
   "metadata": {},
   "outputs": [],
   "source": [
    "plm_embs_train_silhouette_values_col = silhouette_samples(plm_embs_train_col, labels_train_col)"
   ]
  },
  {
   "cell_type": "code",
   "execution_count": 38,
   "metadata": {},
   "outputs": [
    {
     "data": {
      "text/plain": [
       "-0.22704358"
      ]
     },
     "execution_count": 38,
     "metadata": {},
     "output_type": "execute_result"
    }
   ],
   "source": [
    "np.mean(plm_embs_train_silhouette_values_col)"
   ]
  },
  {
   "cell_type": "code",
   "execution_count": 39,
   "metadata": {},
   "outputs": [],
   "source": [
    "from sentence_transformers import SentenceTransformer\n",
    "\n",
    "st_model = SentenceTransformer(\"all-mpnet-base-v2\", cache_folder=\"/data/zhihao/TU/Watchog/sentence_transformers_cache\")"
   ]
  },
  {
   "cell_type": "code",
   "execution_count": 40,
   "metadata": {},
   "outputs": [],
   "source": [
    "\n",
    "base_dirpath = \"/data/zhihao/TU/GitTables/semtab_gittables/2022/\"\n",
    "seperator = \"semi1\"\n",
    "basename = seperator+\"_cv_{}.csv\"\n",
    "df_list = []\n",
    "filepath = os.path.join(base_dirpath, basename.format(cv))\n",
    "df_test = pd.read_csv(filepath)\n",
    "\n",
    "df_group_test = df_test.groupby(\"table_id\")\n",
    "\n",
    "\n",
    "\n",
    "df_list = []\n",
    "for i in range(5):\n",
    "    if i == cv:\n",
    "        continue\n",
    "    filepath = os.path.join(base_dirpath, basename.format(i))\n",
    "    df_list.append(pd.read_csv(filepath))\n",
    "df_train = pd.concat(df_list, axis=0)\n",
    "df_group_train = df_train.groupby(\"table_id\")"
   ]
  },
  {
   "cell_type": "code",
   "execution_count": 44,
   "metadata": {},
   "outputs": [],
   "source": [
    "labels_cluster = []\n",
    "embeddings_cluster = []\n",
    "embeddings_cluster_context = []\n",
    "for i, (index, group_df) in enumerate(df_group_train):\n",
    "    labeled_columns = group_df[group_df['class_id'] > -1]\n",
    "    labels_cluster += labeled_columns[\"class_id\"].values.tolist()\n",
    "    # if len(labeled_columns) > 1:\n",
    "    #     embeddings_cluster.append(ft_model.get_sentence_vector(\" \".join(labeled_columns[\"data\"].values)))\n",
    "    #     embeddings_cluster_context.append(ft_model.get_sentence_vector(\" \".join(group_df[\"data\"].values)))\n",
    "    #     break\n",
    "    for text in labeled_columns[\"data\"].values:\n",
    "        embeddings_cluster.append(st_model.encode(text))\n",
    "        embeddings_cluster_context.append(st_model.encode(st_model.tokenizer.sep_token.join(group_df[\"data\"].values)))"
   ]
  },
  {
   "cell_type": "code",
   "execution_count": 47,
   "metadata": {},
   "outputs": [],
   "source": [
    "embeddings_cluster = np.stack(embeddings_cluster, axis=0)"
   ]
  },
  {
   "cell_type": "code",
   "execution_count": 49,
   "metadata": {},
   "outputs": [],
   "source": [
    "embeddings_cluster_context = np.stack(embeddings_cluster_context, axis=0)"
   ]
  },
  {
   "cell_type": "code",
   "execution_count": 53,
   "metadata": {},
   "outputs": [],
   "source": [
    "labels_cluster = np.array(labels_cluster)"
   ]
  },
  {
   "cell_type": "code",
   "execution_count": 54,
   "metadata": {},
   "outputs": [],
   "source": [
    "embeddings_cluster_silhouette_values = silhouette_samples(embeddings_cluster, labels_cluster)\n",
    "embeddings_cluster_context_silhouette_values = silhouette_samples(embeddings_cluster_context, labels_cluster)"
   ]
  },
  {
   "cell_type": "code",
   "execution_count": 55,
   "metadata": {},
   "outputs": [
    {
     "data": {
      "text/plain": [
       "-0.08592572"
      ]
     },
     "execution_count": 55,
     "metadata": {},
     "output_type": "execute_result"
    }
   ],
   "source": [
    "np.mean(embeddings_cluster_silhouette_values)"
   ]
  },
  {
   "cell_type": "code",
   "execution_count": 56,
   "metadata": {},
   "outputs": [
    {
     "data": {
      "text/plain": [
       "-0.15294842"
      ]
     },
     "execution_count": 56,
     "metadata": {},
     "output_type": "execute_result"
    }
   ],
   "source": [
    "np.mean(embeddings_cluster_context_silhouette_values)"
   ]
  },
  {
   "cell_type": "code",
   "execution_count": 63,
   "metadata": {},
   "outputs": [
    {
     "data": {
      "image/png": "[encoded data removed]",
      "text/plain": [
       "<Figure size 720x432 with 1 Axes>"
      ]
     },
     "metadata": {},
     "output_type": "display_data"
    }
   ],
   "source": [
    "import seaborn as sns\n",
    "import matplotlib.pyplot as plt\n",
    "\n",
    "# Example data: Two sets of values\n",
    "values_set_1 = embeddings_cluster_silhouette_values  # Replace with your actual data\n",
    "values_set_2 = embeddings_cluster_context_silhouette_values  # Replace with your second set of values\n",
    "\n",
    "mean_set_1 = np.mean(values_set_1)\n",
    "mean_set_2 = np.mean(values_set_2)\n",
    "# Set the style of the visualization\n",
    "sns.set(style=\"whitegrid\")\n",
    "\n",
    "# Create the figure and axis\n",
    "plt.figure(figsize=(10, 6))\n",
    "\n",
    "# Plot the first set of values\n",
    "sns.histplot(values_set_1, color='skyblue', kde=True, label='w.o. context', bins=30, alpha=0.7)\n",
    "\n",
    "# Plot the second set of values\n",
    "sns.histplot(values_set_2, color='salmon', kde=True, label='with context', bins=30, alpha=0.7)\n",
    "\n",
    "# Add a vertical line at x=0 for reference\n",
    "plt.axvline(x=0, color='black', linestyle='--', linewidth=2)\n",
    "\n",
    "plt.axvline(x=mean_set_1, color='blue', linestyle='-', linewidth=2, label=f'Mean  ({mean_set_1:.2f})')\n",
    "plt.axvline(x=mean_set_2, color='red', linestyle='-', linewidth=2, label=f'Set 2 Mean ({mean_set_2:.2f})')\n",
    "\n",
    "# Customize the plot\n",
    "plt.title('Comparison of Silhouette Score between column embeddings with and w.o. context', fontsize=16)\n",
    "plt.xlabel('Silhouette Score', fontsize=14)\n",
    "plt.ylabel('Frequency', fontsize=14)\n",
    "plt.legend()\n",
    "plt.xticks(fontsize=12)\n",
    "plt.yticks(fontsize=12)\n",
    "\n",
    "# Remove the top and right spines for a cleaner look\n",
    "sns.despine()\n",
    "\n",
    "# Show the plot\n",
    "plt.show()"
   ]
  },
  {
   "cell_type": "code",
   "execution_count": 7,
   "metadata": {},
   "outputs": [],
   "source": [
    "with open(f\"/data/zhihao/TU/Watchog/outputs/gt-semtab22-dbpedia-all0/bert-base-uncased-fromscratch-semi1-poolv0-unlabeled8-randTrue-bs16-ml64-ne50-do0.1_eval.json\", 'r') as f:\n",
    "    results = json.load(f)\n",
    "# bert-base-uncased-fromscratch-semi1-poolv0-unlabeled8-randTrue-bs16-ml64-ne50-do0.1_best_f1_micro.pt\n",
    "# labels_train = np.array(results['train']['tr_true_list'])\n",
    "# preds_train = np.array(results['train']['tr_pred_list'])\n",
    "# class_f1_train = np.array(results['train']['tr_class_f1'])\n",
    "\n",
    "labels = np.array(results['f1_macro']['true_list'])\n",
    "preds = np.array(results['f1_macro']['pred_list'])\n",
    "class_f1 = np.array(results['f1_macro']['ts_class_f1'])"
   ]
  },
  {
   "cell_type": "code",
   "execution_count": 5,
   "metadata": {},
   "outputs": [
    {
     "name": "stderr",
     "output_type": "stream",
     "text": [
      "/tmp/ipykernel_3443309/307592194.py:2: FutureWarning: You are using `torch.load` with `weights_only=False` (the current default value), which uses the default pickle module implicitly. It is possible to construct malicious pickle data which will execute arbitrary code during unpickling (See https://github.com/pytorch/pytorch/blob/main/SECURITY.md#untrusted-models for more details). In a future release, the default value for `weights_only` will be flipped to `True`. This limits the functions that could be executed during unpickling. Arbitrary objects will no longer be allowed to be loaded via this mode unless they are explicitly allowlisted by the user via `torch.serialization.add_safe_globals`. We recommend you start setting `weights_only=True` for any use case where you don't have full control of the loaded file. Please open an issue on GitHub for any issues related to this experimental feature.\n",
      "  best_state_dict = torch.load(\"/data/zhihao/TU/Watchog/outputs/gt-semtab22-dbpedia-all0/bert-base-uncased-fromscratch-semi1-Repeat@5-AttnMask-UnlabelValid-max-unlabeled@8-poolv0-unlabeled8-randFalse-bs16-ml128-ne50-do0.1_best_f1_macro.pt\", map_location=device)\n"
     ]
    },
    {
     "data": {
      "text/plain": [
       "<All keys matched successfully>"
      ]
     },
     "execution_count": 5,
     "metadata": {},
     "output_type": "execute_result"
    }
   ],
   "source": [
    "# best_state_dict = torch.load(\"/data/zhihao/TU/Watchog/outputs/gt-semtab22-dbpedia-all0/bert-base-uncased-fromscratch-semi1-AttnMask-max-unlabeled@8-poolv0-unlabeled8-randFalse-bs16-ml128-ne50-do0.1_best_f1_micro.pt\", map_location=device)\n",
    "best_state_dict = torch.load(\"/data/zhihao/TU/Watchog/outputs/gt-semtab22-dbpedia-all0/bert-base-uncased-fromscratch-semi1-Repeat@5-AttnMask-UnlabelValid-max-unlabeled@8-poolv0-unlabeled8-randFalse-bs16-ml128-ne50-do0.1_best_f1_macro.pt\", map_location=device)\n",
    "model.load_state_dict(best_state_dict, strict=False)"
   ]
  },
  {
   "cell_type": "code",
   "execution_count": 12,
   "metadata": {},
   "outputs": [],
   "source": [
    "model.eval()\n",
    "model = model.to(device)\n",
    "ft_embs_train = []\n",
    "labels_train = []\n",
    "for batch_idx, batch in enumerate(train_dataloader):\n",
    "    cls_indexes = torch.nonzero(\n",
    "                    batch[\"data\"].T == tokenizer.cls_token_id)\n",
    "    embs = model.bert(batch[\"data\"].T)\n",
    "    embs = extract_cls_tokens(embs[0], cls_indexes)\n",
    "    ft_embs_train.append(embs.detach().cpu())\n",
    "    labels_train.append(batch[\"label\"].cpu())\n",
    "ft_embs_train = torch.cat(ft_embs_train, dim=0)\n",
    "labels_train = torch.cat(labels_train, dim=0)"
   ]
  },
  {
   "cell_type": "code",
   "execution_count": 339,
   "metadata": {},
   "outputs": [],
   "source": [
    "test_dataloader = DataLoader(test_dataset,\n",
    "                                batch_size=16,\n",
    "                            #   collate_fn=collate_fn)\n",
    "                            collate_fn=padder)\n",
    "model.load_state_dict(best_state_dict, strict=False)\n",
    "model.eval()\n",
    "model = model.to(device)\n",
    "ft_embs_test = []\n",
    "labels_test_origin = []\n",
    "logits_test_origin_16 = []\n",
    "cls_indexes_all_16 = []\n",
    "for batch_idx, batch in enumerate(test_dataloader):\n",
    "    cls_indexes = torch.nonzero(\n",
    "                    batch[\"data\"].T == tokenizer.cls_token_id)\n",
    "    # embs = model.bert(batch[\"data\"].T)\n",
    "    logits = model(batch[\"data\"].T, cls_indexes=cls_indexes,).detach().cpu()\n",
    "    # embs = extract_cls_tokens(embs[0], cls_indexes)\n",
    "    # ft_embs_test.append(embs.detach().cpu())\n",
    "    labels_test_origin.append(batch[\"label\"].cpu())\n",
    "    if logits.dim() == 1:\n",
    "        logits = logits.unsqueeze(0)\n",
    "    logits_test_origin_16.append(logits)\n",
    "    cls_indexes_all_16.append(cls_indexes.detach().cpu())\n",
    "# ft_embs_test = torch.cat(ft_embs_test, dim=0)\n",
    "\n",
    "labels_test_origin = torch.cat(labels_test_origin, dim=0)\n",
    "logits_test_origin_16 = torch.cat(logits_test_origin_16, dim=0)\n",
    "preds_test_origin_16 = torch.argmax(logits_test_origin_16, dim=1)"
   ]
  },
  {
   "cell_type": "code",
   "execution_count": 345,
   "metadata": {},
   "outputs": [
    {
     "data": {
      "text/plain": [
       "tensor([ 1.2349e+01,  2.2623e+00,  2.0195e+00,  4.7039e-01,  1.3064e+00,\n",
       "         1.2641e+00,  8.9482e-01,  2.4156e+00,  2.7143e+00, -5.1789e-01,\n",
       "         1.7351e+00,  1.0563e+00,  5.2661e-01,  2.3156e+00,  3.5534e-01,\n",
       "         4.9356e-03,  4.0803e-01, -1.2673e-01, -1.5701e+00,  4.4213e-01,\n",
       "         1.2484e+00, -6.4937e-02, -2.9976e-01, -1.0279e+00,  4.1979e-01,\n",
       "        -1.6945e+00,  1.1877e-01, -3.9443e-01, -2.4848e+00, -1.3368e+00,\n",
       "        -1.0973e+00, -1.7170e-01, -1.3608e+00,  1.0209e+00,  1.2189e+00,\n",
       "        -1.0656e+00, -4.0851e-01,  2.1805e+00, -1.4573e+00,  3.6495e-02,\n",
       "         1.2361e+00, -1.9280e+00, -1.0239e-01, -1.9924e+00, -1.8749e+00,\n",
       "         5.8734e-01, -3.8315e-01, -1.6866e+00,  8.4979e-02, -7.3993e-01,\n",
       "        -3.0850e+00, -2.9878e+00, -2.6023e+00, -2.5192e+00, -2.8550e+00,\n",
       "        -1.0333e+00,  1.0281e+00, -7.8085e-01, -8.5541e-01,  3.0408e-01,\n",
       "         1.1371e+00, -1.7338e+00, -2.1937e+00, -6.1994e-01, -1.8035e+00,\n",
       "        -3.0026e+00, -2.4853e+00, -1.7369e+00, -1.8136e+00, -1.0013e+00,\n",
       "        -1.6233e+00, -6.4445e-01, -3.5500e-01, -7.8222e-01, -2.6241e+00,\n",
       "        -1.8708e+00, -1.1988e+00, -7.2830e-01, -1.9388e+00, -1.0569e+00,\n",
       "        -2.4025e+00, -2.7821e+00, -1.1982e+00, -2.1431e+00,  1.5204e-01,\n",
       "        -2.4471e+00, -1.5189e+00, -3.1720e+00, -1.3798e+00, -1.6331e+00,\n",
       "        -2.2853e+00, -1.8026e+00, -2.6446e+00, -2.2680e+00, -2.5178e+00,\n",
       "        -2.3193e+00, -7.0378e-01, -1.0620e+00, -1.5850e+00,  8.6639e-01,\n",
       "        -1.9128e+00])"
      ]
     },
     "execution_count": 345,
     "metadata": {},
     "output_type": "execute_result"
    }
   ],
   "source": [
    "logits_test_origin_16[0]"
   ]
  },
  {
   "cell_type": "code",
   "execution_count": 346,
   "metadata": {},
   "outputs": [
    {
     "data": {
      "text/plain": [
       "tensor([ 1.2314e+01,  2.2582e+00,  2.0340e+00,  4.8279e-01,  1.2961e+00,\n",
       "         1.2751e+00,  9.4323e-01,  2.4833e+00,  2.7057e+00, -5.0379e-01,\n",
       "         1.7371e+00,  1.1412e+00,  5.4223e-01,  2.3659e+00,  3.5382e-01,\n",
       "        -3.1089e-03,  4.4818e-01, -1.2872e-01, -1.5742e+00,  4.2284e-01,\n",
       "         1.2316e+00, -8.0508e-02, -2.9698e-01, -1.0158e+00,  4.0950e-01,\n",
       "        -1.7014e+00,  1.4729e-01, -4.0749e-01, -2.4696e+00, -1.2981e+00,\n",
       "        -1.0998e+00, -1.8593e-01, -1.3521e+00,  1.0008e+00,  1.2162e+00,\n",
       "        -1.0663e+00, -4.2975e-01,  2.2044e+00, -1.4563e+00,  6.6450e-02,\n",
       "         1.1826e+00, -1.9540e+00, -1.3295e-01, -2.0091e+00, -1.8851e+00,\n",
       "         6.2226e-01, -3.7785e-01, -1.6972e+00,  7.0330e-02, -7.5263e-01,\n",
       "        -3.0694e+00, -2.9786e+00, -2.5552e+00, -2.5303e+00, -2.8545e+00,\n",
       "        -1.0462e+00,  1.0155e+00, -7.7138e-01, -8.7357e-01,  3.1614e-01,\n",
       "         1.0917e+00, -1.7528e+00, -2.2213e+00, -6.6158e-01, -1.8124e+00,\n",
       "        -2.9912e+00, -2.5006e+00, -1.7283e+00, -1.8156e+00, -1.0231e+00,\n",
       "        -1.6513e+00, -6.9392e-01, -3.7237e-01, -7.9804e-01, -2.6371e+00,\n",
       "        -1.8794e+00, -1.2159e+00, -7.2817e-01, -1.9247e+00, -1.0613e+00,\n",
       "        -2.4169e+00, -2.7907e+00, -1.1989e+00, -2.1343e+00,  1.2457e-01,\n",
       "        -2.4674e+00, -1.5457e+00, -3.2085e+00, -1.4093e+00, -1.6608e+00,\n",
       "        -2.2757e+00, -1.7809e+00, -2.6700e+00, -2.2951e+00, -2.4974e+00,\n",
       "        -2.3410e+00, -7.4908e-01, -1.0551e+00, -1.5980e+00,  8.9172e-01,\n",
       "        -1.9220e+00])"
      ]
     },
     "execution_count": 346,
     "metadata": {},
     "output_type": "execute_result"
    }
   ],
   "source": [
    "logits_test_origin_1[0]"
   ]
  },
  {
   "cell_type": "code",
   "execution_count": 333,
   "metadata": {},
   "outputs": [
    {
     "data": {
      "text/plain": [
       "torch.Size([1085])"
      ]
     },
     "execution_count": 333,
     "metadata": {},
     "output_type": "execute_result"
    }
   ],
   "source": [
    "preds_test_origin_16.shape"
   ]
  },
  {
   "cell_type": "code",
   "execution_count": 334,
   "metadata": {},
   "outputs": [
    {
     "data": {
      "text/plain": [
       "torch.Size([1085])"
      ]
     },
     "execution_count": 334,
     "metadata": {},
     "output_type": "execute_result"
    }
   ],
   "source": [
    "preds_test_origin_1.shape"
   ]
  },
  {
   "cell_type": "code",
   "execution_count": 328,
   "metadata": {},
   "outputs": [],
   "source": [
    "cls_indexes_all_16 = torch.cat(cls_indexes_all_16, dim = 0)[:, 1]"
   ]
  },
  {
   "cell_type": "code",
   "execution_count": 332,
   "metadata": {},
   "outputs": [
    {
     "data": {
      "text/plain": [
       "True"
      ]
     },
     "execution_count": 332,
     "metadata": {},
     "output_type": "execute_result"
    }
   ],
   "source": [
    "cls_indexes_all_16.equal(cls_indexes_all_1)"
   ]
  },
  {
   "cell_type": "code",
   "execution_count": 330,
   "metadata": {},
   "outputs": [],
   "source": [
    "cls_indexes_all_1  = torch.cat(cls_indexes_all_1, dim = 0)[:, 1]"
   ]
  },
  {
   "cell_type": "code",
   "execution_count": 336,
   "metadata": {},
   "outputs": [
    {
     "data": {
      "text/plain": [
       "tensor([[  0,   0],\n",
       "        [  1,   0],\n",
       "        [  2,   0],\n",
       "        [  2,  64],\n",
       "        [  3,   0],\n",
       "        [  4,   0],\n",
       "        [  5,   0],\n",
       "        [  5,  14],\n",
       "        [  6,   0],\n",
       "        [  7,   0],\n",
       "        [  8,   0],\n",
       "        [  8,  64],\n",
       "        [  9,   0],\n",
       "        [  9,  52],\n",
       "        [ 10,   0],\n",
       "        [ 11,   0],\n",
       "        [ 12,   0],\n",
       "        [ 12,  64],\n",
       "        [ 12, 128],\n",
       "        [ 12, 192],\n",
       "        [ 13,   0]], device='cuda:1')"
      ]
     },
     "execution_count": 336,
     "metadata": {},
     "output_type": "execute_result"
    }
   ],
   "source": [
    "cls_indexes"
   ]
  },
  {
   "cell_type": "code",
   "execution_count": 14,
   "metadata": {},
   "outputs": [],
   "source": [
    "test_dataloader = DataLoader(test_dataset,\n",
    "                                batch_size=16,\n",
    "                            #   collate_fn=collate_fn)\n",
    "                            collate_fn=padder)\n",
    "model.load_state_dict(best_state_dict, strict=False)\n",
    "model.eval()\n",
    "model = model.to(device)\n",
    "ft_embs_test = []\n",
    "labels_test_origin = []\n",
    "logits_test_origin_1 = []\n",
    "cls_indexes_all_1 = []\n",
    "for batch_idx, batch in enumerate(test_dataloader):\n",
    "    cls_indexes = torch.nonzero(\n",
    "                    batch[\"data\"].T == tokenizer.cls_token_id)\n",
    "    \n",
    "    # embs = model.bert(batch[\"data\"].T)\n",
    "    logits = model(batch[\"data\"].T, cls_indexes=cls_indexes,).detach().cpu()\n",
    "    # embs = extract_cls_tokens(embs[0], cls_indexes)\n",
    "    # ft_embs_test.append(embs.detach().cpu())\n",
    "    labels_test_origin.append(batch[\"label\"].cpu())\n",
    "    if logits.dim() == 1:\n",
    "        logits = logits.unsqueeze(0)\n",
    "    logits_test_origin_1.append(logits)\n",
    "    cls_indexes_all_1.append(cls_indexes.detach().cpu())\n",
    "# ft_embs_test = torch.cat(ft_embs_test, dim=0)\n",
    "\n",
    "labels_test_origin = torch.cat(labels_test_origin, dim=0)\n",
    "logits_test_origin_1 = torch.cat(logits_test_origin_1, dim=0)\n",
    "preds_test_origin_1 = torch.argmax(logits_test_origin_1, dim=1)"
   ]
  },
  {
   "cell_type": "code",
   "execution_count": 321,
   "metadata": {},
   "outputs": [],
   "source": [
    "is_equal = []\n",
    "for i in range(len(logits_test_origin_16)):\n",
    "    is_equal.append(torch.equal(logits_test_origin_16[i], logits_test_origin_1[i]))"
   ]
  },
  {
   "cell_type": "code",
   "execution_count": 320,
   "metadata": {},
   "outputs": [
    {
     "data": {
      "text/plain": [
       "True"
      ]
     },
     "execution_count": 320,
     "metadata": {},
     "output_type": "execute_result"
    }
   ],
   "source": [
    "True in is_equal"
   ]
  },
  {
   "cell_type": "code",
   "execution_count": 314,
   "metadata": {},
   "outputs": [
    {
     "data": {
      "text/plain": [
       "torch.Size([1085, 101])"
      ]
     },
     "execution_count": 314,
     "metadata": {},
     "output_type": "execute_result"
    }
   ],
   "source": [
    "logits_test_origin_1.shape"
   ]
  },
  {
   "cell_type": "code",
   "execution_count": 308,
   "metadata": {},
   "outputs": [],
   "source": []
  },
  {
   "cell_type": "code",
   "execution_count": 15,
   "metadata": {},
   "outputs": [
    {
     "name": "stdout",
     "output_type": "stream",
     "text": [
      "ts_micro_f1=0.4507, ts_macro_f1=0.1865\n"
     ]
    }
   ],
   "source": [
    "ts_pred_list_origin = logits_test_origin_1.argmax(\n",
    "                            1).cpu().detach().numpy().tolist()\n",
    "from sklearn.metrics import confusion_matrix, f1_score\n",
    "ts_micro_f1 = f1_score(labels_test_origin.reshape(-1).numpy().tolist(),\n",
    "                    ts_pred_list_origin,\n",
    "                    average=\"micro\")\n",
    "ts_macro_f1 = f1_score(labels_test_origin.reshape(-1).numpy().tolist(),\n",
    "                    ts_pred_list_origin,\n",
    "                    average=\"macro\")\n",
    "print(\"ts_micro_f1={:.4f}, ts_macro_f1={:.4f}\".format(ts_micro_f1, ts_macro_f1))"
   ]
  },
  {
   "cell_type": "code",
   "execution_count": 107,
   "metadata": {},
   "outputs": [
    {
     "name": "stderr",
     "output_type": "stream",
     "text": [
      "/tmp/ipykernel_4054970/1939110723.py:3: UserWarning: To copy construct from a tensor, it is recommended to use sourceTensor.clone().detach() or sourceTensor.clone().detach().requires_grad_(True), rather than torch.tensor(sourceTensor).\n",
      "  ood_labels = torch.tensor(preds_test_origin_1 == labels_test_origin).float()\n"
     ]
    }
   ],
   "source": [
    "import torch.nn.functional as F\n",
    "ood_score = F.softmax(logits_test_origin_1, dim=1).max(1).values\n",
    "ood_labels = torch.tensor(preds_test_origin_1 == labels_test_origin).float()\n",
    "from sklearn.metrics import roc_auc_score\n",
    "\n",
    "roc_auc_score(ood_labels, ood_score)"
   ]
  },
  {
   "cell_type": "code",
   "execution_count": 32,
   "metadata": {},
   "outputs": [
    {
     "data": {
      "text/plain": [
       "0.7740097583069132"
      ]
     },
     "execution_count": 32,
     "metadata": {},
     "output_type": "execute_result"
    }
   ],
   "source": []
  },
  {
   "cell_type": "code",
   "execution_count": 33,
   "metadata": {},
   "outputs": [],
   "source": [
    "def compute_entropy(probs):\n",
    "    # Adding a small value (1e-9) to avoid log(0)\n",
    "    if probs.dim() == 1:\n",
    "        return -torch.sum(probs * torch.log(probs))\n",
    "    else:\n",
    "        return -torch.sum(probs * torch.log(probs), dim=1)"
   ]
  },
  {
   "cell_type": "code",
   "execution_count": 34,
   "metadata": {},
   "outputs": [
    {
     "name": "stderr",
     "output_type": "stream",
     "text": [
      "/tmp/ipykernel_4054970/4129975340.py:3: UserWarning: To copy construct from a tensor, it is recommended to use sourceTensor.clone().detach() or sourceTensor.clone().detach().requires_grad_(True), rather than torch.tensor(sourceTensor).\n",
      "  ood_labels = torch.tensor(preds_test_origin_1 != labels_test_origin).float()\n"
     ]
    },
    {
     "data": {
      "text/plain": [
       "0.7723833738213859"
      ]
     },
     "execution_count": 34,
     "metadata": {},
     "output_type": "execute_result"
    }
   ],
   "source": [
    "import torch.nn.functional as F\n",
    "ood_score = compute_entropy(F.softmax(logits_test_origin_1, dim=1))\n",
    "ood_labels = torch.tensor(preds_test_origin_1 != labels_test_origin).float()\n",
    "from sklearn.metrics import roc_auc_score\n",
    "\n",
    "roc_auc_score(ood_labels, ood_score)"
   ]
  },
  {
   "cell_type": "code",
   "execution_count": 26,
   "metadata": {},
   "outputs": [
    {
     "data": {
      "text/plain": [
       "<Axes: ylabel='Count'>"
      ]
     },
     "execution_count": 26,
     "metadata": {},
     "output_type": "execute_result"
    },
    {
     "data": {
      "image/png": "[encoded data removed]",
      "text/plain": [
       "<Figure size 432x288 with 1 Axes>"
      ]
     },
     "metadata": {
      "needs_background": "light"
     },
     "output_type": "display_data"
    }
   ],
   "source": [
    "import seaborn as sns\n",
    "sns.histplot(ood_score)"
   ]
  },
  {
   "cell_type": "code",
   "execution_count": 27,
   "metadata": {},
   "outputs": [
    {
     "data": {
      "text/plain": [
       "<Axes: ylabel='Count'>"
      ]
     },
     "execution_count": 27,
     "metadata": {},
     "output_type": "execute_result"
    },
    {
     "data": {
      "image/png": "[encoded data removed]",
      "text/plain": [
       "<Figure size 432x288 with 1 Axes>"
      ]
     },
     "metadata": {
      "needs_background": "light"
     },
     "output_type": "display_data"
    }
   ],
   "source": [
    "sns.histplot(ood_score[ood_labels==0])"
   ]
  },
  {
   "cell_type": "code",
   "execution_count": 28,
   "metadata": {},
   "outputs": [
    {
     "data": {
      "text/plain": [
       "<Axes: ylabel='Count'>"
      ]
     },
     "execution_count": 28,
     "metadata": {},
     "output_type": "execute_result"
    },
    {
     "data": {
      "image/png": "[encoded data removed]",
      "text/plain": [
       "<Figure size 432x288 with 1 Axes>"
      ]
     },
     "metadata": {
      "needs_background": "light"
     },
     "output_type": "display_data"
    }
   ],
   "source": [
    "sns.histplot(ood_score[ood_labels==1])"
   ]
  },
  {
   "cell_type": "code",
   "execution_count": 30,
   "metadata": {},
   "outputs": [
    {
     "data": {
      "text/plain": [
       "tensor(0.7680)"
      ]
     },
     "execution_count": 30,
     "metadata": {},
     "output_type": "execute_result"
    }
   ],
   "source": [
    "threshold = 0.25\n",
    "(ood_score[ood_labels==1] > threshold).sum()/sum(ood_score> threshold)"
   ]
  },
  {
   "cell_type": "code",
   "execution_count": 32,
   "metadata": {},
   "outputs": [
    {
     "data": {
      "text/plain": [
       "tensor(0.7262)"
      ]
     },
     "execution_count": 32,
     "metadata": {},
     "output_type": "execute_result"
    }
   ],
   "source": [
    "threshold = 0.1\n",
    "(ood_score[ood_labels==1] > threshold).sum()/sum(ood_score> threshold)"
   ]
  },
  {
   "cell_type": "code",
   "execution_count": null,
   "metadata": {},
   "outputs": [],
   "source": []
  },
  {
   "cell_type": "code",
   "execution_count": 108,
   "metadata": {},
   "outputs": [
    {
     "data": {
      "text/plain": [
       "tensor(0.8188)"
      ]
     },
     "execution_count": 108,
     "metadata": {},
     "output_type": "execute_result"
    }
   ],
   "source": [
    "(ood_score[ood_labels==0] < 0.99).sum()/len(ood_score[ood_labels==0])"
   ]
  },
  {
   "cell_type": "code",
   "execution_count": 26,
   "metadata": {},
   "outputs": [
    {
     "data": {
      "text/plain": [
       "tensor(0.3378)"
      ]
     },
     "execution_count": 26,
     "metadata": {},
     "output_type": "execute_result"
    }
   ],
   "source": [
    "(ood_score[ood_labels==1] < 0.99).sum()/len(ood_score[ood_labels==1])"
   ]
  },
  {
   "cell_type": "code",
   "execution_count": 27,
   "metadata": {},
   "outputs": [
    {
     "data": {
      "text/plain": [
       "tensor(0.3378)"
      ]
     },
     "execution_count": 27,
     "metadata": {},
     "output_type": "execute_result"
    }
   ],
   "source": [
    "(ood_score[ood_labels==1] < 0.99).sum()/len(ood_score[ood_labels==1])"
   ]
  },
  {
   "cell_type": "code",
   "execution_count": null,
   "metadata": {},
   "outputs": [],
   "source": [
    "for test_dataloader"
   ]
  },
  {
   "cell_type": "code",
   "execution_count": 6,
   "metadata": {},
   "outputs": [],
   "source": [
    "class GittablesTablewiseIterateDataset(data.Dataset):\n",
    "\n",
    "    def __init__(\n",
    "            self,\n",
    "            cv: int,\n",
    "            split: str,\n",
    "            src: str,  # train or test\n",
    "            tokenizer: AutoTokenizer,\n",
    "            max_length: int = 256,\n",
    "            gt_only: bool = False,\n",
    "            device: torch.device = None,\n",
    "            base_dirpath: str = \"/data/zhihao/TU/GitTables/semtab_gittables/2022\",\n",
    "            base_tag: str = '', # blank, comma\n",
    "            small_tag: str = \"\",\n",
    "            train_ratio: float = 1.0,\n",
    "            max_unlabeled=8,\n",
    "            random_sample=False, # TODO\n",
    "            train_only=False): # TODO\n",
    "        if device is None:\n",
    "            device = torch.device('cpu')\n",
    "        basename = small_tag+ \"_cv_{}.csv\"\n",
    "    \n",
    "        if split in [\"train\", \"valid\"]:\n",
    "            df_list = []\n",
    "            for i in range(5):\n",
    "                if i == cv:\n",
    "                    continue\n",
    "                filepath = os.path.join(base_dirpath, basename.format(i))\n",
    "                df_list.append(pd.read_csv(filepath))\n",
    "                print(split, i)\n",
    "            df = pd.concat(df_list, axis=0)\n",
    "        else:\n",
    "            # test\n",
    "            filepath = os.path.join(base_dirpath, basename.format(cv))\n",
    "            df = pd.read_csv(filepath)\n",
    "            print(split)\n",
    "\n",
    "\n",
    "        if gt_only:\n",
    "            df = df[df[\"class_id\"] > -1]\n",
    "        if train_only and split != \"train\":\n",
    "            df = df[df[\"class_id\"] > -1]\n",
    "\n",
    "        \n",
    "        data_list = []\n",
    "        \n",
    "        df['class_id'] = df['class_id'].astype(int)\n",
    "        df.drop(df[(df['data'].isna()) & (df['class_id'] == -1)].index, inplace=True)\n",
    "        df['col_idx'] = df['col_idx'].astype(int)\n",
    "        df['data'] = df['data'].astype(str)\n",
    "        \n",
    "        num_tables = len(df.groupby(\"table_id\"))\n",
    "        valid_index = int(num_tables * 0.8)\n",
    "        num_train = int(train_ratio * num_tables * 0.8)        \n",
    "        \n",
    "        # df.drop(df[(df['data'] == '') & (df['class_id'] == -1)].index, inplace=True)\n",
    "        total_num_cols = 0\n",
    "        for i, (index, group_df) in enumerate(df.groupby(\"table_id\")):\n",
    "            if (split == \"train\") and ((i >= num_train) or (i >= valid_index)):\n",
    "                break\n",
    "            if split == \"valid\" and i < valid_index:\n",
    "                continue\n",
    "            #     break\n",
    "            labeled_columns = group_df[group_df['class_id'] > -1]\n",
    "            unlabeled_columns = group_df[group_df['class_id'] == -1]\n",
    "            num_unlabeled = min(max(max_unlabeled-len(labeled_columns), 0), len(unlabeled_columns))\n",
    "            unlabeled_columns = unlabeled_columns.sample(num_unlabeled) if random_sample else unlabeled_columns[0:num_unlabeled]\n",
    "            # group_df = pd.concat([group_df[group_df['class_id'] > -1], unlabeled_columns.sample(min(10-len(labeled_columns), len(unlabeled_columns)))])\n",
    "            # group_df = pd.concat([group_df[group_df['class_id'] > -1], unlabeled_columns[0:min(max(10-len(labeled_columns), 0), len(unlabeled_columns))]])\n",
    "            group_df = pd.concat([group_df[group_df['class_id'] > -1], unlabeled_columns]) # TODO\n",
    "            group_df.sort_values(by=['col_idx'], inplace=True)\n",
    "\n",
    "            if max_length <= 128:\n",
    "                cur_maxlen = min(max_length, 512 // len(list(group_df[\"class_id\"].values)) - 1)\n",
    "            else:\n",
    "                cur_maxlen = max(1, max_length // len(list(group_df[\"class_id\"].values)) - 1)\n",
    "                \n",
    "            token_ids_list = group_df[\"data\"].apply(lambda x: tokenizer.encode(\n",
    "                tokenizer.cls_token + \" \" + x, add_special_tokens=False, max_length=cur_maxlen, truncation=True)).tolist(\n",
    "                )\n",
    "            token_ids = torch.LongTensor(reduce(operator.add,\n",
    "                                                token_ids_list)).to(device)\n",
    "            for col_i in range(len(token_ids_list)):\n",
    "                if group_df[\"class_id\"].values[col_i] == -1:\n",
    "                    continue\n",
    "                target_col_mask = []\n",
    "                cls_index_value = 0\n",
    "                context_id = 1\n",
    "                for col_j in range(len(token_ids_list)):\n",
    "                    if col_j == col_i:\n",
    "                        target_col_mask += [0] * len(token_ids_list[col_j])\n",
    "                    else:\n",
    "                        target_col_mask += [context_id] * len(token_ids_list[col_j])\n",
    "                        context_id += 1\n",
    "                    if col_j < col_i:\n",
    "                        cls_index_value += len(token_ids_list[col_j])\n",
    "                cls_index_list = [cls_index_value] \n",
    "                for cls_index in cls_index_list:\n",
    "                    assert token_ids[\n",
    "                        cls_index] == tokenizer.cls_token_id, \"cls_indexes validation\"\n",
    "                cls_indexes = torch.LongTensor(cls_index_list).to(device)\n",
    "                class_ids = torch.LongTensor(\n",
    "                    [group_df[\"class_id\"].values[col_i]]).to(device)\n",
    "                target_col_mask = torch.LongTensor(target_col_mask).to(device)\n",
    "                data_list.append(\n",
    "                    [index,\n",
    "                    len(group_df), token_ids, class_ids, cls_indexes, target_col_mask])                \n",
    "        print(split, len(data_list))\n",
    "        self.table_df = pd.DataFrame(data_list,\n",
    "                                     columns=[\n",
    "                                         \"table_id\", \"num_col\", \"data_tensor\",\n",
    "                                         \"label_tensor\", \"cls_indexes\", \"target_col_mask\"\n",
    "                                     ])\n",
    "        \"\"\"\n",
    "        # NOTE: msato contains a small portion of single-col tables. keep it to be consistent.  \n",
    "        if multicol_only:\n",
    "            # Check\n",
    "            num_all_tables = len(self.table_df)\n",
    "            self.table_df = self.table_df[self.table_df[\"num_col\"] > 1]\n",
    "            assert len(self.table_df) == num_all_tables\n",
    "        \"\"\"\n",
    "\n",
    "    def __len__(self):\n",
    "        return len(self.table_df)\n",
    "\n",
    "    def __getitem__(self, idx):\n",
    "        return {\n",
    "            \"data\": self.table_df.iloc[idx][\"data_tensor\"],\n",
    "            \"label\": self.table_df.iloc[idx][\"label_tensor\"],\n",
    "            \"cls_indexes\": self.table_df.iloc[idx][\"cls_indexes\"],\n",
    "            \"target_col_mask\": self.table_df.iloc[idx][\"target_col_mask\"],\n",
    "        }\n",
    "        #\"idx\": torch.LongTensor([idx])}\n",
    "        #\"cls_indexes\": self.table_df.iloc[idx][\"cls_indexes\"]}"
   ]
  },
  {
   "cell_type": "code",
   "execution_count": 7,
   "metadata": {},
   "outputs": [],
   "source": [
    "def collate_fn(pad_token_id, data_only=True):\n",
    "    '''padder for input batch'''\n",
    "\n",
    "    def padder(samples):    \n",
    "        data = torch.nn.utils.rnn.pad_sequence(\n",
    "            [sample[\"data\"] for sample in samples], padding_value=pad_token_id)\n",
    "        if not data_only:\n",
    "            label = torch.nn.utils.rnn.pad_sequence(\n",
    "                [sample[\"label\"] for sample in samples], padding_value=-1)\n",
    "        else:\n",
    "            label = torch.cat([sample[\"label\"] for sample in samples])\n",
    "        batch = {\"data\": data, \"label\": label}\n",
    "        if \"idx\" in samples[0]:\n",
    "            batch[\"idx\"] = [sample[\"idx\"] for sample in samples]\n",
    "        if \"cls_indexes\" in samples[0]:\n",
    "            cls_indexes = torch.nn.utils.rnn.pad_sequence(\n",
    "                [sample[\"cls_indexes\"] for sample in samples], padding_value=0)\n",
    "            batch[\"cls_indexes\"] = cls_indexes\n",
    "        if \"target_col_mask\" in samples[0]:\n",
    "            target_col_mask = torch.nn.utils.rnn.pad_sequence(\n",
    "                [sample[\"target_col_mask\"] for sample in samples], padding_value=-1)\n",
    "            batch[\"target_col_mask\"] = target_col_mask\n",
    "        if \"table_embedding\" in samples[0]:\n",
    "            table_embeddings = [sample[\"table_embedding\"] for sample in samples]\n",
    "            batch[\"table_embedding\"] = torch.stack(table_embeddings, dim=0)\n",
    "        return batch\n",
    "        \n",
    "    return padder"
   ]
  },
  {
   "cell_type": "code",
   "execution_count": 8,
   "metadata": {},
   "outputs": [
    {
     "name": "stdout",
     "output_type": "stream",
     "text": [
      "test\n",
      "test 1085\n"
     ]
    }
   ],
   "source": [
    "src = None\n",
    "test_dataset_iter = GittablesTablewiseIterateDataset(cv=cv,\n",
    "                            split=\"test\", src=src,\n",
    "                            tokenizer=tokenizer,\n",
    "                            max_length=max_length,\n",
    "                            gt_only='all' not in task,\n",
    "                            device=device,\n",
    "                            base_dirpath=os.path.join(args.data_path, \"GitTables/semtab_gittables/2022\"),\n",
    "                            small_tag=\"semi1\")\n",
    "padder = collate_fn(tokenizer.pad_token_id)\n",
    "test_dataloader_iter = DataLoader(test_dataset_iter,\n",
    "                                batch_size=1,\n",
    "                            #   collate_fn=collate_fn)\n",
    "                            collate_fn=padder)"
   ]
  },
  {
   "cell_type": "code",
   "execution_count": 9,
   "metadata": {},
   "outputs": [
    {
     "name": "stdout",
     "output_type": "stream",
     "text": [
      "train 1\n",
      "train 2\n",
      "train 3\n",
      "train 4\n",
      "train 3463\n"
     ]
    }
   ],
   "source": [
    "train_dataset_iter = GittablesTablewiseIterateDataset(cv=cv,\n",
    "                            split=\"train\", src=src,\n",
    "                            tokenizer=tokenizer,\n",
    "                            max_length=max_length,\n",
    "                            gt_only='all' not in task,\n",
    "                            device=device,\n",
    "                            base_dirpath=os.path.join(args.data_path, \"GitTables/semtab_gittables/2022\"),\n",
    "                            small_tag=\"semi1\")\n",
    "padder = collate_fn(tokenizer.pad_token_id)\n",
    "train_dataloader_iter = DataLoader(train_dataset_iter,\n",
    "                                batch_size=1,\n",
    "                            #   collate_fn=collate_fn)\n",
    "                            collate_fn=padder)"
   ]
  },
  {
   "cell_type": "code",
   "execution_count": null,
   "metadata": {},
   "outputs": [],
   "source": []
  },
  {
   "cell_type": "code",
   "execution_count": null,
   "metadata": {},
   "outputs": [],
   "source": [
    "labels_test_origin \n",
    "logits_test_origin \n",
    "preds_test_origin "
   ]
  },
  {
   "cell_type": "code",
   "execution_count": 272,
   "metadata": {},
   "outputs": [
    {
     "data": {
      "text/plain": [
       "False"
      ]
     },
     "execution_count": 272,
     "metadata": {},
     "output_type": "execute_result"
    }
   ],
   "source": [
    "logits_test_origin.equal(logits_test)"
   ]
  },
  {
   "cell_type": "code",
   "execution_count": null,
   "metadata": {},
   "outputs": [],
   "source": []
  },
  {
   "cell_type": "code",
   "execution_count": 269,
   "metadata": {},
   "outputs": [
    {
     "data": {
      "text/plain": [
       "True"
      ]
     },
     "execution_count": 269,
     "metadata": {},
     "output_type": "execute_result"
    }
   ],
   "source": [
    "labels_test.equal(labels_test_origin )"
   ]
  },
  {
   "cell_type": "code",
   "execution_count": 507,
   "metadata": {},
   "outputs": [
    {
     "name": "stdout",
     "output_type": "stream",
     "text": [
      "1 tensor(0.0009)\n"
     ]
    }
   ],
   "source": [
    "print((num_cols==0).sum().item(), (num_cols==0).sum()/len(num_cols))"
   ]
  },
  {
   "cell_type": "code",
   "execution_count": 8,
   "metadata": {},
   "outputs": [
    {
     "name": "stdout",
     "output_type": "stream",
     "text": [
      "ts_micro_f1=0.5355, ts_macro_f1=0.2745\n",
      "ts_micro_f1=0.5351, ts_macro_f1=0.2745\n",
      "ts_micro_f1=1.0000, ts_macro_f1=1.0000\n"
     ]
    }
   ],
   "source": [
    "model.eval()\n",
    "model = model.to(device)\n",
    "ft_embs_test = []\n",
    "labels_test = []\n",
    "logits_test = []\n",
    "num_cols = []\n",
    "for batch_idx, batch in enumerate(test_dataloader_iter):\n",
    "    cls_indexes = torch.LongTensor([[0, batch[\"cls_indexes\"].cpu().item()]]).to(device)\n",
    "    target_col_mask = batch[\"target_col_mask\"].T\n",
    "    logits = model(batch[\"data\"].T, cls_indexes=cls_indexes,)\n",
    "    labels_test.append(batch[\"label\"].cpu())\n",
    "    logits_test.append(logits.detach().cpu())\n",
    "    num_cols.append(batch[\"target_col_mask\"].max().item())\n",
    "labels_test = torch.cat(labels_test, dim=0)\n",
    "logits_test = torch.stack(logits_test, dim=0)\n",
    "preds_test = torch.argmax(logits_test, dim=1)\n",
    "num_cols = torch.tensor(num_cols)\n",
    " \n",
    "from sklearn.metrics import confusion_matrix, f1_score\n",
    "mask = num_cols > 0\n",
    "ts_pred_list = logits_test.argmax(\n",
    "                            1).cpu().detach().numpy().tolist()\n",
    "ts_micro_f1 = f1_score(labels_test.reshape(-1).numpy().tolist(),\n",
    "                    ts_pred_list,\n",
    "                    average=\"micro\")\n",
    "ts_macro_f1 = f1_score(labels_test.reshape(-1).numpy().tolist(),\n",
    "                    ts_pred_list,\n",
    "                    average=\"macro\")\n",
    "print(\"ts_micro_f1={:.4f}, ts_macro_f1={:.4f}\".format(ts_micro_f1, ts_macro_f1))\n",
    "ts_pred_list = logits_test.argmax(\n",
    "                            1).cpu().detach()[mask].numpy().tolist()\n",
    "ts_micro_f1 = f1_score(labels_test.reshape(-1)[mask].numpy().tolist(),\n",
    "                    ts_pred_list,\n",
    "                    average=\"micro\")\n",
    "ts_macro_f1 = f1_score(labels_test.reshape(-1)[mask].numpy().tolist(),\n",
    "                    ts_pred_list,\n",
    "                    average=\"macro\")\n",
    "print(\"ts_micro_f1={:.4f}, ts_macro_f1={:.4f}\".format(ts_micro_f1, ts_macro_f1))\n",
    "ts_pred_list = logits_test.argmax(\n",
    "                            1).cpu().detach()[~mask].numpy().tolist()\n",
    "ts_micro_f1 = f1_score(labels_test.reshape(-1)[~mask].numpy().tolist(),\n",
    "                    ts_pred_list,\n",
    "                    average=\"micro\")\n",
    "ts_macro_f1 = f1_score(labels_test.reshape(-1)[~mask].numpy().tolist(),\n",
    "                    ts_pred_list,\n",
    "                    average=\"macro\")\n",
    "print(\"ts_micro_f1={:.4f}, ts_macro_f1={:.4f}\".format(ts_micro_f1, ts_macro_f1))"
   ]
  },
  {
   "cell_type": "code",
   "execution_count": 244,
   "metadata": {},
   "outputs": [
    {
     "data": {
      "text/plain": [
       "1085"
      ]
     },
     "execution_count": 244,
     "metadata": {},
     "output_type": "execute_result"
    }
   ],
   "source": []
  },
  {
   "cell_type": "code",
   "execution_count": 10,
   "metadata": {},
   "outputs": [
    {
     "name": "stderr",
     "output_type": "stream",
     "text": [
      "/tmp/ipykernel_3314194/1144848621.py:3: UserWarning: To copy construct from a tensor, it is recommended to use sourceTensor.clone().detach() or sourceTensor.clone().detach().requires_grad_(True), rather than torch.tensor(sourceTensor).\n",
      "  ood_labels = torch.tensor(preds_test == labels_test).float()\n"
     ]
    }
   ],
   "source": [
    "import torch.nn.functional as F\n",
    "ood_score = F.softmax(logits_test, dim=1).max(1).values\n",
    "ood_labels = torch.tensor(preds_test == labels_test).float()"
   ]
  },
  {
   "cell_type": "code",
   "execution_count": 33,
   "metadata": {},
   "outputs": [
    {
     "data": {
      "text/plain": [
       "tensor(0.8592)"
      ]
     },
     "execution_count": 33,
     "metadata": {},
     "output_type": "execute_result"
    }
   ],
   "source": [
    "(ood_score[ood_labels==0] < 0.99).sum()/sum(ood_labels==0)"
   ]
  },
  {
   "cell_type": "code",
   "execution_count": 35,
   "metadata": {},
   "outputs": [
    {
     "data": {
      "text/plain": [
       "tensor(0.7678)"
      ]
     },
     "execution_count": 35,
     "metadata": {},
     "output_type": "execute_result"
    }
   ],
   "source": [
    "threshold = 0.5\n",
    "(ood_score[ood_labels==0] < threshold).sum()/sum(ood_score<threshold)"
   ]
  },
  {
   "cell_type": "code",
   "execution_count": 11,
   "metadata": {},
   "outputs": [
    {
     "name": "stdout",
     "output_type": "stream",
     "text": [
      "ts_micro_f1=0.4406, ts_macro_f1=0.1616\n",
      "ts_micro_f1=0.4400, ts_macro_f1=0.1616\n",
      "ts_micro_f1=1.0000, ts_macro_f1=1.0000\n"
     ]
    }
   ],
   "source": [
    "# Single column results\n",
    "model.eval()\n",
    "model = model.to(device)\n",
    "ft_embs_test = []\n",
    "labels_test = []\n",
    "logits_test = []\n",
    "num_cols = []\n",
    "for batch_idx, batch in enumerate(test_dataloader_iter):\n",
    "    cls_indexes = torch.LongTensor([[0, 0]]).to(device)\n",
    "    target_col_mask = batch[\"target_col_mask\"].T\n",
    "    logits = model(batch[\"data\"].T[:, target_col_mask[0]==0], cls_indexes=cls_indexes,)\n",
    "    labels_test.append(batch[\"label\"].cpu())\n",
    "    logits_test.append(logits.detach().cpu())\n",
    "    num_cols.append(batch[\"target_col_mask\"].max().item())\n",
    "labels_test = torch.cat(labels_test, dim=0)\n",
    "logits_test = torch.stack(logits_test, dim=0)\n",
    "preds_test = torch.argmax(logits_test, dim=1)\n",
    "num_cols = torch.tensor(num_cols)\n",
    "\n",
    "from sklearn.metrics import confusion_matrix, f1_score\n",
    "mask = num_cols > 0\n",
    "ts_pred_list = logits_test.argmax(\n",
    "                            1).cpu().detach().numpy().tolist()\n",
    "ts_micro_f1 = f1_score(labels_test.reshape(-1).numpy().tolist(),\n",
    "                    ts_pred_list,\n",
    "                    average=\"micro\")\n",
    "ts_macro_f1 = f1_score(labels_test.reshape(-1).numpy().tolist(),\n",
    "                    ts_pred_list,\n",
    "                    average=\"macro\")\n",
    "print(\"ts_micro_f1={:.4f}, ts_macro_f1={:.4f}\".format(ts_micro_f1, ts_macro_f1))\n",
    "ts_pred_list = logits_test.argmax(\n",
    "                            1).cpu().detach()[mask].numpy().tolist()\n",
    "ts_micro_f1 = f1_score(labels_test.reshape(-1)[mask].numpy().tolist(),\n",
    "                    ts_pred_list,\n",
    "                    average=\"micro\")\n",
    "ts_macro_f1 = f1_score(labels_test.reshape(-1)[mask].numpy().tolist(),\n",
    "                    ts_pred_list,\n",
    "                    average=\"macro\")\n",
    "print(\"ts_micro_f1={:.4f}, ts_macro_f1={:.4f}\".format(ts_micro_f1, ts_macro_f1))\n",
    "ts_pred_list = logits_test.argmax(\n",
    "                            1).cpu().detach()[~mask].numpy().tolist()\n",
    "ts_micro_f1 = f1_score(labels_test.reshape(-1)[~mask].numpy().tolist(),\n",
    "                    ts_pred_list,\n",
    "                    average=\"micro\")\n",
    "ts_macro_f1 = f1_score(labels_test.reshape(-1)[~mask].numpy().tolist(),\n",
    "                    ts_pred_list,\n",
    "                    average=\"macro\")\n",
    "print(\"ts_micro_f1={:.4f}, ts_macro_f1={:.4f}\".format(ts_micro_f1, ts_macro_f1))"
   ]
  },
  {
   "cell_type": "code",
   "execution_count": null,
   "metadata": {},
   "outputs": [],
   "source": []
  },
  {
   "cell_type": "code",
   "execution_count": 22,
   "metadata": {},
   "outputs": [
    {
     "name": "stdout",
     "output_type": "stream",
     "text": [
      "ts_micro_f1=0.4903, ts_macro_f1=0.2121\n",
      "ts_micro_f1=0.4974, ts_macro_f1=0.2227\n",
      "ts_micro_f1=0.4823, ts_macro_f1=0.1573\n"
     ]
    }
   ],
   "source": [
    "# Cheat drop one-column\n",
    "model.load_state_dict(best_state_dict, strict=False)\n",
    "model.eval()\n",
    "model = model.to(device)\n",
    "ft_embs_test = []\n",
    "labels_test = []\n",
    "logits_test = []\n",
    "log = defaultdict(list)\n",
    "num_cols = []\n",
    "corrected = 0\n",
    "total_mistakes = 0\n",
    "logits_init = []\n",
    "logits_correct = []\n",
    "for batch_idx, batch in enumerate(test_dataloader_iter):\n",
    "    cls_indexes = torch.LongTensor([[0, batch[\"cls_indexes\"].cpu().item()]]).to(device)\n",
    "    target_col_mask = batch[\"target_col_mask\"].T\n",
    "    logits = model(batch[\"data\"].T, cls_indexes=cls_indexes,)\n",
    "    num_cols.append(batch[\"target_col_mask\"].max().item())\n",
    "    if 1 in target_col_mask and logits.argmax().item() != batch[\"label\"].item():\n",
    "        total_mistakes += 1\n",
    "        for col_i in target_col_mask.unique():\n",
    "            if col_i == 0 or col_i == -1:\n",
    "                continue\n",
    "            new_batch_data = batch[\"data\"].T[target_col_mask!=col_i].reshape(1, -1)\n",
    "            target_col_mask_temp = target_col_mask[target_col_mask!=col_i].reshape(1, -1)\n",
    "            cls_indexes = (target_col_mask_temp == 0).nonzero()[0].reshape(1, -1)\n",
    "            logits_temp = model(new_batch_data, cls_indexes=cls_indexes,)\n",
    "            if logits_temp.argmax().item() == batch[\"label\"].item():\n",
    "                logits_init.append(logits.detach().cpu())\n",
    "                logits = logits_temp.clone()\n",
    "                \n",
    "                corrected += 1\n",
    "\n",
    "            \n",
    "    labels_test.append(batch[\"label\"].cpu())\n",
    "    logits_test.append(logits.detach().cpu())\n",
    "labels_test = torch.cat(labels_test, dim=0)\n",
    "logits_test = torch.stack(logits_test, dim=0)\n",
    "preds_test = torch.argmax(logits_test, dim=1)\n",
    "num_cols = torch.tensor(num_cols)\n",
    "\n",
    "\n",
    "\n",
    "\n",
    "from sklearn.metrics import confusion_matrix, f1_score\n",
    "mask = num_cols > 0\n",
    "ts_pred_list = logits_test.argmax(\n",
    "                            1).cpu().detach().numpy().tolist()\n",
    "ts_micro_f1 = f1_score(labels_test.reshape(-1).numpy().tolist(),\n",
    "                    ts_pred_list,\n",
    "                    average=\"micro\")\n",
    "ts_macro_f1 = f1_score(labels_test.reshape(-1).numpy().tolist(),\n",
    "                    ts_pred_list,\n",
    "                    average=\"macro\")\n",
    "print(\"ts_micro_f1={:.4f}, ts_macro_f1={:.4f}\".format(ts_micro_f1, ts_macro_f1))\n",
    "ts_pred_list = logits_test.argmax(\n",
    "                            1).cpu().detach()[mask].numpy().tolist()\n",
    "ts_micro_f1 = f1_score(labels_test.reshape(-1)[mask].numpy().tolist(),\n",
    "                    ts_pred_list,\n",
    "                    average=\"micro\")\n",
    "ts_macro_f1 = f1_score(labels_test.reshape(-1)[mask].numpy().tolist(),\n",
    "                    ts_pred_list,\n",
    "                    average=\"macro\")\n",
    "print(\"ts_micro_f1={:.4f}, ts_macro_f1={:.4f}\".format(ts_micro_f1, ts_macro_f1))\n",
    "ts_pred_list = logits_test.argmax(\n",
    "                            1).cpu().detach()[~mask].numpy().tolist()\n",
    "ts_micro_f1 = f1_score(labels_test.reshape(-1)[~mask].numpy().tolist(),\n",
    "                    ts_pred_list,\n",
    "                    average=\"micro\")\n",
    "ts_macro_f1 = f1_score(labels_test.reshape(-1)[~mask].numpy().tolist(),\n",
    "                    ts_pred_list,\n",
    "                    average=\"macro\")\n",
    "print(\"ts_micro_f1={:.4f}, ts_macro_f1={:.4f}\".format(ts_micro_f1, ts_macro_f1))"
   ]
  },
  {
   "cell_type": "code",
   "execution_count": 47,
   "metadata": {},
   "outputs": [],
   "source": [
    "# Cheat drop one-column\n",
    "model.load_state_dict(best_state_dict, strict=False)\n",
    "model.eval()\n",
    "model = model.to(device)\n",
    "ft_embs_test = []\n",
    "labels_test = []\n",
    "logits_test = []\n",
    "log = defaultdict(list)\n",
    "num_cols = []\n",
    "corrected = 0\n",
    "total_mistakes = 0\n",
    "logits_init = []\n",
    "logits_correct = []\n",
    "for batch_idx, batch in enumerate(test_dataloader_iter):\n",
    "    cls_indexes = torch.LongTensor([[0, batch[\"cls_indexes\"].cpu().item()]]).to(device)\n",
    "    target_col_mask = batch[\"target_col_mask\"].T\n",
    "    logits = model(batch[\"data\"].T, cls_indexes=cls_indexes,)\n",
    "    num_cols.append(batch[\"target_col_mask\"].max().item())\n",
    "    if 1 in target_col_mask and logits.argmax().item() != batch[\"label\"].item():\n",
    "        total_mistakes += 1\n",
    "        for col_i in target_col_mask.unique():\n",
    "            if col_i == 0 or col_i == -1:\n",
    "                continue\n",
    "            new_batch_data = batch[\"data\"].T[target_col_mask!=col_i].reshape(1, -1)\n",
    "            target_col_mask_temp = target_col_mask[target_col_mask!=col_i].reshape(1, -1)\n",
    "            cls_indexes = (target_col_mask_temp == 0).nonzero()[0].reshape(1, -1)\n",
    "            logits_temp = model(new_batch_data, cls_indexes=cls_indexes,)\n",
    "            if logits_temp.argmax().item() == batch[\"label\"].item():\n",
    "                logits_init.append(logits.detach().cpu())\n",
    "                logits_correct.append(logits_temp.detach().cpu())\n",
    "                corrected += 1\n",
    "                break"
   ]
  },
  {
   "cell_type": "code",
   "execution_count": null,
   "metadata": {},
   "outputs": [],
   "source": [
    "# Cheat brute force permutation\n",
    "model.load_state_dict(best_state_dict, strict=False)\n",
    "model.eval()\n",
    "model = model.to(device)\n",
    "ft_embs_test = []\n",
    "labels_test = []\n",
    "logits_test = []\n",
    "log = defaultdict(list)\n",
    "num_cols = []\n",
    "corrected = 0\n",
    "total_mistakes = 0\n",
    "logits_init = []\n",
    "logits_correct = []\n",
    "for batch_idx, batch in enumerate(test_dataloader_iter):\n",
    "    cls_indexes = torch.LongTensor([[0, batch[\"cls_indexes\"].cpu().item()]]).to(device)\n",
    "    target_col_mask = batch[\"target_col_mask\"].T\n",
    "    logits = model(batch[\"data\"].T, cls_indexes=cls_indexes,)\n",
    "    num_cols.append(batch[\"target_col_mask\"].max().item())\n",
    "    if 1 in target_col_mask and logits.argmax().item() != batch[\"label\"].item():\n",
    "        total_mistakes += 1\n",
    "        for col_i in target_col_mask.unique():\n",
    "            if col_i == 0 or col_i == -1:\n",
    "                continue\n",
    "            new_batch_data = batch[\"data\"].T[target_col_mask!=col_i].reshape(1, -1)\n",
    "            target_col_mask_temp = target_col_mask[target_col_mask!=col_i].reshape(1, -1)\n",
    "            cls_indexes = (target_col_mask_temp == 0).nonzero()[0].reshape(1, -1)\n",
    "            logits_temp = model(new_batch_data, cls_indexes=cls_indexes,)\n",
    "            if logits_temp.argmax().item() == batch[\"label\"].item():\n",
    "                logits_init.append(logits.detach().cpu())\n",
    "                logits_correct.append(logits_temp.detach().cpu())\n",
    "                corrected += 1\n",
    "                break"
   ]
  },
  {
   "cell_type": "code",
   "execution_count": null,
   "metadata": {},
   "outputs": [],
   "source": [
    "# Cheat drop one-column\n",
    "model.load_state_dict(best_state_dict, strict=False)\n",
    "model.eval()\n",
    "model = model.to(device)\n",
    "ft_embs_test = []\n",
    "labels_test = []\n",
    "logits_test = []\n",
    "log = defaultdict(list)\n",
    "num_cols = []\n",
    "corrected = 0\n",
    "total_mistakes = 0\n",
    "logits_init = []\n",
    "logits_correct = []\n",
    "for batch_idx, batch in enumerate(test_dataloader_iter):\n",
    "    cls_indexes = torch.LongTensor([[0, batch[\"cls_indexes\"].cpu().item()]]).to(device)\n",
    "    target_col_mask = batch[\"target_col_mask\"].T\n",
    "    logits = model(batch[\"data\"].T, cls_indexes=cls_indexes,)\n",
    "    num_cols.append(batch[\"target_col_mask\"].max().item())\n",
    "    if 1 in target_col_mask and logits.argmax().item() != batch[\"label\"].item():\n",
    "        total_mistakes += 1\n",
    "        for col_i in target_col_mask.unique():\n",
    "            if col_i == 0 or col_i == -1:\n",
    "                continue\n",
    "            new_batch_data = batch[\"data\"].T[target_col_mask!=col_i].reshape(1, -1)\n",
    "            target_col_mask_temp = target_col_mask[target_col_mask!=col_i].reshape(1, -1)\n",
    "            cls_indexes = (target_col_mask_temp == 0).nonzero()[0].reshape(1, -1)\n",
    "            logits_temp = model(new_batch_data, cls_indexes=cls_indexes,)\n",
    "            if logits_temp.argmax().item() == batch[\"label\"].item():\n",
    "                logits_init.append(logits.detach().cpu())\n",
    "                logits_correct.append(logits_temp.detach().cpu())\n",
    "                corrected += 1\n",
    "                break"
   ]
  },
  {
   "cell_type": "code",
   "execution_count": 48,
   "metadata": {},
   "outputs": [
    {
     "data": {
      "text/plain": [
       "34"
      ]
     },
     "execution_count": 48,
     "metadata": {},
     "output_type": "execute_result"
    }
   ],
   "source": [
    "len(logits_init)"
   ]
  },
  {
   "cell_type": "code",
   "execution_count": 49,
   "metadata": {},
   "outputs": [
    {
     "data": {
      "text/plain": [
       "314"
      ]
     },
     "execution_count": 49,
     "metadata": {},
     "output_type": "execute_result"
    }
   ],
   "source": [
    "total_mistakes"
   ]
  },
  {
   "cell_type": "code",
   "execution_count": 50,
   "metadata": {},
   "outputs": [],
   "source": [
    "logits_init = torch.stack(logits_init, dim=0)\n",
    "logits_correct = torch.stack(logits_correct, dim=0)"
   ]
  },
  {
   "cell_type": "code",
   "execution_count": 52,
   "metadata": {},
   "outputs": [],
   "source": [
    "ood_score_init = F.softmax(logits_init, dim=1).max(1).values\n",
    "ood_score_correct = F.softmax(logits_correct, dim=1).max(1).values"
   ]
  },
  {
   "cell_type": "code",
   "execution_count": 54,
   "metadata": {},
   "outputs": [
    {
     "data": {
      "text/plain": [
       "tensor(23)"
      ]
     },
     "execution_count": 54,
     "metadata": {},
     "output_type": "execute_result"
    }
   ],
   "source": [
    "((ood_score_correct - ood_score_init)>0).sum()"
   ]
  },
  {
   "cell_type": "code",
   "execution_count": 53,
   "metadata": {},
   "outputs": [
    {
     "data": {
      "text/plain": [
       "<Axes: ylabel='Count'>"
      ]
     },
     "execution_count": 53,
     "metadata": {},
     "output_type": "execute_result"
    },
    {
     "data": {
      "image/png": "[encoded data removed]",
      "text/plain": [
       "<Figure size 432x288 with 1 Axes>"
      ]
     },
     "metadata": {
      "needs_background": "light"
     },
     "output_type": "display_data"
    }
   ],
   "source": [
    "sns.histplot(ood_score_init, color='skyblue', kde=True)\n",
    "sns.histplot(ood_score_correct, color='salmon', kde=True)"
   ]
  },
  {
   "cell_type": "code",
   "execution_count": null,
   "metadata": {},
   "outputs": [],
   "source": []
  },
  {
   "cell_type": "code",
   "execution_count": 21,
   "metadata": {},
   "outputs": [
    {
     "name": "stdout",
     "output_type": "stream",
     "text": [
      "34 314 0.10828025477707007\n"
     ]
    }
   ],
   "source": [
    "print(corrected, total_mistakes, corrected/total_mistakes)"
   ]
  },
  {
   "cell_type": "code",
   "execution_count": 25,
   "metadata": {},
   "outputs": [
    {
     "name": "stdout",
     "output_type": "stream",
     "text": [
      "ts_micro_f1=0.4323, ts_macro_f1=0.2168\n",
      "ts_micro_f1=0.4939, ts_macro_f1=0.2391\n",
      "ts_micro_f1=0.3622, ts_macro_f1=0.1474\n"
     ]
    }
   ],
   "source": [
    "# Cheat add\n",
    "model.load_state_dict(best_state_dict, strict=False)\n",
    "model.eval()\n",
    "model = model.to(device)\n",
    "ft_embs_test = []\n",
    "labels_test = []\n",
    "logits_test = []\n",
    "log = defaultdict(list)\n",
    "num_cols = []\n",
    "threshold = 0.8\n",
    "corrected = 0\n",
    "total_mistakes = 0\n",
    "for batch_idx, batch in enumerate(test_dataloader_iter):\n",
    "    cls_indexes = torch.LongTensor([[0, batch[\"cls_indexes\"].cpu().item()]]).to(device)\n",
    "    target_col_mask = batch[\"target_col_mask\"].T\n",
    "    logits = model(batch[\"data\"].T, cls_indexes=cls_indexes,)\n",
    "    num_cols.append(batch[\"target_col_mask\"].max().item())\n",
    "    if 1 in target_col_mask and logits.argmax().item() != batch[\"label\"].item():\n",
    "        total_mistakes += 1\n",
    "        for col_i in target_col_mask.unique():\n",
    "            if col_i == 0 or col_i == -1:\n",
    "                continue\n",
    "            new_batch_data = batch[\"data\"].T[(target_col_mask==col_i) + (target_col_mask==0)].reshape(1, -1)\n",
    "            target_col_mask_temp = target_col_mask[(target_col_mask==col_i) + (target_col_mask==0)].reshape(1, -1)\n",
    "            cls_indexes = (target_col_mask_temp == 0).nonzero()[0].reshape(1, -1)\n",
    "            logits_temp = model(new_batch_data, cls_indexes=cls_indexes,)\n",
    "            if logits_temp.argmax().item() == batch[\"label\"].item():\n",
    "                logits = logits_temp.clone()\n",
    "                corrected += 1\n",
    "                break\n",
    "            \n",
    "    labels_test.append(batch[\"label\"].cpu())\n",
    "    logits_test.append(logits.detach().cpu())\n",
    "labels_test = torch.cat(labels_test, dim=0)\n",
    "logits_test = torch.stack(logits_test, dim=0)\n",
    "preds_test = torch.argmax(logits_test, dim=1)\n",
    "num_cols = torch.tensor(num_cols)\n",
    "\n",
    "\n",
    "\n",
    "\n",
    "from sklearn.metrics import confusion_matrix, f1_score\n",
    "mask = num_cols > 0\n",
    "ts_pred_list = logits_test.argmax(\n",
    "                            1).cpu().detach().numpy().tolist()\n",
    "ts_micro_f1 = f1_score(labels_test.reshape(-1).numpy().tolist(),\n",
    "                    ts_pred_list,\n",
    "                    average=\"micro\")\n",
    "ts_macro_f1 = f1_score(labels_test.reshape(-1).numpy().tolist(),\n",
    "                    ts_pred_list,\n",
    "                    average=\"macro\")\n",
    "print(\"ts_micro_f1={:.4f}, ts_macro_f1={:.4f}\".format(ts_micro_f1, ts_macro_f1))\n",
    "ts_pred_list = logits_test.argmax(\n",
    "                            1).cpu().detach()[mask].numpy().tolist()\n",
    "ts_micro_f1 = f1_score(labels_test.reshape(-1)[mask].numpy().tolist(),\n",
    "                    ts_pred_list,\n",
    "                    average=\"micro\")\n",
    "ts_macro_f1 = f1_score(labels_test.reshape(-1)[mask].numpy().tolist(),\n",
    "                    ts_pred_list,\n",
    "                    average=\"macro\")\n",
    "print(\"ts_micro_f1={:.4f}, ts_macro_f1={:.4f}\".format(ts_micro_f1, ts_macro_f1))\n",
    "ts_pred_list = logits_test.argmax(\n",
    "                            1).cpu().detach()[~mask].numpy().tolist()\n",
    "ts_micro_f1 = f1_score(labels_test.reshape(-1)[~mask].numpy().tolist(),\n",
    "                    ts_pred_list,\n",
    "                    average=\"micro\")\n",
    "ts_macro_f1 = f1_score(labels_test.reshape(-1)[~mask].numpy().tolist(),\n",
    "                    ts_pred_list,\n",
    "                    average=\"macro\")\n",
    "print(\"ts_micro_f1={:.4f}, ts_macro_f1={:.4f}\".format(ts_micro_f1, ts_macro_f1))"
   ]
  },
  {
   "cell_type": "code",
   "execution_count": 75,
   "metadata": {},
   "outputs": [
    {
     "name": "stdout",
     "output_type": "stream",
     "text": [
      "ts_micro_f1=0.4396, ts_macro_f1=0.2099\n",
      "ts_micro_f1=0.5078, ts_macro_f1=0.2336\n",
      "ts_micro_f1=0.3622, ts_macro_f1=0.1474\n"
     ]
    }
   ],
   "source": [
    "# Cheat add\n",
    "model.load_state_dict(best_state_dict, strict=False)\n",
    "model.eval()\n",
    "model = model.to(device)\n",
    "ft_embs_test = []\n",
    "labels_test = []\n",
    "logits_test = []\n",
    "log = defaultdict(list)\n",
    "num_cols = []\n",
    "threshold = 0.8\n",
    "corrected = 0\n",
    "total_mistakes = 0\n",
    "for batch_idx, batch in enumerate(test_dataloader_iter):\n",
    "    cls_indexes = torch.LongTensor([[0, batch[\"cls_indexes\"].cpu().item()]]).to(device)\n",
    "    target_col_mask = batch[\"target_col_mask\"].T\n",
    "    logits = model(batch[\"data\"].T, cls_indexes=cls_indexes,)\n",
    "    num_cols.append(batch[\"target_col_mask\"].max().item())\n",
    "    if 1 in target_col_mask and logits.argmax().item() != batch[\"label\"].item():\n",
    "        total_mistakes += 1\n",
    "        for col_i in target_col_mask.unique():\n",
    "            if col_i == 0 or col_i == -1:\n",
    "                continue\n",
    "            new_batch_data = torch.cat([batch[\"data\"].T[target_col_mask==0].reshape([1, -1]), batch[\"data\"].T[target_col_mask==col_i].reshape([1, -1])], dim=1)\n",
    "            cls_indexes = torch.tensor([[0, 0]]).to(device)\n",
    "            logits_temp = model(new_batch_data, cls_indexes=cls_indexes,)\n",
    "            if logits_temp.argmax().item() == batch[\"label\"].item():\n",
    "                logits = logits_temp.clone()\n",
    "                corrected += 1\n",
    "                break\n",
    "            \n",
    "    labels_test.append(batch[\"label\"].cpu())\n",
    "    logits_test.append(logits.detach().cpu())\n",
    "labels_test = torch.cat(labels_test, dim=0)\n",
    "logits_test = torch.stack(logits_test, dim=0)\n",
    "preds_test = torch.argmax(logits_test, dim=1)\n",
    "num_cols = torch.tensor(num_cols)\n",
    "\n",
    "\n",
    "\n",
    "\n",
    "from sklearn.metrics import confusion_matrix, f1_score\n",
    "mask = num_cols > 0\n",
    "ts_pred_list = logits_test.argmax(\n",
    "                            1).cpu().detach().numpy().tolist()\n",
    "ts_micro_f1 = f1_score(labels_test.reshape(-1).numpy().tolist(),\n",
    "                    ts_pred_list,\n",
    "                    average=\"micro\")\n",
    "ts_macro_f1 = f1_score(labels_test.reshape(-1).numpy().tolist(),\n",
    "                    ts_pred_list,\n",
    "                    average=\"macro\")\n",
    "print(\"ts_micro_f1={:.4f}, ts_macro_f1={:.4f}\".format(ts_micro_f1, ts_macro_f1))\n",
    "ts_pred_list = logits_test.argmax(\n",
    "                            1).cpu().detach()[mask].numpy().tolist()\n",
    "ts_micro_f1 = f1_score(labels_test.reshape(-1)[mask].numpy().tolist(),\n",
    "                    ts_pred_list,\n",
    "                    average=\"micro\")\n",
    "ts_macro_f1 = f1_score(labels_test.reshape(-1)[mask].numpy().tolist(),\n",
    "                    ts_pred_list,\n",
    "                    average=\"macro\")\n",
    "print(\"ts_micro_f1={:.4f}, ts_macro_f1={:.4f}\".format(ts_micro_f1, ts_macro_f1))\n",
    "ts_pred_list = logits_test.argmax(\n",
    "                            1).cpu().detach()[~mask].numpy().tolist()\n",
    "ts_micro_f1 = f1_score(labels_test.reshape(-1)[~mask].numpy().tolist(),\n",
    "                    ts_pred_list,\n",
    "                    average=\"micro\")\n",
    "ts_macro_f1 = f1_score(labels_test.reshape(-1)[~mask].numpy().tolist(),\n",
    "                    ts_pred_list,\n",
    "                    average=\"macro\")\n",
    "print(\"ts_micro_f1={:.4f}, ts_macro_f1={:.4f}\".format(ts_micro_f1, ts_macro_f1))"
   ]
  },
  {
   "cell_type": "code",
   "execution_count": null,
   "metadata": {},
   "outputs": [],
   "source": []
  },
  {
   "cell_type": "code",
   "execution_count": null,
   "metadata": {},
   "outputs": [],
   "source": []
  },
  {
   "cell_type": "code",
   "execution_count": 36,
   "metadata": {},
   "outputs": [
    {
     "name": "stdout",
     "output_type": "stream",
     "text": [
      "*********************Threshold: 0.8****************************\n",
      "Mistake constitution tensor(0.5437) tensor(0.7332)\n"
     ]
    },
    {
     "name": "stderr",
     "output_type": "stream",
     "text": [
      "/tmp/ipykernel_2170815/3797198874.py:24: UserWarning: Implicit dimension choice for softmax has been deprecated. Change the call to include dim=X as an argument.\n",
      "  ood_score_max = F.softmax(logits.detach()).max().item()\n",
      "/tmp/ipykernel_2170815/3797198874.py:40: UserWarning: Implicit dimension choice for softmax has been deprecated. Change the call to include dim=X as an argument.\n",
      "  ood_score_temp = F.softmax(logits_temp.detach()).max().item()\n"
     ]
    },
    {
     "name": "stdout",
     "output_type": "stream",
     "text": [
      "ts_micro_f1=0.4138, ts_macro_f1=0.1909\n",
      "ts_micro_f1=0.4593, ts_macro_f1=0.2035\n",
      "ts_micro_f1=0.3622, ts_macro_f1=0.1474\n",
      "*********************Threshold: 0.9****************************\n",
      "Mistake constitution tensor(0.6453) tensor(0.6741)\n"
     ]
    },
    {
     "name": "stderr",
     "output_type": "stream",
     "text": [
      "/tmp/ipykernel_2170815/3797198874.py:24: UserWarning: Implicit dimension choice for softmax has been deprecated. Change the call to include dim=X as an argument.\n",
      "  ood_score_max = F.softmax(logits.detach()).max().item()\n",
      "/tmp/ipykernel_2170815/3797198874.py:40: UserWarning: Implicit dimension choice for softmax has been deprecated. Change the call to include dim=X as an argument.\n",
      "  ood_score_temp = F.softmax(logits_temp.detach()).max().item()\n"
     ]
    },
    {
     "name": "stdout",
     "output_type": "stream",
     "text": [
      "ts_micro_f1=0.4129, ts_macro_f1=0.1887\n",
      "ts_micro_f1=0.4575, ts_macro_f1=0.2009\n",
      "ts_micro_f1=0.3622, ts_macro_f1=0.1474\n",
      "*********************Threshold: 0.95****************************\n",
      "Mistake constitution tensor(0.7308) tensor(0.6721)\n"
     ]
    },
    {
     "name": "stderr",
     "output_type": "stream",
     "text": [
      "/tmp/ipykernel_2170815/3797198874.py:24: UserWarning: Implicit dimension choice for softmax has been deprecated. Change the call to include dim=X as an argument.\n",
      "  ood_score_max = F.softmax(logits.detach()).max().item()\n",
      "/tmp/ipykernel_2170815/3797198874.py:40: UserWarning: Implicit dimension choice for softmax has been deprecated. Change the call to include dim=X as an argument.\n",
      "  ood_score_temp = F.softmax(logits_temp.detach()).max().item()\n"
     ]
    },
    {
     "name": "stdout",
     "output_type": "stream",
     "text": [
      "ts_micro_f1=0.4147, ts_macro_f1=0.1843\n",
      "ts_micro_f1=0.4610, ts_macro_f1=0.1966\n",
      "ts_micro_f1=0.3622, ts_macro_f1=0.1474\n",
      "*********************Threshold: 0.99****************************\n",
      "Mistake constitution tensor(0.8592) tensor(0.6309)\n"
     ]
    },
    {
     "name": "stderr",
     "output_type": "stream",
     "text": [
      "/tmp/ipykernel_2170815/3797198874.py:24: UserWarning: Implicit dimension choice for softmax has been deprecated. Change the call to include dim=X as an argument.\n",
      "  ood_score_max = F.softmax(logits.detach()).max().item()\n",
      "/tmp/ipykernel_2170815/3797198874.py:40: UserWarning: Implicit dimension choice for softmax has been deprecated. Change the call to include dim=X as an argument.\n",
      "  ood_score_temp = F.softmax(logits_temp.detach()).max().item()\n"
     ]
    },
    {
     "name": "stdout",
     "output_type": "stream",
     "text": [
      "ts_micro_f1=0.4138, ts_macro_f1=0.1839\n",
      "ts_micro_f1=0.4593, ts_macro_f1=0.1959\n",
      "ts_micro_f1=0.3622, ts_macro_f1=0.1474\n",
      "*********************Threshold: 0.999****************************\n",
      "Mistake constitution tensor(0.9982) tensor(0.5437)\n"
     ]
    },
    {
     "name": "stderr",
     "output_type": "stream",
     "text": [
      "/tmp/ipykernel_2170815/3797198874.py:24: UserWarning: Implicit dimension choice for softmax has been deprecated. Change the call to include dim=X as an argument.\n",
      "  ood_score_max = F.softmax(logits.detach()).max().item()\n",
      "/tmp/ipykernel_2170815/3797198874.py:40: UserWarning: Implicit dimension choice for softmax has been deprecated. Change the call to include dim=X as an argument.\n",
      "  ood_score_temp = F.softmax(logits_temp.detach()).max().item()\n"
     ]
    },
    {
     "name": "stdout",
     "output_type": "stream",
     "text": [
      "ts_micro_f1=0.4129, ts_macro_f1=0.1838\n",
      "ts_micro_f1=0.4575, ts_macro_f1=0.1960\n",
      "ts_micro_f1=0.3622, ts_macro_f1=0.1474\n",
      "*********************Threshold: 1.0****************************\n",
      "Mistake constitution tensor(1.) tensor(0.5171)\n"
     ]
    },
    {
     "name": "stderr",
     "output_type": "stream",
     "text": [
      "/tmp/ipykernel_2170815/3797198874.py:24: UserWarning: Implicit dimension choice for softmax has been deprecated. Change the call to include dim=X as an argument.\n",
      "  ood_score_max = F.softmax(logits.detach()).max().item()\n",
      "/tmp/ipykernel_2170815/3797198874.py:40: UserWarning: Implicit dimension choice for softmax has been deprecated. Change the call to include dim=X as an argument.\n",
      "  ood_score_temp = F.softmax(logits_temp.detach()).max().item()\n"
     ]
    },
    {
     "name": "stdout",
     "output_type": "stream",
     "text": [
      "ts_micro_f1=0.4129, ts_macro_f1=0.1838\n",
      "ts_micro_f1=0.4575, ts_macro_f1=0.1960\n",
      "ts_micro_f1=0.3622, ts_macro_f1=0.1474\n"
     ]
    }
   ],
   "source": [
    "# Greedy (MSP)\n",
    "model.load_state_dict(best_state_dict, strict=False)\n",
    "model.eval()\n",
    "\n",
    "threshold = 0.8\n",
    "log = {}\n",
    "for threshold in [0.8, 0.9, 0.99 1.0]:\n",
    "    model = model.to(device)\n",
    "    ft_embs_test = []\n",
    "    labels_test = []\n",
    "    logits_test = []\n",
    "    num_cols = []\n",
    "    log[threshold] = {}\n",
    "    print(f\"*********************Threshold: {threshold}****************************\")\n",
    "    \n",
    "    print(\"Mistake constitution\", (ood_score[ood_labels==0] < threshold).sum()/sum(ood_labels==0), \n",
    "          (ood_score[ood_labels==0] < threshold).sum()/sum(ood_score< threshold))\n",
    "    for batch_idx, batch in enumerate(test_dataloader_iter):\n",
    "        cls_indexes = torch.LongTensor([[0, batch[\"cls_indexes\"].cpu().item()]]).to(device)\n",
    "        target_col_mask = batch[\"target_col_mask\"].T\n",
    "        logits = model(batch[\"data\"].T, cls_indexes=cls_indexes,)\n",
    "        num_cols.append(batch[\"target_col_mask\"].max().item())\n",
    "        if 1 in target_col_mask:\n",
    "            ood_score_max = F.softmax(logits.detach()).max().item()\n",
    "            if ood_score_max < threshold:\n",
    "                log[threshold][batch_idx] = []\n",
    "                log[threshold][batch_idx].append([ood_score_max])\n",
    "                current_drop = 1\n",
    "                while True:\n",
    "                    improved = False\n",
    "                    log[threshold][batch_idx].append([])\n",
    "                    for col_i in target_col_mask.unique():\n",
    "                        if col_i == 0 or col_i == -1:\n",
    "                            continue\n",
    "                        target_col_mask_temp = target_col_mask.clone()\n",
    "                        target_col_mask_temp[target_col_mask_temp==col_i] = -1\n",
    "                        new_batch_data = batch[\"data\"].T[target_col_mask_temp!=-1].reshape(1, -1)\n",
    "                        cls_indexes = (target_col_mask_temp[target_col_mask_temp!=-1].reshape(1, -1) == 0).nonzero()[0].reshape(1, -1)\n",
    "                        logits_temp = model(new_batch_data, cls_indexes=cls_indexes,)\n",
    "                        ood_score_temp = F.softmax(logits_temp.detach()).max().item()\n",
    "                        if ood_score_temp > ood_score_max:\n",
    "                            logits = logits_temp.clone()\n",
    "                            temp_best_target_col_mask = target_col_mask_temp.clone()\n",
    "                            # print(f\"{batch_idx} col_{col_i}\", ood_score_max, ood_score_temp)\n",
    "                            ood_score_max = ood_score_temp\n",
    "                            log[threshold][batch_idx][current_drop].append(ood_score_max)\n",
    "                            improved = True\n",
    "                    if not improved:\n",
    "                        break\n",
    "                    else:\n",
    "                        target_col_mask = temp_best_target_col_mask.clone()\n",
    "                        current_drop += 1\n",
    "                    \n",
    "        labels_test.append(batch[\"label\"].cpu())\n",
    "        logits_test.append(logits.detach().cpu())\n",
    "    labels_test = torch.cat(labels_test, dim=0)\n",
    "    logits_test = torch.stack(logits_test, dim=0)\n",
    "    preds_test = torch.argmax(logits_test, dim=1)\n",
    "    num_cols = torch.tensor(num_cols)\n",
    "\n",
    "    from sklearn.metrics import confusion_matrix, f1_score\n",
    "    mask = num_cols > 0\n",
    "    ts_pred_list = logits_test.argmax(\n",
    "                                1).cpu().detach().numpy().tolist()\n",
    "    ts_micro_f1 = f1_score(labels_test.reshape(-1).numpy().tolist(),\n",
    "                        ts_pred_list,\n",
    "                        average=\"micro\")\n",
    "    ts_macro_f1 = f1_score(labels_test.reshape(-1).numpy().tolist(),\n",
    "                        ts_pred_list,\n",
    "                        average=\"macro\")\n",
    "    print(\"ts_micro_f1={:.4f}, ts_macro_f1={:.4f}\".format(ts_micro_f1, ts_macro_f1))\n",
    "    ts_pred_list = logits_test.argmax(\n",
    "                                1).cpu().detach()[mask].numpy().tolist()\n",
    "    ts_micro_f1 = f1_score(labels_test.reshape(-1)[mask].numpy().tolist(),\n",
    "                        ts_pred_list,\n",
    "                        average=\"micro\")\n",
    "    ts_macro_f1 = f1_score(labels_test.reshape(-1)[mask].numpy().tolist(),\n",
    "                        ts_pred_list,\n",
    "                        average=\"macro\")\n",
    "    print(\"ts_micro_f1={:.4f}, ts_macro_f1={:.4f}\".format(ts_micro_f1, ts_macro_f1))\n",
    "    ts_pred_list = logits_test.argmax(\n",
    "                                1).cpu().detach()[~mask].numpy().tolist()\n",
    "    ts_micro_f1 = f1_score(labels_test.reshape(-1)[~mask].numpy().tolist(),\n",
    "                        ts_pred_list,\n",
    "                        average=\"micro\")\n",
    "    ts_macro_f1 = f1_score(labels_test.reshape(-1)[~mask].numpy().tolist(),\n",
    "                        ts_pred_list,\n",
    "                        average=\"macro\")\n",
    "    print(\"ts_micro_f1={:.4f}, ts_macro_f1={:.4f}\".format(ts_micro_f1, ts_macro_f1))"
   ]
  },
  {
   "cell_type": "code",
   "execution_count": 111,
   "metadata": {},
   "outputs": [
    {
     "name": "stdout",
     "output_type": "stream",
     "text": [
      "*********************Threshold: 0.8****************************\n",
      "tensor(0.8111) tensor(0.5621)\n",
      "*********************Threshold: 0.85****************************\n",
      "tensor(0.7956) tensor(0.6007)\n",
      "*********************Threshold: 0.9****************************\n",
      "tensor(0.7850) tensor(0.6493)\n",
      "*********************Threshold: 0.95****************************\n",
      "tensor(0.7614) tensor(0.7013)\n",
      "*********************Threshold: 0.99****************************\n",
      "tensor(0.6604) tensor(0.8188)\n",
      "*********************Threshold: 1.0****************************\n",
      "tensor(0.5493) tensor(1.)\n"
     ]
    }
   ],
   "source": [
    "for threshold in [0.8, 0.85, 0.9, 0.95, 0.99, 1.0]:\n",
    "    print(f\"*********************Threshold: {threshold}****************************\")\n",
    "    print((ood_score[ood_labels==0] < threshold).sum()/sum(ood_score< threshold), (ood_score[ood_labels==0] < threshold).sum()/sum(ood_labels==0))"
   ]
  },
  {
   "cell_type": "code",
   "execution_count": 30,
   "metadata": {},
   "outputs": [
    {
     "name": "stdout",
     "output_type": "stream",
     "text": [
      "*********************Threshold: 0.01****************************\n",
      "tensor(0.6113) tensor(0.9984)\n",
      "*********************Threshold: 0.1****************************\n",
      "tensor(0.7398) tensor(0.8777)\n",
      "*********************Threshold: 0.2****************************\n",
      "tensor(0.7771) tensor(0.8307)\n",
      "*********************Threshold: 0.5****************************\n",
      "tensor(0.8098) tensor(0.7006)\n",
      "*********************Threshold: 1.0****************************\n",
      "tensor(0.8594) tensor(0.5940)\n",
      "*********************Threshold: 1.5****************************\n",
      "tensor(0.8734) tensor(0.4216)\n",
      "*********************Threshold: 2.0****************************\n",
      "tensor(0.9053) tensor(0.2696)\n"
     ]
    }
   ],
   "source": [
    "threshold = 0.1\n",
    "for threshold in [0.01, 0.1, 0.2, 0.5, 1.0, 1.5, 2.0]:\n",
    "    print(f\"*********************Threshold: {threshold}****************************\")\n",
    "    print((ood_score[ood_labels==1] > threshold).sum()/sum(ood_score> threshold), (ood_score[ood_labels==1] > threshold).sum()/sum(ood_labels==1))\n",
    "\n"
   ]
  },
  {
   "cell_type": "code",
   "execution_count": 42,
   "metadata": {},
   "outputs": [
    {
     "name": "stdout",
     "output_type": "stream",
     "text": [
      "*********************Threshold: 0.01****************************\n",
      "Mistake constitution tensor(0.5412) tensor(0.9892)\n"
     ]
    },
    {
     "name": "stderr",
     "output_type": "stream",
     "text": [
      "/tmp/ipykernel_3005789/154180484.py:23: UserWarning: Implicit dimension choice for softmax has been deprecated. Change the call to include dim=X as an argument.\n",
      "  ood_score_min = compute_entropy(F.softmax(logits.detach())).item()\n",
      "/tmp/ipykernel_3005789/154180484.py:39: UserWarning: Implicit dimension choice for softmax has been deprecated. Change the call to include dim=X as an argument.\n",
      "  ood_score_temp = compute_entropy(F.softmax(logits_temp.detach())).item()\n"
     ]
    },
    {
     "name": "stdout",
     "output_type": "stream",
     "text": [
      "ts_micro_f1=0.4101, ts_macro_f1=0.1833\n",
      "ts_micro_f1=0.4523, ts_macro_f1=0.1965\n",
      "ts_micro_f1=0.3622, ts_macro_f1=0.1474\n",
      "*********************Threshold: 0.1****************************\n",
      "Mistake constitution tensor(0.7262) tensor(0.7939)\n"
     ]
    },
    {
     "name": "stderr",
     "output_type": "stream",
     "text": [
      "/tmp/ipykernel_3005789/154180484.py:23: UserWarning: Implicit dimension choice for softmax has been deprecated. Change the call to include dim=X as an argument.\n",
      "  ood_score_min = compute_entropy(F.softmax(logits.detach())).item()\n",
      "/tmp/ipykernel_3005789/154180484.py:39: UserWarning: Implicit dimension choice for softmax has been deprecated. Change the call to include dim=X as an argument.\n",
      "  ood_score_temp = compute_entropy(F.softmax(logits_temp.detach())).item()\n"
     ]
    },
    {
     "name": "stdout",
     "output_type": "stream",
     "text": [
      "ts_micro_f1=0.4111, ts_macro_f1=0.1834\n",
      "ts_micro_f1=0.4541, ts_macro_f1=0.1963\n",
      "ts_micro_f1=0.3622, ts_macro_f1=0.1474\n",
      "*********************Threshold: 0.2****************************\n",
      "Mistake constitution tensor(0.7555) tensor(0.7366)\n"
     ]
    },
    {
     "name": "stderr",
     "output_type": "stream",
     "text": [
      "/tmp/ipykernel_3005789/154180484.py:23: UserWarning: Implicit dimension choice for softmax has been deprecated. Change the call to include dim=X as an argument.\n",
      "  ood_score_min = compute_entropy(F.softmax(logits.detach())).item()\n",
      "/tmp/ipykernel_3005789/154180484.py:39: UserWarning: Implicit dimension choice for softmax has been deprecated. Change the call to include dim=X as an argument.\n",
      "  ood_score_temp = compute_entropy(F.softmax(logits_temp.detach())).item()\n"
     ]
    },
    {
     "name": "stdout",
     "output_type": "stream",
     "text": [
      "ts_micro_f1=0.4101, ts_macro_f1=0.1834\n",
      "ts_micro_f1=0.4523, ts_macro_f1=0.1962\n",
      "ts_micro_f1=0.3622, ts_macro_f1=0.1474\n",
      "*********************Threshold: 0.5****************************\n",
      "Mistake constitution tensor(0.7845) tensor(0.6004)\n"
     ]
    },
    {
     "name": "stderr",
     "output_type": "stream",
     "text": [
      "/tmp/ipykernel_3005789/154180484.py:23: UserWarning: Implicit dimension choice for softmax has been deprecated. Change the call to include dim=X as an argument.\n",
      "  ood_score_min = compute_entropy(F.softmax(logits.detach())).item()\n",
      "/tmp/ipykernel_3005789/154180484.py:39: UserWarning: Implicit dimension choice for softmax has been deprecated. Change the call to include dim=X as an argument.\n",
      "  ood_score_temp = compute_entropy(F.softmax(logits_temp.detach())).item()\n"
     ]
    },
    {
     "name": "stdout",
     "output_type": "stream",
     "text": [
      "ts_micro_f1=0.4092, ts_macro_f1=0.1882\n",
      "ts_micro_f1=0.4506, ts_macro_f1=0.2012\n",
      "ts_micro_f1=0.3622, ts_macro_f1=0.1474\n",
      "*********************Threshold: 1.0****************************\n",
      "Mistake constitution tensor(0.8297) tensor(0.4803)\n"
     ]
    },
    {
     "name": "stderr",
     "output_type": "stream",
     "text": [
      "/tmp/ipykernel_3005789/154180484.py:23: UserWarning: Implicit dimension choice for softmax has been deprecated. Change the call to include dim=X as an argument.\n",
      "  ood_score_min = compute_entropy(F.softmax(logits.detach())).item()\n",
      "/tmp/ipykernel_3005789/154180484.py:39: UserWarning: Implicit dimension choice for softmax has been deprecated. Change the call to include dim=X as an argument.\n",
      "  ood_score_temp = compute_entropy(F.softmax(logits_temp.detach())).item()\n"
     ]
    },
    {
     "name": "stdout",
     "output_type": "stream",
     "text": [
      "ts_micro_f1=0.4111, ts_macro_f1=0.1908\n",
      "ts_micro_f1=0.4541, ts_macro_f1=0.2044\n",
      "ts_micro_f1=0.3622, ts_macro_f1=0.1474\n"
     ]
    }
   ],
   "source": [
    "# Greedy (Entropy)\n",
    "model.load_state_dict(best_state_dict, strict=False)\n",
    "model.eval()\n",
    "\n",
    "threshold = 0.8\n",
    "log = {}\n",
    "for threshold in [0.01, 0.1, 0.2, 0.5, 1.0]:\n",
    "    model = model.to(device)\n",
    "    ft_embs_test = []\n",
    "    labels_test = []\n",
    "    logits_test = []\n",
    "    num_cols = []\n",
    "    log[threshold] = {}\n",
    "    print(f\"*********************Threshold: {threshold}****************************\")\n",
    "    \n",
    "    print(\"Mistake constitution\", (ood_score[ood_labels==1] > threshold).sum()/sum(ood_score> threshold), (ood_score[ood_labels==1] > threshold).sum()/sum(ood_labels==1))\n",
    "    for batch_idx, batch in enumerate(test_dataloader_iter):\n",
    "        cls_indexes = torch.LongTensor([[0, batch[\"cls_indexes\"].cpu().item()]]).to(device)\n",
    "        target_col_mask = batch[\"target_col_mask\"].T\n",
    "        logits = model(batch[\"data\"].T, cls_indexes=cls_indexes,)\n",
    "        num_cols.append(batch[\"target_col_mask\"].max().item())\n",
    "        if 1 in target_col_mask:\n",
    "            ood_score_min = compute_entropy(F.softmax(logits.detach())).item()\n",
    "            if ood_score_min > threshold:\n",
    "                log[threshold][batch_idx] = []\n",
    "                log[threshold][batch_idx].append([ood_score_min])\n",
    "                current_drop = 1\n",
    "                while True:\n",
    "                    improved = False\n",
    "                    log[threshold][batch_idx].append([])\n",
    "                    for col_i in target_col_mask.unique():\n",
    "                        if col_i == 0 or col_i == -1:\n",
    "                            continue\n",
    "                        target_col_mask_temp = target_col_mask.clone()\n",
    "                        target_col_mask_temp[target_col_mask_temp==col_i] = -1\n",
    "                        new_batch_data = batch[\"data\"].T[target_col_mask_temp!=-1].reshape(1, -1)\n",
    "                        cls_indexes = (target_col_mask_temp[target_col_mask_temp!=-1].reshape(1, -1) == 0).nonzero()[0].reshape(1, -1)\n",
    "                        logits_temp = model(new_batch_data, cls_indexes=cls_indexes,)\n",
    "                        ood_score_temp = compute_entropy(F.softmax(logits_temp.detach())).item()\n",
    "                        if ood_score_temp < ood_score_min:\n",
    "                            logits = logits_temp.clone()\n",
    "                            temp_best_target_col_mask = target_col_mask_temp.clone()\n",
    "                            ood_score_min = ood_score_temp\n",
    "                            log[threshold][batch_idx][current_drop].append(ood_score_min)\n",
    "                            improved = True\n",
    "                    if not improved:\n",
    "                        break\n",
    "                    else:\n",
    "                        target_col_mask = temp_best_target_col_mask.clone()\n",
    "                        current_drop += 1\n",
    "                    \n",
    "        labels_test.append(batch[\"label\"].cpu())\n",
    "        logits_test.append(logits.detach().cpu())\n",
    "    labels_test = torch.cat(labels_test, dim=0)\n",
    "    logits_test = torch.stack(logits_test, dim=0)\n",
    "    preds_test = torch.argmax(logits_test, dim=1)\n",
    "    num_cols = torch.tensor(num_cols)\n",
    "\n",
    "    from sklearn.metrics import confusion_matrix, f1_score\n",
    "    mask = num_cols > 0\n",
    "    ts_pred_list = logits_test.argmax(\n",
    "                                1).cpu().detach().numpy().tolist()\n",
    "    ts_micro_f1 = f1_score(labels_test.reshape(-1).numpy().tolist(),\n",
    "                        ts_pred_list,\n",
    "                        average=\"micro\")\n",
    "    ts_macro_f1 = f1_score(labels_test.reshape(-1).numpy().tolist(),\n",
    "                        ts_pred_list,\n",
    "                        average=\"macro\")\n",
    "    print(\"ts_micro_f1={:.4f}, ts_macro_f1={:.4f}\".format(ts_micro_f1, ts_macro_f1))\n",
    "    ts_pred_list = logits_test.argmax(\n",
    "                                1).cpu().detach()[mask].numpy().tolist()\n",
    "    ts_micro_f1 = f1_score(labels_test.reshape(-1)[mask].numpy().tolist(),\n",
    "                        ts_pred_list,\n",
    "                        average=\"micro\")\n",
    "    ts_macro_f1 = f1_score(labels_test.reshape(-1)[mask].numpy().tolist(),\n",
    "                        ts_pred_list,\n",
    "                        average=\"macro\")\n",
    "    print(\"ts_micro_f1={:.4f}, ts_macro_f1={:.4f}\".format(ts_micro_f1, ts_macro_f1))\n",
    "    ts_pred_list = logits_test.argmax(\n",
    "                                1).cpu().detach()[~mask].numpy().tolist()\n",
    "    ts_micro_f1 = f1_score(labels_test.reshape(-1)[~mask].numpy().tolist(),\n",
    "                        ts_pred_list,\n",
    "                        average=\"micro\")\n",
    "    ts_macro_f1 = f1_score(labels_test.reshape(-1)[~mask].numpy().tolist(),\n",
    "                        ts_pred_list,\n",
    "                        average=\"macro\")\n",
    "    print(\"ts_micro_f1={:.4f}, ts_macro_f1={:.4f}\".format(ts_micro_f1, ts_macro_f1))"
   ]
  },
  {
   "cell_type": "code",
   "execution_count": 43,
   "metadata": {},
   "outputs": [
    {
     "name": "stdout",
     "output_type": "stream",
     "text": [
      "*********************Threshold: 0.01****************************\n",
      "Mistake constitution tensor(0.5412) tensor(0.9892)\n"
     ]
    },
    {
     "name": "stderr",
     "output_type": "stream",
     "text": [
      "/tmp/ipykernel_3005789/2503683824.py:23: UserWarning: Implicit dimension choice for softmax has been deprecated. Change the call to include dim=X as an argument.\n",
      "  ood_score_min = compute_entropy(F.softmax(logits.detach())).item()\n",
      "/tmp/ipykernel_3005789/2503683824.py:38: UserWarning: Implicit dimension choice for softmax has been deprecated. Change the call to include dim=X as an argument.\n",
      "  ood_score_temp = compute_entropy(F.softmax(logits_temp.detach())).item()\n"
     ]
    },
    {
     "name": "stdout",
     "output_type": "stream",
     "text": [
      "ts_micro_f1=0.4120, ts_macro_f1=0.1838\n",
      "ts_micro_f1=0.4558, ts_macro_f1=0.1950\n",
      "ts_micro_f1=0.3622, ts_macro_f1=0.1474\n",
      "*********************Threshold: 0.1****************************\n",
      "Mistake constitution tensor(0.7262) tensor(0.7939)\n"
     ]
    },
    {
     "name": "stderr",
     "output_type": "stream",
     "text": [
      "/tmp/ipykernel_3005789/2503683824.py:23: UserWarning: Implicit dimension choice for softmax has been deprecated. Change the call to include dim=X as an argument.\n",
      "  ood_score_min = compute_entropy(F.softmax(logits.detach())).item()\n",
      "/tmp/ipykernel_3005789/2503683824.py:38: UserWarning: Implicit dimension choice for softmax has been deprecated. Change the call to include dim=X as an argument.\n",
      "  ood_score_temp = compute_entropy(F.softmax(logits_temp.detach())).item()\n"
     ]
    },
    {
     "name": "stdout",
     "output_type": "stream",
     "text": [
      "ts_micro_f1=0.4129, ts_macro_f1=0.1838\n",
      "ts_micro_f1=0.4575, ts_macro_f1=0.1948\n",
      "ts_micro_f1=0.3622, ts_macro_f1=0.1474\n",
      "*********************Threshold: 0.2****************************\n",
      "Mistake constitution tensor(0.7555) tensor(0.7366)\n"
     ]
    },
    {
     "name": "stderr",
     "output_type": "stream",
     "text": [
      "/tmp/ipykernel_3005789/2503683824.py:23: UserWarning: Implicit dimension choice for softmax has been deprecated. Change the call to include dim=X as an argument.\n",
      "  ood_score_min = compute_entropy(F.softmax(logits.detach())).item()\n",
      "/tmp/ipykernel_3005789/2503683824.py:38: UserWarning: Implicit dimension choice for softmax has been deprecated. Change the call to include dim=X as an argument.\n",
      "  ood_score_temp = compute_entropy(F.softmax(logits_temp.detach())).item()\n"
     ]
    },
    {
     "name": "stdout",
     "output_type": "stream",
     "text": [
      "ts_micro_f1=0.4120, ts_macro_f1=0.1838\n",
      "ts_micro_f1=0.4558, ts_macro_f1=0.1947\n",
      "ts_micro_f1=0.3622, ts_macro_f1=0.1474\n",
      "*********************Threshold: 0.5****************************\n",
      "Mistake constitution tensor(0.7845) tensor(0.6004)\n"
     ]
    },
    {
     "name": "stderr",
     "output_type": "stream",
     "text": [
      "/tmp/ipykernel_3005789/2503683824.py:23: UserWarning: Implicit dimension choice for softmax has been deprecated. Change the call to include dim=X as an argument.\n",
      "  ood_score_min = compute_entropy(F.softmax(logits.detach())).item()\n",
      "/tmp/ipykernel_3005789/2503683824.py:38: UserWarning: Implicit dimension choice for softmax has been deprecated. Change the call to include dim=X as an argument.\n",
      "  ood_score_temp = compute_entropy(F.softmax(logits_temp.detach())).item()\n"
     ]
    },
    {
     "name": "stdout",
     "output_type": "stream",
     "text": [
      "ts_micro_f1=0.4111, ts_macro_f1=0.1886\n",
      "ts_micro_f1=0.4541, ts_macro_f1=0.1997\n",
      "ts_micro_f1=0.3622, ts_macro_f1=0.1474\n",
      "*********************Threshold: 1.0****************************\n",
      "Mistake constitution tensor(0.8297) tensor(0.4803)\n"
     ]
    },
    {
     "name": "stderr",
     "output_type": "stream",
     "text": [
      "/tmp/ipykernel_3005789/2503683824.py:23: UserWarning: Implicit dimension choice for softmax has been deprecated. Change the call to include dim=X as an argument.\n",
      "  ood_score_min = compute_entropy(F.softmax(logits.detach())).item()\n",
      "/tmp/ipykernel_3005789/2503683824.py:38: UserWarning: Implicit dimension choice for softmax has been deprecated. Change the call to include dim=X as an argument.\n",
      "  ood_score_temp = compute_entropy(F.softmax(logits_temp.detach())).item()\n"
     ]
    },
    {
     "name": "stdout",
     "output_type": "stream",
     "text": [
      "ts_micro_f1=0.4120, ts_macro_f1=0.1910\n",
      "ts_micro_f1=0.4558, ts_macro_f1=0.2026\n",
      "ts_micro_f1=0.3622, ts_macro_f1=0.1474\n"
     ]
    }
   ],
   "source": [
    "# Drop 1 (Entropy)\n",
    "model.load_state_dict(best_state_dict, strict=False)\n",
    "model.eval()\n",
    "\n",
    "threshold = 0.8\n",
    "log = {}\n",
    "for threshold in [0.01, 0.1, 0.2, 0.5, 1.0]:\n",
    "    model = model.to(device)\n",
    "    ft_embs_test = []\n",
    "    labels_test = []\n",
    "    logits_test = []\n",
    "    num_cols = []\n",
    "    log[threshold] = {}\n",
    "    print(f\"*********************Threshold: {threshold}****************************\")\n",
    "    \n",
    "    print(\"Mistake constitution\", (ood_score[ood_labels==1] > threshold).sum()/sum(ood_score> threshold), (ood_score[ood_labels==1] > threshold).sum()/sum(ood_labels==1))\n",
    "    for batch_idx, batch in enumerate(test_dataloader_iter):\n",
    "        cls_indexes = torch.LongTensor([[0, batch[\"cls_indexes\"].cpu().item()]]).to(device)\n",
    "        target_col_mask = batch[\"target_col_mask\"].T\n",
    "        logits = model(batch[\"data\"].T, cls_indexes=cls_indexes,)\n",
    "        num_cols.append(batch[\"target_col_mask\"].max().item())\n",
    "        if 1 in target_col_mask:\n",
    "            ood_score_min = compute_entropy(F.softmax(logits.detach())).item()\n",
    "            if ood_score_min > threshold:\n",
    "                log[threshold][batch_idx] = []\n",
    "                log[threshold][batch_idx].append([ood_score_min])\n",
    "                current_drop = 1\n",
    "\n",
    "                log[threshold][batch_idx].append([])\n",
    "                for col_i in target_col_mask.unique():\n",
    "                    if col_i == 0 or col_i == -1:\n",
    "                        continue\n",
    "                    target_col_mask_temp = target_col_mask.clone()\n",
    "                    target_col_mask_temp[target_col_mask_temp==col_i] = -1\n",
    "                    new_batch_data = batch[\"data\"].T[target_col_mask_temp!=-1].reshape(1, -1)\n",
    "                    cls_indexes = (target_col_mask_temp[target_col_mask_temp!=-1].reshape(1, -1) == 0).nonzero()[0].reshape(1, -1)\n",
    "                    logits_temp = model(new_batch_data, cls_indexes=cls_indexes,)\n",
    "                    ood_score_temp = compute_entropy(F.softmax(logits_temp.detach())).item()\n",
    "                    if ood_score_temp < ood_score_min:\n",
    "                        logits = logits_temp.clone()\n",
    "                        temp_best_target_col_mask = target_col_mask_temp.clone()\n",
    "                        ood_score_min = ood_score_temp\n",
    "                        log[threshold][batch_idx][current_drop].append(ood_score_min)\n",
    "                    \n",
    "        labels_test.append(batch[\"label\"].cpu())\n",
    "        logits_test.append(logits.detach().cpu())\n",
    "    labels_test = torch.cat(labels_test, dim=0)\n",
    "    logits_test = torch.stack(logits_test, dim=0)\n",
    "    preds_test = torch.argmax(logits_test, dim=1)\n",
    "    num_cols = torch.tensor(num_cols)\n",
    "\n",
    "    from sklearn.metrics import confusion_matrix, f1_score\n",
    "    mask = num_cols > 0\n",
    "    ts_pred_list = logits_test.argmax(\n",
    "                                1).cpu().detach().numpy().tolist()\n",
    "    ts_micro_f1 = f1_score(labels_test.reshape(-1).numpy().tolist(),\n",
    "                        ts_pred_list,\n",
    "                        average=\"micro\")\n",
    "    ts_macro_f1 = f1_score(labels_test.reshape(-1).numpy().tolist(),\n",
    "                        ts_pred_list,\n",
    "                        average=\"macro\")\n",
    "    print(\"ts_micro_f1={:.4f}, ts_macro_f1={:.4f}\".format(ts_micro_f1, ts_macro_f1))\n",
    "    ts_pred_list = logits_test.argmax(\n",
    "                                1).cpu().detach()[mask].numpy().tolist()\n",
    "    ts_micro_f1 = f1_score(labels_test.reshape(-1)[mask].numpy().tolist(),\n",
    "                        ts_pred_list,\n",
    "                        average=\"micro\")\n",
    "    ts_macro_f1 = f1_score(labels_test.reshape(-1)[mask].numpy().tolist(),\n",
    "                        ts_pred_list,\n",
    "                        average=\"macro\")\n",
    "    print(\"ts_micro_f1={:.4f}, ts_macro_f1={:.4f}\".format(ts_micro_f1, ts_macro_f1))\n",
    "    ts_pred_list = logits_test.argmax(\n",
    "                                1).cpu().detach()[~mask].numpy().tolist()\n",
    "    ts_micro_f1 = f1_score(labels_test.reshape(-1)[~mask].numpy().tolist(),\n",
    "                        ts_pred_list,\n",
    "                        average=\"micro\")\n",
    "    ts_macro_f1 = f1_score(labels_test.reshape(-1)[~mask].numpy().tolist(),\n",
    "                        ts_pred_list,\n",
    "                        average=\"macro\")\n",
    "    print(\"ts_micro_f1={:.4f}, ts_macro_f1={:.4f}\".format(ts_micro_f1, ts_macro_f1))"
   ]
  },
  {
   "cell_type": "code",
   "execution_count": 39,
   "metadata": {},
   "outputs": [
    {
     "data": {
      "text/plain": [
       "torch.Size([101])"
      ]
     },
     "execution_count": 39,
     "metadata": {},
     "output_type": "execute_result"
    }
   ],
   "source": [
    "logits.shape"
   ]
  },
  {
   "cell_type": "code",
   "execution_count": null,
   "metadata": {},
   "outputs": [],
   "source": []
  },
  {
   "cell_type": "code",
   "execution_count": 54,
   "metadata": {},
   "outputs": [
    {
     "name": "stdout",
     "output_type": "stream",
     "text": [
      "*********************Threshold: 0.8****************************\n",
      "Mistake constitution tensor(0.5437) tensor(0.7332)\n"
     ]
    },
    {
     "name": "stderr",
     "output_type": "stream",
     "text": [
      "/tmp/ipykernel_2170815/920578023.py:27: UserWarning: Implicit dimension choice for softmax has been deprecated. Change the call to include dim=X as an argument.\n",
      "  ood_score_max = ood_score_init = F.softmax(logits.detach()).max().item()\n",
      "/tmp/ipykernel_2170815/920578023.py:41: UserWarning: Implicit dimension choice for softmax has been deprecated. Change the call to include dim=X as an argument.\n",
      "  ood_score_temp = F.softmax(logits_temp.detach()).max().item()\n"
     ]
    },
    {
     "name": "stdout",
     "output_type": "stream",
     "text": [
      "ts_micro_f1=0.4157, ts_macro_f1=0.1926\n",
      "ts_micro_f1=0.4627, ts_macro_f1=0.2052\n",
      "ts_micro_f1=0.3622, ts_macro_f1=0.1474\n",
      "*********************Threshold: 0.9****************************\n",
      "Mistake constitution tensor(0.6453) tensor(0.6741)\n"
     ]
    },
    {
     "name": "stderr",
     "output_type": "stream",
     "text": [
      "/tmp/ipykernel_2170815/920578023.py:27: UserWarning: Implicit dimension choice for softmax has been deprecated. Change the call to include dim=X as an argument.\n",
      "  ood_score_max = ood_score_init = F.softmax(logits.detach()).max().item()\n",
      "/tmp/ipykernel_2170815/920578023.py:41: UserWarning: Implicit dimension choice for softmax has been deprecated. Change the call to include dim=X as an argument.\n",
      "  ood_score_temp = F.softmax(logits_temp.detach()).max().item()\n"
     ]
    },
    {
     "name": "stdout",
     "output_type": "stream",
     "text": [
      "ts_micro_f1=0.4147, ts_macro_f1=0.1904\n",
      "ts_micro_f1=0.4610, ts_macro_f1=0.2026\n",
      "ts_micro_f1=0.3622, ts_macro_f1=0.1474\n",
      "*********************Threshold: 0.95****************************\n",
      "Mistake constitution tensor(0.7308) tensor(0.6721)\n"
     ]
    },
    {
     "name": "stderr",
     "output_type": "stream",
     "text": [
      "/tmp/ipykernel_2170815/920578023.py:27: UserWarning: Implicit dimension choice for softmax has been deprecated. Change the call to include dim=X as an argument.\n",
      "  ood_score_max = ood_score_init = F.softmax(logits.detach()).max().item()\n",
      "/tmp/ipykernel_2170815/920578023.py:41: UserWarning: Implicit dimension choice for softmax has been deprecated. Change the call to include dim=X as an argument.\n",
      "  ood_score_temp = F.softmax(logits_temp.detach()).max().item()\n"
     ]
    },
    {
     "name": "stdout",
     "output_type": "stream",
     "text": [
      "ts_micro_f1=0.4166, ts_macro_f1=0.1861\n",
      "ts_micro_f1=0.4645, ts_macro_f1=0.1983\n",
      "ts_micro_f1=0.3622, ts_macro_f1=0.1474\n",
      "*********************Threshold: 0.99****************************\n",
      "Mistake constitution tensor(0.8592) tensor(0.6309)\n"
     ]
    },
    {
     "name": "stderr",
     "output_type": "stream",
     "text": [
      "/tmp/ipykernel_2170815/920578023.py:27: UserWarning: Implicit dimension choice for softmax has been deprecated. Change the call to include dim=X as an argument.\n",
      "  ood_score_max = ood_score_init = F.softmax(logits.detach()).max().item()\n",
      "/tmp/ipykernel_2170815/920578023.py:41: UserWarning: Implicit dimension choice for softmax has been deprecated. Change the call to include dim=X as an argument.\n",
      "  ood_score_temp = F.softmax(logits_temp.detach()).max().item()\n"
     ]
    },
    {
     "name": "stdout",
     "output_type": "stream",
     "text": [
      "ts_micro_f1=0.4157, ts_macro_f1=0.1856\n",
      "ts_micro_f1=0.4627, ts_macro_f1=0.1975\n",
      "ts_micro_f1=0.3622, ts_macro_f1=0.1474\n",
      "*********************Threshold: 0.999****************************\n",
      "Mistake constitution tensor(0.9982) tensor(0.5437)\n"
     ]
    },
    {
     "name": "stderr",
     "output_type": "stream",
     "text": [
      "/tmp/ipykernel_2170815/920578023.py:27: UserWarning: Implicit dimension choice for softmax has been deprecated. Change the call to include dim=X as an argument.\n",
      "  ood_score_max = ood_score_init = F.softmax(logits.detach()).max().item()\n",
      "/tmp/ipykernel_2170815/920578023.py:41: UserWarning: Implicit dimension choice for softmax has been deprecated. Change the call to include dim=X as an argument.\n",
      "  ood_score_temp = F.softmax(logits_temp.detach()).max().item()\n"
     ]
    },
    {
     "name": "stdout",
     "output_type": "stream",
     "text": [
      "ts_micro_f1=0.4147, ts_macro_f1=0.1855\n",
      "ts_micro_f1=0.4610, ts_macro_f1=0.1976\n",
      "ts_micro_f1=0.3622, ts_macro_f1=0.1474\n",
      "*********************Threshold: 1.0****************************\n",
      "Mistake constitution tensor(1.) tensor(0.5171)\n"
     ]
    },
    {
     "name": "stderr",
     "output_type": "stream",
     "text": [
      "/tmp/ipykernel_2170815/920578023.py:27: UserWarning: Implicit dimension choice for softmax has been deprecated. Change the call to include dim=X as an argument.\n",
      "  ood_score_max = ood_score_init = F.softmax(logits.detach()).max().item()\n",
      "/tmp/ipykernel_2170815/920578023.py:41: UserWarning: Implicit dimension choice for softmax has been deprecated. Change the call to include dim=X as an argument.\n",
      "  ood_score_temp = F.softmax(logits_temp.detach()).max().item()\n"
     ]
    },
    {
     "name": "stdout",
     "output_type": "stream",
     "text": [
      "ts_micro_f1=0.4147, ts_macro_f1=0.1855\n",
      "ts_micro_f1=0.4610, ts_macro_f1=0.1976\n",
      "ts_micro_f1=0.3622, ts_macro_f1=0.1474\n"
     ]
    }
   ],
   "source": [
    "# One column\n",
    "model.load_state_dict(best_state_dict, strict=False)\n",
    "model.eval()\n",
    "\n",
    "threshold = 0.8\n",
    "log = {}\n",
    "changed_log = {}\n",
    "for threshold in [0.8, 0.9, 0.95, 0.99, 0.999, 1.0]:\n",
    "    model = model.to(device)\n",
    "    ft_embs_test = []\n",
    "    labels_test = []\n",
    "    logits_test = []\n",
    "    num_cols = []\n",
    "    log[threshold] = {}\n",
    "    changed = [0, 0, 0]\n",
    "    print(f\"*********************Threshold: {threshold}****************************\")\n",
    "    print(\"Mistake constitution\", (ood_score[ood_labels==0] < threshold).sum()/sum(ood_labels==0), \n",
    "          (ood_score[ood_labels==0] < threshold).sum()/sum(ood_score< threshold))\n",
    "    for batch_idx, batch in enumerate(test_dataloader_iter):\n",
    "        cls_indexes = torch.LongTensor([[0, batch[\"cls_indexes\"].cpu().item()]]).to(device)\n",
    "        target_col_mask = batch[\"target_col_mask\"].T\n",
    "        logits = model(batch[\"data\"].T, cls_indexes=cls_indexes,)\n",
    "        num_cols.append(batch[\"target_col_mask\"].max().item())\n",
    "        pred_init = logits.argmax().item()\n",
    "        changed_batch = False\n",
    "        if 1 in target_col_mask:\n",
    "            ood_score_max = ood_score_init = F.softmax(logits.detach()).max().item()\n",
    "            if ood_score_max < threshold:\n",
    "                log[threshold][batch_idx] = []\n",
    "                log[threshold][batch_idx].append([ood_score_max])\n",
    "                current_drop = 1\n",
    "                log[threshold][batch_idx].append([])\n",
    "                for col_i in target_col_mask.unique():\n",
    "                    if col_i == 0 or col_i == -1:\n",
    "                        continue\n",
    "                    target_col_mask_temp = target_col_mask.clone()\n",
    "                    target_col_mask_temp[target_col_mask_temp==col_i] = -1\n",
    "                    new_batch_data = batch[\"data\"].T[target_col_mask_temp!=-1].reshape(1, -1)\n",
    "                    cls_indexes = (target_col_mask_temp[target_col_mask_temp!=-1].reshape(1, -1) == 0).nonzero()[0].reshape(1, -1)\n",
    "                    logits_temp = model(new_batch_data, cls_indexes=cls_indexes,)\n",
    "                    ood_score_temp = F.softmax(logits_temp.detach()).max().item()\n",
    "                    if ood_score_temp > ood_score_max:\n",
    "                        logits = logits_temp.clone()\n",
    "                        temp_best_target_col_mask = target_col_mask_temp.clone()\n",
    "                        # print(f\"{batch_idx} col_{col_i}\", ood_score_max, ood_score_temp)\n",
    "                        ood_score_max = ood_score_temp\n",
    "                        log[threshold][batch_idx][current_drop].append(ood_score_max)\n",
    "                        improved = True\n",
    "                        changed_batch = True\n",
    "        if changed_batch:\n",
    "            pred_current = logits.argmax().item()\n",
    "            if pred_current == pred_init:\n",
    "                changed[0] += 1\n",
    "            elif pred_current == batch[\"label\"].item():\n",
    "                changed[1] += 1\n",
    "            else:\n",
    "                changed[2] += 1\n",
    "        labels_test.append(batch[\"label\"].cpu())\n",
    "        logits_test.append(logits.detach().cpu())\n",
    "    labels_test = torch.cat(labels_test, dim=0)\n",
    "    logits_test = torch.stack(logits_test, dim=0)\n",
    "    preds_test = torch.argmax(logits_test, dim=1)\n",
    "    num_cols = torch.tensor(num_cols)\n",
    "    changed_log[threshold] = changed\n",
    "    from sklearn.metrics import confusion_matrix, f1_score\n",
    "    mask = num_cols > 0\n",
    "    ts_pred_list = logits_test.argmax(\n",
    "                                1).cpu().detach().numpy().tolist()\n",
    "    ts_micro_f1 = f1_score(labels_test.reshape(-1).numpy().tolist(),\n",
    "                        ts_pred_list,\n",
    "                        average=\"micro\")\n",
    "    ts_macro_f1 = f1_score(labels_test.reshape(-1).numpy().tolist(),\n",
    "                        ts_pred_list,\n",
    "                        average=\"macro\")\n",
    "    print(\"ts_micro_f1={:.4f}, ts_macro_f1={:.4f}\".format(ts_micro_f1, ts_macro_f1))\n",
    "    ts_pred_list = logits_test.argmax(\n",
    "                                1).cpu().detach()[mask].numpy().tolist()\n",
    "    ts_micro_f1 = f1_score(labels_test.reshape(-1)[mask].numpy().tolist(),\n",
    "                        ts_pred_list,\n",
    "                        average=\"micro\")\n",
    "    ts_macro_f1 = f1_score(labels_test.reshape(-1)[mask].numpy().tolist(),\n",
    "                        ts_pred_list,\n",
    "                        average=\"macro\")\n",
    "    print(\"ts_micro_f1={:.4f}, ts_macro_f1={:.4f}\".format(ts_micro_f1, ts_macro_f1))\n",
    "    ts_pred_list = logits_test.argmax(\n",
    "                                1).cpu().detach()[~mask].numpy().tolist()\n",
    "    ts_micro_f1 = f1_score(labels_test.reshape(-1)[~mask].numpy().tolist(),\n",
    "                        ts_pred_list,\n",
    "                        average=\"micro\")\n",
    "    ts_macro_f1 = f1_score(labels_test.reshape(-1)[~mask].numpy().tolist(),\n",
    "                        ts_pred_list,\n",
    "                        average=\"macro\")\n",
    "    print(\"ts_micro_f1={:.4f}, ts_macro_f1={:.4f}\".format(ts_micro_f1, ts_macro_f1))"
   ]
  },
  {
   "cell_type": "code",
   "execution_count": 44,
   "metadata": {},
   "outputs": [
    {
     "name": "stdout",
     "output_type": "stream",
     "text": [
      "*********************Threshold: 1.0****************************\n",
      "Mistake constitution tensor(1.) tensor(0.5171)\n"
     ]
    },
    {
     "name": "stderr",
     "output_type": "stream",
     "text": [
      "/tmp/ipykernel_2170815/3279817322.py:29: UserWarning: Implicit dimension choice for softmax has been deprecated. Change the call to include dim=X as an argument.\n",
      "  ood_score_max = ood_score_init = F.softmax(logits.detach()).max().item()\n",
      "/tmp/ipykernel_2170815/3279817322.py:47: UserWarning: Implicit dimension choice for softmax has been deprecated. Change the call to include dim=X as an argument.\n",
      "  ood_score_temp = F.softmax(logits_temp.detach()).max().item()\n"
     ]
    },
    {
     "name": "stdout",
     "output_type": "stream",
     "text": [
      "ts_micro_f1=0.4129, ts_macro_f1=0.1838\n",
      "ts_micro_f1=0.4575, ts_macro_f1=0.1960\n",
      "ts_micro_f1=0.3622, ts_macro_f1=0.1474\n"
     ]
    }
   ],
   "source": [
    "# One column\n",
    "model.load_state_dict(best_state_dict, strict=False)\n",
    "model.eval()\n",
    "\n",
    "threshold = 0.8\n",
    "log = {}\n",
    "changed_log = {}\n",
    "state = []\n",
    "for threshold in [1.0]:\n",
    "    model = model.to(device)\n",
    "    ft_embs_test = []\n",
    "    labels_test = []\n",
    "    logits_test = []\n",
    "    ood_scores_init = []\n",
    "    num_cols = []\n",
    "    log[threshold] = {}\n",
    "    changed = [0, 0, 0]\n",
    "    print(f\"*********************Threshold: {threshold}****************************\")\n",
    "    \n",
    "    print(\"Mistake constitution\", (ood_score[ood_labels==0] < threshold).sum()/sum(ood_labels==0), \n",
    "          (ood_score[ood_labels==0] < threshold).sum()/sum(ood_score< threshold))\n",
    "    for batch_idx, batch in enumerate(test_dataloader_iter):\n",
    "        cls_indexes = torch.LongTensor([[0, batch[\"cls_indexes\"].cpu().item()]]).to(device)\n",
    "        target_col_mask = batch[\"target_col_mask\"].T\n",
    "        logits = model(batch[\"data\"].T, cls_indexes=cls_indexes,)\n",
    "        num_cols.append(batch[\"target_col_mask\"].max().item())\n",
    "        pred_init = logits.argmax().item()\n",
    "        changed_batch = False\n",
    "        ood_score_max = ood_score_init = F.softmax(logits.detach()).max().item()\n",
    "        ood_scores_init.append(ood_score_init)\n",
    "        if 1 in target_col_mask:\n",
    "            if ood_score_max < threshold:\n",
    "                log[threshold][batch_idx] = []\n",
    "                log[threshold][batch_idx].append([ood_score_max])\n",
    "                current_drop = 1\n",
    "                while True:\n",
    "                    improved = False\n",
    "                    log[threshold][batch_idx].append([])\n",
    "                    for col_i in target_col_mask.unique():\n",
    "                        if col_i == 0 or col_i == -1:\n",
    "                            continue\n",
    "                        target_col_mask_temp = target_col_mask.clone()\n",
    "                        target_col_mask_temp[target_col_mask_temp==col_i] = -1\n",
    "                        new_batch_data = batch[\"data\"].T[target_col_mask_temp!=-1].reshape(1, -1)\n",
    "                        cls_indexes = (target_col_mask_temp[target_col_mask_temp!=-1].reshape(1, -1) == 0).nonzero()[0].reshape(1, -1)\n",
    "                        logits_temp = model(new_batch_data, cls_indexes=cls_indexes,)\n",
    "                        ood_score_temp = F.softmax(logits_temp.detach()).max().item()\n",
    "                        if ood_score_temp > ood_score_max:\n",
    "                            logits = logits_temp.clone()\n",
    "                            temp_best_target_col_mask = target_col_mask_temp.clone()\n",
    "                            # print(f\"{batch_idx} col_{col_i}\", ood_score_max, ood_score_temp)\n",
    "                            ood_score_max = ood_score_temp\n",
    "                            log[threshold][batch_idx][current_drop].append(ood_score_max)\n",
    "                            improved = True\n",
    "                            changed_batch = True\n",
    "                    if not improved:\n",
    "                        break\n",
    "                    else:\n",
    "                        target_col_mask = temp_best_target_col_mask.clone()\n",
    "                        current_drop += 1\n",
    "        if changed_batch:\n",
    "            pred_current = logits.argmax().item()\n",
    "            if pred_current == pred_init:\n",
    "                state.append(1)\n",
    "            elif pred_current == batch[\"label\"].item():\n",
    "                state.append(2)\n",
    "            else:\n",
    "                state.append(3)\n",
    "        else:\n",
    "            state.append(0)\n",
    "        labels_test.append(batch[\"label\"].cpu())\n",
    "        logits_test.append(logits.detach().cpu())\n",
    "    ood_scores_init = torch.tensor(ood_scores_init)\n",
    "    states = torch.tensor(state)\n",
    "    labels_test = torch.cat(labels_test, dim=0)\n",
    "    logits_test = torch.stack(logits_test, dim=0)\n",
    "    preds_test = torch.argmax(logits_test, dim=1)\n",
    "    num_cols = torch.tensor(num_cols)\n",
    "    changed_log[threshold] = changed\n",
    "    from sklearn.metrics import confusion_matrix, f1_score\n",
    "    mask = num_cols > 0\n",
    "    ts_pred_list = logits_test.argmax(\n",
    "                                1).cpu().detach().numpy().tolist()\n",
    "    ts_micro_f1 = f1_score(labels_test.reshape(-1).numpy().tolist(),\n",
    "                        ts_pred_list,\n",
    "                        average=\"micro\")\n",
    "    ts_macro_f1 = f1_score(labels_test.reshape(-1).numpy().tolist(),\n",
    "                        ts_pred_list,\n",
    "                        average=\"macro\")\n",
    "    print(\"ts_micro_f1={:.4f}, ts_macro_f1={:.4f}\".format(ts_micro_f1, ts_macro_f1))\n",
    "    ts_pred_list = logits_test.argmax(\n",
    "                                1).cpu().detach()[mask].numpy().tolist()\n",
    "    ts_micro_f1 = f1_score(labels_test.reshape(-1)[mask].numpy().tolist(),\n",
    "                        ts_pred_list,\n",
    "                        average=\"micro\")\n",
    "    ts_macro_f1 = f1_score(labels_test.reshape(-1)[mask].numpy().tolist(),\n",
    "                        ts_pred_list,\n",
    "                        average=\"macro\")\n",
    "    print(\"ts_micro_f1={:.4f}, ts_macro_f1={:.4f}\".format(ts_micro_f1, ts_macro_f1))\n",
    "    ts_pred_list = logits_test.argmax(\n",
    "                                1).cpu().detach()[~mask].numpy().tolist()\n",
    "    ts_micro_f1 = f1_score(labels_test.reshape(-1)[~mask].numpy().tolist(),\n",
    "                        ts_pred_list,\n",
    "                        average=\"micro\")\n",
    "    ts_macro_f1 = f1_score(labels_test.reshape(-1)[~mask].numpy().tolist(),\n",
    "                        ts_pred_list,\n",
    "                        average=\"macro\")\n",
    "    print(\"ts_micro_f1={:.4f}, ts_macro_f1={:.4f}\".format(ts_micro_f1, ts_macro_f1))"
   ]
  },
  {
   "cell_type": "code",
   "execution_count": 42,
   "metadata": {},
   "outputs": [
    {
     "data": {
      "text/plain": [
       "torch.Size([1085])"
      ]
     },
     "execution_count": 42,
     "metadata": {},
     "output_type": "execute_result"
    }
   ],
   "source": [
    "states.shape"
   ]
  },
  {
   "cell_type": "code",
   "execution_count": 45,
   "metadata": {},
   "outputs": [
    {
     "data": {
      "text/plain": [
       "torch.Size([1085])"
      ]
     },
     "execution_count": 45,
     "metadata": {},
     "output_type": "execute_result"
    }
   ],
   "source": [
    "ood_scores_init.shape"
   ]
  },
  {
   "cell_type": "code",
   "execution_count": 46,
   "metadata": {},
   "outputs": [],
   "source": [
    "ood_scores_new = logits_test.softmax(1).max(1).values"
   ]
  },
  {
   "cell_type": "code",
   "execution_count": 51,
   "metadata": {},
   "outputs": [
    {
     "data": {
      "text/plain": [
       "<Axes: ylabel='Count'>"
      ]
     },
     "execution_count": 51,
     "metadata": {},
     "output_type": "execute_result"
    },
    {
     "data": {
      "image/png": "[encoded data removed]",
      "text/plain": [
       "<Figure size 432x288 with 1 Axes>"
      ]
     },
     "metadata": {
      "needs_background": "light"
     },
     "output_type": "display_data"
    }
   ],
   "source": [
    "import seaborn as sns\n",
    "sns.histplot(ood_scores_init, bins=100, color='blue')\n",
    "sns.histplot(ood_scores_new, bins=100, color='red')"
   ]
  },
  {
   "cell_type": "code",
   "execution_count": 50,
   "metadata": {},
   "outputs": [
    {
     "data": {
      "text/plain": [
       "<Axes: ylabel='Count'>"
      ]
     },
     "execution_count": 50,
     "metadata": {},
     "output_type": "execute_result"
    },
    {
     "data": {
      "image/png": "[encoded data removed]",
      "text/plain": [
       "<Figure size 432x288 with 1 Axes>"
      ]
     },
     "metadata": {
      "needs_background": "light"
     },
     "output_type": "display_data"
    }
   ],
   "source": [
    "import seaborn as sns\n",
    "sns.histplot(ood_scores_init[states==1], bins=100, color='blue')\n",
    "sns.histplot(ood_scores_new[states==1], bins=100, color='red')"
   ]
  },
  {
   "cell_type": "code",
   "execution_count": 59,
   "metadata": {},
   "outputs": [
    {
     "name": "stdout",
     "output_type": "stream",
     "text": [
      "tensor(0.8104) tensor(0.9154) tensor(-0.1050)\n"
     ]
    }
   ],
   "source": [
    "print(ood_scores_init[states==1].mean(), ood_scores_new[states==1].mean(), ood_scores_init[states==1].mean()-ood_scores_new[states==1].mean())"
   ]
  },
  {
   "cell_type": "code",
   "execution_count": 52,
   "metadata": {},
   "outputs": [
    {
     "data": {
      "text/plain": [
       "<Axes: ylabel='Count'>"
      ]
     },
     "execution_count": 52,
     "metadata": {},
     "output_type": "execute_result"
    },
    {
     "data": {
      "image/png": "[encoded data removed]",
      "text/plain": [
       "<Figure size 432x288 with 1 Axes>"
      ]
     },
     "metadata": {
      "needs_background": "light"
     },
     "output_type": "display_data"
    }
   ],
   "source": [
    "import seaborn as sns\n",
    "sns.histplot(ood_scores_init[states==2], bins=100, color='blue')\n",
    "sns.histplot(ood_scores_new[states==2], bins=100, color='red')"
   ]
  },
  {
   "cell_type": "code",
   "execution_count": 57,
   "metadata": {},
   "outputs": [
    {
     "name": "stdout",
     "output_type": "stream",
     "text": [
      "tensor(0.6469) tensor(0.9412) tensor(-0.2943)\n"
     ]
    }
   ],
   "source": [
    "print(ood_scores_init[states==2].mean(), ood_scores_new[states==2].mean(), ood_scores_init[states==2].mean()-ood_scores_new[states==2].mean())"
   ]
  },
  {
   "cell_type": "code",
   "execution_count": null,
   "metadata": {},
   "outputs": [],
   "source": []
  },
  {
   "cell_type": "code",
   "execution_count": 53,
   "metadata": {},
   "outputs": [
    {
     "data": {
      "text/plain": [
       "<Axes: ylabel='Count'>"
      ]
     },
     "execution_count": 53,
     "metadata": {},
     "output_type": "execute_result"
    },
    {
     "data": {
      "image/png": "[encoded data removed]",
      "text/plain": [
       "<Figure size 432x288 with 1 Axes>"
      ]
     },
     "metadata": {
      "needs_background": "light"
     },
     "output_type": "display_data"
    }
   ],
   "source": [
    "import seaborn as sns\n",
    "sns.histplot(ood_scores_init[states==3], bins=100, color='blue')\n",
    "sns.histplot(ood_scores_new[states==3], bins=100, color='red')"
   ]
  },
  {
   "cell_type": "code",
   "execution_count": 58,
   "metadata": {},
   "outputs": [
    {
     "name": "stdout",
     "output_type": "stream",
     "text": [
      "tensor(0.4290) tensor(0.7837) tensor(-0.3547)\n"
     ]
    }
   ],
   "source": [
    "print(ood_scores_init[states==3].mean(), ood_scores_new[states==3].mean(), ood_scores_init[states==3].mean()-ood_scores_new[states==3].mean())"
   ]
  },
  {
   "cell_type": "code",
   "execution_count": 115,
   "metadata": {},
   "outputs": [
    {
     "name": "stdout",
     "output_type": "stream",
     "text": [
      "ts_micro_f1=0.5078, ts_macro_f1=0.2298\n",
      "ts_micro_f1=0.5303, ts_macro_f1=0.2481\n",
      "ts_micro_f1=0.4823, ts_macro_f1=0.1573\n"
     ]
    }
   ],
   "source": [
    "# Cheat perumate\n",
    "import itertools\n",
    "\n",
    "\n",
    "    \n",
    "model.load_state_dict(best_state_dict, strict=False)\n",
    "model.eval()\n",
    "model = model.to(device)\n",
    "ft_embs_test = []\n",
    "labels_test = []\n",
    "logits_test = []\n",
    "log = defaultdict(list)\n",
    "num_cols = []\n",
    "threshold = 0.8\n",
    "corrected = 0\n",
    "total_mistakes = 0\n",
    "for batch_idx, batch in enumerate(test_dataloader_iter):\n",
    "    cls_indexes = torch.LongTensor([[0, batch[\"cls_indexes\"].cpu().item()]]).to(device)\n",
    "    target_col_mask = batch[\"target_col_mask\"].T\n",
    "    logits = model(batch[\"data\"].T, cls_indexes=cls_indexes,)\n",
    "    num_cols.append(batch[\"target_col_mask\"].max().item())\n",
    "    if 1 in target_col_mask and logits.argmax().item() != batch[\"label\"].item():\n",
    "        total_mistakes += 1\n",
    "        col_idx_set = target_col_mask.unique().tolist()\n",
    "        assert -1 not in col_idx_set\n",
    "        for x in itertools.permutations(col_idx_set):\n",
    "            new_batch_data = []\n",
    "            for col_i in x:\n",
    "                if col_i == 0:\n",
    "                    if len(new_batch_data) == 0:\n",
    "                        cls_indexes_value = 0\n",
    "                    else:\n",
    "                        cls_indexes_value = sum([len(new_batch_data[i]) for i in range(len(new_batch_data))])\n",
    "                new_batch_data.append(batch[\"data\"].T[target_col_mask==col_i])\n",
    "            new_batch_data = torch.cat(new_batch_data, dim=-1).reshape(1, -1)\n",
    "            cls_indexes = torch.tensor([0, cls_indexes_value]).reshape(1, -1).to(device)\n",
    "            logits_temp = model(new_batch_data, cls_indexes=cls_indexes,)\n",
    "            if logits_temp.argmax().item() == batch[\"label\"].item():\n",
    "                logits = logits_temp.clone()\n",
    "                corrected += 1\n",
    "                break\n",
    "            \n",
    "    labels_test.append(batch[\"label\"].cpu())\n",
    "    logits_test.append(logits.detach().cpu())\n",
    "labels_test = torch.cat(labels_test, dim=0)\n",
    "logits_test = torch.stack(logits_test, dim=0)\n",
    "preds_test = torch.argmax(logits_test, dim=1)\n",
    "num_cols = torch.tensor(num_cols)\n",
    "\n",
    "\n",
    "\n",
    "\n",
    "from sklearn.metrics import confusion_matrix, f1_score\n",
    "mask = num_cols > 0\n",
    "ts_pred_list = logits_test.argmax(\n",
    "                            1).cpu().detach().numpy().tolist()\n",
    "ts_micro_f1 = f1_score(labels_test.reshape(-1).numpy().tolist(),\n",
    "                    ts_pred_list,\n",
    "                    average=\"micro\")\n",
    "ts_macro_f1 = f1_score(labels_test.reshape(-1).numpy().tolist(),\n",
    "                    ts_pred_list,\n",
    "                    average=\"macro\")\n",
    "print(\"ts_micro_f1={:.4f}, ts_macro_f1={:.4f}\".format(ts_micro_f1, ts_macro_f1))\n",
    "ts_pred_list = logits_test.argmax(\n",
    "                            1).cpu().detach()[mask].numpy().tolist()\n",
    "ts_micro_f1 = f1_score(labels_test.reshape(-1)[mask].numpy().tolist(),\n",
    "                    ts_pred_list,\n",
    "                    average=\"micro\")\n",
    "ts_macro_f1 = f1_score(labels_test.reshape(-1)[mask].numpy().tolist(),\n",
    "                    ts_pred_list,\n",
    "                    average=\"macro\")\n",
    "print(\"ts_micro_f1={:.4f}, ts_macro_f1={:.4f}\".format(ts_micro_f1, ts_macro_f1))\n",
    "ts_pred_list = logits_test.argmax(\n",
    "                            1).cpu().detach()[~mask].numpy().tolist()\n",
    "ts_micro_f1 = f1_score(labels_test.reshape(-1)[~mask].numpy().tolist(),\n",
    "                    ts_pred_list,\n",
    "                    average=\"micro\")\n",
    "ts_macro_f1 = f1_score(labels_test.reshape(-1)[~mask].numpy().tolist(),\n",
    "                    ts_pred_list,\n",
    "                    average=\"macro\")\n",
    "print(\"ts_micro_f1={:.4f}, ts_macro_f1={:.4f}\".format(ts_micro_f1, ts_macro_f1))"
   ]
  },
  {
   "cell_type": "code",
   "execution_count": 39,
   "metadata": {},
   "outputs": [
    {
     "data": {
      "text/plain": [
       "tensor([0, 1, 2, 5])"
      ]
     },
     "execution_count": 39,
     "metadata": {},
     "output_type": "execute_result"
    }
   ],
   "source": [
    "torch.tensor([2,5,1,0]).unique(sorted=False)"
   ]
  },
  {
   "cell_type": "code",
   "execution_count": 41,
   "metadata": {},
   "outputs": [],
   "source": [
    "t = torch.tensor([2,5,1,0])"
   ]
  },
  {
   "cell_type": "code",
   "execution_count": 42,
   "metadata": {},
   "outputs": [],
   "source": [
    "new = []\n",
    "for k in t:\n",
    "    if k not in new:\n",
    "        new.append(k)"
   ]
  },
  {
   "cell_type": "code",
   "execution_count": 43,
   "metadata": {},
   "outputs": [
    {
     "data": {
      "text/plain": [
       "[tensor(2), tensor(5), tensor(1), tensor(0)]"
      ]
     },
     "execution_count": 43,
     "metadata": {},
     "output_type": "execute_result"
    }
   ],
   "source": [
    "new"
   ]
  },
  {
   "cell_type": "code",
   "execution_count": 24,
   "metadata": {},
   "outputs": [
    {
     "data": {
      "text/plain": [
       "333"
      ]
     },
     "execution_count": 24,
     "metadata": {},
     "output_type": "execute_result"
    }
   ],
   "source": [
    "total_mistakes"
   ]
  },
  {
   "cell_type": "code",
   "execution_count": 11,
   "metadata": {},
   "outputs": [],
   "source": [
    "def get_permutation(x):\n",
    "    new = []\n",
    "    for k in x.tolist()[0]:\n",
    "        if k not in new:\n",
    "            new.append(k)\n",
    "    return new"
   ]
  },
  {
   "cell_type": "code",
   "execution_count": 96,
   "metadata": {},
   "outputs": [
    {
     "name": "stderr",
     "output_type": "stream",
     "text": [
      "/tmp/ipykernel_4054970/4068173671.py:28: UserWarning: Implicit dimension choice for softmax has been deprecated. Change the call to include dim=X as an argument.\n",
      "  init_msp.append(F.softmax(logits_temp).max().item())\n",
      "/tmp/ipykernel_4054970/4068173671.py:29: UserWarning: Implicit dimension choice for softmax has been deprecated. Change the call to include dim=X as an argument.\n",
      "  init_entropy.append(compute_entropy(F.softmax(logits_temp)).item())\n",
      "/tmp/ipykernel_4054970/4068173671.py:31: UserWarning: Implicit dimension choice for softmax has been deprecated. Change the call to include dim=X as an argument.\n",
      "  if F.softmax(logits_temp).argmax().item() != batch[\"label\"].item() and batch_idx in MSP_corrected_ids:\n",
      "/tmp/ipykernel_4054970/4068173671.py:33: UserWarning: Implicit dimension choice for softmax has been deprecated. Change the call to include dim=X as an argument.\n",
      "  elif F.softmax(logits_temp).argmax().item() != batch[\"label\"].item() and batch_idx not in MSP_corrected_ids:\n",
      "/tmp/ipykernel_4054970/4068173671.py:35: UserWarning: Implicit dimension choice for softmax has been deprecated. Change the call to include dim=X as an argument.\n",
      "  elif F.softmax(logits_temp).argmax().item() == batch[\"label\"].item() and batch_idx not in MSP_corrected_ids:\n",
      "/tmp/ipykernel_4054970/4068173671.py:37: UserWarning: Implicit dimension choice for softmax has been deprecated. Change the call to include dim=X as an argument.\n",
      "  elif F.softmax(logits_temp).argmax().item() == batch[\"label\"].item() and batch_idx in MSP_corrected_ids:\n"
     ]
    }
   ],
   "source": [
    "# Cheat brute force perumate\n",
    "import itertools\n",
    "\n",
    "\n",
    "    \n",
    "model.load_state_dict(best_state_dict, strict=False)\n",
    "model.eval()\n",
    "model = model.to(device)\n",
    "ft_embs_test = []\n",
    "labels_test = []\n",
    "logits_test = []\n",
    "log = defaultdict(list)\n",
    "num_cols = []\n",
    "init_logits = []\n",
    "init_msp = []\n",
    "init_entropy = []\n",
    "msp_log = []\n",
    "entropy_log = []\n",
    "for batch_idx, batch in enumerate(test_dataloader_iter):\n",
    "    cls_indexes = torch.LongTensor([[0, batch[\"cls_indexes\"].cpu().item()]]).to(device)\n",
    "    target_col_mask = batch[\"target_col_mask\"].T\n",
    "    logits = model(batch[\"data\"].T, cls_indexes=cls_indexes,)\n",
    "    logits_init = logits.clone()\n",
    "    num_cols.append(batch[\"target_col_mask\"].max().item())\n",
    "    if 1 in target_col_mask:\n",
    "        cls_indexes = torch.tensor([0, 0]).reshape(1, -1).to(device)\n",
    "        logits_temp = model(batch[\"data\"].T[target_col_mask==0].reshape(1, -1), cls_indexes=cls_indexes,)    \n",
    "        init_msp.append(F.softmax(logits_temp).max().item())\n",
    "        init_entropy.append(compute_entropy(F.softmax(logits_temp)).item())\n",
    "        init_logits.append(logits_temp.clone().detach().cpu())\n",
    "        if F.softmax(logits_temp).argmax().item() != batch[\"label\"].item() and batch_idx in MSP_corrected_ids:\n",
    "            msp_log.append(0)\n",
    "        elif F.softmax(logits_temp).argmax().item() != batch[\"label\"].item() and batch_idx not in MSP_corrected_ids:\n",
    "            msp_log.append(1)\n",
    "        elif F.softmax(logits_temp).argmax().item() == batch[\"label\"].item() and batch_idx not in MSP_corrected_ids:\n",
    "            msp_log.append(2)\n",
    "        elif F.softmax(logits_temp).argmax().item() == batch[\"label\"].item() and batch_idx in MSP_corrected_ids:\n",
    "            msp_log.append(3)\n",
    "        else:\n",
    "            raise ValueError()\n",
    "        # if compute_entropy(F.softmax(logits_temp)).argmax().item() != batch[\"label\"].item() and batch_idx in Entropy_corrected_ids:\n",
    "        #     entropy_log.append(0)\n",
    "        # elif compute_entropy(F.softmax(logits_temp)).argmax().item() != batch[\"label\"].item() and batch_idx not in Entropy_corrected_ids:\n",
    "        #     entropy_log.append(1)\n",
    "        # elif compute_entropy(F.softmax(logits_temp)).argmax().item() == batch[\"label\"].item() and batch_idx not in Entropy_corrected_ids:\n",
    "        #     entropy_log.append(2)\n",
    "        # elif compute_entropy(F.softmax(logits_temp)).argmax().item() == batch[\"label\"].item() and batch_idx in Entropy_corrected_ids:\n",
    "        #     entropy_log.append(3)\n",
    "        # else:\n",
    "        #     raise ValueError()"
   ]
  },
  {
   "cell_type": "code",
   "execution_count": 75,
   "metadata": {},
   "outputs": [
    {
     "name": "stdout",
     "output_type": "stream",
     "text": [
      "1085 tensor(577)\n"
     ]
    }
   ],
   "source": [
    "num_cols = torch.tensor(num_cols)\n",
    "print(len(num_cols), (num_cols>0).sum())"
   ]
  },
  {
   "cell_type": "code",
   "execution_count": 43,
   "metadata": {},
   "outputs": [],
   "source": [
    "total_mistakes = 333\n",
    "origin_correct = 244\n",
    "best_corrected = 78"
   ]
  },
  {
   "cell_type": "code",
   "execution_count": 45,
   "metadata": {},
   "outputs": [
    {
     "name": "stdout",
     "output_type": "stream",
     "text": [
      "244 0.42287694974003465\n"
     ]
    }
   ],
   "source": [
    "print(len(entropy_log) - total_mistakes, (len(entropy_log) - total_mistakes)/len(entropy_log))"
   ]
  },
  {
   "cell_type": "code",
   "execution_count": 46,
   "metadata": {},
   "outputs": [
    {
     "name": "stdout",
     "output_type": "stream",
     "text": [
      "322 0.5580589254766031\n"
     ]
    }
   ],
   "source": [
    "print(len(entropy_log) - total_mistakes +best_corrected, (len(entropy_log) - total_mistakes +best_corrected)/len(entropy_log))"
   ]
  },
  {
   "cell_type": "code",
   "execution_count": 76,
   "metadata": {},
   "outputs": [
    {
     "data": {
      "text/plain": [
       "tensor([1, 1, 0,  ..., 3, 3, 0])"
      ]
     },
     "execution_count": 76,
     "metadata": {},
     "output_type": "execute_result"
    }
   ],
   "source": [
    "num_cols"
   ]
  },
  {
   "cell_type": "code",
   "execution_count": 97,
   "metadata": {},
   "outputs": [],
   "source": [
    "init_msp = torch.tensor(init_msp)\n",
    "init_entropy = torch.tensor(init_entropy)\n",
    "msp_log = torch.tensor(msp_log)\n",
    "entropy_log = torch.tensor(entropy_log)"
   ]
  },
  {
   "cell_type": "code",
   "execution_count": 48,
   "metadata": {},
   "outputs": [
    {
     "name": "stdout",
     "output_type": "stream",
     "text": [
      "577 577\n",
      "0 tensor(152) tensor(155)\n",
      "1 tensor(196) tensor(311)\n",
      "2 tensor(215) tensor(99)\n",
      "3 tensor(14) tensor(12)\n"
     ]
    }
   ],
   "source": [
    "# 2 indicates single column能划分正确\n",
    "print(len(msp_log), len(entropy_log))\n",
    "for i in range(4):\n",
    "    print(i, (msp_log==i).sum(), (entropy_log==i).sum())\n"
   ]
  },
  {
   "cell_type": "code",
   "execution_count": 99,
   "metadata": {},
   "outputs": [
    {
     "name": "stdout",
     "output_type": "stream",
     "text": [
      "577 0\n",
      "0 tensor(164)\n",
      "1 tensor(184)\n",
      "2 tensor(214)\n",
      "3 tensor(15)\n"
     ]
    }
   ],
   "source": [
    "# permuation starting with 0\n",
    "print(len(msp_log), len(entropy_log))\n",
    "for i in range(4):\n",
    "    print(i, (msp_log==i).sum())"
   ]
  },
  {
   "cell_type": "code",
   "execution_count": 60,
   "metadata": {},
   "outputs": [
    {
     "data": {
      "text/plain": [
       "tensor(0.8917)"
      ]
     },
     "execution_count": 60,
     "metadata": {},
     "output_type": "execute_result"
    },
    {
     "data": {
      "image/png": "[encoded data removed]",
      "text/plain": [
       "<Figure size 432x288 with 1 Axes>"
      ]
     },
     "metadata": {
      "needs_background": "light"
     },
     "output_type": "display_data"
    }
   ],
   "source": [
    "import seaborn as sns\n",
    "sns.histplot(init_msp[(msp_log==2) + (msp_log==3)])\n",
    "init_msp[(msp_log==2) + (msp_log==3)].mean()"
   ]
  },
  {
   "cell_type": "code",
   "execution_count": 100,
   "metadata": {},
   "outputs": [
    {
     "name": "stdout",
     "output_type": "stream",
     "text": [
      "0.8 tensor(251)\n",
      "0.9 tensor(255)\n",
      "0.95 tensor(240)\n",
      "0.99 tensor(196)\n",
      "0.999 tensor(163)\n",
      "1.0 tensor(164)\n"
     ]
    }
   ],
   "source": [
    "# permutation starting with 0\n",
    "for threshold in [0.8, 0.9, 0.95, 0.99, 0.999, 1.0]:\n",
    "    print(threshold, (init_msp[(msp_log==2) + (msp_log==3)] > threshold).sum() + (init_msp[(msp_log==0)] < threshold).sum())"
   ]
  },
  {
   "cell_type": "code",
   "execution_count": 104,
   "metadata": {},
   "outputs": [
    {
     "name": "stdout",
     "output_type": "stream",
     "text": [
      "0.895 tensor(256)\n",
      "0.8951 tensor(256)\n",
      "0.8952 tensor(256)\n",
      "0.8953 tensor(256)\n",
      "0.8954 tensor(256)\n",
      "0.8955 tensor(256)\n",
      "0.8956 tensor(256)\n",
      "0.8957 tensor(256)\n",
      "0.8958 tensor(257)\n",
      "0.8959 tensor(257)\n",
      "0.896 tensor(257)\n",
      "0.8961 tensor(257)\n",
      "0.8962 tensor(256)\n",
      "0.8963 tensor(256)\n",
      "0.8964 tensor(256)\n",
      "0.8965 tensor(256)\n",
      "0.8966 tensor(256)\n",
      "0.8967 tensor(256)\n",
      "0.8968 tensor(256)\n",
      "0.8969 tensor(256)\n"
     ]
    }
   ],
   "source": [
    "# permutation starting with 0\n",
    "for threshold in range(8950, 8970):\n",
    "    threshold = threshold/10000\n",
    "    print(threshold, (init_msp[(msp_log==2) + (msp_log==3)] > threshold).sum() + (init_msp[(msp_log==0)] < threshold).sum())"
   ]
  },
  {
   "cell_type": "code",
   "execution_count": 80,
   "metadata": {},
   "outputs": [
    {
     "name": "stdout",
     "output_type": "stream",
     "text": [
      "0.8 tensor(242)\n",
      "0.9 tensor(245)\n",
      "0.95 tensor(230)\n",
      "0.99 tensor(185)\n",
      "0.999 tensor(151)\n",
      "1.0 tensor(152)\n"
     ]
    }
   ],
   "source": [
    "for threshold in [0.8, 0.9, 0.95, 0.99, 0.999, 1.0]:\n",
    "    print(threshold, (init_msp[(msp_log==2) + (msp_log==3)] > threshold).sum() + (init_msp[(msp_log==0)] < threshold).sum())"
   ]
  },
  {
   "cell_type": "code",
   "execution_count": null,
   "metadata": {},
   "outputs": [],
   "source": []
  },
  {
   "cell_type": "code",
   "execution_count": 84,
   "metadata": {},
   "outputs": [
    {
     "name": "stdout",
     "output_type": "stream",
     "text": [
      "0.895 tensor(246)\n",
      "0.8951 tensor(246)\n",
      "0.8952 tensor(246)\n",
      "0.8953 tensor(246)\n",
      "0.8954 tensor(246)\n",
      "0.8955 tensor(246)\n",
      "0.8956 tensor(246)\n",
      "0.8957 tensor(246)\n",
      "0.8958 tensor(247)\n",
      "0.8959 tensor(247)\n",
      "0.896 tensor(247)\n",
      "0.8961 tensor(247)\n",
      "0.8962 tensor(246)\n",
      "0.8963 tensor(246)\n",
      "0.8964 tensor(246)\n",
      "0.8965 tensor(246)\n",
      "0.8966 tensor(246)\n",
      "0.8967 tensor(246)\n",
      "0.8968 tensor(246)\n",
      "0.8969 tensor(246)\n"
     ]
    }
   ],
   "source": [
    "for threshold in range(8950, 8970):\n",
    "    threshold = threshold/10000\n",
    "    print(threshold, (init_msp[(msp_log==2) + (msp_log==3)] > threshold).sum() + (init_msp[(msp_log==0)] < threshold).sum())"
   ]
  },
  {
   "cell_type": "code",
   "execution_count": 61,
   "metadata": {},
   "outputs": [
    {
     "data": {
      "text/plain": [
       "tensor(0.6848)"
      ]
     },
     "execution_count": 61,
     "metadata": {},
     "output_type": "execute_result"
    },
    {
     "data": {
      "image/png": "[encoded data removed]",
      "text/plain": [
       "<Figure size 432x288 with 1 Axes>"
      ]
     },
     "metadata": {
      "needs_background": "light"
     },
     "output_type": "display_data"
    }
   ],
   "source": [
    "import seaborn as sns\n",
    "sns.histplot(init_msp[msp_log==1])\n",
    "init_msp[(msp_log==1)].mean()"
   ]
  },
  {
   "cell_type": "code",
   "execution_count": 62,
   "metadata": {},
   "outputs": [
    {
     "data": {
      "text/plain": [
       "tensor(0.8144)"
      ]
     },
     "execution_count": 62,
     "metadata": {},
     "output_type": "execute_result"
    },
    {
     "data": {
      "image/png": "[encoded data removed]",
      "text/plain": [
       "<Figure size 432x288 with 1 Axes>"
      ]
     },
     "metadata": {
      "needs_background": "light"
     },
     "output_type": "display_data"
    }
   ],
   "source": [
    "import seaborn as sns\n",
    "sns.histplot(init_msp[msp_log==0])\n",
    "init_msp[(msp_log==0)].mean()"
   ]
  },
  {
   "cell_type": "code",
   "execution_count": null,
   "metadata": {},
   "outputs": [],
   "source": []
  },
  {
   "cell_type": "code",
   "execution_count": 49,
   "metadata": {},
   "outputs": [
    {
     "name": "stdout",
     "output_type": "stream",
     "text": [
      "tensor(0.3969) tensor(0.1924)\n"
     ]
    }
   ],
   "source": [
    "print(((msp_log==2).sum()+(msp_log==3).sum())/len(msp_log), ((entropy_log==2).sum()+ (entropy_log==3).sum())/len(msp_log))"
   ]
  },
  {
   "cell_type": "code",
   "execution_count": 249,
   "metadata": {},
   "outputs": [
    {
     "data": {
      "text/plain": [
       "0"
      ]
     },
     "execution_count": 249,
     "metadata": {},
     "output_type": "execute_result"
    }
   ],
   "source": [
    "total_mistakes"
   ]
  },
  {
   "cell_type": "code",
   "execution_count": 88,
   "metadata": {},
   "outputs": [],
   "source": [
    "torch.save(MSP_permutation, \"/data/zhihao/TU/Watchog/outputs/gt-semtab22-dbpedia-all0/MSP_full_permutation.pt\")\n",
    "torch.save(MSP_logits, \"/data/zhihao/TU/Watchog/outputs/gt-semtab22-dbpedia-all0/MSP_full_logits.pt\")\n"
   ]
  },
  {
   "cell_type": "code",
   "execution_count": 11,
   "metadata": {},
   "outputs": [
    {
     "name": "stderr",
     "output_type": "stream",
     "text": [
      "/tmp/ipykernel_3122311/130419269.py:42: UserWarning: Implicit dimension choice for softmax has been deprecated. Change the call to include dim=X as an argument.\n",
      "  max_msp = F.softmax(logits_init).detach().cpu().max().item()\n",
      "/tmp/ipykernel_3122311/130419269.py:72: UserWarning: Implicit dimension choice for softmax has been deprecated. Change the call to include dim=X as an argument.\n",
      "  temp_msp = F.softmax(logits_temp).max().item()\n"
     ]
    },
    {
     "name": "stdout",
     "output_type": "stream",
     "text": [
      "ts_micro_f1=0.7272, ts_macro_f1=0.4835\n",
      "ts_micro_f1=0.7269, ts_macro_f1=0.4835\n",
      "ts_micro_f1=1.0000, ts_macro_f1=1.0000\n"
     ]
    }
   ],
   "source": [
    "# Cheat brute force perumate\n",
    "\n",
    "import itertools\n",
    "import torch.nn.functional as F\n",
    "\n",
    "    \n",
    "model.load_state_dict(best_state_dict, strict=False)\n",
    "model.eval()\n",
    "model = model.to(device)\n",
    "ft_embs_test = []\n",
    "labels_test = []\n",
    "logits_test = []\n",
    "log = defaultdict(list)\n",
    "num_cols = []\n",
    "threshold = 0.8\n",
    "corrected = 0\n",
    "total_mistakes = 0\n",
    "init_permutation = defaultdict(list)\n",
    "corrected_permutation = defaultdict(list)\n",
    "init_logits = defaultdict(list)\n",
    "corrected_logits = defaultdict(list)\n",
    "MSP_permutation = defaultdict(list)\n",
    "MSP_logits = defaultdict(list)\n",
    "MSP_corrected = 0\n",
    "Entropy_permutation = defaultdict(list)\n",
    "Entropy_logits = defaultdict(list)\n",
    "Entropy_corrected = 0\n",
    "\n",
    "max_col_length = 3\n",
    "for batch_idx, batch in enumerate(test_dataloader_iter):\n",
    "    cls_indexes = torch.LongTensor([[0, batch[\"cls_indexes\"].cpu().item()]]).to(device)\n",
    "    target_col_mask = batch[\"target_col_mask\"].T\n",
    "    logits = model(batch[\"data\"].T, cls_indexes=cls_indexes,)\n",
    "    logits_init = logits.clone()\n",
    "    num_cols.append(batch[\"target_col_mask\"].max().item())\n",
    "    if 1 in target_col_mask and logits.argmax().item() != batch[\"label\"].item():\n",
    "        total_mistakes += 1\n",
    "        col_idx_set = target_col_mask.unique().tolist()\n",
    "        successs = False\n",
    "        init_permutation[batch_idx].append(get_permutation(target_col_mask))\n",
    "        init_logits[batch_idx].append(logits_init.detach().cpu())        \n",
    "        max_msp = F.softmax(logits_init).detach().cpu().max().item()\n",
    "        msp_logits = logits_init.clone().detach().cpu()\n",
    "        msp_perm = get_permutation(target_col_mask)[0]\n",
    "        assert -1 not in col_idx_set\n",
    "        for r in range(1, min(len(col_idx_set), max_col_length) + 1):\n",
    "            for subset in itertools.combinations(col_idx_set, r):\n",
    "                if 0 not in subset:\n",
    "                    continue\n",
    "                for x in itertools.permutations(subset):\n",
    "                    # if 0 not in x:\n",
    "                    #     continue\n",
    "                    # if x[0] != 0:\n",
    "                    #     continue\n",
    "                    new_batch_data = []\n",
    "                    for col_i in x:\n",
    "                        if col_i == 0:\n",
    "                            if len(new_batch_data) == 0:\n",
    "                                cls_indexes_value = 0\n",
    "                            else:\n",
    "                                cls_indexes_value = sum([len(new_batch_data[i]) for i in range(len(new_batch_data))])\n",
    "                        new_batch_data.append(batch[\"data\"].T[target_col_mask==col_i])\n",
    "                    new_batch_data = torch.cat(new_batch_data, dim=-1).reshape(1, -1)\n",
    "                    cls_indexes = torch.tensor([0, cls_indexes_value]).reshape(1, -1).to(device)\n",
    "                    logits_temp = model(new_batch_data, cls_indexes=cls_indexes,)\n",
    "                    if logits_temp.argmax().item() == batch[\"label\"].item():\n",
    "                        logits = logits_temp.clone()\n",
    "                        successs = True\n",
    "                        corrected_permutation[batch_idx].append(x)\n",
    "                        corrected_logits[batch_idx].append(logits_temp.clone().detach().cpu())\n",
    "                    \n",
    "                    temp_msp = F.softmax(logits_temp).max().item()\n",
    "                    if max_msp < temp_msp:\n",
    "                        max_msp = temp_msp\n",
    "                        msp_logits = logits_temp.clone().detach().cpu()\n",
    "                        msp_perm = x\n",
    "        MSP_logits[batch_idx].append(msp_logits)\n",
    "        MSP_permutation[batch_idx].append(msp_perm)\n",
    "        if msp_logits.argmax().item() == batch[\"label\"].item():\n",
    "            MSP_corrected += 1\n",
    "            # print(f\"MSP correct {batch_idx}\")\n",
    "        if successs:\n",
    "            corrected += 1\n",
    "    labels_test.append(batch[\"label\"].cpu())\n",
    "    logits_test.append(logits.detach().cpu())\n",
    "labels_test = torch.cat(labels_test, dim=0)\n",
    "logits_test = torch.stack(logits_test, dim=0)\n",
    "preds_test = torch.argmax(logits_test, dim=1)\n",
    "num_cols = torch.tensor(num_cols)\n",
    "\n",
    "\n",
    "\n",
    "\n",
    "from sklearn.metrics import confusion_matrix, f1_score\n",
    "mask = num_cols > 0\n",
    "ts_pred_list = logits_test.argmax(\n",
    "                            1).cpu().detach().numpy().tolist()\n",
    "ts_micro_f1 = f1_score(labels_test.reshape(-1).numpy().tolist(),\n",
    "                    ts_pred_list,\n",
    "                    average=\"micro\")\n",
    "ts_macro_f1 = f1_score(labels_test.reshape(-1).numpy().tolist(),\n",
    "                    ts_pred_list,\n",
    "                    average=\"macro\")\n",
    "print(\"ts_micro_f1={:.4f}, ts_macro_f1={:.4f}\".format(ts_micro_f1, ts_macro_f1))\n",
    "ts_pred_list = logits_test.argmax(\n",
    "                            1).cpu().detach()[mask].numpy().tolist()\n",
    "ts_micro_f1 = f1_score(labels_test.reshape(-1)[mask].numpy().tolist(),\n",
    "                    ts_pred_list,\n",
    "                    average=\"micro\")\n",
    "ts_macro_f1 = f1_score(labels_test.reshape(-1)[mask].numpy().tolist(),\n",
    "                    ts_pred_list,\n",
    "                    average=\"macro\")\n",
    "print(\"ts_micro_f1={:.4f}, ts_macro_f1={:.4f}\".format(ts_micro_f1, ts_macro_f1))\n",
    "ts_pred_list = logits_test.argmax(\n",
    "                            1).cpu().detach()[~mask].numpy().tolist()\n",
    "ts_micro_f1 = f1_score(labels_test.reshape(-1)[~mask].numpy().tolist(),\n",
    "                    ts_pred_list,\n",
    "                    average=\"micro\")\n",
    "ts_macro_f1 = f1_score(labels_test.reshape(-1)[~mask].numpy().tolist(),\n",
    "                    ts_pred_list,\n",
    "                    average=\"macro\")\n",
    "print(\"ts_micro_f1={:.4f}, ts_macro_f1={:.4f}\".format(ts_micro_f1, ts_macro_f1))"
   ]
  },
  {
   "cell_type": "code",
   "execution_count": 16,
   "metadata": {},
   "outputs": [
    {
     "data": {
      "text/plain": [
       "[2, 4, 6, 8, 12, 14, 15, 16, 18, 19]"
      ]
     },
     "execution_count": 16,
     "metadata": {},
     "output_type": "execute_result"
    }
   ],
   "source": [
    "list(init_permutation.keys())[:10]"
   ]
  },
  {
   "cell_type": "code",
   "execution_count": 13,
   "metadata": {},
   "outputs": [],
   "source": [
    "def is_sublist(A, B):\n",
    "    it = iter(B)\n",
    "    return all(x in it for x in A)"
   ]
  },
  {
   "cell_type": "code",
   "execution_count": 17,
   "metadata": {},
   "outputs": [
    {
     "data": {
      "text/plain": [
       "[[1, 2, 3, 4, 5, 6, 0, 7]]"
      ]
     },
     "execution_count": 17,
     "metadata": {},
     "output_type": "execute_result"
    }
   ],
   "source": [
    "init_permutation[2]"
   ]
  },
  {
   "cell_type": "code",
   "execution_count": 19,
   "metadata": {},
   "outputs": [
    {
     "data": {
      "text/plain": [
       "[4, 8, 12, 15, 16, 18, 19, 23, 27, 33]"
      ]
     },
     "execution_count": 19,
     "metadata": {},
     "output_type": "execute_result"
    }
   ],
   "source": [
    "list(corrected_permutation.keys())[:10]"
   ]
  },
  {
   "cell_type": "code",
   "execution_count": 21,
   "metadata": {},
   "outputs": [
    {
     "data": {
      "text/plain": [
       "(1, 0)"
      ]
     },
     "execution_count": 21,
     "metadata": {},
     "output_type": "execute_result"
    }
   ],
   "source": [
    " corrected_permutation[4][0]"
   ]
  },
  {
   "cell_type": "code",
   "execution_count": 24,
   "metadata": {},
   "outputs": [],
   "source": [
    "num_sublist = 0\n",
    "for idx in corrected_permutation:\n",
    "    for sublist in corrected_permutation[idx]:\n",
    "        if is_sublist(sublist, init_permutation[idx][0]):\n",
    "            num_sublist += 1\n",
    "            break"
   ]
  },
  {
   "cell_type": "code",
   "execution_count": 27,
   "metadata": {},
   "outputs": [
    {
     "data": {
      "text/plain": [
       "251"
      ]
     },
     "execution_count": 27,
     "metadata": {},
     "output_type": "execute_result"
    }
   ],
   "source": [
    "len(corrected_permutation)"
   ]
  },
  {
   "cell_type": "code",
   "execution_count": 28,
   "metadata": {},
   "outputs": [
    {
     "data": {
      "text/plain": [
       "194"
      ]
     },
     "execution_count": 28,
     "metadata": {},
     "output_type": "execute_result"
    }
   ],
   "source": [
    "num_sublist"
   ]
  },
  {
   "cell_type": "code",
   "execution_count": 26,
   "metadata": {},
   "outputs": [
    {
     "data": {
      "text/plain": [
       "0.7729083665338645"
      ]
     },
     "execution_count": 26,
     "metadata": {},
     "output_type": "execute_result"
    }
   ],
   "source": [
    "num_sublist/len(corrected_permutation)"
   ]
  },
  {
   "cell_type": "code",
   "execution_count": null,
   "metadata": {},
   "outputs": [],
   "source": []
  },
  {
   "cell_type": "code",
   "execution_count": null,
   "metadata": {},
   "outputs": [],
   "source": []
  },
  {
   "cell_type": "code",
   "execution_count": null,
   "metadata": {},
   "outputs": [],
   "source": []
  },
  {
   "cell_type": "code",
   "execution_count": 12,
   "metadata": {},
   "outputs": [
    {
     "name": "stdout",
     "output_type": "stream",
     "text": [
      "*********************Max Column Length: 2****************************\n",
      "ts_micro_f1=0.6783, ts_macro_f1=0.3947\n",
      "ts_micro_f1=0.6780, ts_macro_f1=0.3947\n",
      "ts_micro_f1=1.0000, ts_macro_f1=1.0000\n",
      "Time: 53.744505167007446\n",
      "*********************Max Column Length: 3****************************\n",
      "ts_micro_f1=0.7475, ts_macro_f1=0.4875\n",
      "ts_micro_f1=0.7472, ts_macro_f1=0.4875\n",
      "ts_micro_f1=1.0000, ts_macro_f1=1.0000\n",
      "Time: 315.4276714324951\n",
      "*********************Max Column Length: 4****************************\n",
      "ts_micro_f1=0.7880, ts_macro_f1=0.5643\n",
      "ts_micro_f1=0.7878, ts_macro_f1=0.5643\n",
      "ts_micro_f1=1.0000, ts_macro_f1=1.0000\n",
      "Time: 1577.7969288825989\n"
     ]
    }
   ],
   "source": [
    "# Cheat brute force perumate\n",
    "\n",
    "import itertools\n",
    "import torch.nn.functional as F\n",
    "import time\n",
    "for max_col_length in [2,3,4]:\n",
    "    start = time.time()\n",
    "    print(f\"*********************Max Column Length: {max_col_length}****************************\")\n",
    "    model.load_state_dict(best_state_dict, strict=False)\n",
    "    model.eval()\n",
    "    model = model.to(device)\n",
    "    ft_embs_test = []\n",
    "    labels_test = []\n",
    "    logits_test = []\n",
    "    log = defaultdict(list)\n",
    "    num_cols = []\n",
    "    threshold = 0.8\n",
    "    corrected = 0\n",
    "    total_mistakes = 0\n",
    "    init_permutation = defaultdict(list)\n",
    "    corrected_permutation = defaultdict(list)\n",
    "    init_logits = defaultdict(list)\n",
    "    corrected_logits = defaultdict(list)\n",
    "    MSP_permutation = defaultdict(list)\n",
    "    MSP_logits = defaultdict(list)\n",
    "    MSP_corrected = 0\n",
    "    Entropy_permutation = defaultdict(list)\n",
    "    Entropy_logits = defaultdict(list)\n",
    "    Entropy_corrected = 0\n",
    "    for batch_idx, batch in enumerate(test_dataloader_iter):\n",
    "        cls_indexes = torch.LongTensor([[0, batch[\"cls_indexes\"].cpu().item()]]).to(device)\n",
    "        target_col_mask = batch[\"target_col_mask\"].T\n",
    "        logits = model(batch[\"data\"].T, cls_indexes=cls_indexes,)\n",
    "        num_cols.append(batch[\"target_col_mask\"].max().item())\n",
    "        if 1 in target_col_mask and logits.argmax().item() != batch[\"label\"].item():\n",
    "            total_mistakes += 1\n",
    "            col_idx_set = target_col_mask.unique().tolist()\n",
    "            successs = False\n",
    "            assert -1 not in col_idx_set\n",
    "            for r in range(1, min(len(col_idx_set), max_col_length) + 1):\n",
    "                for subset in itertools.combinations(col_idx_set, r):\n",
    "                    if 0 not in subset:\n",
    "                        continue\n",
    "                    for x in itertools.permutations(subset):\n",
    "                        new_batch_data = []\n",
    "                        for col_i in x:\n",
    "                            if col_i == 0:\n",
    "                                if len(new_batch_data) == 0:\n",
    "                                    cls_indexes_value = 0\n",
    "                                else:\n",
    "                                    cls_indexes_value = sum([len(new_batch_data[i]) for i in range(len(new_batch_data))])\n",
    "                            new_batch_data.append(batch[\"data\"].T[target_col_mask==col_i])\n",
    "                        new_batch_data = torch.cat(new_batch_data, dim=-1).reshape(1, -1)\n",
    "                        cls_indexes = torch.tensor([0, cls_indexes_value]).reshape(1, -1).to(device)\n",
    "                        logits_temp = model(new_batch_data, cls_indexes=cls_indexes,)\n",
    "                        if logits_temp.argmax().item() == batch[\"label\"].item():\n",
    "                            logits = logits_temp.clone()\n",
    "                            successs = True\n",
    "                            corrected_permutation[batch_idx].append(x)\n",
    "                            corrected_logits[batch_idx].append(logits_temp.clone().detach().cpu())\n",
    "                            break\n",
    "                if successs:\n",
    "                    break          \n",
    "            if successs:\n",
    "                corrected += 1\n",
    "        labels_test.append(batch[\"label\"].cpu())\n",
    "        logits_test.append(logits.detach().cpu())\n",
    "    labels_test = torch.cat(labels_test, dim=0)\n",
    "    logits_test = torch.stack(logits_test, dim=0)\n",
    "    preds_test = torch.argmax(logits_test, dim=1)\n",
    "    num_cols = torch.tensor(num_cols)\n",
    "\n",
    "\n",
    "\n",
    "\n",
    "    from sklearn.metrics import confusion_matrix, f1_score\n",
    "    mask = num_cols > 0\n",
    "    ts_pred_list = logits_test.argmax(\n",
    "                                1).cpu().detach().numpy().tolist()\n",
    "    ts_micro_f1 = f1_score(labels_test.reshape(-1).numpy().tolist(),\n",
    "                        ts_pred_list,\n",
    "                        average=\"micro\")\n",
    "    ts_macro_f1 = f1_score(labels_test.reshape(-1).numpy().tolist(),\n",
    "                        ts_pred_list,\n",
    "                        average=\"macro\")\n",
    "    print(\"ts_micro_f1={:.4f}, ts_macro_f1={:.4f}\".format(ts_micro_f1, ts_macro_f1))\n",
    "    ts_pred_list = logits_test.argmax(\n",
    "                                1).cpu().detach()[mask].numpy().tolist()\n",
    "    ts_micro_f1 = f1_score(labels_test.reshape(-1)[mask].numpy().tolist(),\n",
    "                        ts_pred_list,\n",
    "                        average=\"micro\")\n",
    "    ts_macro_f1 = f1_score(labels_test.reshape(-1)[mask].numpy().tolist(),\n",
    "                        ts_pred_list,\n",
    "                        average=\"macro\")\n",
    "    print(\"ts_micro_f1={:.4f}, ts_macro_f1={:.4f}\".format(ts_micro_f1, ts_macro_f1))\n",
    "    ts_pred_list = logits_test.argmax(\n",
    "                                1).cpu().detach()[~mask].numpy().tolist()\n",
    "    ts_micro_f1 = f1_score(labels_test.reshape(-1)[~mask].numpy().tolist(),\n",
    "                        ts_pred_list,\n",
    "                        average=\"micro\")\n",
    "    ts_macro_f1 = f1_score(labels_test.reshape(-1)[~mask].numpy().tolist(),\n",
    "                        ts_pred_list,\n",
    "                        average=\"macro\")\n",
    "    print(\"ts_micro_f1={:.4f}, ts_macro_f1={:.4f}\".format(ts_micro_f1, ts_macro_f1))\n",
    "    print(f\"Time: {time.time()-start}\")"
   ]
  },
  {
   "cell_type": "code",
   "execution_count": 36,
   "metadata": {},
   "outputs": [
    {
     "data": {
      "text/plain": [
       "333"
      ]
     },
     "execution_count": 36,
     "metadata": {},
     "output_type": "execute_result"
    }
   ],
   "source": [
    "total_mistakes"
   ]
  },
  {
   "cell_type": "code",
   "execution_count": 37,
   "metadata": {},
   "outputs": [
    {
     "data": {
      "text/plain": [
       "78"
      ]
     },
     "execution_count": 37,
     "metadata": {},
     "output_type": "execute_result"
    }
   ],
   "source": [
    "corrected"
   ]
  },
  {
   "cell_type": "code",
   "execution_count": 95,
   "metadata": {},
   "outputs": [],
   "source": [
    "MSP_corrected_ids = []\n",
    "MSP_failed_ids = []\n",
    "for k, v in MSP_logits.items():\n",
    "    msp_logits = v[0]\n",
    "    if msp_logits.argmax().item() == batch[\"label\"].item():\n",
    "        MSP_corrected_ids.append(k)\n",
    "    else:\n",
    "        MSP_failed_ids.append(k)"
   ]
  },
  {
   "cell_type": "code",
   "execution_count": 40,
   "metadata": {},
   "outputs": [],
   "source": [
    "Entropy_corrected_ids = []\n",
    "Entropy_failed_ids = []\n",
    "for k, v in Entropy_logits.items():\n",
    "    Entropy_logits = v[0]\n",
    "    if Entropy_logits.argmax().item() == batch[\"label\"].item():\n",
    "        Entropy_corrected_ids.append(k)\n",
    "    else:\n",
    "        Entropy_failed_ids.append(k)"
   ]
  },
  {
   "cell_type": "code",
   "execution_count": null,
   "metadata": {},
   "outputs": [],
   "source": [
    "        MSP_logits[batch_idx].append(msp_logits)\n",
    "        MSP_permutation[batch_idx].append(msp_perm)\n",
    "        if msp_logits.argmax().item() == batch[\"label\"].item():\n",
    "            MSP_corrected += 1\n",
    "            # print(f\"MSP correct {batch_idx}\")\n",
    "        Entropy_logits[batch_idx].append(entropy_logits)\n",
    "        Entropy_permutation[batch_idx].append(entropy_perm)"
   ]
  },
  {
   "cell_type": "code",
   "execution_count": 211,
   "metadata": {},
   "outputs": [
    {
     "data": {
      "text/plain": [
       "27"
      ]
     },
     "execution_count": 211,
     "metadata": {},
     "output_type": "execute_result"
    }
   ],
   "source": [
    "Entropy_corrected"
   ]
  },
  {
   "cell_type": "code",
   "execution_count": 86,
   "metadata": {},
   "outputs": [
    {
     "data": {
      "text/plain": [
       "35"
      ]
     },
     "execution_count": 86,
     "metadata": {},
     "output_type": "execute_result"
    }
   ],
   "source": [
    "MSP_corrected"
   ]
  },
  {
   "cell_type": "code",
   "execution_count": 213,
   "metadata": {},
   "outputs": [
    {
     "data": {
      "text/plain": [
       "59"
      ]
     },
     "execution_count": 213,
     "metadata": {},
     "output_type": "execute_result"
    }
   ],
   "source": [
    "corrected"
   ]
  },
  {
   "cell_type": "code",
   "execution_count": 214,
   "metadata": {},
   "outputs": [
    {
     "data": {
      "text/plain": [
       "314"
      ]
     },
     "execution_count": 214,
     "metadata": {},
     "output_type": "execute_result"
    }
   ],
   "source": [
    "total_mistakes"
   ]
  },
  {
   "cell_type": "code",
   "execution_count": 166,
   "metadata": {},
   "outputs": [
    {
     "name": "stdout",
     "output_type": "stream",
     "text": [
      "(0,) tensor(0.2383, device='cuda:1', grad_fn=<MaxBackward1>) tensor(37, device='cuda:1')\n",
      "(1,) tensor(0.5257, device='cuda:1', grad_fn=<MaxBackward1>) tensor(10, device='cuda:1')\n",
      "(0, 1) tensor(0.2742, device='cuda:1', grad_fn=<MaxBackward1>) tensor(3, device='cuda:1')\n",
      "(1, 0) tensor(0.4955, device='cuda:1', grad_fn=<MaxBackward1>) tensor(0, device='cuda:1')\n"
     ]
    },
    {
     "name": "stderr",
     "output_type": "stream",
     "text": [
      "/tmp/ipykernel_3359783/3294044442.py:50: UserWarning: Implicit dimension choice for softmax has been deprecated. Change the call to include dim=X as an argument.\n",
      "  print(x, F.softmax(logits_temp).max(), F.softmax(logits_temp).argmax())\n"
     ]
    }
   ],
   "source": [
    "# Cheat brute force perumate\n",
    "import itertools\n",
    "\n",
    "\n",
    "    \n",
    "model.load_state_dict(best_state_dict, strict=False)\n",
    "model.eval()\n",
    "model = model.to(device)\n",
    "ft_embs_test = []\n",
    "labels_test = []\n",
    "logits_test = []\n",
    "log = defaultdict(list)\n",
    "num_cols = []\n",
    "threshold = 0.8\n",
    "corrected = 0\n",
    "total_mistakes = 0\n",
    "init_permutation = defaultdict(list)\n",
    "corrected_permutation = defaultdict(list)\n",
    "init_logits = defaultdict(list)\n",
    "corrected_logits = defaultdict(list)\n",
    "\n",
    "for batch_idx, batch in enumerate(test_dataloader_iter):\n",
    "    cls_indexes = torch.LongTensor([[0, batch[\"cls_indexes\"].cpu().item()]]).to(device)\n",
    "    target_col_mask = batch[\"target_col_mask\"].T\n",
    "    logits = model(batch[\"data\"].T, cls_indexes=cls_indexes,)\n",
    "    logits_init = logits.clone()\n",
    "    num_cols.append(batch[\"target_col_mask\"].max().item())\n",
    "    if batch_idx == 18:\n",
    "        break\n",
    "\n",
    "col_idx_set = target_col_mask.unique().tolist()\n",
    "successs = False\n",
    "init_permutation[batch_idx].append(get_permutation(target_col_mask))\n",
    "init_logits[batch_idx].append(logits_init.detach().cpu())        \n",
    "assert -1 not in col_idx_set\n",
    "for r in range(1, len(col_idx_set) + 1):\n",
    "    for subset in itertools.combinations(col_idx_set, r):\n",
    "        for x in itertools.permutations(subset):\n",
    "            new_batch_data = []\n",
    "            for col_i in x:\n",
    "                if col_i == 0:\n",
    "                    if len(new_batch_data) == 0:\n",
    "                        cls_indexes_value = 0\n",
    "                    else:\n",
    "                        cls_indexes_value = sum([len(new_batch_data[i]) for i in range(len(new_batch_data))])\n",
    "                new_batch_data.append(batch[\"data\"].T[target_col_mask==col_i])\n",
    "            new_batch_data = torch.cat(new_batch_data, dim=-1).reshape(1, -1)\n",
    "            cls_indexes = torch.tensor([0, cls_indexes_value]).reshape(1, -1).to(device)\n",
    "            logits_temp = model(new_batch_data, cls_indexes=cls_indexes,)\n",
    "            print(x, F.softmax(logits_temp).max(), F.softmax(logits_temp).argmax())"
   ]
  },
  {
   "cell_type": "code",
   "execution_count": 222,
   "metadata": {},
   "outputs": [
    {
     "name": "stdout",
     "output_type": "stream",
     "text": [
      "[1, 0, 2] 1\n",
      "********************************************************\n",
      "(0,) tensor(0.2444, device='cuda:1', grad_fn=<MaxBackward1>) tensor(67, device='cuda:1')\n",
      "(1,) tensor(0.5232, device='cuda:1', grad_fn=<MaxBackward1>) tensor(0, device='cuda:1')\n",
      "(2,) tensor(0.7384, device='cuda:1', grad_fn=<MaxBackward1>) tensor(3, device='cuda:1')\n",
      "(0, 1) tensor(0.2680, device='cuda:1', grad_fn=<MaxBackward1>) tensor(56, device='cuda:1')\n",
      "(1, 0) tensor(0.8958, device='cuda:1', grad_fn=<MaxBackward1>) tensor(67, device='cuda:1')\n",
      "(0, 2) tensor(0.5103, device='cuda:1', grad_fn=<MaxBackward1>) tensor(1, device='cuda:1')\n",
      "(2, 0) tensor(0.2122, device='cuda:1', grad_fn=<MaxBackward1>) tensor(67, device='cuda:1')\n",
      "(1, 2) tensor(0.9971, device='cuda:1', grad_fn=<MaxBackward1>) tensor(3, device='cuda:1')\n",
      "(2, 1) tensor(0.9902, device='cuda:1', grad_fn=<MaxBackward1>) tensor(10, device='cuda:1')\n",
      "(0, 1, 2) tensor(0.2955, device='cuda:1', grad_fn=<MaxBackward1>) tensor(37, device='cuda:1')\n",
      "(0, 2, 1) tensor(0.5985, device='cuda:1', grad_fn=<MaxBackward1>) tensor(1, device='cuda:1')\n",
      "(1, 0, 2) tensor(0.4347, device='cuda:1', grad_fn=<MaxBackward1>) tensor(59, device='cuda:1')\n",
      "(1, 2, 0) tensor(0.9305, device='cuda:1', grad_fn=<MaxBackward1>) tensor(1, device='cuda:1')\n",
      "(2, 0, 1) tensor(0.4064, device='cuda:1', grad_fn=<MaxBackward1>) tensor(59, device='cuda:1')\n",
      "(2, 1, 0) tensor(0.9894, device='cuda:1', grad_fn=<MaxBackward1>) tensor(1, device='cuda:1')\n",
      "********************************************************\n",
      "(2, 1, 0) 0.9894070029258728 1\n"
     ]
    },
    {
     "name": "stderr",
     "output_type": "stream",
     "text": [
      "/tmp/ipykernel_3359783/952217777.py:54: UserWarning: Implicit dimension choice for softmax has been deprecated. Change the call to include dim=X as an argument.\n",
      "  msp_temp = F.softmax(logits_temp).max().item()\n",
      "/tmp/ipykernel_3359783/952217777.py:55: UserWarning: Implicit dimension choice for softmax has been deprecated. Change the call to include dim=X as an argument.\n",
      "  predict_temp = F.softmax(logits_temp).argmax().item()\n",
      "/tmp/ipykernel_3359783/952217777.py:56: UserWarning: Implicit dimension choice for softmax has been deprecated. Change the call to include dim=X as an argument.\n",
      "  print(x, F.softmax(logits_temp).max(), F.softmax(logits_temp).argmax())\n"
     ]
    }
   ],
   "source": [
    "# use target as head, the MSP context\n",
    "import itertools\n",
    "\n",
    "\n",
    "    \n",
    "model.load_state_dict(best_state_dict, strict=False)\n",
    "model.eval()\n",
    "model = model.to(device)\n",
    "ft_embs_test = []\n",
    "labels_test = []\n",
    "logits_test = []\n",
    "log = defaultdict(list)\n",
    "num_cols = []\n",
    "threshold = 0.8\n",
    "corrected = 0\n",
    "total_mistakes = 0\n",
    "init_permutation = defaultdict(list)\n",
    "corrected_permutation = defaultdict(list)\n",
    "init_logits = defaultdict(list)\n",
    "corrected_logits = defaultdict(list)\n",
    "\n",
    "for batch_idx, batch in enumerate(test_dataloader_iter):\n",
    "    cls_indexes = torch.LongTensor([[0, batch[\"cls_indexes\"].cpu().item()]]).to(device)\n",
    "    target_col_mask = batch[\"target_col_mask\"].T\n",
    "    logits = model(batch[\"data\"].T, cls_indexes=cls_indexes,)\n",
    "    logits_init = logits.clone()\n",
    "    num_cols.append(batch[\"target_col_mask\"].max().item())\n",
    "    if batch_idx == 154:\n",
    "        break\n",
    "\n",
    "col_idx_set = target_col_mask.unique().tolist()\n",
    "successs = False\n",
    "init_permutation[batch_idx].append(get_permutation(target_col_mask))\n",
    "init_logits[batch_idx].append(logits_init.detach().cpu())     \n",
    "\n",
    "print(get_permutation(target_col_mask), batch[\"label\"].item())   \n",
    "print(\"********************************************************\")\n",
    "assert -1 not in col_idx_set\n",
    "max_msp = 0 \n",
    "for r in range(1, len(col_idx_set) + 1):\n",
    "    for subset in itertools.combinations(col_idx_set, r):\n",
    "        for x in itertools.permutations(subset):\n",
    "            new_batch_data = []\n",
    "            for col_i in x:\n",
    "                if col_i == 0:\n",
    "                    if len(new_batch_data) == 0:\n",
    "                        cls_indexes_value = 0\n",
    "                    else:\n",
    "                        cls_indexes_value = sum([len(new_batch_data[i]) for i in range(len(new_batch_data))])\n",
    "                new_batch_data.append(batch[\"data\"].T[target_col_mask==col_i])\n",
    "            new_batch_data = torch.cat(new_batch_data, dim=-1).reshape(1, -1)\n",
    "            cls_indexes = torch.tensor([0, cls_indexes_value]).reshape(1, -1).to(device)\n",
    "            logits_temp = model(new_batch_data, cls_indexes=cls_indexes,)\n",
    "            msp_temp = F.softmax(logits_temp).max().item()\n",
    "            predict_temp = F.softmax(logits_temp).argmax().item()\n",
    "            print(x, F.softmax(logits_temp).max(), F.softmax(logits_temp).argmax())\n",
    "            if msp_temp > max_msp and 0 in x:\n",
    "                max_msp = msp_temp\n",
    "                best_msp_perm = x\n",
    "                msp_predict = predict_temp\n",
    "print(\"********************************************************\")\n",
    "print(best_msp_perm, msp_temp, msp_predict)"
   ]
  },
  {
   "cell_type": "code",
   "execution_count": 229,
   "metadata": {},
   "outputs": [
    {
     "name": "stdout",
     "output_type": "stream",
     "text": [
      "[0, 1] 0.9975814819335938 4\n",
      "********************************************************\n",
      "(0,) tensor(0.9927, device='cuda:1', grad_fn=<MaxBackward1>) tensor(1, device='cuda:1')\n",
      "(1,) tensor(0.7488, device='cuda:1', grad_fn=<MaxBackward1>) tensor(1, device='cuda:1')\n",
      "(0, 1) tensor(0.9976, device='cuda:1', grad_fn=<MaxBackward1>) tensor(1, device='cuda:1')\n",
      "(1, 0) tensor(0.9895, device='cuda:1', grad_fn=<MaxBackward1>) tensor(4, device='cuda:1')\n",
      "********************************************************\n",
      "(0, 1) 0.9975814819335938 1\n"
     ]
    },
    {
     "name": "stderr",
     "output_type": "stream",
     "text": [
      "/tmp/ipykernel_3359783/687120700.py:35: UserWarning: Implicit dimension choice for softmax has been deprecated. Change the call to include dim=X as an argument.\n",
      "  init_msp = F.softmax(logits_init).max().item()\n",
      "/tmp/ipykernel_3359783/687120700.py:54: UserWarning: Implicit dimension choice for softmax has been deprecated. Change the call to include dim=X as an argument.\n",
      "  msp_temp = F.softmax(logits_temp).max().item()\n",
      "/tmp/ipykernel_3359783/687120700.py:55: UserWarning: Implicit dimension choice for softmax has been deprecated. Change the call to include dim=X as an argument.\n",
      "  predict_temp = F.softmax(logits_temp).argmax().item()\n",
      "/tmp/ipykernel_3359783/687120700.py:56: UserWarning: Implicit dimension choice for softmax has been deprecated. Change the call to include dim=X as an argument.\n",
      "  print(x, F.softmax(logits_temp).max(), F.softmax(logits_temp).argmax())\n"
     ]
    }
   ],
   "source": [
    "# use target as head, the MSP context\n",
    "import itertools\n",
    "\n",
    "\n",
    "    \n",
    "model.load_state_dict(best_state_dict, strict=False)\n",
    "model.eval()\n",
    "model = model.to(device)\n",
    "ft_embs_test = []\n",
    "labels_test = []\n",
    "logits_test = []\n",
    "log = defaultdict(list)\n",
    "num_cols = []\n",
    "threshold = 0.8\n",
    "corrected = 0\n",
    "total_mistakes = 0\n",
    "init_permutation = defaultdict(list)\n",
    "corrected_permutation = defaultdict(list)\n",
    "init_logits = defaultdict(list)\n",
    "corrected_logits = defaultdict(list)\n",
    "\n",
    "for batch_idx, batch in enumerate(test_dataloader_iter):\n",
    "    cls_indexes = torch.LongTensor([[0, batch[\"cls_indexes\"].cpu().item()]]).to(device)\n",
    "    target_col_mask = batch[\"target_col_mask\"].T\n",
    "    logits = model(batch[\"data\"].T, cls_indexes=cls_indexes,)\n",
    "    logits_init = logits.clone()\n",
    "    num_cols.append(batch[\"target_col_mask\"].max().item())\n",
    "    if batch_idx == 247:\n",
    "        break\n",
    "\n",
    "col_idx_set = target_col_mask.unique().tolist()\n",
    "successs = False\n",
    "init_permutation[batch_idx].append(get_permutation(target_col_mask))\n",
    "init_logits[batch_idx].append(logits_init.detach().cpu())     \n",
    "init_msp = F.softmax(logits_init).max().item()\n",
    "print(get_permutation(target_col_mask), init_msp, batch[\"label\"].item())   \n",
    "print(\"********************************************************\")\n",
    "assert -1 not in col_idx_set\n",
    "max_msp = 0 \n",
    "for r in range(1, len(col_idx_set) + 1):\n",
    "    for subset in itertools.combinations(col_idx_set, r):\n",
    "        for x in itertools.permutations(subset):\n",
    "            new_batch_data = []\n",
    "            for col_i in x:\n",
    "                if col_i == 0:\n",
    "                    if len(new_batch_data) == 0:\n",
    "                        cls_indexes_value = 0\n",
    "                    else:\n",
    "                        cls_indexes_value = sum([len(new_batch_data[i]) for i in range(len(new_batch_data))])\n",
    "                new_batch_data.append(batch[\"data\"].T[target_col_mask==col_i])\n",
    "            new_batch_data = torch.cat(new_batch_data, dim=-1).reshape(1, -1)\n",
    "            cls_indexes = torch.tensor([0, cls_indexes_value]).reshape(1, -1).to(device)\n",
    "            logits_temp = model(new_batch_data, cls_indexes=cls_indexes,)\n",
    "            msp_temp = F.softmax(logits_temp).max().item()\n",
    "            predict_temp = F.softmax(logits_temp).argmax().item()\n",
    "            print(x, F.softmax(logits_temp).max(), F.softmax(logits_temp).argmax())\n",
    "            if msp_temp > max_msp and 0 in x:\n",
    "                max_msp = msp_temp\n",
    "                best_msp_perm = x\n",
    "                msp_predict = predict_temp\n",
    "print(\"********************************************************\")\n",
    "print(best_msp_perm, max_msp, msp_predict)"
   ]
  },
  {
   "cell_type": "code",
   "execution_count": 230,
   "metadata": {},
   "outputs": [
    {
     "name": "stdout",
     "output_type": "stream",
     "text": [
      "[1, 0, 2] 0.4322320818901062 24\n",
      "********************************************************\n",
      "(0,) tensor(0.3846, device='cuda:1', grad_fn=<MaxBackward1>) tensor(13, device='cuda:1')\n",
      "(1,) tensor(0.6272, device='cuda:1', grad_fn=<MaxBackward1>) tensor(26, device='cuda:1')\n",
      "(2,) tensor(0.8308, device='cuda:1', grad_fn=<MaxBackward1>) tensor(2, device='cuda:1')\n",
      "(0, 1) tensor(0.4106, device='cuda:1', grad_fn=<MaxBackward1>) tensor(34, device='cuda:1')\n",
      "(1, 0) tensor(0.4616, device='cuda:1', grad_fn=<MaxBackward1>) tensor(34, device='cuda:1')\n",
      "(0, 2) tensor(0.6058, device='cuda:1', grad_fn=<MaxBackward1>) tensor(0, device='cuda:1')\n",
      "(2, 0) tensor(0.8639, device='cuda:1', grad_fn=<MaxBackward1>) tensor(24, device='cuda:1')\n",
      "(1, 2) tensor(0.8671, device='cuda:1', grad_fn=<MaxBackward1>) tensor(7, device='cuda:1')\n",
      "(2, 1) tensor(0.9611, device='cuda:1', grad_fn=<MaxBackward1>) tensor(26, device='cuda:1')\n",
      "(0, 1, 2) tensor(0.9930, device='cuda:1', grad_fn=<MaxBackward1>) tensor(0, device='cuda:1')\n",
      "(0, 2, 1) tensor(0.9970, device='cuda:1', grad_fn=<MaxBackward1>) tensor(0, device='cuda:1')\n",
      "(1, 0, 2) tensor(0.4322, device='cuda:1', grad_fn=<MaxBackward1>) tensor(34, device='cuda:1')\n",
      "(1, 2, 0) tensor(0.8516, device='cuda:1', grad_fn=<MaxBackward1>) tensor(10, device='cuda:1')\n",
      "(2, 0, 1) tensor(0.4788, device='cuda:1', grad_fn=<MaxBackward1>) tensor(24, device='cuda:1')\n",
      "(2, 1, 0) tensor(0.6521, device='cuda:1', grad_fn=<MaxBackward1>) tensor(24, device='cuda:1')\n",
      "********************************************************\n",
      "(0, 2, 1) 0.9970195889472961 0\n"
     ]
    },
    {
     "name": "stderr",
     "output_type": "stream",
     "text": [
      "/tmp/ipykernel_3359783/1050205004.py:35: UserWarning: Implicit dimension choice for softmax has been deprecated. Change the call to include dim=X as an argument.\n",
      "  init_msp = F.softmax(logits_init).max().item()\n",
      "/tmp/ipykernel_3359783/1050205004.py:54: UserWarning: Implicit dimension choice for softmax has been deprecated. Change the call to include dim=X as an argument.\n",
      "  msp_temp = F.softmax(logits_temp).max().item()\n",
      "/tmp/ipykernel_3359783/1050205004.py:55: UserWarning: Implicit dimension choice for softmax has been deprecated. Change the call to include dim=X as an argument.\n",
      "  predict_temp = F.softmax(logits_temp).argmax().item()\n",
      "/tmp/ipykernel_3359783/1050205004.py:56: UserWarning: Implicit dimension choice for softmax has been deprecated. Change the call to include dim=X as an argument.\n",
      "  print(x, F.softmax(logits_temp).max(), F.softmax(logits_temp).argmax())\n"
     ]
    }
   ],
   "source": [
    "# use target as head, the MSP context\n",
    "import itertools\n",
    "\n",
    "\n",
    "    \n",
    "model.load_state_dict(best_state_dict, strict=False)\n",
    "model.eval()\n",
    "model = model.to(device)\n",
    "ft_embs_test = []\n",
    "labels_test = []\n",
    "logits_test = []\n",
    "log = defaultdict(list)\n",
    "num_cols = []\n",
    "threshold = 0.8\n",
    "corrected = 0\n",
    "total_mistakes = 0\n",
    "init_permutation = defaultdict(list)\n",
    "corrected_permutation = defaultdict(list)\n",
    "init_logits = defaultdict(list)\n",
    "corrected_logits = defaultdict(list)\n",
    "\n",
    "for batch_idx, batch in enumerate(test_dataloader_iter):\n",
    "    cls_indexes = torch.LongTensor([[0, batch[\"cls_indexes\"].cpu().item()]]).to(device)\n",
    "    target_col_mask = batch[\"target_col_mask\"].T\n",
    "    logits = model(batch[\"data\"].T, cls_indexes=cls_indexes,)\n",
    "    logits_init = logits.clone()\n",
    "    num_cols.append(batch[\"target_col_mask\"].max().item())\n",
    "    if batch_idx == 355:\n",
    "        break\n",
    "\n",
    "col_idx_set = target_col_mask.unique().tolist()\n",
    "successs = False\n",
    "init_permutation[batch_idx].append(get_permutation(target_col_mask))\n",
    "init_logits[batch_idx].append(logits_init.detach().cpu())     \n",
    "init_msp = F.softmax(logits_init).max().item()\n",
    "print(get_permutation(target_col_mask), init_msp, batch[\"label\"].item())   \n",
    "print(\"********************************************************\")\n",
    "assert -1 not in col_idx_set\n",
    "max_msp = 0 \n",
    "for r in range(1, len(col_idx_set) + 1):\n",
    "    for subset in itertools.combinations(col_idx_set, r):\n",
    "        for x in itertools.permutations(subset):\n",
    "            new_batch_data = []\n",
    "            for col_i in x:\n",
    "                if col_i == 0:\n",
    "                    if len(new_batch_data) == 0:\n",
    "                        cls_indexes_value = 0\n",
    "                    else:\n",
    "                        cls_indexes_value = sum([len(new_batch_data[i]) for i in range(len(new_batch_data))])\n",
    "                new_batch_data.append(batch[\"data\"].T[target_col_mask==col_i])\n",
    "            new_batch_data = torch.cat(new_batch_data, dim=-1).reshape(1, -1)\n",
    "            cls_indexes = torch.tensor([0, cls_indexes_value]).reshape(1, -1).to(device)\n",
    "            logits_temp = model(new_batch_data, cls_indexes=cls_indexes,)\n",
    "            msp_temp = F.softmax(logits_temp).max().item()\n",
    "            predict_temp = F.softmax(logits_temp).argmax().item()\n",
    "            print(x, F.softmax(logits_temp).max(), F.softmax(logits_temp).argmax())\n",
    "            if msp_temp > max_msp and 0 in x:\n",
    "                max_msp = msp_temp\n",
    "                best_msp_perm = x\n",
    "                msp_predict = predict_temp\n",
    "print(\"********************************************************\")\n",
    "print(best_msp_perm, max_msp, msp_predict)"
   ]
  },
  {
   "cell_type": "code",
   "execution_count": 232,
   "metadata": {},
   "outputs": [
    {
     "name": "stdout",
     "output_type": "stream",
     "text": [
      "[1, 0] 0.9007524251937866 1\n",
      "********************************************************\n",
      "(0,) tensor(0.8422, device='cuda:1', grad_fn=<MaxBackward1>) tensor(1, device='cuda:1')\n",
      "(1,) tensor(0.8806, device='cuda:1', grad_fn=<MaxBackward1>) tensor(8, device='cuda:1')\n",
      "(0, 1) tensor(0.1787, device='cuda:1', grad_fn=<MaxBackward1>) tensor(1, device='cuda:1')\n",
      "(1, 0) tensor(0.9008, device='cuda:1', grad_fn=<MaxBackward1>) tensor(2, device='cuda:1')\n",
      "********************************************************\n",
      "(1, 0) 0.9007524251937866 2\n"
     ]
    },
    {
     "name": "stderr",
     "output_type": "stream",
     "text": [
      "/tmp/ipykernel_3359783/3796749687.py:35: UserWarning: Implicit dimension choice for softmax has been deprecated. Change the call to include dim=X as an argument.\n",
      "  init_msp = F.softmax(logits_init).max().item()\n",
      "/tmp/ipykernel_3359783/3796749687.py:54: UserWarning: Implicit dimension choice for softmax has been deprecated. Change the call to include dim=X as an argument.\n",
      "  msp_temp = F.softmax(logits_temp).max().item()\n",
      "/tmp/ipykernel_3359783/3796749687.py:55: UserWarning: Implicit dimension choice for softmax has been deprecated. Change the call to include dim=X as an argument.\n",
      "  predict_temp = F.softmax(logits_temp).argmax().item()\n",
      "/tmp/ipykernel_3359783/3796749687.py:56: UserWarning: Implicit dimension choice for softmax has been deprecated. Change the call to include dim=X as an argument.\n",
      "  print(x, F.softmax(logits_temp).max(), F.softmax(logits_temp).argmax())\n"
     ]
    }
   ],
   "source": [
    "# use target as head, the MSP context\n",
    "import itertools\n",
    "\n",
    "\n",
    "    \n",
    "model.load_state_dict(best_state_dict, strict=False)\n",
    "model.eval()\n",
    "model = model.to(device)\n",
    "ft_embs_test = []\n",
    "labels_test = []\n",
    "logits_test = []\n",
    "log = defaultdict(list)\n",
    "num_cols = []\n",
    "threshold = 0.8\n",
    "corrected = 0\n",
    "total_mistakes = 0\n",
    "init_permutation = defaultdict(list)\n",
    "corrected_permutation = defaultdict(list)\n",
    "init_logits = defaultdict(list)\n",
    "corrected_logits = defaultdict(list)\n",
    "\n",
    "for batch_idx, batch in enumerate(test_dataloader_iter):\n",
    "    cls_indexes = torch.LongTensor([[0, batch[\"cls_indexes\"].cpu().item()]]).to(device)\n",
    "    target_col_mask = batch[\"target_col_mask\"].T\n",
    "    logits = model(batch[\"data\"].T, cls_indexes=cls_indexes,)\n",
    "    logits_init = logits.clone()\n",
    "    num_cols.append(batch[\"target_col_mask\"].max().item())\n",
    "    if batch_idx == 392:\n",
    "        break\n",
    "\n",
    "col_idx_set = target_col_mask.unique().tolist()\n",
    "successs = False\n",
    "init_permutation[batch_idx].append(get_permutation(target_col_mask))\n",
    "init_logits[batch_idx].append(logits_init.detach().cpu())     \n",
    "init_msp = F.softmax(logits_init).max().item()\n",
    "print(get_permutation(target_col_mask), init_msp, batch[\"label\"].item())   \n",
    "print(\"********************************************************\")\n",
    "assert -1 not in col_idx_set\n",
    "max_msp = 0 \n",
    "for r in range(1, len(col_idx_set) + 1):\n",
    "    for subset in itertools.combinations(col_idx_set, r):\n",
    "        for x in itertools.permutations(subset):\n",
    "            new_batch_data = []\n",
    "            for col_i in x:\n",
    "                if col_i == 0:\n",
    "                    if len(new_batch_data) == 0:\n",
    "                        cls_indexes_value = 0\n",
    "                    else:\n",
    "                        cls_indexes_value = sum([len(new_batch_data[i]) for i in range(len(new_batch_data))])\n",
    "                new_batch_data.append(batch[\"data\"].T[target_col_mask==col_i])\n",
    "            new_batch_data = torch.cat(new_batch_data, dim=-1).reshape(1, -1)\n",
    "            cls_indexes = torch.tensor([0, cls_indexes_value]).reshape(1, -1).to(device)\n",
    "            logits_temp = model(new_batch_data, cls_indexes=cls_indexes,)\n",
    "            msp_temp = F.softmax(logits_temp).max().item()\n",
    "            predict_temp = F.softmax(logits_temp).argmax().item()\n",
    "            print(x, F.softmax(logits_temp).max(), F.softmax(logits_temp).argmax())\n",
    "            if msp_temp > max_msp and 0 in x:\n",
    "                max_msp = msp_temp\n",
    "                best_msp_perm = x\n",
    "                msp_predict = predict_temp\n",
    "print(\"********************************************************\")\n",
    "print(best_msp_perm, max_msp, msp_predict)"
   ]
  },
  {
   "cell_type": "code",
   "execution_count": 231,
   "metadata": {},
   "outputs": [
    {
     "name": "stderr",
     "output_type": "stream",
     "text": [
      "/tmp/ipykernel_3359783/413784755.py:35: UserWarning: Implicit dimension choice for softmax has been deprecated. Change the call to include dim=X as an argument.\n",
      "  init_msp = F.softmax(logits_init).max().item()\n",
      "/tmp/ipykernel_3359783/413784755.py:54: UserWarning: Implicit dimension choice for softmax has been deprecated. Change the call to include dim=X as an argument.\n",
      "  msp_temp = F.softmax(logits_temp).max().item()\n",
      "/tmp/ipykernel_3359783/413784755.py:55: UserWarning: Implicit dimension choice for softmax has been deprecated. Change the call to include dim=X as an argument.\n",
      "  predict_temp = F.softmax(logits_temp).argmax().item()\n",
      "/tmp/ipykernel_3359783/413784755.py:56: UserWarning: Implicit dimension choice for softmax has been deprecated. Change the call to include dim=X as an argument.\n",
      "  print(x, F.softmax(logits_temp).max(), F.softmax(logits_temp).argmax())\n"
     ]
    },
    {
     "name": "stdout",
     "output_type": "stream",
     "text": [
      "[1, 0, 2, 3] 0.9957796335220337 4\n",
      "********************************************************\n",
      "(0,) tensor(0.9934, device='cuda:1', grad_fn=<MaxBackward1>) tensor(1, device='cuda:1')\n",
      "(1,) tensor(0.4030, device='cuda:1', grad_fn=<MaxBackward1>) tensor(0, device='cuda:1')\n",
      "(2,) tensor(0.9896, device='cuda:1', grad_fn=<MaxBackward1>) tensor(1, device='cuda:1')\n",
      "(3,) tensor(0.9720, device='cuda:1', grad_fn=<MaxBackward1>) tensor(8, device='cuda:1')\n",
      "(0, 1) tensor(0.9948, device='cuda:1', grad_fn=<MaxBackward1>) tensor(1, device='cuda:1')\n",
      "(1, 0) tensor(0.9617, device='cuda:1', grad_fn=<MaxBackward1>) tensor(2, device='cuda:1')\n",
      "(0, 2) tensor(0.9964, device='cuda:1', grad_fn=<MaxBackward1>) tensor(1, device='cuda:1')\n",
      "(2, 0) tensor(0.8613, device='cuda:1', grad_fn=<MaxBackward1>) tensor(1, device='cuda:1')\n",
      "(0, 3) tensor(0.8364, device='cuda:1', grad_fn=<MaxBackward1>) tensor(1, device='cuda:1')\n",
      "(3, 0) tensor(0.8831, device='cuda:1', grad_fn=<MaxBackward1>) tensor(2, device='cuda:1')\n",
      "(1, 2) tensor(0.3134, device='cuda:1', grad_fn=<MaxBackward1>) tensor(1, device='cuda:1')\n",
      "(2, 1) tensor(0.5857, device='cuda:1', grad_fn=<MaxBackward1>) tensor(11, device='cuda:1')\n",
      "(1, 3) tensor(0.9951, device='cuda:1', grad_fn=<MaxBackward1>) tensor(1, device='cuda:1')\n",
      "(3, 1) tensor(0.7448, device='cuda:1', grad_fn=<MaxBackward1>) tensor(39, device='cuda:1')\n",
      "(2, 3) tensor(0.8681, device='cuda:1', grad_fn=<MaxBackward1>) tensor(8, device='cuda:1')\n",
      "(3, 2) tensor(0.7427, device='cuda:1', grad_fn=<MaxBackward1>) tensor(3, device='cuda:1')\n",
      "(0, 1, 2) tensor(0.9975, device='cuda:1', grad_fn=<MaxBackward1>) tensor(1, device='cuda:1')\n",
      "(0, 2, 1) tensor(0.9970, device='cuda:1', grad_fn=<MaxBackward1>) tensor(1, device='cuda:1')\n",
      "(1, 0, 2) tensor(0.9856, device='cuda:1', grad_fn=<MaxBackward1>) tensor(1, device='cuda:1')\n",
      "(1, 2, 0) tensor(0.7049, device='cuda:1', grad_fn=<MaxBackward1>) tensor(2, device='cuda:1')\n",
      "(2, 0, 1) tensor(0.9741, device='cuda:1', grad_fn=<MaxBackward1>) tensor(1, device='cuda:1')\n",
      "(2, 1, 0) tensor(0.9785, device='cuda:1', grad_fn=<MaxBackward1>) tensor(2, device='cuda:1')\n",
      "(0, 1, 3) tensor(0.9801, device='cuda:1', grad_fn=<MaxBackward1>) tensor(1, device='cuda:1')\n",
      "(0, 3, 1) tensor(0.7826, device='cuda:1', grad_fn=<MaxBackward1>) tensor(1, device='cuda:1')\n",
      "(1, 0, 3) tensor(0.7970, device='cuda:1', grad_fn=<MaxBackward1>) tensor(1, device='cuda:1')\n",
      "(1, 3, 0) tensor(0.7732, device='cuda:1', grad_fn=<MaxBackward1>) tensor(4, device='cuda:1')\n",
      "(3, 0, 1) tensor(0.3869, device='cuda:1', grad_fn=<MaxBackward1>) tensor(4, device='cuda:1')\n",
      "(3, 1, 0) tensor(0.8394, device='cuda:1', grad_fn=<MaxBackward1>) tensor(2, device='cuda:1')\n",
      "(0, 2, 3) tensor(0.9966, device='cuda:1', grad_fn=<MaxBackward1>) tensor(1, device='cuda:1')\n",
      "(0, 3, 2) tensor(0.9924, device='cuda:1', grad_fn=<MaxBackward1>) tensor(1, device='cuda:1')\n",
      "(2, 0, 3) tensor(0.9941, device='cuda:1', grad_fn=<MaxBackward1>) tensor(1, device='cuda:1')\n",
      "(2, 3, 0) tensor(0.8248, device='cuda:1', grad_fn=<MaxBackward1>) tensor(1, device='cuda:1')\n",
      "(3, 0, 2) tensor(0.8973, device='cuda:1', grad_fn=<MaxBackward1>) tensor(1, device='cuda:1')\n",
      "(3, 2, 0) tensor(0.9966, device='cuda:1', grad_fn=<MaxBackward1>) tensor(1, device='cuda:1')\n",
      "(1, 2, 3) tensor(0.9962, device='cuda:1', grad_fn=<MaxBackward1>) tensor(1, device='cuda:1')\n",
      "(1, 3, 2) tensor(0.3363, device='cuda:1', grad_fn=<MaxBackward1>) tensor(3, device='cuda:1')\n",
      "(2, 1, 3) tensor(0.9941, device='cuda:1', grad_fn=<MaxBackward1>) tensor(1, device='cuda:1')\n",
      "(2, 3, 1) tensor(0.9378, device='cuda:1', grad_fn=<MaxBackward1>) tensor(11, device='cuda:1')\n",
      "(3, 1, 2) tensor(0.2855, device='cuda:1', grad_fn=<MaxBackward1>) tensor(3, device='cuda:1')\n",
      "(3, 2, 1) tensor(0.9814, device='cuda:1', grad_fn=<MaxBackward1>) tensor(11, device='cuda:1')\n",
      "(0, 1, 2, 3) tensor(0.9954, device='cuda:1', grad_fn=<MaxBackward1>) tensor(1, device='cuda:1')\n",
      "(0, 1, 3, 2) tensor(0.9968, device='cuda:1', grad_fn=<MaxBackward1>) tensor(1, device='cuda:1')\n",
      "(0, 2, 1, 3) tensor(0.9954, device='cuda:1', grad_fn=<MaxBackward1>) tensor(1, device='cuda:1')\n",
      "(0, 2, 3, 1) tensor(0.9955, device='cuda:1', grad_fn=<MaxBackward1>) tensor(1, device='cuda:1')\n",
      "(0, 3, 1, 2) tensor(0.9925, device='cuda:1', grad_fn=<MaxBackward1>) tensor(1, device='cuda:1')\n",
      "(0, 3, 2, 1) tensor(0.9864, device='cuda:1', grad_fn=<MaxBackward1>) tensor(1, device='cuda:1')\n",
      "(1, 0, 2, 3) tensor(0.9958, device='cuda:1', grad_fn=<MaxBackward1>) tensor(1, device='cuda:1')\n",
      "(1, 0, 3, 2) tensor(0.9931, device='cuda:1', grad_fn=<MaxBackward1>) tensor(1, device='cuda:1')\n",
      "(1, 2, 0, 3) tensor(0.7715, device='cuda:1', grad_fn=<MaxBackward1>) tensor(1, device='cuda:1')\n",
      "(1, 2, 3, 0) tensor(0.5923, device='cuda:1', grad_fn=<MaxBackward1>) tensor(2, device='cuda:1')\n",
      "(1, 3, 0, 2) tensor(0.5012, device='cuda:1', grad_fn=<MaxBackward1>) tensor(4, device='cuda:1')\n",
      "(1, 3, 2, 0) tensor(0.3819, device='cuda:1', grad_fn=<MaxBackward1>) tensor(1, device='cuda:1')\n",
      "(2, 0, 1, 3) tensor(0.9955, device='cuda:1', grad_fn=<MaxBackward1>) tensor(1, device='cuda:1')\n",
      "(2, 0, 3, 1) tensor(0.9945, device='cuda:1', grad_fn=<MaxBackward1>) tensor(1, device='cuda:1')\n",
      "(2, 1, 0, 3) tensor(0.4121, device='cuda:1', grad_fn=<MaxBackward1>) tensor(1, device='cuda:1')\n",
      "(2, 1, 3, 0) tensor(0.5059, device='cuda:1', grad_fn=<MaxBackward1>) tensor(2, device='cuda:1')\n",
      "(2, 3, 0, 1) tensor(0.6854, device='cuda:1', grad_fn=<MaxBackward1>) tensor(1, device='cuda:1')\n",
      "(2, 3, 1, 0) tensor(0.7568, device='cuda:1', grad_fn=<MaxBackward1>) tensor(2, device='cuda:1')\n",
      "(3, 0, 1, 2) tensor(0.9186, device='cuda:1', grad_fn=<MaxBackward1>) tensor(1, device='cuda:1')\n",
      "(3, 0, 2, 1) tensor(0.9150, device='cuda:1', grad_fn=<MaxBackward1>) tensor(1, device='cuda:1')\n",
      "(3, 1, 0, 2) tensor(0.7509, device='cuda:1', grad_fn=<MaxBackward1>) tensor(4, device='cuda:1')\n",
      "(3, 1, 2, 0) tensor(0.5618, device='cuda:1', grad_fn=<MaxBackward1>) tensor(1, device='cuda:1')\n",
      "(3, 2, 0, 1) tensor(0.9953, device='cuda:1', grad_fn=<MaxBackward1>) tensor(1, device='cuda:1')\n",
      "(3, 2, 1, 0) tensor(0.6157, device='cuda:1', grad_fn=<MaxBackward1>) tensor(2, device='cuda:1')\n",
      "********************************************************\n",
      "(0, 1, 2) 0.9975000023841858 1\n"
     ]
    }
   ],
   "source": [
    "# use target as head, the MSP context\n",
    "import itertools\n",
    "\n",
    "\n",
    "    \n",
    "model.load_state_dict(best_state_dict, strict=False)\n",
    "model.eval()\n",
    "model = model.to(device)\n",
    "ft_embs_test = []\n",
    "labels_test = []\n",
    "logits_test = []\n",
    "log = defaultdict(list)\n",
    "num_cols = []\n",
    "threshold = 0.8\n",
    "corrected = 0\n",
    "total_mistakes = 0\n",
    "init_permutation = defaultdict(list)\n",
    "corrected_permutation = defaultdict(list)\n",
    "init_logits = defaultdict(list)\n",
    "corrected_logits = defaultdict(list)\n",
    "\n",
    "for batch_idx, batch in enumerate(test_dataloader_iter):\n",
    "    cls_indexes = torch.LongTensor([[0, batch[\"cls_indexes\"].cpu().item()]]).to(device)\n",
    "    target_col_mask = batch[\"target_col_mask\"].T\n",
    "    logits = model(batch[\"data\"].T, cls_indexes=cls_indexes,)\n",
    "    logits_init = logits.clone()\n",
    "    num_cols.append(batch[\"target_col_mask\"].max().item())\n",
    "    if batch_idx == 433:\n",
    "        break\n",
    "\n",
    "col_idx_set = target_col_mask.unique().tolist()\n",
    "successs = False\n",
    "init_permutation[batch_idx].append(get_permutation(target_col_mask))\n",
    "init_logits[batch_idx].append(logits_init.detach().cpu())     \n",
    "init_msp = F.softmax(logits_init).max().item()\n",
    "print(get_permutation(target_col_mask), init_msp, batch[\"label\"].item())   \n",
    "print(\"********************************************************\")\n",
    "assert -1 not in col_idx_set\n",
    "max_msp = 0 \n",
    "for r in range(1, len(col_idx_set) + 1):\n",
    "    for subset in itertools.combinations(col_idx_set, r):\n",
    "        for x in itertools.permutations(subset):\n",
    "            new_batch_data = []\n",
    "            for col_i in x:\n",
    "                if col_i == 0:\n",
    "                    if len(new_batch_data) == 0:\n",
    "                        cls_indexes_value = 0\n",
    "                    else:\n",
    "                        cls_indexes_value = sum([len(new_batch_data[i]) for i in range(len(new_batch_data))])\n",
    "                new_batch_data.append(batch[\"data\"].T[target_col_mask==col_i])\n",
    "            new_batch_data = torch.cat(new_batch_data, dim=-1).reshape(1, -1)\n",
    "            cls_indexes = torch.tensor([0, cls_indexes_value]).reshape(1, -1).to(device)\n",
    "            logits_temp = model(new_batch_data, cls_indexes=cls_indexes,)\n",
    "            msp_temp = F.softmax(logits_temp).max().item()\n",
    "            predict_temp = F.softmax(logits_temp).argmax().item()\n",
    "            print(x, F.softmax(logits_temp).max(), F.softmax(logits_temp).argmax())\n",
    "            if msp_temp > max_msp and 0 in x:\n",
    "                max_msp = msp_temp\n",
    "                best_msp_perm = x\n",
    "                msp_predict = predict_temp\n",
    "print(\"********************************************************\")\n",
    "print(best_msp_perm, max_msp, msp_predict)"
   ]
  },
  {
   "cell_type": "code",
   "execution_count": 184,
   "metadata": {},
   "outputs": [
    {
     "data": {
      "text/plain": [
       "dict_keys([1, 2, 4])"
      ]
     },
     "execution_count": 184,
     "metadata": {},
     "output_type": "execute_result"
    }
   ],
   "source": [
    "permutation_logits_dict.keys()"
   ]
  },
  {
   "cell_type": "code",
   "execution_count": 198,
   "metadata": {},
   "outputs": [
    {
     "name": "stdout",
     "output_type": "stream",
     "text": [
      "1 tensor(1., device='cuda:1', grad_fn=<MaxBackward1>) tensor(1, device='cuda:1') tensor(2.6728e-11, device='cuda:1', grad_fn=<NegBackward0>)\n",
      "2 tensor(0.9007, device='cuda:1', grad_fn=<MaxBackward1>) tensor(2, device='cuda:1') tensor(0.7803, device='cuda:1', grad_fn=<NegBackward0>)\n",
      "4 tensor(0.0985, device='cuda:1', grad_fn=<MaxBackward1>) tensor(4, device='cuda:1') tensor(4.4671, device='cuda:1', grad_fn=<NegBackward0>)\n"
     ]
    },
    {
     "name": "stderr",
     "output_type": "stream",
     "text": [
      "/tmp/ipykernel_3359783/2545117251.py:5: UserWarning: Implicit dimension choice for softmax has been deprecated. Change the call to include dim=X as an argument.\n",
      "  temp += F.softmax(res)\n",
      "/tmp/ipykernel_3359783/2545117251.py:6: UserWarning: Implicit dimension choice for softmax has been deprecated. Change the call to include dim=X as an argument.\n",
      "  temp = F.softmax(temp)\n"
     ]
    }
   ],
   "source": [
    "res_all = {}\n",
    "for k, v in permutation_logits_dict.items():\n",
    "    temp = 0 \n",
    "    for res in v:\n",
    "        temp += F.softmax(res)\n",
    "    temp = F.softmax(temp)\n",
    "    print(k, temp.max(), temp.argmax(), compute_entropy(temp))"
   ]
  },
  {
   "cell_type": "code",
   "execution_count": 104,
   "metadata": {},
   "outputs": [],
   "source": [
    "num_choices = []\n",
    "num_cols = []\n",
    "for k, v in corrected_permutation.items():\n",
    "    num_choices.append(len(v))\n",
    "    num_cols.append(len(init_permutation[k][0]))"
   ]
  },
  {
   "cell_type": "code",
   "execution_count": 98,
   "metadata": {},
   "outputs": [
    {
     "data": {
      "text/plain": [
       "dict_keys([14, 18, 81, 107, 125, 154, 172, 247, 279, 283, 297, 302, 345, 355, 374, 392, 400, 433, 434, 437, 470, 473, 482, 522, 545, 561, 570, 587, 597, 624, 627, 630, 652, 694, 698, 711, 723, 727, 729, 730, 747, 827, 833, 835, 880, 886, 894, 914, 949, 950, 952, 975, 978, 980, 981, 993, 1014, 1081, 1083, 0, 8])"
      ]
     },
     "execution_count": 98,
     "metadata": {},
     "output_type": "execute_result"
    }
   ],
   "source": [
    "corrected_permutation.keys()"
   ]
  },
  {
   "cell_type": "code",
   "execution_count": 125,
   "metadata": {},
   "outputs": [
    {
     "name": "stdout",
     "output_type": "stream",
     "text": [
      "[[0, 1]]\n",
      "tensor(0.2742) tensor(3)\n",
      "************************Corrected*************************\n",
      "(1, 0) tensor(0.4955) tensor(0)\n"
     ]
    },
    {
     "name": "stderr",
     "output_type": "stream",
     "text": [
      "/tmp/ipykernel_3359783/960455000.py:3: UserWarning: Implicit dimension choice for softmax has been deprecated. Change the call to include dim=X as an argument.\n",
      "  print(F.softmax(init_logits[target][0]).max(), F.softmax(init_logits[target][0]).argmax())\n",
      "/tmp/ipykernel_3359783/960455000.py:6: UserWarning: Implicit dimension choice for softmax has been deprecated. Change the call to include dim=X as an argument.\n",
      "  print(v, F.softmax(corrected_logits[target][i]).max(), F.softmax(corrected_logits[target][i]).argmax())\n"
     ]
    }
   ],
   "source": [
    "target = 18\n",
    "print(init_permutation[target])\n",
    "print(F.softmax(init_logits[target][0]).max(), F.softmax(init_logits[target][0]).argmax())\n",
    "print(\"************************Corrected*************************\")\n",
    "for i, v in enumerate(corrected_permutation[target]):\n",
    "    print(v, F.softmax(corrected_logits[target][i]).max(), F.softmax(corrected_logits[target][i]).argmax())"
   ]
  },
  {
   "cell_type": "code",
   "execution_count": 127,
   "metadata": {},
   "outputs": [
    {
     "data": {
      "text/plain": [
       "dict_keys([14, 18, 81, 107, 125, 154, 172, 247, 279, 283, 297, 302, 345, 355, 374, 392, 400, 433, 434, 437, 470, 473, 482, 522, 545, 561, 570, 587, 597, 624, 627, 630, 652, 694, 698, 711, 723, 727, 729, 730, 747, 827, 833, 835, 880, 886, 894, 914, 949, 950, 952, 975, 978, 980, 981, 993, 1014, 1081, 1083])"
      ]
     },
     "execution_count": 127,
     "metadata": {},
     "output_type": "execute_result"
    }
   ],
   "source": [
    "corrected_permutation.keys()"
   ]
  },
  {
   "cell_type": "code",
   "execution_count": 130,
   "metadata": {},
   "outputs": [
    {
     "name": "stdout",
     "output_type": "stream",
     "text": [
      "[[1, 0, 2]]\n",
      "tensor(0.4347) tensor(59)\n",
      "************************Corrected*************************\n",
      "(0, 2) tensor(0.5103) tensor(1)\n",
      "(0, 2, 1) tensor(0.5985) tensor(1)\n",
      "(1, 2, 0) tensor(0.9305) tensor(1)\n",
      "(2, 1, 0) tensor(0.9894) tensor(1)\n"
     ]
    },
    {
     "name": "stderr",
     "output_type": "stream",
     "text": [
      "/tmp/ipykernel_3359783/1376675092.py:3: UserWarning: Implicit dimension choice for softmax has been deprecated. Change the call to include dim=X as an argument.\n",
      "  print(F.softmax(init_logits[target][0]).max(), F.softmax(init_logits[target][0]).argmax())\n",
      "/tmp/ipykernel_3359783/1376675092.py:6: UserWarning: Implicit dimension choice for softmax has been deprecated. Change the call to include dim=X as an argument.\n",
      "  print(v, F.softmax(corrected_logits[target][i]).max(), F.softmax(corrected_logits[target][i]).argmax())\n"
     ]
    }
   ],
   "source": [
    "# TODO: 0 only results\n",
    "target = 154\n",
    "print(init_permutation[target])\n",
    "print(F.softmax(init_logits[target][0]).max(), F.softmax(init_logits[target][0]).argmax())\n",
    "print(\"************************Corrected*************************\")\n",
    "for i, v in enumerate(corrected_permutation[target]):\n",
    "    print(v, F.softmax(corrected_logits[target][i]).max(), F.softmax(corrected_logits[target][i]).argmax())\n"
   ]
  },
  {
   "cell_type": "code",
   "execution_count": 132,
   "metadata": {},
   "outputs": [
    {
     "name": "stdout",
     "output_type": "stream",
     "text": [
      "[[0, 1]]\n",
      "tensor(0.9976) tensor(1)\n",
      "************************Corrected*************************\n",
      "(1, 0) tensor(0.9895) tensor(4)\n"
     ]
    },
    {
     "name": "stderr",
     "output_type": "stream",
     "text": [
      "/tmp/ipykernel_3359783/3230554120.py:3: UserWarning: Implicit dimension choice for softmax has been deprecated. Change the call to include dim=X as an argument.\n",
      "  print(F.softmax(init_logits[target][0]).max(), F.softmax(init_logits[target][0]).argmax())\n",
      "/tmp/ipykernel_3359783/3230554120.py:6: UserWarning: Implicit dimension choice for softmax has been deprecated. Change the call to include dim=X as an argument.\n",
      "  print(v, F.softmax(corrected_logits[target][i]).max(), F.softmax(corrected_logits[target][i]).argmax())\n"
     ]
    }
   ],
   "source": [
    "# TODO: 0 only results\n",
    "target = 247\n",
    "print(init_permutation[target])\n",
    "print(F.softmax(init_logits[target][0]).max(), F.softmax(init_logits[target][0]).argmax())\n",
    "print(\"************************Corrected*************************\")\n",
    "for i, v in enumerate(corrected_permutation[target]):\n",
    "    print(v, F.softmax(corrected_logits[target][i]).max(), F.softmax(corrected_logits[target][i]).argmax())"
   ]
  },
  {
   "cell_type": "code",
   "execution_count": 134,
   "metadata": {},
   "outputs": [
    {
     "name": "stdout",
     "output_type": "stream",
     "text": [
      "[[1, 0]]\n",
      "tensor(0.5605) tensor(57)\n",
      "************************Corrected*************************\n",
      "(0,) tensor(0.9603) tensor(33)\n"
     ]
    },
    {
     "name": "stderr",
     "output_type": "stream",
     "text": [
      "/tmp/ipykernel_3359783/2999824171.py:3: UserWarning: Implicit dimension choice for softmax has been deprecated. Change the call to include dim=X as an argument.\n",
      "  print(F.softmax(init_logits[target][0]).max(), F.softmax(init_logits[target][0]).argmax())\n",
      "/tmp/ipykernel_3359783/2999824171.py:6: UserWarning: Implicit dimension choice for softmax has been deprecated. Change the call to include dim=X as an argument.\n",
      "  print(v, F.softmax(corrected_logits[target][i]).max(), F.softmax(corrected_logits[target][i]).argmax())\n"
     ]
    }
   ],
   "source": [
    "# TODO: (0,1)\n",
    "target = 302\n",
    "print(init_permutation[target])\n",
    "print(F.softmax(init_logits[target][0]).max(), F.softmax(init_logits[target][0]).argmax())\n",
    "print(\"************************Corrected*************************\")\n",
    "for i, v in enumerate(corrected_permutation[target]):\n",
    "    print(v, F.softmax(corrected_logits[target][i]).max(), F.softmax(corrected_logits[target][i]).argmax())"
   ]
  },
  {
   "cell_type": "code",
   "execution_count": 136,
   "metadata": {},
   "outputs": [
    {
     "name": "stdout",
     "output_type": "stream",
     "text": [
      "[[1, 0, 2]]\n",
      "tensor(0.4322) tensor(34)\n",
      "************************Corrected*************************\n",
      "(2, 0) tensor(0.8639) tensor(24)\n",
      "(2, 0, 1) tensor(0.4788) tensor(24)\n",
      "(2, 1, 0) tensor(0.6521) tensor(24)\n"
     ]
    },
    {
     "name": "stderr",
     "output_type": "stream",
     "text": [
      "/tmp/ipykernel_3359783/2962954506.py:3: UserWarning: Implicit dimension choice for softmax has been deprecated. Change the call to include dim=X as an argument.\n",
      "  print(F.softmax(init_logits[target][0]).max(), F.softmax(init_logits[target][0]).argmax())\n",
      "/tmp/ipykernel_3359783/2962954506.py:6: UserWarning: Implicit dimension choice for softmax has been deprecated. Change the call to include dim=X as an argument.\n",
      "  print(v, F.softmax(corrected_logits[target][i]).max(), F.softmax(corrected_logits[target][i]).argmax())\n"
     ]
    }
   ],
   "source": [
    "# TODO: ????\n",
    "target = 355\n",
    "print(init_permutation[target])\n",
    "print(F.softmax(init_logits[target][0]).max(), F.softmax(init_logits[target][0]).argmax())\n",
    "print(\"************************Corrected*************************\")\n",
    "for i, v in enumerate(corrected_permutation[target]):\n",
    "    print(v, F.softmax(corrected_logits[target][i]).max(), F.softmax(corrected_logits[target][i]).argmax())"
   ]
  },
  {
   "cell_type": "code",
   "execution_count": 138,
   "metadata": {},
   "outputs": [
    {
     "name": "stdout",
     "output_type": "stream",
     "text": [
      "[[1, 0]]\n",
      "tensor(0.9008) tensor(2)\n",
      "************************Corrected*************************\n",
      "(0,) tensor(0.8422) tensor(1)\n",
      "(0, 1) tensor(0.1787) tensor(1)\n"
     ]
    },
    {
     "name": "stderr",
     "output_type": "stream",
     "text": [
      "/tmp/ipykernel_3359783/917667902.py:3: UserWarning: Implicit dimension choice for softmax has been deprecated. Change the call to include dim=X as an argument.\n",
      "  print(F.softmax(init_logits[target][0]).max(), F.softmax(init_logits[target][0]).argmax())\n",
      "/tmp/ipykernel_3359783/917667902.py:6: UserWarning: Implicit dimension choice for softmax has been deprecated. Change the call to include dim=X as an argument.\n",
      "  print(v, F.softmax(corrected_logits[target][i]).max(), F.softmax(corrected_logits[target][i]).argmax())\n"
     ]
    }
   ],
   "source": [
    "# TODO: 1\n",
    "target = 392\n",
    "print(init_permutation[target])\n",
    "print(F.softmax(init_logits[target][0]).max(), F.softmax(init_logits[target][0]).argmax())\n",
    "print(\"************************Corrected*************************\")\n",
    "for i, v in enumerate(corrected_permutation[target]):\n",
    "    print(v, F.softmax(corrected_logits[target][i]).max(), F.softmax(corrected_logits[target][i]).argmax())"
   ]
  },
  {
   "cell_type": "code",
   "execution_count": 139,
   "metadata": {},
   "outputs": [
    {
     "name": "stdout",
     "output_type": "stream",
     "text": [
      "[[0, 1]]\n",
      "tensor(0.5274) tensor(24)\n",
      "************************Corrected*************************\n",
      "(0,) tensor(0.9763) tensor(2)\n",
      "(1, 0) tensor(0.9977) tensor(2)\n"
     ]
    },
    {
     "name": "stderr",
     "output_type": "stream",
     "text": [
      "/tmp/ipykernel_3359783/1852677904.py:3: UserWarning: Implicit dimension choice for softmax has been deprecated. Change the call to include dim=X as an argument.\n",
      "  print(F.softmax(init_logits[target][0]).max(), F.softmax(init_logits[target][0]).argmax())\n",
      "/tmp/ipykernel_3359783/1852677904.py:6: UserWarning: Implicit dimension choice for softmax has been deprecated. Change the call to include dim=X as an argument.\n",
      "  print(v, F.softmax(corrected_logits[target][i]).max(), F.softmax(corrected_logits[target][i]).argmax())\n"
     ]
    }
   ],
   "source": [
    "target = 400\n",
    "print(init_permutation[target])\n",
    "print(F.softmax(init_logits[target][0]).max(), F.softmax(init_logits[target][0]).argmax())\n",
    "print(\"************************Corrected*************************\")\n",
    "for i, v in enumerate(corrected_permutation[target]):\n",
    "    print(v, F.softmax(corrected_logits[target][i]).max(), F.softmax(corrected_logits[target][i]).argmax())"
   ]
  },
  {
   "cell_type": "code",
   "execution_count": 140,
   "metadata": {},
   "outputs": [
    {
     "name": "stdout",
     "output_type": "stream",
     "text": [
      "[[1, 0, 2, 3]]\n",
      "tensor(0.9958) tensor(1)\n",
      "************************Corrected*************************\n",
      "(1, 3, 0) tensor(0.7732) tensor(4)\n",
      "(3, 0, 1) tensor(0.3869) tensor(4)\n",
      "(1, 3, 0, 2) tensor(0.5012) tensor(4)\n",
      "(3, 1, 0, 2) tensor(0.7509) tensor(4)\n"
     ]
    },
    {
     "name": "stderr",
     "output_type": "stream",
     "text": [
      "/tmp/ipykernel_3359783/1068805807.py:3: UserWarning: Implicit dimension choice for softmax has been deprecated. Change the call to include dim=X as an argument.\n",
      "  print(F.softmax(init_logits[target][0]).max(), F.softmax(init_logits[target][0]).argmax())\n",
      "/tmp/ipykernel_3359783/1068805807.py:6: UserWarning: Implicit dimension choice for softmax has been deprecated. Change the call to include dim=X as an argument.\n",
      "  print(v, F.softmax(corrected_logits[target][i]).max(), F.softmax(corrected_logits[target][i]).argmax())\n"
     ]
    }
   ],
   "source": [
    "# TODO\n",
    "target = 433\n",
    "print(init_permutation[target])\n",
    "print(F.softmax(init_logits[target][0]).max(), F.softmax(init_logits[target][0]).argmax())\n",
    "print(\"************************Corrected*************************\")\n",
    "for i, v in enumerate(corrected_permutation[target]):\n",
    "    print(v, F.softmax(corrected_logits[target][i]).max(), F.softmax(corrected_logits[target][i]).argmax())"
   ]
  },
  {
   "cell_type": "code",
   "execution_count": 144,
   "metadata": {},
   "outputs": [
    {
     "data": {
      "text/plain": [
       "dict_keys([14, 18, 81, 107, 125, 154, 172, 247, 279, 283, 297, 302, 345, 355, 374, 392, 400, 433, 434, 437, 470, 473, 482, 522, 545, 561, 570, 587, 597, 624, 627, 630, 652, 694, 698, 711, 723, 727, 729, 730, 747, 827, 833, 835, 880, 886, 894, 914, 949, 950, 952, 975, 978, 980, 981, 993, 1014, 1081, 1083])"
      ]
     },
     "execution_count": 144,
     "metadata": {},
     "output_type": "execute_result"
    }
   ],
   "source": [
    "corrected_permutation.keys()"
   ]
  },
  {
   "cell_type": "code",
   "execution_count": 152,
   "metadata": {},
   "outputs": [],
   "source": [
    "num_choices = []\n",
    "num_cols = []\n",
    "min_choices = []\n",
    "for k, v in corrected_permutation.items():\n",
    "    num_choices.append(len(v))\n",
    "    if len(init_permutation[k][0])>=4:\n",
    "        num_cols.append(len(init_permutation[k][0]))\n",
    "        len_choices_i = []\n",
    "        for choice in v:\n",
    "            len_choices_i.append(len(choice))\n",
    "        min_choices.append(min(len_choices_i))"
   ]
  },
  {
   "cell_type": "code",
   "execution_count": 153,
   "metadata": {},
   "outputs": [
    {
     "data": {
      "text/plain": [
       "[2, 1, 3, 2, 1, 1, 1, 1, 3, 1, 4, 4, 5, 4, 5, 6, 1, 1, 2, 2, 3]"
      ]
     },
     "execution_count": 153,
     "metadata": {},
     "output_type": "execute_result"
    }
   ],
   "source": [
    "min_choices"
   ]
  },
  {
   "cell_type": "code",
   "execution_count": 154,
   "metadata": {},
   "outputs": [
    {
     "data": {
      "text/plain": [
       "[4, 4, 4, 4, 4, 5, 4, 4, 4, 4, 4, 4, 5, 5, 7, 7, 7, 7, 4, 4, 4]"
      ]
     },
     "execution_count": 154,
     "metadata": {},
     "output_type": "execute_result"
    }
   ],
   "source": [
    "num_cols"
   ]
  },
  {
   "cell_type": "code",
   "execution_count": 155,
   "metadata": {},
   "outputs": [],
   "source": [
    "num_choices = []\n",
    "num_cols = []\n",
    "min_choices = []\n",
    "for k, v in corrected_permutation.items():\n",
    "    num_choices.append(len(v))\n",
    "    num_cols.append(len(init_permutation[k][0]))\n",
    "    len_choices_i = []\n",
    "    for choice in v:\n",
    "        len_choices_i.append(len(choice))\n",
    "    min_choices.append(min(len_choices_i))"
   ]
  },
  {
   "cell_type": "code",
   "execution_count": 157,
   "metadata": {},
   "outputs": [
    {
     "data": {
      "text/plain": [
       "PearsonRResult(statistic=0.5184125822601837, pvalue=2.600736799525952e-05)"
      ]
     },
     "execution_count": 157,
     "metadata": {},
     "output_type": "execute_result"
    }
   ],
   "source": [
    "from scipy.stats import pearsonr\n",
    "pearsonr(num_cols, min_choices)"
   ]
  },
  {
   "cell_type": "code",
   "execution_count": 156,
   "metadata": {},
   "outputs": [
    {
     "data": {
      "text/plain": [
       "<Axes: ylabel='Count'>"
      ]
     },
     "execution_count": 156,
     "metadata": {},
     "output_type": "execute_result"
    },
    {
     "data": {
      "image/png": "[encoded data removed]",
      "text/plain": [
       "<Figure size 432x288 with 1 Axes>"
      ]
     },
     "metadata": {
      "needs_background": "light"
     },
     "output_type": "display_data"
    }
   ],
   "source": [
    "sns.histplot(min_choices)"
   ]
  },
  {
   "cell_type": "code",
   "execution_count": 158,
   "metadata": {},
   "outputs": [],
   "source": [
    "num_choices = []\n",
    "num_cols = []\n",
    "min_choices = []\n",
    "start_with_target = 0\n",
    "for k, v in corrected_permutation.items():\n",
    "    num_choices.append(len(v))\n",
    "    num_cols.append(len(init_permutation[k][0]))\n",
    "    len_choices_i = []\n",
    "    for choice in v:\n",
    "        if choice[0] == 0:\n",
    "            start_with_target += 1\n",
    "            break"
   ]
  },
  {
   "cell_type": "code",
   "execution_count": 160,
   "metadata": {},
   "outputs": [
    {
     "data": {
      "text/plain": [
       "0.7457627118644068"
      ]
     },
     "execution_count": 160,
     "metadata": {},
     "output_type": "execute_result"
    }
   ],
   "source": [
    "start_with_target/len(corrected_permutation)"
   ]
  },
  {
   "cell_type": "code",
   "execution_count": 32,
   "metadata": {},
   "outputs": [
    {
     "name": "stdout",
     "output_type": "stream",
     "text": [
      "*********************Threshold: 0.5****************************\n"
     ]
    },
    {
     "name": "stderr",
     "output_type": "stream",
     "text": [
      "/tmp/ipykernel_3359783/4127766715.py:24: UserWarning: Implicit dimension choice for softmax has been deprecated. Change the call to include dim=X as an argument.\n",
      "  ood_score_min = compute_entropy(F.softmax(logits.detach())).item()\n",
      "/tmp/ipykernel_3359783/4127766715.py:46: UserWarning: Implicit dimension choice for softmax has been deprecated. Change the call to include dim=X as an argument.\n",
      "  ood_score_temp = compute_entropy(F.softmax(logits_temp.detach())).item()\n"
     ]
    },
    {
     "name": "stdout",
     "output_type": "stream",
     "text": [
      "ts_micro_f1=0.4083, ts_macro_f1=0.1855\n",
      "ts_micro_f1=0.4489, ts_macro_f1=0.1968\n",
      "ts_micro_f1=0.3622, ts_macro_f1=0.1474\n",
      "*********************Threshold: 1.0****************************\n"
     ]
    },
    {
     "name": "stderr",
     "output_type": "stream",
     "text": [
      "/tmp/ipykernel_3359783/4127766715.py:24: UserWarning: Implicit dimension choice for softmax has been deprecated. Change the call to include dim=X as an argument.\n",
      "  ood_score_min = compute_entropy(F.softmax(logits.detach())).item()\n",
      "/tmp/ipykernel_3359783/4127766715.py:46: UserWarning: Implicit dimension choice for softmax has been deprecated. Change the call to include dim=X as an argument.\n",
      "  ood_score_temp = compute_entropy(F.softmax(logits_temp.detach())).item()\n"
     ]
    },
    {
     "name": "stdout",
     "output_type": "stream",
     "text": [
      "ts_micro_f1=0.4129, ts_macro_f1=0.1904\n",
      "ts_micro_f1=0.4575, ts_macro_f1=0.2042\n",
      "ts_micro_f1=0.3622, ts_macro_f1=0.1474\n",
      "*********************Threshold: 1.5****************************\n"
     ]
    },
    {
     "name": "stderr",
     "output_type": "stream",
     "text": [
      "/tmp/ipykernel_3359783/4127766715.py:24: UserWarning: Implicit dimension choice for softmax has been deprecated. Change the call to include dim=X as an argument.\n",
      "  ood_score_min = compute_entropy(F.softmax(logits.detach())).item()\n",
      "/tmp/ipykernel_3359783/4127766715.py:46: UserWarning: Implicit dimension choice for softmax has been deprecated. Change the call to include dim=X as an argument.\n",
      "  ood_score_temp = compute_entropy(F.softmax(logits_temp.detach())).item()\n"
     ]
    },
    {
     "name": "stdout",
     "output_type": "stream",
     "text": [
      "ts_micro_f1=0.4138, ts_macro_f1=0.1938\n",
      "ts_micro_f1=0.4593, ts_macro_f1=0.2125\n",
      "ts_micro_f1=0.3622, ts_macro_f1=0.1474\n",
      "*********************Threshold: 2.0****************************\n"
     ]
    },
    {
     "name": "stderr",
     "output_type": "stream",
     "text": [
      "/tmp/ipykernel_3359783/4127766715.py:24: UserWarning: Implicit dimension choice for softmax has been deprecated. Change the call to include dim=X as an argument.\n",
      "  ood_score_min = compute_entropy(F.softmax(logits.detach())).item()\n",
      "/tmp/ipykernel_3359783/4127766715.py:46: UserWarning: Implicit dimension choice for softmax has been deprecated. Change the call to include dim=X as an argument.\n",
      "  ood_score_temp = compute_entropy(F.softmax(logits_temp.detach())).item()\n"
     ]
    },
    {
     "name": "stdout",
     "output_type": "stream",
     "text": [
      "ts_micro_f1=0.4111, ts_macro_f1=0.1947\n",
      "ts_micro_f1=0.4541, ts_macro_f1=0.2084\n",
      "ts_micro_f1=0.3622, ts_macro_f1=0.1474\n"
     ]
    }
   ],
   "source": [
    "# brute force perumate\n",
    "import itertools\n",
    "\n",
    "\n",
    "    \n",
    "model.load_state_dict(best_state_dict, strict=False)\n",
    "model.eval()\n",
    "model = model.to(device)\n",
    "for threshold in [0.5, 1.0, 1.5, 2.0]:\n",
    "    print(f\"*********************Threshold: {threshold}****************************\")\n",
    "    ft_embs_test = []\n",
    "    labels_test = []\n",
    "    logits_test = []\n",
    "    log = defaultdict(list)\n",
    "    num_cols = []\n",
    "    corrected = 0\n",
    "    total_mistakes = 0\n",
    "\n",
    "    for batch_idx, batch in enumerate(test_dataloader_iter):\n",
    "        cls_indexes = torch.LongTensor([[0, batch[\"cls_indexes\"].cpu().item()]]).to(device)\n",
    "        target_col_mask = batch[\"target_col_mask\"].T\n",
    "        logits = model(batch[\"data\"].T, cls_indexes=cls_indexes,)\n",
    "        num_cols.append(batch[\"target_col_mask\"].max().item())\n",
    "        ood_score_min = compute_entropy(F.softmax(logits.detach())).item()\n",
    "        predict_init = logits.argmax().item()\n",
    "        if 1 in target_col_mask and ood_score_min > threshold:\n",
    "            total_mistakes += 1\n",
    "            col_idx_set = target_col_mask.unique().tolist()\n",
    "            assert -1 not in col_idx_set\n",
    "            for r in range(1, len(col_idx_set) + 1):\n",
    "                for subset in itertools.combinations(col_idx_set, r):\n",
    "                    for x in itertools.permutations(subset):\n",
    "                        if 0 not in x:\n",
    "                            continue\n",
    "                        new_batch_data = []\n",
    "                        for col_i in x:\n",
    "                            if col_i == 0:\n",
    "                                if len(new_batch_data) == 0:\n",
    "                                    cls_indexes_value = 0\n",
    "                                else:\n",
    "                                    cls_indexes_value = sum([len(new_batch_data[i]) for i in range(len(new_batch_data))])\n",
    "                            new_batch_data.append(batch[\"data\"].T[target_col_mask==col_i])\n",
    "                        new_batch_data = torch.cat(new_batch_data, dim=-1).reshape(1, -1)\n",
    "                        cls_indexes = torch.tensor([0, cls_indexes_value]).reshape(1, -1).to(device)\n",
    "                        logits_temp = model(new_batch_data, cls_indexes=cls_indexes,)\n",
    "                        ood_score_temp = compute_entropy(F.softmax(logits_temp.detach())).item()\n",
    "                        predict_temp = logits_temp.argmax().item()\n",
    "                        if ood_score_temp < ood_score_min and predict_init != predict_temp:\n",
    "                            ood_score_min = ood_score_temp \n",
    "                            logits = logits_temp.clone()\n",
    "                \n",
    "        labels_test.append(batch[\"label\"].cpu())\n",
    "        logits_test.append(logits.detach().cpu())\n",
    "    labels_test = torch.cat(labels_test, dim=0)\n",
    "    logits_test = torch.stack(logits_test, dim=0)\n",
    "    preds_test = torch.argmax(logits_test, dim=1)\n",
    "    num_cols = torch.tensor(num_cols)\n",
    "\n",
    "\n",
    "\n",
    "\n",
    "    from sklearn.metrics import confusion_matrix, f1_score\n",
    "    mask = num_cols > 0\n",
    "    ts_pred_list = logits_test.argmax(\n",
    "                                1).cpu().detach().numpy().tolist()\n",
    "    ts_micro_f1 = f1_score(labels_test.reshape(-1).numpy().tolist(),\n",
    "                        ts_pred_list,\n",
    "                        average=\"micro\")\n",
    "    ts_macro_f1 = f1_score(labels_test.reshape(-1).numpy().tolist(),\n",
    "                        ts_pred_list,\n",
    "                        average=\"macro\")\n",
    "    print(\"ts_micro_f1={:.4f}, ts_macro_f1={:.4f}\".format(ts_micro_f1, ts_macro_f1))\n",
    "    ts_pred_list = logits_test.argmax(\n",
    "                                1).cpu().detach()[mask].numpy().tolist()\n",
    "    ts_micro_f1 = f1_score(labels_test.reshape(-1)[mask].numpy().tolist(),\n",
    "                        ts_pred_list,\n",
    "                        average=\"micro\")\n",
    "    ts_macro_f1 = f1_score(labels_test.reshape(-1)[mask].numpy().tolist(),\n",
    "                        ts_pred_list,\n",
    "                        average=\"macro\")\n",
    "    print(\"ts_micro_f1={:.4f}, ts_macro_f1={:.4f}\".format(ts_micro_f1, ts_macro_f1))\n",
    "    ts_pred_list = logits_test.argmax(\n",
    "                                1).cpu().detach()[~mask].numpy().tolist()\n",
    "    ts_micro_f1 = f1_score(labels_test.reshape(-1)[~mask].numpy().tolist(),\n",
    "                        ts_pred_list,\n",
    "                        average=\"micro\")\n",
    "    ts_macro_f1 = f1_score(labels_test.reshape(-1)[~mask].numpy().tolist(),\n",
    "                        ts_pred_list,\n",
    "                        average=\"macro\")\n",
    "    print(\"ts_micro_f1={:.4f}, ts_macro_f1={:.4f}\".format(ts_micro_f1, ts_macro_f1))"
   ]
  },
  {
   "cell_type": "code",
   "execution_count": 66,
   "metadata": {},
   "outputs": [
    {
     "name": "stdout",
     "output_type": "stream",
     "text": [
      "*********************Threshold: 0.9****************************\n"
     ]
    },
    {
     "name": "stderr",
     "output_type": "stream",
     "text": [
      "/tmp/ipykernel_4054970/1658014317.py:25: UserWarning: Implicit dimension choice for softmax has been deprecated. Change the call to include dim=X as an argument.\n",
      "  init_msp = F.softmax(logits_temp).max().item()\n",
      "/tmp/ipykernel_4054970/1658014317.py:48: UserWarning: Implicit dimension choice for softmax has been deprecated. Change the call to include dim=X as an argument.\n",
      "  msp_temp = F.softmax(logits_temp).max().item()\n"
     ]
    },
    {
     "name": "stdout",
     "output_type": "stream",
     "text": [
      "ts_micro_f1=0.4442, ts_macro_f1=0.1641\n",
      "ts_micro_f1=0.4107, ts_macro_f1=0.1462\n",
      "ts_micro_f1=0.4823, ts_macro_f1=0.1573\n"
     ]
    }
   ],
   "source": [
    "# brute force perumate, target column\n",
    "import itertools\n",
    "\n",
    "\n",
    "    \n",
    "model.load_state_dict(best_state_dict, strict=False)\n",
    "model.eval()\n",
    "model = model.to(device)\n",
    "for threshold in [0.9]:\n",
    "    print(f\"*********************Threshold: {threshold}****************************\")\n",
    "    ft_embs_test = []\n",
    "    labels_test = []\n",
    "    logits_test = []\n",
    "    log = defaultdict(list)\n",
    "    num_cols = []\n",
    "    corrected = 0\n",
    "    total_mistakes = 0\n",
    "\n",
    "    for batch_idx, batch in enumerate(test_dataloader_iter):\n",
    "        target_col_mask = batch[\"target_col_mask\"].T\n",
    "        num_cols.append(batch[\"target_col_mask\"].max().item())\n",
    "\n",
    "        cls_indexes = torch.tensor([0, 0]).reshape(1, -1).to(device)\n",
    "        logits_temp = model(batch[\"data\"].T[target_col_mask==0].reshape(1, -1), cls_indexes=cls_indexes,)    \n",
    "        init_msp = F.softmax(logits_temp).max().item()\n",
    "        logits = logits_temp.clone().detach().cpu()      \n",
    "\n",
    "        if 1 in target_col_mask and init_msp < threshold:\n",
    "            max_msp = init_msp\n",
    "            col_idx_set = target_col_mask.unique().tolist()\n",
    "            assert -1 not in col_idx_set\n",
    "            for r in range(1, len(col_idx_set) + 1):\n",
    "                for subset in itertools.combinations(col_idx_set, r):\n",
    "                    for x in itertools.permutations(subset):\n",
    "                        if 0 not in x:\n",
    "                            continue\n",
    "                        new_batch_data = []\n",
    "                        for col_i in x:\n",
    "                            if col_i == 0:\n",
    "                                if len(new_batch_data) == 0:\n",
    "                                    cls_indexes_value = 0\n",
    "                                else:\n",
    "                                    cls_indexes_value = sum([len(new_batch_data[i]) for i in range(len(new_batch_data))])\n",
    "                            new_batch_data.append(batch[\"data\"].T[target_col_mask==col_i])\n",
    "                        new_batch_data = torch.cat(new_batch_data, dim=-1).reshape(1, -1)\n",
    "                        cls_indexes = torch.tensor([0, cls_indexes_value]).reshape(1, -1).to(device)\n",
    "                        logits_temp = model(new_batch_data, cls_indexes=cls_indexes,)\n",
    "                        msp_temp = F.softmax(logits_temp).max().item()\n",
    "                        # predict_temp = logits_temp.argmax().item()\n",
    "                        if msp_temp > max_msp:\n",
    "                            max_msp = msp_temp\n",
    "                            logits = logits_temp.clone()\n",
    "                \n",
    "        labels_test.append(batch[\"label\"].cpu())\n",
    "        logits_test.append(logits.detach().cpu())\n",
    "    labels_test = torch.cat(labels_test, dim=0)\n",
    "    logits_test = torch.stack(logits_test, dim=0)\n",
    "    preds_test = torch.argmax(logits_test, dim=1)\n",
    "    num_cols = torch.tensor(num_cols)\n",
    "\n",
    "\n",
    "\n",
    "\n",
    "    from sklearn.metrics import confusion_matrix, f1_score\n",
    "    mask = num_cols > 0\n",
    "    ts_pred_list = logits_test.argmax(\n",
    "                                1).cpu().detach().numpy().tolist()\n",
    "    ts_micro_f1 = f1_score(labels_test.reshape(-1).numpy().tolist(),\n",
    "                        ts_pred_list,\n",
    "                        average=\"micro\")\n",
    "    ts_macro_f1 = f1_score(labels_test.reshape(-1).numpy().tolist(),\n",
    "                        ts_pred_list,\n",
    "                        average=\"macro\")\n",
    "    print(\"ts_micro_f1={:.4f}, ts_macro_f1={:.4f}\".format(ts_micro_f1, ts_macro_f1))\n",
    "    ts_pred_list = logits_test.argmax(\n",
    "                                1).cpu().detach()[mask].numpy().tolist()\n",
    "    ts_micro_f1 = f1_score(labels_test.reshape(-1)[mask].numpy().tolist(),\n",
    "                        ts_pred_list,\n",
    "                        average=\"micro\")\n",
    "    ts_macro_f1 = f1_score(labels_test.reshape(-1)[mask].numpy().tolist(),\n",
    "                        ts_pred_list,\n",
    "                        average=\"macro\")\n",
    "    print(\"ts_micro_f1={:.4f}, ts_macro_f1={:.4f}\".format(ts_micro_f1, ts_macro_f1))\n",
    "    ts_pred_list = logits_test.argmax(\n",
    "                                1).cpu().detach()[~mask].numpy().tolist()\n",
    "    ts_micro_f1 = f1_score(labels_test.reshape(-1)[~mask].numpy().tolist(),\n",
    "                        ts_pred_list,\n",
    "                        average=\"micro\")\n",
    "    ts_macro_f1 = f1_score(labels_test.reshape(-1)[~mask].numpy().tolist(),\n",
    "                        ts_pred_list,\n",
    "                        average=\"macro\")\n",
    "    print(\"ts_micro_f1={:.4f}, ts_macro_f1={:.4f}\".format(ts_micro_f1, ts_macro_f1))"
   ]
  },
  {
   "cell_type": "code",
   "execution_count": 114,
   "metadata": {},
   "outputs": [
    {
     "name": "stdout",
     "output_type": "stream",
     "text": [
      "*********************Threshold: 0.5****************************\n"
     ]
    },
    {
     "name": "stderr",
     "output_type": "stream",
     "text": [
      "/tmp/ipykernel_4054970/3892576816.py:24: UserWarning: Implicit dimension choice for softmax has been deprecated. Change the call to include dim=X as an argument.\n",
      "  init_msp = F.softmax(logits).max().item()\n",
      "/tmp/ipykernel_4054970/3892576816.py:46: UserWarning: Implicit dimension choice for softmax has been deprecated. Change the call to include dim=X as an argument.\n",
      "  msp_temp = F.softmax(logits_temp).max().item()\n"
     ]
    },
    {
     "name": "stdout",
     "output_type": "stream",
     "text": [
      "ts_micro_f1=0.4498, ts_macro_f1=0.1765\n",
      "ts_micro_f1=0.4211, ts_macro_f1=0.1604\n",
      "ts_micro_f1=0.4823, ts_macro_f1=0.1573\n",
      "*********************Threshold: 0.6****************************\n"
     ]
    },
    {
     "name": "stderr",
     "output_type": "stream",
     "text": [
      "/tmp/ipykernel_4054970/3892576816.py:24: UserWarning: Implicit dimension choice for softmax has been deprecated. Change the call to include dim=X as an argument.\n",
      "  init_msp = F.softmax(logits).max().item()\n",
      "/tmp/ipykernel_4054970/3892576816.py:46: UserWarning: Implicit dimension choice for softmax has been deprecated. Change the call to include dim=X as an argument.\n",
      "  msp_temp = F.softmax(logits_temp).max().item()\n"
     ]
    },
    {
     "name": "stdout",
     "output_type": "stream",
     "text": [
      "ts_micro_f1=0.4479, ts_macro_f1=0.1734\n",
      "ts_micro_f1=0.4177, ts_macro_f1=0.1560\n",
      "ts_micro_f1=0.4823, ts_macro_f1=0.1573\n",
      "*********************Threshold: 0.7****************************\n"
     ]
    },
    {
     "name": "stderr",
     "output_type": "stream",
     "text": [
      "/tmp/ipykernel_4054970/3892576816.py:24: UserWarning: Implicit dimension choice for softmax has been deprecated. Change the call to include dim=X as an argument.\n",
      "  init_msp = F.softmax(logits).max().item()\n",
      "/tmp/ipykernel_4054970/3892576816.py:46: UserWarning: Implicit dimension choice for softmax has been deprecated. Change the call to include dim=X as an argument.\n",
      "  msp_temp = F.softmax(logits_temp).max().item()\n"
     ]
    },
    {
     "name": "stdout",
     "output_type": "stream",
     "text": [
      "ts_micro_f1=0.4507, ts_macro_f1=0.1720\n",
      "ts_micro_f1=0.4229, ts_macro_f1=0.1554\n",
      "ts_micro_f1=0.4823, ts_macro_f1=0.1573\n",
      "*********************Threshold: 0.8****************************\n"
     ]
    },
    {
     "name": "stderr",
     "output_type": "stream",
     "text": [
      "/tmp/ipykernel_4054970/3892576816.py:24: UserWarning: Implicit dimension choice for softmax has been deprecated. Change the call to include dim=X as an argument.\n",
      "  init_msp = F.softmax(logits).max().item()\n",
      "/tmp/ipykernel_4054970/3892576816.py:46: UserWarning: Implicit dimension choice for softmax has been deprecated. Change the call to include dim=X as an argument.\n",
      "  msp_temp = F.softmax(logits_temp).max().item()\n"
     ]
    },
    {
     "name": "stdout",
     "output_type": "stream",
     "text": [
      "ts_micro_f1=0.4535, ts_macro_f1=0.1741\n",
      "ts_micro_f1=0.4281, ts_macro_f1=0.1598\n",
      "ts_micro_f1=0.4823, ts_macro_f1=0.1573\n"
     ]
    }
   ],
   "source": [
    "# brute force perumate, original answer\n",
    "import itertools\n",
    "\n",
    "\n",
    "    \n",
    "model.load_state_dict(best_state_dict, strict=False)\n",
    "model.eval()\n",
    "model = model.to(device)\n",
    "for threshold in [0.5, 0.6, 0.7, 0.8]:\n",
    "    print(f\"*********************Threshold: {threshold}****************************\")\n",
    "    ft_embs_test = []\n",
    "    labels_test = []\n",
    "    logits_test = []\n",
    "    log = defaultdict(list)\n",
    "    num_cols = []\n",
    "    corrected = 0\n",
    "    total_mistakes = 0\n",
    "\n",
    "    for batch_idx, batch in enumerate(test_dataloader_iter):\n",
    "        cls_indexes = torch.LongTensor([[0, batch[\"cls_indexes\"].cpu().item()]]).to(device)\n",
    "        target_col_mask = batch[\"target_col_mask\"].T\n",
    "        logits = model(batch[\"data\"].T, cls_indexes=cls_indexes,)\n",
    "        num_cols.append(batch[\"target_col_mask\"].max().item())\n",
    "        init_msp = F.softmax(logits).max().item()\n",
    "\n",
    "        if 1 in target_col_mask and init_msp < threshold:\n",
    "            max_msp = init_msp\n",
    "            col_idx_set = target_col_mask.unique().tolist()\n",
    "            assert -1 not in col_idx_set\n",
    "            for r in range(1, len(col_idx_set) + 1):\n",
    "                for subset in itertools.combinations(col_idx_set, r):\n",
    "                    for x in itertools.permutations(subset):\n",
    "                        if 0 not in x:\n",
    "                            continue\n",
    "                        new_batch_data = []\n",
    "                        for col_i in x:\n",
    "                            if col_i == 0:\n",
    "                                if len(new_batch_data) == 0:\n",
    "                                    cls_indexes_value = 0\n",
    "                                else:\n",
    "                                    cls_indexes_value = sum([len(new_batch_data[i]) for i in range(len(new_batch_data))])\n",
    "                            new_batch_data.append(batch[\"data\"].T[target_col_mask==col_i])\n",
    "                        new_batch_data = torch.cat(new_batch_data, dim=-1).reshape(1, -1)\n",
    "                        cls_indexes = torch.tensor([0, cls_indexes_value]).reshape(1, -1).to(device)\n",
    "                        logits_temp = model(new_batch_data, cls_indexes=cls_indexes,)\n",
    "                        msp_temp = F.softmax(logits_temp).max().item()\n",
    "                        # predict_temp = logits_temp.argmax().item()\n",
    "                        if msp_temp > max_msp:\n",
    "                            max_msp = msp_temp\n",
    "                            logits = logits_temp.clone()\n",
    "                \n",
    "        labels_test.append(batch[\"label\"].cpu())\n",
    "        logits_test.append(logits.detach().cpu())\n",
    "    labels_test = torch.cat(labels_test, dim=0)\n",
    "    logits_test = torch.stack(logits_test, dim=0)\n",
    "    preds_test = torch.argmax(logits_test, dim=1)\n",
    "    num_cols = torch.tensor(num_cols)\n",
    "\n",
    "\n",
    "\n",
    "\n",
    "    from sklearn.metrics import confusion_matrix, f1_score\n",
    "    mask = num_cols > 0\n",
    "    ts_pred_list = logits_test.argmax(\n",
    "                                1).cpu().detach().numpy().tolist()\n",
    "    ts_micro_f1 = f1_score(labels_test.reshape(-1).numpy().tolist(),\n",
    "                        ts_pred_list,\n",
    "                        average=\"micro\")\n",
    "    ts_macro_f1 = f1_score(labels_test.reshape(-1).numpy().tolist(),\n",
    "                        ts_pred_list,\n",
    "                        average=\"macro\")\n",
    "    print(\"ts_micro_f1={:.4f}, ts_macro_f1={:.4f}\".format(ts_micro_f1, ts_macro_f1))\n",
    "    ts_pred_list = logits_test.argmax(\n",
    "                                1).cpu().detach()[mask].numpy().tolist()\n",
    "    ts_micro_f1 = f1_score(labels_test.reshape(-1)[mask].numpy().tolist(),\n",
    "                        ts_pred_list,\n",
    "                        average=\"micro\")\n",
    "    ts_macro_f1 = f1_score(labels_test.reshape(-1)[mask].numpy().tolist(),\n",
    "                        ts_pred_list,\n",
    "                        average=\"macro\")\n",
    "    print(\"ts_micro_f1={:.4f}, ts_macro_f1={:.4f}\".format(ts_micro_f1, ts_macro_f1))\n",
    "    ts_pred_list = logits_test.argmax(\n",
    "                                1).cpu().detach()[~mask].numpy().tolist()\n",
    "    ts_micro_f1 = f1_score(labels_test.reshape(-1)[~mask].numpy().tolist(),\n",
    "                        ts_pred_list,\n",
    "                        average=\"micro\")\n",
    "    ts_macro_f1 = f1_score(labels_test.reshape(-1)[~mask].numpy().tolist(),\n",
    "                        ts_pred_list,\n",
    "                        average=\"macro\")\n",
    "    print(\"ts_micro_f1={:.4f}, ts_macro_f1={:.4f}\".format(ts_micro_f1, ts_macro_f1))"
   ]
  },
  {
   "cell_type": "code",
   "execution_count": 113,
   "metadata": {},
   "outputs": [
    {
     "name": "stdout",
     "output_type": "stream",
     "text": [
      "*********************Threshold: 0.8****************************\n"
     ]
    },
    {
     "name": "stderr",
     "output_type": "stream",
     "text": [
      "/tmp/ipykernel_4054970/4188673808.py:24: UserWarning: Implicit dimension choice for softmax has been deprecated. Change the call to include dim=X as an argument.\n",
      "  init_msp = F.softmax(logits).max().item()\n",
      "/tmp/ipykernel_4054970/4188673808.py:48: UserWarning: Implicit dimension choice for softmax has been deprecated. Change the call to include dim=X as an argument.\n",
      "  msp_temp = F.softmax(logits_temp).max().item()\n"
     ]
    },
    {
     "name": "stdout",
     "output_type": "stream",
     "text": [
      "ts_micro_f1=0.4498, ts_macro_f1=0.1714\n",
      "ts_micro_f1=0.4211, ts_macro_f1=0.1564\n",
      "ts_micro_f1=0.4823, ts_macro_f1=0.1573\n",
      "*********************Threshold: 0.85****************************\n"
     ]
    },
    {
     "name": "stderr",
     "output_type": "stream",
     "text": [
      "/tmp/ipykernel_4054970/4188673808.py:24: UserWarning: Implicit dimension choice for softmax has been deprecated. Change the call to include dim=X as an argument.\n",
      "  init_msp = F.softmax(logits).max().item()\n",
      "/tmp/ipykernel_4054970/4188673808.py:48: UserWarning: Implicit dimension choice for softmax has been deprecated. Change the call to include dim=X as an argument.\n",
      "  msp_temp = F.softmax(logits_temp).max().item()\n"
     ]
    },
    {
     "name": "stdout",
     "output_type": "stream",
     "text": [
      "ts_micro_f1=0.4479, ts_macro_f1=0.1660\n",
      "ts_micro_f1=0.4177, ts_macro_f1=0.1492\n",
      "ts_micro_f1=0.4823, ts_macro_f1=0.1573\n",
      "*********************Threshold: 0.9****************************\n"
     ]
    },
    {
     "name": "stderr",
     "output_type": "stream",
     "text": [
      "/tmp/ipykernel_4054970/4188673808.py:24: UserWarning: Implicit dimension choice for softmax has been deprecated. Change the call to include dim=X as an argument.\n",
      "  init_msp = F.softmax(logits).max().item()\n",
      "/tmp/ipykernel_4054970/4188673808.py:48: UserWarning: Implicit dimension choice for softmax has been deprecated. Change the call to include dim=X as an argument.\n",
      "  msp_temp = F.softmax(logits_temp).max().item()\n"
     ]
    },
    {
     "name": "stdout",
     "output_type": "stream",
     "text": [
      "ts_micro_f1=0.4461, ts_macro_f1=0.1661\n",
      "ts_micro_f1=0.4142, ts_macro_f1=0.1494\n",
      "ts_micro_f1=0.4823, ts_macro_f1=0.1573\n",
      "*********************Threshold: 0.95****************************\n"
     ]
    },
    {
     "name": "stderr",
     "output_type": "stream",
     "text": [
      "/tmp/ipykernel_4054970/4188673808.py:24: UserWarning: Implicit dimension choice for softmax has been deprecated. Change the call to include dim=X as an argument.\n",
      "  init_msp = F.softmax(logits).max().item()\n",
      "/tmp/ipykernel_4054970/4188673808.py:48: UserWarning: Implicit dimension choice for softmax has been deprecated. Change the call to include dim=X as an argument.\n",
      "  msp_temp = F.softmax(logits_temp).max().item()\n"
     ]
    },
    {
     "name": "stdout",
     "output_type": "stream",
     "text": [
      "ts_micro_f1=0.4442, ts_macro_f1=0.1613\n",
      "ts_micro_f1=0.4107, ts_macro_f1=0.1427\n",
      "ts_micro_f1=0.4823, ts_macro_f1=0.1573\n",
      "*********************Threshold: 0.99****************************\n"
     ]
    },
    {
     "name": "stderr",
     "output_type": "stream",
     "text": [
      "/tmp/ipykernel_4054970/4188673808.py:24: UserWarning: Implicit dimension choice for softmax has been deprecated. Change the call to include dim=X as an argument.\n",
      "  init_msp = F.softmax(logits).max().item()\n",
      "/tmp/ipykernel_4054970/4188673808.py:48: UserWarning: Implicit dimension choice for softmax has been deprecated. Change the call to include dim=X as an argument.\n",
      "  msp_temp = F.softmax(logits_temp).max().item()\n"
     ]
    },
    {
     "name": "stdout",
     "output_type": "stream",
     "text": [
      "ts_micro_f1=0.4387, ts_macro_f1=0.1594\n",
      "ts_micro_f1=0.4003, ts_macro_f1=0.1393\n",
      "ts_micro_f1=0.4823, ts_macro_f1=0.1573\n"
     ]
    }
   ],
   "source": [
    "# brute force perumate, original answer, skip permuation not starting with 0\n",
    "import itertools\n",
    "\n",
    "\n",
    "    \n",
    "model.load_state_dict(best_state_dict, strict=False)\n",
    "model.eval()\n",
    "model = model.to(device)\n",
    "for threshold in [0.8, 0.85, 0.9, 0.95, 0.99]:\n",
    "    print(f\"*********************Threshold: {threshold}****************************\")\n",
    "    ft_embs_test = []\n",
    "    labels_test = []\n",
    "    logits_test = []\n",
    "    log = defaultdict(list)\n",
    "    num_cols = []\n",
    "    corrected = 0\n",
    "    total_mistakes = 0\n",
    "\n",
    "    for batch_idx, batch in enumerate(test_dataloader_iter):\n",
    "        cls_indexes = torch.LongTensor([[0, batch[\"cls_indexes\"].cpu().item()]]).to(device)\n",
    "        target_col_mask = batch[\"target_col_mask\"].T\n",
    "        logits = model(batch[\"data\"].T, cls_indexes=cls_indexes,)\n",
    "        num_cols.append(batch[\"target_col_mask\"].max().item())\n",
    "        init_msp = F.softmax(logits).max().item()\n",
    "\n",
    "        if 1 in target_col_mask and init_msp < threshold:\n",
    "            max_msp = init_msp\n",
    "            col_idx_set = target_col_mask.unique().tolist()\n",
    "            assert -1 not in col_idx_set\n",
    "            for r in range(1, len(col_idx_set) + 1):\n",
    "                for subset in itertools.combinations(col_idx_set, r):\n",
    "                    for x in itertools.permutations(subset):\n",
    "                        if 0 not in x:\n",
    "                            continue\n",
    "                        if x[0] != 0:\n",
    "                            continue\n",
    "                        new_batch_data = []\n",
    "                        for col_i in x:\n",
    "                            if col_i == 0:\n",
    "                                if len(new_batch_data) == 0:\n",
    "                                    cls_indexes_value = 0\n",
    "                                else:\n",
    "                                    cls_indexes_value = sum([len(new_batch_data[i]) for i in range(len(new_batch_data))])\n",
    "                            new_batch_data.append(batch[\"data\"].T[target_col_mask==col_i])\n",
    "                        new_batch_data = torch.cat(new_batch_data, dim=-1).reshape(1, -1)\n",
    "                        cls_indexes = torch.tensor([0, cls_indexes_value]).reshape(1, -1).to(device)\n",
    "                        logits_temp = model(new_batch_data, cls_indexes=cls_indexes,)\n",
    "                        msp_temp = F.softmax(logits_temp).max().item()\n",
    "                        # predict_temp = logits_temp.argmax().item()\n",
    "                        if msp_temp > max_msp:\n",
    "                            max_msp = msp_temp\n",
    "                            logits = logits_temp.clone()\n",
    "                \n",
    "        labels_test.append(batch[\"label\"].cpu())\n",
    "        logits_test.append(logits.detach().cpu())\n",
    "    labels_test = torch.cat(labels_test, dim=0)\n",
    "    logits_test = torch.stack(logits_test, dim=0)\n",
    "    preds_test = torch.argmax(logits_test, dim=1)\n",
    "    num_cols = torch.tensor(num_cols)\n",
    "\n",
    "\n",
    "\n",
    "\n",
    "    from sklearn.metrics import confusion_matrix, f1_score\n",
    "    mask = num_cols > 0\n",
    "    ts_pred_list = logits_test.argmax(\n",
    "                                1).cpu().detach().numpy().tolist()\n",
    "    ts_micro_f1 = f1_score(labels_test.reshape(-1).numpy().tolist(),\n",
    "                        ts_pred_list,\n",
    "                        average=\"micro\")\n",
    "    ts_macro_f1 = f1_score(labels_test.reshape(-1).numpy().tolist(),\n",
    "                        ts_pred_list,\n",
    "                        average=\"macro\")\n",
    "    print(\"ts_micro_f1={:.4f}, ts_macro_f1={:.4f}\".format(ts_micro_f1, ts_macro_f1))\n",
    "    ts_pred_list = logits_test.argmax(\n",
    "                                1).cpu().detach()[mask].numpy().tolist()\n",
    "    ts_micro_f1 = f1_score(labels_test.reshape(-1)[mask].numpy().tolist(),\n",
    "                        ts_pred_list,\n",
    "                        average=\"micro\")\n",
    "    ts_macro_f1 = f1_score(labels_test.reshape(-1)[mask].numpy().tolist(),\n",
    "                        ts_pred_list,\n",
    "                        average=\"macro\")\n",
    "    print(\"ts_micro_f1={:.4f}, ts_macro_f1={:.4f}\".format(ts_micro_f1, ts_macro_f1))\n",
    "    ts_pred_list = logits_test.argmax(\n",
    "                                1).cpu().detach()[~mask].numpy().tolist()\n",
    "    ts_micro_f1 = f1_score(labels_test.reshape(-1)[~mask].numpy().tolist(),\n",
    "                        ts_pred_list,\n",
    "                        average=\"micro\")\n",
    "    ts_macro_f1 = f1_score(labels_test.reshape(-1)[~mask].numpy().tolist(),\n",
    "                        ts_pred_list,\n",
    "                        average=\"macro\")\n",
    "    print(\"ts_micro_f1={:.4f}, ts_macro_f1={:.4f}\".format(ts_micro_f1, ts_macro_f1))"
   ]
  },
  {
   "cell_type": "code",
   "execution_count": 106,
   "metadata": {},
   "outputs": [
    {
     "name": "stdout",
     "output_type": "stream",
     "text": [
      "*********************Threshold: 0.8****************************\n"
     ]
    },
    {
     "name": "stderr",
     "output_type": "stream",
     "text": [
      "/tmp/ipykernel_4054970/3393821501.py:25: UserWarning: Implicit dimension choice for softmax has been deprecated. Change the call to include dim=X as an argument.\n",
      "  init_msp = F.softmax(logits_temp).max().item()\n",
      "/tmp/ipykernel_4054970/3393821501.py:50: UserWarning: Implicit dimension choice for softmax has been deprecated. Change the call to include dim=X as an argument.\n",
      "  msp_temp = F.softmax(logits_temp).max().item()\n"
     ]
    },
    {
     "name": "stdout",
     "output_type": "stream",
     "text": [
      "ts_micro_f1=0.4442, ts_macro_f1=0.1663\n",
      "ts_micro_f1=0.4107, ts_macro_f1=0.1525\n",
      "ts_micro_f1=0.4823, ts_macro_f1=0.1573\n",
      "*********************Threshold: 0.9****************************\n"
     ]
    },
    {
     "name": "stderr",
     "output_type": "stream",
     "text": [
      "/tmp/ipykernel_4054970/3393821501.py:25: UserWarning: Implicit dimension choice for softmax has been deprecated. Change the call to include dim=X as an argument.\n",
      "  init_msp = F.softmax(logits_temp).max().item()\n",
      "/tmp/ipykernel_4054970/3393821501.py:50: UserWarning: Implicit dimension choice for softmax has been deprecated. Change the call to include dim=X as an argument.\n",
      "  msp_temp = F.softmax(logits_temp).max().item()\n"
     ]
    },
    {
     "name": "stdout",
     "output_type": "stream",
     "text": [
      "ts_micro_f1=0.4415, ts_macro_f1=0.1657\n",
      "ts_micro_f1=0.4055, ts_macro_f1=0.1513\n",
      "ts_micro_f1=0.4823, ts_macro_f1=0.1573\n"
     ]
    }
   ],
   "source": [
    "# brute force perumate\n",
    "import itertools\n",
    "\n",
    "\n",
    "    \n",
    "model.load_state_dict(best_state_dict, strict=False)\n",
    "model.eval()\n",
    "model = model.to(device)\n",
    "for threshold in [0.8, 0.9]:\n",
    "    print(f\"*********************Threshold: {threshold}****************************\")\n",
    "    ft_embs_test = []\n",
    "    labels_test = []\n",
    "    logits_test = []\n",
    "    log = defaultdict(list)\n",
    "    num_cols = []\n",
    "    corrected = 0\n",
    "    total_mistakes = 0\n",
    "\n",
    "    for batch_idx, batch in enumerate(test_dataloader_iter):\n",
    "        target_col_mask = batch[\"target_col_mask\"].T\n",
    "        num_cols.append(batch[\"target_col_mask\"].max().item())\n",
    "\n",
    "        cls_indexes = torch.tensor([0, 0]).reshape(1, -1).to(device)\n",
    "        logits_temp = model(batch[\"data\"].T[target_col_mask==0].reshape(1, -1), cls_indexes=cls_indexes,)    \n",
    "        init_msp = F.softmax(logits_temp).max().item()\n",
    "        logits = logits_temp.clone().detach().cpu()      \n",
    "\n",
    "        if 1 in target_col_mask and init_msp < threshold:\n",
    "            max_msp = init_msp\n",
    "            col_idx_set = target_col_mask.unique().tolist()\n",
    "            assert -1 not in col_idx_set\n",
    "            for r in range(1, len(col_idx_set) + 1):\n",
    "                for subset in itertools.combinations(col_idx_set, r):\n",
    "                    for x in itertools.permutations(subset):\n",
    "                        if 0 not in x:\n",
    "                            continue\n",
    "                        # if x[0] != 0:\n",
    "                        #     continue\n",
    "                        new_batch_data = []\n",
    "                        for col_i in x:\n",
    "                            if col_i == 0:\n",
    "                                if len(new_batch_data) == 0:\n",
    "                                    cls_indexes_value = 0\n",
    "                                else:\n",
    "                                    cls_indexes_value = sum([len(new_batch_data[i]) for i in range(len(new_batch_data))])\n",
    "                            new_batch_data.append(batch[\"data\"].T[target_col_mask==col_i])\n",
    "                        new_batch_data = torch.cat(new_batch_data, dim=-1).reshape(1, -1)\n",
    "                        cls_indexes = torch.tensor([0, cls_indexes_value]).reshape(1, -1).to(device)\n",
    "                        logits_temp = model(new_batch_data, cls_indexes=cls_indexes,)\n",
    "                        msp_temp = F.softmax(logits_temp).max().item()\n",
    "                        # predict_temp = logits_temp.argmax().item()\n",
    "                        if msp_temp > max_msp:\n",
    "                            max_msp = msp_temp\n",
    "                            logits = logits_temp.clone()\n",
    "                \n",
    "        labels_test.append(batch[\"label\"].cpu())\n",
    "        logits_test.append(logits.detach().cpu())\n",
    "    labels_test = torch.cat(labels_test, dim=0)\n",
    "    logits_test = torch.stack(logits_test, dim=0)\n",
    "    preds_test = torch.argmax(logits_test, dim=1)\n",
    "    num_cols = torch.tensor(num_cols)\n",
    "\n",
    "\n",
    "\n",
    "\n",
    "    from sklearn.metrics import confusion_matrix, f1_score\n",
    "    mask = num_cols > 0\n",
    "    ts_pred_list = logits_test.argmax(\n",
    "                                1).cpu().detach().numpy().tolist()\n",
    "    ts_micro_f1 = f1_score(labels_test.reshape(-1).numpy().tolist(),\n",
    "                        ts_pred_list,\n",
    "                        average=\"micro\")\n",
    "    ts_macro_f1 = f1_score(labels_test.reshape(-1).numpy().tolist(),\n",
    "                        ts_pred_list,\n",
    "                        average=\"macro\")\n",
    "    print(\"ts_micro_f1={:.4f}, ts_macro_f1={:.4f}\".format(ts_micro_f1, ts_macro_f1))\n",
    "    ts_pred_list = logits_test.argmax(\n",
    "                                1).cpu().detach()[mask].numpy().tolist()\n",
    "    ts_micro_f1 = f1_score(labels_test.reshape(-1)[mask].numpy().tolist(),\n",
    "                        ts_pred_list,\n",
    "                        average=\"micro\")\n",
    "    ts_macro_f1 = f1_score(labels_test.reshape(-1)[mask].numpy().tolist(),\n",
    "                        ts_pred_list,\n",
    "                        average=\"macro\")\n",
    "    print(\"ts_micro_f1={:.4f}, ts_macro_f1={:.4f}\".format(ts_micro_f1, ts_macro_f1))\n",
    "    ts_pred_list = logits_test.argmax(\n",
    "                                1).cpu().detach()[~mask].numpy().tolist()\n",
    "    ts_micro_f1 = f1_score(labels_test.reshape(-1)[~mask].numpy().tolist(),\n",
    "                        ts_pred_list,\n",
    "                        average=\"micro\")\n",
    "    ts_macro_f1 = f1_score(labels_test.reshape(-1)[~mask].numpy().tolist(),\n",
    "                        ts_pred_list,\n",
    "                        average=\"macro\")\n",
    "    print(\"ts_micro_f1={:.4f}, ts_macro_f1={:.4f}\".format(ts_micro_f1, ts_macro_f1))"
   ]
  },
  {
   "cell_type": "code",
   "execution_count": 33,
   "metadata": {},
   "outputs": [
    {
     "name": "stdout",
     "output_type": "stream",
     "text": [
      "*********************Threshold: 0.5****************************\n"
     ]
    },
    {
     "name": "stderr",
     "output_type": "stream",
     "text": [
      "/tmp/ipykernel_3359783/3432584509.py:24: UserWarning: Implicit dimension choice for softmax has been deprecated. Change the call to include dim=X as an argument.\n",
      "  ood_score_min = compute_entropy(F.softmax(logits.detach())).item()\n",
      "/tmp/ipykernel_3359783/3432584509.py:46: UserWarning: Implicit dimension choice for softmax has been deprecated. Change the call to include dim=X as an argument.\n",
      "  ood_score_temp = compute_entropy(F.softmax(logits_temp.detach())).item()\n"
     ]
    },
    {
     "name": "stdout",
     "output_type": "stream",
     "text": [
      "ts_micro_f1=0.4138, ts_macro_f1=0.1897\n",
      "ts_micro_f1=0.4593, ts_macro_f1=0.2045\n",
      "ts_micro_f1=0.3622, ts_macro_f1=0.1474\n",
      "*********************Threshold: 1.0****************************\n"
     ]
    },
    {
     "name": "stderr",
     "output_type": "stream",
     "text": [
      "/tmp/ipykernel_3359783/3432584509.py:24: UserWarning: Implicit dimension choice for softmax has been deprecated. Change the call to include dim=X as an argument.\n",
      "  ood_score_min = compute_entropy(F.softmax(logits.detach())).item()\n",
      "/tmp/ipykernel_3359783/3432584509.py:46: UserWarning: Implicit dimension choice for softmax has been deprecated. Change the call to include dim=X as an argument.\n",
      "  ood_score_temp = compute_entropy(F.softmax(logits_temp.detach())).item()\n"
     ]
    },
    {
     "name": "stdout",
     "output_type": "stream",
     "text": [
      "ts_micro_f1=0.4184, ts_macro_f1=0.1936\n",
      "ts_micro_f1=0.4679, ts_macro_f1=0.2097\n",
      "ts_micro_f1=0.3622, ts_macro_f1=0.1474\n",
      "*********************Threshold: 1.5****************************\n"
     ]
    },
    {
     "name": "stderr",
     "output_type": "stream",
     "text": [
      "/tmp/ipykernel_3359783/3432584509.py:24: UserWarning: Implicit dimension choice for softmax has been deprecated. Change the call to include dim=X as an argument.\n",
      "  ood_score_min = compute_entropy(F.softmax(logits.detach())).item()\n",
      "/tmp/ipykernel_3359783/3432584509.py:46: UserWarning: Implicit dimension choice for softmax has been deprecated. Change the call to include dim=X as an argument.\n",
      "  ood_score_temp = compute_entropy(F.softmax(logits_temp.detach())).item()\n"
     ]
    },
    {
     "name": "stdout",
     "output_type": "stream",
     "text": [
      "ts_micro_f1=0.4166, ts_macro_f1=0.1959\n",
      "ts_micro_f1=0.4645, ts_macro_f1=0.2159\n",
      "ts_micro_f1=0.3622, ts_macro_f1=0.1474\n",
      "*********************Threshold: 2.0****************************\n"
     ]
    },
    {
     "name": "stderr",
     "output_type": "stream",
     "text": [
      "/tmp/ipykernel_3359783/3432584509.py:24: UserWarning: Implicit dimension choice for softmax has been deprecated. Change the call to include dim=X as an argument.\n",
      "  ood_score_min = compute_entropy(F.softmax(logits.detach())).item()\n",
      "/tmp/ipykernel_3359783/3432584509.py:46: UserWarning: Implicit dimension choice for softmax has been deprecated. Change the call to include dim=X as an argument.\n",
      "  ood_score_temp = compute_entropy(F.softmax(logits_temp.detach())).item()\n"
     ]
    },
    {
     "name": "stdout",
     "output_type": "stream",
     "text": [
      "ts_micro_f1=0.4120, ts_macro_f1=0.1950\n",
      "ts_micro_f1=0.4558, ts_macro_f1=0.2090\n",
      "ts_micro_f1=0.3622, ts_macro_f1=0.1474\n"
     ]
    }
   ],
   "source": [
    "# brute force perumate\n",
    "import itertools\n",
    "\n",
    "\n",
    "    \n",
    "model.load_state_dict(best_state_dict, strict=False)\n",
    "model.eval()\n",
    "model = model.to(device)\n",
    "for threshold in [0.5, 1.0, 1.5, 2.0]:\n",
    "    print(f\"*********************Threshold: {threshold}****************************\")\n",
    "    ft_embs_test = []\n",
    "    labels_test = []\n",
    "    logits_test = []\n",
    "    log = defaultdict(list)\n",
    "    num_cols = []\n",
    "    corrected = 0\n",
    "    total_mistakes = 0\n",
    "\n",
    "    for batch_idx, batch in enumerate(test_dataloader_iter):\n",
    "        cls_indexes = torch.LongTensor([[0, batch[\"cls_indexes\"].cpu().item()]]).to(device)\n",
    "        target_col_mask = batch[\"target_col_mask\"].T\n",
    "        logits = model(batch[\"data\"].T, cls_indexes=cls_indexes,)\n",
    "        num_cols.append(batch[\"target_col_mask\"].max().item())\n",
    "        ood_score_min = compute_entropy(F.softmax(logits.detach())).item()\n",
    "        predict_init = logits.argmax().item()\n",
    "        if 1 in target_col_mask and ood_score_min > threshold:\n",
    "            total_mistakes += 1\n",
    "            col_idx_set = target_col_mask.unique().tolist()\n",
    "            assert -1 not in col_idx_set\n",
    "            for r in range(1, len(col_idx_set) + 1):\n",
    "                for subset in itertools.combinations(col_idx_set, r):\n",
    "                    for x in itertools.permutations(subset):\n",
    "                        if 0 not in x:\n",
    "                            continue\n",
    "                        new_batch_data = []\n",
    "                        for col_i in x:\n",
    "                            if col_i == 0:\n",
    "                                if len(new_batch_data) == 0:\n",
    "                                    cls_indexes_value = 0\n",
    "                                else:\n",
    "                                    cls_indexes_value = sum([len(new_batch_data[i]) for i in range(len(new_batch_data))])\n",
    "                            new_batch_data.append(batch[\"data\"].T[target_col_mask==col_i])\n",
    "                        new_batch_data = torch.cat(new_batch_data, dim=-1).reshape(1, -1)\n",
    "                        cls_indexes = torch.tensor([0, cls_indexes_value]).reshape(1, -1).to(device)\n",
    "                        logits_temp = model(new_batch_data, cls_indexes=cls_indexes,)\n",
    "                        ood_score_temp = compute_entropy(F.softmax(logits_temp.detach())).item()\n",
    "                        predict_temp = logits_temp.argmax().item()\n",
    "                        if ood_score_temp < ood_score_min:\n",
    "                            ood_score_min = ood_score_temp \n",
    "                            logits = logits_temp.clone()\n",
    "                \n",
    "        labels_test.append(batch[\"label\"].cpu())\n",
    "        logits_test.append(logits.detach().cpu())\n",
    "    labels_test = torch.cat(labels_test, dim=0)\n",
    "    logits_test = torch.stack(logits_test, dim=0)\n",
    "    preds_test = torch.argmax(logits_test, dim=1)\n",
    "    num_cols = torch.tensor(num_cols)\n",
    "\n",
    "\n",
    "\n",
    "\n",
    "    from sklearn.metrics import confusion_matrix, f1_score\n",
    "    mask = num_cols > 0\n",
    "    ts_pred_list = logits_test.argmax(\n",
    "                                1).cpu().detach().numpy().tolist()\n",
    "    ts_micro_f1 = f1_score(labels_test.reshape(-1).numpy().tolist(),\n",
    "                        ts_pred_list,\n",
    "                        average=\"micro\")\n",
    "    ts_macro_f1 = f1_score(labels_test.reshape(-1).numpy().tolist(),\n",
    "                        ts_pred_list,\n",
    "                        average=\"macro\")\n",
    "    print(\"ts_micro_f1={:.4f}, ts_macro_f1={:.4f}\".format(ts_micro_f1, ts_macro_f1))\n",
    "    ts_pred_list = logits_test.argmax(\n",
    "                                1).cpu().detach()[mask].numpy().tolist()\n",
    "    ts_micro_f1 = f1_score(labels_test.reshape(-1)[mask].numpy().tolist(),\n",
    "                        ts_pred_list,\n",
    "                        average=\"micro\")\n",
    "    ts_macro_f1 = f1_score(labels_test.reshape(-1)[mask].numpy().tolist(),\n",
    "                        ts_pred_list,\n",
    "                        average=\"macro\")\n",
    "    print(\"ts_micro_f1={:.4f}, ts_macro_f1={:.4f}\".format(ts_micro_f1, ts_macro_f1))\n",
    "    ts_pred_list = logits_test.argmax(\n",
    "                                1).cpu().detach()[~mask].numpy().tolist()\n",
    "    ts_micro_f1 = f1_score(labels_test.reshape(-1)[~mask].numpy().tolist(),\n",
    "                        ts_pred_list,\n",
    "                        average=\"micro\")\n",
    "    ts_macro_f1 = f1_score(labels_test.reshape(-1)[~mask].numpy().tolist(),\n",
    "                        ts_pred_list,\n",
    "                        average=\"macro\")\n",
    "    print(\"ts_micro_f1={:.4f}, ts_macro_f1={:.4f}\".format(ts_micro_f1, ts_macro_f1))"
   ]
  },
  {
   "cell_type": "code",
   "execution_count": 32,
   "metadata": {},
   "outputs": [],
   "source": [
    "labels_train = []\n",
    "for batch_idx, batch in enumerate(train_dataloader_iter):\n",
    "    labels_train.append(batch[\"label\"].item())"
   ]
  },
  {
   "cell_type": "code",
   "execution_count": 23,
   "metadata": {},
   "outputs": [
    {
     "name": "stdout",
     "output_type": "stream",
     "text": [
      "*********************Threshold: 1.5****************************\n"
     ]
    },
    {
     "name": "stderr",
     "output_type": "stream",
     "text": [
      "/tmp/ipykernel_3443309/4234449694.py:34: UserWarning: Implicit dimension choice for softmax has been deprecated. Change the call to include dim=X as an argument.\n",
      "  score_init[batch_idx] = F.softmax(logits.detach()).max().item()\n",
      "/tmp/ipykernel_3443309/4234449694.py:63: UserWarning: Implicit dimension choice for softmax has been deprecated. Change the call to include dim=X as an argument.\n",
      "  ood_score_temp = F.softmax(logits_temp.detach()).max().item()\n"
     ]
    }
   ],
   "source": [
    "# brute force perumate in training TODO: restrict mamimus length of permutation\n",
    "import itertools\n",
    "import torch.nn.functional as F\n",
    "\n",
    "    \n",
    "model.load_state_dict(best_state_dict, strict=False)\n",
    "model.eval()\n",
    "model = model.to(device)\n",
    "change_log = []\n",
    "score_init = []\n",
    "score_best = [] \n",
    "max_col_length = 3\n",
    "for threshold in [1.5]:\n",
    "    print(f\"*********************Threshold: {threshold}****************************\")\n",
    "    ft_embs_test = []\n",
    "    labels_test = []\n",
    "    logits_test = []\n",
    "    log = defaultdict(list)\n",
    "    num_cols = []\n",
    "    corrected = 0\n",
    "    total_mistakes = 0\n",
    "    num_permutations = {}\n",
    "    init_correctness = {}\n",
    "    score_init = {}\n",
    "    score_permutation = defaultdict(list)\n",
    "    permutation_correctness = defaultdict(list)\n",
    "    psermutation = defaultdict(list)\n",
    "    init_permutation = {}\n",
    "    labels_train = []\n",
    "    for batch_idx, batch in enumerate(train_dataloader_iter):\n",
    "        cls_indexes = torch.LongTensor([[0, batch[\"cls_indexes\"].cpu().item()]]).to(device)\n",
    "        target_col_mask = batch[\"target_col_mask\"].T\n",
    "        logits = model(batch[\"data\"].T, cls_indexes=cls_indexes,)\n",
    "        score_init[batch_idx] = F.softmax(logits.detach()).max().item()\n",
    "        label_i = batch[\"label\"].item()\n",
    "        predict_init = logits.argmax().item()\n",
    "        if predict_init == label_i:\n",
    "            init_correctness[batch_idx] = True\n",
    "        else:\n",
    "            init_correctness[batch_idx] = False\n",
    "        num_permutations[batch_idx] = 0\n",
    "        init_permutation[batch_idx] = get_permutation(target_col_mask)\n",
    "        if 1 in target_col_mask:\n",
    "            col_idx_set = target_col_mask.unique().tolist()\n",
    "            assert -1 not in col_idx_set\n",
    "            for r in range(1, min(len(col_idx_set), max_col_length) + 1):\n",
    "                for subset in itertools.combinations(col_idx_set, r):\n",
    "                    if 0 not in subset:\n",
    "                        continue\n",
    "                    for x in itertools.permutations(subset):\n",
    "                        num_permutations[batch_idx] += 1\n",
    "                        new_batch_data = []\n",
    "                        for col_i in x:\n",
    "                            if col_i == 0:\n",
    "                                if len(new_batch_data) == 0:\n",
    "                                    cls_indexes_value = 0\n",
    "                                else:\n",
    "                                    cls_indexes_value = sum([len(new_batch_data[i]) for i in range(len(new_batch_data))])\n",
    "                            new_batch_data.append(batch[\"data\"].T[target_col_mask==col_i])\n",
    "                        new_batch_data = torch.cat(new_batch_data, dim=-1).reshape(1, -1)\n",
    "                        cls_indexes = torch.tensor([0, cls_indexes_value]).reshape(1, -1).to(device)\n",
    "                        logits_temp = model(new_batch_data, cls_indexes=cls_indexes,)\n",
    "                        ood_score_temp = F.softmax(logits_temp.detach()).max().item()\n",
    "                        score_permutation[batch_idx].append(ood_score_temp)\n",
    "                        psermutation[batch_idx].append(x)\n",
    "                        predict_temp = logits_temp.argmax().item()\n",
    "                        permutation_correctness[batch_idx].append(predict_temp == label_i)"
   ]
  },
  {
   "cell_type": "code",
   "execution_count": 25,
   "metadata": {},
   "outputs": [
    {
     "data": {
      "text/plain": [
       "3463"
      ]
     },
     "execution_count": 25,
     "metadata": {},
     "output_type": "execute_result"
    }
   ],
   "source": [
    "len(num_permutations)"
   ]
  },
  {
   "cell_type": "code",
   "execution_count": 16,
   "metadata": {},
   "outputs": [
    {
     "data": {
      "text/plain": [
       "[0, 1, 2, 3, 4, 5, 6, 7, 8, 9]"
      ]
     },
     "execution_count": 16,
     "metadata": {},
     "output_type": "execute_result"
    }
   ],
   "source": [
    "list(psermutation.keys())[:10]"
   ]
  },
  {
   "cell_type": "code",
   "execution_count": 31,
   "metadata": {},
   "outputs": [
    {
     "data": {
      "text/plain": [
       "[]"
      ]
     },
     "execution_count": 31,
     "metadata": {},
     "output_type": "execute_result"
    }
   ],
   "source": [
    "labels_train"
   ]
  },
  {
   "cell_type": "code",
   "execution_count": 30,
   "metadata": {},
   "outputs": [
    {
     "ename": "IndexError",
     "evalue": "list index out of range",
     "output_type": "error",
     "traceback": [
      "\u001b[0;31m---------------------------------------------------------------------------\u001b[0m",
      "\u001b[0;31mIndexError\u001b[0m                                Traceback (most recent call last)",
      "Input \u001b[0;32mIn [30]\u001b[0m, in \u001b[0;36m<cell line: 1>\u001b[0;34m()\u001b[0m\n\u001b[0;32m----> 1\u001b[0m \u001b[43mlabels_train\u001b[49m\u001b[43m[\u001b[49m\u001b[38;5;241;43m0\u001b[39;49m\u001b[43m]\u001b[49m\n",
      "\u001b[0;31mIndexError\u001b[0m: list index out of range"
     ]
    }
   ],
   "source": [
    "labels_train[0]"
   ]
  },
  {
   "cell_type": "code",
   "execution_count": 33,
   "metadata": {},
   "outputs": [
    {
     "name": "stdout",
     "output_type": "stream",
     "text": [
      "3463 3463 3463 3463 3463\n",
      "*********************0****************************\n",
      "71 0.9998397827148438 True [0, 1, 2, 3, 4, 5] 0\n",
      "(0,) 0.9997237324714661 True\n",
      "(0, 1) 0.9998242259025574 True\n",
      "(1, 0) 0.9702703356742859 True\n",
      "(0, 2) 0.9998288154602051 True\n",
      "(2, 0) 0.9412208199501038 True\n",
      "(0, 3) 0.9998071789741516 True\n",
      "(3, 0) 0.984877347946167 True\n",
      "(0, 4) 0.999819815158844 True\n",
      "(4, 0) 0.5845035314559937 False\n",
      "(0, 5) 0.9998140931129456 True\n",
      "(5, 0) 0.8895981311798096 True\n",
      "(0, 1, 2) 0.9998341798782349 True\n",
      "(0, 2, 1) 0.9998235106468201 True\n",
      "(1, 0, 2) 0.996242880821228 True\n",
      "(1, 2, 0) 0.999014139175415 True\n",
      "(2, 0, 1) 0.9546687006950378 True\n",
      "(2, 1, 0) 0.9930658340454102 True\n",
      "(0, 1, 3) 0.9998353719711304 True\n",
      "(0, 3, 1) 0.9998235106468201 True\n",
      "(1, 0, 3) 0.9983983635902405 True\n",
      "(1, 3, 0) 0.9993031024932861 True\n",
      "(3, 0, 1) 0.988847017288208 True\n",
      "(3, 1, 0) 0.9984265565872192 True\n",
      "(0, 1, 4) 0.999829888343811 True\n",
      "(0, 4, 1) 0.9997915625572205 True\n",
      "(1, 0, 4) 0.9956591129302979 True\n",
      "(1, 4, 0) 0.9916541576385498 True\n",
      "(4, 0, 1) 0.7730263471603394 True\n",
      "(4, 1, 0) 0.43474408984184265 True\n",
      "(0, 1, 5) 0.9998421669006348 True\n",
      "(0, 5, 1) 0.999825656414032 True\n",
      "(1, 0, 5) 0.9950103759765625 True\n",
      "(1, 5, 0) 0.9886423945426941 True\n",
      "(5, 0, 1) 0.9350606799125671 True\n",
      "(5, 1, 0) 0.4219294786453247 True\n",
      "(0, 2, 3) 0.9998154044151306 True\n",
      "(0, 3, 2) 0.9998188614845276 True\n",
      "(2, 0, 3) 0.9816066026687622 True\n",
      "(2, 3, 0) 0.9807769656181335 True\n",
      "(3, 0, 2) 0.9790815114974976 True\n",
      "(3, 2, 0) 0.9661017060279846 True\n",
      "(0, 2, 4) 0.9998188614845276 True\n",
      "(0, 4, 2) 0.9998327493667603 True\n",
      "(2, 0, 4) 0.982808530330658 True\n",
      "(2, 4, 0) 0.9044498801231384 True\n",
      "(4, 0, 2) 0.8865627646446228 True\n",
      "(4, 2, 0) 0.9625558853149414 True\n",
      "(0, 2, 5) 0.9998284578323364 True\n",
      "(0, 5, 2) 0.9998310804367065 True\n",
      "(2, 0, 5) 0.9589928984642029 True\n",
      "(2, 5, 0) 0.9719514846801758 True\n",
      "(5, 0, 2) 0.7055168747901917 True\n",
      "(5, 2, 0) 0.9181158542633057 True\n",
      "(0, 3, 4) 0.9998185038566589 True\n",
      "(0, 4, 3) 0.9998258948326111 True\n",
      "(3, 0, 4) 0.974831223487854 True\n",
      "(3, 4, 0) 0.866585373878479 True\n",
      "(4, 0, 3) 0.9401450753211975 True\n",
      "(4, 3, 0) 0.9876789450645447 True\n",
      "(0, 3, 5) 0.9998226761817932 True\n",
      "(0, 5, 3) 0.9998227953910828 True\n",
      "(3, 0, 5) 0.979882001876831 True\n",
      "(3, 5, 0) 0.9667164087295532 True\n",
      "(5, 0, 3) 0.9761396050453186 True\n",
      "(5, 3, 0) 0.9877505898475647 True\n",
      "(0, 4, 5) 0.9998247027397156 True\n",
      "(0, 5, 4) 0.999818742275238 True\n",
      "(4, 0, 5) 0.45766791701316833 False\n",
      "(4, 5, 0) 0.5828155875205994 False\n",
      "(5, 0, 4) 0.7424062490463257 True\n",
      "(5, 4, 0) 0.39991095662117004 False\n",
      "*********************1****************************\n",
      "71 0.9995976090431213 True [1, 0, 2, 3, 4, 5] 1\n",
      "(0,) 0.9995796084403992 True\n",
      "(0, 1) 0.999607503414154 True\n",
      "(1, 0) 0.9995924830436707 True\n",
      "(0, 2) 0.9996205568313599 True\n",
      "(2, 0) 0.9996157884597778 True\n",
      "(0, 3) 0.9995624423027039 True\n",
      "(3, 0) 0.9996311664581299 True\n",
      "(0, 4) 0.9996205568313599 True\n",
      "(4, 0) 0.9996157884597778 True\n",
      "(0, 5) 0.9995624423027039 True\n",
      "(5, 0) 0.9996311664581299 True\n",
      "(0, 1, 2) 0.9996309280395508 True\n",
      "(0, 2, 1) 0.9996614456176758 True\n",
      "(1, 0, 2) 0.9996291399002075 True\n",
      "(1, 2, 0) 0.9996274709701538 True\n",
      "(2, 0, 1) 0.9996320009231567 True\n",
      "(2, 1, 0) 0.9996292591094971 True\n",
      "(0, 1, 3) 0.9996262788772583 True\n",
      "(0, 3, 1) 0.9996262788772583 True\n",
      "(1, 0, 3) 0.9995633959770203 True\n",
      "(1, 3, 0) 0.9995889067649841 True\n",
      "(3, 0, 1) 0.9996486902236938 True\n",
      "(3, 1, 0) 0.9996247291564941 True\n",
      "(0, 1, 4) 0.9996309280395508 True\n",
      "(0, 4, 1) 0.9996614456176758 True\n",
      "(1, 0, 4) 0.9996291399002075 True\n",
      "(1, 4, 0) 0.9996274709701538 True\n",
      "(4, 0, 1) 0.9996320009231567 True\n",
      "(4, 1, 0) 0.9996292591094971 True\n",
      "(0, 1, 5) 0.9996262788772583 True\n",
      "(0, 5, 1) 0.9996262788772583 True\n",
      "(1, 0, 5) 0.9995633959770203 True\n",
      "(1, 5, 0) 0.9995889067649841 True\n",
      "(5, 0, 1) 0.9996486902236938 True\n",
      "(5, 1, 0) 0.9996247291564941 True\n",
      "(0, 2, 3) 0.9996389150619507 True\n",
      "(0, 3, 2) 0.9996216297149658 True\n",
      "(2, 0, 3) 0.9996167421340942 True\n",
      "(2, 3, 0) 0.9996265172958374 True\n",
      "(3, 0, 2) 0.9996485710144043 True\n",
      "(3, 2, 0) 0.9996483325958252 True\n",
      "(0, 2, 4) 0.9996408224105835 True\n",
      "(0, 4, 2) 0.9996408224105835 True\n",
      "(2, 0, 4) 0.9996331930160522 True\n",
      "(2, 4, 0) 0.9996427297592163 True\n",
      "(4, 0, 2) 0.9996331930160522 True\n",
      "(4, 2, 0) 0.9996427297592163 True\n",
      "(0, 2, 5) 0.9996389150619507 True\n",
      "(0, 5, 2) 0.9996216297149658 True\n",
      "(2, 0, 5) 0.9996167421340942 True\n",
      "(2, 5, 0) 0.9996265172958374 True\n",
      "(5, 0, 2) 0.9996485710144043 True\n",
      "(5, 2, 0) 0.9996483325958252 True\n",
      "(0, 3, 4) 0.9996216297149658 True\n",
      "(0, 4, 3) 0.9996389150619507 True\n",
      "(3, 0, 4) 0.9996485710144043 True\n",
      "(3, 4, 0) 0.9996483325958252 True\n",
      "(4, 0, 3) 0.9996167421340942 True\n",
      "(4, 3, 0) 0.9996265172958374 True\n",
      "(0, 3, 5) 0.9996192455291748 True\n",
      "(0, 5, 3) 0.9996192455291748 True\n",
      "(3, 0, 5) 0.9996366500854492 True\n",
      "(3, 5, 0) 0.9996381998062134 True\n",
      "(5, 0, 3) 0.9996366500854492 True\n",
      "(5, 3, 0) 0.9996381998062134 True\n",
      "(0, 4, 5) 0.9996389150619507 True\n",
      "(0, 5, 4) 0.9996216297149658 True\n",
      "(4, 0, 5) 0.9996167421340942 True\n",
      "(4, 5, 0) 0.9996265172958374 True\n",
      "(5, 0, 4) 0.9996485710144043 True\n",
      "(5, 4, 0) 0.9996483325958252 True\n",
      "*********************2****************************\n",
      "11 0.999115526676178 True [1, 0, 2] 2\n",
      "(0,) 0.9990001320838928 True\n",
      "(0, 1) 0.9991546869277954 True\n",
      "(1, 0) 0.9991525411605835 True\n",
      "(0, 2) 0.999169111251831 True\n",
      "(2, 0) 0.9991512298583984 True\n",
      "(0, 1, 2) 0.9986909031867981 True\n",
      "(0, 2, 1) 0.9990504384040833 True\n",
      "(1, 0, 2) 0.999115526676178 True\n",
      "(1, 2, 0) 0.9991787075996399 True\n",
      "(2, 0, 1) 0.9991703033447266 True\n",
      "(2, 1, 0) 0.9990652203559875 True\n",
      "*********************3****************************\n",
      "141 0.9965730905532837 True [1, 2, 3, 4, 5, 6, 7, 0] 37\n",
      "(0,) 0.8783043026924133 True\n",
      "(0, 1) 0.9962676167488098 True\n",
      "(1, 0) 0.996213972568512 True\n",
      "(0, 2) 0.9958463311195374 True\n",
      "(2, 0) 0.9956766963005066 True\n",
      "(0, 3) 0.9942797422409058 True\n",
      "(3, 0) 0.9969159364700317 True\n",
      "(0, 4) 0.9959450364112854 True\n",
      "(4, 0) 0.9963638186454773 True\n",
      "(0, 5) 0.9938807487487793 True\n",
      "(5, 0) 0.9965530633926392 True\n",
      "(0, 6) 0.995870053768158 True\n",
      "(6, 0) 0.9953357577323914 True\n",
      "(0, 7) 0.9934316277503967 True\n",
      "(7, 0) 0.9965221881866455 True\n",
      "(0, 1, 2) 0.996537446975708 True\n",
      "(0, 2, 1) 0.9964654445648193 True\n",
      "(1, 0, 2) 0.9961976408958435 True\n",
      "(1, 2, 0) 0.9940323233604431 True\n",
      "(2, 0, 1) 0.9959536790847778 True\n",
      "(2, 1, 0) 0.9935012459754944 True\n",
      "(0, 1, 3) 0.9961628913879395 True\n",
      "(0, 3, 1) 0.9940406680107117 True\n",
      "(1, 0, 3) 0.9965044260025024 True\n",
      "(1, 3, 0) 0.9968206882476807 True\n",
      "(3, 0, 1) 0.9957990050315857 True\n",
      "(3, 1, 0) 0.9970703125 True\n",
      "(0, 1, 4) 0.9963703155517578 True\n",
      "(0, 4, 1) 0.9962474703788757 True\n",
      "(1, 0, 4) 0.9962517619132996 True\n",
      "(1, 4, 0) 0.9934840798377991 True\n",
      "(4, 0, 1) 0.9960611462593079 True\n",
      "(4, 1, 0) 0.9941433072090149 True\n",
      "(0, 1, 5) 0.9961799383163452 True\n",
      "(0, 5, 1) 0.9950270056724548 True\n",
      "(1, 0, 5) 0.9963843822479248 True\n",
      "(1, 5, 0) 0.9966009855270386 True\n",
      "(5, 0, 1) 0.9955457448959351 True\n",
      "(5, 1, 0) 0.9967902302742004 True\n",
      "(0, 1, 6) 0.9960416555404663 True\n",
      "(0, 6, 1) 0.9964069724082947 True\n",
      "(1, 0, 6) 0.9959481358528137 True\n",
      "(1, 6, 0) 0.9947100877761841 True\n",
      "(6, 0, 1) 0.9952364563941956 True\n",
      "(6, 1, 0) 0.9945263266563416 True\n",
      "(0, 1, 7) 0.9960876703262329 True\n",
      "(0, 7, 1) 0.9959264993667603 True\n",
      "(1, 0, 7) 0.9964052438735962 True\n",
      "(1, 7, 0) 0.9966174960136414 True\n",
      "(7, 0, 1) 0.9953287839889526 True\n",
      "(7, 1, 0) 0.9963642954826355 True\n",
      "(0, 2, 3) 0.9957063794136047 True\n",
      "(0, 3, 2) 0.9928176403045654 True\n",
      "(2, 0, 3) 0.9959565997123718 True\n",
      "(2, 3, 0) 0.9963860511779785 True\n",
      "(3, 0, 2) 0.9964185953140259 True\n",
      "(3, 2, 0) 0.9967249035835266 True\n",
      "(0, 2, 4) 0.9963759779930115 True\n",
      "(0, 4, 2) 0.9959905743598938 True\n",
      "(2, 0, 4) 0.9962401390075684 True\n",
      "(2, 4, 0) 0.9926126003265381 True\n",
      "(4, 0, 2) 0.9962441921234131 True\n",
      "(4, 2, 0) 0.9942172765731812 True\n",
      "(0, 2, 5) 0.9957542419433594 True\n",
      "(0, 5, 2) 0.9946209192276001 True\n",
      "(2, 0, 5) 0.9959035515785217 True\n",
      "(2, 5, 0) 0.9960556030273438 True\n",
      "(5, 0, 2) 0.9962643980979919 True\n",
      "(5, 2, 0) 0.9964802861213684 True\n",
      "(0, 2, 6) 0.9960110187530518 True\n",
      "(0, 6, 2) 0.9957907795906067 True\n",
      "(2, 0, 6) 0.9957069754600525 True\n",
      "(2, 6, 0) 0.9937170743942261 True\n",
      "(6, 0, 2) 0.9961131811141968 True\n",
      "(6, 2, 0) 0.9947192668914795 True\n",
      "(0, 2, 7) 0.995604395866394 True\n",
      "(0, 7, 2) 0.9954551458358765 True\n",
      "(2, 0, 7) 0.9961894154548645 True\n",
      "(2, 7, 0) 0.9962574243545532 True\n",
      "(7, 0, 2) 0.9962993264198303 True\n",
      "(7, 2, 0) 0.9962531328201294 True\n",
      "(0, 3, 4) 0.9956868290901184 True\n",
      "(0, 4, 3) 0.9957414865493774 True\n",
      "(3, 0, 4) 0.9960726499557495 True\n",
      "(3, 4, 0) 0.9973537921905518 True\n",
      "(4, 0, 3) 0.9965080618858337 True\n",
      "(4, 3, 0) 0.9971914887428284 True\n",
      "(0, 3, 5) 0.9938593506813049 True\n",
      "(0, 5, 3) 0.9940621256828308 True\n",
      "(3, 0, 5) 0.9968808889389038 True\n",
      "(3, 5, 0) 0.9971627593040466 True\n",
      "(5, 0, 3) 0.9969645142555237 True\n",
      "(5, 3, 0) 0.9971663355827332 True\n",
      "(0, 3, 6) 0.9950037598609924 True\n",
      "(0, 6, 3) 0.9956651329994202 True\n",
      "(3, 0, 6) 0.9958011507987976 True\n",
      "(3, 6, 0) 0.9971976280212402 True\n",
      "(6, 0, 3) 0.9955266118049622 True\n",
      "(6, 3, 0) 0.9969692826271057 True\n",
      "(0, 3, 7) 0.9930353760719299 True\n",
      "(0, 7, 3) 0.9930881857872009 True\n",
      "(3, 0, 7) 0.9967558979988098 True\n",
      "(3, 7, 0) 0.997177243232727 True\n",
      "(7, 0, 3) 0.9968282580375671 True\n",
      "(7, 3, 0) 0.9971911311149597 True\n",
      "(0, 4, 5) 0.9957705140113831 True\n",
      "(0, 5, 4) 0.9956939220428467 True\n",
      "(4, 0, 5) 0.9964156150817871 True\n",
      "(4, 5, 0) 0.9970081448554993 True\n",
      "(5, 0, 4) 0.9957177042961121 True\n",
      "(5, 4, 0) 0.9971240162849426 True\n",
      "(0, 4, 6) 0.9949910044670105 True\n",
      "(0, 6, 4) 0.9957636594772339 True\n",
      "(4, 0, 6) 0.9959908127784729 True\n",
      "(4, 6, 0) 0.994806706905365 True\n",
      "(6, 0, 4) 0.9957256317138672 True\n",
      "(6, 4, 0) 0.9938191771507263 True\n",
      "(0, 4, 7) 0.9955897331237793 True\n",
      "(0, 7, 4) 0.9959463477134705 True\n",
      "(4, 0, 7) 0.9965401887893677 True\n",
      "(4, 7, 0) 0.9969789981842041 True\n",
      "(7, 0, 4) 0.9953822493553162 True\n",
      "(7, 4, 0) 0.9967605471611023 True\n",
      "(0, 5, 6) 0.9949108958244324 True\n",
      "(0, 6, 5) 0.9956323504447937 True\n",
      "(5, 0, 6) 0.9954758286476135 True\n",
      "(5, 6, 0) 0.9969594478607178 True\n",
      "(6, 0, 5) 0.995487630367279 True\n",
      "(6, 5, 0) 0.9967207312583923 True\n",
      "(0, 5, 7) 0.993723452091217 True\n",
      "(0, 7, 5) 0.9935625791549683 True\n",
      "(5, 0, 7) 0.9966340661048889 True\n",
      "(5, 7, 0) 0.9972103238105774 True\n",
      "(7, 0, 5) 0.9967631101608276 True\n",
      "(7, 5, 0) 0.9970636963844299 True\n",
      "(0, 6, 7) 0.9951440095901489 True\n",
      "(0, 7, 6) 0.9953051805496216 True\n",
      "(6, 0, 7) 0.9957578778266907 True\n",
      "(6, 7, 0) 0.996708869934082 True\n",
      "(7, 0, 6) 0.9955939650535583 True\n",
      "(7, 6, 0) 0.9966914653778076 True\n",
      "*********************4****************************\n",
      "141 0.9998373985290527 True [0, 1, 2, 3, 4, 5, 6, 7] 0\n",
      "(0,) 0.9998276233673096 True\n",
      "(0, 1) 0.9998138546943665 True\n",
      "(1, 0) 0.6749160885810852 False\n",
      "(0, 2) 0.9997875094413757 True\n",
      "(2, 0) 0.8720201253890991 False\n",
      "(0, 3) 0.9998186230659485 True\n",
      "(3, 0) 0.5874903798103333 False\n",
      "(0, 4) 0.9998310804367065 True\n",
      "(4, 0) 0.3432604670524597 False\n",
      "(0, 5) 0.9998258948326111 True\n",
      "(5, 0) 0.9643958210945129 True\n",
      "(0, 6) 0.9998257756233215 True\n",
      "(6, 0) 0.9083430767059326 True\n",
      "(0, 7) 0.9998181462287903 True\n",
      "(7, 0) 0.8475141525268555 True\n",
      "(0, 1, 2) 0.9998249411582947 True\n",
      "(0, 2, 1) 0.9998034834861755 True\n",
      "(1, 0, 2) 0.6610904932022095 False\n",
      "(1, 2, 0) 0.5933452248573303 False\n",
      "(2, 0, 1) 0.8850757479667664 False\n",
      "(2, 1, 0) 0.5647342205047607 False\n",
      "(0, 1, 3) 0.9997850060462952 True\n",
      "(0, 3, 1) 0.9997822642326355 True\n",
      "(1, 0, 3) 0.4574330151081085 False\n",
      "(1, 3, 0) 0.945818305015564 False\n",
      "(3, 0, 1) 0.6702881455421448 False\n",
      "(3, 1, 0) 0.9317076206207275 False\n",
      "(0, 1, 4) 0.9997915625572205 True\n",
      "(0, 4, 1) 0.9998118281364441 True\n",
      "(1, 0, 4) 0.4880549907684326 False\n",
      "(1, 4, 0) 0.6388867497444153 False\n",
      "(4, 0, 1) 0.23196469247341156 False\n",
      "(4, 1, 0) 0.5409144163131714 False\n",
      "(0, 1, 5) 0.9998260140419006 True\n",
      "(0, 5, 1) 0.9997593760490417 True\n",
      "(1, 0, 5) 0.9483014345169067 True\n",
      "(1, 5, 0) 0.306999146938324 False\n",
      "(5, 0, 1) 0.9853091835975647 True\n",
      "(5, 1, 0) 0.4702928960323334 False\n",
      "(0, 1, 6) 0.9998113512992859 True\n",
      "(0, 6, 1) 0.9997640252113342 True\n",
      "(1, 0, 6) 0.3403511941432953 False\n",
      "(1, 6, 0) 0.24374066293239594 True\n",
      "(6, 0, 1) 0.46406319737434387 False\n",
      "(6, 1, 0) 0.8717827200889587 True\n",
      "(0, 1, 7) 0.9998325109481812 True\n",
      "(0, 7, 1) 0.9998113512992859 True\n",
      "(1, 0, 7) 0.9859912991523743 True\n",
      "(1, 7, 0) 0.3086928725242615 True\n",
      "(7, 0, 1) 0.9817760586738586 True\n",
      "(7, 1, 0) 0.5267090797424316 True\n",
      "(0, 2, 3) 0.9998244643211365 True\n",
      "(0, 3, 2) 0.9998268485069275 True\n",
      "(2, 0, 3) 0.8463485240936279 False\n",
      "(2, 3, 0) 0.8051192164421082 False\n",
      "(3, 0, 2) 0.5427772998809814 False\n",
      "(3, 2, 0) 0.4770560562610626 False\n",
      "(0, 2, 4) 0.9998137354850769 True\n",
      "(0, 4, 2) 0.9998289346694946 True\n",
      "(2, 0, 4) 0.8624407649040222 False\n",
      "(2, 4, 0) 0.6016891598701477 False\n",
      "(4, 0, 2) 0.5273782014846802 False\n",
      "(4, 2, 0) 0.4935246407985687 False\n",
      "(0, 2, 5) 0.9998301267623901 True\n",
      "(0, 5, 2) 0.999811589717865 True\n",
      "(2, 0, 5) 0.5840709209442139 False\n",
      "(2, 5, 0) 0.20223639905452728 False\n",
      "(5, 0, 2) 0.7687281966209412 True\n",
      "(5, 2, 0) 0.6667605042457581 True\n",
      "(0, 2, 6) 0.999805748462677 True\n",
      "(0, 6, 2) 0.9998238682746887 True\n",
      "(2, 0, 6) 0.5414385199546814 False\n",
      "(2, 6, 0) 0.5746749043464661 True\n",
      "(6, 0, 2) 0.95427405834198 False\n",
      "(6, 2, 0) 0.5750458836555481 True\n",
      "(0, 2, 7) 0.9998379945755005 True\n",
      "(0, 7, 2) 0.99982750415802 True\n",
      "(2, 0, 7) 0.5320137143135071 False\n",
      "(2, 7, 0) 0.3103666305541992 True\n",
      "(7, 0, 2) 0.9438530206680298 True\n",
      "(7, 2, 0) 0.40324124693870544 True\n",
      "(0, 3, 4) 0.9998028874397278 True\n",
      "(0, 4, 3) 0.9998210072517395 True\n",
      "(3, 0, 4) 0.638891339302063 False\n",
      "(3, 4, 0) 0.7383096218109131 False\n",
      "(4, 0, 3) 0.27652812004089355 False\n",
      "(4, 3, 0) 0.7300724983215332 False\n",
      "(0, 3, 5) 0.9998294115066528 True\n",
      "(0, 5, 3) 0.9997918009757996 True\n",
      "(3, 0, 5) 0.9407896995544434 True\n",
      "(3, 5, 0) 0.3305658996105194 False\n",
      "(5, 0, 3) 0.9876886010169983 True\n",
      "(5, 3, 0) 0.5568342804908752 True\n",
      "(0, 3, 6) 0.9998109936714172 True\n",
      "(0, 6, 3) 0.9997826218605042 True\n",
      "(3, 0, 6) 0.3825732171535492 False\n",
      "(3, 6, 0) 0.2341015785932541 True\n",
      "(6, 0, 3) 0.5208210945129395 True\n",
      "(6, 3, 0) 0.8928424119949341 True\n",
      "(0, 3, 7) 0.9998339414596558 True\n",
      "(0, 7, 3) 0.9998164772987366 True\n",
      "(3, 0, 7) 0.9834367036819458 True\n",
      "(3, 7, 0) 0.2753095030784607 True\n",
      "(7, 0, 3) 0.9882877469062805 True\n",
      "(7, 3, 0) 0.4196596145629883 False\n",
      "(0, 4, 5) 0.9998339414596558 True\n",
      "(0, 5, 4) 0.9997977614402771 True\n",
      "(4, 0, 5) 0.9795774817466736 True\n",
      "(4, 5, 0) 0.24579760432243347 False\n",
      "(5, 0, 4) 0.984291672706604 True\n",
      "(5, 4, 0) 0.5401611924171448 True\n",
      "(0, 4, 6) 0.9998138546943665 True\n",
      "(0, 6, 4) 0.9997698664665222 True\n",
      "(4, 0, 6) 0.49707382917404175 False\n",
      "(4, 6, 0) 0.3915046453475952 True\n",
      "(6, 0, 4) 0.7489126920700073 True\n",
      "(6, 4, 0) 0.9439861178398132 True\n",
      "(0, 4, 7) 0.9998242259025574 True\n",
      "(0, 7, 4) 0.9998080134391785 True\n",
      "(4, 0, 7) 0.9912932515144348 True\n",
      "(4, 7, 0) 0.501184344291687 True\n",
      "(7, 0, 4) 0.9831762313842773 True\n",
      "(7, 4, 0) 0.6318982243537903 True\n",
      "(0, 5, 6) 0.9998289346694946 True\n",
      "(0, 6, 5) 0.9998325109481812 True\n",
      "(5, 0, 6) 0.9278327226638794 True\n",
      "(5, 6, 0) 0.971195638179779 True\n",
      "(6, 0, 5) 0.9450568556785583 True\n",
      "(6, 5, 0) 0.8791206479072571 True\n",
      "(0, 5, 7) 0.9998266100883484 True\n",
      "(0, 7, 5) 0.9998326301574707 True\n",
      "(5, 0, 7) 0.9906094670295715 True\n",
      "(5, 7, 0) 0.9184000492095947 True\n",
      "(7, 0, 5) 0.9752192497253418 True\n",
      "(7, 5, 0) 0.3325393795967102 True\n",
      "(0, 6, 7) 0.9998171925544739 True\n",
      "(0, 7, 6) 0.9998019337654114 True\n",
      "(6, 0, 7) 0.9798610210418701 True\n",
      "(6, 7, 0) 0.9724188446998596 True\n",
      "(7, 0, 6) 0.8438673615455627 True\n",
      "(7, 6, 0) 0.9537043571472168 True\n"
     ]
    }
   ],
   "source": [
    "print(len(num_permutations), len(score_init), len(init_correctness), len(init_permutation), len(labels_train))\n",
    "for i in range(5):\n",
    "    print(f\"*********************{i}****************************\")\n",
    "    print(num_permutations[i],  score_init[i], init_correctness[i], init_permutation[i], labels_train[i])\n",
    "    for j in range(num_permutations[i]):\n",
    "        print(psermutation[i][j], score_permutation[i][j], permutation_correctness[i][j], )\n"
   ]
  },
  {
   "cell_type": "code",
   "execution_count": null,
   "metadata": {},
   "outputs": [],
   "source": []
  },
  {
   "cell_type": "code",
   "execution_count": 15,
   "metadata": {},
   "outputs": [
    {
     "data": {
      "text/plain": [
       "3463"
      ]
     },
     "execution_count": 15,
     "metadata": {},
     "output_type": "execute_result"
    }
   ],
   "source": [
    "len(psermutation)"
   ]
  },
  {
   "cell_type": "code",
   "execution_count": 13,
   "metadata": {},
   "outputs": [
    {
     "data": {
      "text/plain": [
       "3463"
      ]
     },
     "execution_count": 13,
     "metadata": {},
     "output_type": "execute_result"
    }
   ],
   "source": [
    "len(init_permutation)"
   ]
  },
  {
   "cell_type": "code",
   "execution_count": 203,
   "metadata": {},
   "outputs": [
    {
     "data": {
      "text/plain": [
       "484"
      ]
     },
     "execution_count": 203,
     "metadata": {},
     "output_type": "execute_result"
    }
   ],
   "source": [
    "len(idx_list[(~(init_target_mask&(~uncertain_init_mask & ~uncertain_target_mask)))])"
   ]
  },
  {
   "cell_type": "code",
   "execution_count": 250,
   "metadata": {},
   "outputs": [
    {
     "name": "stdout",
     "output_type": "stream",
     "text": [
      "*********************alpha: 0.25****************************\n",
      "165\n",
      "*********************alpha: 0.5****************************\n",
      "166\n",
      "*********************alpha: 1.0****************************\n",
      "169\n"
     ]
    }
   ],
   "source": [
    "for alpha in [0.25, 0.5, 1.0]:\n",
    "    class_weights = (1.0 / class_freq) ** alpha\n",
    "\n",
    "    # Normalize the weights\n",
    "    class_weights /= class_weights.sum()\n",
    "    \n",
    "    \n",
    "    print(f\"*********************alpha: {alpha}****************************\")\n",
    "    msp_predict_mask_weighted = []\n",
    "    for batch_idx, batch in enumerate(test_dataloader_iter):\n",
    "        if batch_idx in idx_list[(~(init_target_mask&(~uncertain_init_mask & ~uncertain_target_mask)))]:\n",
    "            target_col_mask = batch[\"target_col_mask\"].T\n",
    "            col_idx_set = target_col_mask.unique().tolist()\n",
    "            assert -1 not in col_idx_set\n",
    "            max_msp = 0\n",
    "            for r in range(1, len(col_idx_set) + 1):\n",
    "                for subset in itertools.combinations(col_idx_set, r):\n",
    "                    if 0 not in subset:\n",
    "                        continue\n",
    "                    for x in itertools.permutations(subset):\n",
    "                        new_batch_data = []\n",
    "                        for col_i in x:\n",
    "                            if col_i == 0:\n",
    "                                if len(new_batch_data) == 0:\n",
    "                                    cls_indexes_value = 0\n",
    "                                else:\n",
    "                                    cls_indexes_value = sum([len(new_batch_data[i]) for i in range(len(new_batch_data))])\n",
    "                            new_batch_data.append(batch[\"data\"].T[target_col_mask==col_i])\n",
    "                        new_batch_data = torch.cat(new_batch_data, dim=-1).reshape(1, -1)\n",
    "                        cls_indexes = torch.tensor([0, cls_indexes_value]).reshape(1, -1).to(device)\n",
    "                        logits_temp = model(new_batch_data, cls_indexes=cls_indexes,)\n",
    "                        logits_temp = reweight_logits(logits_temp.detach().cpu(), class_weights)\n",
    "                        msp_temp = logits_temp.max().item()\n",
    "                        predict_temp = logits_temp.argmax().item()\n",
    "                        # print(x, msp_temp, predict_temp)\n",
    "                        if msp_temp > max_msp and 0 in x:\n",
    "                            max_msp = msp_temp\n",
    "                            best_msp_perm = x\n",
    "                            msp_predict = predict_temp\n",
    "                            logits = logits_temp.clone()\n",
    "            msp_predict_mask_weighted.append(msp_predict==batch[\"label\"].item())\n",
    "    print(sum(msp_predict_mask_weighted))\n",
    "                    "
   ]
  },
  {
   "cell_type": "code",
   "execution_count": 218,
   "metadata": {},
   "outputs": [
    {
     "data": {
      "text/plain": [
       "168"
      ]
     },
     "execution_count": 218,
     "metadata": {},
     "output_type": "execute_result"
    }
   ],
   "source": [
    "len(idx_list[(~(init_target_mask&(~uncertain_init_mask & ~uncertain_target_mask)))& correct_msp_mask])"
   ]
  },
  {
   "cell_type": "code",
   "execution_count": 219,
   "metadata": {},
   "outputs": [],
   "source": [
    "rest_idx = []\n",
    "for idx in idx_list[(~(init_target_mask&(~uncertain_init_mask & ~uncertain_target_mask)))& correct_msp_mask]:\n",
    "    if idx not in idx_list[(~(init_target_mask&(~uncertain_init_mask & ~uncertain_target_mask)))][msp_predict_mask_weighted]:\n",
    "        rest_idx.append(idx)"
   ]
  },
  {
   "cell_type": "code",
   "execution_count": 220,
   "metadata": {},
   "outputs": [
    {
     "data": {
      "text/plain": [
       "17"
      ]
     },
     "execution_count": 220,
     "metadata": {},
     "output_type": "execute_result"
    }
   ],
   "source": [
    "len(rest_idx)"
   ]
  },
  {
   "cell_type": "code",
   "execution_count": 217,
   "metadata": {},
   "outputs": [
    {
     "data": {
      "text/plain": [
       "169"
      ]
     },
     "execution_count": 217,
     "metadata": {},
     "output_type": "execute_result"
    }
   ],
   "source": [
    "len(idx_list[(~(init_target_mask&(~uncertain_init_mask & ~uncertain_target_mask)))][msp_predict_mask_weighted])"
   ]
  },
  {
   "cell_type": "code",
   "execution_count": 212,
   "metadata": {},
   "outputs": [],
   "source": [
    "msp_predict_mask_weighted = torch.tensor(msp_predict_mask_weighted)"
   ]
  },
  {
   "cell_type": "code",
   "execution_count": null,
   "metadata": {},
   "outputs": [],
   "source": []
  },
  {
   "cell_type": "code",
   "execution_count": 211,
   "metadata": {},
   "outputs": [
    {
     "data": {
      "text/plain": [
       "169"
      ]
     },
     "execution_count": 211,
     "metadata": {},
     "output_type": "execute_result"
    }
   ],
   "source": [
    "sum(msp_predict_mask_weighted)"
   ]
  },
  {
   "cell_type": "code",
   "execution_count": 411,
   "metadata": {},
   "outputs": [
    {
     "data": {
      "text/plain": [
       "428"
      ]
     },
     "execution_count": 411,
     "metadata": {},
     "output_type": "execute_result"
    }
   ],
   "source": [
    "len(idx_list[~condition_mask])"
   ]
  },
  {
   "cell_type": "code",
   "execution_count": 417,
   "metadata": {},
   "outputs": [
    {
     "data": {
      "text/plain": [
       "0.9"
      ]
     },
     "execution_count": 417,
     "metadata": {},
     "output_type": "execute_result"
    }
   ],
   "source": [
    "threshold"
   ]
  },
  {
   "cell_type": "code",
   "execution_count": 419,
   "metadata": {},
   "outputs": [
    {
     "name": "stdout",
     "output_type": "stream",
     "text": [
      "*********************debias: 0.9; msp: 0.8****************************\n",
      "ts_micro_f1=0.4525, ts_macro_f1=0.1804\n",
      "ts_micro_f1=0.4263, ts_macro_f1=0.1747\n",
      "ts_micro_f1=0.4823, ts_macro_f1=0.1573\n",
      "*********************debias: 0.9; msp: 0.95****************************\n",
      "ts_micro_f1=0.4571, ts_macro_f1=0.1903\n",
      "ts_micro_f1=0.4350, ts_macro_f1=0.1862\n",
      "ts_micro_f1=0.4823, ts_macro_f1=0.1573\n",
      "*********************debias: 0.9; msp: 0.99****************************\n",
      "ts_micro_f1=0.4525, ts_macro_f1=0.1865\n",
      "ts_micro_f1=0.4263, ts_macro_f1=0.1784\n",
      "ts_micro_f1=0.4823, ts_macro_f1=0.1573\n"
     ]
    }
   ],
   "source": [
    "\n",
    "# brute force perumate\n",
    "import itertools\n",
    "\n",
    "\n",
    "    \n",
    "model.load_state_dict(best_state_dict, strict=False)\n",
    "model.eval()\n",
    "model = model.to(device)\n",
    "change_log = []\n",
    "score_init = []\n",
    "score_best = [] \n",
    "alpha = 0.5\n",
    "class_weights = (1.0 / class_freq) ** alpha\n",
    "msp_threshold = 0.9\n",
    "# Normalize the weights\n",
    "class_weights /= class_weights.sum()\n",
    "for msp_threshold in [0.8,  0.95, 0.99]:\n",
    "    for debias_threshold in [0.9]:\n",
    "        print(f\"*********************debias: {debias_threshold}; msp: {msp_threshold}****************************\")\n",
    "        ft_embs_test = []\n",
    "        labels_test = []\n",
    "        logits_test = []\n",
    "        log = defaultdict(list)\n",
    "        num_cols = []\n",
    "        corrected = 0\n",
    "        total_mistakes = 0\n",
    "\n",
    "        for batch_idx, batch in enumerate(test_dataloader_iter):\n",
    "            cls_indexes = torch.LongTensor([[0, batch[\"cls_indexes\"].cpu().item()]]).to(device)\n",
    "            target_col_mask = batch[\"target_col_mask\"].T\n",
    "            logits = model(batch[\"data\"].T, cls_indexes=cls_indexes,)\n",
    "            num_cols.append(batch[\"target_col_mask\"].max().item())\n",
    "            predict_init = logits.argmax().item()\n",
    "            max_msp = 0\n",
    "            if batch_idx in idx_list[~condition_mask]:\n",
    "                col_idx_set = target_col_mask.unique().tolist()\n",
    "                debias_classes = []\n",
    "                assert -1 not in col_idx_set\n",
    "                for r in range(1, len(col_idx_set) + 1):\n",
    "                    for subset in itertools.combinations(col_idx_set, r):\n",
    "                        # if 0 not in subset:\n",
    "                        #     continue\n",
    "                        for x in itertools.permutations(subset):\n",
    "                            new_batch_data = []\n",
    "                            for col_i in x:\n",
    "                                if col_i == 0:\n",
    "                                    if len(new_batch_data) == 0:\n",
    "                                        cls_indexes_value = 0\n",
    "                                    else:\n",
    "                                        cls_indexes_value = sum([len(new_batch_data[i]) for i in range(len(new_batch_data))])\n",
    "                                new_batch_data.append(batch[\"data\"].T[target_col_mask==col_i])\n",
    "                            if 0 not in x:\n",
    "                                cls_indexes_value = 0\n",
    "                            new_batch_data = torch.cat(new_batch_data, dim=-1).reshape(1, -1)\n",
    "                            cls_indexes = torch.tensor([0, cls_indexes_value]).reshape(1, -1).to(device)\n",
    "                            logits_temp = model(new_batch_data, cls_indexes=cls_indexes,)\n",
    "                            logits_temp = reweight_logits(logits_temp.detach().cpu(), class_weights)\n",
    "                            msp_temp = logits_temp.max().item()\n",
    "                            predict_temp = logits_temp.argmax().item()\n",
    "                            if len(x) == 1 and 0 in x:\n",
    "                                predict_target = predict_temp\n",
    "                                msp_target = msp_temp\n",
    "                            # print(x, msp_temp, predict_temp)\n",
    "                            if 0 not in x and msp_temp > debias_threshold and (predict_temp != predict_target):\n",
    "                                debias_classes.append(predict_temp)\n",
    "                                continue\n",
    "                            if msp_temp > max_msp and 0 in x and predict_temp not in debias_classes:\n",
    "                                max_msp = msp_temp\n",
    "                                best_msp_perm = x\n",
    "                                msp_predict = predict_temp\n",
    "                                logits_msp = logits_temp.clone()\n",
    "            if max_msp > msp_threshold:\n",
    "                logits = logits_msp.clone()\n",
    "            labels_test.append(batch[\"label\"].cpu())\n",
    "            logits_test.append(logits.detach().cpu())\n",
    "        labels_test = torch.cat(labels_test, dim=0)\n",
    "        logits_test = torch.stack(logits_test, dim=0)\n",
    "        preds_test = torch.argmax(logits_test, dim=1)\n",
    "        num_cols = torch.tensor(num_cols)\n",
    "\n",
    "\n",
    "\n",
    "\n",
    "        from sklearn.metrics import confusion_matrix, f1_score\n",
    "        mask = num_cols > 0\n",
    "        ts_pred_list = logits_test.argmax(\n",
    "                                    1).cpu().detach().numpy().tolist()\n",
    "        ts_micro_f1 = f1_score(labels_test.reshape(-1).numpy().tolist(),\n",
    "                            ts_pred_list,\n",
    "                            average=\"micro\")\n",
    "        ts_macro_f1 = f1_score(labels_test.reshape(-1).numpy().tolist(),\n",
    "                            ts_pred_list,\n",
    "                            average=\"macro\")\n",
    "        print(\"ts_micro_f1={:.4f}, ts_macro_f1={:.4f}\".format(ts_micro_f1, ts_macro_f1))\n",
    "        ts_pred_list = logits_test.argmax(\n",
    "                                    1).cpu().detach()[mask].numpy().tolist()\n",
    "        ts_micro_f1 = f1_score(labels_test.reshape(-1)[mask].numpy().tolist(),\n",
    "                            ts_pred_list,\n",
    "                            average=\"micro\")\n",
    "        ts_macro_f1 = f1_score(labels_test.reshape(-1)[mask].numpy().tolist(),\n",
    "                            ts_pred_list,\n",
    "                            average=\"macro\")\n",
    "        print(\"ts_micro_f1={:.4f}, ts_macro_f1={:.4f}\".format(ts_micro_f1, ts_macro_f1))\n",
    "        ts_pred_list = logits_test.argmax(\n",
    "                                    1).cpu().detach()[~mask].numpy().tolist()\n",
    "        ts_micro_f1 = f1_score(labels_test.reshape(-1)[~mask].numpy().tolist(),\n",
    "                            ts_pred_list,\n",
    "                            average=\"micro\")\n",
    "        ts_macro_f1 = f1_score(labels_test.reshape(-1)[~mask].numpy().tolist(),\n",
    "                            ts_pred_list,\n",
    "                            average=\"macro\")\n",
    "        print(\"ts_micro_f1={:.4f}, ts_macro_f1={:.4f}\".format(ts_micro_f1, ts_macro_f1))"
   ]
  },
  {
   "cell_type": "code",
   "execution_count": 20,
   "metadata": {},
   "outputs": [
    {
     "name": "stdout",
     "output_type": "stream",
     "text": [
      "*********************uncertain: 0.7; debias: 0.7; msp: 0.7****************************\n"
     ]
    }
   ],
   "source": [
    "\n",
    "# brute force perumate\n",
    "import itertools\n",
    "\n",
    "\n",
    "    \n",
    "model.load_state_dict(best_state_dict, strict=False)\n",
    "model.eval()\n",
    "model = model.to(device)\n",
    "change_log = []\n",
    "score_init = []\n",
    "score_best = [] \n",
    "alpha = 0.25\n",
    "class_weights = (1.0 / class_freq) ** alpha\n",
    "msp_threshold = 0.9\n",
    "# Normalize the weights\n",
    "class_weights /= class_weights.sum()\n",
    "for global_threshold in [ 0.7, 0.8, 0.9, 0.99]:\n",
    "    for uncertainty_threshold in [global_threshold]:\n",
    "        for msp_threshold in [global_threshold]:\n",
    "            for debias_threshold in [global_threshold]:\n",
    "                print(f\"*********************uncertain: {uncertainty_threshold}; debias: {debias_threshold}; msp: {msp_threshold}****************************\")\n",
    "                ft_embs_test = []\n",
    "                labels_test = []\n",
    "                logits_test = []\n",
    "                log = defaultdict(list)\n",
    "                num_cols = []\n",
    "                corrected = 0\n",
    "                total_mistakes = 0\n",
    "\n",
    "                for batch_idx, batch in enumerate(test_dataloader_iter):\n",
    "                    cls_indexes = torch.LongTensor([[0, batch[\"cls_indexes\"].cpu().item()]]).to(device)\n",
    "                    target_col_mask = batch[\"target_col_mask\"].T\n",
    "                    logits = model(batch[\"data\"].T, cls_indexes=cls_indexes,)\n",
    "                    logits = reweight_logits(logits.detach().cpu(), class_weights) # Here !!!!!!!!!!\n",
    "                    msp_init = logits.max().item()\n",
    "                    num_cols.append(batch[\"target_col_mask\"].max().item())\n",
    "                    predict_init = logits.argmax().item()\n",
    "                    max_msp = 0\n",
    "                    if 1 in target_col_mask and msp_init < uncertainty_threshold:\n",
    "                        col_idx_set = target_col_mask.unique().tolist()\n",
    "                        debias_classes = []\n",
    "                        assert -1 not in col_idx_set\n",
    "                        for r in range(1, len(col_idx_set) + 1):\n",
    "                            for subset in itertools.combinations(col_idx_set, r):\n",
    "                                # if 0 not in subset:\n",
    "                                #     continue\n",
    "                                for x in itertools.permutations(subset):\n",
    "                                    new_batch_data = []\n",
    "                                    for col_i in x:\n",
    "                                        if col_i == 0:\n",
    "                                            if len(new_batch_data) == 0:\n",
    "                                                cls_indexes_value = 0\n",
    "                                            else:\n",
    "                                                cls_indexes_value = sum([len(new_batch_data[i]) for i in range(len(new_batch_data))])\n",
    "                                        new_batch_data.append(batch[\"data\"].T[target_col_mask==col_i])\n",
    "                                    if 0 not in x:\n",
    "                                        cls_indexes_value = 0\n",
    "                                    new_batch_data = torch.cat(new_batch_data, dim=-1).reshape(1, -1)\n",
    "                                    cls_indexes = torch.tensor([0, cls_indexes_value]).reshape(1, -1).to(device)\n",
    "                                    logits_temp = model(new_batch_data, cls_indexes=cls_indexes,)\n",
    "                                    logits_temp = reweight_logits(logits_temp.detach().cpu(), class_weights)\n",
    "                                    msp_temp = logits_temp.max().item()\n",
    "                                    predict_temp = logits_temp.argmax().item()\n",
    "                                    if len(x) == 1 and 0 in x:\n",
    "                                        predict_target = predict_temp\n",
    "                                        msp_target = msp_temp\n",
    "                                    # print(x, msp_temp, predict_temp)\n",
    "                                    if 0 not in x and msp_temp > debias_threshold and (predict_temp != predict_target):\n",
    "                                        debias_classes.append(predict_temp)\n",
    "                                        continue\n",
    "                                    if msp_temp > max_msp and 0 in x and predict_temp not in debias_classes:\n",
    "                                        max_msp = msp_temp\n",
    "                                        best_msp_perm = x\n",
    "                                        msp_predict = predict_temp\n",
    "                                        logits_msp = logits_temp.clone()\n",
    "                    if max_msp > msp_threshold:\n",
    "                        logits = logits_msp.clone()\n",
    "                    labels_test.append(batch[\"label\"].cpu())\n",
    "                    logits_test.append(logits.detach().cpu())\n",
    "                labels_test = torch.cat(labels_test, dim=0)\n",
    "                logits_test = torch.stack(logits_test, dim=0)\n",
    "                preds_test = torch.argmax(logits_test, dim=1)\n",
    "                num_cols = torch.tensor(num_cols)\n",
    "\n",
    "\n",
    "\n",
    "\n",
    "                from sklearn.metrics import confusion_matrix, f1_score\n",
    "                mask = num_cols > 0\n",
    "                ts_pred_list = logits_test.argmax(\n",
    "                                            1).cpu().detach().numpy().tolist()\n",
    "                ts_micro_f1 = f1_score(labels_test.reshape(-1).numpy().tolist(),\n",
    "                                    ts_pred_list,\n",
    "                                    average=\"micro\")\n",
    "                ts_macro_f1 = f1_score(labels_test.reshape(-1).numpy().tolist(),\n",
    "                                    ts_pred_list,\n",
    "                                    average=\"macro\")\n",
    "                print(\"ts_micro_f1={:.4f}, ts_macro_f1={:.4f}\".format(ts_micro_f1, ts_macro_f1))\n",
    "                ts_pred_list = logits_test.argmax(\n",
    "                                            1).cpu().detach()[mask].numpy().tolist()\n",
    "                ts_micro_f1 = f1_score(labels_test.reshape(-1)[mask].numpy().tolist(),\n",
    "                                    ts_pred_list,\n",
    "                                    average=\"micro\")\n",
    "                ts_macro_f1 = f1_score(labels_test.reshape(-1)[mask].numpy().tolist(),\n",
    "                                    ts_pred_list,\n",
    "                                    average=\"macro\")\n",
    "                print(\"ts_micro_f1={:.4f}, ts_macro_f1={:.4f}\".format(ts_micro_f1, ts_macro_f1))\n",
    "                ts_pred_list = logits_test.argmax(\n",
    "                                            1).cpu().detach()[~mask].numpy().tolist()\n",
    "                ts_micro_f1 = f1_score(labels_test.reshape(-1)[~mask].numpy().tolist(),\n",
    "                                    ts_pred_list,\n",
    "                                    average=\"micro\")\n",
    "                ts_macro_f1 = f1_score(labels_test.reshape(-1)[~mask].numpy().tolist(),\n",
    "                                    ts_pred_list,\n",
    "                                    average=\"macro\")\n",
    "                print(\"ts_micro_f1={:.4f}, ts_macro_f1={:.4f}\".format(ts_micro_f1, ts_macro_f1))"
   ]
  },
  {
   "cell_type": "code",
   "execution_count": null,
   "metadata": {},
   "outputs": [],
   "source": []
  },
  {
   "cell_type": "code",
   "execution_count": 423,
   "metadata": {},
   "outputs": [
    {
     "name": "stdout",
     "output_type": "stream",
     "text": [
      "*********************uncertain: 0.9; debias: 1.0; msp: 0.95****************************\n"
     ]
    },
    {
     "name": "stderr",
     "output_type": "stream",
     "text": [
      "/tmp/ipykernel_955267/2474143246.py:33: UserWarning: Implicit dimension choice for softmax has been deprecated. Change the call to include dim=X as an argument.\n",
      "  msp_init = F.softmax(logits).max().item()\n",
      "/tmp/ipykernel_955267/2474143246.py:61: UserWarning: Implicit dimension choice for softmax has been deprecated. Change the call to include dim=X as an argument.\n",
      "  logits_temp = F.softmax(logits_temp)\n"
     ]
    },
    {
     "name": "stdout",
     "output_type": "stream",
     "text": [
      "ts_micro_f1=0.4525, ts_macro_f1=0.1810\n",
      "ts_micro_f1=0.4263, ts_macro_f1=0.1742\n",
      "ts_micro_f1=0.4823, ts_macro_f1=0.1573\n",
      "*********************uncertain: 0.9; debias: 1.0; msp: 0.9****************************\n"
     ]
    },
    {
     "name": "stderr",
     "output_type": "stream",
     "text": [
      "/tmp/ipykernel_955267/2474143246.py:33: UserWarning: Implicit dimension choice for softmax has been deprecated. Change the call to include dim=X as an argument.\n",
      "  msp_init = F.softmax(logits).max().item()\n",
      "/tmp/ipykernel_955267/2474143246.py:61: UserWarning: Implicit dimension choice for softmax has been deprecated. Change the call to include dim=X as an argument.\n",
      "  logits_temp = F.softmax(logits_temp)\n"
     ]
    },
    {
     "name": "stdout",
     "output_type": "stream",
     "text": [
      "ts_micro_f1=0.4535, ts_macro_f1=0.1840\n",
      "ts_micro_f1=0.4281, ts_macro_f1=0.1790\n",
      "ts_micro_f1=0.4823, ts_macro_f1=0.1573\n",
      "*********************uncertain: 0.9; debias: 1.0; msp: 0.99****************************\n"
     ]
    },
    {
     "name": "stderr",
     "output_type": "stream",
     "text": [
      "/tmp/ipykernel_955267/2474143246.py:33: UserWarning: Implicit dimension choice for softmax has been deprecated. Change the call to include dim=X as an argument.\n",
      "  msp_init = F.softmax(logits).max().item()\n",
      "/tmp/ipykernel_955267/2474143246.py:61: UserWarning: Implicit dimension choice for softmax has been deprecated. Change the call to include dim=X as an argument.\n",
      "  logits_temp = F.softmax(logits_temp)\n"
     ]
    },
    {
     "name": "stdout",
     "output_type": "stream",
     "text": [
      "ts_micro_f1=0.4553, ts_macro_f1=0.1895\n",
      "ts_micro_f1=0.4315, ts_macro_f1=0.1826\n",
      "ts_micro_f1=0.4823, ts_macro_f1=0.1573\n",
      "*********************uncertain: 0.8; debias: 1.0; msp: 0.95****************************\n"
     ]
    },
    {
     "name": "stderr",
     "output_type": "stream",
     "text": [
      "/tmp/ipykernel_955267/2474143246.py:33: UserWarning: Implicit dimension choice for softmax has been deprecated. Change the call to include dim=X as an argument.\n",
      "  msp_init = F.softmax(logits).max().item()\n",
      "/tmp/ipykernel_955267/2474143246.py:61: UserWarning: Implicit dimension choice for softmax has been deprecated. Change the call to include dim=X as an argument.\n",
      "  logits_temp = F.softmax(logits_temp)\n"
     ]
    },
    {
     "name": "stdout",
     "output_type": "stream",
     "text": [
      "ts_micro_f1=0.4553, ts_macro_f1=0.1863\n",
      "ts_micro_f1=0.4315, ts_macro_f1=0.1813\n",
      "ts_micro_f1=0.4823, ts_macro_f1=0.1573\n",
      "*********************uncertain: 0.8; debias: 1.0; msp: 0.9****************************\n"
     ]
    },
    {
     "name": "stderr",
     "output_type": "stream",
     "text": [
      "/tmp/ipykernel_955267/2474143246.py:33: UserWarning: Implicit dimension choice for softmax has been deprecated. Change the call to include dim=X as an argument.\n",
      "  msp_init = F.softmax(logits).max().item()\n",
      "/tmp/ipykernel_955267/2474143246.py:61: UserWarning: Implicit dimension choice for softmax has been deprecated. Change the call to include dim=X as an argument.\n",
      "  logits_temp = F.softmax(logits_temp)\n"
     ]
    },
    {
     "name": "stdout",
     "output_type": "stream",
     "text": [
      "ts_micro_f1=0.4571, ts_macro_f1=0.1894\n",
      "ts_micro_f1=0.4350, ts_macro_f1=0.1861\n",
      "ts_micro_f1=0.4823, ts_macro_f1=0.1573\n",
      "*********************uncertain: 0.8; debias: 1.0; msp: 0.99****************************\n"
     ]
    },
    {
     "name": "stderr",
     "output_type": "stream",
     "text": [
      "/tmp/ipykernel_955267/2474143246.py:33: UserWarning: Implicit dimension choice for softmax has been deprecated. Change the call to include dim=X as an argument.\n",
      "  msp_init = F.softmax(logits).max().item()\n",
      "/tmp/ipykernel_955267/2474143246.py:61: UserWarning: Implicit dimension choice for softmax has been deprecated. Change the call to include dim=X as an argument.\n",
      "  logits_temp = F.softmax(logits_temp)\n"
     ]
    },
    {
     "name": "stdout",
     "output_type": "stream",
     "text": [
      "ts_micro_f1=0.4562, ts_macro_f1=0.1914\n",
      "ts_micro_f1=0.4333, ts_macro_f1=0.1849\n",
      "ts_micro_f1=0.4823, ts_macro_f1=0.1573\n",
      "*********************uncertain: 0.95; debias: 1.0; msp: 0.95****************************\n"
     ]
    },
    {
     "name": "stderr",
     "output_type": "stream",
     "text": [
      "/tmp/ipykernel_955267/2474143246.py:33: UserWarning: Implicit dimension choice for softmax has been deprecated. Change the call to include dim=X as an argument.\n",
      "  msp_init = F.softmax(logits).max().item()\n",
      "/tmp/ipykernel_955267/2474143246.py:61: UserWarning: Implicit dimension choice for softmax has been deprecated. Change the call to include dim=X as an argument.\n",
      "  logits_temp = F.softmax(logits_temp)\n"
     ]
    },
    {
     "name": "stdout",
     "output_type": "stream",
     "text": [
      "ts_micro_f1=0.4507, ts_macro_f1=0.1762\n",
      "ts_micro_f1=0.4229, ts_macro_f1=0.1675\n",
      "ts_micro_f1=0.4823, ts_macro_f1=0.1573\n",
      "*********************uncertain: 0.95; debias: 1.0; msp: 0.9****************************\n"
     ]
    },
    {
     "name": "stderr",
     "output_type": "stream",
     "text": [
      "/tmp/ipykernel_955267/2474143246.py:33: UserWarning: Implicit dimension choice for softmax has been deprecated. Change the call to include dim=X as an argument.\n",
      "  msp_init = F.softmax(logits).max().item()\n",
      "/tmp/ipykernel_955267/2474143246.py:61: UserWarning: Implicit dimension choice for softmax has been deprecated. Change the call to include dim=X as an argument.\n",
      "  logits_temp = F.softmax(logits_temp)\n"
     ]
    },
    {
     "name": "stdout",
     "output_type": "stream",
     "text": [
      "ts_micro_f1=0.4525, ts_macro_f1=0.1801\n",
      "ts_micro_f1=0.4263, ts_macro_f1=0.1738\n",
      "ts_micro_f1=0.4823, ts_macro_f1=0.1573\n",
      "*********************uncertain: 0.95; debias: 1.0; msp: 0.99****************************\n"
     ]
    },
    {
     "name": "stderr",
     "output_type": "stream",
     "text": [
      "/tmp/ipykernel_955267/2474143246.py:33: UserWarning: Implicit dimension choice for softmax has been deprecated. Change the call to include dim=X as an argument.\n",
      "  msp_init = F.softmax(logits).max().item()\n",
      "/tmp/ipykernel_955267/2474143246.py:61: UserWarning: Implicit dimension choice for softmax has been deprecated. Change the call to include dim=X as an argument.\n",
      "  logits_temp = F.softmax(logits_temp)\n"
     ]
    },
    {
     "name": "stdout",
     "output_type": "stream",
     "text": [
      "ts_micro_f1=0.4544, ts_macro_f1=0.1868\n",
      "ts_micro_f1=0.4298, ts_macro_f1=0.1788\n",
      "ts_micro_f1=0.4823, ts_macro_f1=0.1573\n",
      "*********************uncertain: 0.99; debias: 1.0; msp: 0.95****************************\n"
     ]
    },
    {
     "name": "stderr",
     "output_type": "stream",
     "text": [
      "/tmp/ipykernel_955267/2474143246.py:33: UserWarning: Implicit dimension choice for softmax has been deprecated. Change the call to include dim=X as an argument.\n",
      "  msp_init = F.softmax(logits).max().item()\n",
      "/tmp/ipykernel_955267/2474143246.py:61: UserWarning: Implicit dimension choice for softmax has been deprecated. Change the call to include dim=X as an argument.\n",
      "  logits_temp = F.softmax(logits_temp)\n"
     ]
    },
    {
     "name": "stdout",
     "output_type": "stream",
     "text": [
      "ts_micro_f1=0.4488, ts_macro_f1=0.1748\n",
      "ts_micro_f1=0.4194, ts_macro_f1=0.1650\n",
      "ts_micro_f1=0.4823, ts_macro_f1=0.1573\n",
      "*********************uncertain: 0.99; debias: 1.0; msp: 0.9****************************\n"
     ]
    },
    {
     "name": "stderr",
     "output_type": "stream",
     "text": [
      "/tmp/ipykernel_955267/2474143246.py:33: UserWarning: Implicit dimension choice for softmax has been deprecated. Change the call to include dim=X as an argument.\n",
      "  msp_init = F.softmax(logits).max().item()\n",
      "/tmp/ipykernel_955267/2474143246.py:61: UserWarning: Implicit dimension choice for softmax has been deprecated. Change the call to include dim=X as an argument.\n",
      "  logits_temp = F.softmax(logits_temp)\n"
     ]
    },
    {
     "name": "stdout",
     "output_type": "stream",
     "text": [
      "ts_micro_f1=0.4507, ts_macro_f1=0.1786\n",
      "ts_micro_f1=0.4229, ts_macro_f1=0.1710\n",
      "ts_micro_f1=0.4823, ts_macro_f1=0.1573\n",
      "*********************uncertain: 0.99; debias: 1.0; msp: 0.99****************************\n"
     ]
    },
    {
     "name": "stderr",
     "output_type": "stream",
     "text": [
      "/tmp/ipykernel_955267/2474143246.py:33: UserWarning: Implicit dimension choice for softmax has been deprecated. Change the call to include dim=X as an argument.\n",
      "  msp_init = F.softmax(logits).max().item()\n",
      "/tmp/ipykernel_955267/2474143246.py:61: UserWarning: Implicit dimension choice for softmax has been deprecated. Change the call to include dim=X as an argument.\n",
      "  logits_temp = F.softmax(logits_temp)\n"
     ]
    },
    {
     "name": "stdout",
     "output_type": "stream",
     "text": [
      "ts_micro_f1=0.4535, ts_macro_f1=0.1856\n",
      "ts_micro_f1=0.4281, ts_macro_f1=0.1765\n",
      "ts_micro_f1=0.4823, ts_macro_f1=0.1573\n"
     ]
    }
   ],
   "source": [
    "\n",
    "# brute force perumate weighted\n",
    "import itertools\n",
    "\n",
    "\n",
    "    \n",
    "model.load_state_dict(best_state_dict, strict=False)\n",
    "model.eval()\n",
    "model = model.to(device)\n",
    "change_log = []\n",
    "score_init = []\n",
    "score_best = [] \n",
    "alpha = 0.5\n",
    "class_weights = (1.0 / class_freq) ** alpha\n",
    "msp_threshold = 0.9\n",
    "# Normalize the weights\n",
    "class_weights /= class_weights.sum()\n",
    "for uncertainty_threshold in [0.9, 0.8, 0.95, 0.99]:\n",
    "    for msp_threshold in [ 0.95, 0.9, 0.99]:\n",
    "        for debias_threshold in [1.0]:\n",
    "            print(f\"*********************uncertain: {uncertainty_threshold}; debias: {debias_threshold}; msp: {msp_threshold}****************************\")\n",
    "            ft_embs_test = []\n",
    "            labels_test = []\n",
    "            logits_test = []\n",
    "            log = defaultdict(list)\n",
    "            num_cols = []\n",
    "            corrected = 0\n",
    "            total_mistakes = 0\n",
    "\n",
    "            for batch_idx, batch in enumerate(test_dataloader_iter):\n",
    "                cls_indexes = torch.LongTensor([[0, batch[\"cls_indexes\"].cpu().item()]]).to(device)\n",
    "                target_col_mask = batch[\"target_col_mask\"].T\n",
    "                logits = model(batch[\"data\"].T, cls_indexes=cls_indexes,)\n",
    "                msp_init = F.softmax(logits).max().item()\n",
    "                # logits = reweight_logits(logits.detach().cpu(), class_weights) # Here !!!!!!!!!!\n",
    "                num_cols.append(batch[\"target_col_mask\"].max().item())\n",
    "                predict_init = logits.argmax().item()\n",
    "                max_msp = 0\n",
    "                if 1 in target_col_mask and msp_init < uncertainty_threshold:\n",
    "                    col_idx_set = target_col_mask.unique().tolist()\n",
    "                    debias_classes = []\n",
    "                    assert -1 not in col_idx_set\n",
    "                    for r in range(1, len(col_idx_set) + 1):\n",
    "                        for subset in itertools.combinations(col_idx_set, r):\n",
    "                            # if 0 not in subset:\n",
    "                            #     continue\n",
    "                            for x in itertools.permutations(subset):\n",
    "                                new_batch_data = []\n",
    "                                for col_i in x:\n",
    "                                    if col_i == 0:\n",
    "                                        if len(new_batch_data) == 0:\n",
    "                                            cls_indexes_value = 0\n",
    "                                        else:\n",
    "                                            cls_indexes_value = sum([len(new_batch_data[i]) for i in range(len(new_batch_data))])\n",
    "                                    new_batch_data.append(batch[\"data\"].T[target_col_mask==col_i])\n",
    "                                if 0 not in x:\n",
    "                                    cls_indexes_value = 0\n",
    "                                new_batch_data = torch.cat(new_batch_data, dim=-1).reshape(1, -1)\n",
    "                                cls_indexes = torch.tensor([0, cls_indexes_value]).reshape(1, -1).to(device)\n",
    "                                logits_temp = model(new_batch_data, cls_indexes=cls_indexes,)\n",
    "                                # logits_temp = reweight_logits(logits_temp.detach().cpu(), class_weights)\n",
    "                                logits_temp = F.softmax(logits_temp)\n",
    "                                msp_temp = logits_temp.max().item()\n",
    "                                predict_temp = logits_temp.argmax().item()\n",
    "                                if len(x) == 1 and 0 in x:\n",
    "                                    predict_target = predict_temp\n",
    "                                    msp_target = msp_temp\n",
    "                                # print(x, msp_temp, predict_temp)\n",
    "                                if 0 not in x and msp_temp > debias_threshold and (predict_temp != predict_target):\n",
    "                                    debias_classes.append(predict_temp)\n",
    "                                    continue\n",
    "                                if msp_temp > max_msp and 0 in x and predict_temp not in debias_classes:\n",
    "                                    max_msp = msp_temp\n",
    "                                    best_msp_perm = x\n",
    "                                    msp_predict = predict_temp\n",
    "                                    logits_msp = logits_temp.clone()\n",
    "                if max_msp > msp_threshold:\n",
    "                    logits = logits_msp.clone()\n",
    "                labels_test.append(batch[\"label\"].cpu())\n",
    "                logits_test.append(logits.detach().cpu())\n",
    "            labels_test = torch.cat(labels_test, dim=0)\n",
    "            logits_test = torch.stack(logits_test, dim=0)\n",
    "            preds_test = torch.argmax(logits_test, dim=1)\n",
    "            num_cols = torch.tensor(num_cols)\n",
    "\n",
    "\n",
    "\n",
    "\n",
    "            from sklearn.metrics import confusion_matrix, f1_score\n",
    "            mask = num_cols > 0\n",
    "            ts_pred_list = logits_test.argmax(\n",
    "                                        1).cpu().detach().numpy().tolist()\n",
    "            ts_micro_f1 = f1_score(labels_test.reshape(-1).numpy().tolist(),\n",
    "                                ts_pred_list,\n",
    "                                average=\"micro\")\n",
    "            ts_macro_f1 = f1_score(labels_test.reshape(-1).numpy().tolist(),\n",
    "                                ts_pred_list,\n",
    "                                average=\"macro\")\n",
    "            print(\"ts_micro_f1={:.4f}, ts_macro_f1={:.4f}\".format(ts_micro_f1, ts_macro_f1))\n",
    "            ts_pred_list = logits_test.argmax(\n",
    "                                        1).cpu().detach()[mask].numpy().tolist()\n",
    "            ts_micro_f1 = f1_score(labels_test.reshape(-1)[mask].numpy().tolist(),\n",
    "                                ts_pred_list,\n",
    "                                average=\"micro\")\n",
    "            ts_macro_f1 = f1_score(labels_test.reshape(-1)[mask].numpy().tolist(),\n",
    "                                ts_pred_list,\n",
    "                                average=\"macro\")\n",
    "            print(\"ts_micro_f1={:.4f}, ts_macro_f1={:.4f}\".format(ts_micro_f1, ts_macro_f1))\n",
    "            ts_pred_list = logits_test.argmax(\n",
    "                                        1).cpu().detach()[~mask].numpy().tolist()\n",
    "            ts_micro_f1 = f1_score(labels_test.reshape(-1)[~mask].numpy().tolist(),\n",
    "                                ts_pred_list,\n",
    "                                average=\"micro\")\n",
    "            ts_macro_f1 = f1_score(labels_test.reshape(-1)[~mask].numpy().tolist(),\n",
    "                                ts_pred_list,\n",
    "                                average=\"macro\")\n",
    "            print(\"ts_micro_f1={:.4f}, ts_macro_f1={:.4f}\".format(ts_micro_f1, ts_macro_f1))"
   ]
  },
  {
   "cell_type": "code",
   "execution_count": 11,
   "metadata": {},
   "outputs": [
    {
     "name": "stdout",
     "output_type": "stream",
     "text": [
      "*********************alpha: 0.0; uncertain: 0.8; debias: 0.8; msp: 0.9****************************\n"
     ]
    },
    {
     "name": "stderr",
     "output_type": "stream",
     "text": [
      "/tmp/ipykernel_3329248/3394787178.py:36: UserWarning: Implicit dimension choice for softmax has been deprecated. Change the call to include dim=X as an argument.\n",
      "  logits = F.softmax(logits)\n",
      "/tmp/ipykernel_3329248/3394787178.py:63: UserWarning: Implicit dimension choice for softmax has been deprecated. Change the call to include dim=X as an argument.\n",
      "  logits_temp = F.softmax(logits_temp)\n"
     ]
    },
    {
     "name": "stdout",
     "output_type": "stream",
     "text": [
      "ts_micro_f1=0.5401, ts_macro_f1=0.2688\n",
      "ts_micro_f1=0.5397, ts_macro_f1=0.2688\n",
      "ts_micro_f1=1.0000, ts_macro_f1=1.0000\n",
      "*********************alpha: 0.0; uncertain: 0.8; debias: 0.9; msp: 0.9****************************\n"
     ]
    },
    {
     "name": "stderr",
     "output_type": "stream",
     "text": [
      "/tmp/ipykernel_3329248/3394787178.py:36: UserWarning: Implicit dimension choice for softmax has been deprecated. Change the call to include dim=X as an argument.\n",
      "  logits = F.softmax(logits)\n",
      "/tmp/ipykernel_3329248/3394787178.py:63: UserWarning: Implicit dimension choice for softmax has been deprecated. Change the call to include dim=X as an argument.\n",
      "  logits_temp = F.softmax(logits_temp)\n"
     ]
    },
    {
     "name": "stdout",
     "output_type": "stream",
     "text": [
      "ts_micro_f1=0.5392, ts_macro_f1=0.2638\n",
      "ts_micro_f1=0.5387, ts_macro_f1=0.2638\n",
      "ts_micro_f1=1.0000, ts_macro_f1=1.0000\n",
      "*********************alpha: 0.0; uncertain: 0.8; debias: 1.0; msp: 0.9****************************\n"
     ]
    },
    {
     "name": "stderr",
     "output_type": "stream",
     "text": [
      "/tmp/ipykernel_3329248/3394787178.py:36: UserWarning: Implicit dimension choice for softmax has been deprecated. Change the call to include dim=X as an argument.\n",
      "  logits = F.softmax(logits)\n",
      "/tmp/ipykernel_3329248/3394787178.py:63: UserWarning: Implicit dimension choice for softmax has been deprecated. Change the call to include dim=X as an argument.\n",
      "  logits_temp = F.softmax(logits_temp)\n"
     ]
    },
    {
     "name": "stdout",
     "output_type": "stream",
     "text": [
      "ts_micro_f1=0.5373, ts_macro_f1=0.2664\n",
      "ts_micro_f1=0.5369, ts_macro_f1=0.2664\n",
      "ts_micro_f1=1.0000, ts_macro_f1=1.0000\n",
      "*********************alpha: 0.0; uncertain: 0.8; debias: 0.8; msp: 0.99****************************\n"
     ]
    },
    {
     "name": "stderr",
     "output_type": "stream",
     "text": [
      "/tmp/ipykernel_3329248/3394787178.py:36: UserWarning: Implicit dimension choice for softmax has been deprecated. Change the call to include dim=X as an argument.\n",
      "  logits = F.softmax(logits)\n",
      "/tmp/ipykernel_3329248/3394787178.py:63: UserWarning: Implicit dimension choice for softmax has been deprecated. Change the call to include dim=X as an argument.\n",
      "  logits_temp = F.softmax(logits_temp)\n"
     ]
    },
    {
     "name": "stdout",
     "output_type": "stream",
     "text": [
      "ts_micro_f1=0.5392, ts_macro_f1=0.2642\n",
      "ts_micro_f1=0.5387, ts_macro_f1=0.2642\n",
      "ts_micro_f1=1.0000, ts_macro_f1=1.0000\n",
      "*********************alpha: 0.0; uncertain: 0.8; debias: 0.9; msp: 0.99****************************\n"
     ]
    },
    {
     "name": "stderr",
     "output_type": "stream",
     "text": [
      "/tmp/ipykernel_3329248/3394787178.py:36: UserWarning: Implicit dimension choice for softmax has been deprecated. Change the call to include dim=X as an argument.\n",
      "  logits = F.softmax(logits)\n",
      "/tmp/ipykernel_3329248/3394787178.py:63: UserWarning: Implicit dimension choice for softmax has been deprecated. Change the call to include dim=X as an argument.\n",
      "  logits_temp = F.softmax(logits_temp)\n"
     ]
    },
    {
     "name": "stdout",
     "output_type": "stream",
     "text": [
      "ts_micro_f1=0.5392, ts_macro_f1=0.2642\n",
      "ts_micro_f1=0.5387, ts_macro_f1=0.2642\n",
      "ts_micro_f1=1.0000, ts_macro_f1=1.0000\n",
      "*********************alpha: 0.0; uncertain: 0.8; debias: 1.0; msp: 0.99****************************\n"
     ]
    },
    {
     "name": "stderr",
     "output_type": "stream",
     "text": [
      "/tmp/ipykernel_3329248/3394787178.py:36: UserWarning: Implicit dimension choice for softmax has been deprecated. Change the call to include dim=X as an argument.\n",
      "  logits = F.softmax(logits)\n",
      "/tmp/ipykernel_3329248/3394787178.py:63: UserWarning: Implicit dimension choice for softmax has been deprecated. Change the call to include dim=X as an argument.\n",
      "  logits_temp = F.softmax(logits_temp)\n"
     ]
    },
    {
     "name": "stdout",
     "output_type": "stream",
     "text": [
      "ts_micro_f1=0.5392, ts_macro_f1=0.2669\n",
      "ts_micro_f1=0.5387, ts_macro_f1=0.2669\n",
      "ts_micro_f1=1.0000, ts_macro_f1=1.0000\n"
     ]
    }
   ],
   "source": [
    "\n",
    "# brute force perumate\n",
    "import itertools\n",
    "\n",
    "\n",
    "    \n",
    "model.load_state_dict(best_state_dict, strict=False)\n",
    "model.eval()\n",
    "model = model.to(device)\n",
    "change_log = []\n",
    "score_init = []\n",
    "score_best = [] \n",
    "# class_weights = (1.0 / class_freq) ** alpha\n",
    "# msp_threshold = 0.9\n",
    "# # Normalize the weights\n",
    "# class_weights /= class_weights.sum()\n",
    "max_col_length = 3\n",
    "alpha = 0.0\n",
    "# for global_threshold in [ 0.7, 0.8, 0.9, 0.99]:\n",
    "for uncertainty_threshold in [0.8]:\n",
    "    for msp_threshold in [0.9,0.99]:\n",
    "        for debias_threshold in [0.8, 0.9, 1.0]:\n",
    "            print(f\"*********************alpha: {alpha}; uncertain: {uncertainty_threshold}; debias: {debias_threshold}; msp: {msp_threshold}****************************\")\n",
    "            ft_embs_test = []\n",
    "            labels_test = []\n",
    "            logits_test = []\n",
    "            log = defaultdict(list)\n",
    "            num_cols = []\n",
    "            corrected = 0\n",
    "            total_mistakes = 0\n",
    "\n",
    "            for batch_idx, batch in enumerate(test_dataloader_iter):\n",
    "                cls_indexes = torch.LongTensor([[0, batch[\"cls_indexes\"].cpu().item()]]).to(device)\n",
    "                target_col_mask = batch[\"target_col_mask\"].T\n",
    "                logits = model(batch[\"data\"].T, cls_indexes=cls_indexes,)\n",
    "                # logits = reweight_logits(logits.detach().cpu(), class_weights) # Here !!!!!!!!!!\n",
    "                logits = F.softmax(logits)\n",
    "                msp_init = logits.max().item()\n",
    "                num_cols.append(batch[\"target_col_mask\"].max().item())\n",
    "                predict_init = logits.argmax().item()\n",
    "                max_msp = 0\n",
    "                if 1 in target_col_mask and msp_init < uncertainty_threshold:\n",
    "                    col_idx_set = target_col_mask.unique().tolist()\n",
    "                    debias_classes = []\n",
    "                    assert -1 not in col_idx_set\n",
    "                    for r in range(1, min(len(col_idx_set), max_col_length) + 1):\n",
    "                        for subset in itertools.combinations(col_idx_set, r):\n",
    "                            # if 0 not in subset:\n",
    "                            #     continue\n",
    "                            for x in itertools.permutations(subset):\n",
    "                                new_batch_data = []\n",
    "                                for col_i in x:\n",
    "                                    if col_i == 0:\n",
    "                                        if len(new_batch_data) == 0:\n",
    "                                            cls_indexes_value = 0\n",
    "                                        else:\n",
    "                                            cls_indexes_value = sum([len(new_batch_data[i]) for i in range(len(new_batch_data))])\n",
    "                                    new_batch_data.append(batch[\"data\"].T[target_col_mask==col_i])\n",
    "                                if 0 not in x:\n",
    "                                    cls_indexes_value = 0\n",
    "                                new_batch_data = torch.cat(new_batch_data, dim=-1).reshape(1, -1)\n",
    "                                cls_indexes = torch.tensor([0, cls_indexes_value]).reshape(1, -1).to(device)\n",
    "                                logits_temp = model(new_batch_data, cls_indexes=cls_indexes,)\n",
    "                                logits_temp = F.softmax(logits_temp)\n",
    "                                # logits_temp = reweight_logits(logits_temp.detach().cpu(), class_weights)\n",
    "                                msp_temp = logits_temp.max().item()\n",
    "                                predict_temp = logits_temp.argmax().item()\n",
    "                                if len(x) == 1 and 0 in x:\n",
    "                                    predict_target = predict_temp\n",
    "                                    msp_target = msp_temp\n",
    "                                # print(x, msp_temp, predict_temp)\n",
    "                                if 0 not in x and msp_temp > debias_threshold and (predict_temp != predict_target):\n",
    "                                    debias_classes.append(predict_temp)\n",
    "                                    continue\n",
    "                                if msp_temp > max_msp and 0 in x and predict_temp not in debias_classes:\n",
    "                                    max_msp = msp_temp\n",
    "                                    best_msp_perm = x\n",
    "                                    msp_predict = predict_temp\n",
    "                                    logits_msp = logits_temp.clone()\n",
    "                if max_msp > msp_threshold:\n",
    "                    logits = logits_msp.clone()\n",
    "                labels_test.append(batch[\"label\"].cpu())\n",
    "                logits_test.append(logits.detach().cpu())\n",
    "            labels_test = torch.cat(labels_test, dim=0)\n",
    "            logits_test = torch.stack(logits_test, dim=0)\n",
    "            preds_test = torch.argmax(logits_test, dim=1)\n",
    "            num_cols = torch.tensor(num_cols)\n",
    "\n",
    "\n",
    "\n",
    "\n",
    "            from sklearn.metrics import confusion_matrix, f1_score\n",
    "            mask = num_cols > 0\n",
    "            ts_pred_list = logits_test.argmax(\n",
    "                                        1).cpu().detach().numpy().tolist()\n",
    "            ts_micro_f1 = f1_score(labels_test.reshape(-1).numpy().tolist(),\n",
    "                                ts_pred_list,\n",
    "                                average=\"micro\")\n",
    "            ts_macro_f1 = f1_score(labels_test.reshape(-1).numpy().tolist(),\n",
    "                                ts_pred_list,\n",
    "                                average=\"macro\")\n",
    "            print(\"ts_micro_f1={:.4f}, ts_macro_f1={:.4f}\".format(ts_micro_f1, ts_macro_f1))\n",
    "            ts_pred_list = logits_test.argmax(\n",
    "                                        1).cpu().detach()[mask].numpy().tolist()\n",
    "            ts_micro_f1 = f1_score(labels_test.reshape(-1)[mask].numpy().tolist(),\n",
    "                                ts_pred_list,\n",
    "                                average=\"micro\")\n",
    "            ts_macro_f1 = f1_score(labels_test.reshape(-1)[mask].numpy().tolist(),\n",
    "                                ts_pred_list,\n",
    "                                average=\"macro\")\n",
    "            print(\"ts_micro_f1={:.4f}, ts_macro_f1={:.4f}\".format(ts_micro_f1, ts_macro_f1))\n",
    "            ts_pred_list = logits_test.argmax(\n",
    "                                        1).cpu().detach()[~mask].numpy().tolist()\n",
    "            ts_micro_f1 = f1_score(labels_test.reshape(-1)[~mask].numpy().tolist(),\n",
    "                                ts_pred_list,\n",
    "                                average=\"micro\")\n",
    "            ts_macro_f1 = f1_score(labels_test.reshape(-1)[~mask].numpy().tolist(),\n",
    "                                ts_pred_list,\n",
    "                                average=\"macro\")\n",
    "            print(\"ts_micro_f1={:.4f}, ts_macro_f1={:.4f}\".format(ts_micro_f1, ts_macro_f1))"
   ]
  },
  {
   "cell_type": "code",
   "execution_count": null,
   "metadata": {},
   "outputs": [],
   "source": [
    "# *********************alpha: 0.0; uncertain: 0.8; debias: 0.8; msp: 0.8****************************\n",
    "# /tmp/ipykernel_3329248/2673466228.py:36: UserWarning: Implicit dimension choice for softmax has been deprecated. Change the call to include dim=X as an argument.\n",
    "#   logits = F.softmax(logits)\n",
    "# /tmp/ipykernel_3329248/2673466228.py:63: UserWarning: Implicit dimension choice for softmax has been deprecated. Change the call to include dim=X as an argument.\n",
    "#   logits_temp = F.softmax(logits_temp)\n",
    "# ts_micro_f1=0.5401, ts_macro_f1=0.2692\n",
    "# ts_micro_f1=0.5397, ts_macro_f1=0.2692\n",
    "# ts_micro_f1=1.0000, ts_macro_f1=1.0000\n",
    "# *********************alpha: 0.0; uncertai"
   ]
  },
  {
   "cell_type": "code",
   "execution_count": 430,
   "metadata": {},
   "outputs": [
    {
     "data": {
      "text/plain": [
       "tensor([0.0060, 0.0065, 0.0071, 0.0073, 0.0079, 0.0081, 0.0083, 0.0082, 0.0082,\n",
       "        0.0086, 0.0083, 0.0084, 0.0085, 0.0086, 0.0086, 0.0086, 0.0090, 0.0088,\n",
       "        0.0087, 0.0086, 0.0087, 0.0087, 0.0089, 0.0090, 0.0090, 0.0091, 0.0092,\n",
       "        0.0093, 0.0094, 0.0095, 0.0096, 0.0092, 0.0100, 0.0094, 0.0095, 0.0096,\n",
       "        0.0098, 0.0094, 0.0098, 0.0097, 0.0096, 0.0097, 0.0101, 0.0101, 0.0103,\n",
       "        0.0098, 0.0100, 0.0100, 0.0107, 0.0100, 0.0105, 0.0104, 0.0105, 0.0103,\n",
       "        0.0104, 0.0105, 0.0105, 0.0103, 0.0100, 0.0109, 0.0101, 0.0103, 0.0111,\n",
       "        0.0103, 0.0111, 0.0104, 0.0109, 0.0109, 0.0103, 0.0101, 0.0107, 0.0104,\n",
       "        0.0105, 0.0109, 0.0105, 0.0104, 0.0107, 0.0111, 0.0105, 0.0109, 0.0105,\n",
       "        0.0105, 0.0111, 0.0116, 0.0109, 0.0107, 0.0109, 0.0116, 0.0105, 0.0116,\n",
       "        0.0113, 0.0107, 0.0113, 0.0111, 0.0109, 0.0116, 0.0121, 0.0121, 0.0113,\n",
       "        0.0111, 0.0113])"
      ]
     },
     "execution_count": 430,
     "metadata": {},
     "output_type": "execute_result"
    }
   ],
   "source": [
    "alpha = 0.125\n",
    "class_weights = (1.0 / class_freq) ** alpha\n",
    "msp_threshold = 0.9\n",
    "# Normalize the weights\n",
    "class_weights /= class_weights.sum()\n",
    "class_weights"
   ]
  },
  {
   "cell_type": "code",
   "execution_count": 432,
   "metadata": {},
   "outputs": [
    {
     "data": {
      "text/plain": [
       "tensor([0.0001, 0.0002, 0.0005, 0.0006, 0.0012, 0.0015, 0.0017, 0.0015, 0.0017,\n",
       "        0.0023, 0.0017, 0.0020, 0.0022, 0.0023, 0.0024, 0.0023, 0.0035, 0.0029,\n",
       "        0.0025, 0.0025, 0.0026, 0.0027, 0.0031, 0.0035, 0.0033, 0.0037, 0.0039,\n",
       "        0.0042, 0.0046, 0.0053, 0.0056, 0.0041, 0.0076, 0.0046, 0.0050, 0.0059,\n",
       "        0.0066, 0.0048, 0.0066, 0.0062, 0.0056, 0.0062, 0.0088, 0.0088, 0.0096,\n",
       "        0.0066, 0.0082, 0.0082, 0.0133, 0.0082, 0.0118, 0.0106, 0.0118, 0.0096,\n",
       "        0.0106, 0.0118, 0.0118, 0.0096, 0.0082, 0.0151, 0.0088, 0.0096, 0.0177,\n",
       "        0.0096, 0.0177, 0.0106, 0.0151, 0.0151, 0.0096, 0.0088, 0.0133, 0.0106,\n",
       "        0.0118, 0.0151, 0.0118, 0.0106, 0.0133, 0.0177, 0.0118, 0.0151, 0.0118,\n",
       "        0.0118, 0.0177, 0.0265, 0.0151, 0.0133, 0.0151, 0.0265, 0.0118, 0.0265,\n",
       "        0.0212, 0.0133, 0.0212, 0.0177, 0.0151, 0.0265, 0.0353, 0.0353, 0.0212,\n",
       "        0.0177, 0.0212])"
      ]
     },
     "execution_count": 432,
     "metadata": {},
     "output_type": "execute_result"
    }
   ],
   "source": [
    "alpha = 1.0\n",
    "class_weights = (1.0 / class_freq) ** alpha\n",
    "msp_threshold = 0.9\n",
    "# Normalize the weights\n",
    "class_weights /= class_weights.sum()\n",
    "class_weights"
   ]
  },
  {
   "cell_type": "code",
   "execution_count": 433,
   "metadata": {},
   "outputs": [
    {
     "data": {
      "text/plain": [
       "tensor([0.0036, 0.0039, 0.0045, 0.0047, 0.0054, 0.0056, 0.0058, 0.0057, 0.0058,\n",
       "        0.0063, 0.0058, 0.0060, 0.0062, 0.0063, 0.0063, 0.0063, 0.0071, 0.0067,\n",
       "        0.0064, 0.0064, 0.0065, 0.0065, 0.0068, 0.0071, 0.0069, 0.0071, 0.0073,\n",
       "        0.0075, 0.0077, 0.0080, 0.0081, 0.0074, 0.0091, 0.0077, 0.0079, 0.0083,\n",
       "        0.0087, 0.0078, 0.0087, 0.0085, 0.0081, 0.0085, 0.0097, 0.0097, 0.0100,\n",
       "        0.0087, 0.0094, 0.0094, 0.0115, 0.0094, 0.0109, 0.0104, 0.0109, 0.0100,\n",
       "        0.0104, 0.0109, 0.0109, 0.0100, 0.0094, 0.0123, 0.0097, 0.0100, 0.0134,\n",
       "        0.0100, 0.0134, 0.0104, 0.0123, 0.0123, 0.0100, 0.0097, 0.0115, 0.0104,\n",
       "        0.0109, 0.0123, 0.0109, 0.0104, 0.0115, 0.0134, 0.0109, 0.0123, 0.0109,\n",
       "        0.0109, 0.0134, 0.0173, 0.0123, 0.0115, 0.0123, 0.0173, 0.0109, 0.0173,\n",
       "        0.0149, 0.0115, 0.0149, 0.0134, 0.0123, 0.0173, 0.0218, 0.0218, 0.0149,\n",
       "        0.0134, 0.0149])"
      ]
     },
     "execution_count": 433,
     "metadata": {},
     "output_type": "execute_result"
    }
   ],
   "source": [
    "epsilon = 1e-6  # Small constant to prevent division by zero\n",
    "class_weights = (1.0 / torch.log(class_freq))\n",
    "class_weights /= class_weights.sum()\n",
    "class_weights"
   ]
  },
  {
   "cell_type": "code",
   "execution_count": 520,
   "metadata": {},
   "outputs": [
    {
     "name": "stdout",
     "output_type": "stream",
     "text": [
      "*********************alpha: 0.125; uncertain: 0.9; debias: 1.0; msp: 0.8****************************\n",
      "ts_micro_f1=0.4903, ts_macro_f1=0.2054\n",
      "ts_micro_f1=0.4899, ts_macro_f1=0.2054\n",
      "ts_micro_f1=1.0000, ts_macro_f1=1.0000\n",
      "*********************alpha: 0.125; uncertain: 0.9; debias: 0.9; msp: 0.8****************************\n",
      "ts_micro_f1=0.4995, ts_macro_f1=0.2089\n",
      "ts_micro_f1=0.4991, ts_macro_f1=0.2089\n",
      "ts_micro_f1=1.0000, ts_macro_f1=1.0000\n",
      "*********************alpha: 0.125; uncertain: 0.9; debias: 0.8; msp: 0.8****************************\n",
      "ts_micro_f1=0.5005, ts_macro_f1=0.2091\n",
      "ts_micro_f1=0.5000, ts_macro_f1=0.2091\n",
      "ts_micro_f1=1.0000, ts_macro_f1=1.0000\n",
      "*********************alpha: 0.125; uncertain: 0.9; debias: 1.0; msp: 0.9****************************\n",
      "ts_micro_f1=0.4903, ts_macro_f1=0.2032\n",
      "ts_micro_f1=0.4899, ts_macro_f1=0.2032\n",
      "ts_micro_f1=1.0000, ts_macro_f1=1.0000\n",
      "*********************alpha: 0.125; uncertain: 0.9; debias: 0.9; msp: 0.9****************************\n",
      "ts_micro_f1=0.5005, ts_macro_f1=0.2146\n",
      "ts_micro_f1=0.5000, ts_macro_f1=0.2146\n",
      "ts_micro_f1=1.0000, ts_macro_f1=1.0000\n",
      "*********************alpha: 0.125; uncertain: 0.9; debias: 0.8; msp: 0.9****************************\n",
      "ts_micro_f1=0.5014, ts_macro_f1=0.2148\n",
      "ts_micro_f1=0.5009, ts_macro_f1=0.2147\n",
      "ts_micro_f1=1.0000, ts_macro_f1=1.0000\n",
      "*********************alpha: 0.125; uncertain: 0.9; debias: 1.0; msp: 0.99****************************\n",
      "ts_micro_f1=0.4949, ts_macro_f1=0.2052\n",
      "ts_micro_f1=0.4945, ts_macro_f1=0.2052\n",
      "ts_micro_f1=1.0000, ts_macro_f1=1.0000\n",
      "*********************alpha: 0.125; uncertain: 0.9; debias: 0.9; msp: 0.99****************************\n",
      "ts_micro_f1=0.4968, ts_macro_f1=0.2130\n",
      "ts_micro_f1=0.4963, ts_macro_f1=0.2130\n",
      "ts_micro_f1=1.0000, ts_macro_f1=1.0000\n",
      "*********************alpha: 0.125; uncertain: 0.9; debias: 0.8; msp: 0.99****************************\n",
      "ts_micro_f1=0.4968, ts_macro_f1=0.2129\n",
      "ts_micro_f1=0.4963, ts_macro_f1=0.2129\n",
      "ts_micro_f1=1.0000, ts_macro_f1=1.0000\n",
      "*********************alpha: 0.125; uncertain: 0.8; debias: 1.0; msp: 0.8****************************\n",
      "ts_micro_f1=0.4940, ts_macro_f1=0.2204\n",
      "ts_micro_f1=0.4935, ts_macro_f1=0.2204\n",
      "ts_micro_f1=1.0000, ts_macro_f1=1.0000\n",
      "*********************alpha: 0.125; uncertain: 0.8; debias: 0.9; msp: 0.8****************************\n",
      "ts_micro_f1=0.5005, ts_macro_f1=0.2197\n",
      "ts_micro_f1=0.5000, ts_macro_f1=0.2197\n",
      "ts_micro_f1=1.0000, ts_macro_f1=1.0000\n",
      "*********************alpha: 0.125; uncertain: 0.8; debias: 0.8; msp: 0.8****************************\n",
      "ts_micro_f1=0.5014, ts_macro_f1=0.2199\n",
      "ts_micro_f1=0.5009, ts_macro_f1=0.2199\n",
      "ts_micro_f1=1.0000, ts_macro_f1=1.0000\n",
      "*********************alpha: 0.125; uncertain: 0.8; debias: 1.0; msp: 0.9****************************\n",
      "ts_micro_f1=0.4940, ts_macro_f1=0.2183\n",
      "ts_micro_f1=0.4935, ts_macro_f1=0.2183\n",
      "ts_micro_f1=1.0000, ts_macro_f1=1.0000\n",
      "*********************alpha: 0.125; uncertain: 0.8; debias: 0.9; msp: 0.9****************************\n",
      "ts_micro_f1=0.5014, ts_macro_f1=0.2251\n",
      "ts_micro_f1=0.5009, ts_macro_f1=0.2251\n",
      "ts_micro_f1=1.0000, ts_macro_f1=1.0000\n",
      "*********************alpha: 0.125; uncertain: 0.8; debias: 0.8; msp: 0.9****************************\n",
      "ts_micro_f1=0.5023, ts_macro_f1=0.2253\n",
      "ts_micro_f1=0.5018, ts_macro_f1=0.2253\n",
      "ts_micro_f1=1.0000, ts_macro_f1=1.0000\n",
      "*********************alpha: 0.125; uncertain: 0.8; debias: 1.0; msp: 0.99****************************\n",
      "ts_micro_f1=0.4968, ts_macro_f1=0.2131\n",
      "ts_micro_f1=0.4963, ts_macro_f1=0.2131\n",
      "ts_micro_f1=1.0000, ts_macro_f1=1.0000\n",
      "*********************alpha: 0.125; uncertain: 0.8; debias: 0.9; msp: 0.99****************************\n",
      "ts_micro_f1=0.4986, ts_macro_f1=0.2202\n",
      "ts_micro_f1=0.4982, ts_macro_f1=0.2202\n",
      "ts_micro_f1=1.0000, ts_macro_f1=1.0000\n",
      "*********************alpha: 0.125; uncertain: 0.8; debias: 0.8; msp: 0.99****************************\n",
      "ts_micro_f1=0.4986, ts_macro_f1=0.2202\n",
      "ts_micro_f1=0.4982, ts_macro_f1=0.2201\n",
      "ts_micro_f1=1.0000, ts_macro_f1=1.0000\n",
      "*********************alpha: 0.5; uncertain: 0.9; debias: 1.0; msp: 0.8****************************\n",
      "ts_micro_f1=0.4903, ts_macro_f1=0.2054\n",
      "ts_micro_f1=0.4899, ts_macro_f1=0.2054\n",
      "ts_micro_f1=1.0000, ts_macro_f1=1.0000\n",
      "*********************alpha: 0.5; uncertain: 0.9; debias: 0.9; msp: 0.8****************************\n",
      "ts_micro_f1=0.4995, ts_macro_f1=0.2089\n",
      "ts_micro_f1=0.4991, ts_macro_f1=0.2089\n",
      "ts_micro_f1=1.0000, ts_macro_f1=1.0000\n",
      "*********************alpha: 0.5; uncertain: 0.9; debias: 0.8; msp: 0.8****************************\n",
      "ts_micro_f1=0.5005, ts_macro_f1=0.2091\n",
      "ts_micro_f1=0.5000, ts_macro_f1=0.2091\n",
      "ts_micro_f1=1.0000, ts_macro_f1=1.0000\n",
      "*********************alpha: 0.5; uncertain: 0.9; debias: 1.0; msp: 0.9****************************\n",
      "ts_micro_f1=0.4903, ts_macro_f1=0.2032\n",
      "ts_micro_f1=0.4899, ts_macro_f1=0.2032\n",
      "ts_micro_f1=1.0000, ts_macro_f1=1.0000\n",
      "*********************alpha: 0.5; uncertain: 0.9; debias: 0.9; msp: 0.9****************************\n",
      "ts_micro_f1=0.5005, ts_macro_f1=0.2146\n",
      "ts_micro_f1=0.5000, ts_macro_f1=0.2146\n",
      "ts_micro_f1=1.0000, ts_macro_f1=1.0000\n",
      "*********************alpha: 0.5; uncertain: 0.9; debias: 0.8; msp: 0.9****************************\n",
      "ts_micro_f1=0.5014, ts_macro_f1=0.2148\n",
      "ts_micro_f1=0.5009, ts_macro_f1=0.2147\n",
      "ts_micro_f1=1.0000, ts_macro_f1=1.0000\n",
      "*********************alpha: 0.5; uncertain: 0.9; debias: 1.0; msp: 0.99****************************\n",
      "ts_micro_f1=0.4949, ts_macro_f1=0.2052\n",
      "ts_micro_f1=0.4945, ts_macro_f1=0.2052\n",
      "ts_micro_f1=1.0000, ts_macro_f1=1.0000\n",
      "*********************alpha: 0.5; uncertain: 0.9; debias: 0.9; msp: 0.99****************************\n",
      "ts_micro_f1=0.4968, ts_macro_f1=0.2130\n",
      "ts_micro_f1=0.4963, ts_macro_f1=0.2130\n",
      "ts_micro_f1=1.0000, ts_macro_f1=1.0000\n",
      "*********************alpha: 0.5; uncertain: 0.9; debias: 0.8; msp: 0.99****************************\n",
      "ts_micro_f1=0.4968, ts_macro_f1=0.2129\n",
      "ts_micro_f1=0.4963, ts_macro_f1=0.2129\n",
      "ts_micro_f1=1.0000, ts_macro_f1=1.0000\n",
      "*********************alpha: 0.5; uncertain: 0.8; debias: 1.0; msp: 0.8****************************\n",
      "ts_micro_f1=0.4940, ts_macro_f1=0.2204\n",
      "ts_micro_f1=0.4935, ts_macro_f1=0.2204\n",
      "ts_micro_f1=1.0000, ts_macro_f1=1.0000\n",
      "*********************alpha: 0.5; uncertain: 0.8; debias: 0.9; msp: 0.8****************************\n",
      "ts_micro_f1=0.5005, ts_macro_f1=0.2197\n",
      "ts_micro_f1=0.5000, ts_macro_f1=0.2197\n",
      "ts_micro_f1=1.0000, ts_macro_f1=1.0000\n",
      "*********************alpha: 0.5; uncertain: 0.8; debias: 0.8; msp: 0.8****************************\n",
      "ts_micro_f1=0.5014, ts_macro_f1=0.2199\n",
      "ts_micro_f1=0.5009, ts_macro_f1=0.2199\n",
      "ts_micro_f1=1.0000, ts_macro_f1=1.0000\n",
      "*********************alpha: 0.5; uncertain: 0.8; debias: 1.0; msp: 0.9****************************\n",
      "ts_micro_f1=0.4940, ts_macro_f1=0.2183\n",
      "ts_micro_f1=0.4935, ts_macro_f1=0.2183\n",
      "ts_micro_f1=1.0000, ts_macro_f1=1.0000\n",
      "*********************alpha: 0.5; uncertain: 0.8; debias: 0.9; msp: 0.9****************************\n",
      "ts_micro_f1=0.5014, ts_macro_f1=0.2251\n",
      "ts_micro_f1=0.5009, ts_macro_f1=0.2251\n",
      "ts_micro_f1=1.0000, ts_macro_f1=1.0000\n",
      "*********************alpha: 0.5; uncertain: 0.8; debias: 0.8; msp: 0.9****************************\n",
      "ts_micro_f1=0.5023, ts_macro_f1=0.2253\n",
      "ts_micro_f1=0.5018, ts_macro_f1=0.2253\n",
      "ts_micro_f1=1.0000, ts_macro_f1=1.0000\n",
      "*********************alpha: 0.5; uncertain: 0.8; debias: 1.0; msp: 0.99****************************\n",
      "ts_micro_f1=0.4968, ts_macro_f1=0.2131\n",
      "ts_micro_f1=0.4963, ts_macro_f1=0.2131\n",
      "ts_micro_f1=1.0000, ts_macro_f1=1.0000\n",
      "*********************alpha: 0.5; uncertain: 0.8; debias: 0.9; msp: 0.99****************************\n",
      "ts_micro_f1=0.4986, ts_macro_f1=0.2202\n",
      "ts_micro_f1=0.4982, ts_macro_f1=0.2202\n",
      "ts_micro_f1=1.0000, ts_macro_f1=1.0000\n",
      "*********************alpha: 0.5; uncertain: 0.8; debias: 0.8; msp: 0.99****************************\n",
      "ts_micro_f1=0.4986, ts_macro_f1=0.2202\n",
      "ts_micro_f1=0.4982, ts_macro_f1=0.2201\n",
      "ts_micro_f1=1.0000, ts_macro_f1=1.0000\n"
     ]
    }
   ],
   "source": [
    "\n",
    "# brute force perumate\n",
    "import itertools\n",
    "\n",
    "\n",
    "    \n",
    "model.load_state_dict(best_state_dict, strict=False)\n",
    "model.eval()\n",
    "model = model.to(device)\n",
    "change_log = []\n",
    "score_init = []\n",
    "score_best = [] \n",
    "alpha = 0.125\n",
    "class_weights = (1.0 / class_freq) ** alpha\n",
    "msp_threshold = 0.9\n",
    "# Normalize the weights\n",
    "class_weights /= class_weights.sum()\n",
    "max_col_length = 3\n",
    "for alpha in [0.125, 0.5]:\n",
    "    for uncertainty_threshold in [0.9, 0.8]:\n",
    "        for msp_threshold in [ 0.8, 0.9, 0.99]:\n",
    "            for debias_threshold in [1.0, 0.9, 0.8]:\n",
    "                print(f\"*********************alpha: {alpha}; uncertain: {uncertainty_threshold}; debias: {debias_threshold}; msp: {msp_threshold}****************************\")\n",
    "                ft_embs_test = []\n",
    "                labels_test = []\n",
    "                logits_test = []\n",
    "                log = defaultdict(list)\n",
    "                num_cols = []\n",
    "                corrected = 0\n",
    "                total_mistakes = 0\n",
    "\n",
    "                for batch_idx, batch in enumerate(test_dataloader_iter):\n",
    "                    cls_indexes = torch.LongTensor([[0, batch[\"cls_indexes\"].cpu().item()]]).to(device)\n",
    "                    target_col_mask = batch[\"target_col_mask\"].T\n",
    "                    logits = model(batch[\"data\"].T, cls_indexes=cls_indexes,)\n",
    "                    logits = reweight_logits(logits.detach().cpu(), class_weights) # Here !!!!!!!!!!\n",
    "                    msp_init = logits.max().item()\n",
    "                    num_cols.append(batch[\"target_col_mask\"].max().item())\n",
    "                    predict_init = logits.argmax().item()\n",
    "                    max_msp = 0\n",
    "                    if 1 in target_col_mask and msp_init < uncertainty_threshold:\n",
    "                        col_idx_set = target_col_mask.unique().tolist()\n",
    "                        debias_classes = []\n",
    "                        assert -1 not in col_idx_set\n",
    "                        for r in range(1, min(len(col_idx_set), max_col_length) + 1):\n",
    "                            for subset in itertools.combinations(col_idx_set, r):\n",
    "                                # if 0 not in subset:\n",
    "                                #     continue\n",
    "                                for x in itertools.permutations(subset):\n",
    "                                    new_batch_data = []\n",
    "                                    for col_i in x:\n",
    "                                        if col_i == 0:\n",
    "                                            if len(new_batch_data) == 0:\n",
    "                                                cls_indexes_value = 0\n",
    "                                            else:\n",
    "                                                cls_indexes_value = sum([len(new_batch_data[i]) for i in range(len(new_batch_data))])\n",
    "                                        new_batch_data.append(batch[\"data\"].T[target_col_mask==col_i])\n",
    "                                    if 0 not in x:\n",
    "                                        cls_indexes_value = 0\n",
    "                                    new_batch_data = torch.cat(new_batch_data, dim=-1).reshape(1, -1)\n",
    "                                    cls_indexes = torch.tensor([0, cls_indexes_value]).reshape(1, -1).to(device)\n",
    "                                    logits_temp = model(new_batch_data, cls_indexes=cls_indexes,)\n",
    "                                    logits_temp = reweight_logits(logits_temp.detach().cpu(), class_weights)\n",
    "                                    msp_temp = logits_temp.max().item()\n",
    "                                    predict_temp = logits_temp.argmax().item()\n",
    "                                    if len(x) == 1 and 0 in x:\n",
    "                                        predict_target = predict_temp\n",
    "                                        msp_target = msp_temp\n",
    "                                    # print(x, msp_temp, predict_temp)\n",
    "                                    if 0 not in x and msp_temp > debias_threshold and (predict_temp != predict_target):\n",
    "                                        debias_classes.append(predict_temp)\n",
    "                                        continue\n",
    "                                    if msp_temp > max_msp and 0 in x and predict_temp not in debias_classes:\n",
    "                                        max_msp = msp_temp\n",
    "                                        best_msp_perm = x\n",
    "                                        msp_predict = predict_temp\n",
    "                                        logits_msp = logits_temp.clone()\n",
    "                    if max_msp > msp_threshold:\n",
    "                        logits = logits_msp.clone()\n",
    "                    labels_test.append(batch[\"label\"].cpu())\n",
    "                    logits_test.append(logits.detach().cpu())\n",
    "                labels_test = torch.cat(labels_test, dim=0)\n",
    "                logits_test = torch.stack(logits_test, dim=0)\n",
    "                preds_test = torch.argmax(logits_test, dim=1)\n",
    "                num_cols = torch.tensor(num_cols)\n",
    "\n",
    "\n",
    "\n",
    "\n",
    "                from sklearn.metrics import confusion_matrix, f1_score\n",
    "                mask = num_cols > 0\n",
    "                ts_pred_list = logits_test.argmax(\n",
    "                                            1).cpu().detach().numpy().tolist()\n",
    "                ts_micro_f1 = f1_score(labels_test.reshape(-1).numpy().tolist(),\n",
    "                                    ts_pred_list,\n",
    "                                    average=\"micro\")\n",
    "                ts_macro_f1 = f1_score(labels_test.reshape(-1).numpy().tolist(),\n",
    "                                    ts_pred_list,\n",
    "                                    average=\"macro\")\n",
    "                print(\"ts_micro_f1={:.4f}, ts_macro_f1={:.4f}\".format(ts_micro_f1, ts_macro_f1))\n",
    "                ts_pred_list = logits_test.argmax(\n",
    "                                            1).cpu().detach()[mask].numpy().tolist()\n",
    "                ts_micro_f1 = f1_score(labels_test.reshape(-1)[mask].numpy().tolist(),\n",
    "                                    ts_pred_list,\n",
    "                                    average=\"micro\")\n",
    "                ts_macro_f1 = f1_score(labels_test.reshape(-1)[mask].numpy().tolist(),\n",
    "                                    ts_pred_list,\n",
    "                                    average=\"macro\")\n",
    "                print(\"ts_micro_f1={:.4f}, ts_macro_f1={:.4f}\".format(ts_micro_f1, ts_macro_f1))\n",
    "                ts_pred_list = logits_test.argmax(\n",
    "                                            1).cpu().detach()[~mask].numpy().tolist()\n",
    "                ts_micro_f1 = f1_score(labels_test.reshape(-1)[~mask].numpy().tolist(),\n",
    "                                    ts_pred_list,\n",
    "                                    average=\"micro\")\n",
    "                ts_macro_f1 = f1_score(labels_test.reshape(-1)[~mask].numpy().tolist(),\n",
    "                                    ts_pred_list,\n",
    "                                    average=\"macro\")\n",
    "                print(\"ts_micro_f1={:.4f}, ts_macro_f1={:.4f}\".format(ts_micro_f1, ts_macro_f1))"
   ]
  },
  {
   "cell_type": "code",
   "execution_count": null,
   "metadata": {},
   "outputs": [],
   "source": [
    "# *********************alpha: 0.125; uncertain: 0.8; debias: 0.8; msp: 0.9****************************\n",
    "# ts_micro_f1=0.5023, ts_macro_f1=0.2253\n",
    "# ts_micro_f1=0.5018, ts_macro_f1=0.2253\n",
    "# ts_micro_f1=1.0000, ts_macro_f1=1.0000"
   ]
  },
  {
   "cell_type": "code",
   "execution_count": 518,
   "metadata": {},
   "outputs": [
    {
     "name": "stdout",
     "output_type": "stream",
     "text": [
      "*********************alpha: 0.125; uncertain: 0.8; debias: 1.0; msp: 0.9****************************\n"
     ]
    }
   ],
   "source": [
    "\n",
    "# brute force perumate\n",
    "import itertools\n",
    "\n",
    "\n",
    "    \n",
    "model.load_state_dict(best_state_dict, strict=False)\n",
    "model.eval()\n",
    "model = model.to(device)\n",
    "change_log = []\n",
    "score_init = []\n",
    "score_best = [] \n",
    "alpha = 0.125\n",
    "class_weights = (1.0 / class_freq) ** alpha\n",
    "msp_threshold = 0.9\n",
    "# Normalize the weights\n",
    "class_weights /= class_weights.sum()\n",
    "\n",
    "print(f\"*********************alpha: {alpha}; uncertain: {uncertainty_threshold}; debias: {debias_threshold}; msp: {msp_threshold}****************************\")\n",
    "ft_embs_test = []\n",
    "labels_test = []\n",
    "logits_test = []\n",
    "log = defaultdict(list)\n",
    "num_cols = []\n",
    "corrected = 0\n",
    "total_mistakes = 0\n",
    "\n",
    "for batch_idx, batch in enumerate(test_dataloader_iter):\n",
    "    cls_indexes = torch.LongTensor([[0, batch[\"cls_indexes\"].cpu().item()]]).to(device)\n",
    "    target_col_mask = batch[\"target_col_mask\"].T\n",
    "    logits = model(batch[\"data\"].T, cls_indexes=cls_indexes,)\n",
    "    \n",
    "    labels_test.append(batch[\"label\"].cpu())\n",
    "    logits_test.append(logits.detach().cpu())\n",
    "labels_test = torch.cat(labels_test, dim=0)\n",
    "logits_test_init_origin = torch.stack(logits_test, dim=0)\n",
    "num_cols = torch.tensor(num_cols)\n",
    "\n"
   ]
  },
  {
   "cell_type": "code",
   "execution_count": 442,
   "metadata": {},
   "outputs": [],
   "source": [
    "    logits = reweight_logits(logits_test_init_origin.detach().cpu(), class_weights) # Here !!!!!!!!!!\n",
    "    ood_score = logits.max(1)[0]\n",
    "    preds_test = torch.argmax(logits, dim=1)"
   ]
  },
  {
   "cell_type": "code",
   "execution_count": 443,
   "metadata": {},
   "outputs": [
    {
     "data": {
      "text/plain": [
       "torch.Size([1085])"
      ]
     },
     "execution_count": 443,
     "metadata": {},
     "output_type": "execute_result"
    }
   ],
   "source": [
    "preds_test.shape"
   ]
  },
  {
   "cell_type": "code",
   "execution_count": 444,
   "metadata": {},
   "outputs": [
    {
     "data": {
      "text/plain": [
       "torch.Size([1085])"
      ]
     },
     "execution_count": 444,
     "metadata": {},
     "output_type": "execute_result"
    }
   ],
   "source": [
    "import torch.nn.functional as F\n",
    "for alpha in [0.125, 0.25, 0.5, 1.0, 1.1, 0.00001]:\n",
    "    class_weights = (1.0 / class_freq) ** alpha\n",
    "    # Normalize the weights\n",
    "    class_weights /= class_weights.sum()\n",
    "    logits = reweight_logits(logits_test_init_origin.detach().cpu(), class_weights) # Here !!!!!!!!!!\n",
    "    ood_score = logits.max(1)[0]\n",
    "    preds_test = torch.argmax(logits, dim=1)\n",
    "    ood_labels = torch.tensor(preds_test == labels_test).float()\n",
    "    from sklearn.metrics import roc_auc_score\n",
    "\n",
    "    print(alpha, roc_auc_score(ood_labels, ood_score))"
   ]
  },
  {
   "cell_type": "code",
   "execution_count": 519,
   "metadata": {},
   "outputs": [
    {
     "name": "stderr",
     "output_type": "stream",
     "text": [
      "/tmp/ipykernel_955267/324254938.py:9: UserWarning: To copy construct from a tensor, it is recommended to use sourceTensor.clone().detach() or sourceTensor.clone().detach().requires_grad_(True), rather than torch.tensor(sourceTensor).\n",
      "  ood_labels = torch.tensor(preds_test == labels_test).float()\n",
      "/tmp/ipykernel_955267/324254938.py:9: UserWarning: To copy construct from a tensor, it is recommended to use sourceTensor.clone().detach() or sourceTensor.clone().detach().requires_grad_(True), rather than torch.tensor(sourceTensor).\n",
      "  ood_labels = torch.tensor(preds_test == labels_test).float()\n",
      "/tmp/ipykernel_955267/324254938.py:9: UserWarning: To copy construct from a tensor, it is recommended to use sourceTensor.clone().detach() or sourceTensor.clone().detach().requires_grad_(True), rather than torch.tensor(sourceTensor).\n",
      "  ood_labels = torch.tensor(preds_test == labels_test).float()\n",
      "/tmp/ipykernel_955267/324254938.py:9: UserWarning: To copy construct from a tensor, it is recommended to use sourceTensor.clone().detach() or sourceTensor.clone().detach().requires_grad_(True), rather than torch.tensor(sourceTensor).\n",
      "  ood_labels = torch.tensor(preds_test == labels_test).float()\n"
     ]
    },
    {
     "name": "stdout",
     "output_type": "stream",
     "text": [
      "0.125 0.8552294444670989\n",
      "0.25 0.8552643204741319\n",
      "0.5 0.8713294825216694\n",
      "1.0 0.8697046905697448\n",
      "1.1 0.8617813386815106\n"
     ]
    },
    {
     "name": "stderr",
     "output_type": "stream",
     "text": [
      "/tmp/ipykernel_955267/324254938.py:9: UserWarning: To copy construct from a tensor, it is recommended to use sourceTensor.clone().detach() or sourceTensor.clone().detach().requires_grad_(True), rather than torch.tensor(sourceTensor).\n",
      "  ood_labels = torch.tensor(preds_test == labels_test).float()\n"
     ]
    }
   ],
   "source": [
    "import torch.nn.functional as F\n",
    "for alpha in [0.125, 0.25, 0.5, 1.0, 1.1]:\n",
    "    class_weights = (1.0 / class_freq) ** alpha\n",
    "    # Normalize the weights\n",
    "    class_weights /= class_weights.sum()\n",
    "    logits = reweight_logits(logits_test_init_origin.detach().cpu(), class_weights) # Here !!!!!!!!!!\n",
    "    ood_score = logits.max(1)[0]\n",
    "    preds_test = torch.argmax(logits, dim=1)\n",
    "    ood_labels = torch.tensor(preds_test == labels_test).float()\n",
    "    from sklearn.metrics import roc_auc_score\n",
    "\n",
    "    print(alpha, roc_auc_score(ood_labels, ood_score))"
   ]
  },
  {
   "cell_type": "code",
   "execution_count": null,
   "metadata": {},
   "outputs": [],
   "source": [
    "# *********************uncertain: 0.8; debias: 0.8; msp: 0.99****************************\n",
    "# /tmp/ipykernel_955267/1017438977.py:33: UserWarning: Implicit dimension choice for softmax has been deprecated. Change the call to include dim=X as an argument.\n",
    "#   msp_init = F.softmax(logits).max().item()\n",
    "# /tmp/ipykernel_955267/1017438977.py:61: UserWarning: Implicit dimension choice for softmax has been deprecated. Change the call to include dim=X as an argument.\n",
    "#   logits_temp = F.softmax(logits_temp)\n",
    "# ts_micro_f1=0.4571, ts_macro_f1=0.1923\n",
    "# ts_micro_f1=0.4350, ts_macro_f1=0.1870\n",
    "# ts_micro_f1=0.4823, ts_macro_f1=0.1573\n",
    "\n",
    "# *********************uncertain: 0.8; debias: 1.0; msp: 0.99****************************\n",
    "# /tmp/ipykernel_955267/2474143246.py:33: UserWarning: Implicit dimension choice for softmax has been deprecated. Change the call to include dim=X as an argument.\n",
    "#   msp_init = F.softmax(logits).max().item()\n",
    "# /tmp/ipykernel_955267/2474143246.py:61: UserWarning: Implicit dimension choice for softmax has been deprecated. Change the call to include dim=X as an argument.\n",
    "#   logits_temp = F.softmax(logits_temp)\n",
    "# ts_micro_f1=0.4562, ts_macro_f1=0.1914\n",
    "# ts_micro_f1=0.4333, ts_macro_f1=0.1849\n",
    "# ts_micro_f1=0.4823, ts_macro_f1=0.1573\n",
    "\n",
    "\n",
    "# *********************alpha: 0.125; uncertain: 0.8; debias: 0.9; msp: 0.99****************************\n",
    "# ts_micro_f1=0.4590, ts_macro_f1=0.1915\n",
    "# ts_micro_f1=0.4350, ts_macro_f1=0.1807\n",
    "# ts_micro_f1=0.4862, ts_macro_f1=0.1626"
   ]
  },
  {
   "cell_type": "code",
   "execution_count": null,
   "metadata": {},
   "outputs": [],
   "source": [
    "# uncertain init (0.9)\n",
    "# *********************debias: 0.9; msp: 0.95****************************\n",
    "# ts_micro_f1=0.4571, ts_macro_f1=0.1903\n",
    "# ts_micro_f1=0.4350, ts_macro_f1=0.1862\n",
    "# ts_micro_f1=0.4823, ts_macro_f1=0.1573"
   ]
  },
  {
   "cell_type": "code",
   "execution_count": 15,
   "metadata": {},
   "outputs": [
    {
     "name": "stdout",
     "output_type": "stream",
     "text": [
      "*********************Threshold: 0.5****************************\n"
     ]
    },
    {
     "name": "stderr",
     "output_type": "stream",
     "text": [
      "/tmp/ipykernel_955267/2547658102.py:38: UserWarning: Implicit dimension choice for softmax has been deprecated. Change the call to include dim=X as an argument.\n",
      "  ood_score_init = F.softmax(logits.detach()).max().item()\n",
      "/tmp/ipykernel_955267/2547658102.py:45: UserWarning: Implicit dimension choice for softmax has been deprecated. Change the call to include dim=X as an argument.\n",
      "  ood_score_target = F.softmax(logits_temp.detach()).max().item()\n",
      "/tmp/ipykernel_955267/2547658102.py:70: UserWarning: Implicit dimension choice for softmax has been deprecated. Change the call to include dim=X as an argument.\n",
      "  ood_score_temp =F.softmax(logits_temp.detach()).max().item()\n"
     ]
    }
   ],
   "source": [
    "\n",
    "# brute force perumate, find uncertain init prediction\n",
    "import itertools\n",
    "\n",
    "\n",
    "    \n",
    "model.load_state_dict(best_state_dict, strict=False)\n",
    "model.eval()\n",
    "model = model.to(device)\n",
    "change_log = []\n",
    "score_init = []\n",
    "score_best = [] \n",
    "idx_list = []\n",
    "uncertain_init_mask = []\n",
    "uncertain_target_mask = []\n",
    "correct_init_mask = []\n",
    "correct_target_mask = []\n",
    "correct_permutation_mask = []\n",
    "correct_msp_mask = []\n",
    "init_target_mask = []\n",
    "ood_score_init_list = []\n",
    "ood_score_target_list = []\n",
    "\n",
    "\n",
    "alpha = 1.0\n",
    "class_weights = (1.0 / class_freq) ** alpha\n",
    "\n",
    "# Normalize the weights\n",
    "class_weights /= class_weights.sum()\n",
    "for threshold in [0.5]:\n",
    "    print(f\"*********************Threshold: {threshold}****************************\")\n",
    "    ft_embs_test = []\n",
    "    labels_test = []\n",
    "    logits_test = []\n",
    "    log = defaultdict(list)\n",
    "    num_cols = []\n",
    "    corrected = 0\n",
    "    total_mistakes = 0\n",
    "\n",
    "    for batch_idx, batch in enumerate(test_dataloader_iter):\n",
    "        target_col_mask = batch[\"target_col_mask\"].T\n",
    "        if 1 in target_col_mask:\n",
    "            idx_list.append(batch_idx)\n",
    "\n",
    "            cls_indexes = torch.LongTensor([[0, batch[\"cls_indexes\"].cpu().item()]]).to(device)\n",
    "            logits = model(batch[\"data\"].T, cls_indexes=cls_indexes,)\n",
    "            num_cols.append(batch[\"target_col_mask\"].max().item())\n",
    "            ood_score_init = F.softmax(logits.detach()).max().item()\n",
    "            ood_score_init_list.append(ood_score_init)\n",
    "            uncertain_init_mask.append(ood_score_init < threshold)\n",
    "            predict_init = logits.argmax().item()\n",
    "            correct_init_mask.append(predict_init == batch[\"label\"].item())\n",
    "            \n",
    "            cls_indexes = torch.tensor([0, 0]).reshape(1, -1).to(device)\n",
    "            logits_temp = model(batch[\"data\"].T[target_col_mask==0].reshape(1, -1), cls_indexes=cls_indexes,)    \n",
    "            ood_score_target = F.softmax(logits_temp.detach()).max().item()\n",
    "            ood_score_target_list.append(ood_score_target)\n",
    "            uncertain_target_mask.append(ood_score_target < threshold)\n",
    "            predict_target = logits_temp.argmax().item()\n",
    "            correct_target_mask.append(predict_target == batch[\"label\"].item())\n",
    "            \n",
    "            init_target_mask.append(predict_target == predict_init)\n",
    "            \n",
    "            correct_permutation = False\n",
    "            ood_score_max = 0\n",
    "            col_idx_set = target_col_mask.unique().tolist()\n",
    "            assert -1 not in col_idx_set\n",
    "            for r in range(1, len(col_idx_set) + 1):\n",
    "                for subset in itertools.combinations(col_idx_set, r):\n",
    "                    for x in itertools.permutations(subset):\n",
    "                        if 0 not in x:\n",
    "                            continue\n",
    "                        new_batch_data = []\n",
    "                        for col_i in x:\n",
    "                            if col_i == 0:\n",
    "                                if len(new_batch_data) == 0:\n",
    "                                    cls_indexes_value = 0\n",
    "                                else:\n",
    "                                    cls_indexes_value = sum([len(new_batch_data[i]) for i in range(len(new_batch_data))])\n",
    "                            new_batch_data.append(batch[\"data\"].T[target_col_mask==col_i])\n",
    "                        new_batch_data = torch.cat(new_batch_data, dim=-1).reshape(1, -1)\n",
    "                        cls_indexes = torch.tensor([0, cls_indexes_value]).reshape(1, -1).to(device)\n",
    "                        logits_temp = model(new_batch_data, cls_indexes=cls_indexes,)\n",
    "                        ood_score_temp =F.softmax(logits_temp.detach()).max().item()\n",
    "                        predict_temp = logits_temp.argmax().item()\n",
    "                        if ood_score_temp > ood_score_max:\n",
    "                            ood_score_max = ood_score_temp \n",
    "                            predict_ood = logits_temp.argmax().item()\n",
    "                        if predict_temp == batch[\"label\"].item():\n",
    "                            correct_permutation = True\n",
    "            correct_permutation_mask.append(correct_permutation)\n",
    "            correct_msp_mask.append(predict_ood == batch[\"label\"].item())\n",
    "            "
   ]
  },
  {
   "cell_type": "code",
   "execution_count": 316,
   "metadata": {},
   "outputs": [
    {
     "name": "stdout",
     "output_type": "stream",
     "text": [
      "*********************Threshold: 0.5****************************\n"
     ]
    }
   ],
   "source": [
    "\n",
    "# brute force perumate, find uncertain init prediction, weighted msp\n",
    "import itertools\n",
    "\n",
    "\n",
    "    \n",
    "model.load_state_dict(best_state_dict, strict=False)\n",
    "model.eval()\n",
    "model = model.to(device)\n",
    "change_log = []\n",
    "score_init = []\n",
    "score_best = [] \n",
    "idx_list = []\n",
    "uncertain_init_mask = []\n",
    "uncertain_target_mask = []\n",
    "correct_init_mask = []\n",
    "correct_target_mask = []\n",
    "correct_permutation_mask = []\n",
    "correct_msp_mask = []\n",
    "init_target_mask = []\n",
    "ood_score_init_list = []\n",
    "ood_score_target_list = []\n",
    "ood_score_final_list = []\n",
    "\n",
    "alpha = 1.0\n",
    "class_weights = (1.0 / class_freq) ** alpha\n",
    "debias_threshold = 0.9\n",
    "# Normalize the weights\n",
    "class_weights /= class_weights.sum()\n",
    "for threshold in [0.5]:\n",
    "    print(f\"*********************Threshold: {threshold}****************************\")\n",
    "    ft_embs_test = []\n",
    "    labels_test = []\n",
    "    logits_test = []\n",
    "    log = defaultdict(list)\n",
    "    num_cols = []\n",
    "    corrected = 0\n",
    "    total_mistakes = 0\n",
    "\n",
    "    for batch_idx, batch in enumerate(test_dataloader_iter):\n",
    "        target_col_mask = batch[\"target_col_mask\"].T\n",
    "        if 1 in target_col_mask:\n",
    "            idx_list.append(batch_idx)\n",
    "\n",
    "            cls_indexes = torch.LongTensor([[0, batch[\"cls_indexes\"].cpu().item()]]).to(device)\n",
    "            logits = model(batch[\"data\"].T, cls_indexes=cls_indexes,)\n",
    "            logits = reweight_logits(logits.detach().cpu(), class_weights)\n",
    "            num_cols.append(batch[\"target_col_mask\"].max().item())         \n",
    "            ood_score_init = logits.max().item()\n",
    "            ood_score_init_list.append(ood_score_init)\n",
    "            uncertain_init_mask.append(ood_score_init < threshold)\n",
    "            predict_init = logits.argmax().item()\n",
    "            correct_init_mask.append(predict_init == batch[\"label\"].item())\n",
    "            \n",
    "            cls_indexes = torch.tensor([0, 0]).reshape(1, -1).to(device)\n",
    "            logits_temp = model(batch[\"data\"].T[target_col_mask==0].reshape(1, -1), cls_indexes=cls_indexes,)  \n",
    "            logits_temp = reweight_logits(logits_temp.detach().cpu(), class_weights)\n",
    "            ood_score_target = logits_temp.max().item()\n",
    "            ood_score_target_list.append(ood_score_target)\n",
    "            uncertain_target_mask.append(ood_score_target < threshold)\n",
    "            predict_target = logits_temp.argmax().item()\n",
    "            correct_target_mask.append(predict_target == batch[\"label\"].item())\n",
    "            \n",
    "\n",
    "            init_target_mask.append(predict_target == predict_init)\n",
    "            \n",
    "            correct_permutation = False\n",
    "            ood_score_max = max_msp = 0\n",
    "            max_msp_debiased = 0\n",
    "            debias_class = []\n",
    "            col_idx_set = target_col_mask.unique().tolist()\n",
    "            assert -1 not in col_idx_set\n",
    "            for r in range(1, len(col_idx_set) + 1):\n",
    "                for subset in itertools.combinations(col_idx_set, r):\n",
    "                    # if 0 not in subset:\n",
    "                    #     continue\n",
    "                    for x in itertools.permutations(subset):\n",
    "                        new_batch_data = []\n",
    "                        for col_i in x:\n",
    "                            if col_i == 0:\n",
    "                                if len(new_batch_data) == 0:\n",
    "                                    cls_indexes_value = 0\n",
    "                                else:\n",
    "                                    cls_indexes_value = sum([len(new_batch_data[i]) for i in range(len(new_batch_data))])\n",
    "                            new_batch_data.append(batch[\"data\"].T[target_col_mask==col_i])\n",
    "                        new_batch_data = torch.cat(new_batch_data, dim=-1).reshape(1, -1)\n",
    "                        cls_indexes = torch.tensor([0, cls_indexes_value]).reshape(1, -1).to(device)\n",
    "                        logits_temp = model(new_batch_data, cls_indexes=cls_indexes,)\n",
    "                        logits_temp = reweight_logits(logits_temp.detach().cpu(), class_weights)\n",
    "                        msp_temp = logits_temp.max().item()\n",
    "                        predict_temp = logits_temp.argmax().item()\n",
    "                        if 0 not in x and msp_temp > debias_threshold and (predict_temp!=predict_target or predict_temp!=predict_init):\n",
    "                            debias_class.append(predict_temp)\n",
    "                            continue\n",
    "                        # print(x, msp_temp, predict_temp)\n",
    "                        if msp_temp > max_msp and 0 in x and predict_temp not in debias_class:\n",
    "                            max_msp = msp_temp\n",
    "                            msp_predict = predict_temp\n",
    "                        if predict_temp == batch[\"label\"].item():\n",
    "                            correct_permutation = True\n",
    "            ood_score_final_list.append(max_msp)\n",
    "            correct_permutation_mask.append(correct_permutation)\n",
    "            correct_msp_mask.append(msp_predict == batch[\"label\"].item())"
   ]
  },
  {
   "cell_type": "code",
   "execution_count": 318,
   "metadata": {},
   "outputs": [
    {
     "name": "stdout",
     "output_type": "stream",
     "text": [
      "577 577 577 577 577 577 577 577\n"
     ]
    },
    {
     "name": "stderr",
     "output_type": "stream",
     "text": [
      "/tmp/ipykernel_955267/1309743969.py:1: UserWarning: To copy construct from a tensor, it is recommended to use sourceTensor.clone().detach() or sourceTensor.clone().detach().requires_grad_(True), rather than torch.tensor(sourceTensor).\n",
      "  idx_list = torch.tensor(idx_list)\n",
      "/tmp/ipykernel_955267/1309743969.py:2: UserWarning: To copy construct from a tensor, it is recommended to use sourceTensor.clone().detach() or sourceTensor.clone().detach().requires_grad_(True), rather than torch.tensor(sourceTensor).\n",
      "  uncertain_init_mask = torch.tensor(uncertain_init_mask)\n",
      "/tmp/ipykernel_955267/1309743969.py:3: UserWarning: To copy construct from a tensor, it is recommended to use sourceTensor.clone().detach() or sourceTensor.clone().detach().requires_grad_(True), rather than torch.tensor(sourceTensor).\n",
      "  uncertain_target_mask = torch.tensor(uncertain_target_mask)\n",
      "/tmp/ipykernel_955267/1309743969.py:4: UserWarning: To copy construct from a tensor, it is recommended to use sourceTensor.clone().detach() or sourceTensor.clone().detach().requires_grad_(True), rather than torch.tensor(sourceTensor).\n",
      "  correct_init_mask = torch.tensor(correct_init_mask)\n",
      "/tmp/ipykernel_955267/1309743969.py:5: UserWarning: To copy construct from a tensor, it is recommended to use sourceTensor.clone().detach() or sourceTensor.clone().detach().requires_grad_(True), rather than torch.tensor(sourceTensor).\n",
      "  correct_target_mask = torch.tensor(correct_target_mask)\n",
      "/tmp/ipykernel_955267/1309743969.py:6: UserWarning: To copy construct from a tensor, it is recommended to use sourceTensor.clone().detach() or sourceTensor.clone().detach().requires_grad_(True), rather than torch.tensor(sourceTensor).\n",
      "  correct_permutation_mask = torch.tensor(correct_permutation_mask)\n",
      "/tmp/ipykernel_955267/1309743969.py:7: UserWarning: To copy construct from a tensor, it is recommended to use sourceTensor.clone().detach() or sourceTensor.clone().detach().requires_grad_(True), rather than torch.tensor(sourceTensor).\n",
      "  correct_msp_mask = torch.tensor(correct_msp_mask)\n",
      "/tmp/ipykernel_955267/1309743969.py:8: UserWarning: To copy construct from a tensor, it is recommended to use sourceTensor.clone().detach() or sourceTensor.clone().detach().requires_grad_(True), rather than torch.tensor(sourceTensor).\n",
      "  init_target_mask = torch.tensor(init_target_mask)\n",
      "/tmp/ipykernel_955267/1309743969.py:9: UserWarning: To copy construct from a tensor, it is recommended to use sourceTensor.clone().detach() or sourceTensor.clone().detach().requires_grad_(True), rather than torch.tensor(sourceTensor).\n",
      "  ood_score_init_list = torch.tensor(ood_score_init_list)\n",
      "/tmp/ipykernel_955267/1309743969.py:10: UserWarning: To copy construct from a tensor, it is recommended to use sourceTensor.clone().detach() or sourceTensor.clone().detach().requires_grad_(True), rather than torch.tensor(sourceTensor).\n",
      "  ood_score_target_list = torch.tensor(ood_score_target_list)\n",
      "/tmp/ipykernel_955267/1309743969.py:11: UserWarning: To copy construct from a tensor, it is recommended to use sourceTensor.clone().detach() or sourceTensor.clone().detach().requires_grad_(True), rather than torch.tensor(sourceTensor).\n",
      "  ood_score_final_list = torch.tensor(ood_score_final_list)\n"
     ]
    }
   ],
   "source": [
    "\n",
    "idx_list = torch.tensor(idx_list)\n",
    "uncertain_init_mask = torch.tensor(uncertain_init_mask)\n",
    "uncertain_target_mask = torch.tensor(uncertain_target_mask)\n",
    "correct_init_mask = torch.tensor(correct_init_mask)\n",
    "correct_target_mask = torch.tensor(correct_target_mask)\n",
    "correct_permutation_mask = torch.tensor(correct_permutation_mask)\n",
    "correct_msp_mask = torch.tensor(correct_msp_mask)\n",
    "init_target_mask = torch.tensor(init_target_mask)\n",
    "ood_score_init_list = torch.tensor(ood_score_init_list)\n",
    "ood_score_target_list = torch.tensor(ood_score_target_list)\n",
    "ood_score_final_list = torch.tensor(ood_score_final_list)\n",
    "print(len(idx_list), len(uncertain_init_mask), len(uncertain_target_mask), len(init_target_mask), len(correct_init_mask), len(correct_target_mask), len(correct_permutation_mask), len(correct_msp_mask))\n",
    "\n",
    "\n",
    "# torch.save({\"idx_list\": idx_list, \"uncertain_init_mask\": uncertain_init_mask, \"uncertain_target_mask\": uncertain_target_mask, \"correct_init_mask\": correct_init_mask, \"correct_target_mask\": correct_target_mask, \"correct_permutation_mask\": correct_permutation_mask, \"correct_msp_mask\": correct_msp_mask, \"init_target_mask\": init_target_mask, \"ood_score_init_list\": ood_score_init_list, \"ood_score_target_list\": ood_score_target_list}, \"./results/brute_force_permutation.pth\")"
   ]
  },
  {
   "cell_type": "code",
   "execution_count": 319,
   "metadata": {},
   "outputs": [
    {
     "data": {
      "text/plain": [
       "577"
      ]
     },
     "execution_count": 319,
     "metadata": {},
     "output_type": "execute_result"
    }
   ],
   "source": [
    "len(ood_score_final_list)"
   ]
  },
  {
   "cell_type": "code",
   "execution_count": 328,
   "metadata": {},
   "outputs": [],
   "source": [
    "prefix_mask = (~(init_target_mask&(~uncertain_init_mask & ~uncertain_target_mask)))"
   ]
  },
  {
   "cell_type": "code",
   "execution_count": 335,
   "metadata": {},
   "outputs": [
    {
     "name": "stdout",
     "output_type": "stream",
     "text": [
      "tensor(484) tensor(0.3326)\n"
     ]
    }
   ],
   "source": [
    "print(sum(prefix_mask), correct_msp_mask[prefix_mask].sum()/sum(prefix_mask))"
   ]
  },
  {
   "cell_type": "code",
   "execution_count": null,
   "metadata": {},
   "outputs": [],
   "source": []
  },
  {
   "cell_type": "code",
   "execution_count": 393,
   "metadata": {},
   "outputs": [
    {
     "name": "stdout",
     "output_type": "stream",
     "text": [
      "tensor(76) tensor(31) tensor(0.4079)\n"
     ]
    }
   ],
   "source": [
    "threshold = 0.95\n",
    "print(sum(prefix_mask&(ood_score_final_list>threshold)), correct_msp_mask[prefix_mask&(ood_score_final_list>threshold)].sum(), correct_msp_mask[prefix_mask&(ood_score_final_list>threshold)].sum()/sum(prefix_mask&(ood_score_final_list>threshold)))"
   ]
  },
  {
   "cell_type": "code",
   "execution_count": 392,
   "metadata": {},
   "outputs": [
    {
     "name": "stdout",
     "output_type": "stream",
     "text": [
      "tensor(76) tensor(34) tensor(0.4474)\n"
     ]
    }
   ],
   "source": [
    "threshold = 0.95\n",
    "print(sum(prefix_mask&(ood_score_final_list>threshold)), correct_init_mask[prefix_mask&(ood_score_final_list>threshold)].sum(), correct_init_mask[prefix_mask&(ood_score_final_list>threshold)].sum()/sum(prefix_mask&(ood_score_final_list>threshold)))"
   ]
  },
  {
   "cell_type": "code",
   "execution_count": null,
   "metadata": {},
   "outputs": [],
   "source": []
  },
  {
   "cell_type": "code",
   "execution_count": null,
   "metadata": {},
   "outputs": [],
   "source": []
  },
  {
   "cell_type": "code",
   "execution_count": 355,
   "metadata": {},
   "outputs": [
    {
     "data": {
      "text/plain": [
       "tensor(88)"
      ]
     },
     "execution_count": 355,
     "metadata": {},
     "output_type": "execute_result"
    }
   ],
   "source": [
    "(correct_init_mask[prefix_mask&(ood_score_final_list>threshold)]&correct_init_mask[prefix_mask&(ood_score_final_list>threshold)]).sum()"
   ]
  },
  {
   "cell_type": "code",
   "execution_count": 357,
   "metadata": {},
   "outputs": [
    {
     "data": {
      "text/plain": [
       "tensor(68)"
      ]
     },
     "execution_count": 357,
     "metadata": {},
     "output_type": "execute_result"
    }
   ],
   "source": [
    "(correct_init_mask[prefix_mask&(ood_score_final_list>threshold)]&correct_msp_mask[prefix_mask&(ood_score_final_list>threshold)]).sum()"
   ]
  },
  {
   "cell_type": "code",
   "execution_count": 358,
   "metadata": {},
   "outputs": [
    {
     "data": {
      "text/plain": [
       "tensor(108)"
      ]
     },
     "execution_count": 358,
     "metadata": {},
     "output_type": "execute_result"
    }
   ],
   "source": [
    "(correct_init_mask[prefix_mask&(ood_score_final_list>threshold)]|correct_msp_mask[prefix_mask&(ood_score_final_list>threshold)]).sum()"
   ]
  },
  {
   "cell_type": "code",
   "execution_count": 366,
   "metadata": {},
   "outputs": [],
   "source": [
    "msp_new_idx = []\n",
    "for i in idx_list[correct_msp_mask&prefix_mask&(ood_score_final_list>threshold)]:\n",
    "    if i not in idx_list[correct_init_mask&prefix_mask&(ood_score_final_list>threshold)]:\n",
    "        msp_new_idx.append(i)\n",
    "msp_new_idx = torch.tensor(msp_new_idx)\n",
    "init_new_idx = []\n",
    "for i in idx_list[correct_init_mask&prefix_mask&(ood_score_final_list>threshold)]:\n",
    "    if i not in idx_list[correct_msp_mask&prefix_mask&(ood_score_final_list>threshold)]:\n",
    "        init_new_idx.append(i)\n",
    "init_new_idx = torch.tensor(init_new_idx)"
   ]
  },
  {
   "cell_type": "code",
   "execution_count": null,
   "metadata": {},
   "outputs": [],
   "source": []
  },
  {
   "cell_type": "code",
   "execution_count": null,
   "metadata": {},
   "outputs": [],
   "source": [
    "init_target_mask"
   ]
  },
  {
   "cell_type": "code",
   "execution_count": 90,
   "metadata": {},
   "outputs": [
    {
     "name": "stdout",
     "output_type": "stream",
     "text": [
      "5\n"
     ]
    }
   ],
   "source": [
    "target_id_list_pos = idx_list[(uncertain_init_mask & uncertain_target_mask) & correct_permutation_mask & correct_msp_mask ]\n",
    "print(len(target_id_list_pos))"
   ]
  },
  {
   "cell_type": "code",
   "execution_count": 91,
   "metadata": {},
   "outputs": [
    {
     "name": "stdout",
     "output_type": "stream",
     "text": [
      "9\n"
     ]
    }
   ],
   "source": [
    "target_id_list_neg = idx_list[(uncertain_init_mask & uncertain_target_mask) & correct_permutation_mask & ~correct_msp_mask ]\n",
    "print(len(target_id_list_neg))"
   ]
  },
  {
   "cell_type": "code",
   "execution_count": null,
   "metadata": {},
   "outputs": [],
   "source": []
  },
  {
   "cell_type": "code",
   "execution_count": 53,
   "metadata": {},
   "outputs": [
    {
     "name": "stdout",
     "output_type": "stream",
     "text": [
      "577 203 322\n"
     ]
    }
   ],
   "source": [
    "print(len(uncertain_init_mask), len(idx_list[(uncertain_init_mask | uncertain_target_mask)]), correct_permutation_mask.sum().item())"
   ]
  },
  {
   "cell_type": "code",
   "execution_count": 107,
   "metadata": {},
   "outputs": [
    {
     "name": "stdout",
     "output_type": "stream",
     "text": [
      "239 0.41421143847487 244 0.42287694974003465 229 0.3968804159445407\n"
     ]
    }
   ],
   "source": [
    "print(correct_msp_mask.sum().item(), correct_msp_mask.sum().item()/len(correct_msp_mask), \n",
    "      correct_init_mask.sum().item(), correct_init_mask.sum().item()/len(correct_init_mask), \n",
    "      correct_target_mask.sum().item(), correct_target_mask.sum().item()/len(correct_target_mask))"
   ]
  },
  {
   "cell_type": "code",
   "execution_count": 81,
   "metadata": {},
   "outputs": [
    {
     "name": "stdout",
     "output_type": "stream",
     "text": [
      "0.41421143847487 0.42287694974003465 0.3968804159445407\n"
     ]
    }
   ],
   "source": [
    "print(correct_msp_mask.sum().item()/len(correct_msp_mask), correct_init_mask.sum().item()/len(correct_msp_mask), correct_target_mask.sum().item()/len(correct_msp_mask))"
   ]
  },
  {
   "cell_type": "code",
   "execution_count": 86,
   "metadata": {},
   "outputs": [
    {
     "name": "stdout",
     "output_type": "stream",
     "text": [
      "193 338 0.5710059171597633\n"
     ]
    }
   ],
   "source": [
    "print((init_target_mask&correct_init_mask).sum().item(), init_target_mask.sum().item(), (init_target_mask&correct_init_mask).sum().item()/init_target_mask.sum().item())"
   ]
  },
  {
   "cell_type": "code",
   "execution_count": 123,
   "metadata": {},
   "outputs": [
    {
     "name": "stdout",
     "output_type": "stream",
     "text": [
      "Init\n",
      "175 282 0.6205673758865248\n",
      "69 295 0.23389830508474577\n",
      "MSP\n",
      "180 282 0.6382978723404256\n",
      "59 295 0.2\n"
     ]
    }
   ],
   "source": [
    "print(\"Init\")\n",
    "# init prediction\n",
    "print((init_target_mask&((~uncertain_init_mask & ~uncertain_target_mask)&correct_init_mask)).sum().item(), \n",
    "      (init_target_mask&(~uncertain_init_mask & ~uncertain_target_mask)).sum().item(), \n",
    "      (init_target_mask&correct_init_mask&(~uncertain_init_mask & ~uncertain_target_mask)).sum().item()/(init_target_mask&(~uncertain_init_mask & ~uncertain_target_mask)).sum().item())\n",
    "# init prediction\n",
    "print((~(init_target_mask&(~uncertain_init_mask & ~uncertain_target_mask))& correct_init_mask).sum().item(), (~(init_target_mask&(~uncertain_init_mask & ~uncertain_target_mask))).sum().item(), \n",
    "      (~(init_target_mask&(~uncertain_init_mask & ~uncertain_target_mask))& correct_init_mask).sum().item()/(~(init_target_mask&(~uncertain_init_mask & ~uncertain_target_mask))).sum().item())\n",
    "print(\"MSP\")\n",
    "# msp prediction\n",
    "print((init_target_mask&((~uncertain_init_mask & ~uncertain_target_mask)&correct_msp_mask)).sum().item(), \n",
    "      (init_target_mask&(~uncertain_init_mask & ~uncertain_target_mask)).sum().item(), \n",
    "      (init_target_mask&correct_msp_mask&(~uncertain_init_mask & ~uncertain_target_mask)).sum().item()/(init_target_mask&(~uncertain_init_mask & ~uncertain_target_mask)).sum().item())\n",
    "# msp prediction\n",
    "print((~(init_target_mask&(~uncertain_init_mask & ~uncertain_target_mask))& correct_msp_mask).sum().item(), (~(init_target_mask&(~uncertain_init_mask & ~uncertain_target_mask))).sum().item(), \n",
    "      (~(init_target_mask&(~uncertain_init_mask & ~uncertain_target_mask))& correct_msp_mask).sum().item()/(~(init_target_mask&(~uncertain_init_mask & ~uncertain_target_mask))).sum().item())"
   ]
  },
  {
   "cell_type": "code",
   "execution_count": 256,
   "metadata": {},
   "outputs": [
    {
     "name": "stdout",
     "output_type": "stream",
     "text": [
      "577 577 577 319\n"
     ]
    }
   ],
   "source": [
    "print(len(uncertain_init_mask), len(uncertain_target_mask), len(correct_init_mask), len(init_target_mask))"
   ]
  },
  {
   "cell_type": "code",
   "execution_count": 263,
   "metadata": {},
   "outputs": [
    {
     "data": {
      "text/plain": [
       "tensor(93)"
      ]
     },
     "execution_count": 263,
     "metadata": {},
     "output_type": "execute_result"
    }
   ],
   "source": [
    "(init_target_mask&(~uncertain_init_mask & ~uncertain_target_mask)).sum()"
   ]
  },
  {
   "cell_type": "code",
   "execution_count": 300,
   "metadata": {},
   "outputs": [
    {
     "name": "stdout",
     "output_type": "stream",
     "text": [
      "*********************Threshold: 0.5****************************\n",
      "Init\n",
      "140 209 0.6698564593301436\n",
      "94 368 0.2554347826086957\n",
      "MSP\n",
      "136 209 0.6507177033492823\n",
      "100 368 0.2717391304347826\n",
      "*********************Threshold: 0.6****************************\n",
      "Init\n",
      "127 182 0.6978021978021978\n",
      "107 395 0.2708860759493671\n",
      "MSP\n",
      "123 182 0.6758241758241759\n",
      "113 395 0.28607594936708863\n",
      "*********************Threshold: 0.7****************************\n",
      "Init\n",
      "120 167 0.718562874251497\n",
      "114 410 0.2780487804878049\n",
      "MSP\n",
      "117 167 0.7005988023952096\n",
      "119 410 0.29024390243902437\n",
      "*********************Threshold: 0.8****************************\n",
      "Init\n",
      "103 139 0.7410071942446043\n",
      "131 438 0.2990867579908676\n",
      "MSP\n",
      "101 139 0.7266187050359713\n",
      "135 438 0.3082191780821918\n",
      "*********************Threshold: 0.9****************************\n",
      "Init\n",
      "76 93 0.8172043010752689\n",
      "158 484 0.32644628099173556\n",
      "MSP\n",
      "75 93 0.8064516129032258\n",
      "161 484 0.33264462809917356\n"
     ]
    }
   ],
   "source": [
    "# Weighted\n",
    "for threshold in [0.5, 0.6, 0.7, 0.8, 0.9]:\n",
    "    uncertain_init_mask = ood_score_init_list < threshold\n",
    "    uncertain_target_mask = ood_score_target_list < threshold\n",
    "    print(f\"*********************Threshold: {threshold}****************************\")\n",
    "    print(\"Init\")\n",
    "    # init prediction\n",
    "    print((init_target_mask&((~uncertain_init_mask & ~uncertain_target_mask)&correct_init_mask)).sum().item(), \n",
    "        (init_target_mask&(~uncertain_init_mask & ~uncertain_target_mask)).sum().item(), \n",
    "        (init_target_mask&correct_init_mask&(~uncertain_init_mask & ~uncertain_target_mask)).sum().item()/(init_target_mask&(~uncertain_init_mask & ~uncertain_target_mask)).sum().item())\n",
    "    # init prediction\n",
    "    print((~(init_target_mask&(~uncertain_init_mask & ~uncertain_target_mask))& correct_init_mask).sum().item(), (~(init_target_mask&(~uncertain_init_mask & ~uncertain_target_mask))).sum().item(), \n",
    "        (~(init_target_mask&(~uncertain_init_mask & ~uncertain_target_mask))& correct_init_mask).sum().item()/(~(init_target_mask&(~uncertain_init_mask & ~uncertain_target_mask))).sum().item())\n",
    "    print(\"MSP\")\n",
    "    # msp prediction\n",
    "    print((init_target_mask&((~uncertain_init_mask & ~uncertain_target_mask)&correct_msp_mask)).sum().item(), \n",
    "        (init_target_mask&(~uncertain_init_mask & ~uncertain_target_mask)).sum().item(), \n",
    "        (init_target_mask&correct_msp_mask&(~uncertain_init_mask & ~uncertain_target_mask)).sum().item()/(init_target_mask&(~uncertain_init_mask & ~uncertain_target_mask)).sum().item())\n",
    "    # msp prediction\n",
    "    print((~(init_target_mask&(~uncertain_init_mask & ~uncertain_target_mask))& correct_msp_mask).sum().item(), (~(init_target_mask&(~uncertain_init_mask & ~uncertain_target_mask))).sum().item(), \n",
    "        (~(init_target_mask&(~uncertain_init_mask & ~uncertain_target_mask))& correct_msp_mask).sum().item()/(~(init_target_mask&(~uncertain_init_mask & ~uncertain_target_mask))).sum().item())"
   ]
  },
  {
   "cell_type": "code",
   "execution_count": 124,
   "metadata": {},
   "outputs": [
    {
     "name": "stdout",
     "output_type": "stream",
     "text": [
      "*********************Threshold: 0.5****************************\n",
      "Init\n",
      "175 282 0.6205673758865248\n",
      "69 295 0.23389830508474577\n",
      "MSP\n",
      "180 282 0.6382978723404256\n",
      "59 295 0.2\n",
      "*********************Threshold: 0.6****************************\n",
      "Init\n",
      "169 266 0.6353383458646616\n",
      "75 311 0.24115755627009647\n",
      "MSP\n",
      "173 266 0.650375939849624\n",
      "66 311 0.21221864951768488\n",
      "*********************Threshold: 0.7****************************\n",
      "Init\n",
      "156 236 0.6610169491525424\n",
      "88 341 0.25806451612903225\n",
      "MSP\n",
      "159 236 0.673728813559322\n",
      "80 341 0.23460410557184752\n",
      "*********************Threshold: 0.8****************************\n",
      "Init\n",
      "152 219 0.6940639269406392\n",
      "92 358 0.2569832402234637\n",
      "MSP\n",
      "153 219 0.6986301369863014\n",
      "86 358 0.24022346368715083\n",
      "*********************Threshold: 0.9****************************\n",
      "Init\n",
      "139 191 0.7277486910994765\n",
      "105 386 0.27202072538860106\n",
      "MSP\n",
      "140 191 0.7329842931937173\n",
      "99 386 0.25647668393782386\n"
     ]
    }
   ],
   "source": [
    "for threshold in [0.5, 0.6, 0.7, 0.8, 0.9]:\n",
    "    uncertain_init_mask = ood_score_init_list < threshold\n",
    "    uncertain_target_mask = ood_score_target_list < threshold\n",
    "    print(f\"*********************Threshold: {threshold}****************************\")\n",
    "    print(\"Init\")\n",
    "    # init prediction\n",
    "    print((init_target_mask&((~uncertain_init_mask & ~uncertain_target_mask)&correct_init_mask)).sum().item(), \n",
    "        (init_target_mask&(~uncertain_init_mask & ~uncertain_target_mask)).sum().item(), \n",
    "        (init_target_mask&correct_init_mask&(~uncertain_init_mask & ~uncertain_target_mask)).sum().item()/(init_target_mask&(~uncertain_init_mask & ~uncertain_target_mask)).sum().item())\n",
    "    # init prediction\n",
    "    print((~(init_target_mask&(~uncertain_init_mask & ~uncertain_target_mask))& correct_init_mask).sum().item(), (~(init_target_mask&(~uncertain_init_mask & ~uncertain_target_mask))).sum().item(), \n",
    "        (~(init_target_mask&(~uncertain_init_mask & ~uncertain_target_mask))& correct_init_mask).sum().item()/(~(init_target_mask&(~uncertain_init_mask & ~uncertain_target_mask))).sum().item())\n",
    "    print(\"MSP\")\n",
    "    # msp prediction\n",
    "    print((init_target_mask&((~uncertain_init_mask & ~uncertain_target_mask)&correct_msp_mask)).sum().item(), \n",
    "        (init_target_mask&(~uncertain_init_mask & ~uncertain_target_mask)).sum().item(), \n",
    "        (init_target_mask&correct_msp_mask&(~uncertain_init_mask & ~uncertain_target_mask)).sum().item()/(init_target_mask&(~uncertain_init_mask & ~uncertain_target_mask)).sum().item())\n",
    "    # msp prediction\n",
    "    print((~(init_target_mask&(~uncertain_init_mask & ~uncertain_target_mask))& correct_msp_mask).sum().item(), (~(init_target_mask&(~uncertain_init_mask & ~uncertain_target_mask))).sum().item(), \n",
    "        (~(init_target_mask&(~uncertain_init_mask & ~uncertain_target_mask))& correct_msp_mask).sum().item()/(~(init_target_mask&(~uncertain_init_mask & ~uncertain_target_mask))).sum().item())"
   ]
  },
  {
   "cell_type": "code",
   "execution_count": null,
   "metadata": {},
   "outputs": [],
   "source": []
  },
  {
   "cell_type": "code",
   "execution_count": 134,
   "metadata": {},
   "outputs": [
    {
     "name": "stdout",
     "output_type": "stream",
     "text": [
      "*********************Threshold: 0.5****************************\n",
      "Init\n",
      "175 282 0.6205673758865248\n",
      "69 295 0.23389830508474577\n",
      "MSP\n",
      "180 282 0.6382978723404256\n",
      "59 295 0.2\n",
      "MSP & Init\n",
      "175\n",
      "29\n",
      "99 0.33559322033898303\n",
      "Permutation\n",
      "194 282 0.6879432624113475\n",
      "128 295 0.43389830508474575\n",
      "*********************Threshold: 0.8****************************\n",
      "Init\n",
      "152 219 0.6940639269406392\n",
      "92 358 0.2569832402234637\n",
      "MSP\n",
      "153 219 0.6986301369863014\n",
      "86 358 0.24022346368715083\n",
      "MSP & Init\n",
      "152\n",
      "52\n",
      "126 0.35195530726256985\n",
      "Permutation\n",
      "162 219 0.7397260273972602\n",
      "160 358 0.44692737430167595\n",
      "*********************Threshold: 0.9****************************\n",
      "Init\n",
      "139 191 0.7277486910994765\n",
      "105 386 0.27202072538860106\n",
      "MSP\n",
      "140 191 0.7329842931937173\n",
      "99 386 0.25647668393782386\n",
      "MSP & Init\n",
      "139\n",
      "65\n",
      "139 0.3601036269430052\n",
      "Permutation\n",
      "147 191 0.7696335078534031\n",
      "175 386 0.4533678756476684\n",
      "*********************Threshold: 0.95****************************\n",
      "Init\n",
      "118 159 0.7421383647798742\n",
      "126 418 0.3014354066985646\n",
      "MSP\n",
      "119 159 0.7484276729559748\n",
      "120 418 0.28708133971291866\n",
      "MSP & Init\n",
      "118\n",
      "86\n",
      "160 0.3827751196172249\n",
      "Permutation\n",
      "123 159 0.7735849056603774\n",
      "199 418 0.47607655502392343\n",
      "*********************Threshold: 0.99****************************\n",
      "Init\n",
      "71 93 0.7634408602150538\n",
      "173 484 0.3574380165289256\n",
      "MSP\n",
      "71 93 0.7634408602150538\n",
      "168 484 0.34710743801652894\n",
      "MSP & Init\n",
      "71\n",
      "133\n",
      "208 0.4297520661157025\n",
      "Permutation\n",
      "73 93 0.7849462365591398\n",
      "249 484 0.5144628099173554\n"
     ]
    }
   ],
   "source": [
    "for threshold in [0.5, 0.8, 0.9, 0.95, 0.99]:\n",
    "    uncertain_init_mask = ood_score_init_list < threshold\n",
    "    uncertain_target_mask = ood_score_target_list < threshold\n",
    "    print(f\"*********************Threshold: {threshold}****************************\")\n",
    "    print(\"Init\")\n",
    "    # init prediction\n",
    "    print((init_target_mask&((~uncertain_init_mask & ~uncertain_target_mask)&correct_init_mask)).sum().item(), \n",
    "        (init_target_mask&(~uncertain_init_mask & ~uncertain_target_mask)).sum().item(), \n",
    "        (init_target_mask&correct_init_mask&(~uncertain_init_mask & ~uncertain_target_mask)).sum().item()/(init_target_mask&(~uncertain_init_mask & ~uncertain_target_mask)).sum().item())\n",
    "    # init prediction\n",
    "    print((~(init_target_mask&(~uncertain_init_mask & ~uncertain_target_mask))& correct_init_mask).sum().item(), \n",
    "          (~(init_target_mask&(~uncertain_init_mask & ~uncertain_target_mask))).sum().item(), \n",
    "        (~(init_target_mask&(~uncertain_init_mask & ~uncertain_target_mask))& correct_init_mask).sum().item()/(~(init_target_mask&(~uncertain_init_mask & ~uncertain_target_mask))).sum().item())\n",
    "    print(\"MSP\")\n",
    "    # msp prediction\n",
    "    print((init_target_mask&((~uncertain_init_mask & ~uncertain_target_mask)&correct_msp_mask)).sum().item(), \n",
    "        (init_target_mask&(~uncertain_init_mask & ~uncertain_target_mask)).sum().item(), \n",
    "        (init_target_mask&correct_msp_mask&(~uncertain_init_mask & ~uncertain_target_mask)).sum().item()/(init_target_mask&(~uncertain_init_mask & ~uncertain_target_mask)).sum().item())\n",
    "    # msp prediction\n",
    "    print((~(init_target_mask&(~uncertain_init_mask & ~uncertain_target_mask))& correct_msp_mask).sum().item(), \n",
    "          (~(init_target_mask&(~uncertain_init_mask & ~uncertain_target_mask))).sum().item(), \n",
    "        (~(init_target_mask&(~uncertain_init_mask & ~uncertain_target_mask))& correct_msp_mask).sum().item()/(~(init_target_mask&(~uncertain_init_mask & ~uncertain_target_mask))).sum().item())\n",
    "    print(\"MSP & Init\")\n",
    "    print(((init_target_mask&((~uncertain_init_mask & ~uncertain_target_mask)&correct_init_mask))&(init_target_mask&((~uncertain_init_mask & ~uncertain_target_mask)&correct_msp_mask))).sum().item())\n",
    "    print(((~(init_target_mask&(~uncertain_init_mask & ~uncertain_target_mask))& correct_msp_mask)&(~(init_target_mask&(~uncertain_init_mask & ~uncertain_target_mask))& correct_init_mask)).sum().item())\n",
    "    print(((~(init_target_mask&(~uncertain_init_mask & ~uncertain_target_mask))& correct_msp_mask)|(~(init_target_mask&(~uncertain_init_mask & ~uncertain_target_mask))& correct_init_mask)).sum().item(),\n",
    "          ((~(init_target_mask&(~uncertain_init_mask & ~uncertain_target_mask))& correct_msp_mask)|(~(init_target_mask&(~uncertain_init_mask & ~uncertain_target_mask))& correct_init_mask)).sum().item()/(~(init_target_mask&(~uncertain_init_mask & ~uncertain_target_mask))).sum().item())\n",
    "    print(\"Permutation\")\n",
    "    print((init_target_mask&((~uncertain_init_mask & ~uncertain_target_mask)&correct_permutation_mask)).sum().item(), \n",
    "        (init_target_mask&(~uncertain_init_mask & ~uncertain_target_mask)).sum().item(), \n",
    "        (init_target_mask&correct_permutation_mask&(~uncertain_init_mask & ~uncertain_target_mask)).sum().item()/(init_target_mask&(~uncertain_init_mask & ~uncertain_target_mask)).sum().item())\n",
    "    # msp prediction\n",
    "    print((~(init_target_mask&(~uncertain_init_mask & ~uncertain_target_mask))& correct_permutation_mask).sum().item(), \n",
    "          (~(init_target_mask&(~uncertain_init_mask & ~uncertain_target_mask))).sum().item(), \n",
    "        (~(init_target_mask&(~uncertain_init_mask & ~uncertain_target_mask))& correct_permutation_mask).sum().item()/(~(init_target_mask&(~uncertain_init_mask & ~uncertain_target_mask))).sum().item())"
   ]
  },
  {
   "cell_type": "code",
   "execution_count": 325,
   "metadata": {},
   "outputs": [
    {
     "name": "stdout",
     "output_type": "stream",
     "text": [
      "*********************Threshold: 0.5****************************\n",
      "Init\n",
      "140 209 0.6698564593301436\n",
      "94 368 0.2554347826086957\n",
      "MSP\n",
      "136 209 0.6507177033492823\n",
      "100 368 0.2717391304347826\n",
      "MSP & Init\n",
      "135\n",
      "62\n",
      "132 0.358695652173913\n",
      "Permutation\n",
      "150 209 0.7177033492822966\n",
      "161 368 0.4375\n",
      "*********************Threshold: 0.8****************************\n",
      "Init\n",
      "103 139 0.7410071942446043\n",
      "131 438 0.2990867579908676\n",
      "MSP\n",
      "101 139 0.7266187050359713\n",
      "135 438 0.3082191780821918\n",
      "MSP & Init\n",
      "101\n",
      "96\n",
      "170 0.3881278538812785\n",
      "Permutation\n",
      "108 139 0.7769784172661871\n",
      "203 438 0.4634703196347032\n",
      "*********************Threshold: 0.9****************************\n",
      "Init\n",
      "76 93 0.8172043010752689\n",
      "158 484 0.32644628099173556\n",
      "MSP\n",
      "75 93 0.8064516129032258\n",
      "161 484 0.33264462809917356\n",
      "MSP & Init\n",
      "75\n",
      "122\n",
      "197 0.40702479338842973\n",
      "Permutation\n",
      "77 93 0.8279569892473119\n",
      "234 484 0.4834710743801653\n"
     ]
    }
   ],
   "source": [
    "# weighted\n",
    "for threshold in [0.5, 0.8, 0.9]:\n",
    "    uncertain_init_mask = ood_score_init_list < threshold\n",
    "    uncertain_target_mask = ood_score_target_list < threshold\n",
    "    print(f\"*********************Threshold: {threshold}****************************\")\n",
    "    print(\"Init\")\n",
    "    # init prediction\n",
    "    print((init_target_mask&((~uncertain_init_mask & ~uncertain_target_mask)&correct_init_mask)).sum().item(), \n",
    "        (init_target_mask&(~uncertain_init_mask & ~uncertain_target_mask)).sum().item(), \n",
    "        (init_target_mask&correct_init_mask&(~uncertain_init_mask & ~uncertain_target_mask)).sum().item()/(init_target_mask&(~uncertain_init_mask & ~uncertain_target_mask)).sum().item())\n",
    "    # init prediction\n",
    "    print((~(init_target_mask&(~uncertain_init_mask & ~uncertain_target_mask))& correct_init_mask).sum().item(), \n",
    "          (~(init_target_mask&(~uncertain_init_mask & ~uncertain_target_mask))).sum().item(), \n",
    "        (~(init_target_mask&(~uncertain_init_mask & ~uncertain_target_mask))& correct_init_mask).sum().item()/(~(init_target_mask&(~uncertain_init_mask & ~uncertain_target_mask))).sum().item())\n",
    "    print(\"MSP\")\n",
    "    # msp prediction\n",
    "    print((init_target_mask&((~uncertain_init_mask & ~uncertain_target_mask)&correct_msp_mask)).sum().item(), \n",
    "        (init_target_mask&(~uncertain_init_mask & ~uncertain_target_mask)).sum().item(), \n",
    "        (init_target_mask&correct_msp_mask&(~uncertain_init_mask & ~uncertain_target_mask)).sum().item()/(init_target_mask&(~uncertain_init_mask & ~uncertain_target_mask)).sum().item())\n",
    "    # msp prediction\n",
    "    print((~(init_target_mask&(~uncertain_init_mask & ~uncertain_target_mask))& correct_msp_mask).sum().item(), \n",
    "          (~(init_target_mask&(~uncertain_init_mask & ~uncertain_target_mask))).sum().item(), \n",
    "        (~(init_target_mask&(~uncertain_init_mask & ~uncertain_target_mask))& correct_msp_mask).sum().item()/(~(init_target_mask&(~uncertain_init_mask & ~uncertain_target_mask))).sum().item())\n",
    "    print(\"MSP & Init\")\n",
    "    print(((init_target_mask&((~uncertain_init_mask & ~uncertain_target_mask)&correct_init_mask))&(init_target_mask&((~uncertain_init_mask & ~uncertain_target_mask)&correct_msp_mask))).sum().item())\n",
    "    print(((~(init_target_mask&(~uncertain_init_mask & ~uncertain_target_mask))& correct_msp_mask)&(~(init_target_mask&(~uncertain_init_mask & ~uncertain_target_mask))& correct_init_mask)).sum().item())\n",
    "    print(((~(init_target_mask&(~uncertain_init_mask & ~uncertain_target_mask))& correct_msp_mask)|(~(init_target_mask&(~uncertain_init_mask & ~uncertain_target_mask))& correct_init_mask)).sum().item(),\n",
    "          ((~(init_target_mask&(~uncertain_init_mask & ~uncertain_target_mask))& correct_msp_mask)|(~(init_target_mask&(~uncertain_init_mask & ~uncertain_target_mask))& correct_init_mask)).sum().item()/(~(init_target_mask&(~uncertain_init_mask & ~uncertain_target_mask))).sum().item())\n",
    "    print(\"Permutation\")\n",
    "    print((init_target_mask&((~uncertain_init_mask & ~uncertain_target_mask)&correct_permutation_mask)).sum().item(), \n",
    "        (init_target_mask&(~uncertain_init_mask & ~uncertain_target_mask)).sum().item(), \n",
    "        (init_target_mask&correct_permutation_mask&(~uncertain_init_mask & ~uncertain_target_mask)).sum().item()/(init_target_mask&(~uncertain_init_mask & ~uncertain_target_mask)).sum().item())\n",
    "    # msp prediction\n",
    "    print((~(init_target_mask&(~uncertain_init_mask & ~uncertain_target_mask))& correct_permutation_mask).sum().item(), \n",
    "          (~(init_target_mask&(~uncertain_init_mask & ~uncertain_target_mask))).sum().item(), \n",
    "        (~(init_target_mask&(~uncertain_init_mask & ~uncertain_target_mask))& correct_permutation_mask).sum().item()/(~(init_target_mask&(~uncertain_init_mask & ~uncertain_target_mask))).sum().item())"
   ]
  },
  {
   "cell_type": "code",
   "execution_count": 407,
   "metadata": {},
   "outputs": [
    {
     "data": {
      "text/plain": [
       "149"
      ]
     },
     "execution_count": 407,
     "metadata": {},
     "output_type": "execute_result"
    }
   ],
   "source": [
    "(condition_mask).sum().item()"
   ]
  },
  {
   "cell_type": "code",
   "execution_count": 409,
   "metadata": {},
   "outputs": [
    {
     "name": "stdout",
     "output_type": "stream",
     "text": [
      "*********************Threshold: 0.5****************************\n",
      "Init\n",
      "189 317 0.5962145110410094\n",
      "45 260 0.17307692307692307\n",
      "MSP\n",
      "185 317 0.583596214511041\n",
      "51 260 0.19615384615384615\n",
      "MSP & Init\n",
      "173\n",
      "201 317 0.6340694006309149\n",
      "Permutation\n",
      "222 317 0.7003154574132492\n",
      "89 260 0.3423076923076923\n",
      "*********************Threshold: 0.8****************************\n",
      "Init\n",
      "148 213 0.6948356807511737\n",
      "86 364 0.23626373626373626\n",
      "MSP\n",
      "143 213 0.6713615023474179\n",
      "93 364 0.2554945054945055\n",
      "MSP & Init\n",
      "140\n",
      "151 213 0.7089201877934272\n",
      "Permutation\n",
      "164 213 0.7699530516431925\n",
      "147 364 0.40384615384615385\n",
      "*********************Threshold: 0.9****************************\n",
      "Init\n",
      "115 149 0.7718120805369127\n",
      "119 428 0.2780373831775701\n",
      "MSP\n",
      "111 149 0.7449664429530202\n",
      "125 428 0.29205607476635514\n",
      "MSP & Init\n",
      "110\n",
      "116 149 0.7785234899328859\n",
      "Permutation\n",
      "122 149 0.8187919463087249\n",
      "189 428 0.441588785046729\n"
     ]
    }
   ],
   "source": [
    "# weighted, only uncertain init\n",
    "\n",
    "for threshold in [0.5, 0.8, 0.9]:\n",
    "    uncertain_init_mask = ood_score_init_list < threshold\n",
    "    uncertain_target_mask = ood_score_target_list < threshold\n",
    "    condition_mask = ~uncertain_init_mask\n",
    "    print(f\"*********************Threshold: {threshold}****************************\")\n",
    "    print(\"Init\")\n",
    "    # init prediction\n",
    "    print((condition_mask&correct_init_mask).sum().item(), \n",
    "        (condition_mask).sum().item(), \n",
    "        (condition_mask&correct_init_mask).sum().item()/(condition_mask).sum().item())\n",
    "    # init prediction\n",
    "    print((~condition_mask&correct_init_mask).sum().item(), \n",
    "        (~condition_mask).sum().item(), \n",
    "       (~condition_mask&correct_init_mask).sum().item()/(~condition_mask).sum().item())\n",
    "    print(\"MSP\")\n",
    "    # msp prediction\n",
    "    print((condition_mask&correct_msp_mask).sum().item(), \n",
    "        (condition_mask).sum().item(), \n",
    "        (condition_mask&correct_msp_mask).sum().item()/(condition_mask).sum().item())\n",
    "    # msp prediction\n",
    "    print((~condition_mask&correct_msp_mask).sum().item(), \n",
    "        (~condition_mask).sum().item(), \n",
    "        (~condition_mask&correct_msp_mask).sum().item()/(~condition_mask).sum().item())\n",
    "    print(\"MSP & Init\")\n",
    "    print(((condition_mask&correct_init_mask)&(condition_mask&correct_msp_mask)).sum().item())\n",
    "    # print(((~(init_target_mask&(~uncertain_init_mask & ~uncertain_target_mask))& correct_msp_mask)&(~(init_target_mask&(~uncertain_init_mask & ~uncertain_target_mask))& correct_init_mask)).sum().item())\n",
    "    print(((condition_mask&correct_init_mask)|(condition_mask&correct_msp_mask)).sum().item(),\n",
    "          (condition_mask).sum().item(), \n",
    "          ((condition_mask&correct_init_mask)|(condition_mask&correct_msp_mask)).sum().item()/(condition_mask).sum().item())\n",
    "    print(((~condition_mask&correct_init_mask)|(~condition_mask&correct_msp_mask)).sum().item(),\n",
    "        (~condition_mask).sum().item(), \n",
    "        ((~condition_mask&correct_init_mask)|(~condition_mask&correct_msp_mask)).sum().item()/(~condition_mask).sum().item())\n",
    "    print(\"Permutation\")\n",
    "    print((condition_mask&correct_permutation_mask).sum().item(), \n",
    "        (condition_mask).sum().item(), \n",
    "        (condition_mask&correct_permutation_mask).sum().item()/(condition_mask).sum().item())\n",
    "    # msp prediction\n",
    "    print((~condition_mask&correct_permutation_mask).sum().item(), \n",
    "         (~condition_mask).sum().item(), \n",
    "        (~condition_mask&correct_permutation_mask).sum().item()/(~condition_mask).sum().item())"
   ]
  },
  {
   "cell_type": "code",
   "execution_count": 282,
   "metadata": {},
   "outputs": [
    {
     "name": "stdout",
     "output_type": "stream",
     "text": [
      "36\n"
     ]
    }
   ],
   "source": [
    "# MSP is wrong, but init is correct\n",
    "target_col_idx_msp = idx_list[((~(init_target_mask&(~uncertain_init_mask & ~uncertain_target_mask))& ~correct_msp_mask)&(~(init_target_mask&(~uncertain_init_mask & ~uncertain_target_mask))& correct_init_mask))]\n",
    "print(len(target_col_idx_msp))"
   ]
  },
  {
   "cell_type": "code",
   "execution_count": 283,
   "metadata": {},
   "outputs": [
    {
     "name": "stdout",
     "output_type": "stream",
     "text": [
      "39\n"
     ]
    }
   ],
   "source": [
    "# MSP is wrong, but init is correct\n",
    "target_col_idx_init = idx_list[((~(init_target_mask&(~uncertain_init_mask & ~uncertain_target_mask))& correct_msp_mask)&(~(init_target_mask&(~uncertain_init_mask & ~uncertain_target_mask))& ~correct_init_mask))]\n",
    "print(len(target_col_idx_init))"
   ]
  },
  {
   "cell_type": "code",
   "execution_count": 139,
   "metadata": {},
   "outputs": [
    {
     "data": {
      "text/plain": [
       "tensor([  45,  119,  124,  125,  128,  200,  218,  239,  260,  302,  321,  346,\n",
       "         355,  358,  392,  401,  415,  419,  439,  460,  569,  602,  622,  698,\n",
       "         718,  723,  772,  809,  867,  890,  922,  937,  949,  976,  989,  994,\n",
       "         995,  997, 1037, 1049])"
      ]
     },
     "execution_count": 139,
     "metadata": {},
     "output_type": "execute_result"
    }
   ],
   "source": [
    "target_col_idx"
   ]
  },
  {
   "cell_type": "code",
   "execution_count": null,
   "metadata": {},
   "outputs": [],
   "source": []
  },
  {
   "cell_type": "code",
   "execution_count": 84,
   "metadata": {},
   "outputs": [
    {
     "name": "stdout",
     "output_type": "stream",
     "text": [
      "191 0.546875\n"
     ]
    }
   ],
   "source": [
    "print((init_target_mask&correct_init_mask&(~uncertain_init_mask | ~uncertain_target_mask)).sum().item(), (init_target_mask&correct_init_mask&(~uncertain_init_mask & ~uncertain_target_mask)).sum().item()/(init_target_mask&(~uncertain_init_mask | ~uncertain_target_mask)).sum().item())"
   ]
  },
  {
   "cell_type": "code",
   "execution_count": 69,
   "metadata": {},
   "outputs": [
    {
     "name": "stdout",
     "output_type": "stream",
     "text": [
      "164 0.28422876949740034 26 138 0.15853658536585366 0.10655737704918032\n"
     ]
    }
   ],
   "source": [
    "print(uncertain_init_mask.sum().item(), uncertain_init_mask.sum().item()/len(uncertain_init_mask), (correct_init_mask&uncertain_init_mask).sum().item(), uncertain_init_mask.sum().item()-(correct_init_mask&uncertain_init_mask).sum().item(), (correct_init_mask&uncertain_init_mask).sum().item()/uncertain_init_mask.sum().item(), (correct_init_mask&uncertain_init_mask).sum().item()/correct_init_mask.sum().item())"
   ]
  },
  {
   "cell_type": "code",
   "execution_count": 67,
   "metadata": {},
   "outputs": [
    {
     "name": "stdout",
     "output_type": "stream",
     "text": [
      "413 0.5278450363196125 -195\n"
     ]
    }
   ],
   "source": [
    "print((~uncertain_init_mask).sum().item(), (correct_init_mask&(~uncertain_init_mask)).sum().item()/(~uncertain_init_mask).sum().item(), (correct_init_mask&(~uncertain_init_mask)).sum().item()-(~uncertain_init_mask).sum().item(), )"
   ]
  },
  {
   "cell_type": "code",
   "execution_count": 68,
   "metadata": {},
   "outputs": [
    {
     "name": "stdout",
     "output_type": "stream",
     "text": [
      "90 0.1559792027729636 16 0.17777777777777778 0.06986899563318777\n"
     ]
    }
   ],
   "source": [
    "print(uncertain_target_mask.sum().item(), uncertain_target_mask.sum().item()/len(uncertain_target_mask), (correct_target_mask&uncertain_target_mask).sum().item(), (correct_target_mask&uncertain_target_mask).sum().item()/uncertain_target_mask.sum().item(), (correct_target_mask&uncertain_target_mask).sum().item()/correct_target_mask.sum().item())"
   ]
  },
  {
   "cell_type": "code",
   "execution_count": null,
   "metadata": {},
   "outputs": [],
   "source": [
    "print()"
   ]
  },
  {
   "cell_type": "code",
   "execution_count": 40,
   "metadata": {},
   "outputs": [
    {
     "name": "stdout",
     "output_type": "stream",
     "text": [
      "72\n"
     ]
    }
   ],
   "source": [
    "print(len(idx_list[(uncertain_init_mask | uncertain_target_mask) & correct_permutation_mask]))"
   ]
  },
  {
   "cell_type": "code",
   "execution_count": 38,
   "metadata": {},
   "outputs": [
    {
     "name": "stdout",
     "output_type": "stream",
     "text": [
      "33\n"
     ]
    }
   ],
   "source": [
    "print(len(idx_list[(uncertain_init_mask | uncertain_target_mask) & correct_permutation_mask & ~correct_msp_mask ]))"
   ]
  },
  {
   "cell_type": "code",
   "execution_count": 39,
   "metadata": {},
   "outputs": [
    {
     "name": "stdout",
     "output_type": "stream",
     "text": [
      "39\n"
     ]
    }
   ],
   "source": [
    "print(len(idx_list[(uncertain_init_mask | uncertain_target_mask) & correct_permutation_mask & correct_msp_mask ]))"
   ]
  },
  {
   "cell_type": "code",
   "execution_count": 44,
   "metadata": {},
   "outputs": [],
   "source": [
    "change_log = torch.tensor(change_log)\n",
    "score_init = torch.tensor(score_init)\n",
    "score_best = torch.tensor(score_best)"
   ]
  },
  {
   "cell_type": "code",
   "execution_count": 93,
   "metadata": {},
   "outputs": [
    {
     "data": {
      "text/plain": [
       "tensor([ 178,  260,  321,  346,  460,  767,  772,  836, 1037])"
      ]
     },
     "execution_count": 93,
     "metadata": {},
     "output_type": "execute_result"
    }
   ],
   "source": [
    "target_id_list_neg"
   ]
  },
  {
   "cell_type": "code",
   "execution_count": 367,
   "metadata": {},
   "outputs": [
    {
     "data": {
      "text/plain": [
       "tensor([ 12, 115, 172, 217, 259, 339, 452, 470, 473, 481, 519, 522, 532, 545,\n",
       "        630, 647, 652, 711, 838, 874])"
      ]
     },
     "execution_count": 367,
     "metadata": {},
     "output_type": "execute_result"
    }
   ],
   "source": []
  },
  {
   "cell_type": "code",
   "execution_count": 273,
   "metadata": {},
   "outputs": [
    {
     "data": {
      "text/plain": [
       "tensor([  45,   52,   93,   97,  107,  194,  239,  248,  258,  358,  373,  392,\n",
       "         419,  439,  444,  454,  465,  547,  595,  622,  637,  683,  718,  723,\n",
       "         727,  842,  867,  935,  942,  949,  960,  976,  980,  995,  997, 1071])"
      ]
     },
     "execution_count": 273,
     "metadata": {},
     "output_type": "execute_result"
    }
   ],
   "source": [
    "target_col_idx"
   ]
  },
  {
   "cell_type": "code",
   "execution_count": 368,
   "metadata": {},
   "outputs": [
    {
     "data": {
      "text/plain": [
       "tensor([ 12, 115, 172, 217, 259, 339, 452, 470, 473, 481, 519, 522, 532, 545,\n",
       "        630, 647, 652, 711, 838, 874])"
      ]
     },
     "execution_count": 368,
     "metadata": {},
     "output_type": "execute_result"
    }
   ],
   "source": [
    "msp_new_idx"
   ]
  },
  {
   "cell_type": "code",
   "execution_count": 370,
   "metadata": {},
   "outputs": [
    {
     "name": "stdout",
     "output_type": "stream",
     "text": [
      "0\n",
      "[1, 0] 0.0169745534658432 35\n",
      "********************************************************\n",
      "(0,) tensor(0.9979, device='cuda:1', grad_fn=<MaxBackward1>) tensor(0, device='cuda:1')\n",
      "(1,) tensor(0.5204, device='cuda:1', grad_fn=<MaxBackward1>) tensor(35, device='cuda:1')\n",
      "(0, 1) tensor(0.9986, device='cuda:1', grad_fn=<MaxBackward1>) tensor(0, device='cuda:1')\n",
      "(1, 0) tensor(0.7587, device='cuda:1', grad_fn=<MaxBackward1>) tensor(0, device='cuda:1')\n",
      "********************************************************\n",
      "(0, 1) 0.9985560774803162 0\n"
     ]
    },
    {
     "name": "stderr",
     "output_type": "stream",
     "text": [
      "/tmp/ipykernel_955267/3464288220.py:36: UserWarning: Implicit dimension choice for softmax has been deprecated. Change the call to include dim=X as an argument.\n",
      "  init_msp = F.softmax(logits_init).max().item()\n",
      "/tmp/ipykernel_955267/3464288220.py:56: UserWarning: Implicit dimension choice for softmax has been deprecated. Change the call to include dim=X as an argument.\n",
      "  msp_temp = F.softmax(logits_temp).max().item()\n",
      "/tmp/ipykernel_955267/3464288220.py:57: UserWarning: Implicit dimension choice for softmax has been deprecated. Change the call to include dim=X as an argument.\n",
      "  predict_temp = F.softmax(logits_temp).argmax().item()\n",
      "/tmp/ipykernel_955267/3464288220.py:58: UserWarning: Implicit dimension choice for softmax has been deprecated. Change the call to include dim=X as an argument.\n",
      "  print(x, F.softmax(logits_temp).max(), F.softmax(logits_temp).argmax())\n"
     ]
    }
   ],
   "source": [
    "# use target as head, the MSP context\n",
    "import itertools\n",
    "\n",
    "\n",
    "    \n",
    "model.load_state_dict(best_state_dict, strict=False)\n",
    "model.eval()\n",
    "model = model.to(device)\n",
    "ft_embs_test = []\n",
    "labels_test = []\n",
    "logits_test = []\n",
    "log = defaultdict(list)\n",
    "num_cols = []\n",
    "threshold = 0.8\n",
    "corrected = 0\n",
    "total_mistakes = 0\n",
    "init_permutation = defaultdict(list)\n",
    "corrected_permutation = defaultdict(list)\n",
    "init_logits = defaultdict(list)\n",
    "corrected_logits = defaultdict(list)\n",
    "\n",
    "for batch_idx, batch in enumerate(test_dataloader_iter):\n",
    "    cls_indexes = torch.LongTensor([[0, batch[\"cls_indexes\"].cpu().item()]]).to(device)\n",
    "    target_col_mask = batch[\"target_col_mask\"].T\n",
    "    logits = model(batch[\"data\"].T, cls_indexes=cls_indexes,)\n",
    "    logits_init = logits.clone()\n",
    "    num_cols.append(batch[\"target_col_mask\"].max().item())\n",
    "    if batch_idx == 12:\n",
    "        break\n",
    "\n",
    "col_idx_set = target_col_mask.unique().tolist()\n",
    "successs = False\n",
    "init_permutation[batch_idx].append(get_permutation(target_col_mask))\n",
    "init_logits[batch_idx].append(logits_init.detach().cpu())     \n",
    "init_msp = F.softmax(logits_init).max().item()\n",
    "print(batch[\"label\"].item())\n",
    "print(get_permutation(target_col_mask), init_msp, init_logits[batch_idx][0].argmax().item())   \n",
    "print(\"********************************************************\")\n",
    "assert -1 not in col_idx_set\n",
    "max_msp = 0 \n",
    "for r in range(1, len(col_idx_set) + 1):\n",
    "    for subset in itertools.combinations(col_idx_set, r):\n",
    "        for x in itertools.permutations(subset):\n",
    "            new_batch_data = []\n",
    "            for col_i in x:\n",
    "                if col_i == 0:\n",
    "                    if len(new_batch_data) == 0:\n",
    "                        cls_indexes_value = 0\n",
    "                    else:\n",
    "                        cls_indexes_value = sum([len(new_batch_data[i]) for i in range(len(new_batch_data))])\n",
    "                new_batch_data.append(batch[\"data\"].T[target_col_mask==col_i])\n",
    "            new_batch_data = torch.cat(new_batch_data, dim=-1).reshape(1, -1)\n",
    "            cls_indexes = torch.tensor([0, cls_indexes_value]).reshape(1, -1).to(device)\n",
    "            logits_temp = model(new_batch_data, cls_indexes=cls_indexes,)\n",
    "            msp_temp = F.softmax(logits_temp).max().item()\n",
    "            predict_temp = F.softmax(logits_temp).argmax().item()\n",
    "            print(x, F.softmax(logits_temp).max(), F.softmax(logits_temp).argmax())\n",
    "            if msp_temp > max_msp and 0 in x:\n",
    "                max_msp = msp_temp\n",
    "                best_msp_perm = x\n",
    "                msp_predict = predict_temp\n",
    "print(\"********************************************************\")\n",
    "print(best_msp_perm, max_msp, msp_predict)"
   ]
  },
  {
   "cell_type": "code",
   "execution_count": 144,
   "metadata": {},
   "outputs": [
    {
     "data": {
      "text/plain": [
       "tensor([  45,  119,  124,  125,  128,  200,  218,  239,  260,  302,  321,  346,\n",
       "         355,  358,  392,  401,  415,  419,  439,  460,  569,  602,  622,  698,\n",
       "         718,  723,  772,  809,  867,  890,  922,  937,  949,  976,  989,  994,\n",
       "         995,  997, 1037, 1049])"
      ]
     },
     "execution_count": 144,
     "metadata": {},
     "output_type": "execute_result"
    }
   ],
   "source": []
  },
  {
   "cell_type": "code",
   "execution_count": 16,
   "metadata": {},
   "outputs": [],
   "source": [
    "class_freq = torch.zeros(args.num_classes)\n",
    "for batch_idx, batch in enumerate(train_dataloader_iter):\n",
    "    class_freq[batch[\"label\"].item()] += 1"
   ]
  },
  {
   "cell_type": "code",
   "execution_count": 157,
   "metadata": {},
   "outputs": [
    {
     "data": {
      "text/plain": [
       "tensor([790., 439., 198., 164.,  86.,  70.,  61.,  69.,  64.,  46.,  61.,  53.,\n",
       "         49.,  46.,  45.,  46.,  30.,  36.,  42.,  43.,  41.,  40.,  34.,  30.,\n",
       "         32.,  29.,  27.,  25.,  23.,  20.,  19.,  26.,  14.,  23.,  21.,  18.,\n",
       "         16.,  22.,  16.,  17.,  19.,  17.,  12.,  12.,  11.,  16.,  13.,  13.,\n",
       "          8.,  13.,   9.,  10.,   9.,  11.,  10.,   9.,   9.,  11.,  13.,   7.,\n",
       "         12.,  11.,   6.,  11.,   6.,  10.,   7.,   7.,  11.,  12.,   8.,  10.,\n",
       "          9.,   7.,   9.,  10.,   8.,   6.,   9.,   7.,   9.,   9.,   6.,   4.,\n",
       "          7.,   8.,   7.,   4.,   9.,   4.,   5.,   8.,   5.,   6.,   7.,   4.,\n",
       "          3.,   3.,   5.,   6.,   5.])"
      ]
     },
     "execution_count": 157,
     "metadata": {},
     "output_type": "execute_result"
    }
   ],
   "source": [
    "class_freq"
   ]
  },
  {
   "cell_type": "code",
   "execution_count": 228,
   "metadata": {},
   "outputs": [],
   "source": [
    "alpha = 0.25\n",
    "class_weights = (1.0 / class_freq) ** alpha\n",
    "\n",
    "# Normalize the weights\n",
    "class_weights /= class_weights.sum()"
   ]
  },
  {
   "cell_type": "code",
   "execution_count": 155,
   "metadata": {},
   "outputs": [
    {
     "data": {
      "text/plain": [
       "0"
      ]
     },
     "execution_count": 155,
     "metadata": {},
     "output_type": "execute_result"
    }
   ],
   "source": [
    "batch[\"label\"].item()"
   ]
  },
  {
   "cell_type": "code",
   "execution_count": 17,
   "metadata": {},
   "outputs": [],
   "source": [
    "# def reweight_logits(logits, class_weights):\n",
    "#     # Reweight the logits by multiplying with class weights\n",
    "#     reweighted_logits = logits * torch.sqrt(class_weights)\n",
    "    \n",
    "#     # Apply softmax to the reweighted logits\n",
    "#     reweighted_probs = F.softmax(reweighted_logits, dim=-1)\n",
    "    \n",
    "#     return reweighted_probs\n",
    "def reweight_logits(logits, class_weights):\n",
    "    # Step 1: Apply exp(logits)\n",
    "    exp_logits = torch.exp(logits)\n",
    "    \n",
    "    # Step 2: Multiply by class weights\n",
    "    # reweighted_exp = exp_logits * torch.sqrt(class_weights)\n",
    "    reweighted_exp = exp_logits * class_weights\n",
    "    # Step 3: Normalize to get valid probabilities (like softmax)\n",
    "    reweighted_probs = reweighted_exp / reweighted_exp.sum(dim=-1, keepdim=True)\n",
    "    \n",
    "    return reweighted_probs"
   ]
  },
  {
   "cell_type": "code",
   "execution_count": null,
   "metadata": {},
   "outputs": [],
   "source": []
  },
  {
   "cell_type": "code",
   "execution_count": 169,
   "metadata": {},
   "outputs": [
    {
     "data": {
      "text/plain": [
       "tensor([  45,  119,  124,  125,  128,  200,  218,  239,  260,  302,  321,  346,\n",
       "         355,  358,  392,  401,  415,  419,  439,  460,  569,  602,  622,  698,\n",
       "         718,  723,  772,  809,  867,  890,  922,  937,  949,  976,  989,  994,\n",
       "         995,  997, 1037, 1049])"
      ]
     },
     "execution_count": 169,
     "metadata": {},
     "output_type": "execute_result"
    }
   ],
   "source": [
    "target_col_idx"
   ]
  },
  {
   "cell_type": "code",
   "execution_count": 200,
   "metadata": {},
   "outputs": [
    {
     "name": "stderr",
     "output_type": "stream",
     "text": [
      "/tmp/ipykernel_955267/1066959887.py:36: UserWarning: Implicit dimension choice for softmax has been deprecated. Change the call to include dim=X as an argument.\n",
      "  init_msp = F.softmax(logits_init).max().item()\n"
     ]
    }
   ],
   "source": [
    "# use target as head, the MSP context\n",
    "import itertools\n",
    "\n",
    "\n",
    "    \n",
    "model.load_state_dict(best_state_dict, strict=False)\n",
    "model.eval()\n",
    "model = model.to(device)\n",
    "ft_embs_test = []\n",
    "labels_test = []\n",
    "logits_test = []\n",
    "log = defaultdict(list)\n",
    "num_cols = []\n",
    "threshold = 0.8\n",
    "corrected = 0\n",
    "total_mistakes = 0\n",
    "init_permutation = defaultdict(list)\n",
    "corrected_permutation = defaultdict(list)\n",
    "init_logits = defaultdict(list)\n",
    "corrected_msp = []\n",
    "\n",
    "for batch_idx, batch in enumerate(test_dataloader_iter):\n",
    "    cls_indexes = torch.LongTensor([[0, batch[\"cls_indexes\"].cpu().item()]]).to(device)\n",
    "    target_col_mask = batch[\"target_col_mask\"].T\n",
    "    logits = model(batch[\"data\"].T, cls_indexes=cls_indexes,)\n",
    "    logits_init = logits.clone()\n",
    "    num_cols.append(batch[\"target_col_mask\"].max().item())\n",
    "    # if batch_idx == 355:\n",
    "    if batch_idx not in target_col_idx:\n",
    "        continue\n",
    "\n",
    "    col_idx_set = target_col_mask.unique().tolist()\n",
    "    successs = False\n",
    "    init_permutation[batch_idx].append(get_permutation(target_col_mask))\n",
    "    init_logits[batch_idx].append(logits_init.detach().cpu())     \n",
    "    init_msp = F.softmax(logits_init).max().item()\n",
    "    assert -1 not in col_idx_set\n",
    "    max_msp = 0 \n",
    "    for r in range(1, len(col_idx_set) + 1):\n",
    "        for subset in itertools.combinations(col_idx_set, r):\n",
    "            if 0 not in subset:\n",
    "                continue\n",
    "            for x in itertools.permutations(subset):\n",
    "                new_batch_data = []\n",
    "                for col_i in x:\n",
    "                    if col_i == 0:\n",
    "                        if len(new_batch_data) == 0:\n",
    "                            cls_indexes_value = 0\n",
    "                        else:\n",
    "                            cls_indexes_value = sum([len(new_batch_data[i]) for i in range(len(new_batch_data))])\n",
    "                    new_batch_data.append(batch[\"data\"].T[target_col_mask==col_i])\n",
    "                new_batch_data = torch.cat(new_batch_data, dim=-1).reshape(1, -1)\n",
    "                cls_indexes = torch.tensor([0, cls_indexes_value]).reshape(1, -1).to(device)\n",
    "                logits_temp = model(new_batch_data, cls_indexes=cls_indexes,).detach().cpu()\n",
    "                # print(\"****origin****************\")\n",
    "                # msp_temp = F.softmax(logits_temp).max().item()\n",
    "                # predict_temp = F.softmax(logits_temp).argmax().item()\n",
    "                # print(x, F.softmax(logits_temp).max(), F.softmax(logits_temp).argmax())\n",
    "                # print(\"****weighted****************\")\n",
    "                logits_temp = reweight_logits(logits_temp, class_weights)\n",
    "                msp_temp = logits_temp.max().item()\n",
    "                predict_temp = logits_temp.argmax().item()\n",
    "                # print(x, msp_temp, predict_temp)\n",
    "                if msp_temp > max_msp and 0 in x:\n",
    "                    max_msp = msp_temp\n",
    "                    best_msp_perm = x\n",
    "                    msp_predict = predict_temp\n",
    "    if msp_predict == batch[\"label\"].item():\n",
    "        corrected_msp.append(True)\n",
    "    else:\n",
    "        corrected_msp.append(False)"
   ]
  },
  {
   "cell_type": "code",
   "execution_count": 201,
   "metadata": {},
   "outputs": [
    {
     "name": "stdout",
     "output_type": "stream",
     "text": [
      "40 13 0.325\n"
     ]
    }
   ],
   "source": [
    "print(len(corrected_msp), sum(corrected_msp), sum(corrected_msp)/len(corrected_msp))"
   ]
  },
  {
   "cell_type": "code",
   "execution_count": null,
   "metadata": {},
   "outputs": [],
   "source": [
    "# TODO: check the rest wrong msp repdictions"
   ]
  },
  {
   "cell_type": "code",
   "execution_count": 221,
   "metadata": {},
   "outputs": [
    {
     "data": {
      "text/plain": [
       "[tensor(93),\n",
       " tensor(213),\n",
       " tensor(229),\n",
       " tensor(373),\n",
       " tensor(380),\n",
       " tensor(465),\n",
       " tensor(480),\n",
       " tensor(490),\n",
       " tensor(530),\n",
       " tensor(547),\n",
       " tensor(649),\n",
       " tensor(683),\n",
       " tensor(796),\n",
       " tensor(797),\n",
       " tensor(894),\n",
       " tensor(905),\n",
       " tensor(960)]"
      ]
     },
     "execution_count": 221,
     "metadata": {},
     "output_type": "execute_result"
    }
   ],
   "source": [
    "rest_idx"
   ]
  },
  {
   "cell_type": "code",
   "execution_count": 242,
   "metadata": {},
   "outputs": [
    {
     "data": {
      "text/plain": [
       "(1, 2)"
      ]
     },
     "execution_count": 242,
     "metadata": {},
     "output_type": "execute_result"
    }
   ],
   "source": [
    "x"
   ]
  },
  {
   "cell_type": "code",
   "execution_count": 243,
   "metadata": {},
   "outputs": [
    {
     "name": "stdout",
     "output_type": "stream",
     "text": [
      "****weighted****************\n",
      "0\n",
      "[0, 1, 2, 3] 0.9965016841888428 0\n",
      "********************************************************\n",
      "(0,) 0.565597414970398 8\n",
      "(0, 1) 0.7253597974777222 0\n",
      "(1, 0) 0.7149863839149475 1\n",
      "(0, 2) 0.9622083902359009 0\n",
      "(2, 0) 0.9209644794464111 8\n",
      "(0, 3) 0.6232067346572876 0\n",
      "(3, 0) 0.21673724055290222 8\n",
      "(0, 1, 2) 0.9424116015434265 0\n",
      "(0, 2, 1) 0.8189032673835754 0\n",
      "(1, 0, 2) 0.5844040513038635 8\n",
      "(1, 2, 0) 0.8372729420661926 8\n",
      "(2, 0, 1) 0.9242938160896301 8\n",
      "(2, 1, 0) 0.5104241967201233 8\n",
      "(0, 1, 3) 0.7963503003120422 0\n",
      "(0, 3, 1) 0.8788531422615051 0\n",
      "(1, 0, 3) 0.5939408540725708 2\n",
      "(1, 3, 0) 0.17285317182540894 8\n",
      "(3, 0, 1) 0.12025757133960724 43\n",
      "(3, 1, 0) 0.6485477089881897 2\n",
      "(0, 2, 3) 0.882753849029541 0\n"
     ]
    },
    {
     "name": "stderr",
     "output_type": "stream",
     "text": [
      "/tmp/ipykernel_955267/1269595593.py:38: UserWarning: Implicit dimension choice for softmax has been deprecated. Change the call to include dim=X as an argument.\n",
      "  init_msp = F.softmax(logits_init).max().item()\n"
     ]
    },
    {
     "name": "stdout",
     "output_type": "stream",
     "text": [
      "(0, 3, 2) 0.9586843252182007 0\n",
      "(2, 0, 3) 0.7722136974334717 8\n",
      "(2, 3, 0) 0.15759515762329102 17\n",
      "(3, 0, 2) 0.1284075230360031 8\n",
      "(3, 2, 0) 0.2780799865722656 8\n",
      "(0, 1, 2, 3) 0.9922066330909729 0\n",
      "(0, 1, 3, 2) 0.9914277195930481 0\n",
      "(0, 2, 1, 3) 0.9866529107093811 0\n",
      "(0, 2, 3, 1) 0.9879024624824524 0\n",
      "(0, 3, 1, 2) 0.9925208687782288 0\n",
      "(0, 3, 2, 1) 0.9918546676635742 0\n",
      "(1, 0, 2, 3) 0.3617860972881317 2\n",
      "(1, 0, 3, 2) 0.4722830653190613 2\n",
      "(1, 2, 0, 3) 0.7849287986755371 8\n",
      "(1, 2, 3, 0) 0.21763253211975098 8\n",
      "(1, 3, 0, 2) 0.2503493130207062 17\n",
      "(1, 3, 2, 0) 0.5672049522399902 8\n",
      "(2, 0, 1, 3) 0.7476243376731873 8\n",
      "(2, 0, 3, 1) 0.7449418902397156 8\n",
      "(2, 1, 0, 3) 0.28633183240890503 11\n",
      "(2, 1, 3, 0) 0.34214460849761963 17\n",
      "(2, 3, 0, 1) 0.12016561627388 17\n",
      "(2, 3, 1, 0) 0.3709506094455719 2\n",
      "(3, 0, 1, 2) 0.09460796415805817 43\n",
      "(3, 0, 2, 1) 0.12393748760223389 43\n",
      "(3, 1, 0, 2) 0.4354759752750397 2\n",
      "(3, 1, 2, 0) 0.6392737627029419 8\n",
      "(3, 2, 0, 1) 0.2111869752407074 8\n",
      "(3, 2, 1, 0) 0.17329688370227814 16\n",
      "********************************************************\n",
      "(0, 3, 1, 2) 0.9925208687782288 0\n",
      "****origin****************\n",
      "(0,) tensor(0.4433) tensor(8)\n",
      "(0, 1) tensor(0.8296) tensor(0)\n",
      "(1, 0) tensor(0.7979) tensor(1)\n",
      "(0, 2) tensor(0.9797) tensor(0)\n",
      "(2, 0) tensor(0.8980) tensor(8)\n",
      "(0, 3) tensor(0.7515) tensor(0)\n",
      "(3, 0) tensor(0.2624) tensor(8)\n",
      "(0, 1, 2) tensor(0.9693) tensor(0)\n",
      "(0, 2, 1) tensor(0.8962) tensor(0)\n",
      "(1, 0, 2) tensor(0.5303) tensor(8)\n",
      "(1, 2, 0) tensor(0.8429) tensor(8)\n"
     ]
    },
    {
     "name": "stderr",
     "output_type": "stream",
     "text": [
      "/tmp/ipykernel_955267/1269595593.py:82: UserWarning: Implicit dimension choice for softmax has been deprecated. Change the call to include dim=X as an argument.\n",
      "  init_msp = F.softmax(logits_init).max().item()\n",
      "/tmp/ipykernel_955267/1269595593.py:102: UserWarning: Implicit dimension choice for softmax has been deprecated. Change the call to include dim=X as an argument.\n",
      "  msp_temp = F.softmax(logits_temp).max().item()\n",
      "/tmp/ipykernel_955267/1269595593.py:103: UserWarning: Implicit dimension choice for softmax has been deprecated. Change the call to include dim=X as an argument.\n",
      "  predict_temp = F.softmax(logits_temp).argmax().item()\n",
      "/tmp/ipykernel_955267/1269595593.py:104: UserWarning: Implicit dimension choice for softmax has been deprecated. Change the call to include dim=X as an argument.\n",
      "  print(x, F.softmax(logits_temp).max(), F.softmax(logits_temp).argmax())\n"
     ]
    },
    {
     "name": "stdout",
     "output_type": "stream",
     "text": [
      "(2, 0, 1) tensor(0.9228) tensor(8)\n",
      "(2, 1, 0) tensor(0.5198) tensor(8)\n",
      "(0, 1, 3) tensor(0.8954) tensor(0)\n",
      "(0, 3, 1) tensor(0.9240) tensor(0)\n",
      "(1, 0, 3) tensor(0.6565) tensor(2)\n",
      "(1, 3, 0) tensor(0.1947) tensor(8)\n",
      "(3, 0, 1) tensor(0.1085) tensor(43)\n",
      "(3, 1, 0) tensor(0.7339) tensor(2)\n",
      "(0, 2, 3) tensor(0.9421) tensor(0)\n",
      "(0, 3, 2) tensor(0.9801) tensor(0)\n",
      "(2, 0, 3) tensor(0.7799) tensor(8)\n",
      "(2, 3, 0) tensor(0.1723) tensor(17)\n",
      "(3, 0, 2) tensor(0.1681) tensor(8)\n",
      "(3, 2, 0) tensor(0.3541) tensor(8)\n",
      "(0, 1, 2, 3) tensor(0.9965) tensor(0)\n",
      "(0, 1, 3, 2) tensor(0.9962) tensor(0)\n",
      "(0, 2, 1, 3) tensor(0.9939) tensor(0)\n",
      "(0, 2, 3, 1) tensor(0.9944) tensor(0)\n",
      "(0, 3, 1, 2) tensor(0.9966) tensor(0)\n",
      "(0, 3, 2, 1) tensor(0.9963) tensor(0)\n",
      "(1, 0, 2, 3) tensor(0.4459) tensor(2)\n",
      "(1, 0, 3, 2) tensor(0.5658) tensor(2)\n",
      "(1, 2, 0, 3) tensor(0.7969) tensor(8)\n",
      "(1, 2, 3, 0) tensor(0.2510) tensor(8)\n",
      "(1, 3, 0, 2) tensor(0.2521) tensor(17)\n",
      "(1, 3, 2, 0) tensor(0.5896) tensor(8)\n",
      "(2, 0, 1, 3) tensor(0.7549) tensor(8)\n",
      "(2, 0, 3, 1) tensor(0.7277) tensor(8)\n",
      "(2, 1, 0, 3) tensor(0.2952) tensor(11)\n",
      "(2, 1, 3, 0) tensor(0.3426) tensor(17)\n",
      "(2, 3, 0, 1) tensor(0.1397) tensor(17)\n",
      "(2, 3, 1, 0) tensor(0.4768) tensor(2)\n",
      "(3, 0, 1, 2) tensor(0.0881) tensor(43)\n",
      "(3, 0, 2, 1) tensor(0.1268) tensor(8)\n",
      "(3, 1, 0, 2) tensor(0.5472) tensor(2)\n",
      "(3, 1, 2, 0) tensor(0.6622) tensor(8)\n",
      "(3, 2, 0, 1) tensor(0.2785) tensor(8)\n",
      "(3, 2, 1, 0) tensor(0.1827) tensor(2)\n",
      "********************************************************\n",
      "(0, 3, 1, 2) 0.9965726137161255 0\n"
     ]
    }
   ],
   "source": [
    "# use target as head, the MSP context\n",
    "import itertools\n",
    "\n",
    "\n",
    "    \n",
    "model.load_state_dict(best_state_dict, strict=False)\n",
    "model.eval()\n",
    "model = model.to(device)\n",
    "ft_embs_test = []\n",
    "labels_test = []\n",
    "logits_test = []\n",
    "log = defaultdict(list)\n",
    "num_cols = []\n",
    "threshold = 0.8\n",
    "corrected = 0\n",
    "total_mistakes = 0\n",
    "init_permutation = defaultdict(list)\n",
    "corrected_permutation = defaultdict(list)\n",
    "init_logits = defaultdict(list)\n",
    "corrected_logits = defaultdict(list)\n",
    "\n",
    "\n",
    "for batch_idx, batch in enumerate(test_dataloader_iter):\n",
    "    cls_indexes = torch.LongTensor([[0, batch[\"cls_indexes\"].cpu().item()]]).to(device)\n",
    "    target_col_mask = batch[\"target_col_mask\"].T\n",
    "    logits = model(batch[\"data\"].T, cls_indexes=cls_indexes,)\n",
    "    logits_init = logits.clone()\n",
    "    num_cols.append(batch[\"target_col_mask\"].max().item())\n",
    "    # if batch_idx == 355:\n",
    "    if batch_idx == 960:\n",
    "        break\n",
    "\n",
    "print(\"****weighted****************\")\n",
    "col_idx_set = target_col_mask.unique().tolist()\n",
    "successs = False\n",
    "init_permutation[batch_idx].append(get_permutation(target_col_mask))\n",
    "init_logits[batch_idx].append(logits_init.detach().cpu())     \n",
    "init_msp = F.softmax(logits_init).max().item()\n",
    "print(batch[\"label\"].item())\n",
    "print(get_permutation(target_col_mask), init_msp, init_logits[batch_idx][0].argmax().item())   \n",
    "print(\"********************************************************\")\n",
    "assert -1 not in col_idx_set\n",
    "max_msp = 0 \n",
    "for r in range(1, len(col_idx_set) + 1):\n",
    "    for subset in itertools.combinations(col_idx_set, r):\n",
    "        if 0 not in subset:\n",
    "            continue\n",
    "        for x in itertools.permutations(subset):\n",
    "            new_batch_data = []\n",
    "            for col_i in x:\n",
    "                if col_i == 0:\n",
    "                    if len(new_batch_data) == 0:\n",
    "                        cls_indexes_value = 0\n",
    "                    else:\n",
    "                        cls_indexes_value = sum([len(new_batch_data[i]) for i in range(len(new_batch_data))])\n",
    "                new_batch_data.append(batch[\"data\"].T[target_col_mask==col_i])\n",
    "            new_batch_data = torch.cat(new_batch_data, dim=-1).reshape(1, -1)\n",
    "            cls_indexes = torch.tensor([0, cls_indexes_value]).reshape(1, -1).to(device)\n",
    "            logits_temp = model(new_batch_data, cls_indexes=cls_indexes,).detach().cpu()\n",
    "            # print(\"****origin****************\")\n",
    "            # msp_temp = F.softmax(logits_temp).max().item()\n",
    "            # predict_temp = F.softmax(logits_temp).argmax().item()\n",
    "            # print(x, F.softmax(logits_temp).max(), F.softmax(logits_temp).argmax())\n",
    "            # print(\"****weighted****************\")\n",
    "            logits_temp = reweight_logits(logits_temp, class_weights)\n",
    "            msp_temp = logits_temp.max().item()\n",
    "            predict_temp = logits_temp.argmax().item()\n",
    "            print(x, msp_temp, predict_temp)\n",
    "            if msp_temp > max_msp and 0 in x:\n",
    "                max_msp = msp_temp\n",
    "                best_msp_perm = x\n",
    "                msp_predict = predict_temp\n",
    "print(\"********************************************************\")\n",
    "print(best_msp_perm, max_msp, msp_predict)\n",
    "\n",
    "\n",
    "print(\"****origin****************\")\n",
    "col_idx_set = target_col_mask.unique().tolist()\n",
    "successs = False\n",
    "init_permutation[batch_idx].append(get_permutation(target_col_mask))\n",
    "init_logits[batch_idx].append(logits_init.detach().cpu())     \n",
    "init_msp = F.softmax(logits_init).max().item()\n",
    "assert -1 not in col_idx_set\n",
    "max_msp = 0 \n",
    "for r in range(1, len(col_idx_set) + 1):\n",
    "    for subset in itertools.combinations(col_idx_set, r):\n",
    "        if 0 not in subset:\n",
    "            continue        \n",
    "        for x in itertools.permutations(subset):\n",
    "            new_batch_data = []\n",
    "            for col_i in x:\n",
    "                if col_i == 0:\n",
    "                    if len(new_batch_data) == 0:\n",
    "                        cls_indexes_value = 0\n",
    "                    else:\n",
    "                        cls_indexes_value = sum([len(new_batch_data[i]) for i in range(len(new_batch_data))])\n",
    "                new_batch_data.append(batch[\"data\"].T[target_col_mask==col_i])\n",
    "            new_batch_data = torch.cat(new_batch_data, dim=-1).reshape(1, -1)\n",
    "            cls_indexes = torch.tensor([0, cls_indexes_value]).reshape(1, -1).to(device)\n",
    "            logits_temp = model(new_batch_data, cls_indexes=cls_indexes,).detach().cpu()\n",
    "            \n",
    "            msp_temp = F.softmax(logits_temp).max().item()\n",
    "            predict_temp = F.softmax(logits_temp).argmax().item()\n",
    "            print(x, F.softmax(logits_temp).max(), F.softmax(logits_temp).argmax())\n",
    "            \n",
    "            # logits_temp = reweight_logits(logits_temp, class_weights)\n",
    "            # msp_temp = logits_temp.max().item()\n",
    "            # predict_temp = logits_temp.argmax().item()\n",
    "            # print(x, msp_temp, predict_temp)\n",
    "            if msp_temp > max_msp and 0 in x:\n",
    "                max_msp = msp_temp\n",
    "                best_msp_perm = x\n",
    "                msp_predict = predict_temp\n",
    "print(\"********************************************************\")\n",
    "print(best_msp_perm, max_msp, msp_predict)"
   ]
  },
  {
   "cell_type": "code",
   "execution_count": 284,
   "metadata": {},
   "outputs": [
    {
     "data": {
      "text/plain": [
       "tensor([   4,   12,   96,  115,  131,  143,  154,  172,  217,  221,  259,  324,\n",
       "         339,  452,  470,  473,  481,  498,  519,  522,  532,  540,  545,  573,\n",
       "         580,  630,  647,  652,  671,  684,  711,  747,  748,  767,  838,  874,\n",
       "         964, 1038, 1049])"
      ]
     },
     "execution_count": 284,
     "metadata": {},
     "output_type": "execute_result"
    }
   ],
   "source": [
    "target_col_idx_init"
   ]
  },
  {
   "cell_type": "code",
   "execution_count": 373,
   "metadata": {},
   "outputs": [
    {
     "data": {
      "text/plain": [
       "tensor([ 45,  52,  93, 194, 373, 392, 439, 444, 454, 547, 595, 622, 637, 718,\n",
       "        935, 942, 960, 976, 980, 995])"
      ]
     },
     "execution_count": 373,
     "metadata": {},
     "output_type": "execute_result"
    }
   ],
   "source": [
    "init_new_idx\n",
    "# 45, 52, 392,439, 444, 622, 637,\n",
    "# 935, 942 980 model no knowledge"
   ]
  },
  {
   "cell_type": "code",
   "execution_count": 404,
   "metadata": {},
   "outputs": [
    {
     "name": "stdout",
     "output_type": "stream",
     "text": [
      "23\n",
      "[1, 2, 3, 0] 0.1787736713886261 23\n",
      "********************************************************\n",
      "(0,) 0.5114062428474426 6\n",
      "(1,) 0.9494367837905884 0\n",
      "(2,) 0.7153188586235046 8\n",
      "(3,) 0.8116299510002136 0\n",
      "(0, 1) 0.9376112818717957 0\n",
      "(1, 0) 0.2014230191707611 10\n",
      "(0, 2) 0.1857820749282837 23\n",
      "(2, 0) 0.4104098677635193 23\n",
      "(0, 3) 0.41415852308273315 0\n",
      "(3, 0) 0.1487245261669159 23\n",
      "(1, 2) 0.2603535056114197 8\n",
      "(2, 1) 0.4953395128250122 8\n",
      "(1, 3) 0.0964953675866127 46\n",
      "(3, 1) 0.12780238687992096 37\n",
      "(2, 3) 0.09776917099952698 37\n",
      "(3, 2) 0.38815242052078247 28\n",
      "(0, 1, 2) 0.8890414237976074 0\n",
      "(0, 2, 1) 0.20967409014701843 23\n",
      "(1, 0, 2) 0.11068226397037506 65\n",
      "(1, 2, 0) 0.6806222796440125 23\n",
      "(2, 0, 1) 0.25590312480926514 23\n",
      "(2, 1, 0) 0.388788640499115 23\n",
      "(0, 1, 3) 0.8084651231765747 0\n",
      "(0, 3, 1) 0.11917047202587128 0\n",
      "(1, 0, 3) 0.2300780862569809 65\n",
      "(1, 3, 0) 0.2495071142911911 23\n",
      "(3, 0, 1) 0.14841237664222717 23\n",
      "(3, 1, 0) 0.09925299882888794 65\n",
      "(0, 2, 3) 0.7576421499252319 0\n",
      "(0, 3, 2) 0.8447192907333374 0\n",
      "(2, 0, 3) 0.19699996709823608 23\n",
      "(2, 3, 0) 0.7239934206008911 23\n",
      "(3, 0, 2) 0.3288387358188629 23\n",
      "(3, 2, 0) 0.6753793358802795 23\n",
      "(1, 2, 3) 0.16110365092754364 16\n",
      "(1, 3, 2) 0.2077295184135437 46\n",
      "(2, 1, 3) 0.2706303000450134 24\n",
      "(2, 3, 1) 0.2889205515384674 58\n",
      "(3, 1, 2) 0.2249068319797516 65\n",
      "(3, 2, 1) 0.18729594349861145 37\n",
      "(0, 1, 2, 3) 0.9230952262878418 0\n",
      "(0, 1, 3, 2) 0.8954490423202515 0\n",
      "(0, 2, 1, 3) 0.6206144690513611 0\n",
      "(0, 2, 3, 1) 0.8091468214988708 0\n",
      "(0, 3, 1, 2) 0.4451865255832672 0\n",
      "(0, 3, 2, 1) 0.8825711011886597 0\n",
      "(1, 0, 2, 3) 0.21326154470443726 65\n",
      "(1, 0, 3, 2) 0.21284206211566925 65\n",
      "(1, 2, 0, 3) 0.2777409553527832 23\n",
      "(1, 2, 3, 0) 0.1787736713886261 23\n",
      "(1, 3, 0, 2) 0.6970555186271667 23\n",
      "(1, 3, 2, 0) 0.5800784826278687 23\n",
      "(2, 0, 1, 3) 0.41641274094581604 23\n",
      "(2, 0, 3, 1) 0.1857418268918991 23\n",
      "(2, 1, 0, 3) 0.15408900380134583 58\n",
      "(2, 1, 3, 0) 0.12323631346225739 23\n",
      "(2, 3, 0, 1) 0.6678833961486816 23\n",
      "(2, 3, 1, 0) 0.32364338636398315 49\n",
      "(3, 0, 1, 2) 0.3885897099971771 23\n",
      "(3, 0, 2, 1) 0.42636775970458984 23\n",
      "(3, 1, 0, 2) 0.09561468660831451 65\n",
      "(3, 1, 2, 0) 0.648291826248169 23\n",
      "(3, 2, 0, 1) 0.7420974969863892 23\n",
      "(3, 2, 1, 0) 0.08319099992513657 100\n",
      "********************************************************\n",
      "(0, 1) 0.9376112818717957 0\n"
     ]
    }
   ],
   "source": [
    "# use target as head, the MSP context\n",
    "import itertools\n",
    "  \n",
    "model.load_state_dict(best_state_dict, strict=False)\n",
    "model.eval()\n",
    "model = model.to(device)\n",
    "ft_embs_test = []\n",
    "labels_test = []\n",
    "logits_test = []\n",
    "log = defaultdict(list)\n",
    "num_cols = []\n",
    "threshold = 0.8\n",
    "corrected = 0\n",
    "total_mistakes = 0\n",
    "init_permutation = defaultdict(list)\n",
    "corrected_permutation = defaultdict(list)\n",
    "init_logits = defaultdict(list)\n",
    "corrected_logits = defaultdict(list)\n",
    "\n",
    "alpha = 1.0\n",
    "class_weights = (1.0 / class_freq) ** alpha\n",
    "\n",
    "# Normalize the weights\n",
    "class_weights /= class_weights.sum()\n",
    "\n",
    "for batch_idx, batch in enumerate(test_dataloader_iter):\n",
    "    cls_indexes = torch.LongTensor([[0, batch[\"cls_indexes\"].cpu().item()]]).to(device)\n",
    "    target_col_mask = batch[\"target_col_mask\"].T\n",
    "    logits = model(batch[\"data\"].T, cls_indexes=cls_indexes,).detach().cpu()\n",
    "    logits = reweight_logits(logits, class_weights)\n",
    "    logits_init = logits.clone()\n",
    "    num_cols.append(batch[\"target_col_mask\"].max().item())\n",
    "    # if batch_idx == 355:\n",
    "    if batch_idx == 995:\n",
    "        break\n",
    "\n",
    "# print(\"****weighted****************\")\n",
    "col_idx_set = target_col_mask.unique().tolist()\n",
    "successs = False\n",
    "init_permutation[batch_idx].append(get_permutation(target_col_mask))\n",
    "init_logits[batch_idx].append(logits_init.detach().cpu())     \n",
    "init_msp = logits_init.max().item()\n",
    "print(batch[\"label\"].item())\n",
    "print(get_permutation(target_col_mask), init_msp, init_logits[batch_idx][0].argmax().item())   \n",
    "print(\"********************************************************\")\n",
    "assert -1 not in col_idx_set\n",
    "max_msp = 0 \n",
    "for r in range(1, len(col_idx_set) + 1):\n",
    "    for subset in itertools.combinations(col_idx_set, r):\n",
    "        # if 0 not in subset:\n",
    "        #     continue\n",
    "        for x in itertools.permutations(subset):\n",
    "            new_batch_data = []\n",
    "            for col_i in x:\n",
    "                if col_i == 0:\n",
    "                    if len(new_batch_data) == 0:\n",
    "                        cls_indexes_value = 0\n",
    "                    else:\n",
    "                        cls_indexes_value = sum([len(new_batch_data[i]) for i in range(len(new_batch_data))])\n",
    "                new_batch_data.append(batch[\"data\"].T[target_col_mask==col_i])\n",
    "            new_batch_data = torch.cat(new_batch_data, dim=-1).reshape(1, -1)\n",
    "            cls_indexes = torch.tensor([0, cls_indexes_value]).reshape(1, -1).to(device)\n",
    "            logits_temp = model(new_batch_data, cls_indexes=cls_indexes,).detach().cpu()\n",
    "            # print(\"****origin****************\")\n",
    "            # msp_temp = F.softmax(logits_temp).max().item()\n",
    "            # predict_temp = F.softmax(logits_temp).argmax().item()\n",
    "            # print(x, F.softmax(logits_temp).max(), F.softmax(logits_temp).argmax())\n",
    "            # print(\"****weighted****************\")\n",
    "            logits_temp = reweight_logits(logits_temp, class_weights)\n",
    "            msp_temp = logits_temp.max().item()\n",
    "            predict_temp = logits_temp.argmax().item()\n",
    "            print(x, msp_temp, predict_temp)\n",
    "            if msp_temp > max_msp and 0 in x:\n",
    "                max_msp = msp_temp\n",
    "                best_msp_perm = x\n",
    "                msp_predict = predict_temp\n",
    "print(\"********************************************************\")\n",
    "print(best_msp_perm, max_msp, msp_predict)\n",
    "\n"
   ]
  },
  {
   "cell_type": "code",
   "execution_count": 296,
   "metadata": {},
   "outputs": [
    {
     "data": {
      "text/plain": [
       "tensor([  45,   52,   93,   97,  107,  194,  239,  248,  258,  358,  373,  392,\n",
       "         419,  439,  444,  454,  465,  547,  595,  622,  637,  683,  718,  723,\n",
       "         727,  842,  867,  935,  942,  949,  960,  976,  980,  995,  997, 1071])"
      ]
     },
     "execution_count": 296,
     "metadata": {},
     "output_type": "execute_result"
    }
   ],
   "source": [
    "target_col_idx_msp"
   ]
  },
  {
   "cell_type": "code",
   "execution_count": 315,
   "metadata": {},
   "outputs": [
    {
     "name": "stdout",
     "output_type": "stream",
     "text": [
      "94\n",
      "[1, 0] 0.2327449470758438 94\n",
      "********************************************************\n",
      "(0,) 0.21304257214069366 34\n",
      "(1,) 0.8460359573364258 13\n",
      "(0, 1) 0.2356746941804886 34\n",
      "(1, 0) 0.2327449470758438 94\n",
      "********************************************************\n",
      "(0, 1) 0.2356746941804886 34\n"
     ]
    }
   ],
   "source": [
    "# use target as head, the MSP context\n",
    "import itertools\n",
    "  \n",
    "model.load_state_dict(best_state_dict, strict=False)\n",
    "model.eval()\n",
    "model = model.to(device)\n",
    "ft_embs_test = []\n",
    "labels_test = []\n",
    "logits_test = []\n",
    "log = defaultdict(list)\n",
    "num_cols = []\n",
    "threshold = 0.8\n",
    "corrected = 0\n",
    "total_mistakes = 0\n",
    "init_permutation = defaultdict(list)\n",
    "corrected_permutation = defaultdict(list)\n",
    "init_logits = defaultdict(list)\n",
    "corrected_logits = defaultdict(list)\n",
    "\n",
    "alpha = 1.0\n",
    "class_weights = (1.0 / class_freq) ** alpha\n",
    "\n",
    "# Normalize the weights\n",
    "class_weights /= class_weights.sum()\n",
    "\n",
    "for batch_idx, batch in enumerate(test_dataloader_iter):\n",
    "    cls_indexes = torch.LongTensor([[0, batch[\"cls_indexes\"].cpu().item()]]).to(device)\n",
    "    target_col_mask = batch[\"target_col_mask\"].T\n",
    "    logits = model(batch[\"data\"].T, cls_indexes=cls_indexes,).detach().cpu()\n",
    "    logits = reweight_logits(logits, class_weights)\n",
    "    logits_init = logits.clone()\n",
    "    num_cols.append(batch[\"target_col_mask\"].max().item())\n",
    "    # if batch_idx == 355:\n",
    "    if batch_idx == 258:\n",
    "        break\n",
    "\n",
    "# print(\"****weighted****************\")\n",
    "col_idx_set = target_col_mask.unique().tolist()\n",
    "successs = False\n",
    "init_permutation[batch_idx].append(get_permutation(target_col_mask))\n",
    "init_logits[batch_idx].append(logits_init.detach().cpu())     \n",
    "init_msp = logits_init.max().item()\n",
    "print(batch[\"label\"].item())\n",
    "print(get_permutation(target_col_mask), init_msp, init_logits[batch_idx][0].argmax().item())   \n",
    "print(\"********************************************************\")\n",
    "assert -1 not in col_idx_set\n",
    "max_msp = 0 \n",
    "for r in range(1, len(col_idx_set) + 1):\n",
    "    for subset in itertools.combinations(col_idx_set, r):\n",
    "        # if 0 not in subset:\n",
    "        #     continue\n",
    "        for x in itertools.permutations(subset):\n",
    "            new_batch_data = []\n",
    "            for col_i in x:\n",
    "                if col_i == 0:\n",
    "                    if len(new_batch_data) == 0:\n",
    "                        cls_indexes_value = 0\n",
    "                    else:\n",
    "                        cls_indexes_value = sum([len(new_batch_data[i]) for i in range(len(new_batch_data))])\n",
    "                new_batch_data.append(batch[\"data\"].T[target_col_mask==col_i])\n",
    "            new_batch_data = torch.cat(new_batch_data, dim=-1).reshape(1, -1)\n",
    "            cls_indexes = torch.tensor([0, cls_indexes_value]).reshape(1, -1).to(device)\n",
    "            logits_temp = model(new_batch_data, cls_indexes=cls_indexes,).detach().cpu()\n",
    "            # print(\"****origin****************\")\n",
    "            # msp_temp = F.softmax(logits_temp).max().item()\n",
    "            # predict_temp = F.softmax(logits_temp).argmax().item()\n",
    "            # print(x, F.softmax(logits_temp).max(), F.softmax(logits_temp).argmax())\n",
    "            # print(\"****weighted****************\")\n",
    "            logits_temp = reweight_logits(logits_temp, class_weights)\n",
    "            msp_temp = logits_temp.max().item()\n",
    "            predict_temp = logits_temp.argmax().item()\n",
    "            print(x, msp_temp, predict_temp)\n",
    "            if msp_temp > max_msp and 0 in x:\n",
    "                max_msp = msp_temp\n",
    "                best_msp_perm = x\n",
    "                msp_predict = predict_temp\n",
    "print(\"********************************************************\")\n",
    "print(best_msp_perm, max_msp, msp_predict)"
   ]
  },
  {
   "cell_type": "code",
   "execution_count": 244,
   "metadata": {},
   "outputs": [
    {
     "name": "stderr",
     "output_type": "stream",
     "text": [
      "/tmp/ipykernel_955267/3447887029.py:39: UserWarning: Implicit dimension choice for softmax has been deprecated. Change the call to include dim=X as an argument.\n",
      "  init_msp = F.softmax(logits_init).max().item()\n",
      "/tmp/ipykernel_955267/3447887029.py:83: UserWarning: Implicit dimension choice for softmax has been deprecated. Change the call to include dim=X as an argument.\n",
      "  init_msp = F.softmax(logits_init).max().item()\n",
      "/tmp/ipykernel_955267/3447887029.py:103: UserWarning: Implicit dimension choice for softmax has been deprecated. Change the call to include dim=X as an argument.\n",
      "  msp_temp = F.softmax(logits_temp).max().item()\n",
      "/tmp/ipykernel_955267/3447887029.py:104: UserWarning: Implicit dimension choice for softmax has been deprecated. Change the call to include dim=X as an argument.\n",
      "  predict_temp = F.softmax(logits_temp).argmax().item()\n"
     ]
    }
   ],
   "source": [
    "# use target as head, the MSP context\n",
    "import itertools\n",
    "\n",
    "\n",
    "    \n",
    "model.load_state_dict(best_state_dict, strict=False)\n",
    "model.eval()\n",
    "model = model.to(device)\n",
    "ft_embs_test = []\n",
    "labels_test = []\n",
    "logits_test = []\n",
    "log = defaultdict(list)\n",
    "num_cols = []\n",
    "threshold = 0.8\n",
    "corrected = 0\n",
    "total_mistakes = 0\n",
    "init_permutation = defaultdict(list)\n",
    "corrected_permutation = defaultdict(list)\n",
    "init_logits = defaultdict(list)\n",
    "corrected_logits = defaultdict(list)\n",
    "correted_rest = []\n",
    "\n",
    "\n",
    "for batch_idx, batch in enumerate(test_dataloader_iter):\n",
    "    cls_indexes = torch.LongTensor([[0, batch[\"cls_indexes\"].cpu().item()]]).to(device)\n",
    "    target_col_mask = batch[\"target_col_mask\"].T\n",
    "    logits = model(batch[\"data\"].T, cls_indexes=cls_indexes,)\n",
    "    logits_init = logits.clone()\n",
    "    num_cols.append(batch[\"target_col_mask\"].max().item())\n",
    "    # if batch_idx == 355:\n",
    "    if batch_idx not in rest_idx:\n",
    "        continue\n",
    "\n",
    "    # print(\"****weighted****************\")\n",
    "    col_idx_set = target_col_mask.unique().tolist()\n",
    "    successs = False\n",
    "    init_permutation[batch_idx].append(get_permutation(target_col_mask))\n",
    "    init_logits[batch_idx].append(logits_init.detach().cpu())     \n",
    "    init_msp = F.softmax(logits_init).max().item()\n",
    "    # print(batch[\"label\"].item())\n",
    "    # print(get_permutation(target_col_mask), init_msp, init_logits[batch_idx][0].argmax().item())   \n",
    "    # print(\"********************************************************\")\n",
    "    assert -1 not in col_idx_set\n",
    "    max_msp = 0 \n",
    "    for r in range(1, len(col_idx_set) + 1):\n",
    "        for subset in itertools.combinations(col_idx_set, r):\n",
    "            if 0 not in subset:\n",
    "                continue\n",
    "            for x in itertools.permutations(subset):\n",
    "                new_batch_data = []\n",
    "                for col_i in x:\n",
    "                    if col_i == 0:\n",
    "                        if len(new_batch_data) == 0:\n",
    "                            cls_indexes_value = 0\n",
    "                        else:\n",
    "                            cls_indexes_value = sum([len(new_batch_data[i]) for i in range(len(new_batch_data))])\n",
    "                    new_batch_data.append(batch[\"data\"].T[target_col_mask==col_i])\n",
    "                new_batch_data = torch.cat(new_batch_data, dim=-1).reshape(1, -1)\n",
    "                cls_indexes = torch.tensor([0, cls_indexes_value]).reshape(1, -1).to(device)\n",
    "                logits_temp = model(new_batch_data, cls_indexes=cls_indexes,).detach().cpu()\n",
    "                # print(\"****origin****************\")\n",
    "                # msp_temp = F.softmax(logits_temp).max().item()\n",
    "                # predict_temp = F.softmax(logits_temp).argmax().item()\n",
    "                # print(x, F.softmax(logits_temp).max(), F.softmax(logits_temp).argmax())\n",
    "                # print(\"****weighted****************\")\n",
    "                logits_temp = reweight_logits(logits_temp, class_weights)\n",
    "                msp_temp = logits_temp.max().item()\n",
    "                predict_temp = logits_temp.argmax().item()\n",
    "                # print(x, msp_temp, predict_temp)\n",
    "                if msp_temp > max_msp and 0 in x:\n",
    "                    max_msp = msp_temp\n",
    "                    best_msp_perm = x\n",
    "                    msp_predict_weighted = predict_temp\n",
    "    # print(\"********************************************************\")\n",
    "    # print(best_msp_perm, max_msp, msp_predict)\n",
    "\n",
    "\n",
    "    # print(\"****origin****************\")\n",
    "    col_idx_set = target_col_mask.unique().tolist()\n",
    "    successs = False\n",
    "    init_permutation[batch_idx].append(get_permutation(target_col_mask))\n",
    "    init_logits[batch_idx].append(logits_init.detach().cpu())     \n",
    "    init_msp = F.softmax(logits_init).max().item()\n",
    "    assert -1 not in col_idx_set\n",
    "    max_msp = 0 \n",
    "    for r in range(1, len(col_idx_set) + 1):\n",
    "        for subset in itertools.combinations(col_idx_set, r):\n",
    "            if 0 not in subset:\n",
    "                continue\n",
    "            for x in itertools.permutations(subset):\n",
    "                new_batch_data = []\n",
    "                for col_i in x:\n",
    "                    if col_i == 0:\n",
    "                        if len(new_batch_data) == 0:\n",
    "                            cls_indexes_value = 0\n",
    "                        else:\n",
    "                            cls_indexes_value = sum([len(new_batch_data[i]) for i in range(len(new_batch_data))])\n",
    "                    new_batch_data.append(batch[\"data\"].T[target_col_mask==col_i])\n",
    "                new_batch_data = torch.cat(new_batch_data, dim=-1).reshape(1, -1)\n",
    "                cls_indexes = torch.tensor([0, cls_indexes_value]).reshape(1, -1).to(device)\n",
    "                logits_temp = model(new_batch_data, cls_indexes=cls_indexes,).detach().cpu()\n",
    "                \n",
    "                msp_temp = F.softmax(logits_temp).max().item()\n",
    "                predict_temp = F.softmax(logits_temp).argmax().item()\n",
    "                # print(x, F.softmax(logits_temp).max(), F.softmax(logits_temp).argmax())\n",
    "                \n",
    "                # logits_temp = reweight_logits(logits_temp, class_weights)\n",
    "                # msp_temp = logits_temp.max().item()\n",
    "                # predict_temp = logits_temp.argmax().item()\n",
    "                # print(x, msp_temp, predict_temp)\n",
    "                if msp_temp > max_msp and 0 in x:\n",
    "                    max_msp = msp_temp\n",
    "                    best_msp_perm = x\n",
    "                    msp_predict = predict_temp\n",
    "    if msp_predict == msp_predict_weighted:\n",
    "        correted_rest.append(True)\n",
    "    else:\n",
    "        correted_rest.append(False)\n",
    "    # print(\"********************************************************\")\n",
    "    # print(best_msp_perm, max_msp, msp_predict)"
   ]
  },
  {
   "cell_type": "code",
   "execution_count": 245,
   "metadata": {},
   "outputs": [
    {
     "data": {
      "text/plain": [
       "13"
      ]
     },
     "execution_count": 245,
     "metadata": {},
     "output_type": "execute_result"
    }
   ],
   "source": [
    "sum(correted_rest)"
   ]
  },
  {
   "cell_type": "code",
   "execution_count": 246,
   "metadata": {},
   "outputs": [
    {
     "data": {
      "text/plain": [
       "17"
      ]
     },
     "execution_count": 246,
     "metadata": {},
     "output_type": "execute_result"
    }
   ],
   "source": [
    "len(correted_rest)"
   ]
  },
  {
   "cell_type": "code",
   "execution_count": null,
   "metadata": {},
   "outputs": [],
   "source": []
  },
  {
   "cell_type": "code",
   "execution_count": 70,
   "metadata": {},
   "outputs": [
    {
     "name": "stdout",
     "output_type": "stream",
     "text": [
      "3\n",
      "[0, 1] 0.08097616583108902 2\n",
      "********************************************************\n",
      "(0,) tensor(0.9377, device='cuda:1', grad_fn=<MaxBackward1>) tensor(3, device='cuda:1')\n",
      "(1,) tensor(0.5614, device='cuda:1', grad_fn=<MaxBackward1>) tensor(52, device='cuda:1')\n",
      "(0, 1) tensor(0.0810, device='cuda:1', grad_fn=<MaxBackward1>) tensor(2, device='cuda:1')\n",
      "(1, 0) tensor(0.5527, device='cuda:1', grad_fn=<MaxBackward1>) tensor(3, device='cuda:1')\n",
      "********************************************************\n",
      "(0,) 0.9376919269561768 3\n"
     ]
    },
    {
     "name": "stderr",
     "output_type": "stream",
     "text": [
      "/tmp/ipykernel_955267/3269090917.py:35: UserWarning: Implicit dimension choice for softmax has been deprecated. Change the call to include dim=X as an argument.\n",
      "  init_msp = F.softmax(logits_init).max().item()\n",
      "/tmp/ipykernel_955267/3269090917.py:55: UserWarning: Implicit dimension choice for softmax has been deprecated. Change the call to include dim=X as an argument.\n",
      "  msp_temp = F.softmax(logits_temp).max().item()\n",
      "/tmp/ipykernel_955267/3269090917.py:56: UserWarning: Implicit dimension choice for softmax has been deprecated. Change the call to include dim=X as an argument.\n",
      "  predict_temp = F.softmax(logits_temp).argmax().item()\n",
      "/tmp/ipykernel_955267/3269090917.py:57: UserWarning: Implicit dimension choice for softmax has been deprecated. Change the call to include dim=X as an argument.\n",
      "  print(x, F.softmax(logits_temp).max(), F.softmax(logits_temp).argmax())\n"
     ]
    }
   ],
   "source": [
    "# use target as head, the MSP context\n",
    "import itertools\n",
    "\n",
    "\n",
    "    \n",
    "model.load_state_dict(best_state_dict, strict=False)\n",
    "model.eval()\n",
    "model = model.to(device)\n",
    "ft_embs_test = []\n",
    "labels_test = []\n",
    "logits_test = []\n",
    "log = defaultdict(list)\n",
    "num_cols = []\n",
    "threshold = 0.8\n",
    "corrected = 0\n",
    "total_mistakes = 0\n",
    "init_permutation = defaultdict(list)\n",
    "corrected_permutation = defaultdict(list)\n",
    "init_logits = defaultdict(list)\n",
    "corrected_logits = defaultdict(list)\n",
    "\n",
    "for batch_idx, batch in enumerate(test_dataloader_iter):\n",
    "    cls_indexes = torch.LongTensor([[0, batch[\"cls_indexes\"].cpu().item()]]).to(device)\n",
    "    target_col_mask = batch[\"target_col_mask\"].T\n",
    "    logits = model(batch[\"data\"].T, cls_indexes=cls_indexes,)\n",
    "    logits_init = logits.clone()\n",
    "    num_cols.append(batch[\"target_col_mask\"].max().item())\n",
    "    if batch_idx == 143:\n",
    "        break\n",
    "\n",
    "col_idx_set = target_col_mask.unique().tolist()\n",
    "successs = False\n",
    "init_permutation[batch_idx].append(get_permutation(target_col_mask))\n",
    "init_logits[batch_idx].append(logits_init.detach().cpu())     \n",
    "init_msp = F.softmax(logits_init).max().item()\n",
    "print(batch[\"label\"].item())\n",
    "print(get_permutation(target_col_mask), init_msp, init_logits[batch_idx][0].argmax().item())   \n",
    "print(\"********************************************************\")\n",
    "assert -1 not in col_idx_set\n",
    "max_msp = 0 \n",
    "for r in range(1, len(col_idx_set) + 1):\n",
    "    for subset in itertools.combinations(col_idx_set, r):\n",
    "        for x in itertools.permutations(subset):\n",
    "            new_batch_data = []\n",
    "            for col_i in x:\n",
    "                if col_i == 0:\n",
    "                    if len(new_batch_data) == 0:\n",
    "                        cls_indexes_value = 0\n",
    "                    else:\n",
    "                        cls_indexes_value = sum([len(new_batch_data[i]) for i in range(len(new_batch_data))])\n",
    "                new_batch_data.append(batch[\"data\"].T[target_col_mask==col_i])\n",
    "            new_batch_data = torch.cat(new_batch_data, dim=-1).reshape(1, -1)\n",
    "            cls_indexes = torch.tensor([0, cls_indexes_value]).reshape(1, -1).to(device)\n",
    "            logits_temp = model(new_batch_data, cls_indexes=cls_indexes,)\n",
    "            msp_temp = F.softmax(logits_temp).max().item()\n",
    "            predict_temp = F.softmax(logits_temp).argmax().item()\n",
    "            print(x, F.softmax(logits_temp).max(), F.softmax(logits_temp).argmax())\n",
    "            if msp_temp > max_msp and 0 in x:\n",
    "                max_msp = msp_temp\n",
    "                best_msp_perm = x\n",
    "                msp_predict = predict_temp\n",
    "print(\"********************************************************\")\n",
    "print(best_msp_perm, max_msp, msp_predict)"
   ]
  },
  {
   "cell_type": "code",
   "execution_count": 50,
   "metadata": {},
   "outputs": [
    {
     "data": {
      "text/plain": [
       "tensor([1.9345, 1.6622, 2.4728, 1.5530, 1.7454, 1.5963, 2.6106, 2.2574, 1.8556,\n",
       "        2.3706, 2.4085, 2.8997, 2.6628])"
      ]
     },
     "execution_count": 50,
     "metadata": {},
     "output_type": "execute_result"
    }
   ],
   "source": [
    "score_init[change_log == 1]"
   ]
  },
  {
   "cell_type": "code",
   "execution_count": 49,
   "metadata": {},
   "outputs": [
    {
     "data": {
      "text/plain": [
       "tensor([1.9345, 0.0149, 0.5363, 1.5530, 1.7454, 0.7366, 0.4971, 0.0093, 0.1013,\n",
       "        1.3824, 0.1368, 0.4204, 0.7160])"
      ]
     },
     "execution_count": 49,
     "metadata": {},
     "output_type": "execute_result"
    }
   ],
   "source": [
    "score_best[change_log == 1]"
   ]
  },
  {
   "cell_type": "code",
   "execution_count": 51,
   "metadata": {},
   "outputs": [
    {
     "data": {
      "text/plain": [
       "tensor([2.5975, 2.2764, 1.9519, 1.6245, 1.8343, 1.9780, 1.6903, 2.6139, 1.8942,\n",
       "        2.1679, 2.1553, 1.6920, 1.5104, 1.6143, 1.6281, 2.7796, 2.4067, 2.6658])"
      ]
     },
     "execution_count": 51,
     "metadata": {},
     "output_type": "execute_result"
    }
   ],
   "source": [
    "score_init[change_log == 2]"
   ]
  },
  {
   "cell_type": "code",
   "execution_count": 53,
   "metadata": {},
   "outputs": [
    {
     "data": {
      "text/plain": [
       "tensor([1.6363, 0.7895, 0.0909, 1.6245, 0.1558, 0.3021, 0.0241, 0.0160, 0.0072,\n",
       "        2.1679, 0.0843, 0.0077, 1.4630, 0.0821, 1.6281, 0.2794, 0.0186, 2.6262])"
      ]
     },
     "execution_count": 53,
     "metadata": {},
     "output_type": "execute_result"
    }
   ],
   "source": [
    "score_best[change_log == 2]"
   ]
  },
  {
   "cell_type": "code",
   "execution_count": 56,
   "metadata": {},
   "outputs": [
    {
     "data": {
      "text/plain": [
       "<Axes: ylabel='Count'>"
      ]
     },
     "execution_count": 56,
     "metadata": {},
     "output_type": "execute_result"
    },
    {
     "data": {
      "image/png": "[encoded data removed]",
      "text/plain": [
       "<Figure size 432x288 with 1 Axes>"
      ]
     },
     "metadata": {
      "needs_background": "light"
     },
     "output_type": "display_data"
    }
   ],
   "source": [
    "import seaborn as sns\n",
    "sns.histplot(score_init[change_log == 1] - score_best[change_log == 1])"
   ]
  },
  {
   "cell_type": "code",
   "execution_count": 57,
   "metadata": {},
   "outputs": [
    {
     "data": {
      "text/plain": [
       "<Axes: ylabel='Count'>"
      ]
     },
     "execution_count": 57,
     "metadata": {},
     "output_type": "execute_result"
    },
    {
     "data": {
      "image/png": "[encoded data removed]",
      "text/plain": [
       "<Figure size 432x288 with 1 Axes>"
      ]
     },
     "metadata": {
      "needs_background": "light"
     },
     "output_type": "display_data"
    }
   ],
   "source": [
    "import seaborn as sns\n",
    "sns.histplot(score_init[change_log == 2] - score_best[change_log == 2])"
   ]
  },
  {
   "cell_type": "code",
   "execution_count": 35,
   "metadata": {},
   "outputs": [
    {
     "data": {
      "text/plain": [
       "0"
      ]
     },
     "execution_count": 35,
     "metadata": {},
     "output_type": "execute_result"
    }
   ],
   "source": [
    "batch[\"label\"].item()"
   ]
  },
  {
   "cell_type": "code",
   "execution_count": null,
   "metadata": {},
   "outputs": [],
   "source": []
  },
  {
   "cell_type": "code",
   "execution_count": null,
   "metadata": {},
   "outputs": [],
   "source": []
  },
  {
   "cell_type": "code",
   "execution_count": null,
   "metadata": {},
   "outputs": [],
   "source": []
  },
  {
   "cell_type": "code",
   "execution_count": 61,
   "metadata": {},
   "outputs": [
    {
     "name": "stdout",
     "output_type": "stream",
     "text": [
      "(1, 2, 3)\n",
      "(1, 3, 2)\n",
      "(2, 1, 3)\n",
      "(2, 3, 1)\n",
      "(3, 1, 2)\n",
      "(3, 2, 1)\n"
     ]
    }
   ],
   "source": [
    "import itertools\n",
    "for x in itertools.permutations([1, 2, 3]):\n",
    "    print(x)"
   ]
  },
  {
   "cell_type": "code",
   "execution_count": 62,
   "metadata": {},
   "outputs": [
    {
     "data": {
      "text/html": [
       "<div>\n",
       "<style scoped>\n",
       "    .dataframe tbody tr th:only-of-type {\n",
       "        vertical-align: middle;\n",
       "    }\n",
       "\n",
       "    .dataframe tbody tr th {\n",
       "        vertical-align: top;\n",
       "    }\n",
       "\n",
       "    .dataframe thead th {\n",
       "        text-align: right;\n",
       "    }\n",
       "</style>\n",
       "<table border=\"1\" class=\"dataframe\">\n",
       "  <thead>\n",
       "    <tr style=\"text-align: right;\">\n",
       "      <th></th>\n",
       "      <th>table_name</th>\n",
       "      <th>column_index</th>\n",
       "      <th>label</th>\n",
       "    </tr>\n",
       "  </thead>\n",
       "  <tbody>\n",
       "    <tr>\n",
       "      <th>0</th>\n",
       "      <td>Product_michaelirvine.com_September2020_CTA.js...</td>\n",
       "      <td>4</td>\n",
       "      <td>currency</td>\n",
       "    </tr>\n",
       "    <tr>\n",
       "      <th>1</th>\n",
       "      <td>Product_michaelirvine.com_September2020_CTA.js...</td>\n",
       "      <td>6</td>\n",
       "      <td>Date</td>\n",
       "    </tr>\n",
       "    <tr>\n",
       "      <th>2</th>\n",
       "      <td>Product_heavenlybia.com_September2020_CTA.json.gz</td>\n",
       "      <td>3</td>\n",
       "      <td>currency</td>\n",
       "    </tr>\n",
       "    <tr>\n",
       "      <th>3</th>\n",
       "      <td>Product_heavenlybia.com_September2020_CTA.json.gz</td>\n",
       "      <td>5</td>\n",
       "      <td>Date</td>\n",
       "    </tr>\n",
       "    <tr>\n",
       "      <th>4</th>\n",
       "      <td>Product_magpieandlondon.com_September2020_CTA....</td>\n",
       "      <td>3</td>\n",
       "      <td>price</td>\n",
       "    </tr>\n",
       "    <tr>\n",
       "      <th>...</th>\n",
       "      <td>...</td>\n",
       "      <td>...</td>\n",
       "      <td>...</td>\n",
       "    </tr>\n",
       "    <tr>\n",
       "      <th>32999</th>\n",
       "      <td>MusicRecording_journey-north.com_September2020...</td>\n",
       "      <td>3</td>\n",
       "      <td>MusicAlbum</td>\n",
       "    </tr>\n",
       "    <tr>\n",
       "      <th>33000</th>\n",
       "      <td>MusicRecording_journey-north.com_September2020...</td>\n",
       "      <td>4</td>\n",
       "      <td>MusicArtistAT</td>\n",
       "    </tr>\n",
       "    <tr>\n",
       "      <th>33001</th>\n",
       "      <td>SportsEvent_4smenssoccer.com_September2020_CTA...</td>\n",
       "      <td>2</td>\n",
       "      <td>SportsTeam</td>\n",
       "    </tr>\n",
       "    <tr>\n",
       "      <th>33002</th>\n",
       "      <td>SportsEvent_4smenssoccer.com_September2020_CTA...</td>\n",
       "      <td>0</td>\n",
       "      <td>SportsEvent/name</td>\n",
       "    </tr>\n",
       "    <tr>\n",
       "      <th>33003</th>\n",
       "      <td>JobPosting_ksl.com_September2020_CTA.json.gz</td>\n",
       "      <td>5</td>\n",
       "      <td>EducationalOccupationalCredential</td>\n",
       "    </tr>\n",
       "  </tbody>\n",
       "</table>\n",
       "<p>33004 rows × 3 columns</p>\n",
       "</div>"
      ],
      "text/plain": [
       "                                              table_name  column_index  \\\n",
       "0      Product_michaelirvine.com_September2020_CTA.js...             4   \n",
       "1      Product_michaelirvine.com_September2020_CTA.js...             6   \n",
       "2      Product_heavenlybia.com_September2020_CTA.json.gz             3   \n",
       "3      Product_heavenlybia.com_September2020_CTA.json.gz             5   \n",
       "4      Product_magpieandlondon.com_September2020_CTA....             3   \n",
       "...                                                  ...           ...   \n",
       "32999  MusicRecording_journey-north.com_September2020...             3   \n",
       "33000  MusicRecording_journey-north.com_September2020...             4   \n",
       "33001  SportsEvent_4smenssoccer.com_September2020_CTA...             2   \n",
       "33002  SportsEvent_4smenssoccer.com_September2020_CTA...             0   \n",
       "33003       JobPosting_ksl.com_September2020_CTA.json.gz             5   \n",
       "\n",
       "                                   label  \n",
       "0                               currency  \n",
       "1                                   Date  \n",
       "2                               currency  \n",
       "3                                   Date  \n",
       "4                                  price  \n",
       "...                                  ...  \n",
       "32999                         MusicAlbum  \n",
       "33000                      MusicArtistAT  \n",
       "33001                         SportsTeam  \n",
       "33002                   SportsEvent/name  \n",
       "33003  EducationalOccupationalCredential  \n",
       "\n",
       "[33004 rows x 3 columns]"
      ]
     },
     "execution_count": 62,
     "metadata": {},
     "output_type": "execute_result"
    }
   ],
   "source": [
    "pd.read_csv(\"/data/yongkang/TU/SOTAB/CTA_training_small_gt.csv\")"
   ]
  },
  {
   "cell_type": "code",
   "execution_count": 2,
   "metadata": {},
   "outputs": [],
   "source": [
    "import pandas as pd\n",
    "df = pd.read_csv(\"/data/yongkang/TU/SOTAB/comma_train_sotab.csv\")"
   ]
  },
  {
   "cell_type": "code",
   "execution_count": 3,
   "metadata": {},
   "outputs": [
    {
     "data": {
      "text/html": [
       "<div>\n",
       "<style scoped>\n",
       "    .dataframe tbody tr th:only-of-type {\n",
       "        vertical-align: middle;\n",
       "    }\n",
       "\n",
       "    .dataframe tbody tr th {\n",
       "        vertical-align: top;\n",
       "    }\n",
       "\n",
       "    .dataframe thead th {\n",
       "        text-align: right;\n",
       "    }\n",
       "</style>\n",
       "<table border=\"1\" class=\"dataframe\">\n",
       "  <thead>\n",
       "    <tr style=\"text-align: right;\">\n",
       "      <th></th>\n",
       "      <th>table_id</th>\n",
       "      <th>column_index</th>\n",
       "      <th>label</th>\n",
       "      <th>data</th>\n",
       "    </tr>\n",
       "  </thead>\n",
       "  <tbody>\n",
       "    <tr>\n",
       "      <th>0</th>\n",
       "      <td>Book_1carpetcleaning.co.uk_September2020_CTA.j...</td>\n",
       "      <td>0</td>\n",
       "      <td>5</td>\n",
       "      <td>Homer William Bedell Stanford W. Stanford, Dav...</td>\n",
       "    </tr>\n",
       "    <tr>\n",
       "      <th>1</th>\n",
       "      <td>Book_1carpetcleaning.co.uk_September2020_CTA.j...</td>\n",
       "      <td>1</td>\n",
       "      <td>10</td>\n",
       "      <td>Unlimited [Historical Fiction Book] ↠ The Odys...</td>\n",
       "    </tr>\n",
       "    <tr>\n",
       "      <th>2</th>\n",
       "      <td>Book_1carpetcleaning.co.uk_September2020_CTA.j...</td>\n",
       "      <td>2</td>\n",
       "      <td>36</td>\n",
       "      <td>Paperback, Hardcover, Paperback, None, Paperba...</td>\n",
       "    </tr>\n",
       "    <tr>\n",
       "      <th>3</th>\n",
       "      <td>Book_1carpetcleaning.co.uk_September2020_CTA.j...</td>\n",
       "      <td>3</td>\n",
       "      <td>-1</td>\n",
       "      <td>2020-06-27T15:00:54+00:00, 2020-06-01T00:07:00...</td>\n",
       "    </tr>\n",
       "    <tr>\n",
       "      <th>4</th>\n",
       "      <td>Book_1carpetcleaning.co.uk_September2020_CTA.j...</td>\n",
       "      <td>4</td>\n",
       "      <td>-1</td>\n",
       "      <td>418, 309, 139, 491, 461, 272, 211, 365, 153, 2...</td>\n",
       "    </tr>\n",
       "    <tr>\n",
       "      <th>...</th>\n",
       "      <td>...</td>\n",
       "      <td>...</td>\n",
       "      <td>...</td>\n",
       "      <td>...</td>\n",
       "    </tr>\n",
       "    <tr>\n",
       "      <th>91315</th>\n",
       "      <td>TVEpisode_yidio.com_September2020_CTA.json.gz</td>\n",
       "      <td>1</td>\n",
       "      <td>19</td>\n",
       "      <td>In the hope that Griffin has left materials an...</td>\n",
       "    </tr>\n",
       "    <tr>\n",
       "      <th>91316</th>\n",
       "      <td>TVEpisode_yidio.com_September2020_CTA.json.gz</td>\n",
       "      <td>2</td>\n",
       "      <td>35</td>\n",
       "      <td>BANANA FISH, None, None, None, None, None, Non...</td>\n",
       "    </tr>\n",
       "    <tr>\n",
       "      <th>91317</th>\n",
       "      <td>TVEpisode_yidio.com_September2020_CTA.json.gz</td>\n",
       "      <td>3</td>\n",
       "      <td>-1</td>\n",
       "      <td>1.0, nan, nan, nan, nan, nan, nan, nan, nan, n...</td>\n",
       "    </tr>\n",
       "    <tr>\n",
       "      <th>91318</th>\n",
       "      <td>TVEpisode_yidio.com_September2020_CTA.json.gz</td>\n",
       "      <td>4</td>\n",
       "      <td>33</td>\n",
       "      <td>None, 2019-11-06, 2019-10-23, 2019-10-23, 1986...</td>\n",
       "    </tr>\n",
       "    <tr>\n",
       "      <th>91319</th>\n",
       "      <td>TVEpisode_yidio.com_September2020_CTA.json.gz</td>\n",
       "      <td>5</td>\n",
       "      <td>-1</td>\n",
       "      <td>6, 5, 3, 1, 19, 18, 21, 11, 20, 19, 15, 11, 2,...</td>\n",
       "    </tr>\n",
       "  </tbody>\n",
       "</table>\n",
       "<p>91320 rows × 4 columns</p>\n",
       "</div>"
      ],
      "text/plain": [
       "                                                table_id  column_index  label  \\\n",
       "0      Book_1carpetcleaning.co.uk_September2020_CTA.j...             0      5   \n",
       "1      Book_1carpetcleaning.co.uk_September2020_CTA.j...             1     10   \n",
       "2      Book_1carpetcleaning.co.uk_September2020_CTA.j...             2     36   \n",
       "3      Book_1carpetcleaning.co.uk_September2020_CTA.j...             3     -1   \n",
       "4      Book_1carpetcleaning.co.uk_September2020_CTA.j...             4     -1   \n",
       "...                                                  ...           ...    ...   \n",
       "91315      TVEpisode_yidio.com_September2020_CTA.json.gz             1     19   \n",
       "91316      TVEpisode_yidio.com_September2020_CTA.json.gz             2     35   \n",
       "91317      TVEpisode_yidio.com_September2020_CTA.json.gz             3     -1   \n",
       "91318      TVEpisode_yidio.com_September2020_CTA.json.gz             4     33   \n",
       "91319      TVEpisode_yidio.com_September2020_CTA.json.gz             5     -1   \n",
       "\n",
       "                                                    data  \n",
       "0      Homer William Bedell Stanford W. Stanford, Dav...  \n",
       "1      Unlimited [Historical Fiction Book] ↠ The Odys...  \n",
       "2      Paperback, Hardcover, Paperback, None, Paperba...  \n",
       "3      2020-06-27T15:00:54+00:00, 2020-06-01T00:07:00...  \n",
       "4      418, 309, 139, 491, 461, 272, 211, 365, 153, 2...  \n",
       "...                                                  ...  \n",
       "91315  In the hope that Griffin has left materials an...  \n",
       "91316  BANANA FISH, None, None, None, None, None, Non...  \n",
       "91317  1.0, nan, nan, nan, nan, nan, nan, nan, nan, n...  \n",
       "91318  None, 2019-11-06, 2019-10-23, 2019-10-23, 1986...  \n",
       "91319  6, 5, 3, 1, 19, 18, 21, 11, 20, 19, 15, 11, 2,...  \n",
       "\n",
       "[91320 rows x 4 columns]"
      ]
     },
     "execution_count": 3,
     "metadata": {},
     "output_type": "execute_result"
    }
   ],
   "source": [
    "df"
   ]
  },
  {
   "cell_type": "code",
   "execution_count": 4,
   "metadata": {},
   "outputs": [
    {
     "data": {
      "text/plain": [
       "Index(['table_id', 'column_index', 'label', 'data'], dtype='object')"
      ]
     },
     "execution_count": 4,
     "metadata": {},
     "output_type": "execute_result"
    }
   ],
   "source": [
    "df.columns"
   ]
  },
  {
   "cell_type": "code",
   "execution_count": 5,
   "metadata": {},
   "outputs": [],
   "source": [
    "df.columns = ['table_id', 'col_idx', 'class_id', 'data']"
   ]
  },
  {
   "cell_type": "code",
   "execution_count": 6,
   "metadata": {},
   "outputs": [
    {
     "data": {
      "text/html": [
       "<div>\n",
       "<style scoped>\n",
       "    .dataframe tbody tr th:only-of-type {\n",
       "        vertical-align: middle;\n",
       "    }\n",
       "\n",
       "    .dataframe tbody tr th {\n",
       "        vertical-align: top;\n",
       "    }\n",
       "\n",
       "    .dataframe thead th {\n",
       "        text-align: right;\n",
       "    }\n",
       "</style>\n",
       "<table border=\"1\" class=\"dataframe\">\n",
       "  <thead>\n",
       "    <tr style=\"text-align: right;\">\n",
       "      <th></th>\n",
       "      <th>table_id</th>\n",
       "      <th>col_idx</th>\n",
       "      <th>class_id</th>\n",
       "      <th>data</th>\n",
       "    </tr>\n",
       "  </thead>\n",
       "  <tbody>\n",
       "    <tr>\n",
       "      <th>0</th>\n",
       "      <td>Book_1carpetcleaning.co.uk_September2020_CTA.j...</td>\n",
       "      <td>0</td>\n",
       "      <td>5</td>\n",
       "      <td>Homer William Bedell Stanford W. Stanford, Dav...</td>\n",
       "    </tr>\n",
       "    <tr>\n",
       "      <th>1</th>\n",
       "      <td>Book_1carpetcleaning.co.uk_September2020_CTA.j...</td>\n",
       "      <td>1</td>\n",
       "      <td>10</td>\n",
       "      <td>Unlimited [Historical Fiction Book] ↠ The Odys...</td>\n",
       "    </tr>\n",
       "    <tr>\n",
       "      <th>2</th>\n",
       "      <td>Book_1carpetcleaning.co.uk_September2020_CTA.j...</td>\n",
       "      <td>2</td>\n",
       "      <td>36</td>\n",
       "      <td>Paperback, Hardcover, Paperback, None, Paperba...</td>\n",
       "    </tr>\n",
       "    <tr>\n",
       "      <th>3</th>\n",
       "      <td>Book_1carpetcleaning.co.uk_September2020_CTA.j...</td>\n",
       "      <td>3</td>\n",
       "      <td>-1</td>\n",
       "      <td>2020-06-27T15:00:54+00:00, 2020-06-01T00:07:00...</td>\n",
       "    </tr>\n",
       "    <tr>\n",
       "      <th>4</th>\n",
       "      <td>Book_1carpetcleaning.co.uk_September2020_CTA.j...</td>\n",
       "      <td>4</td>\n",
       "      <td>-1</td>\n",
       "      <td>418, 309, 139, 491, 461, 272, 211, 365, 153, 2...</td>\n",
       "    </tr>\n",
       "    <tr>\n",
       "      <th>...</th>\n",
       "      <td>...</td>\n",
       "      <td>...</td>\n",
       "      <td>...</td>\n",
       "      <td>...</td>\n",
       "    </tr>\n",
       "    <tr>\n",
       "      <th>91315</th>\n",
       "      <td>TVEpisode_yidio.com_September2020_CTA.json.gz</td>\n",
       "      <td>1</td>\n",
       "      <td>19</td>\n",
       "      <td>In the hope that Griffin has left materials an...</td>\n",
       "    </tr>\n",
       "    <tr>\n",
       "      <th>91316</th>\n",
       "      <td>TVEpisode_yidio.com_September2020_CTA.json.gz</td>\n",
       "      <td>2</td>\n",
       "      <td>35</td>\n",
       "      <td>BANANA FISH, None, None, None, None, None, Non...</td>\n",
       "    </tr>\n",
       "    <tr>\n",
       "      <th>91317</th>\n",
       "      <td>TVEpisode_yidio.com_September2020_CTA.json.gz</td>\n",
       "      <td>3</td>\n",
       "      <td>-1</td>\n",
       "      <td>1.0, nan, nan, nan, nan, nan, nan, nan, nan, n...</td>\n",
       "    </tr>\n",
       "    <tr>\n",
       "      <th>91318</th>\n",
       "      <td>TVEpisode_yidio.com_September2020_CTA.json.gz</td>\n",
       "      <td>4</td>\n",
       "      <td>33</td>\n",
       "      <td>None, 2019-11-06, 2019-10-23, 2019-10-23, 1986...</td>\n",
       "    </tr>\n",
       "    <tr>\n",
       "      <th>91319</th>\n",
       "      <td>TVEpisode_yidio.com_September2020_CTA.json.gz</td>\n",
       "      <td>5</td>\n",
       "      <td>-1</td>\n",
       "      <td>6, 5, 3, 1, 19, 18, 21, 11, 20, 19, 15, 11, 2,...</td>\n",
       "    </tr>\n",
       "  </tbody>\n",
       "</table>\n",
       "<p>91320 rows × 4 columns</p>\n",
       "</div>"
      ],
      "text/plain": [
       "                                                table_id  col_idx  class_id  \\\n",
       "0      Book_1carpetcleaning.co.uk_September2020_CTA.j...        0         5   \n",
       "1      Book_1carpetcleaning.co.uk_September2020_CTA.j...        1        10   \n",
       "2      Book_1carpetcleaning.co.uk_September2020_CTA.j...        2        36   \n",
       "3      Book_1carpetcleaning.co.uk_September2020_CTA.j...        3        -1   \n",
       "4      Book_1carpetcleaning.co.uk_September2020_CTA.j...        4        -1   \n",
       "...                                                  ...      ...       ...   \n",
       "91315      TVEpisode_yidio.com_September2020_CTA.json.gz        1        19   \n",
       "91316      TVEpisode_yidio.com_September2020_CTA.json.gz        2        35   \n",
       "91317      TVEpisode_yidio.com_September2020_CTA.json.gz        3        -1   \n",
       "91318      TVEpisode_yidio.com_September2020_CTA.json.gz        4        33   \n",
       "91319      TVEpisode_yidio.com_September2020_CTA.json.gz        5        -1   \n",
       "\n",
       "                                                    data  \n",
       "0      Homer William Bedell Stanford W. Stanford, Dav...  \n",
       "1      Unlimited [Historical Fiction Book] ↠ The Odys...  \n",
       "2      Paperback, Hardcover, Paperback, None, Paperba...  \n",
       "3      2020-06-27T15:00:54+00:00, 2020-06-01T00:07:00...  \n",
       "4      418, 309, 139, 491, 461, 272, 211, 365, 153, 2...  \n",
       "...                                                  ...  \n",
       "91315  In the hope that Griffin has left materials an...  \n",
       "91316  BANANA FISH, None, None, None, None, None, Non...  \n",
       "91317  1.0, nan, nan, nan, nan, nan, nan, nan, nan, n...  \n",
       "91318  None, 2019-11-06, 2019-10-23, 2019-10-23, 1986...  \n",
       "91319  6, 5, 3, 1, 19, 18, 21, 11, 20, 19, 15, 11, 2,...  \n",
       "\n",
       "[91320 rows x 4 columns]"
      ]
     },
     "execution_count": 6,
     "metadata": {},
     "output_type": "execute_result"
    }
   ],
   "source": [
    "df"
   ]
  },
  {
   "cell_type": "code",
   "execution_count": 7,
   "metadata": {},
   "outputs": [
    {
     "ename": "NameError",
     "evalue": "name 'tokenizer' is not defined",
     "output_type": "error",
     "traceback": [
      "\u001b[0;31m---------------------------------------------------------------------------\u001b[0m",
      "\u001b[0;31mNameError\u001b[0m                                 Traceback (most recent call last)",
      "Input \u001b[0;32mIn [7]\u001b[0m, in \u001b[0;36m<cell line: 1>\u001b[0;34m()\u001b[0m\n\u001b[0;32m----> 1\u001b[0m \u001b[43mtokenizer\u001b[49m\n",
      "\u001b[0;31mNameError\u001b[0m: name 'tokenizer' is not defined"
     ]
    }
   ],
   "source": [
    "tokenizer"
   ]
  },
  {
   "cell_type": "code",
   "execution_count": 14,
   "metadata": {},
   "outputs": [],
   "source": [
    "# from functools import reduce\n",
    "# import operator\n",
    "# random_sample = False\n",
    "# max_unlabeled = 8\n",
    "\n",
    "# data_list = []\n",
    "\n",
    "# df['class_id'] = df['class_id'].astype(int)\n",
    "# df.drop(df[(df['data'].isna()) & (df['class_id'] == -1)].index, inplace=True)\n",
    "# df['col_idx'] = df['col_idx'].astype(int)\n",
    "# df['data'] = df['data'].astype(str)\n",
    "\n",
    "# num_tables = len(df.groupby(\"table_id\"))\n",
    " \n",
    "\n",
    "# # df.drop(df[(df['data'] == '') & (df['class_id'] == -1)].index, inplace=True)\n",
    "# total_num_cols = 0\n",
    "# for i, (index, group_df) in enumerate(df.groupby(\"table_id\")):\n",
    "#     #     break\n",
    "#     labeled_columns = group_df[group_df['class_id'] > -1]\n",
    "#     unlabeled_columns = group_df[group_df['class_id'] == -1]\n",
    "#     num_unlabeled = min(max(max_unlabeled-len(labeled_columns), 0), len(unlabeled_columns))\n",
    "#     unlabeled_columns = unlabeled_columns.sample(num_unlabeled) if random_sample else unlabeled_columns[0:num_unlabeled]\n",
    "#     # group_df = pd.concat([group_df[group_df['class_id'] > -1], unlabeled_columns.sample(min(10-len(labeled_columns), len(unlabeled_columns)))])\n",
    "#     # group_df = pd.concat([group_df[group_df['class_id'] > -1], unlabeled_columns[0:min(max(10-len(labeled_columns), 0), len(unlabeled_columns))]])\n",
    "#     group_df = pd.concat([group_df[group_df['class_id'] > -1], unlabeled_columns]) # TODO\n",
    "#     group_df.sort_values(by=['col_idx'], inplace=True)\n",
    "\n",
    "#     if max_length <= 128:\n",
    "#         cur_maxlen = min(max_length, 512 // len(list(group_df[\"class_id\"].values)) - 1)\n",
    "#     else:\n",
    "#         cur_maxlen = max(1, max_length // len(list(group_df[\"class_id\"].values)) - 1)\n",
    "        \n",
    "#     token_ids_list = group_df[\"data\"].apply(lambda x: tokenizer.encode(\n",
    "#         tokenizer.cls_token + \" \" + x, add_special_tokens=False, max_length=cur_maxlen, truncation=True)).tolist(\n",
    "#         )\n",
    "#     token_ids = torch.LongTensor(reduce(operator.add,\n",
    "#                                         token_ids_list)).to(device)\n",
    "#     cls_index_list = [0] + np.cumsum(\n",
    "#         np.array([len(x) for x in token_ids_list])).tolist()[:-1]\n",
    "#     for cls_index in cls_index_list:\n",
    "#         assert token_ids[\n",
    "#             cls_index] == tokenizer.cls_token_id, \"cls_indexes validation\"\n",
    "#     cls_indexes = torch.LongTensor(cls_index_list).to(device)\n",
    "#     class_ids = torch.LongTensor(\n",
    "#         group_df[\"class_id\"].values).to(device)\n",
    "#     data_list.append(\n",
    "#         [index,\n",
    "#             len(group_df), token_ids, class_ids, cls_indexes])\n",
    "# table_df = pd.DataFrame(data_list,\n",
    "#                                 columns=[\n",
    "#                                     \"table_id\", \"num_col\", \"data_tensor\",\n",
    "#                                     \"label_tensor\", \"cls_indexes\"\n",
    "#                                 ])"
   ]
  },
  {
   "cell_type": "code",
   "execution_count": null,
   "metadata": {},
   "outputs": [],
   "source": []
  },
  {
   "cell_type": "code",
   "execution_count": null,
   "metadata": {},
   "outputs": [],
   "source": []
  },
  {
   "cell_type": "code",
   "execution_count": 64,
   "metadata": {},
   "outputs": [],
   "source": [
    "base_dirpath = \"/data/yongkang/TU/SOTAB\"\n",
    "df = pd.read_csv(os.path.join(base_dirpath, \"CTA_training_small_gt.csv\"))"
   ]
  },
  {
   "cell_type": "code",
   "execution_count": 65,
   "metadata": {},
   "outputs": [
    {
     "ename": "NameError",
     "evalue": "name 'data_folder' is not defined",
     "output_type": "error",
     "traceback": [
      "\u001b[0;31m---------------------------------------------------------------------------\u001b[0m",
      "\u001b[0;31mNameError\u001b[0m                                 Traceback (most recent call last)",
      "Input \u001b[0;32mIn [65]\u001b[0m, in \u001b[0;36m<cell line: 1>\u001b[0;34m()\u001b[0m\n\u001b[0;32m----> 1\u001b[0m table_files \u001b[38;5;241m=\u001b[39m [f \u001b[38;5;28;01mfor\u001b[39;00m f \u001b[38;5;129;01min\u001b[39;00m os\u001b[38;5;241m.\u001b[39mlistdir(os\u001b[38;5;241m.\u001b[39mpath\u001b[38;5;241m.\u001b[39mjoin(base_dirpath, \u001b[43mdata_folder\u001b[49m)) \u001b[38;5;28;01mif\u001b[39;00m f \u001b[38;5;129;01min\u001b[39;00m gt_df[\u001b[38;5;124m'\u001b[39m\u001b[38;5;124mtable_name\u001b[39m\u001b[38;5;124m'\u001b[39m]\u001b[38;5;241m.\u001b[39mvalues]\n",
      "\u001b[0;31mNameError\u001b[0m: name 'data_folder' is not defined"
     ]
    }
   ],
   "source": [
    "table_files = [f for f in os.listdir(os.path.join(base_dirpath, data_folder)) if f in gt_df['table_name'].values]"
   ]
  },
  {
   "cell_type": "code",
   "execution_count": 450,
   "metadata": {},
   "outputs": [
    {
     "data": {
      "text/plain": [
       "torch.Size([1, 64])"
      ]
     },
     "execution_count": 450,
     "metadata": {},
     "output_type": "execute_result"
    }
   ],
   "source": [
    "batch[\"data\"].T.shape"
   ]
  },
  {
   "cell_type": "code",
   "execution_count": 454,
   "metadata": {},
   "outputs": [
    {
     "data": {
      "text/plain": [
       "torch.Size([1, 2])"
      ]
     },
     "execution_count": 454,
     "metadata": {},
     "output_type": "execute_result"
    }
   ],
   "source": [
    "cls_indexes.shape"
   ]
  },
  {
   "cell_type": "code",
   "execution_count": 477,
   "metadata": {},
   "outputs": [],
   "source": [
    "# Save target training embeddings\n",
    "model.load_state_dict(best_state_dict, strict=False)\n",
    "model.eval()\n",
    "model = model.to(device)\n",
    "num_single_fail = 0\n",
    "num_good_context = 0\n",
    "# training_batches = []\n",
    "# training_embeddings = []\n",
    "# training_data = []\n",
    "# training_col_mask = []\n",
    "training_labels = []\n",
    "class_context = defaultdict(list)\n",
    "for batch_idx, batch in enumerate(train_dataloader_iter):\n",
    "    target_col_mask = batch[\"target_col_mask\"].T\n",
    "    if 1 in target_col_mask:\n",
    "        cls_indexes = torch.tensor([0, 0]).reshape(1, -1).to(device)\n",
    "        # logits_temp, embs = model(batch[\"data\"].T[target_col_mask==0].reshape(1, -1), cls_indexes=cls_indexes, get_enc=True)  \n",
    "        # training_embeddings.append(embs.detach().cpu())\n",
    "        # training_data.append(batch[\"data\"].T.cpu())\n",
    "        # training_col_mask.append(target_col_mask.cpu())\n",
    "        training_labels.append(batch[\"label\"].item())\n",
    "\n",
    "        "
   ]
  },
  {
   "cell_type": "code",
   "execution_count": 457,
   "metadata": {},
   "outputs": [
    {
     "data": {
      "text/plain": [
       "3463"
      ]
     },
     "execution_count": 457,
     "metadata": {},
     "output_type": "execute_result"
    }
   ],
   "source": [
    "len(training_embeddings)"
   ]
  },
  {
   "cell_type": "code",
   "execution_count": 458,
   "metadata": {},
   "outputs": [
    {
     "data": {
      "text/plain": [
       "torch.Size([768])"
      ]
     },
     "execution_count": 458,
     "metadata": {},
     "output_type": "execute_result"
    }
   ],
   "source": [
    "training_embeddings[0].shape"
   ]
  },
  {
   "cell_type": "code",
   "execution_count": 459,
   "metadata": {},
   "outputs": [],
   "source": [
    "training_embeddings_all = torch.vstack(training_embeddings)"
   ]
  },
  {
   "cell_type": "code",
   "execution_count": 460,
   "metadata": {},
   "outputs": [],
   "source": [
    "output = F.cosine_similarity(training_embeddings[0].reshape(-1), training_embeddings_all)"
   ]
  },
  {
   "cell_type": "code",
   "execution_count": 463,
   "metadata": {},
   "outputs": [
    {
     "data": {
      "text/plain": [
       "torch.return_types.topk(\n",
       "values=tensor([1.0000, 0.9984, 0.9981, 0.9971, 0.9967]),\n",
       "indices=tensor([   0, 2614, 2017, 2702,  160]))"
      ]
     },
     "execution_count": 463,
     "metadata": {},
     "output_type": "execute_result"
    }
   ],
   "source": [
    "output.topk(5)"
   ]
  },
  {
   "cell_type": "code",
   "execution_count": 467,
   "metadata": {},
   "outputs": [
    {
     "data": {
      "text/plain": [
       "torch.Size([768])"
      ]
     },
     "execution_count": 467,
     "metadata": {},
     "output_type": "execute_result"
    }
   ],
   "source": [
    "target_embs.shape"
   ]
  },
  {
   "cell_type": "code",
   "execution_count": 474,
   "metadata": {},
   "outputs": [],
   "source": [
    "sim_values, sim_indices = F.cosine_similarity(target_embs.reshape(-1), training_embeddings_all).topk(5)"
   ]
  },
  {
   "cell_type": "code",
   "execution_count": 475,
   "metadata": {},
   "outputs": [
    {
     "data": {
      "text/plain": [
       "tensor([0.6808, 0.6634, 0.6417, 0.6390, 0.6309])"
      ]
     },
     "execution_count": 475,
     "metadata": {},
     "output_type": "execute_result"
    }
   ],
   "source": [
    "sim_values"
   ]
  },
  {
   "cell_type": "code",
   "execution_count": 478,
   "metadata": {},
   "outputs": [
    {
     "data": {
      "text/plain": [
       "[0, 57, 3, 0, 0]"
      ]
     },
     "execution_count": 478,
     "metadata": {},
     "output_type": "execute_result"
    }
   ],
   "source": [
    "[training_labels[i] for i in sim_indices]"
   ]
  },
  {
   "cell_type": "code",
   "execution_count": null,
   "metadata": {},
   "outputs": [],
   "source": [
    "training_data \n",
    "training_col_mask"
   ]
  },
  {
   "cell_type": "code",
   "execution_count": 508,
   "metadata": {},
   "outputs": [],
   "source": [
    "num_cols_test = []\n",
    "for batch_idx, batch in enumerate(test_dataloader_iter):\n",
    "    num_cols_test.append(batch[\"target_col_mask\"].max().item()+1)"
   ]
  },
  {
   "cell_type": "code",
   "execution_count": 509,
   "metadata": {},
   "outputs": [
    {
     "name": "stdout",
     "output_type": "stream",
     "text": [
      "6.908755760368663\n"
     ]
    }
   ],
   "source": [
    "print(np.mean(num_cols_test))"
   ]
  },
  {
   "cell_type": "code",
   "execution_count": 511,
   "metadata": {},
   "outputs": [
    {
     "data": {
      "text/plain": [
       "<Axes: ylabel='Count'>"
      ]
     },
     "execution_count": 511,
     "metadata": {},
     "output_type": "execute_result"
    },
    {
     "data": {
      "image/png": "[encoded data removed]",
      "text/plain": [
       "<Figure size 432x288 with 1 Axes>"
      ]
     },
     "metadata": {
      "needs_background": "light"
     },
     "output_type": "display_data"
    }
   ],
   "source": [
    "import seaborn as sns\n",
    "sns.histplot(num_cols_test)"
   ]
  },
  {
   "cell_type": "code",
   "execution_count": 493,
   "metadata": {},
   "outputs": [],
   "source": [
    "num_cols_train = []\n",
    "for batch_idx, batch in enumerate(train_dataloader_iter):\n",
    "    num_cols_train.append(batch[\"target_col_mask\"].max().item()+1)"
   ]
  },
  {
   "cell_type": "code",
   "execution_count": 512,
   "metadata": {},
   "outputs": [
    {
     "data": {
      "text/plain": [
       "<Axes: ylabel='Count'>"
      ]
     },
     "execution_count": 512,
     "metadata": {},
     "output_type": "execute_result"
    },
    {
     "data": {
      "image/png": "[encoded data removed]",
      "text/plain": [
       "<Figure size 432x288 with 1 Axes>"
      ]
     },
     "metadata": {
      "needs_background": "light"
     },
     "output_type": "display_data"
    }
   ],
   "source": [
    "import seaborn as sns\n",
    "sns.histplot(num_cols_train)"
   ]
  },
  {
   "cell_type": "code",
   "execution_count": 494,
   "metadata": {},
   "outputs": [
    {
     "name": "stdout",
     "output_type": "stream",
     "text": [
      "6.977476176725383\n"
     ]
    }
   ],
   "source": [
    "print(np.mean(num_cols_train))"
   ]
  },
  {
   "cell_type": "code",
   "execution_count": 490,
   "metadata": {},
   "outputs": [
    {
     "name": "stdout",
     "output_type": "stream",
     "text": [
      "*********************K:5; Threshold: 0.9; msp: 0.99, debias: 0.8****************************\n",
      "2 [0]\n",
      "Sim tensor(3175) Table [0, 1, 2, 3, 4, 5, 6]\n",
      "Sim tensor(3188) Table [0, 1, 2, 3, 4, 5, 6, 7]\n",
      "Sim tensor(2787) Table [0, 1, 2, 3, 4, 5, 6, 7]\n",
      "Sim tensor(1264) Table [0, 1, 2, 3, 4, 5, 6, 7]\n",
      "Sim tensor(3197) Table [0, 1, 2, 3, 4, 5, 6, 7]\n",
      "ts_micro_f1=1.0000, ts_macro_f1=1.0000\n"
     ]
    },
    {
     "ename": "IndexError",
     "evalue": "The shape of the mask [3] at index 0 does not match the shape of the indexed tensor [2] at index 0",
     "output_type": "error",
     "traceback": [
      "\u001b[0;31m---------------------------------------------------------------------------\u001b[0m",
      "\u001b[0;31mIndexError\u001b[0m                                Traceback (most recent call last)",
      "Input \u001b[0;32mIn [490]\u001b[0m, in \u001b[0;36m<cell line: 7>\u001b[0;34m()\u001b[0m\n\u001b[1;32m     89\u001b[0m ts_macro_f1 \u001b[38;5;241m=\u001b[39m f1_score(labels_test\u001b[38;5;241m.\u001b[39mreshape(\u001b[38;5;241m-\u001b[39m\u001b[38;5;241m1\u001b[39m)\u001b[38;5;241m.\u001b[39mnumpy()\u001b[38;5;241m.\u001b[39mtolist(),\n\u001b[1;32m     90\u001b[0m                     ts_pred_list,\n\u001b[1;32m     91\u001b[0m                     average\u001b[38;5;241m=\u001b[39m\u001b[38;5;124m\"\u001b[39m\u001b[38;5;124mmacro\u001b[39m\u001b[38;5;124m\"\u001b[39m)\n\u001b[1;32m     92\u001b[0m \u001b[38;5;28mprint\u001b[39m(\u001b[38;5;124m\"\u001b[39m\u001b[38;5;124mts_micro_f1=\u001b[39m\u001b[38;5;132;01m{:.4f}\u001b[39;00m\u001b[38;5;124m, ts_macro_f1=\u001b[39m\u001b[38;5;132;01m{:.4f}\u001b[39;00m\u001b[38;5;124m\"\u001b[39m\u001b[38;5;241m.\u001b[39mformat(ts_micro_f1, ts_macro_f1))\n\u001b[0;32m---> 93\u001b[0m ts_pred_list \u001b[38;5;241m=\u001b[39m \u001b[43mlogits_test\u001b[49m\u001b[38;5;241;43m.\u001b[39;49m\u001b[43margmax\u001b[49m\u001b[43m(\u001b[49m\n\u001b[1;32m     94\u001b[0m \u001b[43m                            \u001b[49m\u001b[38;5;241;43m1\u001b[39;49m\u001b[43m)\u001b[49m\u001b[38;5;241;43m.\u001b[39;49m\u001b[43mcpu\u001b[49m\u001b[43m(\u001b[49m\u001b[43m)\u001b[49m\u001b[38;5;241;43m.\u001b[39;49m\u001b[43mdetach\u001b[49m\u001b[43m(\u001b[49m\u001b[43m)\u001b[49m\u001b[43m[\u001b[49m\u001b[43mmask\u001b[49m\u001b[43m]\u001b[49m\u001b[38;5;241m.\u001b[39mnumpy()\u001b[38;5;241m.\u001b[39mtolist()\n\u001b[1;32m     95\u001b[0m ts_micro_f1 \u001b[38;5;241m=\u001b[39m f1_score(labels_test\u001b[38;5;241m.\u001b[39mreshape(\u001b[38;5;241m-\u001b[39m\u001b[38;5;241m1\u001b[39m)[mask]\u001b[38;5;241m.\u001b[39mnumpy()\u001b[38;5;241m.\u001b[39mtolist(),\n\u001b[1;32m     96\u001b[0m                     ts_pred_list,\n\u001b[1;32m     97\u001b[0m                     average\u001b[38;5;241m=\u001b[39m\u001b[38;5;124m\"\u001b[39m\u001b[38;5;124mmicro\u001b[39m\u001b[38;5;124m\"\u001b[39m)\n\u001b[1;32m     98\u001b[0m ts_macro_f1 \u001b[38;5;241m=\u001b[39m f1_score(labels_test\u001b[38;5;241m.\u001b[39mreshape(\u001b[38;5;241m-\u001b[39m\u001b[38;5;241m1\u001b[39m)[mask]\u001b[38;5;241m.\u001b[39mnumpy()\u001b[38;5;241m.\u001b[39mtolist(),\n\u001b[1;32m     99\u001b[0m                     ts_pred_list,\n\u001b[1;32m    100\u001b[0m                     average\u001b[38;5;241m=\u001b[39m\u001b[38;5;124m\"\u001b[39m\u001b[38;5;124mmacro\u001b[39m\u001b[38;5;124m\"\u001b[39m)\n",
      "\u001b[0;31mIndexError\u001b[0m: The shape of the mask [3] at index 0 does not match the shape of the indexed tensor [2] at index 0"
     ]
    }
   ],
   "source": [
    "alpha = 0.125\n",
    "class_weights = (1.0 / class_freq) ** alpha\n",
    "\n",
    "# Normalize the weights\n",
    "class_weights /= class_weights.sum()\n",
    "\n",
    "for k in [5]:\n",
    "    for msp_threshold in [0.99]:\n",
    "        for threshold in [0.9]:\n",
    "            for debias_threshold in [0.8]:\n",
    "                print(f\"*********************K:{k}; Threshold: {threshold}; msp: {msp_threshold}, debias: {debias_threshold}****************************\")\n",
    "                model = model.to(device)\n",
    "                ft_embs_test = []\n",
    "                labels_test = []\n",
    "                logits_test = []\n",
    "                log = defaultdict(list)\n",
    "                num_cols = []\n",
    "                for batch_idx, batch in enumerate(test_dataloader_iter):\n",
    "                    cls_indexes = torch.LongTensor([[0, batch[\"cls_indexes\"].cpu().item()]]).to(device)\n",
    "                    target_col_mask = batch[\"target_col_mask\"].T\n",
    "                    logits, target_embs = model(batch[\"data\"].T, cls_indexes=cls_indexes, get_enc=True)\n",
    "                    target_embs = target_embs.detach().cpu()\n",
    "                    logits =  reweight_logits(logits.detach().cpu(), class_weights)\n",
    "                    msp_init = logits.max().item()\n",
    "                    num_cols.append(batch[\"target_col_mask\"].max().item())\n",
    "                    max_msp = 0\n",
    "                    if 1 not in target_col_mask and msp_init < threshold:\n",
    "                        sim_values, sim_indices = F.cosine_similarity(target_embs.reshape(-1), training_embeddings_all).topk(k)\n",
    "                        print(batch_idx, target_col_mask.unique().tolist())\n",
    "                        for sim_i in sim_indices:\n",
    "                            new_data = training_data[sim_i].to(device)\n",
    "                            new_target_col_mask = training_col_mask[sim_i].to(device)\n",
    "                            col_idx_set = new_target_col_mask.unique().tolist()\n",
    "                            print(\"Sim\", sim_i, \"Table\", col_idx_set)\n",
    "                            debias_classes = []\n",
    "                            assert -1 not in col_idx_set\n",
    "                            for r in range(1, len(col_idx_set) + 1):\n",
    "                                for subset in itertools.combinations(col_idx_set, r):\n",
    "                                    # if 0 not in subset:\n",
    "                                    #     continue\n",
    "                                    for x in itertools.permutations(subset):\n",
    "                                        new_batch_data = []\n",
    "                                        for col_i in x:\n",
    "                                            if col_i == 0:\n",
    "                                                if len(new_batch_data) == 0:\n",
    "                                                    cls_indexes_value = 0\n",
    "                                                else:\n",
    "                                                    cls_indexes_value = sum([len(new_batch_data[i]) for i in range(len(new_batch_data))])\n",
    "                                                new_batch_data.append(batch[\"data\"].T.reshape(-1))\n",
    "                                            else:\n",
    "                                                new_batch_data.append(new_data[new_target_col_mask==col_i].to(device))\n",
    "                                        if 0 not in x:\n",
    "                                            cls_indexes_value = 0\n",
    "                                        new_batch_data = torch.cat(new_batch_data, dim=-1).reshape(1, -1)\n",
    "                                        cls_indexes = torch.tensor([0, cls_indexes_value]).reshape(1, -1).to(device)\n",
    "                                        logits_temp = model(new_batch_data, cls_indexes=cls_indexes,)\n",
    "                                        logits_temp = reweight_logits(logits_temp.detach().cpu(), class_weights)\n",
    "                                        msp_temp = logits_temp.max().item()\n",
    "                                        predict_temp = logits_temp.argmax().item()\n",
    "                                        if len(x) == 1 and 0 in x:\n",
    "                                            predict_target = predict_temp\n",
    "                                            msp_target = msp_temp\n",
    "                                        # print(x, msp_temp, predict_temp)\n",
    "                                        if 0 not in x and msp_temp > debias_threshold and (predict_temp != predict_target):\n",
    "                                            debias_classes.append(predict_temp)\n",
    "                                            continue\n",
    "                                        if msp_temp > max_msp and 0 in x and predict_temp not in debias_classes:\n",
    "                                            max_msp = msp_temp\n",
    "                                            best_msp_perm = x\n",
    "                                            msp_predict = predict_temp\n",
    "                                            logits_msp = logits_temp.clone()\n",
    "                        break\n",
    "                    if max_msp > msp_threshold:\n",
    "                        logits = logits_msp.clone()\n",
    "                    labels_test.append(batch[\"label\"].cpu())\n",
    "                    logits_test.append(logits.detach().cpu())\n",
    "                labels_test = torch.cat(labels_test, dim=0)\n",
    "                logits_test = torch.stack(logits_test, dim=0)\n",
    "                preds_test = torch.argmax(logits_test, dim=1)\n",
    "                num_cols = torch.tensor(num_cols)\n",
    "\n",
    "                from sklearn.metrics import confusion_matrix, f1_score\n",
    "                mask = num_cols > 0\n",
    "                ts_pred_list = logits_test.argmax(\n",
    "                                            1).cpu().detach().numpy().tolist()\n",
    "                ts_micro_f1 = f1_score(labels_test.reshape(-1).numpy().tolist(),\n",
    "                                    ts_pred_list,\n",
    "                                    average=\"micro\")\n",
    "                ts_macro_f1 = f1_score(labels_test.reshape(-1).numpy().tolist(),\n",
    "                                    ts_pred_list,\n",
    "                                    average=\"macro\")\n",
    "                print(\"ts_micro_f1={:.4f}, ts_macro_f1={:.4f}\".format(ts_micro_f1, ts_macro_f1))\n",
    "                ts_pred_list = logits_test.argmax(\n",
    "                                            1).cpu().detach()[mask].numpy().tolist()\n",
    "                ts_micro_f1 = f1_score(labels_test.reshape(-1)[mask].numpy().tolist(),\n",
    "                                    ts_pred_list,\n",
    "                                    average=\"micro\")\n",
    "                ts_macro_f1 = f1_score(labels_test.reshape(-1)[mask].numpy().tolist(),\n",
    "                                    ts_pred_list,\n",
    "                                    average=\"macro\")\n",
    "                print(\"ts_micro_f1={:.4f}, ts_macro_f1={:.4f}\".format(ts_micro_f1, ts_macro_f1))\n",
    "                ts_pred_list = logits_test.argmax(\n",
    "                                            1).cpu().detach()[~mask].numpy().tolist()\n",
    "                ts_micro_f1 = f1_score(labels_test.reshape(-1)[~mask].numpy().tolist(),\n",
    "                                    ts_pred_list,\n",
    "                                    average=\"micro\")\n",
    "                ts_macro_f1 = f1_score(labels_test.reshape(-1)[~mask].numpy().tolist(),\n",
    "                                    ts_pred_list,\n",
    "                                    average=\"macro\")\n",
    "                print(\"ts_micro_f1={:.4f}, ts_macro_f1={:.4f}\".format(ts_micro_f1, ts_macro_f1))\n",
    "\n",
    "                        "
   ]
  },
  {
   "cell_type": "code",
   "execution_count": 488,
   "metadata": {},
   "outputs": [
    {
     "name": "stdout",
     "output_type": "stream",
     "text": [
      "*********************K:5; Threshold: 0.8; msp: 0.8, debias: 0.8****************************\n"
     ]
    },
    {
     "ename": "KeyboardInterrupt",
     "evalue": "",
     "output_type": "error",
     "traceback": [
      "\u001b[0;31m---------------------------------------------------------------------------\u001b[0m",
      "\u001b[0;31mKeyboardInterrupt\u001b[0m                         Traceback (most recent call last)",
      "Input \u001b[0;32mIn [488]\u001b[0m, in \u001b[0;36m<cell line: 7>\u001b[0;34m()\u001b[0m\n\u001b[1;32m     53\u001b[0m new_batch_data \u001b[38;5;241m=\u001b[39m torch\u001b[38;5;241m.\u001b[39mcat(new_batch_data, dim\u001b[38;5;241m=\u001b[39m\u001b[38;5;241m-\u001b[39m\u001b[38;5;241m1\u001b[39m)\u001b[38;5;241m.\u001b[39mreshape(\u001b[38;5;241m1\u001b[39m, \u001b[38;5;241m-\u001b[39m\u001b[38;5;241m1\u001b[39m)\n\u001b[1;32m     54\u001b[0m cls_indexes \u001b[38;5;241m=\u001b[39m torch\u001b[38;5;241m.\u001b[39mtensor([\u001b[38;5;241m0\u001b[39m, cls_indexes_value])\u001b[38;5;241m.\u001b[39mreshape(\u001b[38;5;241m1\u001b[39m, \u001b[38;5;241m-\u001b[39m\u001b[38;5;241m1\u001b[39m)\u001b[38;5;241m.\u001b[39mto(device)\n\u001b[0;32m---> 55\u001b[0m logits_temp \u001b[38;5;241m=\u001b[39m \u001b[43mmodel\u001b[49m\u001b[43m(\u001b[49m\u001b[43mnew_batch_data\u001b[49m\u001b[43m,\u001b[49m\u001b[43m \u001b[49m\u001b[43mcls_indexes\u001b[49m\u001b[38;5;241;43m=\u001b[39;49m\u001b[43mcls_indexes\u001b[49m\u001b[43m,\u001b[49m\u001b[43m)\u001b[49m\n\u001b[1;32m     56\u001b[0m logits_temp \u001b[38;5;241m=\u001b[39m reweight_logits(logits_temp\u001b[38;5;241m.\u001b[39mdetach()\u001b[38;5;241m.\u001b[39mcpu(), class_weights)\n\u001b[1;32m     57\u001b[0m msp_temp \u001b[38;5;241m=\u001b[39m logits_temp\u001b[38;5;241m.\u001b[39mmax()\u001b[38;5;241m.\u001b[39mitem()\n",
      "File \u001b[0;32m~/jupyterprojects/jupyter/lib/python3.8/site-packages/torch/nn/modules/module.py:1553\u001b[0m, in \u001b[0;36mModule._wrapped_call_impl\u001b[0;34m(self, *args, **kwargs)\u001b[0m\n\u001b[1;32m   1551\u001b[0m     \u001b[38;5;28;01mreturn\u001b[39;00m \u001b[38;5;28mself\u001b[39m\u001b[38;5;241m.\u001b[39m_compiled_call_impl(\u001b[38;5;241m*\u001b[39margs, \u001b[38;5;241m*\u001b[39m\u001b[38;5;241m*\u001b[39mkwargs)  \u001b[38;5;66;03m# type: ignore[misc]\u001b[39;00m\n\u001b[1;32m   1552\u001b[0m \u001b[38;5;28;01melse\u001b[39;00m:\n\u001b[0;32m-> 1553\u001b[0m     \u001b[38;5;28;01mreturn\u001b[39;00m \u001b[38;5;28;43mself\u001b[39;49m\u001b[38;5;241;43m.\u001b[39;49m\u001b[43m_call_impl\u001b[49m\u001b[43m(\u001b[49m\u001b[38;5;241;43m*\u001b[39;49m\u001b[43margs\u001b[49m\u001b[43m,\u001b[49m\u001b[43m \u001b[49m\u001b[38;5;241;43m*\u001b[39;49m\u001b[38;5;241;43m*\u001b[39;49m\u001b[43mkwargs\u001b[49m\u001b[43m)\u001b[49m\n",
      "File \u001b[0;32m~/jupyterprojects/jupyter/lib/python3.8/site-packages/torch/nn/modules/module.py:1562\u001b[0m, in \u001b[0;36mModule._call_impl\u001b[0;34m(self, *args, **kwargs)\u001b[0m\n\u001b[1;32m   1557\u001b[0m \u001b[38;5;66;03m# If we don't have any hooks, we want to skip the rest of the logic in\u001b[39;00m\n\u001b[1;32m   1558\u001b[0m \u001b[38;5;66;03m# this function, and just call forward.\u001b[39;00m\n\u001b[1;32m   1559\u001b[0m \u001b[38;5;28;01mif\u001b[39;00m \u001b[38;5;129;01mnot\u001b[39;00m (\u001b[38;5;28mself\u001b[39m\u001b[38;5;241m.\u001b[39m_backward_hooks \u001b[38;5;129;01mor\u001b[39;00m \u001b[38;5;28mself\u001b[39m\u001b[38;5;241m.\u001b[39m_backward_pre_hooks \u001b[38;5;129;01mor\u001b[39;00m \u001b[38;5;28mself\u001b[39m\u001b[38;5;241m.\u001b[39m_forward_hooks \u001b[38;5;129;01mor\u001b[39;00m \u001b[38;5;28mself\u001b[39m\u001b[38;5;241m.\u001b[39m_forward_pre_hooks\n\u001b[1;32m   1560\u001b[0m         \u001b[38;5;129;01mor\u001b[39;00m _global_backward_pre_hooks \u001b[38;5;129;01mor\u001b[39;00m _global_backward_hooks\n\u001b[1;32m   1561\u001b[0m         \u001b[38;5;129;01mor\u001b[39;00m _global_forward_hooks \u001b[38;5;129;01mor\u001b[39;00m _global_forward_pre_hooks):\n\u001b[0;32m-> 1562\u001b[0m     \u001b[38;5;28;01mreturn\u001b[39;00m \u001b[43mforward_call\u001b[49m\u001b[43m(\u001b[49m\u001b[38;5;241;43m*\u001b[39;49m\u001b[43margs\u001b[49m\u001b[43m,\u001b[49m\u001b[43m \u001b[49m\u001b[38;5;241;43m*\u001b[39;49m\u001b[38;5;241;43m*\u001b[39;49m\u001b[43mkwargs\u001b[49m\u001b[43m)\u001b[49m\n\u001b[1;32m   1564\u001b[0m \u001b[38;5;28;01mtry\u001b[39;00m:\n\u001b[1;32m   1565\u001b[0m     result \u001b[38;5;241m=\u001b[39m \u001b[38;5;28;01mNone\u001b[39;00m\n",
      "File \u001b[0;32m~/jupyterprojects/TU/watchog/watchog/model.py:571\u001b[0m, in \u001b[0;36mBertForMultiOutputClassification.forward\u001b[0;34m(self, input_ids, get_enc, cls_indexes, token_type_ids)\u001b[0m\n\u001b[1;32m    569\u001b[0m     attention_mask \u001b[38;5;241m=\u001b[39m \u001b[38;5;28;01mNone\u001b[39;00m\n\u001b[1;32m    570\u001b[0m \u001b[38;5;66;03m# BertModelMultiOutput\u001b[39;00m\n\u001b[0;32m--> 571\u001b[0m bert_output \u001b[38;5;241m=\u001b[39m \u001b[38;5;28;43mself\u001b[39;49m\u001b[38;5;241;43m.\u001b[39;49m\u001b[43mbert\u001b[49m\u001b[43m(\u001b[49m\u001b[43minput_ids\u001b[49m\u001b[43m,\u001b[49m\u001b[43m \u001b[49m\u001b[43mtoken_type_ids\u001b[49m\u001b[38;5;241;43m=\u001b[39;49m\u001b[43mtoken_type_ids\u001b[49m\u001b[43m,\u001b[49m\u001b[43m \u001b[49m\n\u001b[1;32m    572\u001b[0m \u001b[43m                        \u001b[49m\u001b[43mattention_mask\u001b[49m\u001b[38;5;241;43m=\u001b[39;49m\u001b[43mattention_mask\u001b[49m\u001b[43m)\u001b[49m\n\u001b[1;32m    573\u001b[0m table_length \u001b[38;5;241m=\u001b[39m [\u001b[38;5;28mlen\u001b[39m(input_ids[i]\u001b[38;5;241m.\u001b[39mnonzero()) \u001b[38;5;28;01mfor\u001b[39;00m i \u001b[38;5;129;01min\u001b[39;00m \u001b[38;5;28mrange\u001b[39m(\u001b[38;5;28mlen\u001b[39m(input_ids))]\n\u001b[1;32m    574\u001b[0m \u001b[38;5;66;03m# Note: returned tensor contains pooled_output of all tokens (to make the tensor size consistent)\u001b[39;00m\n",
      "File \u001b[0;32m~/jupyterprojects/jupyter/lib/python3.8/site-packages/torch/nn/modules/module.py:1553\u001b[0m, in \u001b[0;36mModule._wrapped_call_impl\u001b[0;34m(self, *args, **kwargs)\u001b[0m\n\u001b[1;32m   1551\u001b[0m     \u001b[38;5;28;01mreturn\u001b[39;00m \u001b[38;5;28mself\u001b[39m\u001b[38;5;241m.\u001b[39m_compiled_call_impl(\u001b[38;5;241m*\u001b[39margs, \u001b[38;5;241m*\u001b[39m\u001b[38;5;241m*\u001b[39mkwargs)  \u001b[38;5;66;03m# type: ignore[misc]\u001b[39;00m\n\u001b[1;32m   1552\u001b[0m \u001b[38;5;28;01melse\u001b[39;00m:\n\u001b[0;32m-> 1553\u001b[0m     \u001b[38;5;28;01mreturn\u001b[39;00m \u001b[38;5;28;43mself\u001b[39;49m\u001b[38;5;241;43m.\u001b[39;49m\u001b[43m_call_impl\u001b[49m\u001b[43m(\u001b[49m\u001b[38;5;241;43m*\u001b[39;49m\u001b[43margs\u001b[49m\u001b[43m,\u001b[49m\u001b[43m \u001b[49m\u001b[38;5;241;43m*\u001b[39;49m\u001b[38;5;241;43m*\u001b[39;49m\u001b[43mkwargs\u001b[49m\u001b[43m)\u001b[49m\n",
      "File \u001b[0;32m~/jupyterprojects/jupyter/lib/python3.8/site-packages/torch/nn/modules/module.py:1562\u001b[0m, in \u001b[0;36mModule._call_impl\u001b[0;34m(self, *args, **kwargs)\u001b[0m\n\u001b[1;32m   1557\u001b[0m \u001b[38;5;66;03m# If we don't have any hooks, we want to skip the rest of the logic in\u001b[39;00m\n\u001b[1;32m   1558\u001b[0m \u001b[38;5;66;03m# this function, and just call forward.\u001b[39;00m\n\u001b[1;32m   1559\u001b[0m \u001b[38;5;28;01mif\u001b[39;00m \u001b[38;5;129;01mnot\u001b[39;00m (\u001b[38;5;28mself\u001b[39m\u001b[38;5;241m.\u001b[39m_backward_hooks \u001b[38;5;129;01mor\u001b[39;00m \u001b[38;5;28mself\u001b[39m\u001b[38;5;241m.\u001b[39m_backward_pre_hooks \u001b[38;5;129;01mor\u001b[39;00m \u001b[38;5;28mself\u001b[39m\u001b[38;5;241m.\u001b[39m_forward_hooks \u001b[38;5;129;01mor\u001b[39;00m \u001b[38;5;28mself\u001b[39m\u001b[38;5;241m.\u001b[39m_forward_pre_hooks\n\u001b[1;32m   1560\u001b[0m         \u001b[38;5;129;01mor\u001b[39;00m _global_backward_pre_hooks \u001b[38;5;129;01mor\u001b[39;00m _global_backward_hooks\n\u001b[1;32m   1561\u001b[0m         \u001b[38;5;129;01mor\u001b[39;00m _global_forward_hooks \u001b[38;5;129;01mor\u001b[39;00m _global_forward_pre_hooks):\n\u001b[0;32m-> 1562\u001b[0m     \u001b[38;5;28;01mreturn\u001b[39;00m \u001b[43mforward_call\u001b[49m\u001b[43m(\u001b[49m\u001b[38;5;241;43m*\u001b[39;49m\u001b[43margs\u001b[49m\u001b[43m,\u001b[49m\u001b[43m \u001b[49m\u001b[38;5;241;43m*\u001b[39;49m\u001b[38;5;241;43m*\u001b[39;49m\u001b[43mkwargs\u001b[49m\u001b[43m)\u001b[49m\n\u001b[1;32m   1564\u001b[0m \u001b[38;5;28;01mtry\u001b[39;00m:\n\u001b[1;32m   1565\u001b[0m     result \u001b[38;5;241m=\u001b[39m \u001b[38;5;28;01mNone\u001b[39;00m\n",
      "File \u001b[0;32m~/jupyterprojects/jupyter/lib/python3.8/site-packages/transformers/models/bert/modeling_bert.py:1141\u001b[0m, in \u001b[0;36mBertModel.forward\u001b[0;34m(self, input_ids, attention_mask, token_type_ids, position_ids, head_mask, inputs_embeds, encoder_hidden_states, encoder_attention_mask, past_key_values, use_cache, output_attentions, output_hidden_states, return_dict)\u001b[0m\n\u001b[1;32m   1134\u001b[0m \u001b[38;5;66;03m# Prepare head mask if needed\u001b[39;00m\n\u001b[1;32m   1135\u001b[0m \u001b[38;5;66;03m# 1.0 in head_mask indicate we keep the head\u001b[39;00m\n\u001b[1;32m   1136\u001b[0m \u001b[38;5;66;03m# attention_probs has shape bsz x n_heads x N x N\u001b[39;00m\n\u001b[1;32m   1137\u001b[0m \u001b[38;5;66;03m# input head_mask has shape [num_heads] or [num_hidden_layers x num_heads]\u001b[39;00m\n\u001b[1;32m   1138\u001b[0m \u001b[38;5;66;03m# and head_mask is converted to shape [num_hidden_layers x batch x num_heads x seq_length x seq_length]\u001b[39;00m\n\u001b[1;32m   1139\u001b[0m head_mask \u001b[38;5;241m=\u001b[39m \u001b[38;5;28mself\u001b[39m\u001b[38;5;241m.\u001b[39mget_head_mask(head_mask, \u001b[38;5;28mself\u001b[39m\u001b[38;5;241m.\u001b[39mconfig\u001b[38;5;241m.\u001b[39mnum_hidden_layers)\n\u001b[0;32m-> 1141\u001b[0m encoder_outputs \u001b[38;5;241m=\u001b[39m \u001b[38;5;28;43mself\u001b[39;49m\u001b[38;5;241;43m.\u001b[39;49m\u001b[43mencoder\u001b[49m\u001b[43m(\u001b[49m\n\u001b[1;32m   1142\u001b[0m \u001b[43m    \u001b[49m\u001b[43membedding_output\u001b[49m\u001b[43m,\u001b[49m\n\u001b[1;32m   1143\u001b[0m \u001b[43m    \u001b[49m\u001b[43mattention_mask\u001b[49m\u001b[38;5;241;43m=\u001b[39;49m\u001b[43mextended_attention_mask\u001b[49m\u001b[43m,\u001b[49m\n\u001b[1;32m   1144\u001b[0m \u001b[43m    \u001b[49m\u001b[43mhead_mask\u001b[49m\u001b[38;5;241;43m=\u001b[39;49m\u001b[43mhead_mask\u001b[49m\u001b[43m,\u001b[49m\n\u001b[1;32m   1145\u001b[0m \u001b[43m    \u001b[49m\u001b[43mencoder_hidden_states\u001b[49m\u001b[38;5;241;43m=\u001b[39;49m\u001b[43mencoder_hidden_states\u001b[49m\u001b[43m,\u001b[49m\n\u001b[1;32m   1146\u001b[0m \u001b[43m    \u001b[49m\u001b[43mencoder_attention_mask\u001b[49m\u001b[38;5;241;43m=\u001b[39;49m\u001b[43mencoder_extended_attention_mask\u001b[49m\u001b[43m,\u001b[49m\n\u001b[1;32m   1147\u001b[0m \u001b[43m    \u001b[49m\u001b[43mpast_key_values\u001b[49m\u001b[38;5;241;43m=\u001b[39;49m\u001b[43mpast_key_values\u001b[49m\u001b[43m,\u001b[49m\n\u001b[1;32m   1148\u001b[0m \u001b[43m    \u001b[49m\u001b[43muse_cache\u001b[49m\u001b[38;5;241;43m=\u001b[39;49m\u001b[43muse_cache\u001b[49m\u001b[43m,\u001b[49m\n\u001b[1;32m   1149\u001b[0m \u001b[43m    \u001b[49m\u001b[43moutput_attentions\u001b[49m\u001b[38;5;241;43m=\u001b[39;49m\u001b[43moutput_attentions\u001b[49m\u001b[43m,\u001b[49m\n\u001b[1;32m   1150\u001b[0m \u001b[43m    \u001b[49m\u001b[43moutput_hidden_states\u001b[49m\u001b[38;5;241;43m=\u001b[39;49m\u001b[43moutput_hidden_states\u001b[49m\u001b[43m,\u001b[49m\n\u001b[1;32m   1151\u001b[0m \u001b[43m    \u001b[49m\u001b[43mreturn_dict\u001b[49m\u001b[38;5;241;43m=\u001b[39;49m\u001b[43mreturn_dict\u001b[49m\u001b[43m,\u001b[49m\n\u001b[1;32m   1152\u001b[0m \u001b[43m\u001b[49m\u001b[43m)\u001b[49m\n\u001b[1;32m   1153\u001b[0m sequence_output \u001b[38;5;241m=\u001b[39m encoder_outputs[\u001b[38;5;241m0\u001b[39m]\n\u001b[1;32m   1154\u001b[0m pooled_output \u001b[38;5;241m=\u001b[39m \u001b[38;5;28mself\u001b[39m\u001b[38;5;241m.\u001b[39mpooler(sequence_output) \u001b[38;5;28;01mif\u001b[39;00m \u001b[38;5;28mself\u001b[39m\u001b[38;5;241m.\u001b[39mpooler \u001b[38;5;129;01mis\u001b[39;00m \u001b[38;5;129;01mnot\u001b[39;00m \u001b[38;5;28;01mNone\u001b[39;00m \u001b[38;5;28;01melse\u001b[39;00m \u001b[38;5;28;01mNone\u001b[39;00m\n",
      "File \u001b[0;32m~/jupyterprojects/jupyter/lib/python3.8/site-packages/torch/nn/modules/module.py:1553\u001b[0m, in \u001b[0;36mModule._wrapped_call_impl\u001b[0;34m(self, *args, **kwargs)\u001b[0m\n\u001b[1;32m   1551\u001b[0m     \u001b[38;5;28;01mreturn\u001b[39;00m \u001b[38;5;28mself\u001b[39m\u001b[38;5;241m.\u001b[39m_compiled_call_impl(\u001b[38;5;241m*\u001b[39margs, \u001b[38;5;241m*\u001b[39m\u001b[38;5;241m*\u001b[39mkwargs)  \u001b[38;5;66;03m# type: ignore[misc]\u001b[39;00m\n\u001b[1;32m   1552\u001b[0m \u001b[38;5;28;01melse\u001b[39;00m:\n\u001b[0;32m-> 1553\u001b[0m     \u001b[38;5;28;01mreturn\u001b[39;00m \u001b[38;5;28;43mself\u001b[39;49m\u001b[38;5;241;43m.\u001b[39;49m\u001b[43m_call_impl\u001b[49m\u001b[43m(\u001b[49m\u001b[38;5;241;43m*\u001b[39;49m\u001b[43margs\u001b[49m\u001b[43m,\u001b[49m\u001b[43m \u001b[49m\u001b[38;5;241;43m*\u001b[39;49m\u001b[38;5;241;43m*\u001b[39;49m\u001b[43mkwargs\u001b[49m\u001b[43m)\u001b[49m\n",
      "File \u001b[0;32m~/jupyterprojects/jupyter/lib/python3.8/site-packages/torch/nn/modules/module.py:1562\u001b[0m, in \u001b[0;36mModule._call_impl\u001b[0;34m(self, *args, **kwargs)\u001b[0m\n\u001b[1;32m   1557\u001b[0m \u001b[38;5;66;03m# If we don't have any hooks, we want to skip the rest of the logic in\u001b[39;00m\n\u001b[1;32m   1558\u001b[0m \u001b[38;5;66;03m# this function, and just call forward.\u001b[39;00m\n\u001b[1;32m   1559\u001b[0m \u001b[38;5;28;01mif\u001b[39;00m \u001b[38;5;129;01mnot\u001b[39;00m (\u001b[38;5;28mself\u001b[39m\u001b[38;5;241m.\u001b[39m_backward_hooks \u001b[38;5;129;01mor\u001b[39;00m \u001b[38;5;28mself\u001b[39m\u001b[38;5;241m.\u001b[39m_backward_pre_hooks \u001b[38;5;129;01mor\u001b[39;00m \u001b[38;5;28mself\u001b[39m\u001b[38;5;241m.\u001b[39m_forward_hooks \u001b[38;5;129;01mor\u001b[39;00m \u001b[38;5;28mself\u001b[39m\u001b[38;5;241m.\u001b[39m_forward_pre_hooks\n\u001b[1;32m   1560\u001b[0m         \u001b[38;5;129;01mor\u001b[39;00m _global_backward_pre_hooks \u001b[38;5;129;01mor\u001b[39;00m _global_backward_hooks\n\u001b[1;32m   1561\u001b[0m         \u001b[38;5;129;01mor\u001b[39;00m _global_forward_hooks \u001b[38;5;129;01mor\u001b[39;00m _global_forward_pre_hooks):\n\u001b[0;32m-> 1562\u001b[0m     \u001b[38;5;28;01mreturn\u001b[39;00m \u001b[43mforward_call\u001b[49m\u001b[43m(\u001b[49m\u001b[38;5;241;43m*\u001b[39;49m\u001b[43margs\u001b[49m\u001b[43m,\u001b[49m\u001b[43m \u001b[49m\u001b[38;5;241;43m*\u001b[39;49m\u001b[38;5;241;43m*\u001b[39;49m\u001b[43mkwargs\u001b[49m\u001b[43m)\u001b[49m\n\u001b[1;32m   1564\u001b[0m \u001b[38;5;28;01mtry\u001b[39;00m:\n\u001b[1;32m   1565\u001b[0m     result \u001b[38;5;241m=\u001b[39m \u001b[38;5;28;01mNone\u001b[39;00m\n",
      "File \u001b[0;32m~/jupyterprojects/jupyter/lib/python3.8/site-packages/transformers/models/bert/modeling_bert.py:694\u001b[0m, in \u001b[0;36mBertEncoder.forward\u001b[0;34m(self, hidden_states, attention_mask, head_mask, encoder_hidden_states, encoder_attention_mask, past_key_values, use_cache, output_attentions, output_hidden_states, return_dict)\u001b[0m\n\u001b[1;32m    683\u001b[0m     layer_outputs \u001b[38;5;241m=\u001b[39m \u001b[38;5;28mself\u001b[39m\u001b[38;5;241m.\u001b[39m_gradient_checkpointing_func(\n\u001b[1;32m    684\u001b[0m         layer_module\u001b[38;5;241m.\u001b[39m\u001b[38;5;21m__call__\u001b[39m,\n\u001b[1;32m    685\u001b[0m         hidden_states,\n\u001b[0;32m   (...)\u001b[0m\n\u001b[1;32m    691\u001b[0m         output_attentions,\n\u001b[1;32m    692\u001b[0m     )\n\u001b[1;32m    693\u001b[0m \u001b[38;5;28;01melse\u001b[39;00m:\n\u001b[0;32m--> 694\u001b[0m     layer_outputs \u001b[38;5;241m=\u001b[39m \u001b[43mlayer_module\u001b[49m\u001b[43m(\u001b[49m\n\u001b[1;32m    695\u001b[0m \u001b[43m        \u001b[49m\u001b[43mhidden_states\u001b[49m\u001b[43m,\u001b[49m\n\u001b[1;32m    696\u001b[0m \u001b[43m        \u001b[49m\u001b[43mattention_mask\u001b[49m\u001b[43m,\u001b[49m\n\u001b[1;32m    697\u001b[0m \u001b[43m        \u001b[49m\u001b[43mlayer_head_mask\u001b[49m\u001b[43m,\u001b[49m\n\u001b[1;32m    698\u001b[0m \u001b[43m        \u001b[49m\u001b[43mencoder_hidden_states\u001b[49m\u001b[43m,\u001b[49m\n\u001b[1;32m    699\u001b[0m \u001b[43m        \u001b[49m\u001b[43mencoder_attention_mask\u001b[49m\u001b[43m,\u001b[49m\n\u001b[1;32m    700\u001b[0m \u001b[43m        \u001b[49m\u001b[43mpast_key_value\u001b[49m\u001b[43m,\u001b[49m\n\u001b[1;32m    701\u001b[0m \u001b[43m        \u001b[49m\u001b[43moutput_attentions\u001b[49m\u001b[43m,\u001b[49m\n\u001b[1;32m    702\u001b[0m \u001b[43m    \u001b[49m\u001b[43m)\u001b[49m\n\u001b[1;32m    704\u001b[0m hidden_states \u001b[38;5;241m=\u001b[39m layer_outputs[\u001b[38;5;241m0\u001b[39m]\n\u001b[1;32m    705\u001b[0m \u001b[38;5;28;01mif\u001b[39;00m use_cache:\n",
      "File \u001b[0;32m~/jupyterprojects/jupyter/lib/python3.8/site-packages/torch/nn/modules/module.py:1553\u001b[0m, in \u001b[0;36mModule._wrapped_call_impl\u001b[0;34m(self, *args, **kwargs)\u001b[0m\n\u001b[1;32m   1551\u001b[0m     \u001b[38;5;28;01mreturn\u001b[39;00m \u001b[38;5;28mself\u001b[39m\u001b[38;5;241m.\u001b[39m_compiled_call_impl(\u001b[38;5;241m*\u001b[39margs, \u001b[38;5;241m*\u001b[39m\u001b[38;5;241m*\u001b[39mkwargs)  \u001b[38;5;66;03m# type: ignore[misc]\u001b[39;00m\n\u001b[1;32m   1552\u001b[0m \u001b[38;5;28;01melse\u001b[39;00m:\n\u001b[0;32m-> 1553\u001b[0m     \u001b[38;5;28;01mreturn\u001b[39;00m \u001b[38;5;28;43mself\u001b[39;49m\u001b[38;5;241;43m.\u001b[39;49m\u001b[43m_call_impl\u001b[49m\u001b[43m(\u001b[49m\u001b[38;5;241;43m*\u001b[39;49m\u001b[43margs\u001b[49m\u001b[43m,\u001b[49m\u001b[43m \u001b[49m\u001b[38;5;241;43m*\u001b[39;49m\u001b[38;5;241;43m*\u001b[39;49m\u001b[43mkwargs\u001b[49m\u001b[43m)\u001b[49m\n",
      "File \u001b[0;32m~/jupyterprojects/jupyter/lib/python3.8/site-packages/torch/nn/modules/module.py:1562\u001b[0m, in \u001b[0;36mModule._call_impl\u001b[0;34m(self, *args, **kwargs)\u001b[0m\n\u001b[1;32m   1557\u001b[0m \u001b[38;5;66;03m# If we don't have any hooks, we want to skip the rest of the logic in\u001b[39;00m\n\u001b[1;32m   1558\u001b[0m \u001b[38;5;66;03m# this function, and just call forward.\u001b[39;00m\n\u001b[1;32m   1559\u001b[0m \u001b[38;5;28;01mif\u001b[39;00m \u001b[38;5;129;01mnot\u001b[39;00m (\u001b[38;5;28mself\u001b[39m\u001b[38;5;241m.\u001b[39m_backward_hooks \u001b[38;5;129;01mor\u001b[39;00m \u001b[38;5;28mself\u001b[39m\u001b[38;5;241m.\u001b[39m_backward_pre_hooks \u001b[38;5;129;01mor\u001b[39;00m \u001b[38;5;28mself\u001b[39m\u001b[38;5;241m.\u001b[39m_forward_hooks \u001b[38;5;129;01mor\u001b[39;00m \u001b[38;5;28mself\u001b[39m\u001b[38;5;241m.\u001b[39m_forward_pre_hooks\n\u001b[1;32m   1560\u001b[0m         \u001b[38;5;129;01mor\u001b[39;00m _global_backward_pre_hooks \u001b[38;5;129;01mor\u001b[39;00m _global_backward_hooks\n\u001b[1;32m   1561\u001b[0m         \u001b[38;5;129;01mor\u001b[39;00m _global_forward_hooks \u001b[38;5;129;01mor\u001b[39;00m _global_forward_pre_hooks):\n\u001b[0;32m-> 1562\u001b[0m     \u001b[38;5;28;01mreturn\u001b[39;00m \u001b[43mforward_call\u001b[49m\u001b[43m(\u001b[49m\u001b[38;5;241;43m*\u001b[39;49m\u001b[43margs\u001b[49m\u001b[43m,\u001b[49m\u001b[43m \u001b[49m\u001b[38;5;241;43m*\u001b[39;49m\u001b[38;5;241;43m*\u001b[39;49m\u001b[43mkwargs\u001b[49m\u001b[43m)\u001b[49m\n\u001b[1;32m   1564\u001b[0m \u001b[38;5;28;01mtry\u001b[39;00m:\n\u001b[1;32m   1565\u001b[0m     result \u001b[38;5;241m=\u001b[39m \u001b[38;5;28;01mNone\u001b[39;00m\n",
      "File \u001b[0;32m~/jupyterprojects/jupyter/lib/python3.8/site-packages/transformers/models/bert/modeling_bert.py:584\u001b[0m, in \u001b[0;36mBertLayer.forward\u001b[0;34m(self, hidden_states, attention_mask, head_mask, encoder_hidden_states, encoder_attention_mask, past_key_value, output_attentions)\u001b[0m\n\u001b[1;32m    572\u001b[0m \u001b[38;5;28;01mdef\u001b[39;00m \u001b[38;5;21mforward\u001b[39m(\n\u001b[1;32m    573\u001b[0m     \u001b[38;5;28mself\u001b[39m,\n\u001b[1;32m    574\u001b[0m     hidden_states: torch\u001b[38;5;241m.\u001b[39mTensor,\n\u001b[0;32m   (...)\u001b[0m\n\u001b[1;32m    581\u001b[0m ) \u001b[38;5;241m-\u001b[39m\u001b[38;5;241m>\u001b[39m Tuple[torch\u001b[38;5;241m.\u001b[39mTensor]:\n\u001b[1;32m    582\u001b[0m     \u001b[38;5;66;03m# decoder uni-directional self-attention cached key/values tuple is at positions 1,2\u001b[39;00m\n\u001b[1;32m    583\u001b[0m     self_attn_past_key_value \u001b[38;5;241m=\u001b[39m past_key_value[:\u001b[38;5;241m2\u001b[39m] \u001b[38;5;28;01mif\u001b[39;00m past_key_value \u001b[38;5;129;01mis\u001b[39;00m \u001b[38;5;129;01mnot\u001b[39;00m \u001b[38;5;28;01mNone\u001b[39;00m \u001b[38;5;28;01melse\u001b[39;00m \u001b[38;5;28;01mNone\u001b[39;00m\n\u001b[0;32m--> 584\u001b[0m     self_attention_outputs \u001b[38;5;241m=\u001b[39m \u001b[38;5;28;43mself\u001b[39;49m\u001b[38;5;241;43m.\u001b[39;49m\u001b[43mattention\u001b[49m\u001b[43m(\u001b[49m\n\u001b[1;32m    585\u001b[0m \u001b[43m        \u001b[49m\u001b[43mhidden_states\u001b[49m\u001b[43m,\u001b[49m\n\u001b[1;32m    586\u001b[0m \u001b[43m        \u001b[49m\u001b[43mattention_mask\u001b[49m\u001b[43m,\u001b[49m\n\u001b[1;32m    587\u001b[0m \u001b[43m        \u001b[49m\u001b[43mhead_mask\u001b[49m\u001b[43m,\u001b[49m\n\u001b[1;32m    588\u001b[0m \u001b[43m        \u001b[49m\u001b[43moutput_attentions\u001b[49m\u001b[38;5;241;43m=\u001b[39;49m\u001b[43moutput_attentions\u001b[49m\u001b[43m,\u001b[49m\n\u001b[1;32m    589\u001b[0m \u001b[43m        \u001b[49m\u001b[43mpast_key_value\u001b[49m\u001b[38;5;241;43m=\u001b[39;49m\u001b[43mself_attn_past_key_value\u001b[49m\u001b[43m,\u001b[49m\n\u001b[1;32m    590\u001b[0m \u001b[43m    \u001b[49m\u001b[43m)\u001b[49m\n\u001b[1;32m    591\u001b[0m     attention_output \u001b[38;5;241m=\u001b[39m self_attention_outputs[\u001b[38;5;241m0\u001b[39m]\n\u001b[1;32m    593\u001b[0m     \u001b[38;5;66;03m# if decoder, the last output is tuple of self-attn cache\u001b[39;00m\n",
      "File \u001b[0;32m~/jupyterprojects/jupyter/lib/python3.8/site-packages/torch/nn/modules/module.py:1553\u001b[0m, in \u001b[0;36mModule._wrapped_call_impl\u001b[0;34m(self, *args, **kwargs)\u001b[0m\n\u001b[1;32m   1551\u001b[0m     \u001b[38;5;28;01mreturn\u001b[39;00m \u001b[38;5;28mself\u001b[39m\u001b[38;5;241m.\u001b[39m_compiled_call_impl(\u001b[38;5;241m*\u001b[39margs, \u001b[38;5;241m*\u001b[39m\u001b[38;5;241m*\u001b[39mkwargs)  \u001b[38;5;66;03m# type: ignore[misc]\u001b[39;00m\n\u001b[1;32m   1552\u001b[0m \u001b[38;5;28;01melse\u001b[39;00m:\n\u001b[0;32m-> 1553\u001b[0m     \u001b[38;5;28;01mreturn\u001b[39;00m \u001b[38;5;28;43mself\u001b[39;49m\u001b[38;5;241;43m.\u001b[39;49m\u001b[43m_call_impl\u001b[49m\u001b[43m(\u001b[49m\u001b[38;5;241;43m*\u001b[39;49m\u001b[43margs\u001b[49m\u001b[43m,\u001b[49m\u001b[43m \u001b[49m\u001b[38;5;241;43m*\u001b[39;49m\u001b[38;5;241;43m*\u001b[39;49m\u001b[43mkwargs\u001b[49m\u001b[43m)\u001b[49m\n",
      "File \u001b[0;32m~/jupyterprojects/jupyter/lib/python3.8/site-packages/torch/nn/modules/module.py:1562\u001b[0m, in \u001b[0;36mModule._call_impl\u001b[0;34m(self, *args, **kwargs)\u001b[0m\n\u001b[1;32m   1557\u001b[0m \u001b[38;5;66;03m# If we don't have any hooks, we want to skip the rest of the logic in\u001b[39;00m\n\u001b[1;32m   1558\u001b[0m \u001b[38;5;66;03m# this function, and just call forward.\u001b[39;00m\n\u001b[1;32m   1559\u001b[0m \u001b[38;5;28;01mif\u001b[39;00m \u001b[38;5;129;01mnot\u001b[39;00m (\u001b[38;5;28mself\u001b[39m\u001b[38;5;241m.\u001b[39m_backward_hooks \u001b[38;5;129;01mor\u001b[39;00m \u001b[38;5;28mself\u001b[39m\u001b[38;5;241m.\u001b[39m_backward_pre_hooks \u001b[38;5;129;01mor\u001b[39;00m \u001b[38;5;28mself\u001b[39m\u001b[38;5;241m.\u001b[39m_forward_hooks \u001b[38;5;129;01mor\u001b[39;00m \u001b[38;5;28mself\u001b[39m\u001b[38;5;241m.\u001b[39m_forward_pre_hooks\n\u001b[1;32m   1560\u001b[0m         \u001b[38;5;129;01mor\u001b[39;00m _global_backward_pre_hooks \u001b[38;5;129;01mor\u001b[39;00m _global_backward_hooks\n\u001b[1;32m   1561\u001b[0m         \u001b[38;5;129;01mor\u001b[39;00m _global_forward_hooks \u001b[38;5;129;01mor\u001b[39;00m _global_forward_pre_hooks):\n\u001b[0;32m-> 1562\u001b[0m     \u001b[38;5;28;01mreturn\u001b[39;00m \u001b[43mforward_call\u001b[49m\u001b[43m(\u001b[49m\u001b[38;5;241;43m*\u001b[39;49m\u001b[43margs\u001b[49m\u001b[43m,\u001b[49m\u001b[43m \u001b[49m\u001b[38;5;241;43m*\u001b[39;49m\u001b[38;5;241;43m*\u001b[39;49m\u001b[43mkwargs\u001b[49m\u001b[43m)\u001b[49m\n\u001b[1;32m   1564\u001b[0m \u001b[38;5;28;01mtry\u001b[39;00m:\n\u001b[1;32m   1565\u001b[0m     result \u001b[38;5;241m=\u001b[39m \u001b[38;5;28;01mNone\u001b[39;00m\n",
      "File \u001b[0;32m~/jupyterprojects/jupyter/lib/python3.8/site-packages/transformers/models/bert/modeling_bert.py:523\u001b[0m, in \u001b[0;36mBertAttention.forward\u001b[0;34m(self, hidden_states, attention_mask, head_mask, encoder_hidden_states, encoder_attention_mask, past_key_value, output_attentions)\u001b[0m\n\u001b[1;32m    504\u001b[0m \u001b[38;5;28;01mdef\u001b[39;00m \u001b[38;5;21mforward\u001b[39m(\n\u001b[1;32m    505\u001b[0m     \u001b[38;5;28mself\u001b[39m,\n\u001b[1;32m    506\u001b[0m     hidden_states: torch\u001b[38;5;241m.\u001b[39mTensor,\n\u001b[0;32m   (...)\u001b[0m\n\u001b[1;32m    512\u001b[0m     output_attentions: Optional[\u001b[38;5;28mbool\u001b[39m] \u001b[38;5;241m=\u001b[39m \u001b[38;5;28;01mFalse\u001b[39;00m,\n\u001b[1;32m    513\u001b[0m ) \u001b[38;5;241m-\u001b[39m\u001b[38;5;241m>\u001b[39m Tuple[torch\u001b[38;5;241m.\u001b[39mTensor]:\n\u001b[1;32m    514\u001b[0m     self_outputs \u001b[38;5;241m=\u001b[39m \u001b[38;5;28mself\u001b[39m\u001b[38;5;241m.\u001b[39mself(\n\u001b[1;32m    515\u001b[0m         hidden_states,\n\u001b[1;32m    516\u001b[0m         attention_mask,\n\u001b[0;32m   (...)\u001b[0m\n\u001b[1;32m    521\u001b[0m         output_attentions,\n\u001b[1;32m    522\u001b[0m     )\n\u001b[0;32m--> 523\u001b[0m     attention_output \u001b[38;5;241m=\u001b[39m \u001b[38;5;28;43mself\u001b[39;49m\u001b[38;5;241;43m.\u001b[39;49m\u001b[43moutput\u001b[49m\u001b[43m(\u001b[49m\u001b[43mself_outputs\u001b[49m\u001b[43m[\u001b[49m\u001b[38;5;241;43m0\u001b[39;49m\u001b[43m]\u001b[49m\u001b[43m,\u001b[49m\u001b[43m \u001b[49m\u001b[43mhidden_states\u001b[49m\u001b[43m)\u001b[49m\n\u001b[1;32m    524\u001b[0m     outputs \u001b[38;5;241m=\u001b[39m (attention_output,) \u001b[38;5;241m+\u001b[39m self_outputs[\u001b[38;5;241m1\u001b[39m:]  \u001b[38;5;66;03m# add attentions if we output them\u001b[39;00m\n\u001b[1;32m    525\u001b[0m     \u001b[38;5;28;01mreturn\u001b[39;00m outputs\n",
      "File \u001b[0;32m~/jupyterprojects/jupyter/lib/python3.8/site-packages/torch/nn/modules/module.py:1553\u001b[0m, in \u001b[0;36mModule._wrapped_call_impl\u001b[0;34m(self, *args, **kwargs)\u001b[0m\n\u001b[1;32m   1551\u001b[0m     \u001b[38;5;28;01mreturn\u001b[39;00m \u001b[38;5;28mself\u001b[39m\u001b[38;5;241m.\u001b[39m_compiled_call_impl(\u001b[38;5;241m*\u001b[39margs, \u001b[38;5;241m*\u001b[39m\u001b[38;5;241m*\u001b[39mkwargs)  \u001b[38;5;66;03m# type: ignore[misc]\u001b[39;00m\n\u001b[1;32m   1552\u001b[0m \u001b[38;5;28;01melse\u001b[39;00m:\n\u001b[0;32m-> 1553\u001b[0m     \u001b[38;5;28;01mreturn\u001b[39;00m \u001b[38;5;28;43mself\u001b[39;49m\u001b[38;5;241;43m.\u001b[39;49m\u001b[43m_call_impl\u001b[49m\u001b[43m(\u001b[49m\u001b[38;5;241;43m*\u001b[39;49m\u001b[43margs\u001b[49m\u001b[43m,\u001b[49m\u001b[43m \u001b[49m\u001b[38;5;241;43m*\u001b[39;49m\u001b[38;5;241;43m*\u001b[39;49m\u001b[43mkwargs\u001b[49m\u001b[43m)\u001b[49m\n",
      "File \u001b[0;32m~/jupyterprojects/jupyter/lib/python3.8/site-packages/torch/nn/modules/module.py:1562\u001b[0m, in \u001b[0;36mModule._call_impl\u001b[0;34m(self, *args, **kwargs)\u001b[0m\n\u001b[1;32m   1557\u001b[0m \u001b[38;5;66;03m# If we don't have any hooks, we want to skip the rest of the logic in\u001b[39;00m\n\u001b[1;32m   1558\u001b[0m \u001b[38;5;66;03m# this function, and just call forward.\u001b[39;00m\n\u001b[1;32m   1559\u001b[0m \u001b[38;5;28;01mif\u001b[39;00m \u001b[38;5;129;01mnot\u001b[39;00m (\u001b[38;5;28mself\u001b[39m\u001b[38;5;241m.\u001b[39m_backward_hooks \u001b[38;5;129;01mor\u001b[39;00m \u001b[38;5;28mself\u001b[39m\u001b[38;5;241m.\u001b[39m_backward_pre_hooks \u001b[38;5;129;01mor\u001b[39;00m \u001b[38;5;28mself\u001b[39m\u001b[38;5;241m.\u001b[39m_forward_hooks \u001b[38;5;129;01mor\u001b[39;00m \u001b[38;5;28mself\u001b[39m\u001b[38;5;241m.\u001b[39m_forward_pre_hooks\n\u001b[1;32m   1560\u001b[0m         \u001b[38;5;129;01mor\u001b[39;00m _global_backward_pre_hooks \u001b[38;5;129;01mor\u001b[39;00m _global_backward_hooks\n\u001b[1;32m   1561\u001b[0m         \u001b[38;5;129;01mor\u001b[39;00m _global_forward_hooks \u001b[38;5;129;01mor\u001b[39;00m _global_forward_pre_hooks):\n\u001b[0;32m-> 1562\u001b[0m     \u001b[38;5;28;01mreturn\u001b[39;00m \u001b[43mforward_call\u001b[49m\u001b[43m(\u001b[49m\u001b[38;5;241;43m*\u001b[39;49m\u001b[43margs\u001b[49m\u001b[43m,\u001b[49m\u001b[43m \u001b[49m\u001b[38;5;241;43m*\u001b[39;49m\u001b[38;5;241;43m*\u001b[39;49m\u001b[43mkwargs\u001b[49m\u001b[43m)\u001b[49m\n\u001b[1;32m   1564\u001b[0m \u001b[38;5;28;01mtry\u001b[39;00m:\n\u001b[1;32m   1565\u001b[0m     result \u001b[38;5;241m=\u001b[39m \u001b[38;5;28;01mNone\u001b[39;00m\n",
      "File \u001b[0;32m~/jupyterprojects/jupyter/lib/python3.8/site-packages/transformers/models/bert/modeling_bert.py:465\u001b[0m, in \u001b[0;36mBertSelfOutput.forward\u001b[0;34m(self, hidden_states, input_tensor)\u001b[0m\n\u001b[1;32m    464\u001b[0m \u001b[38;5;28;01mdef\u001b[39;00m \u001b[38;5;21mforward\u001b[39m(\u001b[38;5;28mself\u001b[39m, hidden_states: torch\u001b[38;5;241m.\u001b[39mTensor, input_tensor: torch\u001b[38;5;241m.\u001b[39mTensor) \u001b[38;5;241m-\u001b[39m\u001b[38;5;241m>\u001b[39m torch\u001b[38;5;241m.\u001b[39mTensor:\n\u001b[0;32m--> 465\u001b[0m     hidden_states \u001b[38;5;241m=\u001b[39m \u001b[38;5;28;43mself\u001b[39;49m\u001b[38;5;241;43m.\u001b[39;49m\u001b[43mdense\u001b[49m\u001b[43m(\u001b[49m\u001b[43mhidden_states\u001b[49m\u001b[43m)\u001b[49m\n\u001b[1;32m    466\u001b[0m     hidden_states \u001b[38;5;241m=\u001b[39m \u001b[38;5;28mself\u001b[39m\u001b[38;5;241m.\u001b[39mdropout(hidden_states)\n\u001b[1;32m    467\u001b[0m     hidden_states \u001b[38;5;241m=\u001b[39m \u001b[38;5;28mself\u001b[39m\u001b[38;5;241m.\u001b[39mLayerNorm(hidden_states \u001b[38;5;241m+\u001b[39m input_tensor)\n",
      "File \u001b[0;32m~/jupyterprojects/jupyter/lib/python3.8/site-packages/torch/nn/modules/module.py:1553\u001b[0m, in \u001b[0;36mModule._wrapped_call_impl\u001b[0;34m(self, *args, **kwargs)\u001b[0m\n\u001b[1;32m   1551\u001b[0m     \u001b[38;5;28;01mreturn\u001b[39;00m \u001b[38;5;28mself\u001b[39m\u001b[38;5;241m.\u001b[39m_compiled_call_impl(\u001b[38;5;241m*\u001b[39margs, \u001b[38;5;241m*\u001b[39m\u001b[38;5;241m*\u001b[39mkwargs)  \u001b[38;5;66;03m# type: ignore[misc]\u001b[39;00m\n\u001b[1;32m   1552\u001b[0m \u001b[38;5;28;01melse\u001b[39;00m:\n\u001b[0;32m-> 1553\u001b[0m     \u001b[38;5;28;01mreturn\u001b[39;00m \u001b[38;5;28;43mself\u001b[39;49m\u001b[38;5;241;43m.\u001b[39;49m\u001b[43m_call_impl\u001b[49m\u001b[43m(\u001b[49m\u001b[38;5;241;43m*\u001b[39;49m\u001b[43margs\u001b[49m\u001b[43m,\u001b[49m\u001b[43m \u001b[49m\u001b[38;5;241;43m*\u001b[39;49m\u001b[38;5;241;43m*\u001b[39;49m\u001b[43mkwargs\u001b[49m\u001b[43m)\u001b[49m\n",
      "File \u001b[0;32m~/jupyterprojects/jupyter/lib/python3.8/site-packages/torch/nn/modules/module.py:1562\u001b[0m, in \u001b[0;36mModule._call_impl\u001b[0;34m(self, *args, **kwargs)\u001b[0m\n\u001b[1;32m   1557\u001b[0m \u001b[38;5;66;03m# If we don't have any hooks, we want to skip the rest of the logic in\u001b[39;00m\n\u001b[1;32m   1558\u001b[0m \u001b[38;5;66;03m# this function, and just call forward.\u001b[39;00m\n\u001b[1;32m   1559\u001b[0m \u001b[38;5;28;01mif\u001b[39;00m \u001b[38;5;129;01mnot\u001b[39;00m (\u001b[38;5;28mself\u001b[39m\u001b[38;5;241m.\u001b[39m_backward_hooks \u001b[38;5;129;01mor\u001b[39;00m \u001b[38;5;28mself\u001b[39m\u001b[38;5;241m.\u001b[39m_backward_pre_hooks \u001b[38;5;129;01mor\u001b[39;00m \u001b[38;5;28mself\u001b[39m\u001b[38;5;241m.\u001b[39m_forward_hooks \u001b[38;5;129;01mor\u001b[39;00m \u001b[38;5;28mself\u001b[39m\u001b[38;5;241m.\u001b[39m_forward_pre_hooks\n\u001b[1;32m   1560\u001b[0m         \u001b[38;5;129;01mor\u001b[39;00m _global_backward_pre_hooks \u001b[38;5;129;01mor\u001b[39;00m _global_backward_hooks\n\u001b[1;32m   1561\u001b[0m         \u001b[38;5;129;01mor\u001b[39;00m _global_forward_hooks \u001b[38;5;129;01mor\u001b[39;00m _global_forward_pre_hooks):\n\u001b[0;32m-> 1562\u001b[0m     \u001b[38;5;28;01mreturn\u001b[39;00m \u001b[43mforward_call\u001b[49m\u001b[43m(\u001b[49m\u001b[38;5;241;43m*\u001b[39;49m\u001b[43margs\u001b[49m\u001b[43m,\u001b[49m\u001b[43m \u001b[49m\u001b[38;5;241;43m*\u001b[39;49m\u001b[38;5;241;43m*\u001b[39;49m\u001b[43mkwargs\u001b[49m\u001b[43m)\u001b[49m\n\u001b[1;32m   1564\u001b[0m \u001b[38;5;28;01mtry\u001b[39;00m:\n\u001b[1;32m   1565\u001b[0m     result \u001b[38;5;241m=\u001b[39m \u001b[38;5;28;01mNone\u001b[39;00m\n",
      "File \u001b[0;32m~/jupyterprojects/jupyter/lib/python3.8/site-packages/torch/nn/modules/linear.py:117\u001b[0m, in \u001b[0;36mLinear.forward\u001b[0;34m(self, input)\u001b[0m\n\u001b[1;32m    116\u001b[0m \u001b[38;5;28;01mdef\u001b[39;00m \u001b[38;5;21mforward\u001b[39m(\u001b[38;5;28mself\u001b[39m, \u001b[38;5;28minput\u001b[39m: Tensor) \u001b[38;5;241m-\u001b[39m\u001b[38;5;241m>\u001b[39m Tensor:\n\u001b[0;32m--> 117\u001b[0m     \u001b[38;5;28;01mreturn\u001b[39;00m \u001b[43mF\u001b[49m\u001b[38;5;241;43m.\u001b[39;49m\u001b[43mlinear\u001b[49m\u001b[43m(\u001b[49m\u001b[38;5;28;43minput\u001b[39;49m\u001b[43m,\u001b[49m\u001b[43m \u001b[49m\u001b[38;5;28;43mself\u001b[39;49m\u001b[38;5;241;43m.\u001b[39;49m\u001b[43mweight\u001b[49m\u001b[43m,\u001b[49m\u001b[43m \u001b[49m\u001b[38;5;28;43mself\u001b[39;49m\u001b[38;5;241;43m.\u001b[39;49m\u001b[43mbias\u001b[49m\u001b[43m)\u001b[49m\n",
      "\u001b[0;31mKeyboardInterrupt\u001b[0m: "
     ]
    }
   ],
   "source": [
    "alpha = 0.125\n",
    "class_weights = (1.0 / class_freq) ** alpha\n",
    "\n",
    "# Normalize the weights\n",
    "class_weights /= class_weights.sum()\n",
    "\n",
    "for k in [5,3, 1, 10]:\n",
    "    for msp_threshold in [0.8, 0.9]:\n",
    "        for threshold in [ 0.8, 0.9]:\n",
    "            for debias_threshold in [0.8, 0.9, 1.0]:\n",
    "                print(f\"*********************K:{k}; Threshold: {threshold}; msp: {msp_threshold}, debias: {debias_threshold}****************************\")\n",
    "                model = model.to(device)\n",
    "                ft_embs_test = []\n",
    "                labels_test = []\n",
    "                logits_test = []\n",
    "                log = defaultdict(list)\n",
    "                num_cols = []\n",
    "                for batch_idx, batch in enumerate(test_dataloader_iter):\n",
    "                    cls_indexes = torch.LongTensor([[0, batch[\"cls_indexes\"].cpu().item()]]).to(device)\n",
    "                    target_col_mask = batch[\"target_col_mask\"].T\n",
    "                    logits, target_embs = model(batch[\"data\"].T, cls_indexes=cls_indexes, get_enc=True)\n",
    "                    target_embs = target_embs.detach().cpu()\n",
    "                    logits =  reweight_logits(logits.detach().cpu(), class_weights)\n",
    "                    msp_init = logits.max().item()\n",
    "                    num_cols.append(batch[\"target_col_mask\"].max().item())\n",
    "                    max_msp = 0\n",
    "                    if 1 not in target_col_mask and msp_init < threshold:\n",
    "                        sim_values, sim_indices = F.cosine_similarity(target_embs.reshape(-1), training_embeddings_all).topk(k)\n",
    "                        \n",
    "                        for sim_i in sim_indices:\n",
    "                            new_data = training_data[sim_i].to(device)\n",
    "                            new_target_col_mask = training_col_mask[sim_i].to(device)\n",
    "                            col_idx_set = new_target_col_mask.unique().tolist()\n",
    "                            debias_classes = []\n",
    "                            assert -1 not in col_idx_set\n",
    "                            for r in range(1, len(col_idx_set) + 1):\n",
    "                                for subset in itertools.combinations(col_idx_set, r):\n",
    "                                    # if 0 not in subset:\n",
    "                                    #     continue\n",
    "                                    for x in itertools.permutations(subset):\n",
    "                                        new_batch_data = []\n",
    "                                        for col_i in x:\n",
    "                                            if col_i == 0:\n",
    "                                                if len(new_batch_data) == 0:\n",
    "                                                    cls_indexes_value = 0\n",
    "                                                else:\n",
    "                                                    cls_indexes_value = sum([len(new_batch_data[i]) for i in range(len(new_batch_data))])\n",
    "                                                new_batch_data.append(batch[\"data\"].T.reshape(-1))\n",
    "                                            else:\n",
    "                                                new_batch_data.append(new_data[new_target_col_mask==col_i].to(device))\n",
    "                                        if 0 not in x:\n",
    "                                            cls_indexes_value = 0\n",
    "                                        new_batch_data = torch.cat(new_batch_data, dim=-1).reshape(1, -1)\n",
    "                                        cls_indexes = torch.tensor([0, cls_indexes_value]).reshape(1, -1).to(device)\n",
    "                                        logits_temp = model(new_batch_data, cls_indexes=cls_indexes,)\n",
    "                                        logits_temp = reweight_logits(logits_temp.detach().cpu(), class_weights)\n",
    "                                        msp_temp = logits_temp.max().item()\n",
    "                                        predict_temp = logits_temp.argmax().item()\n",
    "                                        if len(x) == 1 and 0 in x:\n",
    "                                            predict_target = predict_temp\n",
    "                                            msp_target = msp_temp\n",
    "                                        # print(x, msp_temp, predict_temp)\n",
    "                                        if 0 not in x and msp_temp > debias_threshold and (predict_temp != predict_target):\n",
    "                                            debias_classes.append(predict_temp)\n",
    "                                            continue\n",
    "                                        if msp_temp > max_msp and 0 in x and predict_temp not in debias_classes:\n",
    "                                            max_msp = msp_temp\n",
    "                                            best_msp_perm = x\n",
    "                                            msp_predict = predict_temp\n",
    "                                            logits_msp = logits_temp.clone()\n",
    "                    if max_msp > msp_threshold:\n",
    "                        logits = logits_msp.clone()\n",
    "                    labels_test.append(batch[\"label\"].cpu())\n",
    "                    logits_test.append(logits.detach().cpu())\n",
    "                labels_test = torch.cat(labels_test, dim=0)\n",
    "                logits_test = torch.stack(logits_test, dim=0)\n",
    "                preds_test = torch.argmax(logits_test, dim=1)\n",
    "                num_cols = torch.tensor(num_cols)\n",
    "\n",
    "                from sklearn.metrics import confusion_matrix, f1_score\n",
    "                mask = num_cols > 0\n",
    "                ts_pred_list = logits_test.argmax(\n",
    "                                            1).cpu().detach().numpy().tolist()\n",
    "                ts_micro_f1 = f1_score(labels_test.reshape(-1).numpy().tolist(),\n",
    "                                    ts_pred_list,\n",
    "                                    average=\"micro\")\n",
    "                ts_macro_f1 = f1_score(labels_test.reshape(-1).numpy().tolist(),\n",
    "                                    ts_pred_list,\n",
    "                                    average=\"macro\")\n",
    "                print(\"ts_micro_f1={:.4f}, ts_macro_f1={:.4f}\".format(ts_micro_f1, ts_macro_f1))\n",
    "                ts_pred_list = logits_test.argmax(\n",
    "                                            1).cpu().detach()[mask].numpy().tolist()\n",
    "                ts_micro_f1 = f1_score(labels_test.reshape(-1)[mask].numpy().tolist(),\n",
    "                                    ts_pred_list,\n",
    "                                    average=\"micro\")\n",
    "                ts_macro_f1 = f1_score(labels_test.reshape(-1)[mask].numpy().tolist(),\n",
    "                                    ts_pred_list,\n",
    "                                    average=\"macro\")\n",
    "                print(\"ts_micro_f1={:.4f}, ts_macro_f1={:.4f}\".format(ts_micro_f1, ts_macro_f1))\n",
    "                ts_pred_list = logits_test.argmax(\n",
    "                                            1).cpu().detach()[~mask].numpy().tolist()\n",
    "                ts_micro_f1 = f1_score(labels_test.reshape(-1)[~mask].numpy().tolist(),\n",
    "                                    ts_pred_list,\n",
    "                                    average=\"micro\")\n",
    "                ts_macro_f1 = f1_score(labels_test.reshape(-1)[~mask].numpy().tolist(),\n",
    "                                    ts_pred_list,\n",
    "                                    average=\"macro\")\n",
    "                print(\"ts_micro_f1={:.4f}, ts_macro_f1={:.4f}\".format(ts_micro_f1, ts_macro_f1))\n",
    "\n",
    "                        \n",
    "            "
   ]
  },
  {
   "cell_type": "code",
   "execution_count": null,
   "metadata": {},
   "outputs": [],
   "source": []
  },
  {
   "cell_type": "code",
   "execution_count": 484,
   "metadata": {},
   "outputs": [
    {
     "data": {
      "text/plain": [
       "torch.Size([1, 62])"
      ]
     },
     "execution_count": 484,
     "metadata": {},
     "output_type": "execute_result"
    }
   ],
   "source": [
    "batch[\"data\"].T.shape"
   ]
  },
  {
   "cell_type": "code",
   "execution_count": 482,
   "metadata": {},
   "outputs": [
    {
     "name": "stdout",
     "output_type": "stream",
     "text": [
      "torch.Size([1, 62])\n",
      "torch.Size([64])\n"
     ]
    }
   ],
   "source": [
    "for data in new_batch_data:\n",
    "    print(data.shape)"
   ]
  },
  {
   "cell_type": "code",
   "execution_count": 483,
   "metadata": {},
   "outputs": [
    {
     "data": {
      "text/plain": [
       "(0, 1)"
      ]
     },
     "execution_count": 483,
     "metadata": {},
     "output_type": "execute_result"
    }
   ],
   "source": [
    "x"
   ]
  },
  {
   "cell_type": "code",
   "execution_count": 118,
   "metadata": {},
   "outputs": [],
   "source": [
    "# Save good context\n",
    "model.load_state_dict(best_state_dict, strict=False)\n",
    "model.eval()\n",
    "model = model.to(device)\n",
    "num_single_fail = 0\n",
    "num_good_context = 0\n",
    "class_context = defaultdict(list)\n",
    "for batch_idx, batch in enumerate(train_dataloader_iter):\n",
    "    cls_indexes = torch.LongTensor([[0, batch[\"cls_indexes\"].cpu().item()]]).to(device)\n",
    "    target_col_mask = batch[\"target_col_mask\"].T\n",
    "    label_i = batch[\"label\"].item()\n",
    "    if 1 in target_col_mask:\n",
    "        new_batch_data = batch[\"data\"].T[target_col_mask==0].reshape([1, -1]) # Target column only\n",
    "        cls_indexes = torch.tensor([[0, 0]]).to(device)\n",
    "        logits = model(batch[\"data\"].T, cls_indexes=cls_indexes,)\n",
    "        if logits.argmax().item() != label_i:\n",
    "            num_single_fail += 1\n",
    "            for col_i in target_col_mask.unique():\n",
    "                if col_i == 0 or col_i == -1:\n",
    "                    continue\n",
    "                new_batch_data = torch.cat([batch[\"data\"].T[target_col_mask==0].reshape([1, -1]), batch[\"data\"].T[target_col_mask==col_i].reshape([1, -1])], dim=1)\n",
    "                cls_indexes = torch.tensor([[0, 0]]).to(device)\n",
    "                logits_temp = model(new_batch_data, cls_indexes=cls_indexes,)\n",
    "                if logits_temp.argmax().item() == batch[\"label\"].item():\n",
    "                    context_i = batch[\"data\"].T[target_col_mask==col_i].reshape([1, -1]).detach().cpu()\n",
    "                    class_context[label_i].append(context_i)\n"
   ]
  },
  {
   "cell_type": "code",
   "execution_count": 78,
   "metadata": {},
   "outputs": [
    {
     "data": {
      "text/plain": [
       "2393"
      ]
     },
     "execution_count": 78,
     "metadata": {},
     "output_type": "execute_result"
    }
   ],
   "source": [
    "num_single_fail"
   ]
  },
  {
   "cell_type": "code",
   "execution_count": 119,
   "metadata": {},
   "outputs": [],
   "source": [
    "num_class_context = {k: len(v) for k, v in class_context.items()}"
   ]
  },
  {
   "cell_type": "code",
   "execution_count": 123,
   "metadata": {},
   "outputs": [
    {
     "name": "stdout",
     "output_type": "stream",
     "text": [
      "*********************Threshold: 0.5****************************\n"
     ]
    },
    {
     "name": "stderr",
     "output_type": "stream",
     "text": [
      "/tmp/ipykernel_4054970/861392142.py:28: UserWarning: Implicit dimension choice for softmax has been deprecated. Change the call to include dim=X as an argument.\n",
      "  msp_init = msp_max = F.softmax(logits).max().item()\n",
      "/tmp/ipykernel_4054970/861392142.py:38: UserWarning: Implicit dimension choice for softmax has been deprecated. Change the call to include dim=X as an argument.\n",
      "  msp_temp = F.softmax(logits_temp).max().item()\n"
     ]
    },
    {
     "name": "stdout",
     "output_type": "stream",
     "text": [
      "ts_micro_f1=0.4618, ts_macro_f1=0.1841\n",
      "ts_micro_f1=0.4229, ts_macro_f1=0.1781\n",
      "ts_micro_f1=0.5059, ts_macro_f1=0.1581\n",
      "*********************Threshold: 0.6****************************\n"
     ]
    },
    {
     "name": "stderr",
     "output_type": "stream",
     "text": [
      "/tmp/ipykernel_4054970/861392142.py:28: UserWarning: Implicit dimension choice for softmax has been deprecated. Change the call to include dim=X as an argument.\n",
      "  msp_init = msp_max = F.softmax(logits).max().item()\n",
      "/tmp/ipykernel_4054970/861392142.py:38: UserWarning: Implicit dimension choice for softmax has been deprecated. Change the call to include dim=X as an argument.\n",
      "  msp_temp = F.softmax(logits_temp).max().item()\n"
     ]
    },
    {
     "name": "stdout",
     "output_type": "stream",
     "text": [
      "ts_micro_f1=0.4590, ts_macro_f1=0.1832\n",
      "ts_micro_f1=0.4229, ts_macro_f1=0.1781\n",
      "ts_micro_f1=0.5000, ts_macro_f1=0.1499\n",
      "*********************Threshold: 0.7****************************\n"
     ]
    },
    {
     "name": "stderr",
     "output_type": "stream",
     "text": [
      "/tmp/ipykernel_4054970/861392142.py:28: UserWarning: Implicit dimension choice for softmax has been deprecated. Change the call to include dim=X as an argument.\n",
      "  msp_init = msp_max = F.softmax(logits).max().item()\n",
      "/tmp/ipykernel_4054970/861392142.py:38: UserWarning: Implicit dimension choice for softmax has been deprecated. Change the call to include dim=X as an argument.\n",
      "  msp_temp = F.softmax(logits_temp).max().item()\n"
     ]
    },
    {
     "name": "stdout",
     "output_type": "stream",
     "text": [
      "ts_micro_f1=0.4562, ts_macro_f1=0.1828\n",
      "ts_micro_f1=0.4229, ts_macro_f1=0.1781\n",
      "ts_micro_f1=0.4941, ts_macro_f1=0.1483\n",
      "*********************Threshold: 0.8****************************\n"
     ]
    },
    {
     "name": "stderr",
     "output_type": "stream",
     "text": [
      "/tmp/ipykernel_4054970/861392142.py:28: UserWarning: Implicit dimension choice for softmax has been deprecated. Change the call to include dim=X as an argument.\n",
      "  msp_init = msp_max = F.softmax(logits).max().item()\n",
      "/tmp/ipykernel_4054970/861392142.py:38: UserWarning: Implicit dimension choice for softmax has been deprecated. Change the call to include dim=X as an argument.\n",
      "  msp_temp = F.softmax(logits_temp).max().item()\n"
     ]
    },
    {
     "name": "stdout",
     "output_type": "stream",
     "text": [
      "ts_micro_f1=0.4544, ts_macro_f1=0.1766\n",
      "ts_micro_f1=0.4229, ts_macro_f1=0.1781\n",
      "ts_micro_f1=0.4902, ts_macro_f1=0.1365\n",
      "*********************Threshold: 0.9****************************\n"
     ]
    },
    {
     "name": "stderr",
     "output_type": "stream",
     "text": [
      "/tmp/ipykernel_4054970/861392142.py:28: UserWarning: Implicit dimension choice for softmax has been deprecated. Change the call to include dim=X as an argument.\n",
      "  msp_init = msp_max = F.softmax(logits).max().item()\n",
      "/tmp/ipykernel_4054970/861392142.py:38: UserWarning: Implicit dimension choice for softmax has been deprecated. Change the call to include dim=X as an argument.\n",
      "  msp_temp = F.softmax(logits_temp).max().item()\n"
     ]
    },
    {
     "name": "stdout",
     "output_type": "stream",
     "text": [
      "ts_micro_f1=0.4544, ts_macro_f1=0.1729\n",
      "ts_micro_f1=0.4229, ts_macro_f1=0.1781\n",
      "ts_micro_f1=0.4902, ts_macro_f1=0.1251\n",
      "*********************Threshold: 1.0****************************\n"
     ]
    },
    {
     "name": "stderr",
     "output_type": "stream",
     "text": [
      "/tmp/ipykernel_4054970/861392142.py:28: UserWarning: Implicit dimension choice for softmax has been deprecated. Change the call to include dim=X as an argument.\n",
      "  msp_init = msp_max = F.softmax(logits).max().item()\n",
      "/tmp/ipykernel_4054970/861392142.py:38: UserWarning: Implicit dimension choice for softmax has been deprecated. Change the call to include dim=X as an argument.\n",
      "  msp_temp = F.softmax(logits_temp).max().item()\n"
     ]
    },
    {
     "ename": "KeyboardInterrupt",
     "evalue": "",
     "output_type": "error",
     "traceback": [
      "\u001b[0;31m---------------------------------------------------------------------------\u001b[0m",
      "\u001b[0;31mKeyboardInterrupt\u001b[0m                         Traceback (most recent call last)",
      "Input \u001b[0;32mIn [123]\u001b[0m, in \u001b[0;36m<cell line: 16>\u001b[0;34m()\u001b[0m\n\u001b[1;32m     35\u001b[0m new_batch_data \u001b[38;5;241m=\u001b[39m torch\u001b[38;5;241m.\u001b[39mcat([batch[\u001b[38;5;124m\"\u001b[39m\u001b[38;5;124mdata\u001b[39m\u001b[38;5;124m\"\u001b[39m]\u001b[38;5;241m.\u001b[39mT[target_col_mask\u001b[38;5;241m==\u001b[39m\u001b[38;5;241m0\u001b[39m]\u001b[38;5;241m.\u001b[39mreshape([\u001b[38;5;241m1\u001b[39m, \u001b[38;5;241m-\u001b[39m\u001b[38;5;241m1\u001b[39m]),temp_col\u001b[38;5;241m.\u001b[39mto(device)], dim\u001b[38;5;241m=\u001b[39m\u001b[38;5;241m1\u001b[39m)\n\u001b[1;32m     36\u001b[0m cls_indexes \u001b[38;5;241m=\u001b[39m torch\u001b[38;5;241m.\u001b[39mtensor([[\u001b[38;5;241m0\u001b[39m, \u001b[38;5;241m0\u001b[39m]])\u001b[38;5;241m.\u001b[39mto(device)\n\u001b[0;32m---> 37\u001b[0m logits_temp \u001b[38;5;241m=\u001b[39m \u001b[43mmodel\u001b[49m\u001b[43m(\u001b[49m\u001b[43mnew_batch_data\u001b[49m\u001b[43m,\u001b[49m\u001b[43m \u001b[49m\u001b[43mcls_indexes\u001b[49m\u001b[38;5;241;43m=\u001b[39;49m\u001b[43mcls_indexes\u001b[49m\u001b[43m,\u001b[49m\u001b[43m)\u001b[49m\n\u001b[1;32m     38\u001b[0m msp_temp \u001b[38;5;241m=\u001b[39m F\u001b[38;5;241m.\u001b[39msoftmax(logits_temp)\u001b[38;5;241m.\u001b[39mmax()\u001b[38;5;241m.\u001b[39mitem()\n\u001b[1;32m     39\u001b[0m \u001b[38;5;28;01mif\u001b[39;00m msp_temp \u001b[38;5;241m>\u001b[39m msp_max:\n",
      "File \u001b[0;32m~/jupyterprojects/jupyter/lib/python3.8/site-packages/torch/nn/modules/module.py:1553\u001b[0m, in \u001b[0;36mModule._wrapped_call_impl\u001b[0;34m(self, *args, **kwargs)\u001b[0m\n\u001b[1;32m   1551\u001b[0m     \u001b[38;5;28;01mreturn\u001b[39;00m \u001b[38;5;28mself\u001b[39m\u001b[38;5;241m.\u001b[39m_compiled_call_impl(\u001b[38;5;241m*\u001b[39margs, \u001b[38;5;241m*\u001b[39m\u001b[38;5;241m*\u001b[39mkwargs)  \u001b[38;5;66;03m# type: ignore[misc]\u001b[39;00m\n\u001b[1;32m   1552\u001b[0m \u001b[38;5;28;01melse\u001b[39;00m:\n\u001b[0;32m-> 1553\u001b[0m     \u001b[38;5;28;01mreturn\u001b[39;00m \u001b[38;5;28;43mself\u001b[39;49m\u001b[38;5;241;43m.\u001b[39;49m\u001b[43m_call_impl\u001b[49m\u001b[43m(\u001b[49m\u001b[38;5;241;43m*\u001b[39;49m\u001b[43margs\u001b[49m\u001b[43m,\u001b[49m\u001b[43m \u001b[49m\u001b[38;5;241;43m*\u001b[39;49m\u001b[38;5;241;43m*\u001b[39;49m\u001b[43mkwargs\u001b[49m\u001b[43m)\u001b[49m\n",
      "File \u001b[0;32m~/jupyterprojects/jupyter/lib/python3.8/site-packages/torch/nn/modules/module.py:1562\u001b[0m, in \u001b[0;36mModule._call_impl\u001b[0;34m(self, *args, **kwargs)\u001b[0m\n\u001b[1;32m   1557\u001b[0m \u001b[38;5;66;03m# If we don't have any hooks, we want to skip the rest of the logic in\u001b[39;00m\n\u001b[1;32m   1558\u001b[0m \u001b[38;5;66;03m# this function, and just call forward.\u001b[39;00m\n\u001b[1;32m   1559\u001b[0m \u001b[38;5;28;01mif\u001b[39;00m \u001b[38;5;129;01mnot\u001b[39;00m (\u001b[38;5;28mself\u001b[39m\u001b[38;5;241m.\u001b[39m_backward_hooks \u001b[38;5;129;01mor\u001b[39;00m \u001b[38;5;28mself\u001b[39m\u001b[38;5;241m.\u001b[39m_backward_pre_hooks \u001b[38;5;129;01mor\u001b[39;00m \u001b[38;5;28mself\u001b[39m\u001b[38;5;241m.\u001b[39m_forward_hooks \u001b[38;5;129;01mor\u001b[39;00m \u001b[38;5;28mself\u001b[39m\u001b[38;5;241m.\u001b[39m_forward_pre_hooks\n\u001b[1;32m   1560\u001b[0m         \u001b[38;5;129;01mor\u001b[39;00m _global_backward_pre_hooks \u001b[38;5;129;01mor\u001b[39;00m _global_backward_hooks\n\u001b[1;32m   1561\u001b[0m         \u001b[38;5;129;01mor\u001b[39;00m _global_forward_hooks \u001b[38;5;129;01mor\u001b[39;00m _global_forward_pre_hooks):\n\u001b[0;32m-> 1562\u001b[0m     \u001b[38;5;28;01mreturn\u001b[39;00m \u001b[43mforward_call\u001b[49m\u001b[43m(\u001b[49m\u001b[38;5;241;43m*\u001b[39;49m\u001b[43margs\u001b[49m\u001b[43m,\u001b[49m\u001b[43m \u001b[49m\u001b[38;5;241;43m*\u001b[39;49m\u001b[38;5;241;43m*\u001b[39;49m\u001b[43mkwargs\u001b[49m\u001b[43m)\u001b[49m\n\u001b[1;32m   1564\u001b[0m \u001b[38;5;28;01mtry\u001b[39;00m:\n\u001b[1;32m   1565\u001b[0m     result \u001b[38;5;241m=\u001b[39m \u001b[38;5;28;01mNone\u001b[39;00m\n",
      "File \u001b[0;32m~/jupyterprojects/TU/watchog/watchog/model.py:571\u001b[0m, in \u001b[0;36mBertForMultiOutputClassification.forward\u001b[0;34m(self, input_ids, get_enc, cls_indexes, token_type_ids)\u001b[0m\n\u001b[1;32m    569\u001b[0m     attention_mask \u001b[38;5;241m=\u001b[39m \u001b[38;5;28;01mNone\u001b[39;00m\n\u001b[1;32m    570\u001b[0m \u001b[38;5;66;03m# BertModelMultiOutput\u001b[39;00m\n\u001b[0;32m--> 571\u001b[0m bert_output \u001b[38;5;241m=\u001b[39m \u001b[38;5;28;43mself\u001b[39;49m\u001b[38;5;241;43m.\u001b[39;49m\u001b[43mbert\u001b[49m\u001b[43m(\u001b[49m\u001b[43minput_ids\u001b[49m\u001b[43m,\u001b[49m\u001b[43m \u001b[49m\u001b[43mtoken_type_ids\u001b[49m\u001b[38;5;241;43m=\u001b[39;49m\u001b[43mtoken_type_ids\u001b[49m\u001b[43m,\u001b[49m\u001b[43m \u001b[49m\n\u001b[1;32m    572\u001b[0m \u001b[43m                        \u001b[49m\u001b[43mattention_mask\u001b[49m\u001b[38;5;241;43m=\u001b[39;49m\u001b[43mattention_mask\u001b[49m\u001b[43m)\u001b[49m\n\u001b[1;32m    573\u001b[0m table_length \u001b[38;5;241m=\u001b[39m [\u001b[38;5;28mlen\u001b[39m(input_ids[i]\u001b[38;5;241m.\u001b[39mnonzero()) \u001b[38;5;28;01mfor\u001b[39;00m i \u001b[38;5;129;01min\u001b[39;00m \u001b[38;5;28mrange\u001b[39m(\u001b[38;5;28mlen\u001b[39m(input_ids))]\n\u001b[1;32m    574\u001b[0m \u001b[38;5;66;03m# Note: returned tensor contains pooled_output of all tokens (to make the tensor size consistent)\u001b[39;00m\n",
      "File \u001b[0;32m~/jupyterprojects/jupyter/lib/python3.8/site-packages/torch/nn/modules/module.py:1553\u001b[0m, in \u001b[0;36mModule._wrapped_call_impl\u001b[0;34m(self, *args, **kwargs)\u001b[0m\n\u001b[1;32m   1551\u001b[0m     \u001b[38;5;28;01mreturn\u001b[39;00m \u001b[38;5;28mself\u001b[39m\u001b[38;5;241m.\u001b[39m_compiled_call_impl(\u001b[38;5;241m*\u001b[39margs, \u001b[38;5;241m*\u001b[39m\u001b[38;5;241m*\u001b[39mkwargs)  \u001b[38;5;66;03m# type: ignore[misc]\u001b[39;00m\n\u001b[1;32m   1552\u001b[0m \u001b[38;5;28;01melse\u001b[39;00m:\n\u001b[0;32m-> 1553\u001b[0m     \u001b[38;5;28;01mreturn\u001b[39;00m \u001b[38;5;28;43mself\u001b[39;49m\u001b[38;5;241;43m.\u001b[39;49m\u001b[43m_call_impl\u001b[49m\u001b[43m(\u001b[49m\u001b[38;5;241;43m*\u001b[39;49m\u001b[43margs\u001b[49m\u001b[43m,\u001b[49m\u001b[43m \u001b[49m\u001b[38;5;241;43m*\u001b[39;49m\u001b[38;5;241;43m*\u001b[39;49m\u001b[43mkwargs\u001b[49m\u001b[43m)\u001b[49m\n",
      "File \u001b[0;32m~/jupyterprojects/jupyter/lib/python3.8/site-packages/torch/nn/modules/module.py:1562\u001b[0m, in \u001b[0;36mModule._call_impl\u001b[0;34m(self, *args, **kwargs)\u001b[0m\n\u001b[1;32m   1557\u001b[0m \u001b[38;5;66;03m# If we don't have any hooks, we want to skip the rest of the logic in\u001b[39;00m\n\u001b[1;32m   1558\u001b[0m \u001b[38;5;66;03m# this function, and just call forward.\u001b[39;00m\n\u001b[1;32m   1559\u001b[0m \u001b[38;5;28;01mif\u001b[39;00m \u001b[38;5;129;01mnot\u001b[39;00m (\u001b[38;5;28mself\u001b[39m\u001b[38;5;241m.\u001b[39m_backward_hooks \u001b[38;5;129;01mor\u001b[39;00m \u001b[38;5;28mself\u001b[39m\u001b[38;5;241m.\u001b[39m_backward_pre_hooks \u001b[38;5;129;01mor\u001b[39;00m \u001b[38;5;28mself\u001b[39m\u001b[38;5;241m.\u001b[39m_forward_hooks \u001b[38;5;129;01mor\u001b[39;00m \u001b[38;5;28mself\u001b[39m\u001b[38;5;241m.\u001b[39m_forward_pre_hooks\n\u001b[1;32m   1560\u001b[0m         \u001b[38;5;129;01mor\u001b[39;00m _global_backward_pre_hooks \u001b[38;5;129;01mor\u001b[39;00m _global_backward_hooks\n\u001b[1;32m   1561\u001b[0m         \u001b[38;5;129;01mor\u001b[39;00m _global_forward_hooks \u001b[38;5;129;01mor\u001b[39;00m _global_forward_pre_hooks):\n\u001b[0;32m-> 1562\u001b[0m     \u001b[38;5;28;01mreturn\u001b[39;00m \u001b[43mforward_call\u001b[49m\u001b[43m(\u001b[49m\u001b[38;5;241;43m*\u001b[39;49m\u001b[43margs\u001b[49m\u001b[43m,\u001b[49m\u001b[43m \u001b[49m\u001b[38;5;241;43m*\u001b[39;49m\u001b[38;5;241;43m*\u001b[39;49m\u001b[43mkwargs\u001b[49m\u001b[43m)\u001b[49m\n\u001b[1;32m   1564\u001b[0m \u001b[38;5;28;01mtry\u001b[39;00m:\n\u001b[1;32m   1565\u001b[0m     result \u001b[38;5;241m=\u001b[39m \u001b[38;5;28;01mNone\u001b[39;00m\n",
      "File \u001b[0;32m~/jupyterprojects/jupyter/lib/python3.8/site-packages/transformers/models/bert/modeling_bert.py:1141\u001b[0m, in \u001b[0;36mBertModel.forward\u001b[0;34m(self, input_ids, attention_mask, token_type_ids, position_ids, head_mask, inputs_embeds, encoder_hidden_states, encoder_attention_mask, past_key_values, use_cache, output_attentions, output_hidden_states, return_dict)\u001b[0m\n\u001b[1;32m   1134\u001b[0m \u001b[38;5;66;03m# Prepare head mask if needed\u001b[39;00m\n\u001b[1;32m   1135\u001b[0m \u001b[38;5;66;03m# 1.0 in head_mask indicate we keep the head\u001b[39;00m\n\u001b[1;32m   1136\u001b[0m \u001b[38;5;66;03m# attention_probs has shape bsz x n_heads x N x N\u001b[39;00m\n\u001b[1;32m   1137\u001b[0m \u001b[38;5;66;03m# input head_mask has shape [num_heads] or [num_hidden_layers x num_heads]\u001b[39;00m\n\u001b[1;32m   1138\u001b[0m \u001b[38;5;66;03m# and head_mask is converted to shape [num_hidden_layers x batch x num_heads x seq_length x seq_length]\u001b[39;00m\n\u001b[1;32m   1139\u001b[0m head_mask \u001b[38;5;241m=\u001b[39m \u001b[38;5;28mself\u001b[39m\u001b[38;5;241m.\u001b[39mget_head_mask(head_mask, \u001b[38;5;28mself\u001b[39m\u001b[38;5;241m.\u001b[39mconfig\u001b[38;5;241m.\u001b[39mnum_hidden_layers)\n\u001b[0;32m-> 1141\u001b[0m encoder_outputs \u001b[38;5;241m=\u001b[39m \u001b[38;5;28;43mself\u001b[39;49m\u001b[38;5;241;43m.\u001b[39;49m\u001b[43mencoder\u001b[49m\u001b[43m(\u001b[49m\n\u001b[1;32m   1142\u001b[0m \u001b[43m    \u001b[49m\u001b[43membedding_output\u001b[49m\u001b[43m,\u001b[49m\n\u001b[1;32m   1143\u001b[0m \u001b[43m    \u001b[49m\u001b[43mattention_mask\u001b[49m\u001b[38;5;241;43m=\u001b[39;49m\u001b[43mextended_attention_mask\u001b[49m\u001b[43m,\u001b[49m\n\u001b[1;32m   1144\u001b[0m \u001b[43m    \u001b[49m\u001b[43mhead_mask\u001b[49m\u001b[38;5;241;43m=\u001b[39;49m\u001b[43mhead_mask\u001b[49m\u001b[43m,\u001b[49m\n\u001b[1;32m   1145\u001b[0m \u001b[43m    \u001b[49m\u001b[43mencoder_hidden_states\u001b[49m\u001b[38;5;241;43m=\u001b[39;49m\u001b[43mencoder_hidden_states\u001b[49m\u001b[43m,\u001b[49m\n\u001b[1;32m   1146\u001b[0m \u001b[43m    \u001b[49m\u001b[43mencoder_attention_mask\u001b[49m\u001b[38;5;241;43m=\u001b[39;49m\u001b[43mencoder_extended_attention_mask\u001b[49m\u001b[43m,\u001b[49m\n\u001b[1;32m   1147\u001b[0m \u001b[43m    \u001b[49m\u001b[43mpast_key_values\u001b[49m\u001b[38;5;241;43m=\u001b[39;49m\u001b[43mpast_key_values\u001b[49m\u001b[43m,\u001b[49m\n\u001b[1;32m   1148\u001b[0m \u001b[43m    \u001b[49m\u001b[43muse_cache\u001b[49m\u001b[38;5;241;43m=\u001b[39;49m\u001b[43muse_cache\u001b[49m\u001b[43m,\u001b[49m\n\u001b[1;32m   1149\u001b[0m \u001b[43m    \u001b[49m\u001b[43moutput_attentions\u001b[49m\u001b[38;5;241;43m=\u001b[39;49m\u001b[43moutput_attentions\u001b[49m\u001b[43m,\u001b[49m\n\u001b[1;32m   1150\u001b[0m \u001b[43m    \u001b[49m\u001b[43moutput_hidden_states\u001b[49m\u001b[38;5;241;43m=\u001b[39;49m\u001b[43moutput_hidden_states\u001b[49m\u001b[43m,\u001b[49m\n\u001b[1;32m   1151\u001b[0m \u001b[43m    \u001b[49m\u001b[43mreturn_dict\u001b[49m\u001b[38;5;241;43m=\u001b[39;49m\u001b[43mreturn_dict\u001b[49m\u001b[43m,\u001b[49m\n\u001b[1;32m   1152\u001b[0m \u001b[43m\u001b[49m\u001b[43m)\u001b[49m\n\u001b[1;32m   1153\u001b[0m sequence_output \u001b[38;5;241m=\u001b[39m encoder_outputs[\u001b[38;5;241m0\u001b[39m]\n\u001b[1;32m   1154\u001b[0m pooled_output \u001b[38;5;241m=\u001b[39m \u001b[38;5;28mself\u001b[39m\u001b[38;5;241m.\u001b[39mpooler(sequence_output) \u001b[38;5;28;01mif\u001b[39;00m \u001b[38;5;28mself\u001b[39m\u001b[38;5;241m.\u001b[39mpooler \u001b[38;5;129;01mis\u001b[39;00m \u001b[38;5;129;01mnot\u001b[39;00m \u001b[38;5;28;01mNone\u001b[39;00m \u001b[38;5;28;01melse\u001b[39;00m \u001b[38;5;28;01mNone\u001b[39;00m\n",
      "File \u001b[0;32m~/jupyterprojects/jupyter/lib/python3.8/site-packages/torch/nn/modules/module.py:1553\u001b[0m, in \u001b[0;36mModule._wrapped_call_impl\u001b[0;34m(self, *args, **kwargs)\u001b[0m\n\u001b[1;32m   1551\u001b[0m     \u001b[38;5;28;01mreturn\u001b[39;00m \u001b[38;5;28mself\u001b[39m\u001b[38;5;241m.\u001b[39m_compiled_call_impl(\u001b[38;5;241m*\u001b[39margs, \u001b[38;5;241m*\u001b[39m\u001b[38;5;241m*\u001b[39mkwargs)  \u001b[38;5;66;03m# type: ignore[misc]\u001b[39;00m\n\u001b[1;32m   1552\u001b[0m \u001b[38;5;28;01melse\u001b[39;00m:\n\u001b[0;32m-> 1553\u001b[0m     \u001b[38;5;28;01mreturn\u001b[39;00m \u001b[38;5;28;43mself\u001b[39;49m\u001b[38;5;241;43m.\u001b[39;49m\u001b[43m_call_impl\u001b[49m\u001b[43m(\u001b[49m\u001b[38;5;241;43m*\u001b[39;49m\u001b[43margs\u001b[49m\u001b[43m,\u001b[49m\u001b[43m \u001b[49m\u001b[38;5;241;43m*\u001b[39;49m\u001b[38;5;241;43m*\u001b[39;49m\u001b[43mkwargs\u001b[49m\u001b[43m)\u001b[49m\n",
      "File \u001b[0;32m~/jupyterprojects/jupyter/lib/python3.8/site-packages/torch/nn/modules/module.py:1562\u001b[0m, in \u001b[0;36mModule._call_impl\u001b[0;34m(self, *args, **kwargs)\u001b[0m\n\u001b[1;32m   1557\u001b[0m \u001b[38;5;66;03m# If we don't have any hooks, we want to skip the rest of the logic in\u001b[39;00m\n\u001b[1;32m   1558\u001b[0m \u001b[38;5;66;03m# this function, and just call forward.\u001b[39;00m\n\u001b[1;32m   1559\u001b[0m \u001b[38;5;28;01mif\u001b[39;00m \u001b[38;5;129;01mnot\u001b[39;00m (\u001b[38;5;28mself\u001b[39m\u001b[38;5;241m.\u001b[39m_backward_hooks \u001b[38;5;129;01mor\u001b[39;00m \u001b[38;5;28mself\u001b[39m\u001b[38;5;241m.\u001b[39m_backward_pre_hooks \u001b[38;5;129;01mor\u001b[39;00m \u001b[38;5;28mself\u001b[39m\u001b[38;5;241m.\u001b[39m_forward_hooks \u001b[38;5;129;01mor\u001b[39;00m \u001b[38;5;28mself\u001b[39m\u001b[38;5;241m.\u001b[39m_forward_pre_hooks\n\u001b[1;32m   1560\u001b[0m         \u001b[38;5;129;01mor\u001b[39;00m _global_backward_pre_hooks \u001b[38;5;129;01mor\u001b[39;00m _global_backward_hooks\n\u001b[1;32m   1561\u001b[0m         \u001b[38;5;129;01mor\u001b[39;00m _global_forward_hooks \u001b[38;5;129;01mor\u001b[39;00m _global_forward_pre_hooks):\n\u001b[0;32m-> 1562\u001b[0m     \u001b[38;5;28;01mreturn\u001b[39;00m \u001b[43mforward_call\u001b[49m\u001b[43m(\u001b[49m\u001b[38;5;241;43m*\u001b[39;49m\u001b[43margs\u001b[49m\u001b[43m,\u001b[49m\u001b[43m \u001b[49m\u001b[38;5;241;43m*\u001b[39;49m\u001b[38;5;241;43m*\u001b[39;49m\u001b[43mkwargs\u001b[49m\u001b[43m)\u001b[49m\n\u001b[1;32m   1564\u001b[0m \u001b[38;5;28;01mtry\u001b[39;00m:\n\u001b[1;32m   1565\u001b[0m     result \u001b[38;5;241m=\u001b[39m \u001b[38;5;28;01mNone\u001b[39;00m\n",
      "File \u001b[0;32m~/jupyterprojects/jupyter/lib/python3.8/site-packages/transformers/models/bert/modeling_bert.py:694\u001b[0m, in \u001b[0;36mBertEncoder.forward\u001b[0;34m(self, hidden_states, attention_mask, head_mask, encoder_hidden_states, encoder_attention_mask, past_key_values, use_cache, output_attentions, output_hidden_states, return_dict)\u001b[0m\n\u001b[1;32m    683\u001b[0m     layer_outputs \u001b[38;5;241m=\u001b[39m \u001b[38;5;28mself\u001b[39m\u001b[38;5;241m.\u001b[39m_gradient_checkpointing_func(\n\u001b[1;32m    684\u001b[0m         layer_module\u001b[38;5;241m.\u001b[39m\u001b[38;5;21m__call__\u001b[39m,\n\u001b[1;32m    685\u001b[0m         hidden_states,\n\u001b[0;32m   (...)\u001b[0m\n\u001b[1;32m    691\u001b[0m         output_attentions,\n\u001b[1;32m    692\u001b[0m     )\n\u001b[1;32m    693\u001b[0m \u001b[38;5;28;01melse\u001b[39;00m:\n\u001b[0;32m--> 694\u001b[0m     layer_outputs \u001b[38;5;241m=\u001b[39m \u001b[43mlayer_module\u001b[49m\u001b[43m(\u001b[49m\n\u001b[1;32m    695\u001b[0m \u001b[43m        \u001b[49m\u001b[43mhidden_states\u001b[49m\u001b[43m,\u001b[49m\n\u001b[1;32m    696\u001b[0m \u001b[43m        \u001b[49m\u001b[43mattention_mask\u001b[49m\u001b[43m,\u001b[49m\n\u001b[1;32m    697\u001b[0m \u001b[43m        \u001b[49m\u001b[43mlayer_head_mask\u001b[49m\u001b[43m,\u001b[49m\n\u001b[1;32m    698\u001b[0m \u001b[43m        \u001b[49m\u001b[43mencoder_hidden_states\u001b[49m\u001b[43m,\u001b[49m\n\u001b[1;32m    699\u001b[0m \u001b[43m        \u001b[49m\u001b[43mencoder_attention_mask\u001b[49m\u001b[43m,\u001b[49m\n\u001b[1;32m    700\u001b[0m \u001b[43m        \u001b[49m\u001b[43mpast_key_value\u001b[49m\u001b[43m,\u001b[49m\n\u001b[1;32m    701\u001b[0m \u001b[43m        \u001b[49m\u001b[43moutput_attentions\u001b[49m\u001b[43m,\u001b[49m\n\u001b[1;32m    702\u001b[0m \u001b[43m    \u001b[49m\u001b[43m)\u001b[49m\n\u001b[1;32m    704\u001b[0m hidden_states \u001b[38;5;241m=\u001b[39m layer_outputs[\u001b[38;5;241m0\u001b[39m]\n\u001b[1;32m    705\u001b[0m \u001b[38;5;28;01mif\u001b[39;00m use_cache:\n",
      "File \u001b[0;32m~/jupyterprojects/jupyter/lib/python3.8/site-packages/torch/nn/modules/module.py:1553\u001b[0m, in \u001b[0;36mModule._wrapped_call_impl\u001b[0;34m(self, *args, **kwargs)\u001b[0m\n\u001b[1;32m   1551\u001b[0m     \u001b[38;5;28;01mreturn\u001b[39;00m \u001b[38;5;28mself\u001b[39m\u001b[38;5;241m.\u001b[39m_compiled_call_impl(\u001b[38;5;241m*\u001b[39margs, \u001b[38;5;241m*\u001b[39m\u001b[38;5;241m*\u001b[39mkwargs)  \u001b[38;5;66;03m# type: ignore[misc]\u001b[39;00m\n\u001b[1;32m   1552\u001b[0m \u001b[38;5;28;01melse\u001b[39;00m:\n\u001b[0;32m-> 1553\u001b[0m     \u001b[38;5;28;01mreturn\u001b[39;00m \u001b[38;5;28;43mself\u001b[39;49m\u001b[38;5;241;43m.\u001b[39;49m\u001b[43m_call_impl\u001b[49m\u001b[43m(\u001b[49m\u001b[38;5;241;43m*\u001b[39;49m\u001b[43margs\u001b[49m\u001b[43m,\u001b[49m\u001b[43m \u001b[49m\u001b[38;5;241;43m*\u001b[39;49m\u001b[38;5;241;43m*\u001b[39;49m\u001b[43mkwargs\u001b[49m\u001b[43m)\u001b[49m\n",
      "File \u001b[0;32m~/jupyterprojects/jupyter/lib/python3.8/site-packages/torch/nn/modules/module.py:1562\u001b[0m, in \u001b[0;36mModule._call_impl\u001b[0;34m(self, *args, **kwargs)\u001b[0m\n\u001b[1;32m   1557\u001b[0m \u001b[38;5;66;03m# If we don't have any hooks, we want to skip the rest of the logic in\u001b[39;00m\n\u001b[1;32m   1558\u001b[0m \u001b[38;5;66;03m# this function, and just call forward.\u001b[39;00m\n\u001b[1;32m   1559\u001b[0m \u001b[38;5;28;01mif\u001b[39;00m \u001b[38;5;129;01mnot\u001b[39;00m (\u001b[38;5;28mself\u001b[39m\u001b[38;5;241m.\u001b[39m_backward_hooks \u001b[38;5;129;01mor\u001b[39;00m \u001b[38;5;28mself\u001b[39m\u001b[38;5;241m.\u001b[39m_backward_pre_hooks \u001b[38;5;129;01mor\u001b[39;00m \u001b[38;5;28mself\u001b[39m\u001b[38;5;241m.\u001b[39m_forward_hooks \u001b[38;5;129;01mor\u001b[39;00m \u001b[38;5;28mself\u001b[39m\u001b[38;5;241m.\u001b[39m_forward_pre_hooks\n\u001b[1;32m   1560\u001b[0m         \u001b[38;5;129;01mor\u001b[39;00m _global_backward_pre_hooks \u001b[38;5;129;01mor\u001b[39;00m _global_backward_hooks\n\u001b[1;32m   1561\u001b[0m         \u001b[38;5;129;01mor\u001b[39;00m _global_forward_hooks \u001b[38;5;129;01mor\u001b[39;00m _global_forward_pre_hooks):\n\u001b[0;32m-> 1562\u001b[0m     \u001b[38;5;28;01mreturn\u001b[39;00m \u001b[43mforward_call\u001b[49m\u001b[43m(\u001b[49m\u001b[38;5;241;43m*\u001b[39;49m\u001b[43margs\u001b[49m\u001b[43m,\u001b[49m\u001b[43m \u001b[49m\u001b[38;5;241;43m*\u001b[39;49m\u001b[38;5;241;43m*\u001b[39;49m\u001b[43mkwargs\u001b[49m\u001b[43m)\u001b[49m\n\u001b[1;32m   1564\u001b[0m \u001b[38;5;28;01mtry\u001b[39;00m:\n\u001b[1;32m   1565\u001b[0m     result \u001b[38;5;241m=\u001b[39m \u001b[38;5;28;01mNone\u001b[39;00m\n",
      "File \u001b[0;32m~/jupyterprojects/jupyter/lib/python3.8/site-packages/transformers/models/bert/modeling_bert.py:584\u001b[0m, in \u001b[0;36mBertLayer.forward\u001b[0;34m(self, hidden_states, attention_mask, head_mask, encoder_hidden_states, encoder_attention_mask, past_key_value, output_attentions)\u001b[0m\n\u001b[1;32m    572\u001b[0m \u001b[38;5;28;01mdef\u001b[39;00m \u001b[38;5;21mforward\u001b[39m(\n\u001b[1;32m    573\u001b[0m     \u001b[38;5;28mself\u001b[39m,\n\u001b[1;32m    574\u001b[0m     hidden_states: torch\u001b[38;5;241m.\u001b[39mTensor,\n\u001b[0;32m   (...)\u001b[0m\n\u001b[1;32m    581\u001b[0m ) \u001b[38;5;241m-\u001b[39m\u001b[38;5;241m>\u001b[39m Tuple[torch\u001b[38;5;241m.\u001b[39mTensor]:\n\u001b[1;32m    582\u001b[0m     \u001b[38;5;66;03m# decoder uni-directional self-attention cached key/values tuple is at positions 1,2\u001b[39;00m\n\u001b[1;32m    583\u001b[0m     self_attn_past_key_value \u001b[38;5;241m=\u001b[39m past_key_value[:\u001b[38;5;241m2\u001b[39m] \u001b[38;5;28;01mif\u001b[39;00m past_key_value \u001b[38;5;129;01mis\u001b[39;00m \u001b[38;5;129;01mnot\u001b[39;00m \u001b[38;5;28;01mNone\u001b[39;00m \u001b[38;5;28;01melse\u001b[39;00m \u001b[38;5;28;01mNone\u001b[39;00m\n\u001b[0;32m--> 584\u001b[0m     self_attention_outputs \u001b[38;5;241m=\u001b[39m \u001b[38;5;28;43mself\u001b[39;49m\u001b[38;5;241;43m.\u001b[39;49m\u001b[43mattention\u001b[49m\u001b[43m(\u001b[49m\n\u001b[1;32m    585\u001b[0m \u001b[43m        \u001b[49m\u001b[43mhidden_states\u001b[49m\u001b[43m,\u001b[49m\n\u001b[1;32m    586\u001b[0m \u001b[43m        \u001b[49m\u001b[43mattention_mask\u001b[49m\u001b[43m,\u001b[49m\n\u001b[1;32m    587\u001b[0m \u001b[43m        \u001b[49m\u001b[43mhead_mask\u001b[49m\u001b[43m,\u001b[49m\n\u001b[1;32m    588\u001b[0m \u001b[43m        \u001b[49m\u001b[43moutput_attentions\u001b[49m\u001b[38;5;241;43m=\u001b[39;49m\u001b[43moutput_attentions\u001b[49m\u001b[43m,\u001b[49m\n\u001b[1;32m    589\u001b[0m \u001b[43m        \u001b[49m\u001b[43mpast_key_value\u001b[49m\u001b[38;5;241;43m=\u001b[39;49m\u001b[43mself_attn_past_key_value\u001b[49m\u001b[43m,\u001b[49m\n\u001b[1;32m    590\u001b[0m \u001b[43m    \u001b[49m\u001b[43m)\u001b[49m\n\u001b[1;32m    591\u001b[0m     attention_output \u001b[38;5;241m=\u001b[39m self_attention_outputs[\u001b[38;5;241m0\u001b[39m]\n\u001b[1;32m    593\u001b[0m     \u001b[38;5;66;03m# if decoder, the last output is tuple of self-attn cache\u001b[39;00m\n",
      "File \u001b[0;32m~/jupyterprojects/jupyter/lib/python3.8/site-packages/torch/nn/modules/module.py:1553\u001b[0m, in \u001b[0;36mModule._wrapped_call_impl\u001b[0;34m(self, *args, **kwargs)\u001b[0m\n\u001b[1;32m   1551\u001b[0m     \u001b[38;5;28;01mreturn\u001b[39;00m \u001b[38;5;28mself\u001b[39m\u001b[38;5;241m.\u001b[39m_compiled_call_impl(\u001b[38;5;241m*\u001b[39margs, \u001b[38;5;241m*\u001b[39m\u001b[38;5;241m*\u001b[39mkwargs)  \u001b[38;5;66;03m# type: ignore[misc]\u001b[39;00m\n\u001b[1;32m   1552\u001b[0m \u001b[38;5;28;01melse\u001b[39;00m:\n\u001b[0;32m-> 1553\u001b[0m     \u001b[38;5;28;01mreturn\u001b[39;00m \u001b[38;5;28;43mself\u001b[39;49m\u001b[38;5;241;43m.\u001b[39;49m\u001b[43m_call_impl\u001b[49m\u001b[43m(\u001b[49m\u001b[38;5;241;43m*\u001b[39;49m\u001b[43margs\u001b[49m\u001b[43m,\u001b[49m\u001b[43m \u001b[49m\u001b[38;5;241;43m*\u001b[39;49m\u001b[38;5;241;43m*\u001b[39;49m\u001b[43mkwargs\u001b[49m\u001b[43m)\u001b[49m\n",
      "File \u001b[0;32m~/jupyterprojects/jupyter/lib/python3.8/site-packages/torch/nn/modules/module.py:1562\u001b[0m, in \u001b[0;36mModule._call_impl\u001b[0;34m(self, *args, **kwargs)\u001b[0m\n\u001b[1;32m   1557\u001b[0m \u001b[38;5;66;03m# If we don't have any hooks, we want to skip the rest of the logic in\u001b[39;00m\n\u001b[1;32m   1558\u001b[0m \u001b[38;5;66;03m# this function, and just call forward.\u001b[39;00m\n\u001b[1;32m   1559\u001b[0m \u001b[38;5;28;01mif\u001b[39;00m \u001b[38;5;129;01mnot\u001b[39;00m (\u001b[38;5;28mself\u001b[39m\u001b[38;5;241m.\u001b[39m_backward_hooks \u001b[38;5;129;01mor\u001b[39;00m \u001b[38;5;28mself\u001b[39m\u001b[38;5;241m.\u001b[39m_backward_pre_hooks \u001b[38;5;129;01mor\u001b[39;00m \u001b[38;5;28mself\u001b[39m\u001b[38;5;241m.\u001b[39m_forward_hooks \u001b[38;5;129;01mor\u001b[39;00m \u001b[38;5;28mself\u001b[39m\u001b[38;5;241m.\u001b[39m_forward_pre_hooks\n\u001b[1;32m   1560\u001b[0m         \u001b[38;5;129;01mor\u001b[39;00m _global_backward_pre_hooks \u001b[38;5;129;01mor\u001b[39;00m _global_backward_hooks\n\u001b[1;32m   1561\u001b[0m         \u001b[38;5;129;01mor\u001b[39;00m _global_forward_hooks \u001b[38;5;129;01mor\u001b[39;00m _global_forward_pre_hooks):\n\u001b[0;32m-> 1562\u001b[0m     \u001b[38;5;28;01mreturn\u001b[39;00m \u001b[43mforward_call\u001b[49m\u001b[43m(\u001b[49m\u001b[38;5;241;43m*\u001b[39;49m\u001b[43margs\u001b[49m\u001b[43m,\u001b[49m\u001b[43m \u001b[49m\u001b[38;5;241;43m*\u001b[39;49m\u001b[38;5;241;43m*\u001b[39;49m\u001b[43mkwargs\u001b[49m\u001b[43m)\u001b[49m\n\u001b[1;32m   1564\u001b[0m \u001b[38;5;28;01mtry\u001b[39;00m:\n\u001b[1;32m   1565\u001b[0m     result \u001b[38;5;241m=\u001b[39m \u001b[38;5;28;01mNone\u001b[39;00m\n",
      "File \u001b[0;32m~/jupyterprojects/jupyter/lib/python3.8/site-packages/transformers/models/bert/modeling_bert.py:523\u001b[0m, in \u001b[0;36mBertAttention.forward\u001b[0;34m(self, hidden_states, attention_mask, head_mask, encoder_hidden_states, encoder_attention_mask, past_key_value, output_attentions)\u001b[0m\n\u001b[1;32m    504\u001b[0m \u001b[38;5;28;01mdef\u001b[39;00m \u001b[38;5;21mforward\u001b[39m(\n\u001b[1;32m    505\u001b[0m     \u001b[38;5;28mself\u001b[39m,\n\u001b[1;32m    506\u001b[0m     hidden_states: torch\u001b[38;5;241m.\u001b[39mTensor,\n\u001b[0;32m   (...)\u001b[0m\n\u001b[1;32m    512\u001b[0m     output_attentions: Optional[\u001b[38;5;28mbool\u001b[39m] \u001b[38;5;241m=\u001b[39m \u001b[38;5;28;01mFalse\u001b[39;00m,\n\u001b[1;32m    513\u001b[0m ) \u001b[38;5;241m-\u001b[39m\u001b[38;5;241m>\u001b[39m Tuple[torch\u001b[38;5;241m.\u001b[39mTensor]:\n\u001b[1;32m    514\u001b[0m     self_outputs \u001b[38;5;241m=\u001b[39m \u001b[38;5;28mself\u001b[39m\u001b[38;5;241m.\u001b[39mself(\n\u001b[1;32m    515\u001b[0m         hidden_states,\n\u001b[1;32m    516\u001b[0m         attention_mask,\n\u001b[0;32m   (...)\u001b[0m\n\u001b[1;32m    521\u001b[0m         output_attentions,\n\u001b[1;32m    522\u001b[0m     )\n\u001b[0;32m--> 523\u001b[0m     attention_output \u001b[38;5;241m=\u001b[39m \u001b[38;5;28;43mself\u001b[39;49m\u001b[38;5;241;43m.\u001b[39;49m\u001b[43moutput\u001b[49m\u001b[43m(\u001b[49m\u001b[43mself_outputs\u001b[49m\u001b[43m[\u001b[49m\u001b[38;5;241;43m0\u001b[39;49m\u001b[43m]\u001b[49m\u001b[43m,\u001b[49m\u001b[43m \u001b[49m\u001b[43mhidden_states\u001b[49m\u001b[43m)\u001b[49m\n\u001b[1;32m    524\u001b[0m     outputs \u001b[38;5;241m=\u001b[39m (attention_output,) \u001b[38;5;241m+\u001b[39m self_outputs[\u001b[38;5;241m1\u001b[39m:]  \u001b[38;5;66;03m# add attentions if we output them\u001b[39;00m\n\u001b[1;32m    525\u001b[0m     \u001b[38;5;28;01mreturn\u001b[39;00m outputs\n",
      "File \u001b[0;32m~/jupyterprojects/jupyter/lib/python3.8/site-packages/torch/nn/modules/module.py:1553\u001b[0m, in \u001b[0;36mModule._wrapped_call_impl\u001b[0;34m(self, *args, **kwargs)\u001b[0m\n\u001b[1;32m   1551\u001b[0m     \u001b[38;5;28;01mreturn\u001b[39;00m \u001b[38;5;28mself\u001b[39m\u001b[38;5;241m.\u001b[39m_compiled_call_impl(\u001b[38;5;241m*\u001b[39margs, \u001b[38;5;241m*\u001b[39m\u001b[38;5;241m*\u001b[39mkwargs)  \u001b[38;5;66;03m# type: ignore[misc]\u001b[39;00m\n\u001b[1;32m   1552\u001b[0m \u001b[38;5;28;01melse\u001b[39;00m:\n\u001b[0;32m-> 1553\u001b[0m     \u001b[38;5;28;01mreturn\u001b[39;00m \u001b[38;5;28;43mself\u001b[39;49m\u001b[38;5;241;43m.\u001b[39;49m\u001b[43m_call_impl\u001b[49m\u001b[43m(\u001b[49m\u001b[38;5;241;43m*\u001b[39;49m\u001b[43margs\u001b[49m\u001b[43m,\u001b[49m\u001b[43m \u001b[49m\u001b[38;5;241;43m*\u001b[39;49m\u001b[38;5;241;43m*\u001b[39;49m\u001b[43mkwargs\u001b[49m\u001b[43m)\u001b[49m\n",
      "File \u001b[0;32m~/jupyterprojects/jupyter/lib/python3.8/site-packages/torch/nn/modules/module.py:1562\u001b[0m, in \u001b[0;36mModule._call_impl\u001b[0;34m(self, *args, **kwargs)\u001b[0m\n\u001b[1;32m   1557\u001b[0m \u001b[38;5;66;03m# If we don't have any hooks, we want to skip the rest of the logic in\u001b[39;00m\n\u001b[1;32m   1558\u001b[0m \u001b[38;5;66;03m# this function, and just call forward.\u001b[39;00m\n\u001b[1;32m   1559\u001b[0m \u001b[38;5;28;01mif\u001b[39;00m \u001b[38;5;129;01mnot\u001b[39;00m (\u001b[38;5;28mself\u001b[39m\u001b[38;5;241m.\u001b[39m_backward_hooks \u001b[38;5;129;01mor\u001b[39;00m \u001b[38;5;28mself\u001b[39m\u001b[38;5;241m.\u001b[39m_backward_pre_hooks \u001b[38;5;129;01mor\u001b[39;00m \u001b[38;5;28mself\u001b[39m\u001b[38;5;241m.\u001b[39m_forward_hooks \u001b[38;5;129;01mor\u001b[39;00m \u001b[38;5;28mself\u001b[39m\u001b[38;5;241m.\u001b[39m_forward_pre_hooks\n\u001b[1;32m   1560\u001b[0m         \u001b[38;5;129;01mor\u001b[39;00m _global_backward_pre_hooks \u001b[38;5;129;01mor\u001b[39;00m _global_backward_hooks\n\u001b[1;32m   1561\u001b[0m         \u001b[38;5;129;01mor\u001b[39;00m _global_forward_hooks \u001b[38;5;129;01mor\u001b[39;00m _global_forward_pre_hooks):\n\u001b[0;32m-> 1562\u001b[0m     \u001b[38;5;28;01mreturn\u001b[39;00m \u001b[43mforward_call\u001b[49m\u001b[43m(\u001b[49m\u001b[38;5;241;43m*\u001b[39;49m\u001b[43margs\u001b[49m\u001b[43m,\u001b[49m\u001b[43m \u001b[49m\u001b[38;5;241;43m*\u001b[39;49m\u001b[38;5;241;43m*\u001b[39;49m\u001b[43mkwargs\u001b[49m\u001b[43m)\u001b[49m\n\u001b[1;32m   1564\u001b[0m \u001b[38;5;28;01mtry\u001b[39;00m:\n\u001b[1;32m   1565\u001b[0m     result \u001b[38;5;241m=\u001b[39m \u001b[38;5;28;01mNone\u001b[39;00m\n",
      "File \u001b[0;32m~/jupyterprojects/jupyter/lib/python3.8/site-packages/transformers/models/bert/modeling_bert.py:467\u001b[0m, in \u001b[0;36mBertSelfOutput.forward\u001b[0;34m(self, hidden_states, input_tensor)\u001b[0m\n\u001b[1;32m    465\u001b[0m hidden_states \u001b[38;5;241m=\u001b[39m \u001b[38;5;28mself\u001b[39m\u001b[38;5;241m.\u001b[39mdense(hidden_states)\n\u001b[1;32m    466\u001b[0m hidden_states \u001b[38;5;241m=\u001b[39m \u001b[38;5;28mself\u001b[39m\u001b[38;5;241m.\u001b[39mdropout(hidden_states)\n\u001b[0;32m--> 467\u001b[0m hidden_states \u001b[38;5;241m=\u001b[39m \u001b[38;5;28mself\u001b[39m\u001b[38;5;241m.\u001b[39mLayerNorm(\u001b[43mhidden_states\u001b[49m\u001b[43m \u001b[49m\u001b[38;5;241;43m+\u001b[39;49m\u001b[43m \u001b[49m\u001b[43minput_tensor\u001b[49m)\n\u001b[1;32m    468\u001b[0m \u001b[38;5;28;01mreturn\u001b[39;00m hidden_states\n",
      "\u001b[0;31mKeyboardInterrupt\u001b[0m: "
     ]
    }
   ],
   "source": [
    "# MSP add\n",
    "model.load_state_dict(best_state_dict, strict=False)\n",
    "model.eval()\n",
    "model = model.to(device)\n",
    "ft_embs_test = []\n",
    "labels_test = []\n",
    "logits_test = []\n",
    "log = defaultdict(list)\n",
    "num_cols = []\n",
    "threshold = 0.8\n",
    "corrected = 0\n",
    "total_mistakes = 0\n",
    "class_corrected ={k: 0 for k in class_context.keys()}\n",
    "class_mistakes = {k: 0 for k in class_context.keys()}\n",
    "\n",
    "for threshold in [ 0.8, 0.9]:\n",
    "    print(f\"*********************Threshold: {threshold}****************************\")\n",
    "    model = model.to(device)\n",
    "    ft_embs_test = []\n",
    "    labels_test = []\n",
    "    logits_test = []\n",
    "    log = defaultdict(list)\n",
    "    num_cols = []\n",
    "    for batch_idx, batch in enumerate(test_dataloader_iter):\n",
    "        cls_indexes = torch.LongTensor([[0, batch[\"cls_indexes\"].cpu().item()]]).to(device)\n",
    "        target_col_mask = batch[\"target_col_mask\"].T\n",
    "        logits = model(batch[\"data\"].T, cls_indexes=cls_indexes,)\n",
    "        msp_init = msp_max = F.softmax(logits).max().item()\n",
    "        num_cols.append(batch[\"target_col_mask\"].max().item())\n",
    "        label_i = batch[\"label\"].item()\n",
    "        if batch[\"target_col_mask\"].max().item() == 0:\n",
    "            if msp_init < threshold:\n",
    "                for class_i in class_context.keys():          \n",
    "                    for temp_col in class_context[class_i]:\n",
    "                        new_batch_data = torch.cat([batch[\"data\"].T[target_col_mask==0].reshape([1, -1]),temp_col.to(device)], dim=1)\n",
    "                        cls_indexes = torch.tensor([[0, 0]]).to(device)\n",
    "                        logits_temp = model(new_batch_data, cls_indexes=cls_indexes,)\n",
    "                        msp_temp = F.softmax(logits_temp).max().item()\n",
    "                        if msp_temp > msp_max:\n",
    "                            logits = logits_temp.clone()\n",
    "                            msp_max = msp_temp\n",
    "            \n",
    "        labels_test.append(batch[\"label\"].cpu())\n",
    "        logits_test.append(logits.detach().cpu())\n",
    "    labels_test = torch.cat(labels_test, dim=0)\n",
    "    logits_test = torch.stack(logits_test, dim=0)\n",
    "    preds_test = torch.argmax(logits_test, dim=1)\n",
    "    num_cols = torch.tensor(num_cols)\n",
    "\n",
    "\n",
    "\n",
    "\n",
    "    from sklearn.metrics import confusion_matrix, f1_score\n",
    "    mask = num_cols > 0\n",
    "    ts_pred_list = logits_test.argmax(\n",
    "                                1).cpu().detach().numpy().tolist()\n",
    "    ts_micro_f1 = f1_score(labels_test.reshape(-1).numpy().tolist(),\n",
    "                        ts_pred_list,\n",
    "                        average=\"micro\")\n",
    "    ts_macro_f1 = f1_score(labels_test.reshape(-1).numpy().tolist(),\n",
    "                        ts_pred_list,\n",
    "                        average=\"macro\")\n",
    "    print(\"ts_micro_f1={:.4f}, ts_macro_f1={:.4f}\".format(ts_micro_f1, ts_macro_f1))\n",
    "    ts_pred_list = logits_test.argmax(\n",
    "                                1).cpu().detach()[mask].numpy().tolist()\n",
    "    ts_micro_f1 = f1_score(labels_test.reshape(-1)[mask].numpy().tolist(),\n",
    "                        ts_pred_list,\n",
    "                        average=\"micro\")\n",
    "    ts_macro_f1 = f1_score(labels_test.reshape(-1)[mask].numpy().tolist(),\n",
    "                        ts_pred_list,\n",
    "                        average=\"macro\")\n",
    "    print(\"ts_micro_f1={:.4f}, ts_macro_f1={:.4f}\".format(ts_micro_f1, ts_macro_f1))\n",
    "    ts_pred_list = logits_test.argmax(\n",
    "                                1).cpu().detach()[~mask].numpy().tolist()\n",
    "    ts_micro_f1 = f1_score(labels_test.reshape(-1)[~mask].numpy().tolist(),\n",
    "                        ts_pred_list,\n",
    "                        average=\"micro\")\n",
    "    ts_macro_f1 = f1_score(labels_test.reshape(-1)[~mask].numpy().tolist(),\n",
    "                        ts_pred_list,\n",
    "                        average=\"macro\")\n",
    "    print(\"ts_micro_f1={:.4f}, ts_macro_f1={:.4f}\".format(ts_micro_f1, ts_macro_f1))"
   ]
  },
  {
   "cell_type": "code",
   "execution_count": null,
   "metadata": {},
   "outputs": [],
   "source": []
  },
  {
   "cell_type": "code",
   "execution_count": null,
   "metadata": {},
   "outputs": [],
   "source": [
    "# Cheat add\n",
    "model.load_state_dict(best_state_dict, strict=False)\n",
    "model.eval()\n",
    "model = model.to(device)\n",
    "ft_embs_test = []\n",
    "labels_test = []\n",
    "logits_test = []\n",
    "log = defaultdict(list)\n",
    "num_cols = []\n",
    "threshold = 0.8\n",
    "corrected = 0\n",
    "total_mistakes = 0\n",
    "class_corrected ={k: 0 for k in class_context.keys()}\n",
    "class_mistakes = {k: 0 for k in class_context.keys()}\n",
    "for batch_idx, batch in enumerate(test_dataloader_iter):\n",
    "    cls_indexes = torch.LongTensor([[0, batch[\"cls_indexes\"].cpu().item()]]).to(device)\n",
    "    target_col_mask = batch[\"target_col_mask\"].T\n",
    "    logits = model(batch[\"data\"].T, cls_indexes=cls_indexes,)\n",
    "    num_cols.append(batch[\"target_col_mask\"].max().item())\n",
    "    label_i = batch[\"label\"].item()\n",
    "    if batch[\"target_col_mask\"].max().item() == 0:\n",
    "        if logits.argmax().item() != label_i:\n",
    "            class_mistakes[label_i] += 1\n",
    "            for temp_col in class_context[label_i]:\n",
    "                new_batch_data = torch.cat([batch[\"data\"].T[target_col_mask==0].reshape([1, -1]),temp_col.to(device)], dim=1)\n",
    "                cls_indexes = torch.tensor([[0, 0]]).to(device)\n",
    "                logits_temp = model(new_batch_data, cls_indexes=cls_indexes,)\n",
    "                if logits_temp.argmax().item() == batch[\"label\"].item():\n",
    "                    logits = logits_temp.clone()\n",
    "                    class_corrected[label_i] += 1\n",
    "                    break\n",
    "                \n",
    "    labels_test.append(batch[\"label\"].cpu())\n",
    "    logits_test.append(logits.detach().cpu())\n",
    "labels_test = torch.cat(labels_test, dim=0)\n",
    "logits_test = torch.stack(logits_test, dim=0)\n",
    "preds_test = torch.argmax(logits_test, dim=1)\n",
    "num_cols = torch.tensor(num_cols)\n",
    "\n",
    "\n",
    "\n",
    "\n",
    "from sklearn.metrics import confusion_matrix, f1_score\n",
    "mask = num_cols > 0\n",
    "ts_pred_list = logits_test.argmax(\n",
    "                            1).cpu().detach().numpy().tolist()\n",
    "ts_micro_f1 = f1_score(labels_test.reshape(-1).numpy().tolist(),\n",
    "                    ts_pred_list,\n",
    "                    average=\"micro\")\n",
    "ts_macro_f1 = f1_score(labels_test.reshape(-1).numpy().tolist(),\n",
    "                    ts_pred_list,\n",
    "                    average=\"macro\")\n",
    "print(\"ts_micro_f1={:.4f}, ts_macro_f1={:.4f}\".format(ts_micro_f1, ts_macro_f1))\n",
    "ts_pred_list = logits_test.argmax(\n",
    "                            1).cpu().detach()[mask].numpy().tolist()\n",
    "ts_micro_f1 = f1_score(labels_test.reshape(-1)[mask].numpy().tolist(),\n",
    "                    ts_pred_list,\n",
    "                    average=\"micro\")\n",
    "ts_macro_f1 = f1_score(labels_test.reshape(-1)[mask].numpy().tolist(),\n",
    "                    ts_pred_list,\n",
    "                    average=\"macro\")\n",
    "print(\"ts_micro_f1={:.4f}, ts_macro_f1={:.4f}\".format(ts_micro_f1, ts_macro_f1))\n",
    "ts_pred_list = logits_test.argmax(\n",
    "                            1).cpu().detach()[~mask].numpy().tolist()\n",
    "ts_micro_f1 = f1_score(labels_test.reshape(-1)[~mask].numpy().tolist(),\n",
    "                    ts_pred_list,\n",
    "                    average=\"micro\")\n",
    "ts_macro_f1 = f1_score(labels_test.reshape(-1)[~mask].numpy().tolist(),\n",
    "                    ts_pred_list,\n",
    "                    average=\"macro\")\n",
    "print(\"ts_micro_f1={:.4f}, ts_macro_f1={:.4f}\".format(ts_micro_f1, ts_macro_f1))"
   ]
  },
  {
   "cell_type": "code",
   "execution_count": null,
   "metadata": {},
   "outputs": [],
   "source": []
  },
  {
   "cell_type": "code",
   "execution_count": null,
   "metadata": {},
   "outputs": [],
   "source": []
  },
  {
   "cell_type": "code",
   "execution_count": null,
   "metadata": {},
   "outputs": [],
   "source": []
  },
  {
   "cell_type": "code",
   "execution_count": null,
   "metadata": {},
   "outputs": [],
   "source": []
  },
  {
   "cell_type": "code",
   "execution_count": null,
   "metadata": {},
   "outputs": [],
   "source": []
  },
  {
   "cell_type": "code",
   "execution_count": null,
   "metadata": {},
   "outputs": [],
   "source": []
  }
 ],
 "metadata": {
  "kernelspec": {
   "display_name": "jupyter",
   "language": "python",
   "name": "python3"
  },
  "language_info": {
   "codemirror_mode": {
    "name": "ipython",
    "version": 3
   },
   "file_extension": ".py",
   "mimetype": "text/x-python",
   "name": "python",
   "nbconvert_exporter": "python",
   "pygments_lexer": "ipython3",
   "version": "3.8.10"
  }
 },
 "nbformat": 4,
 "nbformat_minor": 2
}
