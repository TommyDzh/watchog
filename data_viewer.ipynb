{
 "cells": [
  {
   "cell_type": "code",
   "execution_count": 1,
   "metadata": {},
   "outputs": [],
   "source": [
    "import argparse\n",
    "import numpy as np\n",
    "import random\n",
    "import torch\n",
    "import os\n",
    "\n",
    "import torch\n",
    "import torch.distributed as dist\n",
    "import torch.multiprocessing as mp\n",
    "import torch.nn as nn\n",
    "import torch.optim as optim\n",
    "from torch.utils import data\n",
    "from torch.utils.data import Subset, DataLoader\n",
    "\n",
    "from transformers import AdamW, get_linear_schedule_with_warmup\n",
    "from typing import List\n",
    "import time\n",
    "from accelerate import Accelerator\n",
    "from accelerate import DistributedDataParallelKwargs\n",
    "\n",
    "from watchog.dataset import TableDataset, SupCLTableDataset\n",
    "from watchog.model import SupCLforTable, UnsupCLforTable, SupclLoss\n",
    "import wandb\n",
    "\n",
    "import numpy as np\n",
    "import pandas as pd\n",
    "from sklearn.metrics import f1_score\n",
    "import torch\n",
    "import seaborn as sns"
   ]
  },
  {
   "cell_type": "code",
   "execution_count": null,
   "metadata": {},
   "outputs": [],
   "source": []
  },
  {
   "cell_type": "code",
   "execution_count": 2,
   "metadata": {},
   "outputs": [],
   "source": [
    "    parser = argparse.ArgumentParser()\n",
    "    parser.add_argument(\"--model\", type=str, default=\"Watchog\") # simclr for original CL, supcon for CL using metadata\n",
    "    parser.add_argument(\"--pretrain_data\", type=str, default=\"wikitables\") # dataset for pretraining\n",
    "    parser.add_argument(\"--pretrained_model_path\", type=str, default=\"\") # pretrained checkpoint \n",
    "    parser.add_argument(\"--data_path\",type=str, default=\"/data/zhihao/TU/TURL/\")\n",
    "    parser.add_argument(\"--mode\", type=str, default=\"simclr\") # simclr for original CL, supcon for CL using metadata\n",
    "    parser.add_argument(\"--logdir\", type=str, default=\"/data/zhihao/TU/Watchog/model/\") # directory to store model checkpoints\n",
    "    parser.add_argument(\"--run_id\", type=int, default=0)\n",
    "    parser.add_argument(\"--batch_size\", type=int, default=32)\n",
    "    parser.add_argument(\"--max_len\", type=int, default=128)\n",
    "    parser.add_argument(\"--size\", type=int, default=10000)\n",
    "    parser.add_argument(\"--lr\", type=float, default=5e-5)\n",
    "    parser.add_argument(\"--n_epochs\", type=int, default=20)\n",
    "    parser.add_argument(\"--lm\", type=str, default='bert')\n",
    "    parser.add_argument(\"--projector\", type=int, default=768)\n",
    "    parser.add_argument(\"--augment_op\", type=str, default='sample_row4,sample_row4')\n",
    "    parser.add_argument(\"--table_order\", type=str, default='column')\n",
    "    parser.add_argument(\"--sample_meth\", type=str, default='tfidf_entity')\n",
    "    parser.add_argument(\"--temperature\", type=float, default=0.05)\n",
    "    parser.add_argument(\"--save_model\", type=int, default=5)\n",
    "    parser.add_argument(\"--fp16\", dest=\"fp16\", default=True, action=\"store_true\")\n",
    "    parser.add_argument(\"--gpus\", type=str, default=\"0\")\n",
    "    parser.add_argument(\"--single_column\", default=False)\n",
    "    \n",
    "    hp = parser.parse_args([])"
   ]
  },
  {
   "cell_type": "code",
   "execution_count": 11,
   "metadata": {},
   "outputs": [
    {
     "data": {
      "text/html": [
       "<div>\n",
       "<style scoped>\n",
       "    .dataframe tbody tr th:only-of-type {\n",
       "        vertical-align: middle;\n",
       "    }\n",
       "\n",
       "    .dataframe tbody tr th {\n",
       "        vertical-align: top;\n",
       "    }\n",
       "\n",
       "    .dataframe thead th {\n",
       "        text-align: right;\n",
       "    }\n",
       "</style>\n",
       "<table border=\"1\" class=\"dataframe\">\n",
       "  <thead>\n",
       "    <tr style=\"text-align: right;\">\n",
       "      <th></th>\n",
       "      <th>table_id</th>\n",
       "      <th>col_idx</th>\n",
       "      <th>class</th>\n",
       "      <th>class_id</th>\n",
       "      <th>data</th>\n",
       "    </tr>\n",
       "  </thead>\n",
       "  <tbody>\n",
       "  </tbody>\n",
       "</table>\n",
       "</div>"
      ],
      "text/plain": [
       "Empty DataFrame\n",
       "Columns: [table_id, col_idx, class, class_id, data]\n",
       "Index: []"
      ]
     },
     "execution_count": 11,
     "metadata": {},
     "output_type": "execute_result"
    }
   ],
   "source": [
    "df_train.sample(0)"
   ]
  },
  {
   "cell_type": "code",
   "execution_count": 3,
   "metadata": {},
   "outputs": [
    {
     "ename": "NameError",
     "evalue": "name 'BertTokenizer' is not defined",
     "output_type": "error",
     "traceback": [
      "\u001b[0;31m---------------------------------------------------------------------------\u001b[0m",
      "\u001b[0;31mNameError\u001b[0m                                 Traceback (most recent call last)",
      "Input \u001b[0;32mIn [3]\u001b[0m, in \u001b[0;36m<cell line: 1>\u001b[0;34m()\u001b[0m\n\u001b[0;32m----> 1\u001b[0m tokenizer \u001b[38;5;241m=\u001b[39m \u001b[43mBertTokenizer\u001b[49m\u001b[38;5;241m.\u001b[39mfrom_pretrained(shortcut_name)\n",
      "\u001b[0;31mNameError\u001b[0m: name 'BertTokenizer' is not defined"
     ]
    }
   ],
   "source": [
    "tokenizer = BertTokenizer.from_pretrained(shortcut_name)"
   ]
  },
  {
   "cell_type": "code",
   "execution_count": 6,
   "metadata": {},
   "outputs": [],
   "source": [
    "path = hp.data_path + '/train_tables.jsonl'\n",
    "trainset = TableDataset.from_hp(path, hp)"
   ]
  },
  {
   "cell_type": "code",
   "execution_count": 10,
   "metadata": {},
   "outputs": [
    {
     "name": "stdout",
     "output_type": "stream",
     "text": [
      "Number of tables:  10000\n"
     ]
    }
   ],
   "source": [
    "trainset.load_from_wikitables(path)"
   ]
  },
  {
   "cell_type": "code",
   "execution_count": 16,
   "metadata": {},
   "outputs": [
    {
     "data": {
      "text/plain": [
       "3"
      ]
     },
     "execution_count": 16,
     "metadata": {},
     "output_type": "execute_result"
    }
   ],
   "source": [
    "len(trainset[0])"
   ]
  },
  {
   "cell_type": "code",
   "execution_count": 18,
   "metadata": {},
   "outputs": [],
   "source": [
    "x_ori, x_aug, cls_indices = trainset[0]"
   ]
  },
  {
   "cell_type": "code",
   "execution_count": 20,
   "metadata": {},
   "outputs": [
    {
     "data": {
      "text/plain": [
       "<bound method TableDataset.pad of <watchog.dataset.TableDataset object at 0x7fcaccef0d00>>"
      ]
     },
     "execution_count": 20,
     "metadata": {},
     "output_type": "execute_result"
    }
   ],
   "source": [
    "trainset.pad"
   ]
  },
  {
   "cell_type": "code",
   "execution_count": 21,
   "metadata": {},
   "outputs": [],
   "source": [
    "    padder = trainset.pad\n",
    "    # create the DataLoaders\n",
    "    train_iter = data.DataLoader(dataset=trainset, shuffle=True,\n",
    "                                 batch_size=hp.batch_size,\n",
    "                                 collate_fn=padder)"
   ]
  },
  {
   "cell_type": "code",
   "execution_count": 23,
   "metadata": {},
   "outputs": [],
   "source": [
    "for data in train_iter:\n",
    "    x_ori, x_aug, cls_indices = data\n",
    "    break"
   ]
  },
  {
   "cell_type": "code",
   "execution_count": 27,
   "metadata": {},
   "outputs": [],
   "source": [
    "model = UnsupCLforTable(hp, lm=hp.lm)"
   ]
  },
  {
   "cell_type": "code",
   "execution_count": null,
   "metadata": {},
   "outputs": [],
   "source": []
  },
  {
   "cell_type": "markdown",
   "metadata": {},
   "source": [
    "# Ontology"
   ]
  },
  {
   "cell_type": "code",
   "execution_count": 17,
   "metadata": {},
   "outputs": [],
   "source": [
    "import numpy as np\n",
    "import pandas as pd\n",
    "from sklearn.metrics import f1_score\n",
    "import torch\n",
    "import seaborn as sns"
   ]
  },
  {
   "cell_type": "code",
   "execution_count": 46,
   "metadata": {},
   "outputs": [],
   "source": [
    "import glob\n",
    "table_names = glob.glob('/data/zhihao/TU/GitTables/semtab_gittables/2022/tables/*')"
   ]
  },
  {
   "cell_type": "code",
   "execution_count": 135,
   "metadata": {},
   "outputs": [
    {
     "data": {
      "text/plain": [
       "6892"
      ]
     },
     "execution_count": 135,
     "metadata": {},
     "output_type": "execute_result"
    }
   ],
   "source": [
    "len(table_names)"
   ]
  },
  {
   "cell_type": "code",
   "execution_count": 73,
   "metadata": {},
   "outputs": [],
   "source": [
    "import glob\n",
    "table_names_21 = glob.glob('/data/zhihao/TU/GitTables/semtab_gittables/2021/tables/*')"
   ]
  },
  {
   "cell_type": "code",
   "execution_count": 75,
   "metadata": {},
   "outputs": [
    {
     "data": {
      "text/plain": [
       "set()"
      ]
     },
     "execution_count": 75,
     "metadata": {},
     "output_type": "execute_result"
    }
   ],
   "source": [
    "set(table_names_21).intersection(set(table_names))"
   ]
  },
  {
   "cell_type": "code",
   "execution_count": 74,
   "metadata": {},
   "outputs": [
    {
     "data": {
      "text/plain": [
       "1101"
      ]
     },
     "execution_count": 74,
     "metadata": {},
     "output_type": "execute_result"
    }
   ],
   "source": [
    "len(table_names_21)"
   ]
  },
  {
   "cell_type": "code",
   "execution_count": 48,
   "metadata": {},
   "outputs": [
    {
     "data": {
      "text/plain": [
       "6892"
      ]
     },
     "execution_count": 48,
     "metadata": {},
     "output_type": "execute_result"
    }
   ],
   "source": [
    "len(table_names)"
   ]
  },
  {
   "cell_type": "code",
   "execution_count": 9,
   "metadata": {},
   "outputs": [],
   "source": [
    "import pickle\n",
    "dbpedia_ontology = pickle.load(open(\"/data/zhihao/TU/GitTables/dbpedia_20210528.pkl\", 'rb'))\n",
    "schema_ontology = pickle.load(open(\"/data/zhihao/TU/GitTables/schema_20210528.pkl\", 'rb'))"
   ]
  },
  {
   "cell_type": "code",
   "execution_count": 101,
   "metadata": {},
   "outputs": [],
   "source": [
    "df_table = pd.read_csv('/data/zhihao/TU/GitTables/semtab_gittables/2022/tables/GitTables_2727.csv')"
   ]
  },
  {
   "cell_type": "code",
   "execution_count": 103,
   "metadata": {},
   "outputs": [],
   "source": [
    "df_table = pd.read_csv('/data/zhihao/TU/GitTables/semtab_gittables/2022/tables/GitTables_6415.csv')"
   ]
  },
  {
   "cell_type": "code",
   "execution_count": 104,
   "metadata": {},
   "outputs": [
    {
     "data": {
      "text/html": [
       "<div>\n",
       "<style scoped>\n",
       "    .dataframe tbody tr th:only-of-type {\n",
       "        vertical-align: middle;\n",
       "    }\n",
       "\n",
       "    .dataframe tbody tr th {\n",
       "        vertical-align: top;\n",
       "    }\n",
       "\n",
       "    .dataframe thead th {\n",
       "        text-align: right;\n",
       "    }\n",
       "</style>\n",
       "<table border=\"1\" class=\"dataframe\">\n",
       "  <thead>\n",
       "    <tr style=\"text-align: right;\">\n",
       "      <th></th>\n",
       "      <th>col0</th>\n",
       "      <th>col1</th>\n",
       "      <th>col2</th>\n",
       "      <th>col3</th>\n",
       "    </tr>\n",
       "  </thead>\n",
       "  <tbody>\n",
       "    <tr>\n",
       "      <th>0</th>\n",
       "      <td>2990001</td>\n",
       "      <td>2250001</td>\n",
       "      <td>2070001</td>\n",
       "      <td>V1</td>\n",
       "    </tr>\n",
       "    <tr>\n",
       "      <th>1</th>\n",
       "      <td>2990002</td>\n",
       "      <td>2250001</td>\n",
       "      <td>2070002</td>\n",
       "      <td>V2</td>\n",
       "    </tr>\n",
       "    <tr>\n",
       "      <th>2</th>\n",
       "      <td>2990003</td>\n",
       "      <td>2250001</td>\n",
       "      <td>2070003</td>\n",
       "      <td>V3</td>\n",
       "    </tr>\n",
       "    <tr>\n",
       "      <th>3</th>\n",
       "      <td>2990004</td>\n",
       "      <td>2250001</td>\n",
       "      <td>2070005</td>\n",
       "      <td>V4</td>\n",
       "    </tr>\n",
       "    <tr>\n",
       "      <th>4</th>\n",
       "      <td>2990005</td>\n",
       "      <td>2250001</td>\n",
       "      <td>2070004</td>\n",
       "      <td>V4</td>\n",
       "    </tr>\n",
       "    <tr>\n",
       "      <th>5</th>\n",
       "      <td>2990006</td>\n",
       "      <td>2250001</td>\n",
       "      <td>2070010</td>\n",
       "      <td>V3</td>\n",
       "    </tr>\n",
       "    <tr>\n",
       "      <th>6</th>\n",
       "      <td>2990007</td>\n",
       "      <td>2250001</td>\n",
       "      <td>2070006</td>\n",
       "      <td>V5</td>\n",
       "    </tr>\n",
       "    <tr>\n",
       "      <th>7</th>\n",
       "      <td>2990008</td>\n",
       "      <td>2250001</td>\n",
       "      <td>2070007</td>\n",
       "      <td>V5</td>\n",
       "    </tr>\n",
       "    <tr>\n",
       "      <th>8</th>\n",
       "      <td>2990009</td>\n",
       "      <td>2250001</td>\n",
       "      <td>2070008</td>\n",
       "      <td>V5</td>\n",
       "    </tr>\n",
       "    <tr>\n",
       "      <th>9</th>\n",
       "      <td>2990011</td>\n",
       "      <td>2250001</td>\n",
       "      <td>2070012</td>\n",
       "      <td>V0</td>\n",
       "    </tr>\n",
       "    <tr>\n",
       "      <th>10</th>\n",
       "      <td>2990012</td>\n",
       "      <td>2250002</td>\n",
       "      <td>2070001</td>\n",
       "      <td>V1</td>\n",
       "    </tr>\n",
       "    <tr>\n",
       "      <th>11</th>\n",
       "      <td>2990013</td>\n",
       "      <td>2250002</td>\n",
       "      <td>2070011</td>\n",
       "      <td>V0</td>\n",
       "    </tr>\n",
       "    <tr>\n",
       "      <th>12</th>\n",
       "      <td>2990014</td>\n",
       "      <td>2250002</td>\n",
       "      <td>2070008</td>\n",
       "      <td>NaN</td>\n",
       "    </tr>\n",
       "    <tr>\n",
       "      <th>13</th>\n",
       "      <td>2990015</td>\n",
       "      <td>2250002</td>\n",
       "      <td>2070006</td>\n",
       "      <td>NaN</td>\n",
       "    </tr>\n",
       "    <tr>\n",
       "      <th>14</th>\n",
       "      <td>2990016</td>\n",
       "      <td>2250002</td>\n",
       "      <td>2070007</td>\n",
       "      <td>NaN</td>\n",
       "    </tr>\n",
       "    <tr>\n",
       "      <th>15</th>\n",
       "      <td>2990017</td>\n",
       "      <td>2250002</td>\n",
       "      <td>2070015</td>\n",
       "      <td>NaN</td>\n",
       "    </tr>\n",
       "    <tr>\n",
       "      <th>16</th>\n",
       "      <td>2990018</td>\n",
       "      <td>2250002</td>\n",
       "      <td>2070016</td>\n",
       "      <td>NaN</td>\n",
       "    </tr>\n",
       "    <tr>\n",
       "      <th>17</th>\n",
       "      <td>2990019</td>\n",
       "      <td>2250002</td>\n",
       "      <td>2070004</td>\n",
       "      <td>NaN</td>\n",
       "    </tr>\n",
       "    <tr>\n",
       "      <th>18</th>\n",
       "      <td>2990020</td>\n",
       "      <td>2250002</td>\n",
       "      <td>2070005</td>\n",
       "      <td>NaN</td>\n",
       "    </tr>\n",
       "  </tbody>\n",
       "</table>\n",
       "</div>"
      ],
      "text/plain": [
       "       col0     col1     col2 col3\n",
       "0   2990001  2250001  2070001   V1\n",
       "1   2990002  2250001  2070002   V2\n",
       "2   2990003  2250001  2070003   V3\n",
       "3   2990004  2250001  2070005   V4\n",
       "4   2990005  2250001  2070004   V4\n",
       "5   2990006  2250001  2070010   V3\n",
       "6   2990007  2250001  2070006   V5\n",
       "7   2990008  2250001  2070007   V5\n",
       "8   2990009  2250001  2070008   V5\n",
       "9   2990011  2250001  2070012   V0\n",
       "10  2990012  2250002  2070001   V1\n",
       "11  2990013  2250002  2070011   V0\n",
       "12  2990014  2250002  2070008  NaN\n",
       "13  2990015  2250002  2070006  NaN\n",
       "14  2990016  2250002  2070007  NaN\n",
       "15  2990017  2250002  2070015  NaN\n",
       "16  2990018  2250002  2070016  NaN\n",
       "17  2990019  2250002  2070004  NaN\n",
       "18  2990020  2250002  2070005  NaN"
      ]
     },
     "execution_count": 104,
     "metadata": {},
     "output_type": "execute_result"
    }
   ],
   "source": [
    "df_table"
   ]
  },
  {
   "cell_type": "code",
   "execution_count": 12,
   "metadata": {},
   "outputs": [],
   "source": [
    "df_target_train = pd.read_csv(\"/data/zhihao/TU/GitTables/semtab_gittables/2022/dbpedia_property_train.csv\")\n",
    "df_target_test = pd.read_csv(\"/data/zhihao/TU/GitTables/semtab_gittables/2022/dbpedia_property_targets.csv\")\n",
    "df_gt_2021 = pd.read_csv(\"/data/zhihao/TU/GitTables/semtab_gittables/2021/dbpedia_gt.csv\")\n",
    "df_target_2021 = pd.read_csv(\"/data/zhihao/TU/GitTables/semtab_gittables/2021/dbpedia_targets.csv\")"
   ]
  },
  {
   "cell_type": "code",
   "execution_count": 3,
   "metadata": {},
   "outputs": [],
   "source": [
    "\n",
    "from sklearn.model_selection import (\n",
    "    GroupKFold,\n",
    "    GroupShuffleSplit,\n",
    "    KFold,\n",
    "    ShuffleSplit,\n",
    "    StratifiedGroupKFold,\n",
    "    StratifiedKFold,\n",
    "    StratifiedShuffleSplit,\n",
    "    TimeSeriesSplit,\n",
    ")"
   ]
  },
  {
   "cell_type": "code",
   "execution_count": 14,
   "metadata": {},
   "outputs": [],
   "source": [
    "index = np.arange(len(df_target_train))\n",
    "labels = np.array([t.split(\"/\")[-1] for t in df_target_train[\"annotation_id\"].values])\n",
    "table_ids = np.array([int(t.split(\"_\")[-1]) for t in df_target_train[\"table_id\"].values])"
   ]
  },
  {
   "cell_type": "code",
   "execution_count": 20,
   "metadata": {},
   "outputs": [
    {
     "data": {
      "text/html": [
       "<div>\n",
       "<style scoped>\n",
       "    .dataframe tbody tr th:only-of-type {\n",
       "        vertical-align: middle;\n",
       "    }\n",
       "\n",
       "    .dataframe tbody tr th {\n",
       "        vertical-align: top;\n",
       "    }\n",
       "\n",
       "    .dataframe thead th {\n",
       "        text-align: right;\n",
       "    }\n",
       "</style>\n",
       "<table border=\"1\" class=\"dataframe\">\n",
       "  <thead>\n",
       "    <tr style=\"text-align: right;\">\n",
       "      <th></th>\n",
       "      <th>table_id</th>\n",
       "      <th>target_column</th>\n",
       "      <th>annotation_id</th>\n",
       "    </tr>\n",
       "  </thead>\n",
       "  <tbody>\n",
       "    <tr>\n",
       "      <th>3435</th>\n",
       "      <td>GitTables_102063</td>\n",
       "      <td>20</td>\n",
       "      <td>http://dbpedia.org/ontology/type</td>\n",
       "    </tr>\n",
       "    <tr>\n",
       "      <th>5767</th>\n",
       "      <td>GitTables_102063</td>\n",
       "      <td>6</td>\n",
       "      <td>http://dbpedia.org/ontology/time</td>\n",
       "    </tr>\n",
       "  </tbody>\n",
       "</table>\n",
       "</div>"
      ],
      "text/plain": [
       "              table_id  target_column                     annotation_id\n",
       "3435  GitTables_102063             20  http://dbpedia.org/ontology/type\n",
       "5767  GitTables_102063              6  http://dbpedia.org/ontology/time"
      ]
     },
     "execution_count": 20,
     "metadata": {},
     "output_type": "execute_result"
    }
   ],
   "source": [
    "df_target_train[df_target_train[\"table_id\"] == \"GitTables_102063\"]"
   ]
  },
  {
   "cell_type": "code",
   "execution_count": 17,
   "metadata": {},
   "outputs": [
    {
     "data": {
      "text/plain": [
       "True"
      ]
     },
     "execution_count": 17,
     "metadata": {},
     "output_type": "execute_result"
    }
   ],
   "source": [
    "102063 in table_ids"
   ]
  },
  {
   "cell_type": "code",
   "execution_count": 21,
   "metadata": {},
   "outputs": [
    {
     "data": {
      "text/plain": [
       "6227"
      ]
     },
     "execution_count": 21,
     "metadata": {},
     "output_type": "execute_result"
    }
   ],
   "source": [
    "1246*2+1245*3"
   ]
  },
  {
   "cell_type": "code",
   "execution_count": 36,
   "metadata": {},
   "outputs": [
    {
     "name": "stdout",
     "output_type": "stream",
     "text": [
      "TRAIN: 0 4981 TEST: 1246 0\n",
      "TRAIN: 1 4981 TEST: 1246 0\n",
      "TRAIN: 2 4982 TEST: 1245 0\n",
      "TRAIN: 3 4982 TEST: 1245 0\n",
      "TRAIN: 4 4982 TEST: 1245 0\n"
     ]
    }
   ],
   "source": [
    "sgkf = StratifiedGroupKFold(n_splits=5)\n",
    "sgkf.get_n_splits(index, labels)\n",
    "train_index_list = []\n",
    "test_index_list = []\n",
    "for i, (train_index, test_index) in enumerate(sgkf.split(index, labels, table_ids)):\n",
    "    train_index_list.append(train_index)\n",
    "    test_index_list.append(test_index)\n",
    "    print(\"TRAIN:\", i, len(train_index), \"TEST:\", len(test_index), len(set(table_ids[train_index]).intersection(set(table_ids[test_index]))))"
   ]
  },
  {
   "cell_type": "code",
   "execution_count": 73,
   "metadata": {},
   "outputs": [
    {
     "name": "stdout",
     "output_type": "stream",
     "text": [
      "[array([   1,    2,    5, ..., 6223, 6224, 6225]), array([   0,    1,    2, ..., 6224, 6225, 6226]), array([   0,    1,    3, ..., 6223, 6224, 6226]), array([   0,    1,    2, ..., 6224, 6225, 6226]), array([   0,    2,    3, ..., 6222, 6225, 6226])]\n"
     ]
    }
   ],
   "source": [
    "print(train_index_list)"
   ]
  },
  {
   "cell_type": "code",
   "execution_count": 76,
   "metadata": {},
   "outputs": [
    {
     "name": "stdout",
     "output_type": "stream",
     "text": [
      "[array([   1,    2,    5, ..., 6223, 6224, 6225]), array([   0,    1,    2, ..., 6224, 6225, 6226]), array([   0,    1,    3, ..., 6223, 6224, 6226]), array([   0,    1,    2, ..., 6224, 6225, 6226]), array([   0,    2,    3, ..., 6222, 6225, 6226])]\n"
     ]
    }
   ],
   "source": [
    "print(train_index_list)"
   ]
  },
  {
   "cell_type": "code",
   "execution_count": 125,
   "metadata": {},
   "outputs": [
    {
     "name": "stdout",
     "output_type": "stream",
     "text": [
      "0 0 819\n",
      "0 1 0\n",
      "0 2 0\n",
      "0 3 0\n",
      "0 4 0\n",
      "1 0 0\n",
      "1 1 822\n",
      "1 2 0\n",
      "1 3 0\n",
      "1 4 0\n",
      "2 0 0\n",
      "2 1 0\n",
      "2 2 818\n",
      "2 3 0\n",
      "2 4 0\n",
      "3 0 0\n",
      "3 1 0\n",
      "3 2 0\n",
      "3 3 817\n",
      "3 4 0\n",
      "4 0 0\n",
      "4 1 0\n",
      "4 2 0\n",
      "4 3 0\n",
      "4 4 821\n"
     ]
    }
   ],
   "source": [
    "# check whether index in two different folds are the same\n",
    "\n",
    "for i in range(5):\n",
    "    for j in range(5):\n",
    "        # print(i, j, len(set(test_index_list[i]).intersection(set(train_index_list[j]))))\n",
    "        # print(i, j, len(set(test_index_list[i]).intersection(set(test_index_list[j]))))\n",
    "        print(i, j, len(set(table_ids[test_index_list[i]]).intersection(set(table_ids[test_index_list[j]]))))"
   ]
  },
  {
   "cell_type": "code",
   "execution_count": 137,
   "metadata": {},
   "outputs": [
    {
     "name": "stdout",
     "output_type": "stream",
     "text": [
      "819\n",
      "822\n",
      "818\n",
      "817\n",
      "821\n"
     ]
    }
   ],
   "source": [
    "tables_num = 0\n",
    "for i in range(5):\n",
    "    print(len(set(table_ids[test_index_list[i]])))\n",
    "    tables_num += len(set(table_ids[test_index_list[i]]))"
   ]
  },
  {
   "cell_type": "code",
   "execution_count": 138,
   "metadata": {},
   "outputs": [
    {
     "data": {
      "text/plain": [
       "4097"
      ]
     },
     "execution_count": 138,
     "metadata": {},
     "output_type": "execute_result"
    }
   ],
   "source": [
    "tables_num"
   ]
  },
  {
   "cell_type": "code",
   "execution_count": 136,
   "metadata": {},
   "outputs": [
    {
     "data": {
      "text/plain": [
       "6892"
      ]
     },
     "execution_count": 136,
     "metadata": {},
     "output_type": "execute_result"
    }
   ],
   "source": [
    "len(table_names)"
   ]
  },
  {
   "cell_type": "code",
   "execution_count": 144,
   "metadata": {},
   "outputs": [],
   "source": []
  },
  {
   "cell_type": "code",
   "execution_count": 148,
   "metadata": {},
   "outputs": [
    {
     "data": {
      "text/plain": [
       "'GitTables_100277'"
      ]
     },
     "execution_count": 148,
     "metadata": {},
     "output_type": "execute_result"
    }
   ],
   "source": [
    "table_id"
   ]
  },
  {
   "cell_type": "code",
   "execution_count": 151,
   "metadata": {},
   "outputs": [
    {
     "data": {
      "text/plain": [
       "'col0'"
      ]
     },
     "execution_count": 151,
     "metadata": {},
     "output_type": "execute_result"
    }
   ],
   "source": [
    "table_df.columns[0]"
   ]
  },
  {
   "cell_type": "code",
   "execution_count": 166,
   "metadata": {},
   "outputs": [
    {
     "data": {
      "text/html": [
       "<div>\n",
       "<style scoped>\n",
       "    .dataframe tbody tr th:only-of-type {\n",
       "        vertical-align: middle;\n",
       "    }\n",
       "\n",
       "    .dataframe tbody tr th {\n",
       "        vertical-align: top;\n",
       "    }\n",
       "\n",
       "    .dataframe thead th {\n",
       "        text-align: right;\n",
       "    }\n",
       "</style>\n",
       "<table border=\"1\" class=\"dataframe\">\n",
       "  <thead>\n",
       "    <tr style=\"text-align: right;\">\n",
       "      <th></th>\n",
       "      <th>table_id</th>\n",
       "      <th>col_idx</th>\n",
       "      <th>class</th>\n",
       "      <th>class_id</th>\n",
       "      <th>data</th>\n",
       "    </tr>\n",
       "  </thead>\n",
       "  <tbody>\n",
       "    <tr>\n",
       "      <th>0</th>\n",
       "      <td>GitTables_100277</td>\n",
       "      <td>0</td>\n",
       "      <td>id</td>\n",
       "      <td>0</td>\n",
       "      <td>state_id_0 state_id_1 state_id_2 state_id_3 st...</td>\n",
       "    </tr>\n",
       "    <tr>\n",
       "      <th>1</th>\n",
       "      <td>GitTables_100277</td>\n",
       "      <td>1</td>\n",
       "      <td>name</td>\n",
       "      <td>1</td>\n",
       "      <td>Alytaus apskritis Kauno apskritis Klaipėdos ap...</td>\n",
       "    </tr>\n",
       "    <tr>\n",
       "      <th>2</th>\n",
       "      <td>GitTables_100277</td>\n",
       "      <td>2</td>\n",
       "      <td>NaN</td>\n",
       "      <td>-1</td>\n",
       "      <td>A K L M P S J T U V</td>\n",
       "    </tr>\n",
       "    <tr>\n",
       "      <th>3</th>\n",
       "      <td>GitTables_100277</td>\n",
       "      <td>3</td>\n",
       "      <td>NaN</td>\n",
       "      <td>-1</td>\n",
       "      <td>base.lt base.lt base.lt base.lt base.lt base.l...</td>\n",
       "    </tr>\n",
       "    <tr>\n",
       "      <th>4</th>\n",
       "      <td>GitTables_100850</td>\n",
       "      <td>0</td>\n",
       "      <td>NaN</td>\n",
       "      <td>-1</td>\n",
       "      <td>A1234582 13 A1234624 A1234595 A1234578 A123460...</td>\n",
       "    </tr>\n",
       "    <tr>\n",
       "      <th>...</th>\n",
       "      <td>...</td>\n",
       "      <td>...</td>\n",
       "      <td>...</td>\n",
       "      <td>...</td>\n",
       "      <td>...</td>\n",
       "    </tr>\n",
       "    <tr>\n",
       "      <th>10137</th>\n",
       "      <td>GitTables_99850</td>\n",
       "      <td>15</td>\n",
       "      <td>NaN</td>\n",
       "      <td>-1</td>\n",
       "      <td>0.0 0.0 0.0 0.0 0.0 0.0 0.0 0.0 0.0 0.0 -10.0 ...</td>\n",
       "    </tr>\n",
       "    <tr>\n",
       "      <th>10138</th>\n",
       "      <td>GitTables_99850</td>\n",
       "      <td>16</td>\n",
       "      <td>NaN</td>\n",
       "      <td>-1</td>\n",
       "      <td>rpm Nm rpm rpm KW KW W</td>\n",
       "    </tr>\n",
       "    <tr>\n",
       "      <th>10139</th>\n",
       "      <td>GitTables_99885</td>\n",
       "      <td>0</td>\n",
       "      <td>id</td>\n",
       "      <td>0</td>\n",
       "      <td>1 2 3 4 5 6 7 8 9 10 11 12 13 14 15 16 17 18 1...</td>\n",
       "    </tr>\n",
       "    <tr>\n",
       "      <th>10140</th>\n",
       "      <td>GitTables_99885</td>\n",
       "      <td>1</td>\n",
       "      <td>NaN</td>\n",
       "      <td>-1</td>\n",
       "      <td>1 1 1 1 1 1 1 1 1 1 1 1 1 1 3 3 3 3 3 3 3 3 3 ...</td>\n",
       "    </tr>\n",
       "    <tr>\n",
       "      <th>10141</th>\n",
       "      <td>GitTables_99885</td>\n",
       "      <td>2</td>\n",
       "      <td>NaN</td>\n",
       "      <td>-1</td>\n",
       "      <td>102 103 104 105 106 107 108 109 110 111 112 11...</td>\n",
       "    </tr>\n",
       "  </tbody>\n",
       "</table>\n",
       "<p>10142 rows × 5 columns</p>\n",
       "</div>"
      ],
      "text/plain": [
       "               table_id  col_idx class  class_id  \\\n",
       "0      GitTables_100277        0    id         0   \n",
       "1      GitTables_100277        1  name         1   \n",
       "2      GitTables_100277        2   NaN        -1   \n",
       "3      GitTables_100277        3   NaN        -1   \n",
       "4      GitTables_100850        0   NaN        -1   \n",
       "...                 ...      ...   ...       ...   \n",
       "10137   GitTables_99850       15   NaN        -1   \n",
       "10138   GitTables_99850       16   NaN        -1   \n",
       "10139   GitTables_99885        0    id         0   \n",
       "10140   GitTables_99885        1   NaN        -1   \n",
       "10141   GitTables_99885        2   NaN        -1   \n",
       "\n",
       "                                                    data  \n",
       "0      state_id_0 state_id_1 state_id_2 state_id_3 st...  \n",
       "1      Alytaus apskritis Kauno apskritis Klaipėdos ap...  \n",
       "2                                    A K L M P S J T U V  \n",
       "3      base.lt base.lt base.lt base.lt base.lt base.l...  \n",
       "4      A1234582 13 A1234624 A1234595 A1234578 A123460...  \n",
       "...                                                  ...  \n",
       "10137  0.0 0.0 0.0 0.0 0.0 0.0 0.0 0.0 0.0 0.0 -10.0 ...  \n",
       "10138                             rpm Nm rpm rpm KW KW W  \n",
       "10139  1 2 3 4 5 6 7 8 9 10 11 12 13 14 15 16 17 18 1...  \n",
       "10140  1 1 1 1 1 1 1 1 1 1 1 1 1 1 3 3 3 3 3 3 3 3 3 ...  \n",
       "10141  102 103 104 105 106 107 108 109 110 111 112 11...  \n",
       "\n",
       "[10142 rows x 5 columns]"
      ]
     },
     "execution_count": 166,
     "metadata": {},
     "output_type": "execute_result"
    }
   ],
   "source": [
    "df"
   ]
  },
  {
   "cell_type": "code",
   "execution_count": 209,
   "metadata": {},
   "outputs": [],
   "source": [
    "import os\n",
    "base_dirpath= \"/data/zhihao/TU/GitTables/semtab_gittables/2022\"\n",
    "basename = 'comma'+ \"_cv_{}.csv\"\n",
    "df_list = []\n",
    "for i in range(5):\n",
    "    filepath = os.path.join(base_dirpath, basename.format(i))\n",
    "    df_list.append(pd.read_csv(filepath))\n",
    "df_full = pd.concat(df_list, axis=0)"
   ]
  },
  {
   "cell_type": "code",
   "execution_count": null,
   "metadata": {},
   "outputs": [],
   "source": [
    "import os\n",
    "base_dirpath= \"/data/zhihao/TU/GitTables/semtab_gittables/2022\"\n",
    "basename = 'blank'+ \"_cv_{}.csv\"\n",
    "df_list = []\n",
    "for i in range(5):\n",
    "    filepath = os.path.join(base_dirpath, basename.format(i))\n",
    "    df_list.append(pd.read_csv(filepath))\n",
    "df_full = pd.concat(df_list, axis=0)"
   ]
  },
  {
   "cell_type": "code",
   "execution_count": 202,
   "metadata": {},
   "outputs": [
    {
     "data": {
      "text/plain": [
       "5794"
      ]
     },
     "execution_count": 202,
     "metadata": {},
     "output_type": "execute_result"
    }
   ],
   "source": [
    "(df_full[\"class_id\"] > -1).sum()"
   ]
  },
  {
   "cell_type": "code",
   "execution_count": 208,
   "metadata": {},
   "outputs": [
    {
     "data": {
      "text/plain": [
       "0.8841802262823332"
      ]
     },
     "execution_count": 208,
     "metadata": {},
     "output_type": "execute_result"
    }
   ],
   "source": [
    "1-5794/50026"
   ]
  },
  {
   "cell_type": "code",
   "execution_count": 210,
   "metadata": {},
   "outputs": [
    {
     "data": {
      "text/html": [
       "<div>\n",
       "<style scoped>\n",
       "    .dataframe tbody tr th:only-of-type {\n",
       "        vertical-align: middle;\n",
       "    }\n",
       "\n",
       "    .dataframe tbody tr th {\n",
       "        vertical-align: top;\n",
       "    }\n",
       "\n",
       "    .dataframe thead th {\n",
       "        text-align: right;\n",
       "    }\n",
       "</style>\n",
       "<table border=\"1\" class=\"dataframe\">\n",
       "  <thead>\n",
       "    <tr style=\"text-align: right;\">\n",
       "      <th></th>\n",
       "      <th>table_id</th>\n",
       "      <th>col_idx</th>\n",
       "      <th>class</th>\n",
       "      <th>class_id</th>\n",
       "      <th>data</th>\n",
       "    </tr>\n",
       "  </thead>\n",
       "  <tbody>\n",
       "    <tr>\n",
       "      <th>0</th>\n",
       "      <td>GitTables_100277</td>\n",
       "      <td>0</td>\n",
       "      <td>id</td>\n",
       "      <td>0</td>\n",
       "      <td>state_id_0,state_id_1,state_id_2,state_id_3,st...</td>\n",
       "    </tr>\n",
       "    <tr>\n",
       "      <th>1</th>\n",
       "      <td>GitTables_100277</td>\n",
       "      <td>1</td>\n",
       "      <td>name</td>\n",
       "      <td>1</td>\n",
       "      <td>Alytaus apskritis,Kauno apskritis,Klaipėdos ap...</td>\n",
       "    </tr>\n",
       "    <tr>\n",
       "      <th>2</th>\n",
       "      <td>GitTables_100277</td>\n",
       "      <td>2</td>\n",
       "      <td>NaN</td>\n",
       "      <td>-1</td>\n",
       "      <td>A,K,L,M,P,S,J,T,U,V</td>\n",
       "    </tr>\n",
       "    <tr>\n",
       "      <th>3</th>\n",
       "      <td>GitTables_100277</td>\n",
       "      <td>3</td>\n",
       "      <td>NaN</td>\n",
       "      <td>-1</td>\n",
       "      <td>base.lt,base.lt,base.lt,base.lt,base.lt,base.l...</td>\n",
       "    </tr>\n",
       "    <tr>\n",
       "      <th>4</th>\n",
       "      <td>GitTables_100850</td>\n",
       "      <td>0</td>\n",
       "      <td>NaN</td>\n",
       "      <td>-1</td>\n",
       "      <td>A1234582,13,A1234624,A1234595,A1234578,A123460...</td>\n",
       "    </tr>\n",
       "    <tr>\n",
       "      <th>...</th>\n",
       "      <td>...</td>\n",
       "      <td>...</td>\n",
       "      <td>...</td>\n",
       "      <td>...</td>\n",
       "      <td>...</td>\n",
       "    </tr>\n",
       "    <tr>\n",
       "      <th>10089</th>\n",
       "      <td>GitTables_99936</td>\n",
       "      <td>4</td>\n",
       "      <td>NaN</td>\n",
       "      <td>-1</td>\n",
       "      <td>2340,2469,2703,1996,1967,2519,2583,1976,2341,2...</td>\n",
       "    </tr>\n",
       "    <tr>\n",
       "      <th>10090</th>\n",
       "      <td>GitTables_99936</td>\n",
       "      <td>5</td>\n",
       "      <td>NaN</td>\n",
       "      <td>-1</td>\n",
       "      <td>11/09/18,11/09/18,11/09/18,11/09/18,11/09/18,1...</td>\n",
       "    </tr>\n",
       "    <tr>\n",
       "      <th>10091</th>\n",
       "      <td>GitTables_99936</td>\n",
       "      <td>6</td>\n",
       "      <td>price</td>\n",
       "      <td>24</td>\n",
       "      <td>2005.5,929.99,358.99,649.99,248.99,253.11,354....</td>\n",
       "    </tr>\n",
       "    <tr>\n",
       "      <th>10092</th>\n",
       "      <td>GitTables_99936</td>\n",
       "      <td>7</td>\n",
       "      <td>NaN</td>\n",
       "      <td>-1</td>\n",
       "      <td>11/15/18,11/15/18,11/15/18,11/15/18,11/15/18,1...</td>\n",
       "    </tr>\n",
       "    <tr>\n",
       "      <th>10093</th>\n",
       "      <td>GitTables_99936</td>\n",
       "      <td>8</td>\n",
       "      <td>NaN</td>\n",
       "      <td>-1</td>\n",
       "      <td>https://www.cpubenchmark.net/cpu.php?id=3092,h...</td>\n",
       "    </tr>\n",
       "  </tbody>\n",
       "</table>\n",
       "<p>50026 rows × 5 columns</p>\n",
       "</div>"
      ],
      "text/plain": [
       "               table_id  col_idx  class  class_id  \\\n",
       "0      GitTables_100277        0     id         0   \n",
       "1      GitTables_100277        1   name         1   \n",
       "2      GitTables_100277        2    NaN        -1   \n",
       "3      GitTables_100277        3    NaN        -1   \n",
       "4      GitTables_100850        0    NaN        -1   \n",
       "...                 ...      ...    ...       ...   \n",
       "10089   GitTables_99936        4    NaN        -1   \n",
       "10090   GitTables_99936        5    NaN        -1   \n",
       "10091   GitTables_99936        6  price        24   \n",
       "10092   GitTables_99936        7    NaN        -1   \n",
       "10093   GitTables_99936        8    NaN        -1   \n",
       "\n",
       "                                                    data  \n",
       "0      state_id_0,state_id_1,state_id_2,state_id_3,st...  \n",
       "1      Alytaus apskritis,Kauno apskritis,Klaipėdos ap...  \n",
       "2                                    A,K,L,M,P,S,J,T,U,V  \n",
       "3      base.lt,base.lt,base.lt,base.lt,base.lt,base.l...  \n",
       "4      A1234582,13,A1234624,A1234595,A1234578,A123460...  \n",
       "...                                                  ...  \n",
       "10089  2340,2469,2703,1996,1967,2519,2583,1976,2341,2...  \n",
       "10090  11/09/18,11/09/18,11/09/18,11/09/18,11/09/18,1...  \n",
       "10091  2005.5,929.99,358.99,649.99,248.99,253.11,354....  \n",
       "10092  11/15/18,11/15/18,11/15/18,11/15/18,11/15/18,1...  \n",
       "10093  https://www.cpubenchmark.net/cpu.php?id=3092,h...  \n",
       "\n",
       "[50026 rows x 5 columns]"
      ]
     },
     "execution_count": 210,
     "metadata": {},
     "output_type": "execute_result"
    }
   ],
   "source": [
    "df_full"
   ]
  },
  {
   "cell_type": "code",
   "execution_count": 192,
   "metadata": {},
   "outputs": [],
   "source": [
    "df = pd.read_csv(f\"/data/zhihao/TU/GitTables/semtab_gittables/2022/blank_cv_{1}.csv\")"
   ]
  },
  {
   "cell_type": "code",
   "execution_count": 205,
   "metadata": {},
   "outputs": [
    {
     "name": "stdout",
     "output_type": "stream",
     "text": [
      "193\n"
     ]
    },
    {
     "data": {
      "text/plain": [
       "<Axes: ylabel='Count'>"
      ]
     },
     "execution_count": 205,
     "metadata": {},
     "output_type": "execute_result"
    },
    {
     "data": {
      "image/png": "[encoded data removed]",
      "text/plain": [
       "<Figure size 432x288 with 1 Axes>"
      ]
     },
     "metadata": {
      "needs_background": "light"
     },
     "output_type": "display_data"
    }
   ],
   "source": [
    "df_group = df_full.groupby(\"table_id\")\n",
    "column_num = []\n",
    "for i, (index, group_df) in enumerate(df_group):\n",
    "    column_num.append(len(group_df))\n",
    "print(max(column_num))\n",
    "sns.histplot(column_num)"
   ]
  },
  {
   "cell_type": "code",
   "execution_count": 207,
   "metadata": {},
   "outputs": [
    {
     "name": "stdout",
     "output_type": "stream",
     "text": [
      "7\n"
     ]
    },
    {
     "data": {
      "text/plain": [
       "<Axes: ylabel='Count'>"
      ]
     },
     "execution_count": 207,
     "metadata": {},
     "output_type": "execute_result"
    },
    {
     "data": {
      "image/png": "[encoded data removed]",
      "text/plain": [
       "<Figure size 432x288 with 1 Axes>"
      ]
     },
     "metadata": {
      "needs_background": "light"
     },
     "output_type": "display_data"
    }
   ],
   "source": [
    "\n",
    "df_group = df_full.groupby(\"table_id\")\n",
    "column_num = []\n",
    "for i, (index, group_df) in enumerate(df_group):\n",
    "    group_df = group_df[group_df[\"class_id\"] > -1]\n",
    "    if len(group_df) == 0:\n",
    "        continue\n",
    "    column_num.append(len(group_df))\n",
    "print(max(column_num))\n",
    "sns.histplot(column_num) # TODO: why there is zero"
   ]
  },
  {
   "cell_type": "code",
   "execution_count": 182,
   "metadata": {},
   "outputs": [
    {
     "data": {
      "text/plain": [
       "-1      8979\n",
       " 0       264\n",
       " 1       146\n",
       " 2        63\n",
       " 3        53\n",
       "        ... \n",
       " 96        1\n",
       " 97        2\n",
       " 98        1\n",
       " 99        1\n",
       " 100       1\n",
       "Name: class_id, Length: 102, dtype: int64"
      ]
     },
     "execution_count": 182,
     "metadata": {},
     "output_type": "execute_result"
    }
   ],
   "source": [
    "df[\"class_id\"].value_counts().sort_index()"
   ]
  },
  {
   "cell_type": "code",
   "execution_count": 189,
   "metadata": {},
   "outputs": [
    {
     "data": {
      "text/plain": [
       "-1      9098\n",
       " 0       262\n",
       " 1       146\n",
       " 2        60\n",
       " 3        52\n",
       "        ... \n",
       " 96        1\n",
       " 97        2\n",
       " 98        2\n",
       " 99        2\n",
       " 100       2\n",
       "Name: class_id, Length: 102, dtype: int64"
      ]
     },
     "execution_count": 189,
     "metadata": {},
     "output_type": "execute_result"
    }
   ],
   "source": [
    "df[\"class_id\"].value_counts().sort_index()"
   ]
  },
  {
   "cell_type": "code",
   "execution_count": 185,
   "metadata": {},
   "outputs": [
    {
     "data": {
      "text/plain": [
       "101"
      ]
     },
     "execution_count": 185,
     "metadata": {},
     "output_type": "execute_result"
    }
   ],
   "source": [
    "len(types)"
   ]
  },
  {
   "cell_type": "code",
   "execution_count": 184,
   "metadata": {},
   "outputs": [
    {
     "name": "stdout",
     "output_type": "stream",
     "text": [
      "0.8853283376059948\n"
     ]
    },
    {
     "data": {
      "text/plain": [
       "<Axes: >"
      ]
     },
     "execution_count": 184,
     "metadata": {},
     "output_type": "execute_result"
    },
    {
     "data": {
      "image/png": "[encoded data removed]",
      "text/plain": [
       "<Figure size 432x288 with 1 Axes>"
      ]
     },
     "metadata": {
      "needs_background": "light"
     },
     "output_type": "display_data"
    }
   ],
   "source": [
    "class_samples = df[\"class_id\"].value_counts().sort_index().values[1:]\n",
    "print(df[\"class_id\"].value_counts().sort_index().values[0]/sum(df[\"class_id\"].value_counts().sort_index().values))\n",
    "sns.barplot(x=np.arange(len(class_samples)), y=class_samples)"
   ]
  },
  {
   "cell_type": "code",
   "execution_count": 38,
   "metadata": {},
   "outputs": [
    {
     "data": {
      "text/plain": [
       "[array([   0,    3,    4, ..., 6210, 6211, 6226]),\n",
       " array([   9,   22,   27, ..., 6212, 6218, 6220]),\n",
       " array([   2,   12,   17, ..., 6217, 6222, 6225]),\n",
       " array([   7,    8,   10, ..., 6214, 6215, 6216]),\n",
       " array([   1,    5,    6, ..., 6221, 6223, 6224])]"
      ]
     },
     "execution_count": 38,
     "metadata": {},
     "output_type": "execute_result"
    }
   ],
   "source": [
    "test_index_list"
   ]
  },
  {
   "cell_type": "code",
   "execution_count": 39,
   "metadata": {},
   "outputs": [
    {
     "data": {
      "text/html": [
       "<div>\n",
       "<style scoped>\n",
       "    .dataframe tbody tr th:only-of-type {\n",
       "        vertical-align: middle;\n",
       "    }\n",
       "\n",
       "    .dataframe tbody tr th {\n",
       "        vertical-align: top;\n",
       "    }\n",
       "\n",
       "    .dataframe thead th {\n",
       "        text-align: right;\n",
       "    }\n",
       "</style>\n",
       "<table border=\"1\" class=\"dataframe\">\n",
       "  <thead>\n",
       "    <tr style=\"text-align: right;\">\n",
       "      <th></th>\n",
       "      <th>table_id</th>\n",
       "      <th>col_idx</th>\n",
       "      <th>class</th>\n",
       "      <th>class_id</th>\n",
       "      <th>data</th>\n",
       "    </tr>\n",
       "  </thead>\n",
       "  <tbody>\n",
       "    <tr>\n",
       "      <th>0</th>\n",
       "      <td>GitTables_100277</td>\n",
       "      <td>0</td>\n",
       "      <td>id</td>\n",
       "      <td>0</td>\n",
       "      <td>state_id_0;state_id_1;state_id_2;state_id_3;st...</td>\n",
       "    </tr>\n",
       "    <tr>\n",
       "      <th>1</th>\n",
       "      <td>GitTables_100277</td>\n",
       "      <td>1</td>\n",
       "      <td>name</td>\n",
       "      <td>1</td>\n",
       "      <td>Alytaus apskritis;Kauno apskritis;Klaipėdos ap...</td>\n",
       "    </tr>\n",
       "    <tr>\n",
       "      <th>2</th>\n",
       "      <td>GitTables_100277</td>\n",
       "      <td>2</td>\n",
       "      <td>NaN</td>\n",
       "      <td>-1</td>\n",
       "      <td>A;K;L;M;P;S;J;T;U;V</td>\n",
       "    </tr>\n",
       "    <tr>\n",
       "      <th>3</th>\n",
       "      <td>GitTables_100277</td>\n",
       "      <td>3</td>\n",
       "      <td>NaN</td>\n",
       "      <td>-1</td>\n",
       "      <td>base.lt;base.lt;base.lt;base.lt;base.lt;base.l...</td>\n",
       "    </tr>\n",
       "    <tr>\n",
       "      <th>4</th>\n",
       "      <td>GitTables_100850</td>\n",
       "      <td>0</td>\n",
       "      <td>NaN</td>\n",
       "      <td>-1</td>\n",
       "      <td>A1234582;13;A1234624;A1234595;A1234578;A123460...</td>\n",
       "    </tr>\n",
       "    <tr>\n",
       "      <th>...</th>\n",
       "      <td>...</td>\n",
       "      <td>...</td>\n",
       "      <td>...</td>\n",
       "      <td>...</td>\n",
       "      <td>...</td>\n",
       "    </tr>\n",
       "    <tr>\n",
       "      <th>10137</th>\n",
       "      <td>GitTables_99850</td>\n",
       "      <td>15</td>\n",
       "      <td>NaN</td>\n",
       "      <td>-1</td>\n",
       "      <td>0.0;0.0;0.0;0.0;0.0;0.0;0.0;0.0;0.0;0.0;-10.0;...</td>\n",
       "    </tr>\n",
       "    <tr>\n",
       "      <th>10138</th>\n",
       "      <td>GitTables_99850</td>\n",
       "      <td>16</td>\n",
       "      <td>NaN</td>\n",
       "      <td>-1</td>\n",
       "      <td>rpm;Nm;rpm;rpm;KW;KW;W</td>\n",
       "    </tr>\n",
       "    <tr>\n",
       "      <th>10139</th>\n",
       "      <td>GitTables_99885</td>\n",
       "      <td>0</td>\n",
       "      <td>id</td>\n",
       "      <td>0</td>\n",
       "      <td>1;2;3;4;5;6;7;8;9;10;11;12;13;14;15;16;17;18;1...</td>\n",
       "    </tr>\n",
       "    <tr>\n",
       "      <th>10140</th>\n",
       "      <td>GitTables_99885</td>\n",
       "      <td>1</td>\n",
       "      <td>NaN</td>\n",
       "      <td>-1</td>\n",
       "      <td>1;1;1;1;1;1;1;1;1;1;1;1;1;1;3;3;3;3;3;3;3;3;3;...</td>\n",
       "    </tr>\n",
       "    <tr>\n",
       "      <th>10141</th>\n",
       "      <td>GitTables_99885</td>\n",
       "      <td>2</td>\n",
       "      <td>NaN</td>\n",
       "      <td>-1</td>\n",
       "      <td>102;103;104;105;106;107;108;109;110;111;112;11...</td>\n",
       "    </tr>\n",
       "  </tbody>\n",
       "</table>\n",
       "<p>10142 rows × 5 columns</p>\n",
       "</div>"
      ],
      "text/plain": [
       "               table_id  col_idx class  class_id  \\\n",
       "0      GitTables_100277        0    id         0   \n",
       "1      GitTables_100277        1  name         1   \n",
       "2      GitTables_100277        2   NaN        -1   \n",
       "3      GitTables_100277        3   NaN        -1   \n",
       "4      GitTables_100850        0   NaN        -1   \n",
       "...                 ...      ...   ...       ...   \n",
       "10137   GitTables_99850       15   NaN        -1   \n",
       "10138   GitTables_99850       16   NaN        -1   \n",
       "10139   GitTables_99885        0    id         0   \n",
       "10140   GitTables_99885        1   NaN        -1   \n",
       "10141   GitTables_99885        2   NaN        -1   \n",
       "\n",
       "                                                    data  \n",
       "0      state_id_0;state_id_1;state_id_2;state_id_3;st...  \n",
       "1      Alytaus apskritis;Kauno apskritis;Klaipėdos ap...  \n",
       "2                                    A;K;L;M;P;S;J;T;U;V  \n",
       "3      base.lt;base.lt;base.lt;base.lt;base.lt;base.l...  \n",
       "4      A1234582;13;A1234624;A1234595;A1234578;A123460...  \n",
       "...                                                  ...  \n",
       "10137  0.0;0.0;0.0;0.0;0.0;0.0;0.0;0.0;0.0;0.0;-10.0;...  \n",
       "10138                             rpm;Nm;rpm;rpm;KW;KW;W  \n",
       "10139  1;2;3;4;5;6;7;8;9;10;11;12;13;14;15;16;17;18;1...  \n",
       "10140  1;1;1;1;1;1;1;1;1;1;1;1;1;1;3;3;3;3;3;3;3;3;3;...  \n",
       "10141  102;103;104;105;106;107;108;109;110;111;112;11...  \n",
       "\n",
       "[10142 rows x 5 columns]"
      ]
     },
     "execution_count": 39,
     "metadata": {},
     "output_type": "execute_result"
    }
   ],
   "source": [
    "df_test"
   ]
  },
  {
   "cell_type": "code",
   "execution_count": 42,
   "metadata": {},
   "outputs": [
    {
     "data": {
      "text/html": [
       "<div>\n",
       "<style scoped>\n",
       "    .dataframe tbody tr th:only-of-type {\n",
       "        vertical-align: middle;\n",
       "    }\n",
       "\n",
       "    .dataframe tbody tr th {\n",
       "        vertical-align: top;\n",
       "    }\n",
       "\n",
       "    .dataframe thead th {\n",
       "        text-align: right;\n",
       "    }\n",
       "</style>\n",
       "<table border=\"1\" class=\"dataframe\">\n",
       "  <thead>\n",
       "    <tr style=\"text-align: right;\">\n",
       "      <th></th>\n",
       "      <th>table_id</th>\n",
       "      <th>target_column</th>\n",
       "      <th>annotation_id</th>\n",
       "    </tr>\n",
       "  </thead>\n",
       "  <tbody>\n",
       "    <tr>\n",
       "      <th>606</th>\n",
       "      <td>GitTables_83729</td>\n",
       "      <td>0</td>\n",
       "      <td>http://dbpedia.org/ontology/id</td>\n",
       "    </tr>\n",
       "  </tbody>\n",
       "</table>\n",
       "</div>"
      ],
      "text/plain": [
       "            table_id  target_column                   annotation_id\n",
       "606  GitTables_83729              0  http://dbpedia.org/ontology/id"
      ]
     },
     "execution_count": 42,
     "metadata": {},
     "output_type": "execute_result"
    }
   ],
   "source": [
    "group"
   ]
  },
  {
   "cell_type": "code",
   "execution_count": 43,
   "metadata": {},
   "outputs": [
    {
     "data": {
      "text/plain": [
       "'GitTables_83729'"
      ]
     },
     "execution_count": 43,
     "metadata": {},
     "output_type": "execute_result"
    }
   ],
   "source": [
    "table_id"
   ]
  },
  {
   "cell_type": "code",
   "execution_count": null,
   "metadata": {},
   "outputs": [],
   "source": [
    "# TODO: clean invalid tables"
   ]
  },
  {
   "cell_type": "code",
   "execution_count": 45,
   "metadata": {},
   "outputs": [
    {
     "name": "stdout",
     "output_type": "stream",
     "text": [
      "GitTables_102063\n"
     ]
    }
   ],
   "source": [
    "type2id[\"NaN\"] = -1\n",
    "id2type[-1] = \"NaN\"\n",
    "null_table = []\n",
    "for cv in range(5):\n",
    "    test_index = test_index_list[cv]\n",
    "    fold_df = df_target_train.iloc[test_index]\n",
    "    fold_group = fold_df.groupby(\"table_id\")\n",
    "    data_list = []\n",
    "    for table_id, group in fold_group:\n",
    "        table_df = pd.read_csv(f\"/data/zhihao/TU/GitTables/semtab_gittables/2022/tables/{table_id}.csv\")\n",
    "        target_column = group[\"target_column\"].values.tolist()\n",
    "        target_label = [t.split(\"/\")[-1] for t in group[\"annotation_id\"].values]\n",
    "        if len(table_df.iloc[:, target_column].dropna()) == 0:\n",
    "            null_table.append(table_id)\n",
    "            continue # skip tables without target columns\n",
    "        for i in range(len(table_df.columns)):\n",
    "            if len(table_df.iloc[:, i].dropna()) > 0:\n",
    "                # At least one non-NaN data should be there\n",
    "                label = target_label[target_column.index(i)] if i in target_column else \"NaN\"\n",
    "                class_id = type2id[label]\n",
    "                data_list.append([table_id,\n",
    "                                    i,\n",
    "                                    label,\n",
    "                                    class_id,\n",
    "                                    \" \".join([str(x) for x in table_df.iloc[:, i].dropna().tolist()])])\n",
    "    df = pd.DataFrame(data_list, columns=[\"table_id\", \"col_idx\", \"class\", \"class_id\", \"data\"])\n",
    "    df.to_csv(\"/data/zhihao/TU/GitTables/semtab_gittables/2022/blank_cv_{}.csv\".format(cv), index=False)\n",
    "        "
   ]
  },
  {
   "cell_type": "code",
   "execution_count": 57,
   "metadata": {},
   "outputs": [
    {
     "name": "stdout",
     "output_type": "stream",
     "text": [
      "0 750 1085 101\n",
      "1 755 1110 101\n",
      "2 746 1091 101\n",
      "3 745 1078 99\n",
      "4 741 1069 99\n"
     ]
    }
   ],
   "source": [
    "\n",
    "base_dirpath = \"/data/zhihao/TU/GitTables/semtab_gittables/2022/\"\n",
    "seperator = \"blank\"\n",
    "basename = seperator+\"_cv_{}.csv\"\n",
    "df_list = []\n",
    "for i in range(5):\n",
    "    filepath = os.path.join(base_dirpath, basename.format(i))\n",
    "    df_cv = pd.read_csv(filepath)\n",
    "    print(i, df_cv[\"table_id\"].unique().shape[0], len(df_cv[df_cv[\"class_id\"]>-1]), df_cv[df_cv[\"class_id\"]>-1][\"class_id\"].unique().shape[0])"
   ]
  },
  {
   "cell_type": "code",
   "execution_count": 46,
   "metadata": {},
   "outputs": [
    {
     "data": {
      "text/plain": [
       "360"
      ]
     },
     "execution_count": 46,
     "metadata": {},
     "output_type": "execute_result"
    }
   ],
   "source": [
    "len(null_table)"
   ]
  },
  {
   "cell_type": "code",
   "execution_count": null,
   "metadata": {},
   "outputs": [],
   "source": []
  },
  {
   "cell_type": "code",
   "execution_count": 169,
   "metadata": {},
   "outputs": [],
   "source": [
    "type2id[\"NaN\"] = -1\n",
    "id2type[-1] = \"NaN\"\n",
    "null_table = []\n",
    "for cv in range(5):\n",
    "    test_index = test_index_list[cv]\n",
    "    fold_df = df_target_train.iloc[test_index]\n",
    "    fold_group = fold_df.groupby(\"table_id\")\n",
    "    data_list = []\n",
    "    for table_id, group in fold_group:\n",
    "        table_df = pd.read_csv(f\"/data/zhihao/TU/GitTables/semtab_gittables/2022/tables/{table_id}.csv\")\n",
    "        target_column = group[\"target_column\"].values.tolist()\n",
    "        target_label = [t.split(\"/\")[-1] for t in group[\"annotation_id\"].values]\n",
    "        if len(table_df.iloc[:, target_column].dropna()) == 0:\n",
    "            null_table.append(table_id)\n",
    "            continue # skip tables without target columns\n",
    "        for i in range(len(table_df.columns)):\n",
    "            if len(table_df.iloc[:, i].dropna()) > 0:\n",
    "                # At least one non-NaN data should be there\n",
    "                label = target_label[target_column.index(i)] if i in target_column else \"NaN\"\n",
    "                class_id = type2id[label]\n",
    "                data_list.append([table_id,\n",
    "                                    i,\n",
    "                                    label,\n",
    "                                    class_id,\n",
    "                                    \",\".join([str(x) for x in table_df.iloc[:, i].dropna().tolist()])])\n",
    "    df = pd.DataFrame(data_list, columns=[\"table_id\", \"col_idx\", \"class\", \"class_id\", \"data\"])\n",
    "    df.to_csv(\"/data/zhihao/TU/GitTables/semtab_gittables/2022/comma_cv_{}.csv\".format(cv), index=False)"
   ]
  },
  {
   "cell_type": "code",
   "execution_count": 79,
   "metadata": {},
   "outputs": [],
   "source": [
    "# comma1: replace comma in cells with space\n",
    "type2id[\"NaN\"] = -1\n",
    "id2type[-1] = \"NaN\"\n",
    "null_table = []\n",
    "for cv in range(5):\n",
    "    test_index = test_index_list[cv]\n",
    "    fold_df = df_target_train.iloc[test_index]\n",
    "    fold_group = fold_df.groupby(\"table_id\")\n",
    "    data_list = []\n",
    "    for table_id, group in fold_group:\n",
    "        table_df = pd.read_csv(f\"/data/zhihao/TU/GitTables/semtab_gittables/2022/tables/{table_id}.csv\")\n",
    "        target_column = group[\"target_column\"].values.tolist()\n",
    "        target_label = [t.split(\"/\")[-1] for t in group[\"annotation_id\"].values]\n",
    "        if len(table_df.iloc[:, target_column].dropna()) == 0:\n",
    "            null_table.append(table_id)\n",
    "            continue # skip tables without target columns        \n",
    "        for i in range(len(table_df.columns)):\n",
    "            if len(table_df.iloc[:, i].dropna()) > 0:\n",
    "                # At least one non-NaN data should be there\n",
    "                label = target_label[target_column.index(i)] if i in target_column else \"NaN\"\n",
    "                class_id = type2id[label]\n",
    "                data_list.append([table_id,\n",
    "                                    i,\n",
    "                                    label,\n",
    "                                    class_id,\n",
    "                                    \",\".join([str(x).replace(\",\", \" \") for x in table_df.iloc[:, i].dropna().tolist()])])\n",
    "    df = pd.DataFrame(data_list, columns=[\"table_id\", \"col_idx\", \"class\", \"class_id\", \"data\"])\n",
    "    df.to_csv(\"/data/zhihao/TU/GitTables/semtab_gittables/2022/comma1_cv_{}.csv\".format(cv), index=False)"
   ]
  },
  {
   "cell_type": "code",
   "execution_count": 59,
   "metadata": {},
   "outputs": [],
   "source": [
    "# semi: replace semi-comma in cells with comma\n",
    "# semi1: filter tables without valid target columns\n",
    "type2id[\"NaN\"] = -1\n",
    "id2type[-1] = \"NaN\"\n",
    "for cv in range(5):\n",
    "    test_index = test_index_list[cv]\n",
    "    fold_df = df_target_train.iloc[test_index]\n",
    "    fold_group = fold_df.groupby(\"table_id\")\n",
    "    data_list = []  \n",
    "    for table_id, group in fold_group:\n",
    "        table_df = pd.read_csv(f\"/data/zhihao/TU/GitTables/semtab_gittables/2022/tables/{table_id}.csv\")\n",
    "        target_column = group[\"target_column\"].values.tolist()\n",
    "        target_label = [t.split(\"/\")[-1] for t in group[\"annotation_id\"].values]\n",
    "        if len(table_df.iloc[:, target_column].dropna()) == 0:\n",
    "            null_table.append(table_id)\n",
    "            continue # skip tables without target columns           \n",
    "        for i in range(len(table_df.columns)):\n",
    "            if len(table_df.iloc[:, i].dropna()) > 0:\n",
    "                # At least one non-NaN data should be there\n",
    "                label = target_label[target_column.index(i)] if i in target_column else \"NaN\"\n",
    "                class_id = type2id[label]\n",
    "                data_list.append([table_id,\n",
    "                                    i,\n",
    "                                    label,\n",
    "                                    class_id,\n",
    "                                    \";\".join([str(x).replace(\";\", \",\") for x in table_df.iloc[:, i].dropna().tolist()])])\n",
    "    df = pd.DataFrame(data_list, columns=[\"table_id\", \"col_idx\", \"class\", \"class_id\", \"data\"])\n",
    "    df.to_csv(\"/data/zhihao/TU/GitTables/semtab_gittables/2022/semi1_cv_{}.csv\".format(cv), index=False)"
   ]
  },
  {
   "cell_type": "code",
   "execution_count": 60,
   "metadata": {},
   "outputs": [
    {
     "data": {
      "text/plain": [
       "64.0"
      ]
     },
     "execution_count": 60,
     "metadata": {},
     "output_type": "execute_result"
    }
   ],
   "source": [
    "512/8"
   ]
  },
  {
   "cell_type": "code",
   "execution_count": 64,
   "metadata": {},
   "outputs": [
    {
     "data": {
      "text/plain": [
       "'test train'"
      ]
     },
     "execution_count": 64,
     "metadata": {},
     "output_type": "execute_result"
    }
   ],
   "source": [
    "\"test,train\".replace(\",\", \" \")"
   ]
  },
  {
   "cell_type": "code",
   "execution_count": null,
   "metadata": {},
   "outputs": [],
   "source": []
  },
  {
   "cell_type": "code",
   "execution_count": null,
   "metadata": {},
   "outputs": [],
   "source": []
  },
  {
   "cell_type": "code",
   "execution_count": null,
   "metadata": {},
   "outputs": [],
   "source": []
  },
  {
   "cell_type": "code",
   "execution_count": 155,
   "metadata": {},
   "outputs": [
    {
     "data": {
      "text/plain": [
       "array(['http://dbpedia.org/ontology/name',\n",
       "       'http://dbpedia.org/ontology/id'], dtype=object)"
      ]
     },
     "execution_count": 155,
     "metadata": {},
     "output_type": "execute_result"
    }
   ],
   "source": [
    "group[\"annotation_id\"].values"
   ]
  },
  {
   "cell_type": "code",
   "execution_count": null,
   "metadata": {},
   "outputs": [],
   "source": [
    "group[\"target_column\"].values"
   ]
  },
  {
   "cell_type": "code",
   "execution_count": 152,
   "metadata": {},
   "outputs": [
    {
     "data": {
      "text/html": [
       "<div>\n",
       "<style scoped>\n",
       "    .dataframe tbody tr th:only-of-type {\n",
       "        vertical-align: middle;\n",
       "    }\n",
       "\n",
       "    .dataframe tbody tr th {\n",
       "        vertical-align: top;\n",
       "    }\n",
       "\n",
       "    .dataframe thead th {\n",
       "        text-align: right;\n",
       "    }\n",
       "</style>\n",
       "<table border=\"1\" class=\"dataframe\">\n",
       "  <thead>\n",
       "    <tr style=\"text-align: right;\">\n",
       "      <th></th>\n",
       "      <th>table_id</th>\n",
       "      <th>target_column</th>\n",
       "      <th>annotation_id</th>\n",
       "    </tr>\n",
       "  </thead>\n",
       "  <tbody>\n",
       "    <tr>\n",
       "      <th>793</th>\n",
       "      <td>GitTables_100277</td>\n",
       "      <td>1</td>\n",
       "      <td>http://dbpedia.org/ontology/name</td>\n",
       "    </tr>\n",
       "    <tr>\n",
       "      <th>1784</th>\n",
       "      <td>GitTables_100277</td>\n",
       "      <td>0</td>\n",
       "      <td>http://dbpedia.org/ontology/id</td>\n",
       "    </tr>\n",
       "  </tbody>\n",
       "</table>\n",
       "</div>"
      ],
      "text/plain": [
       "              table_id  target_column                     annotation_id\n",
       "793   GitTables_100277              1  http://dbpedia.org/ontology/name\n",
       "1784  GitTables_100277              0    http://dbpedia.org/ontology/id"
      ]
     },
     "execution_count": 152,
     "metadata": {},
     "output_type": "execute_result"
    }
   ],
   "source": [
    "group"
   ]
  },
  {
   "cell_type": "code",
   "execution_count": 150,
   "metadata": {},
   "outputs": [
    {
     "data": {
      "text/html": [
       "<div>\n",
       "<style scoped>\n",
       "    .dataframe tbody tr th:only-of-type {\n",
       "        vertical-align: middle;\n",
       "    }\n",
       "\n",
       "    .dataframe tbody tr th {\n",
       "        vertical-align: top;\n",
       "    }\n",
       "\n",
       "    .dataframe thead th {\n",
       "        text-align: right;\n",
       "    }\n",
       "</style>\n",
       "<table border=\"1\" class=\"dataframe\">\n",
       "  <thead>\n",
       "    <tr style=\"text-align: right;\">\n",
       "      <th></th>\n",
       "      <th>col0</th>\n",
       "      <th>col1</th>\n",
       "      <th>col2</th>\n",
       "      <th>col3</th>\n",
       "    </tr>\n",
       "  </thead>\n",
       "  <tbody>\n",
       "    <tr>\n",
       "      <th>0</th>\n",
       "      <td>state_id_0</td>\n",
       "      <td>Alytaus apskritis</td>\n",
       "      <td>A</td>\n",
       "      <td>base.lt</td>\n",
       "    </tr>\n",
       "    <tr>\n",
       "      <th>1</th>\n",
       "      <td>state_id_1</td>\n",
       "      <td>Kauno apskritis</td>\n",
       "      <td>K</td>\n",
       "      <td>base.lt</td>\n",
       "    </tr>\n",
       "    <tr>\n",
       "      <th>2</th>\n",
       "      <td>state_id_2</td>\n",
       "      <td>Klaipėdos apskritis</td>\n",
       "      <td>L</td>\n",
       "      <td>base.lt</td>\n",
       "    </tr>\n",
       "    <tr>\n",
       "      <th>3</th>\n",
       "      <td>state_id_3</td>\n",
       "      <td>Marijampolės apskritis</td>\n",
       "      <td>M</td>\n",
       "      <td>base.lt</td>\n",
       "    </tr>\n",
       "    <tr>\n",
       "      <th>4</th>\n",
       "      <td>state_id_4</td>\n",
       "      <td>Panevėžio apskritis</td>\n",
       "      <td>P</td>\n",
       "      <td>base.lt</td>\n",
       "    </tr>\n",
       "    <tr>\n",
       "      <th>5</th>\n",
       "      <td>state_id_5</td>\n",
       "      <td>Šiaulių apskritis</td>\n",
       "      <td>S</td>\n",
       "      <td>base.lt</td>\n",
       "    </tr>\n",
       "    <tr>\n",
       "      <th>6</th>\n",
       "      <td>state_id_6</td>\n",
       "      <td>Tauragės apskritis</td>\n",
       "      <td>J</td>\n",
       "      <td>base.lt</td>\n",
       "    </tr>\n",
       "    <tr>\n",
       "      <th>7</th>\n",
       "      <td>state_id_7</td>\n",
       "      <td>Telšių apskritis</td>\n",
       "      <td>T</td>\n",
       "      <td>base.lt</td>\n",
       "    </tr>\n",
       "    <tr>\n",
       "      <th>8</th>\n",
       "      <td>state_id_8</td>\n",
       "      <td>Utenos apskritis</td>\n",
       "      <td>U</td>\n",
       "      <td>base.lt</td>\n",
       "    </tr>\n",
       "    <tr>\n",
       "      <th>9</th>\n",
       "      <td>state_id_9</td>\n",
       "      <td>Vilniaus apskritis</td>\n",
       "      <td>V</td>\n",
       "      <td>base.lt</td>\n",
       "    </tr>\n",
       "  </tbody>\n",
       "</table>\n",
       "</div>"
      ],
      "text/plain": [
       "         col0                    col1 col2     col3\n",
       "0  state_id_0       Alytaus apskritis    A  base.lt\n",
       "1  state_id_1         Kauno apskritis    K  base.lt\n",
       "2  state_id_2     Klaipėdos apskritis    L  base.lt\n",
       "3  state_id_3  Marijampolės apskritis    M  base.lt\n",
       "4  state_id_4     Panevėžio apskritis    P  base.lt\n",
       "5  state_id_5       Šiaulių apskritis    S  base.lt\n",
       "6  state_id_6      Tauragės apskritis    J  base.lt\n",
       "7  state_id_7        Telšių apskritis    T  base.lt\n",
       "8  state_id_8        Utenos apskritis    U  base.lt\n",
       "9  state_id_9      Vilniaus apskritis    V  base.lt"
      ]
     },
     "execution_count": 150,
     "metadata": {},
     "output_type": "execute_result"
    }
   ],
   "source": [
    "table_df"
   ]
  },
  {
   "cell_type": "code",
   "execution_count": 147,
   "metadata": {},
   "outputs": [
    {
     "data": {
      "text/html": [
       "<div>\n",
       "<style scoped>\n",
       "    .dataframe tbody tr th:only-of-type {\n",
       "        vertical-align: middle;\n",
       "    }\n",
       "\n",
       "    .dataframe tbody tr th {\n",
       "        vertical-align: top;\n",
       "    }\n",
       "\n",
       "    .dataframe thead th {\n",
       "        text-align: right;\n",
       "    }\n",
       "</style>\n",
       "<table border=\"1\" class=\"dataframe\">\n",
       "  <thead>\n",
       "    <tr style=\"text-align: right;\">\n",
       "      <th></th>\n",
       "      <th>table_id</th>\n",
       "      <th>target_column</th>\n",
       "      <th>annotation_id</th>\n",
       "    </tr>\n",
       "  </thead>\n",
       "  <tbody>\n",
       "    <tr>\n",
       "      <th>793</th>\n",
       "      <td>GitTables_100277</td>\n",
       "      <td>1</td>\n",
       "      <td>http://dbpedia.org/ontology/name</td>\n",
       "    </tr>\n",
       "    <tr>\n",
       "      <th>1784</th>\n",
       "      <td>GitTables_100277</td>\n",
       "      <td>0</td>\n",
       "      <td>http://dbpedia.org/ontology/id</td>\n",
       "    </tr>\n",
       "  </tbody>\n",
       "</table>\n",
       "</div>"
      ],
      "text/plain": [
       "              table_id  target_column                     annotation_id\n",
       "793   GitTables_100277              1  http://dbpedia.org/ontology/name\n",
       "1784  GitTables_100277              0    http://dbpedia.org/ontology/id"
      ]
     },
     "execution_count": 147,
     "metadata": {},
     "output_type": "execute_result"
    }
   ],
   "source": [
    "group"
   ]
  },
  {
   "cell_type": "code",
   "execution_count": 146,
   "metadata": {},
   "outputs": [
    {
     "data": {
      "text/plain": [
       "'GitTables_100277'"
      ]
     },
     "execution_count": 146,
     "metadata": {},
     "output_type": "execute_result"
    }
   ],
   "source": [
    "table_id"
   ]
  },
  {
   "cell_type": "code",
   "execution_count": 140,
   "metadata": {},
   "outputs": [
    {
     "data": {
      "text/html": [
       "<div>\n",
       "<style scoped>\n",
       "    .dataframe tbody tr th:only-of-type {\n",
       "        vertical-align: middle;\n",
       "    }\n",
       "\n",
       "    .dataframe tbody tr th {\n",
       "        vertical-align: top;\n",
       "    }\n",
       "\n",
       "    .dataframe thead th {\n",
       "        text-align: right;\n",
       "    }\n",
       "</style>\n",
       "<table border=\"1\" class=\"dataframe\">\n",
       "  <thead>\n",
       "    <tr style=\"text-align: right;\">\n",
       "      <th></th>\n",
       "      <th>table_id</th>\n",
       "      <th>target_column</th>\n",
       "      <th>annotation_id</th>\n",
       "    </tr>\n",
       "  </thead>\n",
       "  <tbody>\n",
       "    <tr>\n",
       "      <th>0</th>\n",
       "      <td>GitTables_41549</td>\n",
       "      <td>4</td>\n",
       "      <td>http://dbpedia.org/ontology/rank</td>\n",
       "    </tr>\n",
       "    <tr>\n",
       "      <th>3</th>\n",
       "      <td>GitTables_73560</td>\n",
       "      <td>1</td>\n",
       "      <td>http://dbpedia.org/ontology/name</td>\n",
       "    </tr>\n",
       "    <tr>\n",
       "      <th>4</th>\n",
       "      <td>GitTables_116365</td>\n",
       "      <td>0</td>\n",
       "      <td>http://dbpedia.org/ontology/type</td>\n",
       "    </tr>\n",
       "    <tr>\n",
       "      <th>16</th>\n",
       "      <td>GitTables_86567</td>\n",
       "      <td>8</td>\n",
       "      <td>http://dbpedia.org/ontology/note</td>\n",
       "    </tr>\n",
       "    <tr>\n",
       "      <th>26</th>\n",
       "      <td>GitTables_111127</td>\n",
       "      <td>0</td>\n",
       "      <td>http://dbpedia.org/ontology/id</td>\n",
       "    </tr>\n",
       "    <tr>\n",
       "      <th>...</th>\n",
       "      <td>...</td>\n",
       "      <td>...</td>\n",
       "      <td>...</td>\n",
       "    </tr>\n",
       "    <tr>\n",
       "      <th>6208</th>\n",
       "      <td>GitTables_32892</td>\n",
       "      <td>6</td>\n",
       "      <td>http://dbpedia.org/ontology/prefix</td>\n",
       "    </tr>\n",
       "    <tr>\n",
       "      <th>6209</th>\n",
       "      <td>GitTables_20636</td>\n",
       "      <td>2</td>\n",
       "      <td>http://dbpedia.org/ontology/date</td>\n",
       "    </tr>\n",
       "    <tr>\n",
       "      <th>6210</th>\n",
       "      <td>GitTables_11975</td>\n",
       "      <td>0</td>\n",
       "      <td>http://dbpedia.org/ontology/id</td>\n",
       "    </tr>\n",
       "    <tr>\n",
       "      <th>6211</th>\n",
       "      <td>GitTables_2930</td>\n",
       "      <td>1</td>\n",
       "      <td>http://dbpedia.org/ontology/name</td>\n",
       "    </tr>\n",
       "    <tr>\n",
       "      <th>6226</th>\n",
       "      <td>GitTables_5764</td>\n",
       "      <td>0</td>\n",
       "      <td>http://dbpedia.org/ontology/id</td>\n",
       "    </tr>\n",
       "  </tbody>\n",
       "</table>\n",
       "<p>1246 rows × 3 columns</p>\n",
       "</div>"
      ],
      "text/plain": [
       "              table_id  target_column                       annotation_id\n",
       "0      GitTables_41549              4    http://dbpedia.org/ontology/rank\n",
       "3      GitTables_73560              1    http://dbpedia.org/ontology/name\n",
       "4     GitTables_116365              0    http://dbpedia.org/ontology/type\n",
       "16     GitTables_86567              8    http://dbpedia.org/ontology/note\n",
       "26    GitTables_111127              0      http://dbpedia.org/ontology/id\n",
       "...                ...            ...                                 ...\n",
       "6208   GitTables_32892              6  http://dbpedia.org/ontology/prefix\n",
       "6209   GitTables_20636              2    http://dbpedia.org/ontology/date\n",
       "6210   GitTables_11975              0      http://dbpedia.org/ontology/id\n",
       "6211    GitTables_2930              1    http://dbpedia.org/ontology/name\n",
       "6226    GitTables_5764              0      http://dbpedia.org/ontology/id\n",
       "\n",
       "[1246 rows x 3 columns]"
      ]
     },
     "execution_count": 140,
     "metadata": {},
     "output_type": "execute_result"
    }
   ],
   "source": [
    "type2id"
   ]
  },
  {
   "cell_type": "code",
   "execution_count": 133,
   "metadata": {},
   "outputs": [
    {
     "data": {
      "text/plain": [
       "1246"
      ]
     },
     "execution_count": 133,
     "metadata": {},
     "output_type": "execute_result"
    }
   ],
   "source": [
    "len(fold_df)"
   ]
  },
  {
   "cell_type": "code",
   "execution_count": null,
   "metadata": {},
   "outputs": [],
   "source": []
  },
  {
   "cell_type": "code",
   "execution_count": 109,
   "metadata": {},
   "outputs": [
    {
     "data": {
      "text/html": [
       "<div>\n",
       "<style scoped>\n",
       "    .dataframe tbody tr th:only-of-type {\n",
       "        vertical-align: middle;\n",
       "    }\n",
       "\n",
       "    .dataframe tbody tr th {\n",
       "        vertical-align: top;\n",
       "    }\n",
       "\n",
       "    .dataframe thead th {\n",
       "        text-align: right;\n",
       "    }\n",
       "</style>\n",
       "<table border=\"1\" class=\"dataframe\">\n",
       "  <thead>\n",
       "    <tr style=\"text-align: right;\">\n",
       "      <th></th>\n",
       "      <th>table_id</th>\n",
       "      <th>target_column</th>\n",
       "      <th>annotation_id</th>\n",
       "    </tr>\n",
       "  </thead>\n",
       "  <tbody>\n",
       "    <tr>\n",
       "      <th>0</th>\n",
       "      <td>GitTables_41549</td>\n",
       "      <td>4</td>\n",
       "      <td>http://dbpedia.org/ontology/rank</td>\n",
       "    </tr>\n",
       "    <tr>\n",
       "      <th>1</th>\n",
       "      <td>GitTables_120703</td>\n",
       "      <td>1</td>\n",
       "      <td>http://dbpedia.org/ontology/gender</td>\n",
       "    </tr>\n",
       "    <tr>\n",
       "      <th>2</th>\n",
       "      <td>GitTables_64793</td>\n",
       "      <td>2</td>\n",
       "      <td>http://dbpedia.org/ontology/description</td>\n",
       "    </tr>\n",
       "    <tr>\n",
       "      <th>3</th>\n",
       "      <td>GitTables_73560</td>\n",
       "      <td>1</td>\n",
       "      <td>http://dbpedia.org/ontology/name</td>\n",
       "    </tr>\n",
       "    <tr>\n",
       "      <th>4</th>\n",
       "      <td>GitTables_116365</td>\n",
       "      <td>0</td>\n",
       "      <td>http://dbpedia.org/ontology/type</td>\n",
       "    </tr>\n",
       "    <tr>\n",
       "      <th>...</th>\n",
       "      <td>...</td>\n",
       "      <td>...</td>\n",
       "      <td>...</td>\n",
       "    </tr>\n",
       "    <tr>\n",
       "      <th>6222</th>\n",
       "      <td>GitTables_125732</td>\n",
       "      <td>9</td>\n",
       "      <td>http://dbpedia.org/ontology/name</td>\n",
       "    </tr>\n",
       "    <tr>\n",
       "      <th>6223</th>\n",
       "      <td>GitTables_39435</td>\n",
       "      <td>6</td>\n",
       "      <td>http://dbpedia.org/ontology/duration</td>\n",
       "    </tr>\n",
       "    <tr>\n",
       "      <th>6224</th>\n",
       "      <td>GitTables_2204</td>\n",
       "      <td>13</td>\n",
       "      <td>http://dbpedia.org/ontology/date</td>\n",
       "    </tr>\n",
       "    <tr>\n",
       "      <th>6225</th>\n",
       "      <td>GitTables_76276</td>\n",
       "      <td>7</td>\n",
       "      <td>http://dbpedia.org/ontology/start</td>\n",
       "    </tr>\n",
       "    <tr>\n",
       "      <th>6226</th>\n",
       "      <td>GitTables_5764</td>\n",
       "      <td>0</td>\n",
       "      <td>http://dbpedia.org/ontology/id</td>\n",
       "    </tr>\n",
       "  </tbody>\n",
       "</table>\n",
       "<p>6227 rows × 3 columns</p>\n",
       "</div>"
      ],
      "text/plain": [
       "              table_id  target_column                            annotation_id\n",
       "0      GitTables_41549              4         http://dbpedia.org/ontology/rank\n",
       "1     GitTables_120703              1       http://dbpedia.org/ontology/gender\n",
       "2      GitTables_64793              2  http://dbpedia.org/ontology/description\n",
       "3      GitTables_73560              1         http://dbpedia.org/ontology/name\n",
       "4     GitTables_116365              0         http://dbpedia.org/ontology/type\n",
       "...                ...            ...                                      ...\n",
       "6222  GitTables_125732              9         http://dbpedia.org/ontology/name\n",
       "6223   GitTables_39435              6     http://dbpedia.org/ontology/duration\n",
       "6224    GitTables_2204             13         http://dbpedia.org/ontology/date\n",
       "6225   GitTables_76276              7        http://dbpedia.org/ontology/start\n",
       "6226    GitTables_5764              0           http://dbpedia.org/ontology/id\n",
       "\n",
       "[6227 rows x 3 columns]"
      ]
     },
     "execution_count": 109,
     "metadata": {},
     "output_type": "execute_result"
    }
   ],
   "source": [
    "df_target_train"
   ]
  },
  {
   "cell_type": "code",
   "execution_count": 81,
   "metadata": {},
   "outputs": [
    {
     "data": {
      "text/html": [
       "<div>\n",
       "<style scoped>\n",
       "    .dataframe tbody tr th:only-of-type {\n",
       "        vertical-align: middle;\n",
       "    }\n",
       "\n",
       "    .dataframe tbody tr th {\n",
       "        vertical-align: top;\n",
       "    }\n",
       "\n",
       "    .dataframe thead th {\n",
       "        text-align: right;\n",
       "    }\n",
       "</style>\n",
       "<table border=\"1\" class=\"dataframe\">\n",
       "  <thead>\n",
       "    <tr style=\"text-align: right;\">\n",
       "      <th></th>\n",
       "      <th>Unnamed: 0</th>\n",
       "      <th>table_id</th>\n",
       "      <th>target_column</th>\n",
       "      <th>annotation_id</th>\n",
       "      <th>annotation_label</th>\n",
       "    </tr>\n",
       "  </thead>\n",
       "  <tbody>\n",
       "    <tr>\n",
       "      <th>0</th>\n",
       "      <td>1904</td>\n",
       "      <td>GitTables_1501_dbpedia</td>\n",
       "      <td>6</td>\n",
       "      <td>http://dbpedia.org/ontology/author</td>\n",
       "      <td>author</td>\n",
       "    </tr>\n",
       "    <tr>\n",
       "      <th>1</th>\n",
       "      <td>1905</td>\n",
       "      <td>GitTables_1501_dbpedia</td>\n",
       "      <td>10</td>\n",
       "      <td>http://dbpedia.org/ontology/created</td>\n",
       "      <td>created</td>\n",
       "    </tr>\n",
       "    <tr>\n",
       "      <th>2</th>\n",
       "      <td>1906</td>\n",
       "      <td>GitTables_1501_dbpedia</td>\n",
       "      <td>0</td>\n",
       "      <td>http://dbpedia.org/ontology/id</td>\n",
       "      <td>id</td>\n",
       "    </tr>\n",
       "    <tr>\n",
       "      <th>3</th>\n",
       "      <td>1907</td>\n",
       "      <td>GitTables_1501_dbpedia</td>\n",
       "      <td>3</td>\n",
       "      <td>http://dbpedia.org/ontology/parent</td>\n",
       "      <td>parent</td>\n",
       "    </tr>\n",
       "    <tr>\n",
       "      <th>4</th>\n",
       "      <td>1908</td>\n",
       "      <td>GitTables_1501_dbpedia</td>\n",
       "      <td>7</td>\n",
       "      <td>http://dbpedia.org/ontology/title</td>\n",
       "      <td>title</td>\n",
       "    </tr>\n",
       "    <tr>\n",
       "      <th>...</th>\n",
       "      <td>...</td>\n",
       "      <td>...</td>\n",
       "      <td>...</td>\n",
       "      <td>...</td>\n",
       "      <td>...</td>\n",
       "    </tr>\n",
       "    <tr>\n",
       "      <th>2528</th>\n",
       "      <td>4432</td>\n",
       "      <td>GitTables_2994_dbpedia</td>\n",
       "      <td>14</td>\n",
       "      <td>http://dbpedia.org/ontology/fc</td>\n",
       "      <td>fc</td>\n",
       "    </tr>\n",
       "    <tr>\n",
       "      <th>2529</th>\n",
       "      <td>4433</td>\n",
       "      <td>GitTables_2995_dbpedia</td>\n",
       "      <td>0</td>\n",
       "      <td>http://dbpedia.org/ontology/id</td>\n",
       "      <td>id</td>\n",
       "    </tr>\n",
       "    <tr>\n",
       "      <th>2530</th>\n",
       "      <td>4434</td>\n",
       "      <td>GitTables_2995_dbpedia</td>\n",
       "      <td>1</td>\n",
       "      <td>http://dbpedia.org/ontology/name</td>\n",
       "      <td>name</td>\n",
       "    </tr>\n",
       "    <tr>\n",
       "      <th>2531</th>\n",
       "      <td>4435</td>\n",
       "      <td>GitTables_2998_dbpedia</td>\n",
       "      <td>7</td>\n",
       "      <td>http://dbpedia.org/ontology/comment</td>\n",
       "      <td>comment</td>\n",
       "    </tr>\n",
       "    <tr>\n",
       "      <th>2532</th>\n",
       "      <td>4436</td>\n",
       "      <td>GitTables_2998_dbpedia</td>\n",
       "      <td>8</td>\n",
       "      <td>http://dbpedia.org/ontology/min</td>\n",
       "      <td>min</td>\n",
       "    </tr>\n",
       "  </tbody>\n",
       "</table>\n",
       "<p>2533 rows × 5 columns</p>\n",
       "</div>"
      ],
      "text/plain": [
       "      Unnamed: 0                table_id  target_column  \\\n",
       "0           1904  GitTables_1501_dbpedia              6   \n",
       "1           1905  GitTables_1501_dbpedia             10   \n",
       "2           1906  GitTables_1501_dbpedia              0   \n",
       "3           1907  GitTables_1501_dbpedia              3   \n",
       "4           1908  GitTables_1501_dbpedia              7   \n",
       "...          ...                     ...            ...   \n",
       "2528        4432  GitTables_2994_dbpedia             14   \n",
       "2529        4433  GitTables_2995_dbpedia              0   \n",
       "2530        4434  GitTables_2995_dbpedia              1   \n",
       "2531        4435  GitTables_2998_dbpedia              7   \n",
       "2532        4436  GitTables_2998_dbpedia              8   \n",
       "\n",
       "                            annotation_id annotation_label  \n",
       "0      http://dbpedia.org/ontology/author           author  \n",
       "1     http://dbpedia.org/ontology/created          created  \n",
       "2          http://dbpedia.org/ontology/id               id  \n",
       "3      http://dbpedia.org/ontology/parent           parent  \n",
       "4       http://dbpedia.org/ontology/title            title  \n",
       "...                                   ...              ...  \n",
       "2528       http://dbpedia.org/ontology/fc               fc  \n",
       "2529       http://dbpedia.org/ontology/id               id  \n",
       "2530     http://dbpedia.org/ontology/name             name  \n",
       "2531  http://dbpedia.org/ontology/comment          comment  \n",
       "2532      http://dbpedia.org/ontology/min              min  \n",
       "\n",
       "[2533 rows x 5 columns]"
      ]
     },
     "execution_count": 81,
     "metadata": {},
     "output_type": "execute_result"
    }
   ],
   "source": [
    "df_gt_2021"
   ]
  },
  {
   "cell_type": "code",
   "execution_count": 95,
   "metadata": {},
   "outputs": [
    {
     "name": "stdout",
     "output_type": "stream",
     "text": [
      "122\n"
     ]
    }
   ],
   "source": [
    "classes_2021 = df_gt_2021['annotation_id'].unique()\n",
    "print(len(classes_2021))"
   ]
  },
  {
   "cell_type": "code",
   "execution_count": 82,
   "metadata": {},
   "outputs": [
    {
     "name": "stdout",
     "output_type": "stream",
     "text": [
      "822 822\n"
     ]
    },
    {
     "data": {
      "text/plain": [
       "822"
      ]
     },
     "execution_count": 82,
     "metadata": {},
     "output_type": "execute_result"
    }
   ],
   "source": [
    "print(len(df_gt_2021['table_id'].unique()), len(df_target_2021['table_id'].unique()))\n",
    "len(set(df_gt_2021['table_id'].unique()).intersection(set(df_target_2021['table_id'].unique()))) "
   ]
  },
  {
   "cell_type": "code",
   "execution_count": 86,
   "metadata": {},
   "outputs": [],
   "source": [
    "testset = [(i, j) for i,j in df_gt_2021[[\"table_id\", \"target_column\"]].values.tolist()]\n",
    "trainset = [(i, j) for i,j in df_target_2021[[\"table_id\", \"target_column\"]].values.tolist()]"
   ]
  },
  {
   "cell_type": "code",
   "execution_count": 90,
   "metadata": {},
   "outputs": [
    {
     "name": "stdout",
     "output_type": "stream",
     "text": [
      "2533 2533\n"
     ]
    },
    {
     "data": {
      "text/plain": [
       "2533"
      ]
     },
     "execution_count": 90,
     "metadata": {},
     "output_type": "execute_result"
    }
   ],
   "source": [
    "print(len(testset), len(trainset))\n",
    "len(set(testset).intersection(set(trainset)))"
   ]
  },
  {
   "cell_type": "code",
   "execution_count": 49,
   "metadata": {},
   "outputs": [
    {
     "name": "stdout",
     "output_type": "stream",
     "text": [
      "6227 6228\n"
     ]
    }
   ],
   "source": [
    "print(len(df_target_train), len(df_target_test))"
   ]
  },
  {
   "cell_type": "code",
   "execution_count": 39,
   "metadata": {},
   "outputs": [],
   "source": [
    "df_target_train_group = df_target_train.groupby('table_id')\n",
    "df_target_test_group = df_target_test.groupby('table_id')"
   ]
  },
  {
   "cell_type": "code",
   "execution_count": 41,
   "metadata": {},
   "outputs": [
    {
     "name": "stdout",
     "output_type": "stream",
     "text": [
      "4097\n",
      "4110\n"
     ]
    }
   ],
   "source": [
    "print(len(df_target_train_group))\n",
    "print(len(df_taroget_test_group))"
   ]
  },
  {
   "cell_type": "code",
   "execution_count": 72,
   "metadata": {},
   "outputs": [
    {
     "name": "stdout",
     "output_type": "stream",
     "text": [
      "4097 4110\n"
     ]
    },
    {
     "data": {
      "text/plain": [
       "2273"
      ]
     },
     "execution_count": 72,
     "metadata": {},
     "output_type": "execute_result"
    }
   ],
   "source": [
    "print(len(df_target_train['table_id'].unique()), len(df_target_test['table_id'].unique()))\n",
    "len(set(df_target_train['table_id'].unique()).intersection(set(df_target_test['table_id'].unique())))"
   ]
  },
  {
   "cell_type": "code",
   "execution_count": 70,
   "metadata": {},
   "outputs": [
    {
     "data": {
      "text/plain": [
       "<pandas.core.groupby.generic.DataFrameGroupBy object at 0x7fd61ffbbb50>"
      ]
     },
     "execution_count": 70,
     "metadata": {},
     "output_type": "execute_result"
    }
   ],
   "source": [
    "df_target_test_group"
   ]
  },
  {
   "cell_type": "code",
   "execution_count": 35,
   "metadata": {},
   "outputs": [],
   "source": [
    "column_num_train = []\n",
    "for i, (index, group_df) in enumerate(df_train_group):\n",
    "    column_num_train.append(len(group_df))"
   ]
  },
  {
   "cell_type": "code",
   "execution_count": 42,
   "metadata": {},
   "outputs": [
    {
     "data": {
      "text/html": [
       "<div>\n",
       "<style scoped>\n",
       "    .dataframe tbody tr th:only-of-type {\n",
       "        vertical-align: middle;\n",
       "    }\n",
       "\n",
       "    .dataframe tbody tr th {\n",
       "        vertical-align: top;\n",
       "    }\n",
       "\n",
       "    .dataframe thead th {\n",
       "        text-align: right;\n",
       "    }\n",
       "</style>\n",
       "<table border=\"1\" class=\"dataframe\">\n",
       "  <thead>\n",
       "    <tr style=\"text-align: right;\">\n",
       "      <th></th>\n",
       "      <th>table_id</th>\n",
       "      <th>target_column</th>\n",
       "    </tr>\n",
       "  </thead>\n",
       "  <tbody>\n",
       "    <tr>\n",
       "      <th>0</th>\n",
       "      <td>GitTables_112510</td>\n",
       "      <td>4</td>\n",
       "    </tr>\n",
       "    <tr>\n",
       "      <th>1</th>\n",
       "      <td>GitTables_86067</td>\n",
       "      <td>1</td>\n",
       "    </tr>\n",
       "    <tr>\n",
       "      <th>2</th>\n",
       "      <td>GitTables_169746</td>\n",
       "      <td>8</td>\n",
       "    </tr>\n",
       "    <tr>\n",
       "      <th>3</th>\n",
       "      <td>GitTables_47830</td>\n",
       "      <td>6</td>\n",
       "    </tr>\n",
       "    <tr>\n",
       "      <th>4</th>\n",
       "      <td>GitTables_55159</td>\n",
       "      <td>1</td>\n",
       "    </tr>\n",
       "    <tr>\n",
       "      <th>...</th>\n",
       "      <td>...</td>\n",
       "      <td>...</td>\n",
       "    </tr>\n",
       "    <tr>\n",
       "      <th>6223</th>\n",
       "      <td>GitTables_56256</td>\n",
       "      <td>0</td>\n",
       "    </tr>\n",
       "    <tr>\n",
       "      <th>6224</th>\n",
       "      <td>GitTables_172560</td>\n",
       "      <td>9</td>\n",
       "    </tr>\n",
       "    <tr>\n",
       "      <th>6225</th>\n",
       "      <td>GitTables_162328</td>\n",
       "      <td>3</td>\n",
       "    </tr>\n",
       "    <tr>\n",
       "      <th>6226</th>\n",
       "      <td>GitTables_160082</td>\n",
       "      <td>1</td>\n",
       "    </tr>\n",
       "    <tr>\n",
       "      <th>6227</th>\n",
       "      <td>GitTables_59524</td>\n",
       "      <td>17</td>\n",
       "    </tr>\n",
       "  </tbody>\n",
       "</table>\n",
       "<p>6228 rows × 2 columns</p>\n",
       "</div>"
      ],
      "text/plain": [
       "              table_id  target_column\n",
       "0     GitTables_112510              4\n",
       "1      GitTables_86067              1\n",
       "2     GitTables_169746              8\n",
       "3      GitTables_47830              6\n",
       "4      GitTables_55159              1\n",
       "...                ...            ...\n",
       "6223   GitTables_56256              0\n",
       "6224  GitTables_172560              9\n",
       "6225  GitTables_162328              3\n",
       "6226  GitTables_160082              1\n",
       "6227   GitTables_59524             17\n",
       "\n",
       "[6228 rows x 2 columns]"
      ]
     },
     "execution_count": 42,
     "metadata": {},
     "output_type": "execute_result"
    }
   ],
   "source": [
    "df_target_test"
   ]
  },
  {
   "cell_type": "code",
   "execution_count": 12,
   "metadata": {},
   "outputs": [
    {
     "data": {
      "text/html": [
       "<div>\n",
       "<style scoped>\n",
       "    .dataframe tbody tr th:only-of-type {\n",
       "        vertical-align: middle;\n",
       "    }\n",
       "\n",
       "    .dataframe tbody tr th {\n",
       "        vertical-align: top;\n",
       "    }\n",
       "\n",
       "    .dataframe thead th {\n",
       "        text-align: right;\n",
       "    }\n",
       "</style>\n",
       "<table border=\"1\" class=\"dataframe\">\n",
       "  <thead>\n",
       "    <tr style=\"text-align: right;\">\n",
       "      <th></th>\n",
       "      <th>table_id</th>\n",
       "      <th>target_column</th>\n",
       "      <th>annotation_id</th>\n",
       "    </tr>\n",
       "  </thead>\n",
       "  <tbody>\n",
       "    <tr>\n",
       "      <th>0</th>\n",
       "      <td>GitTables_41549</td>\n",
       "      <td>4</td>\n",
       "      <td>http://dbpedia.org/ontology/rank</td>\n",
       "    </tr>\n",
       "    <tr>\n",
       "      <th>1</th>\n",
       "      <td>GitTables_120703</td>\n",
       "      <td>1</td>\n",
       "      <td>http://dbpedia.org/ontology/gender</td>\n",
       "    </tr>\n",
       "    <tr>\n",
       "      <th>2</th>\n",
       "      <td>GitTables_64793</td>\n",
       "      <td>2</td>\n",
       "      <td>http://dbpedia.org/ontology/description</td>\n",
       "    </tr>\n",
       "    <tr>\n",
       "      <th>3</th>\n",
       "      <td>GitTables_73560</td>\n",
       "      <td>1</td>\n",
       "      <td>http://dbpedia.org/ontology/name</td>\n",
       "    </tr>\n",
       "    <tr>\n",
       "      <th>4</th>\n",
       "      <td>GitTables_116365</td>\n",
       "      <td>0</td>\n",
       "      <td>http://dbpedia.org/ontology/type</td>\n",
       "    </tr>\n",
       "    <tr>\n",
       "      <th>...</th>\n",
       "      <td>...</td>\n",
       "      <td>...</td>\n",
       "      <td>...</td>\n",
       "    </tr>\n",
       "    <tr>\n",
       "      <th>6222</th>\n",
       "      <td>GitTables_125732</td>\n",
       "      <td>9</td>\n",
       "      <td>http://dbpedia.org/ontology/name</td>\n",
       "    </tr>\n",
       "    <tr>\n",
       "      <th>6223</th>\n",
       "      <td>GitTables_39435</td>\n",
       "      <td>6</td>\n",
       "      <td>http://dbpedia.org/ontology/duration</td>\n",
       "    </tr>\n",
       "    <tr>\n",
       "      <th>6224</th>\n",
       "      <td>GitTables_2204</td>\n",
       "      <td>13</td>\n",
       "      <td>http://dbpedia.org/ontology/date</td>\n",
       "    </tr>\n",
       "    <tr>\n",
       "      <th>6225</th>\n",
       "      <td>GitTables_76276</td>\n",
       "      <td>7</td>\n",
       "      <td>http://dbpedia.org/ontology/start</td>\n",
       "    </tr>\n",
       "    <tr>\n",
       "      <th>6226</th>\n",
       "      <td>GitTables_5764</td>\n",
       "      <td>0</td>\n",
       "      <td>http://dbpedia.org/ontology/id</td>\n",
       "    </tr>\n",
       "  </tbody>\n",
       "</table>\n",
       "<p>6227 rows × 3 columns</p>\n",
       "</div>"
      ],
      "text/plain": [
       "              table_id  target_column                            annotation_id\n",
       "0      GitTables_41549              4         http://dbpedia.org/ontology/rank\n",
       "1     GitTables_120703              1       http://dbpedia.org/ontology/gender\n",
       "2      GitTables_64793              2  http://dbpedia.org/ontology/description\n",
       "3      GitTables_73560              1         http://dbpedia.org/ontology/name\n",
       "4     GitTables_116365              0         http://dbpedia.org/ontology/type\n",
       "...                ...            ...                                      ...\n",
       "6222  GitTables_125732              9         http://dbpedia.org/ontology/name\n",
       "6223   GitTables_39435              6     http://dbpedia.org/ontology/duration\n",
       "6224    GitTables_2204             13         http://dbpedia.org/ontology/date\n",
       "6225   GitTables_76276              7        http://dbpedia.org/ontology/start\n",
       "6226    GitTables_5764              0           http://dbpedia.org/ontology/id\n",
       "\n",
       "[6227 rows x 3 columns]"
      ]
     },
     "execution_count": 12,
     "metadata": {},
     "output_type": "execute_result"
    }
   ],
   "source": [
    "df_train"
   ]
  },
  {
   "cell_type": "code",
   "execution_count": 15,
   "metadata": {},
   "outputs": [
    {
     "data": {
      "text/plain": [
       "http://dbpedia.org/ontology/id             1365\n",
       "http://dbpedia.org/ontology/name            742\n",
       "http://dbpedia.org/ontology/description     367\n",
       "http://dbpedia.org/ontology/type            269\n",
       "http://dbpedia.org/ontology/title           170\n",
       "                                           ... \n",
       "http://dbpedia.org/ontology/tag               9\n",
       "http://dbpedia.org/ontology/owner             9\n",
       "http://dbpedia.org/ontology/party             9\n",
       "http://dbpedia.org/ontology/period            8\n",
       "http://dbpedia.org/ontology/result            6\n",
       "Name: annotation_id, Length: 101, dtype: int64"
      ]
     },
     "execution_count": 15,
     "metadata": {},
     "output_type": "execute_result"
    }
   ],
   "source": [
    "df_train[\"annotation_id\"].value_counts()"
   ]
  },
  {
   "cell_type": "code",
   "execution_count": 13,
   "metadata": {},
   "outputs": [],
   "source": [
    "class_count = df_train[\"annotation_id\"].value_counts().sort_index().values\n",
    "class_freq = class_count/len(df_train)"
   ]
  },
  {
   "cell_type": "code",
   "execution_count": 21,
   "metadata": {},
   "outputs": [
    {
     "data": {
      "text/plain": [
       "array([1365,  742,  367,  269,  170,  129,  110,  110,  105,  103,  100,\n",
       "         99,   94,   84,   82,   80,   76,   76,   74,   73,   71,   66,\n",
       "         62,   59,   54,   50,   45,   45,   44,   43,   43,   42,   39,\n",
       "         38,   37,   35,   34,   31,   31,   30,   30,   29,   28,   26,\n",
       "         25,   24,   24,   23,   23,   22,   22,   22,   22,   20,   20,\n",
       "         20,   20,   20,   20,   20,   19,   19,   19,   18,   18,   18,\n",
       "         17,   17,   17,   16,   16,   16,   16,   15,   15,   15,   14,\n",
       "         14,   14,   14,   14,   13,   13,   13,   13,   13,   13,   13,\n",
       "         12,   11,   11,   11,   11,   11,   10,   10,    9,    9,    9,\n",
       "          8,    6])"
      ]
     },
     "execution_count": 21,
     "metadata": {},
     "output_type": "execute_result"
    }
   ],
   "source": [
    "df_train[\"annotation_id\"].value_counts().values"
   ]
  },
  {
   "cell_type": "code",
   "execution_count": 218,
   "metadata": {},
   "outputs": [
    {
     "data": {
      "text/plain": [
       "-1      44232\n",
       " 0       1300\n",
       " 1        732\n",
       " 2        315\n",
       " 3        261\n",
       "        ...  \n",
       " 95         8\n",
       " 97         8\n",
       " 99         8\n",
       " 100        6\n",
       " 96         6\n",
       "Name: class_id, Length: 102, dtype: int64"
      ]
     },
     "execution_count": 218,
     "metadata": {},
     "output_type": "execute_result"
    }
   ],
   "source": [
    "df_full[\"class_id\"].value_counts()"
   ]
  },
  {
   "cell_type": "code",
   "execution_count": 112,
   "metadata": {},
   "outputs": [],
   "source": [
    "sns.barplot(df_target_train[\"annotation_id\"].value_counts().index, df_target_train[\"annotation_id\"].value_counts().values)"
   ]
  },
  {
   "cell_type": "code",
   "execution_count": 213,
   "metadata": {},
   "outputs": [
    {
     "data": {
      "text/plain": [
       "array([  0,   1,   2,   3,   4,   5,   6,   7,   8,   9,  10,  11,  12,\n",
       "        13,  14,  15,  16,  17,  18,  19,  20,  21,  22,  23,  24,  25,\n",
       "        26,  27,  28,  29,  30,  31,  32,  33,  34,  35,  36,  37,  38,\n",
       "        39,  40,  41,  42,  43,  44,  45,  46,  47,  48,  49,  50,  51,\n",
       "        52,  53,  54,  55,  56,  57,  58,  59,  60,  61,  62,  63,  64,\n",
       "        65,  66,  67,  68,  69,  70,  71,  72,  73,  74,  75,  76,  77,\n",
       "        78,  79,  80,  81,  82,  83,  84,  85,  86,  87,  88,  89,  90,\n",
       "        91,  92,  93,  94,  95,  96,  97,  98,  99, 100])"
      ]
     },
     "execution_count": 213,
     "metadata": {},
     "output_type": "execute_result"
    }
   ],
   "source": []
  },
  {
   "cell_type": "code",
   "execution_count": 216,
   "metadata": {},
   "outputs": [
    {
     "name": "stderr",
     "output_type": "stream",
     "text": [
      "/home/zhihao/jupyterprojects/jupyter/lib/python3.8/site-packages/seaborn/_decorators.py:36: FutureWarning: Pass the following variables as keyword args: x, y. From version 0.12, the only valid positional argument will be `data`, and passing other arguments without an explicit keyword will result in an error or misinterpretation.\n",
      "  warnings.warn(\n"
     ]
    },
    {
     "data": {
      "text/plain": [
       "<Axes: >"
      ]
     },
     "execution_count": 216,
     "metadata": {},
     "output_type": "execute_result"
    },
    {
     "data": {
      "image/png": "[encoded data removed]",
      "text/plain": [
       "<Figure size 432x288 with 1 Axes>"
      ]
     },
     "metadata": {
      "needs_background": "light"
     },
     "output_type": "display_data"
    }
   ],
   "source": [
    "sns.barplot(np.arange(len(df_target_train[\"annotation_id\"].value_counts().index)), df_target_train[\"annotation_id\"].value_counts().values)"
   ]
  },
  {
   "cell_type": "code",
   "execution_count": 23,
   "metadata": {},
   "outputs": [
    {
     "data": {
      "text/plain": [
       "Index(['http://dbpedia.org/ontology/id', 'http://dbpedia.org/ontology/name',\n",
       "       'http://dbpedia.org/ontology/description',\n",
       "       'http://dbpedia.org/ontology/type', 'http://dbpedia.org/ontology/title',\n",
       "       'http://dbpedia.org/ontology/state',\n",
       "       'http://dbpedia.org/ontology/status',\n",
       "       'http://dbpedia.org/ontology/date', 'http://dbpedia.org/ontology/code',\n",
       "       'http://dbpedia.org/ontology/city',\n",
       "       ...\n",
       "       'http://dbpedia.org/ontology/event',\n",
       "       'http://dbpedia.org/ontology/creator',\n",
       "       'http://dbpedia.org/ontology/frequency',\n",
       "       'http://dbpedia.org/ontology/releaseDate',\n",
       "       'http://dbpedia.org/ontology/genus', 'http://dbpedia.org/ontology/tag',\n",
       "       'http://dbpedia.org/ontology/owner',\n",
       "       'http://dbpedia.org/ontology/party',\n",
       "       'http://dbpedia.org/ontology/period',\n",
       "       'http://dbpedia.org/ontology/result'],\n",
       "      dtype='object', length=101)"
      ]
     },
     "execution_count": 23,
     "metadata": {},
     "output_type": "execute_result"
    }
   ],
   "source": [
    "df_train[\"annotation_id\"].value_counts().index"
   ]
  },
  {
   "cell_type": "code",
   "execution_count": 31,
   "metadata": {},
   "outputs": [
    {
     "data": {
      "text/html": [
       "<div>\n",
       "<style scoped>\n",
       "    .dataframe tbody tr th:only-of-type {\n",
       "        vertical-align: middle;\n",
       "    }\n",
       "\n",
       "    .dataframe tbody tr th {\n",
       "        vertical-align: top;\n",
       "    }\n",
       "\n",
       "    .dataframe thead th {\n",
       "        text-align: right;\n",
       "    }\n",
       "</style>\n",
       "<table border=\"1\" class=\"dataframe\">\n",
       "  <thead>\n",
       "    <tr style=\"text-align: right;\">\n",
       "      <th></th>\n",
       "      <th>table_id</th>\n",
       "      <th>target_column</th>\n",
       "      <th>annotation_id</th>\n",
       "    </tr>\n",
       "  </thead>\n",
       "  <tbody>\n",
       "    <tr>\n",
       "      <th>0</th>\n",
       "      <td>GitTables_41549</td>\n",
       "      <td>4</td>\n",
       "      <td>http://dbpedia.org/ontology/rank</td>\n",
       "    </tr>\n",
       "    <tr>\n",
       "      <th>1</th>\n",
       "      <td>GitTables_120703</td>\n",
       "      <td>1</td>\n",
       "      <td>http://dbpedia.org/ontology/gender</td>\n",
       "    </tr>\n",
       "    <tr>\n",
       "      <th>2</th>\n",
       "      <td>GitTables_64793</td>\n",
       "      <td>2</td>\n",
       "      <td>http://dbpedia.org/ontology/description</td>\n",
       "    </tr>\n",
       "    <tr>\n",
       "      <th>3</th>\n",
       "      <td>GitTables_73560</td>\n",
       "      <td>1</td>\n",
       "      <td>http://dbpedia.org/ontology/name</td>\n",
       "    </tr>\n",
       "    <tr>\n",
       "      <th>4</th>\n",
       "      <td>GitTables_116365</td>\n",
       "      <td>0</td>\n",
       "      <td>http://dbpedia.org/ontology/type</td>\n",
       "    </tr>\n",
       "    <tr>\n",
       "      <th>...</th>\n",
       "      <td>...</td>\n",
       "      <td>...</td>\n",
       "      <td>...</td>\n",
       "    </tr>\n",
       "    <tr>\n",
       "      <th>6222</th>\n",
       "      <td>GitTables_125732</td>\n",
       "      <td>9</td>\n",
       "      <td>http://dbpedia.org/ontology/name</td>\n",
       "    </tr>\n",
       "    <tr>\n",
       "      <th>6223</th>\n",
       "      <td>GitTables_39435</td>\n",
       "      <td>6</td>\n",
       "      <td>http://dbpedia.org/ontology/duration</td>\n",
       "    </tr>\n",
       "    <tr>\n",
       "      <th>6224</th>\n",
       "      <td>GitTables_2204</td>\n",
       "      <td>13</td>\n",
       "      <td>http://dbpedia.org/ontology/date</td>\n",
       "    </tr>\n",
       "    <tr>\n",
       "      <th>6225</th>\n",
       "      <td>GitTables_76276</td>\n",
       "      <td>7</td>\n",
       "      <td>http://dbpedia.org/ontology/start</td>\n",
       "    </tr>\n",
       "    <tr>\n",
       "      <th>6226</th>\n",
       "      <td>GitTables_5764</td>\n",
       "      <td>0</td>\n",
       "      <td>http://dbpedia.org/ontology/id</td>\n",
       "    </tr>\n",
       "  </tbody>\n",
       "</table>\n",
       "<p>6227 rows × 3 columns</p>\n",
       "</div>"
      ],
      "text/plain": [
       "              table_id  target_column                            annotation_id\n",
       "0      GitTables_41549              4         http://dbpedia.org/ontology/rank\n",
       "1     GitTables_120703              1       http://dbpedia.org/ontology/gender\n",
       "2      GitTables_64793              2  http://dbpedia.org/ontology/description\n",
       "3      GitTables_73560              1         http://dbpedia.org/ontology/name\n",
       "4     GitTables_116365              0         http://dbpedia.org/ontology/type\n",
       "...                ...            ...                                      ...\n",
       "6222  GitTables_125732              9         http://dbpedia.org/ontology/name\n",
       "6223   GitTables_39435              6     http://dbpedia.org/ontology/duration\n",
       "6224    GitTables_2204             13         http://dbpedia.org/ontology/date\n",
       "6225   GitTables_76276              7        http://dbpedia.org/ontology/start\n",
       "6226    GitTables_5764              0           http://dbpedia.org/ontology/id\n",
       "\n",
       "[6227 rows x 3 columns]"
      ]
     },
     "execution_count": 31,
     "metadata": {},
     "output_type": "execute_result"
    }
   ],
   "source": [
    "df_train"
   ]
  },
  {
   "cell_type": "code",
   "execution_count": 96,
   "metadata": {},
   "outputs": [],
   "source": [
    "types_2021 = np.array([t.split(\"/\")[-1] for t in df_gt_2021['annotation_id'].value_counts().index.values])"
   ]
  },
  {
   "cell_type": "code",
   "execution_count": 100,
   "metadata": {},
   "outputs": [
    {
     "name": "stdout",
     "output_type": "stream",
     "text": [
      "122 101\n"
     ]
    },
    {
     "data": {
      "text/plain": [
       "73"
      ]
     },
     "execution_count": 100,
     "metadata": {},
     "output_type": "execute_result"
    }
   ],
   "source": [
    "print(len(types_2021), len(set(types)))\n",
    "len(set(types_2021).intersection(set(types)))"
   ]
  },
  {
   "cell_type": "code",
   "execution_count": 141,
   "metadata": {},
   "outputs": [
    {
     "data": {
      "text/plain": [
       "array(['id', 'name', 'description', 'type', 'title', 'state', 'status',\n",
       "       'date', 'code', 'city', 'value', 'source', 'year', 'time',\n",
       "       'country', 'county', 'comment', 'notes', 'category', 'address',\n",
       "       'age', 'gender', 'location', 'version', 'price', 'sex',\n",
       "       'startDate', 'weight', 'class', 'endDate', 'field', 'region',\n",
       "       'note', 'race', 'duration', 'species', 'score', 'position',\n",
       "       'start', 'language', 'rank', 'height', 'population', 'order',\n",
       "       'length', 'filename', 'model', 'role', 'series', 'max', 'min',\n",
       "       'family', 'currency', 'definition', 'format', 'author', 'area',\n",
       "       'domain', 'rating', 'parent', 'number', 'birthDate', 'alias',\n",
       "       'postalCode', 'reference', 'cost', 'publisher', 'treatment',\n",
       "       'created', 'company', 'district', 'elevation', 'project', 'day',\n",
       "       'end', 'scientificName', 'abbreviation', 'part', 'countryCode',\n",
       "       'season', 'topic', 'depth', 'road', 'prefix', 'month', 'route',\n",
       "       'width', 'department', 'percentage', 'zipCode', 'abstract',\n",
       "       'event', 'creator', 'frequency', 'releaseDate', 'genus', 'tag',\n",
       "       'owner', 'party', 'period', 'result'], dtype='<U14')"
      ]
     },
     "execution_count": 141,
     "metadata": {},
     "output_type": "execute_result"
    }
   ],
   "source": [
    "types"
   ]
  },
  {
   "cell_type": "code",
   "execution_count": 34,
   "metadata": {},
   "outputs": [],
   "source": [
    "types = np.array([t.split(\"/\")[-1] for t in df_target_train[\"annotation_id\"].value_counts().index.values])\n",
    "type2id = {t: i for i, t in enumerate(types)}\n",
    "id2type = {i: t for i, t in enumerate(types)}\n",
    "column_categories = {\n",
    "    \"Numerical\": ['age', 'value', 'price', 'weight', 'score', 'rank', 'height', 'population', 'order', 'length', 'max', 'min', 'number', 'cost', 'elevation', 'depth', 'width', 'percentage'],\n",
    "    \"Categorical\": ['id', 'name', 'description', 'type', 'title', 'state', 'status', 'code', 'city', 'source', 'country', 'county', 'comment', 'notes', 'category', 'address', 'gender', 'location', 'version', 'sex', 'class', 'field', 'region', 'note', 'race', 'species', 'position', 'language', 'filename', 'model', 'role', 'series', 'family', 'currency', 'definition', 'format', 'author', 'area', 'domain', 'rating', 'parent', 'alias', 'postalCode', 'reference', 'publisher', 'treatment', 'company', 'district', 'project', 'scientificName', 'abbreviation', 'part', 'countryCode', 'topic', 'road', 'prefix', 'route', 'department', 'zipCode', 'abstract', 'event', 'creator', 'genus', 'tag', 'owner', 'party', 'result'],\n",
    "    \"Datetime\": ['date', 'time', 'startDate', 'endDate', 'birthDate', 'created', 'day', 'end', 'month', 'period', 'releaseDate', 'season'],\n",
    "    \"Other\": ['start', 'duration', 'project', 'frequency']\n",
    "}\n",
    "is_numerical = np.array([t in column_categories[\"Numerical\"] for t in types])\n",
    "is_categorical = np.array([t in column_categories[\"Categorical\"] for t in types])\n",
    "is_datetime = np.array([t in column_categories[\"Datetime\"] for t in types])\n",
    "is_other = np.array([t in column_categories[\"Other\"] for t in types])"
   ]
  },
  {
   "cell_type": "code",
   "execution_count": 4,
   "metadata": {},
   "outputs": [],
   "source": []
  },
  {
   "cell_type": "code",
   "execution_count": 67,
   "metadata": {},
   "outputs": [],
   "source": [
    "testset = [(i, j) for i,j in df_target_test.values.tolist()]\n",
    "trainset = [(i, j) for i,j,k in df_target_train.values.tolist()]"
   ]
  },
  {
   "cell_type": "code",
   "execution_count": 69,
   "metadata": {},
   "outputs": [
    {
     "data": {
      "text/plain": [
       "[('GitTables_41549', 4),\n",
       " ('GitTables_120703', 1),\n",
       " ('GitTables_64793', 2),\n",
       " ('GitTables_73560', 1),\n",
       " ('GitTables_116365', 0),\n",
       " ('GitTables_190325', 1),\n",
       " ('GitTables_55082', 0),\n",
       " ('GitTables_196360', 0),\n",
       " ('GitTables_2995', 7),\n",
       " ('GitTables_7634', 0)]"
      ]
     },
     "execution_count": 69,
     "metadata": {},
     "output_type": "execute_result"
    }
   ],
   "source": [
    "trainset[:10]"
   ]
  },
  {
   "cell_type": "code",
   "execution_count": 68,
   "metadata": {},
   "outputs": [
    {
     "data": {
      "text/plain": [
       "set()"
      ]
     },
     "execution_count": 68,
     "metadata": {},
     "output_type": "execute_result"
    }
   ],
   "source": [
    "set(testset).intersection(trainset)"
   ]
  },
  {
   "cell_type": "code",
   "execution_count": 52,
   "metadata": {},
   "outputs": [
    {
     "data": {
      "text/html": [
       "<div>\n",
       "<style scoped>\n",
       "    .dataframe tbody tr th:only-of-type {\n",
       "        vertical-align: middle;\n",
       "    }\n",
       "\n",
       "    .dataframe tbody tr th {\n",
       "        vertical-align: top;\n",
       "    }\n",
       "\n",
       "    .dataframe thead th {\n",
       "        text-align: right;\n",
       "    }\n",
       "</style>\n",
       "<table border=\"1\" class=\"dataframe\">\n",
       "  <thead>\n",
       "    <tr style=\"text-align: right;\">\n",
       "      <th></th>\n",
       "      <th>table_id</th>\n",
       "      <th>target_column</th>\n",
       "    </tr>\n",
       "  </thead>\n",
       "  <tbody>\n",
       "    <tr>\n",
       "      <th>0</th>\n",
       "      <td>GitTables_112510</td>\n",
       "      <td>4</td>\n",
       "    </tr>\n",
       "    <tr>\n",
       "      <th>1</th>\n",
       "      <td>GitTables_86067</td>\n",
       "      <td>1</td>\n",
       "    </tr>\n",
       "    <tr>\n",
       "      <th>2</th>\n",
       "      <td>GitTables_169746</td>\n",
       "      <td>8</td>\n",
       "    </tr>\n",
       "    <tr>\n",
       "      <th>3</th>\n",
       "      <td>GitTables_47830</td>\n",
       "      <td>6</td>\n",
       "    </tr>\n",
       "    <tr>\n",
       "      <th>4</th>\n",
       "      <td>GitTables_55159</td>\n",
       "      <td>1</td>\n",
       "    </tr>\n",
       "    <tr>\n",
       "      <th>...</th>\n",
       "      <td>...</td>\n",
       "      <td>...</td>\n",
       "    </tr>\n",
       "    <tr>\n",
       "      <th>6223</th>\n",
       "      <td>GitTables_56256</td>\n",
       "      <td>0</td>\n",
       "    </tr>\n",
       "    <tr>\n",
       "      <th>6224</th>\n",
       "      <td>GitTables_172560</td>\n",
       "      <td>9</td>\n",
       "    </tr>\n",
       "    <tr>\n",
       "      <th>6225</th>\n",
       "      <td>GitTables_162328</td>\n",
       "      <td>3</td>\n",
       "    </tr>\n",
       "    <tr>\n",
       "      <th>6226</th>\n",
       "      <td>GitTables_160082</td>\n",
       "      <td>1</td>\n",
       "    </tr>\n",
       "    <tr>\n",
       "      <th>6227</th>\n",
       "      <td>GitTables_59524</td>\n",
       "      <td>17</td>\n",
       "    </tr>\n",
       "  </tbody>\n",
       "</table>\n",
       "<p>6228 rows × 2 columns</p>\n",
       "</div>"
      ],
      "text/plain": [
       "              table_id  target_column\n",
       "0     GitTables_112510              4\n",
       "1      GitTables_86067              1\n",
       "2     GitTables_169746              8\n",
       "3      GitTables_47830              6\n",
       "4      GitTables_55159              1\n",
       "...                ...            ...\n",
       "6223   GitTables_56256              0\n",
       "6224  GitTables_172560              9\n",
       "6225  GitTables_162328              3\n",
       "6226  GitTables_160082              1\n",
       "6227   GitTables_59524             17\n",
       "\n",
       "[6228 rows x 2 columns]"
      ]
     },
     "execution_count": 52,
     "metadata": {},
     "output_type": "execute_result"
    }
   ],
   "source": [
    "testset = df_target_test.values"
   ]
  },
  {
   "cell_type": "code",
   "execution_count": 51,
   "metadata": {},
   "outputs": [
    {
     "ename": "KeyError",
     "evalue": "'annotation_id'",
     "output_type": "error",
     "traceback": [
      "\u001b[0;31m---------------------------------------------------------------------------\u001b[0m",
      "\u001b[0;31mKeyError\u001b[0m                                  Traceback (most recent call last)",
      "File \u001b[0;32m~/jupyterprojects/jupyter/lib/python3.8/site-packages/pandas/core/indexes/base.py:3361\u001b[0m, in \u001b[0;36mIndex.get_loc\u001b[0;34m(self, key, method, tolerance)\u001b[0m\n\u001b[1;32m   3360\u001b[0m \u001b[38;5;28;01mtry\u001b[39;00m:\n\u001b[0;32m-> 3361\u001b[0m     \u001b[38;5;28;01mreturn\u001b[39;00m \u001b[38;5;28;43mself\u001b[39;49m\u001b[38;5;241;43m.\u001b[39;49m\u001b[43m_engine\u001b[49m\u001b[38;5;241;43m.\u001b[39;49m\u001b[43mget_loc\u001b[49m\u001b[43m(\u001b[49m\u001b[43mcasted_key\u001b[49m\u001b[43m)\u001b[49m\n\u001b[1;32m   3362\u001b[0m \u001b[38;5;28;01mexcept\u001b[39;00m \u001b[38;5;167;01mKeyError\u001b[39;00m \u001b[38;5;28;01mas\u001b[39;00m err:\n",
      "File \u001b[0;32m~/jupyterprojects/jupyter/lib/python3.8/site-packages/pandas/_libs/index.pyx:76\u001b[0m, in \u001b[0;36mpandas._libs.index.IndexEngine.get_loc\u001b[0;34m()\u001b[0m\n",
      "File \u001b[0;32m~/jupyterprojects/jupyter/lib/python3.8/site-packages/pandas/_libs/index.pyx:108\u001b[0m, in \u001b[0;36mpandas._libs.index.IndexEngine.get_loc\u001b[0;34m()\u001b[0m\n",
      "File \u001b[0;32mpandas/_libs/hashtable_class_helper.pxi:5198\u001b[0m, in \u001b[0;36mpandas._libs.hashtable.PyObjectHashTable.get_item\u001b[0;34m()\u001b[0m\n",
      "File \u001b[0;32mpandas/_libs/hashtable_class_helper.pxi:5206\u001b[0m, in \u001b[0;36mpandas._libs.hashtable.PyObjectHashTable.get_item\u001b[0;34m()\u001b[0m\n",
      "\u001b[0;31mKeyError\u001b[0m: 'annotation_id'",
      "\nThe above exception was the direct cause of the following exception:\n",
      "\u001b[0;31mKeyError\u001b[0m                                  Traceback (most recent call last)",
      "Input \u001b[0;32mIn [51]\u001b[0m, in \u001b[0;36m<cell line: 1>\u001b[0;34m()\u001b[0m\n\u001b[0;32m----> 1\u001b[0m types_test \u001b[38;5;241m=\u001b[39m np\u001b[38;5;241m.\u001b[39marray([t\u001b[38;5;241m.\u001b[39msplit(\u001b[38;5;124m\"\u001b[39m\u001b[38;5;124m/\u001b[39m\u001b[38;5;124m\"\u001b[39m)[\u001b[38;5;241m-\u001b[39m\u001b[38;5;241m1\u001b[39m] \u001b[38;5;28;01mfor\u001b[39;00m t \u001b[38;5;129;01min\u001b[39;00m \u001b[43mdf_target_test\u001b[49m\u001b[43m[\u001b[49m\u001b[38;5;124;43m\"\u001b[39;49m\u001b[38;5;124;43mannotation_id\u001b[39;49m\u001b[38;5;124;43m\"\u001b[39;49m\u001b[43m]\u001b[49m\u001b[38;5;241m.\u001b[39mvalue_counts()\u001b[38;5;241m.\u001b[39mindex\u001b[38;5;241m.\u001b[39mvalues])\n",
      "File \u001b[0;32m~/jupyterprojects/jupyter/lib/python3.8/site-packages/pandas/core/frame.py:3458\u001b[0m, in \u001b[0;36mDataFrame.__getitem__\u001b[0;34m(self, key)\u001b[0m\n\u001b[1;32m   3456\u001b[0m \u001b[38;5;28;01mif\u001b[39;00m \u001b[38;5;28mself\u001b[39m\u001b[38;5;241m.\u001b[39mcolumns\u001b[38;5;241m.\u001b[39mnlevels \u001b[38;5;241m>\u001b[39m \u001b[38;5;241m1\u001b[39m:\n\u001b[1;32m   3457\u001b[0m     \u001b[38;5;28;01mreturn\u001b[39;00m \u001b[38;5;28mself\u001b[39m\u001b[38;5;241m.\u001b[39m_getitem_multilevel(key)\n\u001b[0;32m-> 3458\u001b[0m indexer \u001b[38;5;241m=\u001b[39m \u001b[38;5;28;43mself\u001b[39;49m\u001b[38;5;241;43m.\u001b[39;49m\u001b[43mcolumns\u001b[49m\u001b[38;5;241;43m.\u001b[39;49m\u001b[43mget_loc\u001b[49m\u001b[43m(\u001b[49m\u001b[43mkey\u001b[49m\u001b[43m)\u001b[49m\n\u001b[1;32m   3459\u001b[0m \u001b[38;5;28;01mif\u001b[39;00m is_integer(indexer):\n\u001b[1;32m   3460\u001b[0m     indexer \u001b[38;5;241m=\u001b[39m [indexer]\n",
      "File \u001b[0;32m~/jupyterprojects/jupyter/lib/python3.8/site-packages/pandas/core/indexes/base.py:3363\u001b[0m, in \u001b[0;36mIndex.get_loc\u001b[0;34m(self, key, method, tolerance)\u001b[0m\n\u001b[1;32m   3361\u001b[0m         \u001b[38;5;28;01mreturn\u001b[39;00m \u001b[38;5;28mself\u001b[39m\u001b[38;5;241m.\u001b[39m_engine\u001b[38;5;241m.\u001b[39mget_loc(casted_key)\n\u001b[1;32m   3362\u001b[0m     \u001b[38;5;28;01mexcept\u001b[39;00m \u001b[38;5;167;01mKeyError\u001b[39;00m \u001b[38;5;28;01mas\u001b[39;00m err:\n\u001b[0;32m-> 3363\u001b[0m         \u001b[38;5;28;01mraise\u001b[39;00m \u001b[38;5;167;01mKeyError\u001b[39;00m(key) \u001b[38;5;28;01mfrom\u001b[39;00m \u001b[38;5;21;01merr\u001b[39;00m\n\u001b[1;32m   3365\u001b[0m \u001b[38;5;28;01mif\u001b[39;00m is_scalar(key) \u001b[38;5;129;01mand\u001b[39;00m isna(key) \u001b[38;5;129;01mand\u001b[39;00m \u001b[38;5;129;01mnot\u001b[39;00m \u001b[38;5;28mself\u001b[39m\u001b[38;5;241m.\u001b[39mhasnans:\n\u001b[1;32m   3366\u001b[0m     \u001b[38;5;28;01mraise\u001b[39;00m \u001b[38;5;167;01mKeyError\u001b[39;00m(key)\n",
      "\u001b[0;31mKeyError\u001b[0m: 'annotation_id'"
     ]
    }
   ],
   "source": [
    "types_test = np.array([t.split(\"/\")[-1] for t in df_target_test[\"annotation_id\"].value_counts().index.values])"
   ]
  },
  {
   "cell_type": "code",
   "execution_count": 30,
   "metadata": {},
   "outputs": [
    {
     "data": {
      "text/html": [
       "<div>\n",
       "<style scoped>\n",
       "    .dataframe tbody tr th:only-of-type {\n",
       "        vertical-align: middle;\n",
       "    }\n",
       "\n",
       "    .dataframe tbody tr th {\n",
       "        vertical-align: top;\n",
       "    }\n",
       "\n",
       "    .dataframe thead th {\n",
       "        text-align: right;\n",
       "    }\n",
       "</style>\n",
       "<table border=\"1\" class=\"dataframe\">\n",
       "  <thead>\n",
       "    <tr style=\"text-align: right;\">\n",
       "      <th></th>\n",
       "      <th>col0</th>\n",
       "      <th>col1</th>\n",
       "      <th>col2</th>\n",
       "      <th>col3</th>\n",
       "      <th>col4</th>\n",
       "      <th>col5</th>\n",
       "      <th>col6</th>\n",
       "      <th>col7</th>\n",
       "      <th>col8</th>\n",
       "      <th>col9</th>\n",
       "      <th>col10</th>\n",
       "      <th>col11</th>\n",
       "      <th>col12</th>\n",
       "      <th>col13</th>\n",
       "      <th>col14</th>\n",
       "      <th>col15</th>\n",
       "      <th>col16</th>\n",
       "      <th>col17</th>\n",
       "      <th>col18</th>\n",
       "      <th>col19</th>\n",
       "    </tr>\n",
       "  </thead>\n",
       "  <tbody>\n",
       "    <tr>\n",
       "      <th>0</th>\n",
       "      <td>1</td>\n",
       "      <td>AcronymID</td>\n",
       "      <td>Text</td>\n",
       "      <td>50.0</td>\n",
       "      <td>1</td>\n",
       "      <td>1</td>\n",
       "      <td>Code</td>\n",
       "      <td>Code</td>\n",
       "      <td>Acronym&amp;nbsp;Code</td>\n",
       "      <td>Code&amp;nbsp;d'acronyme</td>\n",
       "      <td>1</td>\n",
       "      <td>NaN</td>\n",
       "      <td>NaN</td>\n",
       "      <td>Text</td>\n",
       "      <td>1.0</td>\n",
       "      <td>1.0</td>\n",
       "      <td>NaN</td>\n",
       "      <td>NaN</td>\n",
       "      <td>NaN</td>\n",
       "      <td>2004-12-02 14:48:48</td>\n",
       "    </tr>\n",
       "    <tr>\n",
       "      <th>1</th>\n",
       "      <td>2</td>\n",
       "      <td>LanguageID</td>\n",
       "      <td>Text</td>\n",
       "      <td>NaN</td>\n",
       "      <td>0</td>\n",
       "      <td>0</td>\n",
       "      <td>Language</td>\n",
       "      <td>Langue</td>\n",
       "      <td>Language</td>\n",
       "      <td>Langue</td>\n",
       "      <td>1</td>\n",
       "      <td>NaN</td>\n",
       "      <td>NaN</td>\n",
       "      <td>Select</td>\n",
       "      <td>2.0</td>\n",
       "      <td>4.0</td>\n",
       "      <td>Languages</td>\n",
       "      <td>LanguageID</td>\n",
       "      <td>NaN</td>\n",
       "      <td>2004-11-26 10:14:07</td>\n",
       "    </tr>\n",
       "    <tr>\n",
       "      <th>2</th>\n",
       "      <td>3</td>\n",
       "      <td>DescriptionE</td>\n",
       "      <td>Text</td>\n",
       "      <td>255.0</td>\n",
       "      <td>1</td>\n",
       "      <td>1</td>\n",
       "      <td>E&amp;nbsp;Description</td>\n",
       "      <td>Description&amp;nbsp;F</td>\n",
       "      <td>English&amp;nbsp;Description</td>\n",
       "      <td>Description&amp;nbsp;anglaise</td>\n",
       "      <td>1</td>\n",
       "      <td>NaN</td>\n",
       "      <td>NaN</td>\n",
       "      <td>Text</td>\n",
       "      <td>3.0</td>\n",
       "      <td>2.0</td>\n",
       "      <td>NaN</td>\n",
       "      <td>NaN</td>\n",
       "      <td>NaN</td>\n",
       "      <td>2004-11-26 10:15:14</td>\n",
       "    </tr>\n",
       "    <tr>\n",
       "      <th>3</th>\n",
       "      <td>4</td>\n",
       "      <td>DescriptionF</td>\n",
       "      <td>Text</td>\n",
       "      <td>255.0</td>\n",
       "      <td>1</td>\n",
       "      <td>0</td>\n",
       "      <td>NaN</td>\n",
       "      <td>NaN</td>\n",
       "      <td>French&amp;nbsp;Description</td>\n",
       "      <td>Description &amp;nbsp;française</td>\n",
       "      <td>1</td>\n",
       "      <td>NaN</td>\n",
       "      <td>NaN</td>\n",
       "      <td>Text</td>\n",
       "      <td>4.0</td>\n",
       "      <td>3.0</td>\n",
       "      <td>NaN</td>\n",
       "      <td>NaN</td>\n",
       "      <td>NaN</td>\n",
       "      <td>2004-11-26 10:15:27</td>\n",
       "    </tr>\n",
       "    <tr>\n",
       "      <th>4</th>\n",
       "      <td>5</td>\n",
       "      <td>AcronymTypeID</td>\n",
       "      <td>Number</td>\n",
       "      <td>NaN</td>\n",
       "      <td>0</td>\n",
       "      <td>0</td>\n",
       "      <td>NaN</td>\n",
       "      <td>NaN</td>\n",
       "      <td>Type</td>\n",
       "      <td>Type</td>\n",
       "      <td>1</td>\n",
       "      <td>NaN</td>\n",
       "      <td>NaN</td>\n",
       "      <td>Select</td>\n",
       "      <td>5.0</td>\n",
       "      <td>5.0</td>\n",
       "      <td>AcronymTypes</td>\n",
       "      <td>Description</td>\n",
       "      <td>NaN</td>\n",
       "      <td>2004-11-26 10:15:34</td>\n",
       "    </tr>\n",
       "    <tr>\n",
       "      <th>...</th>\n",
       "      <td>...</td>\n",
       "      <td>...</td>\n",
       "      <td>...</td>\n",
       "      <td>...</td>\n",
       "      <td>...</td>\n",
       "      <td>...</td>\n",
       "      <td>...</td>\n",
       "      <td>...</td>\n",
       "      <td>...</td>\n",
       "      <td>...</td>\n",
       "      <td>...</td>\n",
       "      <td>...</td>\n",
       "      <td>...</td>\n",
       "      <td>...</td>\n",
       "      <td>...</td>\n",
       "      <td>...</td>\n",
       "      <td>...</td>\n",
       "      <td>...</td>\n",
       "      <td>...</td>\n",
       "      <td>...</td>\n",
       "    </tr>\n",
       "    <tr>\n",
       "      <th>70</th>\n",
       "      <td>71</td>\n",
       "      <td>AcronymID</td>\n",
       "      <td>Text</td>\n",
       "      <td>20.0</td>\n",
       "      <td>1</td>\n",
       "      <td>1</td>\n",
       "      <td>Acronym</td>\n",
       "      <td>Acronyme</td>\n",
       "      <td>Acronym</td>\n",
       "      <td>Acronyme</td>\n",
       "      <td>13</td>\n",
       "      <td>NaN</td>\n",
       "      <td>NaN</td>\n",
       "      <td>Select</td>\n",
       "      <td>2.0</td>\n",
       "      <td>2.0</td>\n",
       "      <td>Acronyms</td>\n",
       "      <td>AcronymID</td>\n",
       "      <td>NaN</td>\n",
       "      <td>2004-11-26 10:31:58</td>\n",
       "    </tr>\n",
       "    <tr>\n",
       "      <th>71</th>\n",
       "      <td>72</td>\n",
       "      <td>LastUpdate</td>\n",
       "      <td>Date</td>\n",
       "      <td>NaN</td>\n",
       "      <td>0</td>\n",
       "      <td>0</td>\n",
       "      <td>NaN</td>\n",
       "      <td>NaN</td>\n",
       "      <td>Last Update</td>\n",
       "      <td>Mis à jour</td>\n",
       "      <td>13</td>\n",
       "      <td>NaN</td>\n",
       "      <td>NaN</td>\n",
       "      <td>NaN</td>\n",
       "      <td>NaN</td>\n",
       "      <td>NaN</td>\n",
       "      <td>NaN</td>\n",
       "      <td>NaN</td>\n",
       "      <td>NaN</td>\n",
       "      <td>2004-11-26 10:32:09</td>\n",
       "    </tr>\n",
       "    <tr>\n",
       "      <th>72</th>\n",
       "      <td>73</td>\n",
       "      <td>LastUpdate</td>\n",
       "      <td>Date</td>\n",
       "      <td>NaN</td>\n",
       "      <td>0</td>\n",
       "      <td>0</td>\n",
       "      <td>NaN</td>\n",
       "      <td>NaN</td>\n",
       "      <td>Last Update</td>\n",
       "      <td>Last Update</td>\n",
       "      <td>7</td>\n",
       "      <td>NaN</td>\n",
       "      <td>NaN</td>\n",
       "      <td>NaN</td>\n",
       "      <td>NaN</td>\n",
       "      <td>NaN</td>\n",
       "      <td>NaN</td>\n",
       "      <td>NaN</td>\n",
       "      <td>NaN</td>\n",
       "      <td>2004-11-29 13:32:23</td>\n",
       "    </tr>\n",
       "    <tr>\n",
       "      <th>73</th>\n",
       "      <td>74</td>\n",
       "      <td>NoteE</td>\n",
       "      <td>Text</td>\n",
       "      <td>NaN</td>\n",
       "      <td>1</td>\n",
       "      <td>0</td>\n",
       "      <td>NaN</td>\n",
       "      <td>NaN</td>\n",
       "      <td>English&amp;nbsp;Description</td>\n",
       "      <td>Description&amp;nbsp;en&amp;nbsp;anglais</td>\n",
       "      <td>3</td>\n",
       "      <td>NaN</td>\n",
       "      <td>NaN</td>\n",
       "      <td>Text</td>\n",
       "      <td>3.0</td>\n",
       "      <td>3.0</td>\n",
       "      <td>NaN</td>\n",
       "      <td>NaN</td>\n",
       "      <td>NaN</td>\n",
       "      <td>2004-12-23 09:31:41</td>\n",
       "    </tr>\n",
       "    <tr>\n",
       "      <th>74</th>\n",
       "      <td>75</td>\n",
       "      <td>NoteF</td>\n",
       "      <td>Text</td>\n",
       "      <td>NaN</td>\n",
       "      <td>1</td>\n",
       "      <td>0</td>\n",
       "      <td>NaN</td>\n",
       "      <td>NaN</td>\n",
       "      <td>French&amp;nbsp;Description</td>\n",
       "      <td>Description&amp;nbsp;en&amp;nbsp;français</td>\n",
       "      <td>3</td>\n",
       "      <td>NaN</td>\n",
       "      <td>NaN</td>\n",
       "      <td>Text</td>\n",
       "      <td>4.0</td>\n",
       "      <td>4.0</td>\n",
       "      <td>NaN</td>\n",
       "      <td>NaN</td>\n",
       "      <td>NaN</td>\n",
       "      <td>2004-12-23 09:33:39</td>\n",
       "    </tr>\n",
       "  </tbody>\n",
       "</table>\n",
       "<p>75 rows × 20 columns</p>\n",
       "</div>"
      ],
      "text/plain": [
       "    col0           col1    col2   col3  col4  col5                col6  \\\n",
       "0      1      AcronymID    Text   50.0     1     1                Code   \n",
       "1      2     LanguageID    Text    NaN     0     0            Language   \n",
       "2      3   DescriptionE    Text  255.0     1     1  E&nbsp;Description   \n",
       "3      4   DescriptionF    Text  255.0     1     0                 NaN   \n",
       "4      5  AcronymTypeID  Number    NaN     0     0                 NaN   \n",
       "..   ...            ...     ...    ...   ...   ...                 ...   \n",
       "70    71      AcronymID    Text   20.0     1     1             Acronym   \n",
       "71    72     LastUpdate    Date    NaN     0     0                 NaN   \n",
       "72    73     LastUpdate    Date    NaN     0     0                 NaN   \n",
       "73    74          NoteE    Text    NaN     1     0                 NaN   \n",
       "74    75          NoteF    Text    NaN     1     0                 NaN   \n",
       "\n",
       "                  col7                      col8  \\\n",
       "0                 Code         Acronym&nbsp;Code   \n",
       "1               Langue                  Language   \n",
       "2   Description&nbsp;F  English&nbsp;Description   \n",
       "3                  NaN   French&nbsp;Description   \n",
       "4                  NaN                      Type   \n",
       "..                 ...                       ...   \n",
       "70            Acronyme                   Acronym   \n",
       "71                 NaN               Last Update   \n",
       "72                 NaN               Last Update   \n",
       "73                 NaN  English&nbsp;Description   \n",
       "74                 NaN   French&nbsp;Description   \n",
       "\n",
       "                                 col9  col10 col11 col12   col13  col14  \\\n",
       "0                Code&nbsp;d'acronyme      1   NaN   NaN    Text    1.0   \n",
       "1                              Langue      1   NaN   NaN  Select    2.0   \n",
       "2           Description&nbsp;anglaise      1   NaN   NaN    Text    3.0   \n",
       "3         Description &nbsp;française      1   NaN   NaN    Text    4.0   \n",
       "4                                Type      1   NaN   NaN  Select    5.0   \n",
       "..                                ...    ...   ...   ...     ...    ...   \n",
       "70                           Acronyme     13   NaN   NaN  Select    2.0   \n",
       "71                         Mis à jour     13   NaN   NaN     NaN    NaN   \n",
       "72                        Last Update      7   NaN   NaN     NaN    NaN   \n",
       "73   Description&nbsp;en&nbsp;anglais      3   NaN   NaN    Text    3.0   \n",
       "74  Description&nbsp;en&nbsp;français      3   NaN   NaN    Text    4.0   \n",
       "\n",
       "    col15         col16        col17 col18                col19  \n",
       "0     1.0           NaN          NaN   NaN  2004-12-02 14:48:48  \n",
       "1     4.0     Languages   LanguageID   NaN  2004-11-26 10:14:07  \n",
       "2     2.0           NaN          NaN   NaN  2004-11-26 10:15:14  \n",
       "3     3.0           NaN          NaN   NaN  2004-11-26 10:15:27  \n",
       "4     5.0  AcronymTypes  Description   NaN  2004-11-26 10:15:34  \n",
       "..    ...           ...          ...   ...                  ...  \n",
       "70    2.0      Acronyms    AcronymID   NaN  2004-11-26 10:31:58  \n",
       "71    NaN           NaN          NaN   NaN  2004-11-26 10:32:09  \n",
       "72    NaN           NaN          NaN   NaN  2004-11-29 13:32:23  \n",
       "73    3.0           NaN          NaN   NaN  2004-12-23 09:31:41  \n",
       "74    4.0           NaN          NaN   NaN  2004-12-23 09:33:39  \n",
       "\n",
       "[75 rows x 20 columns]"
      ]
     },
     "execution_count": 30,
     "metadata": {},
     "output_type": "execute_result"
    }
   ],
   "source": [
    "df"
   ]
  },
  {
   "cell_type": "code",
   "execution_count": 28,
   "metadata": {},
   "outputs": [],
   "source": [
    "df = pd.read_csv(\"/data/zhihao/TU/GitTables/semtab_gittables/2022/tables/GitTables_26251.csv\")"
   ]
  },
  {
   "cell_type": "code",
   "execution_count": 29,
   "metadata": {},
   "outputs": [
    {
     "data": {
      "text/html": [
       "<div>\n",
       "<style scoped>\n",
       "    .dataframe tbody tr th:only-of-type {\n",
       "        vertical-align: middle;\n",
       "    }\n",
       "\n",
       "    .dataframe tbody tr th {\n",
       "        vertical-align: top;\n",
       "    }\n",
       "\n",
       "    .dataframe thead th {\n",
       "        text-align: right;\n",
       "    }\n",
       "</style>\n",
       "<table border=\"1\" class=\"dataframe\">\n",
       "  <thead>\n",
       "    <tr style=\"text-align: right;\">\n",
       "      <th></th>\n",
       "      <th>col0</th>\n",
       "      <th>col1</th>\n",
       "      <th>col2</th>\n",
       "      <th>col3</th>\n",
       "      <th>col4</th>\n",
       "      <th>col5</th>\n",
       "      <th>col6</th>\n",
       "      <th>col7</th>\n",
       "      <th>col8</th>\n",
       "      <th>col9</th>\n",
       "      <th>col10</th>\n",
       "      <th>col11</th>\n",
       "      <th>col12</th>\n",
       "      <th>col13</th>\n",
       "      <th>col14</th>\n",
       "      <th>col15</th>\n",
       "      <th>col16</th>\n",
       "      <th>col17</th>\n",
       "      <th>col18</th>\n",
       "      <th>col19</th>\n",
       "    </tr>\n",
       "  </thead>\n",
       "  <tbody>\n",
       "    <tr>\n",
       "      <th>0</th>\n",
       "      <td>1</td>\n",
       "      <td>AcronymID</td>\n",
       "      <td>Text</td>\n",
       "      <td>50.0</td>\n",
       "      <td>1</td>\n",
       "      <td>1</td>\n",
       "      <td>Code</td>\n",
       "      <td>Code</td>\n",
       "      <td>Acronym&amp;nbsp;Code</td>\n",
       "      <td>Code&amp;nbsp;d'acronyme</td>\n",
       "      <td>1</td>\n",
       "      <td>NaN</td>\n",
       "      <td>NaN</td>\n",
       "      <td>Text</td>\n",
       "      <td>1.0</td>\n",
       "      <td>1.0</td>\n",
       "      <td>NaN</td>\n",
       "      <td>NaN</td>\n",
       "      <td>NaN</td>\n",
       "      <td>2004-12-02 14:48:48</td>\n",
       "    </tr>\n",
       "    <tr>\n",
       "      <th>1</th>\n",
       "      <td>2</td>\n",
       "      <td>LanguageID</td>\n",
       "      <td>Text</td>\n",
       "      <td>NaN</td>\n",
       "      <td>0</td>\n",
       "      <td>0</td>\n",
       "      <td>Language</td>\n",
       "      <td>Langue</td>\n",
       "      <td>Language</td>\n",
       "      <td>Langue</td>\n",
       "      <td>1</td>\n",
       "      <td>NaN</td>\n",
       "      <td>NaN</td>\n",
       "      <td>Select</td>\n",
       "      <td>2.0</td>\n",
       "      <td>4.0</td>\n",
       "      <td>Languages</td>\n",
       "      <td>LanguageID</td>\n",
       "      <td>NaN</td>\n",
       "      <td>2004-11-26 10:14:07</td>\n",
       "    </tr>\n",
       "    <tr>\n",
       "      <th>2</th>\n",
       "      <td>3</td>\n",
       "      <td>DescriptionE</td>\n",
       "      <td>Text</td>\n",
       "      <td>255.0</td>\n",
       "      <td>1</td>\n",
       "      <td>1</td>\n",
       "      <td>E&amp;nbsp;Description</td>\n",
       "      <td>Description&amp;nbsp;F</td>\n",
       "      <td>English&amp;nbsp;Description</td>\n",
       "      <td>Description&amp;nbsp;anglaise</td>\n",
       "      <td>1</td>\n",
       "      <td>NaN</td>\n",
       "      <td>NaN</td>\n",
       "      <td>Text</td>\n",
       "      <td>3.0</td>\n",
       "      <td>2.0</td>\n",
       "      <td>NaN</td>\n",
       "      <td>NaN</td>\n",
       "      <td>NaN</td>\n",
       "      <td>2004-11-26 10:15:14</td>\n",
       "    </tr>\n",
       "    <tr>\n",
       "      <th>3</th>\n",
       "      <td>4</td>\n",
       "      <td>DescriptionF</td>\n",
       "      <td>Text</td>\n",
       "      <td>255.0</td>\n",
       "      <td>1</td>\n",
       "      <td>0</td>\n",
       "      <td>NaN</td>\n",
       "      <td>NaN</td>\n",
       "      <td>French&amp;nbsp;Description</td>\n",
       "      <td>Description &amp;nbsp;française</td>\n",
       "      <td>1</td>\n",
       "      <td>NaN</td>\n",
       "      <td>NaN</td>\n",
       "      <td>Text</td>\n",
       "      <td>4.0</td>\n",
       "      <td>3.0</td>\n",
       "      <td>NaN</td>\n",
       "      <td>NaN</td>\n",
       "      <td>NaN</td>\n",
       "      <td>2004-11-26 10:15:27</td>\n",
       "    </tr>\n",
       "    <tr>\n",
       "      <th>4</th>\n",
       "      <td>5</td>\n",
       "      <td>AcronymTypeID</td>\n",
       "      <td>Number</td>\n",
       "      <td>NaN</td>\n",
       "      <td>0</td>\n",
       "      <td>0</td>\n",
       "      <td>NaN</td>\n",
       "      <td>NaN</td>\n",
       "      <td>Type</td>\n",
       "      <td>Type</td>\n",
       "      <td>1</td>\n",
       "      <td>NaN</td>\n",
       "      <td>NaN</td>\n",
       "      <td>Select</td>\n",
       "      <td>5.0</td>\n",
       "      <td>5.0</td>\n",
       "      <td>AcronymTypes</td>\n",
       "      <td>Description</td>\n",
       "      <td>NaN</td>\n",
       "      <td>2004-11-26 10:15:34</td>\n",
       "    </tr>\n",
       "    <tr>\n",
       "      <th>...</th>\n",
       "      <td>...</td>\n",
       "      <td>...</td>\n",
       "      <td>...</td>\n",
       "      <td>...</td>\n",
       "      <td>...</td>\n",
       "      <td>...</td>\n",
       "      <td>...</td>\n",
       "      <td>...</td>\n",
       "      <td>...</td>\n",
       "      <td>...</td>\n",
       "      <td>...</td>\n",
       "      <td>...</td>\n",
       "      <td>...</td>\n",
       "      <td>...</td>\n",
       "      <td>...</td>\n",
       "      <td>...</td>\n",
       "      <td>...</td>\n",
       "      <td>...</td>\n",
       "      <td>...</td>\n",
       "      <td>...</td>\n",
       "    </tr>\n",
       "    <tr>\n",
       "      <th>70</th>\n",
       "      <td>71</td>\n",
       "      <td>AcronymID</td>\n",
       "      <td>Text</td>\n",
       "      <td>20.0</td>\n",
       "      <td>1</td>\n",
       "      <td>1</td>\n",
       "      <td>Acronym</td>\n",
       "      <td>Acronyme</td>\n",
       "      <td>Acronym</td>\n",
       "      <td>Acronyme</td>\n",
       "      <td>13</td>\n",
       "      <td>NaN</td>\n",
       "      <td>NaN</td>\n",
       "      <td>Select</td>\n",
       "      <td>2.0</td>\n",
       "      <td>2.0</td>\n",
       "      <td>Acronyms</td>\n",
       "      <td>AcronymID</td>\n",
       "      <td>NaN</td>\n",
       "      <td>2004-11-26 10:31:58</td>\n",
       "    </tr>\n",
       "    <tr>\n",
       "      <th>71</th>\n",
       "      <td>72</td>\n",
       "      <td>LastUpdate</td>\n",
       "      <td>Date</td>\n",
       "      <td>NaN</td>\n",
       "      <td>0</td>\n",
       "      <td>0</td>\n",
       "      <td>NaN</td>\n",
       "      <td>NaN</td>\n",
       "      <td>Last Update</td>\n",
       "      <td>Mis à jour</td>\n",
       "      <td>13</td>\n",
       "      <td>NaN</td>\n",
       "      <td>NaN</td>\n",
       "      <td>NaN</td>\n",
       "      <td>NaN</td>\n",
       "      <td>NaN</td>\n",
       "      <td>NaN</td>\n",
       "      <td>NaN</td>\n",
       "      <td>NaN</td>\n",
       "      <td>2004-11-26 10:32:09</td>\n",
       "    </tr>\n",
       "    <tr>\n",
       "      <th>72</th>\n",
       "      <td>73</td>\n",
       "      <td>LastUpdate</td>\n",
       "      <td>Date</td>\n",
       "      <td>NaN</td>\n",
       "      <td>0</td>\n",
       "      <td>0</td>\n",
       "      <td>NaN</td>\n",
       "      <td>NaN</td>\n",
       "      <td>Last Update</td>\n",
       "      <td>Last Update</td>\n",
       "      <td>7</td>\n",
       "      <td>NaN</td>\n",
       "      <td>NaN</td>\n",
       "      <td>NaN</td>\n",
       "      <td>NaN</td>\n",
       "      <td>NaN</td>\n",
       "      <td>NaN</td>\n",
       "      <td>NaN</td>\n",
       "      <td>NaN</td>\n",
       "      <td>2004-11-29 13:32:23</td>\n",
       "    </tr>\n",
       "    <tr>\n",
       "      <th>73</th>\n",
       "      <td>74</td>\n",
       "      <td>NoteE</td>\n",
       "      <td>Text</td>\n",
       "      <td>NaN</td>\n",
       "      <td>1</td>\n",
       "      <td>0</td>\n",
       "      <td>NaN</td>\n",
       "      <td>NaN</td>\n",
       "      <td>English&amp;nbsp;Description</td>\n",
       "      <td>Description&amp;nbsp;en&amp;nbsp;anglais</td>\n",
       "      <td>3</td>\n",
       "      <td>NaN</td>\n",
       "      <td>NaN</td>\n",
       "      <td>Text</td>\n",
       "      <td>3.0</td>\n",
       "      <td>3.0</td>\n",
       "      <td>NaN</td>\n",
       "      <td>NaN</td>\n",
       "      <td>NaN</td>\n",
       "      <td>2004-12-23 09:31:41</td>\n",
       "    </tr>\n",
       "    <tr>\n",
       "      <th>74</th>\n",
       "      <td>75</td>\n",
       "      <td>NoteF</td>\n",
       "      <td>Text</td>\n",
       "      <td>NaN</td>\n",
       "      <td>1</td>\n",
       "      <td>0</td>\n",
       "      <td>NaN</td>\n",
       "      <td>NaN</td>\n",
       "      <td>French&amp;nbsp;Description</td>\n",
       "      <td>Description&amp;nbsp;en&amp;nbsp;français</td>\n",
       "      <td>3</td>\n",
       "      <td>NaN</td>\n",
       "      <td>NaN</td>\n",
       "      <td>Text</td>\n",
       "      <td>4.0</td>\n",
       "      <td>4.0</td>\n",
       "      <td>NaN</td>\n",
       "      <td>NaN</td>\n",
       "      <td>NaN</td>\n",
       "      <td>2004-12-23 09:33:39</td>\n",
       "    </tr>\n",
       "  </tbody>\n",
       "</table>\n",
       "<p>75 rows × 20 columns</p>\n",
       "</div>"
      ],
      "text/plain": [
       "    col0           col1    col2   col3  col4  col5                col6  \\\n",
       "0      1      AcronymID    Text   50.0     1     1                Code   \n",
       "1      2     LanguageID    Text    NaN     0     0            Language   \n",
       "2      3   DescriptionE    Text  255.0     1     1  E&nbsp;Description   \n",
       "3      4   DescriptionF    Text  255.0     1     0                 NaN   \n",
       "4      5  AcronymTypeID  Number    NaN     0     0                 NaN   \n",
       "..   ...            ...     ...    ...   ...   ...                 ...   \n",
       "70    71      AcronymID    Text   20.0     1     1             Acronym   \n",
       "71    72     LastUpdate    Date    NaN     0     0                 NaN   \n",
       "72    73     LastUpdate    Date    NaN     0     0                 NaN   \n",
       "73    74          NoteE    Text    NaN     1     0                 NaN   \n",
       "74    75          NoteF    Text    NaN     1     0                 NaN   \n",
       "\n",
       "                  col7                      col8  \\\n",
       "0                 Code         Acronym&nbsp;Code   \n",
       "1               Langue                  Language   \n",
       "2   Description&nbsp;F  English&nbsp;Description   \n",
       "3                  NaN   French&nbsp;Description   \n",
       "4                  NaN                      Type   \n",
       "..                 ...                       ...   \n",
       "70            Acronyme                   Acronym   \n",
       "71                 NaN               Last Update   \n",
       "72                 NaN               Last Update   \n",
       "73                 NaN  English&nbsp;Description   \n",
       "74                 NaN   French&nbsp;Description   \n",
       "\n",
       "                                 col9  col10 col11 col12   col13  col14  \\\n",
       "0                Code&nbsp;d'acronyme      1   NaN   NaN    Text    1.0   \n",
       "1                              Langue      1   NaN   NaN  Select    2.0   \n",
       "2           Description&nbsp;anglaise      1   NaN   NaN    Text    3.0   \n",
       "3         Description &nbsp;française      1   NaN   NaN    Text    4.0   \n",
       "4                                Type      1   NaN   NaN  Select    5.0   \n",
       "..                                ...    ...   ...   ...     ...    ...   \n",
       "70                           Acronyme     13   NaN   NaN  Select    2.0   \n",
       "71                         Mis à jour     13   NaN   NaN     NaN    NaN   \n",
       "72                        Last Update      7   NaN   NaN     NaN    NaN   \n",
       "73   Description&nbsp;en&nbsp;anglais      3   NaN   NaN    Text    3.0   \n",
       "74  Description&nbsp;en&nbsp;français      3   NaN   NaN    Text    4.0   \n",
       "\n",
       "    col15         col16        col17 col18                col19  \n",
       "0     1.0           NaN          NaN   NaN  2004-12-02 14:48:48  \n",
       "1     4.0     Languages   LanguageID   NaN  2004-11-26 10:14:07  \n",
       "2     2.0           NaN          NaN   NaN  2004-11-26 10:15:14  \n",
       "3     3.0           NaN          NaN   NaN  2004-11-26 10:15:27  \n",
       "4     5.0  AcronymTypes  Description   NaN  2004-11-26 10:15:34  \n",
       "..    ...           ...          ...   ...                  ...  \n",
       "70    2.0      Acronyms    AcronymID   NaN  2004-11-26 10:31:58  \n",
       "71    NaN           NaN          NaN   NaN  2004-11-26 10:32:09  \n",
       "72    NaN           NaN          NaN   NaN  2004-11-29 13:32:23  \n",
       "73    3.0           NaN          NaN   NaN  2004-12-23 09:31:41  \n",
       "74    4.0           NaN          NaN   NaN  2004-12-23 09:33:39  \n",
       "\n",
       "[75 rows x 20 columns]"
      ]
     },
     "execution_count": 29,
     "metadata": {},
     "output_type": "execute_result"
    }
   ],
   "source": [
    "df"
   ]
  },
  {
   "cell_type": "code",
   "execution_count": null,
   "metadata": {},
   "outputs": [],
   "source": []
  },
  {
   "cell_type": "markdown",
   "metadata": {},
   "source": [
    "# Results analysis"
   ]
  },
  {
   "cell_type": "code",
   "execution_count": 4,
   "metadata": {},
   "outputs": [],
   "source": [
    "import argparse\n",
    "import json\n",
    "import math\n",
    "import os\n",
    "import random\n",
    "from time import time\n",
    "\n",
    "import numpy as np\n",
    "import pandas as pd\n",
    "from sklearn.metrics import f1_score\n",
    "import torch\n",
    "import seaborn as sns"
   ]
  },
  {
   "cell_type": "code",
   "execution_count": 184,
   "metadata": {},
   "outputs": [],
   "source": []
  },
  {
   "cell_type": "code",
   "execution_count": 167,
   "metadata": {},
   "outputs": [
    {
     "data": {
      "text/plain": [
       "26"
      ]
     },
     "execution_count": 167,
     "metadata": {},
     "output_type": "execute_result"
    }
   ],
   "source": [
    "target_type_id"
   ]
  },
  {
   "cell_type": "code",
   "execution_count": 168,
   "metadata": {},
   "outputs": [
    {
     "data": {
      "text/plain": [
       "9.0"
      ]
     },
     "execution_count": 168,
     "metadata": {},
     "output_type": "execute_result"
    }
   ],
   "source": [
    "class_count_test[26]"
   ]
  },
  {
   "cell_type": "markdown",
   "metadata": {},
   "source": [
    "types = np.array(['id', 'name', 'description', 'type', 'title', 'state', 'status',\n",
    "       'date', 'code', 'city', 'value', 'source', 'year', 'time',\n",
    "       'country', 'county', 'comment', 'notes', 'category', 'address',\n",
    "       'age', 'gender', 'location', 'version', 'price', 'sex',\n",
    "       'startDate', 'weight', 'class', 'endDate', 'field', 'region',\n",
    "       'note', 'race', 'duration', 'species', 'score', 'position',\n",
    "       'start', 'language', 'rank', 'height', 'population', 'order',\n",
    "       'length', 'filename', 'model', 'role', 'series', 'max', 'min',\n",
    "       'family', 'currency', 'definition', 'format', 'author', 'area',\n",
    "       'domain', 'rating', 'parent', 'number', 'birthDate', 'alias',\n",
    "       'postalCode', 'reference', 'cost', 'publisher', 'treatment',\n",
    "       'created', 'company', 'district', 'elevation', 'project', 'day',\n",
    "       'end', 'scientificName', 'abbreviation', 'part', 'countryCode',\n",
    "       'season', 'topic', 'depth', 'road', 'prefix', 'month', 'route',\n",
    "       'width', 'department', 'percentage', 'zipCode', 'abstract',\n",
    "       'event', 'creator', 'frequency', 'releaseDate', 'genus', 'tag',\n",
    "       'owner', 'party', 'period', 'result'])\n",
    "type2id = {t: i for i, t in enumerate(types)}\n",
    "id2type = {i: t for i, t in enumerate(types)}\n",
    "column_categories = {\n",
    "    \"Numerical\": ['age', 'value', 'price', 'weight', 'score', 'rank', 'height', 'population', 'order', 'length', 'max', 'min', 'number', 'cost', 'elevation', 'depth', 'width', 'percentage'],\n",
    "    \"Categorical\": ['id', 'name', 'description', 'type', 'title', 'state', 'status', 'code', 'city', 'source', 'country', 'county', 'comment', 'notes', 'category', 'address', 'gender', 'location', 'version', 'sex', 'class', 'field', 'region', 'note', 'race', 'species', 'position', 'language', 'filename', 'model', 'role', 'series', 'family', 'currency', 'definition', 'format', 'author', 'area', 'domain', 'rating', 'parent', 'alias', 'postalCode', 'reference', 'publisher', 'treatment', 'company', 'district', 'project', 'scientificName', 'abbreviation', 'part', 'countryCode', 'topic', 'road', 'prefix', 'route', 'department', 'zipCode', 'abstract', 'event', 'creator', 'genus', 'tag', 'owner', 'party', 'result'],\n",
    "    \"Datetime\": ['date', 'time', 'startDate', 'endDate', 'birthDate', 'created', 'day', 'end', 'month', 'period', 'releaseDate', 'season'],\n",
    "    \"Other\": ['start', 'duration', 'project', 'frequency']\n",
    "}\n",
    "is_numerical = np.array([t in column_categories[\"Numerical\"] for t in types])\n",
    "is_categorical = np.array([t in column_categories[\"Categorical\"] for t in types])\n",
    "is_datetime = np.array([t in column_categories[\"Datetime\"] for t in types])\n",
    "is_other = np.array([t in column_categories[\"Other\"] for t in types])"
   ]
  },
  {
   "cell_type": "code",
   "execution_count": 23,
   "metadata": {},
   "outputs": [],
   "source": [
    "\n",
    "base_dirpath = \"/data/zhihao/TU/GitTables/semtab_gittables/2022/\"\n",
    "seperator = \"semi\"\n",
    "basename = seperator+\"_cv_{}.csv\"\n",
    "df_list = []\n",
    "cv = 0\n",
    "filepath = os.path.join(base_dirpath, basename.format(cv))\n",
    "df_test = pd.read_csv(filepath)\n",
    "\n",
    "df_group_test = df_test.groupby(\"table_id\")\n",
    "\n",
    "\n",
    "\n",
    "df_list = []\n",
    "for i in range(5):\n",
    "    if i == cv:\n",
    "        continue\n",
    "    filepath = os.path.join(base_dirpath, basename.format(i))\n",
    "    df_list.append(pd.read_csv(filepath))\n",
    "df_train = pd.concat(df_list, axis=0)\n",
    "df_group_train = df_train.groupby(\"table_id\")"
   ]
  },
  {
   "cell_type": "code",
   "execution_count": 31,
   "metadata": {},
   "outputs": [],
   "source": [
    "null_tables = []\n",
    "for i, group_df in df_group_train:\n",
    "    if len(group_df[group_df['class_id'] > -1]) == 0:\n",
    "        null_tables.append(i)"
   ]
  },
  {
   "cell_type": "code",
   "execution_count": 32,
   "metadata": {},
   "outputs": [
    {
     "data": {
      "text/plain": [
       "['GitTables_102063',\n",
       " 'GitTables_102357',\n",
       " 'GitTables_10343',\n",
       " 'GitTables_105188',\n",
       " 'GitTables_108763',\n",
       " 'GitTables_108949',\n",
       " 'GitTables_111036',\n",
       " 'GitTables_112789',\n",
       " 'GitTables_113296',\n",
       " 'GitTables_115460',\n",
       " 'GitTables_116239',\n",
       " 'GitTables_117063',\n",
       " 'GitTables_11721',\n",
       " 'GitTables_11981',\n",
       " 'GitTables_12119',\n",
       " 'GitTables_12166',\n",
       " 'GitTables_123801',\n",
       " 'GitTables_127374',\n",
       " 'GitTables_127446',\n",
       " 'GitTables_12891',\n",
       " 'GitTables_129067',\n",
       " 'GitTables_130',\n",
       " 'GitTables_130397',\n",
       " 'GitTables_131172',\n",
       " 'GitTables_134798',\n",
       " 'GitTables_134806',\n",
       " 'GitTables_136637',\n",
       " 'GitTables_138042',\n",
       " 'GitTables_146527',\n",
       " 'GitTables_14681',\n",
       " 'GitTables_147691',\n",
       " 'GitTables_150101',\n",
       " 'GitTables_151389',\n",
       " 'GitTables_154301',\n",
       " 'GitTables_154434',\n",
       " 'GitTables_155165',\n",
       " 'GitTables_158107',\n",
       " 'GitTables_16230',\n",
       " 'GitTables_16435',\n",
       " 'GitTables_165713',\n",
       " 'GitTables_166396',\n",
       " 'GitTables_168195',\n",
       " 'GitTables_168362',\n",
       " 'GitTables_16850',\n",
       " 'GitTables_169746',\n",
       " 'GitTables_171509',\n",
       " 'GitTables_172995',\n",
       " 'GitTables_174069',\n",
       " 'GitTables_175114',\n",
       " 'GitTables_176419',\n",
       " 'GitTables_18172',\n",
       " 'GitTables_1823',\n",
       " 'GitTables_183973',\n",
       " 'GitTables_186055',\n",
       " 'GitTables_186079',\n",
       " 'GitTables_192058',\n",
       " 'GitTables_19511',\n",
       " 'GitTables_196486',\n",
       " 'GitTables_197351',\n",
       " 'GitTables_201383',\n",
       " 'GitTables_201544',\n",
       " 'GitTables_20472',\n",
       " 'GitTables_21171',\n",
       " 'GitTables_21562',\n",
       " 'GitTables_21968',\n",
       " 'GitTables_2286',\n",
       " 'GitTables_2414',\n",
       " 'GitTables_24910',\n",
       " 'GitTables_28390',\n",
       " 'GitTables_3',\n",
       " 'GitTables_30121',\n",
       " 'GitTables_30209',\n",
       " 'GitTables_30490',\n",
       " 'GitTables_30706',\n",
       " 'GitTables_30900',\n",
       " 'GitTables_31710',\n",
       " 'GitTables_31992',\n",
       " 'GitTables_33421',\n",
       " 'GitTables_33435',\n",
       " 'GitTables_36240',\n",
       " 'GitTables_36305',\n",
       " 'GitTables_3673',\n",
       " 'GitTables_36746',\n",
       " 'GitTables_39101',\n",
       " 'GitTables_40044',\n",
       " 'GitTables_40336',\n",
       " 'GitTables_44812',\n",
       " 'GitTables_45135',\n",
       " 'GitTables_4776',\n",
       " 'GitTables_49430',\n",
       " 'GitTables_49939',\n",
       " 'GitTables_511',\n",
       " 'GitTables_5149',\n",
       " 'GitTables_54727',\n",
       " 'GitTables_55083',\n",
       " 'GitTables_5627',\n",
       " 'GitTables_5665',\n",
       " 'GitTables_56775',\n",
       " 'GitTables_63487',\n",
       " 'GitTables_63624',\n",
       " 'GitTables_64068',\n",
       " 'GitTables_64088',\n",
       " 'GitTables_6576',\n",
       " 'GitTables_67939',\n",
       " 'GitTables_70344',\n",
       " 'GitTables_70945',\n",
       " 'GitTables_71100',\n",
       " 'GitTables_71269',\n",
       " 'GitTables_72176',\n",
       " 'GitTables_72708',\n",
       " 'GitTables_75',\n",
       " 'GitTables_75554',\n",
       " 'GitTables_76581',\n",
       " 'GitTables_76873',\n",
       " 'GitTables_7759',\n",
       " 'GitTables_7873',\n",
       " 'GitTables_83684',\n",
       " 'GitTables_85324',\n",
       " 'GitTables_88768',\n",
       " 'GitTables_91012',\n",
       " 'GitTables_91587',\n",
       " 'GitTables_94443',\n",
       " 'GitTables_95413',\n",
       " 'GitTables_9557',\n",
       " 'GitTables_96419',\n",
       " 'GitTables_96947']"
      ]
     },
     "execution_count": 32,
     "metadata": {},
     "output_type": "execute_result"
    }
   ],
   "source": [
    "null_tables"
   ]
  },
  {
   "cell_type": "code",
   "execution_count": 30,
   "metadata": {},
   "outputs": [
    {
     "data": {
      "text/html": [
       "<div>\n",
       "<style scoped>\n",
       "    .dataframe tbody tr th:only-of-type {\n",
       "        vertical-align: middle;\n",
       "    }\n",
       "\n",
       "    .dataframe tbody tr th {\n",
       "        vertical-align: top;\n",
       "    }\n",
       "\n",
       "    .dataframe thead th {\n",
       "        text-align: right;\n",
       "    }\n",
       "</style>\n",
       "<table border=\"1\" class=\"dataframe\">\n",
       "  <thead>\n",
       "    <tr style=\"text-align: right;\">\n",
       "      <th></th>\n",
       "      <th>table_id</th>\n",
       "      <th>col_idx</th>\n",
       "      <th>class</th>\n",
       "      <th>class_id</th>\n",
       "      <th>data</th>\n",
       "    </tr>\n",
       "  </thead>\n",
       "  <tbody>\n",
       "    <tr>\n",
       "      <th>0</th>\n",
       "      <td>GitTables_100210</td>\n",
       "      <td>0</td>\n",
       "      <td>id</td>\n",
       "      <td>0</td>\n",
       "      <td>163915846063865;155711202630775;20533463706221...</td>\n",
       "    </tr>\n",
       "    <tr>\n",
       "      <th>1</th>\n",
       "      <td>GitTables_100210</td>\n",
       "      <td>1</td>\n",
       "      <td>NaN</td>\n",
       "      <td>-1</td>\n",
       "      <td>False;False;False;False;False;False;False;Fals...</td>\n",
       "    </tr>\n",
       "    <tr>\n",
       "      <th>2</th>\n",
       "      <td>GitTables_100210</td>\n",
       "      <td>2</td>\n",
       "      <td>NaN</td>\n",
       "      <td>-1</td>\n",
       "      <td>2021-03-22 14:20:57;2021-03-22 14:20:57;2021-0...</td>\n",
       "    </tr>\n",
       "    <tr>\n",
       "      <th>3</th>\n",
       "      <td>GitTables_100210</td>\n",
       "      <td>4</td>\n",
       "      <td>NaN</td>\n",
       "      <td>-1</td>\n",
       "      <td>2016-08-04 17:26:14;2016-07-14 23:52:42;2016-1...</td>\n",
       "    </tr>\n",
       "    <tr>\n",
       "      <th>4</th>\n",
       "      <td>GitTables_100210</td>\n",
       "      <td>6</td>\n",
       "      <td>NaN</td>\n",
       "      <td>-1</td>\n",
       "      <td>54ce99fa85c92b1d87678436e956a2e8;5b6cf869265c1...</td>\n",
       "    </tr>\n",
       "    <tr>\n",
       "      <th>5</th>\n",
       "      <td>GitTables_100210</td>\n",
       "      <td>8</td>\n",
       "      <td>NaN</td>\n",
       "      <td>-1</td>\n",
       "      <td>2104505001950;2104505001950;2104505001950;2104...</td>\n",
       "    </tr>\n",
       "  </tbody>\n",
       "</table>\n",
       "</div>"
      ],
      "text/plain": [
       "           table_id  col_idx class  class_id  \\\n",
       "0  GitTables_100210        0    id         0   \n",
       "1  GitTables_100210        1   NaN        -1   \n",
       "2  GitTables_100210        2   NaN        -1   \n",
       "3  GitTables_100210        4   NaN        -1   \n",
       "4  GitTables_100210        6   NaN        -1   \n",
       "5  GitTables_100210        8   NaN        -1   \n",
       "\n",
       "                                                data  \n",
       "0  163915846063865;155711202630775;20533463706221...  \n",
       "1  False;False;False;False;False;False;False;Fals...  \n",
       "2  2021-03-22 14:20:57;2021-03-22 14:20:57;2021-0...  \n",
       "3  2016-08-04 17:26:14;2016-07-14 23:52:42;2016-1...  \n",
       "4  54ce99fa85c92b1d87678436e956a2e8;5b6cf869265c1...  \n",
       "5  2104505001950;2104505001950;2104505001950;2104...  "
      ]
     },
     "execution_count": 30,
     "metadata": {},
     "output_type": "execute_result"
    }
   ],
   "source": [
    "g"
   ]
  },
  {
   "cell_type": "code",
   "execution_count": 6,
   "metadata": {},
   "outputs": [],
   "source": [
    "import json\n",
    "import numpy as np\n",
    "\n",
    "# Function to load confusion matrix from JSON file\n",
    "# with open(\"/data/zhihao/TU/doduo/eval/sato0_mosato_bert_bert-base-uncased-bs16-ml-32__sato0-1.00=sato0.json\", 'r') as f:\n",
    "#     results = json.load(f)\n",
    "with open(f\"/data/zhihao/TU/Watchog/outputs/gt-semtab22-dbpedia{cv}/bert-base-uncased-fromscratch-{seperator}-bs16-ml128-ne50-do0.1_eval.json\", 'r') as f:\n",
    "    results = json.load(f)\n",
    "\n",
    "\n",
    "\n",
    "labels = np.array(results['f1_micro']['true_list'])\n",
    "preds = np.array(results['f1_micro']['pred_list'])\n",
    "class_f1 = np.array(results['f1_micro']['ts_class_f1'])\n",
    "assert len(labels) == len(df_test[\"class_id\"][df_test[\"class_id\"]>-1])\n"
   ]
  },
  {
   "cell_type": "code",
   "execution_count": 7,
   "metadata": {},
   "outputs": [
    {
     "data": {
      "text/plain": [
       "<Axes: >"
      ]
     },
     "execution_count": 7,
     "metadata": {},
     "output_type": "execute_result"
    },
    {
     "data": {
      "image/png": "[encoded data removed]",
      "text/plain": [
       "<Figure size 432x288 with 1 Axes>"
      ]
     },
     "metadata": {
      "needs_background": "light"
     },
     "output_type": "display_data"
    }
   ],
   "source": [
    "import seaborn as sns\n",
    "class_count = df_train[\"class_id\"][df_train[\"class_id\"]>-1].value_counts().sort_index().values\n",
    "class_freq = class_count/len(df_train)\n",
    "sns.barplot(x=np.arange(len(class_freq)), y=class_freq)"
   ]
  },
  {
   "cell_type": "code",
   "execution_count": 8,
   "metadata": {},
   "outputs": [
    {
     "data": {
      "text/plain": [
       "<Axes: >"
      ]
     },
     "execution_count": 8,
     "metadata": {},
     "output_type": "execute_result"
    },
    {
     "data": {
      "image/png": "[encoded data removed]",
      "text/plain": [
       "<Figure size 432x288 with 1 Axes>"
      ]
     },
     "metadata": {
      "needs_background": "light"
     },
     "output_type": "display_data"
    }
   ],
   "source": [
    "import seaborn as sns\n",
    "class_count_test = np.zeros(len(class_count))\n",
    "class_count_test[df_test[\"class_id\"][df_test[\"class_id\"]>-1].value_counts().sort_index().keys()] = df_test[\"class_id\"][df_test[\"class_id\"]>-1].value_counts().sort_index().values\n",
    "class_freq_test = class_count_test/len(df_test)\n",
    "sns.barplot(x=np.arange(len(class_freq_test)), y=class_freq_test)"
   ]
  },
  {
   "cell_type": "code",
   "execution_count": 9,
   "metadata": {},
   "outputs": [
    {
     "data": {
      "image/png": "[encoded data removed]",
      "text/plain": [
       "<Figure size 432x288 with 1 Axes>"
      ]
     },
     "metadata": {
      "needs_background": "light"
     },
     "output_type": "display_data"
    }
   ],
   "source": [
    "import numpy as np\n",
    "import matplotlib.pyplot as plt\n",
    "\n",
    "# Assuming class_f1 and class_frequencies are your actual data\n",
    "plt.scatter(class_freq, class_f1)\n",
    "plt.xlabel('Class Frequencies')\n",
    "plt.ylabel('F1 Scores')\n",
    "plt.title('F1 Scores vs Class Frequencies')\n",
    "plt.show()"
   ]
  },
  {
   "cell_type": "code",
   "execution_count": 19,
   "metadata": {},
   "outputs": [],
   "source": [
    "# analyze the largest class\n",
    "largest_class = np.argmax(class_freq)\n",
    "mask = labels == largest_class\n",
    "labels_target = labels[mask]\n",
    "preds_target = preds[mask]"
   ]
  },
  {
   "cell_type": "code",
   "execution_count": 20,
   "metadata": {},
   "outputs": [
    {
     "data": {
      "text/plain": [
       "258"
      ]
     },
     "execution_count": 20,
     "metadata": {},
     "output_type": "execute_result"
    }
   ],
   "source": [
    "len(labels_target)"
   ]
  },
  {
   "cell_type": "code",
   "execution_count": 56,
   "metadata": {},
   "outputs": [
    {
     "name": "stdout",
     "output_type": "stream",
     "text": [
      "[0 1 2 3 4 5 6]\n"
     ]
    }
   ],
   "source": [
    "# TODO\n",
    "count = 0\n",
    "column_length_test_all = []\n",
    "for i, (index, group_df) in enumerate(df_group_test):\n",
    "    column_length_test_all += [len(group_df[group_df[\"class_id\"]>-1])] * len(group_df)\n",
    "column_length_test_all = np.array(column_length_test_all)\n",
    "print(np.unique(column_length_test_all))"
   ]
  },
  {
   "cell_type": "code",
   "execution_count": 57,
   "metadata": {},
   "outputs": [
    {
     "data": {
      "text/plain": [
       "False"
      ]
     },
     "execution_count": 57,
     "metadata": {},
     "output_type": "execute_result"
    }
   ],
   "source": [
    "len(column_length_test_all) == len(labels)"
   ]
  },
  {
   "cell_type": "code",
   "execution_count": 58,
   "metadata": {},
   "outputs": [
    {
     "data": {
      "text/plain": [
       "(9762,)"
      ]
     },
     "execution_count": 58,
     "metadata": {},
     "output_type": "execute_result"
    }
   ],
   "source": [
    "column_length_test_all.shape"
   ]
  },
  {
   "cell_type": "code",
   "execution_count": 62,
   "metadata": {},
   "outputs": [
    {
     "data": {
      "text/plain": [
       "False"
      ]
     },
     "execution_count": 62,
     "metadata": {},
     "output_type": "execute_result"
    }
   ],
   "source": [
    "labels"
   ]
  },
  {
   "cell_type": "code",
   "execution_count": 60,
   "metadata": {},
   "outputs": [
    {
     "data": {
      "text/plain": [
       "1154"
      ]
     },
     "execution_count": 60,
     "metadata": {},
     "output_type": "execute_result"
    }
   ],
   "source": [
    "len(labels)"
   ]
  },
  {
   "cell_type": "code",
   "execution_count": 107,
   "metadata": {},
   "outputs": [],
   "source": [
    "num = 0\n",
    "target_type = \"id\"\n",
    "column_length_test = []\n",
    "column_length_train = []\n",
    "target_type_id = np.where(types==target_type )[0][0]\n",
    "for i, (index, group_df) in enumerate(df_group_test):\n",
    "    if target_type in group_df[\"class\"].values:\n",
    "        column_length_test.append(len(group_df[group_df[\"class_id\"]>-1]))\n",
    "for i, (index, group_df) in enumerate(df_group_train):\n",
    "    if target_type in group_df[\"class\"].values:\n",
    "        column_length_train.append(len(group_df[group_df[\"class_id\"]>-1]))\n",
    "        "
   ]
  },
  {
   "cell_type": "code",
   "execution_count": 108,
   "metadata": {},
   "outputs": [
    {
     "data": {
      "text/plain": [
       "<Axes: ylabel='Count'>"
      ]
     },
     "execution_count": 108,
     "metadata": {},
     "output_type": "execute_result"
    },
    {
     "data": {
      "image/png": "[encoded data removed]",
      "text/plain": [
       "<Figure size 432x288 with 1 Axes>"
      ]
     },
     "metadata": {
      "needs_background": "light"
     },
     "output_type": "display_data"
    }
   ],
   "source": [
    "sns.histplot(column_length_train)"
   ]
  },
  {
   "cell_type": "code",
   "execution_count": 27,
   "metadata": {},
   "outputs": [
    {
     "data": {
      "text/plain": [
       "<Axes: ylabel='Count'>"
      ]
     },
     "execution_count": 27,
     "metadata": {},
     "output_type": "execute_result"
    },
    {
     "data": {
      "image/png": "[encoded data removed]",
      "text/plain": [
       "<Figure size 432x288 with 1 Axes>"
      ]
     },
     "metadata": {
      "needs_background": "light"
     },
     "output_type": "display_data"
    }
   ],
   "source": [
    "sns.histplot(column_length_test)"
   ]
  },
  {
   "cell_type": "code",
   "execution_count": 28,
   "metadata": {},
   "outputs": [
    {
     "name": "stdout",
     "output_type": "stream",
     "text": [
      "1 0.7972027972027972\n",
      "2 0.7654320987654321\n",
      "3 0.9629629629629629\n",
      "4 0.75\n",
      "5 0.0\n",
      "6 0.5\n"
     ]
    }
   ],
   "source": [
    "for i in np.unique(column_length_test):\n",
    "    mask = column_length_test==i\n",
    "    acc = (labels_target[mask] == preds_target[mask]).sum()/mask.sum()\n",
    "    # cl_freq = class_freq[labels[mask]].mean()\n",
    "    print(i, acc)"
   ]
  },
  {
   "cell_type": "code",
   "execution_count": 110,
   "metadata": {},
   "outputs": [
    {
     "name": "stderr",
     "output_type": "stream",
     "text": [
      "/tmp/ipykernel_2883630/1801666482.py:6: FutureWarning: elementwise comparison failed; returning scalar instead, but in the future will perform elementwise comparison\n",
      "  mask = labels == target_type_id\n"
     ]
    },
    {
     "name": "stdout",
     "output_type": "stream",
     "text": [
      "0\n"
     ]
    },
    {
     "data": {
      "text/plain": [
       "<Axes: ylabel='Count'>"
      ]
     },
     "execution_count": 110,
     "metadata": {},
     "output_type": "execute_result"
    },
    {
     "data": {
      "image/png": "[encoded data removed]",
      "text/plain": [
       "<Figure size 432x288 with 1 Axes>"
      ]
     },
     "metadata": {
      "needs_background": "light"
     },
     "output_type": "display_data"
    }
   ],
   "source": [
    "num = 0\n",
    "target_type = 'name'\n",
    "column_length_test = []\n",
    "column_length_train = []\n",
    "target_type_id = np.where(types==target_type )[0][0]\n",
    "mask = labels == target_type_id\n",
    "labels_target = labels[mask]\n",
    "preds_target = preds[mask]\n",
    "for i, (index, group_df) in enumerate(df_group_test):\n",
    "    if target_type in group_df[\"class\"].values:\n",
    "        column_length_test.append(len(group_df[group_df[\"class_id\"]>-1]))\n",
    "for i, (index, group_df) in enumerate(df_group_train):\n",
    "    if target_type in group_df[\"class\"].values:\n",
    "        column_length_train.append(len(group_df[group_df[\"class_id\"]>-1]))\n",
    "print(len(labels_target))\n",
    "sns.histplot(column_length_test)\n",
    "sns.histplot(column_length_train)"
   ]
  },
  {
   "cell_type": "code",
   "execution_count": 32,
   "metadata": {},
   "outputs": [
    {
     "name": "stdout",
     "output_type": "stream",
     "text": [
      "1 0.5\n",
      "2 0.6274509803921569\n",
      "3 0.75\n",
      "4 1.0\n",
      "5 1.0\n",
      "6 1.0\n"
     ]
    }
   ],
   "source": [
    "for i in np.unique(column_length_test):\n",
    "    mask = column_length_test==i\n",
    "    acc = (labels_target[mask] == preds_target[mask]).sum()/mask.sum()\n",
    "    # cl_freq = class_freq[labels[mask]].mean()\n",
    "    print(i, acc)"
   ]
  },
  {
   "cell_type": "code",
   "execution_count": 36,
   "metadata": {},
   "outputs": [
    {
     "name": "stdout",
     "output_type": "stream",
     "text": [
      "66\n"
     ]
    },
    {
     "data": {
      "text/plain": [
       "<Axes: ylabel='Count'>"
      ]
     },
     "execution_count": 36,
     "metadata": {},
     "output_type": "execute_result"
    },
    {
     "data": {
      "image/png": "[encoded data removed]",
      "text/plain": [
       "<Figure size 432x288 with 1 Axes>"
      ]
     },
     "metadata": {
      "needs_background": "light"
     },
     "output_type": "display_data"
    }
   ],
   "source": [
    "num = 0\n",
    "target_type = 'description' # 'description', 'type'\n",
    "column_length_test = []\n",
    "target_type_id = np.where(types==target_type )[0][0]\n",
    "mask = labels == target_type_id\n",
    "labels_target = labels[mask]\n",
    "preds_target = preds[mask]\n",
    "for i, (index, group_df) in enumerate(df_group_test):\n",
    "    if target_type in group_df[\"class\"].values:\n",
    "        column_length_test.append(len(group_df[group_df[\"class_id\"]>-1]))\n",
    "print(len(labels_target))\n",
    "sns.histplot(column_length_test)"
   ]
  },
  {
   "cell_type": "code",
   "execution_count": 37,
   "metadata": {},
   "outputs": [
    {
     "name": "stdout",
     "output_type": "stream",
     "text": [
      "1 0.5517241379310345\n",
      "2 0.7222222222222222\n",
      "3 0.75\n",
      "4 0.3333333333333333\n",
      "5 0.3333333333333333\n",
      "6 0.0\n"
     ]
    }
   ],
   "source": [
    "for i in np.unique(column_length_test):\n",
    "    mask = column_length_test==i\n",
    "    acc = (labels_target[mask] == preds_target[mask]).sum()/mask.sum()\n",
    "    # cl_freq = class_freq[labels[mask]].mean()\n",
    "    print(i, acc)"
   ]
  },
  {
   "cell_type": "code",
   "execution_count": 34,
   "metadata": {},
   "outputs": [
    {
     "name": "stdout",
     "output_type": "stream",
     "text": [
      "51\n"
     ]
    },
    {
     "data": {
      "text/plain": [
       "<Axes: ylabel='Count'>"
      ]
     },
     "execution_count": 34,
     "metadata": {},
     "output_type": "execute_result"
    },
    {
     "data": {
      "image/png": "[encoded data removed]",
      "text/plain": [
       "<Figure size 432x288 with 1 Axes>"
      ]
     },
     "metadata": {
      "needs_background": "light"
     },
     "output_type": "display_data"
    }
   ],
   "source": [
    "num = 0\n",
    "target_type = 'type' # 'description', 'type'\n",
    "column_length_test = []\n",
    "target_type_id = np.where(types==target_type )[0][0]\n",
    "mask = labels == target_type_id\n",
    "labels_target = labels[mask]\n",
    "preds_target = preds[mask]\n",
    "for i, (index, group_df) in enumerate(df_group_test):\n",
    "    if target_type in group_df[\"class\"].values:\n",
    "        column_length_test.append(len(group_df[group_df[\"class_id\"]>-1]))\n",
    "print(len(labels_target))\n",
    "sns.histplot(column_length_test)"
   ]
  },
  {
   "cell_type": "code",
   "execution_count": 35,
   "metadata": {},
   "outputs": [
    {
     "name": "stdout",
     "output_type": "stream",
     "text": [
      "1 0.3684210526315789\n",
      "2 0.7647058823529411\n",
      "3 0.7777777777777778\n",
      "4 0.3333333333333333\n",
      "5 0.0\n"
     ]
    }
   ],
   "source": [
    "for i in np.unique(column_length_test):\n",
    "    mask = column_length_test==i\n",
    "    acc = (labels_target[mask] == preds_target[mask]).sum()/mask.sum()\n",
    "    # cl_freq = class_freq[labels[mask]].mean()\n",
    "    print(i, acc)"
   ]
  },
  {
   "cell_type": "code",
   "execution_count": null,
   "metadata": {},
   "outputs": [],
   "source": []
  },
  {
   "cell_type": "code",
   "execution_count": 145,
   "metadata": {},
   "outputs": [
    {
     "name": "stdout",
     "output_type": "stream",
     "text": [
      "percentage 1.0 10 2.0\n",
      "birthDate 1.0 15 4.0\n",
      "address 0.8823529411764706 58 14.0\n",
      "year 0.8780487804878049 73 19.0\n",
      "currency 0.8571428571428571 17 4.0\n",
      "county 0.8461538461538461 60 16.0\n",
      "id 0.7992424242424242 1036 258.0\n",
      "country 0.7777777777777778 64 16.0\n",
      "filename 0.7272727272727273 20 5.0\n",
      "abbreviation 0.6666666666666666 11 3.0\n"
     ]
    }
   ],
   "source": [
    "# 0\n",
    "acc_order = np.argsort(class_f1)\n",
    "for i in range(10):\n",
    "    print(types[acc_order[-i-1]], class_f1[acc_order[-i-1]], class_count[acc_order[-i-1]], class_count_test[acc_order[-i-1]])"
   ]
  },
  {
   "cell_type": "code",
   "execution_count": 205,
   "metadata": {},
   "outputs": [
    {
     "name": "stdout",
     "output_type": "stream",
     "text": [
      "id 0.7992424242424242 1036 264.0\n",
      "name 0.653968253968254 586 146.0\n",
      "description 0.5454545454545454 252 63.0\n",
      "type 0.5 208 53.0\n",
      "title 0.5333333333333333 133 34.0\n"
     ]
    }
   ],
   "source": [
    "freq_order = np.argsort(class_freq)\n",
    "for i in range(5):\n",
    "    print(types[freq_order[-i-1]], class_f1[freq_order[-i-1]], class_count[freq_order[-i-1]], class_count_test[freq_order[-i-1]])"
   ]
  },
  {
   "cell_type": "code",
   "execution_count": null,
   "metadata": {},
   "outputs": [],
   "source": []
  },
  {
   "cell_type": "code",
   "execution_count": 225,
   "metadata": {},
   "outputs": [
    {
     "data": {
      "text/plain": [
       "array([], dtype=int64)"
      ]
     },
     "execution_count": 225,
     "metadata": {},
     "output_type": "execute_result"
    }
   ],
   "source": [
    "np.nonzero(group_df[\"class_id\"].values==target_type_id)[0]"
   ]
  },
  {
   "cell_type": "code",
   "execution_count": 222,
   "metadata": {},
   "outputs": [
    {
     "data": {
      "text/plain": [
       "4"
      ]
     },
     "execution_count": 222,
     "metadata": {},
     "output_type": "execute_result"
    }
   ],
   "source": [
    "np.nonzero(group_df[\"class_id\"].values==target_type_id)[0][0]"
   ]
  },
  {
   "cell_type": "code",
   "execution_count": 230,
   "metadata": {},
   "outputs": [],
   "source": [
    "# num = 0\n",
    "# target_type = \"id\"\n",
    "# target_type_id = np.where(types==target_type )[0][0]\n",
    "# for i, (index, group_df) in enumerate(df_group_test):\n",
    "#     if target_type in group_df[\"class\"].values:\n",
    "#         if preds[labels==target_type_id][num] != target_type_id:\n",
    "#             print(types[preds[labels==target_type_id]][num], \"||\",group_df[group_df[\"class_id\"]>-1][[\"class\", \"data\"]])\n",
    "#             print(\"================================\")\n",
    "#         num += 1\n",
    "#         if num > 60:\n",
    "#             break"
   ]
  },
  {
   "cell_type": "code",
   "execution_count": 231,
   "metadata": {},
   "outputs": [
    {
     "name": "stdout",
     "output_type": "stream",
     "text": [
      "id ||   class                                               data\n",
      "0    id  state_id_0;state_id_1;state_id_2;state_id_3;st...\n",
      "1  name  Alytaus apskritis;Kauno apskritis;Klaipėdos ap...\n",
      "================================\n",
      "id ||    class                                               data\n",
      "43    id  1;2;3;4;5;6;857;858;859;860;861;862;1713;1714;...\n",
      "46  date  2015-09-17;2015-09-17;2015-09-17;2015-09-17;20...\n",
      "================================\n",
      "id ||    class                                               data\n",
      "51    id  1;2;3;4;5;6;7;8;9;10;11;12;13;14;15;16;17;18;1...\n",
      "================================\n",
      "rank ||       class                                               data\n",
      "88  species  setosa;setosa;setosa;setosa;setosa;setosa;seto...\n",
      "89       id  1;2;3;4;5;6;7;8;9;10;11;12;13;14;15;16;17;18;1...\n",
      "================================\n",
      "id ||       class         data\n",
      "147      id  1;2;3;4;5;6\n",
      "162  status  1;1;1;1;1;1\n",
      "================================\n",
      "id ||     class                                       data\n",
      "219    id  1;2;3;4;5;6;7;8;9;10;11;12;13;14;15;16;17\n",
      "================================\n",
      "id ||     class                                               data\n",
      "244    id  1;2;3;4;5;6;7;8;9;10;11;12;13;14;15;16;17;18;1...\n",
      "================================\n",
      "id ||     class                                               data\n",
      "250    id  1;2;3;4;5;6;7;8;9;10;11;12;13;14;15;16;17;18;1...\n",
      "================================\n",
      "id ||     class                                               data\n",
      "268    id  968;925;970;973;974;931;976;837;981;984;985;93...\n",
      "================================\n",
      "id ||      class                                               data\n",
      "275     id  1;2;3;4;5;6;7;8;9;10;11;12;13;14;15;16;17;18;1...\n",
      "278   name  一般土建工程;电气工程;采暖工程;给排水工程;通风工程;消防预埋工程;一般土建工程;电气工程...\n",
      "281  state                                                0.0\n",
      "================================\n",
      "id ||     class                       data\n",
      "328    id  60-99;40-49;(CDAVR);50-59\n",
      "================================\n"
     ]
    }
   ],
   "source": [
    "num = 0\n",
    "target_type = \"id\"\n",
    "target_type_id = np.where(types==target_type )[0][0]\n",
    "for i, (index, group_df) in enumerate(df_group_test):\n",
    "    if target_type in group_df[\"class\"].values:\n",
    "        print(types[preds[labels==target_type_id]][num], \"||\",group_df[group_df[\"class_id\"]>-1][[\"class\", \"data\"]])\n",
    "        print(\"================================\")\n",
    "        num += 1\n",
    "        if num > 10:\n",
    "            break"
   ]
  },
  {
   "cell_type": "code",
   "execution_count": 206,
   "metadata": {},
   "outputs": [
    {
     "name": "stdout",
     "output_type": "stream",
     "text": [
      "name ||   class                                               data\n",
      "0    id  state_id_0;state_id_1;state_id_2;state_id_3;st...\n",
      "1  name  Alytaus apskritis;Kauno apskritis;Klaipėdos ap...\n",
      "================================\n",
      "name ||    class                                               data\n",
      "22  name  Norma Fisher;Jorge Sullivan;Elizabeth Woods;Su...\n",
      "================================\n",
      "name ||     class                                               data\n",
      "190  name  Service 1;Cubierta 1;Cubierta 2;Cubierta 3;Cub...\n",
      "================================\n",
      "name ||      class                                               data\n",
      "275     id  1;2;3;4;5;6;7;8;9;10;11;12;13;14;15;16;17;18;1...\n",
      "278   name  一般土建工程;电气工程;采暖工程;给排水工程;通风工程;消防预埋工程;一般土建工程;电气工程...\n",
      "281  state                                                0.0\n",
      "================================\n",
      "name ||         class                                               data\n",
      "309      name  Mozzarella;Cheddar;Pepper Jack;Feta;Butter;Sou...\n",
      "310  category  Dairy;Dairy;Dairy;Dairy;Dairy;Dairy;Dairy;Dair...\n",
      "================================\n",
      "name ||     class                                               data\n",
      "359    id  1;2;3;4;5;6;7;8;9;10;11;12;13;14;15;16;17;18;1...\n",
      "360  name  ランニング類;サイクリング類;水泳類;エクササイズ類;スポーツ類;格闘技類;アウトドア類;そ...\n",
      "================================\n",
      "type ||     class                                               data\n",
      "374  name  Frequency;Frequency;Frequency;Frequency;Freque...\n",
      "================================\n",
      "description ||     class                                               data\n",
      "485    id  htm6PixLJNy;hi7qRC4SMMk;mwSaVq64k7j;oPAg4MA088...\n",
      "488  name  VA-01-Verbal Autopsy ID;VA-02-Sex;VA-03-Date o...\n",
      "================================\n",
      "name ||     class                                               data\n",
      "647  name  神圣战甲术施法者;施毒术受术者;施毒术施法者;隐身术施法者;飓风破受术者;飓风破施法者;火符...\n",
      "================================\n",
      "description ||         class                                               data\n",
      "669    season  2014;2014;2014;2014;2014;2014;2014;2014;2014;2...\n",
      "670    region  MW;MW;MW;MW;MW;MW;MW;MW;MW;MW;MW;MW;MW;MW;MW;S...\n",
      "673      name  MW Round2 Game 1;MW Round2 Game 2;MW Round2 Ga...\n",
      "679  location  Nowhere;Nowhere;Nowhere;Nowhere;Nowhere;Nowher...\n",
      "================================\n",
      "id ||     class                                     data\n",
      "729  name  5000101;5000202;5000303;5000404;5000505\n",
      "================================\n"
     ]
    }
   ],
   "source": [
    "num = 0\n",
    "target_type = \"name\"\n",
    "target_type_id = np.where(types==target_type )[0][0]\n",
    "for i, (index, group_df) in enumerate(df_group_test):\n",
    "    target_id = np.nonzero(group_df[\"class_id\"].values==target_type_id)[0]\n",
    "    if target_type in group_df[\"class\"].values:\n",
    "        print(types[preds[labels==target_type_id]][num], \"||\",group_df[group_df[\"class_id\"]>-1][[\"class\", \"data\"]])\n",
    "        print(\"================================\")\n",
    "        num += 1\n",
    "        if num > 10:\n",
    "            break"
   ]
  },
  {
   "cell_type": "code",
   "execution_count": null,
   "metadata": {},
   "outputs": [],
   "source": []
  },
  {
   "cell_type": "code",
   "execution_count": 186,
   "metadata": {},
   "outputs": [
    {
     "name": "stdout",
     "output_type": "stream",
     "text": [
      "percentage 1.0 10 1.0\n",
      "birthDate 1.0 15 4.0\n",
      "address 0.8823529411764706 58 15.0\n",
      "year 0.8780487804878049 73 19.0\n",
      "currency 0.8571428571428571 17 4.0\n",
      "county 0.8461538461538461 60 14.0\n",
      "id 0.7992424242424242 1036 264.0\n",
      "country 0.7777777777777778 64 17.0\n",
      "filename 0.7272727272727273 20 4.0\n",
      "abbreviation 0.6666666666666666 11 2.0\n"
     ]
    }
   ],
   "source": [
    "# 3 birthDate, year, \n",
    "acc_order = np.argsort(class_f1)\n",
    "for i in range(10):\n",
    "    print(types[acc_order[-i-1]], class_f1[acc_order[-i-1]], class_count[acc_order[-i-1]], class_count_test[acc_order[-i-1]])"
   ]
  },
  {
   "cell_type": "code",
   "execution_count": 234,
   "metadata": {},
   "outputs": [
    {
     "name": "stdout",
     "output_type": "stream",
     "text": [
      "scientificName 0.6666666666666666 12 3.0\n",
      "family 0.6666666666666666 17 4.0\n",
      "name 0.653968253968254 586 146.0\n",
      "city 0.6190476190476191 75 20.0\n",
      "species 0.6153846153846153 25 7.0\n",
      "age 0.5714285714285715 52 15.0\n",
      "status 0.5500000000000002 79 21.0\n",
      "date 0.5490196078431373 87 22.0\n",
      "description 0.5454545454545454 252 63.0\n"
     ]
    }
   ],
   "source": [
    "acc_order = np.argsort(class_f1)\n",
    "for i in range(11, 20):\n",
    "    print(types[acc_order[-i-1]], class_f1[acc_order[-i-1]], class_count[acc_order[-i-1]], class_count_test[acc_order[-i-1]])"
   ]
  },
  {
   "cell_type": "code",
   "execution_count": 266,
   "metadata": {},
   "outputs": [
    {
     "name": "stdout",
     "output_type": "stream",
     "text": [
      "event 0.5 8 3.0\n",
      "treatment 0.5 11 1.0\n",
      "releaseDate 0.5 8 2.0\n",
      "type 0.5 208 53.0\n",
      "format 0.5 13 3.0\n",
      "domain 0.5 16 2.0\n",
      "state 0.4918032786885245 99 26.0\n",
      "road 0.4444444444444444 10 3.0\n",
      "sex 0.4210526315789474 39 8.0\n"
     ]
    }
   ],
   "source": [
    "acc_order = np.argsort(class_f1)\n",
    "for i in range(21, 30):\n",
    "    print(types[acc_order[-i-1]], class_f1[acc_order[-i-1]], class_count[acc_order[-i-1]], class_count_test[acc_order[-i-1]])"
   ]
  },
  {
   "cell_type": "code",
   "execution_count": 188,
   "metadata": {},
   "outputs": [
    {
     "name": "stdout",
     "output_type": "stream",
     "text": [
      "41\n",
      "min 0.0 14 4.0\n",
      "elevation 0.0 13 2.0\n",
      "district 0.0 10 3.0\n",
      "company 0.0 13 2.0\n",
      "created 0.0 11 4.0\n",
      "publisher 0.0 12 3.0\n",
      "cost 0.0 14 3.0\n",
      "reference 0.0 10 3.0\n",
      "alias 0.0 12 3.0\n",
      "number 0.0 15 4.0\n",
      "parent 0.0 12 4.0\n",
      "area 0.0 15 4.0\n",
      "author 0.0 14 4.0\n",
      "definition 0.0 14 4.0\n",
      "period 0.0 7 1.0\n",
      "role 0.0 16 4.0\n",
      "project 0.0 11 2.0\n",
      "length 0.0 19 5.0\n",
      "day 0.0 12 3.0\n",
      "countryCode 0.0 10 3.0\n",
      "party 0.0 7 1.0\n",
      "owner 0.0 6 2.0\n",
      "tag 0.0 5 1.0\n",
      "genus 0.0 6 2.0\n",
      "frequency 0.0 8 2.0\n",
      "creator 0.0 8 2.0\n",
      "abstract 0.0 7 1.0\n",
      "zipCode 0.0 9 2.0\n",
      "department 0.0 7 2.0\n",
      "width 0.0 9 2.0\n",
      "month 0.0 10 3.0\n",
      "prefix 0.0 6 2.0\n",
      "depth 0.0 9 2.0\n",
      "topic 0.0 11 3.0\n",
      "season 0.0 11 3.0\n",
      "end 0.0 12 2.0\n",
      "start 0.0 22 4.0\n",
      "result 0.0 5 1.0\n",
      "score 0.0 24 7.0\n",
      "region 0.0 30 7.0\n",
      "note 0.0 16 4.0\n"
     ]
    }
   ],
   "source": [
    "acc_order = np.argsort(class_f1)\n",
    "num_zero = sum(class_f1==0)\n",
    "print(num_zero)\n",
    "for i in range(num_zero):\n",
    "    print(types[acc_order[i]], class_f1[acc_order[i]], class_count[acc_order[i]], class_count_test[acc_order[i]])"
   ]
  },
  {
   "cell_type": "code",
   "execution_count": 189,
   "metadata": {},
   "outputs": [
    {
     "name": "stdout",
     "output_type": "stream",
     "text": [
      "date 0.5490196078431373 87 22.0 True\n",
      "time 0.33333333333333337 61 15.0 True\n",
      "startDate 0.26666666666666666 32 8.0 True\n",
      "endDate 0.4 24 7.0 True\n",
      "birthDate 1.0 15 4.0 True\n",
      "created 0.0 11 4.0 True\n",
      "day 0.0 12 3.0 True\n",
      "end 0.0 12 2.0 True\n",
      "season 0.0 11 3.0 True\n",
      "month 0.0 10 3.0 True\n",
      "releaseDate 0.5 8 2.0 True\n",
      "period 0.0 7 1.0 True\n"
     ]
    }
   ],
   "source": [
    "for a,b,c,d in zip(types[is_datetime], class_f1[is_datetime],  class_count[is_datetime], class_count_test[is_datetime]):\n",
    "    print(a,b,c,d, a in column_categories[\"Datetime\"])"
   ]
  },
  {
   "cell_type": "code",
   "execution_count": 251,
   "metadata": {},
   "outputs": [
    {
     "data": {
      "text/plain": [
       "'name'"
      ]
     },
     "execution_count": 251,
     "metadata": {},
     "output_type": "execute_result"
    }
   ],
   "source": [
    "types[preds[labels==target_type_id]][num]"
   ]
  },
  {
   "cell_type": "code",
   "execution_count": 296,
   "metadata": {},
   "outputs": [
    {
     "name": "stdout",
     "output_type": "stream",
     "text": [
      "0.5714285714285715 52 15.0 10\n",
      "================================\n",
      "age ||    class                                               data\n",
      "30   age  28;19;53;28;19;20;21;20;20;22;20;19;19;20;19;2...\n",
      "31   sex  female;female;female;male;female;male;female;m...\n",
      "   class                                               data\n",
      "32   NaN  lmu_adult01;lmu_adult02;lmu_adult03;lmu_adult0...\n",
      "33   NaN  0;1;2;3;4;5;6;7;8;9;10;11;12;13;14;15;16;17;18...\n",
      "34   NaN  False;False;False;False;False;False;False;Fals...\n",
      "35   NaN  13;13;13;13;13;13;13;13;13;13;13;13;13;13;13;1...\n",
      "================================\n",
      "age ||     class                                               data\n",
      "382   age  34;47;62;27;22;14;30;26;18;21;24;46;23;63;47;2...\n",
      "    class                                               data\n",
      "378   NaN  0;1;2;3;4;5;6;7;8;9;10;11;12;13;14;15;16;17;18...\n",
      "379   NaN  892;893;894;895;896;897;898;899;900;901;902;90...\n",
      "380   NaN  3;3;2;3;3;3;3;2;3;3;3;1;1;2;1;2;2;3;3;3;1;3;1;...\n",
      "381   NaN  0;1;0;0;1;0;1;0;1;0;0;0;1;0;1;1;0;0;1;1;0;0;1;...\n",
      "383   NaN  1;0;1;1;0;1;1;0;1;0;1;1;0;0;0;0;1;1;0;1;0;0;1;...\n",
      "384   NaN  3;4;2;3;4;3;4;2;4;3;3;1;2;2;2;3;2;3;4;4;1;3;2;...\n",
      "================================\n",
      "age ||       class                                               data\n",
      "789    year  2004;2020;2013;2010;2003;2003;2003;2003;2003;2...\n",
      "792     age                   26;27;26;24;23;23;33;40;26;20;21\n",
      "892  height                   84;82;75;82;78;78;83;73;83;83;79\n",
      "    class                                               data\n",
      "790   NaN        MIN;PHI;DET;MIA;IND;MIL;POR;UTA;IND;DEN;PHO\n",
      "791   NaN  Rasho Nesterovic;Keith Van Horn;Chauncey Billu...\n",
      "793   NaN                   77;74;74;80;69;82;78;82;73;80;82\n",
      "794   NaN  2337;2337;2327;2318;2317;2316;2282;2275;2270;2...\n",
      "795   NaN  14.7;17.3;20.4;9.9;17.6;21.0;14.5;21.0;19.3;15...\n",
      "..    ...                                                ...\n",
      "890   NaN  26.68;27.28;26.35;24.6;23.22;23.44;33.86;40.86...\n",
      "891   NaN                            4;5;5;1;3;2;11;18;4;0;1\n",
      "893   NaN        248;220;202;255;244;220;230;170;244;260;240\n",
      "894   NaN                              5;4;1;4;3;3;4;1;4;5;3\n",
      "895   NaN                   27;27;26;25;23;24;34;41;27;20;22\n",
      "\n",
      "[104 rows x 2 columns]\n",
      "================================\n",
      "age ||     class                                               data\n",
      "941   age  40.0;55.0;47.0;30.0;27.0;34.0;28.0;30.0;54.0;2...\n",
      "    class                                               data\n",
      "939   NaN  1;2;3;4;5;6;7;8;9;10;11;12;13;14;15;16;17;18;1...\n",
      "940   NaN  61406;61409;61434;64013;64016;64018;64030;6403...\n",
      "942   NaN  0.019888624;0.0;0.019888624;0.0;0.0;0.0;0.0198...\n",
      "943   NaN  0.0;0.0;0.0;0.0;0.0;0.0;0.0;0.0;0.043516101;0....\n",
      "944   NaN  0.0;0.0;0.0;0.057971014;0.0;0.0;0.0;0.0;0.0;0....\n",
      "945   NaN  0.007767594;0.007767594;0.007767594;0.00776759...\n",
      "946   NaN  0.0;0.0;0.0;0.0;0.0;0.0;0.0;0.0;0.0;0.0;0.0;0....\n",
      "947   NaN  0.0;0.0;0.0;0.0;0.0;0.0;0.0;0.0;0.0;0.0;0.0;0....\n",
      "================================\n",
      "age ||          class                                               data\n",
      "1228       age   18 - 65+\\n; 18 - 65+\\n; 18 - 65+\\n; 18 - 65+\\...\n",
      "1229  language   English (UK)or English (US)\\n; English (UK)or...\n",
      "     class                                               data\n",
      "1223   NaN            1256;2430;1259;1259;1255;1258;1253;1254\n",
      "1224   NaN  Secured borders should be a top priority. We n...\n",
      "1225   NaN  https://www.facebook.com/Secured.Borders/\\n;ht...\n",
      "1226   NaN  - Living In: United States\\nInterests: Immigra...\n",
      "1227   NaN   Exclude people who like Secured Borders\\n; Ex...\n",
      "1230   NaN   News Feed on desktop computers, News Feed on ...\n",
      "1231   NaN   Interests: Bernie Sanders, Social democracy, ...\n",
      "1232   NaN  1,706\\n;49,920\\n;3,069\\n;0\\n;0\\n;0\\n;2,781\\n;1...\n",
      "1233   NaN         194\\n;4,799\\n;291\\n;0\\n;0\\n;0\\n;282\\n;16\\n\n",
      "1234   NaN  1,625.79 RUB\\n;36,629.80 RUB\\n;2.095.96 RUB\\n;...\n",
      "1235   NaN  07/16/17 11:38:24 PM PDT\\n;07/14/16 12:58:10 A...\n",
      "1236   NaN  07/19/17 03:51:23 PM PDT\\n;07/19/17 03:51:23 P...\n",
      "================================\n",
      "age ||      class                                               data\n",
      "2004   sex  M;M;M;M;M;M;F;M;M;F;M;M;M;M;M;M;M;M;M;M;M;F;F;...\n",
      "2006   age  47;39;52;47;32;54;32;26;54;19;33;22;45;39;40;2...\n",
      "     class                                               data\n",
      "2003   NaN  2104;2009;2032;2063;2059;2077;2042;2017;2119;2...\n",
      "2005   NaN  White;White;White;AA;Hispanic;Hispanic;White;W...\n",
      "2007   NaN  5.0;1.0;1.0;1.0;1.0;1.0;5.0;5.0;1.0;5.0;5.0;1....\n",
      "2008   NaN  0.0;0.0;0.0;1.0;0.0;0.0;0.0;0.0;0.0;0.0;0.0;0....\n",
      "2009   NaN  1.0;1.0;1.0;1.0;2.0;2.0;2.0;2.0;3.0;3.0;4.0;4....\n",
      "2010   NaN  0.0;1.0;0.0;0.0;0.0;0.0;0.0;0.0;0.0;0.0;1.0;0....\n",
      "2011   NaN  6;2;18;1;12;10;8;11;2;7;20;8;8;3;10;13;11;19;1...\n",
      "2012   NaN  90.0;4.0;90.0;120.0;120.0;120.0;15.0;120.0;90....\n",
      "2013   NaN  1;1;1;1;1;1;1;1;1;1;1;1;1;1;1;1;1;1;1;1;1;1;1;...\n",
      "2014   NaN  9.486832619;2.0;9.486832619;10.95445156;10.954...\n",
      "2015   NaN  0.0;0.0;0.0;0.0;0.693147182;0.693147182;0.6931...\n",
      "2016   NaN  0;0;0;0;1;0;0;1;0;0;0;0;0;0;0;0;0;0;1;0;0;0;0;...\n",
      "2017   NaN  9.486832619;2.0;9.486832619;10.95445156;10.954...\n",
      "2018   NaN  0.0;1.0;0.0;1.0;1.0;1.0;0.0;1.0;0.0;0.0;1.0;0....\n",
      "2019   NaN  1.0;1.0;1.0;1.0;2.0;2.0;2.0;2.0;3.0;3.0;4.0;4....\n",
      "================================\n",
      "gender ||        class                                               data\n",
      "3276   event  4;3;3;3;1;2;1;3;4;2;4;2;3;3;3;4;3;4;1;4;3;2;1;...\n",
      "3278     age  0;1;1;0;1;1;0;0;1;1;0;0;1;1;1;1;1;1;1;1;1;0;1;...\n",
      "3280  weight  3;2;1;0;1;1;2;1;1;1;0;1;0;1;1;2;0;2;2;3;1;2;2;...\n",
      "     class                                               data\n",
      "3277   NaN  0;0;0;1;1;0;0;0;1;1;1;0;1;1;0;0;1;0;0;0;1;0;0;...\n",
      "3279   NaN  3;1;1;1;1;2;2;2;1;1;1;2;1;2;2;3;0;3;2;3;1;2;3;...\n",
      "3281   NaN  1;1;1;1;1;1;1;1;1;1;1;1;1;1;1;1;1;1;1;1;1;1;1;...\n",
      "3282   NaN  0;1;1;0;0;0;0;1;0;0;0;1;0;0;0;1;0;1;1;0;0;1;1;...\n",
      "3283   NaN  1;1;1;0;0;1;0;1;1;1;0;1;0;0;0;0;0;0;1;1;0;1;0;...\n",
      "3284   NaN  1;0;0;0;0;0;1;0;0;0;0;0;0;1;1;0;0;1;0;1;0;0;1;...\n",
      "3285   NaN  1;1;0;1;1;0;1;1;1;1;1;1;1;1;0;1;1;1;1;0;0;0;1;...\n",
      "3286   NaN  1;1;1;1;1;0;1;1;1;1;1;1;1;1;0;1;1;1;0;0;1;1;1;...\n",
      "3287   NaN  0;0;0;0;1;0;0;1;0;0;0;1;1;1;1;0;1;0;0;0;0;0;0;...\n",
      "3288   NaN  1;1;0;1;1;1;1;1;1;1;1;1;1;0;1;0;0;1;1;1;0;0;1;...\n",
      "3289   NaN  0;0;1;0;1;0;0;0;1;1;0;0;1;0;0;0;0;0;0;0;1;1;0;...\n",
      "3290   NaN  0;2;3;0;3;1;1;0;3;3;0;0;2;0;0;1;0;0;1;0;2;2;0;...\n",
      "================================\n",
      "age ||      class                                               data\n",
      "4867   age  21;19;20;25;20;19;30;18;18;21;18;22;22;20;22;2...\n",
      "     class                                               data\n",
      "4864   NaN  id-1;id-2;id-3;id-4;id-5;id-6;id-7;id-8;id-9;i...\n",
      "4865   NaN  Male;Male;Male;Male;Male;Male;Male;Male;Male;F...\n",
      "4866   NaN  Black;Black;Black;Black;Black;Black;Black;Blac...\n",
      "4868   NaN  T1;T2;T1;T1;T1;T2;T1;T3;T3;T1;T1;T1;T2;T3;T1;T...\n",
      "4869   NaN  1;1;1;1;1;1;1;1;1;1;1;1;1;1;1;1;1;1;1;1;1;1;1;...\n",
      "4870   NaN  24.24242424;20.56932966;18.7260073;25.20920136...\n",
      "================================\n",
      "height ||         class                                               data\n",
      "5131      age  68.79123888;68.79397673;68.79397673;68.7939767...\n",
      "5136  endDate  25/11/2011 00:00;25/11/2011 00:00;25/11/2011 0...\n",
      "     class                                               data\n",
      "5132   NaN                                  2;2;2;2;2;2;2;2;2\n",
      "5133   NaN                                  1;1;1;2;2;5;5;1;2\n",
      "5134   NaN  Aye;Aye;Aye;No;No;Did not vote;Did not vote;Ay...\n",
      "5135   NaN  18/05/2010 00:00;18/05/2010 00:00;18/05/2010 0...\n",
      "5137   NaN  Norma Fisher;Jorge Sullivan;Elizabeth Woods;Su...\n",
      "5138   NaN       2535;2536;2537;2538;2539;2540;2541;2542;2543\n",
      "5139   NaN                                  1;2;3;4;5;6;7;8;9\n",
      "5140   NaN  07/06/2010 00:00;08/06/2010 00:00;08/06/2010 0...\n",
      "5141   NaN  07/06/2010;08/06/2010;08/06/2010;08/06/2010;15...\n",
      "5142   NaN                                  4;3;3;3;0;0;0;0;0\n",
      "5143   NaN  Constitution and Home Affairs.  Question put, ...\n",
      "5144   NaN  30/12/1899 21:59:00;30/12/1899 21:59:00;30/12/...\n",
      "5145   NaN                             4;4;4;4;16;16;16;12;12\n",
      "5146   NaN                         No;No;No;No;No;No;No;No;No\n",
      "5147   NaN                         No;No;No;No;No;No;No;No;No\n",
      "5148   NaN  2011-07-28;2013-07-31;1983-12-01;2007-08-08;20...\n",
      "5149   NaN                                  M;M;M;M;M;M;M;M;M\n",
      "5150   NaN                                  2;2;2;2;2;2;2;2;2\n",
      "5151   NaN  Kelvin Hopkins;Kelvin Hopkins;Kelvin Hopkins;K...\n",
      "5152   NaN  Kelvin Hopkins ;Kelvin Hopkins ;Kelvin Hopkins...\n",
      "5153   NaN                         15;15;15;15;15;15;15;15;15\n",
      "5154   NaN  Norma Fisher;Jorge Sullivan;Elizabeth Woods;Su...\n",
      "5155   NaN       7385;7385;7385;7385;7385;7385;7385;7385;7385\n",
      "5156   NaN       3589;3589;3589;3589;3589;3589;3589;3589;3589\n",
      "5157   NaN  Norma Fisher;Jorge Sullivan;Elizabeth Woods;Su...\n",
      "5158   NaN                                  3;3;3;3;3;3;3;3;3\n",
      "5159   NaN  East of England;East of England;East of Englan...\n",
      "5160   NaN  Hopkins;Hopkins;Hopkins;Hopkins;Hopkins;Hopkin...\n",
      "5161   NaN  Hopkins, Kelvin ;Hopkins, Kelvin ;Hopkins, Kel...\n",
      "5162   NaN  Kelvin Hopkins;Kelvin Hopkins;Kelvin Hopkins;K...\n",
      "5163   NaN  Norma Fisher;Jorge Sullivan;Elizabeth Woods;Su...\n",
      "================================\n",
      "rank ||        class                                               data\n",
      "5361   title  Bioactive Elastic Scaffolds Loaded with Neural...\n",
      "5362    year  2020;2020;2016;1997;2018;2014;2019;2018;2019;2...\n",
      "5363  source  ACS Biomaterials Science and Engineering;Oxida...\n",
      "5380     age                      1;1;5;24;3;7;2;3;2;6;13;35;34\n",
      "     class                                               data\n",
      "5359   NaN                    0;0;2;2;3;3;6;7;9;10;50;129;143\n",
      "5360   NaN  Z. Gong;Y. Chen;C.A. Meyer;A. Borromei;N. Seth...\n",
      "5364   NaN  https://www.scopus.com/inward/record.uri?partn...\n",
      "5365   NaN  https://www.scopus.com/inward/citedby.uri?part...\n",
      "5366   NaN                      12;13;10;11;8;9;7;6;5;4;3;2;1\n",
      "5367   NaN  2021-01-15 13:43:51;2021-01-15 13:43:51;2021-0...\n",
      "5368   NaN  Article;Review;Article;Review;Conference Paper...\n",
      "5369   NaN  10.1021/acsbiomaterials.0c01057;10.1155/2020/6...\n",
      "5370   NaN  2373-9878;1942-0900;1932-6203;0393-5264;1532-0...\n",
      "5371   NaN  https://api.elsevier.com/content/abstract/scop...\n",
      "5372   NaN              6;2020;11;12;68;8;51;678;7;19;21;3;49\n",
      "5373   NaN         11.0;1.0;2.0;1.0;6.0;16.0;22.0;1.0;4.0;1.0\n",
      "5374   NaN  6331.0;89.0;63.0;1835.0;141.0;110.0;2648.0;443...\n",
      "5375   NaN  6343.0;99.0;73.0;1840.0;149.0;117.0;2656.0;444...\n",
      "5376   NaN                    0;0;2;2;3;3;6;7;9;10;50;129;143\n",
      "5377   NaN  0.0;0.0;0.4;0.08;1.0;0.43;3.0;2.33;4.5;1.67;3....\n",
      "5378   NaN                    0;0;2;2;3;3;6;7;9;10;50;129;143\n",
      "5379   NaN                          1;1;1;1;1;1;1;1;1;1;1;1;1\n",
      "================================\n",
      "age ||      class                                               data\n",
      "6620    id  85;86;87;88;89;91;92;93;94;95;96;97;98;99;100;...\n",
      "6622   age  19;33;20;21;18;21;22;17;29;26;19;19;22;30;18;1...\n",
      "6624  race  2;3;1;1;1;3;1;3;1;1;3;3;3;3;1;1;2;1;3;1;3;1;1;...\n",
      "     class                                               data\n",
      "6621   NaN  0;0;0;0;0;0;0;0;0;0;0;0;0;0;0;0;0;0;0;0;0;0;0;...\n",
      "6623   NaN  182;155;105;108;107;124;118;103;123;113;95;150...\n",
      "6625   NaN  0;0;1;1;1;0;0;0;1;1;0;0;0;0;1;1;0;1;0;1;0;0;0;...\n",
      "6626   NaN  0;0;0;0;0;0;0;0;0;0;0;0;0;1;0;0;0;0;0;0;0;0;0;...\n",
      "6627   NaN  0;0;0;0;0;0;0;0;0;0;0;0;1;0;0;0;0;0;0;0;0;0;0;...\n",
      "6628   NaN  1;0;0;1;1;0;0;0;0;0;0;0;0;1;0;0;0;0;1;0;0;1;0;...\n",
      "6629   NaN  0;3;1;2;0;0;1;1;1;0;0;1;0;2;0;0;0;3;0;1;2;3;1;...\n",
      "6630   NaN  2523;2551;2557;2594;2600;2622;2637;2637;2663;2...\n",
      "================================\n",
      "notes ||        class                                               data\n",
      "8233  gender  None;None;Violence;no;no issues;Only positive ...\n",
      "8234     age  None;None;Violence;no;no issues;Only positive ...\n",
      "     class                                               data\n",
      "8230   NaN  US-WEST-CA-San Francisco;US-WEST-CA-San Franci...\n",
      "8231   NaN  No;No;No;No;No;No;No;Yes;No;Yes;No;No;Yes;No;Y...\n",
      "8232   NaN            5;4;1;4;5;5;5;5;4;5;3;4;2;5;4;2;3;5;1;3\n",
      "8235   NaN  15378.0;6080.0;42612.0;23898.0;26716.0;5946.0;...\n",
      "8236   NaN  5385.0;8528.0;3667.0;8349.0;4503.0;3834.0;4062...\n",
      "8237   NaN  9820.0;14617.0;5440.0;15966.0;5557.0;12399.0;6...\n",
      "================================\n",
      "age ||        class                                               data\n",
      "8778  gender  Male;Male;Female;Female;Male;Male;Female;Femal...\n",
      "8779     age  19;35;26;27;19;27;27;32;25;35;26;26;20;32;18;2...\n",
      "     class                                               data\n",
      "8777   NaN  15624510;15810944;15668575;15603246;15804002;1...\n",
      "8780   NaN  19000;20000;43000;57000;76000;58000;84000;1500...\n",
      "8781   NaN  0;0;0;0;0;0;0;1;0;0;0;0;0;0;0;0;1;1;1;1;1;1;1;...\n",
      "================================\n",
      "age ||      class                                               data\n",
      "9627   age  28;30;23;21;30;31;29;24;24;26;25;28;19;30;19;2...\n",
      "     class                                               data\n",
      "9606   NaN  2001;2002;2003;2004;2006;2007;2008;2009;2010;2...\n",
      "9607   NaN  1993-11-02;1999-09-04;1982-04-09;1974-02-26;20...\n",
      "9608   NaN  WE;WE;WE;WE;WE;WE;WE;WE;WE;WE;WE;WE;WE;WE;WE;W...\n",
      "9609   NaN  NICOLE;ATHERTON;SEAGRAVE;CABIROU;HANNAH;SIEGEN...\n",
      "9610   NaN  Norma Fisher;Jorge Sullivan;Elizabeth Woods;Su...\n",
      "9611   NaN  1197024565271776;1197024565271777;119702456527...\n",
      "9612   NaN  FRA;GBR;GBR;FRA;AUS;SUI;GBR;SLO;ESA;SUI;ITA;CA...\n",
      "9613   NaN            WCL;NCh;NCh;CCh;NCh;WCh;NCh;NCh;N;N;N;N\n",
      "9614   NaN  Norma Fisher;Jorge Sullivan;Elizabeth Woods;Su...\n",
      "9615   NaN  0;0;0;0;0;0;0;0;0;0;0;0;0;0;0;0;0;0;0;0;0;0;0;...\n",
      "9616   NaN  1;2;3;4;6;7;8;9;10;11;12;13;14;15;17;18;19;20;...\n",
      "9617   NaN  Norma Fisher;Jorge Sullivan;Elizabeth Woods;Su...\n",
      "9618   NaN  1;2;3;4;5;6;7;8;9;10;11;12;13;14;15;16;17;18;1...\n",
      "9619   NaN  48600000;48630000;48660000;48690000;48720000;4...\n",
      "9620   NaN  FRA19900208;GBR19871206;GBR19950615;FRA1997031...\n",
      "9621   NaN  1;5;2;4;3;6;30;7;23;10;15;9;28;21;11;16;26;27;...\n",
      "9622   NaN  10004535237;10003434487;10007414016;1000956306...\n",
      "9623   NaN    CVN;TDH;FMD;VVR;URT;PFR;DOR;MNR;FSF;SGR;HTH;KON\n",
      "9624   NaN  1590;1598;1863;2096;1608;1864;0;0;1867;2039;22...\n",
      "9625   NaN  Norma Fisher;Jorge Sullivan;Elizabeth Woods;Su...\n",
      "9626   NaN  1;2;3;4;6;7;8;9;10;11;12;13;14;15;0;16;0;0;0;0...\n",
      "================================\n",
      "area ||       class                                               data\n",
      "9997     id  1;1;1;2;2;2;3;3;3;4;4;4;5;5;5;6;6;6;7;7;7;8;8;...\n",
      "10000   age  6.0;8.33333333333333;10.3333333333333;6.0;8.5;...\n",
      "      class                                               data\n",
      "9998    NaN  1;2;3;1;2;3;1;2;3;1;2;3;1;2;3;1;2;3;1;2;3;1;2;...\n",
      "9999    NaN  6.5;8.5;10.5;6.5;8.5;10.5;6.5;8.5;10.5;6.5;8.5...\n",
      "10001   NaN  18;35;59;18;25;28;18;23;32;18;31;50;18;33;53;1...\n",
      "================================\n"
     ]
    }
   ],
   "source": [
    "num = 0\n",
    "wrong_num = 0\n",
    "target_type = \"age\"\n",
    "target_type_id = np.where(types==target_type )[0][0]\n",
    "print(class_f1[target_type_id], class_count[target_type_id], class_count_test[target_type_id], sum(preds[labels==target_type_id]==target_type_id))\n",
    "print(\"================================\")\n",
    "for i, (index, group_df) in enumerate(df_group_test):\n",
    "    if target_type in group_df[\"class\"].values:\n",
    "        # if types[preds[labels==target_type_id]][num] != target_type:\n",
    "        #     print(types[preds[labels==target_type_id]][num], \"||\",group_df[group_df[\"class_id\"]>-1][[\"class\", \"data\"]])\n",
    "        #     wrong_num += 1\n",
    "        #     print(group_df[group_df[\"class_id\"]==-1][[\"class\", \"data\"]])\n",
    "        #     print(\"================================\")\n",
    "        #     if wrong_num > 30:\n",
    "        #         break\n",
    "        \n",
    "        \n",
    "        print(types[preds[labels==target_type_id]][num], \"||\",group_df[group_df[\"class_id\"]>-1][[\"class\", \"data\"]])\n",
    "        print(group_df[group_df[\"class_id\"]==-1][[\"class\", \"data\"]])\n",
    "        print(\"================================\")\n",
    "        num += 1\n",
    "        # if num > 20:\n",
    "        #     break\n"
   ]
  },
  {
   "cell_type": "code",
   "execution_count": 294,
   "metadata": {},
   "outputs": [
    {
     "name": "stdout",
     "output_type": "stream",
     "text": [
      "age ||    class                                               data\n",
      "30   age  28;19;53;28;19;20;21;20;20;22;20;19;19;20;19;2...\n",
      "31   sex  female;female;female;male;female;male;female;m...\n",
      "   class                                               data\n",
      "32   NaN  lmu_adult01;lmu_adult02;lmu_adult03;lmu_adult0...\n",
      "33   NaN  0;1;2;3;4;5;6;7;8;9;10;11;12;13;14;15;16;17;18...\n",
      "34   NaN  False;False;False;False;False;False;False;Fals...\n",
      "35   NaN  13;13;13;13;13;13;13;13;13;13;13;13;13;13;13;1...\n",
      "================================\n",
      "age ||     class                                               data\n",
      "382   age  34;47;62;27;22;14;30;26;18;21;24;46;23;63;47;2...\n",
      "    class                                               data\n",
      "378   NaN  0;1;2;3;4;5;6;7;8;9;10;11;12;13;14;15;16;17;18...\n",
      "379   NaN  892;893;894;895;896;897;898;899;900;901;902;90...\n",
      "380   NaN  3;3;2;3;3;3;3;2;3;3;3;1;1;2;1;2;2;3;3;3;1;3;1;...\n",
      "381   NaN  0;1;0;0;1;0;1;0;1;0;0;0;1;0;1;1;0;0;1;1;0;0;1;...\n",
      "383   NaN  1;0;1;1;0;1;1;0;1;0;1;1;0;0;0;0;1;1;0;1;0;0;1;...\n",
      "384   NaN  3;4;2;3;4;3;4;2;4;3;3;1;2;2;2;3;2;3;4;4;1;3;2;...\n",
      "================================\n",
      "age ||       class                                               data\n",
      "789    year  2004;2020;2013;2010;2003;2003;2003;2003;2003;2...\n",
      "792     age                   26;27;26;24;23;23;33;40;26;20;21\n",
      "892  height                   84;82;75;82;78;78;83;73;83;83;79\n",
      "    class                                               data\n",
      "790   NaN        MIN;PHI;DET;MIA;IND;MIL;POR;UTA;IND;DEN;PHO\n",
      "791   NaN  Rasho Nesterovic;Keith Van Horn;Chauncey Billu...\n",
      "793   NaN                   77;74;74;80;69;82;78;82;73;80;82\n",
      "794   NaN  2337;2337;2327;2318;2317;2316;2282;2275;2270;2...\n",
      "795   NaN  14.7;17.3;20.4;9.9;17.6;21.0;14.5;21.0;19.3;15...\n",
      "..    ...                                                ...\n",
      "890   NaN  26.68;27.28;26.35;24.6;23.22;23.44;33.86;40.86...\n",
      "891   NaN                            4;5;5;1;3;2;11;18;4;0;1\n",
      "893   NaN        248;220;202;255;244;220;230;170;244;260;240\n",
      "894   NaN                              5;4;1;4;3;3;4;1;4;5;3\n",
      "895   NaN                   27;27;26;25;23;24;34;41;27;20;22\n",
      "\n",
      "[104 rows x 2 columns]\n",
      "================================\n",
      "age ||     class                                               data\n",
      "941   age  40.0;55.0;47.0;30.0;27.0;34.0;28.0;30.0;54.0;2...\n",
      "    class                                               data\n",
      "939   NaN  1;2;3;4;5;6;7;8;9;10;11;12;13;14;15;16;17;18;1...\n",
      "940   NaN  61406;61409;61434;64013;64016;64018;64030;6403...\n",
      "942   NaN  0.019888624;0.0;0.019888624;0.0;0.0;0.0;0.0198...\n",
      "943   NaN  0.0;0.0;0.0;0.0;0.0;0.0;0.0;0.0;0.043516101;0....\n",
      "944   NaN  0.0;0.0;0.0;0.057971014;0.0;0.0;0.0;0.0;0.0;0....\n",
      "945   NaN  0.007767594;0.007767594;0.007767594;0.00776759...\n",
      "946   NaN  0.0;0.0;0.0;0.0;0.0;0.0;0.0;0.0;0.0;0.0;0.0;0....\n",
      "947   NaN  0.0;0.0;0.0;0.0;0.0;0.0;0.0;0.0;0.0;0.0;0.0;0....\n",
      "================================\n",
      "age ||          class                                               data\n",
      "1228       age   18 - 65+\\n; 18 - 65+\\n; 18 - 65+\\n; 18 - 65+\\...\n",
      "1229  language   English (UK)or English (US)\\n; English (UK)or...\n",
      "     class                                               data\n",
      "1223   NaN            1256;2430;1259;1259;1255;1258;1253;1254\n",
      "1224   NaN  Secured borders should be a top priority. We n...\n",
      "1225   NaN  https://www.facebook.com/Secured.Borders/\\n;ht...\n",
      "1226   NaN  - Living In: United States\\nInterests: Immigra...\n",
      "1227   NaN   Exclude people who like Secured Borders\\n; Ex...\n",
      "1230   NaN   News Feed on desktop computers, News Feed on ...\n",
      "1231   NaN   Interests: Bernie Sanders, Social democracy, ...\n",
      "1232   NaN  1,706\\n;49,920\\n;3,069\\n;0\\n;0\\n;0\\n;2,781\\n;1...\n",
      "1233   NaN         194\\n;4,799\\n;291\\n;0\\n;0\\n;0\\n;282\\n;16\\n\n",
      "1234   NaN  1,625.79 RUB\\n;36,629.80 RUB\\n;2.095.96 RUB\\n;...\n",
      "1235   NaN  07/16/17 11:38:24 PM PDT\\n;07/14/16 12:58:10 A...\n",
      "1236   NaN  07/19/17 03:51:23 PM PDT\\n;07/19/17 03:51:23 P...\n",
      "================================\n",
      "age ||      class                                               data\n",
      "2004   sex  M;M;M;M;M;M;F;M;M;F;M;M;M;M;M;M;M;M;M;M;M;F;F;...\n",
      "2006   age  47;39;52;47;32;54;32;26;54;19;33;22;45;39;40;2...\n",
      "     class                                               data\n",
      "2003   NaN  2104;2009;2032;2063;2059;2077;2042;2017;2119;2...\n",
      "2005   NaN  White;White;White;AA;Hispanic;Hispanic;White;W...\n",
      "2007   NaN  5.0;1.0;1.0;1.0;1.0;1.0;5.0;5.0;1.0;5.0;5.0;1....\n",
      "2008   NaN  0.0;0.0;0.0;1.0;0.0;0.0;0.0;0.0;0.0;0.0;0.0;0....\n",
      "2009   NaN  1.0;1.0;1.0;1.0;2.0;2.0;2.0;2.0;3.0;3.0;4.0;4....\n",
      "2010   NaN  0.0;1.0;0.0;0.0;0.0;0.0;0.0;0.0;0.0;0.0;1.0;0....\n",
      "2011   NaN  6;2;18;1;12;10;8;11;2;7;20;8;8;3;10;13;11;19;1...\n",
      "2012   NaN  90.0;4.0;90.0;120.0;120.0;120.0;15.0;120.0;90....\n",
      "2013   NaN  1;1;1;1;1;1;1;1;1;1;1;1;1;1;1;1;1;1;1;1;1;1;1;...\n",
      "2014   NaN  9.486832619;2.0;9.486832619;10.95445156;10.954...\n",
      "2015   NaN  0.0;0.0;0.0;0.0;0.693147182;0.693147182;0.6931...\n",
      "2016   NaN  0;0;0;0;1;0;0;1;0;0;0;0;0;0;0;0;0;0;1;0;0;0;0;...\n",
      "2017   NaN  9.486832619;2.0;9.486832619;10.95445156;10.954...\n",
      "2018   NaN  0.0;1.0;0.0;1.0;1.0;1.0;0.0;1.0;0.0;0.0;1.0;0....\n",
      "2019   NaN  1.0;1.0;1.0;1.0;2.0;2.0;2.0;2.0;3.0;3.0;4.0;4....\n",
      "================================\n",
      "gender ||        class                                               data\n",
      "3276   event  4;3;3;3;1;2;1;3;4;2;4;2;3;3;3;4;3;4;1;4;3;2;1;...\n",
      "3278     age  0;1;1;0;1;1;0;0;1;1;0;0;1;1;1;1;1;1;1;1;1;0;1;...\n",
      "3280  weight  3;2;1;0;1;1;2;1;1;1;0;1;0;1;1;2;0;2;2;3;1;2;2;...\n",
      "     class                                               data\n",
      "3277   NaN  0;0;0;1;1;0;0;0;1;1;1;0;1;1;0;0;1;0;0;0;1;0;0;...\n",
      "3279   NaN  3;1;1;1;1;2;2;2;1;1;1;2;1;2;2;3;0;3;2;3;1;2;3;...\n",
      "3281   NaN  1;1;1;1;1;1;1;1;1;1;1;1;1;1;1;1;1;1;1;1;1;1;1;...\n",
      "3282   NaN  0;1;1;0;0;0;0;1;0;0;0;1;0;0;0;1;0;1;1;0;0;1;1;...\n",
      "3283   NaN  1;1;1;0;0;1;0;1;1;1;0;1;0;0;0;0;0;0;1;1;0;1;0;...\n",
      "3284   NaN  1;0;0;0;0;0;1;0;0;0;0;0;0;1;1;0;0;1;0;1;0;0;1;...\n",
      "3285   NaN  1;1;0;1;1;0;1;1;1;1;1;1;1;1;0;1;1;1;1;0;0;0;1;...\n",
      "3286   NaN  1;1;1;1;1;0;1;1;1;1;1;1;1;1;0;1;1;1;0;0;1;1;1;...\n",
      "3287   NaN  0;0;0;0;1;0;0;1;0;0;0;1;1;1;1;0;1;0;0;0;0;0;0;...\n",
      "3288   NaN  1;1;0;1;1;1;1;1;1;1;1;1;1;0;1;0;0;1;1;1;0;0;1;...\n",
      "3289   NaN  0;0;1;0;1;0;0;0;1;1;0;0;1;0;0;0;0;0;0;0;1;1;0;...\n",
      "3290   NaN  0;2;3;0;3;1;1;0;3;3;0;0;2;0;0;1;0;0;1;0;2;2;0;...\n",
      "================================\n",
      "age ||      class                                               data\n",
      "4867   age  21;19;20;25;20;19;30;18;18;21;18;22;22;20;22;2...\n",
      "     class                                               data\n",
      "4864   NaN  id-1;id-2;id-3;id-4;id-5;id-6;id-7;id-8;id-9;i...\n",
      "4865   NaN  Male;Male;Male;Male;Male;Male;Male;Male;Male;F...\n",
      "4866   NaN  Black;Black;Black;Black;Black;Black;Black;Blac...\n",
      "4868   NaN  T1;T2;T1;T1;T1;T2;T1;T3;T3;T1;T1;T1;T2;T3;T1;T...\n",
      "4869   NaN  1;1;1;1;1;1;1;1;1;1;1;1;1;1;1;1;1;1;1;1;1;1;1;...\n",
      "4870   NaN  24.24242424;20.56932966;18.7260073;25.20920136...\n",
      "================================\n",
      "height ||         class                                               data\n",
      "5131      age  68.79123888;68.79397673;68.79397673;68.7939767...\n",
      "5136  endDate  25/11/2011 00:00;25/11/2011 00:00;25/11/2011 0...\n",
      "     class                                               data\n",
      "5132   NaN                                  2;2;2;2;2;2;2;2;2\n",
      "5133   NaN                                  1;1;1;2;2;5;5;1;2\n",
      "5134   NaN  Aye;Aye;Aye;No;No;Did not vote;Did not vote;Ay...\n",
      "5135   NaN  18/05/2010 00:00;18/05/2010 00:00;18/05/2010 0...\n",
      "5137   NaN  Norma Fisher;Jorge Sullivan;Elizabeth Woods;Su...\n",
      "5138   NaN       2535;2536;2537;2538;2539;2540;2541;2542;2543\n",
      "5139   NaN                                  1;2;3;4;5;6;7;8;9\n",
      "5140   NaN  07/06/2010 00:00;08/06/2010 00:00;08/06/2010 0...\n",
      "5141   NaN  07/06/2010;08/06/2010;08/06/2010;08/06/2010;15...\n",
      "5142   NaN                                  4;3;3;3;0;0;0;0;0\n",
      "5143   NaN  Constitution and Home Affairs.  Question put, ...\n",
      "5144   NaN  30/12/1899 21:59:00;30/12/1899 21:59:00;30/12/...\n",
      "5145   NaN                             4;4;4;4;16;16;16;12;12\n",
      "5146   NaN                         No;No;No;No;No;No;No;No;No\n",
      "5147   NaN                         No;No;No;No;No;No;No;No;No\n",
      "5148   NaN  2011-07-28;2013-07-31;1983-12-01;2007-08-08;20...\n",
      "5149   NaN                                  M;M;M;M;M;M;M;M;M\n",
      "5150   NaN                                  2;2;2;2;2;2;2;2;2\n",
      "5151   NaN  Kelvin Hopkins;Kelvin Hopkins;Kelvin Hopkins;K...\n",
      "5152   NaN  Kelvin Hopkins ;Kelvin Hopkins ;Kelvin Hopkins...\n",
      "5153   NaN                         15;15;15;15;15;15;15;15;15\n",
      "5154   NaN  Norma Fisher;Jorge Sullivan;Elizabeth Woods;Su...\n",
      "5155   NaN       7385;7385;7385;7385;7385;7385;7385;7385;7385\n",
      "5156   NaN       3589;3589;3589;3589;3589;3589;3589;3589;3589\n",
      "5157   NaN  Norma Fisher;Jorge Sullivan;Elizabeth Woods;Su...\n",
      "5158   NaN                                  3;3;3;3;3;3;3;3;3\n",
      "5159   NaN  East of England;East of England;East of Englan...\n",
      "5160   NaN  Hopkins;Hopkins;Hopkins;Hopkins;Hopkins;Hopkin...\n",
      "5161   NaN  Hopkins, Kelvin ;Hopkins, Kelvin ;Hopkins, Kel...\n",
      "5162   NaN  Kelvin Hopkins;Kelvin Hopkins;Kelvin Hopkins;K...\n",
      "5163   NaN  Norma Fisher;Jorge Sullivan;Elizabeth Woods;Su...\n",
      "================================\n",
      "rank ||        class                                               data\n",
      "5361   title  Bioactive Elastic Scaffolds Loaded with Neural...\n",
      "5362    year  2020;2020;2016;1997;2018;2014;2019;2018;2019;2...\n",
      "5363  source  ACS Biomaterials Science and Engineering;Oxida...\n",
      "5380     age                      1;1;5;24;3;7;2;3;2;6;13;35;34\n",
      "     class                                               data\n",
      "5359   NaN                    0;0;2;2;3;3;6;7;9;10;50;129;143\n",
      "5360   NaN  Z. Gong;Y. Chen;C.A. Meyer;A. Borromei;N. Seth...\n",
      "5364   NaN  https://www.scopus.com/inward/record.uri?partn...\n",
      "5365   NaN  https://www.scopus.com/inward/citedby.uri?part...\n",
      "5366   NaN                      12;13;10;11;8;9;7;6;5;4;3;2;1\n",
      "5367   NaN  2021-01-15 13:43:51;2021-01-15 13:43:51;2021-0...\n",
      "5368   NaN  Article;Review;Article;Review;Conference Paper...\n",
      "5369   NaN  10.1021/acsbiomaterials.0c01057;10.1155/2020/6...\n",
      "5370   NaN  2373-9878;1942-0900;1932-6203;0393-5264;1532-0...\n",
      "5371   NaN  https://api.elsevier.com/content/abstract/scop...\n",
      "5372   NaN              6;2020;11;12;68;8;51;678;7;19;21;3;49\n",
      "5373   NaN         11.0;1.0;2.0;1.0;6.0;16.0;22.0;1.0;4.0;1.0\n",
      "5374   NaN  6331.0;89.0;63.0;1835.0;141.0;110.0;2648.0;443...\n",
      "5375   NaN  6343.0;99.0;73.0;1840.0;149.0;117.0;2656.0;444...\n",
      "5376   NaN                    0;0;2;2;3;3;6;7;9;10;50;129;143\n",
      "5377   NaN  0.0;0.0;0.4;0.08;1.0;0.43;3.0;2.33;4.5;1.67;3....\n",
      "5378   NaN                    0;0;2;2;3;3;6;7;9;10;50;129;143\n",
      "5379   NaN                          1;1;1;1;1;1;1;1;1;1;1;1;1\n",
      "================================\n",
      "age ||      class                                               data\n",
      "6620    id  85;86;87;88;89;91;92;93;94;95;96;97;98;99;100;...\n",
      "6622   age  19;33;20;21;18;21;22;17;29;26;19;19;22;30;18;1...\n",
      "6624  race  2;3;1;1;1;3;1;3;1;1;3;3;3;3;1;1;2;1;3;1;3;1;1;...\n",
      "     class                                               data\n",
      "6621   NaN  0;0;0;0;0;0;0;0;0;0;0;0;0;0;0;0;0;0;0;0;0;0;0;...\n",
      "6623   NaN  182;155;105;108;107;124;118;103;123;113;95;150...\n",
      "6625   NaN  0;0;1;1;1;0;0;0;1;1;0;0;0;0;1;1;0;1;0;1;0;0;0;...\n",
      "6626   NaN  0;0;0;0;0;0;0;0;0;0;0;0;0;1;0;0;0;0;0;0;0;0;0;...\n",
      "6627   NaN  0;0;0;0;0;0;0;0;0;0;0;0;1;0;0;0;0;0;0;0;0;0;0;...\n",
      "6628   NaN  1;0;0;1;1;0;0;0;0;0;0;0;0;1;0;0;0;0;1;0;0;1;0;...\n",
      "6629   NaN  0;3;1;2;0;0;1;1;1;0;0;1;0;2;0;0;0;3;0;1;2;3;1;...\n",
      "6630   NaN  2523;2551;2557;2594;2600;2622;2637;2637;2663;2...\n",
      "================================\n"
     ]
    }
   ],
   "source": [
    "num = 0\n",
    "target_type = \"age\"\n",
    "target_type_id = np.where(types==target_type )[0][0]\n",
    "for i, (index, group_df) in enumerate(df_group_test):\n",
    "    if target_type in group_df[\"class\"].values:\n",
    "        print(types[preds[labels==target_type_id]][num], \"||\",group_df[group_df[\"class_id\"]>-1][[\"class\", \"data\"]])\n",
    "        print(group_df[group_df[\"class_id\"]==-1][[\"class\", \"data\"]])\n",
    "        print(\"================================\")\n",
    "        num += 1\n",
    "        if num > 10:\n",
    "            break"
   ]
  },
  {
   "cell_type": "code",
   "execution_count": 282,
   "metadata": {},
   "outputs": [
    {
     "name": "stdout",
     "output_type": "stream",
     "text": [
      "age ||    class                                               data\n",
      "30   age  28;19;53;28;19;20;21;20;20;22;20;19;19;20;19;2...\n",
      "31   sex  female;female;female;male;female;male;female;m...\n",
      "   class                                               data\n",
      "32   NaN  lmu_adult01;lmu_adult02;lmu_adult03;lmu_adult0...\n",
      "33   NaN  0;1;2;3;4;5;6;7;8;9;10;11;12;13;14;15;16;17;18...\n",
      "34   NaN  False;False;False;False;False;False;False;Fals...\n",
      "35   NaN  13;13;13;13;13;13;13;13;13;13;13;13;13;13;13;1...\n",
      "================================\n",
      "age ||     class                                               data\n",
      "382   age  34;47;62;27;22;14;30;26;18;21;24;46;23;63;47;2...\n",
      "    class                                               data\n",
      "378   NaN  0;1;2;3;4;5;6;7;8;9;10;11;12;13;14;15;16;17;18...\n",
      "379   NaN  892;893;894;895;896;897;898;899;900;901;902;90...\n",
      "380   NaN  3;3;2;3;3;3;3;2;3;3;3;1;1;2;1;2;2;3;3;3;1;3;1;...\n",
      "381   NaN  0;1;0;0;1;0;1;0;1;0;0;0;1;0;1;1;0;0;1;1;0;0;1;...\n",
      "383   NaN  1;0;1;1;0;1;1;0;1;0;1;1;0;0;0;0;1;1;0;1;0;0;1;...\n",
      "384   NaN  3;4;2;3;4;3;4;2;4;3;3;1;2;2;2;3;2;3;4;4;1;3;2;...\n",
      "================================\n",
      "age ||       class                                               data\n",
      "789    year  2004;2020;2013;2010;2003;2003;2003;2003;2003;2...\n",
      "792     age                   26;27;26;24;23;23;33;40;26;20;21\n",
      "892  height                   84;82;75;82;78;78;83;73;83;83;79\n",
      "    class                                               data\n",
      "790   NaN        MIN;PHI;DET;MIA;IND;MIL;POR;UTA;IND;DEN;PHO\n",
      "791   NaN  Rasho Nesterovic;Keith Van Horn;Chauncey Billu...\n",
      "793   NaN                   77;74;74;80;69;82;78;82;73;80;82\n",
      "794   NaN  2337;2337;2327;2318;2317;2316;2282;2275;2270;2...\n",
      "795   NaN  14.7;17.3;20.4;9.9;17.6;21.0;14.5;21.0;19.3;15...\n",
      "..    ...                                                ...\n",
      "890   NaN  26.68;27.28;26.35;24.6;23.22;23.44;33.86;40.86...\n",
      "891   NaN                            4;5;5;1;3;2;11;18;4;0;1\n",
      "893   NaN        248;220;202;255;244;220;230;170;244;260;240\n",
      "894   NaN                              5;4;1;4;3;3;4;1;4;5;3\n",
      "895   NaN                   27;27;26;25;23;24;34;41;27;20;22\n",
      "\n",
      "[104 rows x 2 columns]\n",
      "================================\n",
      "age ||     class                                               data\n",
      "941   age  40.0;55.0;47.0;30.0;27.0;34.0;28.0;30.0;54.0;2...\n",
      "    class                                               data\n",
      "939   NaN  1;2;3;4;5;6;7;8;9;10;11;12;13;14;15;16;17;18;1...\n",
      "940   NaN  61406;61409;61434;64013;64016;64018;64030;6403...\n",
      "942   NaN  0.019888624;0.0;0.019888624;0.0;0.0;0.0;0.0198...\n",
      "943   NaN  0.0;0.0;0.0;0.0;0.0;0.0;0.0;0.0;0.043516101;0....\n",
      "944   NaN  0.0;0.0;0.0;0.057971014;0.0;0.0;0.0;0.0;0.0;0....\n",
      "945   NaN  0.007767594;0.007767594;0.007767594;0.00776759...\n",
      "946   NaN  0.0;0.0;0.0;0.0;0.0;0.0;0.0;0.0;0.0;0.0;0.0;0....\n",
      "947   NaN  0.0;0.0;0.0;0.0;0.0;0.0;0.0;0.0;0.0;0.0;0.0;0....\n",
      "================================\n",
      "age ||          class                                               data\n",
      "1228       age   18 - 65+\\n; 18 - 65+\\n; 18 - 65+\\n; 18 - 65+\\...\n",
      "1229  language   English (UK)or English (US)\\n; English (UK)or...\n",
      "     class                                               data\n",
      "1223   NaN            1256;2430;1259;1259;1255;1258;1253;1254\n",
      "1224   NaN  Secured borders should be a top priority. We n...\n",
      "1225   NaN  https://www.facebook.com/Secured.Borders/\\n;ht...\n",
      "1226   NaN  - Living In: United States\\nInterests: Immigra...\n",
      "1227   NaN   Exclude people who like Secured Borders\\n; Ex...\n",
      "1230   NaN   News Feed on desktop computers, News Feed on ...\n",
      "1231   NaN   Interests: Bernie Sanders, Social democracy, ...\n",
      "1232   NaN  1,706\\n;49,920\\n;3,069\\n;0\\n;0\\n;0\\n;2,781\\n;1...\n",
      "1233   NaN         194\\n;4,799\\n;291\\n;0\\n;0\\n;0\\n;282\\n;16\\n\n",
      "1234   NaN  1,625.79 RUB\\n;36,629.80 RUB\\n;2.095.96 RUB\\n;...\n",
      "1235   NaN  07/16/17 11:38:24 PM PDT\\n;07/14/16 12:58:10 A...\n",
      "1236   NaN  07/19/17 03:51:23 PM PDT\\n;07/19/17 03:51:23 P...\n",
      "================================\n",
      "age ||      class                                               data\n",
      "2004   sex  M;M;M;M;M;M;F;M;M;F;M;M;M;M;M;M;M;M;M;M;M;F;F;...\n",
      "2006   age  47;39;52;47;32;54;32;26;54;19;33;22;45;39;40;2...\n",
      "     class                                               data\n",
      "2003   NaN  2104;2009;2032;2063;2059;2077;2042;2017;2119;2...\n",
      "2005   NaN  White;White;White;AA;Hispanic;Hispanic;White;W...\n",
      "2007   NaN  5.0;1.0;1.0;1.0;1.0;1.0;5.0;5.0;1.0;5.0;5.0;1....\n",
      "2008   NaN  0.0;0.0;0.0;1.0;0.0;0.0;0.0;0.0;0.0;0.0;0.0;0....\n",
      "2009   NaN  1.0;1.0;1.0;1.0;2.0;2.0;2.0;2.0;3.0;3.0;4.0;4....\n",
      "2010   NaN  0.0;1.0;0.0;0.0;0.0;0.0;0.0;0.0;0.0;0.0;1.0;0....\n",
      "2011   NaN  6;2;18;1;12;10;8;11;2;7;20;8;8;3;10;13;11;19;1...\n",
      "2012   NaN  90.0;4.0;90.0;120.0;120.0;120.0;15.0;120.0;90....\n",
      "2013   NaN  1;1;1;1;1;1;1;1;1;1;1;1;1;1;1;1;1;1;1;1;1;1;1;...\n",
      "2014   NaN  9.486832619;2.0;9.486832619;10.95445156;10.954...\n",
      "2015   NaN  0.0;0.0;0.0;0.0;0.693147182;0.693147182;0.6931...\n",
      "2016   NaN  0;0;0;0;1;0;0;1;0;0;0;0;0;0;0;0;0;0;1;0;0;0;0;...\n",
      "2017   NaN  9.486832619;2.0;9.486832619;10.95445156;10.954...\n",
      "2018   NaN  0.0;1.0;0.0;1.0;1.0;1.0;0.0;1.0;0.0;0.0;1.0;0....\n",
      "2019   NaN  1.0;1.0;1.0;1.0;2.0;2.0;2.0;2.0;3.0;3.0;4.0;4....\n",
      "================================\n",
      "gender ||        class                                               data\n",
      "3276   event  4;3;3;3;1;2;1;3;4;2;4;2;3;3;3;4;3;4;1;4;3;2;1;...\n",
      "3278     age  0;1;1;0;1;1;0;0;1;1;0;0;1;1;1;1;1;1;1;1;1;0;1;...\n",
      "3280  weight  3;2;1;0;1;1;2;1;1;1;0;1;0;1;1;2;0;2;2;3;1;2;2;...\n",
      "     class                                               data\n",
      "3277   NaN  0;0;0;1;1;0;0;0;1;1;1;0;1;1;0;0;1;0;0;0;1;0;0;...\n",
      "3279   NaN  3;1;1;1;1;2;2;2;1;1;1;2;1;2;2;3;0;3;2;3;1;2;3;...\n",
      "3281   NaN  1;1;1;1;1;1;1;1;1;1;1;1;1;1;1;1;1;1;1;1;1;1;1;...\n",
      "3282   NaN  0;1;1;0;0;0;0;1;0;0;0;1;0;0;0;1;0;1;1;0;0;1;1;...\n",
      "3283   NaN  1;1;1;0;0;1;0;1;1;1;0;1;0;0;0;0;0;0;1;1;0;1;0;...\n",
      "3284   NaN  1;0;0;0;0;0;1;0;0;0;0;0;0;1;1;0;0;1;0;1;0;0;1;...\n",
      "3285   NaN  1;1;0;1;1;0;1;1;1;1;1;1;1;1;0;1;1;1;1;0;0;0;1;...\n",
      "3286   NaN  1;1;1;1;1;0;1;1;1;1;1;1;1;1;0;1;1;1;0;0;1;1;1;...\n",
      "3287   NaN  0;0;0;0;1;0;0;1;0;0;0;1;1;1;1;0;1;0;0;0;0;0;0;...\n",
      "3288   NaN  1;1;0;1;1;1;1;1;1;1;1;1;1;0;1;0;0;1;1;1;0;0;1;...\n",
      "3289   NaN  0;0;1;0;1;0;0;0;1;1;0;0;1;0;0;0;0;0;0;0;1;1;0;...\n",
      "3290   NaN  0;2;3;0;3;1;1;0;3;3;0;0;2;0;0;1;0;0;1;0;2;2;0;...\n",
      "================================\n",
      "age ||      class                                               data\n",
      "4867   age  21;19;20;25;20;19;30;18;18;21;18;22;22;20;22;2...\n",
      "     class                                               data\n",
      "4864   NaN  id-1;id-2;id-3;id-4;id-5;id-6;id-7;id-8;id-9;i...\n",
      "4865   NaN  Male;Male;Male;Male;Male;Male;Male;Male;Male;F...\n",
      "4866   NaN  Black;Black;Black;Black;Black;Black;Black;Blac...\n",
      "4868   NaN  T1;T2;T1;T1;T1;T2;T1;T3;T3;T1;T1;T1;T2;T3;T1;T...\n",
      "4869   NaN  1;1;1;1;1;1;1;1;1;1;1;1;1;1;1;1;1;1;1;1;1;1;1;...\n",
      "4870   NaN  24.24242424;20.56932966;18.7260073;25.20920136...\n",
      "================================\n",
      "height ||         class                                               data\n",
      "5131      age  68.79123888;68.79397673;68.79397673;68.7939767...\n",
      "5136  endDate  25/11/2011 00:00;25/11/2011 00:00;25/11/2011 0...\n",
      "     class                                               data\n",
      "5132   NaN                                  2;2;2;2;2;2;2;2;2\n",
      "5133   NaN                                  1;1;1;2;2;5;5;1;2\n",
      "5134   NaN  Aye;Aye;Aye;No;No;Did not vote;Did not vote;Ay...\n",
      "5135   NaN  18/05/2010 00:00;18/05/2010 00:00;18/05/2010 0...\n",
      "5137   NaN  Norma Fisher;Jorge Sullivan;Elizabeth Woods;Su...\n",
      "5138   NaN       2535;2536;2537;2538;2539;2540;2541;2542;2543\n",
      "5139   NaN                                  1;2;3;4;5;6;7;8;9\n",
      "5140   NaN  07/06/2010 00:00;08/06/2010 00:00;08/06/2010 0...\n",
      "5141   NaN  07/06/2010;08/06/2010;08/06/2010;08/06/2010;15...\n",
      "5142   NaN                                  4;3;3;3;0;0;0;0;0\n",
      "5143   NaN  Constitution and Home Affairs.  Question put, ...\n",
      "5144   NaN  30/12/1899 21:59:00;30/12/1899 21:59:00;30/12/...\n",
      "5145   NaN                             4;4;4;4;16;16;16;12;12\n",
      "5146   NaN                         No;No;No;No;No;No;No;No;No\n",
      "5147   NaN                         No;No;No;No;No;No;No;No;No\n",
      "5148   NaN  2011-07-28;2013-07-31;1983-12-01;2007-08-08;20...\n",
      "5149   NaN                                  M;M;M;M;M;M;M;M;M\n",
      "5150   NaN                                  2;2;2;2;2;2;2;2;2\n",
      "5151   NaN  Kelvin Hopkins;Kelvin Hopkins;Kelvin Hopkins;K...\n",
      "5152   NaN  Kelvin Hopkins ;Kelvin Hopkins ;Kelvin Hopkins...\n",
      "5153   NaN                         15;15;15;15;15;15;15;15;15\n",
      "5154   NaN  Norma Fisher;Jorge Sullivan;Elizabeth Woods;Su...\n",
      "5155   NaN       7385;7385;7385;7385;7385;7385;7385;7385;7385\n",
      "5156   NaN       3589;3589;3589;3589;3589;3589;3589;3589;3589\n",
      "5157   NaN  Norma Fisher;Jorge Sullivan;Elizabeth Woods;Su...\n",
      "5158   NaN                                  3;3;3;3;3;3;3;3;3\n",
      "5159   NaN  East of England;East of England;East of Englan...\n",
      "5160   NaN  Hopkins;Hopkins;Hopkins;Hopkins;Hopkins;Hopkin...\n",
      "5161   NaN  Hopkins, Kelvin ;Hopkins, Kelvin ;Hopkins, Kel...\n",
      "5162   NaN  Kelvin Hopkins;Kelvin Hopkins;Kelvin Hopkins;K...\n",
      "5163   NaN  Norma Fisher;Jorge Sullivan;Elizabeth Woods;Su...\n",
      "================================\n",
      "rank ||        class                                               data\n",
      "5361   title  Bioactive Elastic Scaffolds Loaded with Neural...\n",
      "5362    year  2020;2020;2016;1997;2018;2014;2019;2018;2019;2...\n",
      "5363  source  ACS Biomaterials Science and Engineering;Oxida...\n",
      "5380     age                      1;1;5;24;3;7;2;3;2;6;13;35;34\n",
      "     class                                               data\n",
      "5359   NaN                    0;0;2;2;3;3;6;7;9;10;50;129;143\n",
      "5360   NaN  Z. Gong;Y. Chen;C.A. Meyer;A. Borromei;N. Seth...\n",
      "5364   NaN  https://www.scopus.com/inward/record.uri?partn...\n",
      "5365   NaN  https://www.scopus.com/inward/citedby.uri?part...\n",
      "5366   NaN                      12;13;10;11;8;9;7;6;5;4;3;2;1\n",
      "5367   NaN  2021-01-15 13:43:51;2021-01-15 13:43:51;2021-0...\n",
      "5368   NaN  Article;Review;Article;Review;Conference Paper...\n",
      "5369   NaN  10.1021/acsbiomaterials.0c01057;10.1155/2020/6...\n",
      "5370   NaN  2373-9878;1942-0900;1932-6203;0393-5264;1532-0...\n",
      "5371   NaN  https://api.elsevier.com/content/abstract/scop...\n",
      "5372   NaN              6;2020;11;12;68;8;51;678;7;19;21;3;49\n",
      "5373   NaN         11.0;1.0;2.0;1.0;6.0;16.0;22.0;1.0;4.0;1.0\n",
      "5374   NaN  6331.0;89.0;63.0;1835.0;141.0;110.0;2648.0;443...\n",
      "5375   NaN  6343.0;99.0;73.0;1840.0;149.0;117.0;2656.0;444...\n",
      "5376   NaN                    0;0;2;2;3;3;6;7;9;10;50;129;143\n",
      "5377   NaN  0.0;0.0;0.4;0.08;1.0;0.43;3.0;2.33;4.5;1.67;3....\n",
      "5378   NaN                    0;0;2;2;3;3;6;7;9;10;50;129;143\n",
      "5379   NaN                          1;1;1;1;1;1;1;1;1;1;1;1;1\n",
      "================================\n",
      "age ||      class                                               data\n",
      "6620    id  85;86;87;88;89;91;92;93;94;95;96;97;98;99;100;...\n",
      "6622   age  19;33;20;21;18;21;22;17;29;26;19;19;22;30;18;1...\n",
      "6624  race  2;3;1;1;1;3;1;3;1;1;3;3;3;3;1;1;2;1;3;1;3;1;1;...\n",
      "     class                                               data\n",
      "6621   NaN  0;0;0;0;0;0;0;0;0;0;0;0;0;0;0;0;0;0;0;0;0;0;0;...\n",
      "6623   NaN  182;155;105;108;107;124;118;103;123;113;95;150...\n",
      "6625   NaN  0;0;1;1;1;0;0;0;1;1;0;0;0;0;1;1;0;1;0;1;0;0;0;...\n",
      "6626   NaN  0;0;0;0;0;0;0;0;0;0;0;0;0;1;0;0;0;0;0;0;0;0;0;...\n",
      "6627   NaN  0;0;0;0;0;0;0;0;0;0;0;0;1;0;0;0;0;0;0;0;0;0;0;...\n",
      "6628   NaN  1;0;0;1;1;0;0;0;0;0;0;0;0;1;0;0;0;0;1;0;0;1;0;...\n",
      "6629   NaN  0;3;1;2;0;0;1;1;1;0;0;1;0;2;0;0;0;3;0;1;2;3;1;...\n",
      "6630   NaN  2523;2551;2557;2594;2600;2622;2637;2637;2663;2...\n",
      "================================\n"
     ]
    }
   ],
   "source": [
    "num = 0\n",
    "target_type = \"age\"\n",
    "target_type_id = np.where(types==target_type )[0][0]\n",
    "for i, (index, group_df) in enumerate(df_group_test):\n",
    "    if target_type in group_df[\"class\"].values:\n",
    "        print(types[preds[labels==target_type_id]][num], \"||\",group_df[group_df[\"class_id\"]>-1][[\"class\", \"data\"]])\n",
    "        print(group_df[group_df[\"class_id\"]==-1][[\"class\", \"data\"]])\n",
    "        print(\"================================\")\n",
    "        num += 1\n",
    "        if num > 10:\n",
    "            break"
   ]
  },
  {
   "cell_type": "code",
   "execution_count": 233,
   "metadata": {},
   "outputs": [
    {
     "name": "stdout",
     "output_type": "stream",
     "text": [
      "time ||         class                                               data\n",
      "4015  created  12/18/2018 08:39:21 AM;12/18/2018 08:40:06 AM;...\n",
      "     class                                               data\n",
      "4008   NaN  3VTU96QQ;3VTU9E0W;3VTU97J8;3VTU98JJ;3VTU9E0Q;3...\n",
      "4009   NaN  1431683748;1431693665;1431685013;1431686333;14...\n",
      "4010   NaN  RPT;CA:STLC;DAN;NNA;DOM.SE;ESP;NATR;ARION.IS;G...\n",
      "4011   NaN  US74971D1019;CA8585221051;US2358252052;MHY6215...\n",
      "4012   NaN  RPT Reality;Stelco Holdings Inc.;Dana Inc;Navi...\n",
      "4013   NaN  R;R;R;S;R;S;R;R;S;R;S;R;R;R;R;R;R;S;S;R;R;R;R;...\n",
      "4014   NaN  02/17/2021;02/17/2021;02/18/2021;04/15/2021;03...\n",
      "4016   NaN  02/17/2021 04:49:03 PM;02/17/2021 06:44:50 PM;...\n",
      "4017   NaN  05/03/2021 08:43:42 PM;05/03/2021 08:43:42 PM;...\n",
      "================================\n",
      "date ||         class                                               data\n",
      "5203  created  27/Dec/11 21:58;07/Jul/11 19:27;26/Nov/18 08:4...\n",
      "     class                                               data\n",
      "5192   NaN  Bug;Bug;New Feature;Bug;Improvement;Bug;Bug;Im...\n",
      "5193   NaN                                    Patch Available\n",
      "5194   NaN  CAMEL-4832;CAMEL-4188;CAMEL-12955;CAMEL-12943;...\n",
      "5195   NaN  12536445;12513177;13200504;13199302;13205829;1...\n",
      "5196   NaN                                         12485654.0\n",
      "5197   NaN  camel-mail feature doesn't work;Cannot install...\n",
      "5198   NaN  jbonofre;ancosen;dmvolod;davsclaus;davsclaus;a...\n",
      "5199   NaN  muellerc;mgardiner;Varun Krish;tdiesler;davscl...\n",
      "5200   NaN  Critical;Critical;Major;Major;Major;Major;Majo...\n",
      "5201   NaN  Closed;Closed;Resolved;Resolved;Resolved;Resol...\n",
      "5202   NaN  Not A Problem;Not A Problem;Fixed;Fixed;Fixed;...\n",
      "5204   NaN  28/Dec/11 20:45;25/Oct/11 11:35;01/Mar/19 13:2...\n",
      "================================\n",
      "id ||         class                                               data\n",
      "5444     type  comment;comment;comment;comment;story;comment;...\n",
      "5446   parent          9969.0;9986.0;9986.0;9908.0;9974.0;9895.0\n",
      "5450    title  Applicant Demographics: Location, Team size an...\n",
      "5452  created  1175942443;1175942276;1175941990;1175941823;11...\n",
      "     class                                               data\n",
      "5443   NaN                 9991;9989;9988;9987;9986;9985;9984\n",
      "5445   NaN          9969.0;9986.0;9986.0;9908.0;9770.0;9852.0\n",
      "5447   NaN                                      0;0;0;0;8;0;0\n",
      "5448   NaN                                      0;0;0;0;3;0;0\n",
      "5449   NaN  mattjaynes;jrbedard;theoutlander;BrandonM;theo...\n",
      "5451   NaN  Wow, this is awesome. Unfortunately it will pr...\n",
      "================================\n",
      "date ||             class                                               data\n",
      "7369      created  2021-03-15 01:04:36;2021-01-25 17:17:15;2021-0...\n",
      "7371  description  f39657a1847db73d9a2abb0bad3d31ae;d267c9d09a2d1...\n",
      "     class                                               data\n",
      "7365   NaN  txn_0IV4rIig6peNXzgDK3XAFbaN;txn_0IDYgiig6peNX...\n",
      "7366   NaN  2021-03-15 02:21:18;2021-01-31 02:21:08;2021-0...\n",
      "7367   NaN  -18759;2040000;117524;7239375;255360;438750;19...\n",
      "7368   NaN  2021-03-16 0:00:00;2021-02-01 0:00:00;2021-02-...\n",
      "7370   NaN                usd;usd;usd;usd;usd;usd;usd;usd;usd\n",
      "7372   NaN   0;59190;3438;209972;7435;12754;591;137308;217530\n",
      "7373   NaN  -18759;1980810;114086;7029403;247925;425996;18...\n",
      "7374   NaN  po_0IV4rIig6peNXzgD51VFKdaB;ch_0IDYghig6peNXzg...\n",
      "7375   NaN  pending;pending;pending;pending;pending;pendin...\n",
      "7376   NaN  payout;charge;charge;charge;charge;charge;char...\n",
      "7377   NaN  po_0IV4rIig6peNXzgD51VFKdaB;po_0IFUKBig6peNXzg...\n",
      "================================\n"
     ]
    }
   ],
   "source": [
    "num = 0\n",
    "target_type = \"created\"\n",
    "target_type_id = np.where(types==target_type )[0][0]\n",
    "for i, (index, group_df) in enumerate(df_group_test):\n",
    "    if target_type in group_df[\"class\"].values:\n",
    "        print(types[preds[labels==target_type_id]][num], \"||\",group_df[group_df[\"class_id\"]>-1][[\"class\", \"data\"]])\n",
    "        print(group_df[group_df[\"class_id\"]==-1][[\"class\", \"data\"]])\n",
    "        print(\"================================\")\n",
    "        num += 1\n",
    "        if num > 10:\n",
    "            break"
   ]
  },
  {
   "cell_type": "code",
   "execution_count": 190,
   "metadata": {},
   "outputs": [
    {
     "name": "stdout",
     "output_type": "stream",
     "text": [
      "birthDate ||           class                                               data\n",
      "2243  birthDate  1995-09-23;1994-08-11;2007-03-08;1980-04-19;19...\n",
      "================================\n",
      "birthDate ||           class                                               data\n",
      "4942       name  Norma Fisher;Jorge Sullivan;Elizabeth Woods;Su...\n",
      "4952     height  1,88 m;1,86 m;1,83 m;1,75 m;1,86 m;1,82 m;1,80...\n",
      "4961   position  Striker - Centre Forward;Defence - Sweeper;Str...\n",
      "4962  birthDate  2000-06-30;1995-10-08;2018-05-04;2015-11-07;20...\n",
      "4963         id  3531;6183;7039;8721;18405;24243;26785;27259;27...\n",
      "================================\n",
      "birthDate ||           class                                               data\n",
      "6532  birthDate  1987-01-18;2006-03-29;2017-12-27;2010-12-17;19...\n",
      "================================\n",
      "birthDate ||           class                                               data\n",
      "9161     prefix                                     de;van;van;van\n",
      "9164       role                           1;3;2;7;9;8;4;6;5;10;3;2\n",
      "9170  birthDate  2012-01-30;1987-01-18;2006-03-29;2017-12-27;20...\n",
      "================================\n"
     ]
    }
   ],
   "source": [
    "num = 0\n",
    "target_type = \"birthDate\"\n",
    "target_type_id = np.where(types==target_type )[0][0]\n",
    "for i, (index, group_df) in enumerate(df_group_test):\n",
    "    if target_type in group_df[\"class\"].values:\n",
    "        print(types[preds[labels==target_type_id]][num], \"||\",group_df[group_df[\"class_id\"]>-1][[\"class\", \"data\"]])\n",
    "        print(\"================================\")\n",
    "        num += 1\n",
    "        if num > 10:\n",
    "            break"
   ]
  },
  {
   "cell_type": "code",
   "execution_count": 191,
   "metadata": {},
   "outputs": [
    {
     "name": "stdout",
     "output_type": "stream",
     "text": [
      "releaseDate ||             class                                               data\n",
      "2605     duration  0.0;0.0;0.0;0.0;0.0;0.0;0.0;0.0;0.0;-1.0;0.0;0...\n",
      "2614  releaseDate  2015-05-02 00:00:00;2015-05-02 00:00:00;2015-0...\n",
      "================================\n",
      "date ||                class                                               data\n",
      "5787     releaseDate  2020-02-15 11:44:13;2020-02-16 04:16:12;2020-0...\n",
      "5812  scientificName  Severe acute respiratory syndrome coronavirus ...\n",
      "================================\n"
     ]
    }
   ],
   "source": [
    "num = 0\n",
    "target_type = \"releaseDate\"\n",
    "target_type_id = np.where(types==target_type )[0][0]\n",
    "for i, (index, group_df) in enumerate(df_group_test):\n",
    "    if target_type in group_df[\"class\"].values:\n",
    "        print(types[preds[labels==target_type_id]][num], \"||\",group_df[group_df[\"class_id\"]>-1][[\"class\", \"data\"]])\n",
    "        print(\"================================\")\n",
    "        num += 1"
   ]
  },
  {
   "cell_type": "code",
   "execution_count": 200,
   "metadata": {},
   "outputs": [
    {
     "name": "stdout",
     "output_type": "stream",
     "text": [
      "status ||           class                                               data\n",
      "2323  startDate  Start Date;{\"ImportId\":\"startDate\",\"timeZone\":...\n",
      "2366         id  id;{\"ImportId\":\"id\"};7180;8538;6593;1572;2754;...\n",
      "     class                                               data\n",
      "2324   NaN  End Date;{\"ImportId\":\"endDate\",\"timeZone\":\"Ame...\n",
      "2325   NaN  Response Type;{\"ImportId\":\"status\"};0;0;0;0;0;...\n",
      "2326   NaN  Progress;{\"ImportId\":\"progress\"};100;100;100;1...\n",
      "2327   NaN  Duration (in seconds);{\"ImportId\":\"duration\"};...\n",
      "2328   NaN  Finished;{\"ImportId\":\"finished\"};1;1;1;1;1;1;1...\n",
      "2329   NaN  Recorded Date;{\"ImportId\":\"recordedDate\",\"time...\n",
      "2330   NaN  Response ID;{\"ImportId\":\"_recordId\"};R_3Jr4eeQ...\n",
      "2331   NaN  Distribution Channel;{\"ImportId\":\"distribution...\n",
      "2332   NaN  User Language;{\"ImportId\":\"userLanguage\"};EN;E...\n",
      "2333   NaN  Interested;{\"ImportId\":\"QID14\"};2;2;1;2;1;3;2;...\n",
      "2334   NaN  Distressed;{\"ImportId\":\"QID33\"};1;2;3;3;2;1;5;...\n",
      "2335   NaN   Excited;{\"ImportId\":\"QID32\"};1;2;1;4;1;4;3;3;3;3\n",
      "2336   NaN     Upset;{\"ImportId\":\"QID31\"};5;4;1;4;2;1;5;4;4;4\n",
      "2337   NaN    Strong;{\"ImportId\":\"QID30\"};2;1;3;4;5;5;4;3;2;3\n",
      "2338   NaN    Guilty;{\"ImportId\":\"QID29\"};4;1;1;2;1;1;5;4;2;2\n",
      "2339   NaN    Scared;{\"ImportId\":\"QID28\"};3;2;2;4;1;1;4;4;3;4\n",
      "2340   NaN   Hostile;{\"ImportId\":\"QID27\"};5;4;4;4;1;2;5;3;5;4\n",
      "2341   NaN  Enthusiastic;{\"ImportId\":\"QID26\"};2;1;1;4;5;3;...\n",
      "2342   NaN     Proud;{\"ImportId\":\"QID25\"};2;2;5;5;1;5;4;3;4;4\n",
      "2343   NaN  Irritable;{\"ImportId\":\"QID24\"};5;3;3;3;1;2;2;2...\n",
      "2344   NaN     Alert;{\"ImportId\":\"QID23\"};3;3;1;4;5;1;2;3;3;3\n",
      "2345   NaN   Ashamed;{\"ImportId\":\"QID22\"};4;3;1;4;1;2;5;5;5;3\n",
      "2346   NaN  Inspired;{\"ImportId\":\"QID21\"};1;3;1;3;5;4;3;2;3;3\n",
      "2347   NaN   Nervous;{\"ImportId\":\"QID20\"};2;2;1;4;1;1;5;4;2;2\n",
      "2348   NaN  Determined;{\"ImportId\":\"QID19\"};2;2;3;3;2;5;1;...\n",
      "2349   NaN  Attentive;{\"ImportId\":\"QID18\"};3;3;2;5;3;4;1;2...\n",
      "2350   NaN   Jittery;{\"ImportId\":\"QID17\"};3;3;3;3;1;3;5;4;3;3\n",
      "2351   NaN    Active;{\"ImportId\":\"QID16\"};1;3;4;5;1;3;4;3;3;3\n",
      "2352   NaN    Afraid;{\"ImportId\":\"QID15\"};3;4;1;4;2;1;4;4;4;4\n",
      "2353   NaN  I sometimes feel resentful when I don't get my...\n",
      "2354   NaN  On a few occasions, I have given up doing some...\n",
      "2355   NaN  There have been times when I felt like rebelli...\n",
      "2356   NaN  No matter who I'm talking to, I'm always a goo...\n",
      "2357   NaN  I can remember \"playing sick\" to get out of so...\n",
      "2358   NaN  There have been occasions when I took advantag...\n",
      "2359   NaN  I'm always willing to admit it when I make a m...\n",
      "2360   NaN  I sometimes try to get even rather than forgiv...\n",
      "2361   NaN  I am always courteous, even to people who are ...\n",
      "2362   NaN  I have never been irked when people expressed ...\n",
      "2363   NaN  There have been times when I was quite jealous...\n",
      "2364   NaN  I am sometimes irritated by people who ask fav...\n",
      "2365   NaN  I have never deliberately said something that ...\n",
      "2367   NaN  id - Topics;{\"ImportId\":\"id_6990fad5ac344e7496...\n",
      "================================\n",
      "date ||           class                                               data\n",
      "3335  startDate  5/17/2018 10:38;5/14/2018 14:25;5/8/2018 14:44...\n",
      "3336    endDate  5/17/2018 10:40;5/14/2018 14:27;5/8/2018 16:01...\n",
      "     class                                               data\n",
      "3333   NaN  10023856431;10018668148;10011582571;1000979390...\n",
      "3334   NaN  210778718;210778718;210778718;210778718;210778...\n",
      "3337   NaN  PSC 3667, Box 0636\\nAPO AE 81210;USS Aguilar\\n...\n",
      "3338   NaN  588 Alan Rest\\nPort Stephanieville, MS 63590;2...\n",
      "3339   NaN  Norma Fisher;Jorge Sullivan;Elizabeth Woods;Su...\n",
      "3340   NaN  Norma Fisher;Jorge Sullivan;Elizabeth Woods;Su...\n",
      "3341   NaN  True;True;True;True;True;True;True;True;True;T...\n",
      "3342   NaN  https://www.linkedin.com/in/rebecca-purc-steph...\n",
      "3343   NaN  No;No;Unemployed;Unemployed;No;Yes;Unemployed;...\n",
      "3344   NaN  8;9;9;7;Strongly Agree;Strongly Agree;7;6;Stro...\n",
      "3345   NaN  40;28;25;25;30;31;22;22;23;29;31;24;21;25;30;2...\n",
      "3346   NaN  Female;Male;Male;Female;Female;Male;Male;Femal...\n",
      "3347   NaN  White;White;White;White;White;White;White;Whit...\n",
      "3348   NaN  Yes;Yes;No;Yes;Yes;Yes;Yes;No;Yes;Yes;Yes;No;Y...\n",
      "3349   NaN  Education;Manufacturing;Other;Education;Educat...\n",
      "3350   NaN  Outside of the United States;Alabama;Outside o...\n",
      "================================\n",
      "year ||           class                                               data\n",
      "3776         id  R01MH096906;R01MH109682;R24MH120037;1760950;UH...\n",
      "3777      title  LARGE-SCALE IMAGE-BASED META-ANALYSIS OF FUNCT...\n",
      "3779  startDate  2012;2016;2019;2018;2018;2018;2018;2017;2017;2...\n",
      "3780    endDate  2023;2021;2024;2021;2020;2023;2023;2020;2020;2...\n",
      "     class                                               data\n",
      "3775   NaN  National Institute of Mental Health;National I...\n",
      "3778   NaN  Subcontract PI (T. Yarkoni, PI);Subcontract PI...\n",
      "3781   NaN  True;True;True;True;True;True;True;True;False;...\n",
      "3782   NaN  https://projectreporter.nih.gov/project_info_d...\n",
      "================================\n",
      "date ||           class                                               data\n",
      "4135         id  0;1;2;3;4;5;6;7;8;9;10;11;12;13;14;15;16;17;18...\n",
      "4136  startDate  2009-02-04;2009-02-04;2009-02-04;2009-02-04;20...\n",
      "     class                                               data\n",
      "4137   NaN  2;2;2;1;1;1;1;2;1;1;1;3;4;1;1;1;1;1;1;1;1;1;1;...\n",
      "4138   NaN  1000;1000;582;1000;500;800;500;972;1498;645;70...\n",
      "4139   NaN  Dahaf;Teleseker;Maagar;Dialog;Midgam;Dialog;Sh...\n",
      "4140   NaN  Yediot;Maariv;Makor Rishon;Haaretz;Ch1;Ch10;Re...\n",
      "4141   NaN  25;26;27;27;28;27;25;30;26;26;27;26;31;27;28;2...\n",
      "4142   NaN  4.0;3.0;2.0;4.0;3.0;4.0;4.0;3.0;4.0;3.5;4.0;2....\n",
      "4143   NaN  19.0;19.0;18.0;18.0;19.0;19.0;16.0;17.0;18.0;1...\n",
      "4144   NaN  3.0;3.0;3.0;2.0;3.0;2.0;4.0;2.0;3.0;3.5;3.0;3....\n",
      "4145   NaN  0;2;1;0;0;0;2;0;0;0;0;1;0;0;0;0;2;0;2;0;0;0;0;...\n",
      "4146   NaN  23;23;24;25;23;25;21;24;25;23;23;23;23;24;23;2...\n",
      "4147   NaN  0;0;2;0;0;0;0;0;0;0;0;2;1;0;0;0;0;2;0;0;0;0;0;...\n",
      "4148   NaN  6;5;6;6;5;6;7;5;5;5;5;6;6;5;5;5;7;5;5;5;6;5;7;...\n",
      "4149   NaN  10;10;10;9;10;9;11;9;10;10;10;10;11;11;10;10;1...\n",
      "4150   NaN  16.0;17.0;13.0;14.0;16.0;14.0;16.0;16.0;14.0;1...\n",
      "4151   NaN  5.0;6.0;5.0;7.0;5.0;6.0;5.0;6.0;6.0;5.5;6.0;6....\n",
      "4152   NaN  3;4;3;3;4;3;3;3;3;4;0;2;3;4;2;4;3;4;4;3;4;3;3;...\n",
      "4153   NaN  2;2;3;2;2;2;2;0;2;2;4;3;3;2;2;0;3;2;2;3;2;3;4;...\n",
      "4154   NaN  4;4;3;3;4;3;4;5;4;4;4;4;4;3;4;4;3;4;3;4;4;3;3;...\n",
      "4155   NaN  http://imra.org.il/story.php3?id=42699;http://...\n",
      "4156   NaN  http://www.bhirot2009.co.il/home.yecms/poll/77...\n",
      "================================\n",
      "startDate ||           class                                               data\n",
      "4907  startDate  2008-08-25;2009-04-30;2010-02-12;2008-06-05;20...\n",
      "     class                                               data\n",
      "4904   NaN  17;17;37;53;64;71;75;86;88;91;104;108;146;149;...\n",
      "4905   NaN  1712;1829;4359;5751;6902;7865;8397;10196;10443...\n",
      "4906   NaN  condition_occurrence;condition_occurrence;cond...\n",
      "4908   NaN  2008-08-25;2009-04-30;2010-02-12;2008-06-05;20...\n",
      "================================\n",
      "startDate ||           class                                           data\n",
      "5958  startDate  9/28/00;10/4/00;9/7/00;9/7/00;1/10/08;1/10/08\n",
      "     class                                               data\n",
      "5949   NaN      1.0;2.0;3.0;4.0;5.0;6.0;7.0;8.0;9.0;10.0;11.0\n",
      "5950   NaN  knb-lter-sbc.18.18;knb-lter-sbc.17.28;knb-lter...\n",
      "5951   NaN  Benthic community survey, giant kelp abundance...\n",
      "5952   NaN        SBC;SBC;SBC;SBC;SBC;SBC;AND;SBC;SBC;SBC;VCR\n",
      "5953   NaN  SBC LTER: Reef: Kelp Forest Community Dynamics...\n",
      "5954   NaN  Reed;Reed;Reed;Reed;Reed;Reed;Bibian;Ochocki;C...\n",
      "5955   NaN        0.0;0.0;0.0;0.0;0.0;0.0;0.0;0.0;0.0;0.0;0.0\n",
      "5956   NaN        0.0;0.0;0.0;0.0;0.0;0.0;0.0;0.0;0.0;0.0;0.0\n",
      "5957   NaN        0.0;0.0;0.0;0.0;0.0;0.0;0.0;0.0;0.0;0.0;0.0\n",
      "5959   NaN     7/22/14;8/5/14;7/24/14;7/24/14;8/20/14;8/20/14\n",
      "5960   NaN        1.0;1.0;1.0;1.0;1.0;1.0;1.0;1.0;1.0;1.0;1.0\n",
      "5961   NaN        1.0;1.0;1.0;1.0;1.0;1.0;1.0;1.0;1.0;1.0;1.0\n",
      "5962   NaN        1.0;1.0;1.0;1.0;1.0;1.0;1.0;1.0;1.0;1.0;1.0\n",
      "5963   NaN  yr;yr;yr;yr;season:yr;season:yr;yr;yr;monthly;...\n",
      "5964   NaN        low;low;low;low;low;low;low;low;low;low;low\n",
      "5965   NaN  algae;fish;arthropod,mollusc, algae, porifera,...\n",
      "5966   NaN  count,trait;count;count;per_cover;count,trait;...\n",
      "5967   NaN        obs;obs;obs;obs;exp;exp;obs;obs;obs;exp;exp\n",
      "5968   NaN                1.0;-999.0;-999.0;-999.0;1.0;-999.0\n",
      "5969   NaN           no;yes;yes;yes;no;yes;yes;yes;no;yes;yes\n",
      "5970   NaN                               no;yes;yes;no;no;yes\n",
      "5971   NaN                        11.0;11.0;11.0;11.0;4.0;5.0\n",
      "5972   NaN        0.0;0.0;0.0;0.0;3.0;3.0;0.0;0.0;0.0;0.0;2.0\n",
      "5973   NaN  habitat;habitat;habitat;habitat;removal;remova...\n",
      "5974   NaN  none;none;none;none;maintained;maintained;none...\n",
      "5975   NaN  yes;yes;yes;yes;yes;see site_metadata;yes;yes;...\n",
      "5976   NaN        3.0;1.0;2.0;1.0;2.0;2.0;1.0;2.0;3.0;3.0;1.0\n",
      "5977   NaN        8.0;8.0;8.0;8.0;2.0;2.0;3.0;3.0;3.0;3.0;3.0\n",
      "5978   NaN        2.0;0.0;7.0;0.0;2.0;2.0;0.0;2.0;2.0;2.0;0.0\n",
      "5979   NaN        2.0;0.0;0.0;0.0;0.0;0.0;0.0;0.0;1.0;2.0;0.0\n",
      "5980   NaN        0.0;0.0;0.0;0.0;0.0;0.0;0.0;0.0;0.0;0.0;0.0\n",
      "5981   NaN  http://sbc.lternet.edu/cgi-bin/showDataset.cgi...\n",
      "5982   NaN  site (11), transect (up to 8 per site), side (...\n",
      "5983   NaN        1.0;1.0;1.0;1.0;1.0;1.0;1.0;1.0;1.0;1.0;1.0\n",
      "5984   NaN  SBC/all_fish_all_years_20140903.csv;SBC/quad_s...\n",
      "================================\n",
      "date ||             class                                               data\n",
      "7420         code                                    1;2;3;4;5;6;7;8\n",
      "7423  description  For tracking menome administration and operati...\n",
      "7425    startDate  01-06-2016;01-06-2016;01-05-2016;01-07-2016;01...\n",
      "     class                                               data\n",
      "7419   NaN  e80019c2-64a8-11e6-8b77-86f30ca893d3;e80020f2-...\n",
      "7421   NaN  Norma Fisher;Jorge Sullivan;Elizabeth Woods;Su...\n",
      "7422   NaN  Menome Technologies Operations;2 Menome Techno...\n",
      "7424   NaN  Active;Active;Active;On Hold;Active;On Hold;Ac...\n",
      "7426   NaN  6593 Ramos Pike\\nBryanside, AL 12726;097 Sanch...\n",
      "7427   NaN  Calgary;Calgary;Calgary;Calgary;Calgary;Calgar...\n",
      "7428   NaN                            AB;AB;AB;AB;AB;AB;AB;aB\n",
      "7429   NaN                    Can;Can;Can;Can;Can;Can;Can;can\n",
      "7430   NaN     27162;8109;89132;21237;21728;45368;69900;33359\n",
      "7431   NaN  https://www.menome.com/wp/wp-content/uploads/2...\n",
      "7432   NaN  https://menometechnologiesinc.freshbooks.com/s...\n",
      "7433   NaN  https://menome-my.sharepoint.com/personal/mmor...\n",
      "================================\n",
      "date ||           class                                         data\n",
      "7730  startDate      TODAY[1d];TODAY[1d];TODAY[1d];TODAY[1d]\n",
      "7731    endDate  TODAY[30d];TODAY[30d];TODAY[30d];TODAY[30d]\n",
      "     class                                               data\n",
      "7715   NaN  AX_DD_INV;AX_DD_SCH;AX_DOUBT;AX_EXP_PURCHASE_M...\n",
      "7716   NaN          12;12;16;18;18;11;18;18;11;12;15;15;11;14\n",
      "7717   NaN                        1;1;1;1;1;1;1;1;1;1;1;1;1;1\n",
      "7718   NaN                    EUR;EUR;EUR;EUR;EUR;EUR;EUR;EUR\n",
      "7719   NaN                                        1.0;1.0;2.0\n",
      "7720   NaN                                            2.0;1.0\n",
      "7721   NaN                                                1.0\n",
      "7722   NaN                                        1.0;1.0;2.0\n",
      "7723   NaN                                            1.0;0.0\n",
      "7724   NaN                              TODAY[20d];TODAY[10d]\n",
      "7725   NaN                                            1.0;2.0\n",
      "7726   NaN  False;False;False;False;False;False;False;Fals...\n",
      "7727   NaN  False;False;False;False;False;False;False;Fals...\n",
      "7728   NaN  False;False;False;False;False;False;False;Fals...\n",
      "7729   NaN                                    9.0;7.0;6.0;8.0\n",
      "7732   NaN  Permet de prélever les factures ventilées en f...\n",
      "================================\n"
     ]
    }
   ],
   "source": [
    "num = 0\n",
    "target_type = \"startDate\"\n",
    "target_type_id = np.where(types==target_type )[0][0]\n",
    "for i, (index, group_df) in enumerate(df_group_test):\n",
    "    if target_type in group_df[\"class\"].values:\n",
    "        print(types[preds[labels==target_type_id]][num], \"||\",group_df[group_df[\"class_id\"]>-1][[\"class\", \"data\"]])\n",
    "        print(group_df[group_df[\"class_id\"]==-1][[\"class\", \"data\"]])\n",
    "        print(\"================================\")\n",
    "        num += 1"
   ]
  },
  {
   "cell_type": "code",
   "execution_count": 204,
   "metadata": {},
   "outputs": [
    {
     "name": "stdout",
     "output_type": "stream",
     "text": [
      "day ||        class                                               data\n",
      "392     year  2016;2016;2016;2016;2016;2016;2016;2016;2016;2...\n",
      "393    month  4;5;6;7;8;9;10;11;12;1;2;3;4;5;6;7;8;9;10;11;1...\n",
      "395  country  Argentina;Argentina;Argentina;Argentina;Argent...\n",
      "    class                                               data\n",
      "391   NaN  79073;79074;79075;79076;79077;79078;79079;7908...\n",
      "394   NaN  1;1;1;1;1;1;1;1;1;1;1;1;2;2;2;2;2;2;2;2;2;2;2;...\n",
      "396   NaN  108541.192399996;110119.629391734;131972.03541...\n",
      "================================\n",
      "date ||         class                                               data\n",
      "1320  country   Mexico;Mexico;Mexico;Mexico;Mexico;Mexico;Mexico\n",
      "1322    month  2020-02;2020-03;2020-04;2020-05;2020-06;2020-0...\n",
      "     class                                               data\n",
      "1319   NaN                        mex;mex;mex;mex;mex;mex;mex\n",
      "1321   NaN   202002;202003;202004;202005;202006;202007;202008\n",
      "1323   NaN  0.6585858585858586;-15.173998044965789;-56.423...\n",
      "1324   NaN  1.195959595959596;-3.728250244379277;-22.47070...\n",
      "1325   NaN  3.868686868686869;-13.55620723362659;-48.31616...\n",
      "1326   NaN  2.3252525252525253;-15.687194525904204;-55.644...\n",
      "1327   NaN  6.894949494949496;-9.563049853372434;-44.56363...\n",
      "1328   NaN  -1.1656565656565656;5.364613880742913;19.33333...\n",
      "================================\n",
      "rating ||       class                                               data\n",
      "5571   name   ; 記念日のデータファイルです。; (一行に含まれるカンマの数がヘッダーに含まれるカンマの...\n",
      "5572  month  2.0;7.0;12.0;3.0;5.0;10.0;12.0;10.0;10.0;9.0;8...\n",
      "     class                                               data\n",
      "5570   NaN  0;0;0;0;0;0;0;0;0;10000;10001;20000;20001;2000...\n",
      "5573   NaN  28.0;14.0;4.0;23.0;19.0;27.0;25.0;10.0;25.0;13...\n",
      "================================\n"
     ]
    }
   ],
   "source": [
    "num = 0\n",
    "target_type = \"month\"\n",
    "target_type_id = np.where(types==target_type )[0][0]\n",
    "for i, (index, group_df) in enumerate(df_group_test):\n",
    "    if target_type in group_df[\"class\"].values:\n",
    "        print(types[preds[labels==target_type_id]][num], \"||\",group_df[group_df[\"class_id\"]>-1][[\"class\", \"data\"]])\n",
    "        print(group_df[group_df[\"class_id\"]==-1][[\"class\", \"data\"]])\n",
    "        print(\"================================\")\n",
    "        num += 1\n",
    "        if num > 10:\n",
    "            break"
   ]
  },
  {
   "cell_type": "code",
   "execution_count": 199,
   "metadata": {},
   "outputs": [
    {
     "name": "stdout",
     "output_type": "stream",
     "text": [
      "year ||         class                                               data\n",
      "669    season  2014;2014;2014;2014;2014;2014;2014;2014;2014;2...\n",
      "670    region  MW;MW;MW;MW;MW;MW;MW;MW;MW;MW;MW;MW;MW;MW;MW;S...\n",
      "673      name  MW Round2 Game 1;MW Round2 Game 2;MW Round2 Ga...\n",
      "679  location  Nowhere;Nowhere;Nowhere;Nowhere;Nowhere;Nowher...\n",
      "    class                                               data\n",
      "668   NaN  2014R1G1MW;2014R1G2MW;2014R1G3MW;2014R1G4MW;20...\n",
      "671   NaN  WIST;UK;STL;LOUI;MASS;DUKE;TEX;MICH;WIST;STL;T...\n",
      "672   NaN  CALP;KSST;NCST;MAN;TENN;MERC;AZST;WOF;UK;LOUI;...\n",
      "674   NaN  1;1;1;1;1;1;1;1;2;2;2;2;3;3;4;1;1;1;1;1;1;1;1;...\n",
      "675   NaN  1;2;3;4;5;6;7;8;1;2;3;4;1;2;1;1;2;3;4;5;6;7;8;...\n",
      "676   NaN  67;56;83;71;67;71;87;57;76;51;83;65;74;71;75;6...\n",
      "677   NaN  37;49;80;64;86;78;85;40;78;66;63;79;69;73;72;5...\n",
      "678   NaN  2014-03-17;2014-03-17;2014-03-17;2014-03-18;20...\n",
      "================================\n",
      "endDate ||        class                      data\n",
      "5552  season  2020;2020;2020;2020;2020\n",
      "     class                                               data\n",
      "5544   NaN  2021-05-26T00:00:00;2021-05-26T00:00:00;2021-0...\n",
      "5545   NaN                                          1;2;2;3;3\n",
      "5546   NaN       42000102;42000132;42000132;42000142;42000142\n",
      "5547   NaN                                          1;1;1;1;1\n",
      "5548   NaN  7:00 pm ET;7:30 pm ET;7:30 pm ET;10:00 pm ET;1...\n",
      "5549   NaN  20210526/WASPHI;20210526/ATLNYK;20210526/ATLNY...\n",
      "5550   NaN  1610612755;1610612752;1610612752;1610612762;16...\n",
      "5551   NaN  1610612764;1610612737;1610612737;1610612763;16...\n",
      "5553   NaN                                          0;0;0;0;0\n",
      "5554   NaN                           ;     ;     ;     ;     \n",
      "5555   NaN                         NBA TV;TNT;TNTOT;TNT;TNTOT\n",
      "5556   NaN                    NBCSP;MSG;MSG;ATTSN-RM;ATTSN-RM\n",
      "5557   NaN  NBCSWA;BSSE-ATL            ;BSSE-ATL          ...\n",
      "5558   NaN  Q0       - NBA TV;Q0       - TNT;Q0       - TN...\n",
      "5559   NaN  Wells Fargo Center;Madison Square Garden;Madis...\n",
      "5560   NaN                                          0;0;0;0;0\n",
      "5561   NaN                                          0;0;0;0;0\n",
      "================================\n",
      "date ||        class                                               data\n",
      "7390  season  2018-19;2018-19;2018-19;2018-19;2018-19;2018-1...\n",
      "     class                                               data\n",
      "7383   NaN  Alabama;Alaska;Arizona;Arkansas;California;Col...\n",
      "7384   NaN  http://adph.org/influenza/;http://dhss.alaska....\n",
      "7385   NaN  Influenza Surveillance;Influenza Surveillance ...\n",
      "7386   NaN  Level 10;Level 10;Level 6;Level 10;Level 4;Lev...\n",
      "7387   NaN  High;High;Moderate;High;Low;High;High;Minimal;...\n",
      "7388   NaN  Jan-26-2019;Jan-26-2019;Jan-26-2019;Jan-26-201...\n",
      "7389   NaN  4;4;4;4;4;4;4;4;4;4;4;4;4;4;4;4;4;4;4;4;4;4;4;...\n",
      "================================\n"
     ]
    }
   ],
   "source": [
    "num = 0\n",
    "target_type = \"season\"\n",
    "target_type_id = np.where(types==target_type )[0][0]\n",
    "for i, (index, group_df) in enumerate(df_group_test):\n",
    "    if target_type in group_df[\"class\"].values:\n",
    "        print(types[preds[labels==target_type_id]][num], \"||\",group_df[group_df[\"class_id\"]>-1][[\"class\", \"data\"]])\n",
    "        print(group_df[group_df[\"class_id\"]==-1][[\"class\", \"data\"]])\n",
    "        print(\"================================\")\n",
    "        num += 1\n",
    "        if num > 10:\n",
    "            break"
   ]
  },
  {
   "cell_type": "code",
   "execution_count": null,
   "metadata": {},
   "outputs": [],
   "source": []
  }
 ],
 "metadata": {
  "kernelspec": {
   "display_name": "jupyter",
   "language": "python",
   "name": "python3"
  },
  "language_info": {
   "codemirror_mode": {
    "name": "ipython",
    "version": 3
   },
   "file_extension": ".py",
   "mimetype": "text/x-python",
   "name": "python",
   "nbconvert_exporter": "python",
   "pygments_lexer": "ipython3",
   "version": "3.8.10"
  }
 },
 "nbformat": 4,
 "nbformat_minor": 2
}
