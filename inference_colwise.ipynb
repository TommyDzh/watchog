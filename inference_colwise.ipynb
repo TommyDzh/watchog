{
 "cells": [
  {
   "cell_type": "code",
   "execution_count": 2,
   "metadata": {},
   "outputs": [
    {
     "name": "stderr",
     "output_type": "stream",
     "text": [
      "[nltk_data] Downloading package punkt to /home/zhihao/nltk_data...\n",
      "[nltk_data]   Package punkt is already up-to-date!\n",
      "[nltk_data] Downloading package stopwords to /home/zhihao/nltk_data...\n",
      "[nltk_data]   Package stopwords is already up-to-date!\n"
     ]
    }
   ],
   "source": [
    "import argparse\n",
    "import json\n",
    "import math\n",
    "import os\n",
    "import random\n",
    "from time import time\n",
    "import mlflow\n",
    "import numpy as np\n",
    "import pandas as pd\n",
    "from sklearn.metrics import confusion_matrix, f1_score\n",
    "from collections import defaultdict\n",
    "\n",
    "# import pytrec_eval\n",
    "import torch\n",
    "from torch.nn import CrossEntropyLoss, BCEWithLogitsLoss\n",
    "from torch.utils.data import DataLoader, RandomSampler\n",
    "from transformers import BertTokenizer, BertForSequenceClassification, BertConfig, AutoTokenizer\n",
    "from transformers import AdamW, get_linear_schedule_with_warmup\n",
    "from accelerate import Accelerator\n",
    "from copy import deepcopy\n",
    "\n",
    "torch.backends.cuda.matmul.allow_tf32 = True\n",
    "\n",
    "from watchog.dataset import (\n",
    "    # collate_fn,\n",
    "    TURLColTypeTablewiseDataset,\n",
    "    TURLRelExtTablewiseDataset,\n",
    "    SatoCVTablewiseDataset,\n",
    "    ColPoplTablewiseDataset\n",
    ")\n",
    "\n",
    "from watchog.dataset import TableDataset, SupCLTableDataset, SemtableCVTablewiseDataset, GittablesColwiseDataset, GittablesCVTablewiseDataset\n",
    "from watchog.model import BertMultiPairPooler, BertForMultiOutputClassification, BertForMultiOutputClassificationColPopl\n",
    "from watchog.model import SupCLforTable, UnsupCLforTable, lm_mp\n",
    "from watchog.utils import load_checkpoint, f1_score_multilabel, collate_fn, get_col_pred, ColPoplEvaluator\n",
    "from watchog.utils import task_num_class_dict\n",
    "from accelerate import DistributedDataParallelKwargs\n",
    "import wandb"
   ]
  },
  {
   "cell_type": "code",
   "execution_count": 3,
   "metadata": {},
   "outputs": [
    {
     "name": "stdout",
     "output_type": "stream",
     "text": [
      "args={\"wandb\": false, \"model\": \"Watchog\", \"unlabeled_train_only\": false, \"context_encoding_type\": \"v0\", \"pool_version\": \"v0.2\", \"random_sample\": false, \"comment\": \"debug\", \"shortcut_name\": \"bert-base-uncased\", \"max_length\": 64, \"adaptive_max_length\": false, \"max_num_col\": 8, \"batch_size\": 16, \"epoch\": 1, \"random_seed\": 4649, \"train_n_seed_cols\": -1, \"num_classes\": 101, \"multi_gpu\": false, \"fp16\": false, \"warmup\": 0.0, \"lr\": 5e-05, \"task\": \"gt-semtab22-dbpedia-all0\", \"colpair\": false, \"metadata\": false, \"from_scratch\": false, \"cl_tag\": \"wikitables/simclr/bert_100000_10_32_256_5e-05_sample_row4,sample_row4_tfidf_entity_column_0.05_0_last.pt\", \"dropout_prob\": 0.5, \"eval_test\": true, \"small_tag\": \"semi1\", \"data_path\": \"/data/zhihao/TU/\", \"pretrained_ckpt_path\": \"/data/zhihao/TU/Watchog/model/\"}\n",
      "gt-semtab22-dbpedia-all0/wikitables-simclr-bert_100000_10_32_256_5e-05_sample_row4,sample_row4_tfidf_entity_column_0.05_0_last.pt_bert-base-uncased-poolsemi1-max_colsv0.2-rand8-bsFalse-ml16-ne64-do10.5\n"
     ]
    },
    {
     "name": "stderr",
     "output_type": "stream",
     "text": [
      "Detected kernel version 5.4.0, which is below the recommended minimum of 5.5.0; this can cause the process to hang. It is recommended to upgrade the kernel to the minimum version or higher.\n",
      "/tmp/ipykernel_3877793/3515063068.py:214: FutureWarning: You are using `torch.load` with `weights_only=False` (the current default value), which uses the default pickle module implicitly. It is possible to construct malicious pickle data which will execute arbitrary code during unpickling (See https://github.com/pytorch/pytorch/blob/main/SECURITY.md#untrusted-models for more details). In a future release, the default value for `weights_only` will be flipped to `True`. This limits the functions that could be executed during unpickling. Arbitrary objects will no longer be allowed to be loaded via this mode unless they are explicitly allowlisted by the user via `torch.serialization.add_safe_globals`. We recommend you start setting `weights_only=True` for any use case where you don't have full control of the loaded file. Please open an issue on GitHub for any issues related to this experimental feature.\n",
      "  ckpt = torch.load(ckpt_path, map_location=device)\n"
     ]
    },
    {
     "name": "stdout",
     "output_type": "stream",
     "text": [
      "Namespace(augment_op='sample_row4,sample_row4', batch_size=32, data_path='/data/zhihao/TU/TURL/', fp16=True, gpus='0', lm='bert', logdir='/data/zhihao/TU/Watchog/model/', lr=5e-05, max_len=256, mode='simclr', model='Watchog', n_epochs=10, pretrain_data='wikitables', pretrained_model_path='', projector=768, run_id=0, sample_meth='tfidf_entity', save_model=10, single_column=False, size=100000, table_order='column', temperature=0.05)\n"
     ]
    },
    {
     "name": "stderr",
     "output_type": "stream",
     "text": [
      "A parameter name that contains `beta` will be renamed internally to `bias`. Please use a different name to suppress this warning.\n",
      "A parameter name that contains `gamma` will be renamed internally to `weight`. Please use a different name to suppress this warning.\n",
      "A parameter name that contains `beta` will be renamed internally to `bias`. Please use a different name to suppress this warning.\n",
      "A parameter name that contains `gamma` will be renamed internally to `weight`. Please use a different name to suppress this warning.\n",
      "A parameter name that contains `beta` will be renamed internally to `bias`. Please use a different name to suppress this warning.\n",
      "A parameter name that contains `gamma` will be renamed internally to `weight`. Please use a different name to suppress this warning.\n",
      "A parameter name that contains `beta` will be renamed internally to `bias`. Please use a different name to suppress this warning.\n",
      "A parameter name that contains `gamma` will be renamed internally to `weight`. Please use a different name to suppress this warning.\n",
      "A parameter name that contains `beta` will be renamed internally to `bias`. Please use a different name to suppress this warning.\n",
      "A parameter name that contains `gamma` will be renamed internally to `weight`. Please use a different name to suppress this warning.\n",
      "A parameter name that contains `beta` will be renamed internally to `bias`. Please use a different name to suppress this warning.\n",
      "A parameter name that contains `gamma` will be renamed internally to `weight`. Please use a different name to suppress this warning.\n",
      "A parameter name that contains `beta` will be renamed internally to `bias`. Please use a different name to suppress this warning.\n",
      "A parameter name that contains `gamma` will be renamed internally to `weight`. Please use a different name to suppress this warning.\n",
      "A parameter name that contains `beta` will be renamed internally to `bias`. Please use a different name to suppress this warning.\n",
      "A parameter name that contains `gamma` will be renamed internally to `weight`. Please use a different name to suppress this warning.\n",
      "A parameter name that contains `beta` will be renamed internally to `bias`. Please use a different name to suppress this warning.\n",
      "A parameter name that contains `gamma` will be renamed internally to `weight`. Please use a different name to suppress this warning.\n",
      "A parameter name that contains `beta` will be renamed internally to `bias`. Please use a different name to suppress this warning.\n",
      "A parameter name that contains `gamma` will be renamed internally to `weight`. Please use a different name to suppress this warning.\n",
      "A parameter name that contains `beta` will be renamed internally to `bias`. Please use a different name to suppress this warning.\n",
      "A parameter name that contains `gamma` will be renamed internally to `weight`. Please use a different name to suppress this warning.\n",
      "A parameter name that contains `beta` will be renamed internally to `bias`. Please use a different name to suppress this warning.\n",
      "A parameter name that contains `gamma` will be renamed internally to `weight`. Please use a different name to suppress this warning.\n",
      "A parameter name that contains `beta` will be renamed internally to `bias`. Please use a different name to suppress this warning.\n",
      "A parameter name that contains `gamma` will be renamed internally to `weight`. Please use a different name to suppress this warning.\n",
      "A parameter name that contains `beta` will be renamed internally to `bias`. Please use a different name to suppress this warning.\n",
      "A parameter name that contains `gamma` will be renamed internally to `weight`. Please use a different name to suppress this warning.\n",
      "A parameter name that contains `beta` will be renamed internally to `bias`. Please use a different name to suppress this warning.\n",
      "A parameter name that contains `gamma` will be renamed internally to `weight`. Please use a different name to suppress this warning.\n",
      "A parameter name that contains `beta` will be renamed internally to `bias`. Please use a different name to suppress this warning.\n",
      "A parameter name that contains `gamma` will be renamed internally to `weight`. Please use a different name to suppress this warning.\n",
      "A parameter name that contains `beta` will be renamed internally to `bias`. Please use a different name to suppress this warning.\n",
      "A parameter name that contains `gamma` will be renamed internally to `weight`. Please use a different name to suppress this warning.\n",
      "A parameter name that contains `beta` will be renamed internally to `bias`. Please use a different name to suppress this warning.\n",
      "A parameter name that contains `gamma` will be renamed internally to `weight`. Please use a different name to suppress this warning.\n",
      "A parameter name that contains `beta` will be renamed internally to `bias`. Please use a different name to suppress this warning.\n",
      "A parameter name that contains `gamma` will be renamed internally to `weight`. Please use a different name to suppress this warning.\n",
      "A parameter name that contains `beta` will be renamed internally to `bias`. Please use a different name to suppress this warning.\n",
      "A parameter name that contains `gamma` will be renamed internally to `weight`. Please use a different name to suppress this warning.\n",
      "A parameter name that contains `beta` will be renamed internally to `bias`. Please use a different name to suppress this warning.\n",
      "A parameter name that contains `gamma` will be renamed internally to `weight`. Please use a different name to suppress this warning.\n",
      "A parameter name that contains `beta` will be renamed internally to `bias`. Please use a different name to suppress this warning.\n",
      "A parameter name that contains `gamma` will be renamed internally to `weight`. Please use a different name to suppress this warning.\n",
      "A parameter name that contains `beta` will be renamed internally to `bias`. Please use a different name to suppress this warning.\n",
      "A parameter name that contains `gamma` will be renamed internally to `weight`. Please use a different name to suppress this warning.\n",
      "A parameter name that contains `beta` will be renamed internally to `bias`. Please use a different name to suppress this warning.\n",
      "A parameter name that contains `gamma` will be renamed internally to `weight`. Please use a different name to suppress this warning.\n",
      "A parameter name that contains `beta` will be renamed internally to `bias`. Please use a different name to suppress this warning.\n",
      "A parameter name that contains `gamma` will be renamed internally to `weight`. Please use a different name to suppress this warning.\n",
      "A parameter name that contains `beta` will be renamed internally to `bias`. Please use a different name to suppress this warning.\n",
      "A parameter name that contains `gamma` will be renamed internally to `weight`. Please use a different name to suppress this warning.\n"
     ]
    }
   ],
   "source": [
    "    device = torch.device('cuda' if torch.cuda.is_available() else 'cpu')\n",
    "\n",
    "    parser = argparse.ArgumentParser()\n",
    "    parser.add_argument(\"--wandb\", type=bool, default=False)\n",
    "    parser.add_argument(\"--model\", type=str, default=\"Watchog\")\n",
    "    parser.add_argument(\"--unlabeled_train_only\", type=bool, default=False)\n",
    "    parser.add_argument(\"--context_encoding_type\", type=str, default=\"v0\")\n",
    "    parser.add_argument(\"--pool_version\", type=str, default=\"v0.2\")\n",
    "    parser.add_argument(\"--random_sample\", type=bool, default=False)\n",
    "    parser.add_argument(\"--comment\", type=str, default=\"debug\", help=\"to distinguish the runs\")\n",
    "    parser.add_argument(\n",
    "        \"--shortcut_name\",\n",
    "        default=\"bert-base-uncased\",\n",
    "        type=str,\n",
    "        help=\"Huggingface model shortcut name \",\n",
    "    )\n",
    "    parser.add_argument(\n",
    "        \"--max_length\",\n",
    "        default=64,\n",
    "        type=int,\n",
    "        help=\n",
    "        \"The maximum total input sequence length after tokenization. Sequences longer \"\n",
    "        \"than this will be truncated, sequences shorter will be padded.\",\n",
    "    )\n",
    "    parser.add_argument(\n",
    "        \"--adaptive_max_length\",\n",
    "        default=False,\n",
    "        type=bool,\n",
    "    )    \n",
    "    parser.add_argument(\n",
    "        \"--max_num_col\",\n",
    "        default=8,\n",
    "        type=int,\n",
    "    )   \n",
    "\n",
    "    parser.add_argument(\n",
    "        \"--batch_size\",\n",
    "        default=16,\n",
    "        type=int,\n",
    "        help=\"Batch size\",\n",
    "    )\n",
    "    parser.add_argument(\n",
    "        \"--epoch\",\n",
    "        default=1,\n",
    "        type=int,\n",
    "        help=\"Number of epochs for training\",\n",
    "    )\n",
    "    parser.add_argument(\n",
    "        \"--random_seed\",\n",
    "        default=4649,\n",
    "        type=int,\n",
    "        help=\"Random seed\",\n",
    "    )\n",
    "    \n",
    "    parser.add_argument(\n",
    "        \"--train_n_seed_cols\",\n",
    "        default=-1,\n",
    "        type=int,\n",
    "        help=\"number of seeding columns in training\",\n",
    "    )\n",
    "\n",
    "    parser.add_argument(\n",
    "        \"--num_classes\",\n",
    "        default=78,\n",
    "        type=int,\n",
    "        help=\"Number of classes\",\n",
    "    )\n",
    "    parser.add_argument(\"--multi_gpu\",\n",
    "                        action=\"store_true\",\n",
    "                        default=False,\n",
    "                        help=\"Use multiple GPU\")\n",
    "    parser.add_argument(\"--fp16\",\n",
    "                        action=\"store_true\",\n",
    "                        default=False,\n",
    "                        help=\"Use FP16\")\n",
    "    parser.add_argument(\"--warmup\",\n",
    "                        type=float,\n",
    "                        default=0.,\n",
    "                        help=\"Warmup ratio\")\n",
    "    parser.add_argument(\"--lr\", type=float, default=5e-5, help=\"Learning rate\")\n",
    "    parser.add_argument(\"--task\",\n",
    "                        type=str,\n",
    "                        default='gt-semtab22-dbpedia-all0',\n",
    "                        choices=[\n",
    "                            \"sato0\", \"sato1\", \"sato2\", \"sato3\", \"sato4\",\n",
    "                            \"msato0\", \"msato1\", \"msato2\", \"msato3\", \"msato4\",\n",
    "                            \"gt-dbpedia0\", \"gt-dbpedia1\", \"gt-dbpedia2\", \"gt-dbpedia3\", \"gt-dbpedia4\",\n",
    "                            \"gt-dbpedia-all0\", \"gt-dbpedia-all1\", \"gt-dbpedia-all2\", \"gt-dbpedia-all3\", \"gt-dbpedia-all4\",\n",
    "                            \"gt-schema-all0\", \"gt-schema-all1\", \"gt-schema-all2\", \"gt-schema-all3\", \"gt-schema-all4\",\n",
    "                            \"gt-semtab22-dbpedia\", \"gt-semtab22-dbpedia0\", \"gt-semtab22-dbpedia1\", \"gt-semtab22-dbpedia2\", \"gt-semtab22-dbpedia3\", \"gt-semtab22-dbpedia4\",\n",
    "                            \"gt-semtab22-dbpedia-all\", \"gt-semtab22-dbpedia-all0\", \"gt-semtab22-dbpedia-all1\", \"gt-semtab22-dbpedia-all2\", \"gt-semtab22-dbpedia-all3\", \"gt-semtab22-dbpedia-all4\",\n",
    "                            \"gt-semtab22-schema-class-all\", \"gt-semtab22-schema-property-all\",\n",
    "                            \"turl\", \"turl-re\", \"col-popl-1\", \"col-popl-2\", \"col-popl-3\", \"row-popl\",\n",
    "                            \"col-popl-turl-0\", \"col-popl-turl-1\", \"col-popl-turl-2\",\n",
    "                            \"col-popl-turl-mdonly-0\", \"col-popl-turl-mdonly-1\", \"col-popl-turl-mdonly-2\"\n",
    "                        ],\n",
    "                        help=\"Task names}\")\n",
    "    parser.add_argument(\"--colpair\",\n",
    "                        action=\"store_true\",\n",
    "                        help=\"Use column pair embedding\")\n",
    "    parser.add_argument(\"--metadata\",\n",
    "                        action=\"store_true\",\n",
    "                        help=\"Use column header metadata\")\n",
    "    parser.add_argument(\"--from_scratch\",\n",
    "                        action=\"store_true\",\n",
    "                        help=\"Training from scratch\")\n",
    "    parser.add_argument(\"--cl_tag\",\n",
    "                        type=str,\n",
    "                        default=\"wikitables/simclr/bert_100000_10_32_256_5e-05_sample_row4,sample_row4_tfidf_entity_column_0.05_0_last.pt\",\n",
    "                        help=\"path to the pre-trained file\")\n",
    "    parser.add_argument(\"--dropout_prob\",\n",
    "                        type=float,\n",
    "                        default=0.5)\n",
    "    parser.add_argument(\"--eval_test\",\n",
    "                        action=\"store_true\",\n",
    "                        help=\"evaluate on testset and do not save the model file\")\n",
    "    parser.add_argument(\"--small_tag\",\n",
    "                        type=str,\n",
    "                        default=\"semi1\",\n",
    "                        help=\"e.g., by_table_t5_v1\")\n",
    "    parser.add_argument(\"--data_path\",\n",
    "                        type=str,\n",
    "                        default=\"/data/zhihao/TU/\")\n",
    "    parser.add_argument(\"--pretrained_ckpt_path\",\n",
    "                        type=str,\n",
    "                        default=\"/data/zhihao/TU/Watchog/model/\")    \n",
    "\n",
    "    args = parser.parse_args([])\n",
    "    task = args.task\n",
    "    if args.small_tag != \"\":\n",
    "        args.eval_test = True\n",
    "    \n",
    "    args.num_classes = task_num_class_dict[task]\n",
    "    if args.colpair:\n",
    "        assert \"turl-re\" == task, \"colpair can be only used for Relation Extraction\"\n",
    "    if args.metadata:\n",
    "        assert \"turl-re\" == task or \"turl\" == task, \"metadata can be only used for TURL datasets\"\n",
    "    if \"col-popl\":\n",
    "        # metrics = {\n",
    "        #     \"accuracy\": CategoricalAccuracy(tie_break=True),\n",
    "        # }\n",
    "        if args.train_n_seed_cols != -1:\n",
    "            if \"col-popl\" in task:\n",
    "                assert args.train_n_seed_cols == int(task[-1]),  \"# of seed columns must match\"\n",
    "\n",
    "    print(\"args={}\".format(json.dumps(vars(args))))\n",
    "\n",
    "    max_length = args.max_length\n",
    "    batch_size = args.batch_size\n",
    "    num_train_epochs = args.epoch\n",
    "\n",
    "    shortcut_name = args.shortcut_name\n",
    "\n",
    "    if args.colpair and args.metadata:\n",
    "        taskname = \"{}-colpair-metadata\".format(task)\n",
    "    elif args.colpair:\n",
    "        taskname = \"{}-colpair\".format(task)\n",
    "    elif args.metadata:\n",
    "        taskname = \"{}-metadata\".format(task)\n",
    "    elif args.train_n_seed_cols == -1 and 'popl' in task:\n",
    "        taskname = \"{}-mix\".format(task)\n",
    "    else:\n",
    "        taskname = \"\".join(task)\n",
    "    cv = int(task[-1])\n",
    "\n",
    "    if args.from_scratch:\n",
    "        if \"gt\" in task:\n",
    "            tag_name = \"{}/{}-{}-{}-pool{}-max_cols{}-rand{}-bs{}-ml{}-ne{}-do{}{}\".format(\n",
    "                taskname,  \"{}-fromscratch\".format(shortcut_name), args.small_tag, args.comment, args.pool_version, args.max_num_col, args.random_sample,\n",
    "                batch_size, max_length, num_train_epochs, args.dropout_prob, \n",
    "                '-rs{}'.format(args.random_seed) if args.random_seed != 4649 else '')\n",
    "        else:\n",
    "            tag_name = \"{}/{}-{}-{}-bs{}-ml{}-ne{}-do{}{}\".format(\n",
    "                taskname,  \"{}-fromscratch\".format(shortcut_name), args.small_tag, args.comment, \n",
    "                batch_size, max_length, num_train_epochs, args.dropout_prob, \n",
    "                '-rs{}'.format(args.random_seed) if args.random_seed != 4649 else '')\n",
    "        \n",
    "    else:\n",
    "        if \"gt\" in task:\n",
    "            tag_name = \"{}/{}_{}-pool{}-max_cols{}-rand{}-bs{}-ml{}-ne{}-do{}{}\".format(\n",
    "                taskname, args.cl_tag.replace('/', '-'),  shortcut_name, args.small_tag, args.pool_version, args.max_num_col, args.random_sample,\n",
    "                batch_size, max_length, num_train_epochs, args.dropout_prob,\n",
    "                '-rs{}'.format(args.random_seed) if args.random_seed != 4649 else '')\n",
    "        else:\n",
    "            tag_name = \"{}/{}_{}-{}-bs{}-ml{}-ne{}-do{}{}\".format(\n",
    "                taskname, args.cl_tag.replace('/', '-'),  shortcut_name, args.small_tag,\n",
    "                batch_size, max_length, num_train_epochs, args.dropout_prob,\n",
    "                '-rs{}'.format(args.random_seed) if args.random_seed != 4649 else '')\n",
    "\n",
    "    # if args.eval_test:\n",
    "    #     if args.small_tag != '':\n",
    "    #         tag_name = tag_name.replace('outputs', 'small_outputs')\n",
    "    #         tag_name += '-' + args.small_tag\n",
    "    print(tag_name)\n",
    "    file_path = os.path.join(args.data_path, \"Watchog\", \"outputs\", tag_name)\n",
    "\n",
    "    dirpath = os.path.dirname(file_path)\n",
    "    if not os.path.exists(dirpath):\n",
    "        print(\"{} not exists. Created\".format(dirpath))\n",
    "        os.makedirs(dirpath)\n",
    "    \n",
    "    if args.fp16:\n",
    "        torch.backends.cuda.matmul.allow_fp16_reduced_precision_reduction = True\n",
    "        \n",
    "      \n",
    "        \n",
    "    # accelerator = Accelerator(mixed_precision=\"no\" if not args.fp16 else \"fp16\")   \n",
    "    ddp_kwargs = DistributedDataParallelKwargs(find_unused_parameters=True)\n",
    "    accelerator = Accelerator(mixed_precision=\"no\" if not args.fp16 else \"fp16\", kwargs_handlers=[ddp_kwargs])\n",
    "\n",
    "    device = torch.device('cuda' if torch.cuda.is_available() else 'cpu')\n",
    "    ckpt_path = os.path.join(args.pretrained_ckpt_path, args.cl_tag)\n",
    "    # ckpt_path = '/efs/checkpoints/{}.pt'.format(args.cl_tag)\n",
    "    ckpt = torch.load(ckpt_path, map_location=device)\n",
    "    ckpt_hp = ckpt['hp']\n",
    "    print(ckpt_hp)\n",
    " \n",
    "    setattr(ckpt_hp, 'batch_size', args.batch_size)\n",
    "    setattr(ckpt_hp, 'hidden_dropout_prob', args.dropout_prob)\n",
    "    setattr(ckpt_hp, 'shortcut_name', args.shortcut_name)\n",
    "    setattr(ckpt_hp, 'num_labels', args.num_classes)\n",
    "    \n",
    "    \n",
    "    \n",
    "    tokenizer = BertTokenizer.from_pretrained(shortcut_name)\n",
    "    padder = collate_fn(tokenizer.pad_token_id)\n",
    "    if task == \"turl-re\" and args.colpair:\n",
    "        model = BertForMultiOutputClassification(ckpt_hp, device=device, lm=ckpt['hp'].lm, col_pair='Pair')\n",
    "    elif \"col-popl\" in task:\n",
    "        model = BertForMultiOutputClassificationColPopl(ckpt_hp, device=device, lm=ckpt['hp'].lm, n_seed_cols=int(task[i][-1]), cls_for_md=\"md\" in task)\n",
    "    else:\n",
    "        model = BertForMultiOutputClassification(ckpt_hp, device=device, lm=ckpt['hp'].lm, version=args.pool_version)\n",
    "        \n"
   ]
  },
  {
   "cell_type": "code",
   "execution_count": 4,
   "metadata": {},
   "outputs": [
    {
     "data": {
      "text/plain": [
       "['bert', 'is', 'a', 'powerful', 'language', 'model', '.']"
      ]
     },
     "execution_count": 4,
     "metadata": {},
     "output_type": "execute_result"
    }
   ],
   "source": [
    "text = \"BERT is a powerful language model.\"\n",
    "tokenizer.tokenize(text)"
   ]
  },
  {
   "cell_type": "code",
   "execution_count": 5,
   "metadata": {},
   "outputs": [],
   "source": [
    "from argparse import Namespace\n",
    "import torch\n",
    "import random\n",
    "import pandas as pd\n",
    "import numpy as np\n",
    "import os\n",
    "import pickle\n",
    "import json\n",
    "import re\n",
    "import transformers\n",
    "from torch.utils import data\n",
    "from torch.nn.utils import rnn\n",
    "from transformers import AutoTokenizer\n",
    "\n",
    "from typing import List\n",
    "from functools import reduce\n",
    "import operator\n",
    "\n",
    "from itertools import chain\n",
    "import copy\n",
    "class SingleColDataset(data.Dataset):\n",
    "    def __init__(\n",
    "            self,\n",
    "            group_df,\n",
    "            target_col_idx: int,\n",
    "            tokenizer: AutoTokenizer,\n",
    "            max_length: int = 64,\n",
    "            device: torch.device = None,\n",
    "            max_num_col=8,\n",
    "            random_sample=False, # TODO\n",
    "            train_only=True,\n",
    "            context_encoding_type=\"v1\",\n",
    "            adaptive_max_length=False,\n",
    "            ): # TODO: not used\n",
    "        if device is None:\n",
    "            device = torch.device('cpu')\n",
    "        assert max_num_col >= 1, \"max_num_col must be greater than 1\"\n",
    "        assert 512//max_num_col >= max_length  , \"max_length cannot be smaller than 512//max_num_col\"\n",
    "\n",
    "\n",
    "\n",
    "        \n",
    "        data_list = []\n",
    "        \n",
    "\n",
    "\n",
    " \n",
    "        \n",
    "        # df.drop(df[(df['data'] == '') & (df['class_id'] == -1)].index, inplace=True)\n",
    "        group_df.sort_values(by=['col_idx'], inplace=True)\n",
    "        labeled_columns = group_df[group_df['class_id'] > -1]\n",
    "        # if len(labeled_columns) > 1:\n",
    "        #     print(\"Here\")\n",
    "        unlabeled_columns = group_df[group_df['class_id'] == -1]\n",
    "        for idx in [target_col_idx]:\n",
    "            token_ids_list = []\n",
    "            target_column = labeled_columns.loc[idx]\n",
    "            rest_columns = labeled_columns[labeled_columns.index != idx] # the rest of labeled columns\n",
    "            # tokenize target column\n",
    "            token_ids_list.append(tokenizer.encode(\n",
    "            tokenizer.cls_token + \" \" + target_column[\"data\"], add_special_tokens=False, max_length=max_length, truncation=True))\n",
    "            # tokenize context\n",
    "            unlabeled_columns = unlabeled_columns\n",
    "\n",
    "            group_df = pd.concat([rest_columns, unlabeled_columns])\n",
    "            group_df = group_df[: max_num_col-1] if not random_sample  else group_df.sample(min(max_num_col-1, len(group_df))) # TODO\n",
    "            group_df.sort_values(by=['col_idx'], inplace=True)\n",
    "            \n",
    "            if adaptive_max_length and (len(group_df)+1) < max_num_col:\n",
    "                cur_maxlen = 512 // (len(group_df)+1)\n",
    "            else:\n",
    "                cur_maxlen = max_length\n",
    "                \n",
    "            if context_encoding_type == \"v0\":\n",
    "                token_ids_list += group_df[\"data\"].apply(lambda x: tokenizer.encode(\n",
    "                tokenizer.cls_token + \" \" + x, add_special_tokens=False, max_length=cur_maxlen, truncation=True)).tolist(\n",
    "                )\n",
    "            elif context_encoding_type == \"v0.1\": # only one cls token to separate context and target\n",
    "                token_ids_list.append([tokenizer.cls_token_id])\n",
    "                token_ids_list += group_df[\"data\"].apply(lambda x: tokenizer.encode(\n",
    "                \" \" + x, add_special_tokens=False, max_length=cur_maxlen-1, truncation=True)).tolist(\n",
    "                )                    \n",
    "            elif context_encoding_type == \"v1\":\n",
    "                token_ids_list += group_df[\"data\"].apply(lambda x: tokenizer.encode(\n",
    "                tokenizer.sep_token + \" \" + x, add_special_tokens=False, max_length=cur_maxlen, truncation=True)).tolist(\n",
    "                )                    \n",
    "            elif context_encoding_type == \"v1.1\": # only one cls token to separate context and target\n",
    "                token_ids_list.append([tokenizer.sep_token_id])\n",
    "                token_ids_list += group_df[\"data\"].apply(lambda x: tokenizer.encode(\n",
    "                \" \" + x, add_special_tokens=False, max_length=cur_maxlen-1, truncation=True)).tolist(\n",
    "                )   \n",
    "            else:\n",
    "                raise ValueError(\"context_encoding_type {} is not supported\".format(context_encoding_type))\n",
    "            token_ids = torch.LongTensor(reduce(operator.add,\n",
    "                                                token_ids_list)).to(device)\n",
    "            cls_index_list = [0] \n",
    "            for cls_index in cls_index_list:\n",
    "                assert token_ids[\n",
    "                    cls_index] == tokenizer.cls_token_id, \"cls_indexes validation\"\n",
    "            cls_indexes = torch.LongTensor(cls_index_list).to(device)\n",
    "            class_ids = torch.LongTensor([target_column[\"class_id\"]]\n",
    "                ).to(device)\n",
    "            data_list.append(\n",
    "                [0,\n",
    "                len(group_df), token_ids, class_ids, cls_indexes])\n",
    "        self.table_df = pd.DataFrame(data_list,\n",
    "                                     columns=[\n",
    "                                         \"table_id\", \"num_col\", \"data_tensor\",\n",
    "                                         \"label_tensor\", \"cls_indexes\"\n",
    "                                     ])\n",
    "        \"\"\"\n",
    "        # NOTE: msato contains a small portion of single-col tables. keep it to be consistent.  \n",
    "        if multicol_only:\n",
    "            # Check\n",
    "            num_all_tables = len(self.table_df)\n",
    "            self.table_df = self.table_df[self.table_df[\"num_col\"] > 1]\n",
    "            assert len(self.table_df) == num_all_tables\n",
    "        \"\"\"\n",
    "\n",
    "    def __len__(self):\n",
    "        return len(self.table_df)\n",
    "\n",
    "    def __getitem__(self, idx):\n",
    "        return {\n",
    "            \"data\": self.table_df.iloc[idx][\"data_tensor\"],\n",
    "            \"label\": self.table_df.iloc[idx][\"label_tensor\"]\n",
    "        }\n",
    "        #\"idx\": torch.LongTensor([idx])}\n",
    "        #\"cls_indexes\": self.table_df.iloc[idx][\"cls_indexes\"]}"
   ]
  },
  {
   "cell_type": "code",
   "execution_count": null,
   "metadata": {},
   "outputs": [],
   "source": []
  },
  {
   "cell_type": "code",
   "execution_count": 5,
   "metadata": {},
   "outputs": [],
   "source": [
    "\n",
    "base_dirpath = \"/data/zhihao/TU/GitTables/semtab_gittables/2022/\"\n",
    "seperator = \"semi1\"\n",
    "basename = seperator+\"_cv_{}.csv\"\n",
    "df_list = []\n",
    "filepath = os.path.join(base_dirpath, basename.format(cv))\n",
    "df_test = pd.read_csv(filepath)\n",
    "\n",
    "df_group_test = df_test.groupby(\"table_id\")\n",
    "\n",
    "\n",
    "\n",
    "df_list = []\n",
    "for i in range(5):\n",
    "    if i == cv:\n",
    "        continue\n",
    "    filepath = os.path.join(base_dirpath, basename.format(i))\n",
    "    df_list.append(pd.read_csv(filepath))\n",
    "df_train = pd.concat(df_list, axis=0)\n",
    "df_group_train = df_train.groupby(\"table_id\")"
   ]
  },
  {
   "cell_type": "code",
   "execution_count": 144,
   "metadata": {},
   "outputs": [],
   "source": [
    "import json\n",
    "import numpy as np\n",
    "\n",
    "# Function to load confusion matrix from JSON file\n",
    "# with open(\"/data/zhihao/TU/doduo/eval/sato0_mosato_bert_bert-base-uncased-bs16-ml-32__sato0-1.00=sato0.json\", 'r') as f:\n",
    "#     results = json.load(f)\n",
    "with open(f\"/data/zhihao/TU/Watchog/outputs/gt-semtab22-dbpedia-all{cv}/bert-base-uncased-fromscratch-semi1-pool@v0-context@v1-max_num_col@8-poolv0-max_cols8-randFalse-bs16-ml64-ne50-do0.1_eval.json\", 'r') as f:\n",
    "    results = json.load(f)\n",
    "\n",
    "# labels_train = np.array(results['train']['tr_true_list'])\n",
    "# preds_train = np.array(results['train']['tr_pred_list'])\n",
    "# class_f1_train = np.array(results['train']['tr_class_f1'])\n",
    "\n",
    "labels = np.array(results['f1_micro']['true_list'])\n",
    "preds = np.array(results['f1_micro']['pred_list'])\n",
    "class_f1 = np.array(results['f1_micro']['ts_class_f1'])\n",
    "assert len(labels) == len(df_test[\"class_id\"][df_test[\"class_id\"]>-1])"
   ]
  },
  {
   "cell_type": "code",
   "execution_count": 33,
   "metadata": {},
   "outputs": [],
   "source": [
    "import json\n",
    "import numpy as np\n",
    "\n",
    "# Function to load confusion matrix from JSON file\n",
    "# with open(\"/data/zhihao/TU/doduo/eval/sato0_mosato_bert_bert-base-uncased-bs16-ml-32__sato0-1.00=sato0.json\", 'r') as f:\n",
    "#     results = json.load(f)\n",
    "with open(f\"/data/zhihao/TU/Watchog/outputs/gt-semtab22-dbpedia-all{cv}/bert-base-uncased-fromscratch-semi1-pool@v0-context@v1-max_num_col@8-poolv0-max_cols8-randFalse-bs16-ml64-ne50-do0.1_eval.json\", 'r') as f:\n",
    "    results = json.load(f)\n",
    "\n",
    "# labels_train = np.array(results['train']['tr_true_list'])\n",
    "# preds_train = np.array(results['train']['tr_pred_list'])\n",
    "# class_f1_train = np.array(results['train']['tr_class_f1'])\n",
    "\n",
    "labels = np.array(results['f1_micro']['true_list'])\n",
    "preds = np.array(results['f1_micro']['pred_list'])\n",
    "class_f1 = np.array(results['f1_micro']['ts_class_f1'])\n",
    "assert len(labels) == len(df_test[\"class_id\"][df_test[\"class_id\"]>-1])"
   ]
  },
  {
   "cell_type": "code",
   "execution_count": 7,
   "metadata": {},
   "outputs": [],
   "source": [
    "import json\n",
    "import numpy as np\n",
    "\n",
    "# Function to load confusion matrix from JSON file\n",
    "# with open(\"/data/zhihao/TU/doduo/eval/sato0_mosato_bert_bert-base-uncased-bs16-ml-32__sato0-1.00=sato0.json\", 'r') as f:\n",
    "#     results = json.load(f)\n",
    "with open(f\"/data/zhihao/TU/Watchog/outputs/gt-semtab22-dbpedia-all{cv}/bert-base-uncased-fromscratch-semi1-pool@v0-max_num_col@1-poolv0-max_cols1-randFalse-bs16-ml64-ne50-do0.1_eval.json\", 'r') as f:\n",
    "    results = json.load(f)\n",
    "\n",
    "# labels_train = np.array(results['train']['tr_true_list'])\n",
    "# preds_train = np.array(results['train']['tr_pred_list'])\n",
    "# class_f1_train = np.array(results['train']['tr_class_f1'])\n",
    "\n",
    "labels_single = np.array(results['f1_micro']['true_list'])\n",
    "preds_single = np.array(results['f1_micro']['pred_list'])\n",
    "class_f1_single = np.array(results['f1_micro']['ts_class_f1'])\n",
    "# assert len(labels) == len(df_test[\"class_id\"][df_test[\"class_id\"]>-1])"
   ]
  },
  {
   "cell_type": "code",
   "execution_count": 457,
   "metadata": {},
   "outputs": [
    {
     "name": "stdout",
     "output_type": "stream",
     "text": [
      "0.30538750303598283 0.2968195661092821\n"
     ]
    }
   ],
   "source": [
    "print(class_f1.mean(), class_f1_single.mean())"
   ]
  },
  {
   "cell_type": "code",
   "execution_count": 458,
   "metadata": {},
   "outputs": [
    {
     "data": {
      "text/plain": [
       "28"
      ]
     },
     "execution_count": 458,
     "metadata": {},
     "output_type": "execute_result"
    }
   ],
   "source": [
    "sum(class_f1_single>class_f1)"
   ]
  },
  {
   "cell_type": "code",
   "execution_count": 14,
   "metadata": {},
   "outputs": [
    {
     "name": "stdout",
     "output_type": "stream",
     "text": [
      "================================\n"
     ]
    }
   ],
   "source": [
    "num = 0\n",
    "wrong_num = 0\n",
    "target_type = \"price\"\n",
    "target_type_id = np.where(types==target_type )[0][0]\n",
    "# print(class_f1[target_type_id],sum(preds[labels==target_type_id]==target_type_id))\n",
    "print(\"================================\")\n",
    "for i, (index, group_df) in enumerate(df_group_test):\n",
    "    if target_type in group_df[\"class\"].values:\n",
    "        if \"Wuthering Heights\" in \" \".join(group_df[\"data\"].values):\n",
    "            break"
   ]
  },
  {
   "cell_type": "code",
   "execution_count": 12,
   "metadata": {},
   "outputs": [
    {
     "ename": "NameError",
     "evalue": "name 'class_f1' is not defined",
     "output_type": "error",
     "traceback": [
      "\u001b[0;31m---------------------------------------------------------------------------\u001b[0m",
      "\u001b[0;31mNameError\u001b[0m                                 Traceback (most recent call last)",
      "Input \u001b[0;32mIn [12]\u001b[0m, in \u001b[0;36m<cell line: 5>\u001b[0;34m()\u001b[0m\n\u001b[1;32m      3\u001b[0m target_type \u001b[38;5;241m=\u001b[39m \u001b[38;5;124m\"\u001b[39m\u001b[38;5;124mprice\u001b[39m\u001b[38;5;124m\"\u001b[39m\n\u001b[1;32m      4\u001b[0m target_type_id \u001b[38;5;241m=\u001b[39m np\u001b[38;5;241m.\u001b[39mwhere(types\u001b[38;5;241m==\u001b[39mtarget_type )[\u001b[38;5;241m0\u001b[39m][\u001b[38;5;241m0\u001b[39m]\n\u001b[0;32m----> 5\u001b[0m \u001b[38;5;28mprint\u001b[39m(\u001b[43mclass_f1\u001b[49m[target_type_id],\u001b[38;5;28msum\u001b[39m(preds[labels\u001b[38;5;241m==\u001b[39mtarget_type_id]\u001b[38;5;241m==\u001b[39mtarget_type_id))\n\u001b[1;32m      6\u001b[0m \u001b[38;5;28mprint\u001b[39m(\u001b[38;5;124m\"\u001b[39m\u001b[38;5;124m================================\u001b[39m\u001b[38;5;124m\"\u001b[39m)\n\u001b[1;32m      7\u001b[0m \u001b[38;5;28;01mfor\u001b[39;00m i, (index, group_df) \u001b[38;5;129;01min\u001b[39;00m \u001b[38;5;28menumerate\u001b[39m(df_group_test):\n",
      "\u001b[0;31mNameError\u001b[0m: name 'class_f1' is not defined"
     ]
    }
   ],
   "source": [
    "num = 0\n",
    "wrong_num = 0\n",
    "target_type = \"price\"\n",
    "target_type_id = np.where(types==target_type )[0][0]\n",
    "print(class_f1[target_type_id],sum(preds[labels==target_type_id]==target_type_id))\n",
    "print(\"================================\")\n",
    "for i, (index, group_df) in enumerate(df_group_test):\n",
    "    if target_type in group_df[\"class\"].values:\n",
    "        if types[preds[labels==target_type_id]][num] == target_type:\n",
    "            print(types[preds[labels==target_type_id]][num], \"||\",group_df[group_df[\"class_id\"]>-1][[\"class\", \"data\"]])\n",
    "            wrong_num += 1\n",
    "            print(group_df[group_df[\"class_id\"]==-1][[\"class\", \"data\"]])\n",
    "            print(\"================================\")\n",
    "        \n",
    "            if \"Wuthering Heights\" in \" \".join(group_df[\"data\"].values):\n",
    "                break\n",
    "        num += 1\n",
    "        "
   ]
  },
  {
   "cell_type": "code",
   "execution_count": 369,
   "metadata": {},
   "outputs": [
    {
     "data": {
      "text/plain": [
       "'Wuthering Heights;Jane Eyre;The Raven;Eleonora;Catweazle'"
      ]
     },
     "execution_count": 369,
     "metadata": {},
     "output_type": "execute_result"
    }
   ],
   "source": [
    "group_df[\"data\"].values[0]"
   ]
  },
  {
   "cell_type": "code",
   "execution_count": 370,
   "metadata": {},
   "outputs": [],
   "source": [
    "group_df_book = deepcopy(group_df)"
   ]
  },
  {
   "cell_type": "code",
   "execution_count": 286,
   "metadata": {},
   "outputs": [
    {
     "name": "stdout",
     "output_type": "stream",
     "text": [
      "0.5 4\n",
      "================================\n",
      "age ||       class                                               data\n",
      "3305   date  2021-01-02;2020-12-26;2020-12-16;2020-12-02;20...\n",
      "3308  price  42.493;31.765;38.265;38.053;25.769;34.784;35.8...\n",
      "3310   note  Shell fuelsave;Emptied tank after 636 km;Bough...\n",
      "     class                                               data\n",
      "3304   NaN  1;2;3;4;5;6;7;8;9;10;11;12;13;14;15;16;17;18;1...\n",
      "3306   NaN  168529.0;167994.0;167538.0;167034.0;166561.0;1...\n",
      "3307   NaN  28.16;21.191;25.358;25.729;17.542;23.841;25.09...\n",
      "3309   NaN  False;False;False;False;False;False;False;Fals...\n",
      "3311   NaN  1;1;1;1;1;1;1;1;1;1;1;1;1;1;1;1;1;1;1;1;1;1;1;...\n",
      "3312   NaN  1;1;1;1;1;1;1;1;1;1;1;1;1;1;1;1;1;1;1;1;1;1;1;...\n",
      "================================\n",
      "weight ||       class                                data\n",
      "3700  price  20.1;50.0;20.1;30.0;30.0;30.0;30.0\n",
      "     class                                               data\n",
      "3691   NaN                                      1;2;3;4;5;6;7\n",
      "3692   NaN                                      2;2;2;3;3;3;1\n",
      "3693   NaN                                      1;1;1;2;2;2;3\n",
      "3694   NaN   Event1;Event1;Event1;Event2;Event2;Event2;Event3\n",
      "3695   NaN  2020-01-01;2020-01-01;2020-01-01;2020-02-14;20...\n",
      "3696   NaN  festival;festival;festival;music;music;music;s...\n",
      "3697   NaN  Chicago;Chicago;Chicago;New York;New York;New ...\n",
      "3698   NaN  event address 1;event address 1;event address ...\n",
      "3699   NaN                                      1;2;3;1;2;3;3\n",
      "3701   NaN                              20;10;50;200;20;10;10\n",
      "================================\n",
      "duration ||          class                                  data\n",
      "5791    length              6.4;11.27;8.71;8.71;5.82\n",
      "5792     width              6.37;7.07;5.44;8.65;5.84\n",
      "5803     price  3472.0;15660.7;4680.0;16000.0;790.23\n",
      "5808  location                           HK;HK;HK;HK\n",
      "     class                                               data\n",
      "5779   NaN                                    23;32;33;34;114\n",
      "5780   NaN                  DR2-2J;DR2-1;DJ1-3E;DR1-4B;EH3-49\n",
      "5781   NaN  1349200880;6342370051;7331073794;6345123874;42...\n",
      "5782   NaN                        ROUND;PEAR;PEAR;ROUND;ROUND\n",
      "5783   NaN                               1.0;2.0;1.0;2.5;0.71\n",
      "5784   NaN                                          E;E;E;F;N\n",
      "5785   NaN                               SI2;SI1;VVS2;SI2;VS1\n",
      "5786   NaN                                       EX;-;-;EX;EX\n",
      "5787   NaN                                     VG;EX;EX;EX;EX\n",
      "5788   NaN                                     VG;EX;VG;EX;EX\n",
      "5789   NaN                                NON;NON;NON;STG;NON\n",
      "5790   NaN                                               Blue\n",
      "5793   NaN                           3.94;4.22;3.47;5.35;3.45\n",
      "5794   NaN                           61.7;59.7;63.8;61.6;59.1\n",
      "5795   NaN                           60.0;62.0;60.0;60.0;59.5\n",
      "5796   NaN                           NON;NON;None;NON;POINTED\n",
      "5797   NaN                                GIA;GIA;GIA;GIA;IGI\n",
      "5798   NaN  MED to STK;STK to VTK;THK to VTK;MED to STK;TH...\n",
      "5799   NaN                           100%;100%;100%;100%;100%\n",
      "5800   NaN            Not brown;Not brown;Not brown;Not brown\n",
      "5801   NaN            Not green;Not green;Not green;Not green\n",
      "5802   NaN            -44.00%;-31.91%;-40.00%;-36.00%;-47.00%\n",
      "5804   NaN                3472.0;7830.35;4680.0;6400.0;1113.0\n",
      "5805   NaN  https://nivoda-images.s3.eu-west-2.amazonaws.c...\n",
      "5806   NaN  https://www.gia.edu/report-check?reportno=1349...\n",
      "5807   NaN  African star (hk) ltd;African star (hk) ltd;Af...\n",
      "5809   NaN                                          Y;Y;Y;Y;Y\n",
      "5810   NaN  f6e0efcb-9b29-42a6-9721-b7322986b542;f6e0efcb-...\n",
      "================================\n",
      "score ||       class                                               data\n",
      "7661   date  2018-09-12;2018-09-12;2018-09-12;2018-09-12;20...\n",
      "7662  price  100;500;1000;500;250;200;1000;1000;500;5;500;1...\n",
      "     class                                               data\n",
      "7659   NaN  Candle;Carrots;Cheese Board;Green Beans;Peas;L...\n",
      "7660   NaN  178997673;947536544;955492320;1701456880;29430...\n",
      "7663   NaN  coins;coins;diamonds;coins;coins;coins;coins;c...\n",
      "7664   NaN  5;3;5;3;3;5;5;5;5;1;5;5;5;1;1;1;1;1;1;5;2;2;2;...\n",
      "7665   NaN  accessory_candle_tealight.png;accessory_carrot...\n",
      "================================\n",
      "id ||       class                                               data\n",
      "8087  price  941624315-9;506256113-2;721686074-8;321324064-...\n",
      "     class                                               data\n",
      "8086   NaN  Grand Am;CTS;Bravada;G-Series 3500;Jetta;Yukon...\n",
      "8088   NaN  27;99;49;93;7;53;36;77;61;19;4;91;2;72;8;66;24...\n",
      "8089   NaN  risus praesent lectus vestibulum quam sapien v...\n",
      "================================\n"
     ]
    }
   ],
   "source": [
    "num = 0\n",
    "wrong_num = 0\n",
    "target_type = \"price\"\n",
    "target_type_id = np.where(types==target_type )[0][0]\n",
    "print(class_f1[target_type_id],sum(preds[labels==target_type_id]==target_type_id))\n",
    "print(\"================================\")\n",
    "for i, (index, group_df) in enumerate(df_group_test):\n",
    "    if target_type in group_df[\"class\"].values:\n",
    "        if types[preds[labels==target_type_id]][num] != target_type:\n",
    "            print(types[preds[labels==target_type_id]][num], \"||\",group_df[group_df[\"class_id\"]>-1][[\"class\", \"data\"]])\n",
    "            wrong_num += 1\n",
    "            print(group_df[group_df[\"class_id\"]==-1][[\"class\", \"data\"]])\n",
    "            print(\"================================\")\n",
    "        num += 1\n",
    "            # if \"accessory_candle_tealight\" in \" \".join(group_df[\"data\"].values):\n",
    "            #     break\n",
    "        "
   ]
  },
  {
   "cell_type": "code",
   "execution_count": 121,
   "metadata": {},
   "outputs": [
    {
     "name": "stdout",
     "output_type": "stream",
     "text": [
      "0.4 3\n",
      "================================\n"
     ]
    }
   ],
   "source": [
    "num = 0\n",
    "wrong_num = 0\n",
    "target_type = \"price\"\n",
    "target_type_id = np.where(types==target_type )[0][0]\n",
    "print(class_f1[target_type_id],sum(preds[labels==target_type_id]==target_type_id))\n",
    "print(\"================================\")\n",
    "for i, (index, group_df) in enumerate(df_group_test):\n",
    "    if target_type in group_df[\"class\"].values:\n",
    "        if types[preds[labels!=target_type_id]][num] == target_type:\n",
    "            print(types[preds[labels==target_type_id]][num], \"||\",group_df[group_df[\"class_id\"]>-1][[\"class\", \"data\"]])\n",
    "            wrong_num += 1\n",
    "            print(group_df[group_df[\"class_id\"]==-1][[\"class\", \"data\"]])\n",
    "            print(\"================================\")\n",
    "            if \"Spongebob Squarepants\" in \" \".join(group_df[\"data\"].values):\n",
    "                break\n",
    "        \n",
    "        \n",
    "        # print(types[preds[labels==target_type_id]][num], \"||\",group_df[group_df[\"class_id\"]>-1][[\"class\", \"data\"]])\n",
    "        # print(group_df[group_df[\"class_id\"]==-1][[\"class\", \"data\"]])\n",
    "        # print(\"================================\")\n",
    "        num += 1\n",
    "        # if num > 20:\n",
    "        #     break"
   ]
  },
  {
   "cell_type": "code",
   "execution_count": null,
   "metadata": {},
   "outputs": [],
   "source": []
  },
  {
   "cell_type": "code",
   "execution_count": 159,
   "metadata": {},
   "outputs": [
    {
     "data": {
      "text/html": [
       "<div>\n",
       "<style scoped>\n",
       "    .dataframe tbody tr th:only-of-type {\n",
       "        vertical-align: middle;\n",
       "    }\n",
       "\n",
       "    .dataframe tbody tr th {\n",
       "        vertical-align: top;\n",
       "    }\n",
       "\n",
       "    .dataframe thead th {\n",
       "        text-align: right;\n",
       "    }\n",
       "</style>\n",
       "<table border=\"1\" class=\"dataframe\">\n",
       "  <thead>\n",
       "    <tr style=\"text-align: right;\">\n",
       "      <th></th>\n",
       "      <th>table_id</th>\n",
       "      <th>col_idx</th>\n",
       "      <th>class</th>\n",
       "      <th>class_id</th>\n",
       "      <th>data</th>\n",
       "    </tr>\n",
       "  </thead>\n",
       "  <tbody>\n",
       "  </tbody>\n",
       "</table>\n",
       "</div>"
      ],
      "text/plain": [
       "Empty DataFrame\n",
       "Columns: [table_id, col_idx, class, class_id, data]\n",
       "Index: []"
      ]
     },
     "execution_count": 159,
     "metadata": {},
     "output_type": "execute_result"
    }
   ],
   "source": [
    "group_df.iloc[:2][group_df.iloc[:2][\"class\"] ==\"price\"]"
   ]
  },
  {
   "cell_type": "code",
   "execution_count": 300,
   "metadata": {},
   "outputs": [
    {
     "data": {
      "text/html": [
       "<div>\n",
       "<style scoped>\n",
       "    .dataframe tbody tr th:only-of-type {\n",
       "        vertical-align: middle;\n",
       "    }\n",
       "\n",
       "    .dataframe tbody tr th {\n",
       "        vertical-align: top;\n",
       "    }\n",
       "\n",
       "    .dataframe thead th {\n",
       "        text-align: right;\n",
       "    }\n",
       "</style>\n",
       "<table border=\"1\" class=\"dataframe\">\n",
       "  <thead>\n",
       "    <tr style=\"text-align: right;\">\n",
       "      <th></th>\n",
       "      <th>table_id</th>\n",
       "      <th>col_idx</th>\n",
       "      <th>class</th>\n",
       "      <th>class_id</th>\n",
       "      <th>data</th>\n",
       "    </tr>\n",
       "  </thead>\n",
       "  <tbody>\n",
       "    <tr>\n",
       "      <th>2532</th>\n",
       "      <td>GitTables_150500</td>\n",
       "      <td>0</td>\n",
       "      <td>title</td>\n",
       "      <td>4</td>\n",
       "      <td>Wuthering Heights;Jane Eyre;The Raven;Eleonora...</td>\n",
       "    </tr>\n",
       "    <tr>\n",
       "      <th>2534</th>\n",
       "      <td>GitTables_150500</td>\n",
       "      <td>2</td>\n",
       "      <td>NaN</td>\n",
       "      <td>-1</td>\n",
       "      <td>101;107;150;150;170</td>\n",
       "    </tr>\n",
       "    <tr>\n",
       "      <th>2535</th>\n",
       "      <td>GitTables_150500</td>\n",
       "      <td>3</td>\n",
       "      <td>NaN</td>\n",
       "      <td>-1</td>\n",
       "      <td>12;11;333;555;22</td>\n",
       "    </tr>\n",
       "    <tr>\n",
       "      <th>2536</th>\n",
       "      <td>GitTables_150500</td>\n",
       "      <td>4</td>\n",
       "      <td>price</td>\n",
       "      <td>24</td>\n",
       "      <td>11.11;12.34;13.13;14.0;15.0</td>\n",
       "    </tr>\n",
       "    <tr>\n",
       "      <th>2537</th>\n",
       "      <td>GitTables_150500</td>\n",
       "      <td>5</td>\n",
       "      <td>NaN</td>\n",
       "      <td>-1</td>\n",
       "      <td>GBP;GBP;USD;USD;EUR</td>\n",
       "    </tr>\n",
       "  </tbody>\n",
       "</table>\n",
       "</div>"
      ],
      "text/plain": [
       "              table_id  col_idx  class  class_id  \\\n",
       "2532  GitTables_150500        0  title         4   \n",
       "2534  GitTables_150500        2    NaN        -1   \n",
       "2535  GitTables_150500        3    NaN        -1   \n",
       "2536  GitTables_150500        4  price        24   \n",
       "2537  GitTables_150500        5    NaN        -1   \n",
       "\n",
       "                                                   data  \n",
       "2532  Wuthering Heights;Jane Eyre;The Raven;Eleonora...  \n",
       "2534                                101;107;150;150;170  \n",
       "2535                                   12;11;333;555;22  \n",
       "2536                        11.11;12.34;13.13;14.0;15.0  \n",
       "2537                                GBP;GBP;USD;USD;EUR  "
      ]
     },
     "execution_count": 300,
     "metadata": {},
     "output_type": "execute_result"
    }
   ],
   "source": [
    "group_df.iloc[[0,2,3,4,5]]"
   ]
  },
  {
   "cell_type": "code",
   "execution_count": 312,
   "metadata": {},
   "outputs": [
    {
     "data": {
      "text/html": [
       "<div>\n",
       "<style scoped>\n",
       "    .dataframe tbody tr th:only-of-type {\n",
       "        vertical-align: middle;\n",
       "    }\n",
       "\n",
       "    .dataframe tbody tr th {\n",
       "        vertical-align: top;\n",
       "    }\n",
       "\n",
       "    .dataframe thead th {\n",
       "        text-align: right;\n",
       "    }\n",
       "</style>\n",
       "<table border=\"1\" class=\"dataframe\">\n",
       "  <thead>\n",
       "    <tr style=\"text-align: right;\">\n",
       "      <th></th>\n",
       "      <th>table_id</th>\n",
       "      <th>col_idx</th>\n",
       "      <th>class</th>\n",
       "      <th>class_id</th>\n",
       "      <th>data</th>\n",
       "    </tr>\n",
       "  </thead>\n",
       "  <tbody>\n",
       "    <tr>\n",
       "      <th>2536</th>\n",
       "      <td>GitTables_150500</td>\n",
       "      <td>0</td>\n",
       "      <td>price</td>\n",
       "      <td>24</td>\n",
       "      <td>11.11;12.34;13.13;14.0;15.0</td>\n",
       "    </tr>\n",
       "    <tr>\n",
       "      <th>2535</th>\n",
       "      <td>GitTables_150500</td>\n",
       "      <td>1</td>\n",
       "      <td>NaN</td>\n",
       "      <td>-1</td>\n",
       "      <td>12;11;333;555;22</td>\n",
       "    </tr>\n",
       "    <tr>\n",
       "      <th>2537</th>\n",
       "      <td>GitTables_150500</td>\n",
       "      <td>2</td>\n",
       "      <td>NaN</td>\n",
       "      <td>-1</td>\n",
       "      <td>GBP;GBP;USD;USD;EUR</td>\n",
       "    </tr>\n",
       "    <tr>\n",
       "      <th>2538</th>\n",
       "      <td>GitTables_150500</td>\n",
       "      <td>3</td>\n",
       "      <td>NaN</td>\n",
       "      <td>-1</td>\n",
       "      <td>11;11;16;16;13</td>\n",
       "    </tr>\n",
       "    <tr>\n",
       "      <th>2539</th>\n",
       "      <td>GitTables_150500</td>\n",
       "      <td>4</td>\n",
       "      <td>NaN</td>\n",
       "      <td>-1</td>\n",
       "      <td>EN;EN;EN;EN;EN</td>\n",
       "    </tr>\n",
       "    <tr>\n",
       "      <th>2534</th>\n",
       "      <td>GitTables_150500</td>\n",
       "      <td>5</td>\n",
       "      <td>NaN</td>\n",
       "      <td>-1</td>\n",
       "      <td>101;107;150;150;170</td>\n",
       "    </tr>\n",
       "  </tbody>\n",
       "</table>\n",
       "</div>"
      ],
      "text/plain": [
       "              table_id  col_idx  class  class_id                         data\n",
       "2536  GitTables_150500        0  price        24  11.11;12.34;13.13;14.0;15.0\n",
       "2535  GitTables_150500        1    NaN        -1             12;11;333;555;22\n",
       "2537  GitTables_150500        2    NaN        -1          GBP;GBP;USD;USD;EUR\n",
       "2538  GitTables_150500        3    NaN        -1               11;11;16;16;13\n",
       "2539  GitTables_150500        4    NaN        -1               EN;EN;EN;EN;EN\n",
       "2534  GitTables_150500        5    NaN        -1          101;107;150;150;170"
      ]
     },
     "execution_count": 312,
     "metadata": {},
     "output_type": "execute_result"
    }
   ],
   "source": [
    "target_df"
   ]
  },
  {
   "cell_type": "code",
   "execution_count": 309,
   "metadata": {},
   "outputs": [
    {
     "name": "stdout",
     "output_type": "stream",
     "text": [
      "[CLS] 11. 11 ; 12. 34 ; 13. 13 ; 14. 0 ; 15. 0 [SEP] 12 ; 11 ; 333 ; 555 ; 22 [SEP] gbp ; gbp ; usd ; usd ; eur [SEP] 11 ; 11 ; 16 ; 16 ; 13 [SEP] en ; en ; en ; en ; en [SEP] 101 ; 107 ; 150 ; 150 ; 170\n"
     ]
    }
   ],
   "source": []
  },
  {
   "cell_type": "code",
   "execution_count": 261,
   "metadata": {},
   "outputs": [
    {
     "data": {
      "text/html": [
       "<div>\n",
       "<style scoped>\n",
       "    .dataframe tbody tr th:only-of-type {\n",
       "        vertical-align: middle;\n",
       "    }\n",
       "\n",
       "    .dataframe tbody tr th {\n",
       "        vertical-align: top;\n",
       "    }\n",
       "\n",
       "    .dataframe thead th {\n",
       "        text-align: right;\n",
       "    }\n",
       "</style>\n",
       "<table border=\"1\" class=\"dataframe\">\n",
       "  <thead>\n",
       "    <tr style=\"text-align: right;\">\n",
       "      <th></th>\n",
       "      <th>table_id</th>\n",
       "      <th>col_idx</th>\n",
       "      <th>class</th>\n",
       "      <th>class_id</th>\n",
       "      <th>data</th>\n",
       "    </tr>\n",
       "  </thead>\n",
       "  <tbody>\n",
       "    <tr>\n",
       "      <th>2536</th>\n",
       "      <td>GitTables_150500</td>\n",
       "      <td>0</td>\n",
       "      <td>price</td>\n",
       "      <td>24</td>\n",
       "      <td>11.11;12.34;13.13;14.0;15.0</td>\n",
       "    </tr>\n",
       "    <tr>\n",
       "      <th>2534</th>\n",
       "      <td>GitTables_150500</td>\n",
       "      <td>1</td>\n",
       "      <td>NaN</td>\n",
       "      <td>-1</td>\n",
       "      <td>101;107;150;150;170</td>\n",
       "    </tr>\n",
       "  </tbody>\n",
       "</table>\n",
       "</div>"
      ],
      "text/plain": [
       "              table_id  col_idx  class  class_id                         data\n",
       "2536  GitTables_150500        0  price        24  11.11;12.34;13.13;14.0;15.0\n",
       "2534  GitTables_150500        1    NaN        -1          101;107;150;150;170"
      ]
     },
     "execution_count": 261,
     "metadata": {},
     "output_type": "execute_result"
    }
   ],
   "source": [
    "target_df"
   ]
  },
  {
   "cell_type": "code",
   "execution_count": 262,
   "metadata": {},
   "outputs": [],
   "source": []
  },
  {
   "cell_type": "code",
   "execution_count": 269,
   "metadata": {},
   "outputs": [
    {
     "name": "stdout",
     "output_type": "stream",
     "text": [
      "[CLS] 11. 11 ; 12. 34 ; 13. 13 ; 14. 0 ; 15. 0 [SEP] 101 ; 107 ; 150 ; 150 ; 170\n"
     ]
    }
   ],
   "source": []
  },
  {
   "cell_type": "code",
   "execution_count": 342,
   "metadata": {},
   "outputs": [
    {
     "data": {
      "text/html": [
       "<div>\n",
       "<style scoped>\n",
       "    .dataframe tbody tr th:only-of-type {\n",
       "        vertical-align: middle;\n",
       "    }\n",
       "\n",
       "    .dataframe tbody tr th {\n",
       "        vertical-align: top;\n",
       "    }\n",
       "\n",
       "    .dataframe thead th {\n",
       "        text-align: right;\n",
       "    }\n",
       "</style>\n",
       "<table border=\"1\" class=\"dataframe\">\n",
       "  <thead>\n",
       "    <tr style=\"text-align: right;\">\n",
       "      <th></th>\n",
       "      <th>table_id</th>\n",
       "      <th>col_idx</th>\n",
       "      <th>class</th>\n",
       "      <th>class_id</th>\n",
       "      <th>data</th>\n",
       "    </tr>\n",
       "  </thead>\n",
       "  <tbody>\n",
       "    <tr>\n",
       "      <th>2532</th>\n",
       "      <td>GitTables_150500</td>\n",
       "      <td>0</td>\n",
       "      <td>title</td>\n",
       "      <td>4</td>\n",
       "      <td>Wuthering Heights;Jane Eyre;The Raven;Eleonora...</td>\n",
       "    </tr>\n",
       "    <tr>\n",
       "      <th>2533</th>\n",
       "      <td>GitTables_150500</td>\n",
       "      <td>1</td>\n",
       "      <td>NaN</td>\n",
       "      <td>-1</td>\n",
       "      <td>Wuthering Heights, Emily Brontë's only novel, ...</td>\n",
       "    </tr>\n",
       "    <tr>\n",
       "      <th>2534</th>\n",
       "      <td>GitTables_150500</td>\n",
       "      <td>2</td>\n",
       "      <td>NaN</td>\n",
       "      <td>-1</td>\n",
       "      <td>101;107;150;150;170</td>\n",
       "    </tr>\n",
       "    <tr>\n",
       "      <th>2535</th>\n",
       "      <td>GitTables_150500</td>\n",
       "      <td>3</td>\n",
       "      <td>NaN</td>\n",
       "      <td>-1</td>\n",
       "      <td>12;11;333;555;22</td>\n",
       "    </tr>\n",
       "    <tr>\n",
       "      <th>2536</th>\n",
       "      <td>GitTables_150500</td>\n",
       "      <td>4</td>\n",
       "      <td>price</td>\n",
       "      <td>24</td>\n",
       "      <td>11.11;12.34;13.13;14.0;15.0</td>\n",
       "    </tr>\n",
       "    <tr>\n",
       "      <th>2537</th>\n",
       "      <td>GitTables_150500</td>\n",
       "      <td>5</td>\n",
       "      <td>NaN</td>\n",
       "      <td>-1</td>\n",
       "      <td>GBP;GBP;USD;USD;EUR</td>\n",
       "    </tr>\n",
       "    <tr>\n",
       "      <th>2538</th>\n",
       "      <td>GitTables_150500</td>\n",
       "      <td>6</td>\n",
       "      <td>NaN</td>\n",
       "      <td>-1</td>\n",
       "      <td>11;11;16;16;13</td>\n",
       "    </tr>\n",
       "    <tr>\n",
       "      <th>2539</th>\n",
       "      <td>GitTables_150500</td>\n",
       "      <td>7</td>\n",
       "      <td>NaN</td>\n",
       "      <td>-1</td>\n",
       "      <td>EN;EN;EN;EN;EN</td>\n",
       "    </tr>\n",
       "  </tbody>\n",
       "</table>\n",
       "</div>"
      ],
      "text/plain": [
       "              table_id  col_idx  class  class_id  \\\n",
       "2532  GitTables_150500        0  title         4   \n",
       "2533  GitTables_150500        1    NaN        -1   \n",
       "2534  GitTables_150500        2    NaN        -1   \n",
       "2535  GitTables_150500        3    NaN        -1   \n",
       "2536  GitTables_150500        4  price        24   \n",
       "2537  GitTables_150500        5    NaN        -1   \n",
       "2538  GitTables_150500        6    NaN        -1   \n",
       "2539  GitTables_150500        7    NaN        -1   \n",
       "\n",
       "                                                   data  \n",
       "2532  Wuthering Heights;Jane Eyre;The Raven;Eleonora...  \n",
       "2533  Wuthering Heights, Emily Brontë's only novel, ...  \n",
       "2534                                101;107;150;150;170  \n",
       "2535                                   12;11;333;555;22  \n",
       "2536                        11.11;12.34;13.13;14.0;15.0  \n",
       "2537                                GBP;GBP;USD;USD;EUR  \n",
       "2538                                     11;11;16;16;13  \n",
       "2539                                     EN;EN;EN;EN;EN  "
      ]
     },
     "execution_count": 342,
     "metadata": {},
     "output_type": "execute_result"
    }
   ],
   "source": [
    "group_df"
   ]
  },
  {
   "cell_type": "code",
   "execution_count": 301,
   "metadata": {},
   "outputs": [],
   "source": [
    "group_df = pd.concat([group_df[group_df[\"class\"] ==\"price\"], group_df[group_df[\"class\"] !=\"price\"]])"
   ]
  },
  {
   "cell_type": "code",
   "execution_count": 313,
   "metadata": {},
   "outputs": [
    {
     "data": {
      "text/html": [
       "<div>\n",
       "<style scoped>\n",
       "    .dataframe tbody tr th:only-of-type {\n",
       "        vertical-align: middle;\n",
       "    }\n",
       "\n",
       "    .dataframe tbody tr th {\n",
       "        vertical-align: top;\n",
       "    }\n",
       "\n",
       "    .dataframe thead th {\n",
       "        text-align: right;\n",
       "    }\n",
       "</style>\n",
       "<table border=\"1\" class=\"dataframe\">\n",
       "  <thead>\n",
       "    <tr style=\"text-align: right;\">\n",
       "      <th></th>\n",
       "      <th>table_id</th>\n",
       "      <th>col_idx</th>\n",
       "      <th>class</th>\n",
       "      <th>class_id</th>\n",
       "      <th>data</th>\n",
       "    </tr>\n",
       "  </thead>\n",
       "  <tbody>\n",
       "    <tr>\n",
       "      <th>2536</th>\n",
       "      <td>GitTables_150500</td>\n",
       "      <td>0</td>\n",
       "      <td>price</td>\n",
       "      <td>24</td>\n",
       "      <td>11.11;12.34;13.13;14.0;15.0</td>\n",
       "    </tr>\n",
       "    <tr>\n",
       "      <th>2532</th>\n",
       "      <td>GitTables_150500</td>\n",
       "      <td>20</td>\n",
       "      <td>title</td>\n",
       "      <td>4</td>\n",
       "      <td>Wuthering Heights;Jane Eyre;The Raven;Eleonora...</td>\n",
       "    </tr>\n",
       "    <tr>\n",
       "      <th>2533</th>\n",
       "      <td>GitTables_150500</td>\n",
       "      <td>19</td>\n",
       "      <td>NaN</td>\n",
       "      <td>-1</td>\n",
       "      <td>Wuthering Heights, Emily Brontë's only novel, ...</td>\n",
       "    </tr>\n",
       "    <tr>\n",
       "      <th>2534</th>\n",
       "      <td>GitTables_150500</td>\n",
       "      <td>1</td>\n",
       "      <td>NaN</td>\n",
       "      <td>-1</td>\n",
       "      <td>101;107;150;150;170</td>\n",
       "    </tr>\n",
       "    <tr>\n",
       "      <th>2535</th>\n",
       "      <td>GitTables_150500</td>\n",
       "      <td>2</td>\n",
       "      <td>NaN</td>\n",
       "      <td>-1</td>\n",
       "      <td>12;11;333;555;22</td>\n",
       "    </tr>\n",
       "    <tr>\n",
       "      <th>2537</th>\n",
       "      <td>GitTables_150500</td>\n",
       "      <td>3</td>\n",
       "      <td>NaN</td>\n",
       "      <td>-1</td>\n",
       "      <td>GBP;GBP;USD;USD;EUR</td>\n",
       "    </tr>\n",
       "    <tr>\n",
       "      <th>2538</th>\n",
       "      <td>GitTables_150500</td>\n",
       "      <td>4</td>\n",
       "      <td>NaN</td>\n",
       "      <td>-1</td>\n",
       "      <td>11;11;16;16;13</td>\n",
       "    </tr>\n",
       "    <tr>\n",
       "      <th>2539</th>\n",
       "      <td>GitTables_150500</td>\n",
       "      <td>5</td>\n",
       "      <td>NaN</td>\n",
       "      <td>-1</td>\n",
       "      <td>EN;EN;EN;EN;EN</td>\n",
       "    </tr>\n",
       "  </tbody>\n",
       "</table>\n",
       "</div>"
      ],
      "text/plain": [
       "              table_id  col_idx  class  class_id  \\\n",
       "2536  GitTables_150500        0  price        24   \n",
       "2532  GitTables_150500       20  title         4   \n",
       "2533  GitTables_150500       19    NaN        -1   \n",
       "2534  GitTables_150500        1    NaN        -1   \n",
       "2535  GitTables_150500        2    NaN        -1   \n",
       "2537  GitTables_150500        3    NaN        -1   \n",
       "2538  GitTables_150500        4    NaN        -1   \n",
       "2539  GitTables_150500        5    NaN        -1   \n",
       "\n",
       "                                                   data  \n",
       "2536                        11.11;12.34;13.13;14.0;15.0  \n",
       "2532  Wuthering Heights;Jane Eyre;The Raven;Eleonora...  \n",
       "2533  Wuthering Heights, Emily Brontë's only novel, ...  \n",
       "2534                                101;107;150;150;170  \n",
       "2535                                   12;11;333;555;22  \n",
       "2537                                GBP;GBP;USD;USD;EUR  \n",
       "2538                                     11;11;16;16;13  \n",
       "2539                                     EN;EN;EN;EN;EN  "
      ]
     },
     "execution_count": 313,
     "metadata": {},
     "output_type": "execute_result"
    }
   ],
   "source": [
    "group_df"
   ]
  },
  {
   "cell_type": "code",
   "execution_count": 208,
   "metadata": {},
   "outputs": [
    {
     "data": {
      "text/plain": [
       "table_id       GitTables_150500\n",
       "col_idx                       5\n",
       "class                       NaN\n",
       "class_id                     -1\n",
       "data        GBP;GBP;USD;USD;EUR\n",
       "Name: 2537, dtype: object"
      ]
     },
     "execution_count": 208,
     "metadata": {},
     "output_type": "execute_result"
    }
   ],
   "source": [
    " group_df.loc[2537]"
   ]
  },
  {
   "cell_type": "code",
   "execution_count": 303,
   "metadata": {},
   "outputs": [],
   "source": [
    "target_df = pd.concat([group_df[group_df[\"class\"] ==\"price\"], group_df[group_df[\"col_idx\"] ==5], group_df[group_df[\"col_idx\"] ==0]])"
   ]
  },
  {
   "cell_type": "code",
   "execution_count": 304,
   "metadata": {},
   "outputs": [],
   "source": [
    "group_df.col_idx = [0, 20, 19, 1, 2, 3, 4, 5]"
   ]
  },
  {
   "cell_type": "code",
   "execution_count": 306,
   "metadata": {},
   "outputs": [
    {
     "data": {
      "text/html": [
       "<div>\n",
       "<style scoped>\n",
       "    .dataframe tbody tr th:only-of-type {\n",
       "        vertical-align: middle;\n",
       "    }\n",
       "\n",
       "    .dataframe tbody tr th {\n",
       "        vertical-align: top;\n",
       "    }\n",
       "\n",
       "    .dataframe thead th {\n",
       "        text-align: right;\n",
       "    }\n",
       "</style>\n",
       "<table border=\"1\" class=\"dataframe\">\n",
       "  <thead>\n",
       "    <tr style=\"text-align: right;\">\n",
       "      <th></th>\n",
       "      <th>table_id</th>\n",
       "      <th>col_idx</th>\n",
       "      <th>class</th>\n",
       "      <th>class_id</th>\n",
       "      <th>data</th>\n",
       "    </tr>\n",
       "  </thead>\n",
       "  <tbody>\n",
       "    <tr>\n",
       "      <th>2536</th>\n",
       "      <td>GitTables_150500</td>\n",
       "      <td>0</td>\n",
       "      <td>price</td>\n",
       "      <td>24</td>\n",
       "      <td>11.11;12.34;13.13;14.0;15.0</td>\n",
       "    </tr>\n",
       "    <tr>\n",
       "      <th>2532</th>\n",
       "      <td>GitTables_150500</td>\n",
       "      <td>20</td>\n",
       "      <td>title</td>\n",
       "      <td>4</td>\n",
       "      <td>Wuthering Heights;Jane Eyre;The Raven;Eleonora...</td>\n",
       "    </tr>\n",
       "    <tr>\n",
       "      <th>2533</th>\n",
       "      <td>GitTables_150500</td>\n",
       "      <td>19</td>\n",
       "      <td>NaN</td>\n",
       "      <td>-1</td>\n",
       "      <td>Wuthering Heights, Emily Brontë's only novel, ...</td>\n",
       "    </tr>\n",
       "    <tr>\n",
       "      <th>2534</th>\n",
       "      <td>GitTables_150500</td>\n",
       "      <td>1</td>\n",
       "      <td>NaN</td>\n",
       "      <td>-1</td>\n",
       "      <td>101;107;150;150;170</td>\n",
       "    </tr>\n",
       "    <tr>\n",
       "      <th>2535</th>\n",
       "      <td>GitTables_150500</td>\n",
       "      <td>2</td>\n",
       "      <td>NaN</td>\n",
       "      <td>-1</td>\n",
       "      <td>12;11;333;555;22</td>\n",
       "    </tr>\n",
       "    <tr>\n",
       "      <th>2537</th>\n",
       "      <td>GitTables_150500</td>\n",
       "      <td>3</td>\n",
       "      <td>NaN</td>\n",
       "      <td>-1</td>\n",
       "      <td>GBP;GBP;USD;USD;EUR</td>\n",
       "    </tr>\n",
       "    <tr>\n",
       "      <th>2538</th>\n",
       "      <td>GitTables_150500</td>\n",
       "      <td>4</td>\n",
       "      <td>NaN</td>\n",
       "      <td>-1</td>\n",
       "      <td>11;11;16;16;13</td>\n",
       "    </tr>\n",
       "    <tr>\n",
       "      <th>2539</th>\n",
       "      <td>GitTables_150500</td>\n",
       "      <td>5</td>\n",
       "      <td>NaN</td>\n",
       "      <td>-1</td>\n",
       "      <td>EN;EN;EN;EN;EN</td>\n",
       "    </tr>\n",
       "  </tbody>\n",
       "</table>\n",
       "</div>"
      ],
      "text/plain": [
       "              table_id  col_idx  class  class_id  \\\n",
       "2536  GitTables_150500        0  price        24   \n",
       "2532  GitTables_150500       20  title         4   \n",
       "2533  GitTables_150500       19    NaN        -1   \n",
       "2534  GitTables_150500        1    NaN        -1   \n",
       "2535  GitTables_150500        2    NaN        -1   \n",
       "2537  GitTables_150500        3    NaN        -1   \n",
       "2538  GitTables_150500        4    NaN        -1   \n",
       "2539  GitTables_150500        5    NaN        -1   \n",
       "\n",
       "                                                   data  \n",
       "2536                        11.11;12.34;13.13;14.0;15.0  \n",
       "2532  Wuthering Heights;Jane Eyre;The Raven;Eleonora...  \n",
       "2533  Wuthering Heights, Emily Brontë's only novel, ...  \n",
       "2534                                101;107;150;150;170  \n",
       "2535                                   12;11;333;555;22  \n",
       "2537                                GBP;GBP;USD;USD;EUR  \n",
       "2538                                     11;11;16;16;13  \n",
       "2539                                     EN;EN;EN;EN;EN  "
      ]
     },
     "execution_count": 306,
     "metadata": {},
     "output_type": "execute_result"
    }
   ],
   "source": [
    "group_df"
   ]
  },
  {
   "cell_type": "code",
   "execution_count": 236,
   "metadata": {},
   "outputs": [
    {
     "data": {
      "text/html": [
       "<div>\n",
       "<style scoped>\n",
       "    .dataframe tbody tr th:only-of-type {\n",
       "        vertical-align: middle;\n",
       "    }\n",
       "\n",
       "    .dataframe tbody tr th {\n",
       "        vertical-align: top;\n",
       "    }\n",
       "\n",
       "    .dataframe thead th {\n",
       "        text-align: right;\n",
       "    }\n",
       "</style>\n",
       "<table border=\"1\" class=\"dataframe\">\n",
       "  <thead>\n",
       "    <tr style=\"text-align: right;\">\n",
       "      <th></th>\n",
       "      <th>table_id</th>\n",
       "      <th>col_idx</th>\n",
       "      <th>class</th>\n",
       "      <th>class_id</th>\n",
       "      <th>data</th>\n",
       "    </tr>\n",
       "  </thead>\n",
       "  <tbody>\n",
       "    <tr>\n",
       "      <th>2536</th>\n",
       "      <td>GitTables_150500</td>\n",
       "      <td>0</td>\n",
       "      <td>price</td>\n",
       "      <td>24</td>\n",
       "      <td>11.11;12.34;13.13;14.0;15.0</td>\n",
       "    </tr>\n",
       "    <tr>\n",
       "      <th>2532</th>\n",
       "      <td>GitTables_150500</td>\n",
       "      <td>20</td>\n",
       "      <td>title</td>\n",
       "      <td>4</td>\n",
       "      <td>Wuthering Heights;Jane Eyre;The Raven;Eleonora...</td>\n",
       "    </tr>\n",
       "    <tr>\n",
       "      <th>2533</th>\n",
       "      <td>GitTables_150500</td>\n",
       "      <td>19</td>\n",
       "      <td>NaN</td>\n",
       "      <td>-1</td>\n",
       "      <td>Wuthering Heights, Emily Brontë's only novel, ...</td>\n",
       "    </tr>\n",
       "    <tr>\n",
       "      <th>2534</th>\n",
       "      <td>GitTables_150500</td>\n",
       "      <td>1</td>\n",
       "      <td>NaN</td>\n",
       "      <td>-1</td>\n",
       "      <td>101;107;150;150;170</td>\n",
       "    </tr>\n",
       "    <tr>\n",
       "      <th>2535</th>\n",
       "      <td>GitTables_150500</td>\n",
       "      <td>2</td>\n",
       "      <td>NaN</td>\n",
       "      <td>-1</td>\n",
       "      <td>12;11;333;555;22</td>\n",
       "    </tr>\n",
       "    <tr>\n",
       "      <th>2537</th>\n",
       "      <td>GitTables_150500</td>\n",
       "      <td>3</td>\n",
       "      <td>NaN</td>\n",
       "      <td>-1</td>\n",
       "      <td>GBP;GBP;USD;USD;EUR</td>\n",
       "    </tr>\n",
       "    <tr>\n",
       "      <th>2538</th>\n",
       "      <td>GitTables_150500</td>\n",
       "      <td>4</td>\n",
       "      <td>NaN</td>\n",
       "      <td>-1</td>\n",
       "      <td>11;11;16;16;13</td>\n",
       "    </tr>\n",
       "    <tr>\n",
       "      <th>2539</th>\n",
       "      <td>GitTables_150500</td>\n",
       "      <td>5</td>\n",
       "      <td>NaN</td>\n",
       "      <td>-1</td>\n",
       "      <td>EN;EN;EN;EN;EN</td>\n",
       "    </tr>\n",
       "  </tbody>\n",
       "</table>\n",
       "</div>"
      ],
      "text/plain": [
       "              table_id  col_idx  class  class_id  \\\n",
       "2536  GitTables_150500        0  price        24   \n",
       "2532  GitTables_150500       20  title         4   \n",
       "2533  GitTables_150500       19    NaN        -1   \n",
       "2534  GitTables_150500        1    NaN        -1   \n",
       "2535  GitTables_150500        2    NaN        -1   \n",
       "2537  GitTables_150500        3    NaN        -1   \n",
       "2538  GitTables_150500        4    NaN        -1   \n",
       "2539  GitTables_150500        5    NaN        -1   \n",
       "\n",
       "                                                   data  \n",
       "2536                        11.11;12.34;13.13;14.0;15.0  \n",
       "2532  Wuthering Heights;Jane Eyre;The Raven;Eleonora...  \n",
       "2533  Wuthering Heights, Emily Brontë's only novel, ...  \n",
       "2534                                101;107;150;150;170  \n",
       "2535                                   12;11;333;555;22  \n",
       "2537                                GBP;GBP;USD;USD;EUR  \n",
       "2538                                     11;11;16;16;13  \n",
       "2539                                     EN;EN;EN;EN;EN  "
      ]
     },
     "execution_count": 236,
     "metadata": {},
     "output_type": "execute_result"
    }
   ],
   "source": [
    "group_df"
   ]
  },
  {
   "cell_type": "code",
   "execution_count": 211,
   "metadata": {},
   "outputs": [
    {
     "data": {
      "text/html": [
       "<div>\n",
       "<style scoped>\n",
       "    .dataframe tbody tr th:only-of-type {\n",
       "        vertical-align: middle;\n",
       "    }\n",
       "\n",
       "    .dataframe tbody tr th {\n",
       "        vertical-align: top;\n",
       "    }\n",
       "\n",
       "    .dataframe thead th {\n",
       "        text-align: right;\n",
       "    }\n",
       "</style>\n",
       "<table border=\"1\" class=\"dataframe\">\n",
       "  <thead>\n",
       "    <tr style=\"text-align: right;\">\n",
       "      <th></th>\n",
       "      <th>table_id</th>\n",
       "      <th>col_idx</th>\n",
       "      <th>class</th>\n",
       "      <th>class_id</th>\n",
       "      <th>data</th>\n",
       "    </tr>\n",
       "  </thead>\n",
       "  <tbody>\n",
       "    <tr>\n",
       "      <th>2536</th>\n",
       "      <td>GitTables_150500</td>\n",
       "      <td>4</td>\n",
       "      <td>price</td>\n",
       "      <td>24</td>\n",
       "      <td>11.11;12.34;13.13;14.0;15.0</td>\n",
       "    </tr>\n",
       "    <tr>\n",
       "      <th>2537</th>\n",
       "      <td>GitTables_150500</td>\n",
       "      <td>5</td>\n",
       "      <td>NaN</td>\n",
       "      <td>-1</td>\n",
       "      <td>GBP;GBP;USD;USD;EUR</td>\n",
       "    </tr>\n",
       "  </tbody>\n",
       "</table>\n",
       "</div>"
      ],
      "text/plain": [
       "              table_id  col_idx  class  class_id                         data\n",
       "2536  GitTables_150500        4  price        24  11.11;12.34;13.13;14.0;15.0\n",
       "2537  GitTables_150500        5    NaN        -1          GBP;GBP;USD;USD;EUR"
      ]
     },
     "execution_count": 211,
     "metadata": {},
     "output_type": "execute_result"
    }
   ],
   "source": [
    "target_df"
   ]
  },
  {
   "cell_type": "code",
   "execution_count": 177,
   "metadata": {},
   "outputs": [
    {
     "data": {
      "text/html": [
       "<div>\n",
       "<style scoped>\n",
       "    .dataframe tbody tr th:only-of-type {\n",
       "        vertical-align: middle;\n",
       "    }\n",
       "\n",
       "    .dataframe tbody tr th {\n",
       "        vertical-align: top;\n",
       "    }\n",
       "\n",
       "    .dataframe thead th {\n",
       "        text-align: right;\n",
       "    }\n",
       "</style>\n",
       "<table border=\"1\" class=\"dataframe\">\n",
       "  <thead>\n",
       "    <tr style=\"text-align: right;\">\n",
       "      <th></th>\n",
       "      <th>table_id</th>\n",
       "      <th>col_idx</th>\n",
       "      <th>class</th>\n",
       "      <th>class_id</th>\n",
       "      <th>data</th>\n",
       "    </tr>\n",
       "  </thead>\n",
       "  <tbody>\n",
       "    <tr>\n",
       "      <th>1</th>\n",
       "      <td>GitTables_113254</td>\n",
       "      <td>1</td>\n",
       "      <td>price</td>\n",
       "      <td>24</td>\n",
       "      <td>14.5;17.8</td>\n",
       "    </tr>\n",
       "    <tr>\n",
       "      <th>2</th>\n",
       "      <td>GitTables_113254</td>\n",
       "      <td>2</td>\n",
       "      <td>NaN</td>\n",
       "      <td>-1</td>\n",
       "      <td>Fra;Fra;Fra;Swap;Swap;Swap;Variable;Variable;V...</td>\n",
       "    </tr>\n",
       "    <tr>\n",
       "      <th>3</th>\n",
       "      <td>GitTables_113254</td>\n",
       "      <td>3</td>\n",
       "      <td>NaN</td>\n",
       "      <td>-1</td>\n",
       "      <td>OG;OG;OG;OG;OG;OG;OG;OG;OG;OG;OG;OG;OG;OG;OG</td>\n",
       "    </tr>\n",
       "    <tr>\n",
       "      <th>4</th>\n",
       "      <td>GitTables_113254</td>\n",
       "      <td>4</td>\n",
       "      <td>id</td>\n",
       "      <td>0</td>\n",
       "      <td>123401.0;123402.0;123403.0;123411.0;123412.0;1...</td>\n",
       "    </tr>\n",
       "    <tr>\n",
       "      <th>5</th>\n",
       "      <td>GitTables_113254</td>\n",
       "      <td>5</td>\n",
       "      <td>NaN</td>\n",
       "      <td>-1</td>\n",
       "      <td>CPTY</td>\n",
       "    </tr>\n",
       "  </tbody>\n",
       "</table>\n",
       "</div>"
      ],
      "text/plain": [
       "           table_id  col_idx  class  class_id  \\\n",
       "1  GitTables_113254        1  price        24   \n",
       "2  GitTables_113254        2    NaN        -1   \n",
       "3  GitTables_113254        3    NaN        -1   \n",
       "4  GitTables_113254        4     id         0   \n",
       "5  GitTables_113254        5    NaN        -1   \n",
       "\n",
       "                                                data  \n",
       "1                                          14.5;17.8  \n",
       "2  Fra;Fra;Fra;Swap;Swap;Swap;Variable;Variable;V...  \n",
       "3       OG;OG;OG;OG;OG;OG;OG;OG;OG;OG;OG;OG;OG;OG;OG  \n",
       "4  123401.0;123402.0;123403.0;123411.0;123412.0;1...  \n",
       "5                                               CPTY  "
      ]
     },
     "execution_count": 177,
     "metadata": {},
     "output_type": "execute_result"
    }
   ],
   "source": [
    "group_df"
   ]
  },
  {
   "cell_type": "code",
   "execution_count": 171,
   "metadata": {},
   "outputs": [],
   "source": [
    "group_df.index = [2,3,4,5,1]"
   ]
  },
  {
   "cell_type": "code",
   "execution_count": 172,
   "metadata": {},
   "outputs": [],
   "source": [
    "group_df[\"col_idx\"] = [2,3,4,5,1]"
   ]
  },
  {
   "cell_type": "code",
   "execution_count": 173,
   "metadata": {},
   "outputs": [
    {
     "data": {
      "text/html": [
       "<div>\n",
       "<style scoped>\n",
       "    .dataframe tbody tr th:only-of-type {\n",
       "        vertical-align: middle;\n",
       "    }\n",
       "\n",
       "    .dataframe tbody tr th {\n",
       "        vertical-align: top;\n",
       "    }\n",
       "\n",
       "    .dataframe thead th {\n",
       "        text-align: right;\n",
       "    }\n",
       "</style>\n",
       "<table border=\"1\" class=\"dataframe\">\n",
       "  <thead>\n",
       "    <tr style=\"text-align: right;\">\n",
       "      <th></th>\n",
       "      <th>table_id</th>\n",
       "      <th>col_idx</th>\n",
       "      <th>class</th>\n",
       "      <th>class_id</th>\n",
       "      <th>data</th>\n",
       "    </tr>\n",
       "  </thead>\n",
       "  <tbody>\n",
       "    <tr>\n",
       "      <th>2</th>\n",
       "      <td>GitTables_113254</td>\n",
       "      <td>2</td>\n",
       "      <td>NaN</td>\n",
       "      <td>-1</td>\n",
       "      <td>Fra;Fra;Fra;Swap;Swap;Swap;Variable;Variable;V...</td>\n",
       "    </tr>\n",
       "    <tr>\n",
       "      <th>3</th>\n",
       "      <td>GitTables_113254</td>\n",
       "      <td>3</td>\n",
       "      <td>NaN</td>\n",
       "      <td>-1</td>\n",
       "      <td>OG;OG;OG;OG;OG;OG;OG;OG;OG;OG;OG;OG;OG;OG;OG</td>\n",
       "    </tr>\n",
       "  </tbody>\n",
       "</table>\n",
       "</div>"
      ],
      "text/plain": [
       "           table_id  col_idx class  class_id  \\\n",
       "2  GitTables_113254        2   NaN        -1   \n",
       "3  GitTables_113254        3   NaN        -1   \n",
       "\n",
       "                                                data  \n",
       "2  Fra;Fra;Fra;Swap;Swap;Swap;Variable;Variable;V...  \n",
       "3       OG;OG;OG;OG;OG;OG;OG;OG;OG;OG;OG;OG;OG;OG;OG  "
      ]
     },
     "execution_count": 173,
     "metadata": {},
     "output_type": "execute_result"
    }
   ],
   "source": [
    "group_df.iloc[0:2]"
   ]
  },
  {
   "cell_type": "code",
   "execution_count": 322,
   "metadata": {},
   "outputs": [
    {
     "data": {
      "text/html": [
       "<div>\n",
       "<style scoped>\n",
       "    .dataframe tbody tr th:only-of-type {\n",
       "        vertical-align: middle;\n",
       "    }\n",
       "\n",
       "    .dataframe tbody tr th {\n",
       "        vertical-align: top;\n",
       "    }\n",
       "\n",
       "    .dataframe thead th {\n",
       "        text-align: right;\n",
       "    }\n",
       "</style>\n",
       "<table border=\"1\" class=\"dataframe\">\n",
       "  <thead>\n",
       "    <tr style=\"text-align: right;\">\n",
       "      <th></th>\n",
       "      <th>table_id</th>\n",
       "      <th>col_idx</th>\n",
       "      <th>class</th>\n",
       "      <th>class_id</th>\n",
       "      <th>data</th>\n",
       "    </tr>\n",
       "  </thead>\n",
       "  <tbody>\n",
       "    <tr>\n",
       "      <th>2536</th>\n",
       "      <td>GitTables_150500</td>\n",
       "      <td>0</td>\n",
       "      <td>price</td>\n",
       "      <td>24</td>\n",
       "      <td>11.11;12.34;13.13;14.0;15.0</td>\n",
       "    </tr>\n",
       "    <tr>\n",
       "      <th>2532</th>\n",
       "      <td>GitTables_150500</td>\n",
       "      <td>1</td>\n",
       "      <td>title</td>\n",
       "      <td>4</td>\n",
       "      <td>Wuthering Heights;Jane Eyre;The Raven;Eleonora...</td>\n",
       "    </tr>\n",
       "    <tr>\n",
       "      <th>2533</th>\n",
       "      <td>GitTables_150500</td>\n",
       "      <td>2</td>\n",
       "      <td>NaN</td>\n",
       "      <td>-1</td>\n",
       "      <td>Wuthering Heights, Emily Brontë's only novel, ...</td>\n",
       "    </tr>\n",
       "    <tr>\n",
       "      <th>2534</th>\n",
       "      <td>GitTables_150500</td>\n",
       "      <td>3</td>\n",
       "      <td>NaN</td>\n",
       "      <td>-1</td>\n",
       "      <td>101;107;150;150;170</td>\n",
       "    </tr>\n",
       "    <tr>\n",
       "      <th>2535</th>\n",
       "      <td>GitTables_150500</td>\n",
       "      <td>4</td>\n",
       "      <td>NaN</td>\n",
       "      <td>-1</td>\n",
       "      <td>12;11;333;555;22</td>\n",
       "    </tr>\n",
       "    <tr>\n",
       "      <th>2537</th>\n",
       "      <td>GitTables_150500</td>\n",
       "      <td>5</td>\n",
       "      <td>NaN</td>\n",
       "      <td>-1</td>\n",
       "      <td>GBP;GBP;USD;USD;EUR</td>\n",
       "    </tr>\n",
       "    <tr>\n",
       "      <th>2538</th>\n",
       "      <td>GitTables_150500</td>\n",
       "      <td>6</td>\n",
       "      <td>NaN</td>\n",
       "      <td>-1</td>\n",
       "      <td>11;11;16;16;13</td>\n",
       "    </tr>\n",
       "    <tr>\n",
       "      <th>2539</th>\n",
       "      <td>GitTables_150500</td>\n",
       "      <td>7</td>\n",
       "      <td>NaN</td>\n",
       "      <td>-1</td>\n",
       "      <td>EN;EN;EN;EN;EN</td>\n",
       "    </tr>\n",
       "  </tbody>\n",
       "</table>\n",
       "</div>"
      ],
      "text/plain": [
       "              table_id  col_idx  class  class_id  \\\n",
       "2536  GitTables_150500        0  price        24   \n",
       "2532  GitTables_150500        1  title         4   \n",
       "2533  GitTables_150500        2    NaN        -1   \n",
       "2534  GitTables_150500        3    NaN        -1   \n",
       "2535  GitTables_150500        4    NaN        -1   \n",
       "2537  GitTables_150500        5    NaN        -1   \n",
       "2538  GitTables_150500        6    NaN        -1   \n",
       "2539  GitTables_150500        7    NaN        -1   \n",
       "\n",
       "                                                   data  \n",
       "2536                        11.11;12.34;13.13;14.0;15.0  \n",
       "2532  Wuthering Heights;Jane Eyre;The Raven;Eleonora...  \n",
       "2533  Wuthering Heights, Emily Brontë's only novel, ...  \n",
       "2534                                101;107;150;150;170  \n",
       "2535                                   12;11;333;555;22  \n",
       "2537                                GBP;GBP;USD;USD;EUR  \n",
       "2538                                     11;11;16;16;13  \n",
       "2539                                     EN;EN;EN;EN;EN  "
      ]
     },
     "execution_count": 322,
     "metadata": {},
     "output_type": "execute_result"
    }
   ],
   "source": [
    "group_df"
   ]
  },
  {
   "cell_type": "code",
   "execution_count": 9,
   "metadata": {},
   "outputs": [
    {
     "ename": "NameError",
     "evalue": "name 'group_df' is not defined",
     "output_type": "error",
     "traceback": [
      "\u001b[0;31m---------------------------------------------------------------------------\u001b[0m",
      "\u001b[0;31mNameError\u001b[0m                                 Traceback (most recent call last)",
      "Input \u001b[0;32mIn [9]\u001b[0m, in \u001b[0;36m<cell line: 2>\u001b[0;34m()\u001b[0m\n\u001b[1;32m      1\u001b[0m \u001b[38;5;66;03m# target_df = pd.concat([group_df.iloc[[0,4,5,6,7]], group_df.iloc[[3]]])\u001b[39;00m\n\u001b[0;32m----> 2\u001b[0m target_df \u001b[38;5;241m=\u001b[39m pd\u001b[38;5;241m.\u001b[39mconcat([\u001b[43mgroup_df\u001b[49m\u001b[38;5;241m.\u001b[39miloc[[\u001b[38;5;241m0\u001b[39m,\u001b[38;5;241m5\u001b[39m]], group_df\u001b[38;5;241m.\u001b[39miloc[[\u001b[38;5;241m1\u001b[39m,\u001b[38;5;241m2\u001b[39m,\u001b[38;5;241m3\u001b[39m,\u001b[38;5;241m4\u001b[39m,\u001b[38;5;241m6\u001b[39m,\u001b[38;5;241m7\u001b[39m]]])\n\u001b[1;32m      3\u001b[0m target_df\u001b[38;5;241m.\u001b[39mcol_idx \u001b[38;5;241m=\u001b[39m \u001b[38;5;28mrange\u001b[39m(\u001b[38;5;28mlen\u001b[39m(target_df))\n\u001b[1;32m      4\u001b[0m \u001b[38;5;66;03m# target_dataset = SingleColDataset(group_df, target_col_idx=group_df[group_df[\"class\"] ==\"price\"].index.item(), tokenizer=tokenizer)\u001b[39;00m\n",
      "\u001b[0;31mNameError\u001b[0m: name 'group_df' is not defined"
     ]
    }
   ],
   "source": [
    "# target_df = pd.concat([group_df.iloc[[0,4,5,6,7]], group_df.iloc[[3]]])\n",
    "target_df = pd.concat([group_df.iloc[[0,5]], group_df.iloc[[1,2,3,4,6,7]]])\n",
    "target_df.col_idx = range(len(target_df))\n",
    "# target_dataset = SingleColDataset(group_df, target_col_idx=group_df[group_df[\"class\"] ==\"price\"].index.item(), tokenizer=tokenizer)\n",
    "target_dataset = SingleColDataset(target_df, target_col_idx=target_df[target_df[\"class\"] ==\"price\"].index.item(), tokenizer=tokenizer)\n",
    "padder = collate_fn(tokenizer.pad_token_id)\n",
    "tg_dataloader = DataLoader(target_dataset,\n",
    "                            batch_size=batch_size,\n",
    "                            #   collate_fn=collate_fn)\n",
    "                            collate_fn=padder)\n",
    "for batch in tg_dataloader:\n",
    "    print(tokenizer.decode(batch[\"data\"].reshape(-1)))"
   ]
  },
  {
   "cell_type": "code",
   "execution_count": 319,
   "metadata": {},
   "outputs": [
    {
     "name": "stderr",
     "output_type": "stream",
     "text": [
      "/tmp/ipykernel_1864547/2759161893.py:1: FutureWarning: You are using `torch.load` with `weights_only=False` (the current default value), which uses the default pickle module implicitly. It is possible to construct malicious pickle data which will execute arbitrary code during unpickling (See https://github.com/pytorch/pytorch/blob/main/SECURITY.md#untrusted-models for more details). In a future release, the default value for `weights_only` will be flipped to `True`. This limits the functions that could be executed during unpickling. Arbitrary objects will no longer be allowed to be loaded via this mode unless they are explicitly allowlisted by the user via `torch.serialization.add_safe_globals`. We recommend you start setting `weights_only=True` for any use case where you don't have full control of the loaded file. Please open an issue on GitHub for any issues related to this experimental feature.\n",
      "  model.load_state_dict(torch.load(f\"/data/zhihao/TU/Watchog/outputs/gt-semtab22-dbpedia-all{cv}/bert-base-uncased-fromscratch-semi1-pool@v0-context@v1-max_num_col@8-poolv0-max_cols8-randFalse-bs16-ml64-ne50-do0.1_best_f1_micro.pt\", map_location=device))\n"
     ]
    }
   ],
   "source": [
    "model.load_state_dict(torch.load(f\"/data/zhihao/TU/Watchog/outputs/gt-semtab22-dbpedia-all{cv}/bert-base-uncased-fromscratch-semi1-pool@v0-context@v1-max_num_col@8-poolv0-max_cols8-randFalse-bs16-ml64-ne50-do0.1_best_f1_micro.pt\", map_location=device))\n",
    "model.eval()\n",
    "model = model.to(device)\n",
    "with torch.no_grad():\n",
    "    for batch_idx, batch in enumerate(tg_dataloader):\n",
    "        batch[\"data\"] = batch[\"data\"].to(device)\n",
    "        cls_indexes = torch.nonzero(\n",
    "                batch[\"data\"].T == tokenizer.cls_token_id)\n",
    "        logits = model(batch[\"data\"].T, cls_indexes=cls_indexes).cpu()\n",
    "        label = batch[\"label\"].T.cpu()"
   ]
  },
  {
   "cell_type": "code",
   "execution_count": null,
   "metadata": {},
   "outputs": [],
   "source": []
  },
  {
   "cell_type": "code",
   "execution_count": 320,
   "metadata": {},
   "outputs": [
    {
     "data": {
      "text/plain": [
       "array(['currency', 'company', 'abbreviation', 'source', 'publisher'],\n",
       "      dtype='<U14')"
      ]
     },
     "execution_count": 320,
     "metadata": {},
     "output_type": "execute_result"
    }
   ],
   "source": [
    "types[logits.argsort( descending=True)[ :5].numpy()]"
   ]
  },
  {
   "cell_type": "code",
   "execution_count": 272,
   "metadata": {},
   "outputs": [
    {
     "name": "stdout",
     "output_type": "stream",
     "text": [
      "1 101;107;150;150;170\n",
      "[CLS] 11. 11 ; 12. 34 ; 13. 13 ; 14. 0 ; 15. 0 [SEP] 101 ; 107 ; 150 ; 150 ; 170\n"
     ]
    },
    {
     "name": "stderr",
     "output_type": "stream",
     "text": [
      "/home/zhihao/jupyterprojects/jupyter/lib/python3.8/site-packages/pandas/util/_decorators.py:311: SettingWithCopyWarning: \n",
      "A value is trying to be set on a copy of a slice from a DataFrame\n",
      "\n",
      "See the caveats in the documentation: https://pandas.pydata.org/pandas-docs/stable/user_guide/indexing.html#returning-a-view-versus-a-copy\n",
      "  return func(*args, **kwargs)\n",
      "/tmp/ipykernel_1864547/146298671.py:14: FutureWarning: You are using `torch.load` with `weights_only=False` (the current default value), which uses the default pickle module implicitly. It is possible to construct malicious pickle data which will execute arbitrary code during unpickling (See https://github.com/pytorch/pytorch/blob/main/SECURITY.md#untrusted-models for more details). In a future release, the default value for `weights_only` will be flipped to `True`. This limits the functions that could be executed during unpickling. Arbitrary objects will no longer be allowed to be loaded via this mode unless they are explicitly allowlisted by the user via `torch.serialization.add_safe_globals`. We recommend you start setting `weights_only=True` for any use case where you don't have full control of the loaded file. Please open an issue on GitHub for any issues related to this experimental feature.\n",
      "  model.load_state_dict(torch.load(f\"/data/zhihao/TU/Watchog/outputs/gt-semtab22-dbpedia-all{cv}/bert-base-uncased-fromscratch-semi1-pool@v0-context@v1-max_num_col@8-poolv0-max_cols8-randFalse-bs16-ml64-ne50-do0.1_best_f1_micro.pt\", map_location=device))\n"
     ]
    },
    {
     "name": "stdout",
     "output_type": "stream",
     "text": [
      "['price' 'code' 'id' 'status' 'name']\n",
      "************************************\n",
      "2 12;11;333;555;22\n",
      "[CLS] 11. 11 ; 12. 34 ; 13. 13 ; 14. 0 ; 15. 0 [SEP] 12 ; 11 ; 333 ; 555 ; 22\n",
      "['code' 'price' 'status' 'name' 'id']\n",
      "************************************\n",
      "3 GBP;GBP;USD;USD;EUR\n",
      "[CLS] 11. 11 ; 12. 34 ; 13. 13 ; 14. 0 ; 15. 0 [SEP] gbp ; gbp ; usd ; usd ; eur\n",
      "['currency' 'price' 'name' 'note' 'location']\n",
      "************************************\n",
      "4 11;11;16;16;13\n",
      "[CLS] 11. 11 ; 12. 34 ; 13. 13 ; 14. 0 ; 15. 0 [SEP] 11 ; 11 ; 16 ; 16 ; 13\n",
      "['code' 'id' 'price' 'status' 'value']\n",
      "************************************\n",
      "5 EN;EN;EN;EN;EN\n",
      "[CLS] 11. 11 ; 12. 34 ; 13. 13 ; 14. 0 ; 15. 0 [SEP] en ; en ; en ; en ; en\n",
      "['code' 'id' 'price' 'date' 'time']\n",
      "************************************\n",
      "6 Wuthering Heights, Emily Brontë's only novel, was published in 1847 under the pseudonym \"Ellis Bell\". It was written between October 1845 and June 1846. Wuthering Heights and Anne Brontë's Agnes Grey were accepted by publisher Thomas Newby before the success of their sister Charlotte's novel Jane Eyre. After Emily's death, Charlotte edited the manuscript of Wuthering Heights and arranged for the edited version to be published as a posthumous second edition in 1850.;Jane Eyre /ɛər/ (originally published as Jane Eyre: An Autobiography) is a novel by English writer Charlotte Brontë, published under the pen name \"Currer Bell\", on 16 October 1847, by Smith, Elder & Co. of London. The first American edition was published the following year by Harper & Brothers of New York. Primarily a bildungsroman, Jane Eyre follows the experiences of its eponymous heroine, including her growth to adulthood and her love for Mr. Rochester, the brooding master of Thornfield Hall. The novel revolutionised prose fiction in that the focus on Jane's moral and spiritual development is told through an intimate, first-person narrative, where actions and events are coloured by a psychological intensity. The book contains elements of social criticism, with a strong sense of Christian morality at its core and is considered by many to be ahead of its time because of Jane's individualistic character and how the novel approaches the topics of class, sexuality, religion and feminism.;\"The Raven\" is a narrative poem by American writer Edgar Allan Poe. First published in January 1845, the poem is often noted for its musicality, stylized language, and supernatural atmosphere. It tells of a talking raven's mysterious visit to a distraught lover, tracing the man's slow fall into madness. The lover, often identified as being a student, is lamenting the loss of his love, Lenore. Sitting on a bust of Pallas, the raven seems to further distress the protagonist with its constant repetition of the word \"Nevermore\". The poem makes use of folk, mythological, religious, and classical references.;\"Eleonora\" is a short story by Edgar Allan Poe, first published in 1842 in Philadelphia in the literary annual The Gift. It is often regarded as somewhat autobiographical and has a relatively \"happy\" ending.;Catweazle is a British fantasy television series, starring Geoffrey Bayldon in the title role, and created by Richard Carpenter for London Weekend Television. The first series, produced and directed by Quentin Lawrence, was screened in the UK on ITV in 1970. The second series, directed by David Reid and David Lane, was shown in 1971. Each series had thirteen episodes, most but not all written by Carpenter, who also published two books based on the scripts.\n",
      "[CLS] 11. 11 ; 12. 34 ; 13. 13 ; 14. 0 ; 15. 0 [SEP] wuthering heights, emily bronte's only novel, was published in 1847 under the pseudonym \" ellis bell \". it was written between october 1845 and june 1846. wuthering heights and anne bronte's agnes grey were accepted by publisher thomas newby before the success of their sister charlotte's\n",
      "['price' 'cost' 'duration' 'number' 'width']\n",
      "************************************\n",
      "7 Wuthering Heights;Jane Eyre;The Raven;Eleonora;Catweazle\n",
      "[CLS] 11. 11 ; 12. 34 ; 13. 13 ; 14. 0 ; 15. 0 [SEP] wuthering heights ; jane eyre ; the raven ; eleonora ; catweazle\n",
      "['price' 'cost' 'code' 'number' 'value']\n",
      "************************************\n"
     ]
    }
   ],
   "source": [
    "for i in range(1, len(group_df)):\n",
    "    print(i, group_df.iloc[i][\"data\"])\n",
    "    target_df = group_df.iloc[[0,i]]\n",
    "    # target_dataset = SingleColDataset(group_df, target_col_idx=group_df[group_df[\"class\"] ==\"price\"].index.item(), tokenizer=tokenizer)\n",
    "    target_dataset = SingleColDataset(target_df, target_col_idx=target_df[target_df[\"class\"] ==\"price\"].index.item(), tokenizer=tokenizer)\n",
    "    padder = collate_fn(tokenizer.pad_token_id)\n",
    "    tg_dataloader = DataLoader(target_dataset,\n",
    "                                batch_size=batch_size,\n",
    "                                #   collate_fn=collate_fn)\n",
    "                                collate_fn=padder)\n",
    "    for batch in tg_dataloader:\n",
    "        print(tokenizer.decode(batch[\"data\"].reshape(-1)))\n",
    "\n",
    "    model.load_state_dict(torch.load(f\"/data/zhihao/TU/Watchog/outputs/gt-semtab22-dbpedia-all{cv}/bert-base-uncased-fromscratch-semi1-pool@v0-context@v1-max_num_col@8-poolv0-max_cols8-randFalse-bs16-ml64-ne50-do0.1_best_f1_micro.pt\", map_location=device))\n",
    "    model.eval()\n",
    "    model = model.to(device)\n",
    "    with torch.no_grad():\n",
    "        for batch_idx, batch in enumerate(tg_dataloader):\n",
    "            batch[\"data\"] = batch[\"data\"].to(device)\n",
    "            cls_indexes = torch.nonzero(\n",
    "                    batch[\"data\"].T == tokenizer.cls_token_id)\n",
    "            logits = model(batch[\"data\"].T, cls_indexes=cls_indexes).cpu()\n",
    "            label = batch[\"label\"].T.cpu()\n",
    "\n",
    "    print(types[logits.argsort( descending=True)[ :5].numpy()])\n",
    "    print('************************************')"
   ]
  },
  {
   "cell_type": "code",
   "execution_count": 323,
   "metadata": {},
   "outputs": [
    {
     "data": {
      "text/plain": [
       "array([7, 0, 4, 2, 3, 6, 5, 1])"
      ]
     },
     "execution_count": 323,
     "metadata": {},
     "output_type": "execute_result"
    }
   ],
   "source": [
    "np.random.permutation(8)"
   ]
  },
  {
   "cell_type": "code",
   "execution_count": 328,
   "metadata": {},
   "outputs": [
    {
     "data": {
      "text/html": [
       "<div>\n",
       "<style scoped>\n",
       "    .dataframe tbody tr th:only-of-type {\n",
       "        vertical-align: middle;\n",
       "    }\n",
       "\n",
       "    .dataframe tbody tr th {\n",
       "        vertical-align: top;\n",
       "    }\n",
       "\n",
       "    .dataframe thead th {\n",
       "        text-align: right;\n",
       "    }\n",
       "</style>\n",
       "<table border=\"1\" class=\"dataframe\">\n",
       "  <thead>\n",
       "    <tr style=\"text-align: right;\">\n",
       "      <th></th>\n",
       "      <th>table_id</th>\n",
       "      <th>col_idx</th>\n",
       "      <th>class</th>\n",
       "      <th>class_id</th>\n",
       "      <th>data</th>\n",
       "    </tr>\n",
       "  </thead>\n",
       "  <tbody>\n",
       "    <tr>\n",
       "      <th>2536</th>\n",
       "      <td>GitTables_150500</td>\n",
       "      <td>GitTables_150500</td>\n",
       "      <td>price</td>\n",
       "      <td>24</td>\n",
       "      <td>11.11;12.34;13.13;14.0;15.0</td>\n",
       "    </tr>\n",
       "    <tr>\n",
       "      <th>2532</th>\n",
       "      <td>GitTables_150500</td>\n",
       "      <td>GitTables_150500</td>\n",
       "      <td>title</td>\n",
       "      <td>4</td>\n",
       "      <td>Wuthering Heights;Jane Eyre;The Raven;Eleonora...</td>\n",
       "    </tr>\n",
       "    <tr>\n",
       "      <th>2533</th>\n",
       "      <td>GitTables_150500</td>\n",
       "      <td>GitTables_150500</td>\n",
       "      <td>NaN</td>\n",
       "      <td>-1</td>\n",
       "      <td>Wuthering Heights, Emily Brontë's only novel, ...</td>\n",
       "    </tr>\n",
       "    <tr>\n",
       "      <th>2534</th>\n",
       "      <td>GitTables_150500</td>\n",
       "      <td>GitTables_150500</td>\n",
       "      <td>NaN</td>\n",
       "      <td>-1</td>\n",
       "      <td>101;107;150;150;170</td>\n",
       "    </tr>\n",
       "    <tr>\n",
       "      <th>2535</th>\n",
       "      <td>GitTables_150500</td>\n",
       "      <td>GitTables_150500</td>\n",
       "      <td>NaN</td>\n",
       "      <td>-1</td>\n",
       "      <td>12;11;333;555;22</td>\n",
       "    </tr>\n",
       "    <tr>\n",
       "      <th>2537</th>\n",
       "      <td>GitTables_150500</td>\n",
       "      <td>GitTables_150500</td>\n",
       "      <td>NaN</td>\n",
       "      <td>-1</td>\n",
       "      <td>GBP;GBP;USD;USD;EUR</td>\n",
       "    </tr>\n",
       "    <tr>\n",
       "      <th>2538</th>\n",
       "      <td>GitTables_150500</td>\n",
       "      <td>GitTables_150500</td>\n",
       "      <td>NaN</td>\n",
       "      <td>-1</td>\n",
       "      <td>11;11;16;16;13</td>\n",
       "    </tr>\n",
       "    <tr>\n",
       "      <th>2539</th>\n",
       "      <td>GitTables_150500</td>\n",
       "      <td>GitTables_150500</td>\n",
       "      <td>NaN</td>\n",
       "      <td>-1</td>\n",
       "      <td>EN;EN;EN;EN;EN</td>\n",
       "    </tr>\n",
       "  </tbody>\n",
       "</table>\n",
       "</div>"
      ],
      "text/plain": [
       "              table_id           col_idx  class  class_id  \\\n",
       "2536  GitTables_150500  GitTables_150500  price        24   \n",
       "2532  GitTables_150500  GitTables_150500  title         4   \n",
       "2533  GitTables_150500  GitTables_150500    NaN        -1   \n",
       "2534  GitTables_150500  GitTables_150500    NaN        -1   \n",
       "2535  GitTables_150500  GitTables_150500    NaN        -1   \n",
       "2537  GitTables_150500  GitTables_150500    NaN        -1   \n",
       "2538  GitTables_150500  GitTables_150500    NaN        -1   \n",
       "2539  GitTables_150500  GitTables_150500    NaN        -1   \n",
       "\n",
       "                                                   data  \n",
       "2536                        11.11;12.34;13.13;14.0;15.0  \n",
       "2532  Wuthering Heights;Jane Eyre;The Raven;Eleonora...  \n",
       "2533  Wuthering Heights, Emily Brontë's only novel, ...  \n",
       "2534                                101;107;150;150;170  \n",
       "2535                                   12;11;333;555;22  \n",
       "2537                                GBP;GBP;USD;USD;EUR  \n",
       "2538                                     11;11;16;16;13  \n",
       "2539                                     EN;EN;EN;EN;EN  "
      ]
     },
     "execution_count": 328,
     "metadata": {},
     "output_type": "execute_result"
    }
   ],
   "source": [
    "target_df"
   ]
  },
  {
   "cell_type": "code",
   "execution_count": 6,
   "metadata": {},
   "outputs": [],
   "source": [
    "import fasttext as ft\n",
    "from sklearn.metrics.pairwise import cosine_similarity\n",
    "ft_model = ft.load_model('/data/zhihao/TU/crawl-300d-2M-subword.bin')"
   ]
  },
  {
   "cell_type": "code",
   "execution_count": 358,
   "metadata": {},
   "outputs": [],
   "source": [
    "target = group_df[\"data\"].values\n",
    "target_text = \" \".join(target)\n",
    "target_embs = ft_model.get_sentence_vector(target_text)"
   ]
  },
  {
   "cell_type": "code",
   "execution_count": 355,
   "metadata": {},
   "outputs": [
    {
     "data": {
      "text/html": [
       "<div>\n",
       "<style scoped>\n",
       "    .dataframe tbody tr th:only-of-type {\n",
       "        vertical-align: middle;\n",
       "    }\n",
       "\n",
       "    .dataframe tbody tr th {\n",
       "        vertical-align: top;\n",
       "    }\n",
       "\n",
       "    .dataframe thead th {\n",
       "        text-align: right;\n",
       "    }\n",
       "</style>\n",
       "<table border=\"1\" class=\"dataframe\">\n",
       "  <thead>\n",
       "    <tr style=\"text-align: right;\">\n",
       "      <th></th>\n",
       "      <th>table_id</th>\n",
       "      <th>col_idx</th>\n",
       "      <th>class</th>\n",
       "      <th>class_id</th>\n",
       "      <th>data</th>\n",
       "    </tr>\n",
       "  </thead>\n",
       "  <tbody>\n",
       "    <tr>\n",
       "      <th>9046</th>\n",
       "      <td>GitTables_99936</td>\n",
       "      <td>0</td>\n",
       "      <td>name</td>\n",
       "      <td>1</td>\n",
       "      <td>Core i9-7980XE;Core i9-7900X;Core i7-8700K;Thr...</td>\n",
       "    </tr>\n",
       "    <tr>\n",
       "      <th>9047</th>\n",
       "      <td>GitTables_99936</td>\n",
       "      <td>1</td>\n",
       "      <td>NaN</td>\n",
       "      <td>-1</td>\n",
       "      <td>FCLGA2066;FCLGA2066;FCLGA1151;sTR4;AM4;FCLGA11...</td>\n",
       "    </tr>\n",
       "    <tr>\n",
       "      <th>9048</th>\n",
       "      <td>GitTables_99936</td>\n",
       "      <td>2</td>\n",
       "      <td>NaN</td>\n",
       "      <td>-1</td>\n",
       "      <td>165;140;95;180;95;95;95;95;91;91;60;65;51;54</td>\n",
       "    </tr>\n",
       "    <tr>\n",
       "      <th>9049</th>\n",
       "      <td>GitTables_99936</td>\n",
       "      <td>3</td>\n",
       "      <td>NaN</td>\n",
       "      <td>-1</td>\n",
       "      <td>27780;21998;15965;22061;15400;12791;12041;1322...</td>\n",
       "    </tr>\n",
       "    <tr>\n",
       "      <th>9050</th>\n",
       "      <td>GitTables_99936</td>\n",
       "      <td>4</td>\n",
       "      <td>NaN</td>\n",
       "      <td>-1</td>\n",
       "      <td>2340;2469;2703;1996;1967;2519;2583;1976;2341;2...</td>\n",
       "    </tr>\n",
       "    <tr>\n",
       "      <th>9051</th>\n",
       "      <td>GitTables_99936</td>\n",
       "      <td>5</td>\n",
       "      <td>NaN</td>\n",
       "      <td>-1</td>\n",
       "      <td>11/09/18;11/09/18;11/09/18;11/09/18;11/09/18;1...</td>\n",
       "    </tr>\n",
       "    <tr>\n",
       "      <th>9052</th>\n",
       "      <td>GitTables_99936</td>\n",
       "      <td>6</td>\n",
       "      <td>price</td>\n",
       "      <td>24</td>\n",
       "      <td>2005.5;929.99;358.99;649.99;248.99;253.11;354....</td>\n",
       "    </tr>\n",
       "    <tr>\n",
       "      <th>9053</th>\n",
       "      <td>GitTables_99936</td>\n",
       "      <td>7</td>\n",
       "      <td>NaN</td>\n",
       "      <td>-1</td>\n",
       "      <td>11/15/18;11/15/18;11/15/18;11/15/18;11/15/18;1...</td>\n",
       "    </tr>\n",
       "    <tr>\n",
       "      <th>9054</th>\n",
       "      <td>GitTables_99936</td>\n",
       "      <td>8</td>\n",
       "      <td>NaN</td>\n",
       "      <td>-1</td>\n",
       "      <td>https://www.cpubenchmark.net/cpu.php?id=3092;h...</td>\n",
       "    </tr>\n",
       "  </tbody>\n",
       "</table>\n",
       "</div>"
      ],
      "text/plain": [
       "             table_id  col_idx  class  class_id  \\\n",
       "9046  GitTables_99936        0   name         1   \n",
       "9047  GitTables_99936        1    NaN        -1   \n",
       "9048  GitTables_99936        2    NaN        -1   \n",
       "9049  GitTables_99936        3    NaN        -1   \n",
       "9050  GitTables_99936        4    NaN        -1   \n",
       "9051  GitTables_99936        5    NaN        -1   \n",
       "9052  GitTables_99936        6  price        24   \n",
       "9053  GitTables_99936        7    NaN        -1   \n",
       "9054  GitTables_99936        8    NaN        -1   \n",
       "\n",
       "                                                   data  \n",
       "9046  Core i9-7980XE;Core i9-7900X;Core i7-8700K;Thr...  \n",
       "9047  FCLGA2066;FCLGA2066;FCLGA1151;sTR4;AM4;FCLGA11...  \n",
       "9048       165;140;95;180;95;95;95;95;91;91;60;65;51;54  \n",
       "9049  27780;21998;15965;22061;15400;12791;12041;1322...  \n",
       "9050  2340;2469;2703;1996;1967;2519;2583;1976;2341;2...  \n",
       "9051  11/09/18;11/09/18;11/09/18;11/09/18;11/09/18;1...  \n",
       "9052  2005.5;929.99;358.99;649.99;248.99;253.11;354....  \n",
       "9053  11/15/18;11/15/18;11/15/18;11/15/18;11/15/18;1...  \n",
       "9054  https://www.cpubenchmark.net/cpu.php?id=3092;h...  "
      ]
     },
     "execution_count": 355,
     "metadata": {},
     "output_type": "execute_result"
    }
   ],
   "source": [
    "group_df"
   ]
  },
  {
   "cell_type": "code",
   "execution_count": 377,
   "metadata": {},
   "outputs": [
    {
     "name": "stdout",
     "output_type": "stream",
     "text": [
      "0.6642857142857141\n",
      "================================\n",
      "name [[0.9746868]] ||      class                                     data\n",
      "422  score  69.4737;57.8512;49.1667;45.3608;26.3158\n",
      "    class                                               data\n",
      "416   NaN                      19607;19607;19607;19607;19607\n",
      "417   NaN            1148206;1148208;1148209;1148207;1148210\n",
      "418   NaN  R3.1 - Predicción y Diagnóstico médico mediant...\n",
      "419   NaN                                     65;69;58;43;24\n",
      "420   NaN                                     28;50;60;52;69\n",
      "421   NaN                                      8;11;10;10;15\n",
      "423   NaN                      False;False;False;False;False\n",
      "424   NaN            6143730;6143730;6143730;6143730;6143730\n",
      "425   NaN  2020-10-26 16:06:40 UTC;2020-10-26 16:06:40 UT...\n",
      "426   NaN  2021-01-07 17:53:13 UTC;2021-01-07 17:53:13 UT...\n",
      "427   NaN                           True;True;True;True;True\n",
      "428   NaN                                     74;77;83;74;75\n",
      "429   NaN                                     68;89;84;75;67\n",
      "================================\n",
      "name [[0.9746868]] ||     class                                               data\n",
      "586  name  Name;HD Graphics;HD Graphics;HD Graphics;HD Gr...\n",
      "    class                                               data\n",
      "587   NaN  Year released;2010;2010;2010;2010;2010;2010;20...\n",
      "588   NaN  Market;Desktop;Desktop;Desktop;Desktop;Desktop...\n",
      "589   NaN  Code name;Ironlake (Clarkdale);Ironlake (Clark...\n",
      "590   NaN  Model;Celeron G1101;Core i3-5x0;Core i5-6x0;Co...\n",
      "591   NaN  Device ID;0042;0042;0042;0042;0042;0042;0046;0...\n",
      "592   NaN  Execution units;12;12;12;12;12;12;12;12;12;12;...\n",
      "593   NaN  Core clock (MHz);533;533;733;733;733;900;166–5...\n",
      "594   NaN  DVMT (MB);1720;1720;1720;1720;1720;1720;1720;1...\n",
      "595   NaN  Bandwidth (GB/s);17;17;21.3;21.3;21.3;21.3;12....\n",
      "596   NaN  Direct3D;10.1 FL10_0;10.1 FL10_0;10.1 FL10_0;1...\n",
      "597   NaN  OpenGL;2.1 ES 2.0;2.1 ES 2.0;2.1 ES 2.0;2.1 ES...\n",
      "598   NaN  Intel Clear Video HD;No;No;Yes;Yes;Yes;Yes;No;...\n",
      "================================\n",
      "name [[0.9746868]] ||      class                                               data\n",
      "599     id  1;2;3;4;5;6;7;8;9;10;11;12;13;14;15;16;17;18;1...\n",
      "600  title  Agent Of Perfection;Savior Of The End;Turtles ...\n",
      "    class                                               data\n",
      "601   NaN  1;1;1;1;1;1;1;1;1;1;2;2;2;2;2;2;2;2;2;2;3;3;3;...\n",
      "602   NaN  1901;1903;1910;1912;1913;1914;1915;1914;1915;1...\n",
      "603   NaN  1;2;3;4;5;3;6;7;4;8;9;10;11;12;3;1;13;3;14;15;...\n",
      "604   NaN  1;2;3;4;2;5;4;1;1;3;3;6;1;1;2;1;6;4;6;1;1;3;4;...\n",
      "================================\n",
      "name [[0.9746868]] ||     class                                               data\n",
      "649  name  BMW 1 Series 116d;Nissan Latio 1.5A;Toyota Cor...\n",
      "    class                                               data\n",
      "650   NaN             $89,800;$26,888;$3,888;$68,800;$24,800\n",
      "651   NaN  $10,990 /yr View models with similar depreciat...\n",
      "652   NaN  28-Jun-2016 (7yrs 8mths 23days COE left);21-Ap...\n",
      "653   NaN                           2016;2010;2000;2015;2007\n",
      "654   NaN  48,943 km (21.6k /yr);140,000 km (18.8k /yr);-...\n",
      "655   NaN                         Auto;Auto;Manual;Auto;Auto\n",
      "656   NaN       1,496 cc;1,498 cc;1,332 cc;1,496 cc;1,499 cc\n",
      "657   NaN     $1,182 /yr;$684 /yr;$879 /yr;$682 /yr;$684 /yr\n",
      "658   NaN  85.0 kW (113 bhp) View specs of the BMW 1 Seri...\n",
      "659   NaN                1,350 kg;1,110 kg;1,190 kg;1,313 kg\n",
      "660   NaN  BMW 1.5L Diesel Twin Power Turbo Pushing 116bh...\n",
      "661   NaN  Latest BMW Hatchback In Town! Sporty Design Wi...\n",
      "662   NaN            $23,325;$17,349;$15,171;$20,481;$16,555\n",
      "663   NaN             $9,655;$17,349;$21,240;$10,674;$13,212\n",
      "664   NaN  $49,934 as of today (change);$21,252 as of tod...\n",
      "665   NaN  Hatchback;Mid-Sized Sedan;Mid-Sized Sedan;SUV;...\n",
      "666   NaN  PARF Car;PARF Car, Premium Ad Car;COE Car;PARF...\n",
      "667   NaN  https://www.sgcarmart.com/used_cars/info.php?I...\n",
      "668   NaN  Fuel type:Diesel (Euro 5 Engine and Above),No....\n",
      "================================\n",
      "name [[0.9746868]] ||         class                                               data\n",
      "908      name  E-Commerce Data Analyst;Data Analyst/Reporting...\n",
      "909   company   iSeatz; Jetfuel Agency; Mars; Delgado Communi...\n",
      "913  location  New Orleans, LA;New Orleans, LA;New Orleans, L...\n",
      "    class                                               data\n",
      "910   NaN                   LA;LA;LA;LA;LA;LA;LA;LA;LA;LA;LA\n",
      "911   NaN  New Orleans;New Orleans;New Orleans;New Orlean...\n",
      "912   NaN  $54k-$79k;$53k-$82k;$36k-$48k;$83k-$150k;$70k-...\n",
      "914   NaN  https://www.glassdoor.com/partner/jobListing.h...\n",
      "================================\n",
      "name [[0.9746868]] ||           class                                               data\n",
      "1272         id                                    1;2;3;4;5;6;7;8\n",
      "1273       name  SATIKAS;Predictive System, Belgium;Automated P...\n",
      "1275       type  Auditing and logging;Other;Process automation;...\n",
      "1283  startDate            2018;2014;2016;2018;2019;2014;2012;2019\n",
      "1285    endDate                                      2020.0;2019.0\n",
      "     class                                               data\n",
      "1274   NaN  Service;Service;Service;Service;Service;Servic...\n",
      "1276   NaN  https://kosmos.ut.ee/en/news/information-syste...\n",
      "1277   NaN  In the Estonian Agricultural Registers and Inf...\n",
      "1278   NaN  National;National;Local;National;Local;Nationa...\n",
      "1279   NaN  Estonia;Belgium;Sweden;Latvia;Sweden;Netherlan...\n",
      "1280   NaN  Estonia;Belgium;Sweden;Latvia;Sweden;Netherlan...\n",
      "1281   NaN  Estonian Agricultural Registers and Informatio...\n",
      "1282   NaN  Governmental;Governmental;Governmental;Governm...\n",
      "1284   NaN                      Yes;Yes;Yes;Yes;Yes;No;No;Yes\n",
      "1286   NaN  Agriculture;Health;Social Protection;Economic ...\n",
      "1287   NaN  Control and monitoring;Control and monitoring;...\n",
      "1288   NaN                           No;No;No;No;No;No;Yes;No\n",
      "1289   NaN                            No;No;No;No;No;No;No;No\n",
      "1290   NaN  Artificial Intelligence;Artificial Intelligenc...\n",
      "1291   NaN  In production;In production;In production;In p...\n",
      "1292   NaN  Unknown;Unknown;Unknown;Unknown;Unknown;Unknow...\n",
      "================================\n",
      "name [[0.9746868]] ||      class                                               data\n",
      "1307  city  Cat4/5;Bountiful;Racing;Credit;Bikers;Bountifu...\n",
      "     class                                               data\n",
      "1304   NaN  05/09/2014;Place,License;1,377762,Michael,HAWL...\n",
      "1305   NaN  Criterium;Well;Lake;cycling;Ogden,UT,00:00.0,A...\n",
      "1306   NaN  Men;p/b;City,UT,00:00.0,Cicada;First;City,UT,0...\n",
      "1308   NaN  Bicycl;Inc.;Union;Edge;Bicycl;Bicycl;Rois;7;7;...\n",
      "1309   NaN  Cyc;Every;40-99;Bicycl;PLAN7;Bicycl;RACING;PLA...\n",
      "1310   NaN                                         Kid;Mark;2\n",
      "1311   NaN                                         a;Mi;Recov\n",
      "1312   NaN                                                Bik\n",
      "================================\n",
      "name [[0.9746868]] ||      class                                               data\n",
      "1426  type  http://dbpedia.org/resource/Smartphone;http://...\n",
      "     class                                               data\n",
      "1425   NaN  http://dbpedia.org/resource/Android_(operating...\n",
      "1427   NaN  http://dbpedia.org/resource/Cherry_Mobile;http...\n",
      "1428   NaN  680639205;683575813;683932446;655367104;683895...\n",
      "1429   NaN  47790772;47959180;47768517;45699734;48004028;4...\n",
      "1430   NaN  http://cherrymobile.com.ph/flare-series;http:/...\n",
      "1431   NaN  http://dbpedia.org/resource/Cherry_Mobile;http...\n",
      "1432   NaN  http://dbpedia.org/resource/List_of_Cherry_Mob...\n",
      "1433   NaN  Cherry Mobile Flare;Huawei Watch;IPad Mini 4;I...\n",
      "================================\n",
      "name [[0.9746868]] ||       class                                               data\n",
      "1655  title  Historically Black Colleges and University stu...\n",
      "     class                                               data\n",
      "1653   NaN  dimensions;dimensions;dimensions;dimensions;di...\n",
      "1654   NaN  10.1002/pits.20402;10.1371/journal.pone.015812...\n",
      "1656   NaN  https://onlinelibrary.wiley.com/doi/abs/10.100...\n",
      "1657   NaN  NSF Survey of Earned Doctorates;NSF Survey of ...\n",
      "1658   NaN  dataset-370, dataset-371;dataset-371, dataset-...\n",
      "1659   NaN    1;1;1;1;0;1;0;0;1;0;1;0;1;1;1;1;0;1;1;0;1;0;1;1\n",
      "1660   NaN  https://onlinelibrary.wiley.com/doi/epdf/10.10...\n",
      "1661   NaN  general announcement doc - not research public...\n",
      "================================\n",
      "name [[0.9746868]] ||             class                                               data\n",
      "1877        value  CR1220;0.1uF;47pF;47pF;0.1uF;10uF;0.1uF;10uF;0...\n",
      "1880  description  320170000;CAPACITOR, European symbol;CAPACITOR...\n",
      "     class                                               data\n",
      "1875   NaN  x;x;x;x;x;x;x;x;x;x;x;x;x;x;x;x;x;x;x;x;x;x;x;...\n",
      "1876   NaN  BAT51;C1;C2;C3;C4;C5;C6;C7;C8;C31;C32;C33;C34;...\n",
      "1878   NaN  SMD-BATTERY-CELL-HOLDER-PLASTIC;C-EUC0603K;C-E...\n",
      "1879   NaN  BAT2P-SMD-16.4-CR1220;C0603K;C0603K;C0603K;C06...\n",
      "1881   NaN                                                  -\n",
      "1882   NaN                                                  +\n",
      "1883   NaN                                 ADP2108AUJZ-3.3-R7\n",
      "1884   NaN                                          2112606.0\n",
      "1885   NaN                                            25R1927\n",
      "1886   NaN                                          TSOT-23-5\n",
      "1887   NaN  DIO-12503;DIO-11623;DIO-11623;DIO-11623;DIO-11...\n",
      "1888   NaN                                     Analog Devices\n",
      "1889   NaN                                                  -\n",
      "1890   NaN                                                  +\n",
      "1891   NaN  CR1220;BAT20J;BAT20J;BAT20J;BAT20J;BAT20J;FT23...\n",
      "================================\n",
      "name [[0.9746868]] ||      class                                               data\n",
      "2500  date  2020-06-01;2020-06-01;2020-06-01;2020-06-01;20...\n",
      "     class                                               data\n",
      "2497   NaN  operation_system;operation_system;operation_sy...\n",
      "2498   NaN  MacIntel;MacIntel;MacIntel;MacIntel;web;web;we...\n",
      "2499   NaN  1377780c-6347-49e6-ae52-2e101af8eb2b;79ba5434-...\n",
      "2501   NaN  fb3378719f72471d8b1042fa8ee0d9af;702bddb8060f4...\n",
      "2502   NaN  3B8F33FD56B578C194655C76928AD76E32E59FE76CA8D9...\n",
      "2503   NaN  213.87.136.210;213.87.136.210;213.87.136.210;2...\n",
      "2504   NaN  web;web;web;web;web;web;web;web;web;web;web;we...\n",
      "2505   NaN  2978652933;2978652933;2978652933;4033135209;29...\n",
      "2506   NaN  525980134;525980134;525980134;2180717899;52598...\n",
      "2507   NaN  932319417;932319417;932319417;1387798954;93231...\n",
      "================================\n",
      "name [[0.9746868]] ||       class                                               data\n",
      "3693     id  title_01;title_02;creators_01;responsible_part...\n",
      "3699  notes  Applies only to parties that require Role.;App...\n",
      "     class                                               data\n",
      "3694   NaN  Title;Title;Creators;Party;Party;Party;Party;P...\n",
      "3695   NaN  Title;Title;Creators;Party;Party;Party;Party;P...\n",
      "3696   NaN  ERROR;WARNING;ERROR;ERROR;WARNING;ERROR;ERROR;...\n",
      "3697   NaN  REQUIRED;RECOMMENDED;REQUIRED;REQUIRED;RECOMME...\n",
      "3698   NaN  A dataset <b>Title</b> is required.;The datase...\n",
      "================================\n",
      "name [[0.9746868]] ||       class                                               data\n",
      "4204  title  Continuous Delivery for Machine Learning;Rules...\n",
      "     class                                               data\n",
      "4203   NaN  CD4ML;Rs4ML;MLTD;MSCS;SD4DL;DMP;VML;MLOps;MLAr...\n",
      "4205   NaN  Danilo Sato & ..;Martin Zinkovich;Sculley, Dav...\n",
      "4206   NaN  GL - Tier 1;GL - Tier 1;AL;AL;GL - Tier 3;GL -...\n",
      "4207   NaN  +++;+++;+++;+++;+;+++;+;+/++;+/++;+++;+;+ / ++...\n",
      "4208   NaN                                                -;?\n",
      "4209   NaN  19 September 2019;-;2014;May 2019;19 April 201...\n",
      "4210   NaN  https://martinfowler.com/articles/cd4ml.html;h...\n",
      "================================\n",
      "name [[0.9746868]] ||          class                                               data\n",
      "4281      type  doctoral;doctoral;doctoral;doctoral;doctoral;d...\n",
      "4283  location  Cambridge, UK / Tübingen, Germany;Maryland, US...\n",
      "     class                                               data\n",
      "4280   NaN  Max Planck Doctoral Program in Software System...\n",
      "4282   NaN  https://www.mpi-sws.org/graduate-studies/;http...\n",
      "4284   NaN  machine learning;bioinformatics, molecular evo...\n",
      "4285   NaN  29/10/2018;14/12/2018;03/01/2020;06/11/2019;01...\n",
      "4286   NaN  1) สาขาที่เรียนขึ้นอยู่กับอาจารย์ที่ปรึกษา, 2)...\n",
      "================================\n",
      "name [[0.9746868]] ||           class                                               data\n",
      "4656         id                               1;2;3;4;5;6;7;8;9;10\n",
      "4665  startDate  2016;2016;2016;2016;2017;2016;2016;2016;2017;2016\n",
      "     class                                               data\n",
      "4657   NaN  CITADEL;ENLARGE;Mobile-Age;OpenGovIntelligence...\n",
      "4658   NaN  Co-designed services;Co-designed services;Co-d...\n",
      "4659   NaN  https://cordis.europa.eu/project/id/726755;htt...\n",
      "4660   NaN  Good, reliable public services are vital to pe...\n",
      "4661   NaN  National;National;National;National;National;N...\n",
      "4662   NaN  European Union;European Union;European Union;E...\n",
      "4663   NaN  Technalia;Istituto per la Ricerca Sociale;Univ...\n",
      "4664   NaN  Consortium;Consortium;Consortium;Consortium;Co...\n",
      "4666   NaN                     No;No;No;No;No;No;No;No;Yes;No\n",
      "4667   NaN  2019;2018;2019;2019;2019;2019;2019;2019;2021;2019\n",
      "4668   NaN  General public services;General public service...\n",
      "4669   NaN  Inclusiveness;Inclusiveness;Inclusiveness;Sust...\n",
      "4670   NaN  Unknown;Unknown;Unknown;Unknown;Unknown;Yes;Un...\n",
      "4671   NaN  Unknown;Unknown;Unknown;Unknown;Unknown;Unknow...\n",
      "4672   NaN  Artificial Intelligence;Artificial Intelligenc...\n",
      "4673   NaN  Pilot;Pilot;Pilot;Pilot;Pilot;Pilot;Pilot;Pilo...\n",
      "4674   NaN  Unknown;Unknown;Unknown;Unknown;Unknown;Unknow...\n",
      "================================\n",
      "name [[0.9746868]] ||       class                                               data\n",
      "5144  value  xls.exe;566da873026adafaa7f755254ad50f82;a5e0d...\n",
      "     class                                               data\n",
      "5140   NaN  3c435263-601f-4d38-b058-45777be44fbb;88afb6a1-...\n",
      "5141   NaN  54503;54503;54503;54503;54503;54503;54503;5450...\n",
      "5142   NaN  Payload delivery;Payload delivery;Payload deli...\n",
      "5143   NaN  filename;md5;sha1;sha256;mime-type;imphash;url...\n",
      "5145   NaN  0;1;1;1;0;0;1;1;0;1;1;1;0;0;0;1;1;1;0;0;0;1;1;...\n",
      "5146   NaN  1619763322;1619763322;1619763322;1619763322;16...\n",
      "5147   NaN  name;md5;sha1;sha256;size-in-bytes;entropy;nam...\n",
      "5148   NaN  f8769d57-d94c-4419-8909-cc0e02f76243;f8769d57-...\n",
      "5149   NaN  pe-section;pe-section;pe-section;pe-section;pe...\n",
      "5150   NaN  file;file;file;file;file;file;file;file;file;f...\n",
      "================================\n",
      "name [[0.9746868]] ||      class                                               data\n",
      "5018    id  Operating System;Operating System;Operating Sy...\n",
      "     class                                               data\n",
      "5019   NaN  macOS;Microsoft Windows;Chrome OS;None;10;10.1...\n",
      "5020   NaN  113 (54.3);90 (43.3);3 (1.4);1 (0.5);85 (40.9)...\n",
      "================================\n",
      "name [[0.9746868]] ||      class                                               data\n",
      "5502  time  Trial;Red;City,UT,0:54:10,MiDuole;City,UT,0:55...\n",
      "     class                                               data\n",
      "5500   NaN  06/28/2014;Place,License;1,296523,Brian,Cadman...\n",
      "5501   NaN  Time;City,UT,0:50:03,;Bicycles;George,UT,0:51:...\n",
      "5503   NaN  Men;Rock;Bicycles-Shimano;Men;RACING;Men;Lake;...\n",
      "5504   NaN  Cat;Cat;Cat;City;Cycling;Cycling;Cat;-;(ICE);R...\n",
      "5505   NaN  1/2/3/4/5;1/2/3/4/5;1/2/3/4/5;Cycling;Team;Clu...\n",
      "5506   NaN  Masters;Masters;Masters;(SLCC);Masters;Masters...\n",
      "5507   NaN  35-39;40-44;45-49;50-54;55-59;60-64;65-99;35-9...\n",
      "5508   NaN                                      Subaru;Subaru\n",
      "================================\n",
      "name [[0.9746868]] ||        class                                               data\n",
      "5890  source  /usr/local/bamboo/itsi-demo/local/splunk/var/l...\n",
      "     class                                               data\n",
      "5886   NaN  2015-08-18T16:28:54.695-0700;2015-08-18T16:28:...\n",
      "5887   NaN  127.0.0.1 - admin [18/Aug/2015:16:28:54.695 -0...\n",
      "5888   NaN  _internal;_internal;_internal;_internal;_inter...\n",
      "5889   NaN  apps-demo04.sv.splunk.com;apps-demo04.sv.splun...\n",
      "5891   NaN  splunk_web_access;splunk_app_stream.log;splunk...\n",
      "================================\n",
      "name [[0.9746868]] ||          class                                               data\n",
      "7047  duration  77;38246;17336;52083;29348;27472;56327;41650;6...\n",
      "     class                                               data\n",
      "7039   NaN                               1;2;3;4;5;6;7;8;9;10\n",
      "7040   NaN  mobile Fish;Money Market Account;Canyon HDD;Tu...\n",
      "7041   NaN  Home Loan Account Table Computer;Albania web-r...\n",
      "7042   NaN  http://jadon.org;http://judge.name;https://ger...\n",
      "7043   NaN  Savings Account alarm;Steel zero administratio...\n",
      "7044   NaN  Tasty Metal Bacon;Multi-channelled Licensed;Mo...\n",
      "7045   NaN  2019-09-23T11:48:15;2019-09-23T19:29:17;2019-0...\n",
      "7046   NaN  2019-09-24T05:13:59;2019-09-24T05:32:13;2019-0...\n",
      "7048   NaN  mint green;tan;azure;green;red;cyan;tan;cyan;y...\n",
      "7049   NaN                                2;2;1;2;1;2;2;2;1;1\n",
      "================================\n",
      "name [[0.9746868]] ||       class                                               data\n",
      "7152  price  1250.0;8.0;60.0;40.0;180.0;500.0;150.0;40.0;40...\n",
      "     class                                               data\n",
      "7148   NaN  1;2;3;4;5;6;7;8;9;10;11;12;13;14;15;16;17;18;1...\n",
      "7149   NaN  AMD Ryzen ThreadRipper;Arduino Nano;Raspberry ...\n",
      "7150   NaN  1;6;3;2;5;2;2;5;6;6;7;9;7;9;9;4;5;3;8;3;8;1;1;...\n",
      "7151   NaN  2;5;5;5;2;2;2;5;6;7;7;7;7;7;5;5;5;3;3;3;1;1;1;...\n",
      "7153   NaN  39;17;13;53;22;120;15;6;29;31;22;86;24;35;39;2...\n",
      "7154   NaN  0;40;70;0;0;0;0;0;0;0;30;0;0;0;0;0;0;0;0;0;40;...\n",
      "================================\n",
      "name [[0.9746868]] ||      class                  data\n",
      "7279    id  1;2;3;4;5;6;7;8;9;10\n",
      "     class                                               data\n",
      "7280   NaN  2019-05-29T09:51:48;2019-05-28T21:45:18;2019-0...\n",
      "7281   NaN  COMPLETED;COMPLETED;COMPLETED;COMPLETED;COMPLE...\n",
      "7282   NaN  bandwidth;Liechtenstein Buckinghamshire moneti...\n",
      "7283   NaN  75087;29763;95060;55370;88770;42609;98663;4816...\n",
      "7284   NaN                                8;9;5;7;6;8;6;8;3;8\n",
      "================================\n",
      "name [[0.9746868]] ||      class                  data\n",
      "7076    id  1;2;3;4;5;6;7;8;9;10\n",
      "     class                                               data\n",
      "7077   NaN  mobile Fish;Home Loan Account;Automotive;conve...\n",
      "7078   NaN  77969;706;94220;20794;58675;92630;4043;59886;2...\n",
      "7079   NaN  Savings Account Dam;Home Namibia;South Dakota ...\n",
      "7080   NaN  Practical Fresh Pants;Steel zero administratio...\n",
      "7081   NaN  2019-07-23T22:50:19;2019-07-24T04:28:21;2019-0...\n",
      "7082   NaN  14286;23277;68326;72727;16526;66592;47537;4565...\n",
      "7083   NaN  70807;45606;12203;92187;7455;72960;31435;80367...\n",
      "7084   NaN  65088;9060;60999;32654;1563;59129;56327;21844;...\n",
      "7085   NaN  72656420436869707320536f6170;526566696e6564205...\n",
      "7086   NaN  image/png;image/png;image/png;image/png;image/...\n",
      "================================\n",
      "name [[0.9746868]] ||       class                                               data\n",
      "7600     id  HJDSJD83;EJDSJD83;RJDSJD83;TJDSJD83;ZJDSJD83;U...\n",
      "7601   date  2021-03-09 23:38;2021-03-08 22:31;2021-03-10 0...\n",
      "7602  model  tf2oda_ssdmobilenetv2_320x320_pedestrian;tf2od...\n",
      "     class                                               data\n",
      "7603   NaN  Ssdmobnetv2_320x320;Ssdmobnetv2_320x320_nobatc...\n",
      "7604   NaN  tf2oda;tf2oda;tf2oda;tf2oda;tf2oda;tf2oda;tf2o...\n",
      "7605   NaN  ssdmobilenetv2;ssdmobilenetv2;efficientdet;eff...\n",
      "7606   NaN  [320, 320];320x320;[768, 640];768x640;320x320;...\n",
      "7607   NaN  pedestrian;pedestrian;pedestrian;pedestrian;pe...\n",
      "7608   NaN  nobatch;D2_LR08;D2_LR08_nobatch;TRTFP16;nobatc...\n",
      "7609   NaN  IntelNUC;IntelNUC;IntelNUC;IntelNUC;Xavier;Xav...\n",
      "7610   NaN  None;None;None;None;TRTFP16;TRTFP16;TRTFP32;TR...\n",
      "7611   NaN  0.3371881999304794;0.3371881999304794;0.521700...\n",
      "7612   NaN  0.7431712076062851;0.7431712076062851;0.900560...\n",
      "7613   NaN  0.2455530661721249;0.2455530661721249;0.542010...\n",
      "7614   NaN  0.0049504950495049;0.0049504950495049;0.021782...\n",
      "7615   NaN  0.3379270453387315;0.3379270453387315;0.527895...\n",
      "7616   NaN  0.3587053956754707;0.3587053956754707;0.358323...\n",
      "7617   NaN  0.0417576343788862;0.0417576343788862;0.053495...\n",
      "7618   NaN  0.3398369490120215;0.3398369490120215;0.421998...\n",
      "7619   NaN  0.4498480033162912;0.4498480033162912;0.593816...\n",
      "7620   NaN  0.0045045045045045;0.0045045045045045;0.019819...\n",
      "7621   NaN  0.4528333684432274;0.4528333684432274;0.598736...\n",
      "7622   NaN  0.5065573770491804;0.5065573770491804;0.542622...\n",
      "================================\n",
      "name [[0.9746868]] ||             class                                               data\n",
      "8118           id  M1036;M1015;M1049;M1048;M1013;M1047;M1040;M104...\n",
      "8119         name  Account Use Policies;Active Directory Configur...\n",
      "8120  description  Configure features related to account use like...\n",
      "     class                                               data\n",
      "8121   NaN  .3,.5;.3,.5;.3,.5;.3,.5;.3,.5;.3,.5;.3,.5;.3,....\n",
      "================================\n",
      "name [[0.9746868]] ||           class                                               data\n",
      "7864       name  SATIKAS;Predictive System, Belgium;Automated P...\n",
      "7865       type  Auditing and logging;Other;Process automation;...\n",
      "7873  startDate            2018;2014;2016;2018;2019;2014;2012;2019\n",
      "     class                                               data\n",
      "7863   NaN                                    1;2;3;4;5;6;7;8\n",
      "7866   NaN  https://kosmos.ut.ee/en/news/information-syste...\n",
      "7867   NaN  In the Estonian Agricultural Registers and Inf...\n",
      "7868   NaN  National;National;Local;National;Local;Nationa...\n",
      "7869   NaN  Estonia;Belgium;Sweden;Latvia;Sweden;Netherlan...\n",
      "7870   NaN  Estonia;Belgium;Sweden;Latvia;Sweden;Netherlan...\n",
      "7871   NaN  Estonian Agricultural Registers and Informatio...\n",
      "7872   NaN  Governmental;Governmental;Governmental;Governm...\n",
      "7874   NaN                      Yes;Yes;Yes;Yes;Yes;No;No;Yes\n",
      "7875   NaN                                      2020.0;2019.0\n",
      "7876   NaN  Agriculture;Health;Social Protection;Economic ...\n",
      "7877   NaN  Control and monitoring;Control and monitoring;...\n",
      "7878   NaN                           No;No;No;No;No;No;Yes;No\n",
      "7879   NaN                            No;No;No;No;No;No;No;No\n",
      "7880   NaN  Artificial Intelligence;Artificial Intelligenc...\n",
      "7881   NaN  In production;In production;In production;In p...\n",
      "7882   NaN  Unknown;Unknown;Unknown;Unknown;Unknown;Unknow...\n",
      "================================\n",
      "name [[0.9746868]] ||       class                                               data\n",
      "8009  value  1;2;11;12;13;14;15;17;18;19;20;21;22;23;24;25;...\n",
      "     class                                               data\n",
      "8010   NaN  CML Electronics Limited;Train Technology;NCE C...\n",
      "8011   NaN                                        261.0;250.0\n",
      "8012   NaN                                          262.0;7.0\n",
      "8013   NaN                                         264.0;65.0\n",
      "8014   NaN                                              265.0\n",
      "8015   NaN                                    DH.csv;Zimo.csv\n",
      "================================\n",
      "name [[0.9746868]] ||       class                                               data\n",
      "8558  alias  http://www.cognitiveatlas.org/id/tco_50ec58d05...\n",
      "     class                                               data\n",
      "8556   NaN  Cambridge Neuropsychological Test Automated Ba...\n",
      "8557   NaN  CANTAB;(CNB), Penn Neuropsych Battery;WAIS-IV;...\n",
      "================================\n",
      "name [[0.9746868]] ||      class                                               data\n",
      "8432  name  電子商務及延伸;Dell;網通;新兆元通信;數位電視;NFC近場通訊;嬰幼兒;Kinect;...\n",
      "     class                                               data\n",
      "8431   NaN  43b3f12213b09d120b2f780f8acd94ad;ab2724d10b490...\n",
      "8433   NaN  Concept;Concept;Concept;Concept;Concept;Concep...\n",
      "================================\n",
      "name [[0.9746868]] ||       class                                               data\n",
      "8829  title  The In-Memory Revolution;Emotional Intelligenc...\n",
      "8833  price             53.49;4.15;11.11;12.34;13.13;14.0;15.0\n",
      "     class                                               data\n",
      "8828   NaN  ffbc1d11-76a2-4da5-b8a0-25339150e401;51fc25d5-...\n",
      "8830   NaN  How SAP HANA Enables Business of the Future,Th...\n",
      "8831   NaN  03d833f7-4d22-4b13-8515-bce75190cdcf;00668d40-...\n",
      "8832   NaN                           100;200;12;11;333;555;22\n",
      "8834   NaN                        EUR;EUR;GBP;GBP;USD;USD;EUR\n",
      "================================\n",
      "name [[0.9746868]] ||      class                                               data\n",
      "8860  code  AF-CBR;AF-MOE;BE-BCE_KBO;CA-CRA_ACR;ET-MFA;FR-...\n",
      "     class                                               data\n",
      "8861   NaN  Afghanistan;Afghanistan;Belgium;Canada;Ethiopi...\n",
      "8862   NaN  Afghanistan Central Business Registry;Ministry...\n",
      "8863   NaN  http://acbr.gov.af/;http://moec.gov.af/en;econ...\n",
      "8864   NaN  No;Yes;Yes;Yes;No;Yes;No;No;Yes;No;No;Yes;Yes;...\n",
      "8865   NaN  Website not yet searchable ;CRA_ACR is legal r...\n",
      "8866   NaN  WR 11/10/13;WR 15/10/13;WR 15/10/13;WR 11/10/1...\n",
      "================================\n",
      "name [[0.9746868]] ||      class                                               data\n",
      "9353  city  CRITERIUM;Lake;Mountain,UT,,FFKR;Lake;Jordan,U...\n",
      "     class                                               data\n",
      "9352   NaN  07/04/2013;Place,License;1,369498,Tom,MILLAR,S...\n",
      "9354   NaN  Men;City,UT,,SaltCycle-Intelitechs;Architects;...\n",
      "9355   NaN  Cat3/4;Racing;Bicycles;|;Racing;Racing;,UT,,;R...\n",
      "9356   NaN  Plus/Sierra;BRIGHTFACE;inc;Inc;-;Rio;Cycling;B...\n",
      "9357   NaN  Neva;Shimano;Team;15-16;10-12;13-14;Bicycl;Hag...\n",
      "9358   NaN                                     Berman;Cycling\n",
      "================================\n"
     ]
    }
   ],
   "source": [
    "num = 0\n",
    "wrong_num = 0\n",
    "target_type = \"name\"\n",
    "target_type_id = np.where(types==target_type )[0][0]\n",
    "print(class_f1[target_type_id])\n",
    "print(\"================================\")\n",
    "for i, (index, group_df) in enumerate(df_group_train):\n",
    "    text_i = \" \".join(group_df[\"data\"].values)\n",
    "    if \"Intel\" in text_i:\n",
    "        print(types[preds[labels==target_type_id]][num], similarity_i, \"||\",group_df[group_df[\"class_id\"]>-1][[\"class\", \"data\"]])\n",
    "        print(group_df[group_df[\"class_id\"]==-1][[\"class\", \"data\"]])\n",
    "        print(\"================================\")\n"
   ]
  },
  {
   "cell_type": "code",
   "execution_count": 388,
   "metadata": {},
   "outputs": [
    {
     "data": {
      "text/html": [
       "<div>\n",
       "<style scoped>\n",
       "    .dataframe tbody tr th:only-of-type {\n",
       "        vertical-align: middle;\n",
       "    }\n",
       "\n",
       "    .dataframe tbody tr th {\n",
       "        vertical-align: top;\n",
       "    }\n",
       "\n",
       "    .dataframe thead th {\n",
       "        text-align: right;\n",
       "    }\n",
       "</style>\n",
       "<table border=\"1\" class=\"dataframe\">\n",
       "  <thead>\n",
       "    <tr style=\"text-align: right;\">\n",
       "      <th></th>\n",
       "      <th>table_id</th>\n",
       "      <th>col_idx</th>\n",
       "      <th>class</th>\n",
       "      <th>class_id</th>\n",
       "      <th>data</th>\n",
       "    </tr>\n",
       "  </thead>\n",
       "  <tbody>\n",
       "    <tr>\n",
       "      <th>2532</th>\n",
       "      <td>GitTables_150500</td>\n",
       "      <td>0</td>\n",
       "      <td>title</td>\n",
       "      <td>4</td>\n",
       "      <td>Wuthering Heights;Jane Eyre;The Raven;Eleonora...</td>\n",
       "    </tr>\n",
       "    <tr>\n",
       "      <th>2533</th>\n",
       "      <td>GitTables_150500</td>\n",
       "      <td>1</td>\n",
       "      <td>NaN</td>\n",
       "      <td>-1</td>\n",
       "      <td>Wuthering Heights, Emily Brontë's only novel, ...</td>\n",
       "    </tr>\n",
       "    <tr>\n",
       "      <th>2534</th>\n",
       "      <td>GitTables_150500</td>\n",
       "      <td>2</td>\n",
       "      <td>NaN</td>\n",
       "      <td>-1</td>\n",
       "      <td>101;107;150;150;170</td>\n",
       "    </tr>\n",
       "    <tr>\n",
       "      <th>2535</th>\n",
       "      <td>GitTables_150500</td>\n",
       "      <td>3</td>\n",
       "      <td>NaN</td>\n",
       "      <td>-1</td>\n",
       "      <td>12;11;333;555;22</td>\n",
       "    </tr>\n",
       "    <tr>\n",
       "      <th>2536</th>\n",
       "      <td>GitTables_150500</td>\n",
       "      <td>4</td>\n",
       "      <td>price</td>\n",
       "      <td>24</td>\n",
       "      <td>11.11;12.34;13.13;14.0;15.0</td>\n",
       "    </tr>\n",
       "    <tr>\n",
       "      <th>2537</th>\n",
       "      <td>GitTables_150500</td>\n",
       "      <td>5</td>\n",
       "      <td>NaN</td>\n",
       "      <td>-1</td>\n",
       "      <td>GBP;GBP;USD;USD;EUR</td>\n",
       "    </tr>\n",
       "    <tr>\n",
       "      <th>2538</th>\n",
       "      <td>GitTables_150500</td>\n",
       "      <td>6</td>\n",
       "      <td>NaN</td>\n",
       "      <td>-1</td>\n",
       "      <td>11;11;16;16;13</td>\n",
       "    </tr>\n",
       "    <tr>\n",
       "      <th>2539</th>\n",
       "      <td>GitTables_150500</td>\n",
       "      <td>7</td>\n",
       "      <td>NaN</td>\n",
       "      <td>-1</td>\n",
       "      <td>EN;EN;EN;EN;EN</td>\n",
       "    </tr>\n",
       "  </tbody>\n",
       "</table>\n",
       "</div>"
      ],
      "text/plain": [
       "              table_id  col_idx  class  class_id  \\\n",
       "2532  GitTables_150500        0  title         4   \n",
       "2533  GitTables_150500        1    NaN        -1   \n",
       "2534  GitTables_150500        2    NaN        -1   \n",
       "2535  GitTables_150500        3    NaN        -1   \n",
       "2536  GitTables_150500        4  price        24   \n",
       "2537  GitTables_150500        5    NaN        -1   \n",
       "2538  GitTables_150500        6    NaN        -1   \n",
       "2539  GitTables_150500        7    NaN        -1   \n",
       "\n",
       "                                                   data  \n",
       "2532  Wuthering Heights;Jane Eyre;The Raven;Eleonora...  \n",
       "2533  Wuthering Heights, Emily Brontë's only novel, ...  \n",
       "2534                                101;107;150;150;170  \n",
       "2535                                   12;11;333;555;22  \n",
       "2536                        11.11;12.34;13.13;14.0;15.0  \n",
       "2537                                GBP;GBP;USD;USD;EUR  \n",
       "2538                                     11;11;16;16;13  \n",
       "2539                                     EN;EN;EN;EN;EN  "
      ]
     },
     "execution_count": 388,
     "metadata": {},
     "output_type": "execute_result"
    }
   ],
   "source": [
    "group_df_book"
   ]
  },
  {
   "cell_type": "code",
   "execution_count": 387,
   "metadata": {},
   "outputs": [
    {
     "data": {
      "text/html": [
       "<div>\n",
       "<style scoped>\n",
       "    .dataframe tbody tr th:only-of-type {\n",
       "        vertical-align: middle;\n",
       "    }\n",
       "\n",
       "    .dataframe tbody tr th {\n",
       "        vertical-align: top;\n",
       "    }\n",
       "\n",
       "    .dataframe thead th {\n",
       "        text-align: right;\n",
       "    }\n",
       "</style>\n",
       "<table border=\"1\" class=\"dataframe\">\n",
       "  <thead>\n",
       "    <tr style=\"text-align: right;\">\n",
       "      <th></th>\n",
       "      <th>table_id</th>\n",
       "      <th>col_idx</th>\n",
       "      <th>class</th>\n",
       "      <th>class_id</th>\n",
       "      <th>data</th>\n",
       "    </tr>\n",
       "  </thead>\n",
       "  <tbody>\n",
       "    <tr>\n",
       "      <th>5675</th>\n",
       "      <td>GitTables_41344</td>\n",
       "      <td>0</td>\n",
       "      <td>NaN</td>\n",
       "      <td>-1</td>\n",
       "      <td>1;2;3;4;5;6;7;8;9;10;11;12;13;14;15;16;17;18;1...</td>\n",
       "    </tr>\n",
       "    <tr>\n",
       "      <th>5676</th>\n",
       "      <td>GitTables_41344</td>\n",
       "      <td>1</td>\n",
       "      <td>NaN</td>\n",
       "      <td>-1</td>\n",
       "      <td>76.96;74.569;62.69;54.081;47.758;41.247;35.296...</td>\n",
       "    </tr>\n",
       "    <tr>\n",
       "      <th>5677</th>\n",
       "      <td>GitTables_41344</td>\n",
       "      <td>2</td>\n",
       "      <td>NaN</td>\n",
       "      <td>-1</td>\n",
       "      <td>94;2;28;40;116;433;0;0;1055;42;327;1;89;0;17;6...</td>\n",
       "    </tr>\n",
       "    <tr>\n",
       "      <th>5678</th>\n",
       "      <td>GitTables_41344</td>\n",
       "      <td>3</td>\n",
       "      <td>NaN</td>\n",
       "      <td>-1</td>\n",
       "      <td>521034;577922;659991;625568;587496;587792;3401...</td>\n",
       "    </tr>\n",
       "    <tr>\n",
       "      <th>5679</th>\n",
       "      <td>GitTables_41344</td>\n",
       "      <td>4</td>\n",
       "      <td>title</td>\n",
       "      <td>4</td>\n",
       "      <td>The Secret Garden;Tenet;Made in Italy;Unhinged...</td>\n",
       "    </tr>\n",
       "    <tr>\n",
       "      <th>5680</th>\n",
       "      <td>GitTables_41344</td>\n",
       "      <td>5</td>\n",
       "      <td>NaN</td>\n",
       "      <td>-1</td>\n",
       "      <td>7.3;6.0;6.2;6.5;5.6;7.6;0.0;0.0;7.6;5.9;8.8;2....</td>\n",
       "    </tr>\n",
       "    <tr>\n",
       "      <th>5681</th>\n",
       "      <td>GitTables_41344</td>\n",
       "      <td>6</td>\n",
       "      <td>NaN</td>\n",
       "      <td>-1</td>\n",
       "      <td>Mary Lennox is born in India to wealthy Britis...</td>\n",
       "    </tr>\n",
       "    <tr>\n",
       "      <th>5682</th>\n",
       "      <td>GitTables_41344</td>\n",
       "      <td>7</td>\n",
       "      <td>NaN</td>\n",
       "      <td>-1</td>\n",
       "      <td>7/8/20;8/26/20;8/6/20;7/2/20;7/23/20;7/10/20;8...</td>\n",
       "    </tr>\n",
       "  </tbody>\n",
       "</table>\n",
       "</div>"
      ],
      "text/plain": [
       "             table_id  col_idx  class  class_id  \\\n",
       "5675  GitTables_41344        0    NaN        -1   \n",
       "5676  GitTables_41344        1    NaN        -1   \n",
       "5677  GitTables_41344        2    NaN        -1   \n",
       "5678  GitTables_41344        3    NaN        -1   \n",
       "5679  GitTables_41344        4  title         4   \n",
       "5680  GitTables_41344        5    NaN        -1   \n",
       "5681  GitTables_41344        6    NaN        -1   \n",
       "5682  GitTables_41344        7    NaN        -1   \n",
       "\n",
       "                                                   data  \n",
       "5675  1;2;3;4;5;6;7;8;9;10;11;12;13;14;15;16;17;18;1...  \n",
       "5676  76.96;74.569;62.69;54.081;47.758;41.247;35.296...  \n",
       "5677  94;2;28;40;116;433;0;0;1055;42;327;1;89;0;17;6...  \n",
       "5678  521034;577922;659991;625568;587496;587792;3401...  \n",
       "5679  The Secret Garden;Tenet;Made in Italy;Unhinged...  \n",
       "5680  7.3;6.0;6.2;6.5;5.6;7.6;0.0;0.0;7.6;5.9;8.8;2....  \n",
       "5681  Mary Lennox is born in India to wealthy Britis...  \n",
       "5682  7/8/20;8/26/20;8/6/20;7/2/20;7/23/20;7/10/20;8...  "
      ]
     },
     "execution_count": 387,
     "metadata": {},
     "output_type": "execute_result"
    }
   ],
   "source": [
    "group_df_movie"
   ]
  },
  {
   "cell_type": "code",
   "execution_count": 390,
   "metadata": {},
   "outputs": [
    {
     "data": {
      "text/plain": [
       "array(['1;2;3;4;5;6;7;8;9;10;11;12;13;14;15;16;17;18;19;20',\n",
       "       '76.96;74.569;62.69;54.081;47.758;41.247;35.296;33.821;32.076;29.815;26.865;26.732;25.929;25.586;25.473;21.662;20.281;19.477;17.222;16.571',\n",
       "       '94;2;28;40;116;433;0;0;1055;42;327;1;89;0;17;631;6715;0;2;549',\n",
       "       '521034;577922;659991;625568;587496;587792;340102;337401;446893;581392;592350;585013;491926;613504;539885;413518;264644;682402;566011;585244',\n",
       "       'The Secret Garden;Tenet;Made in Italy;Unhinged;The Rental;Palm Springs;The New Mutants;Mulan;Trolls World Tour;Peninsula;My Hero Academia: Heroes Rising;Shakespeare Shitstorm;Resistance;After We Collided;Ava;Pinocchio;Room;Swimming for Gold;Curse of the Blind Dead;I Still Believe',\n",
       "       '7.3;6.0;6.2;6.5;5.6;7.6;0.0;0.0;7.6;5.9;8.8;2.0;7.0;0.0;4.9;6.8;8.1;0.0;6.0;7.8',\n",
       "       'Mary Lennox is born in India to wealthy British parents who never wanted her. When her parents suddenly die, she is sent back to England to live with her uncle. She meets her sickly cousin, and the two children find a wondrous secret garden lost in the grounds of Misselthwaite Manor.;Armed with only one word - Tenet - and fighting for the survival of the entire world, the Protagonist journeys through a twilight world of international espionage on a mission that will unfold in something beyond real time.;A bohemian artist travels from London to Italy with his estranged son to sell the house they inherited from his late wife.;A case of road rage turns into full-blown terror when an unstable driver follows a woman and her son.;Two couples on an oceanside getaway grow suspicious that the host of their seemingly perfect rental house may be spying on them. Before long, what should have been a celebratory weekend trip turns into something far more sinister.;When carefree Nyles and reluctant maid of honor Sarah have a chance encounter at a Palm Springs wedding, things get complicated when they find themselves unable to escape the venue, themselves, or each other.;Five young mutants, just discovering their abilities while held in a secret facility against their will, fight to escape their past sins and save themselves.;When the Emperor of China issues a decree that one man per family must serve in the Imperial Chinese Army to defend the country from Huns, Hua Mulan, the eldest daughter of an honored warrior, steps in to take the place of her ailing father. She is spirited, determined and quick on her feet. Disguised as a man by the name of Hua Jun, she is tested every step of the way and must harness her innermost strength and embrace her true potential.;Queen Poppy and Branch make a surprising discovery there are other Troll worlds beyond their own, and their distinct differences create big clashes between these various tribes. When a mysterious threat puts all of the Trolls across the land in danger, Poppy, Branch, and their band of friends must embark on an epic quest to create harmony among the feuding Trolls to unite them against certain doom.;A soldier and his team battle hordes of post-apocalyptic zombies in the wastelands of the Korean Peninsula.;Class 1-A visits Nabu Island where they finally get to do some real hero work. The place is so peaceful that it\\'s more like a vacation until they\\'re attacked by a villain with an unfathomable Quirk! His power is eerily familiar, and it looks like Shigaraki had a hand in the plan. But with All Might retired and citizens\\' lives on the line, there\\'s no time for questions. Deku and his friends are the next generation of heroes, and they\\'re the island\\'s only hope.;Two decades after \"Tromeo and Juliet\", Lloyd Kaufman and The Troma Team go Back to The Bard for a TROMAtic adaptation of Shakespeare\\'s \"The Tempest\".;The story of a group of Jewish Boy Scouts who worked with the French Resistance to save the lives of ten thousand orphans during World War II.;Tessa finds herself struggling with her complicated relationship with Hardin, she faces a dilemma that could change their lives forever.;A black ops assassin is forced to fight for her own survival after a job goes dangerously wrong.;In this live-action adaptation of the beloved fairytale, old woodcarver Geppetto fashions a wooden puppet, Pinocchio, who magically comes to life. Pinocchio longs for adventure and is easily led astray, encountering magical beasts, fantastical spectacles, while making friends and foes along his journey. However, his dream is to become a real boy, which can only come true if he finally changes his ways.;Held captive for 7 years in an enclosed space, a woman and her young son finally gain their freedom, allowing the boy to experience the outside world for the first time.;Young elite swimmer Claire is sent to Australia to coach a boys swimming team, where she must overcome an old rival and a secret fear to save the swimming camp from closing. Comedy drama starring Peyton List.;In the Thirteenth century, a group of Satan worshipers, the Knights Templar, are captured during a ritual and brutally murdered by the locals. Just before the execution, the Knights swear to return from their graves to haunt the village and the nearby forest. Centuries later, in a post-apocalyptic future, a man and his daughter try to survive against both the undead Knights and a sect commanded by a mad preacher.;The true-life story of Christian music star Jeremy Camp and his journey of love and loss that looks to prove there is always hope.',\n",
       "       '7/8/20;8/26/20;8/6/20;7/2/20;7/23/20;7/10/20;8/26/20;9/4/20;3/12/20;7/15/20;12/20/19;8/20/20;3/27/20;9/2/20;8/6/20;12/19/19;10/16/15;9/1/20;10/31/19;3/12/20'],\n",
       "      dtype=object)"
      ]
     },
     "execution_count": 390,
     "metadata": {},
     "output_type": "execute_result"
    }
   ],
   "source": [
    "group_df_movie[\"data\"].values[[4, ]]"
   ]
  },
  {
   "cell_type": "code",
   "execution_count": 392,
   "metadata": {},
   "outputs": [
    {
     "data": {
      "text/plain": [
       "array(['Wuthering Heights;Jane Eyre;The Raven;Eleonora;Catweazle',\n",
       "       'GBP;GBP;USD;USD;EUR'], dtype=object)"
      ]
     },
     "execution_count": 392,
     "metadata": {},
     "output_type": "execute_result"
    }
   ],
   "source": [
    "group_df_book[\"data\"].values[[0,5]]"
   ]
  },
  {
   "cell_type": "code",
   "execution_count": 389,
   "metadata": {},
   "outputs": [
    {
     "data": {
      "text/plain": [
       "array([[0.9660129]], dtype=float32)"
      ]
     },
     "execution_count": 389,
     "metadata": {},
     "output_type": "execute_result"
    }
   ],
   "source": [
    "target_embs_movie = ft_model.get_sentence_vector(\" \".join(group_df_movie[\"data\"].values))\n",
    "target_embs_book = ft_model.get_sentence_vector(\" \".join(group_df_book[\"data\"].values))\n",
    "cosine_similarity([target_embs_movie], [target_embs_book])"
   ]
  },
  {
   "cell_type": "code",
   "execution_count": 393,
   "metadata": {},
   "outputs": [
    {
     "data": {
      "text/plain": [
       "array([[0.590576]], dtype=float32)"
      ]
     },
     "execution_count": 393,
     "metadata": {},
     "output_type": "execute_result"
    }
   ],
   "source": [
    "target_embs_movie = ft_model.get_sentence_vector(\" \".join(group_df_movie[\"data\"].values))\n",
    "target_embs_book = ft_model.get_sentence_vector(\" \".join(group_df_book[\"data\"].values[[0,5]]))\n",
    "cosine_similarity([target_embs_movie], [target_embs_book])"
   ]
  },
  {
   "cell_type": "code",
   "execution_count": 394,
   "metadata": {},
   "outputs": [
    {
     "data": {
      "text/plain": [
       "array([[0.40189758]], dtype=float32)"
      ]
     },
     "execution_count": 394,
     "metadata": {},
     "output_type": "execute_result"
    }
   ],
   "source": [
    "target_embs_movie = ft_model.get_sentence_vector(\" \".join(group_df_movie[\"data\"].values))\n",
    "target_embs_book = ft_model.get_sentence_vector(\" \".join(group_df_book[\"data\"].values[[5]]))\n",
    "cosine_similarity([target_embs_movie], [target_embs_book])"
   ]
  },
  {
   "cell_type": "code",
   "execution_count": 386,
   "metadata": {},
   "outputs": [
    {
     "name": "stdout",
     "output_type": "stream",
     "text": [
      "0.15384615384615383\n",
      "================================\n",
      "length [[0.9024934]] ||      class                                               data\n",
      "378  notes                                            Selleck\n",
      "381  score  0.5;0.5;0.5;0.5;0.5;0.5;0.5;0.5;0.5;0.5;0.5;0....\n",
      "    class                                               data\n",
      "362   NaN  RELA;CASP3;MYC;RBL2;RBL2;CDKN1A;XIAP;EEF1D;CCN...\n",
      "363   NaN  protein;protein;protein;protein;protein;protei...\n",
      "364   NaN  Q04206;P42574;P01106;Q08999;Q08999;P38936;P981...\n",
      "365   NaN  UNIPROT;UNIPROT;UNIPROT;UNIPROT;UNIPROT;UNIPRO...\n",
      "366   NaN  MET;PARP1;ITGA7;MYOD1;Cell cycle progr.;Cell c...\n",
      "367   NaN  protein;protein;protein;protein;phenotype;phen...\n",
      "368   NaN  P08581;P09874;Q13683;P15172;SIGNOR-PH42;SIGNOR...\n",
      "369   NaN  UNIPROT;UNIPROT;UNIPROT;UNIPROT;SIGNOR;SIGNOR;...\n",
      "370   NaN  up-regulates quantity;down-regulates activity;...\n",
      "371   NaN  transcriptional regulation;cleavage;transcript...\n",
      "372   NaN                 Thr387;Tyr354;Tyr146;Tyr146;Ser318\n",
      "373   NaN  LMRTLCGtPTYLAPE;LMLRLQDyEEKTKKA;KEVHKSGyLSSERL...\n",
      "374   NaN  10090;10090;10090;10090;10090;10090;9606;10090...\n",
      "375   NaN  BTO:0002895;BTO:0000331;BTO:0000165,BTO:000022...\n",
      "376   NaN  19530226;11907276;14525975;10801445;10801445;9...\n",
      "377   NaN  YES;YES;YES;NO;NO;NO;YES;YES;NO;NO;YES;YES;YES...\n",
      "379   NaN  gcesareni;amattioni;lperfetto;gcesareni;gcesar...\n",
      "380   NaN  Together, these results indicate that the Met ...\n",
      "382   NaN  SIGNOR-241929;SIGNOR-116178;SIGNOR-241769;SIGN...\n",
      "================================\n",
      "type [[0.9359485]] ||       class                                               data\n",
      "3800  score                    8;9;8;9;9;6;5;9;4;9;9;9;10;7;10\n",
      "3801   type  MusicianReviewOrganizer;OrganizerReviewMusicia...\n",
      "     class                                               data\n",
      "3795   NaN                1;2;3;4;5;6;7;8;9;10;11;12;13;14;15\n",
      "3796   NaN                 5;5;7;6;2;3;9;10;14;4;11;8;1;12;13\n",
      "3797   NaN       16;16;16;16;17;17;17;17;17;18;18;19;19;19;20\n",
      "3798   NaN                  3;9;13;2;4;16;10;7;4;3;13;9;8;9;4\n",
      "3799   NaN  This organizer is very good at managing their ...\n",
      "3802   NaN  2020-11-20 19:31:25;2020-11-20 20:13:56;2020-1...\n",
      "================================\n",
      "position [[0.8584119]] ||       class               data\n",
      "7499  score        p;p;p;p;p;p\n",
      "7502  model  LR;LR;LR;LR;LR;LR\n",
      "     class                                               data\n",
      "7496   NaN                                        1;2;3;4;5;6\n",
      "7497   NaN  totest_00a;totest_00b;totest_01;totest_02;tote...\n",
      "7498   NaN                                        y;y;y;y;y;y\n",
      "7500   NaN                                          id;id grp\n",
      "7501   NaN                                        1;1;1;1;1;1\n",
      "7503   NaN                gains;gains;gains;gains;gains;gains\n",
      "7504   NaN                                        1;1;1;1;1;1\n",
      "7505   NaN                                        1;1;1;1;1;1\n",
      "7506   NaN                                        1;1;1;1;1;1\n",
      "7507   NaN                                        0;0;0;0;0;0\n",
      "7508   NaN                                        0;0;0;0;0;0\n",
      "7509   NaN                                        0;0;1;0;1;0\n",
      "7510   NaN                                        0;0;0;0;0;0\n",
      "7511   NaN                SIMUL;SIMUL;SIMUL;SIMUL;SIMUL;SIMUL\n",
      "7512   NaN                      0.95;0.95;0.95;0.95;0.95;0.95\n",
      "7513   NaN  totest_00a_ec;totest_00b_ec_02;totest_01_ec_03...\n",
      "7514   NaN  totest_00a_ec_stat;totest_00b_ec_02_stat;totes...\n",
      "7515   NaN  E:\\Daniel\\SAS\\Macros\\tests\\EvaluationChart\\exp...\n",
      "7516   NaN  totest_01_ec_03.html;totest_01_ec_04.html;tote...\n",
      "7517   NaN                                 html;html;html;pdf\n",
      "7518   NaN  totest_01_ec_03;totest_01_ec_04;totest_01_ec_0...\n",
      "7519   NaN  Wrong data, only one target value, the non-eve...\n",
      "7520   NaN  output datasets;output datasets, output files ...\n",
      "7521   NaN                                        F;S;S;S;S;S\n",
      "================================\n",
      "min [[0.91240466]] ||          class                                               data\n",
      "7972     title  Boris opposes mayor apology;Immigration to be ...\n",
      "7973  category  politics;politics;sport;tech;sport;sport;sport...\n",
      "7974     score  1.0;1.0;1.0;1.0;1.0;1.0;1.0;1.0;1.0;1.0;1.0;1....\n",
      "     class                                               data\n",
      "7971   NaN  01b7eb27273491b4b4e596eb280dfd183068d3a68cc3c8...\n",
      "7975   NaN  say sorry;big;selected and play;local;first;re...\n",
      "7976   NaN  -1;-1;-1;-1;-1;-1;-1;-1;-1;-1;-1;-1;-1;-1;-1;-...\n",
      "7977   NaN  -1;-1;-1;-1;-1;-1;-1;-1;-1;-1;-1;-1;-1;-1;-1;-...\n",
      "7978   NaN  -1;-1;-1;-1;-1;-1;-1;-1;-1;-1;-1;-1;-1;-1;-1;-...\n",
      "================================\n",
      "score [[0.891329]] ||       class                                               data\n",
      "8652  score                                    26;144;21;53;49\n",
      "8653  title  SQLStatement.execute() - multiple queries in o...\n",
      "     class                                               data\n",
      "8648   NaN                                  80;90;120;180;260\n",
      "8649   NaN                                26;58;83;2089740;91\n",
      "8650   NaN  2008-08-01T13:57:07Z;2008-08-01T14:41:24Z;2008...\n",
      "8651   NaN                               2012-12-26T03:45:49Z\n",
      "8654   NaN  <p>I've written a database generation script i...\n",
      "================================\n"
     ]
    }
   ],
   "source": [
    "num = 0\n",
    "wrong_num = 0\n",
    "target_type = \"score\"\n",
    "target_type_id = np.where(types==target_type )[0][0]\n",
    "target = group_df_book[\"data\"].values\n",
    "target_text = \" \".join(target)\n",
    "target_embs = ft_model.get_sentence_vector(target_text)\n",
    "print(class_f1[target_type_id])\n",
    "print(\"================================\")\n",
    "for i, (index, group_df) in enumerate(df_group_train):\n",
    "        if target_type in group_df[\"class\"].values:\n",
    "        #     print(types[preds[labels==target_type_id]][num], \"||\",group_df[group_df[\"class_id\"]>-1][[\"class\", \"data\"]])\n",
    "        #     wrong_num += 1\n",
    "        #     print(group_df[group_df[\"class_id\"]==-1][[\"class\", \"data\"]])\n",
    "        #     print(\"================================\")\n",
    "        #     if wrong_num > 30:\n",
    "        #         break\n",
    "            text_i = \" \".join(group_df[\"data\"].values)\n",
    "            text_i_embs = ft_model.get_sentence_vector(text_i.replace(\"\\n\", \" \"))\n",
    "            similarity_i = cosine_similarity([target_embs], [text_i_embs])\n",
    "            if similarity_i > 0.8:\n",
    "                print(types[preds[labels==target_type_id]][num], similarity_i, \"||\",group_df[group_df[\"class_id\"]>-1][[\"class\", \"data\"]])\n",
    "                print(group_df[group_df[\"class_id\"]==-1][[ \"class\", \"data\"]])\n",
    "                print(\"================================\")\n",
    "                num += 1"
   ]
  },
  {
   "cell_type": "code",
   "execution_count": 357,
   "metadata": {},
   "outputs": [
    {
     "data": {
      "text/html": [
       "<div>\n",
       "<style scoped>\n",
       "    .dataframe tbody tr th:only-of-type {\n",
       "        vertical-align: middle;\n",
       "    }\n",
       "\n",
       "    .dataframe tbody tr th {\n",
       "        vertical-align: top;\n",
       "    }\n",
       "\n",
       "    .dataframe thead th {\n",
       "        text-align: right;\n",
       "    }\n",
       "</style>\n",
       "<table border=\"1\" class=\"dataframe\">\n",
       "  <thead>\n",
       "    <tr style=\"text-align: right;\">\n",
       "      <th></th>\n",
       "      <th>table_id</th>\n",
       "      <th>col_idx</th>\n",
       "      <th>class</th>\n",
       "      <th>class_id</th>\n",
       "      <th>data</th>\n",
       "    </tr>\n",
       "  </thead>\n",
       "  <tbody>\n",
       "    <tr>\n",
       "      <th>8828</th>\n",
       "      <td>GitTables_8918</td>\n",
       "      <td>0</td>\n",
       "      <td>NaN</td>\n",
       "      <td>-1</td>\n",
       "      <td>ffbc1d11-76a2-4da5-b8a0-25339150e401;51fc25d5-...</td>\n",
       "    </tr>\n",
       "    <tr>\n",
       "      <th>8829</th>\n",
       "      <td>GitTables_8918</td>\n",
       "      <td>1</td>\n",
       "      <td>title</td>\n",
       "      <td>4</td>\n",
       "      <td>The In-Memory Revolution;Emotional Intelligenc...</td>\n",
       "    </tr>\n",
       "    <tr>\n",
       "      <th>8830</th>\n",
       "      <td>GitTables_8918</td>\n",
       "      <td>2</td>\n",
       "      <td>NaN</td>\n",
       "      <td>-1</td>\n",
       "      <td>How SAP HANA Enables Business of the Future,Th...</td>\n",
       "    </tr>\n",
       "    <tr>\n",
       "      <th>8831</th>\n",
       "      <td>GitTables_8918</td>\n",
       "      <td>3</td>\n",
       "      <td>NaN</td>\n",
       "      <td>-1</td>\n",
       "      <td>03d833f7-4d22-4b13-8515-bce75190cdcf;00668d40-...</td>\n",
       "    </tr>\n",
       "    <tr>\n",
       "      <th>8832</th>\n",
       "      <td>GitTables_8918</td>\n",
       "      <td>4</td>\n",
       "      <td>NaN</td>\n",
       "      <td>-1</td>\n",
       "      <td>100;200;12;11;333;555;22</td>\n",
       "    </tr>\n",
       "    <tr>\n",
       "      <th>8833</th>\n",
       "      <td>GitTables_8918</td>\n",
       "      <td>5</td>\n",
       "      <td>price</td>\n",
       "      <td>24</td>\n",
       "      <td>53.49;4.15;11.11;12.34;13.13;14.0;15.0</td>\n",
       "    </tr>\n",
       "    <tr>\n",
       "      <th>8834</th>\n",
       "      <td>GitTables_8918</td>\n",
       "      <td>6</td>\n",
       "      <td>NaN</td>\n",
       "      <td>-1</td>\n",
       "      <td>EUR;EUR;GBP;GBP;USD;USD;EUR</td>\n",
       "    </tr>\n",
       "  </tbody>\n",
       "</table>\n",
       "</div>"
      ],
      "text/plain": [
       "            table_id  col_idx  class  class_id  \\\n",
       "8828  GitTables_8918        0    NaN        -1   \n",
       "8829  GitTables_8918        1  title         4   \n",
       "8830  GitTables_8918        2    NaN        -1   \n",
       "8831  GitTables_8918        3    NaN        -1   \n",
       "8832  GitTables_8918        4    NaN        -1   \n",
       "8833  GitTables_8918        5  price        24   \n",
       "8834  GitTables_8918        6    NaN        -1   \n",
       "\n",
       "                                                   data  \n",
       "8828  ffbc1d11-76a2-4da5-b8a0-25339150e401;51fc25d5-...  \n",
       "8829  The In-Memory Revolution;Emotional Intelligenc...  \n",
       "8830  How SAP HANA Enables Business of the Future,Th...  \n",
       "8831  03d833f7-4d22-4b13-8515-bce75190cdcf;00668d40-...  \n",
       "8832                           100;200;12;11;333;555;22  \n",
       "8833             53.49;4.15;11.11;12.34;13.13;14.0;15.0  \n",
       "8834                        EUR;EUR;GBP;GBP;USD;USD;EUR  "
      ]
     },
     "execution_count": 357,
     "metadata": {},
     "output_type": "execute_result"
    }
   ],
   "source": [
    "group_df"
   ]
  },
  {
   "cell_type": "code",
   "execution_count": 363,
   "metadata": {},
   "outputs": [
    {
     "name": "stdout",
     "output_type": "stream",
     "text": [
      "0.6642857142857141\n",
      "================================\n",
      "name [[0.9746868]] ||       class                                               data\n",
      "5679  title  The Secret Garden;Tenet;Made in Italy;Unhinged...\n",
      "     class                                               data\n",
      "5675   NaN  1;2;3;4;5;6;7;8;9;10;11;12;13;14;15;16;17;18;1...\n",
      "5676   NaN  76.96;74.569;62.69;54.081;47.758;41.247;35.296...\n",
      "5677   NaN  94;2;28;40;116;433;0;0;1055;42;327;1;89;0;17;6...\n",
      "5678   NaN  521034;577922;659991;625568;587496;587792;3401...\n",
      "5680   NaN  7.3;6.0;6.2;6.5;5.6;7.6;0.0;0.0;7.6;5.9;8.8;2....\n",
      "5681   NaN  Mary Lennox is born in India to wealthy Britis...\n",
      "5682   NaN  7/8/20;8/26/20;8/6/20;7/2/20;7/23/20;7/10/20;8...\n",
      "================================\n"
     ]
    }
   ],
   "source": [
    "num = 0\n",
    "wrong_num = 0\n",
    "target_type = \"name\"\n",
    "target_type_id = np.where(types==target_type )[0][0]\n",
    "print(class_f1[target_type_id])\n",
    "print(\"================================\")\n",
    "for i, (index, group_df) in enumerate(df_group_train):\n",
    "        # if types[preds[labels==target_type_id]][num] != target_type:\n",
    "        #     print(types[preds[labels==target_type_id]][num], \"||\",group_df[group_df[\"class_id\"]>-1][[\"class\", \"data\"]])\n",
    "        #     wrong_num += 1\n",
    "        #     print(group_df[group_df[\"class_id\"]==-1][[\"class\", \"data\"]])\n",
    "        #     print(\"================================\")\n",
    "        #     if wrong_num > 30:\n",
    "        #         break\n",
    "        text_i = \" \".join(group_df[\"data\"].values)\n",
    "        text_i_embs = ft_model.get_sentence_vector(text_i.replace(\"\\n\", \" \"))\n",
    "        similarity_i = cosine_similarity([target_embs], [text_i_embs])\n",
    "        if similarity_i > 0.95:\n",
    "\n",
    "            num += 1\n",
    "            if \"The Secret Garden\" in text_i:\n",
    "                print(types[preds[labels==target_type_id]][num], similarity_i, \"||\",group_df[group_df[\"class_id\"]>-1][[\"class\", \"data\"]])\n",
    "                print(group_df[group_df[\"class_id\"]==-1][[ \"class\", \"data\"]])\n",
    "                print(\"================================\")\n",
    "                break"
   ]
  },
  {
   "cell_type": "code",
   "execution_count": 365,
   "metadata": {},
   "outputs": [],
   "source": [
    "group_df_movie = deepcopy(group_df)"
   ]
  },
  {
   "cell_type": "code",
   "execution_count": 371,
   "metadata": {},
   "outputs": [
    {
     "data": {
      "text/html": [
       "<div>\n",
       "<style scoped>\n",
       "    .dataframe tbody tr th:only-of-type {\n",
       "        vertical-align: middle;\n",
       "    }\n",
       "\n",
       "    .dataframe tbody tr th {\n",
       "        vertical-align: top;\n",
       "    }\n",
       "\n",
       "    .dataframe thead th {\n",
       "        text-align: right;\n",
       "    }\n",
       "</style>\n",
       "<table border=\"1\" class=\"dataframe\">\n",
       "  <thead>\n",
       "    <tr style=\"text-align: right;\">\n",
       "      <th></th>\n",
       "      <th>table_id</th>\n",
       "      <th>col_idx</th>\n",
       "      <th>class</th>\n",
       "      <th>class_id</th>\n",
       "      <th>data</th>\n",
       "    </tr>\n",
       "  </thead>\n",
       "  <tbody>\n",
       "    <tr>\n",
       "      <th>5675</th>\n",
       "      <td>GitTables_41344</td>\n",
       "      <td>0</td>\n",
       "      <td>NaN</td>\n",
       "      <td>-1</td>\n",
       "      <td>1;2;3;4;5;6;7;8;9;10;11;12;13;14;15;16;17;18;1...</td>\n",
       "    </tr>\n",
       "    <tr>\n",
       "      <th>5676</th>\n",
       "      <td>GitTables_41344</td>\n",
       "      <td>1</td>\n",
       "      <td>NaN</td>\n",
       "      <td>-1</td>\n",
       "      <td>76.96;74.569;62.69;54.081;47.758;41.247;35.296...</td>\n",
       "    </tr>\n",
       "    <tr>\n",
       "      <th>5677</th>\n",
       "      <td>GitTables_41344</td>\n",
       "      <td>2</td>\n",
       "      <td>NaN</td>\n",
       "      <td>-1</td>\n",
       "      <td>94;2;28;40;116;433;0;0;1055;42;327;1;89;0;17;6...</td>\n",
       "    </tr>\n",
       "    <tr>\n",
       "      <th>5678</th>\n",
       "      <td>GitTables_41344</td>\n",
       "      <td>3</td>\n",
       "      <td>NaN</td>\n",
       "      <td>-1</td>\n",
       "      <td>521034;577922;659991;625568;587496;587792;3401...</td>\n",
       "    </tr>\n",
       "    <tr>\n",
       "      <th>5679</th>\n",
       "      <td>GitTables_41344</td>\n",
       "      <td>4</td>\n",
       "      <td>title</td>\n",
       "      <td>4</td>\n",
       "      <td>The Secret Garden;Tenet;Made in Italy;Unhinged...</td>\n",
       "    </tr>\n",
       "    <tr>\n",
       "      <th>5680</th>\n",
       "      <td>GitTables_41344</td>\n",
       "      <td>5</td>\n",
       "      <td>NaN</td>\n",
       "      <td>-1</td>\n",
       "      <td>7.3;6.0;6.2;6.5;5.6;7.6;0.0;0.0;7.6;5.9;8.8;2....</td>\n",
       "    </tr>\n",
       "    <tr>\n",
       "      <th>5681</th>\n",
       "      <td>GitTables_41344</td>\n",
       "      <td>6</td>\n",
       "      <td>NaN</td>\n",
       "      <td>-1</td>\n",
       "      <td>Mary Lennox is born in India to wealthy Britis...</td>\n",
       "    </tr>\n",
       "    <tr>\n",
       "      <th>5682</th>\n",
       "      <td>GitTables_41344</td>\n",
       "      <td>7</td>\n",
       "      <td>NaN</td>\n",
       "      <td>-1</td>\n",
       "      <td>7/8/20;8/26/20;8/6/20;7/2/20;7/23/20;7/10/20;8...</td>\n",
       "    </tr>\n",
       "  </tbody>\n",
       "</table>\n",
       "</div>"
      ],
      "text/plain": [
       "             table_id  col_idx  class  class_id  \\\n",
       "5675  GitTables_41344        0    NaN        -1   \n",
       "5676  GitTables_41344        1    NaN        -1   \n",
       "5677  GitTables_41344        2    NaN        -1   \n",
       "5678  GitTables_41344        3    NaN        -1   \n",
       "5679  GitTables_41344        4  title         4   \n",
       "5680  GitTables_41344        5    NaN        -1   \n",
       "5681  GitTables_41344        6    NaN        -1   \n",
       "5682  GitTables_41344        7    NaN        -1   \n",
       "\n",
       "                                                   data  \n",
       "5675  1;2;3;4;5;6;7;8;9;10;11;12;13;14;15;16;17;18;1...  \n",
       "5676  76.96;74.569;62.69;54.081;47.758;41.247;35.296...  \n",
       "5677  94;2;28;40;116;433;0;0;1055;42;327;1;89;0;17;6...  \n",
       "5678  521034;577922;659991;625568;587496;587792;3401...  \n",
       "5679  The Secret Garden;Tenet;Made in Italy;Unhinged...  \n",
       "5680  7.3;6.0;6.2;6.5;5.6;7.6;0.0;0.0;7.6;5.9;8.8;2....  \n",
       "5681  Mary Lennox is born in India to wealthy Britis...  \n",
       "5682  7/8/20;8/26/20;8/6/20;7/2/20;7/23/20;7/10/20;8...  "
      ]
     },
     "execution_count": 371,
     "metadata": {},
     "output_type": "execute_result"
    }
   ],
   "source": [
    "group_df_movie"
   ]
  },
  {
   "cell_type": "code",
   "execution_count": 372,
   "metadata": {},
   "outputs": [
    {
     "data": {
      "text/html": [
       "<div>\n",
       "<style scoped>\n",
       "    .dataframe tbody tr th:only-of-type {\n",
       "        vertical-align: middle;\n",
       "    }\n",
       "\n",
       "    .dataframe tbody tr th {\n",
       "        vertical-align: top;\n",
       "    }\n",
       "\n",
       "    .dataframe thead th {\n",
       "        text-align: right;\n",
       "    }\n",
       "</style>\n",
       "<table border=\"1\" class=\"dataframe\">\n",
       "  <thead>\n",
       "    <tr style=\"text-align: right;\">\n",
       "      <th></th>\n",
       "      <th>table_id</th>\n",
       "      <th>col_idx</th>\n",
       "      <th>class</th>\n",
       "      <th>class_id</th>\n",
       "      <th>data</th>\n",
       "    </tr>\n",
       "  </thead>\n",
       "  <tbody>\n",
       "    <tr>\n",
       "      <th>2532</th>\n",
       "      <td>GitTables_150500</td>\n",
       "      <td>0</td>\n",
       "      <td>title</td>\n",
       "      <td>4</td>\n",
       "      <td>Wuthering Heights;Jane Eyre;The Raven;Eleonora...</td>\n",
       "    </tr>\n",
       "    <tr>\n",
       "      <th>2533</th>\n",
       "      <td>GitTables_150500</td>\n",
       "      <td>1</td>\n",
       "      <td>NaN</td>\n",
       "      <td>-1</td>\n",
       "      <td>Wuthering Heights, Emily Brontë's only novel, ...</td>\n",
       "    </tr>\n",
       "    <tr>\n",
       "      <th>2534</th>\n",
       "      <td>GitTables_150500</td>\n",
       "      <td>2</td>\n",
       "      <td>NaN</td>\n",
       "      <td>-1</td>\n",
       "      <td>101;107;150;150;170</td>\n",
       "    </tr>\n",
       "    <tr>\n",
       "      <th>2535</th>\n",
       "      <td>GitTables_150500</td>\n",
       "      <td>3</td>\n",
       "      <td>NaN</td>\n",
       "      <td>-1</td>\n",
       "      <td>12;11;333;555;22</td>\n",
       "    </tr>\n",
       "    <tr>\n",
       "      <th>2536</th>\n",
       "      <td>GitTables_150500</td>\n",
       "      <td>4</td>\n",
       "      <td>price</td>\n",
       "      <td>24</td>\n",
       "      <td>11.11;12.34;13.13;14.0;15.0</td>\n",
       "    </tr>\n",
       "    <tr>\n",
       "      <th>2537</th>\n",
       "      <td>GitTables_150500</td>\n",
       "      <td>5</td>\n",
       "      <td>NaN</td>\n",
       "      <td>-1</td>\n",
       "      <td>GBP;GBP;USD;USD;EUR</td>\n",
       "    </tr>\n",
       "    <tr>\n",
       "      <th>2538</th>\n",
       "      <td>GitTables_150500</td>\n",
       "      <td>6</td>\n",
       "      <td>NaN</td>\n",
       "      <td>-1</td>\n",
       "      <td>11;11;16;16;13</td>\n",
       "    </tr>\n",
       "    <tr>\n",
       "      <th>2539</th>\n",
       "      <td>GitTables_150500</td>\n",
       "      <td>7</td>\n",
       "      <td>NaN</td>\n",
       "      <td>-1</td>\n",
       "      <td>EN;EN;EN;EN;EN</td>\n",
       "    </tr>\n",
       "  </tbody>\n",
       "</table>\n",
       "</div>"
      ],
      "text/plain": [
       "              table_id  col_idx  class  class_id  \\\n",
       "2532  GitTables_150500        0  title         4   \n",
       "2533  GitTables_150500        1    NaN        -1   \n",
       "2534  GitTables_150500        2    NaN        -1   \n",
       "2535  GitTables_150500        3    NaN        -1   \n",
       "2536  GitTables_150500        4  price        24   \n",
       "2537  GitTables_150500        5    NaN        -1   \n",
       "2538  GitTables_150500        6    NaN        -1   \n",
       "2539  GitTables_150500        7    NaN        -1   \n",
       "\n",
       "                                                   data  \n",
       "2532  Wuthering Heights;Jane Eyre;The Raven;Eleonora...  \n",
       "2533  Wuthering Heights, Emily Brontë's only novel, ...  \n",
       "2534                                101;107;150;150;170  \n",
       "2535                                   12;11;333;555;22  \n",
       "2536                        11.11;12.34;13.13;14.0;15.0  \n",
       "2537                                GBP;GBP;USD;USD;EUR  \n",
       "2538                                     11;11;16;16;13  \n",
       "2539                                     EN;EN;EN;EN;EN  "
      ]
     },
     "execution_count": 372,
     "metadata": {},
     "output_type": "execute_result"
    }
   ],
   "source": [
    "group_df_book"
   ]
  },
  {
   "cell_type": "code",
   "execution_count": 329,
   "metadata": {},
   "outputs": [
    {
     "name": "stdout",
     "output_type": "stream",
     "text": [
      "[CLS] 11. 11 ; 12. 34 ; 13. 13 ; 14. 0 ; 15. 0 [SEP] 12 ; 11 ; 333 ; 555 ; 22 [SEP] wuthering heights, emily bronte's only novel, was published in 1847 under the pseudonym \" ellis bell \". it was written between october 1845 and june 1846. wuthering heights and anne bronte's agnes grey were accepted by publisher thomas newby before the success of their sister charlotte's [SEP] 101 ; 107 ; 150 ; 150 ; 170 [SEP] gbp ; gbp ; usd ; usd ; eur [SEP] wuthering heights ; jane eyre ; the raven ; eleonora ; catweazle [SEP] en ; en ; en ; en ; en [SEP] 11 ; 11 ; 16 ; 16 ; 13\n"
     ]
    },
    {
     "name": "stderr",
     "output_type": "stream",
     "text": [
      "/tmp/ipykernel_1864547/540533653.py:18: FutureWarning: You are using `torch.load` with `weights_only=False` (the current default value), which uses the default pickle module implicitly. It is possible to construct malicious pickle data which will execute arbitrary code during unpickling (See https://github.com/pytorch/pytorch/blob/main/SECURITY.md#untrusted-models for more details). In a future release, the default value for `weights_only` will be flipped to `True`. This limits the functions that could be executed during unpickling. Arbitrary objects will no longer be allowed to be loaded via this mode unless they are explicitly allowlisted by the user via `torch.serialization.add_safe_globals`. We recommend you start setting `weights_only=True` for any use case where you don't have full control of the loaded file. Please open an issue on GitHub for any issues related to this experimental feature.\n",
      "  model.load_state_dict(torch.load(f\"/data/zhihao/TU/Watchog/outputs/gt-semtab22-dbpedia-all{cv}/bert-base-uncased-fromscratch-semi1-pool@v0-context@v1-max_num_col@8-poolv0-max_cols8-randFalse-bs16-ml64-ne50-do0.1_best_f1_micro.pt\", map_location=device))\n"
     ]
    },
    {
     "name": "stdout",
     "output_type": "stream",
     "text": [
      "['id' 'cost' 'price' 'elevation' 'weight']\n",
      "************************************\n",
      "[CLS] 11. 11 ; 12. 34 ; 13. 13 ; 14. 0 ; 15. 0 [SEP] wuthering heights, emily bronte's only novel, was published in 1847 under the pseudonym \" ellis bell \". it was written between october 1845 and june 1846. wuthering heights and anne bronte's agnes grey were accepted by publisher thomas newby before the success of their sister charlotte's [SEP] en ; en ; en ; en ; en [SEP] 11 ; 11 ; 16 ; 16 ; 13 [SEP] wuthering heights ; jane eyre ; the raven ; eleonora ; catweazle [SEP] 101 ; 107 ; 150 ; 150 ; 170 [SEP] 12 ; 11 ; 333 ; 555 ; 22 [SEP] gbp ; gbp ; usd ; usd ; eur\n",
      "['notes' 'title' 'role' 'cost' 'elevation']\n",
      "************************************\n",
      "[CLS] 11. 11 ; 12. 34 ; 13. 13 ; 14. 0 ; 15. 0 [SEP] wuthering heights, emily bronte's only novel, was published in 1847 under the pseudonym \" ellis bell \". it was written between october 1845 and june 1846. wuthering heights and anne bronte's agnes grey were accepted by publisher thomas newby before the success of their sister charlotte's [SEP] 101 ; 107 ; 150 ; 150 ; 170 [SEP] en ; en ; en ; en ; en [SEP] 12 ; 11 ; 333 ; 555 ; 22 [SEP] gbp ; gbp ; usd ; usd ; eur [SEP] 11 ; 11 ; 16 ; 16 ; 13 [SEP] wuthering heights ; jane eyre ; the raven ; eleonora ; catweazle\n",
      "['cost' 'id' 'price' 'weight' 'notes']\n",
      "************************************\n",
      "[CLS] 11. 11 ; 12. 34 ; 13. 13 ; 14. 0 ; 15. 0 [SEP] en ; en ; en ; en ; en [SEP] 101 ; 107 ; 150 ; 150 ; 170 [SEP] 11 ; 11 ; 16 ; 16 ; 13 [SEP] wuthering heights, emily bronte's only novel, was published in 1847 under the pseudonym \" ellis bell \". it was written between october 1845 and june 1846. wuthering heights and anne bronte's agnes grey were accepted by publisher thomas newby before the success of their sister charlotte's [SEP] 12 ; 11 ; 333 ; 555 ; 22 [SEP] gbp ; gbp ; usd ; usd ; eur [SEP] wuthering heights ; jane eyre ; the raven ; eleonora ; catweazle\n",
      "['price' 'cost' 'width' 'elevation' 'value']\n",
      "************************************\n",
      "[CLS] 11. 11 ; 12. 34 ; 13. 13 ; 14. 0 ; 15. 0 [SEP] gbp ; gbp ; usd ; usd ; eur [SEP] wuthering heights, emily bronte's only novel, was published in 1847 under the pseudonym \" ellis bell \". it was written between october 1845 and june 1846. wuthering heights and anne bronte's agnes grey were accepted by publisher thomas newby before the success of their sister charlotte's [SEP] wuthering heights ; jane eyre ; the raven ; eleonora ; catweazle [SEP] 12 ; 11 ; 333 ; 555 ; 22 [SEP] 11 ; 11 ; 16 ; 16 ; 13 [SEP] 101 ; 107 ; 150 ; 150 ; 170 [SEP] en ; en ; en ; en ; en\n",
      "['currency' 'company' 'abbreviation' 'publisher' 'source']\n",
      "************************************\n"
     ]
    }
   ],
   "source": [
    "# random permutate col order\n",
    "from copy import deepcopy\n",
    "for i in range(5):\n",
    "    col_idx = np.random.permutation(len(group_df))\n",
    "    target_df = deepcopy(group_df)\n",
    "    target_df.col_idx = col_idx\n",
    "    # print(target_df[\"data\"])\n",
    "    # target_dataset = SingleColDataset(group_df, target_col_idx=group_df[group_df[\"class\"] ==\"price\"].index.item(), tokenizer=tokenizer)\n",
    "    target_dataset = SingleColDataset(target_df, target_col_idx=target_df[target_df[\"class\"] ==\"price\"].index.item(), tokenizer=tokenizer)\n",
    "    padder = collate_fn(tokenizer.pad_token_id)\n",
    "    tg_dataloader = DataLoader(target_dataset,\n",
    "                                batch_size=batch_size,\n",
    "                                #   collate_fn=collate_fn)\n",
    "                                collate_fn=padder)\n",
    "    for batch in tg_dataloader:\n",
    "        print(tokenizer.decode(batch[\"data\"].reshape(-1)))\n",
    "\n",
    "    model.load_state_dict(torch.load(f\"/data/zhihao/TU/Watchog/outputs/gt-semtab22-dbpedia-all{cv}/bert-base-uncased-fromscratch-semi1-pool@v0-context@v1-max_num_col@8-poolv0-max_cols8-randFalse-bs16-ml64-ne50-do0.1_best_f1_micro.pt\", map_location=device))\n",
    "    model.eval()\n",
    "    model = model.to(device)\n",
    "    with torch.no_grad():\n",
    "        for batch_idx, batch in enumerate(tg_dataloader):\n",
    "            batch[\"data\"] = batch[\"data\"].to(device)\n",
    "            cls_indexes = torch.nonzero(\n",
    "                    batch[\"data\"].T == tokenizer.cls_token_id)\n",
    "            logits = model(batch[\"data\"].T, cls_indexes=cls_indexes).cpu()\n",
    "            label = batch[\"label\"].T.cpu()\n",
    "\n",
    "    print(types[logits.argsort( descending=True)[ :5].numpy()])\n",
    "    print('************************************')"
   ]
  },
  {
   "cell_type": "code",
   "execution_count": 402,
   "metadata": {},
   "outputs": [
    {
     "name": "stdout",
     "output_type": "stream",
     "text": [
      "[[0.46679425]] [CLS] 2005. 5 ; 929. 99 ; 358. 99 ; 649. 99 ; 248. 99 ; 253. 11 ; 354. 89 ; 169. 65 ; 184. 99 ; 250. 99 ; 214. 65 ; 137. 79 ; 111. 42 ; 99. 99 [SEP] https : / / www. cpubenchmark. net / cpu. php? id = 3092 ; https : / / www. cpubenchmark. net / cpu. php? id = 3035 ; https : / / www. cpubenchmark. net / cpu. php? id = [SEP] 11 / 09 / 18 ; 11 / 09 / 18 ; 11 / 09 / 18 ; 11 / 09 / 18 ; 11 / 09 / 18 ; 11 / 09 / 18 ; 11 / 09 / 18 ; 11 / 09 / 18 ; 11 / 09 / 18 ; 11 / 09 / 18 ; 11 / 09 [SEP] 27780 ; 21998 ; 15965 ; 22061 ; 15400 ; 12791 ; 12041 ; 13229 ; 9250 ; 9128 ; 6620 ; 7466 ; 5205 ; 4874 [SEP] fclga2066 ; fclga2066 ; fclga1151 ; str4 ; am4 ; fclga1151 ; lga 1151 ; am4 ; fclga1151 ; fclga1151 ; fclga1151 ; am4 ; fclga1151 ; fclga1151 [SEP] 165 ; 140 ; 95 ; 180 ; 95 ; 95 ; 95 ; 95 ; 91 ; 91 ; 60 ; 65 ; 51 ; 54 [SEP] 11 / 15 / 18 ; 11 / 15 / 18 ; 11 / 15 / 18 ; 11 / 15 / 18 ; 11 / 15 / 18 ; 11 / 15 / 18 ; 11 / 15 / 18 ; 11 / 15 / 18 ; 11 / 15 / 18 ; 11 / 15 / 18 ; 11 / 15 [SEP] core i9 - 7980xe ; core i9 - 7900x ; core i7 - 8700k ; threadripper 1950x ; ryzen 7 1800x ; core i5 - 8600k ; core i7 - 7700k ; ryzen 5 1600x ; core i3 -\n"
     ]
    },
    {
     "name": "stderr",
     "output_type": "stream",
     "text": [
      "/tmp/ipykernel_1864547/215865212.py:22: FutureWarning: You are using `torch.load` with `weights_only=False` (the current default value), which uses the default pickle module implicitly. It is possible to construct malicious pickle data which will execute arbitrary code during unpickling (See https://github.com/pytorch/pytorch/blob/main/SECURITY.md#untrusted-models for more details). In a future release, the default value for `weights_only` will be flipped to `True`. This limits the functions that could be executed during unpickling. Arbitrary objects will no longer be allowed to be loaded via this mode unless they are explicitly allowlisted by the user via `torch.serialization.add_safe_globals`. We recommend you start setting `weights_only=True` for any use case where you don't have full control of the loaded file. Please open an issue on GitHub for any issues related to this experimental feature.\n",
      "  model.load_state_dict(torch.load(f\"/data/zhihao/TU/Watchog/outputs/gt-semtab22-dbpedia-all{cv}/bert-base-uncased-fromscratch-semi1-pool@v0-context@v1-max_num_col@8-poolv0-max_cols8-randFalse-bs16-ml64-ne50-do0.1_best_f1_micro.pt\", map_location=device))\n"
     ]
    },
    {
     "name": "stdout",
     "output_type": "stream",
     "text": [
      "['price' 'min' 'duration' 'max' 'elevation']\n",
      "************************************\n",
      "[[0.46679428]] [CLS] 2005. 5 ; 929. 99 ; 358. 99 ; 649. 99 ; 248. 99 ; 253. 11 ; 354. 89 ; 169. 65 ; 184. 99 ; 250. 99 ; 214. 65 ; 137. 79 ; 111. 42 ; 99. 99 [SEP] fclga2066 ; fclga2066 ; fclga1151 ; str4 ; am4 ; fclga1151 ; lga 1151 ; am4 ; fclga1151 ; fclga1151 ; fclga1151 ; am4 ; fclga1151 ; fclga1151 [SEP] https : / / www. cpubenchmark. net / cpu. php? id = 3092 ; https : / / www. cpubenchmark. net / cpu. php? id = 3035 ; https : / / www. cpubenchmark. net / cpu. php? id = [SEP] 165 ; 140 ; 95 ; 180 ; 95 ; 95 ; 95 ; 95 ; 91 ; 91 ; 60 ; 65 ; 51 ; 54 [SEP] core i9 - 7980xe ; core i9 - 7900x ; core i7 - 8700k ; threadripper 1950x ; ryzen 7 1800x ; core i5 - 8600k ; core i7 - 7700k ; ryzen 5 1600x ; core i3 - [SEP] 11 / 09 / 18 ; 11 / 09 / 18 ; 11 / 09 / 18 ; 11 / 09 / 18 ; 11 / 09 / 18 ; 11 / 09 / 18 ; 11 / 09 / 18 ; 11 / 09 / 18 ; 11 / 09 / 18 ; 11 / 09 / 18 ; 11 / 09 [SEP] 2340 ; 2469 ; 2703 ; 1996 ; 1967 ; 2519 ; 2583 ; 1976 ; 2341 ; 2384 ; 2437 ; 1877 ; 2133 ; 1987 [SEP] 27780 ; 21998 ; 15965 ; 22061 ; 15400 ; 12791 ; 12041 ; 13229 ; 9250 ; 9128 ; 6620 ; 7466 ; 5205 ; 4874\n"
     ]
    },
    {
     "name": "stderr",
     "output_type": "stream",
     "text": [
      "/tmp/ipykernel_1864547/215865212.py:22: FutureWarning: You are using `torch.load` with `weights_only=False` (the current default value), which uses the default pickle module implicitly. It is possible to construct malicious pickle data which will execute arbitrary code during unpickling (See https://github.com/pytorch/pytorch/blob/main/SECURITY.md#untrusted-models for more details). In a future release, the default value for `weights_only` will be flipped to `True`. This limits the functions that could be executed during unpickling. Arbitrary objects will no longer be allowed to be loaded via this mode unless they are explicitly allowlisted by the user via `torch.serialization.add_safe_globals`. We recommend you start setting `weights_only=True` for any use case where you don't have full control of the loaded file. Please open an issue on GitHub for any issues related to this experimental feature.\n",
      "  model.load_state_dict(torch.load(f\"/data/zhihao/TU/Watchog/outputs/gt-semtab22-dbpedia-all{cv}/bert-base-uncased-fromscratch-semi1-pool@v0-context@v1-max_num_col@8-poolv0-max_cols8-randFalse-bs16-ml64-ne50-do0.1_best_f1_micro.pt\", map_location=device))\n"
     ]
    },
    {
     "name": "stdout",
     "output_type": "stream",
     "text": [
      "['price' 'duration' 'min' 'endDate' 'startDate']\n",
      "************************************\n",
      "[[0.46679428]] [CLS] 2005. 5 ; 929. 99 ; 358. 99 ; 649. 99 ; 248. 99 ; 253. 11 ; 354. 89 ; 169. 65 ; 184. 99 ; 250. 99 ; 214. 65 ; 137. 79 ; 111. 42 ; 99. 99 [SEP] 11 / 15 / 18 ; 11 / 15 / 18 ; 11 / 15 / 18 ; 11 / 15 / 18 ; 11 / 15 / 18 ; 11 / 15 / 18 ; 11 / 15 / 18 ; 11 / 15 / 18 ; 11 / 15 / 18 ; 11 / 15 / 18 ; 11 / 15 [SEP] core i9 - 7980xe ; core i9 - 7900x ; core i7 - 8700k ; threadripper 1950x ; ryzen 7 1800x ; core i5 - 8600k ; core i7 - 7700k ; ryzen 5 1600x ; core i3 - [SEP] 165 ; 140 ; 95 ; 180 ; 95 ; 95 ; 95 ; 95 ; 91 ; 91 ; 60 ; 65 ; 51 ; 54 [SEP] fclga2066 ; fclga2066 ; fclga1151 ; str4 ; am4 ; fclga1151 ; lga 1151 ; am4 ; fclga1151 ; fclga1151 ; fclga1151 ; am4 ; fclga1151 ; fclga1151 [SEP] https : / / www. cpubenchmark. net / cpu. php? id = 3092 ; https : / / www. cpubenchmark. net / cpu. php? id = 3035 ; https : / / www. cpubenchmark. net / cpu. php? id = [SEP] 2340 ; 2469 ; 2703 ; 1996 ; 1967 ; 2519 ; 2583 ; 1976 ; 2341 ; 2384 ; 2437 ; 1877 ; 2133 ; 1987 [SEP] 11 / 09 / 18 ; 11 / 09 / 18 ; 11 / 09 / 18 ; 11 / 09 / 18 ; 11 / 09 / 18 ; 11 / 09 / 18 ; 11 / 09 / 18 ; 11 / 09 / 18 ; 11 / 09 / 18 ; 11 / 09 / 18 ; 11 / 09\n"
     ]
    },
    {
     "name": "stderr",
     "output_type": "stream",
     "text": [
      "/tmp/ipykernel_1864547/215865212.py:22: FutureWarning: You are using `torch.load` with `weights_only=False` (the current default value), which uses the default pickle module implicitly. It is possible to construct malicious pickle data which will execute arbitrary code during unpickling (See https://github.com/pytorch/pytorch/blob/main/SECURITY.md#untrusted-models for more details). In a future release, the default value for `weights_only` will be flipped to `True`. This limits the functions that could be executed during unpickling. Arbitrary objects will no longer be allowed to be loaded via this mode unless they are explicitly allowlisted by the user via `torch.serialization.add_safe_globals`. We recommend you start setting `weights_only=True` for any use case where you don't have full control of the loaded file. Please open an issue on GitHub for any issues related to this experimental feature.\n",
      "  model.load_state_dict(torch.load(f\"/data/zhihao/TU/Watchog/outputs/gt-semtab22-dbpedia-all{cv}/bert-base-uncased-fromscratch-semi1-pool@v0-context@v1-max_num_col@8-poolv0-max_cols8-randFalse-bs16-ml64-ne50-do0.1_best_f1_micro.pt\", map_location=device))\n"
     ]
    },
    {
     "name": "stdout",
     "output_type": "stream",
     "text": [
      "['price' 'duration' 'min' 'elevation' 'endDate']\n",
      "************************************\n",
      "[[0.46679428]] [CLS] 2005. 5 ; 929. 99 ; 358. 99 ; 649. 99 ; 248. 99 ; 253. 11 ; 354. 89 ; 169. 65 ; 184. 99 ; 250. 99 ; 214. 65 ; 137. 79 ; 111. 42 ; 99. 99 [SEP] 2340 ; 2469 ; 2703 ; 1996 ; 1967 ; 2519 ; 2583 ; 1976 ; 2341 ; 2384 ; 2437 ; 1877 ; 2133 ; 1987 [SEP] 11 / 15 / 18 ; 11 / 15 / 18 ; 11 / 15 / 18 ; 11 / 15 / 18 ; 11 / 15 / 18 ; 11 / 15 / 18 ; 11 / 15 / 18 ; 11 / 15 / 18 ; 11 / 15 / 18 ; 11 / 15 / 18 ; 11 / 15 [SEP] 27780 ; 21998 ; 15965 ; 22061 ; 15400 ; 12791 ; 12041 ; 13229 ; 9250 ; 9128 ; 6620 ; 7466 ; 5205 ; 4874 [SEP] https : / / www. cpubenchmark. net / cpu. php? id = 3092 ; https : / / www. cpubenchmark. net / cpu. php? id = 3035 ; https : / / www. cpubenchmark. net / cpu. php? id = [SEP] 11 / 09 / 18 ; 11 / 09 / 18 ; 11 / 09 / 18 ; 11 / 09 / 18 ; 11 / 09 / 18 ; 11 / 09 / 18 ; 11 / 09 / 18 ; 11 / 09 / 18 ; 11 / 09 / 18 ; 11 / 09 / 18 ; 11 / 09 [SEP] core i9 - 7980xe ; core i9 - 7900x ; core i7 - 8700k ; threadripper 1950x ; ryzen 7 1800x ; core i5 - 8600k ; core i7 - 7700k ; ryzen 5 1600x ; core i3 - [SEP] 165 ; 140 ; 95 ; 180 ; 95 ; 95 ; 95 ; 95 ; 91 ; 91 ; 60 ; 65 ; 51 ; 54\n"
     ]
    },
    {
     "name": "stderr",
     "output_type": "stream",
     "text": [
      "/tmp/ipykernel_1864547/215865212.py:22: FutureWarning: You are using `torch.load` with `weights_only=False` (the current default value), which uses the default pickle module implicitly. It is possible to construct malicious pickle data which will execute arbitrary code during unpickling (See https://github.com/pytorch/pytorch/blob/main/SECURITY.md#untrusted-models for more details). In a future release, the default value for `weights_only` will be flipped to `True`. This limits the functions that could be executed during unpickling. Arbitrary objects will no longer be allowed to be loaded via this mode unless they are explicitly allowlisted by the user via `torch.serialization.add_safe_globals`. We recommend you start setting `weights_only=True` for any use case where you don't have full control of the loaded file. Please open an issue on GitHub for any issues related to this experimental feature.\n",
      "  model.load_state_dict(torch.load(f\"/data/zhihao/TU/Watchog/outputs/gt-semtab22-dbpedia-all{cv}/bert-base-uncased-fromscratch-semi1-pool@v0-context@v1-max_num_col@8-poolv0-max_cols8-randFalse-bs16-ml64-ne50-do0.1_best_f1_micro.pt\", map_location=device))\n"
     ]
    },
    {
     "name": "stdout",
     "output_type": "stream",
     "text": [
      "['price' 'duration' 'min' 'elevation' 'width']\n",
      "************************************\n",
      "[[0.46679425]] [CLS] 2005. 5 ; 929. 99 ; 358. 99 ; 649. 99 ; 248. 99 ; 253. 11 ; 354. 89 ; 169. 65 ; 184. 99 ; 250. 99 ; 214. 65 ; 137. 79 ; 111. 42 ; 99. 99 [SEP] 165 ; 140 ; 95 ; 180 ; 95 ; 95 ; 95 ; 95 ; 91 ; 91 ; 60 ; 65 ; 51 ; 54 [SEP] fclga2066 ; fclga2066 ; fclga1151 ; str4 ; am4 ; fclga1151 ; lga 1151 ; am4 ; fclga1151 ; fclga1151 ; fclga1151 ; am4 ; fclga1151 ; fclga1151 [SEP] core i9 - 7980xe ; core i9 - 7900x ; core i7 - 8700k ; threadripper 1950x ; ryzen 7 1800x ; core i5 - 8600k ; core i7 - 7700k ; ryzen 5 1600x ; core i3 - [SEP] 11 / 09 / 18 ; 11 / 09 / 18 ; 11 / 09 / 18 ; 11 / 09 / 18 ; 11 / 09 / 18 ; 11 / 09 / 18 ; 11 / 09 / 18 ; 11 / 09 / 18 ; 11 / 09 / 18 ; 11 / 09 / 18 ; 11 / 09 [SEP] 11 / 15 / 18 ; 11 / 15 / 18 ; 11 / 15 / 18 ; 11 / 15 / 18 ; 11 / 15 / 18 ; 11 / 15 / 18 ; 11 / 15 / 18 ; 11 / 15 / 18 ; 11 / 15 / 18 ; 11 / 15 / 18 ; 11 / 15 [SEP] https : / / www. cpubenchmark. net / cpu. php? id = 3092 ; https : / / www. cpubenchmark. net / cpu. php? id = 3035 ; https : / / www. cpubenchmark. net / cpu. php? id = [SEP] 27780 ; 21998 ; 15965 ; 22061 ; 15400 ; 12791 ; 12041 ; 13229 ; 9250 ; 9128 ; 6620 ; 7466 ; 5205 ; 4874\n"
     ]
    },
    {
     "name": "stderr",
     "output_type": "stream",
     "text": [
      "/tmp/ipykernel_1864547/215865212.py:22: FutureWarning: You are using `torch.load` with `weights_only=False` (the current default value), which uses the default pickle module implicitly. It is possible to construct malicious pickle data which will execute arbitrary code during unpickling (See https://github.com/pytorch/pytorch/blob/main/SECURITY.md#untrusted-models for more details). In a future release, the default value for `weights_only` will be flipped to `True`. This limits the functions that could be executed during unpickling. Arbitrary objects will no longer be allowed to be loaded via this mode unless they are explicitly allowlisted by the user via `torch.serialization.add_safe_globals`. We recommend you start setting `weights_only=True` for any use case where you don't have full control of the loaded file. Please open an issue on GitHub for any issues related to this experimental feature.\n",
      "  model.load_state_dict(torch.load(f\"/data/zhihao/TU/Watchog/outputs/gt-semtab22-dbpedia-all{cv}/bert-base-uncased-fromscratch-semi1-pool@v0-context@v1-max_num_col@8-poolv0-max_cols8-randFalse-bs16-ml64-ne50-do0.1_best_f1_micro.pt\", map_location=device))\n"
     ]
    },
    {
     "name": "stdout",
     "output_type": "stream",
     "text": [
      "['price' 'min' 'duration' 'elevation' 'max']\n",
      "************************************\n"
     ]
    }
   ],
   "source": [
    "# random permutate col order\n",
    "from copy import deepcopy\n",
    "for i in range(5):\n",
    "    col_idx = np.random.permutation(len(group_df))\n",
    "    target_df = deepcopy(group_df)\n",
    "    target_df.col_idx = col_idx\n",
    "    # print(target_df[\"data\"])\n",
    "    # target_dataset = SingleColDataset(group_df, target_col_idx=group_df[group_df[\"class\"] ==\"price\"].index.item(), tokenizer=tokenizer)\n",
    "    target_dataset = SingleColDataset(target_df, target_col_idx=target_df[target_df[\"class\"] ==\"price\"].index.item(), tokenizer=tokenizer)\n",
    "    padder = collate_fn(tokenizer.pad_token_id)\n",
    "    tg_dataloader = DataLoader(target_dataset,\n",
    "                                batch_size=batch_size,\n",
    "                                #   collate_fn=collate_fn)\n",
    "                                collate_fn=padder)\n",
    "    target = target_df[\"data\"].values\n",
    "    target_text = \" \".join(target)\n",
    "    target_embs = ft_model.get_sentence_vector(target_text)\n",
    "    sim = cosine_similarity([target_embs_movie], [target_embs ])\n",
    "    for batch in tg_dataloader:\n",
    "        print(sim, tokenizer.decode(batch[\"data\"].reshape(-1)))\n",
    "\n",
    "    model.load_state_dict(torch.load(f\"/data/zhihao/TU/Watchog/outputs/gt-semtab22-dbpedia-all{cv}/bert-base-uncased-fromscratch-semi1-pool@v0-context@v1-max_num_col@8-poolv0-max_cols8-randFalse-bs16-ml64-ne50-do0.1_best_f1_micro.pt\", map_location=device))\n",
    "    model.eval()\n",
    "    model = model.to(device)\n",
    "    with torch.no_grad():\n",
    "        for batch_idx, batch in enumerate(tg_dataloader):\n",
    "            batch[\"data\"] = batch[\"data\"].to(device)\n",
    "            cls_indexes = torch.nonzero(\n",
    "                    batch[\"data\"].T == tokenizer.cls_token_id)\n",
    "            logits = model(batch[\"data\"].T, cls_indexes=cls_indexes).cpu()\n",
    "            label = batch[\"label\"].T.cpu()\n",
    "\n",
    "    print(types[logits.argsort( descending=True)[ :5].numpy()])\n",
    "    print('************************************')"
   ]
  },
  {
   "cell_type": "code",
   "execution_count": 11,
   "metadata": {},
   "outputs": [],
   "source": [
    "types = np.array(['id', 'name', 'description', 'type', 'title', 'state', 'status',\n",
    "       'date', 'code', 'city', 'value', 'source', 'year', 'time',\n",
    "       'country', 'county', 'comment', 'notes', 'category', 'address',\n",
    "       'age', 'gender', 'location', 'version', 'price', 'sex',\n",
    "       'startDate', 'weight', 'class', 'endDate', 'field', 'region',\n",
    "       'note', 'race', 'duration', 'species', 'score', 'position',\n",
    "       'start', 'language', 'rank', 'height', 'population', 'order',\n",
    "       'length', 'filename', 'model', 'role', 'series', 'max', 'min',\n",
    "       'family', 'currency', 'definition', 'format', 'author', 'area',\n",
    "       'domain', 'rating', 'parent', 'number', 'birthDate', 'alias',\n",
    "       'postalCode', 'reference', 'cost', 'publisher', 'treatment',\n",
    "       'created', 'company', 'district', 'elevation', 'project', 'day',\n",
    "       'end', 'scientificName', 'abbreviation', 'part', 'countryCode',\n",
    "       'season', 'topic', 'depth', 'road', 'prefix', 'month', 'route',\n",
    "       'width', 'department', 'percentage', 'zipCode', 'abstract',\n",
    "       'event', 'creator', 'frequency', 'releaseDate', 'genus', 'tag',\n",
    "       'owner', 'party', 'period', 'result'])\n",
    "type2id = {t: i for i, t in enumerate(types)}\n",
    "id2type = {i: t for i, t in enumerate(types)}\n",
    "column_categories = {\n",
    "    \"Numerical\": ['age', 'value', 'price', 'weight', 'score', 'rank', 'height', 'population', 'order', 'length', 'max', 'min', 'number', 'cost', 'elevation', 'depth', 'width', 'percentage'],\n",
    "    \"Categorical\": ['id', 'name', 'description', 'type', 'title', 'state', 'status', 'code', 'city', 'source', 'country', 'county', 'comment', 'notes', 'category', 'address', 'gender', 'location', 'version', 'sex', 'class', 'field', 'region', 'note', 'race', 'species', 'position', 'language', 'filename', 'model', 'role', 'series', 'family', 'currency', 'definition', 'format', 'author', 'area', 'domain', 'rating', 'parent', 'alias', 'postalCode', 'reference', 'publisher', 'treatment', 'company', 'district', 'project', 'scientificName', 'abbreviation', 'part', 'countryCode', 'topic', 'road', 'prefix', 'route', 'department', 'zipCode', 'abstract', 'event', 'creator', 'genus', 'tag', 'owner', 'party', 'result'],\n",
    "    \"Datetime\": ['date', 'time', 'startDate', 'endDate', 'birthDate', 'created', 'day', 'end', 'month', 'period', 'releaseDate', 'season'],\n",
    "    \"Other\": ['start', 'duration', 'project', 'frequency']\n",
    "}\n",
    "is_numerical = np.array([t in column_categories[\"Numerical\"] for t in types])\n",
    "is_categorical = np.array([t in column_categories[\"Categorical\"] for t in types])\n",
    "is_datetime = np.array([t in column_categories[\"Datetime\"] for t in types])\n",
    "is_other = np.array([t in column_categories[\"Other\"] for t in types])"
   ]
  },
  {
   "cell_type": "code",
   "execution_count": 378,
   "metadata": {},
   "outputs": [
    {
     "data": {
      "text/plain": [
       "array(['id', 'name', 'description', 'type', 'title', 'state', 'status',\n",
       "       'date', 'code', 'city', 'value', 'source', 'year', 'time',\n",
       "       'country', 'county', 'comment', 'notes', 'category', 'address',\n",
       "       'age', 'gender', 'location', 'version', 'price', 'sex',\n",
       "       'startDate', 'weight', 'class', 'endDate', 'field', 'region',\n",
       "       'note', 'race', 'duration', 'species', 'score', 'position',\n",
       "       'start', 'language', 'rank', 'height', 'population', 'order',\n",
       "       'length', 'filename', 'model', 'role', 'series', 'max', 'min',\n",
       "       'family', 'currency', 'definition', 'format', 'author', 'area',\n",
       "       'domain', 'rating', 'parent', 'number', 'birthDate', 'alias',\n",
       "       'postalCode', 'reference', 'cost', 'publisher', 'treatment',\n",
       "       'created', 'company', 'district', 'elevation', 'project', 'day',\n",
       "       'end', 'scientificName', 'abbreviation', 'part', 'countryCode',\n",
       "       'season', 'topic', 'depth', 'road', 'prefix', 'month', 'route',\n",
       "       'width', 'department', 'percentage', 'zipCode', 'abstract',\n",
       "       'event', 'creator', 'frequency', 'releaseDate', 'genus', 'tag',\n",
       "       'owner', 'party', 'period', 'result'], dtype='<U14')"
      ]
     },
     "execution_count": 378,
     "metadata": {},
     "output_type": "execute_result"
    }
   ],
   "source": [
    "types"
   ]
  },
  {
   "cell_type": "code",
   "execution_count": 380,
   "metadata": {},
   "outputs": [
    {
     "name": "stdout",
     "output_type": "stream",
     "text": [
      "0.3333333333333333 2\n",
      "================================\n",
      "version ||       class                                               data\n",
      "769  rating  2.0;3.5;3.5;4.0;5.0;4.0;3.0;2.0;3.0;3.0;3.0;4....\n",
      "    class                                               data\n",
      "761   NaN  Alabama;Alaska;Arizona;Arkansas;California;Col...\n",
      "762   NaN  AL;AK;AZ;AR;CA;CO;CT;DE;DC;FL;GA;HI;ID;IL;IN;I...\n",
      "763   NaN  2016.0;2015.0;2002.0;2012.0;2010.0;2014.0;2014...\n",
      "764   NaN  None;Early Voting;Early Voting;Early Voting;Ea...\n",
      "765   NaN  Photo ID Requested;ID Requested (General);Stri...\n",
      "766   NaN  No;No;Yes;Yes;Yes;Yes;No;No;No;No;No;Yes;No;No...\n",
      "767   NaN  Strictest;Until Sentence Complete;Strictest;Un...\n",
      "768   NaN  Does Not Count;Partial Count;Partial Count;Par...\n",
      "770   NaN  D;B;B;B;A;B;C;D;C;C;C;B;B;C;C;B;B;D;B;B;B;B;C;...\n",
      "771   NaN  58.6;58.7;52.6;50.7;55.1;69.9;61.3;62.3;61.5;6...\n",
      "772   NaN  58.8;61.0;54.9;52.8;56.5;70.0;63.7;64.2;60.4;6...\n",
      "773   NaN  0.2;2.3;2.3;2.1;1.4;0.1;2.4;1.9;-1.1;1.7;0.1;-...\n",
      "================================\n",
      "rating ||             class                                               data\n",
      "1822  releaseDate  2018-05-15;2016-10-10;2016-05-02;2017-02-13;20...\n",
      "1823       rating  3;5;5;3;5;4;5;4;4;3;4;3;4;5;3;4;3;4;4;5;5;4;4;4;5\n",
      "     class                                               data\n",
      "1817   NaN  801;802;803;804;805;806;807;808;809;810;811;81...\n",
      "1818   NaN  Fake Love;Blood Sweat & Tears;Save Me;Spring D...\n",
      "1819   NaN  83;83;83;83;83;83;84;84;84;84;84;84;85;85;85;8...\n",
      "1820   NaN  BTS;BTS;BTS;BTS;BTS;BTS;PSY;PSY;PSY;PSY;PSY;PS...\n",
      "1821   NaN  /home/akshyta/Desktop/DBMS_Project/Lyrics/K1.t...\n",
      "1824   NaN  100;129;100;70;200;159;200;50;100;130;20;100;1...\n",
      "1825   NaN  903;901;903;901;909;901;905;905;901;905;902;90...\n",
      "1826   NaN  104;104;103;101;104;105;102;105;105;102;101;10...\n",
      "1827   NaN  43;43;43;43;43;43;43;43;43;43;43;43;43;43;43;4...\n",
      "1828   NaN  /home/akshyta/Desktop/DBMS_Project/Songs/K1.mp...\n",
      "1829   NaN  ...;...;...;...;...;...;...;...;...;...;...;.....\n",
      "================================\n",
      "id ||             class                                               data\n",
      "3091           id  1;2;3;4;5;6;7;8;9;10;11;12;13;14;15;16;17;18;1...\n",
      "3094       rating  **;**;*****;**;*;*;***;*;*;*;*;**;**;***;*;**;...\n",
      "3096  description  [Revolutionary League];[Post FW];[Defunct];[Sh...\n",
      "     class                                               data\n",
      "3092   NaN  Any;Any;Any;Clerk;Clerk;Clerk;Guild;Guild;Guil...\n",
      "3093   NaN  Funicular;Secret Door Safe House;World Serpent...\n",
      "3095   NaN  Dungeon Magazine ;The Factol’s Manifesto, p. 1...\n",
      "3097   NaN  Brimarc;Wilbur Cookenstein;Mirror Will;Boffo, ...\n",
      "3098   NaN  Mentioned in both versions of the Sigil Venues...\n",
      "================================\n",
      "rating ||          class                                               data\n",
      "3757    rating  5.0;5.0;5.0;4.0;5.0;5.0;4.0;5.0;4.0;5.0;5.0;5....\n",
      "3758  category  health_and_personal_care;health_and_personal_c...\n",
      "     class                                               data\n",
      "3755   NaN  B00A0K6N56;B00A0K6N56;B00A0K6N56;B00A0K6N56;B0...\n",
      "3756   NaN  This Pet Roller is the best that I have found ...\n",
      "================================\n"
     ]
    },
    {
     "ename": "IndexError",
     "evalue": "index 4 is out of bounds for axis 0 with size 4",
     "output_type": "error",
     "traceback": [
      "\u001b[0;31m---------------------------------------------------------------------------\u001b[0m",
      "\u001b[0;31mIndexError\u001b[0m                                Traceback (most recent call last)",
      "Input \u001b[0;32mIn [380]\u001b[0m, in \u001b[0;36m<cell line: 7>\u001b[0;34m()\u001b[0m\n\u001b[1;32m      7\u001b[0m \u001b[38;5;28;01mfor\u001b[39;00m i, (index, group_df) \u001b[38;5;129;01min\u001b[39;00m \u001b[38;5;28menumerate\u001b[39m(df_group_train):\n\u001b[1;32m      8\u001b[0m     \u001b[38;5;28;01mif\u001b[39;00m target_type \u001b[38;5;129;01min\u001b[39;00m group_df[\u001b[38;5;124m\"\u001b[39m\u001b[38;5;124mclass\u001b[39m\u001b[38;5;124m\"\u001b[39m]\u001b[38;5;241m.\u001b[39mvalues:\n\u001b[1;32m      9\u001b[0m         \u001b[38;5;66;03m# if types[preds[labels==target_type_id]][num] != target_type:\u001b[39;00m\n\u001b[1;32m     10\u001b[0m         \u001b[38;5;66;03m#     print(types[preds[labels==target_type_id]][num], \"||\",group_df[group_df[\"class_id\"]>-1][[\"class\", \"data\"]])\u001b[39;00m\n\u001b[1;32m     11\u001b[0m         \u001b[38;5;66;03m#     wrong_num += 1\u001b[39;00m\n\u001b[1;32m     12\u001b[0m         \u001b[38;5;66;03m#     print(group_df[group_df[\"class_id\"]==-1][[\"class\", \"data\"]])\u001b[39;00m\n\u001b[1;32m     13\u001b[0m         \u001b[38;5;66;03m#     print(\"================================\")\u001b[39;00m\n\u001b[0;32m---> 14\u001b[0m         \u001b[38;5;28mprint\u001b[39m(\u001b[43mtypes\u001b[49m\u001b[43m[\u001b[49m\u001b[43mpreds\u001b[49m\u001b[43m[\u001b[49m\u001b[43mlabels\u001b[49m\u001b[38;5;241;43m==\u001b[39;49m\u001b[43mtarget_type_id\u001b[49m\u001b[43m]\u001b[49m\u001b[43m]\u001b[49m\u001b[43m[\u001b[49m\u001b[43mnum\u001b[49m\u001b[43m]\u001b[49m, \u001b[38;5;124m\"\u001b[39m\u001b[38;5;124m||\u001b[39m\u001b[38;5;124m\"\u001b[39m,group_df[group_df[\u001b[38;5;124m\"\u001b[39m\u001b[38;5;124mclass_id\u001b[39m\u001b[38;5;124m\"\u001b[39m]\u001b[38;5;241m>\u001b[39m\u001b[38;5;241m-\u001b[39m\u001b[38;5;241m1\u001b[39m][[\u001b[38;5;124m\"\u001b[39m\u001b[38;5;124mclass\u001b[39m\u001b[38;5;124m\"\u001b[39m, \u001b[38;5;124m\"\u001b[39m\u001b[38;5;124mdata\u001b[39m\u001b[38;5;124m\"\u001b[39m]])\n\u001b[1;32m     15\u001b[0m         \u001b[38;5;28mprint\u001b[39m(group_df[group_df[\u001b[38;5;124m\"\u001b[39m\u001b[38;5;124mclass_id\u001b[39m\u001b[38;5;124m\"\u001b[39m]\u001b[38;5;241m==\u001b[39m\u001b[38;5;241m-\u001b[39m\u001b[38;5;241m1\u001b[39m][[\u001b[38;5;124m\"\u001b[39m\u001b[38;5;124mclass\u001b[39m\u001b[38;5;124m\"\u001b[39m, \u001b[38;5;124m\"\u001b[39m\u001b[38;5;124mdata\u001b[39m\u001b[38;5;124m\"\u001b[39m]])\n\u001b[1;32m     16\u001b[0m         \u001b[38;5;28mprint\u001b[39m(\u001b[38;5;124m\"\u001b[39m\u001b[38;5;124m================================\u001b[39m\u001b[38;5;124m\"\u001b[39m)\n",
      "\u001b[0;31mIndexError\u001b[0m: index 4 is out of bounds for axis 0 with size 4"
     ]
    }
   ],
   "source": [
    "num = 0\n",
    "wrong_num = 0\n",
    "target_type = \"rating\"\n",
    "target_type_id = np.where(types==target_type )[0][0]\n",
    "print(class_f1[target_type_id],sum(preds[labels==target_type_id]==target_type_id))\n",
    "print(\"================================\")\n",
    "for i, (index, group_df) in enumerate(df_group_train):\n",
    "    if target_type in group_df[\"class\"].values:\n",
    "        # if types[preds[labels==target_type_id]][num] != target_type:\n",
    "        #     print(types[preds[labels==target_type_id]][num], \"||\",group_df[group_df[\"class_id\"]>-1][[\"class\", \"data\"]])\n",
    "        #     wrong_num += 1\n",
    "        #     print(group_df[group_df[\"class_id\"]==-1][[\"class\", \"data\"]])\n",
    "        #     print(\"================================\")\n",
    "        print(types[preds[labels==target_type_id]][num], \"||\",group_df[group_df[\"class_id\"]>-1][[\"class\", \"data\"]])\n",
    "        print(group_df[group_df[\"class_id\"]==-1][[\"class\", \"data\"]])\n",
    "        print(\"================================\")\n",
    "        num += 1\n",
    "        "
   ]
  },
  {
   "cell_type": "code",
   "execution_count": 336,
   "metadata": {},
   "outputs": [
    {
     "name": "stdout",
     "output_type": "stream",
     "text": [
      "0.5 4\n",
      "================================\n",
      "age ||       class                                               data\n",
      "3305   date  2021-01-02;2020-12-26;2020-12-16;2020-12-02;20...\n",
      "3308  price  42.493;31.765;38.265;38.053;25.769;34.784;35.8...\n",
      "3310   note  Shell fuelsave;Emptied tank after 636 km;Bough...\n",
      "     class                                               data\n",
      "3304   NaN  1;2;3;4;5;6;7;8;9;10;11;12;13;14;15;16;17;18;1...\n",
      "3306   NaN  168529.0;167994.0;167538.0;167034.0;166561.0;1...\n",
      "3307   NaN  28.16;21.191;25.358;25.729;17.542;23.841;25.09...\n",
      "3309   NaN  False;False;False;False;False;False;False;Fals...\n",
      "3311   NaN  1;1;1;1;1;1;1;1;1;1;1;1;1;1;1;1;1;1;1;1;1;1;1;...\n",
      "3312   NaN  1;1;1;1;1;1;1;1;1;1;1;1;1;1;1;1;1;1;1;1;1;1;1;...\n",
      "================================\n",
      "weight ||       class                                data\n",
      "3700  price  20.1;50.0;20.1;30.0;30.0;30.0;30.0\n",
      "     class                                               data\n",
      "3691   NaN                                      1;2;3;4;5;6;7\n",
      "3692   NaN                                      2;2;2;3;3;3;1\n",
      "3693   NaN                                      1;1;1;2;2;2;3\n",
      "3694   NaN   Event1;Event1;Event1;Event2;Event2;Event2;Event3\n",
      "3695   NaN  2020-01-01;2020-01-01;2020-01-01;2020-02-14;20...\n",
      "3696   NaN  festival;festival;festival;music;music;music;s...\n",
      "3697   NaN  Chicago;Chicago;Chicago;New York;New York;New ...\n",
      "3698   NaN  event address 1;event address 1;event address ...\n",
      "3699   NaN                                      1;2;3;1;2;3;3\n",
      "3701   NaN                              20;10;50;200;20;10;10\n",
      "================================\n",
      "duration ||          class                                  data\n",
      "5791    length              6.4;11.27;8.71;8.71;5.82\n",
      "5792     width              6.37;7.07;5.44;8.65;5.84\n",
      "5803     price  3472.0;15660.7;4680.0;16000.0;790.23\n",
      "5808  location                           HK;HK;HK;HK\n",
      "     class                                               data\n",
      "5779   NaN                                    23;32;33;34;114\n",
      "5780   NaN                  DR2-2J;DR2-1;DJ1-3E;DR1-4B;EH3-49\n",
      "5781   NaN  1349200880;6342370051;7331073794;6345123874;42...\n",
      "5782   NaN                        ROUND;PEAR;PEAR;ROUND;ROUND\n",
      "5783   NaN                               1.0;2.0;1.0;2.5;0.71\n",
      "5784   NaN                                          E;E;E;F;N\n",
      "5785   NaN                               SI2;SI1;VVS2;SI2;VS1\n",
      "5786   NaN                                       EX;-;-;EX;EX\n",
      "5787   NaN                                     VG;EX;EX;EX;EX\n",
      "5788   NaN                                     VG;EX;VG;EX;EX\n",
      "5789   NaN                                NON;NON;NON;STG;NON\n",
      "5790   NaN                                               Blue\n",
      "5793   NaN                           3.94;4.22;3.47;5.35;3.45\n",
      "5794   NaN                           61.7;59.7;63.8;61.6;59.1\n",
      "5795   NaN                           60.0;62.0;60.0;60.0;59.5\n",
      "5796   NaN                           NON;NON;None;NON;POINTED\n",
      "5797   NaN                                GIA;GIA;GIA;GIA;IGI\n",
      "5798   NaN  MED to STK;STK to VTK;THK to VTK;MED to STK;TH...\n",
      "5799   NaN                           100%;100%;100%;100%;100%\n",
      "5800   NaN            Not brown;Not brown;Not brown;Not brown\n",
      "5801   NaN            Not green;Not green;Not green;Not green\n",
      "5802   NaN            -44.00%;-31.91%;-40.00%;-36.00%;-47.00%\n",
      "5804   NaN                3472.0;7830.35;4680.0;6400.0;1113.0\n",
      "5805   NaN  https://nivoda-images.s3.eu-west-2.amazonaws.c...\n",
      "5806   NaN  https://www.gia.edu/report-check?reportno=1349...\n",
      "5807   NaN  African star (hk) ltd;African star (hk) ltd;Af...\n",
      "5809   NaN                                          Y;Y;Y;Y;Y\n",
      "5810   NaN  f6e0efcb-9b29-42a6-9721-b7322986b542;f6e0efcb-...\n",
      "================================\n"
     ]
    }
   ],
   "source": [
    "num = 0\n",
    "wrong_num = 0\n",
    "target_type = \"price\"\n",
    "target_type_id = np.where(types==target_type )[0][0]\n",
    "print(class_f1[target_type_id],sum(preds[labels==target_type_id]==target_type_id))\n",
    "print(\"================================\")\n",
    "for i, (index, group_df) in enumerate(df_group_test):\n",
    "    if target_type in group_df[\"class\"].values:\n",
    "        if types[preds[labels==target_type_id]][num] != target_type:\n",
    "            print(types[preds[labels==target_type_id]][num], \"||\",group_df[group_df[\"class_id\"]>-1][[\"class\", \"data\"]])\n",
    "            wrong_num += 1\n",
    "            print(group_df[group_df[\"class_id\"]==-1][[\"class\", \"data\"]])\n",
    "            print(\"================================\")\n",
    "        num += 1\n",
    "        if \"African star (hk) ltd\" in \" \".join(group_df[\"data\"].values):\n",
    "            break\n",
    "        "
   ]
  },
  {
   "cell_type": "code",
   "execution_count": 337,
   "metadata": {},
   "outputs": [],
   "source": [
    "group_df = pd.concat([group_df[group_df[\"class\"] == \"price\"], group_df[group_df[\"class\"] != \"price\"]])"
   ]
  },
  {
   "cell_type": "code",
   "execution_count": 338,
   "metadata": {},
   "outputs": [
    {
     "data": {
      "text/html": [
       "<div>\n",
       "<style scoped>\n",
       "    .dataframe tbody tr th:only-of-type {\n",
       "        vertical-align: middle;\n",
       "    }\n",
       "\n",
       "    .dataframe tbody tr th {\n",
       "        vertical-align: top;\n",
       "    }\n",
       "\n",
       "    .dataframe thead th {\n",
       "        text-align: right;\n",
       "    }\n",
       "</style>\n",
       "<table border=\"1\" class=\"dataframe\">\n",
       "  <thead>\n",
       "    <tr style=\"text-align: right;\">\n",
       "      <th></th>\n",
       "      <th>table_id</th>\n",
       "      <th>col_idx</th>\n",
       "      <th>class</th>\n",
       "      <th>class_id</th>\n",
       "      <th>data</th>\n",
       "    </tr>\n",
       "  </thead>\n",
       "  <tbody>\n",
       "    <tr>\n",
       "      <th>5803</th>\n",
       "      <td>GitTables_364</td>\n",
       "      <td>26</td>\n",
       "      <td>price</td>\n",
       "      <td>24</td>\n",
       "      <td>3472.0;15660.7;4680.0;16000.0;790.23</td>\n",
       "    </tr>\n",
       "    <tr>\n",
       "      <th>5779</th>\n",
       "      <td>GitTables_364</td>\n",
       "      <td>0</td>\n",
       "      <td>NaN</td>\n",
       "      <td>-1</td>\n",
       "      <td>23;32;33;34;114</td>\n",
       "    </tr>\n",
       "    <tr>\n",
       "      <th>5780</th>\n",
       "      <td>GitTables_364</td>\n",
       "      <td>1</td>\n",
       "      <td>NaN</td>\n",
       "      <td>-1</td>\n",
       "      <td>DR2-2J;DR2-1;DJ1-3E;DR1-4B;EH3-49</td>\n",
       "    </tr>\n",
       "    <tr>\n",
       "      <th>5781</th>\n",
       "      <td>GitTables_364</td>\n",
       "      <td>2</td>\n",
       "      <td>NaN</td>\n",
       "      <td>-1</td>\n",
       "      <td>1349200880;6342370051;7331073794;6345123874;42...</td>\n",
       "    </tr>\n",
       "    <tr>\n",
       "      <th>5782</th>\n",
       "      <td>GitTables_364</td>\n",
       "      <td>3</td>\n",
       "      <td>NaN</td>\n",
       "      <td>-1</td>\n",
       "      <td>ROUND;PEAR;PEAR;ROUND;ROUND</td>\n",
       "    </tr>\n",
       "    <tr>\n",
       "      <th>5783</th>\n",
       "      <td>GitTables_364</td>\n",
       "      <td>4</td>\n",
       "      <td>NaN</td>\n",
       "      <td>-1</td>\n",
       "      <td>1.0;2.0;1.0;2.5;0.71</td>\n",
       "    </tr>\n",
       "    <tr>\n",
       "      <th>5784</th>\n",
       "      <td>GitTables_364</td>\n",
       "      <td>5</td>\n",
       "      <td>NaN</td>\n",
       "      <td>-1</td>\n",
       "      <td>E;E;E;F;N</td>\n",
       "    </tr>\n",
       "    <tr>\n",
       "      <th>5785</th>\n",
       "      <td>GitTables_364</td>\n",
       "      <td>6</td>\n",
       "      <td>NaN</td>\n",
       "      <td>-1</td>\n",
       "      <td>SI2;SI1;VVS2;SI2;VS1</td>\n",
       "    </tr>\n",
       "    <tr>\n",
       "      <th>5786</th>\n",
       "      <td>GitTables_364</td>\n",
       "      <td>7</td>\n",
       "      <td>NaN</td>\n",
       "      <td>-1</td>\n",
       "      <td>EX;-;-;EX;EX</td>\n",
       "    </tr>\n",
       "    <tr>\n",
       "      <th>5787</th>\n",
       "      <td>GitTables_364</td>\n",
       "      <td>8</td>\n",
       "      <td>NaN</td>\n",
       "      <td>-1</td>\n",
       "      <td>VG;EX;EX;EX;EX</td>\n",
       "    </tr>\n",
       "    <tr>\n",
       "      <th>5788</th>\n",
       "      <td>GitTables_364</td>\n",
       "      <td>9</td>\n",
       "      <td>NaN</td>\n",
       "      <td>-1</td>\n",
       "      <td>VG;EX;VG;EX;EX</td>\n",
       "    </tr>\n",
       "    <tr>\n",
       "      <th>5789</th>\n",
       "      <td>GitTables_364</td>\n",
       "      <td>10</td>\n",
       "      <td>NaN</td>\n",
       "      <td>-1</td>\n",
       "      <td>NON;NON;NON;STG;NON</td>\n",
       "    </tr>\n",
       "    <tr>\n",
       "      <th>5790</th>\n",
       "      <td>GitTables_364</td>\n",
       "      <td>11</td>\n",
       "      <td>NaN</td>\n",
       "      <td>-1</td>\n",
       "      <td>Blue</td>\n",
       "    </tr>\n",
       "    <tr>\n",
       "      <th>5791</th>\n",
       "      <td>GitTables_364</td>\n",
       "      <td>13</td>\n",
       "      <td>length</td>\n",
       "      <td>44</td>\n",
       "      <td>6.4;11.27;8.71;8.71;5.82</td>\n",
       "    </tr>\n",
       "    <tr>\n",
       "      <th>5792</th>\n",
       "      <td>GitTables_364</td>\n",
       "      <td>14</td>\n",
       "      <td>width</td>\n",
       "      <td>86</td>\n",
       "      <td>6.37;7.07;5.44;8.65;5.84</td>\n",
       "    </tr>\n",
       "    <tr>\n",
       "      <th>5793</th>\n",
       "      <td>GitTables_364</td>\n",
       "      <td>15</td>\n",
       "      <td>NaN</td>\n",
       "      <td>-1</td>\n",
       "      <td>3.94;4.22;3.47;5.35;3.45</td>\n",
       "    </tr>\n",
       "    <tr>\n",
       "      <th>5794</th>\n",
       "      <td>GitTables_364</td>\n",
       "      <td>16</td>\n",
       "      <td>NaN</td>\n",
       "      <td>-1</td>\n",
       "      <td>61.7;59.7;63.8;61.6;59.1</td>\n",
       "    </tr>\n",
       "    <tr>\n",
       "      <th>5795</th>\n",
       "      <td>GitTables_364</td>\n",
       "      <td>17</td>\n",
       "      <td>NaN</td>\n",
       "      <td>-1</td>\n",
       "      <td>60.0;62.0;60.0;60.0;59.5</td>\n",
       "    </tr>\n",
       "    <tr>\n",
       "      <th>5796</th>\n",
       "      <td>GitTables_364</td>\n",
       "      <td>18</td>\n",
       "      <td>NaN</td>\n",
       "      <td>-1</td>\n",
       "      <td>NON;NON;None;NON;POINTED</td>\n",
       "    </tr>\n",
       "    <tr>\n",
       "      <th>5797</th>\n",
       "      <td>GitTables_364</td>\n",
       "      <td>19</td>\n",
       "      <td>NaN</td>\n",
       "      <td>-1</td>\n",
       "      <td>GIA;GIA;GIA;GIA;IGI</td>\n",
       "    </tr>\n",
       "    <tr>\n",
       "      <th>5798</th>\n",
       "      <td>GitTables_364</td>\n",
       "      <td>20</td>\n",
       "      <td>NaN</td>\n",
       "      <td>-1</td>\n",
       "      <td>MED to STK;STK to VTK;THK to VTK;MED to STK;TH...</td>\n",
       "    </tr>\n",
       "    <tr>\n",
       "      <th>5799</th>\n",
       "      <td>GitTables_364</td>\n",
       "      <td>21</td>\n",
       "      <td>NaN</td>\n",
       "      <td>-1</td>\n",
       "      <td>100%;100%;100%;100%;100%</td>\n",
       "    </tr>\n",
       "    <tr>\n",
       "      <th>5800</th>\n",
       "      <td>GitTables_364</td>\n",
       "      <td>22</td>\n",
       "      <td>NaN</td>\n",
       "      <td>-1</td>\n",
       "      <td>Not brown;Not brown;Not brown;Not brown</td>\n",
       "    </tr>\n",
       "    <tr>\n",
       "      <th>5801</th>\n",
       "      <td>GitTables_364</td>\n",
       "      <td>23</td>\n",
       "      <td>NaN</td>\n",
       "      <td>-1</td>\n",
       "      <td>Not green;Not green;Not green;Not green</td>\n",
       "    </tr>\n",
       "    <tr>\n",
       "      <th>5802</th>\n",
       "      <td>GitTables_364</td>\n",
       "      <td>25</td>\n",
       "      <td>NaN</td>\n",
       "      <td>-1</td>\n",
       "      <td>-44.00%;-31.91%;-40.00%;-36.00%;-47.00%</td>\n",
       "    </tr>\n",
       "    <tr>\n",
       "      <th>5804</th>\n",
       "      <td>GitTables_364</td>\n",
       "      <td>27</td>\n",
       "      <td>NaN</td>\n",
       "      <td>-1</td>\n",
       "      <td>3472.0;7830.35;4680.0;6400.0;1113.0</td>\n",
       "    </tr>\n",
       "    <tr>\n",
       "      <th>5805</th>\n",
       "      <td>GitTables_364</td>\n",
       "      <td>30</td>\n",
       "      <td>NaN</td>\n",
       "      <td>-1</td>\n",
       "      <td>https://nivoda-images.s3.eu-west-2.amazonaws.c...</td>\n",
       "    </tr>\n",
       "    <tr>\n",
       "      <th>5806</th>\n",
       "      <td>GitTables_364</td>\n",
       "      <td>31</td>\n",
       "      <td>NaN</td>\n",
       "      <td>-1</td>\n",
       "      <td>https://www.gia.edu/report-check?reportno=1349...</td>\n",
       "    </tr>\n",
       "    <tr>\n",
       "      <th>5807</th>\n",
       "      <td>GitTables_364</td>\n",
       "      <td>34</td>\n",
       "      <td>NaN</td>\n",
       "      <td>-1</td>\n",
       "      <td>African star (hk) ltd;African star (hk) ltd;Af...</td>\n",
       "    </tr>\n",
       "    <tr>\n",
       "      <th>5808</th>\n",
       "      <td>GitTables_364</td>\n",
       "      <td>35</td>\n",
       "      <td>location</td>\n",
       "      <td>22</td>\n",
       "      <td>HK;HK;HK;HK</td>\n",
       "    </tr>\n",
       "    <tr>\n",
       "      <th>5809</th>\n",
       "      <td>GitTables_364</td>\n",
       "      <td>36</td>\n",
       "      <td>NaN</td>\n",
       "      <td>-1</td>\n",
       "      <td>Y;Y;Y;Y;Y</td>\n",
       "    </tr>\n",
       "    <tr>\n",
       "      <th>5810</th>\n",
       "      <td>GitTables_364</td>\n",
       "      <td>37</td>\n",
       "      <td>NaN</td>\n",
       "      <td>-1</td>\n",
       "      <td>f6e0efcb-9b29-42a6-9721-b7322986b542;f6e0efcb-...</td>\n",
       "    </tr>\n",
       "  </tbody>\n",
       "</table>\n",
       "</div>"
      ],
      "text/plain": [
       "           table_id  col_idx     class  class_id  \\\n",
       "5803  GitTables_364       26     price        24   \n",
       "5779  GitTables_364        0       NaN        -1   \n",
       "5780  GitTables_364        1       NaN        -1   \n",
       "5781  GitTables_364        2       NaN        -1   \n",
       "5782  GitTables_364        3       NaN        -1   \n",
       "5783  GitTables_364        4       NaN        -1   \n",
       "5784  GitTables_364        5       NaN        -1   \n",
       "5785  GitTables_364        6       NaN        -1   \n",
       "5786  GitTables_364        7       NaN        -1   \n",
       "5787  GitTables_364        8       NaN        -1   \n",
       "5788  GitTables_364        9       NaN        -1   \n",
       "5789  GitTables_364       10       NaN        -1   \n",
       "5790  GitTables_364       11       NaN        -1   \n",
       "5791  GitTables_364       13    length        44   \n",
       "5792  GitTables_364       14     width        86   \n",
       "5793  GitTables_364       15       NaN        -1   \n",
       "5794  GitTables_364       16       NaN        -1   \n",
       "5795  GitTables_364       17       NaN        -1   \n",
       "5796  GitTables_364       18       NaN        -1   \n",
       "5797  GitTables_364       19       NaN        -1   \n",
       "5798  GitTables_364       20       NaN        -1   \n",
       "5799  GitTables_364       21       NaN        -1   \n",
       "5800  GitTables_364       22       NaN        -1   \n",
       "5801  GitTables_364       23       NaN        -1   \n",
       "5802  GitTables_364       25       NaN        -1   \n",
       "5804  GitTables_364       27       NaN        -1   \n",
       "5805  GitTables_364       30       NaN        -1   \n",
       "5806  GitTables_364       31       NaN        -1   \n",
       "5807  GitTables_364       34       NaN        -1   \n",
       "5808  GitTables_364       35  location        22   \n",
       "5809  GitTables_364       36       NaN        -1   \n",
       "5810  GitTables_364       37       NaN        -1   \n",
       "\n",
       "                                                   data  \n",
       "5803               3472.0;15660.7;4680.0;16000.0;790.23  \n",
       "5779                                    23;32;33;34;114  \n",
       "5780                  DR2-2J;DR2-1;DJ1-3E;DR1-4B;EH3-49  \n",
       "5781  1349200880;6342370051;7331073794;6345123874;42...  \n",
       "5782                        ROUND;PEAR;PEAR;ROUND;ROUND  \n",
       "5783                               1.0;2.0;1.0;2.5;0.71  \n",
       "5784                                          E;E;E;F;N  \n",
       "5785                               SI2;SI1;VVS2;SI2;VS1  \n",
       "5786                                       EX;-;-;EX;EX  \n",
       "5787                                     VG;EX;EX;EX;EX  \n",
       "5788                                     VG;EX;VG;EX;EX  \n",
       "5789                                NON;NON;NON;STG;NON  \n",
       "5790                                               Blue  \n",
       "5791                           6.4;11.27;8.71;8.71;5.82  \n",
       "5792                           6.37;7.07;5.44;8.65;5.84  \n",
       "5793                           3.94;4.22;3.47;5.35;3.45  \n",
       "5794                           61.7;59.7;63.8;61.6;59.1  \n",
       "5795                           60.0;62.0;60.0;60.0;59.5  \n",
       "5796                           NON;NON;None;NON;POINTED  \n",
       "5797                                GIA;GIA;GIA;GIA;IGI  \n",
       "5798  MED to STK;STK to VTK;THK to VTK;MED to STK;TH...  \n",
       "5799                           100%;100%;100%;100%;100%  \n",
       "5800            Not brown;Not brown;Not brown;Not brown  \n",
       "5801            Not green;Not green;Not green;Not green  \n",
       "5802            -44.00%;-31.91%;-40.00%;-36.00%;-47.00%  \n",
       "5804                3472.0;7830.35;4680.0;6400.0;1113.0  \n",
       "5805  https://nivoda-images.s3.eu-west-2.amazonaws.c...  \n",
       "5806  https://www.gia.edu/report-check?reportno=1349...  \n",
       "5807  African star (hk) ltd;African star (hk) ltd;Af...  \n",
       "5808                                        HK;HK;HK;HK  \n",
       "5809                                          Y;Y;Y;Y;Y  \n",
       "5810  f6e0efcb-9b29-42a6-9721-b7322986b542;f6e0efcb-...  "
      ]
     },
     "execution_count": 338,
     "metadata": {},
     "output_type": "execute_result"
    }
   ],
   "source": [
    "group_df"
   ]
  },
  {
   "cell_type": "code",
   "execution_count": 339,
   "metadata": {},
   "outputs": [
    {
     "name": "stdout",
     "output_type": "stream",
     "text": [
      "1 23;32;33;34;114\n",
      "[CLS] 3472. 0 ; 15660. 7 ; 4680. 0 ; 16000. 0 ; 790. 23 [SEP] 23 ; 32 ; 33 ; 34 ; 114\n"
     ]
    },
    {
     "name": "stderr",
     "output_type": "stream",
     "text": [
      "/home/zhihao/jupyterprojects/jupyter/lib/python3.8/site-packages/pandas/util/_decorators.py:311: SettingWithCopyWarning: \n",
      "A value is trying to be set on a copy of a slice from a DataFrame\n",
      "\n",
      "See the caveats in the documentation: https://pandas.pydata.org/pandas-docs/stable/user_guide/indexing.html#returning-a-view-versus-a-copy\n",
      "  return func(*args, **kwargs)\n",
      "/tmp/ipykernel_1864547/146298671.py:14: FutureWarning: You are using `torch.load` with `weights_only=False` (the current default value), which uses the default pickle module implicitly. It is possible to construct malicious pickle data which will execute arbitrary code during unpickling (See https://github.com/pytorch/pytorch/blob/main/SECURITY.md#untrusted-models for more details). In a future release, the default value for `weights_only` will be flipped to `True`. This limits the functions that could be executed during unpickling. Arbitrary objects will no longer be allowed to be loaded via this mode unless they are explicitly allowlisted by the user via `torch.serialization.add_safe_globals`. We recommend you start setting `weights_only=True` for any use case where you don't have full control of the loaded file. Please open an issue on GitHub for any issues related to this experimental feature.\n",
      "  model.load_state_dict(torch.load(f\"/data/zhihao/TU/Watchog/outputs/gt-semtab22-dbpedia-all{cv}/bert-base-uncased-fromscratch-semi1-pool@v0-context@v1-max_num_col@8-poolv0-max_cols8-randFalse-bs16-ml64-ne50-do0.1_best_f1_micro.pt\", map_location=device))\n"
     ]
    },
    {
     "name": "stdout",
     "output_type": "stream",
     "text": [
      "['duration' 'length' 'end' 'area' 'population']\n",
      "************************************\n",
      "2 DR2-2J;DR2-1;DJ1-3E;DR1-4B;EH3-49\n",
      "[CLS] 3472. 0 ; 15660. 7 ; 4680. 0 ; 16000. 0 ; 790. 23 [SEP] dr2 - 2j ; dr2 - 1 ; dj1 - 3e ; dr1 - 4b ; eh3 - 49\n",
      "['duration' 'area' 'end' 'start' 'max']\n",
      "************************************\n",
      "3 1349200880;6342370051;7331073794;6345123874;425072875\n",
      "[CLS] 3472. 0 ; 15660. 7 ; 4680. 0 ; 16000. 0 ; 790. 23 [SEP] 1349200880 ; 6342370051 ; 7331073794 ; 6345123874 ; 425072875\n",
      "['population' 'zipCode' 'length' 'end' 'number']\n",
      "************************************\n",
      "4 ROUND;PEAR;PEAR;ROUND;ROUND\n",
      "[CLS] 3472. 0 ; 15660. 7 ; 4680. 0 ; 16000. 0 ; 790. 23 [SEP] round ; pear ; pear ; round ; round\n",
      "['cost' 'price' 'length' 'duration' 'max']\n",
      "************************************\n",
      "5 1.0;2.0;1.0;2.5;0.71\n",
      "[CLS] 3472. 0 ; 15660. 7 ; 4680. 0 ; 16000. 0 ; 790. 23 [SEP] 1. 0 ; 2. 0 ; 1. 0 ; 2. 5 ; 0. 71\n",
      "['duration' 'area' 'length' 'end' 'population']\n",
      "************************************\n",
      "6 E;E;E;F;N\n",
      "[CLS] 3472. 0 ; 15660. 7 ; 4680. 0 ; 16000. 0 ; 790. 23 [SEP] e ; e ; e ; f ; n\n",
      "['end' 'length' 'population' 'duration' 'area']\n",
      "************************************\n",
      "7 SI2;SI1;VVS2;SI2;VS1\n",
      "[CLS] 3472. 0 ; 15660. 7 ; 4680. 0 ; 16000. 0 ; 790. 23 [SEP] si2 ; si1 ; vvs2 ; si2 ; vs1\n",
      "['duration' 'end' 'area' 'population' 'length']\n",
      "************************************\n",
      "8 EX;-;-;EX;EX\n",
      "[CLS] 3472. 0 ; 15660. 7 ; 4680. 0 ; 16000. 0 ; 790. 23 [SEP] ex ; - ; - ; ex ; ex\n",
      "['length' 'end' 'duration' 'population' 'area']\n",
      "************************************\n",
      "9 VG;EX;EX;EX;EX\n",
      "[CLS] 3472. 0 ; 15660. 7 ; 4680. 0 ; 16000. 0 ; 790. 23 [SEP] vg ; ex ; ex ; ex ; ex\n",
      "['length' 'end' 'population' 'area' 'duration']\n",
      "************************************\n",
      "10 VG;EX;VG;EX;EX\n",
      "[CLS] 3472. 0 ; 15660. 7 ; 4680. 0 ; 16000. 0 ; 790. 23 [SEP] vg ; ex ; vg ; ex ; ex\n",
      "['end' 'population' 'area' 'duration' 'length']\n",
      "************************************\n",
      "11 NON;NON;NON;STG;NON\n",
      "[CLS] 3472. 0 ; 15660. 7 ; 4680. 0 ; 16000. 0 ; 790. 23 [SEP] non ; non ; non ; stg ; non\n",
      "['population' 'area' 'duration' 'end' 'length']\n",
      "************************************\n",
      "12 Blue\n",
      "[CLS] 3472. 0 ; 15660. 7 ; 4680. 0 ; 16000. 0 ; 790. 23 [SEP] blue\n",
      "['population' 'area' 'length' 'end' 'duration']\n",
      "************************************\n",
      "13 6.4;11.27;8.71;8.71;5.82\n",
      "[CLS] 3472. 0 ; 15660. 7 ; 4680. 0 ; 16000. 0 ; 790. 23 [SEP] 6. 4 ; 11. 27 ; 8. 71 ; 8. 71 ; 5. 82\n",
      "['duration' 'area' 'population' 'end' 'length']\n",
      "************************************\n",
      "14 6.37;7.07;5.44;8.65;5.84\n",
      "[CLS] 3472. 0 ; 15660. 7 ; 4680. 0 ; 16000. 0 ; 790. 23 [SEP] 6. 37 ; 7. 07 ; 5. 44 ; 8. 65 ; 5. 84\n",
      "['duration' 'area' 'population' 'end' 'length']\n",
      "************************************\n",
      "15 3.94;4.22;3.47;5.35;3.45\n",
      "[CLS] 3472. 0 ; 15660. 7 ; 4680. 0 ; 16000. 0 ; 790. 23 [SEP] 3. 94 ; 4. 22 ; 3. 47 ; 5. 35 ; 3. 45\n",
      "['duration' 'area' 'length' 'population' 'end']\n",
      "************************************\n",
      "16 61.7;59.7;63.8;61.6;59.1\n",
      "[CLS] 3472. 0 ; 15660. 7 ; 4680. 0 ; 16000. 0 ; 790. 23 [SEP] 61. 7 ; 59. 7 ; 63. 8 ; 61. 6 ; 59. 1\n",
      "['duration' 'area' 'end' 'length' 'population']\n",
      "************************************\n",
      "17 60.0;62.0;60.0;60.0;59.5\n",
      "[CLS] 3472. 0 ; 15660. 7 ; 4680. 0 ; 16000. 0 ; 790. 23 [SEP] 60. 0 ; 62. 0 ; 60. 0 ; 60. 0 ; 59. 5\n",
      "['length' 'end' 'population' 'area' 'duration']\n",
      "************************************\n",
      "18 NON;NON;None;NON;POINTED\n",
      "[CLS] 3472. 0 ; 15660. 7 ; 4680. 0 ; 16000. 0 ; 790. 23 [SEP] non ; non ; none ; non ; pointed\n",
      "['duration' 'population' 'area' 'end' 'length']\n",
      "************************************\n",
      "19 GIA;GIA;GIA;GIA;IGI\n",
      "[CLS] 3472. 0 ; 15660. 7 ; 4680. 0 ; 16000. 0 ; 790. 23 [SEP] gia ; gia ; gia ; gia ; igi\n",
      "['id' 'length' 'end' 'number' 'area']\n",
      "************************************\n",
      "20 MED to STK;STK to VTK;THK to VTK;MED to STK;THN to MED\n",
      "[CLS] 3472. 0 ; 15660. 7 ; 4680. 0 ; 16000. 0 ; 790. 23 [SEP] med to stk ; stk to vtk ; thk to vtk ; med to stk ; thn to med\n",
      "['population' 'area' 'end' 'length' 'duration']\n",
      "************************************\n",
      "21 100%;100%;100%;100%;100%\n",
      "[CLS] 3472. 0 ; 15660. 7 ; 4680. 0 ; 16000. 0 ; 790. 23 [SEP] 100 % ; 100 % ; 100 % ; 100 % ; 100 %\n",
      "['width' 'percentage' 'duration' 'cost' 'max']\n",
      "************************************\n",
      "22 Not brown;Not brown;Not brown;Not brown\n",
      "[CLS] 3472. 0 ; 15660. 7 ; 4680. 0 ; 16000. 0 ; 790. 23 [SEP] not brown ; not brown ; not brown ; not brown\n",
      "['population' 'end' 'length' 'area' 'depth']\n",
      "************************************\n",
      "23 Not green;Not green;Not green;Not green\n",
      "[CLS] 3472. 0 ; 15660. 7 ; 4680. 0 ; 16000. 0 ; 790. 23 [SEP] not green ; not green ; not green ; not green\n",
      "['population' 'length' 'end' 'postalCode' 'area']\n",
      "************************************\n",
      "24 -44.00%;-31.91%;-40.00%;-36.00%;-47.00%\n",
      "[CLS] 3472. 0 ; 15660. 7 ; 4680. 0 ; 16000. 0 ; 790. 23 [SEP] - 44. 00 % ; - 31. 91 % ; - 40. 00 % ; - 36. 00 % ; - 47. 00 %\n",
      "['width' 'percentage' 'depth' 'duration' 'cost']\n",
      "************************************\n",
      "25 3472.0;7830.35;4680.0;6400.0;1113.0\n",
      "[CLS] 3472. 0 ; 15660. 7 ; 4680. 0 ; 16000. 0 ; 790. 23 [SEP] 3472. 0 ; 7830. 35 ; 4680. 0 ; 6400. 0 ; 1113. 0\n",
      "['length' 'end' 'duration' 'population' 'area']\n",
      "************************************\n",
      "26 https://nivoda-images.s3.eu-west-2.amazonaws.com/9d15b3f5-8458-4f6a-be70-38896efcd70a.jpg;https://nivoda-images.s3.eu-west-2.amazonaws.com/8475741d-cc6e-4438-8196-6e1d2501be4e.jpg;https://nivoda-images.s3.eu-west-2.amazonaws.com/c3d913ff-8d43-4071-8b84-0baf7a05e6a2.jpg;https://nivoda-images.s3.eu-west-2.amazonaws.com/71e91d8f-358c-4866-9510-367b592f1447.jpg\n",
      "[CLS] 3472. 0 ; 15660. 7 ; 4680. 0 ; 16000. 0 ; 790. 23 [SEP] https : / / nivoda - images. s3. eu - west - 2. amazonaws. com / 9d15b3f5 - 8458 - 4f6a - be70 - 38896efcd70a. jpg ; https : / / nivoda\n",
      "['duration' 'start' 'area' 'end' 'population']\n",
      "************************************\n",
      "27 https://www.gia.edu/report-check?reportno=1349200880;https://www.gia.edu/report-check?reportno=6342370051;https://nivoda-images.s3.eu-west-2.amazonaws.com/pdf/7331073794.pdf;https://www.gia.edu/report-check?reportno=6345123874;https://www.igi.org/viewpdf.php?r=425072875\n",
      "[CLS] 3472. 0 ; 15660. 7 ; 4680. 0 ; 16000. 0 ; 790. 23 [SEP] https : / / www. gia. edu / report - check? reportno = 1349200880 ; https : / / www. gia. edu / report - check? reportno = 6342370051 ; https : / / nivoda - images. s3. eu -\n",
      "['duration' 'start' 'area' 'end' 'elevation']\n",
      "************************************\n",
      "28 African star (hk) ltd;African star (hk) ltd;African star (hk) ltd;African star (hk) ltd;African star (hk) ltd\n",
      "[CLS] 3472. 0 ; 15660. 7 ; 4680. 0 ; 16000. 0 ; 790. 23 [SEP] african star ( hk ) ltd ; african star ( hk ) ltd ; african star ( hk ) ltd ; african star ( hk ) ltd ; african star ( hk ) ltd\n",
      "['area' 'duration' 'population' 'zipCode' 'cost']\n",
      "************************************\n",
      "29 HK;HK;HK;HK\n",
      "[CLS] 3472. 0 ; 15660. 7 ; 4680. 0 ; 16000. 0 ; 790. 23 [SEP] hk ; hk ; hk ; hk\n",
      "['population' 'length' 'area' 'postalCode' 'number']\n",
      "************************************\n",
      "30 Y;Y;Y;Y;Y\n",
      "[CLS] 3472. 0 ; 15660. 7 ; 4680. 0 ; 16000. 0 ; 790. 23 [SEP] y ; y ; y ; y ; y\n",
      "['length' 'end' 'population' 'area' 'duration']\n",
      "************************************\n",
      "31 f6e0efcb-9b29-42a6-9721-b7322986b542;f6e0efcb-9b29-42a6-9721-b7322986b542;f6e0efcb-9b29-42a6-9721-b7322986b542;f6e0efcb-9b29-42a6-9721-b7322986b542;f6e0efcb-9b29-42a6-9721-b7322986b542\n",
      "[CLS] 3472. 0 ; 15660. 7 ; 4680. 0 ; 16000. 0 ; 790. 23 [SEP] f6e0efcb - 9b29 - 42a6 - 9721 - b7322986b542 ; f6e0efcb - 9b29 - 42a6 - 9721 - b7322986b542 ; f6e0efcb - 9b\n",
      "['duration' 'end' 'start' 'area' 'population']\n",
      "************************************\n"
     ]
    }
   ],
   "source": [
    "for i in range(1, len(group_df)):\n",
    "    print(i, group_df.iloc[i][\"data\"])\n",
    "    target_df = group_df.iloc[[0,i]]\n",
    "    # target_dataset = SingleColDataset(group_df, target_col_idx=group_df[group_df[\"class\"] ==\"price\"].index.item(), tokenizer=tokenizer)\n",
    "    target_dataset = SingleColDataset(target_df, target_col_idx=target_df[target_df[\"class\"] ==\"price\"].index.item(), tokenizer=tokenizer)\n",
    "    padder = collate_fn(tokenizer.pad_token_id)\n",
    "    tg_dataloader = DataLoader(target_dataset,\n",
    "                                batch_size=batch_size,\n",
    "                                #   collate_fn=collate_fn)\n",
    "                                collate_fn=padder)\n",
    "    for batch in tg_dataloader:\n",
    "        print(tokenizer.decode(batch[\"data\"].reshape(-1)))\n",
    "\n",
    "    model.load_state_dict(torch.load(f\"/data/zhihao/TU/Watchog/outputs/gt-semtab22-dbpedia-all{cv}/bert-base-uncased-fromscratch-semi1-pool@v0-context@v1-max_num_col@8-poolv0-max_cols8-randFalse-bs16-ml64-ne50-do0.1_best_f1_micro.pt\", map_location=device))\n",
    "    model.eval()\n",
    "    model = model.to(device)\n",
    "    with torch.no_grad():\n",
    "        for batch_idx, batch in enumerate(tg_dataloader):\n",
    "            batch[\"data\"] = batch[\"data\"].to(device)\n",
    "            cls_indexes = torch.nonzero(\n",
    "                    batch[\"data\"].T == tokenizer.cls_token_id)\n",
    "            logits = model(batch[\"data\"].T, cls_indexes=cls_indexes).cpu()\n",
    "            label = batch[\"label\"].T.cpu()\n",
    "\n",
    "    print(types[logits.argsort( descending=True)[ :5].numpy()])\n",
    "    print('************************************')"
   ]
  },
  {
   "cell_type": "code",
   "execution_count": null,
   "metadata": {},
   "outputs": [],
   "source": []
  },
  {
   "cell_type": "code",
   "execution_count": null,
   "metadata": {},
   "outputs": [],
   "source": []
  },
  {
   "cell_type": "code",
   "execution_count": null,
   "metadata": {},
   "outputs": [],
   "source": []
  },
  {
   "cell_type": "code",
   "execution_count": null,
   "metadata": {},
   "outputs": [],
   "source": []
  },
  {
   "cell_type": "markdown",
   "metadata": {},
   "source": [
    "# Silhouette Score, davies_bouldin_score"
   ]
  },
  {
   "cell_type": "code",
   "execution_count": 395,
   "metadata": {},
   "outputs": [],
   "source": [
    "from sklearn.metrics import silhouette_score"
   ]
  },
  {
   "cell_type": "code",
   "execution_count": 397,
   "metadata": {},
   "outputs": [
    {
     "name": "stderr",
     "output_type": "stream",
     "text": [
      "/home/zhihao/jupyterprojects/jupyter/lib/python3.8/site-packages/sklearn/cluster/_kmeans.py:870: FutureWarning: The default value of `n_init` will change from 10 to 'auto' in 1.4. Set the value of `n_init` explicitly to suppress the warning\n",
      "  warnings.warn(\n"
     ]
    },
    {
     "data": {
      "text/plain": [
       "0.7020937832636733"
      ]
     },
     "execution_count": 397,
     "metadata": {},
     "output_type": "execute_result"
    }
   ],
   "source": [
    "from sklearn.datasets import make_blobs\n",
    "from sklearn.cluster import KMeans\n",
    "from sklearn.metrics import silhouette_score\n",
    "X, y = make_blobs(random_state=42)\n",
    "kmeans = KMeans(n_clusters=2, random_state=42)\n",
    "silhouette_score(X, kmeans.fit_predict(X))"
   ]
  },
  {
   "cell_type": "code",
   "execution_count": 444,
   "metadata": {},
   "outputs": [],
   "source": [
    "from sklearn.metrics import silhouette_samples\n",
    "\n",
    "def silhouette_score_per_cluster(embeddings, labels, metric=\"cosine\"):\n",
    "    sample_silhouette_values = silhouette_samples(embeddings, labels, metric=metric)\n",
    "    unique_labels = np.unique(labels)\n",
    "    silhouette_per_cluster = []\n",
    "    for label in unique_labels:\n",
    "        cluster_silhouettes = sample_silhouette_values[labels == label]\n",
    "        silhouette_per_cluster.append(np.mean(cluster_silhouettes))\n",
    "    return np.array(silhouette_per_cluster).reshape(-1)\n",
    "\n",
    "# Example embeddings and their corresponding labels\n",
    "# embeddings = X\n",
    "# labels = y  # Assuming 2 classes: 0 and 1\n",
    "\n",
    "# silhouette_per_cluster = silhouette_score_per_cluster(embeddings, labels)\n",
    "# print(f\"Silhouette Score per Cluster: {silhouette_per_cluster}\")\n"
   ]
  },
  {
   "cell_type": "code",
   "execution_count": 423,
   "metadata": {},
   "outputs": [
    {
     "data": {
      "text/plain": [
       "array([  0,   1,   2,   3,   4,   5,   6,   7,   8,   9,  10,  11,  12,\n",
       "        13,  14,  15,  16,  17,  18,  19,  20,  21,  22,  23,  24,  25,\n",
       "        26,  27,  28,  29,  30,  31,  32,  33,  34,  35,  36,  37,  38,\n",
       "        39,  40,  41,  42,  43,  44,  45,  46,  47,  48,  49,  50,  51,\n",
       "        52,  53,  54,  55,  56,  57,  58,  59,  60,  61,  62,  63,  64,\n",
       "        65,  66,  67,  68,  69,  70,  71,  72,  73,  74,  75,  76,  77,\n",
       "        78,  79,  80,  81,  82,  83,  84,  85,  86,  87,  88,  89,  90,\n",
       "        91,  92,  93,  94,  95,  96,  97,  98,  99, 100])"
      ]
     },
     "execution_count": 423,
     "metadata": {},
     "output_type": "execute_result"
    }
   ],
   "source": [
    "np.unique(labels_cluster)"
   ]
  },
  {
   "cell_type": "code",
   "execution_count": 403,
   "metadata": {},
   "outputs": [
    {
     "data": {
      "text/html": [
       "<div>\n",
       "<style scoped>\n",
       "    .dataframe tbody tr th:only-of-type {\n",
       "        vertical-align: middle;\n",
       "    }\n",
       "\n",
       "    .dataframe tbody tr th {\n",
       "        vertical-align: top;\n",
       "    }\n",
       "\n",
       "    .dataframe thead th {\n",
       "        text-align: right;\n",
       "    }\n",
       "</style>\n",
       "<table border=\"1\" class=\"dataframe\">\n",
       "  <thead>\n",
       "    <tr style=\"text-align: right;\">\n",
       "      <th></th>\n",
       "      <th>table_id</th>\n",
       "      <th>col_idx</th>\n",
       "      <th>class</th>\n",
       "      <th>class_id</th>\n",
       "      <th>data</th>\n",
       "    </tr>\n",
       "  </thead>\n",
       "  <tbody>\n",
       "    <tr>\n",
       "      <th>9046</th>\n",
       "      <td>GitTables_99936</td>\n",
       "      <td>0</td>\n",
       "      <td>name</td>\n",
       "      <td>1</td>\n",
       "      <td>Core i9-7980XE;Core i9-7900X;Core i7-8700K;Thr...</td>\n",
       "    </tr>\n",
       "    <tr>\n",
       "      <th>9047</th>\n",
       "      <td>GitTables_99936</td>\n",
       "      <td>1</td>\n",
       "      <td>NaN</td>\n",
       "      <td>-1</td>\n",
       "      <td>FCLGA2066;FCLGA2066;FCLGA1151;sTR4;AM4;FCLGA11...</td>\n",
       "    </tr>\n",
       "    <tr>\n",
       "      <th>9048</th>\n",
       "      <td>GitTables_99936</td>\n",
       "      <td>2</td>\n",
       "      <td>NaN</td>\n",
       "      <td>-1</td>\n",
       "      <td>165;140;95;180;95;95;95;95;91;91;60;65;51;54</td>\n",
       "    </tr>\n",
       "    <tr>\n",
       "      <th>9049</th>\n",
       "      <td>GitTables_99936</td>\n",
       "      <td>3</td>\n",
       "      <td>NaN</td>\n",
       "      <td>-1</td>\n",
       "      <td>27780;21998;15965;22061;15400;12791;12041;1322...</td>\n",
       "    </tr>\n",
       "    <tr>\n",
       "      <th>9050</th>\n",
       "      <td>GitTables_99936</td>\n",
       "      <td>4</td>\n",
       "      <td>NaN</td>\n",
       "      <td>-1</td>\n",
       "      <td>2340;2469;2703;1996;1967;2519;2583;1976;2341;2...</td>\n",
       "    </tr>\n",
       "    <tr>\n",
       "      <th>9051</th>\n",
       "      <td>GitTables_99936</td>\n",
       "      <td>5</td>\n",
       "      <td>NaN</td>\n",
       "      <td>-1</td>\n",
       "      <td>11/09/18;11/09/18;11/09/18;11/09/18;11/09/18;1...</td>\n",
       "    </tr>\n",
       "    <tr>\n",
       "      <th>9052</th>\n",
       "      <td>GitTables_99936</td>\n",
       "      <td>6</td>\n",
       "      <td>price</td>\n",
       "      <td>24</td>\n",
       "      <td>2005.5;929.99;358.99;649.99;248.99;253.11;354....</td>\n",
       "    </tr>\n",
       "    <tr>\n",
       "      <th>9053</th>\n",
       "      <td>GitTables_99936</td>\n",
       "      <td>7</td>\n",
       "      <td>NaN</td>\n",
       "      <td>-1</td>\n",
       "      <td>11/15/18;11/15/18;11/15/18;11/15/18;11/15/18;1...</td>\n",
       "    </tr>\n",
       "    <tr>\n",
       "      <th>9054</th>\n",
       "      <td>GitTables_99936</td>\n",
       "      <td>8</td>\n",
       "      <td>NaN</td>\n",
       "      <td>-1</td>\n",
       "      <td>https://www.cpubenchmark.net/cpu.php?id=3092;h...</td>\n",
       "    </tr>\n",
       "  </tbody>\n",
       "</table>\n",
       "</div>"
      ],
      "text/plain": [
       "             table_id  col_idx  class  class_id  \\\n",
       "9046  GitTables_99936        0   name         1   \n",
       "9047  GitTables_99936        1    NaN        -1   \n",
       "9048  GitTables_99936        2    NaN        -1   \n",
       "9049  GitTables_99936        3    NaN        -1   \n",
       "9050  GitTables_99936        4    NaN        -1   \n",
       "9051  GitTables_99936        5    NaN        -1   \n",
       "9052  GitTables_99936        6  price        24   \n",
       "9053  GitTables_99936        7    NaN        -1   \n",
       "9054  GitTables_99936        8    NaN        -1   \n",
       "\n",
       "                                                   data  \n",
       "9046  Core i9-7980XE;Core i9-7900X;Core i7-8700K;Thr...  \n",
       "9047  FCLGA2066;FCLGA2066;FCLGA1151;sTR4;AM4;FCLGA11...  \n",
       "9048       165;140;95;180;95;95;95;95;91;91;60;65;51;54  \n",
       "9049  27780;21998;15965;22061;15400;12791;12041;1322...  \n",
       "9050  2340;2469;2703;1996;1967;2519;2583;1976;2341;2...  \n",
       "9051  11/09/18;11/09/18;11/09/18;11/09/18;11/09/18;1...  \n",
       "9052  2005.5;929.99;358.99;649.99;248.99;253.11;354....  \n",
       "9053  11/15/18;11/15/18;11/15/18;11/15/18;11/15/18;1...  \n",
       "9054  https://www.cpubenchmark.net/cpu.php?id=3092;h...  "
      ]
     },
     "execution_count": 403,
     "metadata": {},
     "output_type": "execute_result"
    }
   ],
   "source": [
    "group_df"
   ]
  },
  {
   "cell_type": "code",
   "execution_count": null,
   "metadata": {},
   "outputs": [],
   "source": []
  },
  {
   "cell_type": "code",
   "execution_count": 416,
   "metadata": {},
   "outputs": [],
   "source": [
    "labels_cluster = []\n",
    "embeddings_cluster = []\n",
    "embeddings_cluster_context = []\n",
    "for i, (index, group_df) in enumerate(df_group_train):\n",
    "    labeled_columns = group_df[group_df['class_id'] > -1]\n",
    "    labels_cluster += labeled_columns[\"class_id\"].values.tolist()\n",
    "    # if len(labeled_columns) > 1:\n",
    "    #     embeddings_cluster.append(ft_model.get_sentence_vector(\" \".join(labeled_columns[\"data\"].values)))\n",
    "    #     embeddings_cluster_context.append(ft_model.get_sentence_vector(\" \".join(group_df[\"data\"].values)))\n",
    "    #     break\n",
    "    for text in labeled_columns[\"data\"].values:\n",
    "        embeddings_cluster.append(ft_model.get_sentence_vector(text.replace(\"\\n\", \" \")))\n",
    "        embeddings_cluster_context.append(ft_model.get_sentence_vector(\" \".join(group_df[\"data\"].values).replace(\"\\n\", \" \")))"
   ]
  },
  {
   "cell_type": "code",
   "execution_count": 424,
   "metadata": {},
   "outputs": [],
   "source": [
    "labels_cluster_test = []\n",
    "embeddings_cluster_test = []\n",
    "embeddings_cluster_context_test = []\n",
    "for i, (index, group_df) in enumerate(df_group_test):\n",
    "    labeled_columns = group_df[group_df['class_id'] > -1]\n",
    "    labels_cluster_test += labeled_columns[\"class_id\"].values.tolist()\n",
    "    # if len(labeled_columns) > 1:\n",
    "    #     embeddings_cluster.append(ft_model.get_sentence_vector(\" \".join(labeled_columns[\"data\"].values)))\n",
    "    #     embeddings_cluster_context.append(ft_model.get_sentence_vector(\" \".join(group_df[\"data\"].values)))\n",
    "    #     break\n",
    "    for text in labeled_columns[\"data\"].values:\n",
    "        embeddings_cluster_test.append(ft_model.get_sentence_vector(text.replace(\"\\n\", \" \")))\n",
    "        embeddings_cluster_context_test.append(ft_model.get_sentence_vector(\" \".join(group_df[\"data\"].values).replace(\"\\n\", \" \")))"
   ]
  },
  {
   "cell_type": "code",
   "execution_count": 417,
   "metadata": {},
   "outputs": [],
   "source": [
    "embeddings_cluster = np.array(embeddings_cluster)\n",
    "embeddings_cluster_context = np.array(embeddings_cluster_context)"
   ]
  },
  {
   "cell_type": "code",
   "execution_count": 421,
   "metadata": {},
   "outputs": [
    {
     "name": "stdout",
     "output_type": "stream",
     "text": [
      "-0.19603086\n",
      "-0.25465372\n"
     ]
    }
   ],
   "source": [
    "\n",
    "print(silhouette_score(embeddings_cluster, labels_cluster))\n",
    "print(silhouette_score(embeddings_cluster_context, labels_cluster))"
   ]
  },
  {
   "cell_type": "code",
   "execution_count": 422,
   "metadata": {},
   "outputs": [
    {
     "name": "stdout",
     "output_type": "stream",
     "text": [
      "-0.29674816\n",
      "-0.3913863\n"
     ]
    }
   ],
   "source": [
    "print(silhouette_score(embeddings_cluster, labels_cluster, metric='cosine'))\n",
    "print(silhouette_score(embeddings_cluster_context, labels_cluster, metric='cosine'))"
   ]
  },
  {
   "cell_type": "code",
   "execution_count": 445,
   "metadata": {},
   "outputs": [],
   "source": [
    "class_silhouette_score_context = np.array(silhouette_score_per_cluster(embeddings_cluster_context, labels_cluster))\n",
    "class_silhouette_score = np.array(silhouette_score_per_cluster(embeddings_cluster, labels_cluster))"
   ]
  },
  {
   "cell_type": "code",
   "execution_count": 1,
   "metadata": {},
   "outputs": [
    {
     "ename": "NameError",
     "evalue": "name 'embeddings_cluster_context' is not defined",
     "output_type": "error",
     "traceback": [
      "\u001b[0;31m---------------------------------------------------------------------------\u001b[0m",
      "\u001b[0;31mNameError\u001b[0m                                 Traceback (most recent call last)",
      "Input \u001b[0;32mIn [1]\u001b[0m, in \u001b[0;36m<cell line: 1>\u001b[0;34m()\u001b[0m\n\u001b[0;32m----> 1\u001b[0m \u001b[38;5;28mlen\u001b[39m(\u001b[43membeddings_cluster_context\u001b[49m)\n",
      "\u001b[0;31mNameError\u001b[0m: name 'embeddings_cluster_context' is not defined"
     ]
    }
   ],
   "source": [
    "len(embeddings_cluster_context)"
   ]
  },
  {
   "cell_type": "code",
   "execution_count": 449,
   "metadata": {},
   "outputs": [
    {
     "data": {
      "text/plain": [
       "72"
      ]
     },
     "execution_count": 449,
     "metadata": {},
     "output_type": "execute_result"
    }
   ],
   "source": [
    "sum(class_silhouette_score > class_silhouette_score_context)"
   ]
  },
  {
   "cell_type": "code",
   "execution_count": 448,
   "metadata": {},
   "outputs": [
    {
     "data": {
      "text/plain": [
       "-0.33523917"
      ]
     },
     "execution_count": 448,
     "metadata": {},
     "output_type": "execute_result"
    }
   ],
   "source": [
    "class_silhouette_score_context.mean()"
   ]
  },
  {
   "cell_type": "code",
   "execution_count": 435,
   "metadata": {},
   "outputs": [
    {
     "data": {
      "text/plain": [
       "(101,)"
      ]
     },
     "execution_count": 435,
     "metadata": {},
     "output_type": "execute_result"
    }
   ],
   "source": [
    "class_silhouette_score.shape"
   ]
  },
  {
   "cell_type": "code",
   "execution_count": 461,
   "metadata": {},
   "outputs": [
    {
     "data": {
      "text/plain": [
       "'semi1'"
      ]
     },
     "execution_count": 461,
     "metadata": {},
     "output_type": "execute_result"
    }
   ],
   "source": [
    "args.small_tag"
   ]
  },
  {
   "cell_type": "code",
   "execution_count": 462,
   "metadata": {},
   "outputs": [
    {
     "name": "stdout",
     "output_type": "stream",
     "text": [
      "test\n",
      "test 1085\n"
     ]
    }
   ],
   "source": []
  },
  {
   "cell_type": "code",
   "execution_count": 470,
   "metadata": {},
   "outputs": [
    {
     "name": "stdout",
     "output_type": "stream",
     "text": [
      "test\n",
      "test 1085\n"
     ]
    },
    {
     "name": "stderr",
     "output_type": "stream",
     "text": [
      "/tmp/ipykernel_1864547/1597637218.py:18: FutureWarning: You are using `torch.load` with `weights_only=False` (the current default value), which uses the default pickle module implicitly. It is possible to construct malicious pickle data which will execute arbitrary code during unpickling (See https://github.com/pytorch/pytorch/blob/main/SECURITY.md#untrusted-models for more details). In a future release, the default value for `weights_only` will be flipped to `True`. This limits the functions that could be executed during unpickling. Arbitrary objects will no longer be allowed to be loaded via this mode unless they are explicitly allowlisted by the user via `torch.serialization.add_safe_globals`. We recommend you start setting `weights_only=True` for any use case where you don't have full control of the loaded file. Please open an issue on GitHub for any issues related to this experimental feature.\n",
      "  model.load_state_dict(torch.load(f\"/data/zhihao/TU/Watchog/outputs/gt-semtab22-dbpedia-all{cv}/bert-base-uncased-fromscratch-semi1-pool@v0-max_num_col@1-poolv0-max_cols1-randFalse-bs16-ml64-ne50-do0.1_best_f1_micro.pt\", map_location=device))\n"
     ]
    }
   ],
   "source": [
    "max_num_col = 1\n",
    "dataset_cls = GittablesColwiseDataset\n",
    "test_dataset = dataset_cls(cv=cv,\n",
    "                            split=\"test\",\n",
    "                            tokenizer=tokenizer,\n",
    "                            max_length=max_length,\n",
    "                            device=device,\n",
    "                            base_dirpath=os.path.join(args.data_path, \"GitTables/semtab_gittables/2022\"),\n",
    "                            small_tag=args.small_tag,\n",
    "                            max_num_col=max_num_col,\n",
    "                            random_sample=False,\n",
    "                            context_encoding_type=\"v1\",\n",
    "                            adaptive_max_length=False   )\n",
    "test_dataloader = DataLoader(test_dataset,\n",
    "                                batch_size=batch_size,\n",
    "                                collate_fn=padder)   \n",
    "padder = collate_fn(tokenizer.pad_token_id)\n",
    "model.load_state_dict(torch.load(f\"/data/zhihao/TU/Watchog/outputs/gt-semtab22-dbpedia-all{cv}/bert-base-uncased-fromscratch-semi1-pool@v0-max_num_col@1-poolv0-max_cols1-randFalse-bs16-ml64-ne50-do0.1_best_f1_micro.pt\", map_location=device))\n",
    "model.eval()\n",
    "model = model.to(device)\n",
    "labels_single = []\n",
    "embeddings_single = []\n",
    "with torch.no_grad():\n",
    "    for batch_idx, batch in enumerate(test_dataloader):\n",
    "        batch[\"data\"] = batch[\"data\"].to(device)\n",
    "        cls_indexes = torch.nonzero(\n",
    "                batch[\"data\"].T == tokenizer.cls_token_id)\n",
    "        logits, embs = model(batch[\"data\"].T, cls_indexes=cls_indexes, get_enc=True)\n",
    "        label = batch[\"label\"].T.cpu()\n",
    "        labels_single += label.numpy().tolist()\n",
    "        embeddings_single.append(embs.cpu())\n",
    "embeddings_single = torch.cat(embeddings_single, dim=0).numpy()\n",
    "labels_single = np.array(labels_single)"
   ]
  },
  {
   "cell_type": "code",
   "execution_count": 472,
   "metadata": {},
   "outputs": [
    {
     "name": "stdout",
     "output_type": "stream",
     "text": [
      "-0.27681068\n",
      "-0.1265782\n"
     ]
    }
   ],
   "source": [
    "print(silhouette_score(embeddings_single, labels_single, metric='cosine'))\n",
    "print(silhouette_score(embeddings_context, labels_single, metric='cosine'))\n",
    "class_silhouette_score_context = np.array(silhouette_score_per_cluster(embeddings_context, labels_single))\n",
    "class_silhouette_score = np.array(silhouette_score_per_cluster(embeddings_single, labels_single))"
   ]
  },
  {
   "cell_type": "code",
   "execution_count": 488,
   "metadata": {},
   "outputs": [
    {
     "name": "stdout",
     "output_type": "stream",
     "text": [
      "0.30538750303598283 0.2968195661092821\n"
     ]
    }
   ],
   "source": [
    "print(class_f1.mean(), class_f1_single.mean())"
   ]
  },
  {
   "cell_type": "code",
   "execution_count": 476,
   "metadata": {},
   "outputs": [
    {
     "name": "stdout",
     "output_type": "stream",
     "text": [
      "38\n",
      "28\n"
     ]
    }
   ],
   "source": [
    "print(sum(class_silhouette_score > class_silhouette_score_context))\n",
    "print(sum(class_f1_single>class_f1))"
   ]
  },
  {
   "cell_type": "code",
   "execution_count": null,
   "metadata": {},
   "outputs": [],
   "source": [
    "class_f1_single"
   ]
  },
  {
   "cell_type": "code",
   "execution_count": 477,
   "metadata": {},
   "outputs": [
    {
     "data": {
      "text/plain": [
       "PearsonRResult(statistic=0.1891770972681517, pvalue=0.05813377160353596)"
      ]
     },
     "execution_count": 477,
     "metadata": {},
     "output_type": "execute_result"
    }
   ],
   "source": [
    "from scipy.stats import pearsonr\n",
    "pearsonr(class_silhouette_score - class_silhouette_score_context, class_f1_single-class_f1)"
   ]
  },
  {
   "cell_type": "code",
   "execution_count": 478,
   "metadata": {},
   "outputs": [
    {
     "data": {
      "text/plain": [
       "PearsonRResult(statistic=0.49248116392114505, pvalue=1.6844889481692578e-07)"
      ]
     },
     "execution_count": 478,
     "metadata": {},
     "output_type": "execute_result"
    }
   ],
   "source": [
    "from scipy.stats import pearsonr\n",
    "pearsonr(class_silhouette_score_context, class_f1)"
   ]
  },
  {
   "cell_type": "code",
   "execution_count": 479,
   "metadata": {},
   "outputs": [
    {
     "data": {
      "text/plain": [
       "PearsonRResult(statistic=0.43795053960177166, pvalue=4.647345172092096e-06)"
      ]
     },
     "execution_count": 479,
     "metadata": {},
     "output_type": "execute_result"
    }
   ],
   "source": [
    "from scipy.stats import pearsonr\n",
    "pearsonr(class_silhouette_score, class_f1_single)"
   ]
  },
  {
   "cell_type": "code",
   "execution_count": 494,
   "metadata": {},
   "outputs": [
    {
     "data": {
      "text/plain": [
       "torch.Size([13, 768])"
      ]
     },
     "execution_count": 494,
     "metadata": {},
     "output_type": "execute_result"
    }
   ],
   "source": []
  },
  {
   "cell_type": "code",
   "execution_count": 493,
   "metadata": {},
   "outputs": [
    {
     "data": {
      "text/plain": [
       "torch.Size([13])"
      ]
     },
     "execution_count": 493,
     "metadata": {},
     "output_type": "execute_result"
    }
   ],
   "source": [
    "label.shape"
   ]
  },
  {
   "cell_type": "code",
   "execution_count": 11,
   "metadata": {},
   "outputs": [
    {
     "name": "stderr",
     "output_type": "stream",
     "text": [
      "A parameter name that contains `beta` will be renamed internally to `bias`. Please use a different name to suppress this warning.\n",
      "A parameter name that contains `gamma` will be renamed internally to `weight`. Please use a different name to suppress this warning.\n",
      "A parameter name that contains `beta` will be renamed internally to `bias`. Please use a different name to suppress this warning.\n",
      "A parameter name that contains `gamma` will be renamed internally to `weight`. Please use a different name to suppress this warning.\n",
      "A parameter name that contains `beta` will be renamed internally to `bias`. Please use a different name to suppress this warning.\n",
      "A parameter name that contains `gamma` will be renamed internally to `weight`. Please use a different name to suppress this warning.\n",
      "A parameter name that contains `beta` will be renamed internally to `bias`. Please use a different name to suppress this warning.\n",
      "A parameter name that contains `gamma` will be renamed internally to `weight`. Please use a different name to suppress this warning.\n",
      "A parameter name that contains `beta` will be renamed internally to `bias`. Please use a different name to suppress this warning.\n",
      "A parameter name that contains `gamma` will be renamed internally to `weight`. Please use a different name to suppress this warning.\n",
      "A parameter name that contains `beta` will be renamed internally to `bias`. Please use a different name to suppress this warning.\n",
      "A parameter name that contains `gamma` will be renamed internally to `weight`. Please use a different name to suppress this warning.\n",
      "A parameter name that contains `beta` will be renamed internally to `bias`. Please use a different name to suppress this warning.\n",
      "A parameter name that contains `gamma` will be renamed internally to `weight`. Please use a different name to suppress this warning.\n",
      "A parameter name that contains `beta` will be renamed internally to `bias`. Please use a different name to suppress this warning.\n",
      "A parameter name that contains `gamma` will be renamed internally to `weight`. Please use a different name to suppress this warning.\n",
      "A parameter name that contains `beta` will be renamed internally to `bias`. Please use a different name to suppress this warning.\n",
      "A parameter name that contains `gamma` will be renamed internally to `weight`. Please use a different name to suppress this warning.\n",
      "A parameter name that contains `beta` will be renamed internally to `bias`. Please use a different name to suppress this warning.\n",
      "A parameter name that contains `gamma` will be renamed internally to `weight`. Please use a different name to suppress this warning.\n",
      "A parameter name that contains `beta` will be renamed internally to `bias`. Please use a different name to suppress this warning.\n",
      "A parameter name that contains `gamma` will be renamed internally to `weight`. Please use a different name to suppress this warning.\n",
      "A parameter name that contains `beta` will be renamed internally to `bias`. Please use a different name to suppress this warning.\n",
      "A parameter name that contains `gamma` will be renamed internally to `weight`. Please use a different name to suppress this warning.\n",
      "A parameter name that contains `beta` will be renamed internally to `bias`. Please use a different name to suppress this warning.\n",
      "A parameter name that contains `gamma` will be renamed internally to `weight`. Please use a different name to suppress this warning.\n",
      "A parameter name that contains `beta` will be renamed internally to `bias`. Please use a different name to suppress this warning.\n",
      "A parameter name that contains `gamma` will be renamed internally to `weight`. Please use a different name to suppress this warning.\n",
      "A parameter name that contains `beta` will be renamed internally to `bias`. Please use a different name to suppress this warning.\n",
      "A parameter name that contains `gamma` will be renamed internally to `weight`. Please use a different name to suppress this warning.\n",
      "A parameter name that contains `beta` will be renamed internally to `bias`. Please use a different name to suppress this warning.\n",
      "A parameter name that contains `gamma` will be renamed internally to `weight`. Please use a different name to suppress this warning.\n",
      "A parameter name that contains `beta` will be renamed internally to `bias`. Please use a different name to suppress this warning.\n",
      "A parameter name that contains `gamma` will be renamed internally to `weight`. Please use a different name to suppress this warning.\n",
      "A parameter name that contains `beta` will be renamed internally to `bias`. Please use a different name to suppress this warning.\n",
      "A parameter name that contains `gamma` will be renamed internally to `weight`. Please use a different name to suppress this warning.\n",
      "A parameter name that contains `beta` will be renamed internally to `bias`. Please use a different name to suppress this warning.\n",
      "A parameter name that contains `gamma` will be renamed internally to `weight`. Please use a different name to suppress this warning.\n",
      "A parameter name that contains `beta` will be renamed internally to `bias`. Please use a different name to suppress this warning.\n",
      "A parameter name that contains `gamma` will be renamed internally to `weight`. Please use a different name to suppress this warning.\n",
      "A parameter name that contains `beta` will be renamed internally to `bias`. Please use a different name to suppress this warning.\n",
      "A parameter name that contains `gamma` will be renamed internally to `weight`. Please use a different name to suppress this warning.\n",
      "A parameter name that contains `beta` will be renamed internally to `bias`. Please use a different name to suppress this warning.\n",
      "A parameter name that contains `gamma` will be renamed internally to `weight`. Please use a different name to suppress this warning.\n",
      "A parameter name that contains `beta` will be renamed internally to `bias`. Please use a different name to suppress this warning.\n",
      "A parameter name that contains `gamma` will be renamed internally to `weight`. Please use a different name to suppress this warning.\n",
      "A parameter name that contains `beta` will be renamed internally to `bias`. Please use a different name to suppress this warning.\n",
      "A parameter name that contains `gamma` will be renamed internally to `weight`. Please use a different name to suppress this warning.\n",
      "A parameter name that contains `beta` will be renamed internally to `bias`. Please use a different name to suppress this warning.\n",
      "A parameter name that contains `gamma` will be renamed internally to `weight`. Please use a different name to suppress this warning.\n",
      "A parameter name that contains `beta` will be renamed internally to `bias`. Please use a different name to suppress this warning.\n",
      "A parameter name that contains `gamma` will be renamed internally to `weight`. Please use a different name to suppress this warning.\n"
     ]
    },
    {
     "name": "stdout",
     "output_type": "stream",
     "text": [
      "test\n",
      "test 1085\n",
      "train 1\n",
      "train 2\n",
      "train 3\n",
      "train 4\n"
     ]
    },
    {
     "name": "stderr",
     "output_type": "stream",
     "text": [
      "We strongly recommend passing in an `attention_mask` since your input_ids may be padded. See https://huggingface.co/docs/transformers/troubleshooting#incorrect-output-when-padding-tokens-arent-masked.\n"
     ]
    },
    {
     "name": "stdout",
     "output_type": "stream",
     "text": [
      "train 3463\n"
     ]
    },
    {
     "name": "stderr",
     "output_type": "stream",
     "text": [
      "/tmp/ipykernel_100351/3158083531.py:42: UserWarning: The use of `x.T` on tensors of dimension other than 2 to reverse their shape is deprecated and it will throw an error in a future release. Consider `x.mT` to transpose batches of matrices or `x.permute(*torch.arange(x.ndim - 1, -1, -1))` to reverse the dimensions of a tensor. (Triggered internally at ../aten/src/ATen/native/TensorShape.cpp:3697.)\n",
      "  label = batch[\"label\"].T.cpu()\n"
     ]
    }
   ],
   "source": [
    "model = BertForMultiOutputClassification(ckpt_hp, device=device, lm=ckpt['hp'].lm, version=args.pool_version)\n",
    "max_num_col = 8\n",
    "dataset_cls = GittablesColwiseDataset\n",
    "test_dataset = dataset_cls(cv=cv,\n",
    "                            split=\"test\",\n",
    "                            tokenizer=tokenizer,\n",
    "                            max_length=max_length,\n",
    "                            device=device,\n",
    "                            base_dirpath=os.path.join(args.data_path, \"GitTables/semtab_gittables/2022\"),\n",
    "                            small_tag=args.small_tag,\n",
    "                            max_num_col=max_num_col,\n",
    "                            random_sample=False,\n",
    "                            context_encoding_type=\"v1\",\n",
    "                            adaptive_max_length=False   )\n",
    "test_dataloader = DataLoader(test_dataset,\n",
    "                                batch_size=batch_size,\n",
    "                                collate_fn=padder)   \n",
    "train_dataset = dataset_cls(cv=cv,\n",
    "                            split=\"train\",\n",
    "                            tokenizer=tokenizer,\n",
    "                            max_length=max_length,\n",
    "                            device=device,\n",
    "                            base_dirpath=os.path.join(args.data_path, \"GitTables/semtab_gittables/2022\"),\n",
    "                            small_tag=args.small_tag,\n",
    "                            max_num_col=max_num_col,\n",
    "                            random_sample=False,\n",
    "                            context_encoding_type=\"v1\",\n",
    "                            adaptive_max_length=False   )\n",
    "train_dataloader = DataLoader(train_dataset,\n",
    "                                batch_size=batch_size,\n",
    "                                collate_fn=padder)   \n",
    "padder = collate_fn(tokenizer.pad_token_id)\n",
    "model.eval()\n",
    "model = model.to(device)\n",
    "labels_context = []\n",
    "embeddings_context = []\n",
    "with torch.no_grad():\n",
    "    for batch_idx, batch in enumerate(test_dataloader):\n",
    "        cls_indexes = torch.nonzero(\n",
    "                batch[\"data\"].T == tokenizer.cls_token_id)\n",
    "        logits, embs = model(batch[\"data\"].T, cls_indexes=cls_indexes, get_enc=True)\n",
    "        label = batch[\"label\"].T.cpu()\n",
    "        labels_context += label.numpy().tolist()\n",
    "        embeddings_context.append(embs.cpu())\n",
    "embeddings_context = torch.cat(embeddings_context, dim=0).numpy()\n",
    "labels_context = np.array(labels_context)\n",
    "\n",
    "\n",
    "labels_context_train = []\n",
    "embeddings_context_train = []\n",
    "with torch.no_grad():\n",
    "    for batch_idx, batch in enumerate(train_dataloader):\n",
    "        cls_indexes = torch.nonzero(\n",
    "                batch[\"data\"].T == tokenizer.cls_token_id)\n",
    "        logits, embs = model(batch[\"data\"].T, cls_indexes=cls_indexes, get_enc=True)\n",
    "        label = batch[\"label\"].T.cpu()\n",
    "        labels_context_train += label.numpy().tolist()\n",
    "        embeddings_context_train.append(embs.cpu())\n",
    "embeddings_context_train = torch.cat(embeddings_context_train, dim=0).numpy()\n",
    "labels_context_train = np.array(labels_context_train)"
   ]
  },
  {
   "cell_type": "code",
   "execution_count": 86,
   "metadata": {},
   "outputs": [
    {
     "data": {
      "text/plain": [
       "[101,\n",
       " 1012,\n",
       " 1012,\n",
       " 1012,\n",
       " 1012,\n",
       " 1012,\n",
       " 1012,\n",
       " 1012,\n",
       " 1012,\n",
       " 1012,\n",
       " 1012,\n",
       " 1012,\n",
       " 1012,\n",
       " 1012,\n",
       " 1012,\n",
       " 1012,\n",
       " 1012,\n",
       " 102]"
      ]
     },
     "execution_count": 86,
     "metadata": {},
     "output_type": "execute_result"
    }
   ],
   "source": [
    "tokenizer.encode(\"................\")"
   ]
  },
  {
   "cell_type": "code",
   "execution_count": 68,
   "metadata": {},
   "outputs": [
    {
     "name": "stderr",
     "output_type": "stream",
     "text": [
      "A parameter name that contains `beta` will be renamed internally to `bias`. Please use a different name to suppress this warning.\n",
      "A parameter name that contains `gamma` will be renamed internally to `weight`. Please use a different name to suppress this warning.\n",
      "A parameter name that contains `beta` will be renamed internally to `bias`. Please use a different name to suppress this warning.\n",
      "A parameter name that contains `gamma` will be renamed internally to `weight`. Please use a different name to suppress this warning.\n",
      "A parameter name that contains `beta` will be renamed internally to `bias`. Please use a different name to suppress this warning.\n",
      "A parameter name that contains `gamma` will be renamed internally to `weight`. Please use a different name to suppress this warning.\n",
      "A parameter name that contains `beta` will be renamed internally to `bias`. Please use a different name to suppress this warning.\n",
      "A parameter name that contains `gamma` will be renamed internally to `weight`. Please use a different name to suppress this warning.\n",
      "A parameter name that contains `beta` will be renamed internally to `bias`. Please use a different name to suppress this warning.\n",
      "A parameter name that contains `gamma` will be renamed internally to `weight`. Please use a different name to suppress this warning.\n",
      "A parameter name that contains `beta` will be renamed internally to `bias`. Please use a different name to suppress this warning.\n",
      "A parameter name that contains `gamma` will be renamed internally to `weight`. Please use a different name to suppress this warning.\n",
      "A parameter name that contains `beta` will be renamed internally to `bias`. Please use a different name to suppress this warning.\n",
      "A parameter name that contains `gamma` will be renamed internally to `weight`. Please use a different name to suppress this warning.\n",
      "A parameter name that contains `beta` will be renamed internally to `bias`. Please use a different name to suppress this warning.\n",
      "A parameter name that contains `gamma` will be renamed internally to `weight`. Please use a different name to suppress this warning.\n",
      "A parameter name that contains `beta` will be renamed internally to `bias`. Please use a different name to suppress this warning.\n",
      "A parameter name that contains `gamma` will be renamed internally to `weight`. Please use a different name to suppress this warning.\n",
      "A parameter name that contains `beta` will be renamed internally to `bias`. Please use a different name to suppress this warning.\n",
      "A parameter name that contains `gamma` will be renamed internally to `weight`. Please use a different name to suppress this warning.\n",
      "A parameter name that contains `beta` will be renamed internally to `bias`. Please use a different name to suppress this warning.\n",
      "A parameter name that contains `gamma` will be renamed internally to `weight`. Please use a different name to suppress this warning.\n",
      "A parameter name that contains `beta` will be renamed internally to `bias`. Please use a different name to suppress this warning.\n",
      "A parameter name that contains `gamma` will be renamed internally to `weight`. Please use a different name to suppress this warning.\n",
      "A parameter name that contains `beta` will be renamed internally to `bias`. Please use a different name to suppress this warning.\n",
      "A parameter name that contains `gamma` will be renamed internally to `weight`. Please use a different name to suppress this warning.\n",
      "A parameter name that contains `beta` will be renamed internally to `bias`. Please use a different name to suppress this warning.\n",
      "A parameter name that contains `gamma` will be renamed internally to `weight`. Please use a different name to suppress this warning.\n",
      "A parameter name that contains `beta` will be renamed internally to `bias`. Please use a different name to suppress this warning.\n",
      "A parameter name that contains `gamma` will be renamed internally to `weight`. Please use a different name to suppress this warning.\n",
      "A parameter name that contains `beta` will be renamed internally to `bias`. Please use a different name to suppress this warning.\n",
      "A parameter name that contains `gamma` will be renamed internally to `weight`. Please use a different name to suppress this warning.\n",
      "A parameter name that contains `beta` will be renamed internally to `bias`. Please use a different name to suppress this warning.\n",
      "A parameter name that contains `gamma` will be renamed internally to `weight`. Please use a different name to suppress this warning.\n",
      "A parameter name that contains `beta` will be renamed internally to `bias`. Please use a different name to suppress this warning.\n",
      "A parameter name that contains `gamma` will be renamed internally to `weight`. Please use a different name to suppress this warning.\n",
      "A parameter name that contains `beta` will be renamed internally to `bias`. Please use a different name to suppress this warning.\n",
      "A parameter name that contains `gamma` will be renamed internally to `weight`. Please use a different name to suppress this warning.\n",
      "A parameter name that contains `beta` will be renamed internally to `bias`. Please use a different name to suppress this warning.\n",
      "A parameter name that contains `gamma` will be renamed internally to `weight`. Please use a different name to suppress this warning.\n",
      "A parameter name that contains `beta` will be renamed internally to `bias`. Please use a different name to suppress this warning.\n",
      "A parameter name that contains `gamma` will be renamed internally to `weight`. Please use a different name to suppress this warning.\n",
      "A parameter name that contains `beta` will be renamed internally to `bias`. Please use a different name to suppress this warning.\n",
      "A parameter name that contains `gamma` will be renamed internally to `weight`. Please use a different name to suppress this warning.\n",
      "A parameter name that contains `beta` will be renamed internally to `bias`. Please use a different name to suppress this warning.\n",
      "A parameter name that contains `gamma` will be renamed internally to `weight`. Please use a different name to suppress this warning.\n",
      "A parameter name that contains `beta` will be renamed internally to `bias`. Please use a different name to suppress this warning.\n",
      "A parameter name that contains `gamma` will be renamed internally to `weight`. Please use a different name to suppress this warning.\n",
      "A parameter name that contains `beta` will be renamed internally to `bias`. Please use a different name to suppress this warning.\n",
      "A parameter name that contains `gamma` will be renamed internally to `weight`. Please use a different name to suppress this warning.\n",
      "A parameter name that contains `beta` will be renamed internally to `bias`. Please use a different name to suppress this warning.\n",
      "A parameter name that contains `gamma` will be renamed internally to `weight`. Please use a different name to suppress this warning.\n"
     ]
    },
    {
     "name": "stdout",
     "output_type": "stream",
     "text": [
      "test\n",
      "test 1085\n",
      "train 1\n",
      "train 2\n",
      "train 3\n",
      "train 4\n",
      "train 3463\n"
     ]
    }
   ],
   "source": [
    "# use bert CLS\n",
    "from transformers import AutoModel, AutoTokenizer\n",
    "bert = AutoModel.from_pretrained('bert-base-uncased').to(device)\n",
    "bert.eval()\n",
    "max_num_col = 8\n",
    "dataset_cls = GittablesColwiseDataset\n",
    "test_dataset_single = dataset_cls(cv=cv,\n",
    "                            split=\"test\",\n",
    "                            tokenizer=tokenizer,\n",
    "                            max_length=max_length,\n",
    "                            device=device,\n",
    "                            base_dirpath=os.path.join(args.data_path, \"GitTables/semtab_gittables/2022\"),\n",
    "                            small_tag=args.small_tag,\n",
    "                            max_num_col=1,\n",
    "                            random_sample=False,\n",
    "                            context_encoding_type=\"v1\",\n",
    "                            adaptive_max_length=False   )\n",
    "test_dataloader_single = DataLoader(test_dataset_single,\n",
    "                                batch_size=batch_size,\n",
    "                                collate_fn=padder)   \n",
    "train_dataset_single = dataset_cls(cv=cv,\n",
    "                            split=\"train\",\n",
    "                            tokenizer=tokenizer,\n",
    "                            max_length=max_length,\n",
    "                            device=device,\n",
    "                            base_dirpath=os.path.join(args.data_path, \"GitTables/semtab_gittables/2022\"),\n",
    "                            small_tag=args.small_tag,\n",
    "                            max_num_col=1,\n",
    "                            random_sample=False,\n",
    "                            context_encoding_type=\"v1\",\n",
    "                            adaptive_max_length=False   )\n",
    "train_dataloader_single = DataLoader(train_dataset_single,\n",
    "                                batch_size=batch_size,\n",
    "                                collate_fn=padder)   \n",
    "padder = collate_fn(tokenizer.pad_token_id)"
   ]
  },
  {
   "cell_type": "code",
   "execution_count": 48,
   "metadata": {},
   "outputs": [
    {
     "name": "stderr",
     "output_type": "stream",
     "text": [
      "A parameter name that contains `beta` will be renamed internally to `bias`. Please use a different name to suppress this warning.\n",
      "A parameter name that contains `gamma` will be renamed internally to `weight`. Please use a different name to suppress this warning.\n",
      "A parameter name that contains `beta` will be renamed internally to `bias`. Please use a different name to suppress this warning.\n",
      "A parameter name that contains `gamma` will be renamed internally to `weight`. Please use a different name to suppress this warning.\n",
      "A parameter name that contains `beta` will be renamed internally to `bias`. Please use a different name to suppress this warning.\n",
      "A parameter name that contains `gamma` will be renamed internally to `weight`. Please use a different name to suppress this warning.\n",
      "A parameter name that contains `beta` will be renamed internally to `bias`. Please use a different name to suppress this warning.\n",
      "A parameter name that contains `gamma` will be renamed internally to `weight`. Please use a different name to suppress this warning.\n",
      "A parameter name that contains `beta` will be renamed internally to `bias`. Please use a different name to suppress this warning.\n",
      "A parameter name that contains `gamma` will be renamed internally to `weight`. Please use a different name to suppress this warning.\n",
      "A parameter name that contains `beta` will be renamed internally to `bias`. Please use a different name to suppress this warning.\n",
      "A parameter name that contains `gamma` will be renamed internally to `weight`. Please use a different name to suppress this warning.\n",
      "A parameter name that contains `beta` will be renamed internally to `bias`. Please use a different name to suppress this warning.\n",
      "A parameter name that contains `gamma` will be renamed internally to `weight`. Please use a different name to suppress this warning.\n",
      "A parameter name that contains `beta` will be renamed internally to `bias`. Please use a different name to suppress this warning.\n",
      "A parameter name that contains `gamma` will be renamed internally to `weight`. Please use a different name to suppress this warning.\n",
      "A parameter name that contains `beta` will be renamed internally to `bias`. Please use a different name to suppress this warning.\n",
      "A parameter name that contains `gamma` will be renamed internally to `weight`. Please use a different name to suppress this warning.\n",
      "A parameter name that contains `beta` will be renamed internally to `bias`. Please use a different name to suppress this warning.\n",
      "A parameter name that contains `gamma` will be renamed internally to `weight`. Please use a different name to suppress this warning.\n",
      "A parameter name that contains `beta` will be renamed internally to `bias`. Please use a different name to suppress this warning.\n",
      "A parameter name that contains `gamma` will be renamed internally to `weight`. Please use a different name to suppress this warning.\n",
      "A parameter name that contains `beta` will be renamed internally to `bias`. Please use a different name to suppress this warning.\n",
      "A parameter name that contains `gamma` will be renamed internally to `weight`. Please use a different name to suppress this warning.\n",
      "A parameter name that contains `beta` will be renamed internally to `bias`. Please use a different name to suppress this warning.\n",
      "A parameter name that contains `gamma` will be renamed internally to `weight`. Please use a different name to suppress this warning.\n",
      "A parameter name that contains `beta` will be renamed internally to `bias`. Please use a different name to suppress this warning.\n",
      "A parameter name that contains `gamma` will be renamed internally to `weight`. Please use a different name to suppress this warning.\n",
      "A parameter name that contains `beta` will be renamed internally to `bias`. Please use a different name to suppress this warning.\n",
      "A parameter name that contains `gamma` will be renamed internally to `weight`. Please use a different name to suppress this warning.\n",
      "A parameter name that contains `beta` will be renamed internally to `bias`. Please use a different name to suppress this warning.\n",
      "A parameter name that contains `gamma` will be renamed internally to `weight`. Please use a different name to suppress this warning.\n",
      "A parameter name that contains `beta` will be renamed internally to `bias`. Please use a different name to suppress this warning.\n",
      "A parameter name that contains `gamma` will be renamed internally to `weight`. Please use a different name to suppress this warning.\n",
      "A parameter name that contains `beta` will be renamed internally to `bias`. Please use a different name to suppress this warning.\n",
      "A parameter name that contains `gamma` will be renamed internally to `weight`. Please use a different name to suppress this warning.\n",
      "A parameter name that contains `beta` will be renamed internally to `bias`. Please use a different name to suppress this warning.\n",
      "A parameter name that contains `gamma` will be renamed internally to `weight`. Please use a different name to suppress this warning.\n",
      "A parameter name that contains `beta` will be renamed internally to `bias`. Please use a different name to suppress this warning.\n",
      "A parameter name that contains `gamma` will be renamed internally to `weight`. Please use a different name to suppress this warning.\n",
      "A parameter name that contains `beta` will be renamed internally to `bias`. Please use a different name to suppress this warning.\n",
      "A parameter name that contains `gamma` will be renamed internally to `weight`. Please use a different name to suppress this warning.\n",
      "A parameter name that contains `beta` will be renamed internally to `bias`. Please use a different name to suppress this warning.\n",
      "A parameter name that contains `gamma` will be renamed internally to `weight`. Please use a different name to suppress this warning.\n",
      "A parameter name that contains `beta` will be renamed internally to `bias`. Please use a different name to suppress this warning.\n",
      "A parameter name that contains `gamma` will be renamed internally to `weight`. Please use a different name to suppress this warning.\n",
      "A parameter name that contains `beta` will be renamed internally to `bias`. Please use a different name to suppress this warning.\n",
      "A parameter name that contains `gamma` will be renamed internally to `weight`. Please use a different name to suppress this warning.\n",
      "A parameter name that contains `beta` will be renamed internally to `bias`. Please use a different name to suppress this warning.\n",
      "A parameter name that contains `gamma` will be renamed internally to `weight`. Please use a different name to suppress this warning.\n",
      "A parameter name that contains `beta` will be renamed internally to `bias`. Please use a different name to suppress this warning.\n",
      "A parameter name that contains `gamma` will be renamed internally to `weight`. Please use a different name to suppress this warning.\n"
     ]
    },
    {
     "name": "stdout",
     "output_type": "stream",
     "text": [
      "test\n",
      "test 1085\n",
      "train 1\n",
      "train 2\n",
      "train 3\n",
      "train 4\n",
      "train 3463\n"
     ]
    }
   ],
   "source": [
    "# use bert CLS\n",
    "from transformers import AutoModel, AutoTokenizer\n",
    "bert = AutoModel.from_pretrained('bert-base-uncased').to(device)\n",
    "bert.eval()\n",
    "max_num_col = 8\n",
    "dataset_cls = GittablesColwiseDataset\n",
    "test_dataset = dataset_cls(cv=cv,\n",
    "                            split=\"test\",\n",
    "                            tokenizer=tokenizer,\n",
    "                            max_length=max_length,\n",
    "                            device=device,\n",
    "                            base_dirpath=os.path.join(args.data_path, \"GitTables/semtab_gittables/2022\"),\n",
    "                            small_tag=args.small_tag,\n",
    "                            max_num_col=max_num_col,\n",
    "                            random_sample=False,\n",
    "                            context_encoding_type=\"v1\",\n",
    "                            adaptive_max_length=False   )\n",
    "test_dataloader = DataLoader(test_dataset,\n",
    "                                batch_size=batch_size,\n",
    "                                collate_fn=padder)   \n",
    "train_dataset = dataset_cls(cv=cv,\n",
    "                            split=\"train\",\n",
    "                            tokenizer=tokenizer,\n",
    "                            max_length=max_length,\n",
    "                            device=device,\n",
    "                            base_dirpath=os.path.join(args.data_path, \"GitTables/semtab_gittables/2022\"),\n",
    "                            small_tag=args.small_tag,\n",
    "                            max_num_col=max_num_col,\n",
    "                            random_sample=False,\n",
    "                            context_encoding_type=\"v1\",\n",
    "                            adaptive_max_length=False   )\n",
    "train_dataloader = DataLoader(train_dataset,\n",
    "                                batch_size=batch_size,\n",
    "                                collate_fn=padder)   \n",
    "padder = collate_fn(tokenizer.pad_token_id)"
   ]
  },
  {
   "cell_type": "code",
   "execution_count": 69,
   "metadata": {},
   "outputs": [],
   "source": [
    "labels_context = []\n",
    "embeddings_context_single = []\n",
    "with torch.no_grad():\n",
    "    for batch_idx, batch in enumerate(test_dataloader_single):\n",
    "        cls_indexes = torch.nonzero(\n",
    "                batch[\"data\"].T == tokenizer.cls_token_id)\n",
    "        embs = bert(batch[\"data\"].T)[0].mean(dim=1)\n",
    "        label = batch[\"label\"].T.cpu()\n",
    "        labels_context += label.numpy().tolist()\n",
    "        embeddings_context_single.append(embs.cpu())\n",
    "embeddings_context_single = torch.cat(embeddings_context_single, dim=0).numpy()\n",
    "labels_context = np.array(labels_context)\n",
    "\n",
    "\n",
    "labels_context_train = []\n",
    "embeddings_context_train_single = []\n",
    "with torch.no_grad():\n",
    "    for batch_idx, batch in enumerate(train_dataloader_single):\n",
    "        cls_indexes = torch.nonzero(\n",
    "                batch[\"data\"].T == tokenizer.cls_token_id)\n",
    "        embs = bert(batch[\"data\"].T)[0].mean(dim=1)\n",
    "        label = batch[\"label\"].T.cpu()\n",
    "        labels_context_train += label.numpy().tolist()\n",
    "        embeddings_context_train_single.append(embs.cpu())\n",
    "embeddings_context_train_single = torch.cat(embeddings_context_train_single, dim=0).numpy()\n",
    "labels_context_train = np.array(labels_context_train)"
   ]
  },
  {
   "cell_type": "code",
   "execution_count": 81,
   "metadata": {},
   "outputs": [
    {
     "data": {
      "text/plain": [
       "torch.Size([7, 64, 768])"
      ]
     },
     "execution_count": 81,
     "metadata": {},
     "output_type": "execute_result"
    }
   ],
   "source": [
    "bert.embeddings(batch[\"data\"].T).shape"
   ]
  },
  {
   "cell_type": "code",
   "execution_count": 70,
   "metadata": {},
   "outputs": [
    {
     "name": "stdout",
     "output_type": "stream",
     "text": [
      "-0.15269028\n"
     ]
    },
    {
     "data": {
      "text/plain": [
       "PearsonRResult(statistic=0.5305929127201459, pvalue=1.1485784183372882e-08)"
      ]
     },
     "execution_count": 70,
     "metadata": {},
     "output_type": "execute_result"
    }
   ],
   "source": [
    "# BERT origin [:, 0, :] single\n",
    "from sklearn.metrics import silhouette_samples\n",
    "embeddings_all_single = np.concatenate([embeddings_context_single, embeddings_context_train_single], axis=0)\n",
    "labels_all = np.concatenate([labels_context, labels_context_train], axis=0)\n",
    "silhouette_values_context_single = silhouette_samples(embeddings_all_single, labels_all)[:len(embeddings_context)]\n",
    "print(np.mean(silhouette_values_context_single))\n",
    "unique_labels = np.unique(labels_context)\n",
    "silhouette_per_cluster_single = []\n",
    "for label in unique_labels:\n",
    "    cluster_silhouettes = silhouette_values_context_single[labels_context == label]\n",
    "    silhouette_per_cluster_single.append(np.mean(cluster_silhouettes))\n",
    "silhouette_per_cluster_context_single =  np.array(silhouette_per_cluster_single).reshape(-1)\n",
    "\n",
    "from scipy.stats import pearsonr\n",
    "pearsonr(silhouette_per_cluster_context_single , class_f1)"
   ]
  },
  {
   "cell_type": "code",
   "execution_count": 66,
   "metadata": {},
   "outputs": [],
   "source": [
    "labels_context = []\n",
    "embeddings_context = []\n",
    "with torch.no_grad():\n",
    "    for batch_idx, batch in enumerate(test_dataloader):\n",
    "        cls_indexes = torch.nonzero(\n",
    "                batch[\"data\"].T == tokenizer.cls_token_id)\n",
    "        embs = bert(batch[\"data\"].T)[0][:, 0, :] # .mean(dim=1)\n",
    "        label = batch[\"label\"].T.cpu()\n",
    "        labels_context += label.numpy().tolist()\n",
    "        embeddings_context.append(embs.cpu())\n",
    "embeddings_context = torch.cat(embeddings_context, dim=0).numpy()\n",
    "labels_context = np.array(labels_context)\n",
    "\n",
    "\n",
    "labels_context_train = []\n",
    "embeddings_context_train = []\n",
    "with torch.no_grad():\n",
    "    for batch_idx, batch in enumerate(train_dataloader):\n",
    "        cls_indexes = torch.nonzero(\n",
    "                batch[\"data\"].T == tokenizer.cls_token_id)\n",
    "        embs = bert(batch[\"data\"].T)[0][:, 0, :]  # .mean(dim=1)\n",
    "        label = batch[\"label\"].T.cpu()\n",
    "        labels_context_train += label.numpy().tolist()\n",
    "        embeddings_context_train.append(embs.cpu())\n",
    "embeddings_context_train = torch.cat(embeddings_context_train, dim=0).numpy()\n",
    "labels_context_train = np.array(labels_context_train)"
   ]
  },
  {
   "cell_type": "code",
   "execution_count": 82,
   "metadata": {},
   "outputs": [],
   "source": [
    "# BERT embedding mean\n",
    "labels_context = []\n",
    "embeddings_context = []\n",
    "with torch.no_grad():\n",
    "    for batch_idx, batch in enumerate(test_dataloader):\n",
    "        cls_indexes = torch.nonzero(\n",
    "                batch[\"data\"].T == tokenizer.cls_token_id)\n",
    "        embs = bert.embeddings(batch[\"data\"].T).mean(dim=1)\n",
    "        label = batch[\"label\"].T.cpu()\n",
    "        labels_context += label.numpy().tolist()\n",
    "        embeddings_context.append(embs.cpu())\n",
    "embeddings_context = torch.cat(embeddings_context, dim=0).numpy()\n",
    "labels_context = np.array(labels_context)\n",
    "\n",
    "\n",
    "labels_context_train = []\n",
    "embeddings_context_train = []\n",
    "with torch.no_grad():\n",
    "    for batch_idx, batch in enumerate(train_dataloader):\n",
    "        cls_indexes = torch.nonzero(\n",
    "                batch[\"data\"].T == tokenizer.cls_token_id)\n",
    "        embs = bert.embeddings(batch[\"data\"].T).mean(dim=1)\n",
    "        label = batch[\"label\"].T.cpu()\n",
    "        labels_context_train += label.numpy().tolist()\n",
    "        embeddings_context_train.append(embs.cpu())\n",
    "embeddings_context_train = torch.cat(embeddings_context_train, dim=0).numpy()\n",
    "labels_context_train = np.array(labels_context_train)"
   ]
  },
  {
   "cell_type": "code",
   "execution_count": 71,
   "metadata": {},
   "outputs": [],
   "source": [
    "embs = bert(batch[\"data\"].T)[0]"
   ]
  },
  {
   "cell_type": "code",
   "execution_count": 78,
   "metadata": {},
   "outputs": [
    {
     "data": {
      "text/plain": [
       "BertModel(\n",
       "  (embeddings): BertEmbeddings(\n",
       "    (word_embeddings): Embedding(30522, 768, padding_idx=0)\n",
       "    (position_embeddings): Embedding(512, 768)\n",
       "    (token_type_embeddings): Embedding(2, 768)\n",
       "    (LayerNorm): LayerNorm((768,), eps=1e-12, elementwise_affine=True)\n",
       "    (dropout): Dropout(p=0.1, inplace=False)\n",
       "  )\n",
       "  (encoder): BertEncoder(\n",
       "    (layer): ModuleList(\n",
       "      (0-11): 12 x BertLayer(\n",
       "        (attention): BertAttention(\n",
       "          (self): BertSdpaSelfAttention(\n",
       "            (query): Linear(in_features=768, out_features=768, bias=True)\n",
       "            (key): Linear(in_features=768, out_features=768, bias=True)\n",
       "            (value): Linear(in_features=768, out_features=768, bias=True)\n",
       "            (dropout): Dropout(p=0.1, inplace=False)\n",
       "          )\n",
       "          (output): BertSelfOutput(\n",
       "            (dense): Linear(in_features=768, out_features=768, bias=True)\n",
       "            (LayerNorm): LayerNorm((768,), eps=1e-12, elementwise_affine=True)\n",
       "            (dropout): Dropout(p=0.1, inplace=False)\n",
       "          )\n",
       "        )\n",
       "        (intermediate): BertIntermediate(\n",
       "          (dense): Linear(in_features=768, out_features=3072, bias=True)\n",
       "          (intermediate_act_fn): GELUActivation()\n",
       "        )\n",
       "        (output): BertOutput(\n",
       "          (dense): Linear(in_features=3072, out_features=768, bias=True)\n",
       "          (LayerNorm): LayerNorm((768,), eps=1e-12, elementwise_affine=True)\n",
       "          (dropout): Dropout(p=0.1, inplace=False)\n",
       "        )\n",
       "      )\n",
       "    )\n",
       "  )\n",
       "  (pooler): BertPooler(\n",
       "    (dense): Linear(in_features=768, out_features=768, bias=True)\n",
       "    (activation): Tanh()\n",
       "  )\n",
       ")"
      ]
     },
     "execution_count": 78,
     "metadata": {},
     "output_type": "execute_result"
    }
   ],
   "source": [
    "bert"
   ]
  },
  {
   "cell_type": "code",
   "execution_count": 72,
   "metadata": {},
   "outputs": [
    {
     "data": {
      "text/plain": [
       "torch.Size([7, 64, 768])"
      ]
     },
     "execution_count": 72,
     "metadata": {},
     "output_type": "execute_result"
    }
   ],
   "source": [
    "bert(batch[\"data\"].T)[0]"
   ]
  },
  {
   "cell_type": "code",
   "execution_count": 74,
   "metadata": {},
   "outputs": [
    {
     "name": "stdout",
     "output_type": "stream",
     "text": [
      "Selected Tokens Shape: torch.Size([2, 5, 64])\n"
     ]
    }
   ],
   "source": [
    "import torch\n",
    "import torch.nn.functional as F\n",
    "\n",
    "def gumbel_softmax(logits, tau=1.0):\n",
    "    # Sample from Gumbel distribution\n",
    "    gumbel_noise = -torch.log(-torch.log(torch.rand_like(logits)))\n",
    "    # Add noise and apply softmax with temperature\n",
    "    y = logits + gumbel_noise\n",
    "    return F.softmax(y / tau, dim=-1)\n",
    "\n",
    "def select_m_tokens_gumbel_softmax(X, Y, M, tau=1.0):\n",
    "    B, N, D = X.shape\n",
    "    \n",
    "    # Apply Gumbel-Softmax to logits Y\n",
    "    S = gumbel_softmax(Y, tau)  # Shape [B, N]\n",
    "    \n",
    "    # Select top M indices based on Gumbel-Softmax scores\n",
    "    _, top_m_indices = torch.topk(S, M, dim=-1, largest=True, sorted=False)  # Shape [B, M]\n",
    "    \n",
    "    # Gather the corresponding token embeddings from X\n",
    "    top_m_indices_expanded = top_m_indices.unsqueeze(-1).expand(B, M, D)  # Shape [B, M, D]\n",
    "    selected_tokens = torch.gather(X, 1, top_m_indices_expanded)  # Shape [B, M, D]\n",
    "    \n",
    "    return selected_tokens\n",
    "\n",
    "# Example usage\n",
    "B, N, D, M = 2, 10, 64, 5  # Batch size, Number of tokens, Embedding dim, Number of tokens to select\n",
    "X = torch.rand(B, N, D)  # Token embeddings [B, N, D]\n",
    "Y = torch.rand(B, N)  # Logits for selection [B, N]\n",
    "\n",
    "selected_tokens = select_m_tokens_gumbel_softmax(X, Y, M, tau=0.5)\n",
    "print(\"Selected Tokens Shape:\", selected_tokens.shape)  # Should be [B, M, D]\n"
   ]
  },
  {
   "cell_type": "code",
   "execution_count": 49,
   "metadata": {},
   "outputs": [],
   "source": [
    "from sklearn.metrics import silhouette_samples\n",
    "embeddings_all = np.concatenate([embeddings_context, embeddings_context_train], axis=0)\n",
    "labels_all = np.concatenate([labels_context, labels_context_train], axis=0)\n",
    "silhouette_values_context = silhouette_samples(embeddings_all, labels_all)[:len(embeddings_context)]\n",
    "unique_labels = np.unique(labels_context)\n",
    "silhouette_per_cluster = []\n",
    "for label in unique_labels:\n",
    "    cluster_silhouettes = silhouette_values_context[labels_context == label]\n",
    "    silhouette_per_cluster.append(np.mean(cluster_silhouettes))\n",
    "silhouette_per_cluster_context =  np.array(silhouette_per_cluster).reshape(-1)"
   ]
  },
  {
   "cell_type": "code",
   "execution_count": 39,
   "metadata": {},
   "outputs": [
    {
     "data": {
      "text/plain": [
       "PearsonRResult(statistic=0.24044732989465117, pvalue=0.015433915544509217)"
      ]
     },
     "execution_count": 39,
     "metadata": {},
     "output_type": "execute_result"
    }
   ],
   "source": [
    "from scipy.stats import pearsonr\n",
    "pearsonr(silhouette_per_cluster_context , class_f1)"
   ]
  },
  {
   "cell_type": "code",
   "execution_count": 50,
   "metadata": {},
   "outputs": [
    {
     "data": {
      "text/plain": [
       "PearsonRResult(statistic=0.20016192170518377, pvalue=0.04475795450954423)"
      ]
     },
     "execution_count": 50,
     "metadata": {},
     "output_type": "execute_result"
    }
   ],
   "source": [
    "# BERT origin CLS\n",
    "from scipy.stats import pearsonr\n",
    "pearsonr(silhouette_per_cluster_context , class_f1)"
   ]
  },
  {
   "cell_type": "code",
   "execution_count": 83,
   "metadata": {},
   "outputs": [
    {
     "name": "stdout",
     "output_type": "stream",
     "text": [
      "-0.32395843\n"
     ]
    },
    {
     "data": {
      "text/plain": [
       "PearsonRResult(statistic=0.3373324543521846, pvalue=0.0005613253327162375)"
      ]
     },
     "execution_count": 83,
     "metadata": {},
     "output_type": "execute_result"
    }
   ],
   "source": [
    "# BERT embedding mean\n",
    "from sklearn.metrics import silhouette_samples\n",
    "embeddings_all = np.concatenate([embeddings_context, embeddings_context_train], axis=0)\n",
    "labels_all = np.concatenate([labels_context, labels_context_train], axis=0)\n",
    "silhouette_values_context = silhouette_samples(embeddings_all, labels_all)[:len(embeddings_context)]\n",
    "print(np.mean(silhouette_values_context))\n",
    "unique_labels = np.unique(labels_context)\n",
    "silhouette_per_cluster = []\n",
    "for label in unique_labels:\n",
    "    cluster_silhouettes = silhouette_values_context[labels_context == label]\n",
    "    silhouette_per_cluster.append(np.mean(cluster_silhouettes))\n",
    "silhouette_per_cluster_context =  np.array(silhouette_per_cluster).reshape(-1)\n",
    "\n",
    "from scipy.stats import pearsonr\n",
    "pearsonr(silhouette_per_cluster_context , class_f1)"
   ]
  },
  {
   "cell_type": "code",
   "execution_count": 67,
   "metadata": {},
   "outputs": [
    {
     "name": "stdout",
     "output_type": "stream",
     "text": [
      "-0.23979065\n"
     ]
    },
    {
     "data": {
      "text/plain": [
       "PearsonRResult(statistic=0.2395329616426062, pvalue=0.015841583212868)"
      ]
     },
     "execution_count": 67,
     "metadata": {},
     "output_type": "execute_result"
    }
   ],
   "source": [
    "# BERT origin [:, 0, :]\n",
    "from sklearn.metrics import silhouette_samples\n",
    "embeddings_all = np.concatenate([embeddings_context, embeddings_context_train], axis=0)\n",
    "labels_all = np.concatenate([labels_context, labels_context_train], axis=0)\n",
    "silhouette_values_context = silhouette_samples(embeddings_all, labels_all)[:len(embeddings_context)]\n",
    "print(np.mean(silhouette_values_context))\n",
    "unique_labels = np.unique(labels_context)\n",
    "silhouette_per_cluster = []\n",
    "for label in unique_labels:\n",
    "    cluster_silhouettes = silhouette_values_context[labels_context == label]\n",
    "    silhouette_per_cluster.append(np.mean(cluster_silhouettes))\n",
    "silhouette_per_cluster_context =  np.array(silhouette_per_cluster).reshape(-1)\n",
    "\n",
    "from scipy.stats import pearsonr\n",
    "pearsonr(silhouette_per_cluster_context , class_f1)"
   ]
  },
  {
   "cell_type": "code",
   "execution_count": 64,
   "metadata": {},
   "outputs": [
    {
     "data": {
      "text/plain": [
       "PearsonRResult(statistic=0.34994033949678277, pvalue=0.0003342478977451804)"
      ]
     },
     "execution_count": 64,
     "metadata": {},
     "output_type": "execute_result"
    }
   ],
   "source": [
    "# BERT origin mean\n",
    "from sklearn.metrics import silhouette_samples\n",
    "embeddings_all = np.concatenate([embeddings_context, embeddings_context_train], axis=0)\n",
    "labels_all = np.concatenate([labels_context, labels_context_train], axis=0)\n",
    "silhouette_values_context = silhouette_samples(embeddings_all, labels_all)[:len(embeddings_context)]\n",
    "unique_labels = np.unique(labels_context)\n",
    "silhouette_per_cluster = []\n",
    "for label in unique_labels:\n",
    "    cluster_silhouettes = silhouette_values_context[labels_context == label]\n",
    "    silhouette_per_cluster.append(np.mean(cluster_silhouettes))\n",
    "silhouette_per_cluster_context =  np.array(silhouette_per_cluster).reshape(-1)\n",
    "\n",
    "from scipy.stats import pearsonr\n",
    "pearsonr(silhouette_per_cluster_context , class_f1)"
   ]
  },
  {
   "cell_type": "code",
   "execution_count": 65,
   "metadata": {},
   "outputs": [
    {
     "data": {
      "text/plain": [
       "-0.2690365"
      ]
     },
     "execution_count": 65,
     "metadata": {},
     "output_type": "execute_result"
    }
   ],
   "source": [
    "np.mean(silhouette_values_context)"
   ]
  },
  {
   "cell_type": "code",
   "execution_count": 58,
   "metadata": {},
   "outputs": [
    {
     "data": {
      "text/plain": [
       "PearsonRResult(statistic=0.3400168143099499, pvalue=0.0005035771002837593)"
      ]
     },
     "execution_count": 58,
     "metadata": {},
     "output_type": "execute_result"
    }
   ],
   "source": [
    "# BERT origin sum\n",
    "from sklearn.metrics import silhouette_samples\n",
    "embeddings_all = np.concatenate([embeddings_context, embeddings_context_train], axis=0)\n",
    "labels_all = np.concatenate([labels_context, labels_context_train], axis=0)\n",
    "silhouette_values_context = silhouette_samples(embeddings_all, labels_all)[:len(embeddings_context)]\n",
    "unique_labels = np.unique(labels_context)\n",
    "silhouette_per_cluster = []\n",
    "for label in unique_labels:\n",
    "    cluster_silhouettes = silhouette_values_context[labels_context == label]\n",
    "    silhouette_per_cluster.append(np.mean(cluster_silhouettes))\n",
    "silhouette_per_cluster_context =  np.array(silhouette_per_cluster).reshape(-1)\n",
    "\n",
    "from scipy.stats import pearsonr\n",
    "pearsonr(silhouette_per_cluster_context , class_f1)"
   ]
  },
  {
   "cell_type": "code",
   "execution_count": 37,
   "metadata": {},
   "outputs": [
    {
     "ename": "AttributeError",
     "evalue": "'numpy.ndarray' object has no attribute 'float'",
     "output_type": "error",
     "traceback": [
      "\u001b[0;31m---------------------------------------------------------------------------\u001b[0m",
      "\u001b[0;31mAttributeError\u001b[0m                            Traceback (most recent call last)",
      "Input \u001b[0;32mIn [37]\u001b[0m, in \u001b[0;36m<cell line: 1>\u001b[0;34m()\u001b[0m\n\u001b[0;32m----> 1\u001b[0m \u001b[43m(\u001b[49m\u001b[43mpreds\u001b[49m\u001b[43m \u001b[49m\u001b[38;5;241;43m==\u001b[39;49m\u001b[43m \u001b[49m\u001b[43mlabels\u001b[49m\u001b[43m)\u001b[49m\u001b[38;5;241;43m.\u001b[39;49m\u001b[43mfloat\u001b[49m()\n",
      "\u001b[0;31mAttributeError\u001b[0m: 'numpy.ndarray' object has no attribute 'float'"
     ]
    }
   ],
   "source": []
  },
  {
   "cell_type": "code",
   "execution_count": 38,
   "metadata": {},
   "outputs": [
    {
     "data": {
      "text/plain": [
       "PearsonRResult(statistic=0.041184723989527085, pvalue=0.17522360972615203)"
      ]
     },
     "execution_count": 38,
     "metadata": {},
     "output_type": "execute_result"
    }
   ],
   "source": [
    "from scipy.stats import pearsonr\n",
    "pearsonr(silhouette_values_context , np.array(preds == labels, dtype=float))"
   ]
  },
  {
   "cell_type": "code",
   "execution_count": 30,
   "metadata": {},
   "outputs": [
    {
     "name": "stderr",
     "output_type": "stream",
     "text": [
      "No artists with labels found to put in legend.  Note that artists whose label start with an underscore are ignored when legend() is called with no argument.\n"
     ]
    },
    {
     "data": {
      "image/png": "[encoded data removed]",
      "text/plain": [
       "<Figure size 576x432 with 1 Axes>"
      ]
     },
     "metadata": {},
     "output_type": "display_data"
    }
   ],
   "source": [
    "# Set the style of seaborn\n",
    "import seaborn as sns\n",
    "import matplotlib.pyplot as plt\n",
    "sns.set(style=\"whitegrid\")\n",
    "corr, p_value = pearsonr(silhouette_per_cluster_context , class_f1)\n",
    "# Create the scatter plot\n",
    "plt.figure(figsize=(8, 6))\n",
    "sns.scatterplot(x=silhouette_per_cluster_context, y=class_f1)\n",
    "\n",
    "# Add a line of best fit\n",
    "sns.regplot(x=silhouette_per_cluster_context, y=class_f1, scatter=False, color='red', line_kws={\"label\":f\"Pearson r={corr:.2f}\"})\n",
    "\n",
    "# Add labels and title\n",
    "plt.xlabel(\"Silhouette Score per Cluster (Context)\")\n",
    "plt.ylabel(\"Class F1 Score\")\n",
    "plt.title(\"Scatter Plot with Pearson Correlation\")\n",
    "\n",
    "plt.text(0.05, 0.95, f'Pearson r = {corr:.2f}\\nP-value = {p_value:.3f} (< 0.05)',\n",
    "         transform=plt.gca().transAxes,\n",
    "         fontsize=20,\n",
    "         verticalalignment='top')\n",
    "# Display the legend with Pearson correlation\n",
    "plt.legend()\n",
    "\n",
    "# Show the plot\n",
    "plt.show()"
   ]
  },
  {
   "cell_type": "code",
   "execution_count": 63,
   "metadata": {},
   "outputs": [
    {
     "name": "stderr",
     "output_type": "stream",
     "text": [
      "No artists with labels found to put in legend.  Note that artists whose label start with an underscore are ignored when legend() is called with no argument.\n"
     ]
    },
    {
     "data": {
      "image/png": "[encoded data removed]",
      "text/plain": [
       "<Figure size 576x432 with 1 Axes>"
      ]
     },
     "metadata": {},
     "output_type": "display_data"
    }
   ],
   "source": [
    "# Set the style of seaborn\n",
    "import seaborn as sns\n",
    "import matplotlib.pyplot as plt\n",
    "sns.set(style=\"whitegrid\")\n",
    "corr, p_value = pearsonr(silhouette_per_cluster_context , class_f1)\n",
    "# Create the scatter plot\n",
    "plt.figure(figsize=(8, 6))\n",
    "sns.scatterplot(x=silhouette_per_cluster_context, y=class_f1)\n",
    "\n",
    "# Add a line of best fit\n",
    "sns.regplot(x=silhouette_per_cluster_context, y=class_f1, scatter=False, color='red', line_kws={\"label\":f\"Pearson r={corr:.2f}\"})\n",
    "\n",
    "# Add labels and title\n",
    "plt.xlabel(\"Silhouette Score per Class\")\n",
    "plt.ylabel(\"Class F1 Score\")\n",
    "plt.title(\"Scatter Plot with Pearson Correlation\")\n",
    "\n",
    "plt.text(0.05, 0.95, f'Pearson r = {corr:.2f}\\nP-value = {p_value:.4f} (< 0.05)',\n",
    "         transform=plt.gca().transAxes,\n",
    "         fontsize=20,\n",
    "         verticalalignment='top')\n",
    "# Display the legend with Pearson correlation\n",
    "plt.legend()\n",
    "\n",
    "# Show the plot\n",
    "plt.show()"
   ]
  },
  {
   "cell_type": "code",
   "execution_count": null,
   "metadata": {},
   "outputs": [],
   "source": []
  },
  {
   "cell_type": "code",
   "execution_count": 16,
   "metadata": {},
   "outputs": [
    {
     "data": {
      "text/plain": [
       "(1085,)"
      ]
     },
     "execution_count": 16,
     "metadata": {},
     "output_type": "execute_result"
    }
   ],
   "source": [
    "silhouette_values.shape"
   ]
  },
  {
   "cell_type": "code",
   "execution_count": null,
   "metadata": {},
   "outputs": [],
   "source": [
    "from sklearn.metrics import silhouette_samples\n",
    "\n",
    "def silhouette_score_per_cluster(embeddings, labels, metric=\"cosine\"):\n",
    "    sample_silhouette_values = silhouette_samples(embeddings, labels, metric=metric)"
   ]
  },
  {
   "cell_type": "code",
   "execution_count": 481,
   "metadata": {},
   "outputs": [
    {
     "name": "stderr",
     "output_type": "stream",
     "text": [
      "A parameter name that contains `beta` will be renamed internally to `bias`. Please use a different name to suppress this warning.\n",
      "A parameter name that contains `gamma` will be renamed internally to `weight`. Please use a different name to suppress this warning.\n",
      "A parameter name that contains `beta` will be renamed internally to `bias`. Please use a different name to suppress this warning.\n",
      "A parameter name that contains `gamma` will be renamed internally to `weight`. Please use a different name to suppress this warning.\n",
      "A parameter name that contains `beta` will be renamed internally to `bias`. Please use a different name to suppress this warning.\n",
      "A parameter name that contains `gamma` will be renamed internally to `weight`. Please use a different name to suppress this warning.\n",
      "A parameter name that contains `beta` will be renamed internally to `bias`. Please use a different name to suppress this warning.\n",
      "A parameter name that contains `gamma` will be renamed internally to `weight`. Please use a different name to suppress this warning.\n",
      "A parameter name that contains `beta` will be renamed internally to `bias`. Please use a different name to suppress this warning.\n",
      "A parameter name that contains `gamma` will be renamed internally to `weight`. Please use a different name to suppress this warning.\n",
      "A parameter name that contains `beta` will be renamed internally to `bias`. Please use a different name to suppress this warning.\n",
      "A parameter name that contains `gamma` will be renamed internally to `weight`. Please use a different name to suppress this warning.\n",
      "A parameter name that contains `beta` will be renamed internally to `bias`. Please use a different name to suppress this warning.\n",
      "A parameter name that contains `gamma` will be renamed internally to `weight`. Please use a different name to suppress this warning.\n",
      "A parameter name that contains `beta` will be renamed internally to `bias`. Please use a different name to suppress this warning.\n",
      "A parameter name that contains `gamma` will be renamed internally to `weight`. Please use a different name to suppress this warning.\n",
      "A parameter name that contains `beta` will be renamed internally to `bias`. Please use a different name to suppress this warning.\n",
      "A parameter name that contains `gamma` will be renamed internally to `weight`. Please use a different name to suppress this warning.\n",
      "A parameter name that contains `beta` will be renamed internally to `bias`. Please use a different name to suppress this warning.\n",
      "A parameter name that contains `gamma` will be renamed internally to `weight`. Please use a different name to suppress this warning.\n",
      "A parameter name that contains `beta` will be renamed internally to `bias`. Please use a different name to suppress this warning.\n",
      "A parameter name that contains `gamma` will be renamed internally to `weight`. Please use a different name to suppress this warning.\n",
      "A parameter name that contains `beta` will be renamed internally to `bias`. Please use a different name to suppress this warning.\n",
      "A parameter name that contains `gamma` will be renamed internally to `weight`. Please use a different name to suppress this warning.\n",
      "A parameter name that contains `beta` will be renamed internally to `bias`. Please use a different name to suppress this warning.\n",
      "A parameter name that contains `gamma` will be renamed internally to `weight`. Please use a different name to suppress this warning.\n",
      "A parameter name that contains `beta` will be renamed internally to `bias`. Please use a different name to suppress this warning.\n",
      "A parameter name that contains `gamma` will be renamed internally to `weight`. Please use a different name to suppress this warning.\n",
      "A parameter name that contains `beta` will be renamed internally to `bias`. Please use a different name to suppress this warning.\n",
      "A parameter name that contains `gamma` will be renamed internally to `weight`. Please use a different name to suppress this warning.\n",
      "A parameter name that contains `beta` will be renamed internally to `bias`. Please use a different name to suppress this warning.\n",
      "A parameter name that contains `gamma` will be renamed internally to `weight`. Please use a different name to suppress this warning.\n",
      "A parameter name that contains `beta` will be renamed internally to `bias`. Please use a different name to suppress this warning.\n",
      "A parameter name that contains `gamma` will be renamed internally to `weight`. Please use a different name to suppress this warning.\n",
      "A parameter name that contains `beta` will be renamed internally to `bias`. Please use a different name to suppress this warning.\n",
      "A parameter name that contains `gamma` will be renamed internally to `weight`. Please use a different name to suppress this warning.\n",
      "A parameter name that contains `beta` will be renamed internally to `bias`. Please use a different name to suppress this warning.\n",
      "A parameter name that contains `gamma` will be renamed internally to `weight`. Please use a different name to suppress this warning.\n",
      "A parameter name that contains `beta` will be renamed internally to `bias`. Please use a different name to suppress this warning.\n",
      "A parameter name that contains `gamma` will be renamed internally to `weight`. Please use a different name to suppress this warning.\n",
      "A parameter name that contains `beta` will be renamed internally to `bias`. Please use a different name to suppress this warning.\n",
      "A parameter name that contains `gamma` will be renamed internally to `weight`. Please use a different name to suppress this warning.\n",
      "A parameter name that contains `beta` will be renamed internally to `bias`. Please use a different name to suppress this warning.\n",
      "A parameter name that contains `gamma` will be renamed internally to `weight`. Please use a different name to suppress this warning.\n",
      "A parameter name that contains `beta` will be renamed internally to `bias`. Please use a different name to suppress this warning.\n",
      "A parameter name that contains `gamma` will be renamed internally to `weight`. Please use a different name to suppress this warning.\n",
      "A parameter name that contains `beta` will be renamed internally to `bias`. Please use a different name to suppress this warning.\n",
      "A parameter name that contains `gamma` will be renamed internally to `weight`. Please use a different name to suppress this warning.\n",
      "A parameter name that contains `beta` will be renamed internally to `bias`. Please use a different name to suppress this warning.\n",
      "A parameter name that contains `gamma` will be renamed internally to `weight`. Please use a different name to suppress this warning.\n",
      "A parameter name that contains `beta` will be renamed internally to `bias`. Please use a different name to suppress this warning.\n",
      "A parameter name that contains `gamma` will be renamed internally to `weight`. Please use a different name to suppress this warning.\n"
     ]
    },
    {
     "name": "stdout",
     "output_type": "stream",
     "text": [
      "test\n",
      "test 1085\n"
     ]
    }
   ],
   "source": [
    "model = BertForMultiOutputClassification(ckpt_hp, device=device, lm=ckpt['hp'].lm, version=args.pool_version)\n",
    "max_num_col = 1\n",
    "dataset_cls = GittablesColwiseDataset\n",
    "test_dataset = dataset_cls(cv=cv,\n",
    "                            split=\"test\",\n",
    "                            tokenizer=tokenizer,\n",
    "                            max_length=max_length,\n",
    "                            device=device,\n",
    "                            base_dirpath=os.path.join(args.data_path, \"GitTables/semtab_gittables/2022\"),\n",
    "                            small_tag=args.small_tag,\n",
    "                            max_num_col=max_num_col,\n",
    "                            random_sample=False,\n",
    "                            context_encoding_type=\"v1\",\n",
    "                            adaptive_max_length=False   )\n",
    "test_dataloader = DataLoader(test_dataset,\n",
    "                                batch_size=batch_size,\n",
    "                                collate_fn=padder)   \n",
    "padder = collate_fn(tokenizer.pad_token_id)\n",
    "model.eval()\n",
    "model = model.to(device)\n",
    "labels_single = []\n",
    "embeddings_single = []\n",
    "with torch.no_grad():\n",
    "    for batch_idx, batch in enumerate(test_dataloader):\n",
    "        batch[\"data\"] = batch[\"data\"].to(device)\n",
    "        cls_indexes = torch.nonzero(\n",
    "                batch[\"data\"].T == tokenizer.cls_token_id)\n",
    "        logits, embs = model(batch[\"data\"].T, cls_indexes=cls_indexes, get_enc=True)\n",
    "        label = batch[\"label\"].T.cpu()\n",
    "        labels_single += label.numpy().tolist()\n",
    "        embeddings_single.append(embs.cpu())\n",
    "embeddings_single = torch.cat(embeddings_single, dim=0).numpy()\n",
    "labels_single = np.array(labels_single)"
   ]
  },
  {
   "cell_type": "code",
   "execution_count": 483,
   "metadata": {},
   "outputs": [
    {
     "name": "stdout",
     "output_type": "stream",
     "text": [
      "-0.43563807\n",
      "-0.6391792\n"
     ]
    }
   ],
   "source": [
    "print(silhouette_score(embeddings_single, labels_single, metric='cosine'))\n",
    "print(silhouette_score(embeddings_context, labels_single, metric='cosine'))\n",
    "class_silhouette_score_context = np.array(silhouette_score_per_cluster(embeddings_context, labels_single))\n",
    "class_silhouette_score = np.array(silhouette_score_per_cluster(embeddings_single, labels_single))"
   ]
  },
  {
   "cell_type": "code",
   "execution_count": 487,
   "metadata": {},
   "outputs": [
    {
     "data": {
      "text/plain": [
       "1.0"
      ]
     },
     "execution_count": 487,
     "metadata": {},
     "output_type": "execute_result"
    }
   ],
   "source": [
    "(labels_single == labels_context).mean()"
   ]
  },
  {
   "cell_type": "code",
   "execution_count": 484,
   "metadata": {},
   "outputs": [
    {
     "data": {
      "text/plain": [
       "PearsonRResult(statistic=0.2650148932013318, pvalue=0.007400080820996573)"
      ]
     },
     "execution_count": 484,
     "metadata": {},
     "output_type": "execute_result"
    }
   ],
   "source": [
    "from scipy.stats import pearsonr\n",
    "pearsonr(class_silhouette_score, class_f1_single)"
   ]
  },
  {
   "cell_type": "code",
   "execution_count": 485,
   "metadata": {},
   "outputs": [
    {
     "data": {
      "text/plain": [
       "PearsonRResult(statistic=-0.1094130262929831, pvalue=0.2760770829862365)"
      ]
     },
     "execution_count": 485,
     "metadata": {},
     "output_type": "execute_result"
    }
   ],
   "source": [
    "from scipy.stats import pearsonr\n",
    "pearsonr(class_silhouette_score_context, class_f1)"
   ]
  },
  {
   "cell_type": "code",
   "execution_count": 486,
   "metadata": {},
   "outputs": [
    {
     "data": {
      "text/plain": [
       "PearsonRResult(statistic=0.07887601049393256, pvalue=0.43301087491856555)"
      ]
     },
     "execution_count": 486,
     "metadata": {},
     "output_type": "execute_result"
    }
   ],
   "source": [
    "from scipy.stats import pearsonr\n",
    "pearsonr(class_silhouette_score-class_silhouette_score_context, class_f1_single-class_f1)"
   ]
  },
  {
   "cell_type": "code",
   "execution_count": 459,
   "metadata": {},
   "outputs": [
    {
     "data": {
      "text/plain": [
       "PearsonRResult(statistic=0.1245590867587209, pvalue=0.21458306305455738)"
      ]
     },
     "execution_count": 459,
     "metadata": {},
     "output_type": "execute_result"
    }
   ],
   "source": [
    "from scipy.stats import pearsonr\n",
    "pearsonr(class_silhouette_score-class_silhouette_score_context, class_f1_single-class_f1)"
   ]
  },
  {
   "cell_type": "code",
   "execution_count": null,
   "metadata": {},
   "outputs": [],
   "source": [
    "from scipy.stats import pearsonr\n",
    "pearsonr(class_silhouette_score, class_f1)"
   ]
  },
  {
   "cell_type": "code",
   "execution_count": 439,
   "metadata": {},
   "outputs": [
    {
     "data": {
      "text/plain": [
       "53"
      ]
     },
     "execution_count": 439,
     "metadata": {},
     "output_type": "execute_result"
    }
   ],
   "source": [
    "class_silhouette_score.argmax()"
   ]
  },
  {
   "cell_type": "code",
   "execution_count": 508,
   "metadata": {},
   "outputs": [
    {
     "name": "stderr",
     "output_type": "stream",
     "text": [
      "A parameter name that contains `beta` will be renamed internally to `bias`. Please use a different name to suppress this warning.\n",
      "A parameter name that contains `gamma` will be renamed internally to `weight`. Please use a different name to suppress this warning.\n",
      "A parameter name that contains `beta` will be renamed internally to `bias`. Please use a different name to suppress this warning.\n",
      "A parameter name that contains `gamma` will be renamed internally to `weight`. Please use a different name to suppress this warning.\n",
      "A parameter name that contains `beta` will be renamed internally to `bias`. Please use a different name to suppress this warning.\n",
      "A parameter name that contains `gamma` will be renamed internally to `weight`. Please use a different name to suppress this warning.\n",
      "A parameter name that contains `beta` will be renamed internally to `bias`. Please use a different name to suppress this warning.\n",
      "A parameter name that contains `gamma` will be renamed internally to `weight`. Please use a different name to suppress this warning.\n",
      "A parameter name that contains `beta` will be renamed internally to `bias`. Please use a different name to suppress this warning.\n",
      "A parameter name that contains `gamma` will be renamed internally to `weight`. Please use a different name to suppress this warning.\n",
      "A parameter name that contains `beta` will be renamed internally to `bias`. Please use a different name to suppress this warning.\n",
      "A parameter name that contains `gamma` will be renamed internally to `weight`. Please use a different name to suppress this warning.\n",
      "A parameter name that contains `beta` will be renamed internally to `bias`. Please use a different name to suppress this warning.\n",
      "A parameter name that contains `gamma` will be renamed internally to `weight`. Please use a different name to suppress this warning.\n",
      "A parameter name that contains `beta` will be renamed internally to `bias`. Please use a different name to suppress this warning.\n",
      "A parameter name that contains `gamma` will be renamed internally to `weight`. Please use a different name to suppress this warning.\n",
      "A parameter name that contains `beta` will be renamed internally to `bias`. Please use a different name to suppress this warning.\n",
      "A parameter name that contains `gamma` will be renamed internally to `weight`. Please use a different name to suppress this warning.\n",
      "A parameter name that contains `beta` will be renamed internally to `bias`. Please use a different name to suppress this warning.\n",
      "A parameter name that contains `gamma` will be renamed internally to `weight`. Please use a different name to suppress this warning.\n",
      "A parameter name that contains `beta` will be renamed internally to `bias`. Please use a different name to suppress this warning.\n",
      "A parameter name that contains `gamma` will be renamed internally to `weight`. Please use a different name to suppress this warning.\n",
      "A parameter name that contains `beta` will be renamed internally to `bias`. Please use a different name to suppress this warning.\n",
      "A parameter name that contains `gamma` will be renamed internally to `weight`. Please use a different name to suppress this warning.\n",
      "A parameter name that contains `beta` will be renamed internally to `bias`. Please use a different name to suppress this warning.\n",
      "A parameter name that contains `gamma` will be renamed internally to `weight`. Please use a different name to suppress this warning.\n",
      "A parameter name that contains `beta` will be renamed internally to `bias`. Please use a different name to suppress this warning.\n",
      "A parameter name that contains `gamma` will be renamed internally to `weight`. Please use a different name to suppress this warning.\n",
      "A parameter name that contains `beta` will be renamed internally to `bias`. Please use a different name to suppress this warning.\n",
      "A parameter name that contains `gamma` will be renamed internally to `weight`. Please use a different name to suppress this warning.\n",
      "A parameter name that contains `beta` will be renamed internally to `bias`. Please use a different name to suppress this warning.\n",
      "A parameter name that contains `gamma` will be renamed internally to `weight`. Please use a different name to suppress this warning.\n",
      "A parameter name that contains `beta` will be renamed internally to `bias`. Please use a different name to suppress this warning.\n",
      "A parameter name that contains `gamma` will be renamed internally to `weight`. Please use a different name to suppress this warning.\n",
      "A parameter name that contains `beta` will be renamed internally to `bias`. Please use a different name to suppress this warning.\n",
      "A parameter name that contains `gamma` will be renamed internally to `weight`. Please use a different name to suppress this warning.\n",
      "A parameter name that contains `beta` will be renamed internally to `bias`. Please use a different name to suppress this warning.\n",
      "A parameter name that contains `gamma` will be renamed internally to `weight`. Please use a different name to suppress this warning.\n",
      "A parameter name that contains `beta` will be renamed internally to `bias`. Please use a different name to suppress this warning.\n",
      "A parameter name that contains `gamma` will be renamed internally to `weight`. Please use a different name to suppress this warning.\n",
      "A parameter name that contains `beta` will be renamed internally to `bias`. Please use a different name to suppress this warning.\n",
      "A parameter name that contains `gamma` will be renamed internally to `weight`. Please use a different name to suppress this warning.\n",
      "A parameter name that contains `beta` will be renamed internally to `bias`. Please use a different name to suppress this warning.\n",
      "A parameter name that contains `gamma` will be renamed internally to `weight`. Please use a different name to suppress this warning.\n",
      "A parameter name that contains `beta` will be renamed internally to `bias`. Please use a different name to suppress this warning.\n",
      "A parameter name that contains `gamma` will be renamed internally to `weight`. Please use a different name to suppress this warning.\n",
      "A parameter name that contains `beta` will be renamed internally to `bias`. Please use a different name to suppress this warning.\n",
      "A parameter name that contains `gamma` will be renamed internally to `weight`. Please use a different name to suppress this warning.\n",
      "A parameter name that contains `beta` will be renamed internally to `bias`. Please use a different name to suppress this warning.\n",
      "A parameter name that contains `gamma` will be renamed internally to `weight`. Please use a different name to suppress this warning.\n",
      "A parameter name that contains `beta` will be renamed internally to `bias`. Please use a different name to suppress this warning.\n",
      "A parameter name that contains `gamma` will be renamed internally to `weight`. Please use a different name to suppress this warning.\n"
     ]
    },
    {
     "name": "stdout",
     "output_type": "stream",
     "text": [
      "test\n",
      "test 1085\n"
     ]
    },
    {
     "name": "stderr",
     "output_type": "stream",
     "text": [
      "/tmp/ipykernel_1864547/603674706.py:19: FutureWarning: You are using `torch.load` with `weights_only=False` (the current default value), which uses the default pickle module implicitly. It is possible to construct malicious pickle data which will execute arbitrary code during unpickling (See https://github.com/pytorch/pytorch/blob/main/SECURITY.md#untrusted-models for more details). In a future release, the default value for `weights_only` will be flipped to `True`. This limits the functions that could be executed during unpickling. Arbitrary objects will no longer be allowed to be loaded via this mode unless they are explicitly allowlisted by the user via `torch.serialization.add_safe_globals`. We recommend you start setting `weights_only=True` for any use case where you don't have full control of the loaded file. Please open an issue on GitHub for any issues related to this experimental feature.\n",
      "  model.load_state_dict(torch.load(f\"/data/zhihao/TU/Watchog/outputs/gt-semtab22-dbpedia-all{cv}/bert-base-uncased-fromscratch-semi1-pool@v0-context@v1-max_num_col@{max_num_col}-poolv0-max_cols{max_num_col}-randFalse-bs16-ml64-ne50-do0.1_best_f1_micro.pt\", map_location=device))\n"
     ]
    }
   ],
   "source": [
    "model = BertForMultiOutputClassification(ckpt_hp, device=device, lm=ckpt['hp'].lm, version=args.pool_version)\n",
    "max_num_col = 8\n",
    "dataset_cls = GittablesColwiseDataset\n",
    "test_dataset = dataset_cls(cv=cv,\n",
    "                            split=\"test\",\n",
    "                            tokenizer=tokenizer,\n",
    "                            max_length=max_length,\n",
    "                            device=device,\n",
    "                            base_dirpath=os.path.join(args.data_path, \"GitTables/semtab_gittables/2022\"),\n",
    "                            small_tag=args.small_tag,\n",
    "                            max_num_col=max_num_col,\n",
    "                            random_sample=False,\n",
    "                            context_encoding_type=\"v1\",\n",
    "                            adaptive_max_length=False   )\n",
    "test_dataloader = DataLoader(test_dataset,\n",
    "                                batch_size=batch_size,\n",
    "                                collate_fn=padder)   \n",
    "padder = collate_fn(tokenizer.pad_token_id)\n",
    "model.load_state_dict(torch.load(f\"/data/zhihao/TU/Watchog/outputs/gt-semtab22-dbpedia-all{cv}/bert-base-uncased-fromscratch-semi1-pool@v0-context@v1-max_num_col@{max_num_col}-poolv0-max_cols{max_num_col}-randFalse-bs16-ml64-ne50-do0.1_best_f1_micro.pt\", map_location=device))\n",
    "model.eval()\n",
    "model = model.to(device)\n",
    "labels_context = []\n",
    "embeddings_context = []\n",
    "with torch.no_grad():\n",
    "    for batch_idx, batch in enumerate(test_dataloader):\n",
    "        embs = model.bert(batch[\"data\"])[0].mean(0)\n",
    "        label = batch[\"label\"].T.cpu()\n",
    "        labels_context += label.numpy().tolist()\n",
    "        embeddings_context.append(embs.cpu())\n",
    "embeddings_context = torch.cat(embeddings_context, dim=0).numpy()\n",
    "labels_context = np.array(labels_context)"
   ]
  },
  {
   "cell_type": "code",
   "execution_count": 510,
   "metadata": {},
   "outputs": [
    {
     "name": "stdout",
     "output_type": "stream",
     "text": [
      "-0.5017945\n"
     ]
    }
   ],
   "source": [
    "print(silhouette_score(embeddings_context, labels_context, metric='cosine'))\n",
    "class_silhouette_score_context = np.array(silhouette_score_per_cluster(embeddings_context, labels_context))"
   ]
  },
  {
   "cell_type": "code",
   "execution_count": 511,
   "metadata": {},
   "outputs": [
    {
     "data": {
      "text/plain": [
       "PearsonRResult(statistic=-0.08033003837833856, pvalue=0.4245515229336005)"
      ]
     },
     "execution_count": 511,
     "metadata": {},
     "output_type": "execute_result"
    }
   ],
   "source": [
    "from scipy.stats import pearsonr\n",
    "pearsonr(class_silhouette_score_context, class_f1)"
   ]
  },
  {
   "cell_type": "code",
   "execution_count": 499,
   "metadata": {},
   "outputs": [],
   "source": [
    "import json\n",
    "import numpy as np\n",
    "\n",
    "# Function to load confusion matrix from JSON file\n",
    "# with open(\"/data/zhihao/TU/doduo/eval/sato0_mosato_bert_bert-base-uncased-bs16-ml-32__sato0-1.00=sato0.json\", 'r') as f:\n",
    "#     results = json.load(f)\n",
    "with open(f\"/data/zhihao/TU/Watchog/outputs/gt-semtab22-dbpedia-all{cv}/bert-base-uncased-fromscratch-semi1-pool@v0-context@v1-max_num_col@8-poolv0-max_cols8-randFalse-bs16-ml64-ne50-do0.1_eval.json\", 'r') as f:\n",
    "    results = json.load(f)\n",
    "\n",
    "# labels_train = np.array(results['train']['tr_true_list'])\n",
    "# preds_train = np.array(results['train']['tr_pred_list'])\n",
    "# class_f1_train = np.array(results['train']['tr_class_f1'])\n",
    "\n",
    "labels = np.array(results['f1_micro']['true_list'])\n",
    "preds = np.array(results['f1_micro']['pred_list'])\n",
    "class_f1 = np.array(results['f1_micro']['ts_class_f1'])\n",
    "assert len(labels) == len(df_test[\"class_id\"][df_test[\"class_id\"]>-1])"
   ]
  },
  {
   "cell_type": "code",
   "execution_count": 32,
   "metadata": {},
   "outputs": [
    {
     "data": {
      "text/plain": [
       "array([ 0,  1, 18, ..., 49, 44,  0])"
      ]
     },
     "execution_count": 32,
     "metadata": {},
     "output_type": "execute_result"
    }
   ],
   "source": []
  },
  {
   "cell_type": "code",
   "execution_count": 504,
   "metadata": {},
   "outputs": [],
   "source": [
    "logits = (labels==preds).astype(float)"
   ]
  },
  {
   "cell_type": "code",
   "execution_count": 512,
   "metadata": {},
   "outputs": [],
   "source": [
    "sample_silhouette_values = silhouette_samples(embeddings_context, labels, metric=\"cosine\")"
   ]
  },
  {
   "cell_type": "code",
   "execution_count": 513,
   "metadata": {},
   "outputs": [
    {
     "data": {
      "text/plain": [
       "PearsonRResult(statistic=-0.05649202308403836, pvalue=0.06286423310417999)"
      ]
     },
     "execution_count": 513,
     "metadata": {},
     "output_type": "execute_result"
    }
   ],
   "source": []
  },
  {
   "cell_type": "code",
   "execution_count": 6,
   "metadata": {},
   "outputs": [],
   "source": [
    "for i, (index, group_df) in enumerate(df_train.groupby(\"table_id\")):\n",
    "    break"
   ]
  },
  {
   "cell_type": "code",
   "execution_count": 55,
   "metadata": {},
   "outputs": [
    {
     "name": "stdout",
     "output_type": "stream",
     "text": [
      "2532    Wuthering Heights;Jane Eyre;The Raven;Eleonora...\n",
      "2533    Wuthering Heights, Emily Brontë's only novel, ...\n",
      "2534                                  101;107;150;150;170\n",
      "2535                                     12;11;333;555;22\n",
      "2536                          11.11;12.34;13.13;14.0;15.0\n",
      "2537                                  GBP;GBP;USD;USD;EUR\n",
      "2538                                       11;11;16;16;13\n",
      "2539                                       EN;EN;EN;EN;EN\n",
      "Name: data, dtype: object\n"
     ]
    }
   ],
   "source": [
    "res = group_df[\"data\"].apply(lambda x: preprocess_text_bm25(x)).to_list()\n",
    "print(group_df[\"data\"])"
   ]
  },
  {
   "cell_type": "code",
   "execution_count": 56,
   "metadata": {},
   "outputs": [
    {
     "data": {
      "text/plain": [
       "['wuthering heights jane eyre raven eleonora catweazle',\n",
       " 'wuthering heights emily brontë novel published 1847 pseudonym ellis bell written october 1845 june 1846 wuthering heights anne brontë agnes grey accepted publisher thomas newby success sister charlotte novel jane eyre emily death charlotte edited manuscript wuthering heights arranged edited version published posthumous second edition 1850 jane eyre ɛər originally published jane eyre autobiography novel english writer charlotte brontë published pen name currer bell 16 october 1847 smith elder co london first american edition published following year harper brothers new york primarily bildungsroman jane eyre follows experiences eponymous heroine including growth adulthood love mr rochester brooding master thornfield hall novel revolutionised prose fiction focus jane moral spiritual development told intimate first person narrative actions events coloured psychological intensity book contains elements social criticism strong sense christian morality core considered many ahead time jane individualistic character novel approaches topics class sexuality religion feminism raven narrative poem american writer edgar allan poe first published january 1845 poem often noted musicality stylized language supernatural atmosphere tells talking raven mysterious visit distraught lover tracing man slow fall madness lover often identified student lamenting loss love lenore sitting bust pallas raven seems distress protagonist constant repetition word nevermore poem makes use folk mythological religious classical references eleonora short story edgar allan poe first published 1842 philadelphia literary annual gift often regarded somewhat autobiographical relatively happy ending catweazle british fantasy television series starring geoffrey bayldon title role created richard carpenter london weekend television first series produced directed quentin lawrence screened uk itv 1970 second series directed david reid david lane shown 1971 series thirteen episodes written carpenter also published two books based scripts',\n",
       " '101 107 150 150 170',\n",
       " '12 11 333 555 22',\n",
       " '11 11 12 34 13 13 14 0 15 0',\n",
       " 'gbp gbp usd usd eur',\n",
       " '11 11 16 16 13',\n",
       " 'en en en en en']"
      ]
     },
     "execution_count": 56,
     "metadata": {},
     "output_type": "execute_result"
    }
   ],
   "source": [
    "res"
   ]
  },
  {
   "cell_type": "code",
   "execution_count": 44,
   "metadata": {},
   "outputs": [],
   "source": [
    "from rank_bm25 import BM25Okapi\n",
    "bm25 = BM25Okapi(res)"
   ]
  },
  {
   "cell_type": "code",
   "execution_count": 50,
   "metadata": {},
   "outputs": [
    {
     "data": {
      "text/plain": [
       "tensor([0, 1, 2, 3, 4, 5, 6, 7])"
      ]
     },
     "execution_count": 50,
     "metadata": {},
     "output_type": "execute_result"
    }
   ],
   "source": [
    "torch.tensor(bm25.get_scores(res[0])).argsort(descending=True, stable=True)"
   ]
  },
  {
   "cell_type": "code",
   "execution_count": 68,
   "metadata": {},
   "outputs": [
    {
     "data": {
      "text/plain": [
       "[1, 2, 3, 4, 5]"
      ]
     },
     "execution_count": 68,
     "metadata": {},
     "output_type": "execute_result"
    }
   ],
   "source": [
    "torch.tensor(bm25.get_scores(res[0])).argsort(descending=True, stable=True)[1:6].tolist()"
   ]
  },
  {
   "cell_type": "code",
   "execution_count": 71,
   "metadata": {},
   "outputs": [
    {
     "data": {
      "text/html": [
       "<div>\n",
       "<style scoped>\n",
       "    .dataframe tbody tr th:only-of-type {\n",
       "        vertical-align: middle;\n",
       "    }\n",
       "\n",
       "    .dataframe tbody tr th {\n",
       "        vertical-align: top;\n",
       "    }\n",
       "\n",
       "    .dataframe thead th {\n",
       "        text-align: right;\n",
       "    }\n",
       "</style>\n",
       "<table border=\"1\" class=\"dataframe\">\n",
       "  <thead>\n",
       "    <tr style=\"text-align: right;\">\n",
       "      <th></th>\n",
       "      <th>table_id</th>\n",
       "      <th>col_idx</th>\n",
       "      <th>class</th>\n",
       "      <th>class_id</th>\n",
       "      <th>data</th>\n",
       "    </tr>\n",
       "  </thead>\n",
       "  <tbody>\n",
       "    <tr>\n",
       "      <th>2533</th>\n",
       "      <td>GitTables_150500</td>\n",
       "      <td>1</td>\n",
       "      <td>NaN</td>\n",
       "      <td>-1</td>\n",
       "      <td>Wuthering Heights, Emily Brontë's only novel, ...</td>\n",
       "    </tr>\n",
       "    <tr>\n",
       "      <th>2534</th>\n",
       "      <td>GitTables_150500</td>\n",
       "      <td>2</td>\n",
       "      <td>NaN</td>\n",
       "      <td>-1</td>\n",
       "      <td>101;107;150;150;170</td>\n",
       "    </tr>\n",
       "    <tr>\n",
       "      <th>2535</th>\n",
       "      <td>GitTables_150500</td>\n",
       "      <td>3</td>\n",
       "      <td>NaN</td>\n",
       "      <td>-1</td>\n",
       "      <td>12;11;333;555;22</td>\n",
       "    </tr>\n",
       "    <tr>\n",
       "      <th>2536</th>\n",
       "      <td>GitTables_150500</td>\n",
       "      <td>4</td>\n",
       "      <td>price</td>\n",
       "      <td>24</td>\n",
       "      <td>11.11;12.34;13.13;14.0;15.0</td>\n",
       "    </tr>\n",
       "    <tr>\n",
       "      <th>2537</th>\n",
       "      <td>GitTables_150500</td>\n",
       "      <td>5</td>\n",
       "      <td>NaN</td>\n",
       "      <td>-1</td>\n",
       "      <td>GBP;GBP;USD;USD;EUR</td>\n",
       "    </tr>\n",
       "  </tbody>\n",
       "</table>\n",
       "</div>"
      ],
      "text/plain": [
       "              table_id  col_idx  class  class_id  \\\n",
       "2533  GitTables_150500        1    NaN        -1   \n",
       "2534  GitTables_150500        2    NaN        -1   \n",
       "2535  GitTables_150500        3    NaN        -1   \n",
       "2536  GitTables_150500        4  price        24   \n",
       "2537  GitTables_150500        5    NaN        -1   \n",
       "\n",
       "                                                   data  \n",
       "2533  Wuthering Heights, Emily Brontë's only novel, ...  \n",
       "2534                                101;107;150;150;170  \n",
       "2535                                   12;11;333;555;22  \n",
       "2536                        11.11;12.34;13.13;14.0;15.0  \n",
       "2537                                GBP;GBP;USD;USD;EUR  "
      ]
     },
     "execution_count": 71,
     "metadata": {},
     "output_type": "execute_result"
    }
   ],
   "source": [
    "group_df.iloc[torch.tensor(bm25.get_scores(res[0])).argsort(descending=True, stable=True)[1:6].tolist()]"
   ]
  },
  {
   "cell_type": "code",
   "execution_count": 72,
   "metadata": {},
   "outputs": [
    {
     "data": {
      "text/html": [
       "<div>\n",
       "<style scoped>\n",
       "    .dataframe tbody tr th:only-of-type {\n",
       "        vertical-align: middle;\n",
       "    }\n",
       "\n",
       "    .dataframe tbody tr th {\n",
       "        vertical-align: top;\n",
       "    }\n",
       "\n",
       "    .dataframe thead th {\n",
       "        text-align: right;\n",
       "    }\n",
       "</style>\n",
       "<table border=\"1\" class=\"dataframe\">\n",
       "  <thead>\n",
       "    <tr style=\"text-align: right;\">\n",
       "      <th></th>\n",
       "      <th>table_id</th>\n",
       "      <th>col_idx</th>\n",
       "      <th>class</th>\n",
       "      <th>class_id</th>\n",
       "      <th>data</th>\n",
       "    </tr>\n",
       "  </thead>\n",
       "  <tbody>\n",
       "    <tr>\n",
       "      <th>2534</th>\n",
       "      <td>GitTables_150500</td>\n",
       "      <td>2</td>\n",
       "      <td>NaN</td>\n",
       "      <td>-1</td>\n",
       "      <td>101;107;150;150;170</td>\n",
       "    </tr>\n",
       "    <tr>\n",
       "      <th>2533</th>\n",
       "      <td>GitTables_150500</td>\n",
       "      <td>1</td>\n",
       "      <td>NaN</td>\n",
       "      <td>-1</td>\n",
       "      <td>Wuthering Heights, Emily Brontë's only novel, ...</td>\n",
       "    </tr>\n",
       "    <tr>\n",
       "      <th>2535</th>\n",
       "      <td>GitTables_150500</td>\n",
       "      <td>3</td>\n",
       "      <td>NaN</td>\n",
       "      <td>-1</td>\n",
       "      <td>12;11;333;555;22</td>\n",
       "    </tr>\n",
       "    <tr>\n",
       "      <th>2536</th>\n",
       "      <td>GitTables_150500</td>\n",
       "      <td>4</td>\n",
       "      <td>price</td>\n",
       "      <td>24</td>\n",
       "      <td>11.11;12.34;13.13;14.0;15.0</td>\n",
       "    </tr>\n",
       "    <tr>\n",
       "      <th>2537</th>\n",
       "      <td>GitTables_150500</td>\n",
       "      <td>5</td>\n",
       "      <td>NaN</td>\n",
       "      <td>-1</td>\n",
       "      <td>GBP;GBP;USD;USD;EUR</td>\n",
       "    </tr>\n",
       "  </tbody>\n",
       "</table>\n",
       "</div>"
      ],
      "text/plain": [
       "              table_id  col_idx  class  class_id  \\\n",
       "2534  GitTables_150500        2    NaN        -1   \n",
       "2533  GitTables_150500        1    NaN        -1   \n",
       "2535  GitTables_150500        3    NaN        -1   \n",
       "2536  GitTables_150500        4  price        24   \n",
       "2537  GitTables_150500        5    NaN        -1   \n",
       "\n",
       "                                                   data  \n",
       "2534                                101;107;150;150;170  \n",
       "2533  Wuthering Heights, Emily Brontë's only novel, ...  \n",
       "2535                                   12;11;333;555;22  \n",
       "2536                        11.11;12.34;13.13;14.0;15.0  \n",
       "2537                                GBP;GBP;USD;USD;EUR  "
      ]
     },
     "execution_count": 72,
     "metadata": {},
     "output_type": "execute_result"
    }
   ],
   "source": [
    "group_df.iloc[[2, 1, 3, 4, 5]]"
   ]
  },
  {
   "cell_type": "code",
   "execution_count": 78,
   "metadata": {},
   "outputs": [
    {
     "data": {
      "text/plain": [
       "'101;107;150;150;170'"
      ]
     },
     "execution_count": 78,
     "metadata": {},
     "output_type": "execute_result"
    }
   ],
   "source": [
    "group_df[\"data\"].loc[2534]"
   ]
  },
  {
   "cell_type": "code",
   "execution_count": 70,
   "metadata": {},
   "outputs": [],
   "source": [
    "# Assuming `bm25.get_scores(res[0])` returns a score array and you want the top scores\n",
    "sorted_indices = torch.tensor(bm25.get_scores(res[0])).argsort(descending=True, stable=True)[1:6].tolist()\n",
    "\n",
    "# Pass the flat list of sorted indices to iloc\n",
    "selected_rows = group_df.iloc[torch.tensor(bm25.get_scores(res[0])).argsort(descending=True, stable=True)[1:6].tolist()]"
   ]
  },
  {
   "cell_type": "code",
   "execution_count": 51,
   "metadata": {},
   "outputs": [
    {
     "data": {
      "text/plain": [
       "tensor([4, 6, 3, 0, 1, 2, 5, 7])"
      ]
     },
     "execution_count": 51,
     "metadata": {},
     "output_type": "execute_result"
    }
   ],
   "source": [
    "torch.tensor(bm25.get_scores(res[4])).argsort(descending=True, stable=True)"
   ]
  },
  {
   "cell_type": "code",
   "execution_count": 2,
   "metadata": {},
   "outputs": [
    {
     "data": {
      "text/plain": [
       "''"
      ]
     },
     "execution_count": 2,
     "metadata": {},
     "output_type": "execute_result"
    }
   ],
   "source": [
    "preprocess_text_bm25(\"won won won\")"
   ]
  },
  {
   "cell_type": "code",
   "execution_count": 1,
   "metadata": {},
   "outputs": [
    {
     "name": "stderr",
     "output_type": "stream",
     "text": [
      "/home/zhihao/jupyterprojects/jupyter/lib/python3.8/site-packages/sentence_transformers/cross_encoder/CrossEncoder.py:11: TqdmExperimentalWarning: Using `tqdm.autonotebook.tqdm` in notebook mode. Use `tqdm.tqdm` instead to force console mode (e.g. in jupyter console)\n",
      "  from tqdm.autonotebook import tqdm, trange\n"
     ]
    }
   ],
   "source": [
    "from sentence_transformers import SentenceTransformer\n",
    "\n",
    "model = SentenceTransformer(\"all-mpnet-base-v2\", cache_folder=\"/data/zhihao/TU/Watchog/sentence_transformers_cache\")"
   ]
  },
  {
   "cell_type": "code",
   "execution_count": 2,
   "metadata": {},
   "outputs": [],
   "source": [
    "embeddings = "
   ]
  },
  {
   "cell_type": "code",
   "execution_count": 11,
   "metadata": {},
   "outputs": [
    {
     "data": {
      "text/plain": [
       "tensor([[   0, 1063,    2],\n",
       "        [   0, 1055,    2],\n",
       "        [   0, 1054,    2],\n",
       "        [   0,    2,    1],\n",
       "        [   0, 1063,    2],\n",
       "        [   0, 1055,    2],\n",
       "        [   0, 1054,    2],\n",
       "        [   0,    2,    1],\n",
       "        [   0, 1063,    2],\n",
       "        [   0, 1055,    2],\n",
       "        [   0, 1054,    2]])"
      ]
     },
     "execution_count": 11,
     "metadata": {},
     "output_type": "execute_result"
    }
   ],
   "source": [
    "model.tokenize(\"won won won\")['input_ids']"
   ]
  },
  {
   "cell_type": "code",
   "execution_count": 12,
   "metadata": {},
   "outputs": [
    {
     "data": {
      "text/plain": [
       "MPNetTokenizerFast(name_or_path='sentence-transformers/all-mpnet-base-v2', vocab_size=30527, model_max_length=384, is_fast=True, padding_side='right', truncation_side='right', special_tokens={'bos_token': '<s>', 'eos_token': '</s>', 'unk_token': '[UNK]', 'sep_token': '</s>', 'pad_token': '<pad>', 'cls_token': '<s>', 'mask_token': '<mask>'}, clean_up_tokenization_spaces=True),  added_tokens_decoder={\n",
       "\t0: AddedToken(\"<s>\", rstrip=False, lstrip=False, single_word=False, normalized=False, special=True),\n",
       "\t1: AddedToken(\"<pad>\", rstrip=False, lstrip=False, single_word=False, normalized=False, special=True),\n",
       "\t2: AddedToken(\"</s>\", rstrip=False, lstrip=False, single_word=False, normalized=False, special=True),\n",
       "\t3: AddedToken(\"<unk>\", rstrip=False, lstrip=False, single_word=False, normalized=True, special=True),\n",
       "\t104: AddedToken(\"[UNK]\", rstrip=False, lstrip=False, single_word=False, normalized=False, special=True),\n",
       "\t30526: AddedToken(\"<mask>\", rstrip=False, lstrip=True, single_word=False, normalized=False, special=True),\n",
       "}"
      ]
     },
     "execution_count": 12,
     "metadata": {},
     "output_type": "execute_result"
    }
   ],
   "source": [
    "model.tokenizer"
   ]
  },
  {
   "cell_type": "code",
   "execution_count": 15,
   "metadata": {},
   "outputs": [
    {
     "data": {
      "text/plain": [
       "{'input_ids': tensor([[0, 1, 1, 1, 1, 1, 1, 1, 1, 1, 1, 1, 1, 1, 1, 1, 1, 1, 1, 1, 1, 1, 1, 1,\n",
       "          1, 1, 1, 1, 1, 1, 1, 1, 1, 1, 1, 1, 1, 1, 1, 1, 1, 1, 1, 1, 1, 1, 1, 1,\n",
       "          1, 1, 1, 1, 1, 1, 1, 1, 1, 1, 1, 1, 1, 1, 1, 1, 1, 1, 1, 1, 1, 1, 1, 1,\n",
       "          1, 1, 1, 1, 1, 1, 1, 1, 1, 1, 1, 1, 1, 1, 1, 1, 1, 1, 1, 1, 1, 1, 1, 1,\n",
       "          1, 1, 1, 1, 1, 1, 1, 1, 1, 1, 1, 1, 1, 1, 1, 1, 1, 1, 1, 1, 1, 1, 1, 1,\n",
       "          1, 1, 1, 1, 1, 1, 1, 1, 1, 1, 1, 1, 1, 1, 1, 1, 1, 1, 1, 1, 1, 1, 1, 1,\n",
       "          1, 1, 1, 1, 1, 1, 1, 1, 1, 1, 1, 1, 1, 1, 1, 1, 1, 1, 1, 1, 1, 1, 1, 1,\n",
       "          1, 1, 1, 1, 1, 1, 1, 1, 1, 1, 1, 1, 1, 1, 1, 1, 1, 1, 1, 1, 1, 1, 1, 1,\n",
       "          1, 1, 1, 1, 1, 1, 1, 1, 1, 1, 1, 1, 1, 1, 1, 1, 1, 1, 1, 1, 1, 1, 1, 1,\n",
       "          1, 1, 1, 1, 1, 1, 1, 1, 1, 1, 1, 1, 1, 1, 1, 1, 1, 1, 1, 1, 1, 1, 1, 1,\n",
       "          1, 1, 1, 1, 1, 1, 1, 1, 1, 1, 1, 1, 1, 1, 1, 1, 1, 1, 1, 1, 1, 1, 1, 1,\n",
       "          1, 1, 1, 1, 1, 1, 1, 1, 1, 1, 1, 1, 1, 1, 1, 1, 1, 1, 1, 1, 1, 1, 1, 1,\n",
       "          1, 1, 1, 1, 1, 1, 1, 1, 1, 1, 1, 1, 1, 1, 1, 1, 1, 1, 1, 1, 1, 1, 1, 1,\n",
       "          1, 1, 1, 1, 1, 1, 1, 1, 1, 1, 1, 1, 1, 1, 1, 1, 1, 1, 1, 1, 1, 1, 1, 1,\n",
       "          1, 1, 1, 1, 1, 1, 1, 1, 1, 1, 1, 1, 1, 1, 1, 1, 1, 1, 1, 1, 1, 1, 1, 1,\n",
       "          1, 1, 1, 1, 1, 1, 1, 1, 1, 1, 1, 1, 1, 1, 1, 1, 1, 1, 1, 1, 1, 1, 1, 2]]),\n",
       " 'attention_mask': tensor([[1, 1, 1, 1, 1, 1, 1, 1, 1, 1, 1, 1, 1, 1, 1, 1, 1, 1, 1, 1, 1, 1, 1, 1,\n",
       "          1, 1, 1, 1, 1, 1, 1, 1, 1, 1, 1, 1, 1, 1, 1, 1, 1, 1, 1, 1, 1, 1, 1, 1,\n",
       "          1, 1, 1, 1, 1, 1, 1, 1, 1, 1, 1, 1, 1, 1, 1, 1, 1, 1, 1, 1, 1, 1, 1, 1,\n",
       "          1, 1, 1, 1, 1, 1, 1, 1, 1, 1, 1, 1, 1, 1, 1, 1, 1, 1, 1, 1, 1, 1, 1, 1,\n",
       "          1, 1, 1, 1, 1, 1, 1, 1, 1, 1, 1, 1, 1, 1, 1, 1, 1, 1, 1, 1, 1, 1, 1, 1,\n",
       "          1, 1, 1, 1, 1, 1, 1, 1, 1, 1, 1, 1, 1, 1, 1, 1, 1, 1, 1, 1, 1, 1, 1, 1,\n",
       "          1, 1, 1, 1, 1, 1, 1, 1, 1, 1, 1, 1, 1, 1, 1, 1, 1, 1, 1, 1, 1, 1, 1, 1,\n",
       "          1, 1, 1, 1, 1, 1, 1, 1, 1, 1, 1, 1, 1, 1, 1, 1, 1, 1, 1, 1, 1, 1, 1, 1,\n",
       "          1, 1, 1, 1, 1, 1, 1, 1, 1, 1, 1, 1, 1, 1, 1, 1, 1, 1, 1, 1, 1, 1, 1, 1,\n",
       "          1, 1, 1, 1, 1, 1, 1, 1, 1, 1, 1, 1, 1, 1, 1, 1, 1, 1, 1, 1, 1, 1, 1, 1,\n",
       "          1, 1, 1, 1, 1, 1, 1, 1, 1, 1, 1, 1, 1, 1, 1, 1, 1, 1, 1, 1, 1, 1, 1, 1,\n",
       "          1, 1, 1, 1, 1, 1, 1, 1, 1, 1, 1, 1, 1, 1, 1, 1, 1, 1, 1, 1, 1, 1, 1, 1,\n",
       "          1, 1, 1, 1, 1, 1, 1, 1, 1, 1, 1, 1, 1, 1, 1, 1, 1, 1, 1, 1, 1, 1, 1, 1,\n",
       "          1, 1, 1, 1, 1, 1, 1, 1, 1, 1, 1, 1, 1, 1, 1, 1, 1, 1, 1, 1, 1, 1, 1, 1,\n",
       "          1, 1, 1, 1, 1, 1, 1, 1, 1, 1, 1, 1, 1, 1, 1, 1, 1, 1, 1, 1, 1, 1, 1, 1,\n",
       "          1, 1, 1, 1, 1, 1, 1, 1, 1, 1, 1, 1, 1, 1, 1, 1, 1, 1, 1, 1, 1, 1, 1, 1]])}"
      ]
     },
     "execution_count": 15,
     "metadata": {},
     "output_type": "execute_result"
    }
   ],
   "source": [
    "\n",
    "model.tokenize([\"<pad>\"*512])"
   ]
  },
  {
   "cell_type": "code",
   "execution_count": 17,
   "metadata": {},
   "outputs": [
    {
     "data": {
      "text/plain": [
       "(2, 768)"
      ]
     },
     "execution_count": 17,
     "metadata": {},
     "output_type": "execute_result"
    }
   ],
   "source": [
    "\n",
    "model.encode([\"<pad>\"*512,\"<pad>\"*512 ]).shape"
   ]
  },
  {
   "cell_type": "code",
   "execution_count": 1,
   "metadata": {},
   "outputs": [
    {
     "name": "stderr",
     "output_type": "stream",
     "text": [
      "[nltk_data] Downloading package punkt to /home/zhihao/nltk_data...\n",
      "[nltk_data]   Package punkt is already up-to-date!\n",
      "[nltk_data] Downloading package stopwords to /home/zhihao/nltk_data...\n",
      "[nltk_data]   Package stopwords is already up-to-date!\n"
     ]
    },
    {
     "ename": "NameError",
     "evalue": "name 'group_df' is not defined",
     "output_type": "error",
     "traceback": [
      "\u001b[0;31m---------------------------------------------------------------------------\u001b[0m",
      "\u001b[0;31mNameError\u001b[0m                                 Traceback (most recent call last)",
      "Input \u001b[0;32mIn [1]\u001b[0m, in \u001b[0;36m<cell line: 33>\u001b[0;34m()\u001b[0m\n\u001b[1;32m     30\u001b[0m     \u001b[38;5;28;01mreturn\u001b[39;00m processed_text\n\u001b[1;32m     32\u001b[0m \u001b[38;5;66;03m# Example text\u001b[39;00m\n\u001b[0;32m---> 33\u001b[0m \u001b[38;5;28;01mfor\u001b[39;00m text \u001b[38;5;129;01min\u001b[39;00m \u001b[43mgroup_df\u001b[49m[\u001b[38;5;124m\"\u001b[39m\u001b[38;5;124mdata\u001b[39m\u001b[38;5;124m\"\u001b[39m]\u001b[38;5;241m.\u001b[39mvalues:\n\u001b[1;32m     34\u001b[0m     preprocessed_text \u001b[38;5;241m=\u001b[39m preprocess_text_bm25(text)\n\u001b[1;32m     35\u001b[0m     \u001b[38;5;28mprint\u001b[39m(preprocessed_text)\n",
      "\u001b[0;31mNameError\u001b[0m: name 'group_df' is not defined"
     ]
    }
   ],
   "source": [
    "import string\n",
    "import re\n",
    "from nltk.corpus import stopwords\n",
    "from nltk.tokenize import word_tokenize\n",
    "from nltk.stem import PorterStemmer\n",
    "\n",
    "# Load NLTK resources\n",
    "import nltk\n",
    "nltk.download('punkt')\n",
    "nltk.download('stopwords')\n",
    "text = \"BM25 is a ranking function used in information retrieval. It's effective for search engines!\"\n",
    "def preprocess_text_bm25(text):\n",
    "    # Lowercase the text\n",
    "    text = text.lower()\n",
    "\n",
    "    # Remove punctuation\n",
    "    # Create a translation table where all punctuation is replaced with spaces\n",
    "    translation_table = str.maketrans(string.punctuation, ' ' * len(string.punctuation))\n",
    "\n",
    "    # Replace all punctuation in the text with spaces\n",
    "    text = text.translate(translation_table)\n",
    "    # print(text)\n",
    "\n",
    "    # Tokenize the text\n",
    "    tokens = text.split()\n",
    "    # Remove stopwords\n",
    "    stop_words = set(stopwords.words('english'))\n",
    "    tokens = [word for word in tokens if word not in stop_words]\n",
    "    processed_text = ' '.join(tokens)\n",
    "    return processed_text\n",
    "\n",
    "# Example text\n",
    "for text in group_df[\"data\"].values:\n",
    "    preprocessed_text = preprocess_text_bm25(text)\n",
    "    print(preprocessed_text)\n",
    "    print('************************************')"
   ]
  },
  {
   "cell_type": "code",
   "execution_count": 19,
   "metadata": {},
   "outputs": [],
   "source": [
    "import re\n",
    "def remove_punctuation(text):\n",
    "    text = text.replace(\"-\", \" \")\n",
    "    text = text.replace(\",\", \" \")\n",
    "    text = text.replace(\".\", \"\")\n",
    "    text = text.replace(\"(\", \" \")\n",
    "    text = text.replace(\")\", \" \")\n",
    "    text = re.sub(r' +', ' ', text)\n",
    "    return text"
   ]
  },
  {
   "cell_type": "code",
   "execution_count": 29,
   "metadata": {},
   "outputs": [
    {
     "data": {
      "text/plain": [
       "'!\"#$%&\\'()*+,-./:;<=>?@[\\\\]^_`{|}~'"
      ]
     },
     "execution_count": 29,
     "metadata": {},
     "output_type": "execute_result"
    }
   ],
   "source": [
    "string.punctuation"
   ]
  },
  {
   "cell_type": "code",
   "execution_count": null,
   "metadata": {},
   "outputs": [],
   "source": []
  }
 ],
 "metadata": {
  "kernelspec": {
   "display_name": "jupyter",
   "language": "python",
   "name": "python3"
  },
  "language_info": {
   "codemirror_mode": {
    "name": "ipython",
    "version": 3
   },
   "file_extension": ".py",
   "mimetype": "text/x-python",
   "name": "python",
   "nbconvert_exporter": "python",
   "pygments_lexer": "ipython3",
   "version": "3.8.10"
  }
 },
 "nbformat": 4,
 "nbformat_minor": 2
}
