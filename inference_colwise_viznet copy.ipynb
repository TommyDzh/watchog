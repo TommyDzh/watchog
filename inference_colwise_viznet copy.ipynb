{
 "cells": [
  {
   "cell_type": "code",
   "execution_count": 17,
   "metadata": {},
   "outputs": [
    {
     "name": "stderr",
     "output_type": "stream",
     "text": [
      "[nltk_data] Downloading package punkt to /home/zhihao/nltk_data...\n",
      "[nltk_data]   Package punkt is already up-to-date!\n",
      "[nltk_data] Downloading package stopwords to /home/zhihao/nltk_data...\n",
      "[nltk_data]   Package stopwords is already up-to-date!\n"
     ]
    }
   ],
   "source": [
    "import argparse\n",
    "import json\n",
    "import math\n",
    "import os\n",
    "import random\n",
    "from time import time\n",
    "import mlflow\n",
    "import numpy as np\n",
    "import pandas as pd\n",
    "from sklearn.metrics import confusion_matrix, f1_score\n",
    "from collections import defaultdict\n",
    "\n",
    "# import pytrec_eval\n",
    "import torch\n",
    "from torch.nn import CrossEntropyLoss, BCEWithLogitsLoss\n",
    "from torch.utils.data import DataLoader, RandomSampler\n",
    "from transformers import BertTokenizer, BertForSequenceClassification, BertConfig, AutoTokenizer\n",
    "from transformers import AdamW, get_linear_schedule_with_warmup\n",
    "from accelerate import Accelerator\n",
    "from copy import deepcopy\n",
    "\n",
    "torch.backends.cuda.matmul.allow_tf32 = True\n",
    "\n",
    "from watchog.dataset import (\n",
    "    # collate_fn,\n",
    "    TURLColTypeTablewiseDataset,\n",
    "    TURLRelExtTablewiseDataset,\n",
    "    SatoCVTablewiseDataset,\n",
    "    ColPoplTablewiseDataset\n",
    ")\n",
    "\n",
    "from watchog.dataset import TableDataset, SupCLTableDataset, SemtableCVTablewiseDataset, GittablesColwiseDataset, GittablesCVTablewiseDataset\n",
    "from watchog.model import BertMultiPairPooler, BertForMultiOutputClassification, BertForMultiOutputClassificationColPopl\n",
    "from watchog.model import SupCLforTable, UnsupCLforTable, lm_mp\n",
    "from watchog.utils import load_checkpoint, f1_score_multilabel, collate_fn, get_col_pred, ColPoplEvaluator\n",
    "from watchog.utils import task_num_class_dict\n",
    "from accelerate import DistributedDataParallelKwargs\n",
    "import wandb"
   ]
  },
  {
   "cell_type": "code",
   "execution_count": 18,
   "metadata": {},
   "outputs": [
    {
     "name": "stderr",
     "output_type": "stream",
     "text": [
      "Detected kernel version 5.4.0, which is below the recommended minimum of 5.5.0; this can cause the process to hang. It is recommended to upgrade the kernel to the minimum version or higher.\n"
     ]
    },
    {
     "name": "stdout",
     "output_type": "stream",
     "text": [
      "args={\"wandb\": false, \"model\": \"Watchog\", \"unlabeled_train_only\": false, \"context_encoding_type\": \"v0\", \"pool_version\": \"v0.2\", \"random_sample\": false, \"comment\": \"debug\", \"shortcut_name\": \"bert-base-uncased\", \"max_length\": 64, \"adaptive_max_length\": false, \"max_num_col\": 8, \"batch_size\": 16, \"epoch\": 1, \"random_seed\": 4649, \"train_n_seed_cols\": -1, \"num_classes\": 78, \"multi_gpu\": false, \"fp16\": false, \"warmup\": 0.0, \"lr\": 5e-05, \"task\": \"gt-semtab22-dbpedia-all0\", \"colpair\": false, \"metadata\": false, \"from_scratch\": false, \"cl_tag\": \"wikitables/simclr/bert_100000_10_32_256_5e-05_sample_row4,sample_row4_tfidf_entity_column_0.05_0_last.pt\", \"dropout_prob\": 0.5, \"eval_test\": false, \"small_tag\": \"semi1\", \"data_path\": \"/data/zhihao/TU/\", \"pretrained_ckpt_path\": \"/data/zhihao/TU/Watchog/model/\"}\n",
      "sato0/wikitables-simclr-bert_100000_10_32_256_5e-05_sample_row4,sample_row4_tfidf_entity_column_0.05_0_last.pt_bert-base-uncased-semi1-bs16-ml64-ne1-do0.5\n"
     ]
    },
    {
     "name": "stderr",
     "output_type": "stream",
     "text": [
      "/tmp/ipykernel_3362360/3400499614.py:212: FutureWarning: You are using `torch.load` with `weights_only=False` (the current default value), which uses the default pickle module implicitly. It is possible to construct malicious pickle data which will execute arbitrary code during unpickling (See https://github.com/pytorch/pytorch/blob/main/SECURITY.md#untrusted-models for more details). In a future release, the default value for `weights_only` will be flipped to `True`. This limits the functions that could be executed during unpickling. Arbitrary objects will no longer be allowed to be loaded via this mode unless they are explicitly allowlisted by the user via `torch.serialization.add_safe_globals`. We recommend you start setting `weights_only=True` for any use case where you don't have full control of the loaded file. Please open an issue on GitHub for any issues related to this experimental feature.\n",
      "  ckpt = torch.load(ckpt_path, map_location=device)\n"
     ]
    },
    {
     "name": "stdout",
     "output_type": "stream",
     "text": [
      "Namespace(augment_op='sample_row4,sample_row4', batch_size=32, data_path='/data/zhihao/TU/TURL/', fp16=True, gpus='0', lm='bert', logdir='/data/zhihao/TU/Watchog/model/', lr=5e-05, max_len=256, mode='simclr', model='Watchog', n_epochs=10, pretrain_data='wikitables', pretrained_model_path='', projector=768, run_id=0, sample_meth='tfidf_entity', save_model=10, single_column=False, size=100000, table_order='column', temperature=0.05)\n"
     ]
    },
    {
     "name": "stderr",
     "output_type": "stream",
     "text": [
      "A parameter name that contains `beta` will be renamed internally to `bias`. Please use a different name to suppress this warning.\n",
      "A parameter name that contains `gamma` will be renamed internally to `weight`. Please use a different name to suppress this warning.\n",
      "A parameter name that contains `beta` will be renamed internally to `bias`. Please use a different name to suppress this warning.\n",
      "A parameter name that contains `gamma` will be renamed internally to `weight`. Please use a different name to suppress this warning.\n",
      "A parameter name that contains `beta` will be renamed internally to `bias`. Please use a different name to suppress this warning.\n",
      "A parameter name that contains `gamma` will be renamed internally to `weight`. Please use a different name to suppress this warning.\n",
      "A parameter name that contains `beta` will be renamed internally to `bias`. Please use a different name to suppress this warning.\n",
      "A parameter name that contains `gamma` will be renamed internally to `weight`. Please use a different name to suppress this warning.\n",
      "A parameter name that contains `beta` will be renamed internally to `bias`. Please use a different name to suppress this warning.\n",
      "A parameter name that contains `gamma` will be renamed internally to `weight`. Please use a different name to suppress this warning.\n",
      "A parameter name that contains `beta` will be renamed internally to `bias`. Please use a different name to suppress this warning.\n",
      "A parameter name that contains `gamma` will be renamed internally to `weight`. Please use a different name to suppress this warning.\n",
      "A parameter name that contains `beta` will be renamed internally to `bias`. Please use a different name to suppress this warning.\n",
      "A parameter name that contains `gamma` will be renamed internally to `weight`. Please use a different name to suppress this warning.\n",
      "A parameter name that contains `beta` will be renamed internally to `bias`. Please use a different name to suppress this warning.\n",
      "A parameter name that contains `gamma` will be renamed internally to `weight`. Please use a different name to suppress this warning.\n",
      "A parameter name that contains `beta` will be renamed internally to `bias`. Please use a different name to suppress this warning.\n",
      "A parameter name that contains `gamma` will be renamed internally to `weight`. Please use a different name to suppress this warning.\n",
      "A parameter name that contains `beta` will be renamed internally to `bias`. Please use a different name to suppress this warning.\n",
      "A parameter name that contains `gamma` will be renamed internally to `weight`. Please use a different name to suppress this warning.\n",
      "A parameter name that contains `beta` will be renamed internally to `bias`. Please use a different name to suppress this warning.\n",
      "A parameter name that contains `gamma` will be renamed internally to `weight`. Please use a different name to suppress this warning.\n",
      "A parameter name that contains `beta` will be renamed internally to `bias`. Please use a different name to suppress this warning.\n",
      "A parameter name that contains `gamma` will be renamed internally to `weight`. Please use a different name to suppress this warning.\n",
      "A parameter name that contains `beta` will be renamed internally to `bias`. Please use a different name to suppress this warning.\n",
      "A parameter name that contains `gamma` will be renamed internally to `weight`. Please use a different name to suppress this warning.\n",
      "A parameter name that contains `beta` will be renamed internally to `bias`. Please use a different name to suppress this warning.\n",
      "A parameter name that contains `gamma` will be renamed internally to `weight`. Please use a different name to suppress this warning.\n",
      "A parameter name that contains `beta` will be renamed internally to `bias`. Please use a different name to suppress this warning.\n",
      "A parameter name that contains `gamma` will be renamed internally to `weight`. Please use a different name to suppress this warning.\n",
      "A parameter name that contains `beta` will be renamed internally to `bias`. Please use a different name to suppress this warning.\n",
      "A parameter name that contains `gamma` will be renamed internally to `weight`. Please use a different name to suppress this warning.\n",
      "A parameter name that contains `beta` will be renamed internally to `bias`. Please use a different name to suppress this warning.\n",
      "A parameter name that contains `gamma` will be renamed internally to `weight`. Please use a different name to suppress this warning.\n",
      "A parameter name that contains `beta` will be renamed internally to `bias`. Please use a different name to suppress this warning.\n",
      "A parameter name that contains `gamma` will be renamed internally to `weight`. Please use a different name to suppress this warning.\n",
      "A parameter name that contains `beta` will be renamed internally to `bias`. Please use a different name to suppress this warning.\n",
      "A parameter name that contains `gamma` will be renamed internally to `weight`. Please use a different name to suppress this warning.\n",
      "A parameter name that contains `beta` will be renamed internally to `bias`. Please use a different name to suppress this warning.\n",
      "A parameter name that contains `gamma` will be renamed internally to `weight`. Please use a different name to suppress this warning.\n",
      "A parameter name that contains `beta` will be renamed internally to `bias`. Please use a different name to suppress this warning.\n",
      "A parameter name that contains `gamma` will be renamed internally to `weight`. Please use a different name to suppress this warning.\n",
      "A parameter name that contains `beta` will be renamed internally to `bias`. Please use a different name to suppress this warning.\n",
      "A parameter name that contains `gamma` will be renamed internally to `weight`. Please use a different name to suppress this warning.\n",
      "A parameter name that contains `beta` will be renamed internally to `bias`. Please use a different name to suppress this warning.\n",
      "A parameter name that contains `gamma` will be renamed internally to `weight`. Please use a different name to suppress this warning.\n",
      "A parameter name that contains `beta` will be renamed internally to `bias`. Please use a different name to suppress this warning.\n",
      "A parameter name that contains `gamma` will be renamed internally to `weight`. Please use a different name to suppress this warning.\n",
      "A parameter name that contains `beta` will be renamed internally to `bias`. Please use a different name to suppress this warning.\n",
      "A parameter name that contains `gamma` will be renamed internally to `weight`. Please use a different name to suppress this warning.\n",
      "A parameter name that contains `beta` will be renamed internally to `bias`. Please use a different name to suppress this warning.\n",
      "A parameter name that contains `gamma` will be renamed internally to `weight`. Please use a different name to suppress this warning.\n"
     ]
    }
   ],
   "source": [
    "    device = torch.device('cuda' if torch.cuda.is_available() else 'cpu')\n",
    "\n",
    "    parser = argparse.ArgumentParser()\n",
    "    parser.add_argument(\"--wandb\", type=bool, default=False)\n",
    "    parser.add_argument(\"--model\", type=str, default=\"Watchog\")\n",
    "    parser.add_argument(\"--unlabeled_train_only\", type=bool, default=False)\n",
    "    parser.add_argument(\"--context_encoding_type\", type=str, default=\"v0\")\n",
    "    parser.add_argument(\"--pool_version\", type=str, default=\"v0.2\")\n",
    "    parser.add_argument(\"--random_sample\", type=bool, default=False)\n",
    "    parser.add_argument(\"--comment\", type=str, default=\"debug\", help=\"to distinguish the runs\")\n",
    "    parser.add_argument(\n",
    "        \"--shortcut_name\",\n",
    "        default=\"bert-base-uncased\",\n",
    "        type=str,\n",
    "        help=\"Huggingface model shortcut name \",\n",
    "    )\n",
    "    parser.add_argument(\n",
    "        \"--max_length\",\n",
    "        default=64,\n",
    "        type=int,\n",
    "        help=\n",
    "        \"The maximum total input sequence length after tokenization. Sequences longer \"\n",
    "        \"than this will be truncated, sequences shorter will be padded.\",\n",
    "    )\n",
    "    parser.add_argument(\n",
    "        \"--adaptive_max_length\",\n",
    "        default=False,\n",
    "        type=bool,\n",
    "    )    \n",
    "    parser.add_argument(\n",
    "        \"--max_num_col\",\n",
    "        default=8,\n",
    "        type=int,\n",
    "    )   \n",
    "\n",
    "    parser.add_argument(\n",
    "        \"--batch_size\",\n",
    "        default=16,\n",
    "        type=int,\n",
    "        help=\"Batch size\",\n",
    "    )\n",
    "    parser.add_argument(\n",
    "        \"--epoch\",\n",
    "        default=1,\n",
    "        type=int,\n",
    "        help=\"Number of epochs for training\",\n",
    "    )\n",
    "    parser.add_argument(\n",
    "        \"--random_seed\",\n",
    "        default=4649,\n",
    "        type=int,\n",
    "        help=\"Random seed\",\n",
    "    )\n",
    "    \n",
    "    parser.add_argument(\n",
    "        \"--train_n_seed_cols\",\n",
    "        default=-1,\n",
    "        type=int,\n",
    "        help=\"number of seeding columns in training\",\n",
    "    )\n",
    "\n",
    "    parser.add_argument(\n",
    "        \"--num_classes\",\n",
    "        default=78,\n",
    "        type=int,\n",
    "        help=\"Number of classes\",\n",
    "    )\n",
    "    parser.add_argument(\"--multi_gpu\",\n",
    "                        action=\"store_true\",\n",
    "                        default=False,\n",
    "                        help=\"Use multiple GPU\")\n",
    "    parser.add_argument(\"--fp16\",\n",
    "                        action=\"store_true\",\n",
    "                        default=False,\n",
    "                        help=\"Use FP16\")\n",
    "    parser.add_argument(\"--warmup\",\n",
    "                        type=float,\n",
    "                        default=0.,\n",
    "                        help=\"Warmup ratio\")\n",
    "    parser.add_argument(\"--lr\", type=float, default=5e-5, help=\"Learning rate\")\n",
    "    parser.add_argument(\"--task\",\n",
    "                        type=str,\n",
    "                        default='gt-semtab22-dbpedia-all0',\n",
    "                        choices=[\n",
    "                            \"sato0\", \"sato1\", \"sato2\", \"sato3\", \"sato4\",\n",
    "                            \"msato0\", \"msato1\", \"msato2\", \"msato3\", \"msato4\",\n",
    "                            \"gt-dbpedia0\", \"gt-dbpedia1\", \"gt-dbpedia2\", \"gt-dbpedia3\", \"gt-dbpedia4\",\n",
    "                            \"gt-dbpedia-all0\", \"gt-dbpedia-all1\", \"gt-dbpedia-all2\", \"gt-dbpedia-all3\", \"gt-dbpedia-all4\",\n",
    "                            \"gt-schema-all0\", \"gt-schema-all1\", \"gt-schema-all2\", \"gt-schema-all3\", \"gt-schema-all4\",\n",
    "                            \"gt-semtab22-dbpedia\", \"gt-semtab22-dbpedia0\", \"gt-semtab22-dbpedia1\", \"gt-semtab22-dbpedia2\", \"gt-semtab22-dbpedia3\", \"gt-semtab22-dbpedia4\",\n",
    "                            \"gt-semtab22-dbpedia-all\", \"gt-semtab22-dbpedia-all0\", \"gt-semtab22-dbpedia-all1\", \"gt-semtab22-dbpedia-all2\", \"gt-semtab22-dbpedia-all3\", \"gt-semtab22-dbpedia-all4\",\n",
    "                            \"gt-semtab22-schema-class-all\", \"gt-semtab22-schema-property-all\",\n",
    "                            \"turl\", \"turl-re\", \"col-popl-1\", \"col-popl-2\", \"col-popl-3\", \"row-popl\",\n",
    "                            \"col-popl-turl-0\", \"col-popl-turl-1\", \"col-popl-turl-2\",\n",
    "                            \"col-popl-turl-mdonly-0\", \"col-popl-turl-mdonly-1\", \"col-popl-turl-mdonly-2\"\n",
    "                        ],\n",
    "                        help=\"Task names}\")\n",
    "    parser.add_argument(\"--colpair\",\n",
    "                        action=\"store_true\",\n",
    "                        help=\"Use column pair embedding\")\n",
    "    parser.add_argument(\"--metadata\",\n",
    "                        action=\"store_true\",\n",
    "                        help=\"Use column header metadata\")\n",
    "    parser.add_argument(\"--from_scratch\",\n",
    "                        action=\"store_true\",\n",
    "                        help=\"Training from scratch\")\n",
    "    parser.add_argument(\"--cl_tag\",\n",
    "                        type=str,\n",
    "                        default=\"wikitables/simclr/bert_100000_10_32_256_5e-05_sample_row4,sample_row4_tfidf_entity_column_0.05_0_last.pt\",\n",
    "                        help=\"path to the pre-trained file\")\n",
    "    parser.add_argument(\"--dropout_prob\",\n",
    "                        type=float,\n",
    "                        default=0.5)\n",
    "    parser.add_argument(\"--eval_test\",\n",
    "                        action=\"store_true\",\n",
    "                        help=\"evaluate on testset and do not save the model file\")\n",
    "    parser.add_argument(\"--small_tag\",\n",
    "                        type=str,\n",
    "                        default=\"semi1\",\n",
    "                        help=\"e.g., by_table_t5_v1\")\n",
    "    parser.add_argument(\"--data_path\",\n",
    "                        type=str,\n",
    "                        default=\"/data/zhihao/TU/\")\n",
    "    parser.add_argument(\"--pretrained_ckpt_path\",\n",
    "                        type=str,\n",
    "                        default=\"/data/zhihao/TU/Watchog/model/\")    \n",
    "\n",
    "    args = parser.parse_args([])\n",
    "    task = \"sato0\"\n",
    "    \n",
    "    args.num_classes = task_num_class_dict[task]\n",
    "    if args.colpair:\n",
    "        assert \"turl-re\" == task, \"colpair can be only used for Relation Extraction\"\n",
    "    if args.metadata:\n",
    "        assert \"turl-re\" == task or \"turl\" == task, \"metadata can be only used for TURL datasets\"\n",
    "    if \"col-popl\":\n",
    "        # metrics = {\n",
    "        #     \"accuracy\": CategoricalAccuracy(tie_break=True),\n",
    "        # }\n",
    "        if args.train_n_seed_cols != -1:\n",
    "            if \"col-popl\" in task:\n",
    "                assert args.train_n_seed_cols == int(task[-1]),  \"# of seed columns must match\"\n",
    "\n",
    "    print(\"args={}\".format(json.dumps(vars(args))))\n",
    "\n",
    "    max_length = args.max_length\n",
    "    batch_size = args.batch_size\n",
    "    num_train_epochs = args.epoch\n",
    "\n",
    "    shortcut_name = args.shortcut_name\n",
    "\n",
    "    if args.colpair and args.metadata:\n",
    "        taskname = \"{}-colpair-metadata\".format(task)\n",
    "    elif args.colpair:\n",
    "        taskname = \"{}-colpair\".format(task)\n",
    "    elif args.metadata:\n",
    "        taskname = \"{}-metadata\".format(task)\n",
    "    elif args.train_n_seed_cols == -1 and 'popl' in task:\n",
    "        taskname = \"{}-mix\".format(task)\n",
    "    else:\n",
    "        taskname = \"\".join(task)\n",
    "    cv = int(task[-1])\n",
    "\n",
    "    if args.from_scratch:\n",
    "        if \"gt\" in task:\n",
    "            tag_name = \"{}/{}-{}-{}-pool{}-max_cols{}-rand{}-bs{}-ml{}-ne{}-do{}{}\".format(\n",
    "                taskname,  \"{}-fromscratch\".format(shortcut_name), args.small_tag, args.comment, args.pool_version, args.max_num_col, args.random_sample,\n",
    "                batch_size, max_length, num_train_epochs, args.dropout_prob, \n",
    "                '-rs{}'.format(args.random_seed) if args.random_seed != 4649 else '')\n",
    "        else:\n",
    "            tag_name = \"{}/{}-{}-{}-bs{}-ml{}-ne{}-do{}{}\".format(\n",
    "                taskname,  \"{}-fromscratch\".format(shortcut_name), args.small_tag, args.comment, \n",
    "                batch_size, max_length, num_train_epochs, args.dropout_prob, \n",
    "                '-rs{}'.format(args.random_seed) if args.random_seed != 4649 else '')\n",
    "        \n",
    "    else:\n",
    "        if \"gt\" in task:\n",
    "            tag_name = \"{}/{}_{}-pool{}-max_cols{}-rand{}-bs{}-ml{}-ne{}-do{}{}\".format(\n",
    "                taskname, args.cl_tag.replace('/', '-'),  shortcut_name, args.small_tag, args.pool_version, args.max_num_col, args.random_sample,\n",
    "                batch_size, max_length, num_train_epochs, args.dropout_prob,\n",
    "                '-rs{}'.format(args.random_seed) if args.random_seed != 4649 else '')\n",
    "        else:\n",
    "            tag_name = \"{}/{}_{}-{}-bs{}-ml{}-ne{}-do{}{}\".format(\n",
    "                taskname, args.cl_tag.replace('/', '-'),  shortcut_name, args.small_tag,\n",
    "                batch_size, max_length, num_train_epochs, args.dropout_prob,\n",
    "                '-rs{}'.format(args.random_seed) if args.random_seed != 4649 else '')\n",
    "\n",
    "    # if args.eval_test:\n",
    "    #     if args.small_tag != '':\n",
    "    #         tag_name = tag_name.replace('outputs', 'small_outputs')\n",
    "    #         tag_name += '-' + args.small_tag\n",
    "    print(tag_name)\n",
    "    file_path = os.path.join(args.data_path, \"Watchog\", \"outputs\", tag_name)\n",
    "\n",
    "    dirpath = os.path.dirname(file_path)\n",
    "    if not os.path.exists(dirpath):\n",
    "        print(\"{} not exists. Created\".format(dirpath))\n",
    "        os.makedirs(dirpath)\n",
    "    \n",
    "    if args.fp16:\n",
    "        torch.backends.cuda.matmul.allow_fp16_reduced_precision_reduction = True\n",
    "        \n",
    "      \n",
    "        \n",
    "    # accelerator = Accelerator(mixed_precision=\"no\" if not args.fp16 else \"fp16\")   \n",
    "    ddp_kwargs = DistributedDataParallelKwargs(find_unused_parameters=True)\n",
    "    accelerator = Accelerator(mixed_precision=\"no\" if not args.fp16 else \"fp16\", kwargs_handlers=[ddp_kwargs])\n",
    "\n",
    "    device = torch.device('cuda' if torch.cuda.is_available() else 'cpu')\n",
    "    ckpt_path = os.path.join(args.pretrained_ckpt_path, args.cl_tag)\n",
    "    # ckpt_path = '/efs/checkpoints/{}.pt'.format(args.cl_tag)\n",
    "    ckpt = torch.load(ckpt_path, map_location=device)\n",
    "    ckpt_hp = ckpt['hp']\n",
    "    print(ckpt_hp)\n",
    " \n",
    "    setattr(ckpt_hp, 'batch_size', args.batch_size)\n",
    "    setattr(ckpt_hp, 'hidden_dropout_prob', args.dropout_prob)\n",
    "    setattr(ckpt_hp, 'shortcut_name', args.shortcut_name)\n",
    "    setattr(ckpt_hp, 'num_labels', args.num_classes)\n",
    "    \n",
    "    \n",
    "    \n",
    "    tokenizer = BertTokenizer.from_pretrained(shortcut_name)\n",
    "    padder = collate_fn(tokenizer.pad_token_id)\n",
    "    if task == \"turl-re\" and args.colpair:\n",
    "        model = BertForMultiOutputClassification(ckpt_hp, device=device, lm=ckpt['hp'].lm, col_pair='Pair')\n",
    "    elif \"col-popl\" in task:\n",
    "        model = BertForMultiOutputClassificationColPopl(ckpt_hp, device=device, lm=ckpt['hp'].lm, n_seed_cols=int(task[i][-1]), cls_for_md=\"md\" in task)\n",
    "    else:\n",
    "        model = BertForMultiOutputClassification(ckpt_hp, device=device, lm=ckpt['hp'].lm, version=\"v0\")\n",
    "        \n"
   ]
  },
  {
   "cell_type": "code",
   "execution_count": 24,
   "metadata": {},
   "outputs": [],
   "source": [
    "\n",
    "base_dirpath = os.path.join(args.data_path, \"doduo\", \"data\")\n",
    "seperator = \"semi1\"\n",
    "basename = \"sato_cv_{}.csv\"\n",
    "df_list = []\n",
    "filepath = os.path.join(base_dirpath, basename.format(cv))\n",
    "df_test = pd.read_csv(filepath)\n",
    "\n",
    "df_group_test = df_test.groupby(\"table_id\")\n",
    "\n",
    "\n",
    "\n",
    "df_list = []\n",
    "for i in range(5):\n",
    "    if i == cv:\n",
    "        continue\n",
    "    filepath = os.path.join(base_dirpath, basename.format(i))\n",
    "    df_list.append(pd.read_csv(filepath))\n",
    "df_train = pd.concat(df_list, axis=0)\n",
    "df_group_train = df_train.groupby(\"table_id\")"
   ]
  },
  {
   "cell_type": "code",
   "execution_count": 25,
   "metadata": {},
   "outputs": [],
   "source": [
    "from sentence_transformers import SentenceTransformer\n",
    "\n",
    "st_model = SentenceTransformer(\"all-mpnet-base-v2\", cache_folder=\"/data/zhihao/TU/Watchog/sentence_transformers_cache\")"
   ]
  },
  {
   "cell_type": "code",
   "execution_count": 46,
   "metadata": {},
   "outputs": [],
   "source": [
    "labels_cluster = []\n",
    "embeddings_cluster = []\n",
    "embeddings_cluster_context = []\n",
    "for i, (index, group_df) in enumerate(df_group_train):\n",
    "    if len(group_df) < 2:\n",
    "        continue\n",
    "    labeled_columns = group_df[group_df['class_id'] > -1]\n",
    "    labels_cluster += labeled_columns[\"class_id\"].values.tolist()\n",
    "    # if len(labeled_columns) > 1:\n",
    "    #     embeddings_cluster.append(ft_model.get_sentence_vector(\" \".join(labeled_columns[\"data\"].values)))\n",
    "    #     embeddings_cluster_context.append(ft_model.get_sentence_vector(\" \".join(group_df[\"data\"].values)))\n",
    "    #     break\n",
    "    for text in labeled_columns[\"data\"].values:\n",
    "        embeddings_cluster.append(st_model.encode(text))\n",
    "        embeddings_cluster_context.append(st_model.encode(st_model.tokenizer.sep_token.join(group_df[\"data\"].values)))"
   ]
  },
  {
   "cell_type": "code",
   "execution_count": 47,
   "metadata": {},
   "outputs": [],
   "source": [
    "embeddings_cluster = np.stack(embeddings_cluster, axis=0)\n",
    "embeddings_cluster_context = np.stack(embeddings_cluster_context, axis=0)\n",
    "labels_cluster = np.array(labels_cluster)"
   ]
  },
  {
   "cell_type": "code",
   "execution_count": 48,
   "metadata": {},
   "outputs": [],
   "source": [
    "from sklearn.metrics import silhouette_samples\n",
    "from sklearn.metrics import silhouette_score\n",
    "def silhouette_score_per_cluster(embeddings, labels, metric=\"cosine\"):\n",
    "    sample_silhouette_values = silhouette_samples(embeddings, labels, metric=metric)\n",
    "    unique_labels = np.unique(labels)\n",
    "    silhouette_per_cluster = []\n",
    "    for label in unique_labels:\n",
    "        cluster_silhouettes = sample_silhouette_values[labels == label]\n",
    "        silhouette_per_cluster.append(np.mean(cluster_silhouettes))\n",
    "    return np.array(silhouette_per_cluster).reshape(-1)\n",
    "embeddings_cluster_silhouette_values = silhouette_samples(embeddings_cluster, labels_cluster)\n",
    "embeddings_cluster_context_silhouette_values = silhouette_samples(embeddings_cluster_context, labels_cluster)"
   ]
  },
  {
   "cell_type": "code",
   "execution_count": 51,
   "metadata": {},
   "outputs": [
    {
     "data": {
      "text/plain": [
       "0.012887055"
      ]
     },
     "execution_count": 51,
     "metadata": {},
     "output_type": "execute_result"
    }
   ],
   "source": [
    "np.mean(embeddings_cluster_silhouette_values)"
   ]
  },
  {
   "cell_type": "code",
   "execution_count": 52,
   "metadata": {},
   "outputs": [
    {
     "data": {
      "text/plain": [
       "-0.060685627"
      ]
     },
     "execution_count": 52,
     "metadata": {},
     "output_type": "execute_result"
    }
   ],
   "source": [
    "np.mean(embeddings_cluster_context_silhouette_values)"
   ]
  },
  {
   "cell_type": "code",
   "execution_count": 53,
   "metadata": {},
   "outputs": [
    {
     "data": {
      "image/png": "[encoded data removed]",
      "text/plain": [
       "<Figure size 720x432 with 1 Axes>"
      ]
     },
     "metadata": {},
     "output_type": "display_data"
    }
   ],
   "source": [
    "import seaborn as sns\n",
    "import matplotlib.pyplot as plt\n",
    "\n",
    "# Example data: Two sets of values\n",
    "values_set_1 = embeddings_cluster_silhouette_values  # Replace with your actual data\n",
    "values_set_2 = embeddings_cluster_context_silhouette_values  # Replace with your second set of values\n",
    "\n",
    "mean_set_1 = np.mean(values_set_1)\n",
    "mean_set_2 = np.mean(values_set_2)\n",
    "# Set the style of the visualization\n",
    "sns.set(style=\"whitegrid\")\n",
    "\n",
    "# Create the figure and axis\n",
    "plt.figure(figsize=(10, 6))\n",
    "\n",
    "# Plot the first set of values\n",
    "sns.histplot(values_set_1, color='skyblue', kde=True, label='w.o. context', bins=30, alpha=0.7)\n",
    "\n",
    "# Plot the second set of values\n",
    "sns.histplot(values_set_2, color='salmon', kde=True, label='with context', bins=30, alpha=0.7)\n",
    "\n",
    "# Add a vertical line at x=0 for reference\n",
    "plt.axvline(x=0, color='black', linestyle='--', linewidth=2)\n",
    "\n",
    "plt.axvline(x=mean_set_1, color='blue', linestyle='-', linewidth=2, label=f'Mean  ({mean_set_1:.2f})')\n",
    "plt.axvline(x=mean_set_2, color='red', linestyle='-', linewidth=2, label=f'Set 2 Mean ({mean_set_2:.2f})')\n",
    "\n",
    "# Customize the plot\n",
    "plt.title('Comparison of Silhouette Score between column embeddings with and w.o. context', fontsize=16)\n",
    "plt.xlabel('Silhouette Score', fontsize=14)\n",
    "plt.ylabel('Frequency', fontsize=14)\n",
    "plt.legend()\n",
    "plt.xticks(fontsize=12)\n",
    "plt.yticks(fontsize=12)\n",
    "\n",
    "# Remove the top and right spines for a cleaner look\n",
    "sns.despine()\n",
    "\n",
    "# Show the plot\n",
    "plt.show()"
   ]
  },
  {
   "cell_type": "code",
   "execution_count": 4,
   "metadata": {},
   "outputs": [
    {
     "data": {
      "text/plain": [
       "['bert', 'is', 'a', 'powerful', 'language', 'model', '.']"
      ]
     },
     "execution_count": 4,
     "metadata": {},
     "output_type": "execute_result"
    }
   ],
   "source": [
    "text = \"BERT is a powerful language model.\"\n",
    "tokenizer.tokenize(text)"
   ]
  },
  {
   "cell_type": "code",
   "execution_count": 21,
   "metadata": {},
   "outputs": [
    {
     "data": {
      "text/plain": [
       "'/data/zhihao/TU/doduo/data'"
      ]
     },
     "execution_count": 21,
     "metadata": {},
     "output_type": "execute_result"
    }
   ],
   "source": [
    "os.path.join(args.data_path, \"doduo\", \"data\")"
   ]
  },
  {
   "cell_type": "code",
   "execution_count": 3,
   "metadata": {},
   "outputs": [
    {
     "ename": "KeyboardInterrupt",
     "evalue": "",
     "output_type": "error",
     "traceback": [
      "\u001b[0;31m---------------------------------------------------------------------------\u001b[0m",
      "\u001b[0;31mKeyboardInterrupt\u001b[0m                         Traceback (most recent call last)",
      "Input \u001b[0;32mIn [3]\u001b[0m, in \u001b[0;36m<cell line: 4>\u001b[0;34m()\u001b[0m\n\u001b[1;32m      2\u001b[0m cv \u001b[38;5;241m=\u001b[39m \u001b[38;5;241m0\u001b[39m\n\u001b[1;32m      3\u001b[0m dataset_cls \u001b[38;5;241m=\u001b[39m SatoCVTablewiseDataset\n\u001b[0;32m----> 4\u001b[0m train_dataset \u001b[38;5;241m=\u001b[39m \u001b[43mdataset_cls\u001b[49m\u001b[43m(\u001b[49m\u001b[43mcv\u001b[49m\u001b[38;5;241;43m=\u001b[39;49m\u001b[43mcv\u001b[49m\u001b[43m,\u001b[49m\n\u001b[1;32m      5\u001b[0m \u001b[43m                            \u001b[49m\u001b[43msplit\u001b[49m\u001b[38;5;241;43m=\u001b[39;49m\u001b[38;5;124;43m\"\u001b[39;49m\u001b[38;5;124;43mtrain\u001b[39;49m\u001b[38;5;124;43m\"\u001b[39;49m\u001b[43m,\u001b[49m\n\u001b[1;32m      6\u001b[0m \u001b[43m                            \u001b[49m\u001b[43mtokenizer\u001b[49m\u001b[38;5;241;43m=\u001b[39;49m\u001b[43mtokenizer\u001b[49m\u001b[43m,\u001b[49m\n\u001b[1;32m      7\u001b[0m \u001b[43m                            \u001b[49m\u001b[43mmax_length\u001b[49m\u001b[38;5;241;43m=\u001b[39;49m\u001b[43mmax_length\u001b[49m\u001b[43m,\u001b[49m\n\u001b[1;32m      8\u001b[0m \u001b[43m                            \u001b[49m\u001b[43mmulticol_only\u001b[49m\u001b[38;5;241;43m=\u001b[39;49m\u001b[38;5;28;43;01mFalse\u001b[39;49;00m\u001b[43m,\u001b[49m\n\u001b[1;32m      9\u001b[0m \u001b[43m                            \u001b[49m\u001b[43mtrain_ratio\u001b[49m\u001b[38;5;241;43m=\u001b[39;49m\u001b[38;5;241;43m1.0\u001b[39;49m\u001b[43m,\u001b[49m\n\u001b[1;32m     10\u001b[0m \u001b[43m                            \u001b[49m\u001b[43mdevice\u001b[49m\u001b[38;5;241;43m=\u001b[39;49m\u001b[43mdevice\u001b[49m\u001b[43m,\u001b[49m\n\u001b[1;32m     11\u001b[0m \u001b[43m                            \u001b[49m\u001b[43msmall_tag\u001b[49m\u001b[38;5;241;43m=\u001b[39;49m\u001b[38;5;124;43m\"\u001b[39;49m\u001b[38;5;124;43m\"\u001b[39;49m\u001b[43m,\u001b[49m\n\u001b[1;32m     12\u001b[0m \u001b[43m                            \u001b[49m\u001b[43mbase_dirpath\u001b[49m\u001b[38;5;241;43m=\u001b[39;49m\u001b[43mos\u001b[49m\u001b[38;5;241;43m.\u001b[39;49m\u001b[43mpath\u001b[49m\u001b[38;5;241;43m.\u001b[39;49m\u001b[43mjoin\u001b[49m\u001b[43m(\u001b[49m\u001b[43margs\u001b[49m\u001b[38;5;241;43m.\u001b[39;49m\u001b[43mdata_path\u001b[49m\u001b[43m,\u001b[49m\u001b[43m \u001b[49m\u001b[38;5;124;43m\"\u001b[39;49m\u001b[38;5;124;43mdoduo\u001b[39;49m\u001b[38;5;124;43m\"\u001b[39;49m\u001b[43m,\u001b[49m\u001b[43m \u001b[49m\u001b[38;5;124;43m\"\u001b[39;49m\u001b[38;5;124;43mdata\u001b[39;49m\u001b[38;5;124;43m\"\u001b[39;49m\u001b[43m)\u001b[49m\u001b[43m,\u001b[49m\u001b[43m \u001b[49m\n\u001b[1;32m     13\u001b[0m \u001b[43m                            \u001b[49m\u001b[43m)\u001b[49m\n\u001b[1;32m     14\u001b[0m valid_dataset \u001b[38;5;241m=\u001b[39m dataset_cls(cv\u001b[38;5;241m=\u001b[39mcv,\n\u001b[1;32m     15\u001b[0m                             split\u001b[38;5;241m=\u001b[39m\u001b[38;5;124m\"\u001b[39m\u001b[38;5;124mvalid\u001b[39m\u001b[38;5;124m\"\u001b[39m,\n\u001b[1;32m     16\u001b[0m                             tokenizer\u001b[38;5;241m=\u001b[39mtokenizer,\n\u001b[0;32m   (...)\u001b[0m\n\u001b[1;32m     21\u001b[0m                             small_tag\u001b[38;5;241m=\u001b[39m\u001b[38;5;124m\"\u001b[39m\u001b[38;5;124m\"\u001b[39m,\n\u001b[1;32m     22\u001b[0m                             base_dirpath\u001b[38;5;241m=\u001b[39mos\u001b[38;5;241m.\u001b[39mpath\u001b[38;5;241m.\u001b[39mjoin(args\u001b[38;5;241m.\u001b[39mdata_path, \u001b[38;5;124m\"\u001b[39m\u001b[38;5;124mdoduo\u001b[39m\u001b[38;5;124m\"\u001b[39m, \u001b[38;5;124m\"\u001b[39m\u001b[38;5;124mdata\u001b[39m\u001b[38;5;124m\"\u001b[39m))\n",
      "File \u001b[0;32m~/jupyterprojects/TU/watchog/watchog/dataset.py:783\u001b[0m, in \u001b[0;36mSatoCVTablewiseDataset.__init__\u001b[0;34m(self, cv, split, tokenizer, max_length, multicol_only, train_ratio, device, base_dirpath, small_tag)\u001b[0m\n\u001b[1;32m    781\u001b[0m \u001b[38;5;28;01melse\u001b[39;00m:\n\u001b[1;32m    782\u001b[0m     cur_maxlen \u001b[38;5;241m=\u001b[39m \u001b[38;5;28mmax\u001b[39m(\u001b[38;5;241m1\u001b[39m, max_length \u001b[38;5;241m/\u001b[39m\u001b[38;5;241m/\u001b[39m \u001b[38;5;28mlen\u001b[39m(\u001b[38;5;28mlist\u001b[39m(group_df[\u001b[38;5;124m\"\u001b[39m\u001b[38;5;124mclass_id\u001b[39m\u001b[38;5;124m\"\u001b[39m]\u001b[38;5;241m.\u001b[39mvalues)) \u001b[38;5;241m-\u001b[39m \u001b[38;5;241m1\u001b[39m)\n\u001b[0;32m--> 783\u001b[0m token_ids_list \u001b[38;5;241m=\u001b[39m \u001b[43mgroup_df\u001b[49m\u001b[43m[\u001b[49m\u001b[38;5;124;43m\"\u001b[39;49m\u001b[38;5;124;43mdata\u001b[39;49m\u001b[38;5;124;43m\"\u001b[39;49m\u001b[43m]\u001b[49m\u001b[38;5;241;43m.\u001b[39;49m\u001b[43mapply\u001b[49m\u001b[43m(\u001b[49m\u001b[38;5;28;43;01mlambda\u001b[39;49;00m\u001b[43m \u001b[49m\u001b[43mx\u001b[49m\u001b[43m:\u001b[49m\u001b[43m \u001b[49m\u001b[43mtokenizer\u001b[49m\u001b[38;5;241;43m.\u001b[39;49m\u001b[43mencode\u001b[49m\u001b[43m(\u001b[49m\n\u001b[1;32m    784\u001b[0m \u001b[43m    \u001b[49m\u001b[43mtokenizer\u001b[49m\u001b[38;5;241;43m.\u001b[39;49m\u001b[43mcls_token\u001b[49m\u001b[43m \u001b[49m\u001b[38;5;241;43m+\u001b[39;49m\u001b[43m \u001b[49m\u001b[38;5;124;43m\"\u001b[39;49m\u001b[38;5;124;43m \u001b[39;49m\u001b[38;5;124;43m\"\u001b[39;49m\u001b[43m \u001b[49m\u001b[38;5;241;43m+\u001b[39;49m\u001b[43m \u001b[49m\u001b[43mx\u001b[49m\u001b[43m,\u001b[49m\u001b[43m \u001b[49m\u001b[43madd_special_tokens\u001b[49m\u001b[38;5;241;43m=\u001b[39;49m\u001b[38;5;28;43;01mFalse\u001b[39;49;00m\u001b[43m,\u001b[49m\u001b[43m \u001b[49m\u001b[43mmax_length\u001b[49m\u001b[38;5;241;43m=\u001b[39;49m\u001b[43mcur_maxlen\u001b[49m\u001b[43m,\u001b[49m\u001b[43m \u001b[49m\u001b[43mtruncation\u001b[49m\u001b[38;5;241;43m=\u001b[39;49m\u001b[38;5;28;43;01mTrue\u001b[39;49;00m\u001b[43m)\u001b[49m\u001b[43m)\u001b[49m\u001b[38;5;241m.\u001b[39mtolist(\n\u001b[1;32m    785\u001b[0m     )\n\u001b[1;32m    786\u001b[0m token_ids \u001b[38;5;241m=\u001b[39m torch\u001b[38;5;241m.\u001b[39mLongTensor(reduce(operator\u001b[38;5;241m.\u001b[39madd,\n\u001b[1;32m    787\u001b[0m                                     token_ids_list))\u001b[38;5;241m.\u001b[39mto(device)\n\u001b[1;32m    788\u001b[0m cls_index_list \u001b[38;5;241m=\u001b[39m [\u001b[38;5;241m0\u001b[39m] \u001b[38;5;241m+\u001b[39m np\u001b[38;5;241m.\u001b[39mcumsum(\n\u001b[1;32m    789\u001b[0m     np\u001b[38;5;241m.\u001b[39marray([\u001b[38;5;28mlen\u001b[39m(x) \u001b[38;5;28;01mfor\u001b[39;00m x \u001b[38;5;129;01min\u001b[39;00m token_ids_list]))\u001b[38;5;241m.\u001b[39mtolist()[:\u001b[38;5;241m-\u001b[39m\u001b[38;5;241m1\u001b[39m]\n",
      "File \u001b[0;32m~/jupyterprojects/jupyter/lib/python3.8/site-packages/pandas/core/series.py:4357\u001b[0m, in \u001b[0;36mSeries.apply\u001b[0;34m(self, func, convert_dtype, args, **kwargs)\u001b[0m\n\u001b[1;32m   4247\u001b[0m \u001b[38;5;28;01mdef\u001b[39;00m \u001b[38;5;21mapply\u001b[39m(\n\u001b[1;32m   4248\u001b[0m     \u001b[38;5;28mself\u001b[39m,\n\u001b[1;32m   4249\u001b[0m     func: AggFuncType,\n\u001b[0;32m   (...)\u001b[0m\n\u001b[1;32m   4252\u001b[0m     \u001b[38;5;241m*\u001b[39m\u001b[38;5;241m*\u001b[39mkwargs,\n\u001b[1;32m   4253\u001b[0m ) \u001b[38;5;241m-\u001b[39m\u001b[38;5;241m>\u001b[39m FrameOrSeriesUnion:\n\u001b[1;32m   4254\u001b[0m \u001b[38;5;250m    \u001b[39m\u001b[38;5;124;03m\"\"\"\u001b[39;00m\n\u001b[1;32m   4255\u001b[0m \u001b[38;5;124;03m    Invoke function on values of Series.\u001b[39;00m\n\u001b[1;32m   4256\u001b[0m \n\u001b[0;32m   (...)\u001b[0m\n\u001b[1;32m   4355\u001b[0m \u001b[38;5;124;03m    dtype: float64\u001b[39;00m\n\u001b[1;32m   4356\u001b[0m \u001b[38;5;124;03m    \"\"\"\u001b[39;00m\n\u001b[0;32m-> 4357\u001b[0m     \u001b[38;5;28;01mreturn\u001b[39;00m \u001b[43mSeriesApply\u001b[49m\u001b[43m(\u001b[49m\u001b[38;5;28;43mself\u001b[39;49m\u001b[43m,\u001b[49m\u001b[43m \u001b[49m\u001b[43mfunc\u001b[49m\u001b[43m,\u001b[49m\u001b[43m \u001b[49m\u001b[43mconvert_dtype\u001b[49m\u001b[43m,\u001b[49m\u001b[43m \u001b[49m\u001b[43margs\u001b[49m\u001b[43m,\u001b[49m\u001b[43m \u001b[49m\u001b[43mkwargs\u001b[49m\u001b[43m)\u001b[49m\u001b[38;5;241;43m.\u001b[39;49m\u001b[43mapply\u001b[49m\u001b[43m(\u001b[49m\u001b[43m)\u001b[49m\n",
      "File \u001b[0;32m~/jupyterprojects/jupyter/lib/python3.8/site-packages/pandas/core/apply.py:1043\u001b[0m, in \u001b[0;36mSeriesApply.apply\u001b[0;34m(self)\u001b[0m\n\u001b[1;32m   1039\u001b[0m \u001b[38;5;28;01mif\u001b[39;00m \u001b[38;5;28misinstance\u001b[39m(\u001b[38;5;28mself\u001b[39m\u001b[38;5;241m.\u001b[39mf, \u001b[38;5;28mstr\u001b[39m):\n\u001b[1;32m   1040\u001b[0m     \u001b[38;5;66;03m# if we are a string, try to dispatch\u001b[39;00m\n\u001b[1;32m   1041\u001b[0m     \u001b[38;5;28;01mreturn\u001b[39;00m \u001b[38;5;28mself\u001b[39m\u001b[38;5;241m.\u001b[39mapply_str()\n\u001b[0;32m-> 1043\u001b[0m \u001b[38;5;28;01mreturn\u001b[39;00m \u001b[38;5;28;43mself\u001b[39;49m\u001b[38;5;241;43m.\u001b[39;49m\u001b[43mapply_standard\u001b[49m\u001b[43m(\u001b[49m\u001b[43m)\u001b[49m\n",
      "File \u001b[0;32m~/jupyterprojects/jupyter/lib/python3.8/site-packages/pandas/core/apply.py:1098\u001b[0m, in \u001b[0;36mSeriesApply.apply_standard\u001b[0;34m(self)\u001b[0m\n\u001b[1;32m   1092\u001b[0m         values \u001b[38;5;241m=\u001b[39m obj\u001b[38;5;241m.\u001b[39mastype(\u001b[38;5;28mobject\u001b[39m)\u001b[38;5;241m.\u001b[39m_values\n\u001b[1;32m   1093\u001b[0m         \u001b[38;5;66;03m# error: Argument 2 to \"map_infer\" has incompatible type\u001b[39;00m\n\u001b[1;32m   1094\u001b[0m         \u001b[38;5;66;03m# \"Union[Callable[..., Any], str, List[Union[Callable[..., Any], str]],\u001b[39;00m\n\u001b[1;32m   1095\u001b[0m         \u001b[38;5;66;03m# Dict[Hashable, Union[Union[Callable[..., Any], str],\u001b[39;00m\n\u001b[1;32m   1096\u001b[0m         \u001b[38;5;66;03m# List[Union[Callable[..., Any], str]]]]]\"; expected\u001b[39;00m\n\u001b[1;32m   1097\u001b[0m         \u001b[38;5;66;03m# \"Callable[[Any], Any]\"\u001b[39;00m\n\u001b[0;32m-> 1098\u001b[0m         mapped \u001b[38;5;241m=\u001b[39m \u001b[43mlib\u001b[49m\u001b[38;5;241;43m.\u001b[39;49m\u001b[43mmap_infer\u001b[49m\u001b[43m(\u001b[49m\n\u001b[1;32m   1099\u001b[0m \u001b[43m            \u001b[49m\u001b[43mvalues\u001b[49m\u001b[43m,\u001b[49m\n\u001b[1;32m   1100\u001b[0m \u001b[43m            \u001b[49m\u001b[43mf\u001b[49m\u001b[43m,\u001b[49m\u001b[43m  \u001b[49m\u001b[38;5;66;43;03m# type: ignore[arg-type]\u001b[39;49;00m\n\u001b[1;32m   1101\u001b[0m \u001b[43m            \u001b[49m\u001b[43mconvert\u001b[49m\u001b[38;5;241;43m=\u001b[39;49m\u001b[38;5;28;43mself\u001b[39;49m\u001b[38;5;241;43m.\u001b[39;49m\u001b[43mconvert_dtype\u001b[49m\u001b[43m,\u001b[49m\n\u001b[1;32m   1102\u001b[0m \u001b[43m        \u001b[49m\u001b[43m)\u001b[49m\n\u001b[1;32m   1104\u001b[0m \u001b[38;5;28;01mif\u001b[39;00m \u001b[38;5;28mlen\u001b[39m(mapped) \u001b[38;5;129;01mand\u001b[39;00m \u001b[38;5;28misinstance\u001b[39m(mapped[\u001b[38;5;241m0\u001b[39m], ABCSeries):\n\u001b[1;32m   1105\u001b[0m     \u001b[38;5;66;03m# GH 25959 use pd.array instead of tolist\u001b[39;00m\n\u001b[1;32m   1106\u001b[0m     \u001b[38;5;66;03m# so extension arrays can be used\u001b[39;00m\n\u001b[1;32m   1107\u001b[0m     \u001b[38;5;28;01mreturn\u001b[39;00m obj\u001b[38;5;241m.\u001b[39m_constructor_expanddim(pd_array(mapped), index\u001b[38;5;241m=\u001b[39mobj\u001b[38;5;241m.\u001b[39mindex)\n",
      "File \u001b[0;32m~/jupyterprojects/jupyter/lib/python3.8/site-packages/pandas/_libs/lib.pyx:2859\u001b[0m, in \u001b[0;36mpandas._libs.lib.map_infer\u001b[0;34m()\u001b[0m\n",
      "File \u001b[0;32m~/jupyterprojects/TU/watchog/watchog/dataset.py:783\u001b[0m, in \u001b[0;36mSatoCVTablewiseDataset.__init__.<locals>.<lambda>\u001b[0;34m(x)\u001b[0m\n\u001b[1;32m    781\u001b[0m \u001b[38;5;28;01melse\u001b[39;00m:\n\u001b[1;32m    782\u001b[0m     cur_maxlen \u001b[38;5;241m=\u001b[39m \u001b[38;5;28mmax\u001b[39m(\u001b[38;5;241m1\u001b[39m, max_length \u001b[38;5;241m/\u001b[39m\u001b[38;5;241m/\u001b[39m \u001b[38;5;28mlen\u001b[39m(\u001b[38;5;28mlist\u001b[39m(group_df[\u001b[38;5;124m\"\u001b[39m\u001b[38;5;124mclass_id\u001b[39m\u001b[38;5;124m\"\u001b[39m]\u001b[38;5;241m.\u001b[39mvalues)) \u001b[38;5;241m-\u001b[39m \u001b[38;5;241m1\u001b[39m)\n\u001b[0;32m--> 783\u001b[0m token_ids_list \u001b[38;5;241m=\u001b[39m group_df[\u001b[38;5;124m\"\u001b[39m\u001b[38;5;124mdata\u001b[39m\u001b[38;5;124m\"\u001b[39m]\u001b[38;5;241m.\u001b[39mapply(\u001b[38;5;28;01mlambda\u001b[39;00m x: \u001b[43mtokenizer\u001b[49m\u001b[38;5;241;43m.\u001b[39;49m\u001b[43mencode\u001b[49m\u001b[43m(\u001b[49m\n\u001b[1;32m    784\u001b[0m \u001b[43m    \u001b[49m\u001b[43mtokenizer\u001b[49m\u001b[38;5;241;43m.\u001b[39;49m\u001b[43mcls_token\u001b[49m\u001b[43m \u001b[49m\u001b[38;5;241;43m+\u001b[39;49m\u001b[43m \u001b[49m\u001b[38;5;124;43m\"\u001b[39;49m\u001b[38;5;124;43m \u001b[39;49m\u001b[38;5;124;43m\"\u001b[39;49m\u001b[43m \u001b[49m\u001b[38;5;241;43m+\u001b[39;49m\u001b[43m \u001b[49m\u001b[43mx\u001b[49m\u001b[43m,\u001b[49m\u001b[43m \u001b[49m\u001b[43madd_special_tokens\u001b[49m\u001b[38;5;241;43m=\u001b[39;49m\u001b[38;5;28;43;01mFalse\u001b[39;49;00m\u001b[43m,\u001b[49m\u001b[43m \u001b[49m\u001b[43mmax_length\u001b[49m\u001b[38;5;241;43m=\u001b[39;49m\u001b[43mcur_maxlen\u001b[49m\u001b[43m,\u001b[49m\u001b[43m \u001b[49m\u001b[43mtruncation\u001b[49m\u001b[38;5;241;43m=\u001b[39;49m\u001b[38;5;28;43;01mTrue\u001b[39;49;00m\u001b[43m)\u001b[49m)\u001b[38;5;241m.\u001b[39mtolist(\n\u001b[1;32m    785\u001b[0m     )\n\u001b[1;32m    786\u001b[0m token_ids \u001b[38;5;241m=\u001b[39m torch\u001b[38;5;241m.\u001b[39mLongTensor(reduce(operator\u001b[38;5;241m.\u001b[39madd,\n\u001b[1;32m    787\u001b[0m                                     token_ids_list))\u001b[38;5;241m.\u001b[39mto(device)\n\u001b[1;32m    788\u001b[0m cls_index_list \u001b[38;5;241m=\u001b[39m [\u001b[38;5;241m0\u001b[39m] \u001b[38;5;241m+\u001b[39m np\u001b[38;5;241m.\u001b[39mcumsum(\n\u001b[1;32m    789\u001b[0m     np\u001b[38;5;241m.\u001b[39marray([\u001b[38;5;28mlen\u001b[39m(x) \u001b[38;5;28;01mfor\u001b[39;00m x \u001b[38;5;129;01min\u001b[39;00m token_ids_list]))\u001b[38;5;241m.\u001b[39mtolist()[:\u001b[38;5;241m-\u001b[39m\u001b[38;5;241m1\u001b[39m]\n",
      "File \u001b[0;32m~/jupyterprojects/jupyter/lib/python3.8/site-packages/transformers/tokenization_utils_base.py:2843\u001b[0m, in \u001b[0;36mPreTrainedTokenizerBase.encode\u001b[0;34m(self, text, text_pair, add_special_tokens, padding, truncation, max_length, stride, return_tensors, **kwargs)\u001b[0m\n\u001b[1;32m   2806\u001b[0m \u001b[38;5;129m@add_end_docstrings\u001b[39m(\n\u001b[1;32m   2807\u001b[0m     ENCODE_KWARGS_DOCSTRING,\n\u001b[1;32m   2808\u001b[0m \u001b[38;5;250m    \u001b[39m\u001b[38;5;124;03m\"\"\"\u001b[39;00m\n\u001b[0;32m   (...)\u001b[0m\n\u001b[1;32m   2826\u001b[0m     \u001b[38;5;241m*\u001b[39m\u001b[38;5;241m*\u001b[39mkwargs,\n\u001b[1;32m   2827\u001b[0m ) \u001b[38;5;241m-\u001b[39m\u001b[38;5;241m>\u001b[39m List[\u001b[38;5;28mint\u001b[39m]:\n\u001b[1;32m   2828\u001b[0m \u001b[38;5;250m    \u001b[39m\u001b[38;5;124;03m\"\"\"\u001b[39;00m\n\u001b[1;32m   2829\u001b[0m \u001b[38;5;124;03m    Converts a string to a sequence of ids (integer), using the tokenizer and vocabulary.\u001b[39;00m\n\u001b[1;32m   2830\u001b[0m \n\u001b[0;32m   (...)\u001b[0m\n\u001b[1;32m   2841\u001b[0m \u001b[38;5;124;03m            method).\u001b[39;00m\n\u001b[1;32m   2842\u001b[0m \u001b[38;5;124;03m    \"\"\"\u001b[39;00m\n\u001b[0;32m-> 2843\u001b[0m     encoded_inputs \u001b[38;5;241m=\u001b[39m \u001b[38;5;28;43mself\u001b[39;49m\u001b[38;5;241;43m.\u001b[39;49m\u001b[43mencode_plus\u001b[49m\u001b[43m(\u001b[49m\n\u001b[1;32m   2844\u001b[0m \u001b[43m        \u001b[49m\u001b[43mtext\u001b[49m\u001b[43m,\u001b[49m\n\u001b[1;32m   2845\u001b[0m \u001b[43m        \u001b[49m\u001b[43mtext_pair\u001b[49m\u001b[38;5;241;43m=\u001b[39;49m\u001b[43mtext_pair\u001b[49m\u001b[43m,\u001b[49m\n\u001b[1;32m   2846\u001b[0m \u001b[43m        \u001b[49m\u001b[43madd_special_tokens\u001b[49m\u001b[38;5;241;43m=\u001b[39;49m\u001b[43madd_special_tokens\u001b[49m\u001b[43m,\u001b[49m\n\u001b[1;32m   2847\u001b[0m \u001b[43m        \u001b[49m\u001b[43mpadding\u001b[49m\u001b[38;5;241;43m=\u001b[39;49m\u001b[43mpadding\u001b[49m\u001b[43m,\u001b[49m\n\u001b[1;32m   2848\u001b[0m \u001b[43m        \u001b[49m\u001b[43mtruncation\u001b[49m\u001b[38;5;241;43m=\u001b[39;49m\u001b[43mtruncation\u001b[49m\u001b[43m,\u001b[49m\n\u001b[1;32m   2849\u001b[0m \u001b[43m        \u001b[49m\u001b[43mmax_length\u001b[49m\u001b[38;5;241;43m=\u001b[39;49m\u001b[43mmax_length\u001b[49m\u001b[43m,\u001b[49m\n\u001b[1;32m   2850\u001b[0m \u001b[43m        \u001b[49m\u001b[43mstride\u001b[49m\u001b[38;5;241;43m=\u001b[39;49m\u001b[43mstride\u001b[49m\u001b[43m,\u001b[49m\n\u001b[1;32m   2851\u001b[0m \u001b[43m        \u001b[49m\u001b[43mreturn_tensors\u001b[49m\u001b[38;5;241;43m=\u001b[39;49m\u001b[43mreturn_tensors\u001b[49m\u001b[43m,\u001b[49m\n\u001b[1;32m   2852\u001b[0m \u001b[43m        \u001b[49m\u001b[38;5;241;43m*\u001b[39;49m\u001b[38;5;241;43m*\u001b[39;49m\u001b[43mkwargs\u001b[49m\u001b[43m,\u001b[49m\n\u001b[1;32m   2853\u001b[0m \u001b[43m    \u001b[49m\u001b[43m)\u001b[49m\n\u001b[1;32m   2855\u001b[0m     \u001b[38;5;28;01mreturn\u001b[39;00m encoded_inputs[\u001b[38;5;124m\"\u001b[39m\u001b[38;5;124minput_ids\u001b[39m\u001b[38;5;124m\"\u001b[39m]\n",
      "File \u001b[0;32m~/jupyterprojects/jupyter/lib/python3.8/site-packages/transformers/tokenization_utils_base.py:3255\u001b[0m, in \u001b[0;36mPreTrainedTokenizerBase.encode_plus\u001b[0;34m(self, text, text_pair, add_special_tokens, padding, truncation, max_length, stride, is_split_into_words, pad_to_multiple_of, return_tensors, return_token_type_ids, return_attention_mask, return_overflowing_tokens, return_special_tokens_mask, return_offsets_mapping, return_length, verbose, **kwargs)\u001b[0m\n\u001b[1;32m   3245\u001b[0m \u001b[38;5;66;03m# Backward compatibility for 'truncation_strategy', 'pad_to_max_length'\u001b[39;00m\n\u001b[1;32m   3246\u001b[0m padding_strategy, truncation_strategy, max_length, kwargs \u001b[38;5;241m=\u001b[39m \u001b[38;5;28mself\u001b[39m\u001b[38;5;241m.\u001b[39m_get_padding_truncation_strategies(\n\u001b[1;32m   3247\u001b[0m     padding\u001b[38;5;241m=\u001b[39mpadding,\n\u001b[1;32m   3248\u001b[0m     truncation\u001b[38;5;241m=\u001b[39mtruncation,\n\u001b[0;32m   (...)\u001b[0m\n\u001b[1;32m   3252\u001b[0m     \u001b[38;5;241m*\u001b[39m\u001b[38;5;241m*\u001b[39mkwargs,\n\u001b[1;32m   3253\u001b[0m )\n\u001b[0;32m-> 3255\u001b[0m \u001b[38;5;28;01mreturn\u001b[39;00m \u001b[38;5;28;43mself\u001b[39;49m\u001b[38;5;241;43m.\u001b[39;49m\u001b[43m_encode_plus\u001b[49m\u001b[43m(\u001b[49m\n\u001b[1;32m   3256\u001b[0m \u001b[43m    \u001b[49m\u001b[43mtext\u001b[49m\u001b[38;5;241;43m=\u001b[39;49m\u001b[43mtext\u001b[49m\u001b[43m,\u001b[49m\n\u001b[1;32m   3257\u001b[0m \u001b[43m    \u001b[49m\u001b[43mtext_pair\u001b[49m\u001b[38;5;241;43m=\u001b[39;49m\u001b[43mtext_pair\u001b[49m\u001b[43m,\u001b[49m\n\u001b[1;32m   3258\u001b[0m \u001b[43m    \u001b[49m\u001b[43madd_special_tokens\u001b[49m\u001b[38;5;241;43m=\u001b[39;49m\u001b[43madd_special_tokens\u001b[49m\u001b[43m,\u001b[49m\n\u001b[1;32m   3259\u001b[0m \u001b[43m    \u001b[49m\u001b[43mpadding_strategy\u001b[49m\u001b[38;5;241;43m=\u001b[39;49m\u001b[43mpadding_strategy\u001b[49m\u001b[43m,\u001b[49m\n\u001b[1;32m   3260\u001b[0m \u001b[43m    \u001b[49m\u001b[43mtruncation_strategy\u001b[49m\u001b[38;5;241;43m=\u001b[39;49m\u001b[43mtruncation_strategy\u001b[49m\u001b[43m,\u001b[49m\n\u001b[1;32m   3261\u001b[0m \u001b[43m    \u001b[49m\u001b[43mmax_length\u001b[49m\u001b[38;5;241;43m=\u001b[39;49m\u001b[43mmax_length\u001b[49m\u001b[43m,\u001b[49m\n\u001b[1;32m   3262\u001b[0m \u001b[43m    \u001b[49m\u001b[43mstride\u001b[49m\u001b[38;5;241;43m=\u001b[39;49m\u001b[43mstride\u001b[49m\u001b[43m,\u001b[49m\n\u001b[1;32m   3263\u001b[0m \u001b[43m    \u001b[49m\u001b[43mis_split_into_words\u001b[49m\u001b[38;5;241;43m=\u001b[39;49m\u001b[43mis_split_into_words\u001b[49m\u001b[43m,\u001b[49m\n\u001b[1;32m   3264\u001b[0m \u001b[43m    \u001b[49m\u001b[43mpad_to_multiple_of\u001b[49m\u001b[38;5;241;43m=\u001b[39;49m\u001b[43mpad_to_multiple_of\u001b[49m\u001b[43m,\u001b[49m\n\u001b[1;32m   3265\u001b[0m \u001b[43m    \u001b[49m\u001b[43mreturn_tensors\u001b[49m\u001b[38;5;241;43m=\u001b[39;49m\u001b[43mreturn_tensors\u001b[49m\u001b[43m,\u001b[49m\n\u001b[1;32m   3266\u001b[0m \u001b[43m    \u001b[49m\u001b[43mreturn_token_type_ids\u001b[49m\u001b[38;5;241;43m=\u001b[39;49m\u001b[43mreturn_token_type_ids\u001b[49m\u001b[43m,\u001b[49m\n\u001b[1;32m   3267\u001b[0m \u001b[43m    \u001b[49m\u001b[43mreturn_attention_mask\u001b[49m\u001b[38;5;241;43m=\u001b[39;49m\u001b[43mreturn_attention_mask\u001b[49m\u001b[43m,\u001b[49m\n\u001b[1;32m   3268\u001b[0m \u001b[43m    \u001b[49m\u001b[43mreturn_overflowing_tokens\u001b[49m\u001b[38;5;241;43m=\u001b[39;49m\u001b[43mreturn_overflowing_tokens\u001b[49m\u001b[43m,\u001b[49m\n\u001b[1;32m   3269\u001b[0m \u001b[43m    \u001b[49m\u001b[43mreturn_special_tokens_mask\u001b[49m\u001b[38;5;241;43m=\u001b[39;49m\u001b[43mreturn_special_tokens_mask\u001b[49m\u001b[43m,\u001b[49m\n\u001b[1;32m   3270\u001b[0m \u001b[43m    \u001b[49m\u001b[43mreturn_offsets_mapping\u001b[49m\u001b[38;5;241;43m=\u001b[39;49m\u001b[43mreturn_offsets_mapping\u001b[49m\u001b[43m,\u001b[49m\n\u001b[1;32m   3271\u001b[0m \u001b[43m    \u001b[49m\u001b[43mreturn_length\u001b[49m\u001b[38;5;241;43m=\u001b[39;49m\u001b[43mreturn_length\u001b[49m\u001b[43m,\u001b[49m\n\u001b[1;32m   3272\u001b[0m \u001b[43m    \u001b[49m\u001b[43mverbose\u001b[49m\u001b[38;5;241;43m=\u001b[39;49m\u001b[43mverbose\u001b[49m\u001b[43m,\u001b[49m\n\u001b[1;32m   3273\u001b[0m \u001b[43m    \u001b[49m\u001b[43msplit_special_tokens\u001b[49m\u001b[38;5;241;43m=\u001b[39;49m\u001b[43mkwargs\u001b[49m\u001b[38;5;241;43m.\u001b[39;49m\u001b[43mpop\u001b[49m\u001b[43m(\u001b[49m\u001b[38;5;124;43m\"\u001b[39;49m\u001b[38;5;124;43msplit_special_tokens\u001b[39;49m\u001b[38;5;124;43m\"\u001b[39;49m\u001b[43m,\u001b[49m\u001b[43m \u001b[49m\u001b[38;5;28;43mself\u001b[39;49m\u001b[38;5;241;43m.\u001b[39;49m\u001b[43msplit_special_tokens\u001b[49m\u001b[43m)\u001b[49m\u001b[43m,\u001b[49m\n\u001b[1;32m   3274\u001b[0m \u001b[43m    \u001b[49m\u001b[38;5;241;43m*\u001b[39;49m\u001b[38;5;241;43m*\u001b[39;49m\u001b[43mkwargs\u001b[49m\u001b[43m,\u001b[49m\n\u001b[1;32m   3275\u001b[0m \u001b[43m\u001b[49m\u001b[43m)\u001b[49m\n",
      "File \u001b[0;32m~/jupyterprojects/jupyter/lib/python3.8/site-packages/transformers/tokenization_utils.py:788\u001b[0m, in \u001b[0;36mPreTrainedTokenizer._encode_plus\u001b[0;34m(self, text, text_pair, add_special_tokens, padding_strategy, truncation_strategy, max_length, stride, is_split_into_words, pad_to_multiple_of, return_tensors, return_token_type_ids, return_attention_mask, return_overflowing_tokens, return_special_tokens_mask, return_offsets_mapping, return_length, verbose, **kwargs)\u001b[0m\n\u001b[1;32m    779\u001b[0m \u001b[38;5;28;01mif\u001b[39;00m return_offsets_mapping:\n\u001b[1;32m    780\u001b[0m     \u001b[38;5;28;01mraise\u001b[39;00m \u001b[38;5;167;01mNotImplementedError\u001b[39;00m(\n\u001b[1;32m    781\u001b[0m         \u001b[38;5;124m\"\u001b[39m\u001b[38;5;124mreturn_offset_mapping is not available when using Python tokenizers. \u001b[39m\u001b[38;5;124m\"\u001b[39m\n\u001b[1;32m    782\u001b[0m         \u001b[38;5;124m\"\u001b[39m\u001b[38;5;124mTo use this feature, change your tokenizer to one deriving from \u001b[39m\u001b[38;5;124m\"\u001b[39m\n\u001b[0;32m   (...)\u001b[0m\n\u001b[1;32m    785\u001b[0m         \u001b[38;5;124m\"\u001b[39m\u001b[38;5;124mhttps://github.com/huggingface/transformers/pull/2674\u001b[39m\u001b[38;5;124m\"\u001b[39m\n\u001b[1;32m    786\u001b[0m     )\n\u001b[0;32m--> 788\u001b[0m first_ids \u001b[38;5;241m=\u001b[39m \u001b[43mget_input_ids\u001b[49m\u001b[43m(\u001b[49m\u001b[43mtext\u001b[49m\u001b[43m)\u001b[49m\n\u001b[1;32m    789\u001b[0m second_ids \u001b[38;5;241m=\u001b[39m get_input_ids(text_pair) \u001b[38;5;28;01mif\u001b[39;00m text_pair \u001b[38;5;129;01mis\u001b[39;00m \u001b[38;5;129;01mnot\u001b[39;00m \u001b[38;5;28;01mNone\u001b[39;00m \u001b[38;5;28;01melse\u001b[39;00m \u001b[38;5;28;01mNone\u001b[39;00m\n\u001b[1;32m    791\u001b[0m \u001b[38;5;28;01mreturn\u001b[39;00m \u001b[38;5;28mself\u001b[39m\u001b[38;5;241m.\u001b[39mprepare_for_model(\n\u001b[1;32m    792\u001b[0m     first_ids,\n\u001b[1;32m    793\u001b[0m     pair_ids\u001b[38;5;241m=\u001b[39msecond_ids,\n\u001b[0;32m   (...)\u001b[0m\n\u001b[1;32m    807\u001b[0m     verbose\u001b[38;5;241m=\u001b[39mverbose,\n\u001b[1;32m    808\u001b[0m )\n",
      "File \u001b[0;32m~/jupyterprojects/jupyter/lib/python3.8/site-packages/transformers/tokenization_utils.py:755\u001b[0m, in \u001b[0;36mPreTrainedTokenizer._encode_plus.<locals>.get_input_ids\u001b[0;34m(text)\u001b[0m\n\u001b[1;32m    753\u001b[0m \u001b[38;5;28;01mdef\u001b[39;00m \u001b[38;5;21mget_input_ids\u001b[39m(text):\n\u001b[1;32m    754\u001b[0m     \u001b[38;5;28;01mif\u001b[39;00m \u001b[38;5;28misinstance\u001b[39m(text, \u001b[38;5;28mstr\u001b[39m):\n\u001b[0;32m--> 755\u001b[0m         tokens \u001b[38;5;241m=\u001b[39m \u001b[38;5;28;43mself\u001b[39;49m\u001b[38;5;241;43m.\u001b[39;49m\u001b[43mtokenize\u001b[49m\u001b[43m(\u001b[49m\u001b[43mtext\u001b[49m\u001b[43m,\u001b[49m\u001b[43m \u001b[49m\u001b[38;5;241;43m*\u001b[39;49m\u001b[38;5;241;43m*\u001b[39;49m\u001b[43mkwargs\u001b[49m\u001b[43m)\u001b[49m\n\u001b[1;32m    756\u001b[0m         \u001b[38;5;28;01mreturn\u001b[39;00m \u001b[38;5;28mself\u001b[39m\u001b[38;5;241m.\u001b[39mconvert_tokens_to_ids(tokens)\n\u001b[1;32m    757\u001b[0m     \u001b[38;5;28;01melif\u001b[39;00m \u001b[38;5;28misinstance\u001b[39m(text, (\u001b[38;5;28mlist\u001b[39m, \u001b[38;5;28mtuple\u001b[39m)) \u001b[38;5;129;01mand\u001b[39;00m \u001b[38;5;28mlen\u001b[39m(text) \u001b[38;5;241m>\u001b[39m \u001b[38;5;241m0\u001b[39m \u001b[38;5;129;01mand\u001b[39;00m \u001b[38;5;28misinstance\u001b[39m(text[\u001b[38;5;241m0\u001b[39m], \u001b[38;5;28mstr\u001b[39m):\n",
      "File \u001b[0;32m~/jupyterprojects/jupyter/lib/python3.8/site-packages/transformers/tokenization_utils.py:686\u001b[0m, in \u001b[0;36mPreTrainedTokenizer.tokenize\u001b[0;34m(self, text, **kwargs)\u001b[0m\n\u001b[1;32m    684\u001b[0m         tokenized_text\u001b[38;5;241m.\u001b[39mappend(token)\n\u001b[1;32m    685\u001b[0m     \u001b[38;5;28;01melse\u001b[39;00m:\n\u001b[0;32m--> 686\u001b[0m         tokenized_text\u001b[38;5;241m.\u001b[39mextend(\u001b[38;5;28;43mself\u001b[39;49m\u001b[38;5;241;43m.\u001b[39;49m\u001b[43m_tokenize\u001b[49m\u001b[43m(\u001b[49m\u001b[43mtoken\u001b[49m\u001b[43m)\u001b[49m)\n\u001b[1;32m    687\u001b[0m \u001b[38;5;66;03m# [\"This\", \" is\", \" something\", \"<special_token_1>\", \"else\"]\u001b[39;00m\n\u001b[1;32m    688\u001b[0m \u001b[38;5;28;01mreturn\u001b[39;00m tokenized_text\n",
      "File \u001b[0;32m~/jupyterprojects/jupyter/lib/python3.8/site-packages/transformers/models/bert/tokenization_bert.py:156\u001b[0m, in \u001b[0;36mBertTokenizer._tokenize\u001b[0;34m(self, text, split_special_tokens)\u001b[0m\n\u001b[1;32m    154\u001b[0m split_tokens \u001b[38;5;241m=\u001b[39m []\n\u001b[1;32m    155\u001b[0m \u001b[38;5;28;01mif\u001b[39;00m \u001b[38;5;28mself\u001b[39m\u001b[38;5;241m.\u001b[39mdo_basic_tokenize:\n\u001b[0;32m--> 156\u001b[0m     \u001b[38;5;28;01mfor\u001b[39;00m token \u001b[38;5;129;01min\u001b[39;00m \u001b[38;5;28;43mself\u001b[39;49m\u001b[38;5;241;43m.\u001b[39;49m\u001b[43mbasic_tokenizer\u001b[49m\u001b[38;5;241;43m.\u001b[39;49m\u001b[43mtokenize\u001b[49m\u001b[43m(\u001b[49m\n\u001b[1;32m    157\u001b[0m \u001b[43m        \u001b[49m\u001b[43mtext\u001b[49m\u001b[43m,\u001b[49m\u001b[43m \u001b[49m\u001b[43mnever_split\u001b[49m\u001b[38;5;241;43m=\u001b[39;49m\u001b[38;5;28;43mself\u001b[39;49m\u001b[38;5;241;43m.\u001b[39;49m\u001b[43mall_special_tokens\u001b[49m\u001b[43m \u001b[49m\u001b[38;5;28;43;01mif\u001b[39;49;00m\u001b[43m \u001b[49m\u001b[38;5;129;43;01mnot\u001b[39;49;00m\u001b[43m \u001b[49m\u001b[43msplit_special_tokens\u001b[49m\u001b[43m \u001b[49m\u001b[38;5;28;43;01melse\u001b[39;49;00m\u001b[43m \u001b[49m\u001b[38;5;28;43;01mNone\u001b[39;49;00m\n\u001b[1;32m    158\u001b[0m \u001b[43m    \u001b[49m\u001b[43m)\u001b[49m:\n\u001b[1;32m    159\u001b[0m         \u001b[38;5;66;03m# If the token is part of the never_split set\u001b[39;00m\n\u001b[1;32m    160\u001b[0m         \u001b[38;5;28;01mif\u001b[39;00m token \u001b[38;5;129;01min\u001b[39;00m \u001b[38;5;28mself\u001b[39m\u001b[38;5;241m.\u001b[39mbasic_tokenizer\u001b[38;5;241m.\u001b[39mnever_split:\n\u001b[1;32m    161\u001b[0m             split_tokens\u001b[38;5;241m.\u001b[39mappend(token)\n",
      "File \u001b[0;32m~/jupyterprojects/jupyter/lib/python3.8/site-packages/transformers/models/bert/tokenization_bert.py:351\u001b[0m, in \u001b[0;36mBasicTokenizer.tokenize\u001b[0;34m(self, text, never_split)\u001b[0m\n\u001b[1;32m    349\u001b[0m \u001b[38;5;28;01mif\u001b[39;00m token \u001b[38;5;129;01mnot\u001b[39;00m \u001b[38;5;129;01min\u001b[39;00m never_split:\n\u001b[1;32m    350\u001b[0m     \u001b[38;5;28;01mif\u001b[39;00m \u001b[38;5;28mself\u001b[39m\u001b[38;5;241m.\u001b[39mdo_lower_case:\n\u001b[0;32m--> 351\u001b[0m         token \u001b[38;5;241m=\u001b[39m \u001b[43mtoken\u001b[49m\u001b[38;5;241;43m.\u001b[39;49m\u001b[43mlower\u001b[49m\u001b[43m(\u001b[49m\u001b[43m)\u001b[49m\n\u001b[1;32m    352\u001b[0m         \u001b[38;5;28;01mif\u001b[39;00m \u001b[38;5;28mself\u001b[39m\u001b[38;5;241m.\u001b[39mstrip_accents \u001b[38;5;129;01mis\u001b[39;00m \u001b[38;5;129;01mnot\u001b[39;00m \u001b[38;5;28;01mFalse\u001b[39;00m:\n\u001b[1;32m    353\u001b[0m             token \u001b[38;5;241m=\u001b[39m \u001b[38;5;28mself\u001b[39m\u001b[38;5;241m.\u001b[39m_run_strip_accents(token)\n",
      "\u001b[0;31mKeyboardInterrupt\u001b[0m: "
     ]
    }
   ],
   "source": [
    "max_length = 64\n",
    "cv = 0\n",
    "dataset_cls = SatoCVTablewiseDataset\n",
    "train_dataset = dataset_cls(cv=cv,\n",
    "                            split=\"train\",\n",
    "                            tokenizer=tokenizer,\n",
    "                            max_length=max_length,\n",
    "                            multicol_only=False,\n",
    "                            train_ratio=1.0,\n",
    "                            device=device,\n",
    "                            small_tag=\"\",\n",
    "                            base_dirpath=os.path.join(args.data_path, \"doduo\", \"data\"), \n",
    "                            )\n",
    "valid_dataset = dataset_cls(cv=cv,\n",
    "                            split=\"valid\",\n",
    "                            tokenizer=tokenizer,\n",
    "                            max_length=max_length,\n",
    "                            multicol_only=False,\n",
    "                            train_ratio=1.0,\n",
    "                            device=device,\n",
    "                            small_tag=\"\",\n",
    "                            base_dirpath=os.path.join(args.data_path, \"doduo\", \"data\"))"
   ]
  },
  {
   "cell_type": "code",
   "execution_count": null,
   "metadata": {},
   "outputs": [],
   "source": []
  },
  {
   "cell_type": "code",
   "execution_count": 4,
   "metadata": {},
   "outputs": [
    {
     "name": "stdout",
     "output_type": "stream",
     "text": [
      "test 15736\n"
     ]
    }
   ],
   "source": [
    "test_dataset = dataset_cls(cv=cv,\n",
    "                            split=\"test\",\n",
    "                            tokenizer=tokenizer,\n",
    "                            max_length=max_length,\n",
    "                            multicol_only=False,\n",
    "                            train_ratio=1.0,\n",
    "                            device=device,\n",
    "                            small_tag=\"\",\n",
    "                            base_dirpath=os.path.join(args.data_path, \"doduo\", \"data\"))"
   ]
  },
  {
   "cell_type": "code",
   "execution_count": 6,
   "metadata": {},
   "outputs": [],
   "source": [
    "train_dataloader = DataLoader(train_dataset,\n",
    "                                batch_size=batch_size,\n",
    "                            #   collate_fn=collate_fn)\n",
    "                            collate_fn=padder)\n",
    "valid_dataloader = DataLoader(valid_dataset,\n",
    "                                batch_size=batch_size,\n",
    "                            #   collate_fn=collate_fn)\n",
    "                            collate_fn=padder)\n",
    "test_dataloader = DataLoader(test_dataset,\n",
    "                                batch_size=batch_size,\n",
    "                            #   collate_fn=collate_fn)\n",
    "                            collate_fn=padder)"
   ]
  },
  {
   "cell_type": "code",
   "execution_count": 35,
   "metadata": {},
   "outputs": [],
   "source": [
    "def extract_cls_tokens(hidden_states, cls_indexes, head=False):\n",
    "    cls_embeddings = []\n",
    "    for i, j in cls_indexes:\n",
    "        sub_sentence_cls_embeddings = hidden_states[i, 0, :] if head else hidden_states[i, j, :]\n",
    "        cls_embeddings.append(sub_sentence_cls_embeddings)\n",
    "    cls_embeddings = torch.stack(cls_embeddings)\n",
    "    return cls_embeddings\n",
    "#pooled_outputs = extract_cls_tokens(hidden_states, cls_indexes)"
   ]
  },
  {
   "cell_type": "code",
   "execution_count": 8,
   "metadata": {},
   "outputs": [],
   "source": [
    "model.eval()\n",
    "model = model.to(device)\n",
    "plm_embs_train = []\n",
    "labels_train = []\n",
    "for batch_idx, batch in enumerate(test_dataloader):\n",
    "    cls_indexes = torch.nonzero(\n",
    "                    batch[\"data\"].T == tokenizer.cls_token_id)\n",
    "    break"
   ]
  },
  {
   "cell_type": "code",
   "execution_count": 12,
   "metadata": {},
   "outputs": [],
   "source": [
    "batch_data = torch.cat([batch[\"data\"].T, torch.ones([16, 512]).long().to(device)], dim=1)"
   ]
  },
  {
   "cell_type": "code",
   "execution_count": 33,
   "metadata": {},
   "outputs": [],
   "source": [
    "model.eval()\n",
    "model = model.to(device)\n",
    "plm_embs_train = []\n",
    "labels_train = []\n",
    "for batch_idx, batch in enumerate(train_dataloader):\n",
    "    cls_indexes = torch.nonzero(\n",
    "                    batch[\"data\"].T == tokenizer.cls_token_id)\n",
    "    embs = model.bert(batch[\"data\"].T)\n",
    "    embs = extract_cls_tokens(embs[0], cls_indexes)\n",
    "    plm_embs_train.append(embs.detach().cpu())\n",
    "    labels_train.append(batch[\"label\"].cpu())\n",
    "plm_embs_train = torch.cat(plm_embs_train, dim=0)\n",
    "labels_train = torch.cat(labels_train, dim=0)"
   ]
  },
  {
   "cell_type": "code",
   "execution_count": 7,
   "metadata": {},
   "outputs": [],
   "source": [
    "from sklearn.metrics import silhouette_samples\n",
    "from sklearn.metrics import silhouette_score\n",
    "def silhouette_score_per_cluster(embeddings, labels, metric=\"cosine\"):\n",
    "    sample_silhouette_values = silhouette_samples(embeddings, labels, metric=metric)\n",
    "    unique_labels = np.unique(labels)\n",
    "    silhouette_per_cluster = []\n",
    "    for label in unique_labels:\n",
    "        cluster_silhouettes = sample_silhouette_values[labels == label]\n",
    "        silhouette_per_cluster.append(np.mean(cluster_silhouettes))\n",
    "    return np.array(silhouette_per_cluster).reshape(-1)"
   ]
  },
  {
   "cell_type": "code",
   "execution_count": 9,
   "metadata": {},
   "outputs": [],
   "source": [
    "plm_embs_train_silhouette_values = silhouette_samples(plm_embs_train, labels_train)"
   ]
  },
  {
   "cell_type": "code",
   "execution_count": 10,
   "metadata": {},
   "outputs": [
    {
     "data": {
      "text/plain": [
       "(76293,)"
      ]
     },
     "execution_count": 10,
     "metadata": {},
     "output_type": "execute_result"
    }
   ],
   "source": [
    "plm_embs_train_silhouette_values.shape"
   ]
  },
  {
   "cell_type": "code",
   "execution_count": 11,
   "metadata": {},
   "outputs": [
    {
     "data": {
      "text/plain": [
       "-0.2796932"
      ]
     },
     "execution_count": 11,
     "metadata": {},
     "output_type": "execute_result"
    }
   ],
   "source": [
    "np.mean(plm_embs_train_silhouette_values)"
   ]
  },
  {
   "cell_type": "code",
   "execution_count": 12,
   "metadata": {},
   "outputs": [
    {
     "data": {
      "text/plain": [
       "<Axes: ylabel='Count'>"
      ]
     },
     "execution_count": 12,
     "metadata": {},
     "output_type": "execute_result"
    },
    {
     "data": {
      "image/png": "[encoded data removed]",
      "text/plain": [
       "<Figure size 432x288 with 1 Axes>"
      ]
     },
     "metadata": {
      "needs_background": "light"
     },
     "output_type": "display_data"
    }
   ],
   "source": [
    "import seaborn as sns\n",
    "sns.histplot(plm_embs_train_silhouette_values)"
   ]
  },
  {
   "cell_type": "code",
   "execution_count": null,
   "metadata": {},
   "outputs": [],
   "source": [
    "import seaborn as sns\n",
    "import matplotlib.pyplot as plt\n",
    "\n",
    "# Assuming plm_embs_train_silhouette_values is your data\n",
    "sns.histplot(plm_embs_train_silhouette_values)\n",
    "\n",
    "# Add a red vertical line at x = 0\n",
    "plt.axvline(x=0, color='red', linestyle='--', linewidth=2)\n",
    "\n",
    "# Display the plot\n",
    "plt.show()\n"
   ]
  },
  {
   "cell_type": "code",
   "execution_count": 15,
   "metadata": {},
   "outputs": [],
   "source": [
    "unique_labels = np.unique(labels_train)\n",
    "silhouette_per_cluster = []\n",
    "for label in unique_labels:\n",
    "    cluster_silhouettes = plm_embs_train_silhouette_values[labels_train == label]\n",
    "    silhouette_per_cluster.append(np.mean(cluster_silhouettes))\n",
    "plm_embs_train_silhouette_per_cluster = np.array(silhouette_per_cluster).reshape(-1)"
   ]
  },
  {
   "cell_type": "code",
   "execution_count": 19,
   "metadata": {},
   "outputs": [
    {
     "data": {
      "text/plain": [
       "78"
      ]
     },
     "execution_count": 19,
     "metadata": {},
     "output_type": "execute_result"
    }
   ],
   "source": [
    "len(plm_embs_train_silhouette_per_cluster)"
   ]
  },
  {
   "cell_type": "code",
   "execution_count": 20,
   "metadata": {},
   "outputs": [
    {
     "data": {
      "text/plain": [
       "78"
      ]
     },
     "execution_count": 20,
     "metadata": {},
     "output_type": "execute_result"
    }
   ],
   "source": []
  },
  {
   "cell_type": "code",
   "execution_count": 36,
   "metadata": {},
   "outputs": [],
   "source": [
    "import json\n",
    "import numpy as np\n",
    "\n",
    "# Function to load confusion matrix from JSON file\n",
    "# with open(\"/data/zhihao/TU/doduo/eval/sato0_mosato_bert_bert-base-uncased-bs16-ml-32__sato0-1.00=sato0.json\", 'r') as f:\n",
    "#     results = json.load(f)\n",
    "with open(f\"/data/zhihao/TU/Watchog/outputs/sato0/bert-base-uncased-fromscratch-bs16-ml64-ne30-do0.1_eval.json\", 'r') as f:\n",
    "    results = json.load(f)\n",
    "\n",
    "# labels_train = np.array(results['train']['tr_true_list'])\n",
    "# preds_train = np.array(results['train']['tr_pred_list'])\n",
    "# class_f1_train = np.array(results['train']['tr_class_f1'])\n",
    "\n",
    "labels = np.array(results['f1_micro']['true_list'])\n",
    "preds = np.array(results['f1_micro']['pred_list'])\n",
    "class_f1 = np.array(results['f1_micro']['ts_class_f1'])"
   ]
  },
  {
   "cell_type": "code",
   "execution_count": 21,
   "metadata": {},
   "outputs": [
    {
     "data": {
      "text/plain": [
       "PearsonRResult(statistic=0.23853156990576638, pvalue=0.035456857437006634)"
      ]
     },
     "execution_count": 21,
     "metadata": {},
     "output_type": "execute_result"
    }
   ],
   "source": [
    "from scipy.stats import pearsonr\n",
    "pearsonr(plm_embs_train_silhouette_per_cluster, class_f1)"
   ]
  },
  {
   "cell_type": "code",
   "execution_count": 22,
   "metadata": {},
   "outputs": [
    {
     "name": "stderr",
     "output_type": "stream",
     "text": [
      "No artists with labels found to put in legend.  Note that artists whose label start with an underscore are ignored when legend() is called with no argument.\n"
     ]
    },
    {
     "data": {
      "image/png": "[encoded data removed]",
      "text/plain": [
       "<Figure size 576x432 with 1 Axes>"
      ]
     },
     "metadata": {},
     "output_type": "display_data"
    }
   ],
   "source": [
    "# Set the style of seaborn\n",
    "import seaborn as sns\n",
    "import matplotlib.pyplot as plt\n",
    "sns.set(style=\"whitegrid\")\n",
    "corr, p_value = pearsonr(plm_embs_train_silhouette_per_cluster , class_f1)\n",
    "# Create the scatter plot\n",
    "plt.figure(figsize=(8, 6))\n",
    "sns.scatterplot(x=plm_embs_train_silhouette_per_cluster, y=class_f1)\n",
    "\n",
    "# Add a line of best fit\n",
    "sns.regplot(x=plm_embs_train_silhouette_per_cluster, y=class_f1, scatter=False, color='red', line_kws={\"label\":f\"Pearson r={corr:.2f}\"})\n",
    "\n",
    "# Add labels and title\n",
    "plt.xlabel(\"Silhouette Score per Cluster (Context)\")\n",
    "plt.ylabel(\"Class F1 Score\")\n",
    "plt.title(\"Scatter Plot with Pearson Correlation\")\n",
    "\n",
    "plt.text(0.05, 0.95, f'Pearson r = {corr:.2f}\\nP-value = {p_value:.3f} (< 0.05)',\n",
    "         transform=plt.gca().transAxes,\n",
    "         fontsize=20,\n",
    "         verticalalignment='top')\n",
    "# Display the legend with Pearson correlation\n",
    "plt.legend()\n",
    "\n",
    "# Show the plot\n",
    "plt.show()"
   ]
  },
  {
   "cell_type": "code",
   "execution_count": 19,
   "metadata": {},
   "outputs": [
    {
     "name": "stderr",
     "output_type": "stream",
     "text": [
      "/tmp/ipykernel_662838/1121875279.py:1: FutureWarning: You are using `torch.load` with `weights_only=False` (the current default value), which uses the default pickle module implicitly. It is possible to construct malicious pickle data which will execute arbitrary code during unpickling (See https://github.com/pytorch/pytorch/blob/main/SECURITY.md#untrusted-models for more details). In a future release, the default value for `weights_only` will be flipped to `True`. This limits the functions that could be executed during unpickling. Arbitrary objects will no longer be allowed to be loaded via this mode unless they are explicitly allowlisted by the user via `torch.serialization.add_safe_globals`. We recommend you start setting `weights_only=True` for any use case where you don't have full control of the loaded file. Please open an issue on GitHub for any issues related to this experimental feature.\n",
      "  best_state_dict = torch.load(\"/data/zhihao/TU/Watchog/outputs/sato0/bert-base-uncased-fromscratch-bs16-ml64-ne30-do0.1_best_f1_micro.pt\", map_location=device)\n"
     ]
    },
    {
     "data": {
      "text/plain": [
       "_IncompatibleKeys(missing_keys=['pooler.dense_tab.weight', 'pooler.dense_tab.bias'], unexpected_keys=[])"
      ]
     },
     "execution_count": 19,
     "metadata": {},
     "output_type": "execute_result"
    }
   ],
   "source": [
    "best_state_dict = torch.load(\"/data/zhihao/TU/Watchog/outputs/sato0/bert-base-uncased-fromscratch-bs16-ml64-ne30-do0.1_best_f1_micro.pt\", map_location=device)\n",
    "model.load_state_dict(best_state_dict, strict=False)"
   ]
  },
  {
   "cell_type": "code",
   "execution_count": 35,
   "metadata": {},
   "outputs": [],
   "source": [
    "model.eval()\n",
    "model = model.to(device)\n",
    "ft_embs_train = []\n",
    "labels_train = []\n",
    "for batch_idx, batch in enumerate(train_dataloader):\n",
    "    cls_indexes = torch.nonzero(\n",
    "                    batch[\"data\"].T == tokenizer.cls_token_id)\n",
    "    embs = model.bert(batch[\"data\"].T)\n",
    "    embs = extract_cls_tokens(embs[0], cls_indexes)\n",
    "    ft_embs_train.append(embs.detach().cpu())\n",
    "    labels_train.append(batch[\"label\"].cpu())\n",
    "ft_embs_train = torch.cat(ft_embs_train, dim=0)\n",
    "labels_train = torch.cat(labels_train, dim=0)"
   ]
  },
  {
   "cell_type": "code",
   "execution_count": 36,
   "metadata": {},
   "outputs": [],
   "source": [
    "ft_embs_train_silhouette_values = silhouette_samples(ft_embs_train, labels_train)"
   ]
  },
  {
   "cell_type": "code",
   "execution_count": 37,
   "metadata": {},
   "outputs": [
    {
     "data": {
      "text/plain": [
       "0.73636717"
      ]
     },
     "execution_count": 37,
     "metadata": {},
     "output_type": "execute_result"
    }
   ],
   "source": [
    "np.mean(ft_embs_train_silhouette_values)"
   ]
  },
  {
   "cell_type": "code",
   "execution_count": 41,
   "metadata": {},
   "outputs": [],
   "source": [
    "unique_labels = np.unique(labels_train)\n",
    "silhouette_per_cluster = []\n",
    "for label in unique_labels:\n",
    "    cluster_silhouettes = ft_embs_train_silhouette_values[labels_train == label]\n",
    "    silhouette_per_cluster.append(np.mean(cluster_silhouettes))\n",
    "ft_embs_train_silhouette_per_cluster = np.array(silhouette_per_cluster).reshape(-1)"
   ]
  },
  {
   "cell_type": "code",
   "execution_count": null,
   "metadata": {},
   "outputs": [],
   "source": []
  },
  {
   "cell_type": "code",
   "execution_count": 42,
   "metadata": {},
   "outputs": [
    {
     "data": {
      "text/plain": [
       "PearsonRResult(statistic=0.6810263798796665, pvalue=6.842797273634585e-12)"
      ]
     },
     "execution_count": 42,
     "metadata": {},
     "output_type": "execute_result"
    }
   ],
   "source": [
    "from scipy.stats import pearsonr\n",
    "pearsonr(ft_embs_train_silhouette_per_cluster, class_f1)"
   ]
  },
  {
   "cell_type": "code",
   "execution_count": 43,
   "metadata": {},
   "outputs": [
    {
     "name": "stderr",
     "output_type": "stream",
     "text": [
      "No artists with labels found to put in legend.  Note that artists whose label start with an underscore are ignored when legend() is called with no argument.\n"
     ]
    },
    {
     "data": {
      "image/png": "[encoded data removed]",
      "text/plain": [
       "<Figure size 576x432 with 1 Axes>"
      ]
     },
     "metadata": {},
     "output_type": "display_data"
    }
   ],
   "source": [
    "# Set the style of seaborn\n",
    "import seaborn as sns\n",
    "import matplotlib.pyplot as plt\n",
    "sns.set(style=\"whitegrid\")\n",
    "corr, p_value = pearsonr(ft_embs_train_silhouette_per_cluster, class_f1)\n",
    "# Create the scatter plot\n",
    "plt.figure(figsize=(8, 6))\n",
    "sns.scatterplot(x=ft_embs_train_silhouette_per_cluster, y=class_f1)\n",
    "\n",
    "# Add a line of best fit\n",
    "sns.regplot(x=ft_embs_train_silhouette_per_cluster, y=class_f1, scatter=False, color='red', line_kws={\"label\":f\"Pearson r={corr:.2f}\"})\n",
    "\n",
    "# Add labels and title\n",
    "plt.xlabel(\"Silhouette Score per Cluster (Context)\")\n",
    "plt.ylabel(\"Class F1 Score\")\n",
    "plt.title(\"Scatter Plot with Pearson Correlation\")\n",
    "\n",
    "plt.text(0.05, 0.95, f'Pearson r = {corr:.2f}\\nP-value = {p_value:.3f} (< 0.05)',\n",
    "         transform=plt.gca().transAxes,\n",
    "         fontsize=20,\n",
    "         verticalalignment='top')\n",
    "# Display the legend with Pearson correlation\n",
    "plt.legend()\n",
    "\n",
    "# Show the plot\n",
    "plt.show()"
   ]
  },
  {
   "cell_type": "code",
   "execution_count": 38,
   "metadata": {},
   "outputs": [
    {
     "name": "stderr",
     "output_type": "stream",
     "text": [
      "We strongly recommend passing in an `attention_mask` since your input_ids may be padded. See https://huggingface.co/docs/transformers/troubleshooting#incorrect-output-when-padding-tokens-arent-masked.\n"
     ]
    }
   ],
   "source": [
    "model.eval()\n",
    "model = model.to(device)\n",
    "ft_embs_test = []\n",
    "labels_test = []\n",
    "logits_test = []\n",
    "for batch_idx, batch in enumerate(test_dataloader):\n",
    "    cls_indexes = torch.nonzero(\n",
    "                    batch[\"data\"].T == tokenizer.cls_token_id)\n",
    "    embs = model.bert(batch[\"data\"].T)\n",
    "    logits = model(batch[\"data\"].T, cls_indexes=cls_indexes,)\n",
    "    embs = extract_cls_tokens(embs[0], cls_indexes)\n",
    "    ft_embs_test.append(embs.detach().cpu())\n",
    "    labels_test.append(batch[\"label\"].cpu())\n",
    "    logits_test.append(logits.detach().cpu())\n",
    "ft_embs_test = torch.cat(ft_embs_test, dim=0)\n",
    "labels_test = torch.cat(labels_test, dim=0)\n",
    "logits_test = torch.cat(logits_test, dim=0)\n",
    "preds_test = torch.argmax(logits_test, dim=1)"
   ]
  },
  {
   "cell_type": "code",
   "execution_count": 74,
   "metadata": {},
   "outputs": [
    {
     "data": {
      "text/plain": [
       "torch.Size([23820, 78])"
      ]
     },
     "execution_count": 74,
     "metadata": {},
     "output_type": "execute_result"
    }
   ],
   "source": [
    "logits_test.shape"
   ]
  },
  {
   "cell_type": "code",
   "execution_count": 40,
   "metadata": {},
   "outputs": [],
   "source": [
    "ts_pred_list = logits_test.argmax(\n",
    "                            1).cpu().detach().numpy().tolist()"
   ]
  },
  {
   "cell_type": "code",
   "execution_count": 41,
   "metadata": {},
   "outputs": [
    {
     "data": {
      "text/plain": [
       "23820"
      ]
     },
     "execution_count": 41,
     "metadata": {},
     "output_type": "execute_result"
    }
   ],
   "source": [
    "len(ts_pred_list)"
   ]
  },
  {
   "cell_type": "code",
   "execution_count": 42,
   "metadata": {},
   "outputs": [
    {
     "name": "stdout",
     "output_type": "stream",
     "text": [
      "ts_micro_f1=0.9438, ts_macro_f1=0.8449\n"
     ]
    }
   ],
   "source": [
    "from sklearn.metrics import confusion_matrix, f1_score\n",
    "ts_micro_f1 = f1_score(labels_test.reshape(-1).numpy().tolist(),\n",
    "                    ts_pred_list,\n",
    "                    average=\"micro\")\n",
    "ts_macro_f1 = f1_score(labels_test.reshape(-1).numpy().tolist(),\n",
    "                    ts_pred_list,\n",
    "                    average=\"macro\")\n",
    "print(\"ts_micro_f1={:.4f}, ts_macro_f1={:.4f}\".format(ts_micro_f1, ts_macro_f1))"
   ]
  },
  {
   "cell_type": "code",
   "execution_count": 45,
   "metadata": {},
   "outputs": [
    {
     "data": {
      "text/plain": [
       "(23820,)"
      ]
     },
     "execution_count": 45,
     "metadata": {},
     "output_type": "execute_result"
    }
   ],
   "source": [
    "labels.shape"
   ]
  },
  {
   "cell_type": "code",
   "execution_count": 49,
   "metadata": {},
   "outputs": [
    {
     "data": {
      "text/plain": [
       "True"
      ]
     },
     "execution_count": 49,
     "metadata": {},
     "output_type": "execute_result"
    }
   ],
   "source": [
    "torch.equal(torch.tensor(labels), labels_test)"
   ]
  },
  {
   "cell_type": "code",
   "execution_count": null,
   "metadata": {},
   "outputs": [],
   "source": []
  },
  {
   "cell_type": "code",
   "execution_count": 50,
   "metadata": {},
   "outputs": [],
   "source": [
    "ft_embs_test_silhouette_values = silhouette_samples(torch.cat([ft_embs_test, ft_embs_train]), torch.cat([labels_test, labels_train]))[: len(labels_test)]"
   ]
  },
  {
   "cell_type": "code",
   "execution_count": 51,
   "metadata": {},
   "outputs": [
    {
     "data": {
      "text/plain": [
       "0.64787555"
      ]
     },
     "execution_count": 51,
     "metadata": {},
     "output_type": "execute_result"
    }
   ],
   "source": [
    "np.mean(ft_embs_test_silhouette_values)"
   ]
  },
  {
   "cell_type": "code",
   "execution_count": 53,
   "metadata": {},
   "outputs": [],
   "source": [
    "unique_labels = np.unique(labels_train)\n",
    "silhouette_per_cluster = []\n",
    "for label in unique_labels:\n",
    "    cluster_silhouettes = ft_embs_test_silhouette_values[labels_test == label]\n",
    "    silhouette_per_cluster.append(np.mean(cluster_silhouettes))\n",
    "ft_embs_test_silhouette_per_cluster = np.array(silhouette_per_cluster).reshape(-1)"
   ]
  },
  {
   "cell_type": "code",
   "execution_count": 54,
   "metadata": {},
   "outputs": [
    {
     "data": {
      "text/plain": [
       "PearsonRResult(statistic=0.9087757099193224, pvalue=1.4235298079845303e-30)"
      ]
     },
     "execution_count": 54,
     "metadata": {},
     "output_type": "execute_result"
    }
   ],
   "source": [
    "from scipy.stats import pearsonr\n",
    "pearsonr(ft_embs_test_silhouette_per_cluster, class_f1)"
   ]
  },
  {
   "cell_type": "code",
   "execution_count": 55,
   "metadata": {},
   "outputs": [
    {
     "name": "stderr",
     "output_type": "stream",
     "text": [
      "No artists with labels found to put in legend.  Note that artists whose label start with an underscore are ignored when legend() is called with no argument.\n"
     ]
    },
    {
     "data": {
      "image/png": "[encoded data removed]",
      "text/plain": [
       "<Figure size 576x432 with 1 Axes>"
      ]
     },
     "metadata": {},
     "output_type": "display_data"
    }
   ],
   "source": [
    "# Set the style of seaborn\n",
    "import seaborn as sns\n",
    "import matplotlib.pyplot as plt\n",
    "sns.set(style=\"whitegrid\")\n",
    "corr, p_value = pearsonr(ft_embs_test_silhouette_per_cluster, class_f1)\n",
    "# Create the scatter plot\n",
    "plt.figure(figsize=(8, 6))\n",
    "sns.scatterplot(x=ft_embs_test_silhouette_per_cluster, y=class_f1)\n",
    "\n",
    "# Add a line of best fit\n",
    "sns.regplot(x=ft_embs_test_silhouette_per_cluster, y=class_f1, scatter=False, color='red', line_kws={\"label\":f\"Pearson r={corr:.2f}\"})\n",
    "\n",
    "# Add labels and title\n",
    "plt.xlabel(\"Silhouette Score per Cluster (Context)\")\n",
    "plt.ylabel(\"Class F1 Score\")\n",
    "plt.title(\"Scatter Plot with Pearson Correlation\")\n",
    "\n",
    "plt.text(0.05, 0.95, f'Pearson r = {corr:.2f}\\nP-value = {p_value:.3f} (< 0.05)',\n",
    "         transform=plt.gca().transAxes,\n",
    "         fontsize=20,\n",
    "         verticalalignment='top')\n",
    "# Display the legend with Pearson correlation\n",
    "plt.legend()\n",
    "\n",
    "# Show the plot\n",
    "plt.show()"
   ]
  },
  {
   "cell_type": "code",
   "execution_count": 56,
   "metadata": {},
   "outputs": [
    {
     "data": {
      "text/plain": [
       "<Axes: ylabel='Count'>"
      ]
     },
     "execution_count": 56,
     "metadata": {},
     "output_type": "execute_result"
    },
    {
     "data": {
      "image/png": "[encoded data removed]",
      "text/plain": [
       "<Figure size 432x288 with 1 Axes>"
      ]
     },
     "metadata": {},
     "output_type": "display_data"
    }
   ],
   "source": [
    "sns.histplot(ft_embs_test_silhouette_values)"
   ]
  },
  {
   "cell_type": "code",
   "execution_count": 60,
   "metadata": {},
   "outputs": [
    {
     "data": {
      "text/plain": [
       "0.9437867338371116"
      ]
     },
     "execution_count": 60,
     "metadata": {},
     "output_type": "execute_result"
    }
   ],
   "source": [
    "(preds == labels).sum()/len(labels)"
   ]
  },
  {
   "cell_type": "code",
   "execution_count": 61,
   "metadata": {},
   "outputs": [
    {
     "data": {
      "text/plain": [
       "0.05860621326616289"
      ]
     },
     "execution_count": 61,
     "metadata": {},
     "output_type": "execute_result"
    }
   ],
   "source": [
    "(ft_embs_test_silhouette_values<0).sum()/len(ft_embs_test_silhouette_values)"
   ]
  },
  {
   "cell_type": "code",
   "execution_count": 63,
   "metadata": {},
   "outputs": [
    {
     "data": {
      "text/plain": [
       "0.9716206123973115"
      ]
     },
     "execution_count": 63,
     "metadata": {},
     "output_type": "execute_result"
    }
   ],
   "source": [
    "((preds != labels) & (ft_embs_test_silhouette_values<0)).sum()/(preds != labels).sum()"
   ]
  },
  {
   "cell_type": "code",
   "execution_count": 66,
   "metadata": {},
   "outputs": [
    {
     "data": {
      "text/plain": [
       "dict_keys(['ts_micro_f1', 'ts_macro_f1', 'ts_class_f1', 'ts_conf_mat', 'true_list', 'pred_list'])"
      ]
     },
     "execution_count": 66,
     "metadata": {},
     "output_type": "execute_result"
    }
   ],
   "source": [
    "results['f1_micro'].keys()"
   ]
  },
  {
   "cell_type": "code",
   "execution_count": null,
   "metadata": {},
   "outputs": [],
   "source": []
  },
  {
   "cell_type": "code",
   "execution_count": null,
   "metadata": {},
   "outputs": [],
   "source": [
    "ft_embs_test_silhouette_values"
   ]
  },
  {
   "cell_type": "code",
   "execution_count": 82,
   "metadata": {},
   "outputs": [
    {
     "data": {
      "text/plain": [
       "torch.return_types.max(\n",
       "values=tensor([13.3896, 15.4858, 15.0345,  ..., 10.3825, 10.3825, 15.4302]),\n",
       "indices=tensor([22, 46, 46,  ..., 60, 60, 46]))"
      ]
     },
     "execution_count": 82,
     "metadata": {},
     "output_type": "execute_result"
    }
   ],
   "source": [
    "logits_test.max(1)"
   ]
  },
  {
   "cell_type": "code",
   "execution_count": 43,
   "metadata": {},
   "outputs": [],
   "source": [
    "import torch.nn.functional as F\n",
    "logits_test = F.softmax(logits_test, dim=1)"
   ]
  },
  {
   "cell_type": "code",
   "execution_count": 44,
   "metadata": {},
   "outputs": [
    {
     "name": "stderr",
     "output_type": "stream",
     "text": [
      "/tmp/ipykernel_4031802/3964349418.py:2: UserWarning: To copy construct from a tensor, it is recommended to use sourceTensor.clone().detach() or sourceTensor.clone().detach().requires_grad_(True), rather than torch.tensor(sourceTensor).\n",
      "  ood_labels = torch.tensor(preds_test == labels).float()\n"
     ]
    }
   ],
   "source": [
    "ood_score = logits_test.max(1).values\n",
    "ood_labels = torch.tensor(preds_test == labels).float()"
   ]
  },
  {
   "cell_type": "code",
   "execution_count": 45,
   "metadata": {},
   "outputs": [
    {
     "data": {
      "text/plain": [
       "0.8936139883321601"
      ]
     },
     "execution_count": 45,
     "metadata": {},
     "output_type": "execute_result"
    }
   ],
   "source": [
    "from sklearn.metrics import roc_auc_score\n",
    "\n",
    "roc_auc_score(ood_labels, ood_score)"
   ]
  },
  {
   "cell_type": "code",
   "execution_count": 93,
   "metadata": {},
   "outputs": [
    {
     "data": {
      "text/plain": [
       "torch.return_types.sort(\n",
       "values=tensor([0.1415, 0.2014, 0.2104,  ..., 1.0000, 1.0000, 1.0000]),\n",
       "indices=tensor([17080,  2397, 19343,  ..., 11118,  8912, 15166]))"
      ]
     },
     "execution_count": 93,
     "metadata": {},
     "output_type": "execute_result"
    }
   ],
   "source": [
    "ood_score.sort()"
   ]
  },
  {
   "cell_type": "code",
   "execution_count": 95,
   "metadata": {},
   "outputs": [
    {
     "data": {
      "text/plain": [
       "tensor([0., 1., 0., 0., 0., 0., 0., 0., 0., 0., 0., 0., 0., 0., 0., 0., 0., 1.,\n",
       "        0., 0., 0., 0., 0., 0., 0., 0., 0., 0., 0., 0., 0., 0., 0., 0., 0., 0.,\n",
       "        1., 1., 1., 1., 0., 0., 0., 0., 1., 0., 0., 0., 0., 0., 0., 0., 0., 0.,\n",
       "        0., 0., 1., 1., 0., 0., 0., 1., 1., 0., 1., 0., 0., 0., 0., 0., 0., 1.,\n",
       "        0., 0., 0., 0., 0., 0., 0., 0., 0., 0., 0., 0., 0., 0., 0., 1., 0., 0.,\n",
       "        0., 1., 0., 0., 0., 1., 0., 0., 0., 0.])"
      ]
     },
     "execution_count": 95,
     "metadata": {},
     "output_type": "execute_result"
    }
   ],
   "source": [
    "ood_labels[ood_score.sort()[1]][:100]"
   ]
  },
  {
   "cell_type": "code",
   "execution_count": 100,
   "metadata": {},
   "outputs": [
    {
     "data": {
      "text/plain": [
       "True"
      ]
     },
     "execution_count": 100,
     "metadata": {},
     "output_type": "execute_result"
    }
   ],
   "source": [
    "0 in ood_labels[ood_score > 0.99]"
   ]
  },
  {
   "cell_type": "code",
   "execution_count": 103,
   "metadata": {},
   "outputs": [
    {
     "data": {
      "text/plain": [
       "<Axes: ylabel='Count'>"
      ]
     },
     "execution_count": 103,
     "metadata": {},
     "output_type": "execute_result"
    },
    {
     "data": {
      "image/png": "[encoded data removed]",
      "text/plain": [
       "<Figure size 432x288 with 1 Axes>"
      ]
     },
     "metadata": {},
     "output_type": "display_data"
    }
   ],
   "source": [
    "sns.histplot(ood_score[ood_labels==0])"
   ]
  },
  {
   "cell_type": "code",
   "execution_count": 11,
   "metadata": {},
   "outputs": [
    {
     "data": {
      "text/plain": [
       "<Axes: ylabel='Count'>"
      ]
     },
     "execution_count": 11,
     "metadata": {},
     "output_type": "execute_result"
    },
    {
     "data": {
      "image/png": "[encoded data removed]",
      "text/plain": [
       "<Figure size 432x288 with 1 Axes>"
      ]
     },
     "metadata": {
      "needs_background": "light"
     },
     "output_type": "display_data"
    }
   ],
   "source": [
    "sns.histplot(ood_score[ood_labels==0][ood_score[ood_labels==0]>0.99])"
   ]
  },
  {
   "cell_type": "code",
   "execution_count": 13,
   "metadata": {},
   "outputs": [
    {
     "data": {
      "text/plain": [
       "<Axes: ylabel='Count'>"
      ]
     },
     "execution_count": 13,
     "metadata": {},
     "output_type": "execute_result"
    },
    {
     "data": {
      "image/png": "[encoded data removed]",
      "text/plain": [
       "<Figure size 432x288 with 1 Axes>"
      ]
     },
     "metadata": {
      "needs_background": "light"
     },
     "output_type": "display_data"
    }
   ],
   "source": [
    "import seaborn as sns\n",
    "# Generate random permutation of indices\n",
    "indices = torch.randperm(ood_score[ood_labels==1].shape[0])\n",
    "\n",
    "# Select the first 2000 indices\n",
    "selected_indices = indices[:100]\n",
    "sns.histplot(ood_score[ood_labels==1][selected_indices])"
   ]
  },
  {
   "cell_type": "code",
   "execution_count": 14,
   "metadata": {},
   "outputs": [
    {
     "data": {
      "text/plain": [
       "tensor([1.0000, 1.0000, 1.0000, 1.0000, 1.0000, 1.0000, 0.9998, 0.9999, 1.0000,\n",
       "        1.0000, 1.0000, 0.9998, 1.0000, 1.0000, 1.0000, 0.9999, 1.0000, 1.0000,\n",
       "        0.9999, 1.0000, 0.9998, 1.0000, 0.9999, 0.9999, 1.0000, 1.0000, 0.9999,\n",
       "        0.9999, 1.0000, 0.9504, 1.0000, 0.9988, 0.5331, 1.0000, 0.9998, 1.0000,\n",
       "        1.0000, 1.0000, 1.0000, 1.0000, 0.9999, 1.0000, 1.0000, 0.9019, 1.0000,\n",
       "        1.0000, 1.0000, 0.9998, 1.0000, 0.9999, 1.0000, 0.9999, 0.9998, 0.9999,\n",
       "        1.0000, 1.0000, 1.0000, 0.9993, 1.0000, 1.0000, 1.0000, 1.0000, 1.0000,\n",
       "        1.0000, 1.0000, 0.9999, 1.0000, 1.0000, 1.0000, 1.0000, 1.0000, 1.0000,\n",
       "        1.0000, 1.0000, 1.0000, 1.0000, 0.9998, 1.0000, 1.0000, 1.0000, 1.0000,\n",
       "        1.0000, 1.0000, 0.9998, 0.9999, 1.0000, 1.0000, 1.0000, 1.0000, 1.0000,\n",
       "        1.0000, 0.9948, 1.0000, 1.0000, 1.0000, 1.0000, 0.9997, 0.9995, 1.0000,\n",
       "        1.0000])"
      ]
     },
     "execution_count": 14,
     "metadata": {},
     "output_type": "execute_result"
    }
   ],
   "source": [
    "ood_score[ood_labels==1][selected_indices]"
   ]
  },
  {
   "cell_type": "code",
   "execution_count": 7,
   "metadata": {},
   "outputs": [
    {
     "data": {
      "text/plain": [
       "tensor(0.5034)"
      ]
     },
     "execution_count": 7,
     "metadata": {},
     "output_type": "execute_result"
    }
   ],
   "source": [
    "(ood_score[ood_labels==0] < 0.99).sum()/len(ood_score[ood_labels==0])"
   ]
  },
  {
   "cell_type": "code",
   "execution_count": 8,
   "metadata": {},
   "outputs": [
    {
     "data": {
      "text/plain": [
       "tensor(0.0250)"
      ]
     },
     "execution_count": 8,
     "metadata": {},
     "output_type": "execute_result"
    }
   ],
   "source": [
    "(ood_score[ood_labels==1] < 0.99).sum()/len(ood_score[ood_labels==1])"
   ]
  },
  {
   "cell_type": "code",
   "execution_count": 18,
   "metadata": {},
   "outputs": [
    {
     "data": {
      "text/plain": [
       "tensor(0.8275)"
      ]
     },
     "execution_count": 18,
     "metadata": {},
     "output_type": "execute_result"
    }
   ],
   "source": [
    "(ood_score[ood_labels==0] < 0.9999).sum()/len(ood_score[ood_labels==0])"
   ]
  },
  {
   "cell_type": "code",
   "execution_count": 17,
   "metadata": {},
   "outputs": [
    {
     "data": {
      "text/plain": [
       "tensor(0.1950)"
      ]
     },
     "execution_count": 17,
     "metadata": {},
     "output_type": "execute_result"
    }
   ],
   "source": [
    "(ood_score[ood_labels==1] < 0.9999).sum()/len(ood_score[ood_labels==1])"
   ]
  },
  {
   "cell_type": "code",
   "execution_count": 105,
   "metadata": {},
   "outputs": [
    {
     "data": {
      "text/plain": [
       "1339"
      ]
     },
     "execution_count": 105,
     "metadata": {},
     "output_type": "execute_result"
    }
   ],
   "source": [
    "len(ood_score[ood_labels==0])"
   ]
  },
  {
   "cell_type": "code",
   "execution_count": 108,
   "metadata": {},
   "outputs": [
    {
     "data": {
      "text/plain": [
       "2000"
      ]
     },
     "execution_count": 108,
     "metadata": {},
     "output_type": "execute_result"
    }
   ],
   "source": [
    "len(ood_score[ood_labels==1][selected_indices])"
   ]
  },
  {
   "cell_type": "code",
   "execution_count": 4,
   "metadata": {},
   "outputs": [
    {
     "data": {
      "text/plain": [
       "<Axes: ylabel='Count'>"
      ]
     },
     "execution_count": 4,
     "metadata": {},
     "output_type": "execute_result"
    },
    {
     "data": {
      "image/png": "[encoded data removed]",
      "text/plain": [
       "<Figure size 432x288 with 1 Axes>"
      ]
     },
     "metadata": {
      "needs_background": "light"
     },
     "output_type": "display_data"
    }
   ],
   "source": [
    "import seaborn as sns\n",
    "# Generate random permutation of indices\n",
    "indices = torch.randperm(ood_score[ood_labels==1].shape[0])\n",
    "\n",
    "# Select the first 2000 indices\n",
    "selected_indices = indices[:500]\n",
    "sns.histplot(ood_score[ood_labels==1][selected_indices])"
   ]
  },
  {
   "cell_type": "code",
   "execution_count": 1,
   "metadata": {},
   "outputs": [],
   "source": [
    "import torch"
   ]
  },
  {
   "cell_type": "code",
   "execution_count": 3,
   "metadata": {},
   "outputs": [],
   "source": [
    "from argparse import Namespace\n",
    "import torch\n",
    "import random\n",
    "import pandas as pd\n",
    "import numpy as np\n",
    "import os\n",
    "import pickle\n",
    "import json\n",
    "import re\n",
    "import transformers\n",
    "from torch.utils import data\n",
    "from torch.nn.utils import rnn\n",
    "from transformers import AutoTokenizer\n",
    "from typing import List\n",
    "from functools import reduce\n",
    "import operator\n",
    "from itertools import chain\n",
    "import copy\n",
    "class SatoCVTablewiseIterateDataset(data.Dataset):\n",
    "    \"\"\"Table dataset for finetuning and evaluating semantic type detection on the SATO dataset\"\"\"\n",
    "\n",
    "    def __init__(\n",
    "            self,\n",
    "            cv: int,\n",
    "            split: str,  # train or test\n",
    "            tokenizer: AutoTokenizer,\n",
    "            max_length: int = 256,\n",
    "            multicol_only: bool = False,\n",
    "            train_ratio: float = 1.0,\n",
    "            device: torch.device = None,\n",
    "            base_dirpath: str = \"./data/doduo\",\n",
    "            small_tag: str = \"\",\n",
    "            ):\n",
    "        if device is None:\n",
    "            device = torch.device('cpu')\n",
    "\n",
    "        assert split in [\"train\", \"valid\",\n",
    "                         \"test\"], \"split must be train or test\"\n",
    "        if small_tag != '':\n",
    "            if split in [\"train\", \"valid\"]:\n",
    "                base_dirpath = \"./data/doduo_small\"\n",
    "                if split not in small_tag:\n",
    "                    small_tag += '_' + split\n",
    "        if multicol_only:\n",
    "            basename = \"msato_cv_{}.csv\"\n",
    "        else:\n",
    "            basename = \"sato_cv_{}.csv\"\n",
    "\n",
    "        if split in [\"train\", \"valid\"]:\n",
    "            if small_tag == \"\":\n",
    "                df_list = []\n",
    "                for i in range(5):\n",
    "                    if i == cv:\n",
    "                        continue\n",
    "                    filepath = os.path.join(base_dirpath, basename.format(i))\n",
    "                    df_list.append(pd.read_csv(filepath))\n",
    "                df = pd.concat(df_list, axis=0)\n",
    "            else:\n",
    "                filepath = os.path.join(base_dirpath, basename.format(str(cv) + '_' + small_tag))\n",
    "                df = pd.read_csv(filepath)\n",
    "        else:\n",
    "            # test\n",
    "            filepath = os.path.join(base_dirpath, basename.format(cv))\n",
    "            df = pd.read_csv(filepath)\n",
    "        self.df = df\n",
    "        num_tables = len(df.groupby(\"table_id\"))\n",
    "        valid_index = int(num_tables * 0.8)\n",
    "        num_train = int(train_ratio * num_tables * 0.8)\n",
    "        \n",
    "        data_list = []\n",
    "        for i, (index, group_df) in enumerate(df.groupby(\"table_id\")):\n",
    "            if small_tag == \"\":\n",
    "                if (split == \"train\") and ((i >= num_train) or (i >= valid_index)):\n",
    "                    break\n",
    "                if split == \"valid\" and i < valid_index:\n",
    "                    continue\n",
    "            if max_length <= 128:\n",
    "                cur_maxlen = min(max_length, 512 // len(list(group_df[\"class_id\"].values)) - 1)\n",
    "            else:\n",
    "                cur_maxlen = max(1, max_length // len(list(group_df[\"class_id\"].values)) - 1)\n",
    "            token_ids_list = group_df[\"data\"].apply(lambda x: tokenizer.encode(\n",
    "                tokenizer.cls_token + \" \" + x, add_special_tokens=False, max_length=cur_maxlen, truncation=True)).tolist(\n",
    "                )\n",
    "            token_ids = torch.LongTensor(reduce(operator.add,\n",
    "                                                token_ids_list)).to(device)\n",
    "            for col_i in range(len(token_ids_list)):\n",
    "                target_col_mask = []\n",
    "                cls_index_value = 0\n",
    "                context_id = 1\n",
    "                for col_j in range(len(token_ids_list)):\n",
    "                    if col_j == col_i:\n",
    "                        target_col_mask += [0] * len(token_ids_list[col_j])\n",
    "                    else:\n",
    "                        target_col_mask += [context_id] * len(token_ids_list[col_j])\n",
    "                        context_id += 1\n",
    "                    if col_j < col_i:\n",
    "                        cls_index_value += len(token_ids_list[col_j])\n",
    "                cls_index_list = [cls_index_value] \n",
    "                for cls_index in cls_index_list:\n",
    "                    assert token_ids[\n",
    "                        cls_index] == tokenizer.cls_token_id, \"cls_indexes validation\"\n",
    "                cls_indexes = torch.LongTensor(cls_index_list).to(device)\n",
    "                class_ids = torch.LongTensor(\n",
    "                    [group_df[\"class_id\"].values[col_i]]).to(device)\n",
    "                target_col_mask = torch.LongTensor(target_col_mask).to(device)\n",
    "                data_list.append(\n",
    "                    [index,\n",
    "                    len(group_df), token_ids, class_ids, cls_indexes, target_col_mask])\n",
    "        print(split, len(data_list))\n",
    "        self.table_df = pd.DataFrame(data_list,\n",
    "                                     columns=[\n",
    "                                         \"table_id\", \"num_col\", \"data_tensor\",\n",
    "                                         \"label_tensor\", \"cls_indexes\", \"target_col_mask\"\n",
    "                                     ])\n",
    "        \"\"\"\n",
    "        # NOTE: msato contains a small portion of single-col tables. keep it to be consistent.  \n",
    "        if multicol_only:\n",
    "            # Check\n",
    "            num_all_tables = len(self.table_df)\n",
    "            self.table_df = self.table_df[self.table_df[\"num_col\"] > 1]\n",
    "            assert len(self.table_df) == num_all_tables\n",
    "        \"\"\"\n",
    "\n",
    "    def __len__(self):\n",
    "        return len(self.table_df)\n",
    "\n",
    "    def __getitem__(self, idx):\n",
    "        return {\n",
    "            \"data\": self.table_df.iloc[idx][\"data_tensor\"],\n",
    "            \"label\": self.table_df.iloc[idx][\"label_tensor\"],\n",
    "            \"cls_indexes\": self.table_df.iloc[idx][\"cls_indexes\"],\n",
    "            \"target_col_mask\": self.table_df.iloc[idx][\"target_col_mask\"],\n",
    "        }\n",
    "        #\"idx\": torch.LongTensor([idx])}\n",
    "        #\"cls_indexes\": self.table_df.iloc[idx][\"cls_indexes\"]}"
   ]
  },
  {
   "cell_type": "code",
   "execution_count": 4,
   "metadata": {},
   "outputs": [],
   "source": [
    "def collate_fn(pad_token_id, data_only=True):\n",
    "    '''padder for input batch'''\n",
    "\n",
    "    def padder(samples):    \n",
    "        data = torch.nn.utils.rnn.pad_sequence(\n",
    "            [sample[\"data\"] for sample in samples], padding_value=pad_token_id)\n",
    "        if not data_only:\n",
    "            label = torch.nn.utils.rnn.pad_sequence(\n",
    "                [sample[\"label\"] for sample in samples], padding_value=-1)\n",
    "        else:\n",
    "            label = torch.cat([sample[\"label\"] for sample in samples])\n",
    "        batch = {\"data\": data, \"label\": label}\n",
    "        if \"idx\" in samples[0]:\n",
    "            batch[\"idx\"] = [sample[\"idx\"] for sample in samples]\n",
    "        if \"cls_indexes\" in samples[0]:\n",
    "            cls_indexes = torch.nn.utils.rnn.pad_sequence(\n",
    "                [sample[\"cls_indexes\"] for sample in samples], padding_value=0)\n",
    "            batch[\"cls_indexes\"] = cls_indexes\n",
    "        if \"target_col_mask\" in samples[0]:\n",
    "            target_col_mask = torch.nn.utils.rnn.pad_sequence(\n",
    "                [sample[\"target_col_mask\"] for sample in samples], padding_value=-1)\n",
    "            batch[\"target_col_mask\"] = target_col_mask\n",
    "        if \"table_embedding\" in samples[0]:\n",
    "            table_embeddings = [sample[\"table_embedding\"] for sample in samples]\n",
    "            batch[\"table_embedding\"] = torch.stack(table_embeddings, dim=0)\n",
    "        return batch\n",
    "        \n",
    "    return padder"
   ]
  },
  {
   "cell_type": "code",
   "execution_count": 170,
   "metadata": {},
   "outputs": [
    {
     "name": "stdout",
     "output_type": "stream",
     "text": [
      "train 76293\n"
     ]
    }
   ],
   "source": [
    "max_length = 64\n",
    "cv = 0\n",
    "train_dataset_iter = SatoCVTablewiseIterateDataset(cv=cv,\n",
    "                            split=\"train\",\n",
    "                            tokenizer=tokenizer,\n",
    "                            max_length=max_length,\n",
    "                            multicol_only=False,\n",
    "                            train_ratio=1.0,\n",
    "                            device=device,\n",
    "                            small_tag=\"\",\n",
    "                            base_dirpath=os.path.join(args.data_path, \"doduo\", \"data\"))"
   ]
  },
  {
   "cell_type": "code",
   "execution_count": 5,
   "metadata": {},
   "outputs": [
    {
     "name": "stdout",
     "output_type": "stream",
     "text": [
      "test 23820\n"
     ]
    }
   ],
   "source": [
    "max_length = 64\n",
    "cv = 0\n",
    "test_dataset = SatoCVTablewiseIterateDataset(cv=cv,\n",
    "                            split=\"test\",\n",
    "                            tokenizer=tokenizer,\n",
    "                            max_length=max_length,\n",
    "                            multicol_only=False,\n",
    "                            train_ratio=1.0,\n",
    "                            device=device,\n",
    "                            small_tag=\"\",\n",
    "                            base_dirpath=os.path.join(args.data_path, \"doduo\", \"data\"))\n",
    "\n"
   ]
  },
  {
   "cell_type": "code",
   "execution_count": 6,
   "metadata": {},
   "outputs": [],
   "source": [
    "padder = collate_fn(tokenizer.pad_token_id)\n",
    "test_dataloader_iter = DataLoader(test_dataset,\n",
    "                                batch_size=1,\n",
    "                            #   collate_fn=collate_fn)\n",
    "                            collate_fn=padder)"
   ]
  },
  {
   "cell_type": "code",
   "execution_count": 172,
   "metadata": {},
   "outputs": [],
   "source": [
    "train_dataloader_iter = DataLoader(train_dataset_iter,\n",
    "                                batch_size=1,\n",
    "                            #   collate_fn=collate_fn)\n",
    "                            collate_fn=padder)"
   ]
  },
  {
   "cell_type": "code",
   "execution_count": 185,
   "metadata": {},
   "outputs": [
    {
     "data": {
      "text/plain": [
       "torch.Size([56])"
      ]
     },
     "execution_count": 185,
     "metadata": {},
     "output_type": "execute_result"
    }
   ],
   "source": [
    "batch[\"data\"].T[batch[\"target_col_mask\"].T==1].shape"
   ]
  },
  {
   "cell_type": "code",
   "execution_count": 182,
   "metadata": {},
   "outputs": [
    {
     "data": {
      "text/plain": [
       "torch.Size([98, 1])"
      ]
     },
     "execution_count": 182,
     "metadata": {},
     "output_type": "execute_result"
    }
   ],
   "source": [
    "batch[\"target_col_mask\"].shape"
   ]
  },
  {
   "cell_type": "code",
   "execution_count": 175,
   "metadata": {},
   "outputs": [
    {
     "data": {
      "text/plain": [
       "tensor([0], device='cuda:0')"
      ]
     },
     "execution_count": 175,
     "metadata": {},
     "output_type": "execute_result"
    }
   ],
   "source": [
    "batch[\"target_col_mask\"].unique()"
   ]
  },
  {
   "cell_type": "code",
   "execution_count": 199,
   "metadata": {},
   "outputs": [
    {
     "ename": "NameError",
     "evalue": "name 'lables_test' is not defined",
     "output_type": "error",
     "traceback": [
      "\u001b[0;31m---------------------------------------------------------------------------\u001b[0m",
      "\u001b[0;31mNameError\u001b[0m                                 Traceback (most recent call last)",
      "Input \u001b[0;32mIn [199]\u001b[0m, in \u001b[0;36m<cell line: 1>\u001b[0;34m()\u001b[0m\n\u001b[0;32m----> 1\u001b[0m \u001b[43mlables_test\u001b[49m\n",
      "\u001b[0;31mNameError\u001b[0m: name 'lables_test' is not defined"
     ]
    }
   ],
   "source": [
    "lables_test"
   ]
  },
  {
   "cell_type": "code",
   "execution_count": 187,
   "metadata": {},
   "outputs": [],
   "source": [
    "class_context = defaultdict(list)\n",
    "for batch_idx, batch in enumerate(train_dataloader_iter):\n",
    "    context_ids = batch[\"target_col_mask\"].unique().tolist()\n",
    "    if len(context_ids)>1:\n",
    "        label_i = batch[\"label\"].item()\n",
    "        for col_idx in context_ids:\n",
    "            if col_idx == 0:\n",
    "                continue\n",
    "            context_i = batch[\"data\"].T[batch[\"target_col_mask\"].T==col_idx].reshape(1,-1)\n",
    "            class_context[label_i].append(context_i)"
   ]
  },
  {
   "cell_type": "code",
   "execution_count": 188,
   "metadata": {},
   "outputs": [],
   "source": []
  },
  {
   "cell_type": "code",
   "execution_count": 192,
   "metadata": {},
   "outputs": [
    {
     "name": "stderr",
     "output_type": "stream",
     "text": [
      "/tmp/ipykernel_669046/3441385083.py:2: FutureWarning: You are using `torch.load` with `weights_only=False` (the current default value), which uses the default pickle module implicitly. It is possible to construct malicious pickle data which will execute arbitrary code during unpickling (See https://github.com/pytorch/pytorch/blob/main/SECURITY.md#untrusted-models for more details). In a future release, the default value for `weights_only` will be flipped to `True`. This limits the functions that could be executed during unpickling. Arbitrary objects will no longer be allowed to be loaded via this mode unless they are explicitly allowlisted by the user via `torch.serialization.add_safe_globals`. We recommend you start setting `weights_only=True` for any use case where you don't have full control of the loaded file. Please open an issue on GitHub for any issues related to this experimental feature.\n",
      "  best_state_dict = torch.load(\"/data/zhihao/TU/Watchog/outputs/sato0/bert-base-uncased-fromscratch-bs16-ml64-ne30-do0.1_best_f1_micro.pt\", map_location=device)\n"
     ]
    }
   ],
   "source": [
    "# Save good context\n",
    "best_state_dict = torch.load(\"/data/zhihao/TU/Watchog/outputs/sato0/bert-base-uncased-fromscratch-bs16-ml64-ne30-do0.1_best_f1_micro.pt\", map_location=device)\n",
    "model.load_state_dict(best_state_dict, strict=False)\n",
    "model.eval()\n",
    "model = model.to(device)\n",
    "num_single_fail = 0\n",
    "num_good_context = 0\n",
    "class_context = defaultdict(list)\n",
    "for batch_idx, batch in enumerate(train_dataloader_iter):\n",
    "    cls_indexes = torch.LongTensor([[0, batch[\"cls_indexes\"].cpu().item()]]).to(device)\n",
    "    target_col_mask = batch[\"target_col_mask\"].T\n",
    "    label_i = batch[\"label\"].item()\n",
    "    if 1 in target_col_mask:\n",
    "        new_batch_data = batch[\"data\"].T[target_col_mask==0].reshape([1, -1])\n",
    "        cls_indexes = torch.tensor([[0, 0]]).to(device)\n",
    "        logits = model(batch[\"data\"].T, cls_indexes=cls_indexes,)\n",
    "        if logits.argmax().item() != label_i:\n",
    "            num_single_fail += 1\n",
    "            for col_i in target_col_mask.unique():\n",
    "                if col_i == 0 or col_i == -1:\n",
    "                    continue\n",
    "                new_batch_data = torch.cat([batch[\"data\"].T[target_col_mask==0].reshape([1, -1]), batch[\"data\"].T[target_col_mask==col_i].reshape([1, -1])], dim=1)\n",
    "                cls_indexes = torch.tensor([[0, 0]]).to(device)\n",
    "                logits_temp = model(new_batch_data, cls_indexes=cls_indexes,)\n",
    "                if logits_temp.argmax().item() == batch[\"label\"].item():\n",
    "                    context_i = batch[\"data\"].T[target_col_mask==col_i].reshape([1, -1]).detach().cpu()\n",
    "                    class_context[label_i].append(context_i)\n",
    "\n",
    "            \n"
   ]
  },
  {
   "cell_type": "code",
   "execution_count": 193,
   "metadata": {},
   "outputs": [
    {
     "data": {
      "text/plain": [
       "25893"
      ]
     },
     "execution_count": 193,
     "metadata": {},
     "output_type": "execute_result"
    }
   ],
   "source": [
    "num_single_fail"
   ]
  },
  {
   "cell_type": "code",
   "execution_count": 194,
   "metadata": {},
   "outputs": [],
   "source": [
    "num_class_context = {k: len(v) for k, v in class_context.items()}"
   ]
  },
  {
   "cell_type": "code",
   "execution_count": 198,
   "metadata": {},
   "outputs": [
    {
     "ename": "NameError",
     "evalue": "name 'label' is not defined",
     "output_type": "error",
     "traceback": [
      "\u001b[0;31m---------------------------------------------------------------------------\u001b[0m",
      "\u001b[0;31mNameError\u001b[0m                                 Traceback (most recent call last)",
      "Input \u001b[0;32mIn [198]\u001b[0m, in \u001b[0;36m<cell line: 1>\u001b[0;34m()\u001b[0m\n\u001b[0;32m----> 1\u001b[0m \u001b[43mlabel\u001b[49m\n",
      "\u001b[0;31mNameError\u001b[0m: name 'label' is not defined"
     ]
    }
   ],
   "source": [
    "label"
   ]
  },
  {
   "cell_type": "code",
   "execution_count": 202,
   "metadata": {},
   "outputs": [
    {
     "name": "stdout",
     "output_type": "stream",
     "text": [
      "ts_micro_f1=0.9684, ts_macro_f1=0.8900\n",
      "ts_micro_f1=0.9614, ts_macro_f1=0.8266\n",
      "ts_micro_f1=0.9788, ts_macro_f1=0.8506\n"
     ]
    }
   ],
   "source": [
    "# Cheat add\n",
    "model.load_state_dict(best_state_dict, strict=False)\n",
    "model.eval()\n",
    "model = model.to(device)\n",
    "ft_embs_test = []\n",
    "labels_test = []\n",
    "logits_test = []\n",
    "log = defaultdict(list)\n",
    "num_cols = []\n",
    "threshold = 0.8\n",
    "corrected = 0\n",
    "total_mistakes = 0\n",
    "class_corrected ={k: 0 for k in class_context.keys()}\n",
    "class_mistakes = {k: 0 for k in class_context.keys()}\n",
    "for batch_idx, batch in enumerate(test_dataloader_iter):\n",
    "    cls_indexes = torch.LongTensor([[0, batch[\"cls_indexes\"].cpu().item()]]).to(device)\n",
    "    target_col_mask = batch[\"target_col_mask\"].T\n",
    "    logits = model(batch[\"data\"].T, cls_indexes=cls_indexes,)\n",
    "    num_cols.append(batch[\"target_col_mask\"].max().item())\n",
    "    label_i = batch[\"label\"].item()\n",
    "    if label_i not in class_corrected:\n",
    "        class_corrected[label_i] = 0\n",
    "        class_mistakes[label_i] = 0\n",
    "    if batch[\"target_col_mask\"].max().item() == 0:\n",
    "        if logits.argmax().item() != label_i:\n",
    "            class_mistakes[label_i] += 1\n",
    "            for temp_col in class_context[label_i]:\n",
    "                new_batch_data = torch.cat([batch[\"data\"].T[target_col_mask==0].reshape([1, -1]),temp_col.to(device)], dim=1)\n",
    "                cls_indexes = torch.tensor([[0, 0]]).to(device)\n",
    "                logits_temp = model(new_batch_data, cls_indexes=cls_indexes,)\n",
    "                if logits_temp.argmax().item() == batch[\"label\"].item():\n",
    "                    logits = logits_temp.clone()\n",
    "                    class_corrected[label_i] += 1\n",
    "                    break\n",
    "            \n",
    "    labels_test.append(batch[\"label\"].cpu())\n",
    "    logits_test.append(logits.detach().cpu())\n",
    "labels_test = torch.cat(labels_test, dim=0)\n",
    "logits_test = torch.stack(logits_test, dim=0)\n",
    "preds_test = torch.argmax(logits_test, dim=1)\n",
    "num_cols = torch.tensor(num_cols)\n",
    "\n",
    "\n",
    "\n",
    "\n",
    "from sklearn.metrics import confusion_matrix, f1_score\n",
    "mask = num_cols > 0\n",
    "ts_pred_list = logits_test.argmax(\n",
    "                            1).cpu().detach().numpy().tolist()\n",
    "ts_micro_f1 = f1_score(labels_test.reshape(-1).numpy().tolist(),\n",
    "                    ts_pred_list,\n",
    "                    average=\"micro\")\n",
    "ts_macro_f1 = f1_score(labels_test.reshape(-1).numpy().tolist(),\n",
    "                    ts_pred_list,\n",
    "                    average=\"macro\")\n",
    "print(\"ts_micro_f1={:.4f}, ts_macro_f1={:.4f}\".format(ts_micro_f1, ts_macro_f1))\n",
    "ts_pred_list = logits_test.argmax(\n",
    "                            1).cpu().detach()[mask].numpy().tolist()\n",
    "ts_micro_f1 = f1_score(labels_test.reshape(-1)[mask].numpy().tolist(),\n",
    "                    ts_pred_list,\n",
    "                    average=\"micro\")\n",
    "ts_macro_f1 = f1_score(labels_test.reshape(-1)[mask].numpy().tolist(),\n",
    "                    ts_pred_list,\n",
    "                    average=\"macro\")\n",
    "print(\"ts_micro_f1={:.4f}, ts_macro_f1={:.4f}\".format(ts_micro_f1, ts_macro_f1))\n",
    "ts_pred_list = logits_test.argmax(\n",
    "                            1).cpu().detach()[~mask].numpy().tolist()\n",
    "ts_micro_f1 = f1_score(labels_test.reshape(-1)[~mask].numpy().tolist(),\n",
    "                    ts_pred_list,\n",
    "                    average=\"micro\")\n",
    "ts_macro_f1 = f1_score(labels_test.reshape(-1)[~mask].numpy().tolist(),\n",
    "                    ts_pred_list,\n",
    "                    average=\"macro\")\n",
    "print(\"ts_micro_f1={:.4f}, ts_macro_f1={:.4f}\".format(ts_micro_f1, ts_macro_f1))"
   ]
  },
  {
   "cell_type": "code",
   "execution_count": 200,
   "metadata": {},
   "outputs": [
    {
     "data": {
      "text/plain": [
       "73"
      ]
     },
     "execution_count": 200,
     "metadata": {},
     "output_type": "execute_result"
    }
   ],
   "source": [
    "len(class_mistakes)"
   ]
  },
  {
   "cell_type": "code",
   "execution_count": 201,
   "metadata": {},
   "outputs": [
    {
     "data": {
      "text/plain": [
       "77"
      ]
     },
     "execution_count": 201,
     "metadata": {},
     "output_type": "execute_result"
    }
   ],
   "source": [
    "max(class_mistakes.keys())"
   ]
  },
  {
   "cell_type": "code",
   "execution_count": null,
   "metadata": {},
   "outputs": [],
   "source": []
  },
  {
   "cell_type": "code",
   "execution_count": 121,
   "metadata": {},
   "outputs": [
    {
     "name": "stderr",
     "output_type": "stream",
     "text": [
      "/tmp/ipykernel_669046/2435966257.py:2: FutureWarning: You are using `torch.load` with `weights_only=False` (the current default value), which uses the default pickle module implicitly. It is possible to construct malicious pickle data which will execute arbitrary code during unpickling (See https://github.com/pytorch/pytorch/blob/main/SECURITY.md#untrusted-models for more details). In a future release, the default value for `weights_only` will be flipped to `True`. This limits the functions that could be executed during unpickling. Arbitrary objects will no longer be allowed to be loaded via this mode unless they are explicitly allowlisted by the user via `torch.serialization.add_safe_globals`. We recommend you start setting `weights_only=True` for any use case where you don't have full control of the loaded file. Please open an issue on GitHub for any issues related to this experimental feature.\n",
      "  best_state_dict = torch.load(\"/data/zhihao/TU/Watchog/outputs/sato0/bert-base-uncased-fromscratch-bs16-ml64-ne30-do0.1_best_f1_micro.pt\", map_location=device)\n"
     ]
    },
    {
     "name": "stdout",
     "output_type": "stream",
     "text": [
      "ts_micro_f1=0.9452, ts_macro_f1=0.8450\n",
      "ts_micro_f1=0.9679, ts_macro_f1=0.8399\n",
      "ts_micro_f1=0.9109, ts_macro_f1=0.7189\n"
     ]
    }
   ],
   "source": [
    "# Cheat drop one-column\n",
    "best_state_dict = torch.load(\"/data/zhihao/TU/Watchog/outputs/sato0/bert-base-uncased-fromscratch-bs16-ml64-ne30-do0.1_best_f1_micro.pt\", map_location=device)\n",
    "model.load_state_dict(best_state_dict, strict=False)\n",
    "model.eval()\n",
    "model = model.to(device)\n",
    "ft_embs_test = []\n",
    "labels_test = []\n",
    "logits_test = []\n",
    "log = defaultdict(list)\n",
    "num_cols = []\n",
    "threshold = 0.8\n",
    "corrected = 0\n",
    "total_mistakes = 0\n",
    "for batch_idx, batch in enumerate(test_dataloader_iter):\n",
    "    cls_indexes = torch.LongTensor([[0, batch[\"cls_indexes\"].cpu().item()]]).to(device)\n",
    "    target_col_mask = batch[\"target_col_mask\"].T\n",
    "    logits = model(batch[\"data\"].T, cls_indexes=cls_indexes,)\n",
    "    num_cols.append(batch[\"target_col_mask\"].max().item())\n",
    "    if 1 in target_col_mask and logits.argmax().item() != batch[\"label\"].item():\n",
    "        total_mistakes += 1\n",
    "        for col_i in target_col_mask.unique():\n",
    "            if col_i == 0 or col_i == -1:\n",
    "                continue\n",
    "            new_batch_data = batch[\"data\"].T[target_col_mask!=col_i].reshape(1, -1)\n",
    "            target_col_mask_temp = target_col_mask[target_col_mask!=col_i].reshape(1, -1)\n",
    "            cls_indexes = (target_col_mask_temp == 0).nonzero()[0].reshape(1, -1)\n",
    "            logits_temp = model(new_batch_data, cls_indexes=cls_indexes,)\n",
    "            if logits_temp.argmax().item() == batch[\"label\"].item():\n",
    "                logits = logits_temp.clone()\n",
    "                corrected += 1\n",
    "                break\n",
    "            \n",
    "    labels_test.append(batch[\"label\"].cpu())\n",
    "    logits_test.append(logits.detach().cpu())\n",
    "labels_test = torch.cat(labels_test, dim=0)\n",
    "logits_test = torch.stack(logits_test, dim=0)\n",
    "preds_test = torch.argmax(logits_test, dim=1)\n",
    "num_cols = torch.tensor(num_cols)\n",
    "\n",
    "\n",
    "\n",
    "\n",
    "from sklearn.metrics import confusion_matrix, f1_score\n",
    "mask = num_cols > 0\n",
    "ts_pred_list = logits_test.argmax(\n",
    "                            1).cpu().detach().numpy().tolist()\n",
    "ts_micro_f1 = f1_score(labels_test.reshape(-1).numpy().tolist(),\n",
    "                    ts_pred_list,\n",
    "                    average=\"micro\")\n",
    "ts_macro_f1 = f1_score(labels_test.reshape(-1).numpy().tolist(),\n",
    "                    ts_pred_list,\n",
    "                    average=\"macro\")\n",
    "print(\"ts_micro_f1={:.4f}, ts_macro_f1={:.4f}\".format(ts_micro_f1, ts_macro_f1))\n",
    "ts_pred_list = logits_test.argmax(\n",
    "                            1).cpu().detach()[mask].numpy().tolist()\n",
    "ts_micro_f1 = f1_score(labels_test.reshape(-1)[mask].numpy().tolist(),\n",
    "                    ts_pred_list,\n",
    "                    average=\"micro\")\n",
    "ts_macro_f1 = f1_score(labels_test.reshape(-1)[mask].numpy().tolist(),\n",
    "                    ts_pred_list,\n",
    "                    average=\"macro\")\n",
    "print(\"ts_micro_f1={:.4f}, ts_macro_f1={:.4f}\".format(ts_micro_f1, ts_macro_f1))\n",
    "ts_pred_list = logits_test.argmax(\n",
    "                            1).cpu().detach()[~mask].numpy().tolist()\n",
    "ts_micro_f1 = f1_score(labels_test.reshape(-1)[~mask].numpy().tolist(),\n",
    "                    ts_pred_list,\n",
    "                    average=\"micro\")\n",
    "ts_macro_f1 = f1_score(labels_test.reshape(-1)[~mask].numpy().tolist(),\n",
    "                    ts_pred_list,\n",
    "                    average=\"macro\")\n",
    "print(\"ts_micro_f1={:.4f}, ts_macro_f1={:.4f}\".format(ts_micro_f1, ts_macro_f1))\n"
   ]
  },
  {
   "cell_type": "code",
   "execution_count": 123,
   "metadata": {},
   "outputs": [
    {
     "data": {
      "text/plain": [
       "0.16847826086956522"
      ]
     },
     "execution_count": 123,
     "metadata": {},
     "output_type": "execute_result"
    }
   ],
   "source": [
    "corrected/total_mistakes"
   ]
  },
  {
   "cell_type": "code",
   "execution_count": 191,
   "metadata": {},
   "outputs": [
    {
     "name": "stderr",
     "output_type": "stream",
     "text": [
      "/tmp/ipykernel_669046/3932085244.py:2: FutureWarning: You are using `torch.load` with `weights_only=False` (the current default value), which uses the default pickle module implicitly. It is possible to construct malicious pickle data which will execute arbitrary code during unpickling (See https://github.com/pytorch/pytorch/blob/main/SECURITY.md#untrusted-models for more details). In a future release, the default value for `weights_only` will be flipped to `True`. This limits the functions that could be executed during unpickling. Arbitrary objects will no longer be allowed to be loaded via this mode unless they are explicitly allowlisted by the user via `torch.serialization.add_safe_globals`. We recommend you start setting `weights_only=True` for any use case where you don't have full control of the loaded file. Please open an issue on GitHub for any issues related to this experimental feature.\n",
      "  best_state_dict = torch.load(\"/data/zhihao/TU/Watchog/outputs/sato0/bert-base-uncased-fromscratch-bs16-ml64-ne30-do0.1_best_f1_micro.pt\", map_location=device)\n"
     ]
    },
    {
     "name": "stdout",
     "output_type": "stream",
     "text": [
      "ts_micro_f1=0.9446, ts_macro_f1=0.8444\n",
      "ts_micro_f1=0.9670, ts_macro_f1=0.8367\n",
      "ts_micro_f1=0.9109, ts_macro_f1=0.7189\n"
     ]
    }
   ],
   "source": [
    "# Cheat add\n",
    "best_state_dict = torch.load(\"/data/zhihao/TU/Watchog/outputs/sato0/bert-base-uncased-fromscratch-bs16-ml64-ne30-do0.1_best_f1_micro.pt\", map_location=device)\n",
    "model.load_state_dict(best_state_dict, strict=False)\n",
    "model.eval()\n",
    "model = model.to(device)\n",
    "ft_embs_test = []\n",
    "labels_test = []\n",
    "logits_test = []\n",
    "log = defaultdict(list)\n",
    "num_cols = []\n",
    "threshold = 0.8\n",
    "corrected = 0\n",
    "total_mistakes = 0\n",
    "for batch_idx, batch in enumerate(test_dataloader_iter):\n",
    "    cls_indexes = torch.LongTensor([[0, batch[\"cls_indexes\"].cpu().item()]]).to(device)\n",
    "    target_col_mask = batch[\"target_col_mask\"].T\n",
    "    logits = model(batch[\"data\"].T, cls_indexes=cls_indexes,)\n",
    "    num_cols.append(batch[\"target_col_mask\"].max().item())\n",
    "    if 1 in target_col_mask and logits.argmax().item() != batch[\"label\"].item():\n",
    "        total_mistakes += 1\n",
    "        for col_i in target_col_mask.unique():\n",
    "            if col_i == 0 or col_i == -1:\n",
    "                continue\n",
    "            new_batch_data = torch.cat([batch[\"data\"].T[target_col_mask==0].reshape([1, -1]), batch[\"data\"].T[target_col_mask==col_i].reshape([1, -1])], dim=1)\n",
    "            cls_indexes = torch.tensor([[0, 0]]).to(device)\n",
    "            logits_temp = model(new_batch_data, cls_indexes=cls_indexes,)\n",
    "            if logits_temp.argmax().item() == batch[\"label\"].item():\n",
    "                logits = logits_temp.clone()\n",
    "                corrected += 1\n",
    "                break\n",
    "            \n",
    "    labels_test.append(batch[\"label\"].cpu())\n",
    "    logits_test.append(logits.detach().cpu())\n",
    "labels_test = torch.cat(labels_test, dim=0)\n",
    "logits_test = torch.stack(logits_test, dim=0)\n",
    "preds_test = torch.argmax(logits_test, dim=1)\n",
    "num_cols = torch.tensor(num_cols)\n",
    "\n",
    "\n",
    "\n",
    "\n",
    "from sklearn.metrics import confusion_matrix, f1_score\n",
    "mask = num_cols > 0\n",
    "ts_pred_list = logits_test.argmax(\n",
    "                            1).cpu().detach().numpy().tolist()\n",
    "ts_micro_f1 = f1_score(labels_test.reshape(-1).numpy().tolist(),\n",
    "                    ts_pred_list,\n",
    "                    average=\"micro\")\n",
    "ts_macro_f1 = f1_score(labels_test.reshape(-1).numpy().tolist(),\n",
    "                    ts_pred_list,\n",
    "                    average=\"macro\")\n",
    "print(\"ts_micro_f1={:.4f}, ts_macro_f1={:.4f}\".format(ts_micro_f1, ts_macro_f1))\n",
    "ts_pred_list = logits_test.argmax(\n",
    "                            1).cpu().detach()[mask].numpy().tolist()\n",
    "ts_micro_f1 = f1_score(labels_test.reshape(-1)[mask].numpy().tolist(),\n",
    "                    ts_pred_list,\n",
    "                    average=\"micro\")\n",
    "ts_macro_f1 = f1_score(labels_test.reshape(-1)[mask].numpy().tolist(),\n",
    "                    ts_pred_list,\n",
    "                    average=\"macro\")\n",
    "print(\"ts_micro_f1={:.4f}, ts_macro_f1={:.4f}\".format(ts_micro_f1, ts_macro_f1))\n",
    "ts_pred_list = logits_test.argmax(\n",
    "                            1).cpu().detach()[~mask].numpy().tolist()\n",
    "ts_micro_f1 = f1_score(labels_test.reshape(-1)[~mask].numpy().tolist(),\n",
    "                    ts_pred_list,\n",
    "                    average=\"micro\")\n",
    "ts_macro_f1 = f1_score(labels_test.reshape(-1)[~mask].numpy().tolist(),\n",
    "                    ts_pred_list,\n",
    "                    average=\"macro\")\n",
    "print(\"ts_micro_f1={:.4f}, ts_macro_f1={:.4f}\".format(ts_micro_f1, ts_macro_f1))"
   ]
  },
  {
   "cell_type": "code",
   "execution_count": 135,
   "metadata": {},
   "outputs": [
    {
     "data": {
      "text/plain": [
       "tensor([0, 1, 2, 3], device='cuda:0')"
      ]
     },
     "execution_count": 135,
     "metadata": {},
     "output_type": "execute_result"
    }
   ],
   "source": [
    "target_col_mask.unique()"
   ]
  },
  {
   "cell_type": "code",
   "execution_count": 136,
   "metadata": {},
   "outputs": [
    {
     "ename": "RuntimeError",
     "evalue": "Boolean value of Tensor with more than one value is ambiguous",
     "output_type": "error",
     "traceback": [
      "\u001b[0;31m---------------------------------------------------------------------------\u001b[0m",
      "\u001b[0;31mRuntimeError\u001b[0m                              Traceback (most recent call last)",
      "Input \u001b[0;32mIn [136]\u001b[0m, in \u001b[0;36m<cell line: 1>\u001b[0;34m()\u001b[0m\n\u001b[0;32m----> 1\u001b[0m batch[\u001b[38;5;124m\"\u001b[39m\u001b[38;5;124mdata\u001b[39m\u001b[38;5;124m\"\u001b[39m]\u001b[38;5;241m.\u001b[39mT[target_col_mask\u001b[38;5;241m==\u001b[39mcol_i \u001b[38;5;241m+\u001b[39m target_col_mask\u001b[38;5;241m==\u001b[39m\u001b[38;5;241m0\u001b[39m]\n",
      "\u001b[0;31mRuntimeError\u001b[0m: Boolean value of Tensor with more than one value is ambiguous"
     ]
    }
   ],
   "source": [
    "batch[\"data\"].T[（target_col_mask==col_i + target_col_mask==0]"
   ]
  },
  {
   "cell_type": "code",
   "execution_count": 138,
   "metadata": {},
   "outputs": [
    {
     "data": {
      "text/plain": [
       "tensor([[1, 1, 1, 2, 2, 2, 0, 0, 0, 3, 3, 3]], device='cuda:0')"
      ]
     },
     "execution_count": 138,
     "metadata": {},
     "output_type": "execute_result"
    }
   ],
   "source": [
    "target_col_mask"
   ]
  },
  {
   "cell_type": "code",
   "execution_count": 137,
   "metadata": {},
   "outputs": [
    {
     "data": {
      "text/plain": [
       "tensor([[False, False, False, False, False, False,  True,  True,  True,  True,\n",
       "          True,  True]], device='cuda:0')"
      ]
     },
     "execution_count": 137,
     "metadata": {},
     "output_type": "execute_result"
    }
   ],
   "source": [
    "(target_col_mask==col_i) + (target_col_mask==0)"
   ]
  },
  {
   "cell_type": "code",
   "execution_count": 149,
   "metadata": {},
   "outputs": [
    {
     "name": "stderr",
     "output_type": "stream",
     "text": [
      "/tmp/ipykernel_669046/3742073154.py:2: FutureWarning: You are using `torch.load` with `weights_only=False` (the current default value), which uses the default pickle module implicitly. It is possible to construct malicious pickle data which will execute arbitrary code during unpickling (See https://github.com/pytorch/pytorch/blob/main/SECURITY.md#untrusted-models for more details). In a future release, the default value for `weights_only` will be flipped to `True`. This limits the functions that could be executed during unpickling. Arbitrary objects will no longer be allowed to be loaded via this mode unless they are explicitly allowlisted by the user via `torch.serialization.add_safe_globals`. We recommend you start setting `weights_only=True` for any use case where you don't have full control of the loaded file. Please open an issue on GitHub for any issues related to this experimental feature.\n",
      "  best_state_dict = torch.load(\"/data/zhihao/TU/Watchog/outputs/sato0/bert-base-uncased-fromscratch-bs16-ml64-ne30-do0.1_best_f1_micro.pt\", map_location=device)\n"
     ]
    },
    {
     "name": "stdout",
     "output_type": "stream",
     "text": [
      "*********************Threshold: 0.8****************************\n"
     ]
    },
    {
     "name": "stderr",
     "output_type": "stream",
     "text": [
      "/tmp/ipykernel_669046/3742073154.py:22: UserWarning: Implicit dimension choice for softmax has been deprecated. Change the call to include dim=X as an argument.\n",
      "  ood_score_max = F.softmax(logits.detach()).max().item()\n",
      "/tmp/ipykernel_669046/3742073154.py:38: UserWarning: Implicit dimension choice for softmax has been deprecated. Change the call to include dim=X as an argument.\n",
      "  ood_score_temp = F.softmax(logits_temp.detach()).max().item()\n"
     ]
    },
    {
     "name": "stdout",
     "output_type": "stream",
     "text": [
      "ts_micro_f1=0.9410, ts_macro_f1=0.8412\n",
      "ts_micro_f1=0.9610, ts_macro_f1=0.8271\n",
      "ts_micro_f1=0.9109, ts_macro_f1=0.7189\n",
      "*********************Threshold: 0.9****************************\n"
     ]
    },
    {
     "name": "stderr",
     "output_type": "stream",
     "text": [
      "/tmp/ipykernel_669046/3742073154.py:22: UserWarning: Implicit dimension choice for softmax has been deprecated. Change the call to include dim=X as an argument.\n",
      "  ood_score_max = F.softmax(logits.detach()).max().item()\n",
      "/tmp/ipykernel_669046/3742073154.py:38: UserWarning: Implicit dimension choice for softmax has been deprecated. Change the call to include dim=X as an argument.\n",
      "  ood_score_temp = F.softmax(logits_temp.detach()).max().item()\n"
     ]
    },
    {
     "name": "stdout",
     "output_type": "stream",
     "text": [
      "ts_micro_f1=0.9404, ts_macro_f1=0.8404\n",
      "ts_micro_f1=0.9601, ts_macro_f1=0.8256\n",
      "ts_micro_f1=0.9109, ts_macro_f1=0.7189\n",
      "*********************Threshold: 0.95****************************\n"
     ]
    },
    {
     "name": "stderr",
     "output_type": "stream",
     "text": [
      "/tmp/ipykernel_669046/3742073154.py:22: UserWarning: Implicit dimension choice for softmax has been deprecated. Change the call to include dim=X as an argument.\n",
      "  ood_score_max = F.softmax(logits.detach()).max().item()\n",
      "/tmp/ipykernel_669046/3742073154.py:38: UserWarning: Implicit dimension choice for softmax has been deprecated. Change the call to include dim=X as an argument.\n",
      "  ood_score_temp = F.softmax(logits_temp.detach()).max().item()\n"
     ]
    },
    {
     "name": "stdout",
     "output_type": "stream",
     "text": [
      "ts_micro_f1=0.9405, ts_macro_f1=0.8406\n",
      "ts_micro_f1=0.9602, ts_macro_f1=0.8260\n",
      "ts_micro_f1=0.9109, ts_macro_f1=0.7189\n",
      "*********************Threshold: 0.99****************************\n"
     ]
    },
    {
     "name": "stderr",
     "output_type": "stream",
     "text": [
      "/tmp/ipykernel_669046/3742073154.py:22: UserWarning: Implicit dimension choice for softmax has been deprecated. Change the call to include dim=X as an argument.\n",
      "  ood_score_max = F.softmax(logits.detach()).max().item()\n",
      "/tmp/ipykernel_669046/3742073154.py:38: UserWarning: Implicit dimension choice for softmax has been deprecated. Change the call to include dim=X as an argument.\n",
      "  ood_score_temp = F.softmax(logits_temp.detach()).max().item()\n"
     ]
    },
    {
     "name": "stdout",
     "output_type": "stream",
     "text": [
      "ts_micro_f1=0.9395, ts_macro_f1=0.8371\n",
      "ts_micro_f1=0.9586, ts_macro_f1=0.8184\n",
      "ts_micro_f1=0.9109, ts_macro_f1=0.7189\n",
      "*********************Threshold: 0.999****************************\n"
     ]
    },
    {
     "name": "stderr",
     "output_type": "stream",
     "text": [
      "/tmp/ipykernel_669046/3742073154.py:22: UserWarning: Implicit dimension choice for softmax has been deprecated. Change the call to include dim=X as an argument.\n",
      "  ood_score_max = F.softmax(logits.detach()).max().item()\n",
      "/tmp/ipykernel_669046/3742073154.py:38: UserWarning: Implicit dimension choice for softmax has been deprecated. Change the call to include dim=X as an argument.\n",
      "  ood_score_temp = F.softmax(logits_temp.detach()).max().item()\n"
     ]
    },
    {
     "name": "stdout",
     "output_type": "stream",
     "text": [
      "ts_micro_f1=0.9383, ts_macro_f1=0.8313\n",
      "ts_micro_f1=0.9565, ts_macro_f1=0.8106\n",
      "ts_micro_f1=0.9109, ts_macro_f1=0.7189\n",
      "*********************Threshold: 1.0****************************\n"
     ]
    },
    {
     "name": "stderr",
     "output_type": "stream",
     "text": [
      "/tmp/ipykernel_669046/3742073154.py:22: UserWarning: Implicit dimension choice for softmax has been deprecated. Change the call to include dim=X as an argument.\n",
      "  ood_score_max = F.softmax(logits.detach()).max().item()\n",
      "/tmp/ipykernel_669046/3742073154.py:38: UserWarning: Implicit dimension choice for softmax has been deprecated. Change the call to include dim=X as an argument.\n",
      "  ood_score_temp = F.softmax(logits_temp.detach()).max().item()\n"
     ]
    },
    {
     "name": "stdout",
     "output_type": "stream",
     "text": [
      "ts_micro_f1=0.9301, ts_macro_f1=0.8178\n",
      "ts_micro_f1=0.9429, ts_macro_f1=0.7917\n",
      "ts_micro_f1=0.9109, ts_macro_f1=0.7189\n"
     ]
    }
   ],
   "source": [
    "# Greedy\n",
    "best_state_dict = torch.load(\"/data/zhihao/TU/Watchog/outputs/sato0/bert-base-uncased-fromscratch-bs16-ml64-ne30-do0.1_best_f1_micro.pt\", map_location=device)\n",
    "model.load_state_dict(best_state_dict, strict=False)\n",
    "model.eval()\n",
    "\n",
    "threshold = 0.8\n",
    "log = {}\n",
    "for threshold in [0.8, 0.9, 0.95, 0.99, 0.999, 1.0]:\n",
    "    model = model.to(device)\n",
    "    ft_embs_test = []\n",
    "    labels_test = []\n",
    "    logits_test = []\n",
    "    num_cols = []\n",
    "    log[threshold] = {}\n",
    "    print(f\"*********************Threshold: {threshold}****************************\")\n",
    "    for batch_idx, batch in enumerate(test_dataloader_iter):\n",
    "        cls_indexes = torch.LongTensor([[0, batch[\"cls_indexes\"].cpu().item()]]).to(device)\n",
    "        target_col_mask = batch[\"target_col_mask\"].T\n",
    "        logits = model(batch[\"data\"].T, cls_indexes=cls_indexes,)\n",
    "        num_cols.append(batch[\"target_col_mask\"].max().item())\n",
    "        if 1 in target_col_mask:\n",
    "            ood_score_max = F.softmax(logits.detach()).max().item()\n",
    "            if ood_score_max < threshold:\n",
    "                log[threshold][batch_idx] = []\n",
    "                log[threshold][batch_idx].append([ood_score_max])\n",
    "                current_drop = 1\n",
    "                while True:\n",
    "                    improved = False\n",
    "                    log[threshold][batch_idx].append([])\n",
    "                    for col_i in target_col_mask.unique():\n",
    "                        if col_i == 0 or col_i == -1:\n",
    "                            continue\n",
    "                        target_col_mask_temp = target_col_mask.clone()\n",
    "                        target_col_mask_temp[target_col_mask_temp==col_i] = -1\n",
    "                        new_batch_data = batch[\"data\"].T[target_col_mask_temp!=-1].reshape(1, -1)\n",
    "                        cls_indexes = (target_col_mask_temp[target_col_mask_temp!=-1].reshape(1, -1) == 0).nonzero()[0].reshape(1, -1)\n",
    "                        logits_temp = model(new_batch_data, cls_indexes=cls_indexes,)\n",
    "                        ood_score_temp = F.softmax(logits_temp.detach()).max().item()\n",
    "                        if ood_score_temp > ood_score_max:\n",
    "                            logits = logits_temp.clone()\n",
    "                            temp_best_target_col_mask = target_col_mask_temp.clone()\n",
    "                            # print(f\"{batch_idx} col_{col_i}\", ood_score_max, ood_score_temp)\n",
    "                            ood_score_max = ood_score_temp\n",
    "                            log[threshold][batch_idx][current_drop].append(ood_score_max)\n",
    "                            improved = True\n",
    "                    if not improved:\n",
    "                        break\n",
    "                    else:\n",
    "                        target_col_mask = temp_best_target_col_mask.clone()\n",
    "                        current_drop += 1\n",
    "                    \n",
    "        labels_test.append(batch[\"label\"].cpu())\n",
    "        logits_test.append(logits.detach().cpu())\n",
    "    labels_test = torch.cat(labels_test, dim=0)\n",
    "    logits_test = torch.stack(logits_test, dim=0)\n",
    "    preds_test = torch.argmax(logits_test, dim=1)\n",
    "    num_cols = torch.tensor(num_cols)\n",
    "\n",
    "    from sklearn.metrics import confusion_matrix, f1_score\n",
    "    mask = num_cols > 0\n",
    "    ts_pred_list = logits_test.argmax(\n",
    "                                1).cpu().detach().numpy().tolist()\n",
    "    ts_micro_f1 = f1_score(labels_test.reshape(-1).numpy().tolist(),\n",
    "                        ts_pred_list,\n",
    "                        average=\"micro\")\n",
    "    ts_macro_f1 = f1_score(labels_test.reshape(-1).numpy().tolist(),\n",
    "                        ts_pred_list,\n",
    "                        average=\"macro\")\n",
    "    print(\"ts_micro_f1={:.4f}, ts_macro_f1={:.4f}\".format(ts_micro_f1, ts_macro_f1))\n",
    "    ts_pred_list = logits_test.argmax(\n",
    "                                1).cpu().detach()[mask].numpy().tolist()\n",
    "    ts_micro_f1 = f1_score(labels_test.reshape(-1)[mask].numpy().tolist(),\n",
    "                        ts_pred_list,\n",
    "                        average=\"micro\")\n",
    "    ts_macro_f1 = f1_score(labels_test.reshape(-1)[mask].numpy().tolist(),\n",
    "                        ts_pred_list,\n",
    "                        average=\"macro\")\n",
    "    print(\"ts_micro_f1={:.4f}, ts_macro_f1={:.4f}\".format(ts_micro_f1, ts_macro_f1))\n",
    "    ts_pred_list = logits_test.argmax(\n",
    "                                1).cpu().detach()[~mask].numpy().tolist()\n",
    "    ts_micro_f1 = f1_score(labels_test.reshape(-1)[~mask].numpy().tolist(),\n",
    "                        ts_pred_list,\n",
    "                        average=\"micro\")\n",
    "    ts_macro_f1 = f1_score(labels_test.reshape(-1)[~mask].numpy().tolist(),\n",
    "                        ts_pred_list,\n",
    "                        average=\"macro\")\n",
    "    print(\"ts_micro_f1={:.4f}, ts_macro_f1={:.4f}\".format(ts_micro_f1, ts_macro_f1))"
   ]
  },
  {
   "cell_type": "code",
   "execution_count": 145,
   "metadata": {},
   "outputs": [
    {
     "data": {
      "text/plain": [
       "tensor([0, 0, 0, 0, 0, 0, 0, 0, 0, 0, 0, 0, 0, 0, 0, 0, 0, 0, 0, 0, 0, 0, 0, 0,\n",
       "        0, 0, 0, 0, 0], device='cuda:0')"
      ]
     },
     "execution_count": 145,
     "metadata": {},
     "output_type": "execute_result"
    }
   ],
   "source": [
    "target_col_mask_temp[target_col_mask_temp!=-1]"
   ]
  },
  {
   "cell_type": "code",
   "execution_count": 111,
   "metadata": {},
   "outputs": [
    {
     "name": "stderr",
     "output_type": "stream",
     "text": [
      "/tmp/ipykernel_669046/2298920203.py:1: FutureWarning: You are using `torch.load` with `weights_only=False` (the current default value), which uses the default pickle module implicitly. It is possible to construct malicious pickle data which will execute arbitrary code during unpickling (See https://github.com/pytorch/pytorch/blob/main/SECURITY.md#untrusted-models for more details). In a future release, the default value for `weights_only` will be flipped to `True`. This limits the functions that could be executed during unpickling. Arbitrary objects will no longer be allowed to be loaded via this mode unless they are explicitly allowlisted by the user via `torch.serialization.add_safe_globals`. We recommend you start setting `weights_only=True` for any use case where you don't have full control of the loaded file. Please open an issue on GitHub for any issues related to this experimental feature.\n",
      "  best_state_dict = torch.load(\"/data/zhihao/TU/Watchog/outputs/sato0/bert-base-uncased-fromscratch-bs16-ml64-ne30-do0.1_best_f1_micro.pt\", map_location=device)\n",
      "/tmp/ipykernel_669046/2298920203.py:17: UserWarning: Implicit dimension choice for softmax has been deprecated. Change the call to include dim=X as an argument.\n",
      "  ood_score_max = F.softmax(logits.detach()).max().item()\n",
      "/tmp/ipykernel_669046/2298920203.py:27: UserWarning: Implicit dimension choice for softmax has been deprecated. Change the call to include dim=X as an argument.\n",
      "  ood_score_temp = F.softmax(logits_temp.detach()).max().item()\n"
     ]
    },
    {
     "name": "stdout",
     "output_type": "stream",
     "text": [
      "ts_micro_f1=0.9409, ts_macro_f1=0.8409\n",
      "ts_micro_f1=0.9609, ts_macro_f1=0.8265\n",
      "ts_micro_f1=0.9109, ts_macro_f1=0.7189\n"
     ]
    }
   ],
   "source": [
    "best_state_dict = torch.load(\"/data/zhihao/TU/Watchog/outputs/sato0/bert-base-uncased-fromscratch-bs16-ml64-ne30-do0.1_best_f1_micro.pt\", map_location=device)\n",
    "model.load_state_dict(best_state_dict, strict=False)\n",
    "model.eval()\n",
    "model = model.to(device)\n",
    "ft_embs_test = []\n",
    "labels_test = []\n",
    "logits_test = []\n",
    "log = defaultdict(list)\n",
    "num_cols = []\n",
    "threshold = 0.8\n",
    "for batch_idx, batch in enumerate(test_dataloader_iter):\n",
    "    cls_indexes = torch.LongTensor([[0, batch[\"cls_indexes\"].cpu().item()]]).to(device)\n",
    "    target_col_mask = batch[\"target_col_mask\"].T\n",
    "    logits = model(batch[\"data\"].T, cls_indexes=cls_indexes,)\n",
    "    num_cols.append(batch[\"target_col_mask\"].max().item())\n",
    "    if 1 in target_col_mask:\n",
    "        ood_score_max = F.softmax(logits.detach()).max().item()\n",
    "        if ood_score_max < threshold:\n",
    "            log[batch_idx].append(ood_score_max)\n",
    "            for col_i in target_col_mask.unique():\n",
    "                if col_i == 0 or col_i == -1:\n",
    "                    continue\n",
    "                new_batch_data = batch[\"data\"].T[target_col_mask!=col_i].reshape(1, -1)\n",
    "                target_col_mask_temp = target_col_mask[target_col_mask!=col_i].reshape(1, -1)\n",
    "                cls_indexes = (target_col_mask_temp == 0).nonzero()[0].reshape(1, -1)\n",
    "                logits_temp = model(new_batch_data, cls_indexes=cls_indexes,)\n",
    "                ood_score_temp = F.softmax(logits_temp.detach()).max().item()\n",
    "                if ood_score_temp > ood_score_max:\n",
    "                    logits = logits_temp.clone()\n",
    "                    # print(f\"{batch_idx} col_{col_i}\", ood_score_max, ood_score_temp)\n",
    "                    ood_score_max = ood_score_temp\n",
    "                    log[batch_idx].append(ood_score_max)\n",
    "                \n",
    "    labels_test.append(batch[\"label\"].cpu())\n",
    "    logits_test.append(logits.detach().cpu())\n",
    "labels_test = torch.cat(labels_test, dim=0)\n",
    "logits_test = torch.stack(logits_test, dim=0)\n",
    "preds_test = torch.argmax(logits_test, dim=1)\n",
    "num_cols = torch.tensor(num_cols)\n",
    "\n",
    "\n",
    "\n",
    "\n",
    "from sklearn.metrics import confusion_matrix, f1_score\n",
    "mask = num_cols > 0\n",
    "ts_pred_list = logits_test.argmax(\n",
    "                            1).cpu().detach().numpy().tolist()\n",
    "ts_micro_f1 = f1_score(labels_test.reshape(-1).numpy().tolist(),\n",
    "                    ts_pred_list,\n",
    "                    average=\"micro\")\n",
    "ts_macro_f1 = f1_score(labels_test.reshape(-1).numpy().tolist(),\n",
    "                    ts_pred_list,\n",
    "                    average=\"macro\")\n",
    "print(\"ts_micro_f1={:.4f}, ts_macro_f1={:.4f}\".format(ts_micro_f1, ts_macro_f1))\n",
    "ts_pred_list = logits_test.argmax(\n",
    "                            1).cpu().detach()[mask].numpy().tolist()\n",
    "ts_micro_f1 = f1_score(labels_test.reshape(-1)[mask].numpy().tolist(),\n",
    "                    ts_pred_list,\n",
    "                    average=\"micro\")\n",
    "ts_macro_f1 = f1_score(labels_test.reshape(-1)[mask].numpy().tolist(),\n",
    "                    ts_pred_list,\n",
    "                    average=\"macro\")\n",
    "print(\"ts_micro_f1={:.4f}, ts_macro_f1={:.4f}\".format(ts_micro_f1, ts_macro_f1))\n",
    "ts_pred_list = logits_test.argmax(\n",
    "                            1).cpu().detach()[~mask].numpy().tolist()\n",
    "ts_micro_f1 = f1_score(labels_test.reshape(-1)[~mask].numpy().tolist(),\n",
    "                    ts_pred_list,\n",
    "                    average=\"micro\")\n",
    "ts_macro_f1 = f1_score(labels_test.reshape(-1)[~mask].numpy().tolist(),\n",
    "                    ts_pred_list,\n",
    "                    average=\"macro\")\n",
    "print(\"ts_micro_f1={:.4f}, ts_macro_f1={:.4f}\".format(ts_micro_f1, ts_macro_f1))"
   ]
  },
  {
   "cell_type": "code",
   "execution_count": 113,
   "metadata": {},
   "outputs": [],
   "source": [
    "correctness = preds_test == labels_test"
   ]
  },
  {
   "cell_type": "code",
   "execution_count": 114,
   "metadata": {},
   "outputs": [
    {
     "name": "stdout",
     "output_type": "stream",
     "text": [
      "tensor(0.2717)\n",
      "tensor(0.5833)\n"
     ]
    }
   ],
   "source": [
    "changed_mask = torch.tensor(list(log.keys()))\n",
    "print(correctness_origin[changed_mask].sum()/len(changed_mask))\n",
    "print(correctness_origin[correctness_origin != correctness].sum()/len(correctness_origin[correctness_origin != correctness]))"
   ]
  },
  {
   "cell_type": "code",
   "execution_count": null,
   "metadata": {},
   "outputs": [],
   "source": []
  },
  {
   "cell_type": "code",
   "execution_count": null,
   "metadata": {},
   "outputs": [],
   "source": []
  },
  {
   "cell_type": "code",
   "execution_count": null,
   "metadata": {},
   "outputs": [],
   "source": []
  },
  {
   "cell_type": "code",
   "execution_count": 95,
   "metadata": {},
   "outputs": [
    {
     "name": "stderr",
     "output_type": "stream",
     "text": [
      "/tmp/ipykernel_669046/3489818045.py:1: FutureWarning: You are using `torch.load` with `weights_only=False` (the current default value), which uses the default pickle module implicitly. It is possible to construct malicious pickle data which will execute arbitrary code during unpickling (See https://github.com/pytorch/pytorch/blob/main/SECURITY.md#untrusted-models for more details). In a future release, the default value for `weights_only` will be flipped to `True`. This limits the functions that could be executed during unpickling. Arbitrary objects will no longer be allowed to be loaded via this mode unless they are explicitly allowlisted by the user via `torch.serialization.add_safe_globals`. We recommend you start setting `weights_only=True` for any use case where you don't have full control of the loaded file. Please open an issue on GitHub for any issues related to this experimental feature.\n",
      "  best_state_dict = torch.load(\"/data/zhihao/TU/Watchog/outputs/sato0/bert-base-uncased-fromscratch-bs16-ml64-ne30-do0.1_best_f1_micro.pt\", map_location=device)\n",
      "/tmp/ipykernel_669046/3489818045.py:16: UserWarning: Implicit dimension choice for softmax has been deprecated. Change the call to include dim=X as an argument.\n",
      "  ood_score_max = F.softmax(logits.detach()).max().item()\n",
      "/tmp/ipykernel_669046/3489818045.py:26: UserWarning: Implicit dimension choice for softmax has been deprecated. Change the call to include dim=X as an argument.\n",
      "  ood_score_temp = F.softmax(logits_temp.detach()).max().item()\n"
     ]
    },
    {
     "name": "stdout",
     "output_type": "stream",
     "text": [
      "ts_micro_f1=0.9395, ts_macro_f1=0.8368\n",
      "ts_micro_f1=0.9584, ts_macro_f1=0.8178\n",
      "ts_micro_f1=0.9109, ts_macro_f1=0.7189\n"
     ]
    }
   ],
   "source": [
    "best_state_dict = torch.load(\"/data/zhihao/TU/Watchog/outputs/sato0/bert-base-uncased-fromscratch-bs16-ml64-ne30-do0.1_best_f1_micro.pt\", map_location=device)\n",
    "model.load_state_dict(best_state_dict, strict=False)\n",
    "model.eval()\n",
    "model = model.to(device)\n",
    "ft_embs_test = []\n",
    "labels_test = []\n",
    "logits_test = []\n",
    "log = defaultdict(list)\n",
    "num_cols = []\n",
    "for batch_idx, batch in enumerate(test_dataloader_iter):\n",
    "    cls_indexes = torch.LongTensor([[0, batch[\"cls_indexes\"].cpu().item()]]).to(device)\n",
    "    target_col_mask = batch[\"target_col_mask\"].T\n",
    "    logits = model(batch[\"data\"].T, cls_indexes=cls_indexes,)\n",
    "    num_cols.append(batch[\"target_col_mask\"].max().item())\n",
    "    if 1 in target_col_mask:\n",
    "        ood_score_max = F.softmax(logits.detach()).max().item()\n",
    "        if ood_score_max < 0.99:\n",
    "            log[batch_idx].append(ood_score_max)\n",
    "            for col_i in target_col_mask.unique():\n",
    "                if col_i == 0 or col_i == -1:\n",
    "                    continue\n",
    "                new_batch_data = batch[\"data\"].T[target_col_mask!=col_i].reshape(1, -1)\n",
    "                target_col_mask_temp = target_col_mask[target_col_mask!=col_i].reshape(1, -1)\n",
    "                cls_indexes = (target_col_mask_temp == 0).nonzero()[0].reshape(1, -1)\n",
    "                logits_temp = model(new_batch_data, cls_indexes=cls_indexes,)\n",
    "                ood_score_temp = F.softmax(logits_temp.detach()).max().item()\n",
    "                if ood_score_temp > ood_score_max:\n",
    "                    logits = logits_temp.clone()\n",
    "                    # print(f\"{batch_idx} col_{col_i}\", ood_score_max, ood_score_temp)\n",
    "                    ood_score_max = ood_score_temp\n",
    "                    log[batch_idx].append(ood_score_max)\n",
    "                \n",
    "    labels_test.append(batch[\"label\"].cpu())\n",
    "    logits_test.append(logits.detach().cpu())\n",
    "labels_test = torch.cat(labels_test, dim=0)\n",
    "logits_test = torch.stack(logits_test, dim=0)\n",
    "preds_test = torch.argmax(logits_test, dim=1)\n",
    "num_cols = torch.tensor(num_cols)\n",
    "\n",
    "\n",
    "\n",
    "\n",
    "from sklearn.metrics import confusion_matrix, f1_score\n",
    "mask = num_cols > 0\n",
    "ts_pred_list = logits_test.argmax(\n",
    "                            1).cpu().detach().numpy().tolist()\n",
    "ts_micro_f1 = f1_score(labels_test.reshape(-1).numpy().tolist(),\n",
    "                    ts_pred_list,\n",
    "                    average=\"micro\")\n",
    "ts_macro_f1 = f1_score(labels_test.reshape(-1).numpy().tolist(),\n",
    "                    ts_pred_list,\n",
    "                    average=\"macro\")\n",
    "print(\"ts_micro_f1={:.4f}, ts_macro_f1={:.4f}\".format(ts_micro_f1, ts_macro_f1))\n",
    "ts_pred_list = logits_test.argmax(\n",
    "                            1).cpu().detach()[mask].numpy().tolist()\n",
    "ts_micro_f1 = f1_score(labels_test.reshape(-1)[mask].numpy().tolist(),\n",
    "                    ts_pred_list,\n",
    "                    average=\"micro\")\n",
    "ts_macro_f1 = f1_score(labels_test.reshape(-1)[mask].numpy().tolist(),\n",
    "                    ts_pred_list,\n",
    "                    average=\"macro\")\n",
    "print(\"ts_micro_f1={:.4f}, ts_macro_f1={:.4f}\".format(ts_micro_f1, ts_macro_f1))\n",
    "ts_pred_list = logits_test.argmax(\n",
    "                            1).cpu().detach()[~mask].numpy().tolist()\n",
    "ts_micro_f1 = f1_score(labels_test.reshape(-1)[~mask].numpy().tolist(),\n",
    "                    ts_pred_list,\n",
    "                    average=\"micro\")\n",
    "ts_macro_f1 = f1_score(labels_test.reshape(-1)[~mask].numpy().tolist(),\n",
    "                    ts_pred_list,\n",
    "                    average=\"macro\")\n",
    "print(\"ts_micro_f1={:.4f}, ts_macro_f1={:.4f}\".format(ts_micro_f1, ts_macro_f1))"
   ]
  },
  {
   "cell_type": "code",
   "execution_count": 100,
   "metadata": {},
   "outputs": [
    {
     "name": "stderr",
     "output_type": "stream",
     "text": [
      "/tmp/ipykernel_669046/2628886045.py:1: FutureWarning: You are using `torch.load` with `weights_only=False` (the current default value), which uses the default pickle module implicitly. It is possible to construct malicious pickle data which will execute arbitrary code during unpickling (See https://github.com/pytorch/pytorch/blob/main/SECURITY.md#untrusted-models for more details). In a future release, the default value for `weights_only` will be flipped to `True`. This limits the functions that could be executed during unpickling. Arbitrary objects will no longer be allowed to be loaded via this mode unless they are explicitly allowlisted by the user via `torch.serialization.add_safe_globals`. We recommend you start setting `weights_only=True` for any use case where you don't have full control of the loaded file. Please open an issue on GitHub for any issues related to this experimental feature.\n",
      "  logits_test_origin = torch.load( \"/data/zhihao/TU/Watchog/outputs/sato0/bert-base-uncased-fromscratch-bs16-ml64-ne30-do0.1_logits_test.pt\")\n"
     ]
    }
   ],
   "source": [
    "logits_test_origin = torch.load( \"/data/zhihao/TU/Watchog/outputs/sato0/bert-base-uncased-fromscratch-bs16-ml64-ne30-do0.1_logits_test.pt\")\n",
    "preds_test_origin = torch.argmax(logits_test_origin, dim=1)\n",
    "correctness_origin = preds_test_origin == labels_test"
   ]
  },
  {
   "cell_type": "code",
   "execution_count": 107,
   "metadata": {},
   "outputs": [
    {
     "data": {
      "text/plain": [
       "dict_keys([51, 105, 129, 139, 154, 156, 186, 263, 355, 443, 545, 625, 710, 746, 750, 796, 852, 886, 935, 1026, 1124, 1125, 1126, 1151, 1152, 1193, 1235, 1280, 1281, 1397, 1412, 1418, 1421, 1558, 1596, 1636, 1642, 1660, 1697, 1709, 1748, 1939, 1968, 2041, 2050, 2061, 2062, 2140, 2188, 2329, 2397, 2424, 2428, 2534, 2537, 2696, 2718, 2719, 2720, 2793, 2957, 2995, 3181, 3212, 3219, 3277, 3335, 3336, 3378, 3450, 3451, 3461, 3492, 3676, 4097, 4195, 4196, 4257, 4262, 4263, 4292, 4460, 4544, 4545, 4622, 4743, 4790, 4908, 4909, 5095, 5102, 5126, 5173, 5231, 5232, 5234, 5245, 5247, 5259, 5295, 5309, 5332, 5364, 5383, 5400, 5535, 5575, 5639, 5673, 5717, 5752, 5816, 5817, 5818, 5876, 5878, 5885, 5910, 5957, 5966, 5967, 6114, 6135, 6233, 6275, 6296, 6305, 6316, 6344, 6444, 6498, 6737, 6771, 6791, 6795, 6807, 6847, 6856, 6857, 6940, 7156, 7157, 7182, 7184, 7185, 7262, 7276, 7277, 7284, 7394, 7480, 7484, 7554, 7572, 7613, 7765, 7766, 7844, 7956, 7972, 8163, 8245, 8246, 8412, 8413, 8464, 8490, 8600, 8601, 8602, 8639, 8756, 9026, 9027, 9149, 9234, 9370, 9463, 9467, 9495, 9600, 9602, 9622, 9936, 9960, 10039, 10043, 10051, 10069, 10107, 10132, 10167, 10168, 10301, 10329, 10336, 10337, 10338, 10404, 10413, 10414, 10511, 10583, 10661, 10686, 10687, 10755, 10776, 11023, 11041, 11042, 11056, 11234, 11235, 11257, 11332, 11333, 11357, 11390, 11532, 11584, 11615, 11666, 11771, 11783, 12049, 12050, 12056, 12227, 12228, 12356, 12357, 12436, 12455, 12479, 12580, 12598, 12601, 12619, 12620, 12686, 12746, 12822, 12823, 12852, 12855, 12903, 13027, 13028, 13086, 13104, 13121, 13122, 13127, 13178, 13215, 13224, 13306, 13423, 13448, 13457, 13460, 13488, 13489, 13501, 13522, 13769, 13770, 13773, 13781, 13815, 13818, 13844, 13861, 13921, 13923, 14147, 14192, 14193, 14226, 14284, 14377, 14512, 14513, 14578, 14675, 14681, 14743, 14784, 14812, 14813, 14852, 14853, 14961, 14963, 14970, 15259, 15283, 15288, 15319, 15339, 15352, 15493, 15494, 15534, 15582, 15704, 15728, 15780, 15838, 15842, 15905, 15919, 15959, 15960, 16011, 16012, 16056, 16134, 16135, 16168, 16210, 16340, 16415, 16416, 16461, 16465, 16473, 16474, 16742, 16766, 16780, 16808, 16828, 16837, 16900, 16907, 16974, 17002, 17003, 17029, 17078, 17080, 17086, 17183, 17272, 17427, 17522, 17577, 17665, 17681, 17716, 17735, 17934, 18108, 18198, 18199, 18200, 18226, 18298, 18306, 18385, 18416, 18422, 18445, 18595, 18600, 18601, 18790, 18791, 18792, 18838, 18856, 18880, 18881, 19024, 19114, 19164, 19165, 19341, 19343, 19345, 19392, 19416, 19466, 19480, 19504, 19537, 19538, 19588, 19623, 19628, 19658, 19659, 19689, 19726, 19801, 19807, 19830, 19839, 19857, 19858, 19912, 19927, 19964, 20008, 20010, 20019, 20049, 20111, 20175, 20176, 20211, 20297, 20307, 20308, 20601, 20636, 20698, 20703, 20807, 20974, 21227, 21260, 21263, 21366, 21469, 21481, 21605, 21631, 21642, 21648, 21658, 21667, 21894, 21948, 21950, 21959, 22179, 22247, 22267, 22300, 22344, 22422, 22443, 22495, 22496, 22610, 22625, 22659, 22770, 22771, 22778, 22915, 22919, 22982, 23218, 23250, 23285, 23286, 23288, 23325, 23416, 23444, 23529, 23531, 23543, 23550, 23613, 23695, 23737])"
      ]
     },
     "execution_count": 107,
     "metadata": {},
     "output_type": "execute_result"
    }
   ],
   "source": []
  },
  {
   "cell_type": "code",
   "execution_count": 108,
   "metadata": {},
   "outputs": [],
   "source": []
  },
  {
   "cell_type": "code",
   "execution_count": 101,
   "metadata": {},
   "outputs": [],
   "source": [
    "correctness = preds_test == labels_test"
   ]
  },
  {
   "cell_type": "code",
   "execution_count": 102,
   "metadata": {},
   "outputs": [
    {
     "data": {
      "text/plain": [
       "tensor(22421)"
      ]
     },
     "execution_count": 102,
     "metadata": {},
     "output_type": "execute_result"
    }
   ],
   "source": [
    "correctness_origin.sum()"
   ]
  },
  {
   "cell_type": "code",
   "execution_count": 106,
   "metadata": {},
   "outputs": [
    {
     "data": {
      "text/plain": [
       "tensor(22378)"
      ]
     },
     "execution_count": 106,
     "metadata": {},
     "output_type": "execute_result"
    }
   ],
   "source": [
    "correctness.sum()"
   ]
  },
  {
   "cell_type": "code",
   "execution_count": 112,
   "metadata": {},
   "outputs": [
    {
     "name": "stdout",
     "output_type": "stream",
     "text": [
      "tensor(0.2717)\n",
      "tensor(0.6838)\n"
     ]
    }
   ],
   "source": [
    "changed_mask = torch.tensor(list(log.keys()))\n",
    "print(correctness_origin[changed_mask].sum()/len(changed_mask))\n",
    "print(correctness_origin[correctness_origin != correctness].sum()/len(correctness_origin[correctness_origin != correctness]))"
   ]
  },
  {
   "cell_type": "code",
   "execution_count": 105,
   "metadata": {},
   "outputs": [
    {
     "data": {
      "text/plain": [
       "tensor(0.6838)"
      ]
     },
     "execution_count": 105,
     "metadata": {},
     "output_type": "execute_result"
    }
   ],
   "source": []
  },
  {
   "cell_type": "code",
   "execution_count": 103,
   "metadata": {},
   "outputs": [
    {
     "data": {
      "text/plain": [
       "tensor(22378)"
      ]
     },
     "execution_count": 103,
     "metadata": {},
     "output_type": "execute_result"
    }
   ],
   "source": []
  },
  {
   "cell_type": "code",
   "execution_count": null,
   "metadata": {},
   "outputs": [
    {
     "data": {
      "text/plain": [
       "torch.Size([1, 29])"
      ]
     },
     "metadata": {},
     "output_type": "display_data"
    }
   ],
   "source": [
    "batch[\"data\"].T.shape"
   ]
  },
  {
   "cell_type": "code",
   "execution_count": 97,
   "metadata": {},
   "outputs": [
    {
     "data": {
      "text/plain": [
       "torch.Size([23820, 78])"
      ]
     },
     "execution_count": 97,
     "metadata": {},
     "output_type": "execute_result"
    }
   ],
   "source": [
    "logits_test_origin.shape"
   ]
  },
  {
   "cell_type": "code",
   "execution_count": 98,
   "metadata": {},
   "outputs": [
    {
     "data": {
      "text/plain": [
       "torch.Size([23820, 78])"
      ]
     },
     "execution_count": 98,
     "metadata": {},
     "output_type": "execute_result"
    }
   ],
   "source": [
    "logits_test.shape"
   ]
  },
  {
   "cell_type": "code",
   "execution_count": 80,
   "metadata": {},
   "outputs": [
    {
     "data": {
      "text/plain": [
       "0.6011335012594459"
      ]
     },
     "execution_count": 80,
     "metadata": {},
     "output_type": "execute_result"
    }
   ],
   "source": [
    "len(log)/len(labels_test)"
   ]
  },
  {
   "cell_type": "code",
   "execution_count": 90,
   "metadata": {},
   "outputs": [],
   "source": [
    "init_msp = [v[0] for k,v in log.items()]\n",
    "max_msp = [max(v) for k,v in log.items()]"
   ]
  },
  {
   "cell_type": "code",
   "execution_count": 91,
   "metadata": {},
   "outputs": [
    {
     "data": {
      "text/plain": [
       "0.030940386230058774"
      ]
     },
     "execution_count": 91,
     "metadata": {},
     "output_type": "execute_result"
    }
   ],
   "source": [
    "len(init_msp)/len(labels_test)"
   ]
  },
  {
   "cell_type": "code",
   "execution_count": 92,
   "metadata": {},
   "outputs": [
    {
     "name": "stdout",
     "output_type": "stream",
     "text": [
      "0.8734025146857692 0.9692277429951418\n"
     ]
    }
   ],
   "source": [
    "print(np.mean(init_msp), np.mean(max_msp))"
   ]
  },
  {
   "cell_type": "code",
   "execution_count": 82,
   "metadata": {},
   "outputs": [
    {
     "data": {
      "text/plain": [
       "0.9999910593032837"
      ]
     },
     "execution_count": 82,
     "metadata": {},
     "output_type": "execute_result"
    }
   ],
   "source": [
    "max(init_msp)"
   ]
  },
  {
   "cell_type": "code",
   "execution_count": 84,
   "metadata": {},
   "outputs": [],
   "source": [
    "# import seaborn as sns\n",
    "# sns.histplot(init_msp)"
   ]
  },
  {
   "cell_type": "code",
   "execution_count": 68,
   "metadata": {},
   "outputs": [
    {
     "data": {
      "text/plain": [
       "dict_keys([3, 4, 5, 7, 8, 13, 14, 15, 16, 17, 18, 19, 20, 27, 28, 29, 30, 31, 33, 34, 35, 39, 40, 41, 47, 48, 51, 52, 56, 57, 58, 59, 60, 61, 62, 63, 64, 65, 66, 67, 68, 69, 70, 71, 72, 73, 74, 75, 76, 77, 78, 79, 80, 81, 82, 83, 87, 88, 89, 90, 91, 92, 94, 95, 96, 97, 100, 101, 104, 105, 107, 108, 110, 111, 117, 118, 121, 122, 126, 127, 129, 130, 138, 139, 140, 141, 150, 151, 153, 154, 155, 156, 172, 173, 176, 177, 178, 179, 180, 181, 182, 183, 185, 186, 188, 189, 195, 196, 198, 199, 202, 203, 208, 209, 214, 215, 216, 221, 222, 223, 224, 225, 226, 227, 228, 229, 230, 233, 234, 235, 236, 237, 238, 244, 245, 246, 247, 248, 249, 251, 252, 253, 261, 262, 263, 272, 273, 274, 281, 282, 283, 284, 285, 286, 287, 288, 290, 291, 292, 293, 300, 301, 302, 303, 304, 305, 306, 307, 308, 309, 310, 314, 315, 316, 317, 318, 319, 320, 321, 322, 323, 324, 325, 326, 327, 331, 332, 337, 338, 339, 340, 344, 345, 347, 348, 349, 350, 351, 352, 353, 354, 355, 356, 357, 358, 359, 360, 361, 362, 364, 365, 366, 367, 368, 369, 370, 371, 372, 373, 374, 375, 376, 377, 378, 379, 384, 385, 396, 397, 400, 401, 402, 403, 404, 405, 406, 407, 411, 412, 413, 414, 425, 426, 427, 428, 429, 430, 434, 435, 436, 443, 444, 446, 447, 448, 449, 458, 459, 460, 461, 467, 468, 472, 473, 474, 475, 481, 482, 483, 485, 486, 487, 489, 490, 504, 505, 506, 510, 511, 512, 513, 514, 515, 516, 517, 518, 519, 521, 522, 526, 527, 528, 530, 531, 532, 533, 534, 535, 536, 537, 538, 539, 540, 541, 543, 544, 545, 546, 547, 548, 549, 555, 556, 559, 560, 561, 562, 568, 569, 570, 571, 572, 573, 574, 575, 576, 577, 578, 579, 580, 581, 582, 583, 584, 585, 586, 589, 590, 591, 592, 594, 595, 596, 597, 598, 599, 600, 601, 602, 603, 604, 605, 606, 607, 608, 609, 611, 612, 613, 614, 615, 616, 617, 625, 626, 629, 630, 631, 632, 635, 636, 637, 639, 640, 641, 649, 650, 651, 652, 653, 654, 655, 659, 660, 661, 662, 664, 665, 666, 667, 672, 673, 674, 675, 676, 678, 679, 683, 684, 693, 694, 696, 697, 698, 699, 702, 703, 704, 710, 711, 713, 714, 715, 716, 717, 718, 719, 720, 721, 722, 723, 724, 726, 727, 728, 746, 747, 748, 749, 750, 751, 752, 753, 754, 755, 756, 757, 758, 759, 760, 761, 771, 772, 773, 774, 780, 781, 791, 792, 793, 794, 795, 796, 798, 799, 800, 801, 803, 804, 805, 806, 807, 808, 809, 810, 811, 812, 813, 814, 815, 816, 817, 818, 821, 822, 823, 824, 825, 826, 827, 828, 829, 830, 831, 832, 833, 834, 835, 836, 837, 838, 839, 840, 841, 842, 843, 844, 845, 846, 847, 848, 850, 851, 852, 853, 863, 864, 866, 867, 868, 869, 885, 886, 889, 890, 891, 892, 893, 894, 914, 915, 916, 917, 918, 919, 921, 922, 923, 924, 925, 927, 928, 929, 931, 932, 934, 935, 941, 942, 944, 945, 952, 953, 955, 956, 960, 961, 967, 968, 970, 971, 976, 977, 978, 979, 980, 981, 982, 983, 984, 985, 986, 987, 988, 989, 990, 991, 992, 993, 994, 995, 996, 997, 999, 1000, 1001, 1003, 1004, 1005, 1006, 1007, 1008, 1009, 1010, 1011, 1012, 1013, 1014, 1015, 1016, 1017, 1018, 1023, 1024, 1026, 1027, 1029, 1030, 1031, 1032, 1033, 1034, 1035, 1036, 1037, 1038, 1039, 1040, 1041, 1042, 1043, 1044, 1047, 1048, 1051, 1052, 1053, 1054, 1078, 1079, 1080, 1081, 1087, 1088, 1089, 1096, 1097, 1102, 1103, 1108, 1109, 1115, 1116, 1121, 1122, 1123, 1124, 1125, 1126, 1129, 1130, 1131, 1132, 1133, 1134, 1142, 1143, 1144, 1145, 1146, 1147, 1148, 1149, 1151, 1152, 1153, 1154, 1155, 1156, 1160, 1161, 1162, 1163, 1165, 1166, 1176, 1177, 1180, 1181, 1183, 1184, 1187, 1188, 1189, 1190, 1191, 1192, 1193, 1194, 1195, 1196, 1197, 1198, 1199, 1200, 1201, 1202, 1203, 1206, 1207, 1208, 1209, 1211, 1212, 1213, 1214, 1215, 1216, 1225, 1226, 1230, 1231, 1234, 1235, 1236, 1237, 1238, 1239, 1240, 1241, 1247, 1248, 1249, 1250, 1251, 1252, 1253, 1254, 1255, 1256, 1257, 1258, 1264, 1265, 1266, 1267, 1268, 1269, 1271, 1272, 1280, 1281, 1286, 1287, 1288, 1294, 1295, 1296, 1297, 1299, 1300, 1301, 1315, 1316, 1317, 1319, 1320, 1322, 1323, 1336, 1337, 1340, 1341, 1342, 1343, 1344, 1345, 1355, 1356, 1357, 1358, 1364, 1365, 1366, 1367, 1368, 1369, 1381, 1382, 1383, 1384, 1385, 1386, 1394, 1395, 1397, 1398, 1399, 1400, 1401, 1402, 1403, 1404, 1405, 1406, 1407, 1409, 1410, 1412, 1413, 1417, 1418, 1419, 1420, 1421, 1428, 1429, 1430, 1431, 1432, 1433, 1434, 1435, 1436, 1442, 1443, 1446, 1447, 1448, 1449, 1450, 1451, 1452, 1453, 1454, 1455, 1456, 1457, 1458, 1459, 1460, 1461, 1462, 1463, 1464, 1465, 1466, 1467, 1468, 1469, 1470, 1471, 1472, 1473, 1474, 1475, 1476, 1477, 1480, 1481, 1482, 1484, 1485, 1488, 1489, 1490, 1491, 1492, 1498, 1499, 1500, 1501, 1502, 1503, 1512, 1513, 1514, 1515, 1525, 1526, 1533, 1534, 1535, 1536, 1543, 1544, 1545, 1549, 1550, 1557, 1558, 1562, 1563, 1564, 1565, 1566, 1567, 1571, 1572, 1573, 1575, 1576, 1578, 1579, 1582, 1583, 1584, 1585, 1588, 1589, 1590, 1591, 1592, 1593, 1595, 1596, 1599, 1600, 1602, 1603, 1605, 1606, 1608, 1609, 1614, 1615, 1616, 1617, 1618, 1619, 1620, 1621, 1622, 1623, 1624, 1625, 1626, 1634, 1635, 1636, 1637, 1639, 1640, 1641, 1642, 1643, 1644, 1645, 1646, 1647, 1648, 1649, 1650, 1651, 1652, 1653, 1654, 1655, 1656, 1657, 1658, 1660, 1661, 1670, 1671, 1672, 1681, 1682, 1683, 1689, 1690, 1692, 1693, 1695, 1696, 1697, 1698, 1703, 1704, 1706, 1707, 1708, 1709, 1710, 1711, 1712, 1713, 1714, 1715, 1716, 1717, 1718, 1719, 1720, 1721, 1722, 1727, 1728, 1731, 1732, 1733, 1734, 1735, 1739, 1740, 1747, 1748, 1757, 1758, 1766, 1767, 1768, 1769, 1770, 1771, 1772, 1773, 1774, 1775, 1776, 1777, 1778, 1779, 1784, 1785, 1786, 1787, 1788, 1789, 1790, 1791, 1795, 1796, 1803, 1804, 1805, 1806, 1811, 1812, 1813, 1814, 1815, 1816, 1817, 1818, 1824, 1825, 1826, 1828, 1829, 1832, 1833, 1834, 1835, 1836, 1837, 1838, 1839, 1840, 1841, 1842, 1843, 1844, 1845, 1846, 1847, 1848, 1849, 1850, 1851, 1852, 1853, 1854, 1855, 1856, 1857, 1858, 1859, 1860, 1861, 1862, 1863, 1864, 1865, 1870, 1871, 1872, 1873, 1875, 1876, 1878, 1879, 1880, 1881, 1885, 1886, 1891, 1892, 1893, 1894, 1895, 1896, 1897, 1902, 1903, 1904, 1905, 1906, 1907, 1908, 1909, 1920, 1921, 1922, 1923, 1933, 1934, 1935, 1936, 1937, 1938, 1939, 1940, 1943, 1944, 1945, 1946, 1947, 1948, 1949, 1950, 1951, 1952, 1953, 1954, 1955, 1956, 1958, 1959, 1961, 1962, 1967, 1968, 1975, 1976, 1981, 1982, 1983, 1984, 1986, 1987, 1988, 1989, 1999, 2000, 2001, 2002, 2003, 2004, 2006, 2007, 2008, 2009, 2010, 2012, 2013, 2015, 2016, 2017, 2022, 2023, 2024, 2027, 2028, 2029, 2033, 2034, 2035, 2036, 2040, 2041, 2043, 2044, 2047, 2048, 2049, 2050, 2054, 2055, 2056, 2057, 2058, 2059, 2060, 2061, 2062, 2063, 2064, 2065, 2066, 2067, 2068, 2069, 2070, 2071, 2072, 2073, 2074, 2075, 2076, 2082, 2083, 2084, 2085, 2087, 2088, 2089, 2093, 2094, 2096, 2097, 2098, 2099, 2100, 2101, 2102, 2103, 2107, 2108, 2109, 2110, 2111, 2112, 2113, 2114, 2115, 2116, 2117, 2118, 2119, 2120, 2121, 2122, 2123, 2124, 2125, 2126, 2127, 2129, 2130, 2134, 2135, 2136, 2138, 2139, 2140, 2141, 2142, 2143, 2144, 2145, 2146, 2147, 2149, 2150, 2151, 2152, 2153, 2156, 2157, 2158, 2159, 2160, 2161, 2162, 2163, 2164, 2165, 2166, 2167, 2168, 2169, 2170, 2171, 2172, 2173, 2174, 2175, 2176, 2177, 2178, 2179, 2180, 2181, 2182, 2183, 2188, 2189, 2193, 2194, 2203, 2204, 2213, 2214, 2215, 2216, 2217, 2218, 2219, 2220, 2221, 2222, 2223, 2224, 2229, 2230, 2236, 2237, 2240, 2241, 2247, 2248, 2258, 2259, 2260, 2261, 2262, 2263, 2264, 2265, 2266, 2267, 2268, 2269, 2270, 2280, 2281, 2282, 2283, 2284, 2285, 2286, 2287, 2289, 2290, 2291, 2293, 2294, 2295, 2307, 2308, 2309, 2312, 2313, 2315, 2316, 2317, 2318, 2319, 2320, 2321, 2322, 2325, 2326, 2328, 2329, 2331, 2332, 2333, 2334, 2338, 2339, 2344, 2345, 2346, 2347, 2348, 2349, 2350, 2351, 2352, 2353, 2354, 2355, 2356, 2357, 2358, 2360, 2361, 2362, 2363, 2364, 2365, 2368, 2369, 2370, 2371, 2373, 2374, 2375, 2376, 2377, 2378, 2379, 2380, 2381, 2382, 2383, 2384, 2385, 2386, 2387, 2388, 2389, 2390, 2391, 2392, 2393, 2394, 2395, 2396, 2397, 2398, 2399, 2401, 2402, 2403, 2404, 2410, 2411, 2413, 2414, 2415, 2416, 2421, 2422, 2424, 2425, 2426, 2427, 2428, 2432, 2433, 2434, 2437, 2438, 2446, 2447, 2448, 2449, 2450, 2451, 2454, 2455, 2456, 2457, 2461, 2462, 2463, 2464, 2465, 2466, 2489, 2490, 2491, 2492, 2493, 2501, 2502, 2503, 2504, 2505, 2506, 2507, 2508, 2509, 2510, 2511, 2512, 2513, 2514, 2515, 2516, 2517, 2518, 2519, 2520, 2521, 2526, 2527, 2528, 2529, 2530, 2531, 2534, 2535, 2536, 2537, 2538, 2539, 2544, 2545, 2548, 2549, 2552, 2553, 2557, 2558, 2559, 2560, 2564, 2565, 2572, 2573, 2574, 2575, 2577, 2578, 2579, 2580, 2581, 2582, 2583, 2593, 2594, 2595, 2596, 2597, 2598, 2599, 2600, 2601, 2602, 2603, 2604, 2605, 2606, 2607, 2608, 2609, 2610, 2611, 2612, 2613, 2614, 2615, 2616, 2617, 2618, 2619, 2620, 2624, 2625, 2626, 2627, 2628, 2629, 2630, 2631, 2632, 2633, 2634, 2635, 2636, 2637, 2640, 2641, 2643, 2644, 2648, 2649, 2650, 2651, 2652, 2653, 2655, 2656, 2662, 2663, 2665, 2666, 2672, 2673, 2676, 2677, 2678, 2680, 2681, 2687, 2688, 2696, 2697, 2698, 2699, 2700, 2701, 2707, 2708, 2709, 2710, 2711, 2712, 2713, 2714, 2715, 2718, 2719, 2720, 2722, 2723, 2726, 2727, 2728, 2729, 2730, 2731, 2732, 2737, 2738, 2742, 2743, 2745, 2746, 2747, 2748, 2749, 2750, 2751, 2752, 2753, 2754, 2755, 2759, 2760, 2761, 2762, 2763, 2764, 2765, 2772, 2773, 2774, 2775, 2776, 2777, 2778, 2779, 2780, 2781, 2782, 2783, 2784, 2785, 2786, 2787, 2789, 2790, 2793, 2794, 2800, 2801, 2803, 2804, 2809, 2810, 2811, 2812, 2813, 2814, 2815, 2816, 2817, 2820, 2821, 2822, 2823, 2824, 2825, 2826, 2827, 2828, 2829, 2830, 2831, 2832, 2833, 2834, 2835, 2841, 2842, 2843, 2844, 2845, 2846, 2847, 2848, 2853, 2854, 2855, 2856, 2857, 2858, 2859, 2860, 2861, 2862, 2863, 2864, 2870, 2871, 2872, 2873, 2877, 2878, 2879, 2880, 2881, 2882, 2889, 2890, 2892, 2893, 2894, 2895, 2902, 2903, 2904, 2905, 2911, 2912, 2913, 2935, 2936, 2941, 2942, 2947, 2948, 2949, 2950, 2951, 2952, 2956, 2957, 2958, 2959, 2960, 2961, 2962, 2963, 2965, 2966, 2969, 2970, 2971, 2972, 2973, 2974, 2980, 2981, 2988, 2989, 2990, 2991, 2992, 2993, 2994, 2995, 2996, 2997, 2998, 2999, 3000, 3001, 3002, 3003, 3011, 3012, 3013, 3014, 3015, 3016, 3017, 3026, 3027, 3028, 3029, 3030, 3031, 3032, 3033, 3034, 3035, 3036, 3037, 3038, 3039, 3040, 3041, 3042, 3043, 3044, 3045, 3046, 3047, 3048, 3049, 3050, 3051, 3052, 3053, 3054, 3055, 3056, 3057, 3058, 3059, 3060, 3061, 3062, 3063, 3064, 3065, 3066, 3067, 3068, 3069, 3070, 3071, 3072, 3073, 3074, 3075, 3077, 3078, 3080, 3081, 3082, 3083, 3084, 3085, 3086, 3087, 3088, 3089, 3090, 3091, 3092, 3093, 3094, 3095, 3105, 3106, 3107, 3109, 3110, 3114, 3115, 3117, 3118, 3129, 3130, 3142, 3143, 3144, 3145, 3146, 3151, 3152, 3153, 3154, 3155, 3166, 3167, 3168, 3169, 3170, 3177, 3178, 3180, 3181, 3182, 3183, 3188, 3189, 3190, 3191, 3192, 3193, 3194, 3195, 3203, 3204, 3211, 3212, 3213, 3214, 3215, 3216, 3217, 3218, 3219, 3220, 3222, 3223, 3224, 3225, 3226, 3227, 3232, 3233, 3235, 3236, 3237, 3238, 3239, 3240, 3241, 3243, 3244, 3245, 3246, 3247, 3248, 3250, 3251, 3252, 3255, 3256, 3267, 3268, 3269, 3270, 3271, 3272, 3273, 3274, 3275, 3277, 3278, 3279, 3280, 3281, 3282, 3283, 3284, 3285, 3286, 3287, 3288, 3289, 3290, 3291, 3292, 3293, 3294, 3295, 3296, 3297, 3298, 3299, 3300, 3301, 3302, 3303, 3304, 3305, 3306, 3307, 3308, 3309, 3310, 3311, 3312, 3313, 3314, 3318, 3319, 3320, 3321, 3334, 3335, 3336, 3337, 3342, 3343, 3344, 3345, 3351, 3352, 3353, 3354, 3355, 3356, 3358, 3359, 3361, 3362, 3363, 3364, 3377, 3378, 3383, 3384, 3389, 3390, 3391, 3394, 3395, 3398, 3399, 3400, 3401, 3402, 3403, 3411, 3412, 3413, 3414, 3415, 3416, 3417, 3418, 3420, 3421, 3423, 3424, 3425, 3429, 3430, 3431, 3432, 3433, 3434, 3435, 3436, 3438, 3439, 3440, 3442, 3443, 3445, 3446, 3450, 3451, 3459, 3460, 3461, 3462, 3463, 3464, 3468, 3469, 3472, 3473, 3475, 3476, 3477, 3478, 3479, 3480, 3481, 3482, 3483, 3484, 3485, 3486, 3490, 3491, 3492, 3493, 3498, 3499, 3501, 3502, 3503, 3504, 3508, 3509, 3511, 3512, 3515, 3516, 3517, 3518, 3519, 3520, 3521, 3522, 3524, 3525, 3530, 3531, 3532, 3533, 3534, 3536, 3537, 3538, 3539, 3540, 3541, 3542, 3543, 3544, 3545, 3546, 3547, 3548, 3549, 3550, 3551, 3552, 3553, 3556, 3557, 3561, 3562, 3563, 3564, 3565, 3566, 3567, 3568, 3574, 3575, 3576, 3577, 3578, 3579, 3586, 3587, 3588, 3589, 3590, 3591, 3594, 3595, 3596, 3597, 3601, 3602, 3606, 3607, 3609, 3610, 3612, 3613, 3616, 3617, 3618, 3619, 3620, 3621, 3624, 3625, 3632, 3633, 3634, 3635, 3637, 3638, 3646, 3647, 3648, 3649, 3650, 3651, 3652, 3660, 3661, 3663, 3664, 3665, 3666, 3667, 3668, 3671, 3672, 3675, 3676, 3681, 3682, 3685, 3686, 3689, 3690, 3691, 3692, 3693, 3694, 3695, 3696, 3697, 3698, 3699, 3700, 3701, 3702, 3707, 3708, 3709, 3710, 3711, 3712, 3714, 3715, 3716, 3717, 3718, 3719, 3720, 3721, 3722, 3723, 3724, 3725, 3726, 3727, 3728, 3729, 3730, 3731, 3732, 3733, 3736, 3737, 3745, 3746, 3747, 3748, 3749, 3750, 3751, 3752, 3753, 3754, 3755, 3756, 3757, 3758, 3759, 3760, 3770, 3771, 3773, 3774, 3776, 3777, 3779, 3780, 3781, 3782, 3783, 3784, 3785, 3786, 3787, 3788, 3789, 3790, 3803, 3804, 3808, 3809, 3811, 3812, 3813, 3814, 3815, 3816, 3819, 3820, 3821, 3822, 3823, 3824, 3825, 3826, 3827, 3828, 3830, 3831, 3832, 3834, 3835, 3841, 3842, 3843, 3844, 3846, 3847, 3850, 3851, 3856, 3857, 3858, 3860, 3861, 3862, 3874, 3875, 3878, 3879, 3880, 3881, 3882, 3884, 3885, 3887, 3888, 3893, 3894, 3897, 3898, 3899, 3900, 3901, 3908, 3909, 3910, 3911, 3912, 3913, 3914, 3915, 3916, 3917, 3918, 3919, 3920, 3921, 3922, 3923, 3924, 3925, 3926, 3927, 3928, 3929, 3930, 3931, 3932, 3933, 3934, 3935, 3936, 3937, 3938, 3939, 3940, 3941, 3942, 3943, 3947, 3948, 3949, 3950, 3953, 3954, 3955, 3956, 3957, 3958, 3960, 3961, 3962, 3963, 3964, 3965, 3968, 3969, 3970, 3971, 3973, 3974, 3975, 3976, 3977, 3978, 3979, 3980, 3981, 3982, 3983, 3984, 3985, 3986, 3987, 3988, 3989, 3990, 3991, 3992, 3999, 4000, 4001, 4002, 4003, 4008, 4009, 4010, 4011, 4012, 4013, 4016, 4017, 4018, 4025, 4026, 4027, 4028, 4042, 4043, 4044, 4045, 4048, 4049, 4050, 4051, 4052, 4053, 4056, 4057, 4058, 4059, 4061, 4062, 4070, 4071, 4072, 4073, 4074, 4075, 4080, 4081, 4082, 4083, 4095, 4096, 4097, 4098, 4101, 4102, 4103, 4104, 4105, 4106, 4107, 4115, 4116, 4118, 4119, 4121, 4122, 4123, 4124, 4125, 4126, 4130, 4131, 4132, 4133, 4134, 4135, 4136, 4137, 4138, 4139, 4140, 4141, 4142, 4143, 4144, 4148, 4149, 4150, 4151, 4152, 4153, 4154, 4155, 4156, 4157, 4161, 4162, 4163, 4164, 4165, 4166, 4167, 4168, 4169, 4170, 4171, 4172, 4173, 4174, 4175, 4176, 4177, 4178, 4179, 4180, 4181, 4182, 4183, 4184, 4185, 4186, 4187, 4188, 4191, 4192, 4193, 4194, 4195, 4196, 4197, 4198, 4199, 4200, 4201, 4202, 4203, 4204, 4205, 4206, 4207, 4208, 4209, 4210, 4211, 4212, 4213, 4214, 4215, 4216, 4217, 4218, 4219, 4220, 4221, 4222, 4223, 4224, 4227, 4228, 4229, 4233, 4234, 4242, 4243, 4244, 4245, 4246, 4247, 4254, 4255, 4257, 4258, 4259, 4260, 4261, 4262, 4263, 4264, 4265, 4270, 4271, 4273, 4274, 4276, 4277, 4281, 4282, 4283, 4284, 4287, 4288, 4289, 4290, 4291, 4292, 4294, 4295, 4296, 4297, 4299, 4300, 4309, 4310, 4311, 4312, 4313, 4314, 4315, 4316, 4317, 4318, 4319, 4320, 4321, 4323, 4324, 4325, 4326, 4327, 4329, 4330, 4331, 4332, 4333, 4334, 4343, 4344, 4347, 4348, 4349, 4350, 4357, 4358, 4359, 4360, 4361, 4362, 4363, 4364, 4365, 4366, 4367, 4368, 4369, 4370, 4371, 4372, 4373, 4374, 4375, 4376, 4377, 4378, 4379, 4380, 4381, 4382, 4383, 4384, 4385, 4386, 4387, 4388, 4389, 4390, 4397, 4398, 4401, 4402, 4403, 4404, 4405, 4406, 4407, 4408, 4409, 4410, 4413, 4414, 4415, 4416, 4417, 4418, 4419, 4420, 4421, 4422, 4423, 4424, 4425, 4426, 4427, 4428, 4429, 4430, 4431, 4432, 4433, 4434, 4435, 4436, 4437, 4438, 4439, 4447, 4448, 4453, 4454, 4455, 4456, 4457, 4458, 4459, 4460, 4461, 4462, 4464, 4465, 4466, 4467, 4468, 4469, 4470, 4471, 4473, 4474, 4475, 4476, 4477, 4478, 4479, 4480, 4481, 4482, 4483, 4484, 4485, 4486, 4487, 4488, 4489, 4490, 4491, 4492, 4494, 4495, 4498, 4499, 4500, 4501, 4502, 4503, 4504, 4505, 4506, 4507, 4508, 4509, 4510, 4511, 4512, 4513, 4514, 4515, 4516, 4517, 4518, 4519, 4520, 4526, 4527, 4528, 4530, 4531, 4532, 4539, 4540, 4541, 4542, 4543, 4544, 4545, 4546, 4547, 4548, 4549, 4550, 4551, 4552, 4553, 4562, 4563, 4564, 4565, 4566, 4567, 4570, 4571, 4572, 4573, 4574, 4575, 4583, 4584, 4585, 4586, 4588, 4589, 4595, 4596, 4600, 4601, 4603, 4604, 4605, 4606, 4607, 4608, 4610, 4611, 4613, 4614, 4622, 4623, 4624, 4625, 4626, 4627, 4649, 4650, 4651, 4652, 4653, 4654, 4655, 4656, 4658, 4659, 4660, 4661, 4662, 4663, 4664, 4665, 4666, 4667, 4668, 4669, 4675, 4676, 4677, 4678, 4679, 4680, 4681, 4682, 4684, 4685, 4687, 4688, 4694, 4695, 4696, 4697, 4698, 4702, 4703, 4705, 4706, 4708, 4709, 4710, 4712, 4713, 4716, 4717, 4718, 4719, 4720, 4721, 4722, 4723, 4724, 4725, 4727, 4728, 4729, 4730, 4731, 4732, 4733, 4734, 4736, 4737, 4739, 4740, 4743, 4744, 4747, 4748, 4749, 4750, 4754, 4755, 4758, 4759, 4767, 4768, 4774, 4775, 4778, 4779, 4780, 4781, 4782, 4783, 4788, 4789, 4790, 4791, 4792, 4793, 4794, 4795, 4796, 4797, 4798, 4801, 4802, 4812, 4813, 4814, 4815, 4816, 4817, 4818, 4819, 4820, 4821, 4822, 4823, 4824, 4827, 4828, 4831, 4832, 4833, 4834, 4835, 4836, 4838, 4839, 4840, 4841, 4842, 4843, 4852, 4853, 4854, 4855, 4857, 4858, 4859, 4860, 4861, 4862, 4863, 4864, 4865, 4868, 4869, 4870, 4871, 4872, 4873, 4874, 4875, 4878, 4879, 4885, 4886, 4887, 4888, 4889, 4890, 4891, 4892, 4893, 4894, 4899, 4900, 4904, 4905, 4906, 4907, 4908, 4909, 4910, 4911, 4912, 4913, 4914, 4915, 4916, 4917, 4918, 4919, 4920, 4921, 4922, 4923, 4924, 4925, 4926, 4927, 4928, 4929, 4934, 4935, 4939, 4940, 4941, 4942, 4943, 4944, 4945, 4946, 4947, 4948, 4949, 4950, 4951, 4952, 4953, 4954, 4955, 4956, 4957, 4962, 4963, 4966, 4967, 4968, 4969, 4971, 4972, 4973, 4974, 4977, 4978, 4986, 4987, 4994, 4995, 4996, 4997, 4998, 4999, 5003, 5004, 5005, 5006, 5007, 5008, 5014, 5015, 5016, 5017, 5019, 5020, 5021, 5022, 5029, 5030, 5031, 5032, 5033, 5034, 5035, 5036, 5037, 5048, 5049, 5050, 5051, 5052, 5053, 5056, 5057, 5058, 5059, 5061, 5062, 5066, 5067, 5069, 5070, 5073, 5074, 5075, 5076, 5077, 5078, 5079, 5080, 5081, 5082, 5083, 5084, 5087, 5088, 5089, 5090, 5091, 5092, 5093, 5094, 5095, 5101, 5102, 5104, 5105, 5106, 5107, 5109, 5110, 5114, 5115, 5116, 5117, 5118, 5119, 5120, 5121, 5122, 5123, 5124, 5125, 5126, 5129, 5130, 5133, 5134, 5135, 5136, 5137, 5138, 5139, 5140, 5145, 5146, 5147, 5148, 5149, 5150, 5151, 5152, 5153, 5154, 5155, 5156, 5157, 5158, 5159, 5160, 5161, 5162, 5163, 5164, 5165, 5166, 5167, 5169, 5170, 5171, 5172, 5173, 5174, 5175, 5176, 5177, 5178, 5179, 5180, 5181, 5182, 5183, 5184, 5186, 5187, 5188, 5189, 5190, 5191, 5192, 5193, 5194, 5195, 5196, 5197, 5198, 5199, 5200, 5201, 5209, 5210, 5213, 5214, 5215, 5216, 5217, 5218, 5219, 5220, 5222, 5223, 5226, 5227, 5228, 5229, 5231, 5232, 5233, 5234, 5237, 5238, 5239, 5240, 5241, 5244, 5245, 5246, 5247, 5249, 5250, 5251, 5252, 5253, 5254, 5255, 5256, 5259, 5260, 5278, 5279, 5281, 5282, 5283, 5284, 5285, 5286, 5287, 5288, 5289, 5290, 5291, 5292, 5294, 5295, 5305, 5306, 5309, 5310, 5311, 5316, 5317, 5319, 5320, 5321, 5322, 5324, 5325, 5327, 5328, 5330, 5331, 5332, 5333, 5335, 5336, 5345, 5346, 5347, 5348, 5349, 5350, 5351, 5352, 5353, 5354, 5355, 5356, 5357, 5358, 5359, 5360, 5362, 5363, 5364, 5365, 5366, 5367, 5368, 5369, 5370, 5371, 5372, 5373, 5374, 5375, 5376, 5377, 5382, 5383, 5384, 5385, 5386, 5388, 5389, 5390, 5391, 5392, 5393, 5397, 5398, 5400, 5401, 5402, 5403, 5404, 5405, 5406, 5407, 5408, 5409, 5410, 5411, 5412, 5413, 5414, 5415, 5416, 5417, 5418, 5419, 5421, 5422, 5423, 5424, 5428, 5429, 5431, 5432, 5439, 5440, 5455, 5456, 5458, 5459, 5465, 5466, 5474, 5475, 5476, 5477, 5478, 5479, 5500, 5501, 5502, 5503, 5506, 5507, 5508, 5509, 5510, 5511, 5512, 5513, 5514, 5515, 5516, 5517, 5518, 5519, 5522, 5523, 5524, 5525, 5526, 5527, 5529, 5530, 5534, 5535, 5538, 5539, 5540, 5543, 5544, 5545, 5546, 5547, 5548, 5549, 5550, 5551, 5552, 5553, 5554, 5555, 5556, 5557, 5558, 5559, 5560, 5561, 5562, 5563, 5564, 5565, 5567, 5568, 5569, 5570, 5571, 5572, 5573, 5574, 5575, 5576, 5577, 5578, 5579, 5580, 5581, 5582, 5583, 5584, 5585, 5586, 5587, 5590, 5591, 5592, 5593, 5599, 5600, 5601, 5602, 5603, 5604, 5605, 5606, 5609, 5610, 5611, 5612, 5613, 5614, 5615, 5616, 5617, 5618, 5619, 5620, 5621, 5622, 5623, 5624, 5625, 5626, 5627, 5628, 5629, 5630, 5633, 5634, 5639, 5640, 5646, 5647, 5654, 5655, 5659, 5660, 5668, 5669, 5672, 5673, 5674, 5675, 5679, 5680, 5684, 5685, 5687, 5688, 5689, 5690, 5691, 5694, 5695, 5696, 5699, 5700, 5701, 5702, 5706, 5707, 5708, 5709, 5710, 5711, 5712, 5713, 5714, 5715, 5716, 5717, 5718, 5721, 5722, 5723, 5724, 5727, 5728, 5729, 5730, 5731, 5732, 5734, 5735, 5737, 5738, 5739, 5740, 5744, 5745, 5746, 5752, 5753, 5755, 5756, 5763, 5764, 5766, 5767, 5768, 5769, 5772, 5773, 5774, 5775, 5776, 5777, 5779, 5780, 5781, 5782, 5783, 5784, 5785, 5787, 5788, 5793, 5794, 5797, 5798, 5801, 5802, 5803, 5804, 5807, 5808, 5810, 5811, 5812, 5813, 5814, 5815, 5816, 5817, 5818, 5819, 5821, 5822, 5823, 5824, 5825, 5826, 5827, 5828, 5829, 5830, 5831, 5832, 5833, 5834, 5835, 5836, 5837, 5838, 5839, 5840, 5841, 5842, 5843, 5844, 5845, 5846, 5847, 5848, 5849, 5850, 5851, 5852, 5853, 5854, 5855, 5856, 5857, 5858, 5859, 5860, 5861, 5862, 5863, 5864, 5865, 5866, 5867, 5868, 5876, 5877, 5878, 5879, 5884, 5885, 5886, 5891, 5892, 5894, 5895, 5899, 5900, 5901, 5902, 5903, 5904, 5905, 5909, 5910, 5911, 5916, 5917, 5919, 5920, 5924, 5925, 5926, 5927, 5928, 5929, 5930, 5931, 5932, 5933, 5934, 5935, 5936, 5937, 5938, 5939, 5940, 5943, 5944, 5946, 5947, 5951, 5952, 5956, 5957, 5962, 5963, 5966, 5967, 5968, 5969, 5970, 5971, 5972, 5973, 5974, 5975, 5976, 5980, 5981, 5986, 5987, 5988, 5989, 5990, 5991, 5992, 5993, 5996, 5997, 5998, 5999, 6000, 6001, 6002, 6003, 6004, 6005, 6007, 6008, 6009, 6010, 6014, 6015, 6016, 6017, 6018, 6019, 6020, 6021, 6022, 6023, 6024, 6025, 6026, 6027, 6028, 6029, 6030, 6031, 6032, 6033, 6034, 6035, 6037, 6038, 6039, 6040, 6041, 6042, 6043, 6044, 6051, 6052, 6053, 6054, 6056, 6057, 6058, 6059, 6060, 6068, 6069, 6075, 6076, 6077, 6078, 6080, 6081, 6085, 6086, 6087, 6088, 6089, 6090, 6091, 6092, 6093, 6094, 6095, 6096, 6100, 6101, 6102, 6103, 6106, 6107, 6108, 6109, 6110, 6114, 6115, 6123, 6124, 6126, 6127, 6128, 6129, 6133, 6134, 6135, 6142, 6143, 6144, 6145, 6146, 6147, 6148, 6149, 6150, 6151, 6153, 6154, 6155, 6156, 6157, 6158, 6159, 6160, 6161, 6162, 6168, 6169, 6170, 6171, 6172, 6173, 6175, 6176, 6181, 6182, 6183, 6184, 6188, 6189, 6196, 6197, 6198, 6199, 6205, 6206, 6207, 6208, 6209, 6210, 6212, 6213, 6215, 6216, 6217, 6218, 6219, 6220, 6221, 6222, 6225, 6226, 6227, 6228, 6229, 6230, 6231, 6232, 6233, 6234, 6235, 6236, 6237, 6238, 6239, 6240, 6241, 6242, 6243, 6244, 6245, 6246, 6247, 6248, 6249, 6250, 6251, 6252, 6260, 6261, 6262, 6263, 6264, 6265, 6266, 6267, 6268, 6269, 6270, 6271, 6272, 6273, 6274, 6275, 6279, 6280, 6287, 6288, 6289, 6290, 6291, 6292, 6293, 6294, 6295, 6296, 6297, 6298, 6299, 6300, 6301, 6302, 6303, 6304, 6305, 6308, 6309, 6315, 6316, 6320, 6321, 6328, 6329, 6330, 6331, 6332, 6333, 6334, 6336, 6337, 6341, 6342, 6344, 6345, 6346, 6347, 6358, 6359, 6360, 6362, 6363, 6364, 6365, 6366, 6374, 6375, 6376, 6377, 6378, 6379, 6380, 6381, 6382, 6383, 6384, 6385, 6386, 6387, 6388, 6390, 6391, 6397, 6398, 6399, 6400, 6401, 6402, 6403, 6404, 6405, 6406, 6407, 6408, 6409, 6410, 6411, 6412, 6413, 6414, 6415, 6416, 6417, 6419, 6420, 6427, 6428, 6434, 6435, 6437, 6438, 6439, 6440, 6441, 6442, 6443, 6444, 6445, 6446, 6447, 6448, 6449, 6450, 6451, 6452, 6460, 6461, 6462, 6463, 6464, 6465, 6466, 6467, 6468, 6469, 6472, 6473, 6475, 6476, 6477, 6478, 6479, 6480, 6481, 6482, 6485, 6486, 6487, 6488, 6489, 6490, 6491, 6492, 6493, 6494, 6495, 6496, 6497, 6498, 6499, 6500, 6502, 6503, 6504, 6505, 6506, 6507, 6508, 6509, 6510, 6511, 6512, 6513, 6514, 6515, 6516, 6517, 6518, 6519, 6520, 6521, 6529, 6530, 6531, 6532, 6535, 6536, 6537, 6539, 6540, 6541, 6542, 6543, 6544, 6545, 6546, 6547, 6548, 6564, 6565, 6566, 6567, 6568, 6570, 6571, 6572, 6573, 6574, 6575, 6586, 6587, 6588, 6589, 6590, 6591, 6592, 6593, 6594, 6596, 6597, 6610, 6611, 6623, 6624, 6625, 6626, 6628, 6629, 6635, 6636, 6637, 6638, 6644, 6645, 6646, 6647, 6648, 6649, 6664, 6665, 6668, 6669, 6672, 6673, 6677, 6678, 6680, 6681, 6684, 6685, 6686, 6687, 6688, 6689, 6690, 6691, 6692, 6693, 6694, 6695, 6696, 6697, 6698, 6699, 6700, 6701, 6702, 6703, 6705, 6706, 6707, 6708, 6709, 6710, 6711, 6712, 6713, 6714, 6715, 6716, 6717, 6718, 6719, 6720, 6721, 6722, 6723, 6724, 6725, 6726, 6727, 6728, 6729, 6730, 6731, 6732, 6733, 6734, 6736, 6737, 6738, 6739, 6740, 6741, 6742, 6743, 6744, 6745, 6746, 6749, 6750, 6755, 6756, 6758, 6759, 6760, 6761, 6762, 6763, 6764, 6765, 6766, 6767, 6768, 6769, 6771, 6772, 6773, 6774, 6775, 6776, 6777, 6778, 6784, 6785, 6786, 6787, 6788, 6789, 6790, 6791, 6792, 6793, 6794, 6795, 6797, 6798, 6799, 6800, 6801, 6802, 6803, 6804, 6806, 6807, 6808, 6809, 6810, 6811, 6812, 6813, 6814, 6815, 6816, 6817, 6818, 6819, 6820, 6821, 6822, 6823, 6824, 6825, 6826, 6827, 6828, 6829, 6830, 6831, 6832, 6838, 6839, 6840, 6841, 6844, 6845, 6846, 6847, 6850, 6851, 6856, 6857, 6871, 6872, 6879, 6880, 6881, 6882, 6883, 6884, 6893, 6894, 6895, 6898, 6899, 6904, 6905, 6906, 6907, 6908, 6909, 6910, 6911, 6912, 6913, 6914, 6915, 6920, 6921, 6922, 6923, 6925, 6926, 6932, 6933, 6940, 6941, 6947, 6948, 6949, 6950, 6955, 6956, 6957, 6958, 6961, 6962, 6965, 6966, 6967, 6968, 6972, 6973, 6975, 6976, 6978, 6979, 6980, 6981, 6982, 6983, 6984, 6985, 6986, 6987, 6995, 6996, 6997, 6998, 6999, 7000, 7001, 7002, 7003, 7004, 7005, 7006, 7007, 7008, 7011, 7012, 7020, 7021, 7028, 7029, 7030, 7031, 7032, 7033, 7034, 7042, 7043, 7044, 7045, 7046, 7047, 7048, 7049, 7055, 7056, 7057, 7058, 7059, 7060, 7066, 7067, 7068, 7069, 7074, 7075, 7076, 7077, 7078, 7079, 7080, 7081, 7082, 7083, 7087, 7088, 7092, 7093, 7094, 7095, 7096, 7097, 7098, 7099, 7100, 7101, 7102, 7103, 7104, 7105, 7106, 7109, 7110, 7112, 7113, 7114, 7122, 7123, 7125, 7126, 7134, 7135, 7137, 7138, 7139, 7140, 7141, 7142, 7145, 7146, 7147, 7148, 7150, 7151, 7152, 7153, 7156, 7157, 7158, 7159, 7160, 7161, 7162, 7163, 7164, 7165, 7166, 7167, 7175, 7176, 7178, 7179, 7180, 7181, 7182, 7183, 7184, 7185, 7186, 7187, 7188, 7189, 7190, 7191, 7192, 7193, 7194, 7195, 7196, 7197, 7203, 7204, 7207, 7208, 7210, 7211, 7212, 7213, 7214, 7215, 7218, 7219, 7220, 7221, 7222, 7223, 7224, 7225, 7226, 7227, 7229, 7230, 7231, 7232, 7233, 7234, 7235, 7236, 7238, 7239, 7240, 7241, 7247, 7248, 7249, 7259, 7260, 7261, 7262, 7265, 7266, 7270, 7271, 7272, 7273, 7275, 7276, 7277, 7283, 7284, 7287, 7288, 7294, 7295, 7305, 7306, 7307, 7308, 7309, 7310, 7311, 7312, 7331, 7332, 7333, 7334, 7341, 7342, 7343, 7344, 7345, 7346, 7351, 7352, 7353, 7354, 7355, 7356, 7359, 7360, 7361, 7363, 7364, 7365, 7367, 7368, 7369, 7387, 7388, 7389, 7390, 7393, 7394, 7395, 7396, 7397, 7398, 7406, 7407, 7408, 7409, 7423, 7424, 7425, 7426, 7427, 7428, 7429, 7439, 7440, 7441, 7442, 7443, 7444, 7445, 7447, 7448, 7449, 7450, 7451, 7452, 7454, 7455, 7457, 7458, 7459, 7460, 7461, 7462, 7463, 7464, 7465, 7466, 7467, 7468, 7473, 7474, 7477, 7478, 7479, 7480, 7481, 7482, 7483, 7484, 7489, 7490, 7500, 7501, 7502, 7503, 7505, 7506, 7512, 7513, 7525, 7526, 7527, 7528, 7530, 7531, 7532, 7533, 7552, 7553, 7554, 7557, 7558, 7559, 7560, 7561, 7562, 7563, 7564, 7571, 7572, 7573, 7574, 7575, 7576, 7577, 7578, 7579, 7580, 7586, 7587, 7588, 7589, 7590, 7591, 7592, 7593, 7601, 7602, 7607, 7608, 7609, 7610, 7611, 7612, 7613, 7614, 7622, 7623, 7634, 7635, 7637, 7638, 7639, 7640, 7641, 7642, 7643, 7644, 7645, 7646, 7647, 7648, 7649, 7650, 7651, 7652, 7653, 7654, 7655, 7656, 7657, 7658, 7659, 7660, 7661, 7662, 7663, 7664, 7665, 7666, 7667, 7668, 7669, 7670, 7671, 7672, 7674, 7675, 7676, 7677, 7678, 7679, 7680, 7681, 7682, 7683, 7684, 7685, 7686, 7688, 7689, 7690, 7691, 7692, 7693, 7696, 7697, 7698, 7699, 7705, 7706, 7707, 7708, 7709, 7710, 7711, 7719, 7720, 7723, 7724, 7739, 7740, 7741, 7753, 7754, 7755, 7756, 7763, 7764, 7765, 7766, 7767, 7768, 7769, 7770, 7771, 7772, 7774, 7775, 7778, 7779, 7781, 7782, 7783, 7784, 7785, 7786, 7787, 7788, 7789, 7794, 7795, 7796, 7805, 7806, 7807, 7808, 7812, 7813, 7823, 7824, 7830, 7831, 7832, 7833, 7834, 7835, 7836, 7837, 7838, 7839, 7843, 7844, 7852, 7853, 7854, 7855, 7858, 7859, 7866, 7867, 7871, 7872, 7874, 7875, 7888, 7889, 7891, 7892, 7893, 7898, 7899, 7900, 7901, 7902, 7903, 7904, 7905, 7908, 7909, 7910, 7911, 7912, 7913, 7915, 7916, 7917, 7930, 7931, 7932, 7933, 7936, 7937, 7938, 7941, 7942, 7943, 7951, 7952, 7954, 7955, 7956, 7957, 7958, 7960, 7961, 7962, 7963, 7967, 7968, 7970, 7971, 7972, 7973, 7974, 7975, 7976, 7977, 7978, 7985, 7986, 7989, 7990, 7992, 7993, 7994, 7995, 7996, 7997, 7998, 7999, 8000, 8001, 8005, 8006, 8009, 8010, 8011, 8012, 8014, 8015, 8016, 8017, 8018, 8019, 8020, 8021, 8022, 8023, 8024, 8025, 8027, 8028, 8029, 8030, 8031, 8032, 8033, 8034, 8058, 8059, 8060, 8066, 8067, 8078, 8079, 8083, 8084, 8087, 8088, 8089, 8090, 8093, 8094, 8095, 8097, 8098, 8099, 8100, 8101, 8102, 8103, 8104, 8105, 8107, 8108, 8109, 8110, 8111, 8112, 8113, 8114, 8115, 8117, 8118, 8127, 8128, 8134, 8135, 8136, 8137, 8138, 8139, 8149, 8150, 8151, 8152, 8156, 8157, 8159, 8160, 8161, 8162, 8163, 8175, 8176, 8177, 8178, 8181, 8182, 8183, 8186, 8187, 8189, 8190, 8196, 8197, 8198, 8199, 8203, 8204, 8205, 8206, 8208, 8209, 8210, 8211, 8212, 8213, 8214, 8215, 8216, 8217, 8218, 8219, 8220, 8221, 8222, 8223, 8224, 8225, 8226, 8227, 8228, 8229, 8230, 8231, 8232, 8233, 8234, 8235, 8236, 8237, 8238, 8239, 8240, 8241, 8242, 8243, 8245, 8246, 8247, 8252, 8253, 8255, 8256, 8257, 8258, 8260, 8261, 8262, 8263, 8264, 8265, 8266, 8267, 8268, 8269, 8270, 8271, 8273, 8274, 8275, 8276, 8277, 8278, 8279, 8280, 8282, 8283, 8284, 8285, 8286, 8287, 8288, 8289, 8290, 8291, 8292, 8293, 8294, 8295, 8296, 8297, 8301, 8302, 8304, 8305, 8307, 8308, 8323, 8324, 8328, 8329, 8333, 8334, 8335, 8336, 8338, 8339, 8340, 8341, 8342, 8343, 8344, 8345, 8347, 8348, 8349, 8351, 8352, 8353, 8354, 8355, 8356, 8357, 8358, 8361, 8362, 8368, 8369, 8370, 8371, 8374, 8375, 8376, 8377, 8383, 8384, 8388, 8389, 8391, 8392, 8393, 8394, 8396, 8397, 8398, 8399, 8403, 8404, 8410, 8411, 8412, 8413, 8414, 8415, 8416, 8417, 8418, 8419, 8420, 8421, 8422, 8423, 8424, 8425, 8426, 8427, 8429, 8430, 8431, 8432, 8433, 8434, 8437, 8438, 8439, 8440, 8447, 8448, 8449, 8450, 8458, 8459, 8460, 8464, 8465, 8467, 8468, 8469, 8470, 8471, 8472, 8477, 8478, 8480, 8481, 8482, 8483, 8486, 8487, 8488, 8490, 8491, 8493, 8494, 8495, 8496, 8498, 8499, 8501, 8502, 8503, 8504, 8506, 8507, 8508, 8509, 8510, 8511, 8512, 8513, 8518, 8519, 8520, 8521, 8522, 8525, 8526, 8527, 8528, 8530, 8531, 8535, 8536, 8546, 8547, 8549, 8550, 8554, 8555, 8556, 8557, 8558, 8559, 8560, 8561, 8562, 8563, 8573, 8574, 8579, 8580, 8582, 8583, 8584, 8586, 8587, 8589, 8590, 8592, 8593, 8600, 8601, 8602, 8610, 8611, 8618, 8619, 8620, 8621, 8630, 8631, 8632, 8633, 8634, 8636, 8637, 8638, 8639, 8641, 8642, 8644, 8645, 8647, 8648, 8649, 8650, 8651, 8652, 8653, 8654, 8658, 8659, 8660, 8670, 8671, 8672, 8673, 8678, 8679, 8681, 8682, 8684, 8685, 8686, 8688, 8689, 8690, 8691, 8692, 8693, 8694, 8695, 8699, 8700, 8701, 8702, 8703, 8704, 8705, 8706, 8707, 8708, 8709, 8710, 8712, 8713, 8714, 8715, 8716, 8717, 8720, 8721, 8722, 8723, 8724, 8725, 8726, 8727, 8728, 8729, 8730, 8731, 8732, 8733, 8734, 8735, 8736, 8737, 8738, 8739, 8740, 8741, 8745, 8746, 8747, 8748, 8752, 8753, 8756, 8757, 8766, 8767, 8768, 8769, 8770, 8776, 8777, 8780, 8781, 8782, 8783, 8785, 8786, 8791, 8792, 8793, 8794, 8800, 8801, 8804, 8805, 8812, 8813, 8822, 8823, 8824, 8825, 8826, 8827, 8828, 8829, 8842, 8843, 8845, 8846, 8847, 8850, 8851, 8852, 8853, 8854, 8855, 8857, 8858, 8870, 8871, 8879, 8880, 8881, 8885, 8886, 8887, 8888, 8889, 8892, 8893, 8894, 8895, 8896, 8897, 8901, 8902, 8903, 8905, 8906, 8907, 8908, 8909, 8910, 8911, 8912, 8913, 8914, 8915, 8916, 8917, 8918, 8919, 8920, 8921, 8922, 8923, 8924, 8925, 8926, 8927, 8928, 8929, 8930, 8931, 8936, 8937, 8938, 8939, 8945, 8946, 8947, 8948, 8949, 8950, 8952, 8953, 8954, 8955, 8956, 8958, 8959, 8960, 8961, 8962, 8963, 8964, 8965, 8966, 8967, 8968, 8969, 8970, 8971, 8972, 8973, 8974, 8975, 8976, 8977, 8978, 8979, 8980, 8981, 8982, 8983, 8985, 8986, 8987, 8988, 8989, 8990, 8991, 8992, 8993, 8994, 8995, 8996, 8997, 8998, 8999, 9000, 9001, 9002, 9003, 9004, 9005, 9006, 9007, 9008, 9009, 9010, 9011, 9012, 9020, 9021, 9024, 9025, 9026, 9027, 9030, 9031, 9043, 9044, 9045, 9046, 9048, 9049, 9052, 9053, 9054, 9055, 9056, 9057, 9058, 9059, 9066, 9067, 9073, 9074, 9075, 9076, 9077, 9078, 9079, 9085, 9086, 9087, 9088, 9089, 9090, 9092, 9093, 9094, 9096, 9097, 9104, 9105, 9106, 9107, 9113, 9114, 9115, 9116, 9117, 9118, 9119, 9120, 9121, 9122, 9123, 9124, 9125, 9126, 9128, 9129, 9131, 9132, 9133, 9134, 9136, 9137, 9138, 9139, 9140, 9141, 9142, 9143, 9144, 9145, 9146, 9147, 9148, 9149, 9150, 9151, 9152, 9159, 9160, 9161, 9162, 9163, 9164, 9165, 9166, 9168, 9169, 9170, 9171, 9172, 9173, 9174, 9175, 9177, 9178, 9179, 9181, 9182, 9186, 9187, 9193, 9194, 9200, 9201, 9202, 9203, 9204, 9205, 9212, 9213, 9217, 9218, 9219, 9220, 9221, 9222, 9223, 9224, 9225, 9226, 9227, 9228, 9231, 9232, 9233, 9234, 9236, 9237, 9241, 9242, 9247, 9248, 9249, 9250, 9251, 9252, 9253, 9260, 9261, 9262, 9263, 9264, 9265, 9266, 9267, 9268, 9269, 9270, 9271, 9272, 9273, 9274, 9275, 9276, 9277, 9278, 9279, 9280, 9281, 9283, 9284, 9286, 9287, 9288, 9289, 9290, 9291, 9292, 9293, 9294, 9295, 9296, 9297, 9298, 9299, 9300, 9301, 9303, 9304, 9305, 9307, 9308, 9309, 9311, 9312, 9313, 9315, 9316, 9317, 9318, 9319, 9320, 9325, 9326, 9327, 9328, 9329, 9330, 9339, 9340, 9341, 9342, 9343, 9344, 9345, 9346, 9347, 9352, 9353, 9354, 9355, 9356, 9357, 9358, 9359, 9360, 9361, 9362, 9363, 9364, 9365, 9366, 9367, 9369, 9370, 9371, 9372, 9373, 9374, 9377, 9378, 9379, 9380, 9381, 9382, 9383, 9384, 9385, 9386, 9387, 9388, 9389, 9390, 9391, 9392, 9393, 9394, 9395, 9396, 9397, 9398, 9399, 9400, 9405, 9406, 9408, 9409, 9410, 9411, 9412, 9413, 9414, 9415, 9416, 9417, 9418, 9419, 9423, 9424, 9425, 9426, 9427, 9428, 9429, 9430, 9431, 9432, 9433, 9434, 9435, 9436, 9437, 9438, 9439, 9440, 9451, 9452, 9453, 9454, 9455, 9456, 9457, 9458, 9459, 9460, 9461, 9462, 9463, 9464, 9467, 9468, 9469, 9470, 9484, 9485, 9492, 9493, 9494, 9495, 9496, 9497, 9504, 9505, 9509, 9510, 9513, 9514, 9515, 9516, 9519, 9520, 9523, 9524, 9528, 9529, 9533, 9534, 9535, 9536, 9553, 9554, 9555, 9556, 9558, 9559, 9560, 9561, 9562, 9563, 9564, 9565, 9566, 9567, 9568, 9569, 9570, 9571, 9572, 9573, 9574, 9576, 9577, 9579, 9580, 9581, 9582, 9584, 9585, 9586, 9587, 9588, 9589, 9590, 9591, 9600, 9601, 9602, 9605, 9606, 9607, 9608, 9609, 9610, 9611, 9612, 9613, 9614, 9615, 9620, 9621, 9622, 9623, 9624, 9625, 9626, 9627, 9628, 9629, 9630, 9631, 9632, 9633, 9634, 9635, 9636, 9638, 9639, 9641, 9642, 9644, 9645, 9651, 9652, 9653, 9654, 9655, 9656, 9657, 9658, 9659, 9660, 9661, 9662, 9663, 9664, 9665, 9666, 9667, 9668, 9674, 9675, 9681, 9682, 9683, 9684, 9685, 9686, 9687, 9688, 9689, 9690, 9691, 9692, 9694, 9695, 9696, 9697, 9698, 9699, 9700, 9701, 9708, 9709, 9714, 9715, 9721, 9722, 9734, 9735, 9736, 9744, 9745, 9746, 9747, 9748, 9749, 9750, 9751, 9753, 9754, 9755, 9756, 9758, 9759, 9761, 9762, 9764, 9765, 9772, 9773, 9774, 9775, 9779, 9780, 9781, 9782, 9785, 9786, 9788, 9789, 9790, 9791, 9792, 9793, 9794, 9795, 9796, 9797, 9798, 9799, 9800, 9801, 9802, 9803, 9804, 9805, 9806, 9815, 9816, 9817, 9818, 9819, 9820, 9824, 9825, 9828, 9829, 9830, 9831, 9832, 9833, 9834, 9835, 9836, 9837, 9838, 9839, 9840, 9849, 9850, 9851, 9852, 9853, 9854, 9855, 9856, 9860, 9861, 9862, 9863, 9864, 9865, 9866, 9867, 9868, 9869, 9870, 9871, 9872, 9874, 9875, 9878, 9879, 9880, 9881, 9882, 9883, 9884, 9885, 9886, 9887, 9888, 9889, 9891, 9892, 9893, 9894, 9895, 9896, 9897, 9898, 9899, 9900, 9901, 9902, 9903, 9904, 9905, 9906, 9907, 9908, 9909, 9910, 9911, 9912, 9913, 9914, 9915, 9916, 9918, 9919, 9920, 9922, 9923, 9924, 9925, 9929, 9930, 9931, 9932, 9933, 9934, 9935, 9936, 9939, 9940, 9941, 9942, 9943, 9944, 9945, 9946, 9947, 9948, 9949, 9951, 9952, 9953, 9954, 9955, 9956, 9957, 9958, 9959, 9960, 9961, 9962, 9965, 9966, 9967, 9986, 9987, 9988, 9989, 9999, 10000, 10003, 10004, 10005, 10006, 10007, 10008, 10009, 10010, 10011, 10012, 10016, 10017, 10019, 10020, 10021, 10022, 10025, 10026, 10031, 10032, 10034, 10035, 10038, 10039, 10042, 10043, 10047, 10048, 10051, 10052, 10060, 10061, 10062, 10063, 10064, 10065, 10067, 10068, 10069, 10073, 10074, 10075, 10076, 10077, 10078, 10079, 10081, 10082, 10083, 10084, 10085, 10086, 10098, 10099, 10100, 10101, 10102, 10103, 10104, 10105, 10106, 10107, 10108, 10109, 10111, 10112, 10113, 10114, 10115, 10116, 10117, 10118, 10119, 10120, 10129, 10130, 10132, 10133, 10137, 10138, 10139, 10140, 10141, 10142, 10143, 10144, 10145, 10147, 10148, 10149, 10150, 10151, 10152, 10153, 10154, 10155, 10156, 10158, 10159, 10161, 10162, 10164, 10165, 10166, 10167, 10168, 10170, 10171, 10172, 10173, 10216, 10217, 10220, 10221, 10222, 10240, 10241, 10242, 10243, 10247, 10248, 10251, 10252, 10253, 10254, 10261, 10262, 10266, 10267, 10268, 10269, 10270, 10271, 10272, 10273, 10274, 10276, 10277, 10278, 10279, 10284, 10285, 10286, 10287, 10288, 10289, 10290, 10291, 10295, 10296, 10297, 10298, 10299, 10300, 10301, 10307, 10308, 10309, 10310, 10311, 10312, 10313, 10314, 10315, 10316, 10326, 10327, 10328, 10329, 10330, 10333, 10334, 10336, 10337, 10338, 10339, 10340, 10341, 10342, 10343, 10350, 10351, 10354, 10355, 10356, 10362, 10363, 10364, 10365, 10366, 10368, 10369, 10370, 10371, 10372, 10374, 10375, 10376, 10377, 10378, 10379, 10380, 10382, 10383, 10384, 10385, 10386, 10387, 10388, 10389, 10390, 10391, 10392, 10393, 10394, 10395, 10396, 10397, 10398, 10399, 10400, 10401, 10402, 10403, 10404, 10405, 10406, 10407, 10408, 10409, 10412, 10413, 10414, 10418, 10419, 10420, 10421, 10423, 10424, 10425, 10426, 10427, 10428, 10429, 10430, 10431, 10432, 10433, 10434, 10439, 10440, 10441, 10442, 10443, 10444, 10447, 10448, 10449, 10450, 10451, 10452, 10453, 10454, 10455, 10456, 10457, 10458, 10461, 10462, 10466, 10467, 10468, 10469, 10470, 10471, 10472, 10473, 10474, 10475, 10476, 10477, 10493, 10494, 10499, 10500, 10505, 10506, 10509, 10510, 10511, 10512, 10513, 10514, 10518, 10519, 10523, 10524, 10525, 10526, 10528, 10529, 10530, 10531, 10533, 10534, 10535, 10536, 10547, 10548, 10549, 10550, 10551, 10552, 10553, 10555, 10556, 10557, 10558, 10559, 10560, 10562, 10563, 10564, 10565, 10567, 10568, 10569, 10570, 10571, 10572, 10573, 10574, 10575, 10576, 10577, 10583, 10584, 10588, 10589, 10591, 10592, 10593, 10594, 10596, 10597, 10599, 10600, 10608, 10609, 10615, 10616, 10617, 10630, 10631, 10633, 10634, 10635, 10636, 10637, 10638, 10639, 10640, 10641, 10642, 10643, 10644, 10645, 10646, 10647, 10652, 10653, 10657, 10658, 10659, 10660, 10661, 10662, 10665, 10666, 10667, 10668, 10669, 10670, 10675, 10676, 10677, 10678, 10679, 10680, 10681, 10682, 10684, 10685, 10686, 10687, 10694, 10695, 10697, 10698, 10699, 10700, 10707, 10708, 10712, 10713, 10715, 10716, 10717, 10718, 10719, 10720, 10730, 10731, 10732, 10733, 10734, 10738, 10739, 10742, 10743, 10744, 10745, 10746, 10747, 10753, 10754, 10755, 10760, 10761, 10762, 10763, 10764, 10765, 10766, 10776, 10777, 10778, 10779, 10780, 10781, 10782, 10783, 10785, 10786, 10787, 10788, 10793, 10794, 10795, 10796, 10797, 10798, 10799, 10800, 10811, 10812, 10816, 10817, 10822, 10823, 10824, 10825, 10826, 10827, 10828, 10829, 10830, 10831, 10834, 10835, 10836, 10837, 10838, 10839, 10840, 10841, 10842, 10843, 10844, 10845, 10846, 10847, 10848, 10849, 10850, 10851, 10852, 10853, 10854, 10855, 10856, 10857, 10858, 10859, 10860, 10861, 10862, 10863, 10864, 10865, 10866, 10867, 10868, 10869, 10870, 10871, 10872, 10873, 10875, 10876, 10877, 10878, 10879, 10880, 10881, 10882, 10883, 10884, 10885, 10886, 10887, 10888, 10889, 10890, 10902, 10903, 10904, 10905, 10906, 10907, 10909, 10910, 10913, 10914, 10915, 10916, 10918, 10919, 10920, 10921, 10922, 10923, 10925, 10926, 10943, 10944, 10945, 10946, 10947, 10948, 10949, 10950, 10951, 10952, 10954, 10955, 10956, 10957, 10958, 10960, 10961, 10962, 10967, 10968, 10969, 10977, 10978, 10979, 10980, 10981, 10982, 10983, 10996, 10997, 10998, 10999, 11000, 11001, 11010, 11011, 11012, 11013, 11014, 11015, 11017, 11018, 11022, 11023, 11029, 11030, 11031, 11032, 11033, 11034, 11035, 11036, 11041, 11042, 11043, 11045, 11046, 11049, 11050, 11051, 11054, 11055, 11056, 11060, 11061, 11067, 11068, 11069, 11072, 11073, 11077, 11078, 11080, 11081, 11085, 11086, 11087, 11088, 11090, 11091, 11092, 11093, 11094, 11095, 11096, 11097, 11098, 11099, 11101, 11102, 11106, 11107, 11108, 11109, 11110, 11111, 11112, 11113, 11114, 11115, 11116, 11117, 11118, 11119, 11120, 11121, 11122, 11123, 11124, 11125, 11126, 11127, 11128, 11129, 11130, 11131, 11132, 11133, 11134, 11135, 11140, 11141, 11142, 11143, 11145, 11146, 11149, 11150, 11151, 11152, 11153, 11154, 11159, 11160, 11161, 11162, 11163, 11164, 11165, 11166, 11168, 11169, 11170, 11171, 11172, 11173, 11174, 11175, 11176, 11177, 11178, 11179, 11180, 11181, 11182, 11183, 11187, 11188, 11189, 11190, 11191, 11192, 11193, 11194, 11195, 11196, 11197, 11198, 11199, 11200, 11201, 11202, 11203, 11204, 11205, 11206, 11207, 11208, 11209, 11210, 11211, 11212, 11213, 11214, 11215, 11216, 11217, 11218, 11219, 11220, 11221, 11222, 11223, 11224, 11225, 11226, 11227, 11228, 11229, 11230, 11231, 11232, 11234, 11235, 11240, 11241, 11242, 11243, 11244, 11245, 11248, 11249, 11253, 11254, 11255, 11256, 11257, 11258, 11259, 11262, 11263, 11264, 11265, 11266, 11267, 11268, 11269, 11270, 11274, 11275, 11276, 11277, 11279, 11280, 11281, 11282, 11289, 11290, 11295, 11296, 11297, 11298, 11308, 11309, 11310, 11311, 11312, 11313, 11314, 11315, 11316, 11317, 11318, 11319, 11320, 11321, 11322, 11323, 11324, 11325, 11326, 11327, 11328, 11329, 11330, 11331, 11332, 11333, 11336, 11337, 11338, 11339, 11340, 11341, 11350, 11351, 11357, 11358, 11361, 11362, 11363, 11364, 11365, 11366, 11367, 11373, 11374, 11375, 11376, 11377, 11378, 11379, 11380, 11381, 11382, 11384, 11385, 11386, 11387, 11389, 11390, 11391, 11392, 11393, 11394, 11396, 11397, 11398, 11399, 11400, 11401, 11402, 11403, 11405, 11406, 11408, 11409, 11411, 11412, 11414, 11415, 11423, 11424, 11425, 11426, 11427, 11428, 11430, 11431, 11432, 11433, 11434, 11435, 11436, 11437, 11438, 11439, 11440, 11441, 11442, 11443, 11444, 11467, 11468, 11469, 11473, 11474, 11475, 11476, 11477, 11478, 11487, 11488, 11489, 11507, 11508, 11509, 11510, 11512, 11513, 11519, 11520, 11521, 11522, 11526, 11527, 11528, 11529, 11532, 11533, 11536, 11537, 11547, 11548, 11562, 11563, 11564, 11565, 11566, 11569, 11570, 11571, 11572, 11574, 11575, 11577, 11578, 11579, 11580, 11581, 11582, 11583, 11584, 11585, 11587, 11588, 11589, 11590, 11591, 11592, 11593, 11594, 11595, 11596, 11604, 11605, 11611, 11612, 11613, 11615, 11616, 11617, 11618, 11619, 11620, 11621, 11622, 11623, 11624, 11625, 11629, 11630, 11631, 11632, 11636, 11637, 11638, 11639, 11640, 11641, 11642, 11643, 11644, 11645, 11646, 11647, 11648, 11649, 11650, 11651, 11665, 11666, 11671, 11672, 11678, 11679, 11680, 11681, 11682, 11683, 11684, 11685, 11687, 11688, 11689, 11692, 11693, 11702, 11703, 11708, 11709, 11713, 11714, 11716, 11717, 11719, 11720, 11724, 11725, 11726, 11727, 11728, 11729, 11734, 11735, 11736, 11737, 11738, 11739, 11740, 11741, 11742, 11743, 11744, 11745, 11746, 11747, 11748, 11749, 11750, 11760, 11761, 11769, 11770, 11771, 11772, 11773, 11774, 11776, 11777, 11778, 11779, 11780, 11781, 11782, 11783, 11784, 11785, 11786, 11787, 11788, 11789, 11790, 11791, 11792, 11793, 11794, 11795, 11798, 11799, 11800, 11801, 11802, 11808, 11809, 11813, 11814, 11815, 11816, 11817, 11818, 11819, 11820, 11821, 11829, 11830, 11831, 11832, 11833, 11834, 11835, 11836, 11838, 11839, 11840, 11847, 11848, 11851, 11852, 11855, 11856, 11857, 11858, 11859, 11860, 11861, 11862, 11863, 11864, 11865, 11866, 11867, 11868, 11869, 11878, 11879, 11889, 11890, 11891, 11892, 11893, 11894, 11896, 11897, 11910, 11911, 11912, 11913, 11914, 11918, 11919, 11920, 11921, 11923, 11924, 11925, 11926, 11927, 11928, 11929, 11930, 11932, 11933, 11943, 11944, 11946, 11947, 11948, 11949, 11950, 11951, 11952, 11953, 11954, 11955, 11969, 11970, 11971, 11972, 11973, 11974, 11975, 11976, 11977, 11982, 11983, 11987, 11988, 11989, 11990, 11991, 11992, 11993, 11994, 11995, 11996, 11997, 11998, 11999, 12000, 12005, 12006, 12008, 12009, 12012, 12013, 12014, 12015, 12016, 12017, 12026, 12027, 12029, 12030, 12031, 12032, 12036, 12037, 12047, 12048, 12049, 12050, 12051, 12052, 12053, 12054, 12055, 12056, 12057, 12058, 12059, 12060, 12061, 12062, 12063, 12064, 12065, 12066, 12067, 12068, 12069, 12070, 12072, 12073, 12074, 12075, 12076, 12077, 12086, 12087, 12088, 12089, 12090, 12091, 12095, 12096, 12097, 12098, 12099, 12100, 12101, 12102, 12103, 12108, 12109, 12110, 12111, 12119, 12120, 12121, 12122, 12130, 12131, 12132, 12133, 12134, 12135, 12136, 12137, 12138, 12139, 12143, 12144, 12145, 12146, 12147, 12148, 12149, 12150, 12151, 12155, 12156, 12157, 12160, 12161, 12205, 12206, 12208, 12209, 12210, 12211, 12212, 12214, 12215, 12216, 12217, 12218, 12219, 12221, 12222, 12225, 12226, 12227, 12228, 12238, 12239, 12240, 12249, 12250, 12255, 12256, 12262, 12263, 12264, 12265, 12266, 12267, 12268, 12269, 12271, 12272, 12273, 12274, 12275, 12276, 12277, 12278, 12279, 12280, 12281, 12282, 12284, 12285, 12287, 12288, 12289, 12290, 12291, 12292, 12293, 12294, 12296, 12297, 12298, 12299, 12310, 12311, 12312, 12322, 12323, 12325, 12326, 12330, 12331, 12333, 12334, 12340, 12341, 12342, 12343, 12344, 12345, 12356, 12357, 12358, 12359, 12360, 12371, 12372, 12373, 12374, 12375, 12376, 12377, 12378, 12379, 12380, 12381, 12382, 12383, 12384, 12385, 12386, 12392, 12393, 12394, 12395, 12396, 12397, 12401, 12402, 12414, 12415, 12416, 12417, 12418, 12419, 12420, 12421, 12422, 12423, 12424, 12425, 12426, 12427, 12428, 12429, 12430, 12431, 12432, 12433, 12435, 12436, 12437, 12438, 12442, 12443, 12445, 12446, 12447, 12448, 12449, 12450, 12451, 12452, 12453, 12454, 12455, 12456, 12458, 12459, 12460, 12461, 12462, 12463, 12464, 12465, 12466, 12467, 12468, 12469, 12470, 12471, 12472, 12477, 12478, 12479, 12482, 12483, 12484, 12485, 12486, 12487, 12496, 12497, 12498, 12499, 12500, 12501, 12502, 12503, 12504, 12505, 12506, 12507, 12508, 12509, 12510, 12511, 12512, 12513, 12514, 12515, 12516, 12517, 12518, 12519, 12520, 12521, 12522, 12523, 12524, 12525, 12526, 12527, 12528, 12529, 12530, 12531, 12532, 12533, 12537, 12538, 12539, 12540, 12541, 12542, 12543, 12544, 12545, 12546, 12552, 12553, 12554, 12562, 12563, 12569, 12570, 12574, 12575, 12579, 12580, 12587, 12588, 12589, 12590, 12591, 12592, 12597, 12598, 12601, 12602, 12603, 12604, 12608, 12609, 12610, 12611, 12615, 12616, 12617, 12618, 12619, 12620, 12621, 12629, 12630, 12631, 12636, 12637, 12638, 12639, 12640, 12641, 12642, 12643, 12644, 12645, 12646, 12647, 12648, 12649, 12650, 12651, 12657, 12658, 12661, 12662, 12663, 12664, 12672, 12673, 12674, 12675, 12676, 12677, 12685, 12686, 12691, 12692, 12695, 12696, 12697, 12698, 12699, 12700, 12701, 12702, 12703, 12704, 12719, 12720, 12721, 12722, 12723, 12724, 12725, 12726, 12727, 12728, 12729, 12730, 12731, 12732, 12733, 12737, 12738, 12741, 12742, 12745, 12746, 12747, 12748, 12749, 12750, 12751, 12752, 12753, 12754, 12755, 12756, 12757, 12758, 12759, 12760, 12761, 12762, 12763, 12764, 12765, 12766, 12767, 12769, 12770, 12771, 12772, 12773, 12774, 12775, 12776, 12777, 12778, 12782, 12783, 12784, 12785, 12786, 12787, 12788, 12789, 12799, 12800, 12801, 12802, 12803, 12804, 12805, 12809, 12810, 12811, 12812, 12813, 12814, 12815, 12816, 12819, 12820, 12822, 12823, 12825, 12826, 12831, 12832, 12834, 12835, 12844, 12845, 12846, 12847, 12851, 12852, 12854, 12855, 12856, 12857, 12858, 12859, 12860, 12861, 12876, 12877, 12878, 12879, 12880, 12881, 12882, 12883, 12884, 12885, 12888, 12889, 12890, 12891, 12892, 12893, 12894, 12895, 12896, 12897, 12902, 12903, 12916, 12917, 12919, 12920, 12921, 12922, 12923, 12924, 12929, 12930, 12934, 12935, 12936, 12937, 12938, 12939, 12940, 12941, 12942, 12943, 12944, 12945, 12946, 12949, 12950, 12951, 12952, 12953, 12954, 12955, 12956, 12957, 12958, 12959, 12960, 12971, 12972, 12976, 12977, 12978, 12979, 12980, 12981, 12982, 12983, 12984, 12985, 12986, 12987, 12988, 12989, 12990, 12991, 12992, 12993, 12994, 12995, 12996, 12997, 12998, 12999, 13000, 13001, 13002, 13008, 13009, 13010, 13011, 13012, 13013, 13014, 13015, 13016, 13017, 13019, 13020, 13021, 13022, 13023, 13024, 13025, 13026, 13027, 13028, 13029, 13030, 13031, 13032, 13033, 13034, 13035, 13036, 13037, 13038, 13039, 13040, 13041, 13042, 13043, 13044, 13045, 13054, 13055, 13056, 13057, 13058, 13059, 13068, 13069, 13070, 13071, 13072, 13073, 13082, 13083, 13085, 13086, 13087, 13088, 13099, 13100, 13101, 13102, 13104, 13105, 13108, 13109, 13110, 13111, 13112, 13113, 13115, 13116, 13117, 13118, 13119, 13120, 13121, 13122, 13123, 13124, 13127, 13128, 13129, 13133, 13134, 13135, 13136, 13137, 13138, 13139, 13140, 13141, 13142, 13149, 13150, 13151, 13152, 13154, 13155, 13156, 13157, 13158, 13159, 13171, 13172, 13175, 13176, 13178, 13179, 13181, 13182, 13186, 13187, 13200, 13201, 13202, 13206, 13207, 13208, 13209, 13213, 13214, 13215, 13217, 13218, 13223, 13224, 13230, 13231, 13232, 13233, 13234, 13235, 13236, 13237, 13238, 13239, 13242, 13243, 13244, 13245, 13246, 13247, 13253, 13254, 13257, 13258, 13259, 13260, 13261, 13262, 13263, 13264, 13265, 13266, 13267, 13268, 13269, 13270, 13275, 13276, 13290, 13291, 13296, 13297, 13298, 13299, 13300, 13301, 13302, 13303, 13306, 13307, 13320, 13321, 13337, 13338, 13343, 13344, 13345, 13346, 13350, 13351, 13352, 13353, 13354, 13355, 13356, 13357, 13358, 13359, 13366, 13367, 13368, 13369, 13373, 13374, 13375, 13390, 13391, 13392, 13393, 13394, 13395, 13396, 13397, 13398, 13400, 13401, 13402, 13403, 13404, 13405, 13406, 13407, 13417, 13418, 13419, 13420, 13421, 13422, 13423, 13424, 13425, 13435, 13436, 13437, 13438, 13439, 13440, 13441, 13442, 13443, 13444, 13445, 13446, 13447, 13448, 13449, 13453, 13454, 13455, 13456, 13457, 13458, 13460, 13461, 13462, 13463, 13464, 13465, 13466, 13467, 13469, 13470, 13471, 13472, 13476, 13477, 13479, 13480, 13481, 13482, 13488, 13489, 13499, 13500, 13501, 13502, 13504, 13505, 13510, 13511, 13512, 13513, 13518, 13519, 13520, 13521, 13522, 13526, 13527, 13529, 13530, 13531, 13532, 13533, 13534, 13535, 13536, 13537, 13538, 13539, 13540, 13542, 13543, 13549, 13550, 13553, 13554, 13556, 13557, 13558, 13576, 13577, 13578, 13579, 13580, 13581, 13582, 13583, 13588, 13589, 13590, 13591, 13597, 13598, 13599, 13600, 13601, 13609, 13610, 13620, 13621, 13622, 13624, 13625, 13630, 13631, 13632, 13633, 13634, 13635, 13636, 13637, 13640, 13641, 13642, 13643, 13644, 13645, 13646, 13647, 13649, 13650, 13652, 13653, 13654, 13655, 13657, 13658, 13659, 13660, 13661, 13669, 13670, 13671, 13672, 13673, 13674, 13675, 13676, 13677, 13679, 13680, 13681, 13682, 13683, 13684, 13685, 13686, 13687, 13688, 13689, 13690, 13691, 13692, 13693, 13694, 13695, 13696, 13697, 13698, 13699, 13700, 13701, 13702, 13706, 13707, 13708, 13709, 13710, 13711, 13712, 13713, 13714, 13715, 13716, 13717, 13718, 13719, 13720, 13721, 13722, 13723, 13724, 13725, 13726, 13727, 13728, 13729, 13730, 13731, 13732, 13733, 13734, 13737, 13738, 13739, 13740, 13741, 13742, 13743, 13744, 13745, 13746, 13747, 13748, 13749, 13750, 13751, 13752, 13758, 13759, 13765, 13766, 13767, 13768, 13769, 13770, 13771, 13773, 13774, 13777, 13778, 13779, 13780, 13781, 13782, 13785, 13786, 13787, 13788, 13789, 13790, 13791, 13792, 13793, 13794, 13795, 13796, 13799, 13800, 13807, 13808, 13815, 13816, 13817, 13818, 13819, 13820, 13821, 13824, 13825, 13827, 13828, 13829, 13830, 13831, 13832, 13833, 13834, 13835, 13836, 13837, 13838, 13839, 13840, 13841, 13842, 13844, 13845, 13846, 13848, 13849, 13850, 13852, 13853, 13854, 13856, 13857, 13858, 13859, 13860, 13861, 13868, 13869, 13877, 13878, 13879, 13880, 13881, 13882, 13883, 13884, 13885, 13886, 13887, 13892, 13893, 13894, 13895, 13896, 13901, 13902, 13903, 13904, 13905, 13906, 13907, 13908, 13909, 13910, 13911, 13912, 13913, 13914, 13915, 13916, 13917, 13918, 13919, 13920, 13921, 13922, 13923, 13924, 13928, 13929, 13930, 13931, 13932, 13933, 13934, 13935, 13936, 13937, 13938, 13939, 13940, 13941, 13942, 13943, 13944, 13945, 13946, 13947, 13950, 13951, 13953, 13954, 13955, 13956, 13957, 13958, 13959, 13960, 13965, 13966, 13968, 13969, 13980, 13981, 13987, 13988, 13990, 13991, 13992, 13993, 13994, 13995, 13996, 13997, 13998, 13999, 14000, 14001, 14002, 14003, 14005, 14006, 14007, 14013, 14014, 14017, 14018, 14019, 14021, 14022, 14024, 14025, 14030, 14031, 14032, 14033, 14034, 14035, 14042, 14043, 14044, 14045, 14046, 14047, 14049, 14050, 14053, 14054, 14055, 14056, 14058, 14059, 14060, 14061, 14063, 14064, 14073, 14074, 14075, 14076, 14077, 14082, 14083, 14085, 14086, 14087, 14088, 14089, 14090, 14091, 14092, 14093, 14095, 14096, 14098, 14099, 14109, 14110, 14111, 14112, 14113, 14114, 14125, 14126, 14127, 14128, 14129, 14130, 14131, 14132, 14133, 14134, 14137, 14138, 14139, 14140, 14146, 14147, 14148, 14149, 14150, 14151, 14152, 14153, 14154, 14155, 14156, 14157, 14158, 14159, 14160, 14161, 14162, 14163, 14164, 14165, 14166, 14167, 14168, 14169, 14170, 14171, 14172, 14173, 14174, 14175, 14176, 14177, 14178, 14179, 14180, 14181, 14182, 14183, 14185, 14186, 14187, 14188, 14189, 14190, 14192, 14193, 14203, 14204, 14205, 14206, 14207, 14208, 14209, 14210, 14211, 14213, 14214, 14215, 14216, 14217, 14218, 14225, 14226, 14227, 14228, 14229, 14230, 14231, 14232, 14242, 14243, 14244, 14245, 14249, 14250, 14251, 14252, 14253, 14254, 14255, 14256, 14264, 14265, 14266, 14267, 14268, 14269, 14270, 14271, 14272, 14273, 14274, 14275, 14276, 14277, 14283, 14284, 14285, 14287, 14288, 14289, 14290, 14291, 14292, 14293, 14294, 14295, 14296, 14297, 14298, 14299, 14300, 14301, 14302, 14305, 14306, 14308, 14309, 14316, 14317, 14318, 14319, 14320, 14321, 14322, 14323, 14332, 14333, 14334, 14335, 14338, 14339, 14340, 14344, 14345, 14346, 14347, 14348, 14349, 14350, 14351, 14352, 14353, 14354, 14355, 14356, 14357, 14358, 14359, 14360, 14361, 14362, 14363, 14364, 14365, 14366, 14368, 14369, 14370, 14371, 14377, 14378, 14379, 14381, 14382, 14386, 14387, 14388, 14389, 14390, 14391, 14392, 14393, 14394, 14395, 14396, 14397, 14398, 14399, 14400, 14401, 14402, 14403, 14404, 14405, 14406, 14407, 14408, 14409, 14410, 14411, 14412, 14413, 14414, 14415, 14416, 14417, 14418, 14419, 14420, 14421, 14422, 14423, 14424, 14425, 14426, 14427, 14428, 14429, 14430, 14431, 14432, 14433, 14434, 14435, 14436, 14437, 14438, 14439, 14440, 14441, 14443, 14444, 14445, 14446, 14452, 14453, 14454, 14455, 14456, 14457, 14458, 14459, 14460, 14463, 14464, 14465, 14467, 14468, 14473, 14474, 14476, 14477, 14478, 14499, 14500, 14501, 14502, 14503, 14504, 14512, 14513, 14515, 14516, 14517, 14518, 14522, 14523, 14524, 14525, 14526, 14527, 14528, 14529, 14533, 14534, 14535, 14536, 14539, 14540, 14541, 14542, 14543, 14544, 14545, 14546, 14547, 14548, 14549, 14550, 14551, 14552, 14553, 14554, 14555, 14563, 14564, 14568, 14569, 14570, 14571, 14572, 14573, 14574, 14575, 14576, 14578, 14579, 14580, 14581, 14583, 14584, 14585, 14586, 14587, 14588, 14589, 14590, 14596, 14597, 14598, 14599, 14600, 14601, 14602, 14603, 14604, 14607, 14608, 14612, 14613, 14614, 14615, 14616, 14617, 14618, 14619, 14620, 14621, 14622, 14623, 14624, 14625, 14626, 14627, 14628, 14629, 14631, 14632, 14633, 14634, 14635, 14636, 14637, 14638, 14639, 14644, 14645, 14647, 14648, 14649, 14650, 14651, 14652, 14655, 14656, 14664, 14665, 14666, 14667, 14668, 14669, 14670, 14671, 14674, 14675, 14676, 14677, 14678, 14679, 14680, 14681, 14685, 14686, 14687, 14688, 14689, 14690, 14691, 14692, 14693, 14694, 14695, 14696, 14698, 14699, 14700, 14701, 14702, 14703, 14732, 14733, 14741, 14742, 14743, 14748, 14749, 14755, 14756, 14757, 14758, 14759, 14760, 14768, 14769, 14770, 14774, 14775, 14776, 14777, 14783, 14784, 14797, 14798, 14802, 14803, 14804, 14807, 14808, 14810, 14811, 14812, 14813, 14814, 14816, 14817, 14818, 14819, 14821, 14822, 14830, 14831, 14834, 14835, 14842, 14843, 14850, 14851, 14852, 14853, 14854, 14855, 14856, 14857, 14858, 14859, 14860, 14861, 14862, 14863, 14864, 14865, 14866, 14867, 14869, 14870, 14871, 14872, 14873, 14874, 14875, 14876, 14877, 14878, 14879, 14880, 14881, 14882, 14883, 14884, 14885, 14886, 14887, 14888, 14889, 14890, 14891, 14892, 14893, 14894, 14895, 14896, 14897, 14901, 14902, 14903, 14904, 14906, 14907, 14917, 14918, 14919, 14920, 14922, 14923, 14924, 14925, 14927, 14928, 14929, 14930, 14931, 14932, 14933, 14934, 14935, 14936, 14938, 14939, 14940, 14941, 14942, 14950, 14951, 14956, 14957, 14960, 14961, 14962, 14963, 14964, 14965, 14966, 14967, 14969, 14970, 14973, 14974, 14977, 14978, 14980, 14981, 14982, 14983, 14984, 14985, 14986, 14987, 14988, 14989, 14999, 15000, 15001, 15009, 15010, 15012, 15013, 15015, 15016, 15017, 15018, 15024, 15025, 15026, 15027, 15028, 15029, 15031, 15032, 15039, 15040, 15041, 15042, 15043, 15044, 15047, 15048, 15049, 15050, 15051, 15052, 15053, 15054, 15055, 15056, 15058, 15059, 15060, 15061, 15062, 15063, 15065, 15066, 15067, 15068, 15070, 15071, 15072, 15073, 15074, 15075, 15076, 15085, 15086, 15094, 15095, 15106, 15107, 15111, 15112, 15113, 15114, 15115, 15116, 15117, 15118, 15119, 15120, 15121, 15123, 15124, 15125, 15126, 15129, 15130, 15133, 15134, 15140, 15141, 15142, 15143, 15144, 15145, 15146, 15147, 15148, 15149, 15159, 15160, 15161, 15162, 15163, 15164, 15166, 15167, 15178, 15179, 15181, 15182, 15183, 15184, 15185, 15186, 15187, 15188, 15193, 15194, 15195, 15196, 15197, 15198, 15199, 15200, 15204, 15205, 15206, 15207, 15210, 15211, 15215, 15216, 15218, 15219, 15220, 15221, 15222, 15223, 15224, 15225, 15226, 15227, 15228, 15229, 15230, 15231, 15232, 15233, 15234, 15235, 15236, 15237, 15238, 15239, 15240, 15241, 15242, 15243, 15244, 15245, 15246, 15247, 15248, 15249, 15250, 15253, 15254, 15256, 15257, 15258, 15259, 15260, 15261, 15262, 15263, 15264, 15266, 15267, 15269, 15270, 15271, 15272, 15274, 15275, 15276, 15277, 15279, 15280, 15281, 15282, 15283, 15287, 15288, 15289, 15291, 15292, 15296, 15297, 15301, 15302, 15311, 15312, 15317, 15318, 15319, 15320, 15321, 15322, 15323, 15324, 15330, 15331, 15334, 15335, 15336, 15337, 15339, 15340, 15342, 15343, 15344, 15345, 15347, 15348, 15349, 15350, 15351, 15352, 15355, 15356, 15357, 15358, 15359, 15360, 15361, 15362, 15363, 15364, 15365, 15366, 15367, 15368, 15369, 15370, 15371, 15374, 15375, 15376, 15377, 15378, 15379, 15380, 15381, 15382, 15383, 15384, 15386, 15387, 15389, 15390, 15391, 15392, 15396, 15397, 15398, 15400, 15401, 15402, 15403, 15404, 15405, 15407, 15408, 15409, 15410, 15411, 15412, 15417, 15418, 15419, 15421, 15422, 15423, 15424, 15425, 15426, 15427, 15428, 15433, 15434, 15435, 15436, 15438, 15439, 15440, 15441, 15442, 15443, 15444, 15445, 15446, 15447, 15448, 15449, 15450, 15451, 15452, 15455, 15456, 15457, 15458, 15463, 15464, 15465, 15466, 15467, 15468, 15469, 15470, 15471, 15472, 15473, 15474, 15475, 15476, 15477, 15478, 15479, 15480, 15483, 15484, 15492, 15493, 15494, 15500, 15501, 15502, 15503, 15508, 15509, 15516, 15517, 15518, 15521, 15522, 15523, 15524, 15525, 15526, 15529, 15530, 15534, 15535, 15537, 15538, 15539, 15540, 15542, 15543, 15544, 15553, 15554, 15555, 15556, 15557, 15558, 15559, 15560, 15561, 15562, 15563, 15564, 15577, 15578, 15579, 15581, 15582, 15583, 15584, 15586, 15587, 15588, 15589, 15590, 15591, 15592, 15598, 15599, 15600, 15601, 15610, 15611, 15621, 15622, 15623, 15626, 15627, 15630, 15631, 15633, 15634, 15635, 15636, 15637, 15639, 15640, 15641, 15642, 15643, 15644, 15645, 15646, 15647, 15648, 15649, 15650, 15651, 15652, 15653, 15654, 15655, 15656, 15657, 15658, 15659, 15660, 15661, 15662, 15663, 15664, 15665, 15666, 15667, 15668, 15669, 15670, 15671, 15672, 15673, 15674, 15675, 15677, 15678, 15680, 15681, 15683, 15684, 15685, 15686, 15687, 15688, 15689, 15690, 15691, 15692, 15693, 15694, 15695, 15696, 15697, 15698, 15699, 15700, 15701, 15702, 15703, 15704, 15705, 15706, 15707, 15723, 15724, 15725, 15726, 15727, 15728, 15729, 15730, 15731, 15739, 15740, 15742, 15743, 15745, 15746, 15750, 15751, 15752, 15753, 15760, 15761, 15763, 15764, 15765, 15766, 15777, 15778, 15779, 15780, 15781, 15783, 15784, 15785, 15786, 15787, 15788, 15789, 15790, 15791, 15792, 15797, 15798, 15799, 15800, 15801, 15802, 15803, 15804, 15805, 15806, 15807, 15808, 15809, 15810, 15811, 15817, 15818, 15826, 15827, 15830, 15831, 15838, 15839, 15842, 15843, 15844, 15848, 15849, 15850, 15851, 15852, 15853, 15854, 15855, 15863, 15864, 15865, 15866, 15867, 15869, 15870, 15878, 15879, 15881, 15882, 15886, 15887, 15888, 15889, 15890, 15892, 15893, 15894, 15895, 15896, 15897, 15900, 15901, 15904, 15905, 15912, 15913, 15917, 15918, 15919, 15920, 15921, 15922, 15927, 15928, 15929, 15930, 15940, 15941, 15946, 15947, 15949, 15950, 15952, 15953, 15954, 15955, 15956, 15957, 15959, 15960, 15967, 15968, 15969, 15970, 15971, 15972, 15979, 15980, 15981, 15982, 15983, 15984, 15986, 15987, 15988, 15989, 15990, 15991, 15992, 15995, 15996, 16001, 16002, 16011, 16012, 16014, 16015, 16016, 16017, 16018, 16019, 16020, 16021, 16022, 16023, 16034, 16035, 16036, 16037, 16045, 16046, 16047, 16048, 16054, 16055, 16056, 16057, 16058, 16061, 16062, 16063, 16064, 16065, 16066, 16076, 16077, 16079, 16080, 16081, 16082, 16083, 16084, 16085, 16086, 16087, 16088, 16089, 16090, 16091, 16092, 16093, 16094, 16095, 16096, 16104, 16105, 16106, 16107, 16112, 16113, 16114, 16115, 16116, 16117, 16118, 16119, 16120, 16121, 16132, 16133, 16134, 16135, 16139, 16140, 16141, 16143, 16144, 16145, 16146, 16152, 16153, 16163, 16164, 16167, 16168, 16170, 16171, 16172, 16173, 16174, 16175, 16180, 16181, 16182, 16183, 16187, 16188, 16190, 16191, 16192, 16193, 16194, 16195, 16196, 16197, 16198, 16199, 16200, 16201, 16202, 16203, 16204, 16205, 16206, 16207, 16210, 16211, 16212, 16227, 16228, 16229, 16230, 16232, 16233, 16235, 16236, 16238, 16239, 16240, 16241, 16242, 16244, 16245, 16248, 16249, 16250, 16251, 16263, 16264, 16268, 16269, 16270, 16271, 16272, 16276, 16277, 16278, 16279, 16280, 16281, 16282, 16283, 16284, 16285, 16292, 16293, 16297, 16298, 16299, 16300, 16301, 16302, 16305, 16306, 16307, 16308, 16310, 16311, 16312, 16313, 16314, 16315, 16316, 16317, 16318, 16319, 16320, 16321, 16322, 16323, 16324, 16325, 16326, 16331, 16332, 16333, 16334, 16338, 16339, 16340, 16342, 16343, 16349, 16350, 16353, 16354, 16357, 16358, 16359, 16360, 16361, 16362, 16363, 16374, 16375, 16376, 16377, 16378, 16379, 16382, 16383, 16396, 16397, 16398, 16399, 16400, 16401, 16404, 16405, 16409, 16410, 16411, 16412, 16413, 16415, 16416, 16423, 16424, 16426, 16427, 16428, 16429, 16430, 16431, 16440, 16441, 16444, 16445, 16446, 16447, 16448, 16449, 16452, 16453, 16461, 16462, 16464, 16465, 16466, 16467, 16468, 16469, 16472, 16473, 16474, 16475, 16476, 16477, 16478, 16480, 16481, 16487, 16488, 16489, 16490, 16492, 16493, 16497, 16498, 16499, 16500, 16501, 16502, 16503, 16504, 16505, 16506, 16507, 16508, 16509, 16510, 16512, 16513, 16514, 16515, 16516, 16517, 16518, 16519, 16520, 16521, 16522, 16523, 16524, 16525, 16526, 16527, 16529, 16530, 16531, 16532, 16536, 16537, 16538, 16539, 16540, 16541, 16542, 16555, 16556, 16560, 16561, 16562, 16563, 16564, 16565, 16566, 16567, 16568, 16569, 16571, 16572, 16573, 16574, 16575, 16576, 16577, 16578, 16579, 16580, 16583, 16584, 16585, 16586, 16587, 16588, 16589, 16590, 16591, 16592, 16594, 16595, 16596, 16597, 16598, 16601, 16602, 16603, 16604, 16605, 16606, 16607, 16608, 16610, 16611, 16614, 16615, 16616, 16621, 16622, 16627, 16628, 16629, 16630, 16631, 16632, 16633, 16634, 16635, 16636, 16637, 16638, 16639, 16640, 16641, 16642, 16643, 16644, 16645, 16646, 16647, 16648, 16652, 16653, 16664, 16665, 16666, 16671, 16672, 16673, 16674, 16675, 16676, 16677, 16678, 16679, 16680, 16681, 16682, 16683, 16684, 16685, 16686, 16688, 16689, 16690, 16694, 16695, 16696, 16697, 16698, 16699, 16700, 16701, 16702, 16703, 16704, 16708, 16709, 16710, 16711, 16715, 16716, 16717, 16718, 16719, 16720, 16721, 16722, 16723, 16724, 16725, 16726, 16727, 16728, 16729, 16730, 16731, 16732, 16734, 16735, 16736, 16737, 16738, 16739, 16741, 16742, 16744, 16745, 16748, 16749, 16750, 16751, 16752, 16753, 16754, 16755, 16763, 16764, 16765, 16766, 16767, 16768, 16771, 16772, 16773, 16774, 16775, 16776, 16777, 16778, 16779, 16780, 16782, 16783, 16784, 16785, 16786, 16787, 16788, 16789, 16790, 16791, 16792, 16793, 16794, 16795, 16796, 16797, 16798, 16799, 16800, 16801, 16802, 16803, 16804, 16805, 16806, 16807, 16808, 16809, 16823, 16824, 16825, 16827, 16828, 16832, 16833, 16836, 16837, 16846, 16847, 16850, 16851, 16859, 16860, 16861, 16862, 16863, 16864, 16865, 16866, 16867, 16868, 16869, 16870, 16872, 16873, 16876, 16877, 16884, 16885, 16899, 16900, 16901, 16902, 16907, 16908, 16910, 16911, 16917, 16918, 16919, 16920, 16921, 16922, 16923, 16924, 16925, 16926, 16927, 16928, 16929, 16933, 16934, 16935, 16936, 16937, 16938, 16939, 16940, 16941, 16942, 16943, 16944, 16945, 16946, 16947, 16948, 16949, 16951, 16952, 16954, 16955, 16956, 16957, 16958, 16959, 16960, 16961, 16963, 16964, 16965, 16966, 16967, 16968, 16969, 16970, 16971, 16972, 16973, 16974, 16975, 16976, 16977, 16978, 16979, 16980, 16981, 16982, 16983, 16984, 16985, 16986, 16987, 16988, 16992, 16993, 16994, 16995, 16998, 16999, 17001, 17002, 17003, 17012, 17013, 17015, 17016, 17025, 17026, 17027, 17028, 17029, 17033, 17034, 17040, 17041, 17043, 17044, 17047, 17048, 17049, 17050, 17051, 17052, 17061, 17062, 17063, 17064, 17065, 17066, 17067, 17068, 17069, 17070, 17071, 17072, 17073, 17074, 17075, 17076, 17077, 17078, 17079, 17080, 17084, 17085, 17086, 17099, 17100, 17101, 17102, 17103, 17104, 17105, 17106, 17107, 17112, 17113, 17114, 17115, 17116, 17117, 17118, 17119, 17120, 17121, 17124, 17125, 17126, 17127, 17128, 17129, 17130, 17131, 17132, 17133, 17134, 17135, 17136, 17138, 17139, 17140, 17141, 17145, 17146, 17149, 17150, 17151, 17152, 17153, 17154, 17155, 17156, 17162, 17163, 17164, 17165, 17168, 17169, 17173, 17174, 17175, 17176, 17177, 17178, 17179, 17180, 17181, 17182, 17183, 17184, 17185, 17186, 17187, 17188, 17189, 17190, 17193, 17194, 17195, 17196, 17210, 17211, 17214, 17215, 17219, 17220, 17221, 17222, 17228, 17229, 17230, 17234, 17235, 17236, 17237, 17264, 17265, 17266, 17267, 17269, 17270, 17272, 17273, 17278, 17279, 17291, 17292, 17293, 17294, 17295, 17296, 17297, 17298, 17299, 17301, 17302, 17305, 17306, 17307, 17308, 17309, 17310, 17317, 17318, 17319, 17332, 17333, 17336, 17337, 17338, 17343, 17344, 17345, 17346, 17349, 17350, 17351, 17352, 17353, 17354, 17355, 17356, 17357, 17358, 17359, 17360, 17365, 17366, 17368, 17369, 17370, 17371, 17372, 17373, 17374, 17375, 17376, 17379, 17380, 17381, 17382, 17383, 17384, 17386, 17387, 17388, 17389, 17390, 17391, 17392, 17393, 17396, 17397, 17398, 17399, 17400, 17401, 17402, 17403, 17404, 17405, 17406, 17407, 17409, 17410, 17411, 17412, 17413, 17414, 17415, 17416, 17417, 17418, 17419, 17420, 17421, 17422, 17423, 17424, 17426, 17427, 17443, 17444, 17445, 17446, 17449, 17450, 17451, 17452, 17455, 17456, 17457, 17458, 17466, 17467, 17468, 17469, 17471, 17472, 17474, 17475, 17476, 17488, 17489, 17491, 17492, 17493, 17494, 17504, 17505, 17506, 17507, 17509, 17510, 17511, 17512, 17513, 17514, 17516, 17517, 17522, 17523, 17524, 17525, 17528, 17529, 17530, 17531, 17548, 17549, 17550, 17551, 17552, 17553, 17554, 17555, 17562, 17563, 17564, 17565, 17566, 17567, 17568, 17569, 17570, 17571, 17572, 17573, 17575, 17576, 17577, 17581, 17582, 17583, 17584, 17591, 17592, 17594, 17595, 17596, 17597, 17598, 17599, 17600, 17601, 17602, 17603, 17604, 17605, 17606, 17607, 17608, 17609, 17610, 17611, 17612, 17613, 17614, 17615, 17616, 17617, 17618, 17619, 17620, 17622, 17623, 17624, 17625, 17626, 17629, 17630, 17631, 17632, 17633, 17634, 17635, 17636, 17637, 17638, 17639, 17640, 17644, 17645, 17648, 17649, 17653, 17654, 17662, 17663, 17665, 17666, 17674, 17675, 17676, 17677, 17680, 17681, 17682, 17683, 17684, 17687, 17688, 17690, 17691, 17693, 17694, 17698, 17699, 17708, 17709, 17713, 17714, 17715, 17716, 17723, 17724, 17725, 17726, 17727, 17728, 17729, 17730, 17731, 17732, 17733, 17734, 17735, 17738, 17739, 17741, 17742, 17744, 17745, 17746, 17748, 17749, 17750, 17757, 17758, 17766, 17767, 17768, 17769, 17770, 17771, 17784, 17785, 17788, 17789, 17790, 17791, 17792, 17793, 17794, 17795, 17796, 17797, 17798, 17803, 17804, 17806, 17807, 17808, 17809, 17812, 17813, 17814, 17815, 17816, 17817, 17818, 17819, 17820, 17821, 17822, 17823, 17824, 17825, 17826, 17827, 17828, 17829, 17830, 17831, 17832, 17833, 17834, 17835, 17836, 17837, 17841, 17842, 17843, 17844, 17845, 17846, 17849, 17850, 17851, 17852, 17853, 17854, 17855, 17856, 17857, 17858, 17859, 17860, 17861, 17862, 17864, 17865, 17866, 17867, 17868, 17869, 17870, 17871, 17872, 17873, 17874, 17875, 17876, 17877, 17878, 17879, 17880, 17881, 17882, 17883, 17884, 17885, 17886, 17887, 17888, 17889, 17890, 17891, 17896, 17897, 17898, 17900, 17901, 17902, 17903, 17905, 17906, 17910, 17911, 17912, 17913, 17918, 17919, 17927, 17928, 17929, 17930, 17933, 17934, 17935, 17936, 17937, 17940, 17941, 17942, 17943, 17944, 17945, 17946, 17947, 17948, 17949, 17952, 17953, 17958, 17959, 17974, 17975, 17977, 17978, 17979, 17980, 17981, 17985, 17986, 17987, 17988, 17989, 17990, 17991, 17992, 17993, 17994, 17999, 18000, 18004, 18005, 18009, 18010, 18011, 18014, 18015, 18016, 18017, 18018, 18019, 18021, 18022, 18024, 18025, 18026, 18027, 18035, 18036, 18039, 18040, 18045, 18046, 18047, 18048, 18049, 18050, 18051, 18052, 18053, 18054, 18055, 18056, 18057, 18058, 18059, 18074, 18075, 18076, 18077, 18079, 18080, 18082, 18083, 18084, 18085, 18087, 18088, 18089, 18090, 18091, 18092, 18093, 18094, 18095, 18096, 18097, 18098, 18099, 18100, 18101, 18102, 18107, 18108, 18111, 18112, 18113, 18114, 18115, 18116, 18117, 18118, 18119, 18120, 18121, 18122, 18123, 18124, 18125, 18126, 18127, 18128, 18129, 18130, 18131, 18132, 18133, 18134, 18135, 18136, 18137, 18138, 18139, 18140, 18141, 18142, 18143, 18144, 18145, 18146, 18147, 18148, 18149, 18150, 18151, 18152, 18160, 18161, 18184, 18185, 18189, 18190, 18191, 18192, 18197, 18198, 18199, 18200, 18201, 18202, 18203, 18204, 18206, 18207, 18209, 18210, 18211, 18212, 18214, 18215, 18216, 18217, 18218, 18225, 18226, 18231, 18232, 18235, 18236, 18240, 18241, 18242, 18243, 18244, 18245, 18246, 18247, 18252, 18253, 18254, 18255, 18256, 18257, 18258, 18259, 18260, 18261, 18262, 18263, 18264, 18265, 18266, 18267, 18268, 18269, 18270, 18273, 18274, 18275, 18276, 18277, 18285, 18286, 18287, 18288, 18289, 18290, 18291, 18295, 18296, 18297, 18298, 18300, 18301, 18306, 18307, 18312, 18313, 18314, 18315, 18316, 18317, 18318, 18319, 18320, 18321, 18322, 18323, 18324, 18325, 18326, 18327, 18328, 18329, 18330, 18331, 18332, 18333, 18337, 18338, 18339, 18340, 18341, 18342, 18345, 18346, 18347, 18348, 18350, 18351, 18352, 18353, 18355, 18356, 18357, 18358, 18359, 18360, 18361, 18362, 18363, 18364, 18365, 18366, 18368, 18369, 18370, 18371, 18372, 18373, 18374, 18375, 18376, 18377, 18378, 18385, 18386, 18390, 18391, 18392, 18393, 18403, 18404, 18405, 18406, 18408, 18409, 18410, 18411, 18414, 18415, 18416, 18417, 18418, 18419, 18420, 18421, 18422, 18423, 18428, 18429, 18436, 18437, 18439, 18440, 18444, 18445, 18446, 18447, 18456, 18457, 18458, 18459, 18460, 18461, 18462, 18463, 18466, 18467, 18471, 18472, 18473, 18474, 18475, 18476, 18477, 18478, 18482, 18483, 18485, 18486, 18489, 18490, 18491, 18492, 18494, 18495, 18496, 18499, 18500, 18501, 18504, 18505, 18506, 18507, 18508, 18509, 18510, 18511, 18512, 18521, 18522, 18523, 18527, 18528, 18530, 18531, 18532, 18533, 18534, 18535, 18538, 18539, 18544, 18545, 18546, 18547, 18549, 18550, 18551, 18552, 18553, 18554, 18555, 18556, 18557, 18558, 18559, 18560, 18561, 18562, 18563, 18566, 18567, 18568, 18569, 18571, 18572, 18573, 18574, 18578, 18579, 18580, 18581, 18582, 18583, 18584, 18585, 18589, 18590, 18591, 18592, 18593, 18594, 18595, 18596, 18598, 18599, 18600, 18601, 18602, 18603, 18605, 18606, 18607, 18608, 18609, 18610, 18611, 18612, 18614, 18615, 18616, 18617, 18618, 18619, 18620, 18621, 18622, 18623, 18624, 18625, 18629, 18630, 18631, 18632, 18633, 18634, 18635, 18636, 18641, 18642, 18671, 18672, 18673, 18674, 18676, 18677, 18686, 18687, 18688, 18689, 18690, 18693, 18694, 18695, 18704, 18705, 18708, 18709, 18711, 18712, 18716, 18717, 18720, 18721, 18722, 18723, 18732, 18733, 18734, 18735, 18736, 18737, 18744, 18745, 18747, 18748, 18754, 18755, 18756, 18757, 18758, 18759, 18762, 18763, 18764, 18765, 18766, 18767, 18773, 18774, 18775, 18776, 18777, 18778, 18779, 18780, 18781, 18782, 18783, 18784, 18785, 18788, 18789, 18790, 18791, 18792, 18793, 18794, 18795, 18796, 18797, 18798, 18799, 18800, 18801, 18802, 18803, 18810, 18811, 18812, 18813, 18814, 18815, 18816, 18817, 18818, 18820, 18821, 18828, 18829, 18830, 18831, 18832, 18833, 18835, 18836, 18837, 18838, 18839, 18840, 18841, 18842, 18843, 18844, 18845, 18846, 18847, 18848, 18849, 18850, 18853, 18854, 18855, 18856, 18857, 18858, 18859, 18860, 18861, 18862, 18863, 18864, 18865, 18866, 18867, 18868, 18869, 18870, 18871, 18872, 18873, 18874, 18875, 18876, 18879, 18880, 18881, 18885, 18886, 18887, 18888, 18893, 18894, 18895, 18896, 18898, 18899, 18903, 18904, 18906, 18907, 18908, 18911, 18912, 18913, 18914, 18915, 18916, 18917, 18918, 18919, 18922, 18923, 18925, 18926, 18929, 18930, 18932, 18933, 18938, 18939, 18940, 18941, 18944, 18945, 18947, 18948, 18949, 18951, 18952, 18953, 18954, 18955, 18956, 18957, 18958, 18961, 18962, 18964, 18965, 18966, 18967, 18968, 18969, 18970, 18971, 18972, 18975, 18976, 18977, 18992, 18993, 18994, 19002, 19003, 19004, 19008, 19009, 19010, 19011, 19012, 19013, 19014, 19015, 19016, 19017, 19018, 19021, 19022, 19023, 19024, 19027, 19028, 19029, 19030, 19031, 19032, 19033, 19034, 19035, 19036, 19037, 19038, 19040, 19041, 19045, 19046, 19053, 19054, 19056, 19057, 19061, 19062, 19063, 19064, 19065, 19066, 19067, 19068, 19069, 19070, 19071, 19072, 19073, 19074, 19075, 19076, 19077, 19078, 19079, 19080, 19082, 19083, 19088, 19089, 19090, 19091, 19092, 19093, 19094, 19095, 19097, 19098, 19100, 19101, 19102, 19103, 19108, 19109, 19110, 19112, 19113, 19114, 19137, 19138, 19140, 19141, 19142, 19144, 19145, 19148, 19149, 19151, 19152, 19160, 19161, 19162, 19163, 19164, 19165, 19167, 19168, 19169, 19170, 19172, 19173, 19177, 19178, 19179, 19180, 19181, 19182, 19189, 19190, 19191, 19197, 19198, 19201, 19202, 19203, 19204, 19205, 19209, 19210, 19211, 19212, 19213, 19214, 19215, 19216, 19218, 19219, 19220, 19221, 19223, 19224, 19227, 19228, 19238, 19239, 19240, 19241, 19242, 19243, 19244, 19245, 19246, 19247, 19248, 19249, 19250, 19251, 19252, 19253, 19254, 19255, 19256, 19257, 19258, 19259, 19260, 19264, 19265, 19266, 19267, 19268, 19269, 19272, 19273, 19274, 19275, 19276, 19277, 19278, 19279, 19280, 19281, 19283, 19284, 19285, 19286, 19287, 19288, 19289, 19290, 19291, 19292, 19293, 19294, 19295, 19296, 19297, 19298, 19299, 19300, 19301, 19302, 19303, 19304, 19305, 19306, 19307, 19308, 19309, 19310, 19313, 19314, 19315, 19316, 19317, 19318, 19319, 19320, 19321, 19322, 19323, 19324, 19329, 19330, 19332, 19333, 19335, 19336, 19341, 19342, 19343, 19344, 19345, 19346, 19347, 19348, 19349, 19350, 19355, 19356, 19361, 19362, 19365, 19366, 19368, 19369, 19370, 19371, 19376, 19377, 19383, 19384, 19385, 19386, 19391, 19392, 19396, 19397, 19398, 19399, 19400, 19402, 19403, 19415, 19416, 19423, 19424, 19425, 19426, 19427, 19428, 19430, 19431, 19445, 19446, 19447, 19448, 19452, 19453, 19465, 19466, 19470, 19471, 19472, 19477, 19478, 19479, 19480, 19481, 19482, 19483, 19484, 19486, 19487, 19490, 19491, 19493, 19494, 19495, 19496, 19503, 19504, 19505, 19507, 19508, 19510, 19511, 19525, 19526, 19527, 19528, 19529, 19530, 19531, 19532, 19533, 19534, 19537, 19538, 19539, 19540, 19548, 19549, 19562, 19563, 19564, 19565, 19566, 19567, 19568, 19569, 19570, 19571, 19572, 19573, 19576, 19577, 19578, 19579, 19580, 19581, 19582, 19583, 19584, 19585, 19586, 19587, 19588, 19589, 19597, 19598, 19599, 19600, 19605, 19606, 19607, 19608, 19609, 19610, 19623, 19624, 19626, 19627, 19628, 19632, 19633, 19634, 19635, 19636, 19637, 19638, 19639, 19640, 19641, 19642, 19644, 19645, 19647, 19648, 19649, 19654, 19655, 19656, 19657, 19658, 19659, 19666, 19667, 19668, 19669, 19670, 19671, 19672, 19676, 19677, 19678, 19679, 19681, 19682, 19684, 19685, 19686, 19687, 19688, 19689, 19692, 19693, 19694, 19695, 19696, 19697, 19698, 19699, 19700, 19701, 19702, 19703, 19704, 19705, 19709, 19710, 19711, 19712, 19713, 19717, 19718, 19719, 19725, 19726, 19727, 19733, 19734, 19743, 19744, 19746, 19747, 19749, 19750, 19751, 19753, 19754, 19755, 19756, 19757, 19758, 19767, 19768, 19772, 19773, 19775, 19776, 19783, 19784, 19785, 19786, 19787, 19788, 19791, 19792, 19793, 19794, 19796, 19797, 19798, 19800, 19801, 19802, 19803, 19804, 19805, 19806, 19807, 19810, 19811, 19823, 19824, 19829, 19830, 19839, 19840, 19845, 19846, 19848, 19849, 19850, 19851, 19852, 19853, 19854, 19855, 19856, 19857, 19858, 19860, 19861, 19866, 19867, 19869, 19870, 19872, 19873, 19874, 19875, 19876, 19877, 19878, 19879, 19880, 19886, 19887, 19889, 19890, 19894, 19895, 19896, 19897, 19898, 19899, 19900, 19901, 19902, 19903, 19904, 19905, 19906, 19907, 19908, 19909, 19910, 19911, 19912, 19913, 19914, 19915, 19916, 19917, 19918, 19919, 19920, 19921, 19922, 19923, 19924, 19925, 19926, 19927, 19928, 19929, 19930, 19934, 19935, 19936, 19937, 19938, 19939, 19949, 19950, 19951, 19952, 19957, 19958, 19959, 19960, 19961, 19962, 19963, 19964, 19965, 19966, 19969, 19970, 19978, 19979, 19980, 19981, 19982, 19983, 19986, 19987, 19988, 19989, 19996, 19997, 19998, 19999, 20000, 20001, 20005, 20006, 20008, 20009, 20010, 20011, 20012, 20013, 20014, 20015, 20018, 20019, 20022, 20023, 20024, 20025, 20026, 20027, 20028, 20029, 20048, 20049, 20053, 20054, 20058, 20059, 20060, 20061, 20062, 20063, 20064, 20065, 20066, 20067, 20068, 20069, 20070, 20071, 20072, 20079, 20080, 20081, 20082, 20084, 20085, 20086, 20087, 20088, 20089, 20090, 20091, 20092, 20093, 20094, 20095, 20096, 20097, 20098, 20099, 20100, 20105, 20106, 20110, 20111, 20112, 20113, 20114, 20115, 20116, 20117, 20118, 20119, 20120, 20121, 20122, 20123, 20124, 20125, 20126, 20127, 20128, 20129, 20131, 20132, 20134, 20135, 20137, 20138, 20139, 20140, 20141, 20142, 20143, 20144, 20147, 20148, 20149, 20150, 20155, 20156, 20157, 20158, 20162, 20163, 20166, 20167, 20168, 20169, 20172, 20173, 20174, 20175, 20176, 20181, 20182, 20185, 20186, 20203, 20204, 20205, 20206, 20207, 20211, 20212, 20214, 20215, 20216, 20217, 20218, 20219, 20220, 20221, 20222, 20223, 20224, 20225, 20226, 20227, 20228, 20229, 20233, 20234, 20235, 20236, 20238, 20239, 20240, 20248, 20249, 20259, 20260, 20262, 20263, 20264, 20265, 20266, 20267, 20268, 20269, 20270, 20271, 20272, 20273, 20278, 20279, 20280, 20281, 20282, 20283, 20285, 20286, 20287, 20288, 20289, 20290, 20291, 20292, 20295, 20296, 20297, 20299, 20300, 20301, 20302, 20303, 20307, 20308, 20309, 20310, 20311, 20312, 20313, 20314, 20315, 20316, 20317, 20318, 20319, 20320, 20322, 20323, 20324, 20325, 20326, 20327, 20328, 20329, 20330, 20331, 20332, 20333, 20334, 20335, 20336, 20337, 20338, 20339, 20340, 20341, 20342, 20343, 20344, 20345, 20347, 20348, 20349, 20350, 20356, 20357, 20358, 20359, 20360, 20361, 20362, 20363, 20364, 20365, 20366, 20367, 20368, 20369, 20370, 20371, 20372, 20373, 20374, 20375, 20376, 20377, 20378, 20379, 20381, 20382, 20383, 20384, 20386, 20387, 20394, 20395, 20396, 20406, 20407, 20409, 20410, 20415, 20416, 20417, 20418, 20428, 20429, 20430, 20431, 20437, 20438, 20441, 20442, 20443, 20444, 20445, 20446, 20447, 20448, 20449, 20450, 20452, 20453, 20461, 20462, 20463, 20464, 20465, 20466, 20467, 20468, 20469, 20470, 20479, 20480, 20481, 20483, 20484, 20485, 20486, 20487, 20488, 20489, 20490, 20491, 20495, 20496, 20499, 20500, 20511, 20512, 20513, 20514, 20515, 20516, 20517, 20518, 20520, 20521, 20522, 20523, 20524, 20525, 20528, 20529, 20533, 20534, 20535, 20536, 20538, 20539, 20540, 20541, 20542, 20543, 20549, 20550, 20551, 20552, 20553, 20554, 20556, 20557, 20558, 20559, 20560, 20561, 20562, 20563, 20564, 20565, 20566, 20567, 20568, 20569, 20575, 20576, 20577, 20578, 20582, 20583, 20584, 20585, 20586, 20587, 20588, 20589, 20590, 20591, 20592, 20593, 20594, 20595, 20596, 20597, 20598, 20599, 20600, 20601, 20602, 20603, 20604, 20605, 20606, 20632, 20633, 20636, 20637, 20638, 20639, 20643, 20644, 20653, 20654, 20655, 20656, 20658, 20659, 20660, 20661, 20668, 20669, 20670, 20671, 20672, 20673, 20676, 20677, 20679, 20680, 20681, 20683, 20684, 20685, 20690, 20691, 20697, 20698, 20701, 20702, 20703, 20704, 20707, 20708, 20709, 20713, 20714, 20717, 20718, 20719, 20720, 20721, 20722, 20723, 20724, 20725, 20726, 20727, 20728, 20729, 20730, 20731, 20732, 20733, 20736, 20737, 20738, 20739, 20740, 20741, 20742, 20743, 20744, 20745, 20746, 20747, 20752, 20753, 20755, 20756, 20764, 20765, 20769, 20770, 20771, 20772, 20773, 20774, 20776, 20777, 20778, 20779, 20780, 20781, 20782, 20783, 20784, 20785, 20786, 20787, 20789, 20790, 20791, 20792, 20794, 20795, 20806, 20807, 20809, 20810, 20815, 20816, 20820, 20821, 20822, 20823, 20835, 20836, 20840, 20841, 20843, 20844, 20845, 20846, 20847, 20848, 20849, 20850, 20851, 20852, 20853, 20854, 20859, 20860, 20866, 20867, 20878, 20879, 20881, 20882, 20883, 20895, 20896, 20897, 20898, 20909, 20910, 20911, 20912, 20920, 20921, 20922, 20923, 20925, 20926, 20932, 20933, 20934, 20935, 20936, 20937, 20943, 20944, 20950, 20951, 20953, 20954, 20958, 20959, 20960, 20961, 20962, 20963, 20964, 20965, 20966, 20967, 20968, 20969, 20970, 20971, 20972, 20974, 20975, 20976, 20977, 20978, 20979, 20984, 20985, 20988, 20989, 20990, 20991, 21002, 21003, 21006, 21007, 21008, 21009, 21010, 21011, 21012, 21013, 21020, 21021, 21023, 21024, 21025, 21026, 21027, 21028, 21031, 21032, 21033, 21034, 21035, 21036, 21039, 21040, 21041, 21042, 21043, 21044, 21045, 21046, 21047, 21048, 21052, 21053, 21055, 21056, 21057, 21058, 21059, 21060, 21066, 21067, 21068, 21070, 21071, 21072, 21073, 21074, 21075, 21076, 21077, 21078, 21079, 21080, 21081, 21083, 21084, 21085, 21086, 21087, 21088, 21091, 21092, 21093, 21094, 21095, 21096, 21100, 21101, 21102, 21105, 21106, 21107, 21108, 21115, 21116, 21120, 21121, 21123, 21124, 21133, 21134, 21140, 21141, 21144, 21145, 21149, 21150, 21157, 21158, 21161, 21162, 21163, 21164, 21165, 21166, 21168, 21169, 21170, 21171, 21172, 21173, 21176, 21177, 21178, 21179, 21180, 21181, 21182, 21184, 21185, 21186, 21187, 21188, 21189, 21193, 21194, 21199, 21200, 21201, 21202, 21203, 21204, 21206, 21207, 21208, 21209, 21210, 21211, 21212, 21213, 21214, 21215, 21216, 21217, 21221, 21222, 21223, 21224, 21225, 21226, 21227, 21241, 21242, 21243, 21244, 21245, 21247, 21248, 21250, 21251, 21254, 21255, 21256, 21257, 21258, 21259, 21260, 21261, 21262, 21263, 21265, 21266, 21267, 21275, 21276, 21277, 21284, 21285, 21286, 21287, 21288, 21289, 21290, 21291, 21292, 21293, 21294, 21296, 21297, 21301, 21302, 21303, 21304, 21305, 21306, 21307, 21308, 21309, 21310, 21311, 21312, 21313, 21314, 21315, 21316, 21317, 21318, 21319, 21320, 21321, 21322, 21323, 21324, 21325, 21326, 21327, 21328, 21329, 21330, 21331, 21332, 21333, 21334, 21335, 21336, 21337, 21338, 21340, 21341, 21343, 21344, 21346, 21347, 21348, 21349, 21350, 21351, 21352, 21353, 21354, 21355, 21356, 21357, 21358, 21359, 21360, 21361, 21363, 21364, 21365, 21366, 21367, 21368, 21370, 21371, 21372, 21373, 21376, 21377, 21378, 21379, 21386, 21387, 21389, 21390, 21395, 21396, 21397, 21398, 21400, 21401, 21402, 21403, 21404, 21408, 21409, 21412, 21413, 21414, 21415, 21416, 21417, 21418, 21419, 21431, 21432, 21436, 21437, 21442, 21443, 21444, 21445, 21446, 21447, 21448, 21449, 21450, 21451, 21452, 21453, 21454, 21455, 21456, 21457, 21458, 21461, 21462, 21464, 21465, 21466, 21468, 21469, 21476, 21477, 21480, 21481, 21486, 21487, 21494, 21495, 21496, 21497, 21498, 21499, 21500, 21501, 21502, 21503, 21504, 21505, 21506, 21507, 21508, 21509, 21510, 21511, 21512, 21513, 21514, 21515, 21516, 21517, 21518, 21519, 21520, 21521, 21523, 21524, 21526, 21527, 21529, 21530, 21531, 21532, 21533, 21534, 21535, 21536, 21537, 21538, 21539, 21540, 21541, 21543, 21544, 21546, 21547, 21552, 21553, 21557, 21558, 21559, 21560, 21561, 21562, 21563, 21564, 21566, 21567, 21568, 21569, 21570, 21571, 21572, 21573, 21574, 21575, 21576, 21577, 21578, 21579, 21580, 21581, 21582, 21583, 21584, 21585, 21586, 21587, 21588, 21589, 21590, 21596, 21597, 21598, 21599, 21602, 21603, 21604, 21605, 21606, 21607, 21608, 21609, 21610, 21611, 21617, 21618, 21627, 21628, 21630, 21631, 21635, 21636, 21637, 21639, 21640, 21641, 21642, 21643, 21644, 21645, 21647, 21648, 21649, 21658, 21659, 21660, 21661, 21662, 21663, 21664, 21665, 21666, 21667, 21669, 21670, 21673, 21674, 21676, 21677, 21681, 21682, 21683, 21684, 21685, 21686, 21687, 21688, 21689, 21690, 21691, 21692, 21693, 21698, 21699, 21700, 21706, 21707, 21708, 21709, 21710, 21711, 21712, 21713, 21714, 21715, 21722, 21723, 21732, 21733, 21734, 21735, 21736, 21741, 21742, 21743, 21744, 21752, 21753, 21757, 21758, 21759, 21760, 21761, 21762, 21763, 21764, 21765, 21766, 21767, 21768, 21769, 21770, 21771, 21772, 21773, 21774, 21780, 21781, 21790, 21791, 21792, 21793, 21794, 21795, 21796, 21797, 21798, 21799, 21800, 21801, 21802, 21803, 21804, 21805, 21806, 21807, 21808, 21809, 21810, 21811, 21812, 21813, 21814, 21815, 21816, 21817, 21818, 21819, 21820, 21821, 21822, 21823, 21824, 21825, 21826, 21827, 21828, 21830, 21831, 21832, 21833, 21836, 21837, 21841, 21842, 21843, 21844, 21845, 21846, 21847, 21848, 21849, 21850, 21851, 21852, 21853, 21856, 21857, 21859, 21860, 21862, 21863, 21864, 21865, 21866, 21867, 21868, 21869, 21870, 21871, 21872, 21873, 21874, 21875, 21876, 21877, 21878, 21879, 21888, 21889, 21894, 21895, 21896, 21897, 21898, 21899, 21903, 21904, 21906, 21907, 21908, 21909, 21924, 21925, 21926, 21929, 21930, 21931, 21932, 21933, 21934, 21935, 21936, 21937, 21938, 21939, 21940, 21944, 21945, 21948, 21949, 21950, 21951, 21953, 21954, 21955, 21956, 21959, 21960, 21961, 21962, 21964, 21965, 21966, 21967, 21968, 21969, 21970, 21971, 21972, 21973, 21974, 21975, 21976, 21977, 21991, 21992, 21993, 21994, 21995, 21996, 21997, 21998, 22008, 22009, 22012, 22013, 22014, 22015, 22016, 22017, 22018, 22019, 22020, 22021, 22030, 22031, 22032, 22033, 22040, 22041, 22042, 22043, 22050, 22051, 22052, 22053, 22054, 22055, 22056, 22057, 22060, 22061, 22062, 22063, 22064, 22065, 22066, 22067, 22068, 22069, 22070, 22071, 22072, 22073, 22074, 22075, 22077, 22078, 22080, 22081, 22082, 22083, 22088, 22089, 22093, 22094, 22100, 22101, 22104, 22105, 22106, 22107, 22114, 22115, 22116, 22117, 22118, 22119, 22120, 22121, 22122, 22123, 22124, 22125, 22126, 22127, 22129, 22130, 22131, 22132, 22146, 22147, 22148, 22151, 22152, 22161, 22162, 22165, 22166, 22167, 22168, 22169, 22170, 22171, 22172, 22173, 22174, 22176, 22177, 22178, 22179, 22180, 22181, 22182, 22183, 22187, 22188, 22204, 22205, 22206, 22207, 22208, 22209, 22210, 22213, 22214, 22216, 22217, 22219, 22220, 22221, 22222, 22224, 22225, 22226, 22227, 22228, 22229, 22230, 22231, 22232, 22233, 22234, 22235, 22236, 22237, 22240, 22241, 22242, 22243, 22244, 22245, 22246, 22247, 22250, 22251, 22252, 22253, 22257, 22258, 22259, 22260, 22261, 22262, 22263, 22264, 22265, 22266, 22267, 22269, 22270, 22272, 22273, 22274, 22275, 22276, 22277, 22281, 22282, 22283, 22284, 22285, 22286, 22287, 22288, 22289, 22290, 22296, 22297, 22298, 22299, 22300, 22301, 22305, 22306, 22307, 22308, 22318, 22319, 22322, 22323, 22324, 22325, 22328, 22329, 22330, 22331, 22332, 22338, 22339, 22340, 22341, 22342, 22343, 22344, 22348, 22349, 22350, 22351, 22352, 22353, 22354, 22355, 22356, 22357, 22361, 22362, 22366, 22367, 22368, 22369, 22370, 22371, 22372, 22373, 22377, 22378, 22379, 22386, 22387, 22389, 22390, 22391, 22392, 22399, 22400, 22401, 22402, 22403, 22404, 22406, 22407, 22408, 22409, 22410, 22411, 22412, 22420, 22421, 22422, 22423, 22424, 22429, 22430, 22431, 22432, 22437, 22438, 22439, 22440, 22443, 22444, 22445, 22446, 22448, 22449, 22450, 22451, 22454, 22455, 22461, 22462, 22464, 22465, 22466, 22469, 22470, 22471, 22472, 22478, 22479, 22485, 22486, 22489, 22490, 22493, 22494, 22495, 22496, 22498, 22499, 22507, 22508, 22509, 22510, 22511, 22512, 22513, 22514, 22515, 22516, 22517, 22518, 22523, 22524, 22525, 22526, 22527, 22528, 22529, 22530, 22531, 22532, 22533, 22534, 22535, 22536, 22537, 22538, 22539, 22540, 22541, 22542, 22543, 22544, 22545, 22546, 22547, 22548, 22549, 22550, 22551, 22552, 22555, 22556, 22557, 22558, 22560, 22561, 22562, 22563, 22564, 22565, 22571, 22572, 22573, 22580, 22581, 22582, 22586, 22587, 22589, 22590, 22591, 22592, 22593, 22594, 22595, 22602, 22603, 22604, 22605, 22609, 22610, 22617, 22618, 22619, 22620, 22621, 22622, 22623, 22624, 22625, 22627, 22628, 22630, 22631, 22632, 22633, 22634, 22635, 22636, 22637, 22641, 22642, 22643, 22644, 22645, 22646, 22647, 22648, 22649, 22650, 22651, 22652, 22653, 22654, 22655, 22656, 22657, 22658, 22659, 22678, 22679, 22685, 22686, 22689, 22690, 22691, 22692, 22696, 22697, 22698, 22699, 22700, 22703, 22704, 22705, 22707, 22708, 22711, 22712, 22717, 22718, 22719, 22720, 22722, 22723, 22724, 22725, 22730, 22731, 22733, 22734, 22735, 22736, 22737, 22738, 22739, 22740, 22741, 22742, 22743, 22744, 22745, 22746, 22749, 22750, 22752, 22753, 22754, 22755, 22756, 22764, 22765, 22766, 22769, 22770, 22771, 22777, 22778, 22779, 22789, 22790, 22791, 22792, 22793, 22794, 22797, 22798, 22800, 22801, 22803, 22804, 22807, 22808, 22809, 22810, 22811, 22812, 22813, 22814, 22817, 22818, 22819, 22820, 22821, 22822, 22823, 22824, 22825, 22826, 22827, 22830, 22831, 22832, 22833, 22834, 22835, 22836, 22837, 22838, 22839, 22840, 22841, 22842, 22843, 22844, 22850, 22851, 22852, 22854, 22855, 22860, 22861, 22862, 22863, 22864, 22866, 22867, 22868, 22869, 22870, 22871, 22872, 22873, 22874, 22875, 22876, 22877, 22878, 22879, 22880, 22881, 22882, 22883, 22884, 22885, 22886, 22887, 22888, 22889, 22890, 22891, 22892, 22893, 22894, 22895, 22897, 22898, 22899, 22900, 22901, 22902, 22903, 22904, 22905, 22906, 22907, 22908, 22909, 22910, 22912, 22913, 22914, 22915, 22916, 22917, 22918, 22919, 22923, 22924, 22940, 22941, 22942, 22943, 22944, 22945, 22946, 22947, 22948, 22949, 22956, 22957, 22958, 22959, 22961, 22962, 22963, 22964, 22965, 22966, 22967, 22968, 22973, 22974, 22980, 22981, 22982, 22985, 22986, 22987, 22988, 22992, 22993, 22994, 22995, 23000, 23001, 23002, 23003, 23004, 23005, 23006, 23007, 23008, 23009, 23019, 23020, 23021, 23022, 23023, 23024, 23025, 23026, 23028, 23029, 23030, 23031, 23032, 23033, 23037, 23038, 23051, 23052, 23053, 23054, 23059, 23060, 23061, 23065, 23066, 23067, 23068, 23069, 23070, 23071, 23072, 23073, 23074, 23077, 23078, 23079, 23080, 23081, 23082, 23083, 23084, 23085, 23086, 23087, 23089, 23090, 23091, 23092, 23093, 23094, 23095, 23096, 23102, 23103, 23104, 23105, 23109, 23110, 23119, 23120, 23121, 23122, 23128, 23129, 23130, 23133, 23134, 23135, 23136, 23137, 23138, 23139, 23140, 23141, 23142, 23143, 23144, 23145, 23146, 23151, 23152, 23158, 23159, 23170, 23171, 23172, 23173, 23174, 23175, 23181, 23182, 23183, 23184, 23185, 23186, 23187, 23188, 23190, 23191, 23193, 23194, 23196, 23197, 23198, 23199, 23200, 23201, 23204, 23205, 23210, 23211, 23217, 23218, 23222, 23223, 23224, 23225, 23226, 23227, 23234, 23235, 23236, 23237, 23238, 23239, 23240, 23245, 23246, 23247, 23248, 23249, 23250, 23251, 23252, 23253, 23254, 23255, 23264, 23265, 23266, 23267, 23275, 23276, 23277, 23279, 23280, 23281, 23282, 23283, 23284, 23285, 23286, 23287, 23288, 23289, 23290, 23291, 23292, 23296, 23297, 23298, 23299, 23305, 23306, 23307, 23308, 23309, 23310, 23311, 23312, 23313, 23314, 23315, 23316, 23317, 23318, 23319, 23320, 23321, 23322, 23324, 23325, 23327, 23328, 23329, 23330, 23333, 23334, 23335, 23336, 23337, 23338, 23339, 23340, 23341, 23342, 23343, 23344, 23345, 23346, 23347, 23348, 23349, 23350, 23351, 23352, 23353, 23354, 23355, 23356, 23357, 23358, 23359, 23364, 23365, 23367, 23368, 23369, 23370, 23371, 23372, 23373, 23374, 23375, 23376, 23377, 23378, 23379, 23380, 23381, 23382, 23383, 23384, 23387, 23388, 23389, 23402, 23403, 23412, 23413, 23415, 23416, 23417, 23418, 23432, 23433, 23439, 23440, 23444, 23445, 23448, 23449, 23450, 23451, 23452, 23453, 23454, 23455, 23456, 23461, 23462, 23472, 23473, 23474, 23475, 23477, 23478, 23479, 23480, 23481, 23482, 23483, 23484, 23490, 23491, 23492, 23493, 23494, 23495, 23496, 23503, 23504, 23505, 23506, 23507, 23508, 23509, 23510, 23511, 23512, 23513, 23514, 23515, 23516, 23517, 23521, 23522, 23523, 23524, 23526, 23527, 23528, 23529, 23530, 23531, 23533, 23534, 23535, 23536, 23538, 23539, 23540, 23541, 23542, 23543, 23544, 23545, 23546, 23547, 23549, 23550, 23551, 23552, 23553, 23554, 23555, 23556, 23557, 23558, 23559, 23560, 23561, 23562, 23579, 23580, 23581, 23582, 23587, 23588, 23593, 23594, 23595, 23596, 23597, 23598, 23599, 23600, 23601, 23602, 23608, 23609, 23610, 23611, 23612, 23613, 23614, 23615, 23616, 23620, 23621, 23623, 23624, 23625, 23626, 23629, 23630, 23633, 23634, 23635, 23636, 23637, 23638, 23647, 23648, 23649, 23650, 23653, 23654, 23655, 23672, 23673, 23674, 23681, 23682, 23685, 23686, 23687, 23694, 23695, 23702, 23703, 23711, 23712, 23713, 23714, 23715, 23716, 23717, 23718, 23719, 23720, 23721, 23722, 23723, 23724, 23728, 23729, 23730, 23731, 23736, 23737, 23740, 23741, 23743, 23744, 23745, 23746, 23747, 23748, 23749, 23750, 23751, 23752, 23753, 23754, 23758, 23759, 23761, 23762, 23763, 23764, 23765, 23766, 23768, 23769, 23770, 23787, 23788, 23790, 23791, 23795, 23796, 23806, 23807, 23808, 23809, 23810])"
      ]
     },
     "execution_count": 68,
     "metadata": {},
     "output_type": "execute_result"
    }
   ],
   "source": [
    "log.keys()"
   ]
  },
  {
   "cell_type": "code",
   "execution_count": 69,
   "metadata": {},
   "outputs": [
    {
     "data": {
      "text/plain": [
       "[0.016779083758592606, 0.016916388645768166]"
      ]
     },
     "execution_count": 69,
     "metadata": {},
     "output_type": "execute_result"
    }
   ],
   "source": [
    "log[3]"
   ]
  },
  {
   "cell_type": "code",
   "execution_count": 85,
   "metadata": {},
   "outputs": [],
   "source": [
    "labels_test = torch.cat(labels_test, dim=0)\n",
    "logits_test = torch.stack(logits_test, dim=0)\n",
    "preds_test = torch.argmax(logits_test, dim=1)"
   ]
  },
  {
   "cell_type": "code",
   "execution_count": 60,
   "metadata": {},
   "outputs": [
    {
     "data": {
      "text/plain": [
       "torch.Size([23820, 78])"
      ]
     },
     "execution_count": 60,
     "metadata": {},
     "output_type": "execute_result"
    }
   ],
   "source": [
    "logits_test.shape"
   ]
  },
  {
   "cell_type": "code",
   "execution_count": 86,
   "metadata": {},
   "outputs": [
    {
     "name": "stdout",
     "output_type": "stream",
     "text": [
      "ts_micro_f1=0.9312, ts_macro_f1=0.8215\n"
     ]
    }
   ],
   "source": [
    "from sklearn.metrics import confusion_matrix, f1_score\n",
    "ts_pred_list = logits_test.argmax(\n",
    "                            1).cpu().detach().numpy().tolist()\n",
    "ts_micro_f1 = f1_score(labels_test.reshape(-1).numpy().tolist(),\n",
    "                    ts_pred_list,\n",
    "                    average=\"micro\")\n",
    "ts_macro_f1 = f1_score(labels_test.reshape(-1).numpy().tolist(),\n",
    "                    ts_pred_list,\n",
    "                    average=\"macro\")\n",
    "print(\"ts_micro_f1={:.4f}, ts_macro_f1={:.4f}\".format(ts_micro_f1, ts_macro_f1))"
   ]
  },
  {
   "cell_type": "code",
   "execution_count": 52,
   "metadata": {},
   "outputs": [
    {
     "name": "stderr",
     "output_type": "stream",
     "text": [
      "/tmp/ipykernel_669046/676520997.py:2: UserWarning: Implicit dimension choice for softmax has been deprecated. Change the call to include dim=X as an argument.\n",
      "  F.softmax(logits.detach()).max().item()\n"
     ]
    },
    {
     "data": {
      "text/plain": [
       "0.016916388645768166"
      ]
     },
     "execution_count": 52,
     "metadata": {},
     "output_type": "execute_result"
    }
   ],
   "source": [
    "import torch.nn.functional as F\n",
    "F.softmax(logits.detach()).max().item()"
   ]
  },
  {
   "cell_type": "code",
   "execution_count": 54,
   "metadata": {},
   "outputs": [],
   "source": [
    "logits_temp = model(new_batch_data, cls_indexes=cls_indexes,)"
   ]
  },
  {
   "cell_type": "code",
   "execution_count": 56,
   "metadata": {},
   "outputs": [],
   "source": [
    "logits = logits_temp.clone()"
   ]
  },
  {
   "cell_type": "code",
   "execution_count": 41,
   "metadata": {},
   "outputs": [
    {
     "name": "stdout",
     "output_type": "stream",
     "text": [
      "tensor(1, device='cuda:0')\n",
      "tensor(2, device='cuda:0')\n"
     ]
    }
   ],
   "source": [
    "for col_i in target_col_mask.unique():\n",
    "    if col_i == 0 or col_i == -1:\n",
    "        continue\n",
    "    print(col_i)\n",
    "    new_batch_data = batch[\"data\"].T[target_col_mask!=col_i].reshape(1, -1)\n",
    "    target_col_mask_temp = target_col_mask[target_col_mask!=col_i].reshape(1, -1)\n",
    "    cls_indexes = (target_col_mask_temp == 0).nonzero()[0].reshape(1, -1)\n",
    "    logits = model(new_batch_data, cls_indexes=cls_indexes,)"
   ]
  },
  {
   "cell_type": "code",
   "execution_count": 39,
   "metadata": {},
   "outputs": [
    {
     "data": {
      "text/plain": [
       "tensor([0, 0], device='cuda:0')"
      ]
     },
     "execution_count": 39,
     "metadata": {},
     "output_type": "execute_result"
    }
   ],
   "source": [
    "(target_col_mask_temp == 0).nonzero()[0]"
   ]
  },
  {
   "cell_type": "code",
   "execution_count": 35,
   "metadata": {},
   "outputs": [
    {
     "data": {
      "text/plain": [
       "torch.Size([1, 29])"
      ]
     },
     "execution_count": 35,
     "metadata": {},
     "output_type": "execute_result"
    }
   ],
   "source": [
    "batch[\"data\"].T.shape"
   ]
  },
  {
   "cell_type": "code",
   "execution_count": 16,
   "metadata": {},
   "outputs": [],
   "source": [
    "new_batch_data = batch[\"data\"].T[target_col_mask!=1]"
   ]
  },
  {
   "cell_type": "code",
   "execution_count": 26,
   "metadata": {},
   "outputs": [
    {
     "ename": "IndexError",
     "evalue": "The shape of the mask [1, 29] at index 1 does not match the shape of the indexed tensor [1, 23] at index 1",
     "output_type": "error",
     "traceback": [
      "\u001b[0;31m---------------------------------------------------------------------------\u001b[0m",
      "\u001b[0;31mIndexError\u001b[0m                                Traceback (most recent call last)",
      "Input \u001b[0;32mIn [26]\u001b[0m, in \u001b[0;36m<cell line: 1>\u001b[0;34m()\u001b[0m\n\u001b[0;32m----> 1\u001b[0m cls_indexes \u001b[38;5;241m=\u001b[39m \u001b[43mnew_batch_data\u001b[49m\u001b[43m[\u001b[49m\u001b[43mtarget_col_mask\u001b[49m\u001b[38;5;241;43m==\u001b[39;49m\u001b[38;5;241;43m0\u001b[39;49m\u001b[43m]\u001b[49m\n",
      "\u001b[0;31mIndexError\u001b[0m: The shape of the mask [1, 29] at index 1 does not match the shape of the indexed tensor [1, 23] at index 1"
     ]
    }
   ],
   "source": [
    "cls_indexes = new_batch_data[target_col_mask==0]"
   ]
  },
  {
   "cell_type": "code",
   "execution_count": 25,
   "metadata": {},
   "outputs": [
    {
     "data": {
      "text/plain": [
       "torch.Size([1, 23])"
      ]
     },
     "execution_count": 25,
     "metadata": {},
     "output_type": "execute_result"
    }
   ],
   "source": [
    "new_batch_data.shape"
   ]
  },
  {
   "cell_type": "code",
   "execution_count": 19,
   "metadata": {},
   "outputs": [
    {
     "data": {
      "text/plain": [
       "tensor([[ True,  True,  True,  True,  True,  True,  True,  True,  True,  True,\n",
       "         False, False, False, False, False, False, False, False, False, False,\n",
       "         False, False, False, False, False, False, False, False, False]],\n",
       "       device='cuda:0')"
      ]
     },
     "execution_count": 19,
     "metadata": {},
     "output_type": "execute_result"
    }
   ],
   "source": [
    "target_col_mask==0"
   ]
  },
  {
   "cell_type": "code",
   "execution_count": 15,
   "metadata": {},
   "outputs": [
    {
     "data": {
      "text/plain": [
       "torch.Size([1, 29])"
      ]
     },
     "execution_count": 15,
     "metadata": {},
     "output_type": "execute_result"
    }
   ],
   "source": [
    "target_col_mask.shape"
   ]
  },
  {
   "cell_type": "code",
   "execution_count": 14,
   "metadata": {},
   "outputs": [
    {
     "data": {
      "text/plain": [
       "torch.Size([1, 29])"
      ]
     },
     "execution_count": 14,
     "metadata": {},
     "output_type": "execute_result"
    }
   ],
   "source": [
    "batch[\"data\"].T.shape"
   ]
  },
  {
   "cell_type": "code",
   "execution_count": null,
   "metadata": {},
   "outputs": [],
   "source": [
    "\n",
    "logits = model(batch[\"data\"].T, cls_indexes=cls_indexes,)"
   ]
  },
  {
   "cell_type": "code",
   "execution_count": 10,
   "metadata": {},
   "outputs": [
    {
     "data": {
      "text/plain": [
       "tensor([[0, 0, 0, 0, 0, 0, 0, 0, 0, 0, 1, 1, 1, 1, 1, 1, 1, 1, 1, 1, 1, 1, 1, 2,\n",
       "         2, 2, 2, 2, 2]], device='cuda:0')"
      ]
     },
     "execution_count": 10,
     "metadata": {},
     "output_type": "execute_result"
    }
   ],
   "source": [
    "target_col_mask"
   ]
  },
  {
   "cell_type": "code",
   "execution_count": null,
   "metadata": {},
   "outputs": [],
   "source": [
    "from sklearn.metrics import confusion_matrix, f1_score\n",
    "ts_micro_f1 = f1_score(labels_test.reshape(-1).numpy().tolist(),\n",
    "                    ts_pred_list,\n",
    "                    average=\"micro\")\n",
    "ts_macro_f1 = f1_score(labels_test.reshape(-1).numpy().tolist(),\n",
    "                    ts_pred_list,\n",
    "                    average=\"macro\")\n",
    "print(\"ts_micro_f1={:.4f}, ts_macro_f1={:.4f}\".format(ts_micro_f1, ts_macro_f1))"
   ]
  },
  {
   "cell_type": "code",
   "execution_count": null,
   "metadata": {},
   "outputs": [],
   "source": []
  },
  {
   "cell_type": "code",
   "execution_count": 32,
   "metadata": {},
   "outputs": [
    {
     "data": {
      "text/plain": [
       "tensor([0, 0], device='cuda:0')"
      ]
     },
     "execution_count": 32,
     "metadata": {},
     "output_type": "execute_result"
    }
   ],
   "source": [
    "cls_indexes"
   ]
  },
  {
   "cell_type": "code",
   "execution_count": 17,
   "metadata": {},
   "outputs": [
    {
     "data": {
      "text/plain": [
       "tensor([[ 0,  0,  0,  ..., -1, -1, -1],\n",
       "        [ 0,  0,  0,  ..., -1, -1, -1],\n",
       "        [ 0,  0,  0,  ..., -1, -1, -1],\n",
       "        ...,\n",
       "        [ 0,  0,  0,  ..., -1, -1, -1],\n",
       "        [ 1,  1,  1,  ..., -1, -1, -1],\n",
       "        [ 0,  0,  0,  ..., -1, -1, -1]], device='cuda:0')"
      ]
     },
     "execution_count": 17,
     "metadata": {},
     "output_type": "execute_result"
    }
   ],
   "source": [
    "target_col_mask"
   ]
  },
  {
   "cell_type": "code",
   "execution_count": null,
   "metadata": {},
   "outputs": [
    {
     "data": {
      "text/plain": [
       "dict_keys(['data', 'label', 'cls_indexes'])"
      ]
     },
     "execution_count": 104,
     "metadata": {},
     "output_type": "execute_result"
    }
   ],
   "source": [
    "batch.keys()"
   ]
  },
  {
   "cell_type": "code",
   "execution_count": null,
   "metadata": {},
   "outputs": [
    {
     "ename": "NameError",
     "evalue": "name 'target_col_mask' is not defined",
     "output_type": "error",
     "traceback": [
      "\u001b[0;31m---------------------------------------------------------------------------\u001b[0m",
      "\u001b[0;31mNameError\u001b[0m                                 Traceback (most recent call last)",
      "Input \u001b[0;32mIn [99]\u001b[0m, in \u001b[0;36m<cell line: 1>\u001b[0;34m()\u001b[0m\n\u001b[0;32m----> 1\u001b[0m \u001b[43mtarget_col_mask\u001b[49m\u001b[38;5;241m.\u001b[39mT\n",
      "\u001b[0;31mNameError\u001b[0m: name 'target_col_mask' is not defined"
     ]
    }
   ],
   "source": [
    "batch.keys()"
   ]
  },
  {
   "cell_type": "code",
   "execution_count": 74,
   "metadata": {},
   "outputs": [
    {
     "data": {
      "text/plain": [
       "16"
      ]
     },
     "execution_count": 74,
     "metadata": {},
     "output_type": "execute_result"
    }
   ],
   "source": [
    "batch_size"
   ]
  },
  {
   "cell_type": "code",
   "execution_count": 73,
   "metadata": {},
   "outputs": [
    {
     "data": {
      "text/plain": [
       "tensor([[ 0,  0,  0,  0, 10, 23,  0,  0, 26,  0,  0,  0,  0,  0, 12,  0]],\n",
       "       device='cuda:0')"
      ]
     },
     "execution_count": 73,
     "metadata": {},
     "output_type": "execute_result"
    }
   ],
   "source": [
    "cls_indexes"
   ]
  },
  {
   "cell_type": "code",
   "execution_count": 67,
   "metadata": {},
   "outputs": [
    {
     "data": {
      "text/plain": [
       "23824"
      ]
     },
     "execution_count": 67,
     "metadata": {},
     "output_type": "execute_result"
    }
   ],
   "source": [
    "len(test_dataloader_iter)*batch_size"
   ]
  },
  {
   "cell_type": "code",
   "execution_count": 54,
   "metadata": {},
   "outputs": [
    {
     "data": {
      "text/plain": [
       "[1, 1, 1, 0, 0, 0]"
      ]
     },
     "execution_count": 54,
     "metadata": {},
     "output_type": "execute_result"
    }
   ],
   "source": [
    "[1,1,1] + [0,0,0]"
   ]
  },
  {
   "cell_type": "code",
   "execution_count": 2,
   "metadata": {},
   "outputs": [
    {
     "name": "stderr",
     "output_type": "stream",
     "text": [
      "/tmp/ipykernel_4031802/3637233842.py:1: FutureWarning: You are using `torch.load` with `weights_only=False` (the current default value), which uses the default pickle module implicitly. It is possible to construct malicious pickle data which will execute arbitrary code during unpickling (See https://github.com/pytorch/pytorch/blob/main/SECURITY.md#untrusted-models for more details). In a future release, the default value for `weights_only` will be flipped to `True`. This limits the functions that could be executed during unpickling. Arbitrary objects will no longer be allowed to be loaded via this mode unless they are explicitly allowlisted by the user via `torch.serialization.add_safe_globals`. We recommend you start setting `weights_only=True` for any use case where you don't have full control of the loaded file. Please open an issue on GitHub for any issues related to this experimental feature.\n",
      "  ood_score = torch.load(\"/data/zhihao/TU/Watchog/outputs/sato0/bert-base-uncased-fromscratch-bs16-ml64-ne30-do0.1_ood_score.pt\")\n",
      "/tmp/ipykernel_4031802/3637233842.py:2: FutureWarning: You are using `torch.load` with `weights_only=False` (the current default value), which uses the default pickle module implicitly. It is possible to construct malicious pickle data which will execute arbitrary code during unpickling (See https://github.com/pytorch/pytorch/blob/main/SECURITY.md#untrusted-models for more details). In a future release, the default value for `weights_only` will be flipped to `True`. This limits the functions that could be executed during unpickling. Arbitrary objects will no longer be allowed to be loaded via this mode unless they are explicitly allowlisted by the user via `torch.serialization.add_safe_globals`. We recommend you start setting `weights_only=True` for any use case where you don't have full control of the loaded file. Please open an issue on GitHub for any issues related to this experimental feature.\n",
      "  ood_labels = torch.load(\"/data/zhihao/TU/Watchog/outputs/sato0/bert-base-uncased-fromscratch-bs16-ml64-ne30-do0.1_ood_labels.pt\")\n"
     ]
    }
   ],
   "source": [
    "# ood_score = torch.load(\"/data/zhihao/TU/Watchog/outputs/sato0/bert-base-uncased-fromscratch-bs16-ml64-ne30-do0.1_ood_score.pt\")\n",
    "# ood_labels = torch.load(\"/data/zhihao/TU/Watchog/outputs/sato0/bert-base-uncased-fromscratch-bs16-ml64-ne30-do0.1_ood_labels.pt\")"
   ]
  },
  {
   "cell_type": "code",
   "execution_count": 169,
   "metadata": {},
   "outputs": [
    {
     "name": "stderr",
     "output_type": "stream",
     "text": [
      "/tmp/ipykernel_669046/21330237.py:6: FutureWarning: You are using `torch.load` with `weights_only=False` (the current default value), which uses the default pickle module implicitly. It is possible to construct malicious pickle data which will execute arbitrary code during unpickling (See https://github.com/pytorch/pytorch/blob/main/SECURITY.md#untrusted-models for more details). In a future release, the default value for `weights_only` will be flipped to `True`. This limits the functions that could be executed during unpickling. Arbitrary objects will no longer be allowed to be loaded via this mode unless they are explicitly allowlisted by the user via `torch.serialization.add_safe_globals`. We recommend you start setting `weights_only=True` for any use case where you don't have full control of the loaded file. Please open an issue on GitHub for any issues related to this experimental feature.\n",
      "  best_state_dict = torch.load(\"/data/zhihao/TU/Watchog/outputs/sato0/bert-base-uncased-fromscratch-bs16-ml64-ne30-do0.1_best_f1_micro.pt\", map_location=device)\n"
     ]
    },
    {
     "name": "stdout",
     "output_type": "stream",
     "text": [
      "ts_micro_f1=0.9466, ts_macro_f1=0.8483\n",
      "ts_micro_f1=0.9702, ts_macro_f1=0.8450\n",
      "ts_micro_f1=0.9109, ts_macro_f1=0.7189\n"
     ]
    }
   ],
   "source": [
    "# Cheat perumate\n",
    "import itertools\n",
    "\n",
    "\n",
    "    \n",
    "best_state_dict = torch.load(\"/data/zhihao/TU/Watchog/outputs/sato0/bert-base-uncased-fromscratch-bs16-ml64-ne30-do0.1_best_f1_micro.pt\", map_location=device)\n",
    "model.load_state_dict(best_state_dict, strict=False)\n",
    "model.eval()\n",
    "model = model.to(device)\n",
    "ft_embs_test = []\n",
    "labels_test = []\n",
    "logits_test = []\n",
    "log = defaultdict(list)\n",
    "num_cols = []\n",
    "threshold = 0.8\n",
    "corrected = 0\n",
    "total_mistakes = 0\n",
    "for batch_idx, batch in enumerate(test_dataloader_iter):\n",
    "    cls_indexes = torch.LongTensor([[0, batch[\"cls_indexes\"].cpu().item()]]).to(device)\n",
    "    target_col_mask = batch[\"target_col_mask\"].T\n",
    "    logits = model(batch[\"data\"].T, cls_indexes=cls_indexes,)\n",
    "    num_cols.append(batch[\"target_col_mask\"].max().item())\n",
    "    if 1 in target_col_mask and logits.argmax().item() != batch[\"label\"].item():\n",
    "        total_mistakes += 1\n",
    "        col_idx_set = target_col_mask.unique().tolist()\n",
    "        assert -1 not in col_idx_set\n",
    "        for x in itertools.permutations(col_idx_set):\n",
    "            new_batch_data = []\n",
    "            for col_i in x:\n",
    "                if col_i == 0:\n",
    "                    if len(new_batch_data) == 0:\n",
    "                        cls_indexes_value = 0\n",
    "                    else:\n",
    "                        cls_indexes_value = sum([len(new_batch_data[i]) for i in range(len(new_batch_data))])\n",
    "                new_batch_data.append(batch[\"data\"].T[target_col_mask==col_i])\n",
    "            new_batch_data = torch.cat(new_batch_data, dim=-1).reshape(1, -1)\n",
    "            cls_indexes = torch.tensor([0, cls_indexes_value]).reshape(1, -1).to(device)\n",
    "            logits_temp = model(new_batch_data, cls_indexes=cls_indexes,)\n",
    "            if logits_temp.argmax().item() == batch[\"label\"].item():\n",
    "                logits = logits_temp.clone()\n",
    "                corrected += 1\n",
    "                break\n",
    "            \n",
    "    labels_test.append(batch[\"label\"].cpu())\n",
    "    logits_test.append(logits.detach().cpu())\n",
    "labels_test = torch.cat(labels_test, dim=0)\n",
    "logits_test = torch.stack(logits_test, dim=0)\n",
    "preds_test = torch.argmax(logits_test, dim=1)\n",
    "num_cols = torch.tensor(num_cols)\n",
    "\n",
    "\n",
    "\n",
    "\n",
    "from sklearn.metrics import confusion_matrix, f1_score\n",
    "mask = num_cols > 0\n",
    "ts_pred_list = logits_test.argmax(\n",
    "                            1).cpu().detach().numpy().tolist()\n",
    "ts_micro_f1 = f1_score(labels_test.reshape(-1).numpy().tolist(),\n",
    "                    ts_pred_list,\n",
    "                    average=\"micro\")\n",
    "ts_macro_f1 = f1_score(labels_test.reshape(-1).numpy().tolist(),\n",
    "                    ts_pred_list,\n",
    "                    average=\"macro\")\n",
    "print(\"ts_micro_f1={:.4f}, ts_macro_f1={:.4f}\".format(ts_micro_f1, ts_macro_f1))\n",
    "ts_pred_list = logits_test.argmax(\n",
    "                            1).cpu().detach()[mask].numpy().tolist()\n",
    "ts_micro_f1 = f1_score(labels_test.reshape(-1)[mask].numpy().tolist(),\n",
    "                    ts_pred_list,\n",
    "                    average=\"micro\")\n",
    "ts_macro_f1 = f1_score(labels_test.reshape(-1)[mask].numpy().tolist(),\n",
    "                    ts_pred_list,\n",
    "                    average=\"macro\")\n",
    "print(\"ts_micro_f1={:.4f}, ts_macro_f1={:.4f}\".format(ts_micro_f1, ts_macro_f1))\n",
    "ts_pred_list = logits_test.argmax(\n",
    "                            1).cpu().detach()[~mask].numpy().tolist()\n",
    "ts_micro_f1 = f1_score(labels_test.reshape(-1)[~mask].numpy().tolist(),\n",
    "                    ts_pred_list,\n",
    "                    average=\"micro\")\n",
    "ts_macro_f1 = f1_score(labels_test.reshape(-1)[~mask].numpy().tolist(),\n",
    "                    ts_pred_list,\n",
    "                    average=\"macro\")\n",
    "print(\"ts_micro_f1={:.4f}, ts_macro_f1={:.4f}\".format(ts_micro_f1, ts_macro_f1))"
   ]
  },
  {
   "cell_type": "code",
   "execution_count": 153,
   "metadata": {},
   "outputs": [],
   "source": [
    "for batch_idx, batch in enumerate(test_dataloader_iter):\n",
    "    target_col_mask = batch[\"target_col_mask\"].T \n",
    "    if len(target_col_mask.unique()) >3:\n",
    "        break"
   ]
  },
  {
   "cell_type": "code",
   "execution_count": 160,
   "metadata": {},
   "outputs": [],
   "source": [
    "new_batch_data = []"
   ]
  },
  {
   "cell_type": "code",
   "execution_count": 162,
   "metadata": {},
   "outputs": [
    {
     "data": {
      "text/plain": [
       "tensor([[0, 0]], device='cuda:0')"
      ]
     },
     "execution_count": 162,
     "metadata": {},
     "output_type": "execute_result"
    }
   ],
   "source": [
    "cls_indexes = torch.LongTensor([[0, batch[\"cls_indexes\"].cpu().item()]]).to(device)"
   ]
  },
  {
   "cell_type": "code",
   "execution_count": 165,
   "metadata": {},
   "outputs": [
    {
     "data": {
      "text/plain": [
       "tensor([[  101,  6928,  9317,  9432,  5958,  5095,  4465,  6928,  9317,  9432,\n",
       "          5958,  5095,  5095,  4465,  6928,   101,  2185,  2188,  2185,  2185,\n",
       "          2188,  2188,  2188,  2185,  2188,  2188,  2185,  2188,  2185,  2185,\n",
       "           101,  2345,  2345,  2345,  2345, 14475,  1024,  2089, 16318, 14475,\n",
       "          1024, 12022,  5351,  2345,  2345,  2345, 14475,  1024, 12022,  6252,\n",
       "         14475,  1024, 12022, 14935, 14475,  1024, 12022,  3708,  2345,  2345,\n",
       "           101,  2663,  2663,  2663,  3279,  2663,  2663,  3279,  3279,  2663]],\n",
       "       device='cuda:0')"
      ]
     },
     "execution_count": 165,
     "metadata": {},
     "output_type": "execute_result"
    }
   ],
   "source": [
    "batch[\"data\"].T"
   ]
  },
  {
   "cell_type": "code",
   "execution_count": 168,
   "metadata": {},
   "outputs": [
    {
     "name": "stdout",
     "output_type": "stream",
     "text": [
      "0 tensor([ 101, 6928, 9317], device='cuda:0')\n",
      "*****************************************************\n",
      "0 tensor([ 101, 6928, 9317], device='cuda:0')\n",
      "*****************************************************\n",
      "0 tensor([ 101, 6928, 9317], device='cuda:0')\n",
      "*****************************************************\n",
      "0 tensor([ 101, 6928, 9317], device='cuda:0')\n",
      "*****************************************************\n",
      "0 tensor([ 101, 6928, 9317], device='cuda:0')\n",
      "*****************************************************\n",
      "0 tensor([ 101, 6928, 9317], device='cuda:0')\n",
      "*****************************************************\n",
      "15 tensor([ 101, 6928, 9317], device='cuda:0')\n",
      "*****************************************************\n",
      "15 tensor([ 101, 6928, 9317], device='cuda:0')\n",
      "*****************************************************\n",
      "45 tensor([ 101, 6928, 9317], device='cuda:0')\n",
      "*****************************************************\n",
      "55 tensor([ 101, 6928, 9317], device='cuda:0')\n",
      "*****************************************************\n",
      "25 tensor([ 101, 6928, 9317], device='cuda:0')\n",
      "*****************************************************\n",
      "55 tensor([ 101, 6928, 9317], device='cuda:0')\n",
      "*****************************************************\n",
      "30 tensor([ 101, 6928, 9317], device='cuda:0')\n",
      "*****************************************************\n",
      "30 tensor([ 101, 6928, 9317], device='cuda:0')\n",
      "*****************************************************\n",
      "45 tensor([ 101, 6928, 9317], device='cuda:0')\n",
      "*****************************************************\n",
      "55 tensor([ 101, 6928, 9317], device='cuda:0')\n",
      "*****************************************************\n",
      "40 tensor([ 101, 6928, 9317], device='cuda:0')\n",
      "*****************************************************\n",
      "55 tensor([ 101, 6928, 9317], device='cuda:0')\n",
      "*****************************************************\n",
      "10 tensor([ 101, 6928, 9317], device='cuda:0')\n",
      "*****************************************************\n",
      "10 tensor([ 101, 6928, 9317], device='cuda:0')\n",
      "*****************************************************\n",
      "25 tensor([ 101, 6928, 9317], device='cuda:0')\n",
      "*****************************************************\n",
      "55 tensor([ 101, 6928, 9317], device='cuda:0')\n",
      "*****************************************************\n",
      "40 tensor([ 101, 6928, 9317], device='cuda:0')\n",
      "*****************************************************\n",
      "55 tensor([ 101, 6928, 9317], device='cuda:0')\n",
      "*****************************************************\n"
     ]
    }
   ],
   "source": [
    "col_idx_set = target_col_mask.unique().tolist()\n",
    "\n",
    "assert -1 not in col_idx_set\n",
    "for x in itertools.permutations(col_idx_set):\n",
    "    new_batch_data = []\n",
    "    for col_i in x:\n",
    "        if col_i == 0:\n",
    "            if len(new_batch_data) == 0:\n",
    "                cls_indexes_value = 0\n",
    "            else:\n",
    "                cls_indexes_value = sum([len(new_batch_data[i]) for i in range(len(new_batch_data))])\n",
    "        new_batch_data.append(batch[\"data\"].T[target_col_mask==col_i])\n",
    "    cls_indexes = torch.tensor([0, cls_indexes_value]).reshape(1, -1).to(device)\n",
    "    new_batch_data = torch.cat(new_batch_data, dim=-1).reshape(1, -1)\n",
    "    print( cls_indexes_value, new_batch_data[0][cls_indexes_value:cls_indexes_value+3])\n",
    "    print(\"*****************************************************\")"
   ]
  },
  {
   "cell_type": "code",
   "execution_count": 159,
   "metadata": {},
   "outputs": [
    {
     "data": {
      "text/plain": [
       "torch.Size([55])"
      ]
     },
     "execution_count": 159,
     "metadata": {},
     "output_type": "execute_result"
    }
   ],
   "source": [
    "batch[\"data\"].T[target_col_mask!=col_i].shape"
   ]
  },
  {
   "cell_type": "code",
   "execution_count": 155,
   "metadata": {},
   "outputs": [
    {
     "data": {
      "text/plain": [
       "tensor([0, 1, 2, 3], device='cuda:0')"
      ]
     },
     "execution_count": 155,
     "metadata": {},
     "output_type": "execute_result"
    }
   ],
   "source": [
    "target_col_mask.unique()"
   ]
  },
  {
   "cell_type": "code",
   "execution_count": 164,
   "metadata": {},
   "outputs": [
    {
     "data": {
      "text/plain": [
       "tensor([[0, 0, 0, 0, 0, 0, 0, 0, 0, 0, 0, 0, 0, 0, 0, 1, 1, 1, 1, 1, 1, 1, 1, 1,\n",
       "         1, 1, 1, 1, 1, 1, 2, 2, 2, 2, 2, 2, 2, 2, 2, 2, 2, 2, 2, 2, 2, 2, 2, 2,\n",
       "         2, 2, 2, 2, 2, 2, 2, 2, 2, 2, 2, 2, 3, 3, 3, 3, 3, 3, 3, 3, 3, 3]],\n",
       "       device='cuda:0')"
      ]
     },
     "execution_count": 164,
     "metadata": {},
     "output_type": "execute_result"
    }
   ],
   "source": [
    "target_col_mask"
   ]
  },
  {
   "cell_type": "code",
   "execution_count": 157,
   "metadata": {},
   "outputs": [
    {
     "name": "stdout",
     "output_type": "stream",
     "text": [
      "(0, 1, 2, 3)\n",
      "(0, 1, 3, 2)\n",
      "(0, 2, 1, 3)\n",
      "(0, 2, 3, 1)\n",
      "(0, 3, 1, 2)\n",
      "(0, 3, 2, 1)\n",
      "(1, 0, 2, 3)\n",
      "(1, 0, 3, 2)\n",
      "(1, 2, 0, 3)\n",
      "(1, 2, 3, 0)\n",
      "(1, 3, 0, 2)\n",
      "(1, 3, 2, 0)\n",
      "(2, 0, 1, 3)\n",
      "(2, 0, 3, 1)\n",
      "(2, 1, 0, 3)\n",
      "(2, 1, 3, 0)\n",
      "(2, 3, 0, 1)\n",
      "(2, 3, 1, 0)\n",
      "(3, 0, 1, 2)\n",
      "(3, 0, 2, 1)\n",
      "(3, 1, 0, 2)\n",
      "(3, 1, 2, 0)\n",
      "(3, 2, 0, 1)\n",
      "(3, 2, 1, 0)\n"
     ]
    }
   ],
   "source": [
    "import itertools\n",
    "col_idx_set = target_col_mask.unique().tolist()\n",
    "for x in itertools.permutations(col_idx_set):\n",
    "    print(x)"
   ]
  },
  {
   "cell_type": "code",
   "execution_count": 24,
   "metadata": {},
   "outputs": [],
   "source": [
    "import pandas as pd\n",
    "df = pd.read_csv(\"/data/yongkang/TU/SOTAB/comma_train_sotab.csv\")"
   ]
  },
  {
   "cell_type": "code",
   "execution_count": 25,
   "metadata": {},
   "outputs": [
    {
     "data": {
      "text/plain": [
       "91320"
      ]
     },
     "execution_count": 25,
     "metadata": {},
     "output_type": "execute_result"
    }
   ],
   "source": [
    "len(df)"
   ]
  },
  {
   "cell_type": "code",
   "execution_count": 5,
   "metadata": {},
   "outputs": [
    {
     "data": {
      "text/html": [
       "<div>\n",
       "<style scoped>\n",
       "    .dataframe tbody tr th:only-of-type {\n",
       "        vertical-align: middle;\n",
       "    }\n",
       "\n",
       "    .dataframe tbody tr th {\n",
       "        vertical-align: top;\n",
       "    }\n",
       "\n",
       "    .dataframe thead th {\n",
       "        text-align: right;\n",
       "    }\n",
       "</style>\n",
       "<table border=\"1\" class=\"dataframe\">\n",
       "  <thead>\n",
       "    <tr style=\"text-align: right;\">\n",
       "      <th></th>\n",
       "      <th>table_id</th>\n",
       "      <th>column_index</th>\n",
       "      <th>label</th>\n",
       "      <th>data</th>\n",
       "    </tr>\n",
       "  </thead>\n",
       "  <tbody>\n",
       "    <tr>\n",
       "      <th>0</th>\n",
       "      <td>Book_1carpetcleaning.co.uk_September2020_CTA.j...</td>\n",
       "      <td>0</td>\n",
       "      <td>5</td>\n",
       "      <td>Homer William Bedell Stanford W. Stanford, Dav...</td>\n",
       "    </tr>\n",
       "    <tr>\n",
       "      <th>1</th>\n",
       "      <td>Book_1carpetcleaning.co.uk_September2020_CTA.j...</td>\n",
       "      <td>1</td>\n",
       "      <td>10</td>\n",
       "      <td>Unlimited [Historical Fiction Book] ↠ The Odys...</td>\n",
       "    </tr>\n",
       "    <tr>\n",
       "      <th>2</th>\n",
       "      <td>Book_1carpetcleaning.co.uk_September2020_CTA.j...</td>\n",
       "      <td>2</td>\n",
       "      <td>36</td>\n",
       "      <td>Paperback, Hardcover, Paperback, None, Paperba...</td>\n",
       "    </tr>\n",
       "    <tr>\n",
       "      <th>3</th>\n",
       "      <td>Book_1carpetcleaning.co.uk_September2020_CTA.j...</td>\n",
       "      <td>3</td>\n",
       "      <td>-1</td>\n",
       "      <td>2020-06-27T15:00:54+00:00, 2020-06-01T00:07:00...</td>\n",
       "    </tr>\n",
       "    <tr>\n",
       "      <th>4</th>\n",
       "      <td>Book_1carpetcleaning.co.uk_September2020_CTA.j...</td>\n",
       "      <td>4</td>\n",
       "      <td>-1</td>\n",
       "      <td>418, 309, 139, 491, 461, 272, 211, 365, 153, 2...</td>\n",
       "    </tr>\n",
       "    <tr>\n",
       "      <th>...</th>\n",
       "      <td>...</td>\n",
       "      <td>...</td>\n",
       "      <td>...</td>\n",
       "      <td>...</td>\n",
       "    </tr>\n",
       "    <tr>\n",
       "      <th>91315</th>\n",
       "      <td>TVEpisode_yidio.com_September2020_CTA.json.gz</td>\n",
       "      <td>1</td>\n",
       "      <td>19</td>\n",
       "      <td>In the hope that Griffin has left materials an...</td>\n",
       "    </tr>\n",
       "    <tr>\n",
       "      <th>91316</th>\n",
       "      <td>TVEpisode_yidio.com_September2020_CTA.json.gz</td>\n",
       "      <td>2</td>\n",
       "      <td>35</td>\n",
       "      <td>BANANA FISH, None, None, None, None, None, Non...</td>\n",
       "    </tr>\n",
       "    <tr>\n",
       "      <th>91317</th>\n",
       "      <td>TVEpisode_yidio.com_September2020_CTA.json.gz</td>\n",
       "      <td>3</td>\n",
       "      <td>-1</td>\n",
       "      <td>1.0, nan, nan, nan, nan, nan, nan, nan, nan, n...</td>\n",
       "    </tr>\n",
       "    <tr>\n",
       "      <th>91318</th>\n",
       "      <td>TVEpisode_yidio.com_September2020_CTA.json.gz</td>\n",
       "      <td>4</td>\n",
       "      <td>33</td>\n",
       "      <td>None, 2019-11-06, 2019-10-23, 2019-10-23, 1986...</td>\n",
       "    </tr>\n",
       "    <tr>\n",
       "      <th>91319</th>\n",
       "      <td>TVEpisode_yidio.com_September2020_CTA.json.gz</td>\n",
       "      <td>5</td>\n",
       "      <td>-1</td>\n",
       "      <td>6, 5, 3, 1, 19, 18, 21, 11, 20, 19, 15, 11, 2,...</td>\n",
       "    </tr>\n",
       "  </tbody>\n",
       "</table>\n",
       "<p>91320 rows × 4 columns</p>\n",
       "</div>"
      ],
      "text/plain": [
       "                                                table_id  column_index  label  \\\n",
       "0      Book_1carpetcleaning.co.uk_September2020_CTA.j...             0      5   \n",
       "1      Book_1carpetcleaning.co.uk_September2020_CTA.j...             1     10   \n",
       "2      Book_1carpetcleaning.co.uk_September2020_CTA.j...             2     36   \n",
       "3      Book_1carpetcleaning.co.uk_September2020_CTA.j...             3     -1   \n",
       "4      Book_1carpetcleaning.co.uk_September2020_CTA.j...             4     -1   \n",
       "...                                                  ...           ...    ...   \n",
       "91315      TVEpisode_yidio.com_September2020_CTA.json.gz             1     19   \n",
       "91316      TVEpisode_yidio.com_September2020_CTA.json.gz             2     35   \n",
       "91317      TVEpisode_yidio.com_September2020_CTA.json.gz             3     -1   \n",
       "91318      TVEpisode_yidio.com_September2020_CTA.json.gz             4     33   \n",
       "91319      TVEpisode_yidio.com_September2020_CTA.json.gz             5     -1   \n",
       "\n",
       "                                                    data  \n",
       "0      Homer William Bedell Stanford W. Stanford, Dav...  \n",
       "1      Unlimited [Historical Fiction Book] ↠ The Odys...  \n",
       "2      Paperback, Hardcover, Paperback, None, Paperba...  \n",
       "3      2020-06-27T15:00:54+00:00, 2020-06-01T00:07:00...  \n",
       "4      418, 309, 139, 491, 461, 272, 211, 365, 153, 2...  \n",
       "...                                                  ...  \n",
       "91315  In the hope that Griffin has left materials an...  \n",
       "91316  BANANA FISH, None, None, None, None, None, Non...  \n",
       "91317  1.0, nan, nan, nan, nan, nan, nan, nan, nan, n...  \n",
       "91318  None, 2019-11-06, 2019-10-23, 2019-10-23, 1986...  \n",
       "91319  6, 5, 3, 1, 19, 18, 21, 11, 20, 19, 15, 11, 2,...  \n",
       "\n",
       "[91320 rows x 4 columns]"
      ]
     },
     "execution_count": 5,
     "metadata": {},
     "output_type": "execute_result"
    }
   ],
   "source": [
    "df"
   ]
  },
  {
   "cell_type": "code",
   "execution_count": 6,
   "metadata": {},
   "outputs": [
    {
     "data": {
      "text/html": [
       "<div>\n",
       "<style scoped>\n",
       "    .dataframe tbody tr th:only-of-type {\n",
       "        vertical-align: middle;\n",
       "    }\n",
       "\n",
       "    .dataframe tbody tr th {\n",
       "        vertical-align: top;\n",
       "    }\n",
       "\n",
       "    .dataframe thead th {\n",
       "        text-align: right;\n",
       "    }\n",
       "</style>\n",
       "<table border=\"1\" class=\"dataframe\">\n",
       "  <thead>\n",
       "    <tr style=\"text-align: right;\">\n",
       "      <th></th>\n",
       "      <th>table_id</th>\n",
       "      <th>column_index</th>\n",
       "      <th>label</th>\n",
       "      <th>data</th>\n",
       "    </tr>\n",
       "  </thead>\n",
       "  <tbody>\n",
       "    <tr>\n",
       "      <th>0</th>\n",
       "      <td>Book_1carpetcleaning.co.uk_September2020_CTA.j...</td>\n",
       "      <td>0</td>\n",
       "      <td>5</td>\n",
       "      <td>Homer William Bedell Stanford W. Stanford, Dav...</td>\n",
       "    </tr>\n",
       "    <tr>\n",
       "      <th>1</th>\n",
       "      <td>Book_1carpetcleaning.co.uk_September2020_CTA.j...</td>\n",
       "      <td>1</td>\n",
       "      <td>10</td>\n",
       "      <td>Unlimited [Historical Fiction Book] ↠ The Odys...</td>\n",
       "    </tr>\n",
       "    <tr>\n",
       "      <th>2</th>\n",
       "      <td>Book_1carpetcleaning.co.uk_September2020_CTA.j...</td>\n",
       "      <td>2</td>\n",
       "      <td>36</td>\n",
       "      <td>Paperback, Hardcover, Paperback, None, Paperba...</td>\n",
       "    </tr>\n",
       "    <tr>\n",
       "      <th>5</th>\n",
       "      <td>Book_1carpetcleaning.co.uk_September2020_CTA.j...</td>\n",
       "      <td>5</td>\n",
       "      <td>65</td>\n",
       "      <td>English, English, English, English, English, E...</td>\n",
       "    </tr>\n",
       "    <tr>\n",
       "      <th>7</th>\n",
       "      <td>Book_1carpetcleaning.co.uk_September2020_CTA.j...</td>\n",
       "      <td>7</td>\n",
       "      <td>26</td>\n",
       "      <td>Homer William Bedell Stanford W. Stanford, Dav...</td>\n",
       "    </tr>\n",
       "    <tr>\n",
       "      <th>...</th>\n",
       "      <td>...</td>\n",
       "      <td>...</td>\n",
       "      <td>...</td>\n",
       "      <td>...</td>\n",
       "    </tr>\n",
       "    <tr>\n",
       "      <th>91313</th>\n",
       "      <td>TVEpisode_watchtvondemand.com_September2020_CT...</td>\n",
       "      <td>3</td>\n",
       "      <td>21</td>\n",
       "      <td>3.0, 4.0, 4.0, 4.0, 3.0, 3.0, 3.0, 3.0, 3.0, 3...</td>\n",
       "    </tr>\n",
       "    <tr>\n",
       "      <th>91314</th>\n",
       "      <td>TVEpisode_yidio.com_September2020_CTA.json.gz</td>\n",
       "      <td>0</td>\n",
       "      <td>34</td>\n",
       "      <td>My Lost City, The Laughing Place, Ties that Bi...</td>\n",
       "    </tr>\n",
       "    <tr>\n",
       "      <th>91315</th>\n",
       "      <td>TVEpisode_yidio.com_September2020_CTA.json.gz</td>\n",
       "      <td>1</td>\n",
       "      <td>19</td>\n",
       "      <td>In the hope that Griffin has left materials an...</td>\n",
       "    </tr>\n",
       "    <tr>\n",
       "      <th>91316</th>\n",
       "      <td>TVEpisode_yidio.com_September2020_CTA.json.gz</td>\n",
       "      <td>2</td>\n",
       "      <td>35</td>\n",
       "      <td>BANANA FISH, None, None, None, None, None, Non...</td>\n",
       "    </tr>\n",
       "    <tr>\n",
       "      <th>91318</th>\n",
       "      <td>TVEpisode_yidio.com_September2020_CTA.json.gz</td>\n",
       "      <td>4</td>\n",
       "      <td>33</td>\n",
       "      <td>None, 2019-11-06, 2019-10-23, 2019-10-23, 1986...</td>\n",
       "    </tr>\n",
       "  </tbody>\n",
       "</table>\n",
       "<p>32354 rows × 4 columns</p>\n",
       "</div>"
      ],
      "text/plain": [
       "                                                table_id  column_index  label  \\\n",
       "0      Book_1carpetcleaning.co.uk_September2020_CTA.j...             0      5   \n",
       "1      Book_1carpetcleaning.co.uk_September2020_CTA.j...             1     10   \n",
       "2      Book_1carpetcleaning.co.uk_September2020_CTA.j...             2     36   \n",
       "5      Book_1carpetcleaning.co.uk_September2020_CTA.j...             5     65   \n",
       "7      Book_1carpetcleaning.co.uk_September2020_CTA.j...             7     26   \n",
       "...                                                  ...           ...    ...   \n",
       "91313  TVEpisode_watchtvondemand.com_September2020_CT...             3     21   \n",
       "91314      TVEpisode_yidio.com_September2020_CTA.json.gz             0     34   \n",
       "91315      TVEpisode_yidio.com_September2020_CTA.json.gz             1     19   \n",
       "91316      TVEpisode_yidio.com_September2020_CTA.json.gz             2     35   \n",
       "91318      TVEpisode_yidio.com_September2020_CTA.json.gz             4     33   \n",
       "\n",
       "                                                    data  \n",
       "0      Homer William Bedell Stanford W. Stanford, Dav...  \n",
       "1      Unlimited [Historical Fiction Book] ↠ The Odys...  \n",
       "2      Paperback, Hardcover, Paperback, None, Paperba...  \n",
       "5      English, English, English, English, English, E...  \n",
       "7      Homer William Bedell Stanford W. Stanford, Dav...  \n",
       "...                                                  ...  \n",
       "91313  3.0, 4.0, 4.0, 4.0, 3.0, 3.0, 3.0, 3.0, 3.0, 3...  \n",
       "91314  My Lost City, The Laughing Place, Ties that Bi...  \n",
       "91315  In the hope that Griffin has left materials an...  \n",
       "91316  BANANA FISH, None, None, None, None, None, Non...  \n",
       "91318  None, 2019-11-06, 2019-10-23, 2019-10-23, 1986...  \n",
       "\n",
       "[32354 rows x 4 columns]"
      ]
     },
     "execution_count": 6,
     "metadata": {},
     "output_type": "execute_result"
    }
   ],
   "source": [
    "df[df[\"label\"]>0]"
   ]
  },
  {
   "cell_type": "code",
   "execution_count": 8,
   "metadata": {},
   "outputs": [
    {
     "data": {
      "text/plain": [
       "90"
      ]
     },
     "execution_count": 8,
     "metadata": {},
     "output_type": "execute_result"
    }
   ],
   "source": [
    "max(df[\"label\"].unique())"
   ]
  },
  {
   "cell_type": "code",
   "execution_count": 9,
   "metadata": {},
   "outputs": [],
   "source": [
    "gt = pd.read_csv(\"/data/yongkang/TU/SOTAB/CTA_training_small_gt.csv\")"
   ]
  },
  {
   "cell_type": "code",
   "execution_count": 12,
   "metadata": {},
   "outputs": [
    {
     "data": {
      "text/plain": [
       "91"
      ]
     },
     "execution_count": 12,
     "metadata": {},
     "output_type": "execute_result"
    }
   ],
   "source": [
    "len(gt[\"label\"].unique())"
   ]
  },
  {
   "cell_type": "code",
   "execution_count": 26,
   "metadata": {},
   "outputs": [],
   "source": [
    "df_group = df.groupby(\"table_id\")"
   ]
  },
  {
   "cell_type": "code",
   "execution_count": null,
   "metadata": {},
   "outputs": [],
   "source": [
    "df[\"class\"]"
   ]
  },
  {
   "cell_type": "code",
   "execution_count": 3,
   "metadata": {},
   "outputs": [
    {
     "data": {
      "text/plain": [
       "11517"
      ]
     },
     "execution_count": 3,
     "metadata": {},
     "output_type": "execute_result"
    }
   ],
   "source": [
    "len(df_group)"
   ]
  },
  {
   "cell_type": "code",
   "execution_count": 22,
   "metadata": {},
   "outputs": [],
   "source": [
    "res = group_df[\"data\"].apply(lambda x: len(x))"
   ]
  },
  {
   "cell_type": "code",
   "execution_count": 23,
   "metadata": {},
   "outputs": [
    {
     "data": {
      "text/plain": [
       "445     161928\n",
       "446    2746705\n",
       "447      56751\n",
       "448      34369\n",
       "449      43089\n",
       "450     112868\n",
       "451      29125\n",
       "452      21963\n",
       "453      32768\n",
       "454      65285\n",
       "Name: data, dtype: int64"
      ]
     },
     "execution_count": 23,
     "metadata": {},
     "output_type": "execute_result"
    }
   ],
   "source": [
    "res"
   ]
  },
  {
   "cell_type": "code",
   "execution_count": 27,
   "metadata": {},
   "outputs": [
    {
     "data": {
      "text/html": [
       "<div>\n",
       "<style scoped>\n",
       "    .dataframe tbody tr th:only-of-type {\n",
       "        vertical-align: middle;\n",
       "    }\n",
       "\n",
       "    .dataframe tbody tr th {\n",
       "        vertical-align: top;\n",
       "    }\n",
       "\n",
       "    .dataframe thead th {\n",
       "        text-align: right;\n",
       "    }\n",
       "</style>\n",
       "<table border=\"1\" class=\"dataframe\">\n",
       "  <thead>\n",
       "    <tr style=\"text-align: right;\">\n",
       "      <th></th>\n",
       "      <th>table_id</th>\n",
       "      <th>column_index</th>\n",
       "      <th>label</th>\n",
       "      <th>data</th>\n",
       "    </tr>\n",
       "  </thead>\n",
       "  <tbody>\n",
       "    <tr>\n",
       "      <th>0</th>\n",
       "      <td>Book_1carpetcleaning.co.uk_September2020_CTA.j...</td>\n",
       "      <td>0</td>\n",
       "      <td>5</td>\n",
       "      <td>Homer William Bedell Stanford W. Stanford, Dav...</td>\n",
       "    </tr>\n",
       "    <tr>\n",
       "      <th>1</th>\n",
       "      <td>Book_1carpetcleaning.co.uk_September2020_CTA.j...</td>\n",
       "      <td>1</td>\n",
       "      <td>10</td>\n",
       "      <td>Unlimited [Historical Fiction Book] ↠ The Odys...</td>\n",
       "    </tr>\n",
       "    <tr>\n",
       "      <th>2</th>\n",
       "      <td>Book_1carpetcleaning.co.uk_September2020_CTA.j...</td>\n",
       "      <td>2</td>\n",
       "      <td>36</td>\n",
       "      <td>Paperback, Hardcover, Paperback, None, Paperba...</td>\n",
       "    </tr>\n",
       "    <tr>\n",
       "      <th>3</th>\n",
       "      <td>Book_1carpetcleaning.co.uk_September2020_CTA.j...</td>\n",
       "      <td>3</td>\n",
       "      <td>-1</td>\n",
       "      <td>2020-06-27T15:00:54+00:00, 2020-06-01T00:07:00...</td>\n",
       "    </tr>\n",
       "    <tr>\n",
       "      <th>4</th>\n",
       "      <td>Book_1carpetcleaning.co.uk_September2020_CTA.j...</td>\n",
       "      <td>4</td>\n",
       "      <td>-1</td>\n",
       "      <td>418, 309, 139, 491, 461, 272, 211, 365, 153, 2...</td>\n",
       "    </tr>\n",
       "    <tr>\n",
       "      <th>...</th>\n",
       "      <td>...</td>\n",
       "      <td>...</td>\n",
       "      <td>...</td>\n",
       "      <td>...</td>\n",
       "    </tr>\n",
       "    <tr>\n",
       "      <th>91315</th>\n",
       "      <td>TVEpisode_yidio.com_September2020_CTA.json.gz</td>\n",
       "      <td>1</td>\n",
       "      <td>19</td>\n",
       "      <td>In the hope that Griffin has left materials an...</td>\n",
       "    </tr>\n",
       "    <tr>\n",
       "      <th>91316</th>\n",
       "      <td>TVEpisode_yidio.com_September2020_CTA.json.gz</td>\n",
       "      <td>2</td>\n",
       "      <td>35</td>\n",
       "      <td>BANANA FISH, None, None, None, None, None, Non...</td>\n",
       "    </tr>\n",
       "    <tr>\n",
       "      <th>91317</th>\n",
       "      <td>TVEpisode_yidio.com_September2020_CTA.json.gz</td>\n",
       "      <td>3</td>\n",
       "      <td>-1</td>\n",
       "      <td>1.0, nan, nan, nan, nan, nan, nan, nan, nan, n...</td>\n",
       "    </tr>\n",
       "    <tr>\n",
       "      <th>91318</th>\n",
       "      <td>TVEpisode_yidio.com_September2020_CTA.json.gz</td>\n",
       "      <td>4</td>\n",
       "      <td>33</td>\n",
       "      <td>None, 2019-11-06, 2019-10-23, 2019-10-23, 1986...</td>\n",
       "    </tr>\n",
       "    <tr>\n",
       "      <th>91319</th>\n",
       "      <td>TVEpisode_yidio.com_September2020_CTA.json.gz</td>\n",
       "      <td>5</td>\n",
       "      <td>-1</td>\n",
       "      <td>6, 5, 3, 1, 19, 18, 21, 11, 20, 19, 15, 11, 2,...</td>\n",
       "    </tr>\n",
       "  </tbody>\n",
       "</table>\n",
       "<p>91320 rows × 4 columns</p>\n",
       "</div>"
      ],
      "text/plain": [
       "                                                table_id  column_index  label  \\\n",
       "0      Book_1carpetcleaning.co.uk_September2020_CTA.j...             0      5   \n",
       "1      Book_1carpetcleaning.co.uk_September2020_CTA.j...             1     10   \n",
       "2      Book_1carpetcleaning.co.uk_September2020_CTA.j...             2     36   \n",
       "3      Book_1carpetcleaning.co.uk_September2020_CTA.j...             3     -1   \n",
       "4      Book_1carpetcleaning.co.uk_September2020_CTA.j...             4     -1   \n",
       "...                                                  ...           ...    ...   \n",
       "91315      TVEpisode_yidio.com_September2020_CTA.json.gz             1     19   \n",
       "91316      TVEpisode_yidio.com_September2020_CTA.json.gz             2     35   \n",
       "91317      TVEpisode_yidio.com_September2020_CTA.json.gz             3     -1   \n",
       "91318      TVEpisode_yidio.com_September2020_CTA.json.gz             4     33   \n",
       "91319      TVEpisode_yidio.com_September2020_CTA.json.gz             5     -1   \n",
       "\n",
       "                                                    data  \n",
       "0      Homer William Bedell Stanford W. Stanford, Dav...  \n",
       "1      Unlimited [Historical Fiction Book] ↠ The Odys...  \n",
       "2      Paperback, Hardcover, Paperback, None, Paperba...  \n",
       "3      2020-06-27T15:00:54+00:00, 2020-06-01T00:07:00...  \n",
       "4      418, 309, 139, 491, 461, 272, 211, 365, 153, 2...  \n",
       "...                                                  ...  \n",
       "91315  In the hope that Griffin has left materials an...  \n",
       "91316  BANANA FISH, None, None, None, None, None, Non...  \n",
       "91317  1.0, nan, nan, nan, nan, nan, nan, nan, nan, n...  \n",
       "91318  None, 2019-11-06, 2019-10-23, 2019-10-23, 1986...  \n",
       "91319  6, 5, 3, 1, 19, 18, 21, 11, 20, 19, 15, 11, 2,...  \n",
       "\n",
       "[91320 rows x 4 columns]"
      ]
     },
     "execution_count": 27,
     "metadata": {},
     "output_type": "execute_result"
    }
   ],
   "source": [
    "df"
   ]
  },
  {
   "cell_type": "code",
   "execution_count": 29,
   "metadata": {},
   "outputs": [],
   "source": [
    "num_gt_cols = []\n",
    "for i, (index, group_df) in enumerate(df.groupby(\"table_id\")):\n",
    "    num_gt_cols.append(len( group_df[group_df[\"label\"]>-1]))\n",
    "    "
   ]
  },
  {
   "cell_type": "code",
   "execution_count": null,
   "metadata": {},
   "outputs": [],
   "source": []
  },
  {
   "cell_type": "code",
   "execution_count": 19,
   "metadata": {},
   "outputs": [
    {
     "ename": "KeyboardInterrupt",
     "evalue": "",
     "output_type": "error",
     "traceback": [
      "\u001b[0;31m---------------------------------------------------------------------------\u001b[0m",
      "\u001b[0;31mKeyboardInterrupt\u001b[0m                         Traceback (most recent call last)",
      "Input \u001b[0;32mIn [19]\u001b[0m, in \u001b[0;36m<cell line: 3>\u001b[0;34m()\u001b[0m\n\u001b[1;32m      3\u001b[0m \u001b[38;5;28;01mfor\u001b[39;00m i, (index, group_df) \u001b[38;5;129;01min\u001b[39;00m \u001b[38;5;28menumerate\u001b[39m(df\u001b[38;5;241m.\u001b[39mgroupby(\u001b[38;5;124m\"\u001b[39m\u001b[38;5;124mtable_id\u001b[39m\u001b[38;5;124m\"\u001b[39m)):\n\u001b[1;32m      4\u001b[0m     num_cols\u001b[38;5;241m.\u001b[39mappend(\u001b[38;5;28mlen\u001b[39m(group_df))\n\u001b[0;32m----> 5\u001b[0m     token_ids_list \u001b[38;5;241m=\u001b[39m \u001b[43mgroup_df\u001b[49m\u001b[43m[\u001b[49m\u001b[38;5;124;43m\"\u001b[39;49m\u001b[38;5;124;43mdata\u001b[39;49m\u001b[38;5;124;43m\"\u001b[39;49m\u001b[43m]\u001b[49m\u001b[38;5;241;43m.\u001b[39;49m\u001b[43mapply\u001b[49m\u001b[43m(\u001b[49m\u001b[38;5;28;43;01mlambda\u001b[39;49;00m\u001b[43m \u001b[49m\u001b[43mx\u001b[49m\u001b[43m:\u001b[49m\u001b[43m \u001b[49m\u001b[43mtokenizer\u001b[49m\u001b[38;5;241;43m.\u001b[39;49m\u001b[43mencode\u001b[49m\u001b[43m(\u001b[49m\n\u001b[1;32m      6\u001b[0m \u001b[43m    \u001b[49m\u001b[43mtokenizer\u001b[49m\u001b[38;5;241;43m.\u001b[39;49m\u001b[43mcls_token\u001b[49m\u001b[43m \u001b[49m\u001b[38;5;241;43m+\u001b[39;49m\u001b[43m \u001b[49m\u001b[38;5;124;43m\"\u001b[39;49m\u001b[38;5;124;43m \u001b[39;49m\u001b[38;5;124;43m\"\u001b[39;49m\u001b[43m \u001b[49m\u001b[38;5;241;43m+\u001b[39;49m\u001b[43m \u001b[49m\u001b[43mx\u001b[49m\u001b[43m,\u001b[49m\u001b[43m \u001b[49m\u001b[43madd_special_tokens\u001b[49m\u001b[38;5;241;43m=\u001b[39;49m\u001b[38;5;28;43;01mFalse\u001b[39;49;00m\u001b[43m,\u001b[49m\u001b[43m \u001b[49m\u001b[43mmax_length\u001b[49m\u001b[38;5;241;43m=\u001b[39;49m\u001b[43mcur_maxlen\u001b[49m\u001b[43m,\u001b[49m\u001b[43m \u001b[49m\u001b[43mtruncation\u001b[49m\u001b[38;5;241;43m=\u001b[39;49m\u001b[38;5;28;43;01mTrue\u001b[39;49;00m\u001b[43m)\u001b[49m\u001b[43m)\u001b[49m\u001b[38;5;241m.\u001b[39mtolist(\n\u001b[1;32m      7\u001b[0m     )\n",
      "File \u001b[0;32m~/jupyterprojects/jupyter/lib/python3.8/site-packages/pandas/core/series.py:4357\u001b[0m, in \u001b[0;36mSeries.apply\u001b[0;34m(self, func, convert_dtype, args, **kwargs)\u001b[0m\n\u001b[1;32m   4247\u001b[0m \u001b[38;5;28;01mdef\u001b[39;00m \u001b[38;5;21mapply\u001b[39m(\n\u001b[1;32m   4248\u001b[0m     \u001b[38;5;28mself\u001b[39m,\n\u001b[1;32m   4249\u001b[0m     func: AggFuncType,\n\u001b[0;32m   (...)\u001b[0m\n\u001b[1;32m   4252\u001b[0m     \u001b[38;5;241m*\u001b[39m\u001b[38;5;241m*\u001b[39mkwargs,\n\u001b[1;32m   4253\u001b[0m ) \u001b[38;5;241m-\u001b[39m\u001b[38;5;241m>\u001b[39m FrameOrSeriesUnion:\n\u001b[1;32m   4254\u001b[0m \u001b[38;5;250m    \u001b[39m\u001b[38;5;124;03m\"\"\"\u001b[39;00m\n\u001b[1;32m   4255\u001b[0m \u001b[38;5;124;03m    Invoke function on values of Series.\u001b[39;00m\n\u001b[1;32m   4256\u001b[0m \n\u001b[0;32m   (...)\u001b[0m\n\u001b[1;32m   4355\u001b[0m \u001b[38;5;124;03m    dtype: float64\u001b[39;00m\n\u001b[1;32m   4356\u001b[0m \u001b[38;5;124;03m    \"\"\"\u001b[39;00m\n\u001b[0;32m-> 4357\u001b[0m     \u001b[38;5;28;01mreturn\u001b[39;00m \u001b[43mSeriesApply\u001b[49m\u001b[43m(\u001b[49m\u001b[38;5;28;43mself\u001b[39;49m\u001b[43m,\u001b[49m\u001b[43m \u001b[49m\u001b[43mfunc\u001b[49m\u001b[43m,\u001b[49m\u001b[43m \u001b[49m\u001b[43mconvert_dtype\u001b[49m\u001b[43m,\u001b[49m\u001b[43m \u001b[49m\u001b[43margs\u001b[49m\u001b[43m,\u001b[49m\u001b[43m \u001b[49m\u001b[43mkwargs\u001b[49m\u001b[43m)\u001b[49m\u001b[38;5;241;43m.\u001b[39;49m\u001b[43mapply\u001b[49m\u001b[43m(\u001b[49m\u001b[43m)\u001b[49m\n",
      "File \u001b[0;32m~/jupyterprojects/jupyter/lib/python3.8/site-packages/pandas/core/apply.py:1043\u001b[0m, in \u001b[0;36mSeriesApply.apply\u001b[0;34m(self)\u001b[0m\n\u001b[1;32m   1039\u001b[0m \u001b[38;5;28;01mif\u001b[39;00m \u001b[38;5;28misinstance\u001b[39m(\u001b[38;5;28mself\u001b[39m\u001b[38;5;241m.\u001b[39mf, \u001b[38;5;28mstr\u001b[39m):\n\u001b[1;32m   1040\u001b[0m     \u001b[38;5;66;03m# if we are a string, try to dispatch\u001b[39;00m\n\u001b[1;32m   1041\u001b[0m     \u001b[38;5;28;01mreturn\u001b[39;00m \u001b[38;5;28mself\u001b[39m\u001b[38;5;241m.\u001b[39mapply_str()\n\u001b[0;32m-> 1043\u001b[0m \u001b[38;5;28;01mreturn\u001b[39;00m \u001b[38;5;28;43mself\u001b[39;49m\u001b[38;5;241;43m.\u001b[39;49m\u001b[43mapply_standard\u001b[49m\u001b[43m(\u001b[49m\u001b[43m)\u001b[49m\n",
      "File \u001b[0;32m~/jupyterprojects/jupyter/lib/python3.8/site-packages/pandas/core/apply.py:1098\u001b[0m, in \u001b[0;36mSeriesApply.apply_standard\u001b[0;34m(self)\u001b[0m\n\u001b[1;32m   1092\u001b[0m         values \u001b[38;5;241m=\u001b[39m obj\u001b[38;5;241m.\u001b[39mastype(\u001b[38;5;28mobject\u001b[39m)\u001b[38;5;241m.\u001b[39m_values\n\u001b[1;32m   1093\u001b[0m         \u001b[38;5;66;03m# error: Argument 2 to \"map_infer\" has incompatible type\u001b[39;00m\n\u001b[1;32m   1094\u001b[0m         \u001b[38;5;66;03m# \"Union[Callable[..., Any], str, List[Union[Callable[..., Any], str]],\u001b[39;00m\n\u001b[1;32m   1095\u001b[0m         \u001b[38;5;66;03m# Dict[Hashable, Union[Union[Callable[..., Any], str],\u001b[39;00m\n\u001b[1;32m   1096\u001b[0m         \u001b[38;5;66;03m# List[Union[Callable[..., Any], str]]]]]\"; expected\u001b[39;00m\n\u001b[1;32m   1097\u001b[0m         \u001b[38;5;66;03m# \"Callable[[Any], Any]\"\u001b[39;00m\n\u001b[0;32m-> 1098\u001b[0m         mapped \u001b[38;5;241m=\u001b[39m \u001b[43mlib\u001b[49m\u001b[38;5;241;43m.\u001b[39;49m\u001b[43mmap_infer\u001b[49m\u001b[43m(\u001b[49m\n\u001b[1;32m   1099\u001b[0m \u001b[43m            \u001b[49m\u001b[43mvalues\u001b[49m\u001b[43m,\u001b[49m\n\u001b[1;32m   1100\u001b[0m \u001b[43m            \u001b[49m\u001b[43mf\u001b[49m\u001b[43m,\u001b[49m\u001b[43m  \u001b[49m\u001b[38;5;66;43;03m# type: ignore[arg-type]\u001b[39;49;00m\n\u001b[1;32m   1101\u001b[0m \u001b[43m            \u001b[49m\u001b[43mconvert\u001b[49m\u001b[38;5;241;43m=\u001b[39;49m\u001b[38;5;28;43mself\u001b[39;49m\u001b[38;5;241;43m.\u001b[39;49m\u001b[43mconvert_dtype\u001b[49m\u001b[43m,\u001b[49m\n\u001b[1;32m   1102\u001b[0m \u001b[43m        \u001b[49m\u001b[43m)\u001b[49m\n\u001b[1;32m   1104\u001b[0m \u001b[38;5;28;01mif\u001b[39;00m \u001b[38;5;28mlen\u001b[39m(mapped) \u001b[38;5;129;01mand\u001b[39;00m \u001b[38;5;28misinstance\u001b[39m(mapped[\u001b[38;5;241m0\u001b[39m], ABCSeries):\n\u001b[1;32m   1105\u001b[0m     \u001b[38;5;66;03m# GH 25959 use pd.array instead of tolist\u001b[39;00m\n\u001b[1;32m   1106\u001b[0m     \u001b[38;5;66;03m# so extension arrays can be used\u001b[39;00m\n\u001b[1;32m   1107\u001b[0m     \u001b[38;5;28;01mreturn\u001b[39;00m obj\u001b[38;5;241m.\u001b[39m_constructor_expanddim(pd_array(mapped), index\u001b[38;5;241m=\u001b[39mobj\u001b[38;5;241m.\u001b[39mindex)\n",
      "File \u001b[0;32m~/jupyterprojects/jupyter/lib/python3.8/site-packages/pandas/_libs/lib.pyx:2859\u001b[0m, in \u001b[0;36mpandas._libs.lib.map_infer\u001b[0;34m()\u001b[0m\n",
      "Input \u001b[0;32mIn [19]\u001b[0m, in \u001b[0;36m<lambda>\u001b[0;34m(x)\u001b[0m\n\u001b[1;32m      3\u001b[0m \u001b[38;5;28;01mfor\u001b[39;00m i, (index, group_df) \u001b[38;5;129;01min\u001b[39;00m \u001b[38;5;28menumerate\u001b[39m(df\u001b[38;5;241m.\u001b[39mgroupby(\u001b[38;5;124m\"\u001b[39m\u001b[38;5;124mtable_id\u001b[39m\u001b[38;5;124m\"\u001b[39m)):\n\u001b[1;32m      4\u001b[0m     num_cols\u001b[38;5;241m.\u001b[39mappend(\u001b[38;5;28mlen\u001b[39m(group_df))\n\u001b[0;32m----> 5\u001b[0m     token_ids_list \u001b[38;5;241m=\u001b[39m group_df[\u001b[38;5;124m\"\u001b[39m\u001b[38;5;124mdata\u001b[39m\u001b[38;5;124m\"\u001b[39m]\u001b[38;5;241m.\u001b[39mapply(\u001b[38;5;28;01mlambda\u001b[39;00m x: \u001b[43mtokenizer\u001b[49m\u001b[38;5;241;43m.\u001b[39;49m\u001b[43mencode\u001b[49m\u001b[43m(\u001b[49m\n\u001b[1;32m      6\u001b[0m \u001b[43m    \u001b[49m\u001b[43mtokenizer\u001b[49m\u001b[38;5;241;43m.\u001b[39;49m\u001b[43mcls_token\u001b[49m\u001b[43m \u001b[49m\u001b[38;5;241;43m+\u001b[39;49m\u001b[43m \u001b[49m\u001b[38;5;124;43m\"\u001b[39;49m\u001b[38;5;124;43m \u001b[39;49m\u001b[38;5;124;43m\"\u001b[39;49m\u001b[43m \u001b[49m\u001b[38;5;241;43m+\u001b[39;49m\u001b[43m \u001b[49m\u001b[43mx\u001b[49m\u001b[43m,\u001b[49m\u001b[43m \u001b[49m\u001b[43madd_special_tokens\u001b[49m\u001b[38;5;241;43m=\u001b[39;49m\u001b[38;5;28;43;01mFalse\u001b[39;49;00m\u001b[43m,\u001b[49m\u001b[43m \u001b[49m\u001b[43mmax_length\u001b[49m\u001b[38;5;241;43m=\u001b[39;49m\u001b[43mcur_maxlen\u001b[49m\u001b[43m,\u001b[49m\u001b[43m \u001b[49m\u001b[43mtruncation\u001b[49m\u001b[38;5;241;43m=\u001b[39;49m\u001b[38;5;28;43;01mTrue\u001b[39;49;00m\u001b[43m)\u001b[49m)\u001b[38;5;241m.\u001b[39mtolist(\n\u001b[1;32m      7\u001b[0m     )\n",
      "File \u001b[0;32m~/jupyterprojects/jupyter/lib/python3.8/site-packages/transformers/tokenization_utils_base.py:2843\u001b[0m, in \u001b[0;36mPreTrainedTokenizerBase.encode\u001b[0;34m(self, text, text_pair, add_special_tokens, padding, truncation, max_length, stride, return_tensors, **kwargs)\u001b[0m\n\u001b[1;32m   2806\u001b[0m \u001b[38;5;129m@add_end_docstrings\u001b[39m(\n\u001b[1;32m   2807\u001b[0m     ENCODE_KWARGS_DOCSTRING,\n\u001b[1;32m   2808\u001b[0m \u001b[38;5;250m    \u001b[39m\u001b[38;5;124;03m\"\"\"\u001b[39;00m\n\u001b[0;32m   (...)\u001b[0m\n\u001b[1;32m   2826\u001b[0m     \u001b[38;5;241m*\u001b[39m\u001b[38;5;241m*\u001b[39mkwargs,\n\u001b[1;32m   2827\u001b[0m ) \u001b[38;5;241m-\u001b[39m\u001b[38;5;241m>\u001b[39m List[\u001b[38;5;28mint\u001b[39m]:\n\u001b[1;32m   2828\u001b[0m \u001b[38;5;250m    \u001b[39m\u001b[38;5;124;03m\"\"\"\u001b[39;00m\n\u001b[1;32m   2829\u001b[0m \u001b[38;5;124;03m    Converts a string to a sequence of ids (integer), using the tokenizer and vocabulary.\u001b[39;00m\n\u001b[1;32m   2830\u001b[0m \n\u001b[0;32m   (...)\u001b[0m\n\u001b[1;32m   2841\u001b[0m \u001b[38;5;124;03m            method).\u001b[39;00m\n\u001b[1;32m   2842\u001b[0m \u001b[38;5;124;03m    \"\"\"\u001b[39;00m\n\u001b[0;32m-> 2843\u001b[0m     encoded_inputs \u001b[38;5;241m=\u001b[39m \u001b[38;5;28;43mself\u001b[39;49m\u001b[38;5;241;43m.\u001b[39;49m\u001b[43mencode_plus\u001b[49m\u001b[43m(\u001b[49m\n\u001b[1;32m   2844\u001b[0m \u001b[43m        \u001b[49m\u001b[43mtext\u001b[49m\u001b[43m,\u001b[49m\n\u001b[1;32m   2845\u001b[0m \u001b[43m        \u001b[49m\u001b[43mtext_pair\u001b[49m\u001b[38;5;241;43m=\u001b[39;49m\u001b[43mtext_pair\u001b[49m\u001b[43m,\u001b[49m\n\u001b[1;32m   2846\u001b[0m \u001b[43m        \u001b[49m\u001b[43madd_special_tokens\u001b[49m\u001b[38;5;241;43m=\u001b[39;49m\u001b[43madd_special_tokens\u001b[49m\u001b[43m,\u001b[49m\n\u001b[1;32m   2847\u001b[0m \u001b[43m        \u001b[49m\u001b[43mpadding\u001b[49m\u001b[38;5;241;43m=\u001b[39;49m\u001b[43mpadding\u001b[49m\u001b[43m,\u001b[49m\n\u001b[1;32m   2848\u001b[0m \u001b[43m        \u001b[49m\u001b[43mtruncation\u001b[49m\u001b[38;5;241;43m=\u001b[39;49m\u001b[43mtruncation\u001b[49m\u001b[43m,\u001b[49m\n\u001b[1;32m   2849\u001b[0m \u001b[43m        \u001b[49m\u001b[43mmax_length\u001b[49m\u001b[38;5;241;43m=\u001b[39;49m\u001b[43mmax_length\u001b[49m\u001b[43m,\u001b[49m\n\u001b[1;32m   2850\u001b[0m \u001b[43m        \u001b[49m\u001b[43mstride\u001b[49m\u001b[38;5;241;43m=\u001b[39;49m\u001b[43mstride\u001b[49m\u001b[43m,\u001b[49m\n\u001b[1;32m   2851\u001b[0m \u001b[43m        \u001b[49m\u001b[43mreturn_tensors\u001b[49m\u001b[38;5;241;43m=\u001b[39;49m\u001b[43mreturn_tensors\u001b[49m\u001b[43m,\u001b[49m\n\u001b[1;32m   2852\u001b[0m \u001b[43m        \u001b[49m\u001b[38;5;241;43m*\u001b[39;49m\u001b[38;5;241;43m*\u001b[39;49m\u001b[43mkwargs\u001b[49m\u001b[43m,\u001b[49m\n\u001b[1;32m   2853\u001b[0m \u001b[43m    \u001b[49m\u001b[43m)\u001b[49m\n\u001b[1;32m   2855\u001b[0m     \u001b[38;5;28;01mreturn\u001b[39;00m encoded_inputs[\u001b[38;5;124m\"\u001b[39m\u001b[38;5;124minput_ids\u001b[39m\u001b[38;5;124m\"\u001b[39m]\n",
      "File \u001b[0;32m~/jupyterprojects/jupyter/lib/python3.8/site-packages/transformers/tokenization_utils_base.py:3255\u001b[0m, in \u001b[0;36mPreTrainedTokenizerBase.encode_plus\u001b[0;34m(self, text, text_pair, add_special_tokens, padding, truncation, max_length, stride, is_split_into_words, pad_to_multiple_of, return_tensors, return_token_type_ids, return_attention_mask, return_overflowing_tokens, return_special_tokens_mask, return_offsets_mapping, return_length, verbose, **kwargs)\u001b[0m\n\u001b[1;32m   3245\u001b[0m \u001b[38;5;66;03m# Backward compatibility for 'truncation_strategy', 'pad_to_max_length'\u001b[39;00m\n\u001b[1;32m   3246\u001b[0m padding_strategy, truncation_strategy, max_length, kwargs \u001b[38;5;241m=\u001b[39m \u001b[38;5;28mself\u001b[39m\u001b[38;5;241m.\u001b[39m_get_padding_truncation_strategies(\n\u001b[1;32m   3247\u001b[0m     padding\u001b[38;5;241m=\u001b[39mpadding,\n\u001b[1;32m   3248\u001b[0m     truncation\u001b[38;5;241m=\u001b[39mtruncation,\n\u001b[0;32m   (...)\u001b[0m\n\u001b[1;32m   3252\u001b[0m     \u001b[38;5;241m*\u001b[39m\u001b[38;5;241m*\u001b[39mkwargs,\n\u001b[1;32m   3253\u001b[0m )\n\u001b[0;32m-> 3255\u001b[0m \u001b[38;5;28;01mreturn\u001b[39;00m \u001b[38;5;28;43mself\u001b[39;49m\u001b[38;5;241;43m.\u001b[39;49m\u001b[43m_encode_plus\u001b[49m\u001b[43m(\u001b[49m\n\u001b[1;32m   3256\u001b[0m \u001b[43m    \u001b[49m\u001b[43mtext\u001b[49m\u001b[38;5;241;43m=\u001b[39;49m\u001b[43mtext\u001b[49m\u001b[43m,\u001b[49m\n\u001b[1;32m   3257\u001b[0m \u001b[43m    \u001b[49m\u001b[43mtext_pair\u001b[49m\u001b[38;5;241;43m=\u001b[39;49m\u001b[43mtext_pair\u001b[49m\u001b[43m,\u001b[49m\n\u001b[1;32m   3258\u001b[0m \u001b[43m    \u001b[49m\u001b[43madd_special_tokens\u001b[49m\u001b[38;5;241;43m=\u001b[39;49m\u001b[43madd_special_tokens\u001b[49m\u001b[43m,\u001b[49m\n\u001b[1;32m   3259\u001b[0m \u001b[43m    \u001b[49m\u001b[43mpadding_strategy\u001b[49m\u001b[38;5;241;43m=\u001b[39;49m\u001b[43mpadding_strategy\u001b[49m\u001b[43m,\u001b[49m\n\u001b[1;32m   3260\u001b[0m \u001b[43m    \u001b[49m\u001b[43mtruncation_strategy\u001b[49m\u001b[38;5;241;43m=\u001b[39;49m\u001b[43mtruncation_strategy\u001b[49m\u001b[43m,\u001b[49m\n\u001b[1;32m   3261\u001b[0m \u001b[43m    \u001b[49m\u001b[43mmax_length\u001b[49m\u001b[38;5;241;43m=\u001b[39;49m\u001b[43mmax_length\u001b[49m\u001b[43m,\u001b[49m\n\u001b[1;32m   3262\u001b[0m \u001b[43m    \u001b[49m\u001b[43mstride\u001b[49m\u001b[38;5;241;43m=\u001b[39;49m\u001b[43mstride\u001b[49m\u001b[43m,\u001b[49m\n\u001b[1;32m   3263\u001b[0m \u001b[43m    \u001b[49m\u001b[43mis_split_into_words\u001b[49m\u001b[38;5;241;43m=\u001b[39;49m\u001b[43mis_split_into_words\u001b[49m\u001b[43m,\u001b[49m\n\u001b[1;32m   3264\u001b[0m \u001b[43m    \u001b[49m\u001b[43mpad_to_multiple_of\u001b[49m\u001b[38;5;241;43m=\u001b[39;49m\u001b[43mpad_to_multiple_of\u001b[49m\u001b[43m,\u001b[49m\n\u001b[1;32m   3265\u001b[0m \u001b[43m    \u001b[49m\u001b[43mreturn_tensors\u001b[49m\u001b[38;5;241;43m=\u001b[39;49m\u001b[43mreturn_tensors\u001b[49m\u001b[43m,\u001b[49m\n\u001b[1;32m   3266\u001b[0m \u001b[43m    \u001b[49m\u001b[43mreturn_token_type_ids\u001b[49m\u001b[38;5;241;43m=\u001b[39;49m\u001b[43mreturn_token_type_ids\u001b[49m\u001b[43m,\u001b[49m\n\u001b[1;32m   3267\u001b[0m \u001b[43m    \u001b[49m\u001b[43mreturn_attention_mask\u001b[49m\u001b[38;5;241;43m=\u001b[39;49m\u001b[43mreturn_attention_mask\u001b[49m\u001b[43m,\u001b[49m\n\u001b[1;32m   3268\u001b[0m \u001b[43m    \u001b[49m\u001b[43mreturn_overflowing_tokens\u001b[49m\u001b[38;5;241;43m=\u001b[39;49m\u001b[43mreturn_overflowing_tokens\u001b[49m\u001b[43m,\u001b[49m\n\u001b[1;32m   3269\u001b[0m \u001b[43m    \u001b[49m\u001b[43mreturn_special_tokens_mask\u001b[49m\u001b[38;5;241;43m=\u001b[39;49m\u001b[43mreturn_special_tokens_mask\u001b[49m\u001b[43m,\u001b[49m\n\u001b[1;32m   3270\u001b[0m \u001b[43m    \u001b[49m\u001b[43mreturn_offsets_mapping\u001b[49m\u001b[38;5;241;43m=\u001b[39;49m\u001b[43mreturn_offsets_mapping\u001b[49m\u001b[43m,\u001b[49m\n\u001b[1;32m   3271\u001b[0m \u001b[43m    \u001b[49m\u001b[43mreturn_length\u001b[49m\u001b[38;5;241;43m=\u001b[39;49m\u001b[43mreturn_length\u001b[49m\u001b[43m,\u001b[49m\n\u001b[1;32m   3272\u001b[0m \u001b[43m    \u001b[49m\u001b[43mverbose\u001b[49m\u001b[38;5;241;43m=\u001b[39;49m\u001b[43mverbose\u001b[49m\u001b[43m,\u001b[49m\n\u001b[1;32m   3273\u001b[0m \u001b[43m    \u001b[49m\u001b[43msplit_special_tokens\u001b[49m\u001b[38;5;241;43m=\u001b[39;49m\u001b[43mkwargs\u001b[49m\u001b[38;5;241;43m.\u001b[39;49m\u001b[43mpop\u001b[49m\u001b[43m(\u001b[49m\u001b[38;5;124;43m\"\u001b[39;49m\u001b[38;5;124;43msplit_special_tokens\u001b[39;49m\u001b[38;5;124;43m\"\u001b[39;49m\u001b[43m,\u001b[49m\u001b[43m \u001b[49m\u001b[38;5;28;43mself\u001b[39;49m\u001b[38;5;241;43m.\u001b[39;49m\u001b[43msplit_special_tokens\u001b[49m\u001b[43m)\u001b[49m\u001b[43m,\u001b[49m\n\u001b[1;32m   3274\u001b[0m \u001b[43m    \u001b[49m\u001b[38;5;241;43m*\u001b[39;49m\u001b[38;5;241;43m*\u001b[39;49m\u001b[43mkwargs\u001b[49m\u001b[43m,\u001b[49m\n\u001b[1;32m   3275\u001b[0m \u001b[43m\u001b[49m\u001b[43m)\u001b[49m\n",
      "File \u001b[0;32m~/jupyterprojects/jupyter/lib/python3.8/site-packages/transformers/tokenization_utils.py:788\u001b[0m, in \u001b[0;36mPreTrainedTokenizer._encode_plus\u001b[0;34m(self, text, text_pair, add_special_tokens, padding_strategy, truncation_strategy, max_length, stride, is_split_into_words, pad_to_multiple_of, return_tensors, return_token_type_ids, return_attention_mask, return_overflowing_tokens, return_special_tokens_mask, return_offsets_mapping, return_length, verbose, **kwargs)\u001b[0m\n\u001b[1;32m    779\u001b[0m \u001b[38;5;28;01mif\u001b[39;00m return_offsets_mapping:\n\u001b[1;32m    780\u001b[0m     \u001b[38;5;28;01mraise\u001b[39;00m \u001b[38;5;167;01mNotImplementedError\u001b[39;00m(\n\u001b[1;32m    781\u001b[0m         \u001b[38;5;124m\"\u001b[39m\u001b[38;5;124mreturn_offset_mapping is not available when using Python tokenizers. \u001b[39m\u001b[38;5;124m\"\u001b[39m\n\u001b[1;32m    782\u001b[0m         \u001b[38;5;124m\"\u001b[39m\u001b[38;5;124mTo use this feature, change your tokenizer to one deriving from \u001b[39m\u001b[38;5;124m\"\u001b[39m\n\u001b[0;32m   (...)\u001b[0m\n\u001b[1;32m    785\u001b[0m         \u001b[38;5;124m\"\u001b[39m\u001b[38;5;124mhttps://github.com/huggingface/transformers/pull/2674\u001b[39m\u001b[38;5;124m\"\u001b[39m\n\u001b[1;32m    786\u001b[0m     )\n\u001b[0;32m--> 788\u001b[0m first_ids \u001b[38;5;241m=\u001b[39m \u001b[43mget_input_ids\u001b[49m\u001b[43m(\u001b[49m\u001b[43mtext\u001b[49m\u001b[43m)\u001b[49m\n\u001b[1;32m    789\u001b[0m second_ids \u001b[38;5;241m=\u001b[39m get_input_ids(text_pair) \u001b[38;5;28;01mif\u001b[39;00m text_pair \u001b[38;5;129;01mis\u001b[39;00m \u001b[38;5;129;01mnot\u001b[39;00m \u001b[38;5;28;01mNone\u001b[39;00m \u001b[38;5;28;01melse\u001b[39;00m \u001b[38;5;28;01mNone\u001b[39;00m\n\u001b[1;32m    791\u001b[0m \u001b[38;5;28;01mreturn\u001b[39;00m \u001b[38;5;28mself\u001b[39m\u001b[38;5;241m.\u001b[39mprepare_for_model(\n\u001b[1;32m    792\u001b[0m     first_ids,\n\u001b[1;32m    793\u001b[0m     pair_ids\u001b[38;5;241m=\u001b[39msecond_ids,\n\u001b[0;32m   (...)\u001b[0m\n\u001b[1;32m    807\u001b[0m     verbose\u001b[38;5;241m=\u001b[39mverbose,\n\u001b[1;32m    808\u001b[0m )\n",
      "File \u001b[0;32m~/jupyterprojects/jupyter/lib/python3.8/site-packages/transformers/tokenization_utils.py:755\u001b[0m, in \u001b[0;36mPreTrainedTokenizer._encode_plus.<locals>.get_input_ids\u001b[0;34m(text)\u001b[0m\n\u001b[1;32m    753\u001b[0m \u001b[38;5;28;01mdef\u001b[39;00m \u001b[38;5;21mget_input_ids\u001b[39m(text):\n\u001b[1;32m    754\u001b[0m     \u001b[38;5;28;01mif\u001b[39;00m \u001b[38;5;28misinstance\u001b[39m(text, \u001b[38;5;28mstr\u001b[39m):\n\u001b[0;32m--> 755\u001b[0m         tokens \u001b[38;5;241m=\u001b[39m \u001b[38;5;28;43mself\u001b[39;49m\u001b[38;5;241;43m.\u001b[39;49m\u001b[43mtokenize\u001b[49m\u001b[43m(\u001b[49m\u001b[43mtext\u001b[49m\u001b[43m,\u001b[49m\u001b[43m \u001b[49m\u001b[38;5;241;43m*\u001b[39;49m\u001b[38;5;241;43m*\u001b[39;49m\u001b[43mkwargs\u001b[49m\u001b[43m)\u001b[49m\n\u001b[1;32m    756\u001b[0m         \u001b[38;5;28;01mreturn\u001b[39;00m \u001b[38;5;28mself\u001b[39m\u001b[38;5;241m.\u001b[39mconvert_tokens_to_ids(tokens)\n\u001b[1;32m    757\u001b[0m     \u001b[38;5;28;01melif\u001b[39;00m \u001b[38;5;28misinstance\u001b[39m(text, (\u001b[38;5;28mlist\u001b[39m, \u001b[38;5;28mtuple\u001b[39m)) \u001b[38;5;129;01mand\u001b[39;00m \u001b[38;5;28mlen\u001b[39m(text) \u001b[38;5;241m>\u001b[39m \u001b[38;5;241m0\u001b[39m \u001b[38;5;129;01mand\u001b[39;00m \u001b[38;5;28misinstance\u001b[39m(text[\u001b[38;5;241m0\u001b[39m], \u001b[38;5;28mstr\u001b[39m):\n",
      "File \u001b[0;32m~/jupyterprojects/jupyter/lib/python3.8/site-packages/transformers/tokenization_utils.py:686\u001b[0m, in \u001b[0;36mPreTrainedTokenizer.tokenize\u001b[0;34m(self, text, **kwargs)\u001b[0m\n\u001b[1;32m    684\u001b[0m         tokenized_text\u001b[38;5;241m.\u001b[39mappend(token)\n\u001b[1;32m    685\u001b[0m     \u001b[38;5;28;01melse\u001b[39;00m:\n\u001b[0;32m--> 686\u001b[0m         tokenized_text\u001b[38;5;241m.\u001b[39mextend(\u001b[38;5;28;43mself\u001b[39;49m\u001b[38;5;241;43m.\u001b[39;49m\u001b[43m_tokenize\u001b[49m\u001b[43m(\u001b[49m\u001b[43mtoken\u001b[49m\u001b[43m)\u001b[49m)\n\u001b[1;32m    687\u001b[0m \u001b[38;5;66;03m# [\"This\", \" is\", \" something\", \"<special_token_1>\", \"else\"]\u001b[39;00m\n\u001b[1;32m    688\u001b[0m \u001b[38;5;28;01mreturn\u001b[39;00m tokenized_text\n",
      "File \u001b[0;32m~/jupyterprojects/jupyter/lib/python3.8/site-packages/transformers/models/bert/tokenization_bert.py:156\u001b[0m, in \u001b[0;36mBertTokenizer._tokenize\u001b[0;34m(self, text, split_special_tokens)\u001b[0m\n\u001b[1;32m    154\u001b[0m split_tokens \u001b[38;5;241m=\u001b[39m []\n\u001b[1;32m    155\u001b[0m \u001b[38;5;28;01mif\u001b[39;00m \u001b[38;5;28mself\u001b[39m\u001b[38;5;241m.\u001b[39mdo_basic_tokenize:\n\u001b[0;32m--> 156\u001b[0m     \u001b[38;5;28;01mfor\u001b[39;00m token \u001b[38;5;129;01min\u001b[39;00m \u001b[38;5;28;43mself\u001b[39;49m\u001b[38;5;241;43m.\u001b[39;49m\u001b[43mbasic_tokenizer\u001b[49m\u001b[38;5;241;43m.\u001b[39;49m\u001b[43mtokenize\u001b[49m\u001b[43m(\u001b[49m\n\u001b[1;32m    157\u001b[0m \u001b[43m        \u001b[49m\u001b[43mtext\u001b[49m\u001b[43m,\u001b[49m\u001b[43m \u001b[49m\u001b[43mnever_split\u001b[49m\u001b[38;5;241;43m=\u001b[39;49m\u001b[38;5;28;43mself\u001b[39;49m\u001b[38;5;241;43m.\u001b[39;49m\u001b[43mall_special_tokens\u001b[49m\u001b[43m \u001b[49m\u001b[38;5;28;43;01mif\u001b[39;49;00m\u001b[43m \u001b[49m\u001b[38;5;129;43;01mnot\u001b[39;49;00m\u001b[43m \u001b[49m\u001b[43msplit_special_tokens\u001b[49m\u001b[43m \u001b[49m\u001b[38;5;28;43;01melse\u001b[39;49;00m\u001b[43m \u001b[49m\u001b[38;5;28;43;01mNone\u001b[39;49;00m\n\u001b[1;32m    158\u001b[0m \u001b[43m    \u001b[49m\u001b[43m)\u001b[49m:\n\u001b[1;32m    159\u001b[0m         \u001b[38;5;66;03m# If the token is part of the never_split set\u001b[39;00m\n\u001b[1;32m    160\u001b[0m         \u001b[38;5;28;01mif\u001b[39;00m token \u001b[38;5;129;01min\u001b[39;00m \u001b[38;5;28mself\u001b[39m\u001b[38;5;241m.\u001b[39mbasic_tokenizer\u001b[38;5;241m.\u001b[39mnever_split:\n\u001b[1;32m    161\u001b[0m             split_tokens\u001b[38;5;241m.\u001b[39mappend(token)\n",
      "File \u001b[0;32m~/jupyterprojects/jupyter/lib/python3.8/site-packages/transformers/models/bert/tokenization_bert.py:343\u001b[0m, in \u001b[0;36mBasicTokenizer.tokenize\u001b[0;34m(self, text, never_split)\u001b[0m\n\u001b[1;32m    336\u001b[0m \u001b[38;5;66;03m# This was added on November 1st, 2018 for the multilingual and Chinese\u001b[39;00m\n\u001b[1;32m    337\u001b[0m \u001b[38;5;66;03m# models. This is also applied to the English models now, but it doesn't\u001b[39;00m\n\u001b[1;32m    338\u001b[0m \u001b[38;5;66;03m# matter since the English models were not trained on any Chinese data\u001b[39;00m\n\u001b[1;32m    339\u001b[0m \u001b[38;5;66;03m# and generally don't have any Chinese data in them (there are Chinese\u001b[39;00m\n\u001b[1;32m    340\u001b[0m \u001b[38;5;66;03m# characters in the vocabulary because Wikipedia does have some Chinese\u001b[39;00m\n\u001b[1;32m    341\u001b[0m \u001b[38;5;66;03m# words in the English Wikipedia.).\u001b[39;00m\n\u001b[1;32m    342\u001b[0m \u001b[38;5;28;01mif\u001b[39;00m \u001b[38;5;28mself\u001b[39m\u001b[38;5;241m.\u001b[39mtokenize_chinese_chars:\n\u001b[0;32m--> 343\u001b[0m     text \u001b[38;5;241m=\u001b[39m \u001b[38;5;28;43mself\u001b[39;49m\u001b[38;5;241;43m.\u001b[39;49m\u001b[43m_tokenize_chinese_chars\u001b[49m\u001b[43m(\u001b[49m\u001b[43mtext\u001b[49m\u001b[43m)\u001b[49m\n\u001b[1;32m    344\u001b[0m \u001b[38;5;66;03m# prevents treating the same character with different unicode codepoints as different characters\u001b[39;00m\n\u001b[1;32m    345\u001b[0m unicode_normalized_text \u001b[38;5;241m=\u001b[39m unicodedata\u001b[38;5;241m.\u001b[39mnormalize(\u001b[38;5;124m\"\u001b[39m\u001b[38;5;124mNFC\u001b[39m\u001b[38;5;124m\"\u001b[39m, text)\n",
      "File \u001b[0;32m~/jupyterprojects/jupyter/lib/python3.8/site-packages/transformers/models/bert/tokenization_bert.py:398\u001b[0m, in \u001b[0;36mBasicTokenizer._tokenize_chinese_chars\u001b[0;34m(self, text)\u001b[0m\n\u001b[1;32m    396\u001b[0m output \u001b[38;5;241m=\u001b[39m []\n\u001b[1;32m    397\u001b[0m \u001b[38;5;28;01mfor\u001b[39;00m char \u001b[38;5;129;01min\u001b[39;00m text:\n\u001b[0;32m--> 398\u001b[0m     cp \u001b[38;5;241m=\u001b[39m \u001b[38;5;28;43mord\u001b[39;49m\u001b[43m(\u001b[49m\u001b[43mchar\u001b[49m\u001b[43m)\u001b[49m\n\u001b[1;32m    399\u001b[0m     \u001b[38;5;28;01mif\u001b[39;00m \u001b[38;5;28mself\u001b[39m\u001b[38;5;241m.\u001b[39m_is_chinese_char(cp):\n\u001b[1;32m    400\u001b[0m         output\u001b[38;5;241m.\u001b[39mappend(\u001b[38;5;124m\"\u001b[39m\u001b[38;5;124m \u001b[39m\u001b[38;5;124m\"\u001b[39m)\n",
      "\u001b[0;31mKeyboardInterrupt\u001b[0m: "
     ]
    }
   ],
   "source": [
    "num_cols = []\n",
    "cur_maxlen = 64\n",
    "for i, (index, group_df) in enumerate(df.groupby(\"table_id\")):\n",
    "    num_cols.append(len(group_df))\n",
    "    token_ids_list = group_df[\"data\"].apply(lambda x: tokenizer.encode(\n",
    "    tokenizer.cls_token + \" \" + x, add_special_tokens=False, max_length=cur_maxlen, truncation=True)).tolist(\n",
    "    )"
   ]
  },
  {
   "cell_type": "code",
   "execution_count": 15,
   "metadata": {},
   "outputs": [
    {
     "data": {
      "text/plain": [
       "11517"
      ]
     },
     "execution_count": 15,
     "metadata": {},
     "output_type": "execute_result"
    }
   ],
   "source": [
    "len(num_cols)"
   ]
  },
  {
   "cell_type": "code",
   "execution_count": 14,
   "metadata": {},
   "outputs": [
    {
     "data": {
      "text/plain": [
       "<Axes: ylabel='Count'>"
      ]
     },
     "execution_count": 14,
     "metadata": {},
     "output_type": "execute_result"
    },
    {
     "data": {
      "image/png": "[encoded data removed]",
      "text/plain": [
       "<Figure size 432x288 with 1 Axes>"
      ]
     },
     "metadata": {
      "needs_background": "light"
     },
     "output_type": "display_data"
    }
   ],
   "source": [
    "import seaborn as sns\n",
    "sns.histplot(num_cols)"
   ]
  },
  {
   "cell_type": "code",
   "execution_count": 30,
   "metadata": {},
   "outputs": [
    {
     "data": {
      "text/plain": [
       "<Axes: ylabel='Count'>"
      ]
     },
     "execution_count": 30,
     "metadata": {},
     "output_type": "execute_result"
    },
    {
     "data": {
      "image/png": "[encoded data removed]",
      "text/plain": [
       "<Figure size 432x288 with 1 Axes>"
      ]
     },
     "metadata": {
      "needs_background": "light"
     },
     "output_type": "display_data"
    }
   ],
   "source": [
    "import seaborn as sns\n",
    "sns.histplot(num_gt_cols)\n"
   ]
  },
  {
   "cell_type": "code",
   "execution_count": 32,
   "metadata": {},
   "outputs": [
    {
     "data": {
      "text/plain": [
       "29"
      ]
     },
     "execution_count": 32,
     "metadata": {},
     "output_type": "execute_result"
    }
   ],
   "source": [
    "max(num_gt_cols)"
   ]
  },
  {
   "cell_type": "code",
   "execution_count": 33,
   "metadata": {},
   "outputs": [
    {
     "data": {
      "text/plain": [
       "17.066666666666666"
      ]
     },
     "execution_count": 33,
     "metadata": {},
     "output_type": "execute_result"
    }
   ],
   "source": [
    "512/30"
   ]
  },
  {
   "cell_type": "code",
   "execution_count": null,
   "metadata": {},
   "outputs": [],
   "source": []
  }
 ],
 "metadata": {
  "kernelspec": {
   "display_name": "jupyter",
   "language": "python",
   "name": "python3"
  },
  "language_info": {
   "codemirror_mode": {
    "name": "ipython",
    "version": 3
   },
   "file_extension": ".py",
   "mimetype": "text/x-python",
   "name": "python",
   "nbconvert_exporter": "python",
   "pygments_lexer": "ipython3",
   "version": "3.8.10"
  }
 },
 "nbformat": 4,
 "nbformat_minor": 2
}
